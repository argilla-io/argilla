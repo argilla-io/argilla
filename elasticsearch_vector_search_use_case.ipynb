{
 "cells": [
  {
   "cell_type": "code",
   "execution_count": 1,
   "metadata": {},
   "outputs": [
    {
     "name": "stdout",
     "output_type": "stream",
     "text": [
      "Requirement already satisfied: faiss-cpu in /home/ufuk/anaconda3/envs/argilla/lib/python3.9/site-packages (1.7.3)\r\n",
      "Requirement already satisfied: sentence_transformers in /home/ufuk/anaconda3/envs/argilla/lib/python3.9/site-packages (2.2.2)\r\n",
      "Requirement already satisfied: transformers in /home/ufuk/anaconda3/envs/argilla/lib/python3.9/site-packages (4.18.0)\r\n",
      "Requirement already satisfied: datasets in /home/ufuk/anaconda3/envs/argilla/lib/python3.9/site-packages (2.2.2)\r\n",
      "Requirement already satisfied: nltk in /home/ufuk/anaconda3/envs/argilla/lib/python3.9/site-packages (from sentence_transformers) (3.7)\r\n",
      "Requirement already satisfied: numpy in /home/ufuk/anaconda3/envs/argilla/lib/python3.9/site-packages (from sentence_transformers) (1.23.5)\r\n",
      "Requirement already satisfied: torch>=1.6.0 in /home/ufuk/anaconda3/envs/argilla/lib/python3.9/site-packages (from sentence_transformers) (1.13.0)\r\n",
      "Requirement already satisfied: tqdm in /home/ufuk/anaconda3/envs/argilla/lib/python3.9/site-packages (from sentence_transformers) (4.64.1)\r\n",
      "Requirement already satisfied: huggingface-hub>=0.4.0 in /home/ufuk/anaconda3/envs/argilla/lib/python3.9/site-packages (from sentence_transformers) (0.11.0)\r\n",
      "Requirement already satisfied: scipy in /home/ufuk/anaconda3/envs/argilla/lib/python3.9/site-packages (from sentence_transformers) (1.9.3)\r\n",
      "Requirement already satisfied: torchvision in /home/ufuk/anaconda3/envs/argilla/lib/python3.9/site-packages (from sentence_transformers) (0.14.0)\r\n",
      "Requirement already satisfied: sentencepiece in /home/ufuk/anaconda3/envs/argilla/lib/python3.9/site-packages (from sentence_transformers) (0.1.95)\r\n",
      "Requirement already satisfied: scikit-learn in /home/ufuk/anaconda3/envs/argilla/lib/python3.9/site-packages (from sentence_transformers) (1.1.3)\r\n",
      "Requirement already satisfied: packaging>=20.0 in /home/ufuk/anaconda3/envs/argilla/lib/python3.9/site-packages (from transformers) (21.3)\r\n",
      "Requirement already satisfied: pyyaml>=5.1 in /home/ufuk/anaconda3/envs/argilla/lib/python3.9/site-packages (from transformers) (5.4.1)\r\n",
      "Requirement already satisfied: regex!=2019.12.17 in /home/ufuk/anaconda3/envs/argilla/lib/python3.9/site-packages (from transformers) (2022.10.31)\r\n",
      "Requirement already satisfied: sacremoses in /home/ufuk/anaconda3/envs/argilla/lib/python3.9/site-packages (from transformers) (0.0.53)\r\n",
      "Requirement already satisfied: tokenizers!=0.11.3,<0.13,>=0.11.1 in /home/ufuk/anaconda3/envs/argilla/lib/python3.9/site-packages (from transformers) (0.12.1)\r\n",
      "Requirement already satisfied: requests in /home/ufuk/anaconda3/envs/argilla/lib/python3.9/site-packages (from transformers) (2.28.1)\r\n",
      "Requirement already satisfied: filelock in /home/ufuk/anaconda3/envs/argilla/lib/python3.9/site-packages (from transformers) (3.8.0)\r\n",
      "Requirement already satisfied: responses<0.19 in /home/ufuk/anaconda3/envs/argilla/lib/python3.9/site-packages (from datasets) (0.18.0)\r\n",
      "Requirement already satisfied: aiohttp in /home/ufuk/anaconda3/envs/argilla/lib/python3.9/site-packages (from datasets) (3.8.3)\r\n",
      "Requirement already satisfied: fsspec[http]>=2021.05.0 in /home/ufuk/anaconda3/envs/argilla/lib/python3.9/site-packages (from datasets) (2022.11.0)\r\n",
      "Requirement already satisfied: dill<0.3.5 in /home/ufuk/anaconda3/envs/argilla/lib/python3.9/site-packages (from datasets) (0.3.4)\r\n",
      "Requirement already satisfied: pyarrow>=6.0.0 in /home/ufuk/anaconda3/envs/argilla/lib/python3.9/site-packages (from datasets) (10.0.1)\r\n",
      "Requirement already satisfied: multiprocess in /home/ufuk/anaconda3/envs/argilla/lib/python3.9/site-packages (from datasets) (0.70.12.2)\r\n",
      "Requirement already satisfied: pandas in /home/ufuk/anaconda3/envs/argilla/lib/python3.9/site-packages (from datasets) (1.5.2)\r\n",
      "Requirement already satisfied: xxhash in /home/ufuk/anaconda3/envs/argilla/lib/python3.9/site-packages (from datasets) (3.1.0)\r\n",
      "Requirement already satisfied: charset-normalizer<3.0,>=2.0 in /home/ufuk/anaconda3/envs/argilla/lib/python3.9/site-packages (from aiohttp->datasets) (2.1.1)\r\n",
      "Requirement already satisfied: async-timeout<5.0,>=4.0.0a3 in /home/ufuk/anaconda3/envs/argilla/lib/python3.9/site-packages (from aiohttp->datasets) (4.0.2)\r\n",
      "Requirement already satisfied: yarl<2.0,>=1.0 in /home/ufuk/anaconda3/envs/argilla/lib/python3.9/site-packages (from aiohttp->datasets) (1.8.1)\r\n",
      "Requirement already satisfied: frozenlist>=1.1.1 in /home/ufuk/anaconda3/envs/argilla/lib/python3.9/site-packages (from aiohttp->datasets) (1.3.3)\r\n",
      "Requirement already satisfied: attrs>=17.3.0 in /home/ufuk/anaconda3/envs/argilla/lib/python3.9/site-packages (from aiohttp->datasets) (22.1.0)\r\n",
      "Requirement already satisfied: aiosignal>=1.1.2 in /home/ufuk/anaconda3/envs/argilla/lib/python3.9/site-packages (from aiohttp->datasets) (1.3.1)\r\n",
      "Requirement already satisfied: multidict<7.0,>=4.5 in /home/ufuk/anaconda3/envs/argilla/lib/python3.9/site-packages (from aiohttp->datasets) (6.0.2)\r\n",
      "Requirement already satisfied: typing-extensions>=3.7.4.3 in /home/ufuk/anaconda3/envs/argilla/lib/python3.9/site-packages (from huggingface-hub>=0.4.0->sentence_transformers) (4.4.0)\r\n",
      "Requirement already satisfied: pyparsing!=3.0.5,>=2.0.2 in /home/ufuk/anaconda3/envs/argilla/lib/python3.9/site-packages (from packaging>=20.0->transformers) (3.0.9)\r\n",
      "Requirement already satisfied: certifi>=2017.4.17 in /home/ufuk/anaconda3/envs/argilla/lib/python3.9/site-packages (from requests->transformers) (2022.9.24)\r\n",
      "Requirement already satisfied: idna<4,>=2.5 in /home/ufuk/anaconda3/envs/argilla/lib/python3.9/site-packages (from requests->transformers) (3.4)\r\n",
      "Requirement already satisfied: urllib3<1.27,>=1.21.1 in /home/ufuk/anaconda3/envs/argilla/lib/python3.9/site-packages (from requests->transformers) (1.26.12)\r\n",
      "Requirement already satisfied: nvidia-cuda-nvrtc-cu11==11.7.99 in /home/ufuk/anaconda3/envs/argilla/lib/python3.9/site-packages (from torch>=1.6.0->sentence_transformers) (11.7.99)\r\n",
      "Requirement already satisfied: nvidia-cudnn-cu11==8.5.0.96 in /home/ufuk/anaconda3/envs/argilla/lib/python3.9/site-packages (from torch>=1.6.0->sentence_transformers) (8.5.0.96)\r\n",
      "Requirement already satisfied: nvidia-cuda-runtime-cu11==11.7.99 in /home/ufuk/anaconda3/envs/argilla/lib/python3.9/site-packages (from torch>=1.6.0->sentence_transformers) (11.7.99)\r\n",
      "Requirement already satisfied: nvidia-cublas-cu11==11.10.3.66 in /home/ufuk/anaconda3/envs/argilla/lib/python3.9/site-packages (from torch>=1.6.0->sentence_transformers) (11.10.3.66)\r\n",
      "Requirement already satisfied: setuptools in /home/ufuk/anaconda3/envs/argilla/lib/python3.9/site-packages (from nvidia-cublas-cu11==11.10.3.66->torch>=1.6.0->sentence_transformers) (65.5.1)\r\n",
      "Requirement already satisfied: wheel in /home/ufuk/anaconda3/envs/argilla/lib/python3.9/site-packages (from nvidia-cublas-cu11==11.10.3.66->torch>=1.6.0->sentence_transformers) (0.38.4)\r\n",
      "Requirement already satisfied: joblib in /home/ufuk/anaconda3/envs/argilla/lib/python3.9/site-packages (from nltk->sentence_transformers) (1.2.0)\r\n",
      "Requirement already satisfied: click in /home/ufuk/anaconda3/envs/argilla/lib/python3.9/site-packages (from nltk->sentence_transformers) (7.1.2)\r\n",
      "Requirement already satisfied: python-dateutil>=2.8.1 in /home/ufuk/anaconda3/envs/argilla/lib/python3.9/site-packages (from pandas->datasets) (2.8.2)\r\n",
      "Requirement already satisfied: pytz>=2020.1 in /home/ufuk/anaconda3/envs/argilla/lib/python3.9/site-packages (from pandas->datasets) (2022.6)\r\n",
      "Requirement already satisfied: six in /home/ufuk/anaconda3/envs/argilla/lib/python3.9/site-packages (from sacremoses->transformers) (1.16.0)\r\n",
      "Requirement already satisfied: threadpoolctl>=2.0.0 in /home/ufuk/anaconda3/envs/argilla/lib/python3.9/site-packages (from scikit-learn->sentence_transformers) (3.1.0)\r\n",
      "Requirement already satisfied: pillow!=8.3.*,>=5.3.0 in /home/ufuk/anaconda3/envs/argilla/lib/python3.9/site-packages (from torchvision->sentence_transformers) (9.3.0)\r\n",
      "Note: you may need to restart the kernel to use updated packages.\n"
     ]
    }
   ],
   "source": [
    "%pip install faiss-cpu sentence_transformers transformers datasets"
   ]
  },
  {
   "cell_type": "code",
   "execution_count": 1,
   "outputs": [],
   "source": [
    "from sentence_transformers import SentenceTransformer\n",
    "\n",
    "# instantiate the model for the sentence embeddings\n",
    "# we strongly recommend using a GPU for the computation of the embeddings\n",
    "model = SentenceTransformer(\"all-mpnet-base-v2\", device=\"cuda\")"
   ],
   "metadata": {
    "collapsed": false
   }
  },
  {
   "cell_type": "code",
   "execution_count": 2,
   "outputs": [
    {
     "name": "stderr",
     "output_type": "stream",
     "text": [
      "Using custom data configuration default\n",
      "Reusing dataset ag_news (/home/ufuk/.cache/huggingface/datasets/ag_news/default/0.0.0/bc2bcb40336ace1a0374767fc29bb0296cdaf8a6da7298436239c54d79180548)\n"
     ]
    },
    {
     "data": {
      "text/plain": "  0%|          | 0/2 [00:00<?, ?it/s]",
      "application/vnd.jupyter.widget-view+json": {
       "version_major": 2,
       "version_minor": 0,
       "model_id": "521fad4a661344af8dac3fb3516a6ff7"
      }
     },
     "metadata": {},
     "output_type": "display_data"
    },
    {
     "name": "stderr",
     "output_type": "stream",
     "text": [
      "Loading cached split indices for dataset at /home/ufuk/.cache/huggingface/datasets/ag_news/default/0.0.0/bc2bcb40336ace1a0374767fc29bb0296cdaf8a6da7298436239c54d79180548/cache-0fb8fdf64cc3fcc4.arrow and /home/ufuk/.cache/huggingface/datasets/ag_news/default/0.0.0/bc2bcb40336ace1a0374767fc29bb0296cdaf8a6da7298436239c54d79180548/cache-80423eae5320d3cb.arrow\n"
     ]
    }
   ],
   "source": [
    "from datasets import load_dataset\n",
    "\n",
    "agnews = load_dataset(\"ag_news\")\n",
    "\n",
    "agnews_train, agnews_valid = (\n",
    "    agnews[\"train\"].train_test_split(test_size=7600, seed=43).values()\n",
    ")\n"
   ],
   "metadata": {
    "collapsed": false
   }
  },
  {
   "cell_type": "code",
   "execution_count": 6,
   "outputs": [],
   "source": [
    "import argilla as rg"
   ],
   "metadata": {
    "collapsed": false
   }
  },
  {
   "cell_type": "code",
   "execution_count": null,
   "outputs": [],
   "source": [
    "def record_generator(hf_dataset, split, vector_name, batch_size=32):\n",
    "    record_batch = []\n",
    "    for idx, record in enumerate(hf_dataset):\n",
    "        vector = model.encode(record[\"text\"]).tolist()\n",
    "        record = rg.TextClassificationRecord(\n",
    "            text=record[\"text\"],\n",
    "            embeddings = {\n",
    "                vector_name: {\n",
    "                    \"vector\": vector\n",
    "                }\n",
    "            },\n",
    "            metadata={\"split\": split},\n",
    "            id=f\"train_{idx}\",\n",
    "        )\n",
    "        record_batch.append(record)\n",
    "        if len(record_batch) == batch_size:\n",
    "            yield record_batch\n",
    "            record_batch = []\n",
    "    if record_batch:\n",
    "        yield record_batch"
   ],
   "metadata": {
    "collapsed": false
   }
  },
  {
   "cell_type": "code",
   "execution_count": null,
   "outputs": [],
   "source": [
    "for batch in record_generator(agnews_valid, \"labeled\", \"text_mpnet\"):\n",
    "    rg.log(batch, name=\"ag_news\")"
   ],
   "metadata": {
    "collapsed": false
   }
  },
  {
   "cell_type": "code",
   "execution_count": null,
   "outputs": [],
   "source": [
    "for batch in  record_generator(agnews_train, \"unlabeled\", \"text_mpnet\"):\n",
    "    rg.log(batch, name=\"ag_news\")"
   ],
   "metadata": {
    "collapsed": false
   }
  }
 ],
 "metadata": {
  "kernelspec": {
   "display_name": "Python 3.9.13 ('argilla')",
   "language": "python",
   "name": "python3"
  },
  "language_info": {
   "codemirror_mode": {
    "name": "ipython",
    "version": 3
   },
   "file_extension": ".py",
   "mimetype": "text/x-python",
   "name": "python",
   "nbconvert_exporter": "python",
   "pygments_lexer": "ipython3",
   "version": "3.9.13"
  },
  "orig_nbformat": 4,
  "vscode": {
   "interpreter": {
    "hash": "83e13ff0de9ea08cace169d1016bf08ce368842307fd88824f08736a0a9ca04b"
   }
  }
 },
 "nbformat": 4,
 "nbformat_minor": 2
}
