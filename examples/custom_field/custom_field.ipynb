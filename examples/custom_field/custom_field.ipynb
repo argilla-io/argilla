{
 "cells": [
  {
   "cell_type": "code",
   "execution_count": 88,
   "metadata": {},
   "outputs": [],
   "source": [
    "from datetime import datetime\n",
    "\n",
    "import argilla as rg\n",
    "from datasets import load_dataset\n",
    "\n",
    "client = rg.Argilla()"
   ]
  },
  {
   "cell_type": "code",
   "execution_count": 95,
   "metadata": {},
   "outputs": [
    {
     "data": {
      "text/plain": [
       "Dataset(id=UUID('49b558ed-c5c2-4860-a5c3-8ed1aa82fb22') inserted_at=datetime.datetime(2024, 8, 23, 9, 39, 56, 344103) updated_at=datetime.datetime(2024, 8, 23, 9, 39, 56, 491012) name='interactive_chat_20240823113956' status='ready' guidelines=None allow_extra_metadata=False distribution=OverlapTaskDistributionModel(strategy='overlap', min_submitted=1) workspace_id=UUID('735cae0d-eb08-45c3-ad79-0a11ad4dd2c2') last_activity_at=datetime.datetime(2024, 8, 23, 9, 39, 56, 491012))"
      ]
     },
     "execution_count": 95,
     "metadata": {},
     "output_type": "execute_result"
    }
   ],
   "source": [
    "html_template_path = \"interactive_chat.html\"\n",
    "\n",
    "settings = rg.Settings(\n",
    "    fields=[\n",
    "        rg.CustomField(name=\"chosen\", template=html_template_path, required=False),\n",
    "        rg.ChatField(\n",
    "            name=\"rejected\",\n",
    "        ),\n",
    "    ],\n",
    "    questions=[\n",
    "        rg.TextQuestion(\"improved_chosen\"),\n",
    "    ],\n",
    ")\n",
    "\n",
    "dataset = rg.Dataset(\n",
    "    settings=settings,\n",
    "    name=f\"interactive_chat_{datetime.now().strftime('%Y%m%d%H%M%S')}\",\n",
    ")\n",
    "\n",
    "dataset.create()"
   ]
  },
  {
   "cell_type": "code",
   "execution_count": 96,
   "metadata": {},
   "outputs": [
    {
     "data": {
      "text/html": [
       "<pre style=\"white-space:pre;overflow-x:auto;line-height:normal;font-family:Menlo,'DejaVu Sans Mono',consolas,'Courier New',monospace\">DatasetRecords: The provided batch size <span style=\"color: #008080; text-decoration-color: #008080; font-weight: bold\">256</span> was normalized. Using value <span style=\"color: #008080; text-decoration-color: #008080; font-weight: bold\">100</span>.\n",
       "</pre>\n"
      ],
      "text/plain": [
       "DatasetRecords: The provided batch size \u001b[1;36m256\u001b[0m was normalized. Using value \u001b[1;36m100\u001b[0m.\n"
      ]
     },
     "metadata": {},
     "output_type": "display_data"
    },
    {
     "name": "stderr",
     "output_type": "stream",
     "text": [
      "Sending records...: 100%|██████████| 1/1 [00:00<00:00,  3.18batch/s]\n"
     ]
    },
    {
     "data": {
      "text/plain": [
       "DatasetRecords(Dataset(id=UUID('49b558ed-c5c2-4860-a5c3-8ed1aa82fb22') inserted_at=datetime.datetime(2024, 8, 23, 9, 39, 56, 344103) updated_at=datetime.datetime(2024, 8, 23, 9, 39, 56, 491012) name='interactive_chat_20240823113956' status='ready' guidelines=None allow_extra_metadata=False distribution=OverlapTaskDistributionModel(strategy='overlap', min_submitted=1) workspace_id=UUID('735cae0d-eb08-45c3-ad79-0a11ad4dd2c2') last_activity_at=datetime.datetime(2024, 8, 23, 9, 39, 56, 491012)))"
      ]
     },
     "execution_count": 96,
     "metadata": {},
     "output_type": "execute_result"
    }
   ],
   "source": [
    "ds = load_dataset(\"argilla/Capybara-Preferences\", split=\"train[:100]\")\n",
    "ds = ds.map(lambda x: {\"messages\": x[\"chosen\"]})\n",
    "dataset.records.log(ds)"
   ]
  }
 ],
 "metadata": {
  "kernelspec": {
   "display_name": ".venv",
   "language": "python",
   "name": "python3"
  },
  "language_info": {
   "codemirror_mode": {
    "name": "ipython",
    "version": 3
   },
   "file_extension": ".py",
   "mimetype": "text/x-python",
   "name": "python",
   "nbconvert_exporter": "python",
   "pygments_lexer": "ipython3",
   "version": "3.11.9"
  }
 },
 "nbformat": 4,
 "nbformat_minor": 2
}
