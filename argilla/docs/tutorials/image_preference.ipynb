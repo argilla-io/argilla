{
 "cells": [
  {
   "cell_type": "markdown",
   "metadata": {},
   "source": [
    "# Image preference"
   ]
  },
  {
   "cell_type": "markdown",
   "metadata": {},
   "source": [
    "- **Goal**: Show a standard workflow for working with complex multi-modal preference datasets like image question answering.\n",
    "- **Dataset**: [RLAIF-V](https://huggingface.co/datasets/openbmb/RLAIF-V-Dataset), large-scale multimodal feedback dataset. The dataset provides high-quality feedback with a total number of 83,132 preference pairs for image question answering.\n",
    "- **Libraries**: [datasets](https://github.com/huggingface/datasets), [sentence-transformers](https://github.com/UKPLab/sentence-transformers)\n",
    "- **Components**: [ImageField](https://docs.argilla.io/latest/reference/argilla/settings/fields/#src.argilla.settings._field.ImageField), [TextQuestion](https://docs.argilla.io/latest/reference/argilla/settings/questions/#src.argilla.settings._question.TextQuestion), [VectorField](https://docs.argilla.io/dev/reference/argilla/settings/vectors/#rgvectorfield), [TermsMetadataProperty](https://docs.argilla.io/dev/reference/argilla/settings/metadata_property/?h=#rgtermsmetadataproperty)"
   ]
  },
  {
   "cell_type": "markdown",
   "metadata": {},
   "source": [
    "## Getting started"
   ]
  },
  {
   "cell_type": "markdown",
   "metadata": {},
   "source": [
    "### Deploy the Argilla server"
   ]
  },
  {
   "cell_type": "markdown",
   "metadata": {},
   "source": [
    "If you already have deployed Argilla, you can skip this step. Otherwise, you can quickly deploy Argilla following [this guide](../getting_started/quickstart.md)."
   ]
  },
  {
   "cell_type": "markdown",
   "metadata": {},
   "source": [
    "### Set up the environment"
   ]
  },
  {
   "cell_type": "markdown",
   "metadata": {},
   "source": [
    "To complete this tutorial, you need to install the Argilla SDK and a few third-party libraries via `pip`."
   ]
  },
  {
   "cell_type": "code",
   "execution_count": null,
   "metadata": {},
   "outputs": [],
   "source": [
    "!pip install argilla"
   ]
  },
  {
   "cell_type": "code",
   "execution_count": null,
   "metadata": {},
   "outputs": [],
   "source": [
    "!pip install \"sentence-transformers>3,<4\""
   ]
  },
  {
   "cell_type": "markdown",
   "metadata": {},
   "source": [
    "Let's make the required imports:"
   ]
  },
  {
   "cell_type": "code",
   "execution_count": 24,
   "metadata": {},
   "outputs": [],
   "source": [
    "import argilla as rg\n",
    "\n",
    "import io\n",
    "import base64\n",
    "import json\n",
    "from sentence_transformers import SentenceTransformer\n",
    "from datasets import load_dataset, Dataset"
   ]
  },
  {
   "cell_type": "markdown",
   "metadata": {},
   "source": [
    "You also need to connect to the Argilla server using the `api_url` and `api_key`."
   ]
  },
  {
   "cell_type": "code",
   "execution_count": 3,
   "metadata": {},
   "outputs": [],
   "source": [
    "# Replace api_url with your url if using Docker\n",
    "# Replace api_key if you configured a custom API key\n",
    "# Uncomment the last line and set your HF_TOKEN if your space is private\n",
    "client = rg.Argilla(\n",
    "    api_url=\"https://[your-owner-name]-[your_space_name].hf.space\",\n",
    "    api_key=\"owner.apikey\",\n",
    "    # headers={\"Authorization\": f\"Bearer {HF_TOKEN}\"}\n",
    ")"
   ]
  },
  {
   "cell_type": "markdown",
   "metadata": {},
   "source": [
    "## Vibe check the dataset\n",
    "\n",
    "We will have a look at [the dataset](https://huggingface.co/datasets/openbmb/RLAIF-V-Dataset) to understand its structure and the kind of data it contains. We do this by using [the embedded Hugging Face Dataset Viewer](https://huggingface.co/docs/hub/main/en/datasets-viewer-embed).\n",
    "\n",
    "<iframe\n",
    "  src=\"https://huggingface.co/datasets/openbmb/RLAIF-V-Dataset/embed/viewer/default/train\"\n",
    "  frameborder=\"0\"\n",
    "  width=\"100%\"\n",
    "  height=\"560px\"\n",
    "></iframe>"
   ]
  },
  {
   "cell_type": "markdown",
   "metadata": {},
   "source": [
    "## Configure and create the Argilla dataset"
   ]
  },
  {
   "cell_type": "markdown",
   "metadata": {},
   "source": [
    "Now, we will need to configure the dataset. In the settings, we can specify the guidelines, fields, and questions. Because of the complexity of the task we will also add metadata and vectors. We will add one vector to represent the semantic meaning of the `question`. We will be adding two metadata fields that store the `original_dataset` and the type of task the question belongs to which can be obtained from `origin_split`. \n",
    "\n",
    "!!! note\n",
    "    Check this [how-to guide](../how_to_guides/dataset.md) to know more about configuring and creating a dataset."
   ]
  },
  {
   "cell_type": "code",
   "execution_count": 5,
   "metadata": {},
   "outputs": [],
   "source": [
    "settings = rg.Settings(\n",
    "    guidelines=\"The goal is to assess if the answers are correct and update them where needed.\",\n",
    "    fields=[\n",
    "        rg.ImageField(\n",
    "            name=\"image\",\n",
    "            title=\"An image of a certain object, state or action.\",\n",
    "        ),\n",
    "        rg.TextField(\n",
    "            name=\"question\",\n",
    "            title=\"A question about the image, intended to be answered.\",\n",
    "        )\n",
    "    ],\n",
    "    questions=[\n",
    "        rg.TextQuestion(\n",
    "            name=\"chosen\",\n",
    "            title=\"The chosen answer to the question.\",\n",
    "        ),\n",
    "        rg.TextQuestion(\n",
    "            name=\"rejected\",\n",
    "            title=\"The rejected answer to the question.\",\n",
    "        )\n",
    "    ],\n",
    "    metadata=[\n",
    "        rg.TermsMetadataProperty(name=\"origin_dataset\", title=\"Origin dataset\"),\n",
    "        rg.TermsMetadataProperty(name=\"task_type\", title=\"Task type\"),\n",
    "    ],\n",
    "    vectors=[\n",
    "        rg.VectorField(name=\"question_vector\", dimensions=384),\n",
    "    ]\n",
    ")"
   ]
  },
  {
   "cell_type": "markdown",
   "metadata": {},
   "source": [
    "Let's create the dataset with the name and the defined settings:"
   ]
  },
  {
   "cell_type": "code",
   "execution_count": null,
   "metadata": {},
   "outputs": [],
   "source": [
    "dataset = rg.Dataset(\n",
    "    name=\"image_preference_dataset\",\n",
    "    settings=settings,\n",
    ")\n",
    "dataset.create()"
   ]
  },
  {
   "cell_type": "markdown",
   "metadata": {},
   "source": [
    "## Add records\n",
    "\n",
    "Even if we have created the dataset, it still lacks the information to be annotated (you can check it in the UI). We will use the `openbmb/RLAIF-V-Dataset` dataset from [the Hugging Face Hub](https://huggingface.co/datasets/openbmb/RLAIF-V-Dataset). Specifically, we will use `100` examples. Because we are dealing with a potentially large image dataset, we will set `streaming=True` to avoid loading the entire dataset into memory and iterate over the data to lazily load it.\n",
    "\n",
    "!!! tip\n",
    "    When working with Hugging Face dataset you can set `Image(decode=False)` so that we can get [public image URLs](https://huggingface.co/docs/datasets/en/image_load#local-files), however, this depends on the dataset."
   ]
  },
  {
   "cell_type": "code",
   "execution_count": null,
   "metadata": {},
   "outputs": [],
   "source": [
    "n_rows = 100\n",
    "hf_dataset = load_dataset(\"openbmb/RLAIF-V-Dataset\", streaming=True)\n",
    "dataset_rows = []\n",
    "count = 0\n",
    "for row in hf_dataset[\"train\"]:\n",
    "    dataset_rows.append(row)\n",
    "    count += 1\n",
    "    if count >= n_rows:\n",
    "        break\n",
    "dataset_rows\n",
    "hf_dataset = Dataset.from_list(dataset_rows)\n",
    "hf_dataset"
   ]
  },
  {
   "cell_type": "markdown",
   "metadata": {},
   "source": [
    "Let's have a look at the first image in the dataset."
   ]
  },
  {
   "cell_type": "code",
   "execution_count": 19,
   "metadata": {},
   "outputs": [
    {
     "data": {
      "text/plain": [
       "{'ds_name': 'RLAIF-V',\n",
       " 'image': <PIL.JpegImagePlugin.JpegImageFile image mode=RGB size=640x480>,\n",
       " 'question': 'Who is more likely to use these tools a leather crafter or a paper crafter?',\n",
       " 'chosen': 'A leather crafter is more likely to use these tools. The image shows various crafting tools, including scissors and a hole punch, which are commonly used in leatherworking projects. Leather is a material that requires cutting, shaping, and precise hole-punching techniques to create desired designs or patterns. In contrast, paper crafters typically use different types of tools, such as adhesives, decorative papers, or specialized cutting machines like the Silhouette Cameo, for their projects.',\n",
       " 'rejected': 'A leather crafter is more likely to use these tools as they consist of a hole punch, scissors, and a knife. These items are typically used in crafting projects involving fabric or leather materials for various designs and patterns. Paper crafters may also benefit from some of these tools, but their primary focus would be on paper-related projects, which might require different types of tools such as paper cutters or scrapbooking supplies.',\n",
       " 'origin_dataset': 'OK-VQA',\n",
       " 'origin_split': '{\"model\": \"OmniLMM-12B\", \"feedback_model\": \"OmniLMM-12B\", \"type\": \"question_answering\"}',\n",
       " 'idx': 'OmniLMM-12B_OmniLMM-12B_0',\n",
       " 'image_path': 'coco2017/train2017/000000489771.jpg'}"
      ]
     },
     "execution_count": 19,
     "metadata": {},
     "output_type": "execute_result"
    }
   ],
   "source": [
    "hf_dataset[0]"
   ]
  },
  {
   "cell_type": "markdown",
   "metadata": {},
   "source": [
    "### Convert PIL image to base64\n",
    "\n",
    "As we can see, the image is a PIL Image. In order to use it in in Argilla, we need to convert them to a base64 string."
   ]
  },
  {
   "cell_type": "code",
   "execution_count": null,
   "metadata": {},
   "outputs": [],
   "source": [
    "def pil_to_data_uri(batch):\n",
    "    data_uri = []\n",
    "    for image in batch[\"image\"]:\n",
    "        buffered = io.BytesIO()\n",
    "        image.save(buffered, format=\"PNG\")\n",
    "        img_str = base64.b64encode(buffered.getvalue()).decode()\n",
    "        data_uri.append(f\"data:image/png;base64,{img_str}\")\n",
    "    batch[\"image_data_uri\"] = data_uri\n",
    "    return batch\n",
    "\n",
    "hf_dataset_with_base64= hf_dataset.map(pil_to_data_uri, batched=True)\n",
    "hf_dataset_with_base64[0]"
   ]
  },
  {
   "cell_type": "markdown",
   "metadata": {},
   "source": [
    "### Retrieve values nested in JSON\n",
    "\n",
    "The question type values are nested in a JSON object. We can obtain them by looping through the data and getting the `origin_split` column."
   ]
  },
  {
   "cell_type": "code",
   "execution_count": null,
   "metadata": {},
   "outputs": [],
   "source": [
    "def retrieve_type_from_json(batch):\n",
    "    loaded_json = [json.loads(x) for x in batch[\"origin_split\"]]\n",
    "    batch[\"task_type\"] = [x[\"type\"] for x in loaded_json]\n",
    "    return batch\n",
    "\n",
    "hf_dataset_with_base64_task= hf_dataset_with_base64.map(retrieve_type_from_json, batched=True)\n",
    "hf_dataset_with_base64_task[0]"
   ]
  },
  {
   "cell_type": "markdown",
   "metadata": {},
   "source": [
    "### Create vectors\n",
    "\n",
    "We will use the `sentence-transformers` library to create vectors for the questions. We will use the `TaylorAI/bge-micro-v2` model which strikes a good balance between speed and performance. Note that we also need to convert the vectort to a `list` to store it in the Argilla dataset."
   ]
  },
  {
   "cell_type": "code",
   "execution_count": null,
   "metadata": {},
   "outputs": [],
   "source": [
    "model = SentenceTransformer(\"TaylorAI/bge-micro-v2\")\n",
    "\n",
    "def encode_questions(batch):\n",
    "    vectors_as_numpy = model.encode(batch[\"question\"])\n",
    "    batch[\"question_vector\"] = [x.tolist() for x in vectors_as_numpy]\n",
    "    return batch\n",
    "\n",
    "hf_dataset_with_base64_task_vectors = hf_dataset_with_base64_task.map(encode_questions, batched=True)\n",
    "hf_dataset_with_base64_task_vectors[0]"
   ]
  },
  {
   "cell_type": "markdown",
   "metadata": {},
   "source": [
    "### Log to Argilla\n"
   ]
  },
  {
   "cell_type": "markdown",
   "metadata": {},
   "source": [
    "We will easily add them to the dataset using `log` and the mapping, where we indicate that the column `image_data_uri` is the data that should be added to the field `image`. We are also adding an `id` column to the record, so we can easily backtrack the record to the external data source."
   ]
  },
  {
   "cell_type": "code",
   "execution_count": null,
   "metadata": {},
   "outputs": [],
   "source": [
    "hf_dataset = hf_dataset.add_column(\"id\", range(len(hf_dataset)))\n",
    "dataset.records.log(records=hf_dataset, mapping={\n",
    "    \"image_data_uri\": \"image\",\n",
    "    \"idx\": \"id\",\n",
    "    \"question\": \"question\",\n",
    "    \"chosen\": \"chosen\",\n",
    "    \"rejected\": \"rejected\",\n",
    "    \"task_type\": \"task_type\",\n",
    "    \"question_vector\": \"question_vector\",\n",
    "    \"origin_dataset\": \"origin_dataset\"\n",
    "})"
   ]
  },
  {
   "cell_type": "markdown",
   "metadata": {},
   "source": [
    "Voilà! We have also added the suggestions to the dataset for the `chosen` `rejected` pairs, and they will appear in the UI marked with a ✨. "
   ]
  },
  {
   "cell_type": "markdown",
   "metadata": {},
   "source": [
    "## Evaluate with Argilla"
   ]
  },
  {
   "cell_type": "markdown",
   "metadata": {},
   "source": [
    "Now, we can start the annotation process. Just open the dataset in the Argilla UI and start annotating the records. If the suggestions are correct, you can just click on `Submit`. Otherwise, you can select the correct label."
   ]
  },
  {
   "cell_type": "markdown",
   "metadata": {},
   "source": [
    "!!! note\n",
    "    Check this [how-to guide](../how_to_guides/annotate.md) to know more about annotating in the UI."
   ]
  },
  {
   "cell_type": "markdown",
   "metadata": {},
   "source": [
    "## Conclusions"
   ]
  },
  {
   "cell_type": "markdown",
   "metadata": {},
   "source": [
    "In this tutorial, we present an end-to-end example of a image classification task. This serves as the base, but it can be performed iteratively and seamlessly integrated into your workflow to ensure high-quality curation of your data and improved results.\n",
    "\n",
    "We started by configuring the dataset, adding records, as an example, to add suggestions. After the annotation process, we trained a new model with the annotated data and updated the remaining records with the new suggestions."
   ]
  }
 ],
 "metadata": {
  "kernelspec": {
   "display_name": "Python 3",
   "language": "python",
   "name": "python3"
  },
  "language_info": {
   "codemirror_mode": {
    "name": "ipython",
    "version": 3
   },
   "file_extension": ".py",
   "mimetype": "text/x-python",
   "name": "python",
   "nbconvert_exporter": "python",
   "pygments_lexer": "ipython3",
   "version": "3.10.6"
  }
 },
 "nbformat": 4,
 "nbformat_minor": 2
}
