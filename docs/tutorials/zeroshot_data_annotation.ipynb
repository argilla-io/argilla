{
 "cells": [
  {
   "cell_type": "markdown",
   "id": "a8acd292-a34b-4ce7-a384-2c438f6cfeb5",
   "metadata": {},
   "source": [
    "# 🏷️ 🔫 Faster data annotation with a zero-shot text classifier"
   ]
  },
  {
   "cell_type": "markdown",
   "id": "7fbcf3ba-3445-4763-8ea1-78780689a5b3",
   "metadata": {},
   "source": [
    "## TL;DR\n",
    "\n",
    "1. A simple example for data annotation with Rubrix is shown: **using a zero-shot classification model to pre-annotate and hand-label data more efficiently**.\n",
    "2. We use the new **SELECTRA zero-shot classifier** and the Spanish part of the **MLSum**, a multilingual dataset for text summarization.\n",
    "3. Two data annotation rounds are performed: (1) **labeling random examples**, and (2) **bulk labeling high score examples**.\n",
    "4. Besides boosting the labeling process, this workflow lets you **evaluate the performance of zero-shot classification for a specific use case**. In this example use case, we observe the pre-trained zero-shot classifier provides pretty decent results, which might be enough for general news categorization.\n"
   ]
  },
  {
   "cell_type": "markdown",
   "id": "12c89368-4864-4cea-9c59-5a49e1eb42de",
   "metadata": {},
   "source": [
    "<video width=\"100%\" controls><source src=\"https://github.com/recognai/rubrix-materials/raw/main/tutorials/videos/zeroshot_selectra_news_data_annotation.mp4\" type=\"video/mp4\"></video>"
   ]
  },
  {
   "cell_type": "markdown",
   "id": "45c211f5-590b-49c8-9c83-cc6f778e4a42",
   "metadata": {},
   "source": [
    "## Why\n",
    "\n",
    "- The availability of pre-trained language models with zero-shot capabilities means you can, sometimes, accelerate your data annotation tasks by pre-annotating your corpus with a pre-trained zeroshot model.\n",
    "- The same workflow can be applied if there is a pre-trained \"supervised\" model that fits your categories but needs fine-tuning for your own use case. For example, fine-tuning a sentiment classifier for a very specific type of message."
   ]
  },
  {
   "cell_type": "markdown",
   "id": "a56c5c3e-3b43-47f8-870b-64b159872988",
   "metadata": {},
   "source": [
    "## Setup Rubrix\n",
    "\n",
    "Rubrix, is a free and open-source tool to explore, annotate, and monitor data for NLP projects.\n",
    "\n",
    "If you are new to Rubrix, check out the ⭐ [Github repository](https://github.com/recognai/rubrix).\n",
    "\n",
    "If you have not installed and launched Rubrix, check the [Setup and Installation guide](../getting_started/setup&installation.rst).\n",
    "\n",
    "Once installed, you only need to import Rubrix:"
   ]
  },
  {
   "cell_type": "code",
   "execution_count": null,
   "id": "041988a8-6535-42ce-901f-b043539cd5c1",
   "metadata": {},
   "outputs": [],
   "source": [
    "import rubrix as rb"
   ]
  },
  {
   "cell_type": "markdown",
   "id": "da827f0d-b13c-4843-a937-93657eef0adf",
   "metadata": {},
   "source": [
    "## Install dependencies\n",
    "\n",
    "For this tutorial we only need to install a few additional dependencies:"
   ]
  },
  {
   "cell_type": "code",
   "execution_count": null,
   "id": "82ba895b-f436-4965-bde5-e12c6bf05284",
   "metadata": {},
   "outputs": [],
   "source": [
    "%pip install transformers datasets torch -qqq"
   ]
  },
  {
   "cell_type": "markdown",
   "id": "df988cbb-aed7-4bb8-aa5c-7c1ae6456ee2",
   "metadata": {},
   "source": [
    "## 1. Load the Spanish zero-shot classifier: `Selectra`\n",
    "\n",
    "We will use the recently released [**SELECTRA zero-shot classifier model**](https://huggingface.co/Recognai/zeroshot_selectra_medium), a zero-shot classifier for Spanish language."
   ]
  },
  {
   "cell_type": "code",
   "execution_count": null,
   "id": "b24df5c6-0f08-4e32-8d10-ef3f173ee808",
   "metadata": {},
   "outputs": [],
   "source": [
    "from transformers import pipeline\n",
    "\n",
    "classifier = pipeline(\"zero-shot-classification\", \n",
    "                       model=\"Recognai/zeroshot_selectra_medium\")"
   ]
  },
  {
   "cell_type": "markdown",
   "id": "248e82e1-2ff2-4eb9-8479-91d79221219c",
   "metadata": {},
   "source": [
    "## 2. Loading the `MLSum` dataset\n",
    "\n",
    "[MLSUM](https://huggingface.co/datasets/mlsum), is a large scale multilingual text summarization dataset. \n",
    "Obtained from online newspapers, it contains 1.5M+ article/summary pairs in five different languages -- namely, French, German, Spanish, Russian and Turkish.\n",
    "To illustrate the labeling process, in this tutorial we will only use the first 500 examples of its Spanish test set."
   ]
  },
  {
   "cell_type": "code",
   "execution_count": null,
   "id": "e7f24b9d-594e-4b83-b75c-a445cb4b189e",
   "metadata": {
    "tags": []
   },
   "outputs": [],
   "source": [
    "from datasets import load_dataset\n",
    "\n",
    "mlsum = load_dataset(\"mlsum\", \"es\", split=\"test[0:500]\")"
   ]
  },
  {
   "cell_type": "markdown",
   "id": "f11003f9-066a-4d61-ac96-de2a4153a6a4",
   "metadata": {},
   "source": [
    "## 3. Making zero-shot predictions\n",
    "\n",
    "The zero-shot classifier allows you to provide arbitrary candidate labels, which it will use for its predictions.\n",
    "Since under the hood, this zero-shot classifier is based on [natural language inference (NLI)](https://joeddav.github.io/blog/2020/05/29/ZSL.html#Classification-as-Natural-Language-Inference), we need to convert the candidate labels into a \"hypothesis\".\n",
    "For this we use a *hypothesis_template*, in which the `{}` will be replaced by each one of our candidate label.\n",
    "This template can have a big effect on the scores of your predictions and should be adopted to your use case."
   ]
  },
  {
   "cell_type": "code",
   "execution_count": null,
   "id": "61347eaf-316d-4c21-a3ef-5e24204376d7",
   "metadata": {},
   "outputs": [],
   "source": [
    "# We adopted the hypothesis to our use case of predicting the topic of news articles\n",
    "hypothesis_template = \"Esta noticia habla de {}.\"\n",
    "# The candidate labels for our zero-shot classifier\n",
    "candidate_labels = [\"política\", \"cultura\", \"sociedad\", \"economia\", \"deportes\", \"ciencia y tecnología\"]\n",
    "\n",
    "# Make predictions batch-wise\n",
    "def make_prediction(rows):\n",
    "    predictions = classifier(\n",
    "        rows[\"summary\"], \n",
    "        candidate_labels=candidate_labels, \n",
    "        hypothesis_template=hypothesis_template\n",
    "    )\n",
    "    return {key: [pred[key] for pred in predictions] for key in predictions[0]}\n",
    "\n",
    "mlsum_with_predictions = mlsum.map(make_prediction, batched=True, batch_size=8)"
   ]
  },
  {
   "cell_type": "markdown",
   "id": "5c222255-0184-465a-992c-3e4012978f45",
   "metadata": {},
   "source": [
    "## 4. Logging predictions in Rubrix\n",
    "\n",
    "Let us log the examples to Rubrix and start our hand-labeling session, which will hopefully become more efficient with the zero-shot predictions."
   ]
  },
  {
   "cell_type": "code",
   "execution_count": null,
   "id": "60ac7c22-0da2-4f16-a643-8de60b5f9a69",
   "metadata": {},
   "outputs": [],
   "source": [
    "records = []\n",
    "\n",
    "for row in mlsum_with_predictions:\n",
    "    records.append(\n",
    "        rb.TextClassificationRecord(\n",
    "            inputs=row[\"summary\"],\n",
    "            prediction=list(zip(row['labels'], row['scores'])),\n",
    "            prediction_agent=\"zeroshot_selectra_medium\",\n",
    "            metadata={\"topic\": row[\"topic\"]}\n",
    "        )\n",
    "    )"
   ]
  },
  {
   "cell_type": "code",
   "execution_count": null,
   "id": "b110794c-d7c0-4fe2-9a1b-c35a7757f9fc",
   "metadata": {},
   "outputs": [],
   "source": [
    "rb.log(records, name=\"zeroshot_noticias\", metadata={\"tags\": \"data-annotation\"})"
   ]
  },
  {
   "cell_type": "markdown",
   "id": "dca8dd66-1520-472d-b250-7a06b6d74ad3",
   "metadata": {},
   "source": [
    "## 5. Hand-labeling session\n",
    "\n",
    "Let's do two data annotation sessions. "
   ]
  },
  {
   "cell_type": "markdown",
   "id": "35dfcf83-98c1-4f88-bfa3-235603e5030c",
   "metadata": {},
   "source": [
    "### Label first 20 random examples\n",
    "\n",
    "Labeling random or sequential examples is always recommended to get a sense of the data distribution, the usefulness of zero-shot predictions, and the suitability of the labeling scheme (the target labels). Typically, this is how you will build your first test set, which you can then use to validate the downstream supervised model. "
   ]
  },
  {
   "cell_type": "markdown",
   "id": "7edffc53-e83c-4d26-ba03-7f0a519bc100",
   "metadata": {},
   "source": [
    "<video width=\"100%\" controls><source src=\"https://github.com/recognai/rubrix-materials/raw/main/tutorials/videos/zeroshot_selectra_news_data_annotation.mp4\" type=\"video/mp4\"></video>"
   ]
  },
  {
   "cell_type": "markdown",
   "id": "7cfabe0f-8525-4482-82bf-6a68b8c7d6ad",
   "metadata": {},
   "source": [
    "### Label records with high score predictions\n",
    "\n",
    "In this case, we will use bulk-labeling (labeling a set of records with a few clicks) after quickly reviewing high score predictions from our zero-shot model. The main idea is that above a certain score, the predictions from this model are more likely to be correct."
   ]
  },
  {
   "cell_type": "markdown",
   "id": "75a190ba-4c39-4e9f-81f1-6001e3d7e7a8",
   "metadata": {},
   "source": [
    "<video width=\"100%\" controls><source src=\"https://github.com/recognai/rubrix-materials/raw/main/tutorials/videos/zeroshot_high_confidence.mp4\" type=\"video/mp4\"></video>"
   ]
  },
  {
   "cell_type": "markdown",
   "id": "d9054fb1-d4c0-45ee-ab72-dfe9efa3264a",
   "metadata": {},
   "source": [
    "## Next steps\n",
    "\n",
    "If you are interested in the topic of zero-shot models, check out the tutorial for using [Rubrix with Flair's zero-shot NER](07-zeroshot_ner.ipynb).\n",
    "\n",
    "### 📚 [Rubrix documentation](https://docs.rubrix.ml) for more guides and tutorials.\n",
    "\n",
    "### 🙋‍♀️ Join the Rubrix community! A good place to start is the [discussion forum](https://github.com/recognai/rubrix/discussions).\n",
    "\n",
    "### ⭐ Rubrix [Github repo](https://github.com/recognai/rubrix) to stay updated."
   ]
  },
  {
   "cell_type": "code",
   "execution_count": null,
   "id": "175a1494-dcf9-40a9-98e4-fdd76cb092c1",
   "metadata": {},
   "outputs": [],
   "source": []
  }
 ],
 "metadata": {
  "kernelspec": {
   "display_name": "Python 3",
   "language": "python",
   "name": "python3"
  },
  "language_info": {
   "codemirror_mode": {
    "name": "ipython",
    "version": 3
   },
   "file_extension": ".py",
   "mimetype": "text/x-python",
   "name": "python",
   "nbconvert_exporter": "python",
   "pygments_lexer": "ipython3",
   "version": "3.8.5"
  }
 },
 "nbformat": 4,
 "nbformat_minor": 5
}
