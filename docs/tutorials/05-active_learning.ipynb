{
 "cells": [
  {
   "cell_type": "markdown",
   "id": "industrial-ecuador",
   "metadata": {},
   "source": [
    "# 🤔 Active learning with ModAL and scikit-learn\n",
    "\n",
    "In this tutorial, we will walk through the process of building an active learning prototype with *Rubrix*, the active learning framework [ModAL](https://modal-python.github.io/) and [scikit-learn](https://scikit-learn.org/)\n",
    "\n",
    "![screenshot of the status filter in the Rubrix UI](https://github.com/recognai/rubrix-materials/raw/main/tutorials/modal/modal1.png \"Filtering for the 'Default' status let's you display only examples that were not annotated yet.\")\n",
    "\n",
    "## Introduction\n",
    "\n",
    "**Our goal is to show you how to incorporate Rubrix into interactive workflows involving a human in the loop**. This is only a proof of concept for educational purposes and to inspire you with some ideas involving interactive learning processes, and how they can help to quickly build a training data set from scratch. There are several great tools which focus on active learning, being [Prodi.gy](https://prodi.gy/) the most prominent.\n",
    "\n",
    "### What is active learning?\n",
    "\n",
    "> *Active learning is a special case of machine learning in which a learning algorithm can interactively query a user (or some other information source) to label new data points with the desired outputs. In statistics literature, it is sometimes also called optimal experimental design. The information source is also called teacher or oracle.* [[Wikipedia]](https://en.wikipedia.org/wiki/Active_learning_(machine_learning))\n",
    "\n",
    "### This tutorial\n",
    "\n",
    "In this tutorial, we will build a simple text classifier by combining scikit-learn, ModAL and *Rubrix*.\n",
    "Scitkit-learn will provide the model that we embed in an active learner from ModAL, and you and *Rubrix* will serve as the information source that teach the model to become a sample efficient classifier.\n"
   ]
  },
  {
   "cell_type": "markdown",
   "id": "crude-spotlight",
   "metadata": {},
   "source": [
    "The tutorial is organized into:\n",
    "\n",
    "1. **Loading the data**: Quick look at the data\n",
    "\n",
    "2. **Create the active learner**: Create the model and embed it in the active learner\n",
    "\n",
    "3. **Active learning loop**: Annotate samples and teach the model\n",
    "\n",
    "But first things first, let's install our extra dependencies and setup *Rubrix*."
   ]
  },
  {
   "cell_type": "markdown",
   "id": "34c3dd10-5a4c-49db-965a-30a9cd3e9eb3",
   "metadata": {},
   "source": [
    "## Setup Rubrix\n",
    "\n",
    "**If you are new to Rubrix, visit and ⭐ star Rubrix for more materials like and detailed docs**: [Github repo](https://github.com/recognai/rubrix)\n",
    "\n",
    "If you have not installed and launched Rubrix, check the [Setup and Installation guide](https://docs.rubrix.ml/en/latest/getting_started/setup%26installation.html).\n",
    "\n",
    "\n",
    "Once installed, you only need to import Rubrix:"
   ]
  },
  {
   "cell_type": "code",
   "execution_count": 1,
   "id": "85ee865e-4be5-474b-9cf2-04bc841e483a",
   "metadata": {},
   "outputs": [],
   "source": [
    "import rubrix as rb"
   ]
  },
  {
   "cell_type": "markdown",
   "id": "6b086477-c55e-4016-9e23-f6ba98bcf66b",
   "metadata": {},
   "source": [
    "## Setup "
   ]
  },
  {
   "cell_type": "markdown",
   "id": "sophisticated-customs",
   "metadata": {},
   "source": [
    "### Install scikit-learn and ModAL"
   ]
  },
  {
   "cell_type": "markdown",
   "id": "de2e4f6b-6662-4942-96a1-1e326c37ec5c",
   "metadata": {},
   "source": [
    "Apart from the two required dependencies we will also install matplotlib to plot our improvement for each active learning loop. However, this is of course optional and you can simply ignore this dependency."
   ]
  },
  {
   "cell_type": "code",
   "execution_count": 3,
   "id": "supposed-sharp",
   "metadata": {},
   "outputs": [],
   "source": [
    "!pip install modAL scikit-learn matplotlib -qqq\n",
    "exit(0)"
   ]
  },
  {
   "cell_type": "markdown",
   "id": "3aee1fe8-564f-43fb-8a02-caa796dfbcd0",
   "metadata": {},
   "source": [
    "### Imports"
   ]
  },
  {
   "cell_type": "markdown",
   "id": "71f533fa-7551-472c-989a-5a7bca990e86",
   "metadata": {},
   "source": [
    "Let us import all the necessary stuff in the beginning."
   ]
  },
  {
   "cell_type": "code",
   "execution_count": 2,
   "id": "canadian-mumbai",
   "metadata": {},
   "outputs": [],
   "source": [
    "import rubrix as rb\n",
    "import pandas as pd\n",
    "from sklearn.feature_extraction.text import CountVectorizer\n",
    "from sklearn.naive_bayes import MultinomialNB\n",
    "from sklearn.exceptions import NotFittedError\n",
    "from modAL.models import ActiveLearner\n",
    "import matplotlib.pyplot as plt"
   ]
  },
  {
   "cell_type": "markdown",
   "id": "northern-beast",
   "metadata": {},
   "source": [
    "## 1. Loading and preparing data\n",
    "\n",
    "*Rubrix* allows you to log and track data for different NLP tasks (such as `Token Classification` or `Text Classification`). \n",
    "\n",
    "In this tutorial, we will use the [YouTube Spam Collection](http://www.dt.fee.unicamp.br/~tiago//youtubespamcollection/) data set which is a binary classification task for detecting spam comments in YouTube videos.\n",
    "Let's load the data and have a look at it."
   ]
  },
  {
   "cell_type": "code",
   "execution_count": 3,
   "id": "6bbaab31-85a3-444d-bab3-59c27dab0617",
   "metadata": {},
   "outputs": [],
   "source": [
    "train_df = pd.read_csv(\"data/active_learning/train.csv\")\n",
    "test_df = pd.read_csv(\"data/active_learning/test.csv\")"
   ]
  },
  {
   "cell_type": "code",
   "execution_count": 4,
   "id": "9e30d96f-2f50-403d-af9a-86c77c8827a9",
   "metadata": {},
   "outputs": [
    {
     "data": {
      "text/html": [
       "<div>\n",
       "<style scoped>\n",
       "    .dataframe tbody tr th:only-of-type {\n",
       "        vertical-align: middle;\n",
       "    }\n",
       "\n",
       "    .dataframe tbody tr th {\n",
       "        vertical-align: top;\n",
       "    }\n",
       "\n",
       "    .dataframe thead th {\n",
       "        text-align: right;\n",
       "    }\n",
       "</style>\n",
       "<table border=\"1\" class=\"dataframe\">\n",
       "  <thead>\n",
       "    <tr style=\"text-align: right;\">\n",
       "      <th></th>\n",
       "      <th>COMMENT_ID</th>\n",
       "      <th>AUTHOR</th>\n",
       "      <th>DATE</th>\n",
       "      <th>CONTENT</th>\n",
       "      <th>CLASS</th>\n",
       "      <th>VIDEO</th>\n",
       "    </tr>\n",
       "  </thead>\n",
       "  <tbody>\n",
       "    <tr>\n",
       "      <th>0</th>\n",
       "      <td>z120djlhizeksdulo23mj5z52vjmxlhrk04</td>\n",
       "      <td>Murlock Nightcrawler</td>\n",
       "      <td>2015-05-24T07:04:29.844000</td>\n",
       "      <td>Charlie from LOST?﻿</td>\n",
       "      <td>0</td>\n",
       "      <td>3</td>\n",
       "    </tr>\n",
       "    <tr>\n",
       "      <th>1</th>\n",
       "      <td>z133ibkihkmaj3bfq22rilaxmp2yt54nb</td>\n",
       "      <td>Debora Favacho (Debora Sparkle)</td>\n",
       "      <td>2015-05-21T14:08:41.338000</td>\n",
       "      <td>BEST SONG EVER X3333333333﻿</td>\n",
       "      <td>0</td>\n",
       "      <td>4</td>\n",
       "    </tr>\n",
       "    <tr>\n",
       "      <th>2</th>\n",
       "      <td>z12gxdortqzwhhqas04cfjrwituzghb5tvk0k</td>\n",
       "      <td>Muhammad Asim Mansha</td>\n",
       "      <td>NaN</td>\n",
       "      <td>Aslamu Lykum... From Pakistan﻿</td>\n",
       "      <td>1</td>\n",
       "      <td>3</td>\n",
       "    </tr>\n",
       "    <tr>\n",
       "      <th>3</th>\n",
       "      <td>_2viQ_Qnc6_ZYkMn1fS805Z6oy8ImeO6pSjMLAlwYfM</td>\n",
       "      <td>mile panika</td>\n",
       "      <td>2013-11-03T14:39:42.248000</td>\n",
       "      <td>I absolutely adore watching football plus I’ve...</td>\n",
       "      <td>1</td>\n",
       "      <td>4</td>\n",
       "    </tr>\n",
       "    <tr>\n",
       "      <th>4</th>\n",
       "      <td>z120s1agtmmetler404cifqbxzvdx15idtw0k</td>\n",
       "      <td>Sheila Cenabre</td>\n",
       "      <td>2014-08-19T12:33:11</td>\n",
       "      <td>I really love this video.. http://www.bubblews...</td>\n",
       "      <td>1</td>\n",
       "      <td>1</td>\n",
       "    </tr>\n",
       "    <tr>\n",
       "      <th>...</th>\n",
       "      <td>...</td>\n",
       "      <td>...</td>\n",
       "      <td>...</td>\n",
       "      <td>...</td>\n",
       "      <td>...</td>\n",
       "      <td>...</td>\n",
       "    </tr>\n",
       "    <tr>\n",
       "      <th>387</th>\n",
       "      <td>z13pup2w2k3rz1lxl04cf1a5qzavgvv51vg0k</td>\n",
       "      <td>geraldine lopez</td>\n",
       "      <td>2015-05-20T23:44:25.920000</td>\n",
       "      <td>love the you lie the good﻿</td>\n",
       "      <td>0</td>\n",
       "      <td>3</td>\n",
       "    </tr>\n",
       "    <tr>\n",
       "      <th>388</th>\n",
       "      <td>z13psdarpuzbjp1hh04cjfwgzonextlhf1w</td>\n",
       "      <td>bilal bilo</td>\n",
       "      <td>2015-05-22T20:36:36.926000</td>\n",
       "      <td>I liked&lt;br /&gt;﻿</td>\n",
       "      <td>0</td>\n",
       "      <td>4</td>\n",
       "    </tr>\n",
       "    <tr>\n",
       "      <th>389</th>\n",
       "      <td>z131xnwierifxxkj204cgvjxyo3oydb42r40k</td>\n",
       "      <td>YULIOR ZAMORA</td>\n",
       "      <td>2014-09-10T01:35:54</td>\n",
       "      <td>I    loved        it           so       much  ...</td>\n",
       "      <td>0</td>\n",
       "      <td>1</td>\n",
       "    </tr>\n",
       "    <tr>\n",
       "      <th>390</th>\n",
       "      <td>z12pwrxj0kfrwnxye04cjxtqntycd1yia44</td>\n",
       "      <td>‫ארז אריה‬‎</td>\n",
       "      <td>2015-05-15T19:46:53.719000</td>\n",
       "      <td>good party﻿</td>\n",
       "      <td>0</td>\n",
       "      <td>2</td>\n",
       "    </tr>\n",
       "    <tr>\n",
       "      <th>391</th>\n",
       "      <td>z13oxvzqrzvyit00322jwtjo2tzqylhof04</td>\n",
       "      <td>Octavia W</td>\n",
       "      <td>2015-05-22T02:33:26.041000</td>\n",
       "      <td>Waka waka ﻿</td>\n",
       "      <td>0</td>\n",
       "      <td>4</td>\n",
       "    </tr>\n",
       "  </tbody>\n",
       "</table>\n",
       "<p>392 rows × 6 columns</p>\n",
       "</div>"
      ],
      "text/plain": [
       "                                      COMMENT_ID  \\\n",
       "0            z120djlhizeksdulo23mj5z52vjmxlhrk04   \n",
       "1              z133ibkihkmaj3bfq22rilaxmp2yt54nb   \n",
       "2          z12gxdortqzwhhqas04cfjrwituzghb5tvk0k   \n",
       "3    _2viQ_Qnc6_ZYkMn1fS805Z6oy8ImeO6pSjMLAlwYfM   \n",
       "4          z120s1agtmmetler404cifqbxzvdx15idtw0k   \n",
       "..                                           ...   \n",
       "387        z13pup2w2k3rz1lxl04cf1a5qzavgvv51vg0k   \n",
       "388          z13psdarpuzbjp1hh04cjfwgzonextlhf1w   \n",
       "389        z131xnwierifxxkj204cgvjxyo3oydb42r40k   \n",
       "390          z12pwrxj0kfrwnxye04cjxtqntycd1yia44   \n",
       "391          z13oxvzqrzvyit00322jwtjo2tzqylhof04   \n",
       "\n",
       "                              AUTHOR                        DATE  \\\n",
       "0               Murlock Nightcrawler  2015-05-24T07:04:29.844000   \n",
       "1    Debora Favacho (Debora Sparkle)  2015-05-21T14:08:41.338000   \n",
       "2               Muhammad Asim Mansha                         NaN   \n",
       "3                        mile panika  2013-11-03T14:39:42.248000   \n",
       "4                     Sheila Cenabre         2014-08-19T12:33:11   \n",
       "..                               ...                         ...   \n",
       "387                  geraldine lopez  2015-05-20T23:44:25.920000   \n",
       "388                       bilal bilo  2015-05-22T20:36:36.926000   \n",
       "389                    YULIOR ZAMORA         2014-09-10T01:35:54   \n",
       "390                      ‫ארז אריה‬‎  2015-05-15T19:46:53.719000   \n",
       "391                        Octavia W  2015-05-22T02:33:26.041000   \n",
       "\n",
       "                                               CONTENT  CLASS  VIDEO  \n",
       "0                                  Charlie from LOST?﻿      0      3  \n",
       "1                          BEST SONG EVER X3333333333﻿      0      4  \n",
       "2                       Aslamu Lykum... From Pakistan﻿      1      3  \n",
       "3    I absolutely adore watching football plus I’ve...      1      4  \n",
       "4    I really love this video.. http://www.bubblews...      1      1  \n",
       "..                                                 ...    ...    ...  \n",
       "387                         love the you lie the good﻿      0      3  \n",
       "388                                     I liked<br />﻿      0      4  \n",
       "389  I    loved        it           so       much  ...      0      1  \n",
       "390                                        good party﻿      0      2  \n",
       "391                                        Waka waka ﻿      0      4  \n",
       "\n",
       "[392 rows x 6 columns]"
      ]
     },
     "execution_count": 4,
     "metadata": {},
     "output_type": "execute_result"
    }
   ],
   "source": [
    "test_df"
   ]
  },
  {
   "cell_type": "markdown",
   "id": "8da84b0e-dd37-4fed-8d90-00fce20a55a0",
   "metadata": {},
   "source": [
    "As we can see the data contains the comment id, the author of the comment, the date, the content (the comment itself) and a class column that indicates if a comment is spam or ham.\n",
    "We will use the class column only in the test data set to illustrate the effectiveness of the active learning approach with *Rubrix*.\n",
    "For the training data set we simply ignore the column and assume that we are gathering training data from scratch."
   ]
  },
  {
   "cell_type": "markdown",
   "id": "aggregate-sheep",
   "metadata": {},
   "source": [
    "## 2. Defining our classifier and Active Learner"
   ]
  },
  {
   "cell_type": "markdown",
   "id": "cb60c8ff-9de7-40b1-8d30-90195bf4b1f0",
   "metadata": {},
   "source": [
    "For this tutorial we will use a multinomial Naive Bayes classifier that is suitable for classification with discrete features (e.g., word counts for text classification)."
   ]
  },
  {
   "cell_type": "code",
   "execution_count": 5,
   "id": "8c566ae1-57b6-4aae-9434-66fc5291c07e",
   "metadata": {},
   "outputs": [],
   "source": [
    "# Define our classification model\n",
    "classifier = MultinomialNB()"
   ]
  },
  {
   "cell_type": "markdown",
   "id": "cd97cae7-fa20-4962-9961-84c78bc687cf",
   "metadata": {},
   "source": [
    "Then we define our active learner that uses the classifier as an estimator of the most uncertain predictions."
   ]
  },
  {
   "cell_type": "code",
   "execution_count": 6,
   "id": "forward-pioneer",
   "metadata": {},
   "outputs": [],
   "source": [
    "# Define active learner\n",
    "learner = ActiveLearner(\n",
    "    estimator=classifier,\n",
    ")"
   ]
  },
  {
   "cell_type": "markdown",
   "id": "6b33c9f8-8b82-4b47-b4f0-82d882aeddf3",
   "metadata": {},
   "source": [
    "The features for our classifier will be the counts of different word [n-grams](https://en.wikipedia.org/wiki/N-gram).\n",
    "That is, for each example we count the number of contiguous sequences of *n* words, where n goes from 1 to 5.\n",
    "\n",
    "The output of this operation will be matrices of n-gram counts for our train and test data set, where each element in a row equals the counts of a specific word n-gram found in the example."
   ]
  },
  {
   "cell_type": "code",
   "execution_count": 7,
   "id": "c31d3512-a650-4a84-bbb0-1ea96b670397",
   "metadata": {},
   "outputs": [],
   "source": [
    "# The resulting matrices will have the shape of (`nr of examples`, `nr of word n-grams`)\n",
    "vectorizer = CountVectorizer(ngram_range=(1, 5))\n",
    "\n",
    "X_train = vectorizer.fit_transform(train_df.CONTENT)\n",
    "X_test = vectorizer.transform(test_df.CONTENT)"
   ]
  },
  {
   "cell_type": "markdown",
   "id": "ca0956c1-ee64-461c-8ee6-872270b019ba",
   "metadata": {},
   "source": [
    "## 3. Active Learning loop"
   ]
  },
  {
   "cell_type": "markdown",
   "id": "6e251118-6e38-496a-9c4d-d49f9fa67995",
   "metadata": {},
   "source": [
    "Now we can start our active learning loop that consists of iterating over following steps:\n",
    "\n",
    "1. Annotate samples\n",
    "2. Teach the active learner\n",
    "3. Plot the improvement (optional)\n",
    "\n",
    "Before starting the learning loop, let us define two variables:\n",
    "\n",
    "- the number of instances we want to annotate per iteration\n",
    "- and a variable to keep track of our improvements by recording the achieved accuracy after each iteration\n"
   ]
  },
  {
   "cell_type": "code",
   "execution_count": 8,
   "id": "c077443e-9746-46ab-9534-e8da0f7903b9",
   "metadata": {},
   "outputs": [],
   "source": [
    "# Number of instances we want to annotate per iteration\n",
    "n_instances = 10\n",
    "\n",
    "# Accuracies after each iteration to keep track of our improvement\n",
    "accuracies = []"
   ]
  },
  {
   "cell_type": "markdown",
   "id": "a69441bf-0347-4265-85c9-f6d87d37423f",
   "metadata": {},
   "source": [
    "### 1. Annotate samples\n",
    "\n",
    "The first step of the training loop is about annotating *n* examples that have the most uncertain prediction.\n",
    "In the first iteration these will be just random examples, since the classifier is still not trained and we do not have predictions yet."
   ]
  },
  {
   "cell_type": "code",
   "execution_count": 9,
   "id": "c9f752ee-7de0-4835-a42e-669941baf739",
   "metadata": {},
   "outputs": [
    {
     "data": {
      "text/plain": [
       "BulkResponse(dataset='active_learning_tutorial', processed=10, failed=0)"
      ]
     },
     "execution_count": 9,
     "metadata": {},
     "output_type": "execute_result"
    }
   ],
   "source": [
    "# query examples from our training pool with the most uncertain prediction\n",
    "query_idx, query_inst = learner.query(X_train, n_instances=n_instances)\n",
    "\n",
    "# get predictions for the queried examples\n",
    "try:\n",
    "    probs = learner.predict_proba(X_train[query_idx])\n",
    "# For the very first query we do not have any predictions\n",
    "except NotFittedError:\n",
    "    probs = [[0.5, 0.5]]*n_instances\n",
    "\n",
    "# Build the Rubrix records\n",
    "records = [\n",
    "    rb.TextClassificationRecord(\n",
    "        id=idx,\n",
    "        inputs=train_df.CONTENT.iloc[idx],\n",
    "        prediction=list(zip([\"HAM\", \"SPAM\"], [0.5, 0.5])),\n",
    "        prediction_agent=\"MultinomialNB\",\n",
    "    )\n",
    "    for idx in query_idx\n",
    "]\n",
    "\n",
    "# Log the records\n",
    "rb.log(records, name=\"active_learning_tutorial\")"
   ]
  },
  {
   "cell_type": "markdown",
   "id": "c26d6db1-e042-47e7-8c80-160c4d4cb1dd",
   "metadata": {},
   "source": [
    "After logging the records to *Rubrix* we switch over to the UI where we can find the newly logged examples in the `active_learning_tutorial` dataset.\n",
    "To only show the examples that are still missing an annotation, you can select \"Default\" in the *Status* filter as shown in the screenshot below.\n",
    "After annotating a few examples you can press the *Refresh* button in the upper right corner to update the view with respect to the filters.\n",
    "\n",
    "![screenshot of the status filter in the Rubrix UI](https://github.com/recognai/rubrix-materials/raw/main/tutorials/modal/modal1.png \"Filtering for the 'Default' status let's you display only examples that were not annotated yet.\")\n",
    "\n",
    "Once you are done annotating the examples, you can continue with the active learning loop."
   ]
  },
  {
   "cell_type": "markdown",
   "id": "162bad01-9d3d-4878-ab3e-cb3019ded296",
   "metadata": {},
   "source": [
    "### 2. Teach the learner\n",
    "\n",
    "The second step in the loop is to teach the learner.\n",
    "Once we trained our classifier with the newly annotated examples, we will apply the classifier to the test data and record the accuracy to keep track of our improvement."
   ]
  },
  {
   "cell_type": "code",
   "execution_count": null,
   "id": "c4b031e2-626d-40ec-ac0e-f53a722a7bc2",
   "metadata": {},
   "outputs": [],
   "source": [
    "# Load the annotated records into a pandas DataFrame\n",
    "records_df = rb.load(\"active_learning_tutorial\")\n",
    "\n",
    "# filter examples from the last annotation session\n",
    "idx = records_df.id.isin(query_idx)\n",
    "\n",
    "# check if all examples were annotated\n",
    "if any(records_df[idx].annotation.isna()):\n",
    "    raise UserWarning(\"Please annotate first all your samples before teaching the model\")\n",
    "\n",
    "# train the classifier with the newly annotated examples\n",
    "y_train = records_df[idx].annotation.map(lambda x: int(x[0] == \"SPAM\"))\n",
    "learner.teach(X=X_train[query_idx], y=y_train.to_list())\n",
    "    \n",
    "# Keep track of our improvement\n",
    "accuracies.append(learner.score(X=X_test, y=test_df.CLASS))"
   ]
  },
  {
   "cell_type": "markdown",
   "id": "eace5a52-07d6-4c98-b218-1c5673f1603c",
   "metadata": {},
   "source": [
    "Now go back to step 1 and repeat both steps a couple of times."
   ]
  },
  {
   "cell_type": "markdown",
   "id": "a83e109c-887e-44e6-89ac-3f78bf28680f",
   "metadata": {},
   "source": [
    "### 3. Plot the improvement (optional)\n",
    "\n",
    "After a few iterations we can check the current performance of our classifier by plotting the accuracies.\n",
    "If you think the performance can still be improved you can repeat step 1 and 2 and check the accuracy again."
   ]
  },
  {
   "cell_type": "code",
   "execution_count": 39,
   "id": "0b9da82f-a7ec-4fdc-8948-fee1b060d5b1",
   "metadata": {},
   "outputs": [
    {
     "data": {
      "image/png": "[encoded data removed]",
      "text/plain": [
       "<Figure size 432x288 with 1 Axes>"
      ]
     },
     "metadata": {
      "needs_background": "light"
     },
     "output_type": "display_data"
    }
   ],
   "source": [
    "# Plot the accuracy versus the iteration number\n",
    "plt.plot(accuracies)\n",
    "plt.xlabel(\"Number of iterations\")\n",
    "plt.ylabel(\"Accuracy\");"
   ]
  },
  {
   "cell_type": "markdown",
   "id": "2404b57b-21d4-46bc-90ad-fbb254122c70",
   "metadata": {},
   "source": [
    "## Summary\n",
    "\n",
    "In this tutorial we saw how to embed *Rubrix* in an active learning loop and how it can help you to gather a sample efficient data set by annotating only the most decisive examples.\n",
    "Here we created a rather minimalist active learning loop, but *Rubrix* does not really care about the complexity of the loop.\n",
    "It will always help you to record and annotate data examples with their model predictions, allowing you to quickly build up a data set from scratch. "
   ]
  },
  {
   "cell_type": "markdown",
   "id": "329b0d8d-6033-40cf-9b44-61e04e220ebe",
   "metadata": {},
   "source": [
    "## Next steps\n",
    "\n",
    "### 📚 [Rubrix documentation](https://docs.rubrix.ml) for more guides and tutorials.\n",
    "\n",
    "### 🙋‍♀️ Join the Rubrix community! A good place to start is the [discussion forum](https://github.com/recognai/rubrix/discussions).\n",
    "\n",
    "### ⭐ Rubrix [Github repo](https://github.com/recognai/rubrix) to stay updated."
   ]
  },
  {
   "cell_type": "markdown",
   "id": "2e670760-97ec-43bc-a140-a4d84705f45a",
   "metadata": {},
   "source": [
    "## Appendix: Compare query strategies, random vs max uncertainty\n",
    "\n",
    "In this appendix we quickly demonstrate the effectiveness of annotating only the most uncertain predictions compared to random annotations.\n",
    "So the next time you want to build a data set from scratch, keep this strategy in mind and maybe use *Rubrix* for the annotation process 😀."
   ]
  },
  {
   "cell_type": "code",
   "execution_count": null,
   "id": "bd7c94df-4431-4f14-b9db-e1aac359592d",
   "metadata": {},
   "outputs": [],
   "source": [
    "import numpy as np\n",
    "\n",
    "n_iterations = 150\n",
    "n_instances = 10\n",
    "random_samples = 50\n",
    "\n",
    "\n",
    "# max uncertainty strategy\n",
    "accuracies_max = []\n",
    "for i in range(random_samples):\n",
    "    train_rnd_df = train_df#.sample(frac=1)\n",
    "    test_rnd_df = test_df#.sample(frac=1)\n",
    "    X_rnd_train = vectorizer.transform(train_rnd_df.CONTENT)\n",
    "    X_rnd_test = vectorizer.transform(test_rnd_df.CONTENT)\n",
    "    \n",
    "    accuracies, learner = [], ActiveLearner(estimator=MultinomialNB())\n",
    "\n",
    "    for i in range(n_iterations):\n",
    "        query_idx, _ = learner.query(X_rnd_train, n_instances=n_instances)\n",
    "        learner.teach(X=X_rnd_train[query_idx], y=train_rnd_df.CLASS.iloc[query_idx].to_list())\n",
    "        accuracies.append(learner.score(X=X_rnd_test, y=test_rnd_df.CLASS))\n",
    "    accuracies_max.append(accuracies)\n",
    "\n",
    "# random strategy\n",
    "accuracies_rnd = []\n",
    "for i in range(random_samples):\n",
    "    accuracies, learner = [], ActiveLearner(estimator=MultinomialNB())\n",
    "    \n",
    "    for random_idx in np.random.choice(X_train.shape[0], size=(n_iterations, n_instances), replace=False):    \n",
    "        learner.teach(X=X_train[random_idx], y=train_df.CLASS.iloc[random_idx].to_list())\n",
    "        accuracies.append(learner.score(X=X_test, y=test_df.CLASS))\n",
    "    accuracies_rnd.append(accuracies)\n",
    "    \n",
    "arr_max, arr_rnd = np.array(accuracies_max), np.array(accuracies_rnd)"
   ]
  },
  {
   "cell_type": "code",
   "execution_count": null,
   "id": "f314b8b9-c0a4-41ce-8510-dd32d3046093",
   "metadata": {},
   "outputs": [
    {
     "data": {
      "text/plain": [
       "<matplotlib.legend.Legend at 0x7fa38aaaab20>"
      ]
     },
     "execution_count": null,
     "metadata": {},
     "output_type": "execute_result"
    },
    {
     "data": {
      "image/png": "[encoded data removed]",
      "text/plain": [
       "<Figure size 432x288 with 1 Axes>"
      ]
     },
     "metadata": {
      "needs_background": "light"
     },
     "output_type": "display_data"
    }
   ],
   "source": [
    "plt.plot(range(n_iterations), arr_max.mean(0))\n",
    "plt.fill_between(range(n_iterations), arr_max.mean(0)-arr_max.std(0), arr_max.mean(0)+arr_max.std(0), alpha=0.2)\n",
    "plt.plot(range(n_iterations), arr_rnd.mean(0))\n",
    "plt.fill_between(range(n_iterations), arr_rnd.mean(0)-arr_rnd.std(0), arr_rnd.mean(0)+arr_rnd.std(0), alpha=0.2)\n",
    "      \n",
    "plt.xlim(0,15)\n",
    "plt.title(\"Sampling strategies: Max uncertainty vs random\")\n",
    "plt.xlabel(\"Number of annotation iterations\")\n",
    "plt.ylabel(\"Accuracy\")\n",
    "plt.legend([\"max uncertainty\", \"random sampling\"], loc=4)"
   ]
  },
  {
   "cell_type": "markdown",
   "id": "57d0e6f2-daf6-402b-a751-6973b7305bc6",
   "metadata": {},
   "source": [
    "## Appendix: How did we obtain the train/test data?"
   ]
  },
  {
   "cell_type": "code",
   "execution_count": null,
   "id": "cedceecb-c8e5-419c-8406-3485686e57b1",
   "metadata": {},
   "outputs": [],
   "source": [
    "import pandas as pd\n",
    "from urllib import request\n",
    "from sklearn.model_selection import train_test_split\n",
    "from pathlib import Path\n",
    "from tempfile import TemporaryDirectory\n",
    "\n",
    "\n",
    "def load_data() -> pd.DataFrame:\n",
    "    \"\"\"\n",
    "    Downloads the [YouTube Spam Collection](http://www.dt.fee.unicamp.br/~tiago//youtubespamcollection/)\n",
    "    and returns the data as a tuple with a train and test DataFrame.\n",
    "    \"\"\"\n",
    "    links, data_df = [\n",
    "        \"http://lasid.sor.ufscar.br/labeling/datasets/9/download/\",\n",
    "        \"http://lasid.sor.ufscar.br/labeling/datasets/10/download/\",\n",
    "        \"http://lasid.sor.ufscar.br/labeling/datasets/11/download/\",\n",
    "        \"http://lasid.sor.ufscar.br/labeling/datasets/12/download/\",\n",
    "        \"http://lasid.sor.ufscar.br/labeling/datasets/13/download/\",\n",
    "    ], None\n",
    "    \n",
    "    with TemporaryDirectory() as tmpdirname:\n",
    "        dfs = []\n",
    "        for i, link in enumerate(links):\n",
    "            file = Path(tmpdirname) / f\"{i}.csv\"\n",
    "            request.urlretrieve(link, file)\n",
    "            df = pd.read_csv(file)\n",
    "            df[\"VIDEO\"] = i\n",
    "            dfs.append(df)\n",
    "        data_df = pd.concat(dfs).reset_index(drop=True)\n",
    "        \n",
    "    train_df, test_df = train_test_split(data_df, test_size=0.2, random_state=42)\n",
    "    \n",
    "    return train_df, test_df\n",
    "\n",
    "train_df, test_df = load_data()\n",
    "train_df.to_csv(\"data/active_learning/train.csv\", index=False)\n",
    "test_df.to_csv(\"data/active_learning/test.csv\", index=False)"
   ]
  }
 ],
 "metadata": {
  "kernelspec": {
   "display_name": "Python 3",
   "language": "python",
   "name": "python3"
  },
  "language_info": {
   "codemirror_mode": {
    "name": "ipython",
    "version": 3
   },
   "file_extension": ".py",
   "mimetype": "text/x-python",
   "name": "python",
   "nbconvert_exporter": "python",
   "pygments_lexer": "ipython3",
   "version": "3.8.5"
  },
  "toc-showcode": false,
  "toc-showmarkdowntxt": false,
  "toc-showtags": false
 },
 "nbformat": 4,
 "nbformat_minor": 5
}