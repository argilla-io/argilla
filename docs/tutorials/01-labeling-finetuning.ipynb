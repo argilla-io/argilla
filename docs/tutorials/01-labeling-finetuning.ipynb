{
 "cells": [
  {
   "cell_type": "markdown",
   "id": "d018ede1-93e5-44f7-a8b8-ea8436d063c1",
   "metadata": {},
   "source": [
    "# 🏷️ Label your data to fine-tune a classifier with Hugging Face\n",
    "\n",
    "In this tutorial, we'll build a sentiment classifier for user requests in the banking domain as follows:\n",
    "\n",
    "- 🏁 Start with the most popular sentiment classifier on the Hugging Face Hub (almost 4 million monthly downloads as of December 2021) which has been fine-tuned on the SST2 sentiment dataset. \n",
    "\n",
    "- 🏷️ Label a training dataset with banking user requests starting with the pre-trained sentiment classifier predictions.\n",
    "\n",
    "- ⚙️ Fine-tune the pre-trained classifier with your training dataset.\n",
    "\n",
    "- 🏷️ Label more data by correcting the predictions of the fine-tuned model.\n",
    "\n",
    "- ⚙️ Fine-tune the pre-trained classifier with the extended training dataset.\n",
    "\n",
    "## Introduction\n",
    "\n",
    "This tutorial will show you how to fine-tune a sentiment classifier for your own domain, starting with no labeled data.\n",
    "\n",
    "Most online tutorials about fine-tuning models assume you already have a training dataset. You'll find many tutorials for fine-tuning a pre-trained model with widely-used datasets, such as IMDB for sentiment analysis. \n",
    "\n",
    "However, very often **what you want is to fine-tune a model for your use case**. It's well-known that NLP model performance usually degrades with \"out-of-domain\" data. For example, a sentiment classifier pre-trained on movie reviews (e.g., IMDB) will not perform very well with customer requests.\n",
    "\n",
    "This is an overview of the workflow we'll be following:\n",
    "\n",
    "\n",
    "![Labeling workflow](../_static/tutorials/01-labeling-finetuning/workflow.svg \"Labeling workflow\")\n",
    "\n",
    "\n",
    "Let's get started!\n"
   ]
  },
  {
   "cell_type": "markdown",
   "id": "69321d8f-d3c4-4627-96ef-de416db75181",
   "metadata": {},
   "source": [
    "## Setup\n",
    "\n",
    "Rubrix, is a free and open-source tool to explore, annotate, and monitor data for NLP projects.\n",
    "\n",
    "If you are new to Rubrix, check out the [Github repository](https://github.com/recognai/rubrix) ⭐.\n",
    "\n",
    "If you have not installed and launched Rubrix, check the [Setup and Installation guide](../getting_started/setup&installation.rst).\n",
    "\n",
    "In this tutorial, we'll use the `transformers`, `datasets` and `sklearn` libraries. We'll also install `ipwidgets` for training progress bars."
   ]
  },
  {
   "cell_type": "code",
   "execution_count": null,
   "id": "a0991d97-a5e1-415b-9ae6-4df48e98a796",
   "metadata": {},
   "outputs": [],
   "source": [
    "%pip install transformers[torch] datasets sklearn ipywidgets -qqq"
   ]
  },
  {
   "cell_type": "markdown",
   "id": "2697c2cd-d6d1-45fb-97b6-2bf2b97d60c0",
   "metadata": {},
   "source": [
    "## Preliminaries\n",
    "\n",
    "\n",
    "For building our fine-tuned classifier we'll be using two main resources, both available in the 🤗 Hub :\n",
    "\n",
    "1. A **dataset** in the banking domain: [banking77](https://huggingface.co/datasets/banking77)\n",
    "\n",
    "2. A **pre-trained sentiment classifier**: [distilbert-base-uncased-finetuned-sst-2-english](https://huggingface.co/distilbert-base-uncased-finetuned-sst-2-english)\n",
    "\n",
    "### **Dataset**: `Banking 77`\n",
    "\n",
    "This dataset contains online banking user queries annotated with their corresponding intents. \n",
    "\n",
    "In our case, **we'll label the sentiment of these queries**. This might be useful for digital assistants and customer service analytics.\n",
    "\n",
    "\n",
    "Let's load the dataset directly from the hub and split the dataset into two 50% subsets. We'll start with the `to_label1` split for data exploration and annotation, and keep `to_label2` for further iterations."
   ]
  },
  {
   "cell_type": "code",
   "execution_count": null,
   "id": "73889eff-4214-4d49-bec9-816d5bf83175",
   "metadata": {},
   "outputs": [],
   "source": [
    "from datasets import load_dataset\n",
    "\n",
    "banking_ds = load_dataset(\"banking77\")\n",
    "\n",
    "to_label1, to_label2 = banking_ds['train'].train_test_split(test_size=0.5, seed=42).values()"
   ]
  },
  {
   "cell_type": "markdown",
   "id": "d1a7c761-0240-4d64-85e7-8f2a32882d26",
   "metadata": {},
   "source": [
    "### **Model**: sentiment `distilbert` fine-tuned on sst-2\n",
    "\n",
    "\n",
    "As of December 2021, the `distilbert-base-uncased-finetuned-sst-2-english` is in the top five of the most popular text-classification models in the [Hugging Face Hub](https://huggingface.co/models?pipeline_tag=text-classification).\n",
    "\n",
    "This model is a **distilbert model** fine-tuned on SST-2 (Stanford Sentiment Treebank), a highly popular sentiment classification benchmark.\n",
    "\n",
    "As we will see later, this is a general-purpose sentiment classifier, which will need further fine-tuning for specific use cases and styles of text. In our case, **we'll explore its quality on banking user queries and build a training set for adapting it to this domain**.\n",
    "\n",
    "Let's load the model and test it with an example from our dataset:"
   ]
  },
  {
   "cell_type": "code",
   "execution_count": 2,
   "id": "498b7a66-8554-43fb-9ae1-c6bed273158d",
   "metadata": {},
   "outputs": [
    {
     "data": {
      "text/plain": [
       "('Hi, Last week I have contacted the seller for a refund as directed by you, but i have not received the money yet. Please look into this issue with seller and help me in getting the refund.',\n",
       " [[{'label': 'NEGATIVE', 'score': 0.9934700727462769},\n",
       "   {'label': 'POSITIVE', 'score': 0.006529912818223238}]])"
      ]
     },
     "execution_count": 2,
     "metadata": {},
     "output_type": "execute_result"
    }
   ],
   "source": [
    "from transformers import pipeline\n",
    "\n",
    "sentiment_classifier = pipeline(\n",
    "    model=\"distilbert-base-uncased-finetuned-sst-2-english\",\n",
    "    task=\"sentiment-analysis\", \n",
    "    return_all_scores=True,\n",
    ")\n",
    "\n",
    "to_label1[3]['text'], sentiment_classifier(to_label1[3]['text']) "
   ]
  },
  {
   "cell_type": "markdown",
   "id": "72de2fa5-4128-4f79-8d23-bd171370ae8b",
   "metadata": {},
   "source": [
    "The model assigns more probability to the `NEGATIVE` class. Following our annotation policy (read more below), we'll label examples like this as `POSITIVE` as they are general questions, not related to issues or problems with the banking application. The ultimate goal will be to fine-tune the model to predict `POSITIVE` for these cases."
   ]
  },
  {
   "cell_type": "markdown",
   "id": "3742e35a-6afc-4aeb-8701-b0245cd77350",
   "metadata": {},
   "source": [
    "### A note on sentiment analysis and data annotation\n",
    "\n",
    "Sentiment analysis is one of the most subjective tasks in NLP. What we understand by sentiment will vary from one application to another and depend on the business objectives of the project. Also, sentiment can be modeled in different ways, leading to different **labeling schemes**. For example, sentiment can be modeled as real value (going from -1 to 1, from 0 to 1.0, etc.) or with 2 or more labels (including different degrees such as positive, negative, neutral, etc.)\n",
    "\n",
    "For this tutorial, we'll use the **original labeling scheme** defined by the pre-trained model which is composed of two labels: `POSITIVE` and `NEGATIVE`. We could have added the `NEUTRAL` label, but let's keep it simple. \n",
    "\n",
    "Another important issue when approaching a data annotaion project are the **annotation guidelines**, which explain how to assign the labels to specific examples. As we'll see later, the messages we'll be labeling are mostly questions with a neutral sentiment, which we'll label with the `POSITIVE` label, and some other are negative questions which we'll label with the `NEGATIVE` label. Later on, we'll show some examples of each label.\n",
    "\n"
   ]
  },
  {
   "cell_type": "markdown",
   "id": "dd871f0a-6056-4663-81f1-fc74a9cc03bb",
   "metadata": {},
   "source": [
    "## 1. Run the **pre-trained model** over the dataset and log the predictions\n",
    "\n",
    "As a first step, let's use the pre-trained model for predicting over our raw dataset. For this, we will use the handy `dataset.map` method from the `datasets` library.\n",
    "\n",
    "The following steps could be simplified by using the auto-monitor support for Hugging Face pipelines. You can find more details in the [Monitoring guide](../guides/monitoring.ipynb).\n",
    "\n",
    "![Predict-log workflow](../_static/tutorials/01-labeling-finetuning/predict_log.svg \"predict-log workflow\")\n"
   ]
  },
  {
   "cell_type": "markdown",
   "id": "5887a8a9-36a4-414a-b323-d66d0ca1fd36",
   "metadata": {},
   "source": [
    "### Predict"
   ]
  },
  {
   "cell_type": "code",
   "execution_count": null,
   "id": "dfdbab73-3316-47d5-8545-2cacbe076b05",
   "metadata": {},
   "outputs": [
    {
     "data": {
      "application/vnd.jupyter.widget-view+json": {
       "model_id": "f160a9b5e3b5409781a3c38d1c02065a",
       "version_major": 2,
       "version_minor": 0
      },
      "text/plain": [
       "  0%|          | 0/3 [00:00<?, ?ba/s]"
      ]
     },
     "metadata": {},
     "output_type": "display_data"
    }
   ],
   "source": [
    "def predict(examples):\n",
    "    return {\"predictions\": sentiment_classifier(examples['text'], truncation=True)}\n",
    "\n",
    "# add .select(range(10)) before map if you just want to test this quickly with 10 examples\n",
    "to_label1 = to_label1.map(predict, batched=True, batch_size=4) "
   ]
  },
  {
   "cell_type": "markdown",
   "id": "2aa97a9b-fbad-49b7-98bc-b13d1a1648cb",
   "metadata": {},
   "source": [
    "### Log\n",
    "\n",
    "The following code builds a list of Rubrix records with the predictions and logs them into a Rubrix Dataset. We'll use this dataset to explore and label our first training set."
   ]
  },
  {
   "cell_type": "code",
   "execution_count": null,
   "id": "c642e5cb-a96d-4bd2-b6f0-c36f7fa3bb65",
   "metadata": {},
   "outputs": [],
   "source": [
    "import rubrix as rb\n",
    "\n",
    "records = []\n",
    "for example in to_label1.shuffle():\n",
    "    record = rb.TextClassificationRecord(\n",
    "        inputs=example[\"text\"],\n",
    "        metadata={'category': example['label']}, # log the intents for exploration of specific intents\n",
    "        prediction=[(pred['label'], pred['score']) for pred in example['predictions']],\n",
    "        prediction_agent=\"distilbert-base-uncased-finetuned-sst-2-english\"\n",
    "    )\n",
    "    records.append(record)\n",
    "    \n",
    "rb.log(name='labeling_with_pretrained', records=records)"
   ]
  },
  {
   "cell_type": "markdown",
   "id": "5dc4a080-a8e0-4ccb-9252-a32af4849470",
   "metadata": {},
   "source": [
    "## 2. Explore and label data with the pretrained model\n",
    "\n",
    "In this step, we'll start by exploring how the pre-trained model is performing with our dataset. \n",
    "\n",
    "At first sight:\n",
    "\n",
    "- The pre-trained sentiment classifier tends to label most of the examples as `NEGATIVE` (4.835 of 5.001 records). You can see this yourself using the `Predictions / Predicted as:` filter\n",
    "\n",
    "- Using this filter and filtering by predicted as `POSITIVE`, we see that examples like \"*I didn't withdraw the amount of cash that is showing up in the app.*\" are not predicted as expected (according to our basic \"annotation policy\" described in the preliminaries).\n",
    "\n",
    "\n",
    "Taking into account this analysis, we can start labeling our data. \n",
    "\n",
    "![label workflow](../_static/tutorials/01-labeling-finetuning/label.svg \"label workflow\")\n",
    "\n",
    "Rubrix provides you with a search-driven UI to annotated data, using **free-text search**, **search filters** and **the Elasticsearch query DSL** for advanced queries. This is especially useful for sparse datasets, tasks with a high number of labels, or unbalanced classes. In the standard case, we recommend you to follow the workflow below:\n",
    "\n",
    "1. **Start labeling examples sequentially**, without using search features. This way you will annotate a fraction of your data which will be aligned with the dataset distribution.\n",
    "\n",
    "2. Once you have a sense of the data, you can **start using filters and search features to annotate examples with specific labels**. In our case, we'll label examples predicted as `POSITIVE` by our pre-trained model, and then a few examples predicted as `NEGATIVE`."
   ]
  },
  {
   "cell_type": "markdown",
   "id": "320bb3cf-f4ea-4f06-b7bc-d5fcd95c6e54",
   "metadata": {},
   "source": [
    "\n",
    "### Labeling **random** examples\n",
    "\n",
    "<video width=\"100%\" controls><source src=\"../_static/tutorials/01-labeling-finetuning/random_examples.mp4\" type=\"video/mp4\"></video>\n",
    "\n",
    "\n",
    "\n",
    "### Labeling **POSITIVE** examples"
   ]
  },
  {
   "cell_type": "markdown",
   "id": "2cc5b75c-40ff-46ff-8187-2709173e8bdf",
   "metadata": {},
   "source": [
    "<video width=\"100%\" controls><source src=\"../_static/tutorials/01-labeling-finetuning/positive_examples.mp4\" type=\"video/mp4\"></video>"
   ]
  },
  {
   "cell_type": "markdown",
   "id": "af186865-d609-491b-97ce-9a0417e70d0e",
   "metadata": {},
   "source": [
    "After some minutes, we've labelled almost **5% of our raw dataset with more than 200 annotated examples**, which is a small dataset but should be enough for a first fine-tuning of our banking sentiment classifier:"
   ]
  },
  {
   "cell_type": "markdown",
   "id": "6d83a1d6-9700-4f13-ad01-8ac1d00b1260",
   "metadata": {},
   "source": [
    "## 3. Fine-tune the pre-trained model\n",
    "\n",
    "In this step, we'll load our training set from Rubrix and fine-tune using the `Trainer` API from Hugging Face `transformers`. For this, we closely follow the guide [Fine-tuning a pre-trained model](https://huggingface.co/transformers/training.html#fine-tuning-a-pretrained-model) from the `transformers` docs.\n",
    "\n",
    "\n",
    "![finetune workflow](../_static/tutorials/01-labeling-finetuning/fine_tune.svg \"finetune workflow\")\n",
    "\n",
    "\n",
    "First, let's load the annotations from our dataset using the query parameter from the `load` method. The `Validated` status corresponds to annotated records."
   ]
  },
  {
   "cell_type": "code",
   "execution_count": 11,
   "id": "b1b331bd-e4e0-41b5-9370-28f8aac01aab",
   "metadata": {},
   "outputs": [
    {
     "data": {
      "text/html": [
       "<div>\n",
       "<style scoped>\n",
       "    .dataframe tbody tr th:only-of-type {\n",
       "        vertical-align: middle;\n",
       "    }\n",
       "\n",
       "    .dataframe tbody tr th {\n",
       "        vertical-align: top;\n",
       "    }\n",
       "\n",
       "    .dataframe thead th {\n",
       "        text-align: right;\n",
       "    }\n",
       "</style>\n",
       "<table border=\"1\" class=\"dataframe\">\n",
       "  <thead>\n",
       "    <tr style=\"text-align: right;\">\n",
       "      <th></th>\n",
       "      <th>inputs</th>\n",
       "      <th>prediction</th>\n",
       "      <th>annotation</th>\n",
       "      <th>prediction_agent</th>\n",
       "      <th>annotation_agent</th>\n",
       "      <th>multi_label</th>\n",
       "      <th>explanation</th>\n",
       "      <th>id</th>\n",
       "      <th>metadata</th>\n",
       "      <th>status</th>\n",
       "      <th>event_timestamp</th>\n",
       "      <th>metrics</th>\n",
       "    </tr>\n",
       "  </thead>\n",
       "  <tbody>\n",
       "    <tr>\n",
       "      <th>0</th>\n",
       "      <td>{'text': 'Why couldn't I make a withdrawal fro...</td>\n",
       "      <td>[(NEGATIVE, 0.9984630346298218), (POSITIVE, 0....</td>\n",
       "      <td>NEGATIVE</td>\n",
       "      <td>distilbert-base-uncased-finetuned-sst-2-english</td>\n",
       "      <td>rubrix</td>\n",
       "      <td>False</td>\n",
       "      <td>None</td>\n",
       "      <td>012e8ec1-2b3a-4efd-b593-4cbfc3fa4ec9</td>\n",
       "      <td>{'category': 26}</td>\n",
       "      <td>Validated</td>\n",
       "      <td>None</td>\n",
       "      <td>{}</td>\n",
       "    </tr>\n",
       "    <tr>\n",
       "      <th>1</th>\n",
       "      <td>{'text': 'Hi, Last week I have contacted the s...</td>\n",
       "      <td>[(NEGATIVE, 0.9934700727462769), (POSITIVE, 0....</td>\n",
       "      <td>NEGATIVE</td>\n",
       "      <td>distilbert-base-uncased-finetuned-sst-2-english</td>\n",
       "      <td>rubrix</td>\n",
       "      <td>False</td>\n",
       "      <td>None</td>\n",
       "      <td>102f02fa-1474-42b6-8025-5d0ae67d1d8c</td>\n",
       "      <td>{'category': 51}</td>\n",
       "      <td>Validated</td>\n",
       "      <td>None</td>\n",
       "      <td>{}</td>\n",
       "    </tr>\n",
       "    <tr>\n",
       "      <th>2</th>\n",
       "      <td>{'text': 'Why have I not received my PIN'}</td>\n",
       "      <td>[(NEGATIVE, 0.9959989786148071), (POSITIVE, 0....</td>\n",
       "      <td>NEGATIVE</td>\n",
       "      <td>distilbert-base-uncased-finetuned-sst-2-english</td>\n",
       "      <td>rubrix</td>\n",
       "      <td>False</td>\n",
       "      <td>None</td>\n",
       "      <td>40db49db-92e7-46b0-b23d-6888e0149f14</td>\n",
       "      <td>{'category': 38}</td>\n",
       "      <td>Validated</td>\n",
       "      <td>None</td>\n",
       "      <td>{}</td>\n",
       "    </tr>\n",
       "  </tbody>\n",
       "</table>\n",
       "</div>"
      ],
      "text/plain": [
       "                                              inputs  \\\n",
       "0  {'text': 'Why couldn't I make a withdrawal fro...   \n",
       "1  {'text': 'Hi, Last week I have contacted the s...   \n",
       "2         {'text': 'Why have I not received my PIN'}   \n",
       "\n",
       "                                          prediction annotation  \\\n",
       "0  [(NEGATIVE, 0.9984630346298218), (POSITIVE, 0....   NEGATIVE   \n",
       "1  [(NEGATIVE, 0.9934700727462769), (POSITIVE, 0....   NEGATIVE   \n",
       "2  [(NEGATIVE, 0.9959989786148071), (POSITIVE, 0....   NEGATIVE   \n",
       "\n",
       "                                  prediction_agent annotation_agent  \\\n",
       "0  distilbert-base-uncased-finetuned-sst-2-english           rubrix   \n",
       "1  distilbert-base-uncased-finetuned-sst-2-english           rubrix   \n",
       "2  distilbert-base-uncased-finetuned-sst-2-english           rubrix   \n",
       "\n",
       "   multi_label explanation                                    id  \\\n",
       "0        False        None  012e8ec1-2b3a-4efd-b593-4cbfc3fa4ec9   \n",
       "1        False        None  102f02fa-1474-42b6-8025-5d0ae67d1d8c   \n",
       "2        False        None  40db49db-92e7-46b0-b23d-6888e0149f14   \n",
       "\n",
       "           metadata     status event_timestamp metrics  \n",
       "0  {'category': 26}  Validated            None      {}  \n",
       "1  {'category': 51}  Validated            None      {}  \n",
       "2  {'category': 38}  Validated            None      {}  "
      ]
     },
     "execution_count": 11,
     "metadata": {},
     "output_type": "execute_result"
    }
   ],
   "source": [
    "rb_df = rb.load(name='labeling_with_pretrained', query=\"status:Validated\")\n",
    "rb_df.head()"
   ]
  },
  {
   "cell_type": "markdown",
   "id": "4300cd1e-0b11-4893-9918-aab365ecbb56",
   "metadata": {},
   "source": [
    "### Prepare training and test datasets"
   ]
  },
  {
   "cell_type": "markdown",
   "id": "6e56e5fc-de02-4a8d-8b1c-a397aee8382a",
   "metadata": {},
   "source": [
    "Let's now prepare our dataset for training and testing our sentiment classifier, using the `datasets` library:"
   ]
  },
  {
   "cell_type": "code",
   "execution_count": null,
   "id": "fdc7dab5-164b-4013-ba06-41c94cccc926",
   "metadata": {},
   "outputs": [],
   "source": [
    "from datasets import Dataset, Features, Value, ClassLabel\n",
    "from transformers import AutoTokenizer\n",
    "\n",
    "# select text input and the annotated label\n",
    "rb_df['text'] = rb_df.inputs.transform(lambda r: r['text'])\n",
    "rb_df['labels'] = rb_df.annotation\n",
    "\n",
    "ds = rb_df[['text', 'labels']].to_dict(orient='list')\n",
    "\n",
    "# create 🤗 dataset from pandas with labels as numeric ids\n",
    "train_ds = Dataset.from_dict(\n",
    "    ds, \n",
    "    features=Features({\n",
    "        \"text\": Value(\"string\"),\n",
    "        \"labels\": ClassLabel(names=list(rb_df.labels.unique()))\n",
    "    })\n",
    ")\n",
    "train_ds = train_ds.train_test_split(test_size=0.2) ; train_ds"
   ]
  },
  {
   "cell_type": "code",
   "execution_count": null,
   "id": "61f26f9a-f653-4418-8cec-c7081ecabfb3",
   "metadata": {},
   "outputs": [],
   "source": [
    "# tokenize our datasets\n",
    "tokenizer = AutoTokenizer.from_pretrained(\"distilbert-base-uncased-finetuned-sst-2-english\")\n",
    "\n",
    "def tokenize_function(examples):\n",
    "    return tokenizer(examples[\"text\"], padding=\"max_length\", truncation=True)\n",
    "\n",
    "train_dataset = train_ds['train'].map(tokenize_function, batched=True).shuffle(seed=42)\n",
    "eval_dataset = train_ds['test'].map(tokenize_function, batched=True).shuffle(seed=42)"
   ]
  },
  {
   "cell_type": "markdown",
   "id": "9c66f064-72f0-49a7-968c-eb5dd64eb697",
   "metadata": {},
   "source": [
    "### Train our sentiment classifier\n",
    "\n",
    "As we mentioned before, we're going to fine-tune the `distilbert-base-uncased-finetuned-sst-2-english` model. Another option will be fine-tuning a **distilbert masked language model** from scratch, but we leave this experiment to you.\n",
    "\n",
    "Let's load the model:"
   ]
  },
  {
   "cell_type": "code",
   "execution_count": null,
   "id": "90ea5cc1-f634-4c66-9150-eb0ec48c478f",
   "metadata": {},
   "outputs": [],
   "source": [
    "from transformers import AutoModelForSequenceClassification\n",
    "\n",
    "model = AutoModelForSequenceClassification.from_pretrained(\"distilbert-base-uncased-finetuned-sst-2-english\")"
   ]
  },
  {
   "cell_type": "markdown",
   "id": "58ba7321-832c-49f3-87c8-10a7d24fb0ef",
   "metadata": {},
   "source": [
    "Let's configure the **Trainer**:"
   ]
  },
  {
   "cell_type": "code",
   "execution_count": null,
   "id": "209c2fc4-78b2-43b0-8e19-2f2c899e2753",
   "metadata": {},
   "outputs": [],
   "source": [
    "import numpy as np\n",
    "from transformers import Trainer\n",
    "from datasets import load_metric\n",
    "from transformers import TrainingArguments\n",
    "\n",
    "training_args = TrainingArguments(\n",
    "    \"distilbert-base-uncased-sentiment-banking\", \n",
    "    evaluation_strategy=\"epoch\",\n",
    "    logging_steps=30\n",
    ")\n",
    "\n",
    "metric = load_metric(\"accuracy\")\n",
    "\n",
    "def compute_metrics(eval_pred):\n",
    "    logits, labels = eval_pred\n",
    "    predictions = np.argmax(logits, axis=-1)\n",
    "    return metric.compute(predictions=predictions, references=labels)\n",
    "\n",
    "trainer = Trainer(\n",
    "    args=training_args,\n",
    "    model=model, \n",
    "    train_dataset=train_dataset, \n",
    "    eval_dataset=eval_dataset, \n",
    "    compute_metrics=compute_metrics,\n",
    ")"
   ]
  },
  {
   "cell_type": "markdown",
   "id": "0828cc3e-9c2f-4a48-aa2f-bc141cb0b234",
   "metadata": {},
   "source": [
    "And finally, we can train our first model!"
   ]
  },
  {
   "cell_type": "code",
   "execution_count": null,
   "id": "db96ccd6-0a2b-4a1f-846d-588915f4dfef",
   "metadata": {},
   "outputs": [],
   "source": [
    "trainer.train()"
   ]
  },
  {
   "cell_type": "markdown",
   "id": "7703d9a4-bfce-466f-accc-65f65a784f2d",
   "metadata": {},
   "source": [
    "## 4. Testing the fine-tuned model\n",
    "\n",
    "In this step, let's first test the model we have just trained.\n",
    "\n",
    "Let's create a new pipeline with our model:"
   ]
  },
  {
   "cell_type": "code",
   "execution_count": null,
   "id": "b7aa3305-78bc-4316-a886-0c5b3e95d99d",
   "metadata": {},
   "outputs": [],
   "source": [
    "finetuned_sentiment_classifier = pipeline(\n",
    "    model=model.to(\"cpu\"),\n",
    "    tokenizer=tokenizer, \n",
    "    task=\"sentiment-analysis\", \n",
    "    return_all_scores=True\n",
    ")"
   ]
  },
  {
   "cell_type": "markdown",
   "id": "aa2d7669-63ac-42c3-a21c-b50958bdbc9e",
   "metadata": {},
   "source": [
    "Then, we can compare its predictions with the pre-trained model and an example:"
   ]
  },
  {
   "cell_type": "code",
   "execution_count": null,
   "id": "8cad3506-fa39-40f9-9dc5-99aaf23e7700",
   "metadata": {},
   "outputs": [],
   "source": [
    "finetuned_sentiment_classifier(\n",
    "    'I need to deposit my virtual card, how do i do that.'\n",
    "), sentiment_classifier(\n",
    "    'I need to deposit my virtual card, how do i do that.'\n",
    ")"
   ]
  },
  {
   "cell_type": "markdown",
   "id": "6f95827c-bee6-4488-b8ac-84b5c2ab9149",
   "metadata": {},
   "source": [
    "As you can see, our fine-tuned model now classifies this general questions (not related to issues or problems) as `POSITIVE`, while the pre-trained model still classifies this as `NEGATIVE`.\n",
    "\n",
    "Let's check now an example related to an issue where both models work as expected:"
   ]
  },
  {
   "cell_type": "code",
   "execution_count": null,
   "id": "3714da8c-f57b-4f04-8905-53e17a9ff130",
   "metadata": {},
   "outputs": [],
   "source": [
    "finetuned_sentiment_classifier(\n",
    "    'Why is my payment still pending?'\n",
    "), sentiment_classifier(\n",
    "    'Why is my payment still pending?'\n",
    ")"
   ]
  },
  {
   "cell_type": "markdown",
   "id": "cae254b5-5d48-4670-baca-7918bd0d15c7",
   "metadata": {},
   "source": [
    "## 5. Run our **fine-tuned model** over the dataset and log the predictions\n",
    "\n",
    "\n",
    "Let's now create a dataset from the remaining records (those which we haven't annotated in the first annotation session).\n",
    "\n",
    "We'll do this using the `Default` status, which means the record hasn't been assigned a label."
   ]
  },
  {
   "cell_type": "code",
   "execution_count": 21,
   "id": "62066df5-4900-4df0-b504-499bcea85955",
   "metadata": {},
   "outputs": [],
   "source": [
    "rb_df = rb.load(name='labeling_with_pretrained', query=\"status:Default\")\n",
    "rb_df['text'] = rb_df.inputs.transform(lambda r: r['text'])\n",
    "ds = Dataset.from_pandas(rb_df[['text']])"
   ]
  },
  {
   "cell_type": "markdown",
   "id": "69cea805-2a8b-4adc-af73-4d60130b84d6",
   "metadata": {},
   "source": [
    "From here, this is basically the same as step 1, in this case using our fine-tuned model:\n",
    "\n",
    "![Predict-log workflow](../_static/tutorials/01-labeling-finetuning/predict_log2.svg \"predict-log workflow\")"
   ]
  },
  {
   "cell_type": "code",
   "execution_count": 22,
   "id": "b387ffb2-35b0-42f5-b23a-c09074722838",
   "metadata": {},
   "outputs": [],
   "source": [
    "def predict(examples):\n",
    "    return {\"predictions\": finetuned_sentiment_classifier(examples['text'])}\n",
    "\n",
    "ds = ds.map(predict, batched=True, batch_size=8) "
   ]
  },
  {
   "cell_type": "code",
   "execution_count": null,
   "id": "55a373c8-fc54-4c78-8198-4163dd352dec",
   "metadata": {},
   "outputs": [],
   "source": [
    "records = []\n",
    "for example in ds.shuffle():\n",
    "    record = rb.TextClassificationRecord(\n",
    "        inputs=example[\"text\"],\n",
    "        prediction=[(pred['label'], pred['score']) for pred in example['predictions']],\n",
    "        prediction_agent=\"distilbert-base-uncased-banking77-sentiment\"\n",
    "    )\n",
    "    records.append(record)\n",
    "    \n",
    "rb.log(name='labeling_with_finetuned', records=records)"
   ]
  },
  {
   "cell_type": "markdown",
   "id": "632e1315-ee55-4c3c-a3d8-1d4f930f0d69",
   "metadata": {},
   "source": [
    "## 6. Explore and label data with the fine-tuned model\n",
    "\n",
    "\n",
    "In this step, we'll start by exploring how the fine-tuned model is performing with our dataset. \n",
    "\n",
    "At first sight, using the predicted as filter by `POSITIVE` and then by `NEGATIVE`, we can observe that the fine-tuned model predictions are more aligned with our \"annotation policy\".\n",
    "\n",
    "Now that the model is performing better for our use case, we'll extend our training set with highly informative examples. A typical workflow for doing this is as follows:\n",
    "\n",
    "1. Use the prediction score filter for labeling uncertain examples.\n",
    "\n",
    "2. Label examples predicted by our fine-tuned model as `POSITIVE` and then predicted as `NEGATIVE` to correct the predictions.\n",
    "\n",
    "After spending some minutes, we labelled almost **2% of our raw dataset with around 80 annotated examples**, which is a small dataset but hopefully with highly informative examples.\n",
    "\n"
   ]
  },
  {
   "cell_type": "markdown",
   "id": "b595c332-1d1d-4e15-a22c-7fcbb6556234",
   "metadata": {},
   "source": [
    "## 7. Fine-tuning with the extended training dataset\n",
    "\n",
    "In this step, we'll add the new examples to our training set and fine-tune a new version of our banking sentiment classifier.\n",
    "\n",
    "![Finetune workflow](../_static/tutorials/01-labeling-finetuning/fine_tune2.svg \"Finetune workflow\")\n",
    "\n",
    "\n",
    "\n",
    "### Adding labeled examples to our previous training set\n",
    "\n",
    "Let's add our new examples to our previous training set."
   ]
  },
  {
   "cell_type": "code",
   "execution_count": null,
   "id": "fafcf0ca-d86e-436e-9670-3680a9746531",
   "metadata": {},
   "outputs": [],
   "source": [
    "def prepare_train_df(dataset_name):\n",
    "    rb_df = rb.load(name=dataset_name)\n",
    "    rb_df = rb_df[rb_df.status == \"Validated\"] ; len(rb_df)\n",
    "    rb_df['text'] = rb_df.inputs.transform(lambda r: r['text'])\n",
    "    rb_df['labels'] = rb_df.annotation.transform(lambda r: r[0])\n",
    "    return rb_df\n",
    "\n",
    "df = prepare_train_df('labeling_with_finetuned')\n",
    "train_dataset = train_dataset.remove_columns('__index_level_0__')"
   ]
  },
  {
   "cell_type": "markdown",
   "id": "039c6a0d-2aaf-478e-a576-a1c5a0ee1d19",
   "metadata": {},
   "source": [
    "We'll use the [.add_item](https://huggingface.co/docs/datasets/package_reference/main_classes.html#datasets.Dataset.add_item) method from the `datasets` library to add our examples:"
   ]
  },
  {
   "cell_type": "code",
   "execution_count": null,
   "id": "ce9e243a-61e6-46b4-99e9-9c8617d55161",
   "metadata": {},
   "outputs": [],
   "source": [
    "for i,r in df.iterrows():\n",
    "    tokenization = tokenizer(r[\"text\"], padding=\"max_length\", truncation=True)\n",
    "    train_dataset = train_dataset.add_item({\n",
    "        \"attention_mask\": tokenization[\"attention_mask\"],\n",
    "        \"input_ids\": tokenization[\"input_ids\"],\n",
    "        \"labels\": label2id[r['labels']],\n",
    "        \"text\": r['text'],\n",
    "    })"
   ]
  },
  {
   "cell_type": "markdown",
   "id": "7fe83626-ebed-429d-95c3-42762548066d",
   "metadata": {},
   "source": [
    "### Training our sentiment classifier\n",
    "\n",
    "As we want to measure the effect of adding examples to our training set we will:\n",
    "\n",
    "- Fine-tune from the pre-trained sentiment weights (as we did before)\n",
    "- Use the previous test set and the extended train set (obtaining a metric we use to compare this new version with our previous model)\n"
   ]
  },
  {
   "cell_type": "code",
   "execution_count": null,
   "id": "26336d72-a6da-42ce-b254-3218e872bb4d",
   "metadata": {},
   "outputs": [],
   "source": [
    "from transformers import AutoModelForSequenceClassification\n",
    "model = AutoModelForSequenceClassification.from_pretrained(\"distilbert-base-uncased-finetuned-sst-2-english\")"
   ]
  },
  {
   "cell_type": "code",
   "execution_count": null,
   "id": "40586f10-53fd-4200-ba73-33901bc343df",
   "metadata": {},
   "outputs": [],
   "source": [
    "train_ds = train_dataset.shuffle(seed=42)\n",
    "\n",
    "trainer = Trainer(\n",
    "    args=training_args,\n",
    "    model=model, \n",
    "    train_dataset=train_dataset, \n",
    "    eval_dataset=eval_dataset, \n",
    "    compute_metrics=compute_metrics,\n",
    ")\n",
    "\n",
    "trainer.train()"
   ]
  },
  {
   "cell_type": "code",
   "execution_count": null,
   "id": "efe93720-5bd3-450a-a8c3-4ff2834623e6",
   "metadata": {},
   "outputs": [],
   "source": [
    "model.save_pretrained(\"distilbert-base-uncased-sentiment-banking\")"
   ]
  },
  {
   "cell_type": "markdown",
   "id": "529d3e6b-0684-47db-ab69-ff705945363f",
   "metadata": {},
   "source": [
    "## Summary\n",
    "\n",
    "In this tutorial, you learned how to build a training set from scratch with the help of a pre-trained model, performing two iterations of `predict` > `log` > `label`. \n",
    "\n",
    "Although this is somehow a toy example, you will be able to apply this workflow to your own projects to adapt existing models or building them from scratch. \n",
    "\n",
    "In this tutorial, we've covered one way of building training sets: **hand labeling**. If you are interested in other methods, which could be combined witth hand labeling, checkout the following:\n",
    "\n",
    "- [Building a news classifier with weak supervision](weak-supervision-with-rubrix.ipynb)\n",
    "- [Active learning with ModAL and scikit-learn](05-active_learning.ipynb)"
   ]
  },
  {
   "cell_type": "markdown",
   "id": "a625c698-1b6b-4e71-8077-1649de637fca",
   "metadata": {},
   "source": [
    "## Next steps\n",
    "\n",
    "### ⭐ Star Rubrix [Github repo](https://github.com/recognai/rubrix) to stay updated.\n",
    "\n",
    "### 📚 [Rubrix documentation](https://docs.rubrix.ml) for more guides and tutorials.\n",
    "\n",
    "### 🙋‍♀️ Join the Rubrix community! A good place to start is the [discussion forum](https://github.com/recognai/rubrix/discussions)."
   ]
  }
 ],
 "metadata": {
  "kernelspec": {
   "display_name": "Python 3",
   "language": "python",
   "name": "python3"
  },
  "language_info": {
   "codemirror_mode": {
    "name": "ipython",
    "version": 3
   },
   "file_extension": ".py",
   "mimetype": "text/x-python",
   "name": "python",
   "nbconvert_exporter": "python",
   "pygments_lexer": "ipython3",
   "version": "3.8.5"
  }
 },
 "nbformat": 4,
 "nbformat_minor": 5
}
