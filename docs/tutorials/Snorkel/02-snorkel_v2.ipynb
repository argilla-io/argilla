{
 "cells": [
  {
   "cell_type": "markdown",
   "id": "8adc4bf8",
   "metadata": {
    "tags": []
   },
   "source": [
    "# 🐙 Using Rubrix and Snorkel for human-in-the-loop weak supervision\n",
    "\n",
    "In this tutorial, we will walk through the process of using Rubrix to improve weak supervision and data programming workflows with the amazing Snorkel library.\n",
    "\n",
    "## Introduction\n",
    "\n",
    "**Our goal is to show you how you can incorporate Rubrix into data programming workflows** to programatically build training data with a human-in-the-loop approach. We will use the widely-known [Snorkel](https://www.snorkel.org/) library, but a similar approach can be used with other data augmentation libraries such as [Textattack](https://github.com/QData/TextAttack) or [nlpaug](https://github.com/makcedward/nlpaug).\n",
    "\n",
    "### What is weak supervision? and Snorkel?\n",
    "\n",
    "Weak supervision is a branch of machine learning based on getting lower quality labels more efficiently. We can achieve this by using Snorkel, a library for programmatically building and managing training datasets without manual labeling.\n",
    "\n",
    "### This tutorial\n",
    "\n",
    "In this tutorial, we will follow the [Spam classification tutorial](https://www.snorkel.org/use-cases/01-spam-tutorial) from Snorkel's documentation and show you how to extend weak supervision workflows with Rubrix. "
   ]
  },
  {
   "cell_type": "markdown",
   "id": "7c603d0a",
   "metadata": {},
   "source": [
    "The tutorial is organized into:\n",
    "\n",
    "1. **Spam classification with Snorkel**: we provide a brief overview of the tutorial\n",
    "\n",
    "2. **Extending and finding labeling functions with Rubrix**: we analyze different strategies for extending the proposed labeling functions and for exploring new labeling functions"
   ]
  },
  {
   "cell_type": "markdown",
   "id": "4691fd3e",
   "metadata": {},
   "source": [
    "## Install Snorkel, Textblob and spaCy"
   ]
  },
  {
   "cell_type": "code",
   "execution_count": 3,
   "id": "642e6e0f",
   "metadata": {},
   "outputs": [],
   "source": [
    "!pip install snorkel textblob spacy -qqq"
   ]
  },
  {
   "cell_type": "code",
   "execution_count": 5,
   "id": "0a2b7f3e",
   "metadata": {},
   "outputs": [
    {
     "name": "stdout",
     "output_type": "stream",
     "text": [
      "\u001b[38;5;2m✔ Download and installation successful\u001b[0m\n",
      "You can now load the package via spacy.load('en_core_web_sm')\n"
     ]
    }
   ],
   "source": [
    "!python -m spacy download en_core_web_sm -qqq"
   ]
  },
  {
   "cell_type": "markdown",
   "id": "4c074265",
   "metadata": {},
   "source": [
    "# 2. Spam classification with Snorkel\n",
    "\n",
    "Rubrix allows you to log and track data for different NLP tasks (such as `Token Classification` or `Text Classification`). \n",
    "\n",
    "In this tutorial, we will use the [YouTube Spam Collection](http://www.dt.fee.unicamp.br/~tiago//youtubespamcollection/) dataset which a binary classification task for detecting spam comments in youtube videos."
   ]
  },
  {
   "cell_type": "markdown",
   "id": "492ab15e",
   "metadata": {},
   "source": [
    "## The dataset\n",
    "\n",
    "We have 2 datasets, the training and the test. The first one does not include the label of the samples and it is set to -1. Something different happens with the test, where the label is set to 1 if it's considered SPAM and 0 for HAM.  \n",
    "\n",
    "Let's load it in Pandas and take a look!"
   ]
  },
  {
   "cell_type": "code",
   "execution_count": 1,
   "id": "636548d4",
   "metadata": {},
   "outputs": [
    {
     "data": {
      "text/html": [
       "<div>\n",
       "<style scoped>\n",
       "    .dataframe tbody tr th:only-of-type {\n",
       "        vertical-align: middle;\n",
       "    }\n",
       "\n",
       "    .dataframe tbody tr th {\n",
       "        vertical-align: top;\n",
       "    }\n",
       "\n",
       "    .dataframe thead th {\n",
       "        text-align: right;\n",
       "    }\n",
       "</style>\n",
       "<table border=\"1\" class=\"dataframe\">\n",
       "  <thead>\n",
       "    <tr style=\"text-align: right;\">\n",
       "      <th></th>\n",
       "      <th>Unnamed: 0</th>\n",
       "      <th>author</th>\n",
       "      <th>date</th>\n",
       "      <th>text</th>\n",
       "      <th>label</th>\n",
       "      <th>video</th>\n",
       "    </tr>\n",
       "  </thead>\n",
       "  <tbody>\n",
       "    <tr>\n",
       "      <th>0</th>\n",
       "      <td>0</td>\n",
       "      <td>Alessandro leite</td>\n",
       "      <td>2014-11-05T22:21:36</td>\n",
       "      <td>pls http://www10.vakinha.com.br/VaquinhaE.aspx...</td>\n",
       "      <td>-1.0</td>\n",
       "      <td>1</td>\n",
       "    </tr>\n",
       "    <tr>\n",
       "      <th>1</th>\n",
       "      <td>1</td>\n",
       "      <td>Salim Tayara</td>\n",
       "      <td>2014-11-02T14:33:30</td>\n",
       "      <td>if your like drones, plz subscribe to Kamal Ta...</td>\n",
       "      <td>-1.0</td>\n",
       "      <td>1</td>\n",
       "    </tr>\n",
       "    <tr>\n",
       "      <th>2</th>\n",
       "      <td>2</td>\n",
       "      <td>Phuc Ly</td>\n",
       "      <td>2014-01-20T15:27:47</td>\n",
       "      <td>go here to check the views :3﻿</td>\n",
       "      <td>-1.0</td>\n",
       "      <td>1</td>\n",
       "    </tr>\n",
       "    <tr>\n",
       "      <th>3</th>\n",
       "      <td>3</td>\n",
       "      <td>DropShotSk8r</td>\n",
       "      <td>2014-01-19T04:27:18</td>\n",
       "      <td>Came here to check the views, goodbye.﻿</td>\n",
       "      <td>-1.0</td>\n",
       "      <td>1</td>\n",
       "    </tr>\n",
       "    <tr>\n",
       "      <th>4</th>\n",
       "      <td>4</td>\n",
       "      <td>css403</td>\n",
       "      <td>2014-11-07T14:25:48</td>\n",
       "      <td>i am 2,126,492,636 viewer :D﻿</td>\n",
       "      <td>-1.0</td>\n",
       "      <td>1</td>\n",
       "    </tr>\n",
       "    <tr>\n",
       "      <th>...</th>\n",
       "      <td>...</td>\n",
       "      <td>...</td>\n",
       "      <td>...</td>\n",
       "      <td>...</td>\n",
       "      <td>...</td>\n",
       "      <td>...</td>\n",
       "    </tr>\n",
       "    <tr>\n",
       "      <th>1581</th>\n",
       "      <td>443</td>\n",
       "      <td>Themayerlife</td>\n",
       "      <td>NaN</td>\n",
       "      <td>Check out my mummy chanel!</td>\n",
       "      <td>-1.0</td>\n",
       "      <td>4</td>\n",
       "    </tr>\n",
       "    <tr>\n",
       "      <th>1582</th>\n",
       "      <td>444</td>\n",
       "      <td>Fill Reseni</td>\n",
       "      <td>2015-05-27T17:10:53.724000</td>\n",
       "      <td>The rap: cool     Rihanna: STTUUPID﻿</td>\n",
       "      <td>-1.0</td>\n",
       "      <td>4</td>\n",
       "    </tr>\n",
       "    <tr>\n",
       "      <th>1583</th>\n",
       "      <td>445</td>\n",
       "      <td>Greg Fils Aimé</td>\n",
       "      <td>NaN</td>\n",
       "      <td>I hope everyone is in good spirits I&amp;#39;m a h...</td>\n",
       "      <td>-1.0</td>\n",
       "      <td>4</td>\n",
       "    </tr>\n",
       "    <tr>\n",
       "      <th>1584</th>\n",
       "      <td>446</td>\n",
       "      <td>Lil M</td>\n",
       "      <td>NaN</td>\n",
       "      <td>Lil m !!!!! Check hi out!!!!! Does live the wa...</td>\n",
       "      <td>-1.0</td>\n",
       "      <td>4</td>\n",
       "    </tr>\n",
       "    <tr>\n",
       "      <th>1585</th>\n",
       "      <td>447</td>\n",
       "      <td>AvidorFilms</td>\n",
       "      <td>NaN</td>\n",
       "      <td>Please check out my youtube channel! Just uplo...</td>\n",
       "      <td>-1.0</td>\n",
       "      <td>4</td>\n",
       "    </tr>\n",
       "  </tbody>\n",
       "</table>\n",
       "<p>1586 rows × 6 columns</p>\n",
       "</div>"
      ],
      "text/plain": [
       "      Unnamed: 0            author                        date  \\\n",
       "0              0  Alessandro leite         2014-11-05T22:21:36   \n",
       "1              1      Salim Tayara         2014-11-02T14:33:30   \n",
       "2              2           Phuc Ly         2014-01-20T15:27:47   \n",
       "3              3      DropShotSk8r         2014-01-19T04:27:18   \n",
       "4              4            css403         2014-11-07T14:25:48   \n",
       "...          ...               ...                         ...   \n",
       "1581         443      Themayerlife                         NaN   \n",
       "1582         444       Fill Reseni  2015-05-27T17:10:53.724000   \n",
       "1583         445    Greg Fils Aimé                         NaN   \n",
       "1584         446             Lil M                         NaN   \n",
       "1585         447       AvidorFilms                         NaN   \n",
       "\n",
       "                                                   text  label  video  \n",
       "0     pls http://www10.vakinha.com.br/VaquinhaE.aspx...   -1.0      1  \n",
       "1     if your like drones, plz subscribe to Kamal Ta...   -1.0      1  \n",
       "2                        go here to check the views :3﻿   -1.0      1  \n",
       "3               Came here to check the views, goodbye.﻿   -1.0      1  \n",
       "4                         i am 2,126,492,636 viewer :D﻿   -1.0      1  \n",
       "...                                                 ...    ...    ...  \n",
       "1581                         Check out my mummy chanel!   -1.0      4  \n",
       "1582               The rap: cool     Rihanna: STTUUPID﻿   -1.0      4  \n",
       "1583  I hope everyone is in good spirits I&#39;m a h...   -1.0      4  \n",
       "1584  Lil m !!!!! Check hi out!!!!! Does live the wa...   -1.0      4  \n",
       "1585  Please check out my youtube channel! Just uplo...   -1.0      4  \n",
       "\n",
       "[1586 rows x 6 columns]"
      ]
     },
     "metadata": {},
     "output_type": "display_data"
    },
    {
     "data": {
      "text/html": [
       "<div>\n",
       "<style scoped>\n",
       "    .dataframe tbody tr th:only-of-type {\n",
       "        vertical-align: middle;\n",
       "    }\n",
       "\n",
       "    .dataframe tbody tr th {\n",
       "        vertical-align: top;\n",
       "    }\n",
       "\n",
       "    .dataframe thead th {\n",
       "        text-align: right;\n",
       "    }\n",
       "</style>\n",
       "<table border=\"1\" class=\"dataframe\">\n",
       "  <thead>\n",
       "    <tr style=\"text-align: right;\">\n",
       "      <th></th>\n",
       "      <th>Unnamed: 0</th>\n",
       "      <th>author</th>\n",
       "      <th>date</th>\n",
       "      <th>text</th>\n",
       "      <th>label</th>\n",
       "      <th>video</th>\n",
       "    </tr>\n",
       "  </thead>\n",
       "  <tbody>\n",
       "    <tr>\n",
       "      <th>0</th>\n",
       "      <td>27</td>\n",
       "      <td>‫حلم الشباب‬‎</td>\n",
       "      <td>2015-05-25T23:42:49.533000</td>\n",
       "      <td>Check out this video on YouTube:﻿</td>\n",
       "      <td>1</td>\n",
       "      <td>5</td>\n",
       "    </tr>\n",
       "    <tr>\n",
       "      <th>1</th>\n",
       "      <td>194</td>\n",
       "      <td>MOHAMED THASLEEM</td>\n",
       "      <td>2015-05-24T07:03:59.488000</td>\n",
       "      <td>super music﻿</td>\n",
       "      <td>0</td>\n",
       "      <td>5</td>\n",
       "    </tr>\n",
       "    <tr>\n",
       "      <th>2</th>\n",
       "      <td>277</td>\n",
       "      <td>AlabaGames</td>\n",
       "      <td>2015-05-22T00:31:43.922000</td>\n",
       "      <td>Subscribe my channel  I RECORDING FIFA 15 GOAL...</td>\n",
       "      <td>1</td>\n",
       "      <td>5</td>\n",
       "    </tr>\n",
       "    <tr>\n",
       "      <th>3</th>\n",
       "      <td>132</td>\n",
       "      <td>Manish Ray</td>\n",
       "      <td>2015-05-23T08:55:07.512000</td>\n",
       "      <td>This song is so beauty</td>\n",
       "      <td>0</td>\n",
       "      <td>5</td>\n",
       "    </tr>\n",
       "    <tr>\n",
       "      <th>4</th>\n",
       "      <td>163</td>\n",
       "      <td>Sudheer Yadav</td>\n",
       "      <td>2015-05-28T10:28:25.133000</td>\n",
       "      <td>SEE SOME MORE SONG OPEN GOOGLE AND TYPE Shakir...</td>\n",
       "      <td>1</td>\n",
       "      <td>5</td>\n",
       "    </tr>\n",
       "    <tr>\n",
       "      <th>...</th>\n",
       "      <td>...</td>\n",
       "      <td>...</td>\n",
       "      <td>...</td>\n",
       "      <td>...</td>\n",
       "      <td>...</td>\n",
       "      <td>...</td>\n",
       "    </tr>\n",
       "    <tr>\n",
       "      <th>245</th>\n",
       "      <td>32</td>\n",
       "      <td>GamezZ MTA</td>\n",
       "      <td>2015-05-09T00:08:26.185000</td>\n",
       "      <td>Pleas subscribe my channel﻿</td>\n",
       "      <td>1</td>\n",
       "      <td>5</td>\n",
       "    </tr>\n",
       "    <tr>\n",
       "      <th>246</th>\n",
       "      <td>176</td>\n",
       "      <td>Viv Varghese</td>\n",
       "      <td>2015-05-25T08:59:50.837000</td>\n",
       "      <td>The best FIFA world cup song for sure.﻿</td>\n",
       "      <td>0</td>\n",
       "      <td>5</td>\n",
       "    </tr>\n",
       "    <tr>\n",
       "      <th>247</th>\n",
       "      <td>314</td>\n",
       "      <td>yakikukamo FIRELOVER</td>\n",
       "      <td>2013-07-18T17:07:06.152000</td>\n",
       "      <td>hey you ! check out the channel of Alvar Lake !!</td>\n",
       "      <td>1</td>\n",
       "      <td>5</td>\n",
       "    </tr>\n",
       "    <tr>\n",
       "      <th>248</th>\n",
       "      <td>25</td>\n",
       "      <td>James Cook</td>\n",
       "      <td>2013-10-10T18:08:07.815000</td>\n",
       "      <td>Hello Guys...I Found a Way to Make Money Onlin...</td>\n",
       "      <td>1</td>\n",
       "      <td>5</td>\n",
       "    </tr>\n",
       "    <tr>\n",
       "      <th>249</th>\n",
       "      <td>11</td>\n",
       "      <td>Trulee IsNotAmazing</td>\n",
       "      <td>2013-09-07T14:18:22.601000</td>\n",
       "      <td>Beautiful song beautiful girl it works</td>\n",
       "      <td>0</td>\n",
       "      <td>5</td>\n",
       "    </tr>\n",
       "  </tbody>\n",
       "</table>\n",
       "<p>250 rows × 6 columns</p>\n",
       "</div>"
      ],
      "text/plain": [
       "     Unnamed: 0                author                        date  \\\n",
       "0            27         ‫حلم الشباب‬‎  2015-05-25T23:42:49.533000   \n",
       "1           194      MOHAMED THASLEEM  2015-05-24T07:03:59.488000   \n",
       "2           277            AlabaGames  2015-05-22T00:31:43.922000   \n",
       "3           132            Manish Ray  2015-05-23T08:55:07.512000   \n",
       "4           163         Sudheer Yadav  2015-05-28T10:28:25.133000   \n",
       "..          ...                   ...                         ...   \n",
       "245          32            GamezZ MTA  2015-05-09T00:08:26.185000   \n",
       "246         176          Viv Varghese  2015-05-25T08:59:50.837000   \n",
       "247         314  yakikukamo FIRELOVER  2013-07-18T17:07:06.152000   \n",
       "248          25            James Cook  2013-10-10T18:08:07.815000   \n",
       "249          11   Trulee IsNotAmazing  2013-09-07T14:18:22.601000   \n",
       "\n",
       "                                                  text  label  video  \n",
       "0                    Check out this video on YouTube:﻿      1      5  \n",
       "1                                         super music﻿      0      5  \n",
       "2    Subscribe my channel  I RECORDING FIFA 15 GOAL...      1      5  \n",
       "3                               This song is so beauty      0      5  \n",
       "4    SEE SOME MORE SONG OPEN GOOGLE AND TYPE Shakir...      1      5  \n",
       "..                                                 ...    ...    ...  \n",
       "245                        Pleas subscribe my channel﻿      1      5  \n",
       "246            The best FIFA world cup song for sure.﻿      0      5  \n",
       "247   hey you ! check out the channel of Alvar Lake !!      1      5  \n",
       "248  Hello Guys...I Found a Way to Make Money Onlin...      1      5  \n",
       "249             Beautiful song beautiful girl it works      0      5  \n",
       "\n",
       "[250 rows x 6 columns]"
      ]
     },
     "metadata": {},
     "output_type": "display_data"
    }
   ],
   "source": [
    "import pandas as pd\n",
    "df_train = pd.read_csv('yt_comments_train.csv')\n",
    "df_test = pd.read_csv('yt_comments_test.csv')\n",
    "display(df_train)\n",
    "display(df_test)"
   ]
  },
  {
   "cell_type": "markdown",
   "id": "e0e705fb",
   "metadata": {},
   "source": [
    "## Labeling functions\n",
    "\n",
    "Labeling functions (LFs) are heuristics that take a data point as input and assign a label to it or abstain (don’t assign any label).\n",
    "LFs are noisy (they might not have perfect accuracy) and don't have to label every data point.\n",
    "\n",
    "Some of the most common LFs rely on:\n",
    "\n",
    "- Keyword searches: looking for specific words in a sentence\n",
    "- Pattern matching: looking for specific syntactical patterns\n",
    "- Heuristics: slight improvements based on certain assumptions\n",
    "- Third-party models: using an pre-trained model (usually a model for a different task than the one at hand)\n",
    "- Distant supervision: using external knowledge base\n",
    "- Crowdworker labels: treating each crowdworker as a black-box function that assigns labels to subsets of the data\n",
    "\n",
    "More information can be found in the [Snorkel LFs tutorial](https://www.snorkel.org/use-cases/01-spam-tutorial#a-gentle-introduction-to-lfs)\n",
    "\n",
    "Let's see how we can use some of this methods to make LFs:"
   ]
  },
  {
   "cell_type": "code",
   "execution_count": 2,
   "id": "7637f7ff",
   "metadata": {},
   "outputs": [],
   "source": [
    "import re\n",
    "\n",
    "from snorkel.labeling import labeling_function, LabelingFunction\n",
    "from snorkel.labeling.lf.nlp import nlp_labeling_function\n",
    "from snorkel.preprocess import preprocessor\n",
    "from snorkel.preprocess.nlp import SpacyPreprocessor\n",
    "\n",
    "from textblob import TextBlob\n",
    "\n",
    "\n",
    "ABSTAIN = -1\n",
    "HAM = 0\n",
    "SPAM = 1\n",
    "\n",
    "# Keyword searches\n",
    "@labeling_function()\n",
    "def check(x):\n",
    "    return SPAM if \"check\" in x.text.lower() else ABSTAIN\n",
    "\n",
    "@labeling_function()\n",
    "def check_out(x):\n",
    "    return SPAM if \"check out\" in x.text.lower() else ABSTAIN\n",
    "\n",
    "# Heuristics\n",
    "@labeling_function()\n",
    "def short_comment(x):\n",
    "    \"\"\"Ham comments are often short, such as 'cool video!'\"\"\"\n",
    "    return HAM if len(x.text.split()) < 5 else ABSTAIN\n",
    "\n",
    "# List of keywords\n",
    "def keyword_lookup(x, keywords, label):\n",
    "    if any(word in x.text.lower() for word in keywords):\n",
    "        return label\n",
    "    return ABSTAIN\n",
    "\n",
    "def make_keyword_lf(keywords, label=SPAM):\n",
    "    return LabelingFunction(\n",
    "        name=f\"keyword_{keywords[0]}\",\n",
    "        f=keyword_lookup,\n",
    "        resources=dict(keywords=keywords, label=label),\n",
    "    )\n",
    "\n",
    "\"\"\"Spam comments talk about 'my channel', 'my video', etc.\"\"\"\n",
    "keyword_my = make_keyword_lf(keywords=[\"my\"])\n",
    "\n",
    "\"\"\"Spam comments ask users to subscribe to their channels.\"\"\"\n",
    "keyword_subscribe = make_keyword_lf(keywords=[\"subscribe\"])\n",
    "\n",
    "\"\"\"Spam comments post links to other channels.\"\"\"\n",
    "keyword_link = make_keyword_lf(keywords=[\"http\"])\n",
    "\n",
    "\"\"\"Spam comments make requests rather than commenting.\"\"\"\n",
    "keyword_please = make_keyword_lf(keywords=[\"please\", \"plz\"])\n",
    "\n",
    "\"\"\"Ham comments actually talk about the video's content.\"\"\"\n",
    "keyword_song = make_keyword_lf(keywords=[\"song\"], label=HAM)\n",
    "\n",
    "\n",
    "# Pattern matching with regex\n",
    "@labeling_function()\n",
    "def regex_check_out(x):\n",
    "    return SPAM if re.search(r\"check.*out\", x.text, flags=re.I) else ABSTAIN\n",
    "\n",
    "\n",
    "# Third party models (TextBlob and spaCy)\n",
    "# TextBlob\n",
    "@preprocessor(memoize=True)\n",
    "def textblob_sentiment(x):\n",
    "    scores = TextBlob(x.text)\n",
    "    x.polarity = scores.sentiment.polarity\n",
    "    x.subjectivity = scores.sentiment.subjectivity\n",
    "    return x\n",
    "\n",
    "@labeling_function(pre=[textblob_sentiment])\n",
    "def textblob_subjectivity(x):\n",
    "    return HAM if x.subjectivity >= 0.5 else ABSTAIN\n",
    "\n",
    "@labeling_function(pre=[textblob_sentiment])\n",
    "def textblob_polarity(x):\n",
    "    return HAM if x.polarity >= 0.9 else ABSTAIN\n",
    "\n",
    "# spaCy\n",
    "\n",
    "# There are two different methods to use spaCy:\n",
    "# Method 1:\n",
    "spacy = SpacyPreprocessor(text_field=\"text\", doc_field=\"doc\", memoize=True)\n",
    "\n",
    "@labeling_function(pre=[spacy])\n",
    "def has_person(x):\n",
    "    \"\"\"Ham comments mention specific people and are short.\"\"\"\n",
    "    if len(x.doc) < 20 and any([ent.label_ == \"PERSON\" for ent in x.doc.ents]):\n",
    "        return HAM\n",
    "    else:\n",
    "        return ABSTAIN\n",
    "    \n",
    "# Method 2:\n",
    "@nlp_labeling_function()\n",
    "def has_person_nlp(x):\n",
    "    \"\"\"Ham comments mention specific people.\"\"\"\n",
    "    if any([ent.label_ == \"PERSON\" for ent in x.doc.ents]):\n",
    "        return HAM\n",
    "    else:\n",
    "        return ABSTAIN"
   ]
  },
  {
   "cell_type": "code",
   "execution_count": 3,
   "id": "3f585ccf",
   "metadata": {},
   "outputs": [],
   "source": [
    "# List of labeling functions\n",
    "lfs = [\n",
    "    keyword_my,\n",
    "    keyword_subscribe,\n",
    "    keyword_link,\n",
    "    keyword_please,\n",
    "    keyword_song,\n",
    "    regex_check_out,\n",
    "    short_comment,\n",
    "    has_person_nlp,\n",
    "    textblob_polarity,\n",
    "    textblob_subjectivity,\n",
    "]"
   ]
  },
  {
   "cell_type": "markdown",
   "id": "ed889178",
   "metadata": {},
   "source": [
    "We have mentioned multiple functions that could be used to label our data, but we never gave a solution on how to deal with the overlap and conflicts. In this section, we will deal with this problem.  \n",
    "A simple baseline for doing this is to take the majority vote on a per-data point basis: if more LFs voted SPAM than HAM, label it SPAM (and vice versa). We can test this with the [MajorityLabelVoter](https://snorkel.readthedocs.io/en/master/packages/_autosummary/labeling/snorkel.labeling.model.baselines.MajorityLabelVoter.html#snorkel.labeling.model.baselines.MajorityLabelVoter) baseline model implemented in Snorkel.  \n",
    "The major inconvenience of this approach is that we defined rules that could be correlated, resulting in certain signals being overrepresented in a majority-vote-based model.  \n",
    "To handle this issue, we are going to make use of the LabelModel. You can read more about how it works in the [Snorkel tutorial](https://www.snorkel.org/use-cases/01-spam-tutorial#4-combining-labeling-function-outputs-with-the-label-model) and the [documentation](https://snorkel.readthedocs.io/en/master/packages/_autosummary/labeling/snorkel.labeling.model.label_model.LabelModel.html#snorkel.labeling.model.label_model.LabelModel)."
   ]
  },
  {
   "cell_type": "code",
   "execution_count": 4,
   "id": "75edc7ad",
   "metadata": {},
   "outputs": [
    {
     "name": "stderr",
     "output_type": "stream",
     "text": [
      "/home/javispp/miniconda3/envs/biome2/lib/python3.7/site-packages/tqdm/std.py:670: FutureWarning: The Panel class is removed from pandas. Accessing it from the top-level namespace will also be removed in the next version\n",
      "  from pandas import Panel\n",
      "100%|██████████| 1586/1586 [00:16<00:00, 96.11it/s] \n",
      "100%|██████████| 250/250 [00:02<00:00, 101.47it/s]\n",
      "/home/javispp/miniconda3/envs/biome2/lib/python3.7/site-packages/torch/autograd/__init__.py:132: UserWarning: CUDA initialization: Found no NVIDIA driver on your system. Please check that you have an NVIDIA GPU and installed a driver from http://www.nvidia.com/Download/index.aspx (Triggered internally at  /pytorch/c10/cuda/CUDAFunctions.cpp:100.)\n",
      "  allow_unreachable=True)  # allow_unreachable flag\n"
     ]
    },
    {
     "name": "stdout",
     "output_type": "stream",
     "text": [
      "Majority Vote Accuracy:   81.2%\n",
      "Label Model Accuracy:     86.4%\n"
     ]
    }
   ],
   "source": [
    "from snorkel.labeling import PandasLFApplier\n",
    "from snorkel.labeling.model import LabelModel\n",
    "\n",
    "# Apply LFs to datasets\n",
    "applier = PandasLFApplier(lfs=lfs)\n",
    "L_train = applier.apply(df=df_train)\n",
    "L_test = applier.apply(df=df_test)\n",
    "\n",
    "from snorkel.labeling.model import MajorityLabelVoter\n",
    "\n",
    "majority_model = MajorityLabelVoter()\n",
    "preds_train = majority_model.predict(L=L_train) # y_train labels\n",
    "Y_test = df_test.label.values # y_test labels\n",
    "\n",
    "label_model = LabelModel(cardinality=2, verbose=True) # cardinality = nº of classes\n",
    "label_model.fit(L_train=L_train, n_epochs=500, log_freq=100, seed=123)\n",
    "\n",
    "majority_acc = majority_model.score(L=L_test, Y=Y_test, tie_break_policy=\"random\")[\n",
    "    \"accuracy\"\n",
    "]\n",
    "print(f\"{'Majority Vote Accuracy:':<25} {majority_acc * 100:.1f}%\")\n",
    "\n",
    "label_model_acc = label_model.score(L=L_test, Y=Y_test, tie_break_policy=\"random\")[\n",
    "    \"accuracy\"\n",
    "]\n",
    "print(f\"{'Label Model Accuracy:':<25} {label_model_acc * 100:.1f}%\")"
   ]
  },
  {
   "cell_type": "markdown",
   "id": "5c336c06",
   "metadata": {},
   "source": [
    "# 2. Extending and finding labeling functions with Rubrix"
   ]
  },
  {
   "cell_type": "markdown",
   "id": "39e5cd8f",
   "metadata": {},
   "source": [
    "## Setup Rubrix\n",
    "\n",
    "[here we should point the user to the install and setup guide]\n",
    "\n",
    "And then show how to start with local or remote install.\n",
    "\n",
    "By default, rubrix will make a local initialization (as shown in the setup guide). If you want to specify an API url and key, you can pass that information via two environment variables: `RUBRIX_API_KEY` and `RUBRIX_API_URL`."
   ]
  },
  {
   "cell_type": "code",
   "execution_count": null,
   "id": "72fbb3b1",
   "metadata": {},
   "outputs": [],
   "source": [
    "import rubrix as rb\n",
    "\n",
    "rb.init()"
   ]
  },
  {
   "cell_type": "markdown",
   "id": "f7512797",
   "metadata": {},
   "source": [
    "### Exploring the training set with Rubrix for initial inspiration\n",
    "\n",
    "Rubrix lets you log and track data for different NLP tasks (such as *Token Classification* or *Text Classification*). \n",
    "\n",
    "First of all, we have to create the dataset and load it into rubrix"
   ]
  },
  {
   "cell_type": "code",
   "execution_count": 6,
   "id": "f329d7a5",
   "metadata": {},
   "outputs": [],
   "source": [
    "records= []\n",
    "\n",
    "for index, record in df_train.iterrows():     \n",
    "    item = rb.TextClassificationRecord(\n",
    "        id=index,\n",
    "        inputs={\"text\": record[\"text\"]},\n",
    "        metadata = {\n",
    "            \"textlen\": str(len(record.text)), \n",
    "            \"author\": record.author,\n",
    "            \"video\": str(record.video)\n",
    "        }\n",
    "    )\n",
    "    records.append(item)"
   ]
  },
  {
   "cell_type": "code",
   "execution_count": 7,
   "id": "ba181029",
   "metadata": {},
   "outputs": [
    {
     "data": {
      "text/plain": [
       "BulkResponse(dataset='yt_spam_snorkel', processed=1586, failed=0)"
      ]
     },
     "execution_count": 7,
     "metadata": {},
     "output_type": "execute_result"
    }
   ],
   "source": [
    "rb.log(records=records, name=\"yt_spam_snorkel\")"
   ]
  },
  {
   "cell_type": "markdown",
   "id": "e1ac76cd",
   "metadata": {},
   "source": [
    "Once we have it into rubrix, we can explore the data and the metadata we just added by pressing the \"view metadata\" button on the bottom right corner of each sample. Take a look at the following picture:\n",
    "\n",
    "<img src=\"metadata_view.png\">\n",
    "\n",
    "Now, we can explore the metadata by going to the top left. Let's say we want to check the different authors or inspect all the data with a specific one. By going to the author section, we can easily do all of this.\n",
    "\n",
    "<img src=\"metadata_author.png\">\n",
    "\n",
    "After applying the changes we should only see the comments that belong to the selected author. We can also add multiple conditions besides the name of the author, but we will keep it simple this time.  \n",
    "Another option is to use the top right search box to find samples that contain a certain word or a phrase (\"put inside parantheses\"). We will search for \"check\", since it is more likely that those comments are SPAM. \n",
    "\n",
    "<img src=\"search_check.png\">\n",
    "\n",
    "As we can see, the LF used before to label the samples with the word check as SPAM makes sense."
   ]
  },
  {
   "cell_type": "markdown",
   "id": "1b07bb25",
   "metadata": {},
   "source": [
    "An LF development cycle with Rubrix, could look like this:\n",
    "    \n",
    "1. Load dataset into Rubrix\n",
    "2. Explore data and write an initial version of an LF\n",
    "3. Spot check its performance by looking at its output on data points in the training set (or development set if available)\n",
    "4. Refine and debug to improve coverage or accuracy as necessary"
   ]
  },
  {
   "cell_type": "markdown",
   "id": "62268251",
   "metadata": {},
   "source": [
    "### Exploring and improving heuristic LFs\n",
    "\n",
    "We have already seen how to use keywords to label our data, the next step would be to use heuristics to do the labeling. A simple approach to this could be setting a minimum length to the comment, considering it SPAM if its length is lower than a threshold.  \n",
    "To use the right threshold we are going to explore our data in Rubrix by using the metadata field, similar to what we did before with the author selection."
   ]
  },
  {
   "cell_type": "code",
   "execution_count": 26,
   "id": "fd2efa2a",
   "metadata": {},
   "outputs": [],
   "source": [
    "records= []\n",
    "\n",
    "for index, record in df_train.iterrows():     \n",
    "    item = rb.TextClassificationRecord(\n",
    "        id=index,\n",
    "        inputs={\"text\": record[\"text\"]},\n",
    "        metadata = {\n",
    "            \"textlen\": str(len(record.text.split())), # Nº of 'words' in the sample\n",
    "        }\n",
    "    )\n",
    "    records.append(item)"
   ]
  },
  {
   "cell_type": "code",
   "execution_count": 27,
   "id": "8b212666",
   "metadata": {},
   "outputs": [
    {
     "data": {
      "text/plain": [
       "BulkResponse(dataset='yt_spam_snorkel_heuristic', processed=1586, failed=0)"
      ]
     },
     "execution_count": 27,
     "metadata": {},
     "output_type": "execute_result"
    }
   ],
   "source": [
    "rb.log(records=records, name=\"yt_spam_snorkel_heuristic\")"
   ]
  },
  {
   "cell_type": "markdown",
   "id": "69a0fbaf",
   "metadata": {},
   "source": [
    "For this example we will use a threshold of 20 'words'."
   ]
  },
  {
   "cell_type": "code",
   "execution_count": 4,
   "id": "75bb022f",
   "metadata": {},
   "outputs": [],
   "source": [
    "# this is for now the only LF we change\n",
    "@labeling_function()\n",
    "def short_comment_2(x):\n",
    "    \"\"\"Ham comments are often short, such as 'cool video!'\"\"\"\n",
    "    return HAM if len(x.text.split()) < 20 else ABSTAIN"
   ]
  },
  {
   "cell_type": "markdown",
   "id": "f7a1d420",
   "metadata": {},
   "source": [
    "### Writing Keyword LFs with Rubrix\n",
    "\n",
    "Now, we will use Rubrix to find improved LFs using lists of keywords."
   ]
  },
  {
   "cell_type": "code",
   "execution_count": 32,
   "id": "71c2bdd0",
   "metadata": {},
   "outputs": [],
   "source": [
    "records= []\n",
    "\n",
    "for index, record in df_train.iterrows():     \n",
    "    item = rb.TextClassificationRecord(\n",
    "        id=index,\n",
    "        inputs={\"text\": record[\"text\"]},\n",
    "    )\n",
    "    records.append(item)"
   ]
  },
  {
   "cell_type": "code",
   "execution_count": 33,
   "id": "def1f075",
   "metadata": {},
   "outputs": [
    {
     "data": {
      "text/plain": [
       "BulkResponse(dataset='yt_spam_snorkel_lfs', processed=1586, failed=0)"
      ]
     },
     "execution_count": 33,
     "metadata": {},
     "output_type": "execute_result"
    }
   ],
   "source": [
    "rb.log(records=records, name=\"yt_spam_snorkel_lfs\")"
   ]
  },
  {
   "cell_type": "code",
   "execution_count": 5,
   "id": "fb508f11",
   "metadata": {},
   "outputs": [],
   "source": [
    "\"\"\"Ham comments usually ask how something happened/is because they are interested.\"\"\"\n",
    "keyword_how = make_keyword_lf(keywords=[\"how\"], label=HAM)"
   ]
  },
  {
   "cell_type": "markdown",
   "id": "4a7d1642",
   "metadata": {},
   "source": [
    "### Exploring third-party models LFs with Rubrix\n",
    "\n",
    "\n",
    "#### Textblob\n",
    "\n",
    "Let's explore Textblob predictions on the training set with Rubrix:"
   ]
  },
  {
   "cell_type": "code",
   "execution_count": 27,
   "id": "6ea49a41",
   "metadata": {
    "scrolled": true,
    "tags": []
   },
   "outputs": [],
   "source": [
    "# TODO: I would check this part to work with confidence intervals once we can set the multilabel attribute\n",
    "# to True. Otherwise, we have to load the same dataset for each label\n",
    "from textblob import TextBlob\n",
    "\n",
    "records= []\n",
    "for index, record in df_train.iterrows():   \n",
    "    scores = TextBlob(record[\"text\"])\n",
    "    item = rb.TextClassificationRecord(\n",
    "        id=str(index),\n",
    "        inputs={\"text\": record[\"text\"]},\n",
    "        multi_label= False,\n",
    "        prediction=[(\"subjectivity\", max(0.0, scores.sentiment.subjectivity))],\n",
    "        #prediction=[(\"polarity\", max(0.0, scores.sentiment.polarity))],\n",
    "        prediction_agent=\"TextBlob\",\n",
    "        metadata = {\n",
    "            \"textlen\": str(len(record.text)), \n",
    "            \"author\": record.author,\n",
    "            \"video\": str(record.video)\n",
    "        }\n",
    "    )\n",
    "    \n",
    "    records.append(item)"
   ]
  },
  {
   "cell_type": "code",
   "execution_count": 28,
   "id": "9d336ee7",
   "metadata": {},
   "outputs": [
    {
     "data": {
      "text/plain": [
       "BulkResponse(dataset='yt_spam_snorkel_textblob', processed=1586, failed=0)"
      ]
     },
     "execution_count": 28,
     "metadata": {},
     "output_type": "execute_result"
    }
   ],
   "source": [
    "rb.log(records=records, name=\"yt_spam_snorkel_textblob\")"
   ]
  },
  {
   "cell_type": "markdown",
   "id": "3ebb68bf",
   "metadata": {},
   "source": [
    "Checking the dataset, we can filter our data based on the confidence of our classifier. This can help us since the predictions of our TextBlob tend to be SPAM the lower the subjectivity is. We can take advantage of this by filtering the predictions using intervals of confidence. For this example we are going to set a threshold of 0.56 for the subjectivity.  \n",
    "\n",
    "<img src=\"confidence_interval.png\">\n",
    "\n",
    "The same way we did it for subjectivity, we can do it for polarity. In this case we will set the threshold to 0.9.\n",
    "This comes in handy when we want to add restrictions on top of another. This time we won't go much deeper, but we could also use metadata or create more than what we have, in combination with the confidence, to have a better understanding of the data."
   ]
  },
  {
   "cell_type": "markdown",
   "id": "b04b83fb",
   "metadata": {},
   "source": [
    "Once we have our conclusions, we can proceed with creating the labeling functions using the thresholds for the confidence."
   ]
  },
  {
   "cell_type": "code",
   "execution_count": 6,
   "id": "246b2212",
   "metadata": {},
   "outputs": [],
   "source": [
    "from snorkel.preprocess import preprocessor\n",
    "from textblob import TextBlob\n",
    "\n",
    "\n",
    "@preprocessor(memoize=True)\n",
    "def textblob_sentiment(x):\n",
    "    scores = TextBlob(x.text)\n",
    "    x.polarity = scores.sentiment.polarity\n",
    "    x.subjectivity = scores.sentiment.subjectivity\n",
    "    return x\n",
    "\n",
    "@labeling_function(pre=[textblob_sentiment])\n",
    "def textblob_subjectivity(x):\n",
    "    return HAM if x.subjectivity >= 0.56 else ABSTAIN\n",
    "\n",
    "@labeling_function(pre=[textblob_sentiment])\n",
    "def textblob_polarity(x):\n",
    "    return HAM if x.polarity >= 0.9 else ABSTAIN"
   ]
  },
  {
   "cell_type": "markdown",
   "id": "a15c4185",
   "metadata": {},
   "source": [
    "#### spaCy"
   ]
  },
  {
   "cell_type": "markdown",
   "id": "2e3914cc",
   "metadata": {},
   "source": [
    "For this example, we will use spaCy for a token classification problem."
   ]
  },
  {
   "cell_type": "code",
   "execution_count": 8,
   "id": "b169d9fe",
   "metadata": {},
   "outputs": [],
   "source": [
    "import spacy\n",
    "\n",
    "nlp = spacy.load(\"en_core_web_sm\")"
   ]
  },
  {
   "cell_type": "code",
   "execution_count": null,
   "id": "3c6816f5",
   "metadata": {
    "tags": []
   },
   "outputs": [],
   "source": [
    "records = []\n",
    "for index, record in df_train[40:].iterrows():\n",
    "    doc = nlp(record[\"text\"])\n",
    "    item = rb.TokenClassificationRecord(\n",
    "        text=record[\"text\"],\n",
    "        tokens=[t.text for t in doc],\n",
    "        prediction=[(e.label_, e.start_char, e.end_char) for e in doc.ents],\n",
    "        prediction_agent=\"spacy\"\n",
    "    )\n",
    "    print(item)\n",
    "    rb.log(item, name=\"yt_spam_snorkel_spacy\")"
   ]
  },
  {
   "cell_type": "code",
   "execution_count": null,
   "id": "ee976f5b",
   "metadata": {
    "tags": []
   },
   "outputs": [],
   "source": [
    "rb.log(records, name=\"yt_spam_snorkel_spacy\")"
   ]
  },
  {
   "cell_type": "markdown",
   "id": "0dc655a4",
   "metadata": {},
   "source": [
    "It's time to explore Rubrix and see if there are some entities that are more common in the SPAM or HAM comments.\n",
    "\n",
    "<img src=\"spacy_ner.png\">"
   ]
  },
  {
   "cell_type": "markdown",
   "id": "5eb551e9",
   "metadata": {},
   "source": [
    "Exploring a bit the data, we will create a rule to predict as HAM if the sample has a PERSON entity in its text."
   ]
  },
  {
   "cell_type": "code",
   "execution_count": 7,
   "id": "4dfa64e6",
   "metadata": {},
   "outputs": [],
   "source": [
    "@nlp_labeling_function()\n",
    "def has_person_nlp(x):\n",
    "    \"\"\"Ham comments mention specific people and are short.\"\"\"\n",
    "    if any([ent.label_ == \"PERSON\" for ent in x.doc.ents]):\n",
    "        return HAM\n",
    "    else:\n",
    "        return ABSTAIN"
   ]
  },
  {
   "cell_type": "markdown",
   "id": "694dafdf",
   "metadata": {},
   "source": [
    "## 3. Using the Snorkel Label Model"
   ]
  },
  {
   "cell_type": "markdown",
   "id": "c7d344e8",
   "metadata": {},
   "source": [
    "Let's include the new LFs we created using Rubrix"
   ]
  },
  {
   "cell_type": "code",
   "execution_count": 38,
   "id": "048ede0d",
   "metadata": {},
   "outputs": [],
   "source": [
    "lfs = [\n",
    "    keyword_my,\n",
    "    keyword_subscribe,\n",
    "    keyword_link,\n",
    "    keyword_please,\n",
    "    keyword_song,\n",
    "    keyword_how,\n",
    "    regex_check_out,\n",
    "    short_comment,\n",
    "    short_comment_2,\n",
    "    has_person_nlp,\n",
    "    textblob_polarity,\n",
    "    textblob_subjectivity,\n",
    "]"
   ]
  },
  {
   "cell_type": "markdown",
   "id": "83c658a9",
   "metadata": {},
   "source": [
    "And apply it to our training and test datasets"
   ]
  },
  {
   "cell_type": "code",
   "execution_count": 39,
   "id": "2150b6b4",
   "metadata": {},
   "outputs": [
    {
     "name": "stderr",
     "output_type": "stream",
     "text": [
      "/home/javispp/miniconda3/envs/biome2/lib/python3.7/site-packages/tqdm/std.py:670: FutureWarning: The Panel class is removed from pandas. Accessing it from the top-level namespace will also be removed in the next version\n",
      "  from pandas import Panel\n",
      "100%|██████████| 1586/1586 [00:00<00:00, 6203.76it/s]\n",
      "100%|██████████| 250/250 [00:00<00:00, 6840.38it/s]\n"
     ]
    }
   ],
   "source": [
    "applier = PandasLFApplier(lfs=lfs)\n",
    "L_train = applier.apply(df=df_train)\n",
    "L_test = applier.apply(df=df_test)"
   ]
  },
  {
   "cell_type": "code",
   "execution_count": 40,
   "id": "a7c95ccd",
   "metadata": {},
   "outputs": [
    {
     "data": {
      "text/html": [
       "<div>\n",
       "<style scoped>\n",
       "    .dataframe tbody tr th:only-of-type {\n",
       "        vertical-align: middle;\n",
       "    }\n",
       "\n",
       "    .dataframe tbody tr th {\n",
       "        vertical-align: top;\n",
       "    }\n",
       "\n",
       "    .dataframe thead th {\n",
       "        text-align: right;\n",
       "    }\n",
       "</style>\n",
       "<table border=\"1\" class=\"dataframe\">\n",
       "  <thead>\n",
       "    <tr style=\"text-align: right;\">\n",
       "      <th></th>\n",
       "      <th>j</th>\n",
       "      <th>Polarity</th>\n",
       "      <th>Coverage</th>\n",
       "      <th>Overlaps</th>\n",
       "      <th>Conflicts</th>\n",
       "    </tr>\n",
       "  </thead>\n",
       "  <tbody>\n",
       "    <tr>\n",
       "      <th>keyword_my</th>\n",
       "      <td>0</td>\n",
       "      <td>[1]</td>\n",
       "      <td>0.198613</td>\n",
       "      <td>0.197352</td>\n",
       "      <td>0.174653</td>\n",
       "    </tr>\n",
       "    <tr>\n",
       "      <th>keyword_subscribe</th>\n",
       "      <td>1</td>\n",
       "      <td>[1]</td>\n",
       "      <td>0.127364</td>\n",
       "      <td>0.122951</td>\n",
       "      <td>0.106557</td>\n",
       "    </tr>\n",
       "    <tr>\n",
       "      <th>keyword_http</th>\n",
       "      <td>2</td>\n",
       "      <td>[1]</td>\n",
       "      <td>0.119168</td>\n",
       "      <td>0.116646</td>\n",
       "      <td>0.110971</td>\n",
       "    </tr>\n",
       "    <tr>\n",
       "      <th>keyword_please</th>\n",
       "      <td>3</td>\n",
       "      <td>[1]</td>\n",
       "      <td>0.112232</td>\n",
       "      <td>0.111602</td>\n",
       "      <td>0.095208</td>\n",
       "    </tr>\n",
       "    <tr>\n",
       "      <th>keyword_song</th>\n",
       "      <td>4</td>\n",
       "      <td>[0]</td>\n",
       "      <td>0.141866</td>\n",
       "      <td>0.135561</td>\n",
       "      <td>0.043506</td>\n",
       "    </tr>\n",
       "    <tr>\n",
       "      <th>keyword_how</th>\n",
       "      <td>5</td>\n",
       "      <td>[0]</td>\n",
       "      <td>0.036570</td>\n",
       "      <td>0.033417</td>\n",
       "      <td>0.012610</td>\n",
       "    </tr>\n",
       "    <tr>\n",
       "      <th>regex_check_out</th>\n",
       "      <td>6</td>\n",
       "      <td>[1]</td>\n",
       "      <td>0.233922</td>\n",
       "      <td>0.229508</td>\n",
       "      <td>0.213745</td>\n",
       "    </tr>\n",
       "    <tr>\n",
       "      <th>short_comment</th>\n",
       "      <td>7</td>\n",
       "      <td>[0]</td>\n",
       "      <td>0.225725</td>\n",
       "      <td>0.225725</td>\n",
       "      <td>0.074401</td>\n",
       "    </tr>\n",
       "    <tr>\n",
       "      <th>short_comment_2</th>\n",
       "      <td>8</td>\n",
       "      <td>[0]</td>\n",
       "      <td>0.810845</td>\n",
       "      <td>0.688525</td>\n",
       "      <td>0.372636</td>\n",
       "    </tr>\n",
       "    <tr>\n",
       "      <th>has_person_nlp</th>\n",
       "      <td>9</td>\n",
       "      <td>[0]</td>\n",
       "      <td>0.142497</td>\n",
       "      <td>0.138083</td>\n",
       "      <td>0.075662</td>\n",
       "    </tr>\n",
       "    <tr>\n",
       "      <th>textblob_polarity</th>\n",
       "      <td>10</td>\n",
       "      <td>[0]</td>\n",
       "      <td>0.035939</td>\n",
       "      <td>0.035939</td>\n",
       "      <td>0.005675</td>\n",
       "    </tr>\n",
       "    <tr>\n",
       "      <th>textblob_subjectivity</th>\n",
       "      <td>11</td>\n",
       "      <td>[0]</td>\n",
       "      <td>0.302648</td>\n",
       "      <td>0.295082</td>\n",
       "      <td>0.135561</td>\n",
       "    </tr>\n",
       "  </tbody>\n",
       "</table>\n",
       "</div>"
      ],
      "text/plain": [
       "                        j Polarity  Coverage  Overlaps  Conflicts\n",
       "keyword_my              0      [1]  0.198613  0.197352   0.174653\n",
       "keyword_subscribe       1      [1]  0.127364  0.122951   0.106557\n",
       "keyword_http            2      [1]  0.119168  0.116646   0.110971\n",
       "keyword_please          3      [1]  0.112232  0.111602   0.095208\n",
       "keyword_song            4      [0]  0.141866  0.135561   0.043506\n",
       "keyword_how             5      [0]  0.036570  0.033417   0.012610\n",
       "regex_check_out         6      [1]  0.233922  0.229508   0.213745\n",
       "short_comment           7      [0]  0.225725  0.225725   0.074401\n",
       "short_comment_2         8      [0]  0.810845  0.688525   0.372636\n",
       "has_person_nlp          9      [0]  0.142497  0.138083   0.075662\n",
       "textblob_polarity      10      [0]  0.035939  0.035939   0.005675\n",
       "textblob_subjectivity  11      [0]  0.302648  0.295082   0.135561"
      ]
     },
     "execution_count": 40,
     "metadata": {},
     "output_type": "execute_result"
    }
   ],
   "source": [
    "from snorkel.labeling import LFAnalysis\n",
    "\n",
    "LFAnalysis(L=L_train, lfs=lfs).lf_summary()"
   ]
  },
  {
   "cell_type": "code",
   "execution_count": 41,
   "id": "f316b104",
   "metadata": {},
   "outputs": [],
   "source": [
    "from snorkel.labeling.model import MajorityLabelVoter\n",
    "\n",
    "majority_model = MajorityLabelVoter()\n",
    "preds_train = majority_model.predict(L=L_train) # y_train labels\n",
    "Y_test = df_test.label.values # y_test labels"
   ]
  },
  {
   "cell_type": "code",
   "execution_count": 42,
   "id": "45d3d307",
   "metadata": {},
   "outputs": [],
   "source": [
    "from snorkel.labeling.model import LabelModel\n",
    "\n",
    "label_model = LabelModel(cardinality=2, verbose=True) # cardinality = nº of classes\n",
    "label_model.fit(L_train=L_train, n_epochs=500, log_freq=100, seed=123)"
   ]
  },
  {
   "cell_type": "code",
   "execution_count": 43,
   "id": "31974b2e",
   "metadata": {},
   "outputs": [
    {
     "name": "stdout",
     "output_type": "stream",
     "text": [
      "Majority Vote Accuracy:   75.6%\n",
      "Label Model Accuracy:     89.6%\n"
     ]
    }
   ],
   "source": [
    "from snorkel.labeling.model import LabelModel\n",
    "\n",
    "label_model = LabelModel(cardinality=2, verbose=True) # cardinality = nº of classes\n",
    "label_model.fit(L_train=L_train, n_epochs=500, log_freq=100, seed=123)\n",
    "\n",
    "majority_acc = majority_model.score(L=L_test, Y=Y_test, tie_break_policy=\"random\")[\n",
    "    \"accuracy\"\n",
    "]\n",
    "print(f\"{'Majority Vote Accuracy:':<25} {majority_acc * 100:.1f}%\")\n",
    "\n",
    "label_model_acc = label_model.score(L=L_test, Y=Y_test, tie_break_policy=\"random\")[\n",
    "    \"accuracy\"\n",
    "]\n",
    "print(f\"{'Label Model Accuracy:':<25} {label_model_acc * 100:.1f}%\")"
   ]
  },
  {
   "cell_type": "markdown",
   "id": "d289f49d",
   "metadata": {},
   "source": [
    "As we can see, the LabelModel outperforms the basic MajorityLabelVoter configuration."
   ]
  },
  {
   "cell_type": "markdown",
   "id": "61483945",
   "metadata": {},
   "source": [
    "#### Filtering unlabeled data\n",
    "\n",
    "The method we saw above, has a small inconvenience, our data can receive no prediction (predicted as ABSTAIN) from any of our LFs. Those cases with no label (labeled as ABSTAIN) will be removed from the training dataset using a [built-in utility](https://snorkel.readthedocs.io/en/master/packages/_autosummary/labeling/snorkel.labeling.filter_unlabeled_dataframe.html#snorkel.labeling.filter_unlabeled_dataframe)."
   ]
  },
  {
   "cell_type": "code",
   "execution_count": 44,
   "id": "d482a3dd",
   "metadata": {},
   "outputs": [],
   "source": [
    "from snorkel.labeling import filter_unlabeled_dataframe\n",
    "\n",
    "df_train_filtered, probs_train_filtered = filter_unlabeled_dataframe(\n",
    "    X=df_train,\n",
    "    y=label_model.predict_proba(L_train), # Probabilities of each data point for each class\n",
    "    L=L_train\n",
    ")"
   ]
  },
  {
   "cell_type": "markdown",
   "id": "73aeabe0",
   "metadata": {},
   "source": [
    "Now that we have our data, we can explore the results in Rubrix and manually relabel those cases that have been wrongly classified or keep exploring the performance of our LFs."
   ]
  },
  {
   "cell_type": "code",
   "execution_count": null,
   "id": "b7207be0",
   "metadata": {
    "scrolled": true,
    "tags": []
   },
   "outputs": [],
   "source": [
    "records = []\n",
    "i=0\n",
    "for index, record in df_train_filtered.iterrows():   \n",
    "    item = rb.TextClassificationRecord(\n",
    "        id=str(index),\n",
    "        inputs={\"text\": record[\"text\"]},\n",
    "        multilabel=True,\n",
    "        # our confidences/scores come from probs_train_filtered\n",
    "        # probs_train_filtered[i][j] is the probability the sample i belongs to class j\n",
    "        prediction=[(\"HAM\", probs_train_filtered[i][0]),   # 0 for HAM\n",
    "                    (\"SPAM\", probs_train_filtered[i][1])], # 1 for SPAM\n",
    "        prediction_agent=\"LabelModel\",\n",
    "        metadata = {\n",
    "            \"textlen\": str(len(record.text)), \n",
    "            \"author\": record.author,\n",
    "            \"video\": str(record.video)\n",
    "        }\n",
    "    )\n",
    "    records.append(item)\n",
    "    i+=1"
   ]
  },
  {
   "cell_type": "code",
   "execution_count": null,
   "id": "af5d44f7",
   "metadata": {},
   "outputs": [],
   "source": [
    "rb.log(records=records, name=\"yt_filtered_classified_sample\")"
   ]
  },
  {
   "cell_type": "markdown",
   "id": "56c514ec",
   "metadata": {},
   "source": [
    "To relabel the data we switch into the annotation mode by pressing the bottom right button in the rubrix UI. \n",
    "After that, we can simply click on the label for each sample and it will be marked as a \"validated sample\"."
   ]
  },
  {
   "cell_type": "markdown",
   "id": "ecddf51a",
   "metadata": {},
   "source": [
    "## 4. Train a classifier and explore its predictions\n",
    "\n",
    "The last thing we can do with our data is training a classifier using some of the most popular libraries such as Scikit-learn, Tensorflow or Pytorch. For simplicity, we will use Scikit-learn, a well known library in ML.  \n",
    "We recommend checking [biome.txt](https://www.recogn.ai/biome-text/), a simple and powerful tool for NLP problems, developed by the same team behind Rubrix."
   ]
  },
  {
   "cell_type": "code",
   "execution_count": 45,
   "id": "0995a204",
   "metadata": {},
   "outputs": [],
   "source": [
    "from sklearn.feature_extraction.text import CountVectorizer\n",
    "\n",
    "vectorizer = CountVectorizer(ngram_range=(1, 5)) # Bag Of Words (BoW) with n-grams\n",
    "X_train = vectorizer.fit_transform(df_train_filtered.text.tolist())\n",
    "X_test = vectorizer.transform(df_test.text.tolist())"
   ]
  },
  {
   "cell_type": "markdown",
   "id": "1c079a65",
   "metadata": {},
   "source": [
    "Since we need to tell the model the class for each sample, and we have probabilities, we can assign to each sample the class with the highest probability."
   ]
  },
  {
   "cell_type": "code",
   "execution_count": 46,
   "id": "ef48b0cb",
   "metadata": {},
   "outputs": [],
   "source": [
    "from snorkel.utils import probs_to_preds\n",
    "\n",
    "preds_train_filtered = probs_to_preds(probs=probs_train_filtered)"
   ]
  },
  {
   "cell_type": "markdown",
   "id": "5c39242e",
   "metadata": {},
   "source": [
    "And then build the classifier"
   ]
  },
  {
   "cell_type": "code",
   "execution_count": 47,
   "id": "f98cdac1",
   "metadata": {},
   "outputs": [
    {
     "data": {
      "text/plain": [
       "LogisticRegression(C=1000.0, solver='liblinear')"
      ]
     },
     "execution_count": 47,
     "metadata": {},
     "output_type": "execute_result"
    }
   ],
   "source": [
    "from sklearn.linear_model import LogisticRegression\n",
    "\n",
    "sklearn_model = LogisticRegression(C=1e3, solver=\"liblinear\")\n",
    "sklearn_model.fit(X=X_train, y=preds_train_filtered)"
   ]
  },
  {
   "cell_type": "code",
   "execution_count": 48,
   "id": "2027bc11",
   "metadata": {},
   "outputs": [
    {
     "name": "stdout",
     "output_type": "stream",
     "text": [
      "Test Accuracy: 91.2%\n"
     ]
    }
   ],
   "source": [
    "print(f\"Test Accuracy: {sklearn_model.score(X=X_test, y=Y_test) * 100:.1f}%\")"
   ]
  },
  {
   "cell_type": "markdown",
   "id": "afa2c93c",
   "metadata": {},
   "source": [
    "Let's see how our new model performs:"
   ]
  },
  {
   "cell_type": "code",
   "execution_count": null,
   "id": "93e5f329",
   "metadata": {},
   "outputs": [],
   "source": [
    "records = []\n",
    "for index, record in df_train_filtered.iterrows(): \n",
    "    preds=sklearn_model.predict_proba(vectorizer.transform([record[\"text\"]]))\n",
    "    item = rb.TextClassificationRecord(\n",
    "        id=str(index),\n",
    "        inputs={\"text\": record[\"text\"]},\n",
    "        multilabel=True,\n",
    "        prediction=[(\"HAM\", preds[0]),   # 0 for HAM\n",
    "                    (\"SPAM\", preds[1])], # 1 for SPAM\n",
    "        prediction_agent=\"MyModel\",\n",
    "    )\n",
    "    records.append(item)"
   ]
  },
  {
   "cell_type": "code",
   "execution_count": null,
   "id": "1d5ac8a7",
   "metadata": {},
   "outputs": [],
   "source": [
    "rb.log(records=records, name=\"yt_my_model_performance\")"
   ]
  },
  {
   "cell_type": "markdown",
   "id": "e8d9446a",
   "metadata": {},
   "source": [
    "Last but not least, we will show a simple model for text classification using biome.text."
   ]
  },
  {
   "cell_type": "code",
   "execution_count": null,
   "id": "b38e5895",
   "metadata": {},
   "outputs": [],
   "source": [
    "!pip install -U biome-text"
   ]
  },
  {
   "cell_type": "markdown",
   "id": "e749f9d6",
   "metadata": {},
   "source": [
    "But first, let's use the original name for the labels instead of numbers"
   ]
  },
  {
   "cell_type": "code",
   "execution_count": 49,
   "id": "ebcf479e",
   "metadata": {},
   "outputs": [],
   "source": [
    "# Change the label column to the class the sample belongs (HAM or SPAM)\n",
    "df_test[\"label\"] = df_test[\"label\"].apply(lambda x: \"SPAM\" if x==1 else \"HAM\")"
   ]
  },
  {
   "cell_type": "code",
   "execution_count": null,
   "id": "c707c59a",
   "metadata": {},
   "outputs": [],
   "source": [
    "# Change the label column to the class the sample belongs (HAM or SPAM) according to our LFs\n",
    "df_train_filtered[\"label\"] = list(map(lambda x: \"SPAM\" if x==1 else \"HAM\", preds_train_filtered))"
   ]
  },
  {
   "cell_type": "code",
   "execution_count": 51,
   "id": "a983d99b",
   "metadata": {
    "scrolled": true,
    "tags": []
   },
   "outputs": [
    {
     "data": {
      "application/vnd.jupyter.widget-view+json": {
       "model_id": "d1194d6c8bfe443898dd14957ef8343d",
       "version_major": 2,
       "version_minor": 0
      },
      "text/plain": [
       "HBox(children=(FloatProgress(value=0.0, description='Loading instances', max=1567.0, style=ProgressStyle(descr…"
      ]
     },
     "metadata": {},
     "output_type": "display_data"
    },
    {
     "name": "stdout",
     "output_type": "stream",
     "text": [
      "\n"
     ]
    },
    {
     "data": {
      "application/vnd.jupyter.widget-view+json": {
       "model_id": "0cb2f02255f14a23bc859a054d37db7f",
       "version_major": 2,
       "version_minor": 0
      },
      "text/plain": [
       "HBox(children=(FloatProgress(value=0.0, description='Loading instances', max=250.0, style=ProgressStyle(descri…"
      ]
     },
     "metadata": {},
     "output_type": "display_data"
    },
    {
     "name": "stderr",
     "output_type": "stream",
     "text": [
      "INFO:allennlp.data.vocabulary: Fitting token dictionary from dataset.\n",
      "2021-04-28 12:21:56,585 - allennlp.data.vocabulary - INFO - Fitting token dictionary from dataset.\n"
     ]
    },
    {
     "name": "stdout",
     "output_type": "stream",
     "text": [
      "\n"
     ]
    },
    {
     "data": {
      "application/vnd.jupyter.widget-view+json": {
       "model_id": "e662ccf096784938a7bbdd9d9527af77",
       "version_major": 2,
       "version_minor": 0
      },
      "text/plain": [
       "HBox(children=(FloatProgress(value=1.0, bar_style='info', description='building vocab', layout=Layout(width='2…"
      ]
     },
     "metadata": {},
     "output_type": "display_data"
    },
    {
     "name": "stderr",
     "output_type": "stream",
     "text": [
      "\n",
      "INFO:allennlp.modules.token_embedders.embedding: If you are fine-tuning and want to use a pretrained_file for embedding extension, please pass the mapping by --embedding-sources argument.\n",
      "2021-04-28 12:21:56,658 - allennlp.modules.token_embedders.embedding - INFO - If you are fine-tuning and want to use a pretrained_file for embedding extension, please pass the mapping by --embedding-sources argument.\n",
      "INFO:allennlp.common.params: random_seed = 13370\n",
      "2021-04-28 12:21:56,668 - allennlp.common.params - INFO - random_seed = 13370\n",
      "INFO:allennlp.common.params: numpy_seed = 1337\n",
      "2021-04-28 12:21:56,673 - allennlp.common.params - INFO - numpy_seed = 1337\n",
      "INFO:allennlp.common.params: pytorch_seed = 133\n",
      "2021-04-28 12:21:56,675 - allennlp.common.params - INFO - pytorch_seed = 133\n",
      "INFO:allennlp.common.checks: Pytorch version: 1.7.1\n",
      "2021-04-28 12:21:56,682 - allennlp.common.checks - INFO - Pytorch version: 1.7.1\n",
      "INFO:allennlp.common.params: type = gradient_descent\n",
      "2021-04-28 12:21:56,712 - allennlp.common.params - INFO - type = gradient_descent\n",
      "INFO:allennlp.common.params: local_rank = 0\n",
      "2021-04-28 12:21:56,717 - allennlp.common.params - INFO - local_rank = 0\n",
      "INFO:allennlp.common.params: patience = 2\n",
      "2021-04-28 12:21:56,719 - allennlp.common.params - INFO - patience = 2\n",
      "INFO:allennlp.common.params: validation_metric = -loss\n",
      "2021-04-28 12:21:56,723 - allennlp.common.params - INFO - validation_metric = -loss\n",
      "INFO:allennlp.common.params: num_epochs = 20\n",
      "2021-04-28 12:21:56,724 - allennlp.common.params - INFO - num_epochs = 20\n",
      "INFO:allennlp.common.params: cuda_device = None\n",
      "2021-04-28 12:21:56,726 - allennlp.common.params - INFO - cuda_device = None\n",
      "INFO:allennlp.common.params: grad_norm = None\n",
      "2021-04-28 12:21:56,730 - allennlp.common.params - INFO - grad_norm = None\n",
      "INFO:allennlp.common.params: grad_clipping = None\n",
      "2021-04-28 12:21:56,733 - allennlp.common.params - INFO - grad_clipping = None\n",
      "INFO:allennlp.common.params: distributed = False\n",
      "2021-04-28 12:21:56,736 - allennlp.common.params - INFO - distributed = False\n",
      "INFO:allennlp.common.params: world_size = 1\n",
      "2021-04-28 12:21:56,749 - allennlp.common.params - INFO - world_size = 1\n",
      "INFO:allennlp.common.params: num_gradient_accumulation_steps = 1\n",
      "2021-04-28 12:21:56,752 - allennlp.common.params - INFO - num_gradient_accumulation_steps = 1\n",
      "INFO:allennlp.common.params: use_amp = False\n",
      "2021-04-28 12:21:56,759 - allennlp.common.params - INFO - use_amp = False\n",
      "INFO:allennlp.common.params: no_grad = None\n",
      "2021-04-28 12:21:56,762 - allennlp.common.params - INFO - no_grad = None\n",
      "INFO:allennlp.common.params: learning_rate_scheduler = None\n",
      "2021-04-28 12:21:56,765 - allennlp.common.params - INFO - learning_rate_scheduler = None\n",
      "INFO:allennlp.common.params: momentum_scheduler = None\n",
      "2021-04-28 12:21:56,767 - allennlp.common.params - INFO - momentum_scheduler = None\n",
      "INFO:allennlp.common.params: moving_average = None\n",
      "2021-04-28 12:21:56,769 - allennlp.common.params - INFO - moving_average = None\n",
      "INFO:allennlp.common.params: batch_callbacks = None\n",
      "2021-04-28 12:21:56,772 - allennlp.common.params - INFO - batch_callbacks = None\n",
      "INFO:allennlp.common.params: end_callbacks = None\n",
      "2021-04-28 12:21:56,774 - allennlp.common.params - INFO - end_callbacks = None\n",
      "INFO:allennlp.common.params: trainer_callbacks = None\n",
      "2021-04-28 12:21:56,779 - allennlp.common.params - INFO - trainer_callbacks = None\n",
      "INFO:allennlp.common.params: optimizer.type = adam\n",
      "2021-04-28 12:21:56,785 - allennlp.common.params - INFO - optimizer.type = adam\n",
      "INFO:allennlp.common.params: optimizer.parameter_groups = None\n",
      "2021-04-28 12:21:56,787 - allennlp.common.params - INFO - optimizer.parameter_groups = None\n",
      "INFO:allennlp.common.params: optimizer.lr = 0.001\n",
      "2021-04-28 12:21:56,791 - allennlp.common.params - INFO - optimizer.lr = 0.001\n",
      "INFO:allennlp.common.params: optimizer.betas = (0.9, 0.999)\n",
      "2021-04-28 12:21:56,794 - allennlp.common.params - INFO - optimizer.betas = (0.9, 0.999)\n",
      "INFO:allennlp.common.params: optimizer.eps = 1e-08\n",
      "2021-04-28 12:21:56,796 - allennlp.common.params - INFO - optimizer.eps = 1e-08\n",
      "INFO:allennlp.common.params: optimizer.weight_decay = 0.0\n",
      "2021-04-28 12:21:56,798 - allennlp.common.params - INFO - optimizer.weight_decay = 0.0\n",
      "INFO:allennlp.common.params: optimizer.amsgrad = False\n",
      "2021-04-28 12:21:56,801 - allennlp.common.params - INFO - optimizer.amsgrad = False\n",
      "INFO:allennlp.training.optimizers: Number of trainable parameters: 256502\n",
      "2021-04-28 12:21:56,803 - allennlp.training.optimizers - INFO - Number of trainable parameters: 256502\n",
      "INFO:allennlp.common.util: The following parameters are Frozen (without gradient):\n",
      "2021-04-28 12:21:56,807 - allennlp.common.util - INFO - The following parameters are Frozen (without gradient):\n",
      "INFO:allennlp.common.util: The following parameters are Tunable (with gradient):\n",
      "2021-04-28 12:21:56,809 - allennlp.common.util - INFO - The following parameters are Tunable (with gradient):\n",
      "INFO:allennlp.common.util: _head.backbone.embedder.token_embedder_word.weight\n",
      "2021-04-28 12:21:56,810 - allennlp.common.util - INFO - _head.backbone.embedder.token_embedder_word.weight\n",
      "INFO:allennlp.common.util: _head._classification_layer.weight\n",
      "2021-04-28 12:21:56,812 - allennlp.common.util - INFO - _head._classification_layer.weight\n",
      "INFO:allennlp.common.util: _head._classification_layer.bias\n",
      "2021-04-28 12:21:56,815 - allennlp.common.util - INFO - _head._classification_layer.bias\n",
      "INFO:allennlp.common.params: checkpointer.type = default\n",
      "2021-04-28 12:21:56,816 - allennlp.common.params - INFO - checkpointer.type = default\n",
      "INFO:allennlp.common.params: checkpointer.keep_serialized_model_every_num_seconds = None\n",
      "2021-04-28 12:21:56,818 - allennlp.common.params - INFO - checkpointer.keep_serialized_model_every_num_seconds = None\n",
      "INFO:allennlp.common.params: checkpointer.num_serialized_models_to_keep = 1\n",
      "2021-04-28 12:21:56,819 - allennlp.common.params - INFO - checkpointer.num_serialized_models_to_keep = 1\n",
      "INFO:allennlp.common.params: checkpointer.model_save_interval = None\n",
      "2021-04-28 12:21:56,825 - allennlp.common.params - INFO - checkpointer.model_save_interval = None\n",
      "INFO:allennlp.common.params: tensorboard_writer.summary_interval = 100\n",
      "2021-04-28 12:21:56,830 - allennlp.common.params - INFO - tensorboard_writer.summary_interval = 100\n",
      "INFO:allennlp.common.params: tensorboard_writer.histogram_interval = None\n",
      "2021-04-28 12:21:56,832 - allennlp.common.params - INFO - tensorboard_writer.histogram_interval = None\n",
      "INFO:allennlp.common.params: tensorboard_writer.batch_size_interval = None\n",
      "2021-04-28 12:21:56,835 - allennlp.common.params - INFO - tensorboard_writer.batch_size_interval = None\n",
      "INFO:allennlp.common.params: tensorboard_writer.should_log_parameter_statistics = True\n",
      "2021-04-28 12:21:56,837 - allennlp.common.params - INFO - tensorboard_writer.should_log_parameter_statistics = True\n",
      "INFO:allennlp.common.params: tensorboard_writer.should_log_learning_rate = True\n",
      "2021-04-28 12:21:56,839 - allennlp.common.params - INFO - tensorboard_writer.should_log_learning_rate = True\n",
      "INFO:allennlp.common.params: tensorboard_writer.get_batch_num_total = None\n",
      "2021-04-28 12:21:56,842 - allennlp.common.params - INFO - tensorboard_writer.get_batch_num_total = None\n",
      "\u001b[34m\u001b[1mwandb\u001b[0m: Currently logged in as: \u001b[33mjavispp\u001b[0m (use `wandb login --relogin` to force relogin)\n",
      "\u001b[34m\u001b[1mwandb\u001b[0m: wandb version 0.10.27 is available!  To upgrade, please run:\n",
      "\u001b[34m\u001b[1mwandb\u001b[0m:  $ pip install wandb --upgrade\n"
     ]
    },
    {
     "data": {
      "text/html": [
       "\n",
       "                Tracking run with wandb version 0.10.21<br/>\n",
       "                Syncing run <strong style=\"color:#cdcd00\">rich-silence-133</strong> to <a href=\"https://wandb.ai\" target=\"_blank\">Weights & Biases</a> <a href=\"https://docs.wandb.com/integrations/jupyter.html\" target=\"_blank\">(Documentation)</a>.<br/>\n",
       "                Project page: <a href=\"https://wandb.ai/javispp/biome\" target=\"_blank\">https://wandb.ai/javispp/biome</a><br/>\n",
       "                Run page: <a href=\"https://wandb.ai/javispp/biome/runs/2nl28ewm\" target=\"_blank\">https://wandb.ai/javispp/biome/runs/2nl28ewm</a><br/>\n",
       "                Run data is saved locally in <code>.wandb/.wandb/run-20210428_122157-2nl28ewm</code><br/><br/>\n",
       "            "
      ],
      "text/plain": [
       "<IPython.core.display.HTML object>"
      ]
     },
     "metadata": {},
     "output_type": "display_data"
    },
    {
     "name": "stderr",
     "output_type": "stream",
     "text": [
      "INFO:allennlp.training.trainer: Beginning training.\n",
      "2021-04-28 12:21:59,426 - allennlp.training.trainer - INFO - Beginning training.\n",
      "INFO:allennlp.training.trainer: Epoch 0/19\n",
      "2021-04-28 12:21:59,431 - allennlp.training.trainer - INFO - Epoch 0/19\n",
      "INFO:allennlp.training.trainer: Worker 0 memory usage: 1.1G\n",
      "2021-04-28 12:21:59,437 - allennlp.training.trainer - INFO - Worker 0 memory usage: 1.1G\n",
      "INFO:allennlp.training.trainer: Training\n",
      "2021-04-28 12:21:59,457 - allennlp.training.trainer - INFO - Training\n"
     ]
    },
    {
     "data": {
      "application/vnd.jupyter.widget-view+json": {
       "model_id": "791e55ed05304d7b81a9fd2d4c9dcdc5",
       "version_major": 2,
       "version_minor": 0
      },
      "text/plain": [
       "HBox(children=(FloatProgress(value=0.0, max=98.0), HTML(value='')))"
      ]
     },
     "metadata": {},
     "output_type": "display_data"
    },
    {
     "name": "stderr",
     "output_type": "stream",
     "text": [
      "WARNING:allennlp.training.util: Metrics with names beginning with \"_\" will not be logged to the tqdm progress bar.\n",
      "2021-04-28 12:21:59,539 - allennlp.training.util - WARNING - Metrics with names beginning with \"_\" will not be logged to the tqdm progress bar.\n",
      "\n",
      "INFO:allennlp.training.tensorboard_writer:                        Training |  Validation\n",
      "2021-04-28 12:22:00,633 - allennlp.training.tensorboard_writer - INFO -                        Training |  Validation\n",
      "INFO:allennlp.training.tensorboard_writer: _fscore/HAM        |     0.711  |       N/A\n",
      "2021-04-28 12:22:00,636 - allennlp.training.tensorboard_writer - INFO - _fscore/HAM        |     0.711  |       N/A\n",
      "INFO:allennlp.training.tensorboard_writer: _fscore/SPAM       |     0.796  |       N/A\n",
      "2021-04-28 12:22:00,639 - allennlp.training.tensorboard_writer - INFO - _fscore/SPAM       |     0.796  |       N/A\n",
      "INFO:allennlp.training.tensorboard_writer: _precision/HAM     |     0.817  |       N/A\n",
      "2021-04-28 12:22:00,646 - allennlp.training.tensorboard_writer - INFO - _precision/HAM     |     0.817  |       N/A\n",
      "INFO:allennlp.training.tensorboard_writer: _precision/SPAM    |     0.729  |       N/A\n",
      "2021-04-28 12:22:00,665 - allennlp.training.tensorboard_writer - INFO - _precision/SPAM    |     0.729  |       N/A\n",
      "INFO:allennlp.training.tensorboard_writer: _recall/HAM        |     0.629  |       N/A\n",
      "2021-04-28 12:22:00,670 - allennlp.training.tensorboard_writer - INFO - _recall/HAM        |     0.629  |       N/A\n",
      "INFO:allennlp.training.tensorboard_writer: _recall/SPAM       |     0.876  |       N/A\n",
      "2021-04-28 12:22:00,675 - allennlp.training.tensorboard_writer - INFO - _recall/SPAM       |     0.876  |       N/A\n",
      "INFO:allennlp.training.tensorboard_writer: accuracy           |     0.761  |       N/A\n",
      "2021-04-28 12:22:00,680 - allennlp.training.tensorboard_writer - INFO - accuracy           |     0.761  |       N/A\n",
      "INFO:allennlp.training.tensorboard_writer: loss               |     0.541  |       N/A\n",
      "2021-04-28 12:22:00,686 - allennlp.training.tensorboard_writer - INFO - loss               |     0.541  |       N/A\n",
      "INFO:allennlp.training.tensorboard_writer: macro/fscore       |     0.753  |       N/A\n",
      "2021-04-28 12:22:00,688 - allennlp.training.tensorboard_writer - INFO - macro/fscore       |     0.753  |       N/A\n",
      "INFO:allennlp.training.tensorboard_writer: macro/precision    |     0.773  |       N/A\n",
      "2021-04-28 12:22:00,691 - allennlp.training.tensorboard_writer - INFO - macro/precision    |     0.773  |       N/A\n",
      "INFO:allennlp.training.tensorboard_writer: macro/recall       |     0.753  |       N/A\n",
      "2021-04-28 12:22:00,695 - allennlp.training.tensorboard_writer - INFO - macro/recall       |     0.753  |       N/A\n",
      "INFO:allennlp.training.tensorboard_writer: micro/fscore       |     0.761  |       N/A\n",
      "2021-04-28 12:22:00,697 - allennlp.training.tensorboard_writer - INFO - micro/fscore       |     0.761  |       N/A\n",
      "INFO:allennlp.training.tensorboard_writer: micro/precision    |     0.761  |       N/A\n",
      "2021-04-28 12:22:00,700 - allennlp.training.tensorboard_writer - INFO - micro/precision    |     0.761  |       N/A\n",
      "INFO:allennlp.training.tensorboard_writer: micro/recall       |     0.761  |       N/A\n",
      "2021-04-28 12:22:00,706 - allennlp.training.tensorboard_writer - INFO - micro/recall       |     0.761  |       N/A\n",
      "INFO:allennlp.training.tensorboard_writer: worker_0_memory_MB |  1111.070  |       N/A\n",
      "2021-04-28 12:22:00,710 - allennlp.training.tensorboard_writer - INFO - worker_0_memory_MB |  1111.070  |       N/A\n",
      "INFO:allennlp.training.checkpointer: Best validation performance so far. Copying weights to 'path_to_store_training_run_output/best.th'.\n",
      "2021-04-28 12:22:00,719 - allennlp.training.checkpointer - INFO - Best validation performance so far. Copying weights to 'path_to_store_training_run_output/best.th'.\n",
      "INFO:allennlp.training.trainer: Epoch duration: 0:00:01.310909\n",
      "2021-04-28 12:22:00,742 - allennlp.training.trainer - INFO - Epoch duration: 0:00:01.310909\n",
      "INFO:allennlp.training.trainer: Estimated training time remaining: 0:00:24\n",
      "2021-04-28 12:22:00,745 - allennlp.training.trainer - INFO - Estimated training time remaining: 0:00:24\n",
      "INFO:allennlp.training.trainer: Epoch 1/19\n",
      "2021-04-28 12:22:00,747 - allennlp.training.trainer - INFO - Epoch 1/19\n",
      "INFO:allennlp.training.trainer: Worker 0 memory usage: 1.1G\n",
      "2021-04-28 12:22:00,750 - allennlp.training.trainer - INFO - Worker 0 memory usage: 1.1G\n",
      "INFO:allennlp.training.trainer: Training\n",
      "2021-04-28 12:22:00,752 - allennlp.training.trainer - INFO - Training\n"
     ]
    },
    {
     "data": {
      "application/vnd.jupyter.widget-view+json": {
       "model_id": "e58c15ceb43d4ab69ff1cbb0ffd9269e",
       "version_major": 2,
       "version_minor": 0
      },
      "text/plain": [
       "HBox(children=(FloatProgress(value=0.0, max=98.0), HTML(value='')))"
      ]
     },
     "metadata": {},
     "output_type": "display_data"
    },
    {
     "name": "stderr",
     "output_type": "stream",
     "text": [
      "\n",
      "INFO:allennlp.training.tensorboard_writer:                        Training |  Validation\n",
      "2021-04-28 12:22:01,663 - allennlp.training.tensorboard_writer - INFO -                        Training |  Validation\n",
      "INFO:allennlp.training.tensorboard_writer: _fscore/HAM        |     0.919  |       N/A\n",
      "2021-04-28 12:22:01,666 - allennlp.training.tensorboard_writer - INFO - _fscore/HAM        |     0.919  |       N/A\n",
      "INFO:allennlp.training.tensorboard_writer: _fscore/SPAM       |     0.930  |       N/A\n",
      "2021-04-28 12:22:01,670 - allennlp.training.tensorboard_writer - INFO - _fscore/SPAM       |     0.930  |       N/A\n",
      "INFO:allennlp.training.tensorboard_writer: _precision/HAM     |     0.928  |       N/A\n",
      "2021-04-28 12:22:01,677 - allennlp.training.tensorboard_writer - INFO - _precision/HAM     |     0.928  |       N/A\n",
      "INFO:allennlp.training.tensorboard_writer: _precision/SPAM    |     0.923  |       N/A\n",
      "2021-04-28 12:22:01,680 - allennlp.training.tensorboard_writer - INFO - _precision/SPAM    |     0.923  |       N/A\n",
      "INFO:allennlp.training.tensorboard_writer: _recall/HAM        |     0.911  |       N/A\n",
      "2021-04-28 12:22:01,684 - allennlp.training.tensorboard_writer - INFO - _recall/HAM        |     0.911  |       N/A\n",
      "INFO:allennlp.training.tensorboard_writer: _recall/SPAM       |     0.938  |       N/A\n",
      "2021-04-28 12:22:01,688 - allennlp.training.tensorboard_writer - INFO - _recall/SPAM       |     0.938  |       N/A\n",
      "INFO:allennlp.training.tensorboard_writer: accuracy           |     0.925  |       N/A\n",
      "2021-04-28 12:22:01,692 - allennlp.training.tensorboard_writer - INFO - accuracy           |     0.925  |       N/A\n",
      "INFO:allennlp.training.tensorboard_writer: loss               |     0.300  |       N/A\n",
      "2021-04-28 12:22:01,697 - allennlp.training.tensorboard_writer - INFO - loss               |     0.300  |       N/A\n",
      "INFO:allennlp.training.tensorboard_writer: macro/fscore       |     0.925  |       N/A\n",
      "2021-04-28 12:22:01,700 - allennlp.training.tensorboard_writer - INFO - macro/fscore       |     0.925  |       N/A\n",
      "INFO:allennlp.training.tensorboard_writer: macro/precision    |     0.926  |       N/A\n",
      "2021-04-28 12:22:01,704 - allennlp.training.tensorboard_writer - INFO - macro/precision    |     0.926  |       N/A\n",
      "INFO:allennlp.training.tensorboard_writer: macro/recall       |     0.924  |       N/A\n",
      "2021-04-28 12:22:01,708 - allennlp.training.tensorboard_writer - INFO - macro/recall       |     0.924  |       N/A\n",
      "INFO:allennlp.training.tensorboard_writer: micro/fscore       |     0.925  |       N/A\n",
      "2021-04-28 12:22:01,711 - allennlp.training.tensorboard_writer - INFO - micro/fscore       |     0.925  |       N/A\n",
      "INFO:allennlp.training.tensorboard_writer: micro/precision    |     0.925  |       N/A\n",
      "2021-04-28 12:22:01,715 - allennlp.training.tensorboard_writer - INFO - micro/precision    |     0.925  |       N/A\n",
      "INFO:allennlp.training.tensorboard_writer: micro/recall       |     0.925  |       N/A\n",
      "2021-04-28 12:22:01,718 - allennlp.training.tensorboard_writer - INFO - micro/recall       |     0.925  |       N/A\n",
      "INFO:allennlp.training.tensorboard_writer: worker_0_memory_MB |  1114.730  |       N/A\n",
      "2021-04-28 12:22:01,722 - allennlp.training.tensorboard_writer - INFO - worker_0_memory_MB |  1114.730  |       N/A\n",
      "INFO:allennlp.training.checkpointer: Best validation performance so far. Copying weights to 'path_to_store_training_run_output/best.th'.\n",
      "2021-04-28 12:22:01,732 - allennlp.training.checkpointer - INFO - Best validation performance so far. Copying weights to 'path_to_store_training_run_output/best.th'.\n",
      "INFO:allennlp.training.trainer: Epoch duration: 0:00:01.001515\n",
      "2021-04-28 12:22:01,748 - allennlp.training.trainer - INFO - Epoch duration: 0:00:01.001515\n",
      "INFO:allennlp.training.trainer: Estimated training time remaining: 0:00:20\n",
      "2021-04-28 12:22:01,751 - allennlp.training.trainer - INFO - Estimated training time remaining: 0:00:20\n",
      "INFO:allennlp.training.trainer: Epoch 2/19\n",
      "2021-04-28 12:22:01,753 - allennlp.training.trainer - INFO - Epoch 2/19\n",
      "INFO:allennlp.training.trainer: Worker 0 memory usage: 1.1G\n",
      "2021-04-28 12:22:01,756 - allennlp.training.trainer - INFO - Worker 0 memory usage: 1.1G\n",
      "INFO:allennlp.training.trainer: Training\n",
      "2021-04-28 12:22:01,759 - allennlp.training.trainer - INFO - Training\n"
     ]
    },
    {
     "data": {
      "application/vnd.jupyter.widget-view+json": {
       "model_id": "f25df88a262c4e1793c8d5531000b797",
       "version_major": 2,
       "version_minor": 0
      },
      "text/plain": [
       "HBox(children=(FloatProgress(value=0.0, max=98.0), HTML(value='')))"
      ]
     },
     "metadata": {},
     "output_type": "display_data"
    },
    {
     "name": "stderr",
     "output_type": "stream",
     "text": [
      "\n",
      "INFO:allennlp.training.tensorboard_writer:                        Training |  Validation\n",
      "2021-04-28 12:22:02,702 - allennlp.training.tensorboard_writer - INFO -                        Training |  Validation\n",
      "INFO:allennlp.training.tensorboard_writer: _fscore/HAM        |     0.974  |       N/A\n",
      "2021-04-28 12:22:02,706 - allennlp.training.tensorboard_writer - INFO - _fscore/HAM        |     0.974  |       N/A\n",
      "INFO:allennlp.training.tensorboard_writer: _fscore/SPAM       |     0.976  |       N/A\n",
      "2021-04-28 12:22:02,710 - allennlp.training.tensorboard_writer - INFO - _fscore/SPAM       |     0.976  |       N/A\n",
      "INFO:allennlp.training.tensorboard_writer: _precision/HAM     |     0.964  |       N/A\n",
      "2021-04-28 12:22:02,713 - allennlp.training.tensorboard_writer - INFO - _precision/HAM     |     0.964  |       N/A\n",
      "INFO:allennlp.training.tensorboard_writer: _precision/SPAM    |     0.985  |       N/A\n",
      "2021-04-28 12:22:02,717 - allennlp.training.tensorboard_writer - INFO - _precision/SPAM    |     0.985  |       N/A\n",
      "INFO:allennlp.training.tensorboard_writer: _recall/HAM        |     0.984  |       N/A\n",
      "2021-04-28 12:22:02,720 - allennlp.training.tensorboard_writer - INFO - _recall/HAM        |     0.984  |       N/A\n",
      "INFO:allennlp.training.tensorboard_writer: _recall/SPAM       |     0.968  |       N/A\n",
      "2021-04-28 12:22:02,724 - allennlp.training.tensorboard_writer - INFO - _recall/SPAM       |     0.968  |       N/A\n",
      "INFO:allennlp.training.tensorboard_writer: accuracy           |     0.975  |       N/A\n",
      "2021-04-28 12:22:02,728 - allennlp.training.tensorboard_writer - INFO - accuracy           |     0.975  |       N/A\n",
      "INFO:allennlp.training.tensorboard_writer: loss               |     0.149  |       N/A\n",
      "2021-04-28 12:22:02,732 - allennlp.training.tensorboard_writer - INFO - loss               |     0.149  |       N/A\n",
      "INFO:allennlp.training.tensorboard_writer: macro/fscore       |     0.975  |       N/A\n",
      "2021-04-28 12:22:02,735 - allennlp.training.tensorboard_writer - INFO - macro/fscore       |     0.975  |       N/A\n",
      "INFO:allennlp.training.tensorboard_writer: macro/precision    |     0.975  |       N/A\n",
      "2021-04-28 12:22:02,739 - allennlp.training.tensorboard_writer - INFO - macro/precision    |     0.975  |       N/A\n",
      "INFO:allennlp.training.tensorboard_writer: macro/recall       |     0.976  |       N/A\n",
      "2021-04-28 12:22:02,743 - allennlp.training.tensorboard_writer - INFO - macro/recall       |     0.976  |       N/A\n",
      "INFO:allennlp.training.tensorboard_writer: micro/fscore       |     0.975  |       N/A\n",
      "2021-04-28 12:22:02,747 - allennlp.training.tensorboard_writer - INFO - micro/fscore       |     0.975  |       N/A\n",
      "INFO:allennlp.training.tensorboard_writer: micro/precision    |     0.975  |       N/A\n",
      "2021-04-28 12:22:02,750 - allennlp.training.tensorboard_writer - INFO - micro/precision    |     0.975  |       N/A\n",
      "INFO:allennlp.training.tensorboard_writer: micro/recall       |     0.975  |       N/A\n",
      "2021-04-28 12:22:02,755 - allennlp.training.tensorboard_writer - INFO - micro/recall       |     0.975  |       N/A\n",
      "INFO:allennlp.training.tensorboard_writer: worker_0_memory_MB |  1115.066  |       N/A\n",
      "2021-04-28 12:22:02,759 - allennlp.training.tensorboard_writer - INFO - worker_0_memory_MB |  1115.066  |       N/A\n",
      "INFO:allennlp.training.checkpointer: Best validation performance so far. Copying weights to 'path_to_store_training_run_output/best.th'.\n",
      "2021-04-28 12:22:02,774 - allennlp.training.checkpointer - INFO - Best validation performance so far. Copying weights to 'path_to_store_training_run_output/best.th'.\n",
      "INFO:allennlp.training.trainer: Epoch duration: 0:00:01.044360\n",
      "2021-04-28 12:22:02,797 - allennlp.training.trainer - INFO - Epoch duration: 0:00:01.044360\n",
      "INFO:allennlp.training.trainer: Estimated training time remaining: 0:00:19\n",
      "2021-04-28 12:22:02,801 - allennlp.training.trainer - INFO - Estimated training time remaining: 0:00:19\n",
      "INFO:allennlp.training.trainer: Epoch 3/19\n",
      "2021-04-28 12:22:02,805 - allennlp.training.trainer - INFO - Epoch 3/19\n",
      "INFO:allennlp.training.trainer: Worker 0 memory usage: 1.1G\n",
      "2021-04-28 12:22:02,810 - allennlp.training.trainer - INFO - Worker 0 memory usage: 1.1G\n",
      "INFO:allennlp.training.trainer: Training\n",
      "2021-04-28 12:22:02,813 - allennlp.training.trainer - INFO - Training\n"
     ]
    },
    {
     "data": {
      "application/vnd.jupyter.widget-view+json": {
       "model_id": "8464ac1c70b941b598ff35fa1fb2cc40",
       "version_major": 2,
       "version_minor": 0
      },
      "text/plain": [
       "HBox(children=(FloatProgress(value=0.0, max=98.0), HTML(value='')))"
      ]
     },
     "metadata": {},
     "output_type": "display_data"
    },
    {
     "name": "stderr",
     "output_type": "stream",
     "text": [
      "\n",
      "INFO:allennlp.training.tensorboard_writer:                        Training |  Validation\n",
      "2021-04-28 12:22:03,795 - allennlp.training.tensorboard_writer - INFO -                        Training |  Validation\n",
      "INFO:allennlp.training.tensorboard_writer: _fscore/HAM        |     0.993  |       N/A\n",
      "2021-04-28 12:22:03,798 - allennlp.training.tensorboard_writer - INFO - _fscore/HAM        |     0.993  |       N/A\n",
      "INFO:allennlp.training.tensorboard_writer: _fscore/SPAM       |     0.994  |       N/A\n",
      "2021-04-28 12:22:03,802 - allennlp.training.tensorboard_writer - INFO - _fscore/SPAM       |     0.994  |       N/A\n",
      "INFO:allennlp.training.tensorboard_writer: _precision/HAM     |     0.989  |       N/A\n",
      "2021-04-28 12:22:03,808 - allennlp.training.tensorboard_writer - INFO - _precision/HAM     |     0.989  |       N/A\n",
      "INFO:allennlp.training.tensorboard_writer: _precision/SPAM    |     0.998  |       N/A\n",
      "2021-04-28 12:22:03,814 - allennlp.training.tensorboard_writer - INFO - _precision/SPAM    |     0.998  |       N/A\n",
      "INFO:allennlp.training.tensorboard_writer: _recall/HAM        |     0.997  |       N/A\n",
      "2021-04-28 12:22:03,817 - allennlp.training.tensorboard_writer - INFO - _recall/HAM        |     0.997  |       N/A\n",
      "INFO:allennlp.training.tensorboard_writer: _recall/SPAM       |     0.990  |       N/A\n",
      "2021-04-28 12:22:03,821 - allennlp.training.tensorboard_writer - INFO - _recall/SPAM       |     0.990  |       N/A\n",
      "INFO:allennlp.training.tensorboard_writer: accuracy           |     0.994  |       N/A\n",
      "2021-04-28 12:22:03,825 - allennlp.training.tensorboard_writer - INFO - accuracy           |     0.994  |       N/A\n",
      "INFO:allennlp.training.tensorboard_writer: loss               |     0.077  |       N/A\n",
      "2021-04-28 12:22:03,829 - allennlp.training.tensorboard_writer - INFO - loss               |     0.077  |       N/A\n",
      "INFO:allennlp.training.tensorboard_writer: macro/fscore       |     0.994  |       N/A\n",
      "2021-04-28 12:22:03,833 - allennlp.training.tensorboard_writer - INFO - macro/fscore       |     0.994  |       N/A\n",
      "INFO:allennlp.training.tensorboard_writer: macro/precision    |     0.993  |       N/A\n",
      "2021-04-28 12:22:03,837 - allennlp.training.tensorboard_writer - INFO - macro/precision    |     0.993  |       N/A\n",
      "INFO:allennlp.training.tensorboard_writer: macro/recall       |     0.994  |       N/A\n",
      "2021-04-28 12:22:03,841 - allennlp.training.tensorboard_writer - INFO - macro/recall       |     0.994  |       N/A\n",
      "INFO:allennlp.training.tensorboard_writer: micro/fscore       |     0.994  |       N/A\n",
      "2021-04-28 12:22:03,844 - allennlp.training.tensorboard_writer - INFO - micro/fscore       |     0.994  |       N/A\n",
      "INFO:allennlp.training.tensorboard_writer: micro/precision    |     0.994  |       N/A\n",
      "2021-04-28 12:22:03,847 - allennlp.training.tensorboard_writer - INFO - micro/precision    |     0.994  |       N/A\n",
      "INFO:allennlp.training.tensorboard_writer: micro/recall       |     0.994  |       N/A\n",
      "2021-04-28 12:22:03,851 - allennlp.training.tensorboard_writer - INFO - micro/recall       |     0.994  |       N/A\n",
      "INFO:allennlp.training.tensorboard_writer: worker_0_memory_MB |  1115.305  |       N/A\n",
      "2021-04-28 12:22:03,854 - allennlp.training.tensorboard_writer - INFO - worker_0_memory_MB |  1115.305  |       N/A\n",
      "INFO:allennlp.training.checkpointer: Best validation performance so far. Copying weights to 'path_to_store_training_run_output/best.th'.\n",
      "2021-04-28 12:22:03,863 - allennlp.training.checkpointer - INFO - Best validation performance so far. Copying weights to 'path_to_store_training_run_output/best.th'.\n",
      "INFO:allennlp.training.trainer: Epoch duration: 0:00:01.075661\n",
      "2021-04-28 12:22:03,881 - allennlp.training.trainer - INFO - Epoch duration: 0:00:01.075661\n",
      "INFO:allennlp.training.trainer: Estimated training time remaining: 0:00:17\n",
      "2021-04-28 12:22:03,883 - allennlp.training.trainer - INFO - Estimated training time remaining: 0:00:17\n",
      "INFO:allennlp.training.trainer: Epoch 4/19\n",
      "2021-04-28 12:22:03,886 - allennlp.training.trainer - INFO - Epoch 4/19\n",
      "INFO:allennlp.training.trainer: Worker 0 memory usage: 1.1G\n",
      "2021-04-28 12:22:03,888 - allennlp.training.trainer - INFO - Worker 0 memory usage: 1.1G\n",
      "INFO:allennlp.training.trainer: Training\n",
      "2021-04-28 12:22:03,892 - allennlp.training.trainer - INFO - Training\n"
     ]
    },
    {
     "data": {
      "application/vnd.jupyter.widget-view+json": {
       "model_id": "ad0e5ac3308b4562987c6d9cd76560c2",
       "version_major": 2,
       "version_minor": 0
      },
      "text/plain": [
       "HBox(children=(FloatProgress(value=0.0, max=98.0), HTML(value='')))"
      ]
     },
     "metadata": {},
     "output_type": "display_data"
    },
    {
     "name": "stderr",
     "output_type": "stream",
     "text": [
      "\n",
      "INFO:allennlp.training.tensorboard_writer:                        Training |  Validation\n",
      "2021-04-28 12:22:04,761 - allennlp.training.tensorboard_writer - INFO -                        Training |  Validation\n",
      "INFO:allennlp.training.tensorboard_writer: _fscore/HAM        |     0.997  |       N/A\n",
      "2021-04-28 12:22:04,763 - allennlp.training.tensorboard_writer - INFO - _fscore/HAM        |     0.997  |       N/A\n",
      "INFO:allennlp.training.tensorboard_writer: _fscore/SPAM       |     0.997  |       N/A\n",
      "2021-04-28 12:22:04,766 - allennlp.training.tensorboard_writer - INFO - _fscore/SPAM       |     0.997  |       N/A\n",
      "INFO:allennlp.training.tensorboard_writer: _precision/HAM     |     0.995  |       N/A\n",
      "2021-04-28 12:22:04,770 - allennlp.training.tensorboard_writer - INFO - _precision/HAM     |     0.995  |       N/A\n",
      "INFO:allennlp.training.tensorboard_writer: _precision/SPAM    |     0.999  |       N/A\n",
      "2021-04-28 12:22:04,774 - allennlp.training.tensorboard_writer - INFO - _precision/SPAM    |     0.999  |       N/A\n",
      "INFO:allennlp.training.tensorboard_writer: _recall/HAM        |     0.999  |       N/A\n",
      "2021-04-28 12:22:04,778 - allennlp.training.tensorboard_writer - INFO - _recall/HAM        |     0.999  |       N/A\n",
      "INFO:allennlp.training.tensorboard_writer: _recall/SPAM       |     0.995  |       N/A\n",
      "2021-04-28 12:22:04,781 - allennlp.training.tensorboard_writer - INFO - _recall/SPAM       |     0.995  |       N/A\n",
      "INFO:allennlp.training.tensorboard_writer: accuracy           |     0.997  |       N/A\n",
      "2021-04-28 12:22:04,784 - allennlp.training.tensorboard_writer - INFO - accuracy           |     0.997  |       N/A\n",
      "INFO:allennlp.training.tensorboard_writer: loss               |     0.045  |       N/A\n",
      "2021-04-28 12:22:04,788 - allennlp.training.tensorboard_writer - INFO - loss               |     0.045  |       N/A\n",
      "INFO:allennlp.training.tensorboard_writer: macro/fscore       |     0.997  |       N/A\n",
      "2021-04-28 12:22:04,792 - allennlp.training.tensorboard_writer - INFO - macro/fscore       |     0.997  |       N/A\n",
      "INFO:allennlp.training.tensorboard_writer: macro/precision    |     0.997  |       N/A\n",
      "2021-04-28 12:22:04,795 - allennlp.training.tensorboard_writer - INFO - macro/precision    |     0.997  |       N/A\n",
      "INFO:allennlp.training.tensorboard_writer: macro/recall       |     0.997  |       N/A\n",
      "2021-04-28 12:22:04,798 - allennlp.training.tensorboard_writer - INFO - macro/recall       |     0.997  |       N/A\n",
      "INFO:allennlp.training.tensorboard_writer: micro/fscore       |     0.997  |       N/A\n",
      "2021-04-28 12:22:04,801 - allennlp.training.tensorboard_writer - INFO - micro/fscore       |     0.997  |       N/A\n",
      "INFO:allennlp.training.tensorboard_writer: micro/precision    |     0.997  |       N/A\n",
      "2021-04-28 12:22:04,805 - allennlp.training.tensorboard_writer - INFO - micro/precision    |     0.997  |       N/A\n",
      "INFO:allennlp.training.tensorboard_writer: micro/recall       |     0.997  |       N/A\n",
      "2021-04-28 12:22:04,808 - allennlp.training.tensorboard_writer - INFO - micro/recall       |     0.997  |       N/A\n",
      "INFO:allennlp.training.tensorboard_writer: worker_0_memory_MB |  1115.570  |       N/A\n",
      "2021-04-28 12:22:04,812 - allennlp.training.tensorboard_writer - INFO - worker_0_memory_MB |  1115.570  |       N/A\n",
      "INFO:allennlp.training.checkpointer: Best validation performance so far. Copying weights to 'path_to_store_training_run_output/best.th'.\n",
      "2021-04-28 12:22:04,821 - allennlp.training.checkpointer - INFO - Best validation performance so far. Copying weights to 'path_to_store_training_run_output/best.th'.\n",
      "INFO:allennlp.training.trainer: Epoch duration: 0:00:00.949837\n",
      "2021-04-28 12:22:04,835 - allennlp.training.trainer - INFO - Epoch duration: 0:00:00.949837\n",
      "INFO:allennlp.training.trainer: Estimated training time remaining: 0:00:16\n",
      "2021-04-28 12:22:04,837 - allennlp.training.trainer - INFO - Estimated training time remaining: 0:00:16\n",
      "INFO:allennlp.training.trainer: Epoch 5/19\n",
      "2021-04-28 12:22:04,841 - allennlp.training.trainer - INFO - Epoch 5/19\n",
      "INFO:allennlp.training.trainer: Worker 0 memory usage: 1.1G\n",
      "2021-04-28 12:22:04,844 - allennlp.training.trainer - INFO - Worker 0 memory usage: 1.1G\n",
      "INFO:allennlp.training.trainer: Training\n",
      "2021-04-28 12:22:04,847 - allennlp.training.trainer - INFO - Training\n"
     ]
    },
    {
     "data": {
      "application/vnd.jupyter.widget-view+json": {
       "model_id": "fd264e7d42f343f9ab029def8f621f5c",
       "version_major": 2,
       "version_minor": 0
      },
      "text/plain": [
       "HBox(children=(FloatProgress(value=0.0, max=98.0), HTML(value='')))"
      ]
     },
     "metadata": {},
     "output_type": "display_data"
    },
    {
     "name": "stderr",
     "output_type": "stream",
     "text": [
      "\n",
      "INFO:allennlp.training.tensorboard_writer:                        Training |  Validation\n",
      "2021-04-28 12:22:05,734 - allennlp.training.tensorboard_writer - INFO -                        Training |  Validation\n",
      "INFO:allennlp.training.tensorboard_writer: _fscore/HAM        |     0.997  |       N/A\n",
      "2021-04-28 12:22:05,736 - allennlp.training.tensorboard_writer - INFO - _fscore/HAM        |     0.997  |       N/A\n",
      "INFO:allennlp.training.tensorboard_writer: _fscore/SPAM       |     0.998  |       N/A\n",
      "2021-04-28 12:22:05,742 - allennlp.training.tensorboard_writer - INFO - _fscore/SPAM       |     0.998  |       N/A\n",
      "INFO:allennlp.training.tensorboard_writer: _precision/HAM     |     0.996  |       N/A\n",
      "2021-04-28 12:22:05,746 - allennlp.training.tensorboard_writer - INFO - _precision/HAM     |     0.996  |       N/A\n",
      "INFO:allennlp.training.tensorboard_writer: _precision/SPAM    |     0.999  |       N/A\n",
      "2021-04-28 12:22:05,750 - allennlp.training.tensorboard_writer - INFO - _precision/SPAM    |     0.999  |       N/A\n",
      "INFO:allennlp.training.tensorboard_writer: _recall/HAM        |     0.999  |       N/A\n",
      "2021-04-28 12:22:05,753 - allennlp.training.tensorboard_writer - INFO - _recall/HAM        |     0.999  |       N/A\n",
      "INFO:allennlp.training.tensorboard_writer: _recall/SPAM       |     0.996  |       N/A\n",
      "2021-04-28 12:22:05,760 - allennlp.training.tensorboard_writer - INFO - _recall/SPAM       |     0.996  |       N/A\n",
      "INFO:allennlp.training.tensorboard_writer: accuracy           |     0.997  |       N/A\n",
      "2021-04-28 12:22:05,764 - allennlp.training.tensorboard_writer - INFO - accuracy           |     0.997  |       N/A\n",
      "INFO:allennlp.training.tensorboard_writer: loss               |     0.029  |       N/A\n",
      "2021-04-28 12:22:05,767 - allennlp.training.tensorboard_writer - INFO - loss               |     0.029  |       N/A\n",
      "INFO:allennlp.training.tensorboard_writer: macro/fscore       |     0.997  |       N/A\n",
      "2021-04-28 12:22:05,771 - allennlp.training.tensorboard_writer - INFO - macro/fscore       |     0.997  |       N/A\n",
      "INFO:allennlp.training.tensorboard_writer: macro/precision    |     0.997  |       N/A\n",
      "2021-04-28 12:22:05,778 - allennlp.training.tensorboard_writer - INFO - macro/precision    |     0.997  |       N/A\n",
      "INFO:allennlp.training.tensorboard_writer: macro/recall       |     0.998  |       N/A\n",
      "2021-04-28 12:22:05,781 - allennlp.training.tensorboard_writer - INFO - macro/recall       |     0.998  |       N/A\n",
      "INFO:allennlp.training.tensorboard_writer: micro/fscore       |     0.997  |       N/A\n",
      "2021-04-28 12:22:05,785 - allennlp.training.tensorboard_writer - INFO - micro/fscore       |     0.997  |       N/A\n",
      "INFO:allennlp.training.tensorboard_writer: micro/precision    |     0.997  |       N/A\n",
      "2021-04-28 12:22:05,790 - allennlp.training.tensorboard_writer - INFO - micro/precision    |     0.997  |       N/A\n",
      "INFO:allennlp.training.tensorboard_writer: micro/recall       |     0.997  |       N/A\n",
      "2021-04-28 12:22:05,795 - allennlp.training.tensorboard_writer - INFO - micro/recall       |     0.997  |       N/A\n",
      "INFO:allennlp.training.tensorboard_writer: worker_0_memory_MB |  1115.676  |       N/A\n",
      "2021-04-28 12:22:05,799 - allennlp.training.tensorboard_writer - INFO - worker_0_memory_MB |  1115.676  |       N/A\n",
      "INFO:allennlp.training.checkpointer: Best validation performance so far. Copying weights to 'path_to_store_training_run_output/best.th'.\n",
      "2021-04-28 12:22:05,812 - allennlp.training.checkpointer - INFO - Best validation performance so far. Copying weights to 'path_to_store_training_run_output/best.th'.\n",
      "INFO:allennlp.training.trainer: Epoch duration: 0:00:00.988016\n",
      "2021-04-28 12:22:05,829 - allennlp.training.trainer - INFO - Epoch duration: 0:00:00.988016\n",
      "INFO:allennlp.training.trainer: Estimated training time remaining: 0:00:14\n",
      "2021-04-28 12:22:05,831 - allennlp.training.trainer - INFO - Estimated training time remaining: 0:00:14\n",
      "INFO:allennlp.training.trainer: Epoch 6/19\n",
      "2021-04-28 12:22:05,834 - allennlp.training.trainer - INFO - Epoch 6/19\n",
      "INFO:allennlp.training.trainer: Worker 0 memory usage: 1.1G\n",
      "2021-04-28 12:22:05,836 - allennlp.training.trainer - INFO - Worker 0 memory usage: 1.1G\n",
      "INFO:allennlp.training.trainer: Training\n",
      "2021-04-28 12:22:05,842 - allennlp.training.trainer - INFO - Training\n"
     ]
    },
    {
     "data": {
      "application/vnd.jupyter.widget-view+json": {
       "model_id": "196301c735d9471c88835e906ed42cef",
       "version_major": 2,
       "version_minor": 0
      },
      "text/plain": [
       "HBox(children=(FloatProgress(value=0.0, max=98.0), HTML(value='')))"
      ]
     },
     "metadata": {},
     "output_type": "display_data"
    },
    {
     "name": "stderr",
     "output_type": "stream",
     "text": [
      "\n",
      "INFO:allennlp.training.tensorboard_writer:                        Training |  Validation\n",
      "2021-04-28 12:22:06,757 - allennlp.training.tensorboard_writer - INFO -                        Training |  Validation\n",
      "INFO:allennlp.training.tensorboard_writer: _fscore/HAM        |     0.999  |       N/A\n",
      "2021-04-28 12:22:06,760 - allennlp.training.tensorboard_writer - INFO - _fscore/HAM        |     0.999  |       N/A\n",
      "INFO:allennlp.training.tensorboard_writer: _fscore/SPAM       |     0.999  |       N/A\n",
      "2021-04-28 12:22:06,764 - allennlp.training.tensorboard_writer - INFO - _fscore/SPAM       |     0.999  |       N/A\n",
      "INFO:allennlp.training.tensorboard_writer: _precision/HAM     |     1.000  |       N/A\n",
      "2021-04-28 12:22:06,767 - allennlp.training.tensorboard_writer - INFO - _precision/HAM     |     1.000  |       N/A\n",
      "INFO:allennlp.training.tensorboard_writer: _precision/SPAM    |     0.999  |       N/A\n",
      "2021-04-28 12:22:06,772 - allennlp.training.tensorboard_writer - INFO - _precision/SPAM    |     0.999  |       N/A\n",
      "INFO:allennlp.training.tensorboard_writer: _recall/HAM        |     0.999  |       N/A\n",
      "2021-04-28 12:22:06,776 - allennlp.training.tensorboard_writer - INFO - _recall/HAM        |     0.999  |       N/A\n",
      "INFO:allennlp.training.tensorboard_writer: _recall/SPAM       |     1.000  |       N/A\n",
      "2021-04-28 12:22:06,779 - allennlp.training.tensorboard_writer - INFO - _recall/SPAM       |     1.000  |       N/A\n",
      "INFO:allennlp.training.tensorboard_writer: accuracy           |     0.999  |       N/A\n",
      "2021-04-28 12:22:06,782 - allennlp.training.tensorboard_writer - INFO - accuracy           |     0.999  |       N/A\n",
      "INFO:allennlp.training.tensorboard_writer: loss               |     0.020  |       N/A\n",
      "2021-04-28 12:22:06,786 - allennlp.training.tensorboard_writer - INFO - loss               |     0.020  |       N/A\n",
      "INFO:allennlp.training.tensorboard_writer: macro/fscore       |     0.999  |       N/A\n",
      "2021-04-28 12:22:06,791 - allennlp.training.tensorboard_writer - INFO - macro/fscore       |     0.999  |       N/A\n",
      "INFO:allennlp.training.tensorboard_writer: macro/precision    |     0.999  |       N/A\n",
      "2021-04-28 12:22:06,794 - allennlp.training.tensorboard_writer - INFO - macro/precision    |     0.999  |       N/A\n",
      "INFO:allennlp.training.tensorboard_writer: macro/recall       |     0.999  |       N/A\n",
      "2021-04-28 12:22:06,798 - allennlp.training.tensorboard_writer - INFO - macro/recall       |     0.999  |       N/A\n",
      "INFO:allennlp.training.tensorboard_writer: micro/fscore       |     0.999  |       N/A\n",
      "2021-04-28 12:22:06,801 - allennlp.training.tensorboard_writer - INFO - micro/fscore       |     0.999  |       N/A\n",
      "INFO:allennlp.training.tensorboard_writer: micro/precision    |     0.999  |       N/A\n",
      "2021-04-28 12:22:06,804 - allennlp.training.tensorboard_writer - INFO - micro/precision    |     0.999  |       N/A\n",
      "INFO:allennlp.training.tensorboard_writer: micro/recall       |     0.999  |       N/A\n",
      "2021-04-28 12:22:06,809 - allennlp.training.tensorboard_writer - INFO - micro/recall       |     0.999  |       N/A\n",
      "INFO:allennlp.training.tensorboard_writer: worker_0_memory_MB |  1115.816  |       N/A\n",
      "2021-04-28 12:22:06,812 - allennlp.training.tensorboard_writer - INFO - worker_0_memory_MB |  1115.816  |       N/A\n",
      "INFO:allennlp.training.checkpointer: Best validation performance so far. Copying weights to 'path_to_store_training_run_output/best.th'.\n",
      "2021-04-28 12:22:06,822 - allennlp.training.checkpointer - INFO - Best validation performance so far. Copying weights to 'path_to_store_training_run_output/best.th'.\n",
      "INFO:allennlp.training.trainer: Epoch duration: 0:00:01.004773\n",
      "2021-04-28 12:22:06,839 - allennlp.training.trainer - INFO - Epoch duration: 0:00:01.004773\n",
      "INFO:allennlp.training.trainer: Estimated training time remaining: 0:00:13\n",
      "2021-04-28 12:22:06,841 - allennlp.training.trainer - INFO - Estimated training time remaining: 0:00:13\n",
      "INFO:allennlp.training.trainer: Epoch 7/19\n",
      "2021-04-28 12:22:06,843 - allennlp.training.trainer - INFO - Epoch 7/19\n",
      "INFO:allennlp.training.trainer: Worker 0 memory usage: 1.1G\n",
      "2021-04-28 12:22:06,846 - allennlp.training.trainer - INFO - Worker 0 memory usage: 1.1G\n",
      "INFO:allennlp.training.trainer: Training\n",
      "2021-04-28 12:22:06,850 - allennlp.training.trainer - INFO - Training\n"
     ]
    },
    {
     "data": {
      "application/vnd.jupyter.widget-view+json": {
       "model_id": "abab55d03fd643ad859bfc940149186b",
       "version_major": 2,
       "version_minor": 0
      },
      "text/plain": [
       "HBox(children=(FloatProgress(value=0.0, max=98.0), HTML(value='')))"
      ]
     },
     "metadata": {},
     "output_type": "display_data"
    },
    {
     "name": "stderr",
     "output_type": "stream",
     "text": [
      "\n",
      "INFO:allennlp.training.tensorboard_writer:                        Training |  Validation\n",
      "2021-04-28 12:22:07,655 - allennlp.training.tensorboard_writer - INFO -                        Training |  Validation\n",
      "INFO:allennlp.training.tensorboard_writer: _fscore/HAM        |     1.000  |       N/A\n",
      "2021-04-28 12:22:07,658 - allennlp.training.tensorboard_writer - INFO - _fscore/HAM        |     1.000  |       N/A\n",
      "INFO:allennlp.training.tensorboard_writer: _fscore/SPAM       |     1.000  |       N/A\n",
      "2021-04-28 12:22:07,661 - allennlp.training.tensorboard_writer - INFO - _fscore/SPAM       |     1.000  |       N/A\n",
      "INFO:allennlp.training.tensorboard_writer: _precision/HAM     |     1.000  |       N/A\n",
      "2021-04-28 12:22:07,664 - allennlp.training.tensorboard_writer - INFO - _precision/HAM     |     1.000  |       N/A\n",
      "INFO:allennlp.training.tensorboard_writer: _precision/SPAM    |     1.000  |       N/A\n",
      "2021-04-28 12:22:07,667 - allennlp.training.tensorboard_writer - INFO - _precision/SPAM    |     1.000  |       N/A\n",
      "INFO:allennlp.training.tensorboard_writer: _recall/HAM        |     1.000  |       N/A\n",
      "2021-04-28 12:22:07,671 - allennlp.training.tensorboard_writer - INFO - _recall/HAM        |     1.000  |       N/A\n",
      "INFO:allennlp.training.tensorboard_writer: _recall/SPAM       |     1.000  |       N/A\n",
      "2021-04-28 12:22:07,675 - allennlp.training.tensorboard_writer - INFO - _recall/SPAM       |     1.000  |       N/A\n",
      "INFO:allennlp.training.tensorboard_writer: accuracy           |     1.000  |       N/A\n",
      "2021-04-28 12:22:07,678 - allennlp.training.tensorboard_writer - INFO - accuracy           |     1.000  |       N/A\n",
      "INFO:allennlp.training.tensorboard_writer: loss               |     0.014  |       N/A\n",
      "2021-04-28 12:22:07,681 - allennlp.training.tensorboard_writer - INFO - loss               |     0.014  |       N/A\n",
      "INFO:allennlp.training.tensorboard_writer: macro/fscore       |     1.000  |       N/A\n",
      "2021-04-28 12:22:07,684 - allennlp.training.tensorboard_writer - INFO - macro/fscore       |     1.000  |       N/A\n",
      "INFO:allennlp.training.tensorboard_writer: macro/precision    |     1.000  |       N/A\n",
      "2021-04-28 12:22:07,688 - allennlp.training.tensorboard_writer - INFO - macro/precision    |     1.000  |       N/A\n",
      "INFO:allennlp.training.tensorboard_writer: macro/recall       |     1.000  |       N/A\n",
      "2021-04-28 12:22:07,692 - allennlp.training.tensorboard_writer - INFO - macro/recall       |     1.000  |       N/A\n",
      "INFO:allennlp.training.tensorboard_writer: micro/fscore       |     1.000  |       N/A\n",
      "2021-04-28 12:22:07,695 - allennlp.training.tensorboard_writer - INFO - micro/fscore       |     1.000  |       N/A\n",
      "INFO:allennlp.training.tensorboard_writer: micro/precision    |     1.000  |       N/A\n",
      "2021-04-28 12:22:07,699 - allennlp.training.tensorboard_writer - INFO - micro/precision    |     1.000  |       N/A\n",
      "INFO:allennlp.training.tensorboard_writer: micro/recall       |     1.000  |       N/A\n",
      "2021-04-28 12:22:07,702 - allennlp.training.tensorboard_writer - INFO - micro/recall       |     1.000  |       N/A\n",
      "INFO:allennlp.training.tensorboard_writer: worker_0_memory_MB |  1115.949  |       N/A\n",
      "2021-04-28 12:22:07,705 - allennlp.training.tensorboard_writer - INFO - worker_0_memory_MB |  1115.949  |       N/A\n",
      "INFO:allennlp.training.checkpointer: Best validation performance so far. Copying weights to 'path_to_store_training_run_output/best.th'.\n",
      "2021-04-28 12:22:07,715 - allennlp.training.checkpointer - INFO - Best validation performance so far. Copying weights to 'path_to_store_training_run_output/best.th'.\n",
      "INFO:allennlp.training.trainer: Epoch duration: 0:00:00.888861\n",
      "2021-04-28 12:22:07,732 - allennlp.training.trainer - INFO - Epoch duration: 0:00:00.888861\n",
      "INFO:allennlp.training.trainer: Estimated training time remaining: 0:00:12\n",
      "2021-04-28 12:22:07,734 - allennlp.training.trainer - INFO - Estimated training time remaining: 0:00:12\n",
      "INFO:allennlp.training.trainer: Epoch 8/19\n",
      "2021-04-28 12:22:07,737 - allennlp.training.trainer - INFO - Epoch 8/19\n",
      "INFO:allennlp.training.trainer: Worker 0 memory usage: 1.1G\n",
      "2021-04-28 12:22:07,740 - allennlp.training.trainer - INFO - Worker 0 memory usage: 1.1G\n",
      "INFO:allennlp.training.trainer: Training\n",
      "2021-04-28 12:22:07,743 - allennlp.training.trainer - INFO - Training\n"
     ]
    },
    {
     "data": {
      "application/vnd.jupyter.widget-view+json": {
       "model_id": "a58df568464d4907a9ab753911653bd0",
       "version_major": 2,
       "version_minor": 0
      },
      "text/plain": [
       "HBox(children=(FloatProgress(value=0.0, max=98.0), HTML(value='')))"
      ]
     },
     "metadata": {},
     "output_type": "display_data"
    },
    {
     "name": "stderr",
     "output_type": "stream",
     "text": [
      "\n",
      "INFO:allennlp.training.tensorboard_writer:                        Training |  Validation\n",
      "2021-04-28 12:22:08,582 - allennlp.training.tensorboard_writer - INFO -                        Training |  Validation\n",
      "INFO:allennlp.training.tensorboard_writer: _fscore/HAM        |     1.000  |       N/A\n",
      "2021-04-28 12:22:08,585 - allennlp.training.tensorboard_writer - INFO - _fscore/HAM        |     1.000  |       N/A\n",
      "INFO:allennlp.training.tensorboard_writer: _fscore/SPAM       |     1.000  |       N/A\n",
      "2021-04-28 12:22:08,589 - allennlp.training.tensorboard_writer - INFO - _fscore/SPAM       |     1.000  |       N/A\n",
      "INFO:allennlp.training.tensorboard_writer: _precision/HAM     |     1.000  |       N/A\n",
      "2021-04-28 12:22:08,592 - allennlp.training.tensorboard_writer - INFO - _precision/HAM     |     1.000  |       N/A\n",
      "INFO:allennlp.training.tensorboard_writer: _precision/SPAM    |     1.000  |       N/A\n",
      "2021-04-28 12:22:08,596 - allennlp.training.tensorboard_writer - INFO - _precision/SPAM    |     1.000  |       N/A\n",
      "INFO:allennlp.training.tensorboard_writer: _recall/HAM        |     1.000  |       N/A\n",
      "2021-04-28 12:22:08,599 - allennlp.training.tensorboard_writer - INFO - _recall/HAM        |     1.000  |       N/A\n",
      "INFO:allennlp.training.tensorboard_writer: _recall/SPAM       |     1.000  |       N/A\n",
      "2021-04-28 12:22:08,603 - allennlp.training.tensorboard_writer - INFO - _recall/SPAM       |     1.000  |       N/A\n",
      "INFO:allennlp.training.tensorboard_writer: accuracy           |     1.000  |       N/A\n",
      "2021-04-28 12:22:08,606 - allennlp.training.tensorboard_writer - INFO - accuracy           |     1.000  |       N/A\n",
      "INFO:allennlp.training.tensorboard_writer: loss               |     0.010  |       N/A\n",
      "2021-04-28 12:22:08,609 - allennlp.training.tensorboard_writer - INFO - loss               |     0.010  |       N/A\n",
      "INFO:allennlp.training.tensorboard_writer: macro/fscore       |     1.000  |       N/A\n",
      "2021-04-28 12:22:08,612 - allennlp.training.tensorboard_writer - INFO - macro/fscore       |     1.000  |       N/A\n",
      "INFO:allennlp.training.tensorboard_writer: macro/precision    |     1.000  |       N/A\n",
      "2021-04-28 12:22:08,616 - allennlp.training.tensorboard_writer - INFO - macro/precision    |     1.000  |       N/A\n",
      "INFO:allennlp.training.tensorboard_writer: macro/recall       |     1.000  |       N/A\n",
      "2021-04-28 12:22:08,620 - allennlp.training.tensorboard_writer - INFO - macro/recall       |     1.000  |       N/A\n",
      "INFO:allennlp.training.tensorboard_writer: micro/fscore       |     1.000  |       N/A\n",
      "2021-04-28 12:22:08,624 - allennlp.training.tensorboard_writer - INFO - micro/fscore       |     1.000  |       N/A\n",
      "INFO:allennlp.training.tensorboard_writer: micro/precision    |     1.000  |       N/A\n",
      "2021-04-28 12:22:08,627 - allennlp.training.tensorboard_writer - INFO - micro/precision    |     1.000  |       N/A\n",
      "INFO:allennlp.training.tensorboard_writer: micro/recall       |     1.000  |       N/A\n",
      "2021-04-28 12:22:08,630 - allennlp.training.tensorboard_writer - INFO - micro/recall       |     1.000  |       N/A\n",
      "INFO:allennlp.training.tensorboard_writer: worker_0_memory_MB |  1116.051  |       N/A\n",
      "2021-04-28 12:22:08,634 - allennlp.training.tensorboard_writer - INFO - worker_0_memory_MB |  1116.051  |       N/A\n",
      "INFO:allennlp.training.checkpointer: Best validation performance so far. Copying weights to 'path_to_store_training_run_output/best.th'.\n",
      "2021-04-28 12:22:08,644 - allennlp.training.checkpointer - INFO - Best validation performance so far. Copying weights to 'path_to_store_training_run_output/best.th'.\n",
      "INFO:allennlp.training.trainer: Epoch duration: 0:00:00.921522\n",
      "2021-04-28 12:22:08,658 - allennlp.training.trainer - INFO - Epoch duration: 0:00:00.921522\n",
      "INFO:allennlp.training.trainer: Estimated training time remaining: 0:00:11\n",
      "2021-04-28 12:22:08,660 - allennlp.training.trainer - INFO - Estimated training time remaining: 0:00:11\n",
      "INFO:allennlp.training.trainer: Epoch 9/19\n",
      "2021-04-28 12:22:08,662 - allennlp.training.trainer - INFO - Epoch 9/19\n",
      "INFO:allennlp.training.trainer: Worker 0 memory usage: 1.1G\n",
      "2021-04-28 12:22:08,665 - allennlp.training.trainer - INFO - Worker 0 memory usage: 1.1G\n",
      "INFO:allennlp.training.trainer: Training\n",
      "2021-04-28 12:22:08,668 - allennlp.training.trainer - INFO - Training\n"
     ]
    },
    {
     "data": {
      "application/vnd.jupyter.widget-view+json": {
       "model_id": "d0d9ad5a5c774af9a9ce4e408db8cc07",
       "version_major": 2,
       "version_minor": 0
      },
      "text/plain": [
       "HBox(children=(FloatProgress(value=0.0, max=98.0), HTML(value='')))"
      ]
     },
     "metadata": {},
     "output_type": "display_data"
    },
    {
     "name": "stderr",
     "output_type": "stream",
     "text": [
      "\n",
      "INFO:allennlp.training.tensorboard_writer:                        Training |  Validation\n",
      "2021-04-28 12:22:09,523 - allennlp.training.tensorboard_writer - INFO -                        Training |  Validation\n",
      "INFO:allennlp.training.tensorboard_writer: _fscore/HAM        |     1.000  |       N/A\n",
      "2021-04-28 12:22:09,526 - allennlp.training.tensorboard_writer - INFO - _fscore/HAM        |     1.000  |       N/A\n",
      "INFO:allennlp.training.tensorboard_writer: _fscore/SPAM       |     1.000  |       N/A\n",
      "2021-04-28 12:22:09,529 - allennlp.training.tensorboard_writer - INFO - _fscore/SPAM       |     1.000  |       N/A\n",
      "INFO:allennlp.training.tensorboard_writer: _precision/HAM     |     1.000  |       N/A\n",
      "2021-04-28 12:22:09,533 - allennlp.training.tensorboard_writer - INFO - _precision/HAM     |     1.000  |       N/A\n",
      "INFO:allennlp.training.tensorboard_writer: _precision/SPAM    |     1.000  |       N/A\n",
      "2021-04-28 12:22:09,539 - allennlp.training.tensorboard_writer - INFO - _precision/SPAM    |     1.000  |       N/A\n",
      "INFO:allennlp.training.tensorboard_writer: _recall/HAM        |     1.000  |       N/A\n",
      "2021-04-28 12:22:09,542 - allennlp.training.tensorboard_writer - INFO - _recall/HAM        |     1.000  |       N/A\n",
      "INFO:allennlp.training.tensorboard_writer: _recall/SPAM       |     1.000  |       N/A\n",
      "2021-04-28 12:22:09,546 - allennlp.training.tensorboard_writer - INFO - _recall/SPAM       |     1.000  |       N/A\n",
      "INFO:allennlp.training.tensorboard_writer: accuracy           |     1.000  |       N/A\n",
      "2021-04-28 12:22:09,550 - allennlp.training.tensorboard_writer - INFO - accuracy           |     1.000  |       N/A\n",
      "INFO:allennlp.training.tensorboard_writer: loss               |     0.008  |       N/A\n",
      "2021-04-28 12:22:09,555 - allennlp.training.tensorboard_writer - INFO - loss               |     0.008  |       N/A\n",
      "INFO:allennlp.training.tensorboard_writer: macro/fscore       |     1.000  |       N/A\n",
      "2021-04-28 12:22:09,558 - allennlp.training.tensorboard_writer - INFO - macro/fscore       |     1.000  |       N/A\n",
      "INFO:allennlp.training.tensorboard_writer: macro/precision    |     1.000  |       N/A\n",
      "2021-04-28 12:22:09,562 - allennlp.training.tensorboard_writer - INFO - macro/precision    |     1.000  |       N/A\n",
      "INFO:allennlp.training.tensorboard_writer: macro/recall       |     1.000  |       N/A\n",
      "2021-04-28 12:22:09,565 - allennlp.training.tensorboard_writer - INFO - macro/recall       |     1.000  |       N/A\n",
      "INFO:allennlp.training.tensorboard_writer: micro/fscore       |     1.000  |       N/A\n",
      "2021-04-28 12:22:09,570 - allennlp.training.tensorboard_writer - INFO - micro/fscore       |     1.000  |       N/A\n",
      "INFO:allennlp.training.tensorboard_writer: micro/precision    |     1.000  |       N/A\n",
      "2021-04-28 12:22:09,574 - allennlp.training.tensorboard_writer - INFO - micro/precision    |     1.000  |       N/A\n",
      "INFO:allennlp.training.tensorboard_writer: micro/recall       |     1.000  |       N/A\n",
      "2021-04-28 12:22:09,578 - allennlp.training.tensorboard_writer - INFO - micro/recall       |     1.000  |       N/A\n",
      "INFO:allennlp.training.tensorboard_writer: worker_0_memory_MB |  1116.164  |       N/A\n",
      "2021-04-28 12:22:09,581 - allennlp.training.tensorboard_writer - INFO - worker_0_memory_MB |  1116.164  |       N/A\n",
      "INFO:allennlp.training.checkpointer: Best validation performance so far. Copying weights to 'path_to_store_training_run_output/best.th'.\n",
      "2021-04-28 12:22:09,595 - allennlp.training.checkpointer - INFO - Best validation performance so far. Copying weights to 'path_to_store_training_run_output/best.th'.\n",
      "INFO:allennlp.training.trainer: Epoch duration: 0:00:00.949123\n",
      "2021-04-28 12:22:09,612 - allennlp.training.trainer - INFO - Epoch duration: 0:00:00.949123\n",
      "INFO:allennlp.training.trainer: Estimated training time remaining: 0:00:10\n",
      "2021-04-28 12:22:09,614 - allennlp.training.trainer - INFO - Estimated training time remaining: 0:00:10\n",
      "INFO:allennlp.training.trainer: Epoch 10/19\n",
      "2021-04-28 12:22:09,616 - allennlp.training.trainer - INFO - Epoch 10/19\n",
      "INFO:allennlp.training.trainer: Worker 0 memory usage: 1.1G\n",
      "2021-04-28 12:22:09,621 - allennlp.training.trainer - INFO - Worker 0 memory usage: 1.1G\n",
      "INFO:allennlp.training.trainer: Training\n",
      "2021-04-28 12:22:09,625 - allennlp.training.trainer - INFO - Training\n"
     ]
    },
    {
     "data": {
      "application/vnd.jupyter.widget-view+json": {
       "model_id": "d81a14a8a6a64dfb9efc50e79f9f4899",
       "version_major": 2,
       "version_minor": 0
      },
      "text/plain": [
       "HBox(children=(FloatProgress(value=0.0, max=98.0), HTML(value='')))"
      ]
     },
     "metadata": {},
     "output_type": "display_data"
    },
    {
     "name": "stderr",
     "output_type": "stream",
     "text": [
      "\n",
      "INFO:allennlp.training.tensorboard_writer:                        Training |  Validation\n",
      "2021-04-28 12:22:10,518 - allennlp.training.tensorboard_writer - INFO -                        Training |  Validation\n",
      "INFO:allennlp.training.tensorboard_writer: _fscore/HAM        |     1.000  |       N/A\n",
      "2021-04-28 12:22:10,523 - allennlp.training.tensorboard_writer - INFO - _fscore/HAM        |     1.000  |       N/A\n",
      "INFO:allennlp.training.tensorboard_writer: _fscore/SPAM       |     1.000  |       N/A\n",
      "2021-04-28 12:22:10,533 - allennlp.training.tensorboard_writer - INFO - _fscore/SPAM       |     1.000  |       N/A\n",
      "INFO:allennlp.training.tensorboard_writer: _precision/HAM     |     1.000  |       N/A\n",
      "2021-04-28 12:22:10,537 - allennlp.training.tensorboard_writer - INFO - _precision/HAM     |     1.000  |       N/A\n",
      "INFO:allennlp.training.tensorboard_writer: _precision/SPAM    |     1.000  |       N/A\n",
      "2021-04-28 12:22:10,541 - allennlp.training.tensorboard_writer - INFO - _precision/SPAM    |     1.000  |       N/A\n",
      "INFO:allennlp.training.tensorboard_writer: _recall/HAM        |     1.000  |       N/A\n",
      "2021-04-28 12:22:10,545 - allennlp.training.tensorboard_writer - INFO - _recall/HAM        |     1.000  |       N/A\n",
      "INFO:allennlp.training.tensorboard_writer: _recall/SPAM       |     1.000  |       N/A\n",
      "2021-04-28 12:22:10,548 - allennlp.training.tensorboard_writer - INFO - _recall/SPAM       |     1.000  |       N/A\n",
      "INFO:allennlp.training.tensorboard_writer: accuracy           |     1.000  |       N/A\n",
      "2021-04-28 12:22:10,552 - allennlp.training.tensorboard_writer - INFO - accuracy           |     1.000  |       N/A\n",
      "INFO:allennlp.training.tensorboard_writer: loss               |     0.006  |       N/A\n",
      "2021-04-28 12:22:10,557 - allennlp.training.tensorboard_writer - INFO - loss               |     0.006  |       N/A\n",
      "INFO:allennlp.training.tensorboard_writer: macro/fscore       |     1.000  |       N/A\n",
      "2021-04-28 12:22:10,561 - allennlp.training.tensorboard_writer - INFO - macro/fscore       |     1.000  |       N/A\n",
      "INFO:allennlp.training.tensorboard_writer: macro/precision    |     1.000  |       N/A\n",
      "2021-04-28 12:22:10,566 - allennlp.training.tensorboard_writer - INFO - macro/precision    |     1.000  |       N/A\n",
      "INFO:allennlp.training.tensorboard_writer: macro/recall       |     1.000  |       N/A\n",
      "2021-04-28 12:22:10,570 - allennlp.training.tensorboard_writer - INFO - macro/recall       |     1.000  |       N/A\n",
      "INFO:allennlp.training.tensorboard_writer: micro/fscore       |     1.000  |       N/A\n",
      "2021-04-28 12:22:10,575 - allennlp.training.tensorboard_writer - INFO - micro/fscore       |     1.000  |       N/A\n",
      "INFO:allennlp.training.tensorboard_writer: micro/precision    |     1.000  |       N/A\n",
      "2021-04-28 12:22:10,579 - allennlp.training.tensorboard_writer - INFO - micro/precision    |     1.000  |       N/A\n",
      "INFO:allennlp.training.tensorboard_writer: micro/recall       |     1.000  |       N/A\n",
      "2021-04-28 12:22:10,584 - allennlp.training.tensorboard_writer - INFO - micro/recall       |     1.000  |       N/A\n",
      "INFO:allennlp.training.tensorboard_writer: worker_0_memory_MB |  1116.273  |       N/A\n",
      "2021-04-28 12:22:10,588 - allennlp.training.tensorboard_writer - INFO - worker_0_memory_MB |  1116.273  |       N/A\n",
      "INFO:allennlp.training.checkpointer: Best validation performance so far. Copying weights to 'path_to_store_training_run_output/best.th'.\n",
      "2021-04-28 12:22:10,600 - allennlp.training.checkpointer - INFO - Best validation performance so far. Copying weights to 'path_to_store_training_run_output/best.th'.\n",
      "INFO:allennlp.training.trainer: Epoch duration: 0:00:01.006228\n",
      "2021-04-28 12:22:10,622 - allennlp.training.trainer - INFO - Epoch duration: 0:00:01.006228\n",
      "INFO:allennlp.training.trainer: Estimated training time remaining: 0:00:09\n",
      "2021-04-28 12:22:10,625 - allennlp.training.trainer - INFO - Estimated training time remaining: 0:00:09\n",
      "INFO:allennlp.training.trainer: Epoch 11/19\n",
      "2021-04-28 12:22:10,628 - allennlp.training.trainer - INFO - Epoch 11/19\n",
      "INFO:allennlp.training.trainer: Worker 0 memory usage: 1.1G\n",
      "2021-04-28 12:22:10,643 - allennlp.training.trainer - INFO - Worker 0 memory usage: 1.1G\n",
      "INFO:allennlp.training.trainer: Training\n",
      "2021-04-28 12:22:10,652 - allennlp.training.trainer - INFO - Training\n"
     ]
    },
    {
     "data": {
      "application/vnd.jupyter.widget-view+json": {
       "model_id": "a60265fc880a488b89daea4a34e0ddad",
       "version_major": 2,
       "version_minor": 0
      },
      "text/plain": [
       "HBox(children=(FloatProgress(value=0.0, max=98.0), HTML(value='')))"
      ]
     },
     "metadata": {},
     "output_type": "display_data"
    },
    {
     "name": "stderr",
     "output_type": "stream",
     "text": [
      "\n",
      "INFO:allennlp.training.tensorboard_writer:                        Training |  Validation\n",
      "2021-04-28 12:22:11,603 - allennlp.training.tensorboard_writer - INFO -                        Training |  Validation\n",
      "INFO:allennlp.training.tensorboard_writer: _fscore/HAM        |     1.000  |       N/A\n",
      "2021-04-28 12:22:11,606 - allennlp.training.tensorboard_writer - INFO - _fscore/HAM        |     1.000  |       N/A\n",
      "INFO:allennlp.training.tensorboard_writer: _fscore/SPAM       |     1.000  |       N/A\n",
      "2021-04-28 12:22:11,611 - allennlp.training.tensorboard_writer - INFO - _fscore/SPAM       |     1.000  |       N/A\n",
      "INFO:allennlp.training.tensorboard_writer: _precision/HAM     |     1.000  |       N/A\n",
      "2021-04-28 12:22:11,614 - allennlp.training.tensorboard_writer - INFO - _precision/HAM     |     1.000  |       N/A\n",
      "INFO:allennlp.training.tensorboard_writer: _precision/SPAM    |     1.000  |       N/A\n",
      "2021-04-28 12:22:11,617 - allennlp.training.tensorboard_writer - INFO - _precision/SPAM    |     1.000  |       N/A\n",
      "INFO:allennlp.training.tensorboard_writer: _recall/HAM        |     1.000  |       N/A\n",
      "2021-04-28 12:22:11,621 - allennlp.training.tensorboard_writer - INFO - _recall/HAM        |     1.000  |       N/A\n",
      "INFO:allennlp.training.tensorboard_writer: _recall/SPAM       |     1.000  |       N/A\n",
      "2021-04-28 12:22:11,626 - allennlp.training.tensorboard_writer - INFO - _recall/SPAM       |     1.000  |       N/A\n",
      "INFO:allennlp.training.tensorboard_writer: accuracy           |     1.000  |       N/A\n",
      "2021-04-28 12:22:11,628 - allennlp.training.tensorboard_writer - INFO - accuracy           |     1.000  |       N/A\n",
      "INFO:allennlp.training.tensorboard_writer: loss               |     0.005  |       N/A\n",
      "2021-04-28 12:22:11,633 - allennlp.training.tensorboard_writer - INFO - loss               |     0.005  |       N/A\n",
      "INFO:allennlp.training.tensorboard_writer: macro/fscore       |     1.000  |       N/A\n",
      "2021-04-28 12:22:11,636 - allennlp.training.tensorboard_writer - INFO - macro/fscore       |     1.000  |       N/A\n",
      "INFO:allennlp.training.tensorboard_writer: macro/precision    |     1.000  |       N/A\n",
      "2021-04-28 12:22:11,640 - allennlp.training.tensorboard_writer - INFO - macro/precision    |     1.000  |       N/A\n",
      "INFO:allennlp.training.tensorboard_writer: macro/recall       |     1.000  |       N/A\n",
      "2021-04-28 12:22:11,644 - allennlp.training.tensorboard_writer - INFO - macro/recall       |     1.000  |       N/A\n",
      "INFO:allennlp.training.tensorboard_writer: micro/fscore       |     1.000  |       N/A\n",
      "2021-04-28 12:22:11,647 - allennlp.training.tensorboard_writer - INFO - micro/fscore       |     1.000  |       N/A\n",
      "INFO:allennlp.training.tensorboard_writer: micro/precision    |     1.000  |       N/A\n",
      "2021-04-28 12:22:11,650 - allennlp.training.tensorboard_writer - INFO - micro/precision    |     1.000  |       N/A\n",
      "INFO:allennlp.training.tensorboard_writer: micro/recall       |     1.000  |       N/A\n",
      "2021-04-28 12:22:11,655 - allennlp.training.tensorboard_writer - INFO - micro/recall       |     1.000  |       N/A\n",
      "INFO:allennlp.training.tensorboard_writer: worker_0_memory_MB |  1116.512  |       N/A\n",
      "2021-04-28 12:22:11,659 - allennlp.training.tensorboard_writer - INFO - worker_0_memory_MB |  1116.512  |       N/A\n",
      "INFO:allennlp.training.checkpointer: Best validation performance so far. Copying weights to 'path_to_store_training_run_output/best.th'.\n",
      "2021-04-28 12:22:11,668 - allennlp.training.checkpointer - INFO - Best validation performance so far. Copying weights to 'path_to_store_training_run_output/best.th'.\n",
      "INFO:allennlp.training.trainer: Epoch duration: 0:00:01.056069\n",
      "2021-04-28 12:22:11,684 - allennlp.training.trainer - INFO - Epoch duration: 0:00:01.056069\n",
      "INFO:allennlp.training.trainer: Estimated training time remaining: 0:00:08\n",
      "2021-04-28 12:22:11,686 - allennlp.training.trainer - INFO - Estimated training time remaining: 0:00:08\n",
      "INFO:allennlp.training.trainer: Epoch 12/19\n",
      "2021-04-28 12:22:11,689 - allennlp.training.trainer - INFO - Epoch 12/19\n",
      "INFO:allennlp.training.trainer: Worker 0 memory usage: 1.1G\n",
      "2021-04-28 12:22:11,692 - allennlp.training.trainer - INFO - Worker 0 memory usage: 1.1G\n",
      "INFO:allennlp.training.trainer: Training\n",
      "2021-04-28 12:22:11,695 - allennlp.training.trainer - INFO - Training\n"
     ]
    },
    {
     "data": {
      "application/vnd.jupyter.widget-view+json": {
       "model_id": "b91a71a018a64018a9a984f038bb73d4",
       "version_major": 2,
       "version_minor": 0
      },
      "text/plain": [
       "HBox(children=(FloatProgress(value=0.0, max=98.0), HTML(value='')))"
      ]
     },
     "metadata": {},
     "output_type": "display_data"
    },
    {
     "name": "stderr",
     "output_type": "stream",
     "text": [
      "\n",
      "INFO:allennlp.training.tensorboard_writer:                        Training |  Validation\n",
      "2021-04-28 12:22:12,743 - allennlp.training.tensorboard_writer - INFO -                        Training |  Validation\n",
      "INFO:allennlp.training.tensorboard_writer: _fscore/HAM        |     1.000  |       N/A\n",
      "2021-04-28 12:22:12,746 - allennlp.training.tensorboard_writer - INFO - _fscore/HAM        |     1.000  |       N/A\n",
      "INFO:allennlp.training.tensorboard_writer: _fscore/SPAM       |     1.000  |       N/A\n",
      "2021-04-28 12:22:12,752 - allennlp.training.tensorboard_writer - INFO - _fscore/SPAM       |     1.000  |       N/A\n",
      "INFO:allennlp.training.tensorboard_writer: _precision/HAM     |     1.000  |       N/A\n",
      "2021-04-28 12:22:12,756 - allennlp.training.tensorboard_writer - INFO - _precision/HAM     |     1.000  |       N/A\n",
      "INFO:allennlp.training.tensorboard_writer: _precision/SPAM    |     1.000  |       N/A\n",
      "2021-04-28 12:22:12,759 - allennlp.training.tensorboard_writer - INFO - _precision/SPAM    |     1.000  |       N/A\n",
      "INFO:allennlp.training.tensorboard_writer: _recall/HAM        |     1.000  |       N/A\n",
      "2021-04-28 12:22:12,764 - allennlp.training.tensorboard_writer - INFO - _recall/HAM        |     1.000  |       N/A\n",
      "INFO:allennlp.training.tensorboard_writer: _recall/SPAM       |     1.000  |       N/A\n",
      "2021-04-28 12:22:12,768 - allennlp.training.tensorboard_writer - INFO - _recall/SPAM       |     1.000  |       N/A\n",
      "INFO:allennlp.training.tensorboard_writer: accuracy           |     1.000  |       N/A\n",
      "2021-04-28 12:22:12,772 - allennlp.training.tensorboard_writer - INFO - accuracy           |     1.000  |       N/A\n",
      "INFO:allennlp.training.tensorboard_writer: loss               |     0.004  |       N/A\n",
      "2021-04-28 12:22:12,776 - allennlp.training.tensorboard_writer - INFO - loss               |     0.004  |       N/A\n",
      "INFO:allennlp.training.tensorboard_writer: macro/fscore       |     1.000  |       N/A\n",
      "2021-04-28 12:22:12,780 - allennlp.training.tensorboard_writer - INFO - macro/fscore       |     1.000  |       N/A\n",
      "INFO:allennlp.training.tensorboard_writer: macro/precision    |     1.000  |       N/A\n",
      "2021-04-28 12:22:12,784 - allennlp.training.tensorboard_writer - INFO - macro/precision    |     1.000  |       N/A\n",
      "INFO:allennlp.training.tensorboard_writer: macro/recall       |     1.000  |       N/A\n",
      "2021-04-28 12:22:12,787 - allennlp.training.tensorboard_writer - INFO - macro/recall       |     1.000  |       N/A\n",
      "INFO:allennlp.training.tensorboard_writer: micro/fscore       |     1.000  |       N/A\n",
      "2021-04-28 12:22:12,791 - allennlp.training.tensorboard_writer - INFO - micro/fscore       |     1.000  |       N/A\n",
      "INFO:allennlp.training.tensorboard_writer: micro/precision    |     1.000  |       N/A\n",
      "2021-04-28 12:22:12,795 - allennlp.training.tensorboard_writer - INFO - micro/precision    |     1.000  |       N/A\n",
      "INFO:allennlp.training.tensorboard_writer: micro/recall       |     1.000  |       N/A\n",
      "2021-04-28 12:22:12,799 - allennlp.training.tensorboard_writer - INFO - micro/recall       |     1.000  |       N/A\n",
      "INFO:allennlp.training.tensorboard_writer: worker_0_memory_MB |  1116.605  |       N/A\n",
      "2021-04-28 12:22:12,802 - allennlp.training.tensorboard_writer - INFO - worker_0_memory_MB |  1116.605  |       N/A\n",
      "INFO:allennlp.training.checkpointer: Best validation performance so far. Copying weights to 'path_to_store_training_run_output/best.th'.\n",
      "2021-04-28 12:22:12,812 - allennlp.training.checkpointer - INFO - Best validation performance so far. Copying weights to 'path_to_store_training_run_output/best.th'.\n",
      "INFO:allennlp.training.trainer: Epoch duration: 0:00:01.142107\n",
      "2021-04-28 12:22:12,831 - allennlp.training.trainer - INFO - Epoch duration: 0:00:01.142107\n",
      "INFO:allennlp.training.trainer: Estimated training time remaining: 0:00:07\n",
      "2021-04-28 12:22:12,834 - allennlp.training.trainer - INFO - Estimated training time remaining: 0:00:07\n",
      "INFO:allennlp.training.trainer: Epoch 13/19\n",
      "2021-04-28 12:22:12,837 - allennlp.training.trainer - INFO - Epoch 13/19\n",
      "INFO:allennlp.training.trainer: Worker 0 memory usage: 1.1G\n",
      "2021-04-28 12:22:12,843 - allennlp.training.trainer - INFO - Worker 0 memory usage: 1.1G\n",
      "INFO:allennlp.training.trainer: Training\n",
      "2021-04-28 12:22:12,851 - allennlp.training.trainer - INFO - Training\n"
     ]
    },
    {
     "data": {
      "application/vnd.jupyter.widget-view+json": {
       "model_id": "c6baae7f17ea4ca0a0262c3ad85562fc",
       "version_major": 2,
       "version_minor": 0
      },
      "text/plain": [
       "HBox(children=(FloatProgress(value=0.0, max=98.0), HTML(value='')))"
      ]
     },
     "metadata": {},
     "output_type": "display_data"
    },
    {
     "name": "stderr",
     "output_type": "stream",
     "text": [
      "\n",
      "INFO:allennlp.training.tensorboard_writer:                        Training |  Validation\n",
      "2021-04-28 12:22:13,739 - allennlp.training.tensorboard_writer - INFO -                        Training |  Validation\n",
      "INFO:allennlp.training.tensorboard_writer: _fscore/HAM        |     1.000  |       N/A\n",
      "2021-04-28 12:22:13,742 - allennlp.training.tensorboard_writer - INFO - _fscore/HAM        |     1.000  |       N/A\n",
      "INFO:allennlp.training.tensorboard_writer: _fscore/SPAM       |     1.000  |       N/A\n",
      "2021-04-28 12:22:13,744 - allennlp.training.tensorboard_writer - INFO - _fscore/SPAM       |     1.000  |       N/A\n",
      "INFO:allennlp.training.tensorboard_writer: _precision/HAM     |     1.000  |       N/A\n",
      "2021-04-28 12:22:13,749 - allennlp.training.tensorboard_writer - INFO - _precision/HAM     |     1.000  |       N/A\n",
      "INFO:allennlp.training.tensorboard_writer: _precision/SPAM    |     1.000  |       N/A\n",
      "2021-04-28 12:22:13,753 - allennlp.training.tensorboard_writer - INFO - _precision/SPAM    |     1.000  |       N/A\n",
      "INFO:allennlp.training.tensorboard_writer: _recall/HAM        |     1.000  |       N/A\n",
      "2021-04-28 12:22:13,757 - allennlp.training.tensorboard_writer - INFO - _recall/HAM        |     1.000  |       N/A\n",
      "INFO:allennlp.training.tensorboard_writer: _recall/SPAM       |     1.000  |       N/A\n",
      "2021-04-28 12:22:13,761 - allennlp.training.tensorboard_writer - INFO - _recall/SPAM       |     1.000  |       N/A\n",
      "INFO:allennlp.training.tensorboard_writer: accuracy           |     1.000  |       N/A\n",
      "2021-04-28 12:22:13,764 - allennlp.training.tensorboard_writer - INFO - accuracy           |     1.000  |       N/A\n",
      "INFO:allennlp.training.tensorboard_writer: loss               |     0.003  |       N/A\n",
      "2021-04-28 12:22:13,770 - allennlp.training.tensorboard_writer - INFO - loss               |     0.003  |       N/A\n",
      "INFO:allennlp.training.tensorboard_writer: macro/fscore       |     1.000  |       N/A\n",
      "2021-04-28 12:22:13,774 - allennlp.training.tensorboard_writer - INFO - macro/fscore       |     1.000  |       N/A\n",
      "INFO:allennlp.training.tensorboard_writer: macro/precision    |     1.000  |       N/A\n",
      "2021-04-28 12:22:13,778 - allennlp.training.tensorboard_writer - INFO - macro/precision    |     1.000  |       N/A\n",
      "INFO:allennlp.training.tensorboard_writer: macro/recall       |     1.000  |       N/A\n",
      "2021-04-28 12:22:13,783 - allennlp.training.tensorboard_writer - INFO - macro/recall       |     1.000  |       N/A\n",
      "INFO:allennlp.training.tensorboard_writer: micro/fscore       |     1.000  |       N/A\n",
      "2021-04-28 12:22:13,791 - allennlp.training.tensorboard_writer - INFO - micro/fscore       |     1.000  |       N/A\n",
      "INFO:allennlp.training.tensorboard_writer: micro/precision    |     1.000  |       N/A\n",
      "2021-04-28 12:22:13,794 - allennlp.training.tensorboard_writer - INFO - micro/precision    |     1.000  |       N/A\n",
      "INFO:allennlp.training.tensorboard_writer: micro/recall       |     1.000  |       N/A\n",
      "2021-04-28 12:22:13,799 - allennlp.training.tensorboard_writer - INFO - micro/recall       |     1.000  |       N/A\n",
      "INFO:allennlp.training.tensorboard_writer: worker_0_memory_MB |  1116.703  |       N/A\n",
      "2021-04-28 12:22:13,803 - allennlp.training.tensorboard_writer - INFO - worker_0_memory_MB |  1116.703  |       N/A\n",
      "INFO:allennlp.training.checkpointer: Best validation performance so far. Copying weights to 'path_to_store_training_run_output/best.th'.\n",
      "2021-04-28 12:22:13,812 - allennlp.training.checkpointer - INFO - Best validation performance so far. Copying weights to 'path_to_store_training_run_output/best.th'.\n",
      "INFO:allennlp.training.trainer: Epoch duration: 0:00:00.991866\n",
      "2021-04-28 12:22:13,829 - allennlp.training.trainer - INFO - Epoch duration: 0:00:00.991866\n",
      "INFO:allennlp.training.trainer: Estimated training time remaining: 0:00:06\n",
      "2021-04-28 12:22:13,832 - allennlp.training.trainer - INFO - Estimated training time remaining: 0:00:06\n",
      "INFO:allennlp.training.trainer: Epoch 14/19\n",
      "2021-04-28 12:22:13,834 - allennlp.training.trainer - INFO - Epoch 14/19\n",
      "INFO:allennlp.training.trainer: Worker 0 memory usage: 1.1G\n",
      "2021-04-28 12:22:13,837 - allennlp.training.trainer - INFO - Worker 0 memory usage: 1.1G\n",
      "INFO:allennlp.training.trainer: Training\n",
      "2021-04-28 12:22:13,841 - allennlp.training.trainer - INFO - Training\n"
     ]
    },
    {
     "data": {
      "application/vnd.jupyter.widget-view+json": {
       "model_id": "30219c5e7fe24fc680bb2ee721c394b9",
       "version_major": 2,
       "version_minor": 0
      },
      "text/plain": [
       "HBox(children=(FloatProgress(value=0.0, max=98.0), HTML(value='')))"
      ]
     },
     "metadata": {},
     "output_type": "display_data"
    },
    {
     "name": "stderr",
     "output_type": "stream",
     "text": [
      "\n",
      "INFO:allennlp.training.tensorboard_writer:                        Training |  Validation\n",
      "2021-04-28 12:22:14,679 - allennlp.training.tensorboard_writer - INFO -                        Training |  Validation\n",
      "INFO:allennlp.training.tensorboard_writer: _fscore/HAM        |     1.000  |       N/A\n",
      "2021-04-28 12:22:14,682 - allennlp.training.tensorboard_writer - INFO - _fscore/HAM        |     1.000  |       N/A\n",
      "INFO:allennlp.training.tensorboard_writer: _fscore/SPAM       |     1.000  |       N/A\n",
      "2021-04-28 12:22:14,685 - allennlp.training.tensorboard_writer - INFO - _fscore/SPAM       |     1.000  |       N/A\n",
      "INFO:allennlp.training.tensorboard_writer: _precision/HAM     |     1.000  |       N/A\n",
      "2021-04-28 12:22:14,688 - allennlp.training.tensorboard_writer - INFO - _precision/HAM     |     1.000  |       N/A\n",
      "INFO:allennlp.training.tensorboard_writer: _precision/SPAM    |     1.000  |       N/A\n",
      "2021-04-28 12:22:14,691 - allennlp.training.tensorboard_writer - INFO - _precision/SPAM    |     1.000  |       N/A\n",
      "INFO:allennlp.training.tensorboard_writer: _recall/HAM        |     1.000  |       N/A\n",
      "2021-04-28 12:22:14,695 - allennlp.training.tensorboard_writer - INFO - _recall/HAM        |     1.000  |       N/A\n",
      "INFO:allennlp.training.tensorboard_writer: _recall/SPAM       |     1.000  |       N/A\n",
      "2021-04-28 12:22:14,699 - allennlp.training.tensorboard_writer - INFO - _recall/SPAM       |     1.000  |       N/A\n",
      "INFO:allennlp.training.tensorboard_writer: accuracy           |     1.000  |       N/A\n",
      "2021-04-28 12:22:14,702 - allennlp.training.tensorboard_writer - INFO - accuracy           |     1.000  |       N/A\n",
      "INFO:allennlp.training.tensorboard_writer: loss               |     0.003  |       N/A\n",
      "2021-04-28 12:22:14,705 - allennlp.training.tensorboard_writer - INFO - loss               |     0.003  |       N/A\n",
      "INFO:allennlp.training.tensorboard_writer: macro/fscore       |     1.000  |       N/A\n",
      "2021-04-28 12:22:14,709 - allennlp.training.tensorboard_writer - INFO - macro/fscore       |     1.000  |       N/A\n",
      "INFO:allennlp.training.tensorboard_writer: macro/precision    |     1.000  |       N/A\n",
      "2021-04-28 12:22:14,712 - allennlp.training.tensorboard_writer - INFO - macro/precision    |     1.000  |       N/A\n",
      "INFO:allennlp.training.tensorboard_writer: macro/recall       |     1.000  |       N/A\n",
      "2021-04-28 12:22:14,715 - allennlp.training.tensorboard_writer - INFO - macro/recall       |     1.000  |       N/A\n",
      "INFO:allennlp.training.tensorboard_writer: micro/fscore       |     1.000  |       N/A\n",
      "2021-04-28 12:22:14,719 - allennlp.training.tensorboard_writer - INFO - micro/fscore       |     1.000  |       N/A\n",
      "INFO:allennlp.training.tensorboard_writer: micro/precision    |     1.000  |       N/A\n",
      "2021-04-28 12:22:14,722 - allennlp.training.tensorboard_writer - INFO - micro/precision    |     1.000  |       N/A\n",
      "INFO:allennlp.training.tensorboard_writer: micro/recall       |     1.000  |       N/A\n",
      "2021-04-28 12:22:14,726 - allennlp.training.tensorboard_writer - INFO - micro/recall       |     1.000  |       N/A\n",
      "INFO:allennlp.training.tensorboard_writer: worker_0_memory_MB |  1116.832  |       N/A\n",
      "2021-04-28 12:22:14,730 - allennlp.training.tensorboard_writer - INFO - worker_0_memory_MB |  1116.832  |       N/A\n",
      "INFO:allennlp.training.checkpointer: Best validation performance so far. Copying weights to 'path_to_store_training_run_output/best.th'.\n",
      "2021-04-28 12:22:14,738 - allennlp.training.checkpointer - INFO - Best validation performance so far. Copying weights to 'path_to_store_training_run_output/best.th'.\n",
      "INFO:allennlp.training.trainer: Epoch duration: 0:00:00.922024\n",
      "2021-04-28 12:22:14,756 - allennlp.training.trainer - INFO - Epoch duration: 0:00:00.922024\n",
      "INFO:allennlp.training.trainer: Estimated training time remaining: 0:00:05\n",
      "2021-04-28 12:22:14,758 - allennlp.training.trainer - INFO - Estimated training time remaining: 0:00:05\n",
      "INFO:allennlp.training.trainer: Epoch 15/19\n",
      "2021-04-28 12:22:14,761 - allennlp.training.trainer - INFO - Epoch 15/19\n",
      "INFO:allennlp.training.trainer: Worker 0 memory usage: 1.1G\n",
      "2021-04-28 12:22:14,764 - allennlp.training.trainer - INFO - Worker 0 memory usage: 1.1G\n",
      "INFO:allennlp.training.trainer: Training\n",
      "2021-04-28 12:22:14,767 - allennlp.training.trainer - INFO - Training\n"
     ]
    },
    {
     "data": {
      "application/vnd.jupyter.widget-view+json": {
       "model_id": "0fb41ce5e88f43b4896b1a387602a6d6",
       "version_major": 2,
       "version_minor": 0
      },
      "text/plain": [
       "HBox(children=(FloatProgress(value=0.0, max=98.0), HTML(value='')))"
      ]
     },
     "metadata": {},
     "output_type": "display_data"
    },
    {
     "name": "stderr",
     "output_type": "stream",
     "text": [
      "\n",
      "INFO:allennlp.training.tensorboard_writer:                        Training |  Validation\n",
      "2021-04-28 12:22:15,607 - allennlp.training.tensorboard_writer - INFO -                        Training |  Validation\n",
      "INFO:allennlp.training.tensorboard_writer: _fscore/HAM        |     1.000  |       N/A\n",
      "2021-04-28 12:22:15,610 - allennlp.training.tensorboard_writer - INFO - _fscore/HAM        |     1.000  |       N/A\n",
      "INFO:allennlp.training.tensorboard_writer: _fscore/SPAM       |     1.000  |       N/A\n",
      "2021-04-28 12:22:15,614 - allennlp.training.tensorboard_writer - INFO - _fscore/SPAM       |     1.000  |       N/A\n",
      "INFO:allennlp.training.tensorboard_writer: _precision/HAM     |     1.000  |       N/A\n",
      "2021-04-28 12:22:15,617 - allennlp.training.tensorboard_writer - INFO - _precision/HAM     |     1.000  |       N/A\n",
      "INFO:allennlp.training.tensorboard_writer: _precision/SPAM    |     1.000  |       N/A\n",
      "2021-04-28 12:22:15,620 - allennlp.training.tensorboard_writer - INFO - _precision/SPAM    |     1.000  |       N/A\n",
      "INFO:allennlp.training.tensorboard_writer: _recall/HAM        |     1.000  |       N/A\n",
      "2021-04-28 12:22:15,624 - allennlp.training.tensorboard_writer - INFO - _recall/HAM        |     1.000  |       N/A\n",
      "INFO:allennlp.training.tensorboard_writer: _recall/SPAM       |     1.000  |       N/A\n",
      "2021-04-28 12:22:15,628 - allennlp.training.tensorboard_writer - INFO - _recall/SPAM       |     1.000  |       N/A\n",
      "INFO:allennlp.training.tensorboard_writer: accuracy           |     1.000  |       N/A\n",
      "2021-04-28 12:22:15,631 - allennlp.training.tensorboard_writer - INFO - accuracy           |     1.000  |       N/A\n",
      "INFO:allennlp.training.tensorboard_writer: loss               |     0.002  |       N/A\n",
      "2021-04-28 12:22:15,635 - allennlp.training.tensorboard_writer - INFO - loss               |     0.002  |       N/A\n",
      "INFO:allennlp.training.tensorboard_writer: macro/fscore       |     1.000  |       N/A\n",
      "2021-04-28 12:22:15,638 - allennlp.training.tensorboard_writer - INFO - macro/fscore       |     1.000  |       N/A\n",
      "INFO:allennlp.training.tensorboard_writer: macro/precision    |     1.000  |       N/A\n",
      "2021-04-28 12:22:15,641 - allennlp.training.tensorboard_writer - INFO - macro/precision    |     1.000  |       N/A\n",
      "INFO:allennlp.training.tensorboard_writer: macro/recall       |     1.000  |       N/A\n",
      "2021-04-28 12:22:15,645 - allennlp.training.tensorboard_writer - INFO - macro/recall       |     1.000  |       N/A\n",
      "INFO:allennlp.training.tensorboard_writer: micro/fscore       |     1.000  |       N/A\n",
      "2021-04-28 12:22:15,648 - allennlp.training.tensorboard_writer - INFO - micro/fscore       |     1.000  |       N/A\n",
      "INFO:allennlp.training.tensorboard_writer: micro/precision    |     1.000  |       N/A\n",
      "2021-04-28 12:22:15,651 - allennlp.training.tensorboard_writer - INFO - micro/precision    |     1.000  |       N/A\n",
      "INFO:allennlp.training.tensorboard_writer: micro/recall       |     1.000  |       N/A\n",
      "2021-04-28 12:22:15,654 - allennlp.training.tensorboard_writer - INFO - micro/recall       |     1.000  |       N/A\n",
      "INFO:allennlp.training.tensorboard_writer: worker_0_memory_MB |  1116.957  |       N/A\n",
      "2021-04-28 12:22:15,658 - allennlp.training.tensorboard_writer - INFO - worker_0_memory_MB |  1116.957  |       N/A\n",
      "INFO:allennlp.training.checkpointer: Best validation performance so far. Copying weights to 'path_to_store_training_run_output/best.th'.\n",
      "2021-04-28 12:22:15,666 - allennlp.training.checkpointer - INFO - Best validation performance so far. Copying weights to 'path_to_store_training_run_output/best.th'.\n",
      "INFO:allennlp.training.trainer: Epoch duration: 0:00:00.920737\n",
      "2021-04-28 12:22:15,682 - allennlp.training.trainer - INFO - Epoch duration: 0:00:00.920737\n",
      "INFO:allennlp.training.trainer: Estimated training time remaining: 0:00:04\n",
      "2021-04-28 12:22:15,684 - allennlp.training.trainer - INFO - Estimated training time remaining: 0:00:04\n",
      "INFO:allennlp.training.trainer: Epoch 16/19\n",
      "2021-04-28 12:22:15,686 - allennlp.training.trainer - INFO - Epoch 16/19\n",
      "INFO:allennlp.training.trainer: Worker 0 memory usage: 1.1G\n",
      "2021-04-28 12:22:15,689 - allennlp.training.trainer - INFO - Worker 0 memory usage: 1.1G\n",
      "INFO:allennlp.training.trainer: Training\n",
      "2021-04-28 12:22:15,692 - allennlp.training.trainer - INFO - Training\n"
     ]
    },
    {
     "data": {
      "application/vnd.jupyter.widget-view+json": {
       "model_id": "725af77be7d04998ba3c0925d59fedce",
       "version_major": 2,
       "version_minor": 0
      },
      "text/plain": [
       "HBox(children=(FloatProgress(value=0.0, max=98.0), HTML(value='')))"
      ]
     },
     "metadata": {},
     "output_type": "display_data"
    },
    {
     "name": "stderr",
     "output_type": "stream",
     "text": [
      "\n",
      "INFO:allennlp.training.tensorboard_writer:                        Training |  Validation\n",
      "2021-04-28 12:22:16,490 - allennlp.training.tensorboard_writer - INFO -                        Training |  Validation\n",
      "INFO:allennlp.training.tensorboard_writer: _fscore/HAM        |     1.000  |       N/A\n",
      "2021-04-28 12:22:16,493 - allennlp.training.tensorboard_writer - INFO - _fscore/HAM        |     1.000  |       N/A\n",
      "INFO:allennlp.training.tensorboard_writer: _fscore/SPAM       |     1.000  |       N/A\n",
      "2021-04-28 12:22:16,496 - allennlp.training.tensorboard_writer - INFO - _fscore/SPAM       |     1.000  |       N/A\n",
      "INFO:allennlp.training.tensorboard_writer: _precision/HAM     |     1.000  |       N/A\n",
      "2021-04-28 12:22:16,500 - allennlp.training.tensorboard_writer - INFO - _precision/HAM     |     1.000  |       N/A\n",
      "INFO:allennlp.training.tensorboard_writer: _precision/SPAM    |     1.000  |       N/A\n",
      "2021-04-28 12:22:16,503 - allennlp.training.tensorboard_writer - INFO - _precision/SPAM    |     1.000  |       N/A\n",
      "INFO:allennlp.training.tensorboard_writer: _recall/HAM        |     1.000  |       N/A\n",
      "2021-04-28 12:22:16,507 - allennlp.training.tensorboard_writer - INFO - _recall/HAM        |     1.000  |       N/A\n",
      "INFO:allennlp.training.tensorboard_writer: _recall/SPAM       |     1.000  |       N/A\n",
      "2021-04-28 12:22:16,511 - allennlp.training.tensorboard_writer - INFO - _recall/SPAM       |     1.000  |       N/A\n",
      "INFO:allennlp.training.tensorboard_writer: accuracy           |     1.000  |       N/A\n",
      "2021-04-28 12:22:16,515 - allennlp.training.tensorboard_writer - INFO - accuracy           |     1.000  |       N/A\n",
      "INFO:allennlp.training.tensorboard_writer: loss               |     0.002  |       N/A\n",
      "2021-04-28 12:22:16,518 - allennlp.training.tensorboard_writer - INFO - loss               |     0.002  |       N/A\n",
      "INFO:allennlp.training.tensorboard_writer: macro/fscore       |     1.000  |       N/A\n",
      "2021-04-28 12:22:16,520 - allennlp.training.tensorboard_writer - INFO - macro/fscore       |     1.000  |       N/A\n",
      "INFO:allennlp.training.tensorboard_writer: macro/precision    |     1.000  |       N/A\n",
      "2021-04-28 12:22:16,525 - allennlp.training.tensorboard_writer - INFO - macro/precision    |     1.000  |       N/A\n",
      "INFO:allennlp.training.tensorboard_writer: macro/recall       |     1.000  |       N/A\n",
      "2021-04-28 12:22:16,528 - allennlp.training.tensorboard_writer - INFO - macro/recall       |     1.000  |       N/A\n",
      "INFO:allennlp.training.tensorboard_writer: micro/fscore       |     1.000  |       N/A\n",
      "2021-04-28 12:22:16,533 - allennlp.training.tensorboard_writer - INFO - micro/fscore       |     1.000  |       N/A\n",
      "INFO:allennlp.training.tensorboard_writer: micro/precision    |     1.000  |       N/A\n",
      "2021-04-28 12:22:16,536 - allennlp.training.tensorboard_writer - INFO - micro/precision    |     1.000  |       N/A\n",
      "INFO:allennlp.training.tensorboard_writer: micro/recall       |     1.000  |       N/A\n",
      "2021-04-28 12:22:16,539 - allennlp.training.tensorboard_writer - INFO - micro/recall       |     1.000  |       N/A\n",
      "INFO:allennlp.training.tensorboard_writer: worker_0_memory_MB |  1117.078  |       N/A\n",
      "2021-04-28 12:22:16,543 - allennlp.training.tensorboard_writer - INFO - worker_0_memory_MB |  1117.078  |       N/A\n",
      "INFO:allennlp.training.checkpointer: Best validation performance so far. Copying weights to 'path_to_store_training_run_output/best.th'.\n",
      "2021-04-28 12:22:16,551 - allennlp.training.checkpointer - INFO - Best validation performance so far. Copying weights to 'path_to_store_training_run_output/best.th'.\n",
      "INFO:allennlp.training.trainer: Epoch duration: 0:00:00.885401\n",
      "2021-04-28 12:22:16,572 - allennlp.training.trainer - INFO - Epoch duration: 0:00:00.885401\n",
      "INFO:allennlp.training.trainer: Estimated training time remaining: 0:00:03\n",
      "2021-04-28 12:22:16,575 - allennlp.training.trainer - INFO - Estimated training time remaining: 0:00:03\n",
      "INFO:allennlp.training.trainer: Epoch 17/19\n",
      "2021-04-28 12:22:16,578 - allennlp.training.trainer - INFO - Epoch 17/19\n",
      "INFO:allennlp.training.trainer: Worker 0 memory usage: 1.1G\n",
      "2021-04-28 12:22:16,582 - allennlp.training.trainer - INFO - Worker 0 memory usage: 1.1G\n",
      "INFO:allennlp.training.trainer: Training\n",
      "2021-04-28 12:22:16,585 - allennlp.training.trainer - INFO - Training\n"
     ]
    },
    {
     "data": {
      "application/vnd.jupyter.widget-view+json": {
       "model_id": "2aced6970c914c009aab0a92cb4b33ab",
       "version_major": 2,
       "version_minor": 0
      },
      "text/plain": [
       "HBox(children=(FloatProgress(value=0.0, max=98.0), HTML(value='')))"
      ]
     },
     "metadata": {},
     "output_type": "display_data"
    },
    {
     "name": "stderr",
     "output_type": "stream",
     "text": [
      "\n",
      "INFO:allennlp.training.tensorboard_writer:                        Training |  Validation\n",
      "2021-04-28 12:22:17,372 - allennlp.training.tensorboard_writer - INFO -                        Training |  Validation\n",
      "INFO:allennlp.training.tensorboard_writer: _fscore/HAM        |     1.000  |       N/A\n",
      "2021-04-28 12:22:17,375 - allennlp.training.tensorboard_writer - INFO - _fscore/HAM        |     1.000  |       N/A\n",
      "INFO:allennlp.training.tensorboard_writer: _fscore/SPAM       |     1.000  |       N/A\n",
      "2021-04-28 12:22:17,379 - allennlp.training.tensorboard_writer - INFO - _fscore/SPAM       |     1.000  |       N/A\n",
      "INFO:allennlp.training.tensorboard_writer: _precision/HAM     |     1.000  |       N/A\n",
      "2021-04-28 12:22:17,382 - allennlp.training.tensorboard_writer - INFO - _precision/HAM     |     1.000  |       N/A\n",
      "INFO:allennlp.training.tensorboard_writer: _precision/SPAM    |     1.000  |       N/A\n",
      "2021-04-28 12:22:17,385 - allennlp.training.tensorboard_writer - INFO - _precision/SPAM    |     1.000  |       N/A\n",
      "INFO:allennlp.training.tensorboard_writer: _recall/HAM        |     1.000  |       N/A\n",
      "2021-04-28 12:22:17,389 - allennlp.training.tensorboard_writer - INFO - _recall/HAM        |     1.000  |       N/A\n",
      "INFO:allennlp.training.tensorboard_writer: _recall/SPAM       |     1.000  |       N/A\n",
      "2021-04-28 12:22:17,392 - allennlp.training.tensorboard_writer - INFO - _recall/SPAM       |     1.000  |       N/A\n",
      "INFO:allennlp.training.tensorboard_writer: accuracy           |     1.000  |       N/A\n",
      "2021-04-28 12:22:17,396 - allennlp.training.tensorboard_writer - INFO - accuracy           |     1.000  |       N/A\n",
      "INFO:allennlp.training.tensorboard_writer: loss               |     0.002  |       N/A\n",
      "2021-04-28 12:22:17,399 - allennlp.training.tensorboard_writer - INFO - loss               |     0.002  |       N/A\n",
      "INFO:allennlp.training.tensorboard_writer: macro/fscore       |     1.000  |       N/A\n",
      "2021-04-28 12:22:17,403 - allennlp.training.tensorboard_writer - INFO - macro/fscore       |     1.000  |       N/A\n",
      "INFO:allennlp.training.tensorboard_writer: macro/precision    |     1.000  |       N/A\n",
      "2021-04-28 12:22:17,407 - allennlp.training.tensorboard_writer - INFO - macro/precision    |     1.000  |       N/A\n",
      "INFO:allennlp.training.tensorboard_writer: macro/recall       |     1.000  |       N/A\n",
      "2021-04-28 12:22:17,410 - allennlp.training.tensorboard_writer - INFO - macro/recall       |     1.000  |       N/A\n",
      "INFO:allennlp.training.tensorboard_writer: micro/fscore       |     1.000  |       N/A\n",
      "2021-04-28 12:22:17,413 - allennlp.training.tensorboard_writer - INFO - micro/fscore       |     1.000  |       N/A\n",
      "INFO:allennlp.training.tensorboard_writer: micro/precision    |     1.000  |       N/A\n",
      "2021-04-28 12:22:17,417 - allennlp.training.tensorboard_writer - INFO - micro/precision    |     1.000  |       N/A\n",
      "INFO:allennlp.training.tensorboard_writer: micro/recall       |     1.000  |       N/A\n",
      "2021-04-28 12:22:17,421 - allennlp.training.tensorboard_writer - INFO - micro/recall       |     1.000  |       N/A\n",
      "INFO:allennlp.training.tensorboard_writer: worker_0_memory_MB |  1117.176  |       N/A\n",
      "2021-04-28 12:22:17,424 - allennlp.training.tensorboard_writer - INFO - worker_0_memory_MB |  1117.176  |       N/A\n",
      "INFO:allennlp.training.checkpointer: Best validation performance so far. Copying weights to 'path_to_store_training_run_output/best.th'.\n",
      "2021-04-28 12:22:17,432 - allennlp.training.checkpointer - INFO - Best validation performance so far. Copying weights to 'path_to_store_training_run_output/best.th'.\n",
      "INFO:allennlp.training.trainer: Epoch duration: 0:00:00.868144\n",
      "2021-04-28 12:22:17,446 - allennlp.training.trainer - INFO - Epoch duration: 0:00:00.868144\n",
      "INFO:allennlp.training.trainer: Estimated training time remaining: 0:00:02\n",
      "2021-04-28 12:22:17,449 - allennlp.training.trainer - INFO - Estimated training time remaining: 0:00:02\n",
      "INFO:allennlp.training.trainer: Epoch 18/19\n",
      "2021-04-28 12:22:17,452 - allennlp.training.trainer - INFO - Epoch 18/19\n",
      "INFO:allennlp.training.trainer: Worker 0 memory usage: 1.1G\n",
      "2021-04-28 12:22:17,455 - allennlp.training.trainer - INFO - Worker 0 memory usage: 1.1G\n",
      "INFO:allennlp.training.trainer: Training\n",
      "2021-04-28 12:22:17,458 - allennlp.training.trainer - INFO - Training\n"
     ]
    },
    {
     "data": {
      "application/vnd.jupyter.widget-view+json": {
       "model_id": "421ad7c2337c450bb70809e923bdb9e4",
       "version_major": 2,
       "version_minor": 0
      },
      "text/plain": [
       "HBox(children=(FloatProgress(value=0.0, max=98.0), HTML(value='')))"
      ]
     },
     "metadata": {},
     "output_type": "display_data"
    },
    {
     "name": "stderr",
     "output_type": "stream",
     "text": [
      "\n",
      "INFO:allennlp.training.tensorboard_writer:                        Training |  Validation\n",
      "2021-04-28 12:22:18,212 - allennlp.training.tensorboard_writer - INFO -                        Training |  Validation\n",
      "INFO:allennlp.training.tensorboard_writer: _fscore/HAM        |     1.000  |       N/A\n",
      "2021-04-28 12:22:18,215 - allennlp.training.tensorboard_writer - INFO - _fscore/HAM        |     1.000  |       N/A\n",
      "INFO:allennlp.training.tensorboard_writer: _fscore/SPAM       |     1.000  |       N/A\n",
      "2021-04-28 12:22:18,218 - allennlp.training.tensorboard_writer - INFO - _fscore/SPAM       |     1.000  |       N/A\n",
      "INFO:allennlp.training.tensorboard_writer: _precision/HAM     |     1.000  |       N/A\n",
      "2021-04-28 12:22:18,222 - allennlp.training.tensorboard_writer - INFO - _precision/HAM     |     1.000  |       N/A\n",
      "INFO:allennlp.training.tensorboard_writer: _precision/SPAM    |     1.000  |       N/A\n",
      "2021-04-28 12:22:18,224 - allennlp.training.tensorboard_writer - INFO - _precision/SPAM    |     1.000  |       N/A\n",
      "INFO:allennlp.training.tensorboard_writer: _recall/HAM        |     1.000  |       N/A\n",
      "2021-04-28 12:22:18,228 - allennlp.training.tensorboard_writer - INFO - _recall/HAM        |     1.000  |       N/A\n",
      "INFO:allennlp.training.tensorboard_writer: _recall/SPAM       |     1.000  |       N/A\n",
      "2021-04-28 12:22:18,231 - allennlp.training.tensorboard_writer - INFO - _recall/SPAM       |     1.000  |       N/A\n",
      "INFO:allennlp.training.tensorboard_writer: accuracy           |     1.000  |       N/A\n",
      "2021-04-28 12:22:18,234 - allennlp.training.tensorboard_writer - INFO - accuracy           |     1.000  |       N/A\n",
      "INFO:allennlp.training.tensorboard_writer: loss               |     0.002  |       N/A\n",
      "2021-04-28 12:22:18,238 - allennlp.training.tensorboard_writer - INFO - loss               |     0.002  |       N/A\n",
      "INFO:allennlp.training.tensorboard_writer: macro/fscore       |     1.000  |       N/A\n",
      "2021-04-28 12:22:18,241 - allennlp.training.tensorboard_writer - INFO - macro/fscore       |     1.000  |       N/A\n",
      "INFO:allennlp.training.tensorboard_writer: macro/precision    |     1.000  |       N/A\n",
      "2021-04-28 12:22:18,246 - allennlp.training.tensorboard_writer - INFO - macro/precision    |     1.000  |       N/A\n",
      "INFO:allennlp.training.tensorboard_writer: macro/recall       |     1.000  |       N/A\n",
      "2021-04-28 12:22:18,249 - allennlp.training.tensorboard_writer - INFO - macro/recall       |     1.000  |       N/A\n",
      "INFO:allennlp.training.tensorboard_writer: micro/fscore       |     1.000  |       N/A\n",
      "2021-04-28 12:22:18,253 - allennlp.training.tensorboard_writer - INFO - micro/fscore       |     1.000  |       N/A\n",
      "INFO:allennlp.training.tensorboard_writer: micro/precision    |     1.000  |       N/A\n",
      "2021-04-28 12:22:18,256 - allennlp.training.tensorboard_writer - INFO - micro/precision    |     1.000  |       N/A\n",
      "INFO:allennlp.training.tensorboard_writer: micro/recall       |     1.000  |       N/A\n",
      "2021-04-28 12:22:18,260 - allennlp.training.tensorboard_writer - INFO - micro/recall       |     1.000  |       N/A\n",
      "INFO:allennlp.training.tensorboard_writer: worker_0_memory_MB |  1117.289  |       N/A\n",
      "2021-04-28 12:22:18,263 - allennlp.training.tensorboard_writer - INFO - worker_0_memory_MB |  1117.289  |       N/A\n",
      "INFO:allennlp.training.checkpointer: Best validation performance so far. Copying weights to 'path_to_store_training_run_output/best.th'.\n",
      "2021-04-28 12:22:18,275 - allennlp.training.checkpointer - INFO - Best validation performance so far. Copying weights to 'path_to_store_training_run_output/best.th'.\n",
      "INFO:allennlp.training.trainer: Epoch duration: 0:00:00.838118\n",
      "2021-04-28 12:22:18,290 - allennlp.training.trainer - INFO - Epoch duration: 0:00:00.838118\n",
      "INFO:allennlp.training.trainer: Estimated training time remaining: 0:00:00\n",
      "2021-04-28 12:22:18,292 - allennlp.training.trainer - INFO - Estimated training time remaining: 0:00:00\n",
      "INFO:allennlp.training.trainer: Epoch 19/19\n",
      "2021-04-28 12:22:18,294 - allennlp.training.trainer - INFO - Epoch 19/19\n",
      "INFO:allennlp.training.trainer: Worker 0 memory usage: 1.1G\n",
      "2021-04-28 12:22:18,297 - allennlp.training.trainer - INFO - Worker 0 memory usage: 1.1G\n",
      "INFO:allennlp.training.trainer: Training\n",
      "2021-04-28 12:22:18,299 - allennlp.training.trainer - INFO - Training\n"
     ]
    },
    {
     "data": {
      "application/vnd.jupyter.widget-view+json": {
       "model_id": "600e14c50ff34f3f914c64b7f3a7de05",
       "version_major": 2,
       "version_minor": 0
      },
      "text/plain": [
       "HBox(children=(FloatProgress(value=0.0, max=98.0), HTML(value='')))"
      ]
     },
     "metadata": {},
     "output_type": "display_data"
    },
    {
     "name": "stderr",
     "output_type": "stream",
     "text": [
      "\n",
      "INFO:allennlp.training.tensorboard_writer:                        Training |  Validation\n",
      "2021-04-28 12:22:19,068 - allennlp.training.tensorboard_writer - INFO -                        Training |  Validation\n",
      "INFO:allennlp.training.tensorboard_writer: _fscore/HAM        |     1.000  |       N/A\n",
      "2021-04-28 12:22:19,071 - allennlp.training.tensorboard_writer - INFO - _fscore/HAM        |     1.000  |       N/A\n",
      "INFO:allennlp.training.tensorboard_writer: _fscore/SPAM       |     1.000  |       N/A\n",
      "2021-04-28 12:22:19,074 - allennlp.training.tensorboard_writer - INFO - _fscore/SPAM       |     1.000  |       N/A\n",
      "INFO:allennlp.training.tensorboard_writer: _precision/HAM     |     1.000  |       N/A\n",
      "2021-04-28 12:22:19,078 - allennlp.training.tensorboard_writer - INFO - _precision/HAM     |     1.000  |       N/A\n",
      "INFO:allennlp.training.tensorboard_writer: _precision/SPAM    |     1.000  |       N/A\n",
      "2021-04-28 12:22:19,081 - allennlp.training.tensorboard_writer - INFO - _precision/SPAM    |     1.000  |       N/A\n",
      "INFO:allennlp.training.tensorboard_writer: _recall/HAM        |     1.000  |       N/A\n",
      "2021-04-28 12:22:19,084 - allennlp.training.tensorboard_writer - INFO - _recall/HAM        |     1.000  |       N/A\n",
      "INFO:allennlp.training.tensorboard_writer: _recall/SPAM       |     1.000  |       N/A\n",
      "2021-04-28 12:22:19,088 - allennlp.training.tensorboard_writer - INFO - _recall/SPAM       |     1.000  |       N/A\n",
      "INFO:allennlp.training.tensorboard_writer: accuracy           |     1.000  |       N/A\n",
      "2021-04-28 12:22:19,091 - allennlp.training.tensorboard_writer - INFO - accuracy           |     1.000  |       N/A\n",
      "INFO:allennlp.training.tensorboard_writer: loss               |     0.001  |       N/A\n",
      "2021-04-28 12:22:19,095 - allennlp.training.tensorboard_writer - INFO - loss               |     0.001  |       N/A\n",
      "INFO:allennlp.training.tensorboard_writer: macro/fscore       |     1.000  |       N/A\n",
      "2021-04-28 12:22:19,098 - allennlp.training.tensorboard_writer - INFO - macro/fscore       |     1.000  |       N/A\n",
      "INFO:allennlp.training.tensorboard_writer: macro/precision    |     1.000  |       N/A\n",
      "2021-04-28 12:22:19,101 - allennlp.training.tensorboard_writer - INFO - macro/precision    |     1.000  |       N/A\n",
      "INFO:allennlp.training.tensorboard_writer: macro/recall       |     1.000  |       N/A\n",
      "2021-04-28 12:22:19,103 - allennlp.training.tensorboard_writer - INFO - macro/recall       |     1.000  |       N/A\n",
      "INFO:allennlp.training.tensorboard_writer: micro/fscore       |     1.000  |       N/A\n",
      "2021-04-28 12:22:19,107 - allennlp.training.tensorboard_writer - INFO - micro/fscore       |     1.000  |       N/A\n",
      "INFO:allennlp.training.tensorboard_writer: micro/precision    |     1.000  |       N/A\n",
      "2021-04-28 12:22:19,110 - allennlp.training.tensorboard_writer - INFO - micro/precision    |     1.000  |       N/A\n",
      "INFO:allennlp.training.tensorboard_writer: micro/recall       |     1.000  |       N/A\n",
      "2021-04-28 12:22:19,113 - allennlp.training.tensorboard_writer - INFO - micro/recall       |     1.000  |       N/A\n",
      "INFO:allennlp.training.tensorboard_writer: worker_0_memory_MB |  1117.391  |       N/A\n",
      "2021-04-28 12:22:19,117 - allennlp.training.tensorboard_writer - INFO - worker_0_memory_MB |  1117.391  |       N/A\n",
      "INFO:allennlp.training.checkpointer: Best validation performance so far. Copying weights to 'path_to_store_training_run_output/best.th'.\n",
      "2021-04-28 12:22:19,126 - allennlp.training.checkpointer - INFO - Best validation performance so far. Copying weights to 'path_to_store_training_run_output/best.th'.\n",
      "INFO:allennlp.training.trainer: Epoch duration: 0:00:00.847302\n",
      "2021-04-28 12:22:19,141 - allennlp.training.trainer - INFO - Epoch duration: 0:00:00.847302\n",
      "INFO:allennlp.training.checkpointer: loading best weights\n",
      "2021-04-28 12:22:19,143 - allennlp.training.checkpointer - INFO - loading best weights\n",
      "INFO:biome.text._helpers: The model will be evaluated using the best epoch weights.\n",
      "2021-04-28 12:22:19,162 - biome.text._helpers - INFO - The model will be evaluated using the best epoch weights.\n",
      "INFO:allennlp.training.util: Iterating over dataset\n",
      "2021-04-28 12:22:19,167 - allennlp.training.util - INFO - Iterating over dataset\n"
     ]
    },
    {
     "data": {
      "application/vnd.jupyter.widget-view+json": {
       "model_id": "74c59df44a5342f4b874c605e3fbbac5",
       "version_major": 2,
       "version_minor": 0
      },
      "text/plain": [
       "HBox(children=(FloatProgress(value=1.0, bar_style='info', layout=Layout(width='20px'), max=1.0), HTML(value=''…"
      ]
     },
     "metadata": {},
     "output_type": "display_data"
    },
    {
     "name": "stderr",
     "output_type": "stream",
     "text": [
      "\n",
      "INFO:allennlp.models.archival: archiving weights and vocabulary to path_to_store_training_run_output/model.tar.gz\n",
      "2021-04-28 12:22:19,252 - allennlp.models.archival - INFO - archiving weights and vocabulary to path_to_store_training_run_output/model.tar.gz\n"
     ]
    },
    {
     "data": {
      "text/html": [
       "<br/>Waiting for W&B process to finish, PID 828<br/>Program ended successfully."
      ],
      "text/plain": [
       "<IPython.core.display.HTML object>"
      ]
     },
     "metadata": {},
     "output_type": "display_data"
    },
    {
     "data": {
      "application/vnd.jupyter.widget-view+json": {
       "model_id": "8ac194175ac842739b56d43456f715cd",
       "version_major": 2,
       "version_minor": 0
      },
      "text/plain": [
       "VBox(children=(Label(value=' 0.00MB of 0.00MB uploaded (0.00MB deduped)\\r'), FloatProgress(value=1.0, max=1.0)…"
      ]
     },
     "metadata": {},
     "output_type": "display_data"
    },
    {
     "data": {
      "text/html": [
       "Find user logs for this run at: <code>.wandb/.wandb/run-20210428_122157-2nl28ewm/logs/debug.log</code>"
      ],
      "text/plain": [
       "<IPython.core.display.HTML object>"
      ]
     },
     "metadata": {},
     "output_type": "display_data"
    },
    {
     "data": {
      "text/html": [
       "Find internal logs for this run at: <code>.wandb/.wandb/run-20210428_122157-2nl28ewm/logs/debug-internal.log</code>"
      ],
      "text/plain": [
       "<IPython.core.display.HTML object>"
      ]
     },
     "metadata": {},
     "output_type": "display_data"
    },
    {
     "data": {
      "text/html": [
       "<h3>Run summary:</h3><br/><style>\n",
       "    table.wandb td:nth-child(1) { padding: 0 10px; text-align: right }\n",
       "    </style><table class=\"wandb\">\n",
       "<tr><td>best_epoch</td><td>19</td></tr><tr><td>peak_worker_0_memory_MB</td><td>1117.39062</td></tr><tr><td>training_duration</td><td>0:00:19.689126</td></tr><tr><td>training_start_epoch</td><td>0</td></tr><tr><td>training_epochs</td><td>19</td></tr><tr><td>epoch</td><td>19</td></tr><tr><td>training_accuracy</td><td>1.0</td></tr><tr><td>training_micro/precision</td><td>1.0</td></tr><tr><td>training_micro/recall</td><td>1.0</td></tr><tr><td>training_micro/fscore</td><td>1.0</td></tr><tr><td>training_macro/precision</td><td>1.0</td></tr><tr><td>training_macro/recall</td><td>1.0</td></tr><tr><td>training_macro/fscore</td><td>1.0</td></tr><tr><td>training__precision/SPAM</td><td>1.0</td></tr><tr><td>training__precision/HAM</td><td>1.0</td></tr><tr><td>training__recall/SPAM</td><td>1.0</td></tr><tr><td>training__recall/HAM</td><td>1.0</td></tr><tr><td>training__fscore/SPAM</td><td>1.0</td></tr><tr><td>training__fscore/HAM</td><td>1.0</td></tr><tr><td>training_loss</td><td>0.00139</td></tr><tr><td>training_worker_0_memory_MB</td><td>1117.39062</td></tr><tr><td>_runtime</td><td>22</td></tr><tr><td>_timestamp</td><td>1619605339</td></tr><tr><td>_step</td><td>19</td></tr></table>"
      ],
      "text/plain": [
       "<IPython.core.display.HTML object>"
      ]
     },
     "metadata": {},
     "output_type": "display_data"
    },
    {
     "data": {
      "text/html": [
       "<h3>Run history:</h3><br/><style>\n",
       "    table.wandb td:nth-child(1) { padding: 0 10px; text-align: right }\n",
       "    </style><table class=\"wandb\">\n",
       "<tr><td>best_epoch</td><td>▁▁▂▂▂▃▃▄▄▄▅▅▅▆▆▇▇▇██</td></tr><tr><td>peak_worker_0_memory_MB</td><td>▁▅▅▆▆▆▆▆▇▇▇▇▇▇▇█████</td></tr><tr><td>training_start_epoch</td><td>▁▁▁▁▁▁▁▁▁▁▁▁▁▁▁▁▁▁▁▁</td></tr><tr><td>training_epochs</td><td>▁▁▂▂▂▃▃▄▄▄▅▅▅▆▆▇▇▇██</td></tr><tr><td>epoch</td><td>▁▁▂▂▂▃▃▄▄▄▅▅▅▆▆▇▇▇██</td></tr><tr><td>training_accuracy</td><td>▁▆▇█████████████████</td></tr><tr><td>training_micro/precision</td><td>▁▆▇█████████████████</td></tr><tr><td>training_micro/recall</td><td>▁▆▇█████████████████</td></tr><tr><td>training_micro/fscore</td><td>▁▆▇█████████████████</td></tr><tr><td>training_macro/precision</td><td>▁▆▇█████████████████</td></tr><tr><td>training_macro/recall</td><td>▁▆▇█████████████████</td></tr><tr><td>training_macro/fscore</td><td>▁▆▇█████████████████</td></tr><tr><td>training__precision/SPAM</td><td>▁▆██████████████████</td></tr><tr><td>training__precision/HAM</td><td>▁▅▇█████████████████</td></tr><tr><td>training__recall/SPAM</td><td>▁▄▆▇████████████████</td></tr><tr><td>training__recall/HAM</td><td>▁▆██████████████████</td></tr><tr><td>training__fscore/SPAM</td><td>▁▆▇█████████████████</td></tr><tr><td>training__fscore/HAM</td><td>▁▆▇█████████████████</td></tr><tr><td>training_loss</td><td>█▅▃▂▂▁▁▁▁▁▁▁▁▁▁▁▁▁▁▁</td></tr><tr><td>training_worker_0_memory_MB</td><td>▁▅▅▆▆▆▆▆▇▇▇▇▇▇▇█████</td></tr><tr><td>_runtime</td><td>▁▁▂▂▂▃▃▄▄▄▅▅▅▆▆▇▇▇██</td></tr><tr><td>_timestamp</td><td>▁▁▂▂▂▃▃▄▄▄▅▅▅▆▆▇▇▇██</td></tr><tr><td>_step</td><td>▁▁▂▂▂▃▃▄▄▄▅▅▅▆▆▇▇▇██</td></tr></table><br/>"
      ],
      "text/plain": [
       "<IPython.core.display.HTML object>"
      ]
     },
     "metadata": {},
     "output_type": "display_data"
    },
    {
     "data": {
      "text/html": [
       "Synced 5 W&B file(s), 0 media file(s), 0 artifact file(s) and 0 other file(s)"
      ],
      "text/plain": [
       "<IPython.core.display.HTML object>"
      ]
     },
     "metadata": {},
     "output_type": "display_data"
    },
    {
     "data": {
      "text/html": [
       "\n",
       "                    <br/>Synced <strong style=\"color:#cdcd00\">rich-silence-133</strong>: <a href=\"https://wandb.ai/javispp/biome/runs/2nl28ewm\" target=\"_blank\">https://wandb.ai/javispp/biome/runs/2nl28ewm</a><br/>\n",
       "                "
      ],
      "text/plain": [
       "<IPython.core.display.HTML object>"
      ]
     },
     "metadata": {},
     "output_type": "display_data"
    }
   ],
   "source": [
    "from biome.text import Pipeline, Dataset\n",
    "\n",
    "ds_train = Dataset.from_pandas(df_train_filtered)\n",
    "ds_test = Dataset.from_pandas(df_test)\n",
    "\n",
    "pipeline = Pipeline.from_config({\n",
    "    \"name\": \"my-first-classifier\",\n",
    "    \"head\": {\"type\": \"TextClassification\", \"labels\": list(set(df_test[\"label\"]))}\n",
    "})\n",
    "\n",
    "training_results = pipeline.train(\n",
    "    output=\"path_to_store_training_run_output\",\n",
    "    training=ds_train,\n",
    "    test=ds_test\n",
    ")"
   ]
  },
  {
   "cell_type": "markdown",
   "id": "faf6240c",
   "metadata": {},
   "source": [
    "Once the process has finished, we can go to the \"path_to_store_training_run_output\" folder and open our metrics.json to see all the information. We won't show everything, but make sure to check all the information available."
   ]
  },
  {
   "cell_type": "code",
   "execution_count": 52,
   "id": "13762164",
   "metadata": {},
   "outputs": [
    {
     "name": "stdout",
     "output_type": "stream",
     "text": [
      "Simple pipeline test accuracy: 0.868\n"
     ]
    }
   ],
   "source": [
    "import json\n",
    "\n",
    "with open(\"./path_to_store_training_run_output/metrics.json\") as json_file:\n",
    "    metrics = json.load(json_file)\n",
    "    \n",
    "print(\"Simple pipeline test accuracy:\", metrics[\"test_accuracy\"])"
   ]
  },
  {
   "cell_type": "code",
   "execution_count": 53,
   "id": "2c4b28a3",
   "metadata": {},
   "outputs": [
    {
     "data": {
      "text/plain": [
       "{'labels': ['SPAM', 'HAM'],\n",
       " 'probabilities': [0.9997109770774841, 0.00028897481388412416]}"
      ]
     },
     "execution_count": 53,
     "metadata": {},
     "output_type": "execute_result"
    }
   ],
   "source": [
    "pipeline.predict(\"Don't forget to check out biome.text for more information :)\")"
   ]
  },
  {
   "cell_type": "markdown",
   "id": "e7a18fe4",
   "metadata": {},
   "source": [
    "## Summary"
   ]
  },
  {
   "cell_type": "markdown",
   "id": "8bc89baf",
   "metadata": {},
   "source": [
    "In this tutorial, we accomplished the following:\n",
    "\n",
    "- We introduced the concept of Labeling Functions (LFs) and demonstrated some of the forms they can take.\n",
    "- We used the Snorkel LabelModel to automatically learn how to combine the outputs of our LFs into strong probabilistic labels.\n",
    "- We showed how we can incorporate Rubrix into our workflow to get faster and more accurate results.\n",
    "- We built and tested a simple pipeline using biome.text"
   ]
  },
  {
   "cell_type": "markdown",
   "id": "9f37c05c",
   "metadata": {},
   "source": [
    "## What's next"
   ]
  },
  {
   "cell_type": "markdown",
   "id": "b121f262",
   "metadata": {},
   "source": [
    "TODO: No need to add anything here yet"
   ]
  },
  {
   "cell_type": "code",
   "execution_count": null,
   "id": "c98d777e",
   "metadata": {},
   "outputs": [],
   "source": []
  }
 ],
 "metadata": {
  "kernelspec": {
   "display_name": "Python 3",
   "language": "python",
   "name": "python3"
  },
  "language_info": {
   "codemirror_mode": {
    "name": "ipython",
    "version": 3
   },
   "file_extension": ".py",
   "mimetype": "text/x-python",
   "name": "python",
   "nbconvert_exporter": "python",
   "pygments_lexer": "ipython3",
   "version": "3.8.8"
  }
 },
 "nbformat": 4,
 "nbformat_minor": 5
}
