{
 "cells": [
  {
   "cell_type": "markdown",
   "id": "a8acd292-a34b-4ce7-a384-2c438f6cfeb5",
   "metadata": {},
   "source": [
    "# 🏷️ 🔫 Faster data annotation with a zero-shot text classifier"
   ]
  },
  {
   "cell_type": "markdown",
   "id": "7fbcf3ba-3445-4763-8ea1-78780689a5b3",
   "metadata": {},
   "source": [
    "## TL;DR\n",
    "\n",
    "1. A simple workflow for data annotation with Rubrix is introduced: **using a zero-shot classification model to pre-annotate and hand-label data more efficiently**.\n",
    "2. The technique is shown with a Spanish **zero-shot classifier from the Hugging Face Hub** on the **Spanish portion of the MLSum dataset**.\n",
    "3. We perform two data annotation rounds as an example: (1) **labeling random examples**, and (2) **bulk labeling high score examples**.\n",
    "4. Besides boosting the labeling process, this workflow lets you **evaluate the performance of zero-shot classification for a specific use case**. In this example use case, we observe the pre-trained zero-shot classifier provides pretty decent results, which might be enough for general news categorization.\n"
   ]
  },
  {
   "cell_type": "markdown",
   "id": "12c89368-4864-4cea-9c59-5a49e1eb42de",
   "metadata": {},
   "source": [
    "<video width=\"100%\" controls><source src=\"https://github.com/recognai/rubrix-materials/raw/main/tutorials/videos/zeroshot_selectra_news_data_annotation.mp4\" type=\"video/mp4\"></video>"
   ]
  },
  {
   "cell_type": "markdown",
   "id": "a56c5c3e-3b43-47f8-870b-64b159872988",
   "metadata": {},
   "source": [
    "## Setup Rubrix\n",
    "\n",
    "Rubrix, is a free and open-source tool to explore, annotate, and monitor data for NLP projects.\n",
    "\n",
    "If you are new to Rubrix, check out the ⭐ [Github repository](https://github.com/recognai/rubrix).\n",
    "\n",
    "If you have not installed and launched Rubrix, check the [Setup and Installation guide](../getting_started/setup&installation.rst).\n",
    "\n",
    "Once installed, you only need to import Rubrix:"
   ]
  },
  {
   "cell_type": "code",
   "execution_count": null,
   "id": "041988a8-6535-42ce-901f-b043539cd5c1",
   "metadata": {},
   "outputs": [],
   "source": [
    "import rubrix as rb"
   ]
  },
  {
   "cell_type": "markdown",
   "id": "df988cbb-aed7-4bb8-aa5c-7c1ae6456ee2",
   "metadata": {},
   "source": [
    "## 1. Load the Spanish zero-shot classifier: `Selectra`\n",
    "\n",
    "We will use the recently release Selectra zero-shot classifier: https://huggingface.co/Recognai/zeroshot_selectra_medium"
   ]
  },
  {
   "cell_type": "code",
   "execution_count": null,
   "id": "b24df5c6-0f08-4e32-8d10-ef3f173ee808",
   "metadata": {},
   "outputs": [],
   "source": [
    "from transformers import pipeline\n",
    "\n",
    "classifier = pipeline(\"zero-shot-classification\", \n",
    "                       model=\"Recognai/zeroshot_selectra_medium\")\n",
    "\n",
    "predictions = classifier(\n",
    "    \"El autor se perfila, a los 50 años de su muerte, como uno de los grandes de su siglo\",\n",
    "    candidate_labels=[\"cultura\", \"sociedad\", \"economia\", \"salud\", \"deportes\"],\n",
    "    hypothesis_template=\"Ejemplo de {}.\"\n",
    ")\n",
    "\n",
    "hypothesis_template = \"Esta noticia habla de {}.\"\n",
    "candidate_labels = [\"política\", \"cultura\", \"sociedad\", \"economia\", \"deportes\", \"ciencia y tecnología\"]"
   ]
  },
  {
   "cell_type": "code",
   "execution_count": 3,
   "id": "79a65dfe-9561-411e-a9d3-d1fe42bc7b24",
   "metadata": {},
   "outputs": [
    {
     "data": {
      "text/plain": [
       "{'sequence': 'El autor se perfila, a los 50 años de su muerte, como uno de los grandes de su siglo',\n",
       " 'labels': ['sociedad', 'cultura', 'economia', 'salud', 'deportes'],\n",
       " 'scores': [0.450505793094635,\n",
       "  0.20290058851242065,\n",
       "  0.18361839652061462,\n",
       "  0.12826894223690033,\n",
       "  0.03470633178949356]}"
      ]
     },
     "execution_count": 3,
     "metadata": {},
     "output_type": "execute_result"
    }
   ],
   "source": [
    "predictions"
   ]
  },
  {
   "cell_type": "markdown",
   "id": "248e82e1-2ff2-4eb9-8479-91d79221219c",
   "metadata": {},
   "source": [
    "## 2. Loading the `MLSum` dataset"
   ]
  },
  {
   "cell_type": "code",
   "execution_count": null,
   "id": "e7f24b9d-594e-4b83-b75c-a445cb4b189e",
   "metadata": {},
   "outputs": [],
   "source": [
    "from datasets import load_dataset\n",
    "\n",
    "mlsum = load_dataset(\"mlsum\", \"es\", split=\"test[0:500]\")"
   ]
  },
  {
   "cell_type": "markdown",
   "id": "5c222255-0184-465a-992c-3e4012978f45",
   "metadata": {},
   "source": [
    "## 3. Logging predictions in Rubrix"
   ]
  },
  {
   "cell_type": "code",
   "execution_count": null,
   "id": "43ff4478-1e50-4f6c-8905-0b1514122d1b",
   "metadata": {},
   "outputs": [],
   "source": [
    "records = []\n",
    "for article in mlsum:\n",
    "    predictions = classifier(\n",
    "        article[\"summary\"],\n",
    "        candidate_labels = candidate_labels,\n",
    "        hypothesis_template = hypothesis_template\n",
    "    )\n",
    "    records.append(\n",
    "        rb.TextClassificationRecord(\n",
    "            inputs=article[\"summary\"],\n",
    "            prediction=list(zip(predictions['labels'], predictions['scores'])),\n",
    "            metadata={\"topic\": article[\"topic\"]}\n",
    "        )\n",
    "    )"
   ]
  },
  {
   "cell_type": "code",
   "execution_count": null,
   "id": "b110794c-d7c0-4fe2-9a1b-c35a7757f9fc",
   "metadata": {},
   "outputs": [],
   "source": [
    "rb.log(records, name=\"zeroshot_noticias\", metadata={\"tags\": \"data-annotation\"})"
   ]
  },
  {
   "cell_type": "markdown",
   "id": "dca8dd66-1520-472d-b250-7a06b6d74ad3",
   "metadata": {},
   "source": [
    "## 4. Hand-labeling session"
   ]
  },
  {
   "cell_type": "markdown",
   "id": "35dfcf83-98c1-4f88-bfa3-235603e5030c",
   "metadata": {},
   "source": [
    "### Label first 20 random examples"
   ]
  },
  {
   "cell_type": "markdown",
   "id": "7edffc53-e83c-4d26-ba03-7f0a519bc100",
   "metadata": {},
   "source": [
    "<video width=\"100%\" controls><source src=\"https://github.com/recognai/rubrix-materials/raw/main/tutorials/videos/zeroshot_selectra_news_data_annotation.mp4\" type=\"video/mp4\"></video>"
   ]
  },
  {
   "cell_type": "markdown",
   "id": "7cfabe0f-8525-4482-82bf-6a68b8c7d6ad",
   "metadata": {},
   "source": [
    "### Label records with high score predictions"
   ]
  },
  {
   "cell_type": "markdown",
   "id": "75a190ba-4c39-4e9f-81f1-6001e3d7e7a8",
   "metadata": {},
   "source": [
    "<video width=\"100%\" controls><source src=\"https://github.com/recognai/rubrix-materials/raw/main/tutorials/videos/zeroshot_high_confidence.mp4\" type=\"video/mp4\"></video>"
   ]
  },
  {
   "cell_type": "markdown",
   "id": "d9054fb1-d4c0-45ee-ab72-dfe9efa3264a",
   "metadata": {},
   "source": [
    "## Next steps\n",
    "\n",
    "If you are interested in the topic of zero-shot models, check out the tutorial for using [Rubrix with Flair's zero-shot NER](07-zeroshot_ner).\n",
    "\n",
    "### 📚 [Rubrix documentation](https://docs.rubrix.ml) for more guides and tutorials.\n",
    "\n",
    "### 🙋‍♀️ Join the Rubrix community! A good place to start is the [discussion forum](https://github.com/recognai/rubrix/discussions).\n",
    "\n",
    "### ⭐ Rubrix [Github repo](https://github.com/recognai/rubrix) to stay updated."
   ]
  }
 ],
 "metadata": {
  "kernelspec": {
   "display_name": "Python 3",
   "language": "python",
   "name": "python3"
  },
  "language_info": {
   "codemirror_mode": {
    "name": "ipython",
    "version": 3
   },
   "file_extension": ".py",
   "mimetype": "text/x-python",
   "name": "python",
   "nbconvert_exporter": "python",
   "pygments_lexer": "ipython3",
   "version": "3.8.5"
  }
 },
 "nbformat": 4,
 "nbformat_minor": 5
}
