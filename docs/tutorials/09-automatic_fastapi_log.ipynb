{
 "cells": [
  {
   "cell_type": "markdown",
   "source": [
    "# 💾  Monitor API endpoint and log predictions in a Rubrix dataset\r\n",
    "\r\n",
    "In this tutorial, you'll learn to monitoring the predictions of a FastAPI inference endpoint\r\n",
    "and log predictions in a Rubrix dataset. \r\n",
    "\r\n",
    "\r\n",
    "This tutorial walks you through 4 basic steps to automate your endpoint:\r\n",
    "\r\n",
    "- 💾 Load the model you want to use.\r\n",
    "- 🔄 Convert model output to Rubrix format.\r\n",
    "- 💻 Create a FastAPI endpoint.\r\n",
    "- 🤖 Add middleware to automate logging to Rubrix\r\n",
    "\r\n",
    "\r\n",
    "Let's get started!\r\n",
    "\r\n",
    "\r\n",
    "![Rubrix Log Demo](./img/automatic_fastapi_log/automatic_fastapi_log.gif)"
   ],
   "metadata": {}
  },
  {
   "cell_type": "markdown",
   "source": [
    "## Setup Rubrix\r\n",
    "\r\n",
    "**If you are new to Rubrix, visit and ⭐ star Rubrix for more materials like and detailed docs**: [Github repo](https://github.com/recognai/rubrix)\r\n",
    "\r\n",
    "If you have not installed and launched Rubrix, check the [Setup and Installation guide](https://docs.rubrix.ml/en/latest/getting_started/setup%26installation.html)."
   ],
   "metadata": {}
  },
  {
   "cell_type": "markdown",
   "source": [
    "## Install tutorial dependencies\r\n",
    "\r\n",
    "Apart from Rubrix, we'll need the `transformers` and `uvicorn` libraries and the `distilbert-base-uncased-finetuned-sst-2-english` sentiment-analysis model. If you do not have the libraries, run:"
   ],
   "metadata": {}
  },
  {
   "cell_type": "code",
   "execution_count": null,
   "source": [
    "!pip install transformers\r\n",
    "!pip install uvicorn[standard]"
   ],
   "outputs": [],
   "metadata": {}
  },
  {
   "cell_type": "markdown",
   "source": [
    "The model will be downloaded in the next step."
   ],
   "metadata": {}
  },
  {
   "cell_type": "markdown",
   "source": [
    "## Loading model from HuggingFace Transformers\r\n",
    "\r\n",
    "Let's get and load our model pretrained pipeline and apply it to one of our dataset records:"
   ],
   "metadata": {}
  },
  {
   "cell_type": "code",
   "execution_count": null,
   "source": [
    "from transformers import pipeline\r\n",
    "classifier = pipeline(\"sentiment-analysis\", return_all_scores=True)"
   ],
   "outputs": [],
   "metadata": {}
  },
  {
   "cell_type": "markdown",
   "source": [
    "For more informations about using the `transformers` library, check the \"Explore data and predictions with `datasets` and `transformers`\" [tutorial](https://rubrix.readthedocs.io/en/stable/tutorials/01-huggingface.html)."
   ],
   "metadata": {}
  },
  {
   "cell_type": "markdown",
   "source": [
    "### Model output\r\n",
    "Let's try the model in this example:"
   ],
   "metadata": {}
  },
  {
   "cell_type": "code",
   "execution_count": null,
   "source": [
    "from pprint import pprint\r\n",
    "\r\n",
    "batch = ['I really like rubrix!']\r\n",
    "predictions = classifier(batch)\r\n",
    "pprint(predictions)"
   ],
   "outputs": [],
   "metadata": {}
  },
  {
   "cell_type": "markdown",
   "source": [
    "Looks like the `predictions` is a list containing lists of two elements : \r\n",
    "- The first dictionnary containing the `NEGATIVE` sentiment label and its score.\r\n",
    "- The second dictionnary containing the same data but for `POSITIVE` sentiment."
   ],
   "metadata": {}
  },
  {
   "cell_type": "markdown",
   "source": [
    "## Convert output to Rubrix format\r\n",
    "To log the output to rubrix we should supply a list of dictionnaries, each dictonnary containing two keys:\r\n",
    "- `labels` : value is a list of strings, each string being the label of the sentiment.\r\n",
    "- `probabilities` : value is a list of floats, each float being the probability of the sentiment."
   ],
   "metadata": {}
  },
  {
   "cell_type": "code",
   "execution_count": null,
   "source": [
    "rubrix_format = [\r\n",
    "    {\r\n",
    "        \"labels\": [p[\"label\"] for p in prediction],\r\n",
    "        \"probabilities\": [p[\"score\"] for p in prediction],\r\n",
    "    }\r\n",
    "    for prediction in predictions\r\n",
    "]\r\n",
    "pprint(rubrix_format)"
   ],
   "outputs": [],
   "metadata": {}
  },
  {
   "cell_type": "markdown",
   "source": [
    "## Create prediction endpoint"
   ],
   "metadata": {}
  },
  {
   "cell_type": "code",
   "execution_count": null,
   "source": [
    "from fastapi import FastAPI\r\n",
    "from typing import List\r\n",
    "\r\n",
    "app = FastAPI()\r\n",
    "\r\n",
    "@app.post(\"/predict\")\r\n",
    "def predict_batch(batch: List[str]):\r\n",
    "    predictions = classifier(batch)\r\n",
    "    return [\r\n",
    "        {\r\n",
    "            \"labels\": [p[\"label\"] for p in prediction],\r\n",
    "            \"probabilities\": [p[\"score\"] for p in prediction],\r\n",
    "        }\r\n",
    "        for prediction in predictions\r\n",
    "    ]"
   ],
   "outputs": [],
   "metadata": {}
  },
  {
   "cell_type": "markdown",
   "source": [
    "## Add Rubrix logging middleware to the application"
   ],
   "metadata": {}
  },
  {
   "cell_type": "code",
   "execution_count": null,
   "source": [
    "from rubrix.client.asgi import RubrixLogHTTPMiddleware\r\n",
    "\r\n",
    "app.add_middleware(\r\n",
    "    RubrixLogHTTPMiddleware,\r\n",
    "    api_endpoint=\"/predict\", #the endpoint that will be logged\r\n",
    "    dataset=\"monitoring_dataset_v1\", #your dataset name\r\n",
    "    # you could post-process the predict output with a custom record_mapper function\r\n",
    "    # record_mapper=custom_text_classification_mapper,\r\n",
    ")"
   ],
   "outputs": [],
   "metadata": {}
  },
  {
   "cell_type": "markdown",
   "source": [
    "### Launch the appplication"
   ],
   "metadata": {}
  },
  {
   "cell_type": "markdown",
   "source": [
    "To launch the application, copy the whole code into a file named `main.py` and run the following command:"
   ],
   "metadata": {}
  },
  {
   "cell_type": "code",
   "execution_count": null,
   "source": [
    "!uvicorn main:app - -reload"
   ],
   "outputs": [],
   "metadata": {}
  },
  {
   "cell_type": "markdown",
   "source": [
    "![Rubrix Log Demo](./img/automatic_fastapi_log/automatic_fastapi_log.gif)"
   ],
   "metadata": {}
  },
  {
   "cell_type": "markdown",
   "source": [
    "## Summary\r\n",
    "In this tutorial, we have learnt to automatically log model outputs into Rubrix, this can be used to build FastAPI applications faster and without worrying about interacting with Rubrix."
   ],
   "metadata": {}
  },
  {
   "cell_type": "markdown",
   "source": [
    "## Next steps\r\n",
    "\r\n",
    "### 📚 [Rubrix documentation](https://docs.rubrix.ml) for more guides and tutorials.\r\n",
    "\r\n",
    "### 🙋‍♀️ Join the Rubrix community! A good place to start is the [discussion forum](https://github.com/recognai/rubrix/discussions).\r\n",
    "\r\n",
    "### ⭐ Rubrix [Github repo](https://github.com/recognai/rubrix) to stay updated."
   ],
   "metadata": {}
  }
 ],
 "metadata": {
  "orig_nbformat": 4,
  "language_info": {
   "name": "python",
   "version": "3.8.9",
   "mimetype": "text/x-python",
   "codemirror_mode": {
    "name": "ipython",
    "version": 3
   },
   "pygments_lexer": "ipython3",
   "nbconvert_exporter": "python",
   "file_extension": ".py"
  },
  "kernelspec": {
   "name": "python3",
   "display_name": "Python 3.8.9 64-bit"
  },
  "interpreter": {
   "hash": "1baa965d5efe3ac65b79dfc60c0d706280b1da80fedb7760faf2759126c4f253"
  }
 },
 "nbformat": 4,
 "nbformat_minor": 2
}