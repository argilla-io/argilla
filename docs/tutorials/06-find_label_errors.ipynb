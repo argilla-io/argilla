{
 "cells": [
  {
   "cell_type": "markdown",
   "id": "a705f134-8360-4c9d-9feb-ac16d662086d",
   "metadata": {},
   "source": [
    "# 🧐 Using Rubrix to find label errors with cleanlab "
   ]
  },
  {
   "cell_type": "code",
   "execution_count": null,
   "id": "1ac0cc7f-762c-4e53-888e-c8821a54f98d",
   "metadata": {},
   "outputs": [],
   "source": [
    "# !pip install -U transformers\n",
    "# !pip install -U datasets\n",
    "# !pip install -U cleanlab"
   ]
  },
  {
   "cell_type": "code",
   "execution_count": 142,
   "id": "b5341ea5-b6ea-4ab8-b4e6-c76a9e65373c",
   "metadata": {},
   "outputs": [],
   "source": [
    "import datasets\n",
    "from transformers import AutoTokenizer, AutoModelForSequenceClassification\n",
    "import numpy as np\n",
    "import pandas as pd\n",
    "from cleanlab.pruning import get_noise_indices\n",
    "import rubrix as rb"
   ]
  },
  {
   "cell_type": "code",
   "execution_count": 165,
   "id": "14a3f096-9cde-4c3b-9380-d9fe75d8431d",
   "metadata": {},
   "outputs": [],
   "source": [
    "rb.init(\n",
    ")"
   ]
  },
  {
   "cell_type": "code",
   "execution_count": null,
   "id": "e9cbd280-e127-4c10-bc00-b4ca21826b5e",
   "metadata": {},
   "outputs": [],
   "source": [
    "tokenizer = AutoTokenizer.from_pretrained(\"typeform/distilbert-base-uncased-mnli\")\n",
    "model = AutoModelForSequenceClassification.from_pretrained(\"typeform/distilbert-base-uncased-mnli\")"
   ]
  },
  {
   "cell_type": "code",
   "execution_count": 218,
   "id": "640d9cc2-3915-4973-a5b2-969e6e6d7813",
   "metadata": {},
   "outputs": [
    {
     "name": "stderr",
     "output_type": "stream",
     "text": [
      "Using custom data configuration default\n",
      "Reusing dataset multi_nli (/home/david/.cache/huggingface/datasets/multi_nli/default/0.0.0/591f72eb6263d1ab527561777936b199b714cda156d35716881158a2bd144f39)\n"
     ]
    }
   ],
   "source": [
    "dataset = datasets.load_dataset('multi_nli', split='validation_matched')"
   ]
  },
  {
   "cell_type": "code",
   "execution_count": 219,
   "id": "b035e6fa-c85e-4a17-a643-c1b2faa9f487",
   "metadata": {},
   "outputs": [
    {
     "data": {
      "text/plain": [
       "{'promptID': 63735,\n",
       " 'pairID': '63735n',\n",
       " 'premise': 'The new rights are nice enough',\n",
       " 'premise_binary_parse': '( ( The ( new rights ) ) ( are ( nice enough ) ) )',\n",
       " 'premise_parse': '(ROOT (S (NP (DT The) (JJ new) (NNS rights)) (VP (VBP are) (ADJP (JJ nice) (RB enough)))))',\n",
       " 'hypothesis': 'Everyone really likes the newest benefits ',\n",
       " 'hypothesis_binary_parse': '( Everyone ( really ( likes ( the ( newest benefits ) ) ) ) )',\n",
       " 'hypothesis_parse': '(ROOT (S (NP (NN Everyone)) (VP (ADVP (RB really)) (VBZ likes) (NP (DT the) (JJS newest) (NNS benefits)))))',\n",
       " 'genre': 'slate',\n",
       " 'label': 1}"
      ]
     },
     "execution_count": 219,
     "metadata": {},
     "output_type": "execute_result"
    }
   ],
   "source": [
    "dataset[0]"
   ]
  },
  {
   "cell_type": "code",
   "execution_count": 220,
   "id": "dd609b67-91d7-4641-8799-57d99e823abc",
   "metadata": {},
   "outputs": [
    {
     "data": {
      "application/vnd.jupyter.widget-view+json": {
       "model_id": "96fefba6413e492bb378ac4740a16805",
       "version_major": 2,
       "version_minor": 0
      },
      "text/plain": [
       "  0%|          | 0/9815 [00:00<?, ?ex/s]"
      ]
     },
     "metadata": {},
     "output_type": "display_data"
    }
   ],
   "source": [
    "# get model predictions\n",
    "probs_ds = dataset.map(\n",
    "    lambda x: {\"prob\": torch.softmax(model(**tokenizer(x[\"premise\"], x[\"hypothesis\"], return_tensors=\"pt\")).logits, dim=1)[0]}, \n",
    "    remove_columns=dataset.column_names\n",
    ")"
   ]
  },
  {
   "cell_type": "code",
   "execution_count": 221,
   "id": "1da1860e-53d5-4fb1-8ac1-fcb647624049",
   "metadata": {},
   "outputs": [],
   "source": [
    "# combine data and model predictions\n",
    "data_df = pd.DataFrame({\"premise\": dataset[\"premise\"], \"hypothesis\": dataset[\"hypothesis\"], \"probs\": probs_ds[\"prob\"], \"label\": dataset[\"label\"]})"
   ]
  },
  {
   "cell_type": "code",
   "execution_count": 222,
   "id": "a815ab77-a791-41ed-b50d-09f8b427e99a",
   "metadata": {},
   "outputs": [],
   "source": [
    "probs_matrix = np.array(data_df[\"probs\"].to_list())"
   ]
  },
  {
   "cell_type": "code",
   "execution_count": 223,
   "id": "b7d8b5c5-71b9-4c5f-bfa6-d81f4b74365c",
   "metadata": {},
   "outputs": [],
   "source": [
    "label_errors = get_noise_indices(\n",
    "    s=data_df[\"label\"].to_numpy(),\n",
    "    psx=probs_matrix,\n",
    "    sorted_index_method=None#'normalized_margin', # Orders label errors\n",
    ")"
   ]
  },
  {
   "cell_type": "code",
   "execution_count": 224,
   "id": "7b0758de-e87f-4ba9-9d98-d4777696770c",
   "metadata": {},
   "outputs": [],
   "source": [
    "def make_rec(row):\n",
    "    #prem_hypo = {\"premise\": row.premise, \"hypothesis\": row.hypothesis},\n",
    "    preds = list(zip([\"entailment\", \"neutral\", \"contradiction\"], row.probs))\n",
    "    annot = \"neutral\"\n",
    "    if row.label == 0:\n",
    "        annot = \"entailment\"\n",
    "    elif row.label == 2:\n",
    "        annot = \"contradiction\"\n",
    "        \n",
    "    return rb.TextClassificationRecord(inputs={\"premise\": row.premise, \"hypothesis\": row.hypothesis}, prediction=preds, prediction_agent=\"typeform/distilbert-base-uncased-mnli\", annotation=annot, annotation_agent=\"mnli\")\n",
    "    # return rb.TextClassificationRecord(inputs=prem_hypo)  # super weird error\n",
    "\n",
    "recs = data_df[label_errors].apply(make_rec, axis=1)"
   ]
  },
  {
   "cell_type": "code",
   "execution_count": 225,
   "id": "4907270b-83e4-417a-a1a2-a8ac5905141b",
   "metadata": {},
   "outputs": [
    {
     "data": {
      "text/plain": [
       "BulkResponse(dataset='mnli_label_error_m', processed=1560, failed=0)"
      ]
     },
     "execution_count": 225,
     "metadata": {},
     "output_type": "execute_result"
    }
   ],
   "source": [
    "rb.log(records=recs.to_list(), name=\"mnli_label_error_m\")"
   ]
  }
 ],
 "metadata": {
  "kernelspec": {
   "display_name": "Python 3",
   "language": "python",
   "name": "python3"
  },
  "language_info": {
   "codemirror_mode": {
    "name": "ipython",
    "version": 3
   },
   "file_extension": ".py",
   "mimetype": "text/x-python",
   "name": "python",
   "nbconvert_exporter": "python",
   "pygments_lexer": "ipython3",
   "version": "3.8.10"
  }
 },
 "nbformat": 4,
 "nbformat_minor": 5
}
