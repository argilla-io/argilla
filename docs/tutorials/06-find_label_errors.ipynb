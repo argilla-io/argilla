{
 "cells": [
  {
   "cell_type": "markdown",
   "id": "a705f134-8360-4c9d-9feb-ac16d662086d",
   "metadata": {},
   "source": [
    "# 🧐 Using Rubrix to find label errors with cleanlab "
   ]
  },
  {
   "cell_type": "code",
   "execution_count": null,
   "id": "1ac0cc7f-762c-4e53-888e-c8821a54f98d",
   "metadata": {},
   "outputs": [],
   "source": [
    "# !pip install -U transformers\n",
    "# !pip install -U datasets\n",
    "# !pip install -U cleanlab"
   ]
  },
  {
   "cell_type": "code",
   "execution_count": 7,
   "id": "b5341ea5-b6ea-4ab8-b4e6-c76a9e65373c",
   "metadata": {},
   "outputs": [],
   "source": [
    "import datasets\n",
    "from transformers import AutoTokenizer, AutoModelForSequenceClassification\n",
    "import numpy as np\n",
    "import pandas as pd\n",
    "from cleanlab.pruning import get_noise_indices\n",
    "import rubrix as rb\n",
    "import torch"
   ]
  },
  {
   "cell_type": "code",
   "execution_count": 2,
   "id": "14a3f096-9cde-4c3b-9380-d9fe75d8431d",
   "metadata": {},
   "outputs": [],
   "source": [
    "rb.init(\n",
    ")"
   ]
  },
  {
   "cell_type": "markdown",
   "id": "19cd00a6-72a1-46f7-88e6-b5ed6cf13955",
   "metadata": {},
   "source": [
    "# MNLI"
   ]
  },
  {
   "cell_type": "code",
   "execution_count": 57,
   "id": "e9cbd280-e127-4c10-bc00-b4ca21826b5e",
   "metadata": {},
   "outputs": [
    {
     "data": {
      "application/vnd.jupyter.widget-view+json": {
       "model_id": "176ef080d3124aa1a68f08cfcb0abb8a",
       "version_major": 2,
       "version_minor": 0
      },
      "text/plain": [
       "Downloading:   0%|          | 0.00/899k [00:00<?, ?B/s]"
      ]
     },
     "metadata": {},
     "output_type": "display_data"
    },
    {
     "data": {
      "application/vnd.jupyter.widget-view+json": {
       "model_id": "085217c575de403d93b918c7765b9f0a",
       "version_major": 2,
       "version_minor": 0
      },
      "text/plain": [
       "Downloading:   0%|          | 0.00/456k [00:00<?, ?B/s]"
      ]
     },
     "metadata": {},
     "output_type": "display_data"
    },
    {
     "data": {
      "application/vnd.jupyter.widget-view+json": {
       "model_id": "12e73c3259c940b887200c6cba23937b",
       "version_major": 2,
       "version_minor": 0
      },
      "text/plain": [
       "Downloading:   0%|          | 0.00/1.36M [00:00<?, ?B/s]"
      ]
     },
     "metadata": {},
     "output_type": "display_data"
    },
    {
     "name": "stderr",
     "output_type": "stream",
     "text": [
      "Some weights of the model checkpoint at roberta-large-mnli were not used when initializing RobertaForSequenceClassification: ['roberta.pooler.dense.weight', 'roberta.pooler.dense.bias']\n",
      "- This IS expected if you are initializing RobertaForSequenceClassification from the checkpoint of a model trained on another task or with another architecture (e.g. initializing a BertForSequenceClassification model from a BertForPreTraining model).\n",
      "- This IS NOT expected if you are initializing RobertaForSequenceClassification from the checkpoint of a model that you expect to be exactly identical (initializing a BertForSequenceClassification model from a BertForSequenceClassification model).\n"
     ]
    }
   ],
   "source": [
    "#model_name = \"typeform/distilbert-base-uncased-mnli\"\n",
    "model_name = \"roberta-large-mnli\"\n",
    "\n",
    "tokenizer = AutoTokenizer.from_pretrained(model_name)\n",
    "model = AutoModelForSequenceClassification.from_pretrained(model_name)"
   ]
  },
  {
   "cell_type": "code",
   "execution_count": 58,
   "id": "640d9cc2-3915-4973-a5b2-969e6e6d7813",
   "metadata": {},
   "outputs": [
    {
     "name": "stderr",
     "output_type": "stream",
     "text": [
      "Using custom data configuration default\n",
      "Reusing dataset multi_nli (/home/david/.cache/huggingface/datasets/multi_nli/default/0.0.0/591f72eb6263d1ab527561777936b199b714cda156d35716881158a2bd144f39)\n"
     ]
    }
   ],
   "source": [
    "dataset = datasets.load_dataset('multi_nli', split='validation_mismatched')"
   ]
  },
  {
   "cell_type": "code",
   "execution_count": 59,
   "id": "936c7f7b-a5fb-42cd-830f-c49776fff0bf",
   "metadata": {},
   "outputs": [
    {
     "data": {
      "text/plain": [
       "Dataset({\n",
       "    features: ['promptID', 'pairID', 'premise', 'premise_binary_parse', 'premise_parse', 'hypothesis', 'hypothesis_binary_parse', 'hypothesis_parse', 'genre', 'label'],\n",
       "    num_rows: 9832\n",
       "})"
      ]
     },
     "execution_count": 59,
     "metadata": {},
     "output_type": "execute_result"
    }
   ],
   "source": [
    "dataset"
   ]
  },
  {
   "cell_type": "code",
   "execution_count": 60,
   "id": "dd609b67-91d7-4641-8799-57d99e823abc",
   "metadata": {},
   "outputs": [
    {
     "data": {
      "application/vnd.jupyter.widget-view+json": {
       "model_id": "690e47b3f11845d084da0b9b49cb7126",
       "version_major": 2,
       "version_minor": 0
      },
      "text/plain": [
       "  0%|          | 0/9832 [00:00<?, ?ex/s]"
      ]
     },
     "metadata": {},
     "output_type": "display_data"
    }
   ],
   "source": [
    "# get model predictions\n",
    "probs_ds = dataset.map(\n",
    "    lambda x: {\"prob\": torch.softmax(model(**tokenizer(x[\"premise\"], x[\"hypothesis\"], return_tensors=\"pt\")).logits, dim=1)[0]}, \n",
    "    remove_columns=dataset.column_names\n",
    ")"
   ]
  },
  {
   "cell_type": "code",
   "execution_count": 61,
   "id": "1da1860e-53d5-4fb1-8ac1-fcb647624049",
   "metadata": {},
   "outputs": [],
   "source": [
    "# combine data and model predictions\n",
    "data_df = pd.DataFrame({\"premise\": dataset[\"premise\"], \"hypothesis\": dataset[\"hypothesis\"], \"probs\": probs_ds[\"prob\"], \"label\": dataset[\"label\"]})"
   ]
  },
  {
   "cell_type": "code",
   "execution_count": 74,
   "id": "155567bd-fbe9-47a8-8b6f-ef243d201549",
   "metadata": {},
   "outputs": [],
   "source": [
    "data_df[\"probs\"] = data_df.probs.map(lambda x: [x[2], x[1], x[0]])"
   ]
  },
  {
   "cell_type": "code",
   "execution_count": 75,
   "id": "a815ab77-a791-41ed-b50d-09f8b427e99a",
   "metadata": {},
   "outputs": [],
   "source": [
    "probs_matrix = np.array(data_df[\"probs\"].to_list())"
   ]
  },
  {
   "cell_type": "code",
   "execution_count": 80,
   "id": "b7d8b5c5-71b9-4c5f-bfa6-d81f4b74365c",
   "metadata": {},
   "outputs": [
    {
     "data": {
      "text/plain": [
       "481"
      ]
     },
     "execution_count": 80,
     "metadata": {},
     "output_type": "execute_result"
    }
   ],
   "source": [
    "label_errors = get_noise_indices(\n",
    "    s=data_df[\"label\"].to_numpy(),\n",
    "    psx=probs_matrix,\n",
    "    sorted_index_method=None#'normalized_margin', # Orders label errors\n",
    ")\n",
    "label_errors.sum()"
   ]
  },
  {
   "cell_type": "code",
   "execution_count": 77,
   "id": "25b52f09-06df-485c-8174-9524baab38bd",
   "metadata": {},
   "outputs": [
    {
     "data": {
      "text/plain": [
       "['Your contribution helped make it possible for us to provide our students with a quality education.',\n",
       " \"Your contributions were of no help with our students' education.\",\n",
       " [0.00016414420679211617, 0.0003369634796399623, 0.9994988441467285],\n",
       " 2]"
      ]
     },
     "execution_count": 77,
     "metadata": {},
     "output_type": "execute_result"
    }
   ],
   "source": [
    "data_df.iloc[0].to_list()"
   ]
  },
  {
   "cell_type": "code",
   "execution_count": 78,
   "id": "7b0758de-e87f-4ba9-9d98-d4777696770c",
   "metadata": {},
   "outputs": [],
   "source": [
    "def make_rec(row):\n",
    "    #prem_hypo = {\"premise\": row.premise, \"hypothesis\": row.hypothesis},\n",
    "    preds = list(zip([\"entailment\", \"neutral\", \"contradiction\"], row.probs))\n",
    "    annot = \"neutral\"\n",
    "    if row.label == 0:\n",
    "        annot = \"entailment\"\n",
    "    elif row.label == 2:\n",
    "        annot = \"contradiction\"\n",
    "        \n",
    "    return rb.TextClassificationRecord(inputs={\"premise\": row.premise, \"hypothesis\": row.hypothesis}, prediction=preds, prediction_agent=model_name, annotation=annot, annotation_agent=\"mnli\")\n",
    "    # return rb.TextClassificationRecord(inputs=prem_hypo)  # super weird error\n",
    "\n",
    "recs = data_df[label_errors].apply(make_rec, axis=1)"
   ]
  },
  {
   "cell_type": "code",
   "execution_count": 79,
   "id": "4907270b-83e4-417a-a1a2-a8ac5905141b",
   "metadata": {},
   "outputs": [
    {
     "data": {
      "text/plain": [
       "BulkResponse(dataset='mnli_label_error_mm', processed=481, failed=0)"
      ]
     },
     "execution_count": 79,
     "metadata": {},
     "output_type": "execute_result"
    }
   ],
   "source": [
    "rb.log(records=recs.to_list(), name=\"mnli_label_error_mm\")"
   ]
  },
  {
   "cell_type": "markdown",
   "id": "8bb9f8ce-b38f-4999-abbf-6ac2a3eb48b8",
   "metadata": {},
   "source": [
    "# MRPC"
   ]
  },
  {
   "cell_type": "code",
   "execution_count": 49,
   "id": "bd55dc06-45bd-4622-9284-8f656e5e7e13",
   "metadata": {},
   "outputs": [
    {
     "name": "stderr",
     "output_type": "stream",
     "text": [
      "Some weights of the model checkpoint at textattack/roberta-base-MRPC were not used when initializing RobertaForSequenceClassification: ['roberta.pooler.dense.weight', 'roberta.pooler.dense.bias']\n",
      "- This IS expected if you are initializing RobertaForSequenceClassification from the checkpoint of a model trained on another task or with another architecture (e.g. initializing a BertForSequenceClassification model from a BertForPreTraining model).\n",
      "- This IS NOT expected if you are initializing RobertaForSequenceClassification from the checkpoint of a model that you expect to be exactly identical (initializing a BertForSequenceClassification model from a BertForSequenceClassification model).\n"
     ]
    }
   ],
   "source": [
    "model_name = \"textattack/roberta-base-MRPC\"\n",
    "\n",
    "tokenizer = AutoTokenizer.from_pretrained(model_name)\n",
    "model = AutoModelForSequenceClassification.from_pretrained(model_name)"
   ]
  },
  {
   "cell_type": "code",
   "execution_count": 50,
   "id": "60bb920c-6d9c-4fbd-a6d3-2c72534e2b74",
   "metadata": {},
   "outputs": [
    {
     "name": "stderr",
     "output_type": "stream",
     "text": [
      "Reusing dataset glue (/home/david/.cache/huggingface/datasets/glue/mrpc/1.0.0/dacbe3125aa31d7f70367a07a8a9e72a5a0bfeb5fc42e75c9db75b96da6053ad)\n"
     ]
    }
   ],
   "source": [
    "dataset = datasets.load_dataset(\"glue\", \"mrpc\", split=\"validation\")"
   ]
  },
  {
   "cell_type": "code",
   "execution_count": 51,
   "id": "c27f1f5f-c0cd-4ab1-bbf8-fb22368d7159",
   "metadata": {},
   "outputs": [
    {
     "data": {
      "text/plain": [
       "{'sentence1': \"He said the foodservice pie business doesn 't fit the company 's long-term growth strategy .\",\n",
       " 'sentence2': '\" The foodservice pie business does not fit our long-term growth strategy .',\n",
       " 'label': 1,\n",
       " 'idx': 9}"
      ]
     },
     "execution_count": 51,
     "metadata": {},
     "output_type": "execute_result"
    }
   ],
   "source": [
    "dataset[0]"
   ]
  },
  {
   "cell_type": "code",
   "execution_count": 52,
   "id": "766a9e1b-d718-4789-9ca3-79014113e128",
   "metadata": {},
   "outputs": [
    {
     "data": {
      "application/vnd.jupyter.widget-view+json": {
       "model_id": "0043901a52d84844959338f21efb1921",
       "version_major": 2,
       "version_minor": 0
      },
      "text/plain": [
       "  0%|          | 0/408 [00:00<?, ?ex/s]"
      ]
     },
     "metadata": {},
     "output_type": "display_data"
    }
   ],
   "source": [
    "# get model predictions\n",
    "probs_ds = dataset.map(\n",
    "    lambda x: {\"prob\": torch.softmax(model(**tokenizer(x[\"sentence1\"], x[\"sentence2\"], return_tensors=\"pt\")).logits, dim=1)[0]}, \n",
    "    remove_columns=dataset.column_names\n",
    ")"
   ]
  },
  {
   "cell_type": "code",
   "execution_count": 53,
   "id": "ffa05863-22b8-4415-b50c-c85dd037943a",
   "metadata": {},
   "outputs": [],
   "source": [
    "# combine data and model predictions\n",
    "data_df = pd.DataFrame({\"sentence1\": dataset[\"sentence1\"], \"sentence2\": dataset[\"sentence2\"], \"probs\": probs_ds[\"prob\"], \"label\": dataset[\"label\"]})"
   ]
  },
  {
   "cell_type": "code",
   "execution_count": 54,
   "id": "e7c22a2c-d8c9-4f81-b280-5f34eb6d351e",
   "metadata": {},
   "outputs": [],
   "source": [
    "probs_matrix = np.array(data_df[\"probs\"].to_list())"
   ]
  },
  {
   "cell_type": "code",
   "execution_count": 55,
   "id": "e71b15bd-bde9-4a4f-93b0-c55b28cf6133",
   "metadata": {},
   "outputs": [],
   "source": [
    "label_errors = get_noise_indices(\n",
    "    s=data_df[\"label\"].to_numpy(),\n",
    "    psx=probs_matrix,\n",
    "    sorted_index_method=None#'normalized_margin', # Orders label errors\n",
    ")"
   ]
  },
  {
   "cell_type": "code",
   "execution_count": 56,
   "id": "5f7d5436-a829-4a74-983e-b2c827b2ada3",
   "metadata": {},
   "outputs": [
    {
     "data": {
      "text/plain": [
       "19"
      ]
     },
     "execution_count": 56,
     "metadata": {},
     "output_type": "execute_result"
    }
   ],
   "source": [
    "label_errors.sum()"
   ]
  },
  {
   "cell_type": "code",
   "execution_count": 37,
   "id": "0e9dcb31-dbd9-4569-90a0-a45a7521473b",
   "metadata": {},
   "outputs": [],
   "source": [
    "def make_rec(row):\n",
    "    #prem_hypo = {\"premise\": row.premise, \"hypothesis\": row.hypothesis},\n",
    "    preds = list(zip([\"Not equivalent\", \"Equivalent\"], row.probs))\n",
    "    if row.label == 0:\n",
    "        annot = \"Not equivalent\"\n",
    "    elif row.label == 1:\n",
    "        annot = \"Equivalent\"\n",
    "    else:\n",
    "        raise RuntimeError(\"WTF\")\n",
    "        \n",
    "    return rb.TextClassificationRecord(\n",
    "        inputs={\"sentence1\": row.sentence1, \"sentence2\": row.sentence2}, \n",
    "        prediction=preds, \n",
    "        prediction_agent=model_name, \n",
    "        annotation=annot, \n",
    "        annotation_agent=\"mrpc\"\n",
    "    )\n",
    "    # return rb.TextClassificationRecord(inputs=prem_hypo)  # super weird error\n",
    "\n",
    "recs = data_df[label_errors].apply(make_rec, axis=1)"
   ]
  },
  {
   "cell_type": "code",
   "execution_count": 38,
   "id": "12750a89-33ce-4655-bb15-458b33cbd872",
   "metadata": {},
   "outputs": [
    {
     "data": {
      "text/plain": [
       "BulkResponse(dataset='mrpc_label_error', processed=19, failed=0)"
      ]
     },
     "execution_count": 38,
     "metadata": {},
     "output_type": "execute_result"
    }
   ],
   "source": [
    "rb.log(records=recs.to_list(), name=\"mrpc_label_error\")"
   ]
  },
  {
   "cell_type": "code",
   "execution_count": null,
   "id": "cffcd5a7-55b9-4613-8e71-ff2d12e1d189",
   "metadata": {},
   "outputs": [],
   "source": []
  }
 ],
 "metadata": {
  "kernelspec": {
   "display_name": "Python 3",
   "language": "python",
   "name": "python3"
  },
  "language_info": {
   "codemirror_mode": {
    "name": "ipython",
    "version": 3
   },
   "file_extension": ".py",
   "mimetype": "text/x-python",
   "name": "python",
   "nbconvert_exporter": "python",
   "pygments_lexer": "ipython3",
   "version": "3.8.10"
  }
 },
 "nbformat": 4,
 "nbformat_minor": 5
}