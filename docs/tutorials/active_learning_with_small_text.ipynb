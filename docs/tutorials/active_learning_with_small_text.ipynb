{
 "cells": [
  {
   "cell_type": "markdown",
   "id": "e7b5a1fa-9265-4fb8-9c0e-a9156c22f4ff",
   "metadata": {},
   "source": [
    "# Learn actively, and listen carefully to small-text"
   ]
  },
  {
   "cell_type": "markdown",
   "id": "1799987c-764f-4295-97b7-d0e48324cccd",
   "metadata": {},
   "source": [
    "In this tutorial, you will learn how to set up a complete active learning loop with a [Hugging Face transformer](https://huggingface.co/docs/transformers/index):\n",
    "\n",
    " - Use the excellent [small-text](https://github.com/webis-de/small-text) library to set up your active learner;\n",
    " - Use a [Rubrix listener](../reference/python/python_listeners.rst) to build and start an active learning loop;\n",
    " - Use the [Rubrix UI](../reference/webapp/annotate_records.md) to annotate examples and learn actively;\n",
    "\n",
    "[Screenshot]"
   ]
  },
  {
   "cell_type": "markdown",
   "id": "f0136985-b7a3-4983-9d62-6750507992d7",
   "metadata": {},
   "source": [
    "## Introduction"
   ]
  },
  {
   "cell_type": "markdown",
   "id": "c89104d7-b4fe-402b-a33f-f2f8ba7353ba",
   "metadata": {},
   "source": [
    "> Active learning is a special case of machine learning in which a learning algorithm can interactively query a user (or some other information source) to label new data points with the desired outputs. [Wikipedia](https://en.wikipedia.org/wiki/Active_learning_(machine_learning))\n",
    "\n",
    "This tutorial will show you how to incorporate Rubrix into an active learning workflow involving a human in the loop. \n",
    "We will build a simple text classifier by combining the active learning framework small-text and Rubrix. \n",
    "Hugging Face's transformers will provide the classifier we will embed in an active learner from small-text. \n",
    "You and Rubrix will be the information source that teaches the model to become a sample-efficient classifier."
   ]
  },
  {
   "cell_type": "markdown",
   "id": "a26cf42c-5c8f-4c07-bc10-6a9ba2cdd3f5",
   "metadata": {},
   "source": [
    "## Setup"
   ]
  },
  {
   "cell_type": "markdown",
   "id": "64714947-bb06-47fb-8c07-3126a5edbcaf",
   "metadata": {},
   "source": [
    "Rubrix is a free and open-source tool to explore, annotate, and monitor data for NLP projects.\n",
    "\n",
    "If you are new to Rubrix, check out the [Github repository](https://github.com/recognai/rubrix) ⭐.\n",
    "\n",
    "If you have not installed and launched Rubrix yet, check the [Setup and Installation Guide](https://rubrix.readthedocs.io/en/master/getting_started/setup%26installation.html).\n",
    "\n",
    "For this tutorial, we also need some third-party libraries that you can install via pip:"
   ]
  },
  {
   "cell_type": "code",
   "execution_count": null,
   "id": "b3fc04e5-ba24-474e-a38b-2992fc4b7c27",
   "metadata": {},
   "outputs": [],
   "source": [
    "%pip install datasets \"small-text\" \"transformers[torch]\""
   ]
  },
  {
   "cell_type": "markdown",
   "id": "43edb962-ce5b-44ad-9175-09143d882c95",
   "metadata": {},
   "source": [
    "## The TREC dataset"
   ]
  },
  {
   "cell_type": "markdown",
   "id": "baee4a2c-35f8-42d7-b750-7321df826baf",
   "metadata": {},
   "source": [
    "For this tutorial, we will use the well-known [TREC dataset](https://huggingface.co/datasets/trec) containing 6000 labeled questions; 5500 in the training and 500 in the test split. \n",
    "This dataset can be turned into a text classification task, in which a model must predict one of the six coarse labels given the question. \n",
    "The labels consist of ABBREVIATION (ABBR), ENTITY (ENTY), DESCRIPTION (DESC), HUMAN (HUM), LOCATION (LOC), and NUMERIC VALUE (NUM).\n",
    "\n",
    "Let us load the dataset from the [Hugging Face Hub](https://huggingface.co/datasets):"
   ]
  },
  {
   "cell_type": "code",
   "execution_count": null,
   "id": "f988c3d7-d9b3-40b0-be5b-ed31bf2fa29a",
   "metadata": {
    "tags": []
   },
   "outputs": [],
   "source": [
    "import datasets\n",
    "\n",
    "trec = datasets.load_dataset('trec')"
   ]
  },
  {
   "cell_type": "markdown",
   "id": "4ecba83d-92a0-4873-a0c6-7815b7636705",
   "metadata": {},
   "source": [
    "## Preprocessing the dataset"
   ]
  },
  {
   "cell_type": "markdown",
   "id": "b42d79fa-00b4-44ac-a01a-c39ecccadd52",
   "metadata": {},
   "source": [
    "We first need to wrap the dataset in a specific data class provided by [small-text](https://github.com/webis-de/small-text), the excellent active learning framework we will use in this tutorial. \n",
    "Since we will choose a [Hugging Face transformer](https://huggingface.co/docs/transformers/index) in the active learner, small-text will expect a `TransformersDataset` object that already contains the tokenized input text.\n",
    "\n",
    "So, let's tokenize our data with the tokenizer corresponding to the transformer model we will choose."
   ]
  },
  {
   "cell_type": "code",
   "execution_count": null,
   "id": "eb2c49e1-79f1-43a1-bdb7-ff435f985bd3",
   "metadata": {},
   "outputs": [],
   "source": [
    "from transformers import AutoTokenizer\n",
    "\n",
    "# Choose transformer model\n",
    "TRANSFORMER_MODEL = \"google/electra-small-discriminator\"\n",
    "\n",
    "# Init tokenizer\n",
    "tokenizer = AutoTokenizer.from_pretrained(TRANSFORMER_MODEL)\n",
    "\n",
    "# Helper function to tokenize the input text\n",
    "def tokenize(examples):\n",
    "    return tokenizer(examples[\"text\"], padding=\"max_length\", max_length=64, truncation=True)\n",
    "\n",
    "# Tokenize dataset\n",
    "trec_tokenized = trec.map(tokenize, batched=True, remove_columns=[\"text\"])"
   ]
  },
  {
   "cell_type": "markdown",
   "id": "14cbd644-3d38-42bf-a9e6-e54e6f60aea6",
   "metadata": {},
   "source": [
    "After tokenizing the input text, we can create the dataset for small-text.\n",
    "It expects a tuple of [PyTorch tensors](https://pytorch.org/docs/stable/tensors.html) containing the `inputs_ids`, the `attention_mask`, and a label if available."
   ]
  },
  {
   "cell_type": "code",
   "execution_count": 29,
   "id": "99ec2d1b-7a84-4a6a-ba38-9fffdaa52c43",
   "metadata": {},
   "outputs": [],
   "source": [
    "from small_text.integrations.transformers import TransformersDataset\n",
    "from small_text.base import LABEL_UNLABELED\n",
    "\n",
    "# Set convenient output format \n",
    "trec_tokenized.set_format(\"torch\")\n",
    "\n",
    "# Create tuples from the tokenized training data\n",
    "data = [\n",
    "    # Need to add an extra dimension to indicate a batch size of 1 -> [None]\n",
    "    (row[\"input_ids\"][None], row[\"attention_mask\"][None], LABEL_UNLABELED) \n",
    "    for row in trec_tokenized[\"train\"]\n",
    "]\n",
    "\n",
    "# Create the dataset for small-text\n",
    "dataset = TransformersDataset(data)"
   ]
  },
  {
   "cell_type": "markdown",
   "id": "4f124679-2ec5-4e83-802b-ae2c1c932c50",
   "metadata": {},
   "source": [
    "We will also create a test dataset to track the performance of the transformer model during the active learning loop."
   ]
  },
  {
   "cell_type": "code",
   "execution_count": 4,
   "id": "09c9ceba-2ad0-4776-9929-ec0b63a9fdc3",
   "metadata": {},
   "outputs": [],
   "source": [
    "# Create test dataset\n",
    "data_test = [\n",
    "    (row[\"input_ids\"][None], row[\"attention_mask\"][None], int(row[\"label-coarse\"])) \n",
    "    for row in trec_tokenized[\"test\"]\n",
    "]\n",
    "dataset_test = TransformersDataset(data_test)"
   ]
  },
  {
   "cell_type": "markdown",
   "id": "a2befb12-de88-4b37-a80f-e1b27094e3a7",
   "metadata": {},
   "source": [
    "## Setting up the active learner"
   ]
  },
  {
   "cell_type": "markdown",
   "id": "688df949-5588-463b-9867-97f570340daa",
   "metadata": {},
   "source": [
    "Now that we have our datasets ready let's set up the active learner. \n",
    "For this, we need two components:\n",
    "\n",
    " - the classifier;\n",
    " - the query strategy;\n",
    " \n",
    "In our case, we choose a [Hugging Face transformer](https://huggingface.co/docs/transformers/index) as the classifier and a [tie-breaker](https://small-text.readthedocs.io/en/v1.0.0/components/query_strategies.html#small_text.query_strategies.strategies.BreakingTies) as the query strategy. \n",
    "The latter selects instances of the data pool with a small margin between the two most likely predicted labels. "
   ]
  },
  {
   "cell_type": "code",
   "execution_count": 5,
   "id": "9966619f-7f2d-4815-9a79-8a2696002e2e",
   "metadata": {},
   "outputs": [],
   "source": [
    "from small_text.integrations.transformers.classifiers.factories import TransformerBasedClassificationFactory\n",
    "from small_text.integrations.transformers import TransformerModelArguments\n",
    "from small_text.query_strategies import BreakingTies\n",
    "from small_text.active_learner import PoolBasedActiveLearner\n",
    "\n",
    "\n",
    "# Define our classifier\n",
    "clf_factory = TransformerBasedClassificationFactory(\n",
    "    TransformerModelArguments(TRANSFORMER_MODEL),\n",
    "    num_classes=6,\n",
    "    # If you have a cuda device, specify it here.\n",
    "    # Otherwise, just remove the following line.\n",
    "    kwargs={\"device\": \"cuda\"}\n",
    ")\n",
    "\n",
    "# Define our query strategy\n",
    "query_strategy = BreakingTies()\n",
    "\n",
    "# Use the active learner with a pool containing all unlabeled data \n",
    "active_learner = PoolBasedActiveLearner(clf_factory, query_strategy, dataset)"
   ]
  },
  {
   "cell_type": "markdown",
   "id": "02f8a4b2-b3ec-4e3e-a299-372b2091ec52",
   "metadata": {},
   "source": [
    "We randomly draw a subset from the data pool as the initialization strategy. \n",
    "After obtaining the labels for this batch of instances, the active learner will use them to create the first classifier."
   ]
  },
  {
   "cell_type": "code",
   "execution_count": 6,
   "id": "32804138-8e27-4a61-ac18-c9ab21b47795",
   "metadata": {},
   "outputs": [],
   "source": [
    "from small_text.initialization import random_initialization\n",
    "import numpy as np\n",
    "# Fix seed for reproducibility \n",
    "np.random.seed(42)\n",
    "\n",
    "\n",
    "# Number of samples in our queried batches\n",
    "NUM_SAMPLES = 20\n",
    "\n",
    "# Randomly draw an initial subset from the data pool\n",
    "initial_indices = random_initialization(dataset, NUM_SAMPLES)"
   ]
  },
  {
   "cell_type": "markdown",
   "id": "f9b2d6d9-b5f6-4ef2-85e9-2583981f534c",
   "metadata": {},
   "source": [
    "## Rubrix and you: the perfect oracle"
   ]
  },
  {
   "cell_type": "markdown",
   "id": "dc62355d-7b50-4ef2-9500-e9172a4c6826",
   "metadata": {},
   "source": [
    "With our active learner ready, it is time to teach it. \n",
    "We first create a [Rubrix dataset](../reference/webapp/dataset.md) to log and label the initial random batch queried by the active learner."
   ]
  },
  {
   "cell_type": "code",
   "execution_count": null,
   "id": "29d03264-f583-47e1-a39f-3335ce9573e7",
   "metadata": {},
   "outputs": [],
   "source": [
    "import rubrix as rb\n",
    "\n",
    "\n",
    "# Choose a name for the dataset\n",
    "DATASET_NAME = \"trec_with_active_learning\"\n",
    "\n",
    "# Define labeling schema\n",
    "labels = trec[\"train\"].features[\"label-coarse\"].names\n",
    "settings = rb.TextClassificationSettings(label_schema=labels)\n",
    "\n",
    "# Create dataset with a label schema\n",
    "rb.configure_dataset(name=DATASET_NAME, settings=settings)\n",
    "\n",
    "# Create records from the initial batch\n",
    "records = [\n",
    "    rb.TextClassificationRecord(\n",
    "        text=trec[\"train\"][\"text\"][idx], \n",
    "        metadata={\"batch_id\": 0},\n",
    "        id=idx,\n",
    "    )\n",
    "    for idx in initial_indices\n",
    "]\n",
    "\n",
    "# Log initial records to Rubrix\n",
    "rb.log(records, DATASET_NAME)"
   ]
  },
  {
   "cell_type": "markdown",
   "id": "0b9142f4-0140-4128-bc90-ae1956190935",
   "metadata": {},
   "source": [
    "Before switching to the Rubrix UI to label the records, we will set up the **active learning loop**. \n",
    "For this, we will use the [listener decorator](../reference/python/rubrix_listener.rst#rubrix.listeners.listener) from Rubrix. \n",
    "The loop will run automatically once all records of a batch are labeled (see the `query` and `condition` argument of the decorator). \n",
    "It will trigger the classifier's training, query a new batch from the active learner and log it to Rubrix. \n",
    "We will also keep track of the accuracy of the current classifier by evaluating it on our test set."
   ]
  },
  {
   "cell_type": "code",
   "execution_count": 9,
   "id": "67a94391-d957-4d63-aa5c-10874f87e687",
   "metadata": {},
   "outputs": [],
   "source": [
    "from rubrix.listeners import listener\n",
    "from sklearn.metrics import accuracy_score\n",
    "\n",
    "# Define some helper variables\n",
    "LABEL2INT = trec[\"train\"].features[\"label-coarse\"].str2int\n",
    "ACCURACIES = []\n",
    "\n",
    "# Set up the active learning loop with the listener decorator\n",
    "@listener(\n",
    "    dataset=DATASET_NAME,\n",
    "    query=\"status:Validated AND metadata.batch_id:{batch_id}\",\n",
    "    condition=lambda search: search.total==NUM_SAMPLES,\n",
    "    execution_interval_in_seconds=3,\n",
    "    batch_id=0\n",
    ")\n",
    "def active_learning_loop(records, ctx):\n",
    "    \n",
    "    # 1. Update active learner\n",
    "    print(f\"Updating with batch_id {ctx.query_params['batch_id']} ...\") \n",
    "    y = np.array([LABEL2INT(rec.annotation) for rec in records])\n",
    "    \n",
    "    # initial update\n",
    "    if ctx.query_params[\"batch_id\"] == 0:\n",
    "        indices = np.array([rec.id for rec in records])\n",
    "        active_learner.initialize_data(indices, y)\n",
    "    # update with the prior queried indices\n",
    "    else:\n",
    "        active_learner.update(y)\n",
    "    print(\"Done!\")\n",
    "        \n",
    "    # 2. Query active learner\n",
    "    print(\"Querying new data points ...\")\n",
    "    queried_indices = active_learner.query(num_samples=NUM_SAMPLES)\n",
    "    ctx.query_params[\"batch_id\"] += 1\n",
    "    new_records = [\n",
    "        rb.TextClassificationRecord(\n",
    "            text=trec[\"train\"][\"text\"][idx], \n",
    "            metadata={\"batch_id\": ctx.query_params[\"batch_id\"]},\n",
    "            id=idx,\n",
    "        ) \n",
    "        for idx in queried_indices\n",
    "    ]\n",
    "          \n",
    "    # 3. Log the batch to Rubrix\n",
    "    rb.log(new_records, DATASET_NAME)    \n",
    "    \n",
    "    # 4. Evaluate current classifier on the test set\n",
    "    print(\"Evaluating current classifier ...\")\n",
    "    accuracy = accuracy_score(\n",
    "        dataset_test.y, \n",
    "        active_learner.classifier.predict(dataset_test),\n",
    "    )\n",
    "    ACCURACIES.append(accuracy)\n",
    "    print(\"Done!\")\n",
    "    \n",
    "    print(\"Waiting for annotations ...\")"
   ]
  },
  {
   "cell_type": "markdown",
   "id": "1cb123af-71ad-4520-9ceb-55df5b4083da",
   "metadata": {},
   "source": [
    "## Starting the active learning loop"
   ]
  },
  {
   "cell_type": "markdown",
   "id": "4a634a60-5e02-4b8a-89a7-efa72b7de2af",
   "metadata": {},
   "source": [
    "Now we can start the loop and switch to the Rubrix UI."
   ]
  },
  {
   "cell_type": "code",
   "execution_count": null,
   "id": "402519db-4edb-4300-89e4-e542d2b372b6",
   "metadata": {},
   "outputs": [],
   "source": [
    "active_learning_loop.start()"
   ]
  },
  {
   "cell_type": "markdown",
   "id": "9d88756b-282f-425c-8d5e-c32651d9555f",
   "metadata": {},
   "source": [
    "In the Rubrix UI, we will set the number of records per page to 20 since it is also our chosen batch size. \n",
    "Furthermore, we will use the [Status filter](../reference/webapp/filter_records.md) to filter out already annotated records. \n",
    "Now, all we have to do is to annotate the displayed records. \n",
    "Once annotating everything, the classifier's training will be automatically triggered.\n",
    "\n",
    "After a few seconds, you should see the newly queried batch when pressing the [Refresh button](../reference/webapp/dataset.md#refresh). \n",
    "The training can take longer depending on your machine and whether you have a CUDA device. \n",
    "You can always check the status of the active learning loop from your notebook.\n",
    "\n",
    "[Video]"
   ]
  },
  {
   "cell_type": "markdown",
   "id": "fa54bab0-8990-4147-b44f-603b66d6d16f",
   "metadata": {},
   "source": [
    "## Can we stop?"
   ]
  },
  {
   "cell_type": "markdown",
   "id": "d68f5c03-63c7-4a0b-a375-754815e2fa23",
   "metadata": {},
   "source": [
    "After a few iterations, we can check the accuracy of the current classifier and plot its evaluation."
   ]
  },
  {
   "cell_type": "code",
   "execution_count": 28,
   "id": "9bb5bdde-bdbd-47df-a525-d1354440f765",
   "metadata": {},
   "outputs": [
    {
     "data": {
      "image/png": "[encoded data removed]",
      "text/plain": [
       "<Figure size 432x288 with 1 Axes>"
      ]
     },
     "metadata": {
      "needs_background": "light"
     },
     "output_type": "display_data"
    }
   ],
   "source": [
    "import pandas as pd\n",
    "\n",
    "pd.Series(ACCURACIES).plot(xlabel=\"Iteration\", ylabel=\"Accuracy\");"
   ]
  },
  {
   "cell_type": "markdown",
   "id": "67563b66-713d-4118-aa10-b1ac9740a9b8",
   "metadata": {},
   "source": [
    "We should achieve an accuracy of at least **0.8 after around 12 iterations**, corresponding to roughly 260 annotated records. \n",
    "The stopping criterium is ultimately up to you, and you can choose more sophisticated criteria like the [KappaAverage](https://small-text.readthedocs.io/en/v1.0.0/components/stopping_criteria.html) implemented in small-text."
   ]
  },
  {
   "cell_type": "code",
   "execution_count": 11,
   "id": "4a36da28-e61c-422f-9c12-132efe872843",
   "metadata": {},
   "outputs": [],
   "source": [
    "active_learning_loop.stop()"
   ]
  },
  {
   "cell_type": "markdown",
   "id": "1dfc923e-72a7-47b7-b38f-43dd9bbe57d9",
   "metadata": {},
   "source": [
    "## Summary"
   ]
  },
  {
   "cell_type": "markdown",
   "id": "fc0d0e5f-8af1-41c8-9e6a-1a0fe2757eaf",
   "metadata": {},
   "source": [
    "In this tutorial, we saw how you could **embed Rubrix in an active learning loop involving a human in the loop**. \n",
    "We relied on **small-text to use a Hugging Face transformer as an active learner** and gathered a **sample-efficient data set by annotating only the most decisive records**.\n",
    "\n",
    "Rubrix makes it very easy to use a dedicated annotation team or subject matter experts as an oracle for your active learning system. They will only interact with the Rubrix UI and do not have to worry about training or querying the system. We encourage you to try out active learning in your next project and make your and your annotator's life a little easier."
   ]
  },
  {
   "cell_type": "markdown",
   "id": "a3f4f18b-b616-47bc-9854-46df18b2f638",
   "metadata": {},
   "source": [
    "## Next steps"
   ]
  },
  {
   "cell_type": "markdown",
   "id": "4f317f15-0610-496c-9be2-47884ee0d6b5",
   "metadata": {},
   "source": [
    "⭐ [Rubrix Github repo](https://github.com/recognai/rubrix) to stay updated.\n",
    "\n",
    "📚 [Rubrix documentation](https://rubrix.readthedocs.io/en/stable/index.html) for more guides and tutorials.\n",
    "\n",
    "🙋‍♀️ Join the Rubrix community! A good place to start is our [slack channel](https://join.slack.com/t/rubrixworkspace/shared_invite/zt-whigkyjn-a3IUJLD7gDbTZ0rKlvcJ5g).\n"
   ]
  },
  {
   "cell_type": "markdown",
   "id": "4e068aea-a1af-4c3e-81a9-d74dfcc4a902",
   "metadata": {},
   "source": [
    "## Appendix: Simulation"
   ]
  },
  {
   "cell_type": "code",
   "execution_count": 18,
   "id": "00689925-58d5-4169-920d-8ce22ffdb300",
   "metadata": {},
   "outputs": [],
   "source": [
    "from small_text.integrations.transformers.classifiers.factories import TransformerBasedClassificationFactory\n",
    "from small_text.integrations.transformers import TransformerModelArguments\n",
    "from small_text.query_strategies import BreakingTies\n",
    "from small_text.active_learner import PoolBasedActiveLearner\n",
    "\n",
    "\n",
    "# Define our classifier\n",
    "clf_factory = TransformerBasedClassificationFactory(\n",
    "    TransformerModelArguments(TRANSFORMER_MODEL),\n",
    "    num_classes=6,\n",
    "    # If you have a cuda device, specify it here.\n",
    "    # Otherwise, just remove the following line.\n",
    "    kwargs={\"device\": \"cuda\"}\n",
    ")\n",
    "\n",
    "# Define our query strategy\n",
    "query_strategy = BreakingTies()\n",
    "\n",
    "# Use the active learner with a pool containing all unlabeled data \n",
    "active_learner = PoolBasedActiveLearner(clf_factory, query_strategy, dataset)"
   ]
  },
  {
   "cell_type": "code",
   "execution_count": 19,
   "id": "43a54acd-f6d2-42bc-8bfb-105abe653f4a",
   "metadata": {},
   "outputs": [],
   "source": [
    "from small_text.initialization import random_initialization\n",
    "import numpy as np\n",
    "\n",
    "np.random.seed(42)\n",
    "y = np.array(trec[\"train\"][\"label-coarse\"])\n",
    "initial_indices = random_initialization(dataset, n_samples=20)\n",
    "active_learner.initialize_data(initial_indices, y[initial_indices])"
   ]
  },
  {
   "cell_type": "code",
   "execution_count": 20,
   "id": "75bb85b0-f133-4541-bbd4-fbbf62b3b505",
   "metadata": {},
   "outputs": [
    {
     "data": {
      "text/plain": [
       "0.3"
      ]
     },
     "execution_count": 20,
     "metadata": {},
     "output_type": "execute_result"
    }
   ],
   "source": [
    "from sklearn.metrics import accuracy_score\n",
    "\n",
    "predictions = active_learner.classifier.predict(dataset_test)\n",
    "accuracy_score(dataset_test.y, predictions)"
   ]
  },
  {
   "cell_type": "code",
   "execution_count": 21,
   "id": "4aca7484-b788-4856-b114-79dbf21e54b4",
   "metadata": {},
   "outputs": [
    {
     "name": "stdout",
     "output_type": "stream",
     "text": [
      "Iteration: 0 20\n",
      "Iteration: 1 40\n",
      "Iteration: 2 60\n",
      "Iteration: 3 80\n",
      "Iteration: 4 100\n",
      "Iteration: 5 120\n",
      "Iteration: 6 140\n",
      "Iteration: 7 160\n",
      "Iteration: 8 180\n",
      "Iteration: 9 200\n",
      "Iteration: 10 220\n",
      "Iteration: 11 240\n",
      "Iteration: 12 260\n",
      "Iteration: 13 280\n",
      "Iteration: 14 300\n"
     ]
    }
   ],
   "source": [
    "accuracies = []\n",
    "\n",
    "for i in range(15):\n",
    "    print(f\"Iteration: {i}\", len(active_learner.indices_labeled))\n",
    "    \n",
    "    predictions = active_learner.classifier.predict(dataset_test)\n",
    "    accuracies.append(accuracy_score(dataset_test.y, predictions))\n",
    "    \n",
    "    indices_queried = active_learner.query(num_samples=20)\n",
    "    y = trec_tokenized[\"train\"][\"label-coarse\"][indices_queried].numpy()\n",
    "    active_learner.update(y)"
   ]
  },
  {
   "cell_type": "code",
   "execution_count": 24,
   "id": "353c92a5-6f96-4a01-8780-891cdb001aeb",
   "metadata": {},
   "outputs": [
    {
     "data": {
      "text/plain": [
       "[(0, 0.3),\n",
       " (1, 0.188),\n",
       " (2, 0.336),\n",
       " (3, 0.226),\n",
       " (4, 0.434),\n",
       " (5, 0.388),\n",
       " (6, 0.452),\n",
       " (7, 0.692),\n",
       " (8, 0.77),\n",
       " (9, 0.698),\n",
       " (10, 0.746),\n",
       " (11, 0.766),\n",
       " (12, 0.818),\n",
       " (13, 0.85),\n",
       " (14, 0.868)]"
      ]
     },
     "execution_count": 24,
     "metadata": {},
     "output_type": "execute_result"
    }
   ],
   "source": [
    "list(enumerate(accuracies))"
   ]
  },
  {
   "cell_type": "code",
   "execution_count": 28,
   "id": "34ef436a-ba58-48f1-9f5a-59a4e3da9192",
   "metadata": {},
   "outputs": [
    {
     "data": {
      "image/png": "[encoded data removed]",
      "text/plain": [
       "<Figure size 432x288 with 1 Axes>"
      ]
     },
     "metadata": {
      "needs_background": "light"
     },
     "output_type": "display_data"
    }
   ],
   "source": [
    "import pandas as pd\n",
    "\n",
    "pd.Series(accuracies).plot(xlabel=\"Iteration\", ylabel=\"Accuracy\");"
   ]
  },
  {
   "cell_type": "code",
   "execution_count": 34,
   "id": "f56a7b7b-45b6-4b46-bebd-8aafd7a0060e",
   "metadata": {},
   "outputs": [
    {
     "data": {
      "text/plain": [
       "1    104\n",
       "3     86\n",
       "5     84\n",
       "0     73\n",
       "4     66\n",
       "2      7\n",
       "dtype: int64"
      ]
     },
     "execution_count": 34,
     "metadata": {},
     "output_type": "execute_result"
    }
   ],
   "source": [
    "idx = active_learner.indices_labeled\n",
    "pd.Series(trec_tokenized[\"train\"][\"label-coarse\"][idx]).value_counts()"
   ]
  },
  {
   "cell_type": "code",
   "execution_count": 38,
   "id": "39dd7ae5-3d24-4fc2-8896-01c35c9ced46",
   "metadata": {},
   "outputs": [
    {
     "name": "stdout",
     "output_type": "stream",
     "text": [
      "              precision    recall  f1-score   support\n",
      "\n",
      "           0       0.72      0.95      0.82       138\n",
      "           1       0.83      0.80      0.82        94\n",
      "           2       0.00      0.00      0.00         9\n",
      "           3       0.87      0.94      0.90        65\n",
      "           4       0.98      0.51      0.67       113\n",
      "           5       0.81      0.98      0.88        81\n",
      "\n",
      "    accuracy                           0.81       500\n",
      "   macro avg       0.70      0.70      0.68       500\n",
      "weighted avg       0.82      0.81      0.79       500\n",
      "\n"
     ]
    },
    {
     "name": "stderr",
     "output_type": "stream",
     "text": [
      "/home/david/miniconda3/envs/rubrix/lib/python3.8/site-packages/sklearn/metrics/_classification.py:1248: UndefinedMetricWarning: Precision and F-score are ill-defined and being set to 0.0 in labels with no predicted samples. Use `zero_division` parameter to control this behavior.\n",
      "  _warn_prf(average, modifier, msg_start, len(result))\n",
      "/home/david/miniconda3/envs/rubrix/lib/python3.8/site-packages/sklearn/metrics/_classification.py:1248: UndefinedMetricWarning: Precision and F-score are ill-defined and being set to 0.0 in labels with no predicted samples. Use `zero_division` parameter to control this behavior.\n",
      "  _warn_prf(average, modifier, msg_start, len(result))\n",
      "/home/david/miniconda3/envs/rubrix/lib/python3.8/site-packages/sklearn/metrics/_classification.py:1248: UndefinedMetricWarning: Precision and F-score are ill-defined and being set to 0.0 in labels with no predicted samples. Use `zero_division` parameter to control this behavior.\n",
      "  _warn_prf(average, modifier, msg_start, len(result))\n"
     ]
    }
   ],
   "source": [
    "from sklearn.metrics import classification_report\n",
    "\n",
    "print(classification_report(dataset_test.y, active_learner.classifier.predict(dataset_test)))"
   ]
  },
  {
   "cell_type": "markdown",
   "id": "5cd1b863-dc80-4533-8d7f-378eeb75b750",
   "metadata": {
    "tags": []
   },
   "source": [
    "# With sklearn"
   ]
  },
  {
   "cell_type": "markdown",
   "id": "f8ab639e-23d3-456d-bac0-b310f3648821",
   "metadata": {},
   "source": [
    "## Preprocess data"
   ]
  },
  {
   "cell_type": "code",
   "execution_count": 13,
   "id": "e253429e-614f-4279-a927-37b67527a4e5",
   "metadata": {},
   "outputs": [],
   "source": [
    "from sklearn.feature_extraction.text import TfidfVectorizer\n",
    "\n",
    "\n",
    "# Extract the text features\n",
    "vectorizer = TfidfVectorizer()\n",
    "text_features = vectorizer.fit_transform(trec[\"train\"][\"text\"])"
   ]
  },
  {
   "cell_type": "code",
   "execution_count": 14,
   "id": "be55b3b7-a669-4b33-92b8-33ae3c74ec42",
   "metadata": {},
   "outputs": [],
   "source": [
    "import numpy as np\n",
    "from small_text.base import LABEL_UNLABELED\n",
    "from small_text.data import SklearnDataset\n",
    "\n",
    "\n",
    "# Create a dataset for small-text\n",
    "dataset = SklearnDataset(text_features, np.array([LABEL_UNLABELED]*len(trec[\"train\"])))"
   ]
  },
  {
   "cell_type": "code",
   "execution_count": 15,
   "id": "cb632a58-ae55-4784-9cfd-6cb978a536ee",
   "metadata": {},
   "outputs": [],
   "source": [
    "# Create test dataset\n",
    "dataset_test = SklearnDataset(\n",
    "    vectorizer.transform(trec[\"test\"][\"text\"]),\n",
    "    np.array(trec[\"test\"][\"label-coarse\"]),\n",
    ")"
   ]
  },
  {
   "cell_type": "markdown",
   "id": "99135c63-2d23-4cef-94c1-2a894ce465d9",
   "metadata": {},
   "source": [
    "## Set up Active Learner"
   ]
  },
  {
   "cell_type": "code",
   "execution_count": 16,
   "id": "ac3e2f06-18b7-4888-bc1b-923313fe85f5",
   "metadata": {},
   "outputs": [],
   "source": [
    "from small_text.classifiers import ConfidenceEnhancedLinearSVC\n",
    "from small_text.classifiers.factories import SklearnClassifierFactory\n",
    "from small_text.query_strategies import BreakingTies\n",
    "from small_text.active_learner import PoolBasedActiveLearner\n",
    "\n",
    "\n",
    "# Define our classifier\n",
    "clf_factory = SklearnClassifierFactory(\n",
    "    base_estimator=ConfidenceEnhancedLinearSVC(), \n",
    "    num_classes=6\n",
    ")\n",
    "\n",
    "# Define our query strategy\n",
    "query_strategy = BreakingTies()\n",
    "\n",
    "# Use the active learner with a pool-based sampling \n",
    "active_learner = PoolBasedActiveLearner(clf_factory, query_strategy, dataset)"
   ]
  },
  {
   "cell_type": "markdown",
   "id": "dcb8b5e7-5acc-4b21-bb39-b85d946cff03",
   "metadata": {},
   "source": [
    "## Simulation"
   ]
  },
  {
   "cell_type": "code",
   "execution_count": 19,
   "id": "5b13d014-2d2c-47ce-be92-65b7b95451af",
   "metadata": {},
   "outputs": [],
   "source": [
    "from small_text.classifiers import ConfidenceEnhancedLinearSVC\n",
    "from small_text.classifiers.factories import SklearnClassifierFactory\n",
    "from small_text.query_strategies import BreakingTies\n",
    "from small_text.active_learner import PoolBasedActiveLearner\n",
    "\n",
    "clf_factory = SklearnClassifierFactory(\n",
    "    base_estimator=ConfidenceEnhancedLinearSVC(), \n",
    "    num_classes=6\n",
    ")\n",
    "query_strategy = BreakingTies()\n",
    "active_learner = PoolBasedActiveLearner(clf_factory, query_strategy, dataset)"
   ]
  },
  {
   "cell_type": "code",
   "execution_count": 20,
   "id": "86f9a763-1af5-4f5e-81e3-04e7a23afff8",
   "metadata": {},
   "outputs": [],
   "source": [
    "from small_text.initialization import random_initialization\n",
    "import numpy as np\n",
    "\n",
    "np.random.seed(42)\n",
    "y = np.array(trec[\"train\"][\"label-coarse\"])\n",
    "initial_indices = random_initialization(dataset, n_samples=20)\n",
    "active_learner.initialize_data(initial_indices, y[initial_indices])"
   ]
  },
  {
   "cell_type": "code",
   "execution_count": null,
   "id": "23e4cb4d-51c2-4831-8d3c-315aa8ccf50f",
   "metadata": {
    "tags": []
   },
   "outputs": [],
   "source": [
    "from sklearn.metrics import classification_report\n",
    "import pandas as pd\n",
    "accuracies = []\n",
    "\n",
    "for _ in range(20):\n",
    "    acc = classification_report(dataset_test.y, active_learner.classifier.predict(dataset_test), output_dict=True)[\"accuracy\"]\n",
    "    accuracies.append(acc)\n",
    "    \n",
    "    idx = active_learner.query(num_samples=20)\n",
    "    active_learner.update(y[idx])\n",
    "    \n",
    "acc = classification_report(dataset_test.y, active_learner.classifier.predict(dataset_test), output_dict=True)[\"accuracy\"]\n",
    "accuracies.append(acc)"
   ]
  },
  {
   "cell_type": "code",
   "execution_count": 22,
   "id": "220428f7-2bf4-4483-8bd6-7b755d8899e6",
   "metadata": {},
   "outputs": [
    {
     "data": {
      "text/plain": [
       "<AxesSubplot:>"
      ]
     },
     "execution_count": 22,
     "metadata": {},
     "output_type": "execute_result"
    },
    {
     "data": {
      "image/png": "[encoded data removed]",
      "text/plain": [
       "<Figure size 432x288 with 1 Axes>"
      ]
     },
     "metadata": {
      "needs_background": "light"
     },
     "output_type": "display_data"
    }
   ],
   "source": [
    "pd.Series(accuracies).plot()"
   ]
  },
  {
   "cell_type": "code",
   "execution_count": 22,
   "id": "e6e30a73-12f7-4ab3-bd54-0109f7527476",
   "metadata": {},
   "outputs": [
    {
     "data": {
      "text/plain": [
       "0.706"
      ]
     },
     "execution_count": 22,
     "metadata": {},
     "output_type": "execute_result"
    }
   ],
   "source": [
    "accuracies[19]"
   ]
  }
 ],
 "metadata": {
  "kernelspec": {
   "display_name": "Python 3 (ipykernel)",
   "language": "python",
   "name": "python3"
  },
  "language_info": {
   "codemirror_mode": {
    "name": "ipython",
    "version": 3
   },
   "file_extension": ".py",
   "mimetype": "text/x-python",
   "name": "python",
   "nbconvert_exporter": "python",
   "pygments_lexer": "ipython3",
   "version": "3.8.12"
  }
 },
 "nbformat": 4,
 "nbformat_minor": 5
}
