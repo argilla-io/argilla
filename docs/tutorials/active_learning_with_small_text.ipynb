{
 "cells": [
  {
   "cell_type": "markdown",
   "id": "e7b5a1fa-9265-4fb8-9c0e-a9156c22f4ff",
   "metadata": {},
   "source": [
    "# Learn actively, and listen carefully to small-text"
   ]
  },
  {
   "cell_type": "markdown",
   "id": "1799987c-764f-4295-97b7-d0e48324cccd",
   "metadata": {},
   "source": [
    "In this tutorial, you will learn how to set up a complete active learning loop without leaving the Rubrix UI:\n",
    " - Use the excellent small-text library to set up your active learner;\n",
    " - Use a Rubrix listener to build and start an active learning loop;\n",
    " - Use the Rubrix UI to annotate examples and learn actively;"
   ]
  },
  {
   "cell_type": "code",
   "execution_count": null,
   "id": "b3fc04e5-ba24-474e-a38b-2992fc4b7c27",
   "metadata": {},
   "outputs": [],
   "source": [
    "%pip install datasets small-text scikit-learn"
   ]
  },
  {
   "cell_type": "code",
   "execution_count": 12,
   "id": "f988c3d7-d9b3-40b0-be5b-ed31bf2fa29a",
   "metadata": {
    "tags": []
   },
   "outputs": [
    {
     "name": "stderr",
     "output_type": "stream",
     "text": [
      "WARNING:datasets.builder:Using custom data configuration default\n",
      "WARNING:datasets.builder:Reusing dataset trec (/home/david/.cache/huggingface/datasets/trec/default/1.1.0/751da1ab101b8d297a3d6e9c79ee9b0173ff94c4497b75677b59b61d5467a9b9)\n"
     ]
    },
    {
     "data": {
      "application/vnd.jupyter.widget-view+json": {
       "model_id": "37cfa90e89684beeaa51aa07b405ba87",
       "version_major": 2,
       "version_minor": 0
      },
      "text/plain": [
       "  0%|          | 0/2 [00:00<?, ?it/s]"
      ]
     },
     "metadata": {},
     "output_type": "display_data"
    }
   ],
   "source": [
    "import datasets\n",
    "\n",
    "trec = datasets.load_dataset('trec')"
   ]
  },
  {
   "cell_type": "markdown",
   "id": "4ecba83d-92a0-4873-a0c6-7815b7636705",
   "metadata": {},
   "source": [
    "## Preprocess data"
   ]
  },
  {
   "cell_type": "code",
   "execution_count": 8,
   "id": "eb2c49e1-79f1-43a1-bdb7-ff435f985bd3",
   "metadata": {},
   "outputs": [],
   "source": [
    "from transformers import AutoTokenizer\n",
    "\n",
    "# Choose transformer model\n",
    "TRANSFORMER_MODEL = \"google/electra-small-discriminator\"\n",
    "\n",
    "# Init tokenizer\n",
    "tokenizer = AutoTokenizer.from_pretrained(TRANSFORMER_MODEL)"
   ]
  },
  {
   "cell_type": "code",
   "execution_count": 3,
   "id": "2155440a-b7f0-4bd7-8e27-6d8c6e1f19ad",
   "metadata": {},
   "outputs": [
    {
     "name": "stderr",
     "output_type": "stream",
     "text": [
      "Loading cached processed dataset at /home/david/.cache/huggingface/datasets/trec/default/1.1.0/751da1ab101b8d297a3d6e9c79ee9b0173ff94c4497b75677b59b61d5467a9b9/cache-50229829eeb8c50c.arrow\n",
      "Loading cached processed dataset at /home/david/.cache/huggingface/datasets/trec/default/1.1.0/751da1ab101b8d297a3d6e9c79ee9b0173ff94c4497b75677b59b61d5467a9b9/cache-12092026cd66d70b.arrow\n"
     ]
    }
   ],
   "source": [
    "def tokenize(examples):\n",
    "    return tokenizer(examples[\"text\"], padding=\"max_length\", max_length=64, truncation=True)\n",
    "\n",
    "# Tokenize data\n",
    "trec_tokenized = trec.map(tokenize, batched=True, remove_columns=[\"text\"])\n",
    "\n",
    "# Set convenient output format \n",
    "trec_tokenized.set_format(\"torch\")"
   ]
  },
  {
   "cell_type": "code",
   "execution_count": 9,
   "id": "99ec2d1b-7a84-4a6a-ba38-9fffdaa52c43",
   "metadata": {},
   "outputs": [],
   "source": [
    "from small_text.integrations.transformers import TransformersDataset\n",
    "from small_text.base import LABEL_UNLABELED\n",
    "\n",
    "# Create small text datasets\n",
    "data = [\n",
    "    # Need to add an extra dimension to indicate a batch size of 1 -> [None]\n",
    "    (row[\"input_ids\"][None], row[\"attention_mask\"][None], LABEL_UNLABELED) \n",
    "    for row in trec_tokenized[\"train\"]\n",
    "]\n",
    "dataset = TransformersDataset(data)"
   ]
  },
  {
   "cell_type": "code",
   "execution_count": 10,
   "id": "09c9ceba-2ad0-4776-9929-ec0b63a9fdc3",
   "metadata": {},
   "outputs": [],
   "source": [
    "# Create test dataset\n",
    "data_test = [\n",
    "    (row[\"input_ids\"][None], row[\"attention_mask\"][None], int(row[\"label-coarse\"])) \n",
    "    for row in trec_tokenized[\"test\"]\n",
    "]\n",
    "dataset_test = TransformersDataset(data_test)"
   ]
  },
  {
   "cell_type": "markdown",
   "id": "a2befb12-de88-4b37-a80f-e1b27094e3a7",
   "metadata": {},
   "source": [
    "## Set up active learner"
   ]
  },
  {
   "cell_type": "code",
   "execution_count": 11,
   "id": "9966619f-7f2d-4815-9a79-8a2696002e2e",
   "metadata": {},
   "outputs": [],
   "source": [
    "from small_text.integrations.transformers.classifiers.factories import TransformerBasedClassificationFactory\n",
    "from small_text.integrations.transformers import TransformerModelArguments\n",
    "from small_text.query_strategies import BreakingTies\n",
    "from small_text.active_learner import PoolBasedActiveLearner\n",
    "\n",
    "\n",
    "# Define our classifier\n",
    "clf_factory = TransformerBasedClassificationFactory(\n",
    "    TransformerModelArguments(TRANSFORMER_MODEL),\n",
    "    6,\n",
    "    kwargs=dict({'device': 'cuda'})\n",
    ")\n",
    "\n",
    "# Define our query strategy\n",
    "query_strategy = BreakingTies()\n",
    "\n",
    "# Use the active learner with a pool-based sampling \n",
    "active_learner = PoolBasedActiveLearner(clf_factory, query_strategy, dataset)"
   ]
  },
  {
   "cell_type": "markdown",
   "id": "f9b2d6d9-b5f6-4ef2-85e9-2583981f534c",
   "metadata": {},
   "source": [
    "## Set up Rubrix dataset"
   ]
  },
  {
   "cell_type": "code",
   "execution_count": 6,
   "id": "29d03264-f583-47e1-a39f-3335ce9573e7",
   "metadata": {},
   "outputs": [],
   "source": [
    "import rubrix as rb\n",
    "\n",
    "DATASET_NAME = \"trec_with_active_learning\"\n",
    "\n",
    "\n",
    "# Define labeling schema\n",
    "labels = trec[\"train\"].features[\"label-coarse\"].names\n",
    "settings = rb.TextClassificationSettings(label_schema=labels)\n",
    "\n",
    "# Create dataset with a label schema\n",
    "rb.configure_dataset(name=DATASET_NAME, settings=settings)"
   ]
  },
  {
   "cell_type": "code",
   "execution_count": null,
   "id": "f26ac134-5880-4738-b880-799690456497",
   "metadata": {},
   "outputs": [],
   "source": [
    "from small_text.initialization import random_initialization\n",
    "import numpy as np\n",
    "# Fix seed for reproducibility \n",
    "np.random.seed(42)\n",
    "\n",
    "NUM_SAMPLES = 10\n",
    "\n",
    "\n",
    "# Get a few initial datapoints\n",
    "initial_indices = random_initialization(dataset, NUM_SAMPLES)\n",
    "\n",
    "# Log initial datapoints for annotation\n",
    "records = [\n",
    "    rb.TextClassificationRecord(\n",
    "        text=trec[\"train\"][\"text\"][idx], \n",
    "        metadata={\"batch_id\": 0},\n",
    "        id=idx,\n",
    "    )\n",
    "    for idx in initial_indices\n",
    "]\n",
    "rb.log(records, DATASET_NAME)"
   ]
  },
  {
   "cell_type": "markdown",
   "id": "0d113b94-c897-4c67-9c42-f4d2a60943ec",
   "metadata": {},
   "source": [
    "## Start active learning loop"
   ]
  },
  {
   "cell_type": "code",
   "execution_count": 8,
   "id": "67a94391-d957-4d63-aa5c-10874f87e687",
   "metadata": {},
   "outputs": [],
   "source": [
    "from rubrix.listeners import listener\n",
    "from sklearn.metrics import accuracy_score\n",
    "\n",
    "LABEL2INT = trec[\"train\"].features[\"label-coarse\"].str2int\n",
    "ACCURACIES = []\n",
    "\n",
    "\n",
    "@listener(\n",
    "    dataset=DATASET_NAME,\n",
    "    query=\"status:Validated AND metadata.batch_id:{batch_id}\",\n",
    "    condition=lambda search: search.total==NUM_SAMPLES,\n",
    "    execution_interval_in_seconds=2,\n",
    "    batch_id=0\n",
    ")\n",
    "def active_learning_loop(records, ctx):\n",
    "    \n",
    "    # 1. Update active learner\n",
    "    y = np.array([LABEL2INT(rec.annotation) for rec in records])\n",
    "    \n",
    "    # initial update\n",
    "    if ctx.query_params[\"batch_id\"] == 0:\n",
    "        indices = np.array([rec.id for rec in records])\n",
    "        active_learner.initialize_data(indices, y)\n",
    "    # update with the prior queried indices\n",
    "    else:\n",
    "        active_learner.update(y)\n",
    "        \n",
    "    # 2. Query active learner\n",
    "    queried_indices = active_learner.query(num_samples=NUM_SAMPLES)\n",
    "    ctx.query_params[\"batch_id\"] += 1\n",
    "    new_records = [\n",
    "        rb.TextClassificationRecord(\n",
    "            text=trec[\"train\"][\"text\"][idx], \n",
    "            metadata={\"batch_id\": ctx.query_params[\"batch_id\"]},\n",
    "            id=idx,\n",
    "        ) \n",
    "        for idx in queried_indices\n",
    "    ]\n",
    "    rb.log(new_records, DATASET_NAME)    \n",
    "    \n",
    "    # 3. Evaluate current classifier on a test set (optional)\n",
    "    accuracy = accuracy_score(\n",
    "        dataset_test.y, \n",
    "        active_learner.classifier.predict(dataset_test),\n",
    "    )\n",
    "    ACCURACIES.append(accuracy)"
   ]
  },
  {
   "cell_type": "code",
   "execution_count": null,
   "id": "402519db-4edb-4300-89e4-e542d2b372b6",
   "metadata": {},
   "outputs": [],
   "source": [
    "active_learning_loop.start()"
   ]
  },
  {
   "cell_type": "code",
   "execution_count": 10,
   "id": "4a36da28-e61c-422f-9c12-132efe872843",
   "metadata": {},
   "outputs": [],
   "source": [
    "active_learning_loop.stop()"
   ]
  },
  {
   "cell_type": "markdown",
   "id": "4e068aea-a1af-4c3e-81a9-d74dfcc4a902",
   "metadata": {},
   "source": [
    "## Appendix: Simulation"
   ]
  },
  {
   "cell_type": "code",
   "execution_count": 6,
   "id": "43a54acd-f6d2-42bc-8bfb-105abe653f4a",
   "metadata": {},
   "outputs": [],
   "source": [
    "from small_text.initialization import random_initialization\n",
    "import numpy as np\n",
    "\n",
    "np.random.seed(42)\n",
    "y = np.array(trec[\"train\"][\"label-coarse\"])\n",
    "initial_indices = random_initialization(dataset, n_samples=20)\n",
    "active_learner.initialize_data(initial_indices, y[initial_indices])"
   ]
  },
  {
   "cell_type": "code",
   "execution_count": 29,
   "id": "75bb85b0-f133-4541-bbd4-fbbf62b3b505",
   "metadata": {},
   "outputs": [
    {
     "data": {
      "text/plain": [
       "0.192"
      ]
     },
     "execution_count": 29,
     "metadata": {},
     "output_type": "execute_result"
    }
   ],
   "source": [
    "from sklearn.metrics import accuracy_score\n",
    "\n",
    "predictions = active_learner.classifier.predict(dataset_test)\n",
    "accuracy_score(dataset_test.y, predictions)"
   ]
  },
  {
   "cell_type": "code",
   "execution_count": 30,
   "id": "4aca7484-b788-4856-b114-79dbf21e54b4",
   "metadata": {},
   "outputs": [
    {
     "name": "stdout",
     "output_type": "stream",
     "text": [
      "Iteration: 0 20\n",
      "Iteration: 1 40\n",
      "Iteration: 2 60\n",
      "Iteration: 3 80\n",
      "Iteration: 4 100\n",
      "Iteration: 5 120\n",
      "Iteration: 6 140\n",
      "Iteration: 7 160\n",
      "Iteration: 8 180\n",
      "Iteration: 9 200\n",
      "Iteration: 10 220\n",
      "Iteration: 11 240\n",
      "Iteration: 12 260\n",
      "Iteration: 13 280\n",
      "Iteration: 14 300\n",
      "Iteration: 15 320\n",
      "Iteration: 16 340\n",
      "Iteration: 17 360\n",
      "Iteration: 18 380\n",
      "Iteration: 19 400\n"
     ]
    }
   ],
   "source": [
    "accuracies = []\n",
    "\n",
    "for i in range(20):\n",
    "    print(f\"Iteration: {i}\", len(active_learner.indices_labeled))\n",
    "    \n",
    "    predictions = active_learner.classifier.predict(dataset_test)\n",
    "    accuracies.append(accuracy_score(dataset_test.y, predictions))\n",
    "    \n",
    "    indices_queried = active_learner.query(num_samples=20)\n",
    "    y = trec_tokenized[\"train\"][\"label-coarse\"][indices_queried].numpy()\n",
    "    active_learner.update(y)"
   ]
  },
  {
   "cell_type": "code",
   "execution_count": 31,
   "id": "34ef436a-ba58-48f1-9f5a-59a4e3da9192",
   "metadata": {},
   "outputs": [
    {
     "data": {
      "text/plain": [
       "<AxesSubplot:>"
      ]
     },
     "execution_count": 31,
     "metadata": {},
     "output_type": "execute_result"
    },
    {
     "data": {
      "image/png": "[encoded data removed]",
      "text/plain": [
       "<Figure size 432x288 with 1 Axes>"
      ]
     },
     "metadata": {
      "needs_background": "light"
     },
     "output_type": "display_data"
    }
   ],
   "source": [
    "import pandas as pd\n",
    "\n",
    "pd.Series(accuracies).plot()"
   ]
  },
  {
   "cell_type": "code",
   "execution_count": 34,
   "id": "f56a7b7b-45b6-4b46-bebd-8aafd7a0060e",
   "metadata": {},
   "outputs": [
    {
     "data": {
      "text/plain": [
       "1    104\n",
       "3     86\n",
       "5     84\n",
       "0     73\n",
       "4     66\n",
       "2      7\n",
       "dtype: int64"
      ]
     },
     "execution_count": 34,
     "metadata": {},
     "output_type": "execute_result"
    }
   ],
   "source": [
    "idx = active_learner.indices_labeled\n",
    "pd.Series(trec_tokenized[\"train\"][\"label-coarse\"][idx]).value_counts()"
   ]
  },
  {
   "cell_type": "code",
   "execution_count": 38,
   "id": "39dd7ae5-3d24-4fc2-8896-01c35c9ced46",
   "metadata": {},
   "outputs": [
    {
     "name": "stdout",
     "output_type": "stream",
     "text": [
      "              precision    recall  f1-score   support\n",
      "\n",
      "           0       0.72      0.95      0.82       138\n",
      "           1       0.83      0.80      0.82        94\n",
      "           2       0.00      0.00      0.00         9\n",
      "           3       0.87      0.94      0.90        65\n",
      "           4       0.98      0.51      0.67       113\n",
      "           5       0.81      0.98      0.88        81\n",
      "\n",
      "    accuracy                           0.81       500\n",
      "   macro avg       0.70      0.70      0.68       500\n",
      "weighted avg       0.82      0.81      0.79       500\n",
      "\n"
     ]
    },
    {
     "name": "stderr",
     "output_type": "stream",
     "text": [
      "/home/david/miniconda3/envs/rubrix/lib/python3.8/site-packages/sklearn/metrics/_classification.py:1248: UndefinedMetricWarning: Precision and F-score are ill-defined and being set to 0.0 in labels with no predicted samples. Use `zero_division` parameter to control this behavior.\n",
      "  _warn_prf(average, modifier, msg_start, len(result))\n",
      "/home/david/miniconda3/envs/rubrix/lib/python3.8/site-packages/sklearn/metrics/_classification.py:1248: UndefinedMetricWarning: Precision and F-score are ill-defined and being set to 0.0 in labels with no predicted samples. Use `zero_division` parameter to control this behavior.\n",
      "  _warn_prf(average, modifier, msg_start, len(result))\n",
      "/home/david/miniconda3/envs/rubrix/lib/python3.8/site-packages/sklearn/metrics/_classification.py:1248: UndefinedMetricWarning: Precision and F-score are ill-defined and being set to 0.0 in labels with no predicted samples. Use `zero_division` parameter to control this behavior.\n",
      "  _warn_prf(average, modifier, msg_start, len(result))\n"
     ]
    }
   ],
   "source": [
    "from sklearn.metrics import classification_report\n",
    "\n",
    "print(classification_report(dataset_test.y, active_learner.classifier.predict(dataset_test)))"
   ]
  },
  {
   "cell_type": "markdown",
   "id": "5cd1b863-dc80-4533-8d7f-378eeb75b750",
   "metadata": {
    "tags": []
   },
   "source": [
    "# With sklearn"
   ]
  },
  {
   "cell_type": "markdown",
   "id": "f8ab639e-23d3-456d-bac0-b310f3648821",
   "metadata": {},
   "source": [
    "## Preprocess data"
   ]
  },
  {
   "cell_type": "code",
   "execution_count": 13,
   "id": "e253429e-614f-4279-a927-37b67527a4e5",
   "metadata": {},
   "outputs": [],
   "source": [
    "from sklearn.feature_extraction.text import TfidfVectorizer\n",
    "\n",
    "\n",
    "# Extract the text features\n",
    "vectorizer = TfidfVectorizer()\n",
    "text_features = vectorizer.fit_transform(trec[\"train\"][\"text\"])"
   ]
  },
  {
   "cell_type": "code",
   "execution_count": 14,
   "id": "be55b3b7-a669-4b33-92b8-33ae3c74ec42",
   "metadata": {},
   "outputs": [],
   "source": [
    "import numpy as np\n",
    "from small_text.base import LABEL_UNLABELED\n",
    "from small_text.data import SklearnDataset\n",
    "\n",
    "\n",
    "# Create a dataset for small-text\n",
    "dataset = SklearnDataset(text_features, np.array([LABEL_UNLABELED]*len(trec[\"train\"])))"
   ]
  },
  {
   "cell_type": "code",
   "execution_count": 15,
   "id": "cb632a58-ae55-4784-9cfd-6cb978a536ee",
   "metadata": {},
   "outputs": [],
   "source": [
    "# Create test dataset\n",
    "dataset_test = SklearnDataset(\n",
    "    vectorizer.transform(trec[\"test\"][\"text\"]),\n",
    "    np.array(trec[\"test\"][\"label-coarse\"]),\n",
    ")"
   ]
  },
  {
   "cell_type": "markdown",
   "id": "99135c63-2d23-4cef-94c1-2a894ce465d9",
   "metadata": {},
   "source": [
    "## Set up Active Learner"
   ]
  },
  {
   "cell_type": "code",
   "execution_count": 16,
   "id": "ac3e2f06-18b7-4888-bc1b-923313fe85f5",
   "metadata": {},
   "outputs": [],
   "source": [
    "from small_text.classifiers import ConfidenceEnhancedLinearSVC\n",
    "from small_text.classifiers.factories import SklearnClassifierFactory\n",
    "from small_text.query_strategies import BreakingTies\n",
    "from small_text.active_learner import PoolBasedActiveLearner\n",
    "\n",
    "\n",
    "# Define our classifier\n",
    "clf_factory = SklearnClassifierFactory(\n",
    "    base_estimator=ConfidenceEnhancedLinearSVC(), \n",
    "    num_classes=6\n",
    ")\n",
    "\n",
    "# Define our query strategy\n",
    "query_strategy = BreakingTies()\n",
    "\n",
    "# Use the active learner with a pool-based sampling \n",
    "active_learner = PoolBasedActiveLearner(clf_factory, query_strategy, dataset)"
   ]
  },
  {
   "cell_type": "markdown",
   "id": "dcb8b5e7-5acc-4b21-bb39-b85d946cff03",
   "metadata": {},
   "source": [
    "## Simulation"
   ]
  },
  {
   "cell_type": "code",
   "execution_count": 19,
   "id": "5b13d014-2d2c-47ce-be92-65b7b95451af",
   "metadata": {},
   "outputs": [],
   "source": [
    "from small_text.classifiers import ConfidenceEnhancedLinearSVC\n",
    "from small_text.classifiers.factories import SklearnClassifierFactory\n",
    "from small_text.query_strategies import BreakingTies\n",
    "from small_text.active_learner import PoolBasedActiveLearner\n",
    "\n",
    "clf_factory = SklearnClassifierFactory(\n",
    "    base_estimator=ConfidenceEnhancedLinearSVC(), \n",
    "    num_classes=6\n",
    ")\n",
    "query_strategy = BreakingTies()\n",
    "active_learner = PoolBasedActiveLearner(clf_factory, query_strategy, dataset)"
   ]
  },
  {
   "cell_type": "code",
   "execution_count": 20,
   "id": "86f9a763-1af5-4f5e-81e3-04e7a23afff8",
   "metadata": {},
   "outputs": [],
   "source": [
    "from small_text.initialization import random_initialization\n",
    "import numpy as np\n",
    "\n",
    "np.random.seed(42)\n",
    "y = np.array(trec[\"train\"][\"label-coarse\"])\n",
    "initial_indices = random_initialization(dataset, n_samples=20)\n",
    "active_learner.initialize_data(initial_indices, y[initial_indices])"
   ]
  },
  {
   "cell_type": "code",
   "execution_count": null,
   "id": "23e4cb4d-51c2-4831-8d3c-315aa8ccf50f",
   "metadata": {
    "tags": []
   },
   "outputs": [],
   "source": [
    "from sklearn.metrics import classification_report\n",
    "import pandas as pd\n",
    "accuracies = []\n",
    "\n",
    "for _ in range(20):\n",
    "    acc = classification_report(dataset_test.y, active_learner.classifier.predict(dataset_test), output_dict=True)[\"accuracy\"]\n",
    "    accuracies.append(acc)\n",
    "    \n",
    "    idx = active_learner.query(num_samples=20)\n",
    "    active_learner.update(y[idx])\n",
    "    \n",
    "acc = classification_report(dataset_test.y, active_learner.classifier.predict(dataset_test), output_dict=True)[\"accuracy\"]\n",
    "accuracies.append(acc)"
   ]
  },
  {
   "cell_type": "code",
   "execution_count": 22,
   "id": "220428f7-2bf4-4483-8bd6-7b755d8899e6",
   "metadata": {},
   "outputs": [
    {
     "data": {
      "text/plain": [
       "<AxesSubplot:>"
      ]
     },
     "execution_count": 22,
     "metadata": {},
     "output_type": "execute_result"
    },
    {
     "data": {
      "image/png": "[encoded data removed]",
      "text/plain": [
       "<Figure size 432x288 with 1 Axes>"
      ]
     },
     "metadata": {
      "needs_background": "light"
     },
     "output_type": "display_data"
    }
   ],
   "source": [
    "pd.Series(accuracies).plot()"
   ]
  },
  {
   "cell_type": "code",
   "execution_count": 22,
   "id": "e6e30a73-12f7-4ab3-bd54-0109f7527476",
   "metadata": {},
   "outputs": [
    {
     "data": {
      "text/plain": [
       "0.706"
      ]
     },
     "execution_count": 22,
     "metadata": {},
     "output_type": "execute_result"
    }
   ],
   "source": [
    "accuracies[19]"
   ]
  }
 ],
 "metadata": {
  "kernelspec": {
   "display_name": "Python 3 (ipykernel)",
   "language": "python",
   "name": "python3"
  },
  "language_info": {
   "codemirror_mode": {
    "name": "ipython",
    "version": 3
   },
   "file_extension": ".py",
   "mimetype": "text/x-python",
   "name": "python",
   "nbconvert_exporter": "python",
   "pygments_lexer": "ipython3",
   "version": "3.8.12"
  }
 },
 "nbformat": 4,
 "nbformat_minor": 5
}
