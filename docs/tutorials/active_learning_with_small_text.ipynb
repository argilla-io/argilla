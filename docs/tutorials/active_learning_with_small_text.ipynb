{
 "cells": [
  {
   "cell_type": "markdown",
   "id": "e7b5a1fa-9265-4fb8-9c0e-a9156c22f4ff",
   "metadata": {},
   "source": [
    "# Learn actively, and listen carefully to small-text"
   ]
  },
  {
   "cell_type": "markdown",
   "id": "1799987c-764f-4295-97b7-d0e48324cccd",
   "metadata": {},
   "source": [
    "In this tutorial you will learn how "
   ]
  },
  {
   "cell_type": "code",
   "execution_count": null,
   "id": "b3fc04e5-ba24-474e-a38b-2992fc4b7c27",
   "metadata": {},
   "outputs": [],
   "source": [
    "%pip install datasets small-text scikit-learn"
   ]
  },
  {
   "cell_type": "code",
   "execution_count": 1,
   "id": "f988c3d7-d9b3-40b0-be5b-ed31bf2fa29a",
   "metadata": {
    "tags": []
   },
   "outputs": [
    {
     "name": "stderr",
     "output_type": "stream",
     "text": [
      "Using custom data configuration default\n",
      "Reusing dataset trec (/home/david/.cache/huggingface/datasets/trec/default/1.1.0/751da1ab101b8d297a3d6e9c79ee9b0173ff94c4497b75677b59b61d5467a9b9)\n"
     ]
    },
    {
     "data": {
      "application/vnd.jupyter.widget-view+json": {
       "model_id": "ddb9fb6b94254aff8ec112ecb6a94a7d",
       "version_major": 2,
       "version_minor": 0
      },
      "text/plain": [
       "  0%|          | 0/2 [00:00<?, ?it/s]"
      ]
     },
     "metadata": {},
     "output_type": "display_data"
    }
   ],
   "source": [
    "import datasets\n",
    "\n",
    "trec = datasets.load_dataset('trec')"
   ]
  },
  {
   "cell_type": "code",
   "execution_count": 2,
   "id": "e253429e-614f-4279-a927-37b67527a4e5",
   "metadata": {},
   "outputs": [],
   "source": [
    "from sklearn.feature_extraction.text import TfidfVectorizer\n",
    "\n",
    "\n",
    "# Extract the text features\n",
    "vectorizer = TfidfVectorizer()\n",
    "text_features = vectorizer.fit_transform(trec[\"train\"][\"text\"])"
   ]
  },
  {
   "cell_type": "markdown",
   "id": "99135c63-2d23-4cef-94c1-2a894ce465d9",
   "metadata": {},
   "source": [
    "## Set up Active Learner"
   ]
  },
  {
   "cell_type": "code",
   "execution_count": 3,
   "id": "be55b3b7-a669-4b33-92b8-33ae3c74ec42",
   "metadata": {},
   "outputs": [],
   "source": [
    "import numpy as np\n",
    "from small_text.base import LABEL_UNLABELED\n",
    "from small_text.data import SklearnDataset\n",
    "\n",
    "\n",
    "# Create a dataset for small-text\n",
    "dataset = SklearnDataset(text_features, np.array([LABEL_UNLABELED]*len(trec[\"train\"])))"
   ]
  },
  {
   "cell_type": "code",
   "execution_count": 4,
   "id": "cb632a58-ae55-4784-9cfd-6cb978a536ee",
   "metadata": {},
   "outputs": [],
   "source": [
    "dataset_test = SklearnDataset(\n",
    "    vectorizer.transform(trec[\"test\"][\"text\"]),\n",
    "    np.array(trec[\"test\"][\"label-coarse\"]),\n",
    ")"
   ]
  },
  {
   "cell_type": "code",
   "execution_count": 5,
   "id": "ac3e2f06-18b7-4888-bc1b-923313fe85f5",
   "metadata": {},
   "outputs": [],
   "source": [
    "from small_text.classifiers import ConfidenceEnhancedLinearSVC\n",
    "from small_text.classifiers.factories import SklearnClassifierFactory\n",
    "from small_text.query_strategies import BreakingTies\n",
    "from small_text.active_learner import PoolBasedActiveLearner\n",
    "\n",
    "\n",
    "# Define our classifier\n",
    "clf_factory = SklearnClassifierFactory(\n",
    "    base_estimator=ConfidenceEnhancedLinearSVC(), \n",
    "    num_classes=6\n",
    ")\n",
    "\n",
    "# Define our query strategy\n",
    "query_strategy = BreakingTies()\n",
    "\n",
    "# Use the active learner with a pool-based sampling \n",
    "active_learner = PoolBasedActiveLearner(clf_factory, query_strategy, dataset)"
   ]
  },
  {
   "cell_type": "markdown",
   "id": "6b3590c9-b196-4c8f-9ab3-6bfbab8df153",
   "metadata": {},
   "source": [
    "## Set up Rubrix dataset"
   ]
  },
  {
   "cell_type": "code",
   "execution_count": 6,
   "id": "29d03264-f583-47e1-a39f-3335ce9573e7",
   "metadata": {},
   "outputs": [],
   "source": [
    "import rubrix as rb\n",
    "\n",
    "DATASET_NAME = \"trec_with_active_learning\"\n",
    "\n",
    "\n",
    "# Define labeling schema\n",
    "labels = trec[\"train\"].features[\"label-coarse\"].names\n",
    "settings = rb.TextClassificationSettings(label_schema=labels)\n",
    "\n",
    "# Apply seetings to a new or already existing dataset\n",
    "rb.configure_dataset(name=DATASET_NAME, settings=settings)"
   ]
  },
  {
   "cell_type": "code",
   "execution_count": 7,
   "id": "f26ac134-5880-4738-b880-799690456497",
   "metadata": {},
   "outputs": [
    {
     "data": {
      "application/vnd.jupyter.widget-view+json": {
       "model_id": "1fb8311790db4d7591a223fd0de70686",
       "version_major": 2,
       "version_minor": 0
      },
      "text/plain": [
       "  0%|          | 0/10 [00:00<?, ?it/s]"
      ]
     },
     "metadata": {},
     "output_type": "display_data"
    },
    {
     "name": "stdout",
     "output_type": "stream",
     "text": [
      "10 records logged to http://localhost:6900/datasets/rubrix/trec_with_active_learning\n"
     ]
    },
    {
     "data": {
      "text/plain": [
       "BulkResponse(dataset='trec_with_active_learning', processed=10, failed=0)"
      ]
     },
     "execution_count": 7,
     "metadata": {},
     "output_type": "execute_result"
    }
   ],
   "source": [
    "from small_text.initialization import random_initialization\n",
    "import numpy as np\n",
    "# Fix seed for reproducibility \n",
    "np.random.seed(42)\n",
    "\n",
    "NUM_SAMPLES = 10\n",
    "\n",
    "\n",
    "# Get a few initial datapoints\n",
    "initial_indices = random_initialization(dataset, NUM_SAMPLES)\n",
    "\n",
    "# Log initial datapoints for annotation\n",
    "records = [\n",
    "    rb.TextClassificationRecord(text=trec[\"train\"][\"text\"][idx], id=idx)\n",
    "    for idx in initial_indices\n",
    "]\n",
    "rb.log(records, DATASET_NAME)"
   ]
  },
  {
   "cell_type": "code",
   "execution_count": 8,
   "id": "67a94391-d957-4d63-aa5c-10874f87e687",
   "metadata": {},
   "outputs": [],
   "source": [
    "from rubrix.listeners import listener\n",
    "from sklearn.metrics import accuracy_score\n",
    "\n",
    "LABEL2INT = trec[\"train\"].features[\"label-coarse\"].str2int\n",
    "ACCURACIES = []\n",
    "\n",
    "\n",
    "@listener(\n",
    "    dataset=DATASET_NAME,\n",
    "    query=\"status:Validated\",\n",
    "    execution_interval_in_seconds=2,\n",
    ")\n",
    "def active_learning_loop(records, ctx):\n",
    "    # Get indices of the newly annotated records\n",
    "    indices = np.array([rec.id for rec in records])\n",
    "    new_indices = np.setdiff1d(indices, active_learner.indices_labeled)   \n",
    "    \n",
    "    # We still have to do some annotating\n",
    "    if len(new_indices) < NUM_SAMPLES:\n",
    "        return\n",
    "        \n",
    "    # Update active learner\n",
    "    # initial update\n",
    "    if len(active_learner.indices_labeled) == 0:\n",
    "        y = np.array([LABEL2INT(rec.annotation) for rec in records])\n",
    "        active_learner.initialize_data(new_indices, y)\n",
    "    # update with the prior queried indices\n",
    "    else:\n",
    "        y = np.array([LABEL2INT(rec.annotation) for rec in records if rec.id in new_indices])\n",
    "        active_learner.update(y)\n",
    "        \n",
    "    # Query active learner\n",
    "    queried_indices = active_learner.query(num_samples=NUM_SAMPLES)\n",
    "    new_records = [\n",
    "        rb.TextClassificationRecord(text=trec[\"train\"][\"text\"][idx], id=idx)\n",
    "        for idx in queried_indices\n",
    "    ]\n",
    "    rb.log(new_records, DATASET_NAME)    \n",
    "    \n",
    "    # Optional, evaluate current classifier on the test set\n",
    "    dataset_test = SklearnDataset(\n",
    "        vectorizer.transform(trec[\"test\"][\"text\"]), \n",
    "        np.array(trec[\"test\"][\"label-coarse\"])\n",
    "    )\n",
    "    accuracy = accuracy_score(\n",
    "        dataset_test.y, \n",
    "        active_learner.classifier.predict(dataset_test),\n",
    "    )\n",
    "    ACCURACIES.append(accuracy)"
   ]
  },
  {
   "cell_type": "code",
   "execution_count": 9,
   "id": "402519db-4edb-4300-89e4-e542d2b372b6",
   "metadata": {},
   "outputs": [
    {
     "data": {
      "application/vnd.jupyter.widget-view+json": {
       "model_id": "17e4d8bbef344e1e8b465be4bd1949fd",
       "version_major": 2,
       "version_minor": 0
      },
      "text/plain": [
       "  0%|          | 0/10 [00:00<?, ?it/s]"
      ]
     },
     "metadata": {},
     "output_type": "display_data"
    },
    {
     "name": "stdout",
     "output_type": "stream",
     "text": [
      "10 records logged to http://localhost:6900/datasets/rubrix/trec_with_active_learning\n"
     ]
    }
   ],
   "source": [
    "active_learning_loop.start()"
   ]
  },
  {
   "cell_type": "code",
   "execution_count": 10,
   "id": "4a36da28-e61c-422f-9c12-132efe872843",
   "metadata": {},
   "outputs": [],
   "source": [
    "active_learning_loop.stop()"
   ]
  },
  {
   "cell_type": "markdown",
   "id": "dcb8b5e7-5acc-4b21-bb39-b85d946cff03",
   "metadata": {},
   "source": [
    "## Simulation"
   ]
  },
  {
   "cell_type": "code",
   "execution_count": 14,
   "id": "5b13d014-2d2c-47ce-be92-65b7b95451af",
   "metadata": {},
   "outputs": [],
   "source": [
    "from small_text.classifiers import ConfidenceEnhancedLinearSVC\n",
    "from small_text.classifiers.factories import SklearnClassifierFactory\n",
    "from small_text.query_strategies import BreakingTies\n",
    "from small_text.active_learner import PoolBasedActiveLearner\n",
    "\n",
    "clf_factory = SklearnClassifierFactory(\n",
    "    base_estimator=ConfidenceEnhancedLinearSVC(), \n",
    "    num_classes=6\n",
    ")\n",
    "query_strategy = BreakingTies()\n",
    "active_learner = PoolBasedActiveLearner(clf_factory, query_strategy, dataset)"
   ]
  },
  {
   "cell_type": "code",
   "execution_count": 15,
   "id": "86f9a763-1af5-4f5e-81e3-04e7a23afff8",
   "metadata": {},
   "outputs": [],
   "source": [
    "from small_text.initialization import random_initialization\n",
    "import numpy as np\n",
    "\n",
    "np.random.seed(42)\n",
    "y = np.array(trec[\"train\"][\"label-coarse\"])\n",
    "initial_indices = random_initialization(dataset)\n",
    "active_learner.initialize_data(initial_indices, y[initial_indices])"
   ]
  },
  {
   "cell_type": "code",
   "execution_count": null,
   "id": "23e4cb4d-51c2-4831-8d3c-315aa8ccf50f",
   "metadata": {
    "tags": []
   },
   "outputs": [],
   "source": [
    "from sklearn.metrics import classification_report\n",
    "import pandas as pd\n",
    "accuracies = []\n",
    "\n",
    "for _ in range(200):\n",
    "    acc = classification_report(dataset_test.y, active_learner.classifier.predict(dataset_test), output_dict=True)[\"accuracy\"]\n",
    "    accuracies.append(acc)\n",
    "    \n",
    "    idx = active_learner.query(num_samples=10)\n",
    "    active_learner.update(y[idx])\n",
    "    \n",
    "acc = classification_report(dataset_test.y, active_learner.classifier.predict(dataset_test), output_dict=True)[\"accuracy\"]\n",
    "accuracies.append(acc)"
   ]
  },
  {
   "cell_type": "code",
   "execution_count": 42,
   "id": "220428f7-2bf4-4483-8bd6-7b755d8899e6",
   "metadata": {},
   "outputs": [
    {
     "data": {
      "text/plain": [
       "<AxesSubplot:>"
      ]
     },
     "execution_count": 42,
     "metadata": {},
     "output_type": "execute_result"
    },
    {
     "data": {
      "image/png": "[encoded data removed]",
      "text/plain": [
       "<Figure size 432x288 with 1 Axes>"
      ]
     },
     "metadata": {
      "needs_background": "light"
     },
     "output_type": "display_data"
    }
   ],
   "source": [
    "pd.Series(accuracies).plot()"
   ]
  }
 ],
 "metadata": {
  "kernelspec": {
   "display_name": "Python 3 (ipykernel)",
   "language": "python",
   "name": "python3"
  },
  "language_info": {
   "codemirror_mode": {
    "name": "ipython",
    "version": 3
   },
   "file_extension": ".py",
   "mimetype": "text/x-python",
   "name": "python",
   "nbconvert_exporter": "python",
   "pygments_lexer": "ipython3",
   "version": "3.8.12"
  }
 },
 "nbformat": 4,
 "nbformat_minor": 5
}
