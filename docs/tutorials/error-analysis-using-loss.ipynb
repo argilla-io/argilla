{
 "cells": [
  {
   "cell_type": "markdown",
   "id": "f59cfd0b-98c5-41e9-bbf1-30f10efb4d25",
   "metadata": {},
   "source": [
    "# 🧼 Clean labels using your model loss"
   ]
  },
  {
   "cell_type": "markdown",
   "id": "7d4eeee3-9471-4507-bb9b-d22d44800224",
   "metadata": {},
   "source": [
    "## TL;DR\n",
    "\n",
    "1. A simple technique for error analysis is introduced: **using model loss to find potential training data errors**.\n",
    "2. The technique is shown using a **fine-tuned text classifier from the Hugging Face Hub** on the **AG News dataset**.\n",
    "3. Using Rubrix, **we verify more than 100 mislabelled examples on the training set** of this well-known NLP benchmark.\n",
    "4. This trick is useful during **model training with small and noisy datasets**.\n",
    "5. This trick is complementary with other \"data-centric\" ML methods such as `cleanlab` (see the Rubrix tutorial on cleanlab).\n",
    "\n",
    "\n",
    "## Introduction\n",
    "\n",
    "This tutorial explains a simple trick for finding potential errors in training data: *using your model loss to identify label errors or ambiguous examples*. This trick is inspired by the following [tweet](https://twitter.com/karpathy/status/1311884485676294151):\n",
    "\n",
    "<blockquote class=\"twitter-tweet\"><p lang=\"en\" dir=\"ltr\">When you sort your dataset descending by loss you are guaranteed to find something unexpected, strange and helpful.</p>&mdash; Andrej Karpathy (@karpathy) <a href=\"https://twitter.com/karpathy/status/1311884485676294151?ref_src=twsrc%5Etfw\">October 2, 2020</a></blockquote> <script async src=\"https://platform.twitter.com/widgets.js\" charset=\"utf-8\"></script>\n",
    "<script async src=\"//platform.twitter.com/widgets.js\" charset=\"utf-8\"></script>"
   ]
  },
  {
   "cell_type": "markdown",
   "id": "ebcda6e0-cbc4-4bf9-9232-4b2380930a30",
   "metadata": {},
   "source": [
    "The technique is really simple: if you are training a model with a training set, train your model, and you apply your model to the training set to **compute the loss for each example in the training set**. If you sort your dataset examples by loss, examples with the highest loss are the most ambiguous and difficult to learn.\n",
    "\n",
    "This very simple technique can be used for **error analysis during model development** (e.g., identifying tokenization problems), but it turns out is also a really simple technique for **cleaning up your training data, during model development or after training data collection activities**. \n",
    " \n",
    "\n",
    "In this tutorial, we'll use this technique with a well-known text classification benchmark, the [AG News dataset](https://huggingface.co/datasets/ag_news). After computing the losses, we'll use Rubrix to analyse the highest loss examples. In less than 10 minutes, we manually check and relabel the first 100 examples. In fact, the first 100 examples with the highest loss, are all incorrect in the original training set. If we visually inspect further examples, we still find label errors in the top 500 examples.\n",
    "\n",
    "## Ingredients\n",
    "\n",
    "- A model fine-tuned with the AG News dataset (you could train your own model if you wish).\n",
    "- The AG News train split (the same trick could and should be applied to validation and test splits).\n",
    "- Rubrix for logging, exploring, and relabeling wrong examples.\n",
    "\n",
    "\n",
    "## Steps\n",
    "\n",
    "\n",
    "1. Load the fine-tuned model and the AG News train split.\n",
    "2. Compute the loss for each example and sort examples by descending loss.\n",
    "3. Log the first 500 example into a Rubrix dataset. We provide you with the processed dataset if you want to skip the first two steps.\n",
    "4. Use Rubrix webapp for inspecting the examples ordered by loss. In the following video, we show you the full process for manually correcting the first 100 examples (all incorrect in the original dataset, the original video is 8 minutes long):\n",
    "\n",
    "\n",
    "<video width=\"100%\" controls><source src=\"https://github.com/recognai/rubrix-materials/raw/main/tutorials/videos/relabeling_ag_news.mp4\" type=\"video/mp4\"></video>\n",
    "\n",
    "## Why it's important\n",
    "\n",
    "1. **Machine learning models are only as good as the data they're trained on**. Almost all training data source can be considered \"noisy\" (e.g., crowd-workers, annotator errors, weak supervision sources, data augmentation, etc.)\n",
    "\n",
    "2. With this simple technique **we're able to find more than 100 label errors on a widely-used benchmark in less than 10 minutes**. Your dataset will probably be noisier.\n",
    "\n",
    "3. With advanced model architectures widely-available, **managing, cleaning, and curating data is becoming a key step for making robust ML applications**. A good summary of the current situation can be found in the website of the [Data-centric AI NeurIPS Workshop](http://datacentricai.org/).\n",
    "\n",
    "4. This simple trick **can be used accross the whole ML life-cyle** and not only for finding label errors. With this trick you can improve data preprocessing, tokenization, and even your model architecture."
   ]
  },
  {
   "cell_type": "markdown",
   "id": "931ee64c-ae69-49c3-94fe-60a24f1cb96b",
   "metadata": {},
   "source": [
    "## Setup Rubrix\n",
    "\n",
    "Rubrix, is a free and open-source tool to explore, annotate, and monitor data for NLP projects.\n",
    "\n",
    "If you are new to Rubrix, check out the ⭐ [Github repository](https://github.com/recognai/rubrix).\n",
    "\n",
    "If you have not installed and launched Rubrix, check the [Setup and Installation guide](../getting_started/setup&installation.rst).\n",
    "\n",
    "Once installed, you only need to import Rubrix:"
   ]
  },
  {
   "cell_type": "code",
   "execution_count": 3,
   "id": "b8eb44db-dc8d-45a2-84d9-34ff59b840da",
   "metadata": {},
   "outputs": [],
   "source": [
    "import rubrix as rb"
   ]
  },
  {
   "cell_type": "markdown",
   "id": "3103679e-03af-42f2-8a56-f7b84468ec5e",
   "metadata": {},
   "source": [
    "## Tutorial dependencies\n",
    "We'll install the Hugging Face libraries [transformers](https://github.com/huggingface/transformers) and [datasets](https://github.com/huggingface/datasets), as well as [PyTorch](https://pytorch.org/), for the model and data set we'll use in the next steps."
   ]
  },
  {
   "cell_type": "code",
   "execution_count": null,
   "id": "f8i842ScANAv",
   "metadata": {
    "colab": {
     "base_uri": "https://localhost:8080/"
    },
    "id": "f8i842ScANAv",
    "outputId": "b7b06982-d0bd-4b86-e6fb-f28f92a075d5"
   },
   "outputs": [],
   "source": [
    "!pip install transformers datasets torch"
   ]
  },
  {
   "cell_type": "markdown",
   "id": "69776104-c833-440c-8545-5a9807252a1a",
   "metadata": {},
   "source": [
    "## 1. Load the fine-tuned model and the training dataset"
   ]
  },
  {
   "cell_type": "code",
   "execution_count": null,
   "id": "cRcQEuskBNY9",
   "metadata": {
    "id": "cRcQEuskBNY9"
   },
   "outputs": [],
   "source": [
    "import torch\n",
    "\n",
    "from transformers import AutoTokenizer, AutoModelForSequenceClassification\n",
    "from transformers.data.data_collator import DataCollatorWithPadding\n",
    "\n",
    "device = torch.device(\"cuda\" if torch.cuda.is_available() else \"cpu\")"
   ]
  },
  {
   "cell_type": "code",
   "execution_count": null,
   "id": "38bdb638-eb8f-4a3c-aa0f-fa8d2194adfe",
   "metadata": {
    "id": "38bdb638-eb8f-4a3c-aa0f-fa8d2194adfe"
   },
   "outputs": [],
   "source": [
    "# load model and tokenizer\n",
    "tokenizer = AutoTokenizer.from_pretrained(\"andi611/distilbert-base-uncased-agnews\")\n",
    "model = AutoModelForSequenceClassification.from_pretrained(\"andi611/distilbert-base-uncased-agnews\")\n",
    "\n",
    "# load the training split\n",
    "from datasets import load_dataset\n",
    "ds = load_dataset('ag_news', split='train')"
   ]
  },
  {
   "cell_type": "code",
   "execution_count": null,
   "id": "17a7e98e-c7be-4c39-9071-0c0a286179ce",
   "metadata": {
    "colab": {
     "base_uri": "https://localhost:8080/"
    },
    "id": "17a7e98e-c7be-4c39-9071-0c0a286179ce",
    "outputId": "ea49083f-b65c-4de5-832f-8ca1b58179bf"
   },
   "outputs": [],
   "source": [
    "# tokenize and encode the training set\n",
    "def tokenize_and_encode(batch): \n",
    "    return tokenizer(batch['text'], truncation=True)\n",
    "\n",
    "ds_enc = ds.map(tokenize_and_encode, batched=True)"
   ]
  },
  {
   "cell_type": "markdown",
   "id": "b8378580-8745-4e98-80e6-ba703bf0cabe",
   "metadata": {},
   "source": [
    "## 2. Computing the loss"
   ]
  },
  {
   "cell_type": "markdown",
   "id": "686e686c-73c1-4bc6-b01f-1352576f4330",
   "metadata": {},
   "source": [
    "The following code will compute the loss for each example using our trained model. This process is taken from the very well-explained blog post by [Lewis Tunstall](https://twitter.com/_lewtun): [\"Using data collators for training and error analysis\"](https://lewtun.github.io/blog/til/nlp/huggingface/transformers/2021/01/01/til-data-collator.html), where he explains this process for error analysis during model training. \n",
    "\n",
    "In our case, we instantiate a data collator directly, while he uses the Data Collator from the Trainer directly."
   ]
  },
  {
   "cell_type": "code",
   "execution_count": null,
   "id": "0385f914-c5b9-407b-a114-b02f040aefa6",
   "metadata": {
    "id": "0385f914-c5b9-407b-a114-b02f040aefa6"
   },
   "outputs": [],
   "source": [
    "# create the data collator for inference\n",
    "data_collator = DataCollatorWithPadding(tokenizer, padding=True)"
   ]
  },
  {
   "cell_type": "code",
   "execution_count": null,
   "id": "31173ab8-e6c5-4915-8426-dffb967930b1",
   "metadata": {
    "id": "31173ab8-e6c5-4915-8426-dffb967930b1"
   },
   "outputs": [],
   "source": [
    "# function to compute the loss example-wise\n",
    "def loss_per_example(batch):\n",
    "    batch = data_collator(batch)\n",
    "    input_ids = torch.tensor(batch[\"input_ids\"], device=device)\n",
    "    attention_mask = torch.tensor(batch[\"attention_mask\"], device=device)\n",
    "    labels = torch.tensor(batch[\"labels\"], device=device)\n",
    "\n",
    "    with torch.no_grad():\n",
    "        output = model(input_ids, attention_mask)\n",
    "        batch[\"predicted_label\"] = torch.argmax(output.logits, axis=1)\n",
    "        # compute the probabilities for logging them into Rubrix\n",
    "        batch[\"predicted_probas\"] = torch.nn.functional.softmax(output.logits, dim=0)\n",
    "    \n",
    "    # don't reduce the loss (return the loss for each example)\n",
    "    loss = torch.nn.functional.cross_entropy(output.logits, labels, reduction=\"none\")\n",
    "    batch[\"loss\"] = loss\n",
    "    \n",
    "    # datasets complains with numpy dtypes, let's use Python lists\n",
    "    for k, v in batch.items():\n",
    "        batch[k] = v.cpu().numpy().tolist()\n",
    "\n",
    "    return batch"
   ]
  },
  {
   "cell_type": "code",
   "execution_count": null,
   "id": "f1cdf36b-5ab9-4df1-80bf-99ef96bb46e4",
   "metadata": {
    "colab": {
     "base_uri": "https://localhost:8080/",
     "height": 699
    },
    "id": "f1cdf36b-5ab9-4df1-80bf-99ef96bb46e4",
    "outputId": "dc7c2029-070e-4da3-e880-2b57848c518a"
   },
   "outputs": [
    {
     "data": {
      "text/html": [
       "<div>\n",
       "<style scoped>\n",
       "    .dataframe tbody tr th:only-of-type {\n",
       "        vertical-align: middle;\n",
       "    }\n",
       "\n",
       "    .dataframe tbody tr th {\n",
       "        vertical-align: top;\n",
       "    }\n",
       "\n",
       "    .dataframe thead th {\n",
       "        text-align: right;\n",
       "    }\n",
       "</style>\n",
       "<table border=\"1\" class=\"dataframe\">\n",
       "  <thead>\n",
       "    <tr style=\"text-align: right;\">\n",
       "      <th></th>\n",
       "      <th>label</th>\n",
       "      <th>predicted_label</th>\n",
       "      <th>loss</th>\n",
       "      <th>predicted_probas</th>\n",
       "      <th>text</th>\n",
       "    </tr>\n",
       "  </thead>\n",
       "  <tbody>\n",
       "    <tr>\n",
       "      <th>44984</th>\n",
       "      <td>1</td>\n",
       "      <td>0</td>\n",
       "      <td>8.833023</td>\n",
       "      <td>[0.06412869691848755, 7.090532017173246e-05, 0.00019675122166518122, 0.0002370826987316832]</td>\n",
       "      <td>Baghdad blasts kills at least 16 Insurgents have detonated two bombs near a convoy of US military vehicles in southern Baghdad, killing at least 16 people, Iraqi police say.</td>\n",
       "    </tr>\n",
       "    <tr>\n",
       "      <th>101562</th>\n",
       "      <td>1</td>\n",
       "      <td>0</td>\n",
       "      <td>8.781285</td>\n",
       "      <td>[0.12395327538251877, 9.289286026614718e-06, 0.0001785584754543379, 0.0007945793331600726]</td>\n",
       "      <td>Immoral, unjust, oppressive dictatorship. . . and then there #39;s &amp;lt;b&amp;gt;...&amp;lt;/b&amp;gt; ROBERT MUGABES Government is pushing through legislation designed to prevent human rights organisations from operating in Zimbabwe.</td>\n",
       "    </tr>\n",
       "    <tr>\n",
       "      <th>31564</th>\n",
       "      <td>1</td>\n",
       "      <td>2</td>\n",
       "      <td>8.772168</td>\n",
       "      <td>[0.00016983140085358173, 8.863882612786256e-06, 0.18702593445777893, 0.00025946463574655354]</td>\n",
       "      <td>Ford to Cut 1,150 Jobs At British Jaguar Unit Ford Motor Co. announced Friday that it would eliminate 1,150 jobs in England to streamline its Jaguar Cars Ltd. unit, where weak sales have failed to offset spending on new products and other parts of the business.</td>\n",
       "    </tr>\n",
       "    <tr>\n",
       "      <th>41247</th>\n",
       "      <td>1</td>\n",
       "      <td>0</td>\n",
       "      <td>8.751480</td>\n",
       "      <td>[0.2929899990558624, 7.849136454751715e-05, 0.00034211069578304887, 4.463219011086039e-05]</td>\n",
       "      <td>Palestinian gunmen kidnap CNN producer GAZA CITY, Gaza Strip -- Palestinian gunmen abducted a CNN producer in Gaza City on Monday, the network said. The network said Riyadh Ali was taken away at gunpoint from a CNN van.</td>\n",
       "    </tr>\n",
       "    <tr>\n",
       "      <th>44961</th>\n",
       "      <td>1</td>\n",
       "      <td>0</td>\n",
       "      <td>8.740394</td>\n",
       "      <td>[0.06420651078224182, 7.788064249325544e-05, 0.0001824614155339077, 0.0002348265261389315]</td>\n",
       "      <td>Bomb Blasts in Baghdad Kill at Least 35, Wound 120 Insurgents detonated three car bombs near a US military convoy in southern Baghdad on Thursday, killing at least 35 people and wounding around 120, many of them children, officials and doctors said.</td>\n",
       "    </tr>\n",
       "    <tr>\n",
       "      <th>75216</th>\n",
       "      <td>1</td>\n",
       "      <td>0</td>\n",
       "      <td>8.735966</td>\n",
       "      <td>[0.13383473455905914, 1.837693343986757e-05, 0.00017987379396799952, 0.00036031895433552563]</td>\n",
       "      <td>Marine Wives Rally A group of Marine wives are running for the family of a Marine Corps officer who was killed in Iraq.</td>\n",
       "    </tr>\n",
       "    <tr>\n",
       "      <th>31229</th>\n",
       "      <td>1</td>\n",
       "      <td>2</td>\n",
       "      <td>8.729340</td>\n",
       "      <td>[5.088283069198951e-05, 2.4471093638567254e-05, 0.18256260454654694, 0.00033902408904396]</td>\n",
       "      <td>Auto Stocks Fall Despite Ford Outlook Despite a strong profit outlook from Ford Motor Co., shares of automotive stocks moved mostly lower Friday on concerns sales for the industry might not be as strong as previously expected.</td>\n",
       "    </tr>\n",
       "    <tr>\n",
       "      <th>19737</th>\n",
       "      <td>3</td>\n",
       "      <td>1</td>\n",
       "      <td>8.545797</td>\n",
       "      <td>[4.129256194573827e-05, 0.1872873306274414, 4.638762402464636e-05, 0.00010757221753010526]</td>\n",
       "      <td>Mladin Release From Road Atlanta Australia #39;s Mat Mladin completed a winning double at the penultimate round of this year #39;s American AMA Chevrolet Superbike Championship after taking</td>\n",
       "    </tr>\n",
       "    <tr>\n",
       "      <th>60726</th>\n",
       "      <td>2</td>\n",
       "      <td>0</td>\n",
       "      <td>8.437369</td>\n",
       "      <td>[0.5235446095466614, 4.4463453377829865e-05, 3.5171411582268775e-05, 8.480428368784487e-05]</td>\n",
       "      <td>Suicide Bombings Kill 10 in Green Zone Insurgents hand-carried explosives into the most fortified section of Baghdad Thursday and detonated them within seconds of each other, killing 10 people and wounding 20.</td>\n",
       "    </tr>\n",
       "    <tr>\n",
       "      <th>28307</th>\n",
       "      <td>3</td>\n",
       "      <td>1</td>\n",
       "      <td>8.386065</td>\n",
       "      <td>[0.00018589739920571446, 0.42903241515159607, 2.5073826691368595e-05, 3.97983385482803e-05]</td>\n",
       "      <td>Lightning Strike Injures 40 on Texas Field (AP) AP - About 40 players and coaches with the Grapeland High School football team in East Texas were injured, two of them critically, when lightning struck near their practice field Tuesday evening, authorities said.</td>\n",
       "    </tr>\n",
       "  </tbody>\n",
       "</table>\n",
       "</div>"
      ],
      "text/plain": [
       "        label  ...                                                                                                                                                                                                                                                                   text\n",
       "44984       1  ...                                                                                          Baghdad blasts kills at least 16 Insurgents have detonated two bombs near a convoy of US military vehicles in southern Baghdad, killing at least 16 people, Iraqi police say.\n",
       "101562      1  ...                                          Immoral, unjust, oppressive dictatorship. . . and then there #39;s &lt;b&gt;...&lt;/b&gt; ROBERT MUGABES Government is pushing through legislation designed to prevent human rights organisations from operating in Zimbabwe.\n",
       "31564       1  ...  Ford to Cut 1,150 Jobs At British Jaguar Unit Ford Motor Co. announced Friday that it would eliminate 1,150 jobs in England to streamline its Jaguar Cars Ltd. unit, where weak sales have failed to offset spending on new products and other parts of the business.\n",
       "41247       1  ...                                            Palestinian gunmen kidnap CNN producer GAZA CITY, Gaza Strip -- Palestinian gunmen abducted a CNN producer in Gaza City on Monday, the network said. The network said Riyadh Ali was taken away at gunpoint from a CNN van.\n",
       "44961       1  ...              Bomb Blasts in Baghdad Kill at Least 35, Wound 120 Insurgents detonated three car bombs near a US military convoy in southern Baghdad on Thursday, killing at least 35 people and wounding around 120, many of them children, officials and doctors said.\n",
       "75216       1  ...                                                                                                                                                Marine Wives Rally A group of Marine wives are running for the family of a Marine Corps officer who was killed in Iraq.\n",
       "31229       1  ...                                     Auto Stocks Fall Despite Ford Outlook Despite a strong profit outlook from Ford Motor Co., shares of automotive stocks moved mostly lower Friday on concerns sales for the industry might not be as strong as previously expected.\n",
       "19737       3  ...                                                                         Mladin Release From Road Atlanta Australia #39;s Mat Mladin completed a winning double at the penultimate round of this year #39;s American AMA Chevrolet Superbike Championship after taking \n",
       "60726       2  ...                                                      Suicide Bombings Kill 10 in Green Zone Insurgents hand-carried explosives into the most fortified section of Baghdad Thursday and detonated them within seconds of each other, killing 10 people and wounding 20.\n",
       "28307       3  ...  Lightning Strike Injures 40 on Texas Field (AP) AP - About 40 players and coaches with the Grapeland High School football team in East Texas were injured, two of them critically, when lightning struck near their practice field Tuesday evening, authorities said.\n",
       "\n",
       "[10 rows x 5 columns]"
      ]
     },
     "execution_count": 17,
     "metadata": {},
     "output_type": "execute_result"
    }
   ],
   "source": [
    "import pandas as pd\n",
    "\n",
    "losses_ds = ds_enc.remove_columns(\"text\").map(loss_per_example, batched=True, batch_size=32)\n",
    "\n",
    "# turn the dataset into a Pandas dataframe, sort by descending loss and visualize the top examples.\n",
    "pd.set_option(\"display.max_colwidth\", None)\n",
    "\n",
    "losses_ds.set_format('pandas')\n",
    "losses_df = losses_ds[:][['label', 'predicted_label', 'loss', 'predicted_probas']]\n",
    "\n",
    "# add the text column removed by the trainer\n",
    "losses_df['text'] = ds_enc['text']\n",
    "losses_df.sort_values(\"loss\", ascending=False).head(10)"
   ]
  },
  {
   "cell_type": "code",
   "execution_count": 2,
   "id": "fba8278d-6e57-4a4b-92a1-a54987be4c44",
   "metadata": {},
   "outputs": [],
   "source": [
    "# save this to a file for further analysis\n",
    "#losses_df.to_json(\"agnews_train_loss.json\", orient=\"records\", lines=True)"
   ]
  },
  {
   "cell_type": "markdown",
   "id": "190ee1cd-fc2f-4db0-bf3e-5d45f63fb47a",
   "metadata": {},
   "source": [
    "While using Pandas and Jupyter notebooks is useful for initial inspection, and programmatic analysis. If you want to quickly explore the examples, relabel them, and share them with other project members, Rubrix provides you with a straight-forward way for doing this. Let's see how."
   ]
  },
  {
   "cell_type": "markdown",
   "id": "1c2f761b-4920-4d9a-990e-5588429ffd72",
   "metadata": {
    "id": "PBptxhjWCJ5n"
   },
   "source": [
    "## 3. Log high loss examples into Rubrix\n",
    "\n",
    "Using the amazing Hugging Face Hub we've shared the resulting dataset, which you can find [here](https://huggingface.co/datasets/dvilasuero/ag_news_training_set_losses/tree/main)."
   ]
  },
  {
   "cell_type": "code",
   "execution_count": 7,
   "id": "418f4299-3e6e-44d1-a895-d4b730ac8296",
   "metadata": {},
   "outputs": [],
   "source": [
    "# if you have skipped the first two steps you can load the dataset here:\n",
    "#losses_df = pd.read_json(\"agnews_train_loss.jsonl\", lines=True, orient=\"records\")"
   ]
  },
  {
   "cell_type": "code",
   "execution_count": null,
   "id": "88acd5ca-476e-48f1-836b-5563cbbb37e3",
   "metadata": {},
   "outputs": [],
   "source": [
    "# creates a Text classification record for logging into Rubrix\n",
    "def make_record(row):\n",
    "    \n",
    "    return rb.TextClassificationRecord(\n",
    "        inputs={\"text\": row.text},\n",
    "        # this is the \"gold\" label in the original dataset\n",
    "        annotation=[(ds_enc.features['label'].names[row.label])],\n",
    "        # this is the prediction together with its probability\n",
    "        prediction=[(ds_enc.features['label'].names[row.predicted_label], row.predicted_probas[row.predicted_label])],\n",
    "        # metadata fields can be used for sorting and filtering, here we log the loss\n",
    "        metadata={\"loss\": row.loss},\n",
    "        # who makes the prediction\n",
    "        prediction_agent=\"andi611/distilbert-base-uncased-agnews\",\n",
    "        # source of the gold label\n",
    "        annotation_agent=\"ag_news_benchmark\"\n",
    "    )"
   ]
  },
  {
   "cell_type": "code",
   "execution_count": null,
   "id": "fd0a412a-c6d9-4dc7-8a7c-208e6ecfef17",
   "metadata": {},
   "outputs": [],
   "source": [
    "# if you want to log the full dataset remove the indexing\n",
    "top_losses = losses_df.sort_values(\"loss\", ascending=False)[0:499]\n",
    "\n",
    "# build Rubrix records\n",
    "records = top_losses.apply(make_record, axis=1)"
   ]
  },
  {
   "cell_type": "code",
   "execution_count": null,
   "id": "8ade46b2-6fd9-46f5-8bfe-7822934bc0c9",
   "metadata": {
    "id": "8ade46b2-6fd9-46f5-8bfe-7822934bc0c9"
   },
   "outputs": [],
   "source": [
    "rb.log(records, name=\"ag_news_error_analysis\")"
   ]
  },
  {
   "cell_type": "markdown",
   "id": "768f59ad-a5c5-44df-97bd-bbf4f3ae2861",
   "metadata": {},
   "source": [
    "## 4. Using Rubrix Webapp for inspection and relabeling\n",
    "\n",
    "In this step, we have a Rubrix Dataset available for exploration and annotation. A useful feature for this use case is Sorting. With Rubrix you can sort your examples by combining different fields, both from the standard fields (such as `score`) and custom fields (via the metadata fields). In this case, we've logged the loss so we can order our training examples by loss in descending order (showing higher loss examples first).\n",
    "\n",
    "For preparing this tutorial, we have manually checked and relabelled the first 100 examples. You can watch the full session (with high-speed during the last part) here. In the video we use Rubrix annotation mode to change the label of mislabelled examples (the first label correspond to the original \"gold\" label and the second corresponds to the predictions of the model).\n",
    "\n",
    "<video width=\"100%\" controls><source src=\"https://github.com/recognai/rubrix-materials/raw/main/tutorials/videos/relabeling_ag_news.mp4\" type=\"video/mp4\"></video>\n",
    "\n",
    "We've also randomly checked the next 400 examples finding many potential errors. If you are interested you can repeat our experiment or even help validate the next 100 examples, we'd love to know about your results! We plan to share the 100 relabeled examples with the community in the Hugging Face Hub.\n",
    "\n"
   ]
  },
  {
   "cell_type": "markdown",
   "id": "dbdffd77-06fe-43bd-98d1-cb6fb00a5af1",
   "metadata": {},
   "source": [
    "## Next steps\n",
    "\n",
    "If you are interested in the topic of training data curation and denoising datasets, check out the tutorial for using [Rubrix with cleanlab](07-find_label_errors).\n",
    "\n",
    "### 📚 [Rubrix documentation](https://docs.rubrix.ml) for more guides and tutorials.\n",
    "\n",
    "### 🙋‍♀️ Join the Rubrix community! A good place to start is the [discussion forum](https://github.com/recognai/rubrix/discussions).\n",
    "\n",
    "### ⭐ Rubrix [Github repo](https://github.com/recognai/rubrix) to stay updated."
   ]
  }
 ],
 "metadata": {
  "accelerator": "GPU",
  "colab": {
   "name": "error_analysis.ipynb",
   "provenance": []
  },
  "kernelspec": {
   "display_name": "Python 3",
   "language": "python",
   "name": "python3"
  },
  "language_info": {
   "codemirror_mode": {
    "name": "ipython",
    "version": 3
   },
   "file_extension": ".py",
   "mimetype": "text/x-python",
   "name": "python",
   "nbconvert_exporter": "python",
   "pygments_lexer": "ipython3",
   "version": "3.8.5"
  },
  "widgets": {
   "application/vnd.jupyter.widget-state+json": {
    "175c8d71ba6f44b496127bb81ef6cb4c": {
     "model_module": "@jupyter-widgets/base",
     "model_module_version": "1.2.0",
     "model_name": "LayoutModel",
     "state": {
      "_model_module": "@jupyter-widgets/base",
      "_model_module_version": "1.2.0",
      "_model_name": "LayoutModel",
      "_view_count": null,
      "_view_module": "@jupyter-widgets/base",
      "_view_module_version": "1.2.0",
      "_view_name": "LayoutView",
      "align_content": null,
      "align_items": null,
      "align_self": null,
      "border": null,
      "bottom": null,
      "display": null,
      "flex": null,
      "flex_flow": null,
      "grid_area": null,
      "grid_auto_columns": null,
      "grid_auto_flow": null,
      "grid_auto_rows": null,
      "grid_column": null,
      "grid_gap": null,
      "grid_row": null,
      "grid_template_areas": null,
      "grid_template_columns": null,
      "grid_template_rows": null,
      "height": null,
      "justify_content": null,
      "justify_items": null,
      "left": null,
      "margin": null,
      "max_height": null,
      "max_width": null,
      "min_height": null,
      "min_width": null,
      "object_fit": null,
      "object_position": null,
      "order": null,
      "overflow": null,
      "overflow_x": null,
      "overflow_y": null,
      "padding": null,
      "right": null,
      "top": null,
      "visibility": null,
      "width": null
     }
    },
    "3af4ddb8db5c4cfe850e701697a41eef": {
     "model_module": "@jupyter-widgets/controls",
     "model_module_version": "1.5.0",
     "model_name": "HTMLModel",
     "state": {
      "_dom_classes": [],
      "_model_module": "@jupyter-widgets/controls",
      "_model_module_version": "1.5.0",
      "_model_name": "HTMLModel",
      "_view_count": null,
      "_view_module": "@jupyter-widgets/controls",
      "_view_module_version": "1.5.0",
      "_view_name": "HTMLView",
      "description": "",
      "description_tooltip": null,
      "layout": "IPY_MODEL_fb353e62e81049e3b50bd73e8395462c",
      "placeholder": "​",
      "style": "IPY_MODEL_7f7d15a29ebc4af9bc5ae6136d64fb5d",
      "value": "100%"
     }
    },
    "3c4c9ac822af4a3b98d74b2b8177699c": {
     "model_module": "@jupyter-widgets/controls",
     "model_module_version": "1.5.0",
     "model_name": "FloatProgressModel",
     "state": {
      "_dom_classes": [],
      "_model_module": "@jupyter-widgets/controls",
      "_model_module_version": "1.5.0",
      "_model_name": "FloatProgressModel",
      "_view_count": null,
      "_view_module": "@jupyter-widgets/controls",
      "_view_module_version": "1.5.0",
      "_view_name": "ProgressView",
      "bar_style": "success",
      "description": "",
      "description_tooltip": null,
      "layout": "IPY_MODEL_175c8d71ba6f44b496127bb81ef6cb4c",
      "max": 3750,
      "min": 0,
      "orientation": "horizontal",
      "style": "IPY_MODEL_a04ce393335d4d9a95ba77cb5fe68b8c",
      "value": 3750
     }
    },
    "7f7d15a29ebc4af9bc5ae6136d64fb5d": {
     "model_module": "@jupyter-widgets/controls",
     "model_module_version": "1.5.0",
     "model_name": "DescriptionStyleModel",
     "state": {
      "_model_module": "@jupyter-widgets/controls",
      "_model_module_version": "1.5.0",
      "_model_name": "DescriptionStyleModel",
      "_view_count": null,
      "_view_module": "@jupyter-widgets/base",
      "_view_module_version": "1.2.0",
      "_view_name": "StyleView",
      "description_width": ""
     }
    },
    "7f8a2dfd25734e9397568ecc9ef118d6": {
     "model_module": "@jupyter-widgets/controls",
     "model_module_version": "1.5.0",
     "model_name": "HBoxModel",
     "state": {
      "_dom_classes": [],
      "_model_module": "@jupyter-widgets/controls",
      "_model_module_version": "1.5.0",
      "_model_name": "HBoxModel",
      "_view_count": null,
      "_view_module": "@jupyter-widgets/controls",
      "_view_module_version": "1.5.0",
      "_view_name": "HBoxView",
      "box_style": "",
      "children": [
       "IPY_MODEL_3af4ddb8db5c4cfe850e701697a41eef",
       "IPY_MODEL_3c4c9ac822af4a3b98d74b2b8177699c",
       "IPY_MODEL_ea97f81e05354bc1a99287450aa85310"
      ],
      "layout": "IPY_MODEL_c7c2f5fc62624063888a45db00d4264d"
     }
    },
    "81980be754db499ea730064619a57711": {
     "model_module": "@jupyter-widgets/base",
     "model_module_version": "1.2.0",
     "model_name": "LayoutModel",
     "state": {
      "_model_module": "@jupyter-widgets/base",
      "_model_module_version": "1.2.0",
      "_model_name": "LayoutModel",
      "_view_count": null,
      "_view_module": "@jupyter-widgets/base",
      "_view_module_version": "1.2.0",
      "_view_name": "LayoutView",
      "align_content": null,
      "align_items": null,
      "align_self": null,
      "border": null,
      "bottom": null,
      "display": null,
      "flex": null,
      "flex_flow": null,
      "grid_area": null,
      "grid_auto_columns": null,
      "grid_auto_flow": null,
      "grid_auto_rows": null,
      "grid_column": null,
      "grid_gap": null,
      "grid_row": null,
      "grid_template_areas": null,
      "grid_template_columns": null,
      "grid_template_rows": null,
      "height": null,
      "justify_content": null,
      "justify_items": null,
      "left": null,
      "margin": null,
      "max_height": null,
      "max_width": null,
      "min_height": null,
      "min_width": null,
      "object_fit": null,
      "object_position": null,
      "order": null,
      "overflow": null,
      "overflow_x": null,
      "overflow_y": null,
      "padding": null,
      "right": null,
      "top": null,
      "visibility": null,
      "width": null
     }
    },
    "9baca43499f84a2aa6dc5e945ec1101d": {
     "model_module": "@jupyter-widgets/controls",
     "model_module_version": "1.5.0",
     "model_name": "DescriptionStyleModel",
     "state": {
      "_model_module": "@jupyter-widgets/controls",
      "_model_module_version": "1.5.0",
      "_model_name": "DescriptionStyleModel",
      "_view_count": null,
      "_view_module": "@jupyter-widgets/base",
      "_view_module_version": "1.2.0",
      "_view_name": "StyleView",
      "description_width": ""
     }
    },
    "a04ce393335d4d9a95ba77cb5fe68b8c": {
     "model_module": "@jupyter-widgets/controls",
     "model_module_version": "1.5.0",
     "model_name": "ProgressStyleModel",
     "state": {
      "_model_module": "@jupyter-widgets/controls",
      "_model_module_version": "1.5.0",
      "_model_name": "ProgressStyleModel",
      "_view_count": null,
      "_view_module": "@jupyter-widgets/base",
      "_view_module_version": "1.2.0",
      "_view_name": "StyleView",
      "bar_color": null,
      "description_width": ""
     }
    },
    "c7c2f5fc62624063888a45db00d4264d": {
     "model_module": "@jupyter-widgets/base",
     "model_module_version": "1.2.0",
     "model_name": "LayoutModel",
     "state": {
      "_model_module": "@jupyter-widgets/base",
      "_model_module_version": "1.2.0",
      "_model_name": "LayoutModel",
      "_view_count": null,
      "_view_module": "@jupyter-widgets/base",
      "_view_module_version": "1.2.0",
      "_view_name": "LayoutView",
      "align_content": null,
      "align_items": null,
      "align_self": null,
      "border": null,
      "bottom": null,
      "display": null,
      "flex": null,
      "flex_flow": null,
      "grid_area": null,
      "grid_auto_columns": null,
      "grid_auto_flow": null,
      "grid_auto_rows": null,
      "grid_column": null,
      "grid_gap": null,
      "grid_row": null,
      "grid_template_areas": null,
      "grid_template_columns": null,
      "grid_template_rows": null,
      "height": null,
      "justify_content": null,
      "justify_items": null,
      "left": null,
      "margin": null,
      "max_height": null,
      "max_width": null,
      "min_height": null,
      "min_width": null,
      "object_fit": null,
      "object_position": null,
      "order": null,
      "overflow": null,
      "overflow_x": null,
      "overflow_y": null,
      "padding": null,
      "right": null,
      "top": null,
      "visibility": null,
      "width": null
     }
    },
    "ea97f81e05354bc1a99287450aa85310": {
     "model_module": "@jupyter-widgets/controls",
     "model_module_version": "1.5.0",
     "model_name": "HTMLModel",
     "state": {
      "_dom_classes": [],
      "_model_module": "@jupyter-widgets/controls",
      "_model_module_version": "1.5.0",
      "_model_name": "HTMLModel",
      "_view_count": null,
      "_view_module": "@jupyter-widgets/controls",
      "_view_module_version": "1.5.0",
      "_view_name": "HTMLView",
      "description": "",
      "description_tooltip": null,
      "layout": "IPY_MODEL_81980be754db499ea730064619a57711",
      "placeholder": "​",
      "style": "IPY_MODEL_9baca43499f84a2aa6dc5e945ec1101d",
      "value": " 3750/3750 [13:05&lt;00:00,  4.99ba/s]"
     }
    },
    "fb353e62e81049e3b50bd73e8395462c": {
     "model_module": "@jupyter-widgets/base",
     "model_module_version": "1.2.0",
     "model_name": "LayoutModel",
     "state": {
      "_model_module": "@jupyter-widgets/base",
      "_model_module_version": "1.2.0",
      "_model_name": "LayoutModel",
      "_view_count": null,
      "_view_module": "@jupyter-widgets/base",
      "_view_module_version": "1.2.0",
      "_view_name": "LayoutView",
      "align_content": null,
      "align_items": null,
      "align_self": null,
      "border": null,
      "bottom": null,
      "display": null,
      "flex": null,
      "flex_flow": null,
      "grid_area": null,
      "grid_auto_columns": null,
      "grid_auto_flow": null,
      "grid_auto_rows": null,
      "grid_column": null,
      "grid_gap": null,
      "grid_row": null,
      "grid_template_areas": null,
      "grid_template_columns": null,
      "grid_template_rows": null,
      "height": null,
      "justify_content": null,
      "justify_items": null,
      "left": null,
      "margin": null,
      "max_height": null,
      "max_width": null,
      "min_height": null,
      "min_width": null,
      "object_fit": null,
      "object_position": null,
      "order": null,
      "overflow": null,
      "overflow_x": null,
      "overflow_y": null,
      "padding": null,
      "right": null,
      "top": null,
      "visibility": null,
      "width": null
     }
    }
   }
  }
 },
 "nbformat": 4,
 "nbformat_minor": 5
}
