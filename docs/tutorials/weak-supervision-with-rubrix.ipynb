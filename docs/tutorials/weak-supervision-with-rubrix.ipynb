{
 "cells": [
  {
   "cell_type": "markdown",
   "id": "9a77a750-072d-4dae-afb8-d725e21be584",
   "metadata": {},
   "source": [
    "# 📰 Building a news classifier with weak supervision\n",
    "\n",
    "In this tutorial, we will build a news classifier using rules and weak supervision: \n",
    "\n",
    "- 📰 For this example, we use the AG News dataset but you can follow this process to programmatically label any dataset.\n",
    "- 🤿 The train split without labels is used to build a training set with rules, Rubrix and Snorkel's Label model.\n",
    "- 🔧 The test set is used for evaluating our weak labels, label model and downstream news classifier.\n",
    "- 🤯 We achieve 0.84 macro avg. f1-score without using a single example from the original dataset and using a pretty lightweight model (scikit-learn's `MultinomialNB`).\n",
    "\n",
    "\n",
    "<video width=\"100%\" controls><source src=\"../_static/tutorials/weak-supervision-with-rubrix/ws_news.mp4\" type=\"video/mp4\"></video>\n",
    "\n",
    "The following diagram shows the overall process for using Weak supervision with Rubrix:\n",
    "\n",
    "![Labeling workflow](../_static/tutorials/weak-supervision-with-rubrix/weak_supervision1.svg \"Labeling workflow\")"
   ]
  },
  {
   "cell_type": "markdown",
   "id": "395b144d",
   "metadata": {},
   "source": [
    "## Introduction\n",
    "\n",
    "> *Weak supervision is a branch of machine learning where noisy, limited, or imprecise sources are used to provide supervision signal for labeling large amounts of training data in a supervised learning setting. This approach alleviates the burden of obtaining hand-labeled data sets, which can be costly or impractical. Instead, inexpensive weak labels are employed with the understanding that they are imperfect, but can nonetheless be used to create a strong predictive model.* [[Wikipedia]](https://en.wikipedia.org/wiki/Weak_supervision)\n",
    "\n",
    "For a broader introduction to weak supervision, as well as further references, we recommend the excellent [overview by Alex Ratner et al.](https://www.snorkel.org/blog/weak-supervision).\n",
    "\n",
    "This tutorial aims to be a practical introduction to weak supervision and will walk you through its entire process.\n",
    "First we will generate weak labels with *Rubrix*, combine these labels with *Snorkel*, and finally train a classifier with *Scikit Learn*."
   ]
  },
  {
   "cell_type": "markdown",
   "id": "0e851ab7-eaea-4548-a2eb-6d762cce41c1",
   "metadata": {},
   "source": [
    "## Setup\n",
    "\n",
    "Rubrix, is a free and open-source tool to explore, annotate, and monitor data for NLP projects.\n",
    "\n",
    "If you are new to Rubrix, check out the ⭐ [Github repository](https://github.com/recognai/rubrix).\n",
    "\n",
    "If you have not installed and launched Rubrix yet, check the [Setup and Installation guide](../getting_started/setup&installation.rst).\n",
    "\n",
    "For this tutorial we also need some third party libraries that can be installed via pip:"
   ]
  },
  {
   "cell_type": "code",
   "execution_count": null,
   "id": "2e54886a",
   "metadata": {
    "jupyter": {
     "outputs_hidden": false
    },
    "pycharm": {
     "name": "#%%\n"
    }
   },
   "outputs": [],
   "source": [
    "%pip install snorkel datasets sklearn sentence-transformers -qqq"
   ]
  },
  {
   "cell_type": "markdown",
   "id": "99f8cf20",
   "metadata": {},
   "source": [
    "<div class=\"alert alert-info\">\n",
    "\n",
    "Note\n",
    "\n",
    "If you want to skip the first three sections of this tutorial, and only prepare the training set and train a downstream model, you can load the records directly from the [Hugging Face Hub](https://huggingface.co/datasets):\n",
    "\n",
    "```python\n",
    "import rubrix as rb\n",
    "from datasets import load_dataset\n",
    "\n",
    "records = rb.read_datasets(\n",
    "    load_dataset(\"rubrix/news\", split=\"train\"),\n",
    "    task=\"TextClassification\",\n",
    ")\n",
    "```\n",
    "\n",
    "</div>"
   ]
  },
  {
   "cell_type": "markdown",
   "id": "279ef86e-26e1-4cdc-b05b-60605bf13e25",
   "metadata": {},
   "source": [
    "## 1. Load test and unlabelled datasets into Rubrix\n",
    "\n",
    "First, let's download the `ag_news` data set and have a quick look at it."
   ]
  },
  {
   "cell_type": "code",
   "execution_count": 74,
   "id": "ffa9c430-201b-40ce-94e7-37941d0d4de8",
   "metadata": {},
   "outputs": [
    {
     "name": "stderr",
     "output_type": "stream",
     "text": [
      "2022-05-04 19:26:09.033 | WARNING  | datasets.builder:_create_builder_config:388 - Using custom data configuration default\n",
      "2022-05-04 19:26:09.051 | WARNING  | datasets.builder:download_and_prepare:542 - Reusing dataset ag_news (/home/user/.cache/huggingface/datasets/ag_news/default/0.0.0/bc2bcb40336ace1a0374767fc29bb0296cdaf8a6da7298436239c54d79180548)\n"
     ]
    },
    {
     "data": {
      "application/vnd.jupyter.widget-view+json": {
       "model_id": "93209e5e4a7341f895f497435a4767c8",
       "version_major": 2,
       "version_minor": 0
      },
      "text/plain": [
       "  0%|          | 0/2 [00:00<?, ?it/s]"
      ]
     },
     "metadata": {},
     "output_type": "display_data"
    }
   ],
   "source": [
    "from datasets import load_dataset\n",
    "\n",
    "# load our data\n",
    "dataset = load_dataset(\"ag_news\")\n",
    "\n",
    "# get the index to label mapping \n",
    "labels = dataset[\"test\"].features[\"label\"].names"
   ]
  },
  {
   "cell_type": "code",
   "execution_count": 73,
   "id": "b63e3399-6fad-483f-9f9c-7011a4793a9f",
   "metadata": {},
   "outputs": [
    {
     "data": {
      "text/html": [
       "<div>\n",
       "<style scoped>\n",
       "    .dataframe tbody tr th:only-of-type {\n",
       "        vertical-align: middle;\n",
       "    }\n",
       "\n",
       "    .dataframe tbody tr th {\n",
       "        vertical-align: top;\n",
       "    }\n",
       "\n",
       "    .dataframe thead th {\n",
       "        text-align: right;\n",
       "    }\n",
       "</style>\n",
       "<table border=\"1\" class=\"dataframe\">\n",
       "  <thead>\n",
       "    <tr style=\"text-align: right;\">\n",
       "      <th></th>\n",
       "      <th>text</th>\n",
       "      <th>label</th>\n",
       "    </tr>\n",
       "  </thead>\n",
       "  <tbody>\n",
       "    <tr>\n",
       "      <th>0</th>\n",
       "      <td>Fears for T N pension after talks Unions representing workers at Turner   Newall say they are 'disappointed' after talks with stricken parent firm Federal Mogul.</td>\n",
       "      <td>2</td>\n",
       "    </tr>\n",
       "    <tr>\n",
       "      <th>1</th>\n",
       "      <td>The Race is On: Second Private Team Sets Launch Date for Human Spaceflight (SPACE.com) SPACE.com - TORONTO, Canada -- A second\\team of rocketeers competing for the  #36;10 million Ansari X Prize, a contest for\\privately funded suborbital space flight, has officially announced the first\\launch date for its manned rocket.</td>\n",
       "      <td>3</td>\n",
       "    </tr>\n",
       "    <tr>\n",
       "      <th>2</th>\n",
       "      <td>Ky. Company Wins Grant to Study Peptides (AP) AP - A company founded by a chemistry researcher at the University of Louisville won a grant to develop a method of producing better peptides, which are short chains of amino acids, the building blocks of proteins.</td>\n",
       "      <td>3</td>\n",
       "    </tr>\n",
       "    <tr>\n",
       "      <th>3</th>\n",
       "      <td>Prediction Unit Helps Forecast Wildfires (AP) AP - It's barely dawn when Mike Fitzpatrick starts his shift with a blur of colorful maps, figures and endless charts, but already he knows what the day will bring. Lightning will strike in places he expects. Winds will pick up, moist places will dry and flames will roar.</td>\n",
       "      <td>3</td>\n",
       "    </tr>\n",
       "    <tr>\n",
       "      <th>4</th>\n",
       "      <td>Calif. Aims to Limit Farm-Related Smog (AP) AP - Southern California's smog-fighting agency went after emissions of the bovine variety Friday, adopting the nation's first rules to reduce air pollution from dairy cow manure.</td>\n",
       "      <td>3</td>\n",
       "    </tr>\n",
       "  </tbody>\n",
       "</table>\n",
       "</div>"
      ],
      "text/plain": [
       "                                                                                                                                                                                                                                                                                                                                text  \\\n",
       "0                                                                                                                                                                  Fears for T N pension after talks Unions representing workers at Turner   Newall say they are 'disappointed' after talks with stricken parent firm Federal Mogul.   \n",
       "1  The Race is On: Second Private Team Sets Launch Date for Human Spaceflight (SPACE.com) SPACE.com - TORONTO, Canada -- A second\\team of rocketeers competing for the  #36;10 million Ansari X Prize, a contest for\\privately funded suborbital space flight, has officially announced the first\\launch date for its manned rocket.   \n",
       "2                                                               Ky. Company Wins Grant to Study Peptides (AP) AP - A company founded by a chemistry researcher at the University of Louisville won a grant to develop a method of producing better peptides, which are short chains of amino acids, the building blocks of proteins.   \n",
       "3     Prediction Unit Helps Forecast Wildfires (AP) AP - It's barely dawn when Mike Fitzpatrick starts his shift with a blur of colorful maps, figures and endless charts, but already he knows what the day will bring. Lightning will strike in places he expects. Winds will pick up, moist places will dry and flames will roar.   \n",
       "4                                                                                                    Calif. Aims to Limit Farm-Related Smog (AP) AP - Southern California's smog-fighting agency went after emissions of the bovine variety Friday, adopting the nation's first rules to reduce air pollution from dairy cow manure.   \n",
       "\n",
       "   label  \n",
       "0      2  \n",
       "1      3  \n",
       "2      3  \n",
       "3      3  \n",
       "4      3  "
      ]
     },
     "metadata": {},
     "output_type": "display_data"
    }
   ],
   "source": [
    "import pandas as pd\n",
    "\n",
    "# quick look at our data\n",
    "with pd.option_context('display.max_colwidth', None):\n",
    "    display(dataset[\"test\"].to_pandas().head())"
   ]
  },
  {
   "cell_type": "markdown",
   "id": "8770a307-34e8-4d08-9001-526a19d3a169",
   "metadata": {},
   "source": [
    "Now we will log the test split of our data set to *Rubrix*, which we will be using for testing our label and downstream models."
   ]
  },
  {
   "cell_type": "code",
   "execution_count": 75,
   "id": "25f033bb-a731-47b5-abcb-d9ea913b20b2",
   "metadata": {},
   "outputs": [
    {
     "data": {
      "application/vnd.jupyter.widget-view+json": {
       "model_id": "b59c38f0ade4464e942949e0a102e769",
       "version_major": 2,
       "version_minor": 0
      },
      "text/plain": [
       "  0%|          | 0/7600 [00:00<?, ?it/s]"
      ]
     },
     "metadata": {},
     "output_type": "display_data"
    },
    {
     "name": "stdout",
     "output_type": "stream",
     "text": [
      "7600 records logged to http://localhost:6900/ws/rubrix/news\n"
     ]
    },
    {
     "data": {
      "text/plain": [
       "BulkResponse(dataset='news', processed=7600, failed=0)"
      ]
     },
     "execution_count": 75,
     "metadata": {},
     "output_type": "execute_result"
    }
   ],
   "source": [
    "import rubrix as rb\n",
    "\n",
    "# build our test records\n",
    "records = [\n",
    "    rb.TextClassificationRecord(\n",
    "        text=record[\"text\"],\n",
    "        metadata={\"split\": \"test\"},\n",
    "        annotation=labels[record[\"label\"]]\n",
    "    )\n",
    "    for record in dataset[\"test\"]\n",
    "]\n",
    "\n",
    "# log the records to Rubrix\n",
    "rb.log(records, name=\"news\")"
   ]
  },
  {
   "cell_type": "markdown",
   "id": "d57bf497-2a75-4c79-9487-b3a84602bbea",
   "metadata": {},
   "source": [
    "In a second step we log the train split without labels.\n",
    "Remember, our goal is to programmatically build a training set using rules and weak supervision."
   ]
  },
  {
   "cell_type": "code",
   "execution_count": 76,
   "id": "04d06c80-bb41-4668-ad07-d96da8e4b4e6",
   "metadata": {},
   "outputs": [
    {
     "data": {
      "application/vnd.jupyter.widget-view+json": {
       "model_id": "4dea6fdd17164774ac96073c543cdfaa",
       "version_major": 2,
       "version_minor": 0
      },
      "text/plain": [
       "  0%|          | 0/120000 [00:00<?, ?it/s]"
      ]
     },
     "metadata": {},
     "output_type": "display_data"
    },
    {
     "name": "stdout",
     "output_type": "stream",
     "text": [
      "120000 records logged to http://localhost:6900/ws/rubrix/news\n"
     ]
    },
    {
     "data": {
      "text/plain": [
       "BulkResponse(dataset='news', processed=120000, failed=0)"
      ]
     },
     "execution_count": 76,
     "metadata": {},
     "output_type": "execute_result"
    }
   ],
   "source": [
    "# build our training records without labels\n",
    "records = [\n",
    "    rb.TextClassificationRecord(\n",
    "        text=record[\"text\"],\n",
    "        metadata={\"split\": \"unlabelled\"},\n",
    "    )\n",
    "    for record in dataset[\"train\"]\n",
    "]\n",
    "\n",
    "# log the records to Rubrix\n",
    "rb.log(records, name=\"news\")"
   ]
  },
  {
   "cell_type": "markdown",
   "id": "6b943c5e-2a5d-40b5-9805-7fd78e5161a3",
   "metadata": {},
   "source": [
    "The result of the above is the following dataset in Rubrix, with **127,600 records** (120,000 unlabelled and 7,600 for testing). \n",
    "\n",
    "You can use the web app to find good rules for programmatic labeling!"
   ]
  },
  {
   "cell_type": "markdown",
   "id": "26a7255c-9f67-483c-b253-f186df8286cf",
   "metadata": {},
   "source": [
    "## 2. Interactive weak labeling: Finding and defining rules\n",
    "\n",
    "After logging the dataset, you can find and save rules directly with the UI. Then, you can read the rules with Python to train a label or downstream model, as we'll see in the next step. \n",
    "\n",
    "<video width=\"100%\" controls><source src=\"../_static/tutorials/weak-supervision-with-rubrix/ws_news.mp4\" type=\"video/mp4\"></video>"
   ]
  },
  {
   "cell_type": "markdown",
   "id": "c23dc1c6-9e5f-455f-b8b9-0466a062eda5",
   "metadata": {},
   "source": [
    "## 3. Denoise weak labels with Snorkel's Label Model\n",
    "\n",
    "The goal at this step is to **denoise** the weak labels we've just created using rules. There are several approaches to this problem using different statistical methods.\n",
    "\n",
    "In this tutorial, we're going to use Snorkel but you can actually use any other Label model or weak supervision method, such as FlyingSquid for example (see the [Weak supervision guide](../guides/weak-supervision.ipynb) for more details).\n",
    "For convenience, Rubrix defines a simple wrapper over Snorkel's Label Model so it's easier to use with Rubrix weak labels and datasets\n",
    "\n",
    "Let's first read the rules defined in our dataset and create our weak labels:"
   ]
  },
  {
   "cell_type": "code",
   "execution_count": 27,
   "id": "33ccd1be-0b63-4c69-a405-d9b4b44e154b",
   "metadata": {},
   "outputs": [
    {
     "data": {
      "application/vnd.jupyter.widget-view+json": {
       "model_id": "bc0852082e2a4bc0ba448f61a8cb36c5",
       "version_major": 2,
       "version_minor": 0
      },
      "text/plain": [
       "Preparing rules:   0%|          | 0/18 [00:00<?, ?it/s]"
      ]
     },
     "metadata": {},
     "output_type": "display_data"
    },
    {
     "data": {
      "application/vnd.jupyter.widget-view+json": {
       "model_id": "a99afccc13ea472b89849fe9630f9be9",
       "version_major": 2,
       "version_minor": 0
      },
      "text/plain": [
       "Applying rules:   0%|          | 0/129100 [00:00<?, ?it/s]"
      ]
     },
     "metadata": {},
     "output_type": "display_data"
    },
    {
     "data": {
      "text/html": [
       "<div>\n",
       "<style scoped>\n",
       "    .dataframe tbody tr th:only-of-type {\n",
       "        vertical-align: middle;\n",
       "    }\n",
       "\n",
       "    .dataframe tbody tr th {\n",
       "        vertical-align: top;\n",
       "    }\n",
       "\n",
       "    .dataframe thead th {\n",
       "        text-align: right;\n",
       "    }\n",
       "</style>\n",
       "<table border=\"1\" class=\"dataframe\">\n",
       "  <thead>\n",
       "    <tr style=\"text-align: right;\">\n",
       "      <th></th>\n",
       "      <th>polarity</th>\n",
       "      <th>coverage</th>\n",
       "      <th>overlaps</th>\n",
       "      <th>conflicts</th>\n",
       "      <th>correct</th>\n",
       "      <th>incorrect</th>\n",
       "      <th>precision</th>\n",
       "    </tr>\n",
       "  </thead>\n",
       "  <tbody>\n",
       "    <tr>\n",
       "      <th>sci*</th>\n",
       "      <td>{Sci/Tech}</td>\n",
       "      <td>0.016600</td>\n",
       "      <td>0.003176</td>\n",
       "      <td>0.001588</td>\n",
       "      <td>138</td>\n",
       "      <td>33</td>\n",
       "      <td>0.807018</td>\n",
       "    </tr>\n",
       "    <tr>\n",
       "      <th>dollar*</th>\n",
       "      <td>{Business}</td>\n",
       "      <td>0.016592</td>\n",
       "      <td>0.006723</td>\n",
       "      <td>0.002990</td>\n",
       "      <td>108</td>\n",
       "      <td>41</td>\n",
       "      <td>0.724832</td>\n",
       "    </tr>\n",
       "    <tr>\n",
       "      <th>*ball</th>\n",
       "      <td>{Sports}</td>\n",
       "      <td>0.030132</td>\n",
       "      <td>0.010015</td>\n",
       "      <td>0.001425</td>\n",
       "      <td>257</td>\n",
       "      <td>31</td>\n",
       "      <td>0.892361</td>\n",
       "    </tr>\n",
       "    <tr>\n",
       "      <th>conflict</th>\n",
       "      <td>{World}</td>\n",
       "      <td>0.003052</td>\n",
       "      <td>0.000999</td>\n",
       "      <td>0.000287</td>\n",
       "      <td>23</td>\n",
       "      <td>5</td>\n",
       "      <td>0.821429</td>\n",
       "    </tr>\n",
       "    <tr>\n",
       "      <th>financ*</th>\n",
       "      <td>{Business}</td>\n",
       "      <td>0.019620</td>\n",
       "      <td>0.007622</td>\n",
       "      <td>0.005298</td>\n",
       "      <td>90</td>\n",
       "      <td>70</td>\n",
       "      <td>0.562500</td>\n",
       "    </tr>\n",
       "    <tr>\n",
       "      <th>match</th>\n",
       "      <td>{Sports}</td>\n",
       "      <td>0.008629</td>\n",
       "      <td>0.002138</td>\n",
       "      <td>0.000287</td>\n",
       "      <td>78</td>\n",
       "      <td>7</td>\n",
       "      <td>0.917647</td>\n",
       "    </tr>\n",
       "    <tr>\n",
       "      <th>goal</th>\n",
       "      <td>{Sports}</td>\n",
       "      <td>0.005585</td>\n",
       "      <td>0.001774</td>\n",
       "      <td>0.000395</td>\n",
       "      <td>41</td>\n",
       "      <td>9</td>\n",
       "      <td>0.820000</td>\n",
       "    </tr>\n",
       "    <tr>\n",
       "      <th>election</th>\n",
       "      <td>{World}</td>\n",
       "      <td>0.017235</td>\n",
       "      <td>0.011789</td>\n",
       "      <td>0.002192</td>\n",
       "      <td>128</td>\n",
       "      <td>27</td>\n",
       "      <td>0.825806</td>\n",
       "    </tr>\n",
       "    <tr>\n",
       "      <th>president*</th>\n",
       "      <td>{World}</td>\n",
       "      <td>0.053346</td>\n",
       "      <td>0.018590</td>\n",
       "      <td>0.007188</td>\n",
       "      <td>353</td>\n",
       "      <td>130</td>\n",
       "      <td>0.730849</td>\n",
       "    </tr>\n",
       "    <tr>\n",
       "      <th>techn*</th>\n",
       "      <td>{Sci/Tech}</td>\n",
       "      <td>0.030310</td>\n",
       "      <td>0.012277</td>\n",
       "      <td>0.005143</td>\n",
       "      <td>193</td>\n",
       "      <td>75</td>\n",
       "      <td>0.720149</td>\n",
       "    </tr>\n",
       "    <tr>\n",
       "      <th>software</th>\n",
       "      <td>{Sci/Tech}</td>\n",
       "      <td>0.030132</td>\n",
       "      <td>0.010380</td>\n",
       "      <td>0.003354</td>\n",
       "      <td>209</td>\n",
       "      <td>47</td>\n",
       "      <td>0.816406</td>\n",
       "    </tr>\n",
       "    <tr>\n",
       "      <th>computer*</th>\n",
       "      <td>{Sci/Tech}</td>\n",
       "      <td>0.027312</td>\n",
       "      <td>0.011782</td>\n",
       "      <td>0.003664</td>\n",
       "      <td>192</td>\n",
       "      <td>61</td>\n",
       "      <td>0.758893</td>\n",
       "    </tr>\n",
       "    <tr>\n",
       "      <th>game</th>\n",
       "      <td>{Sports}</td>\n",
       "      <td>0.038768</td>\n",
       "      <td>0.010333</td>\n",
       "      <td>0.002672</td>\n",
       "      <td>252</td>\n",
       "      <td>79</td>\n",
       "      <td>0.761329</td>\n",
       "    </tr>\n",
       "    <tr>\n",
       "      <th>team</th>\n",
       "      <td>{Sports}</td>\n",
       "      <td>0.031867</td>\n",
       "      <td>0.010875</td>\n",
       "      <td>0.002874</td>\n",
       "      <td>242</td>\n",
       "      <td>62</td>\n",
       "      <td>0.796053</td>\n",
       "    </tr>\n",
       "    <tr>\n",
       "      <th>minist*</th>\n",
       "      <td>{World}</td>\n",
       "      <td>0.033455</td>\n",
       "      <td>0.008923</td>\n",
       "      <td>0.004191</td>\n",
       "      <td>259</td>\n",
       "      <td>33</td>\n",
       "      <td>0.886986</td>\n",
       "    </tr>\n",
       "    <tr>\n",
       "      <th>stock*</th>\n",
       "      <td>{Business}</td>\n",
       "      <td>0.041123</td>\n",
       "      <td>0.017800</td>\n",
       "      <td>0.006933</td>\n",
       "      <td>311</td>\n",
       "      <td>56</td>\n",
       "      <td>0.847411</td>\n",
       "    </tr>\n",
       "    <tr>\n",
       "      <th>oil</th>\n",
       "      <td>{Business}</td>\n",
       "      <td>0.035817</td>\n",
       "      <td>0.014694</td>\n",
       "      <td>0.004376</td>\n",
       "      <td>247</td>\n",
       "      <td>60</td>\n",
       "      <td>0.804560</td>\n",
       "    </tr>\n",
       "    <tr>\n",
       "      <th>internet</th>\n",
       "      <td>{Sci/Tech}</td>\n",
       "      <td>0.028234</td>\n",
       "      <td>0.009032</td>\n",
       "      <td>0.002889</td>\n",
       "      <td>216</td>\n",
       "      <td>39</td>\n",
       "      <td>0.847059</td>\n",
       "    </tr>\n",
       "    <tr>\n",
       "      <th>total</th>\n",
       "      <td>{Sports, Sci/Tech, World, Business}</td>\n",
       "      <td>0.378056</td>\n",
       "      <td>0.079171</td>\n",
       "      <td>0.025546</td>\n",
       "      <td>3337</td>\n",
       "      <td>865</td>\n",
       "      <td>0.794146</td>\n",
       "    </tr>\n",
       "  </tbody>\n",
       "</table>\n",
       "</div>"
      ],
      "text/plain": [
       "                                       polarity  coverage  overlaps  \\\n",
       "sci*                                 {Sci/Tech}  0.016600  0.003176   \n",
       "dollar*                              {Business}  0.016592  0.006723   \n",
       "*ball                                  {Sports}  0.030132  0.010015   \n",
       "conflict                                {World}  0.003052  0.000999   \n",
       "financ*                              {Business}  0.019620  0.007622   \n",
       "match                                  {Sports}  0.008629  0.002138   \n",
       "goal                                   {Sports}  0.005585  0.001774   \n",
       "election                                {World}  0.017235  0.011789   \n",
       "president*                              {World}  0.053346  0.018590   \n",
       "techn*                               {Sci/Tech}  0.030310  0.012277   \n",
       "software                             {Sci/Tech}  0.030132  0.010380   \n",
       "computer*                            {Sci/Tech}  0.027312  0.011782   \n",
       "game                                   {Sports}  0.038768  0.010333   \n",
       "team                                   {Sports}  0.031867  0.010875   \n",
       "minist*                                 {World}  0.033455  0.008923   \n",
       "stock*                               {Business}  0.041123  0.017800   \n",
       "oil                                  {Business}  0.035817  0.014694   \n",
       "internet                             {Sci/Tech}  0.028234  0.009032   \n",
       "total       {Sports, Sci/Tech, World, Business}  0.378056  0.079171   \n",
       "\n",
       "            conflicts  correct  incorrect  precision  \n",
       "sci*         0.001588      138         33   0.807018  \n",
       "dollar*      0.002990      108         41   0.724832  \n",
       "*ball        0.001425      257         31   0.892361  \n",
       "conflict     0.000287       23          5   0.821429  \n",
       "financ*      0.005298       90         70   0.562500  \n",
       "match        0.000287       78          7   0.917647  \n",
       "goal         0.000395       41          9   0.820000  \n",
       "election     0.002192      128         27   0.825806  \n",
       "president*   0.007188      353        130   0.730849  \n",
       "techn*       0.005143      193         75   0.720149  \n",
       "software     0.003354      209         47   0.816406  \n",
       "computer*    0.003664      192         61   0.758893  \n",
       "game         0.002672      252         79   0.761329  \n",
       "team         0.002874      242         62   0.796053  \n",
       "minist*      0.004191      259         33   0.886986  \n",
       "stock*       0.006933      311         56   0.847411  \n",
       "oil          0.004376      247         60   0.804560  \n",
       "internet     0.002889      216         39   0.847059  \n",
       "total        0.025546     3337        865   0.794146  "
      ]
     },
     "execution_count": 27,
     "metadata": {},
     "output_type": "execute_result"
    }
   ],
   "source": [
    "from rubrix.labeling.text_classification import load_rules, WeakLabels\n",
    "\n",
    "rules = load_rules(dataset=\"news\")\n",
    "\n",
    "weak_labels = WeakLabels(\n",
    "    rules=rules, \n",
    "    dataset=\"news\"\n",
    ")\n",
    "weak_labels.summary()"
   ]
  },
  {
   "cell_type": "code",
   "execution_count": 59,
   "id": "c27f7820-0144-4827-86b6-08f1fd190334",
   "metadata": {},
   "outputs": [
    {
     "name": "stderr",
     "output_type": "stream",
     "text": [
      "100%|██████████| 100/100 [00:00<00:00, 518.39epoch/s]\n"
     ]
    },
    {
     "data": {
      "text/plain": [
       "{'Sci/Tech': {'precision': 0.7726692209450831,\n",
       "  'recall': 0.7826649417852523,\n",
       "  'f1-score': 0.7776349614395888,\n",
       "  'support': 773},\n",
       " 'World': {'precision': 0.6925675675675675,\n",
       "  'recall': 0.8055009823182712,\n",
       "  'f1-score': 0.7447774750227066,\n",
       "  'support': 509},\n",
       " 'Sports': {'precision': 0.8102288021534321,\n",
       "  'recall': 0.9525316455696202,\n",
       "  'f1-score': 0.8756363636363637,\n",
       "  'support': 632},\n",
       " 'Business': {'precision': 0.6506024096385542,\n",
       "  'recall': 0.3576158940397351,\n",
       "  'f1-score': 0.46153846153846156,\n",
       "  'support': 453},\n",
       " 'accuracy': 0.7515842839036755,\n",
       " 'macro avg': {'precision': 0.7315170000761593,\n",
       "  'recall': 0.7245783659282198,\n",
       "  'f1-score': 0.7148968154092802,\n",
       "  'support': 2367},\n",
       " 'weighted avg': {'precision': 0.7421114043978349,\n",
       "  'recall': 0.7515842839036755,\n",
       "  'f1-score': 0.7362410920466687,\n",
       "  'support': 2367}}"
      ]
     },
     "execution_count": 59,
     "metadata": {},
     "output_type": "execute_result"
    }
   ],
   "source": [
    "from rubrix.labeling.text_classification import Snorkel\n",
    "\n",
    "# create the label model\n",
    "label_model = Snorkel(weak_labels)\n",
    "\n",
    "# fit the model\n",
    "label_model.fit()\n",
    "\n",
    "# test it with labeled test set\n",
    "label_model.score()"
   ]
  },
  {
   "cell_type": "markdown",
   "id": "f38c5862-903b-48c4-bf34-233a2430b2a7",
   "metadata": {},
   "source": [
    "## 4. Prepare our training set\n",
    "\n",
    "Now, we already have a \"denoised\" training set, which we can prepare for training a downstream model. \n",
    "The label model predict returns `TextClassificationRecord` objects with the `predictions` from the label model. \n",
    "\n",
    "We can either refine and review these records using the Rubrix web app, use them as is, or filter them by score, for example.\n",
    "\n",
    "In this case, we assume the predictions are precise enough and use them without any revision. \n",
    "Our training set has ~38,000 records, which corresponds to all records where the label model has not abstained."
   ]
  },
  {
   "cell_type": "code",
   "execution_count": 60,
   "id": "7c321871-3bfc-45b9-902b-4beb45f4ca13",
   "metadata": {},
   "outputs": [
    {
     "data": {
      "text/html": [
       "<div>\n",
       "<style scoped>\n",
       "    .dataframe tbody tr th:only-of-type {\n",
       "        vertical-align: middle;\n",
       "    }\n",
       "\n",
       "    .dataframe tbody tr th {\n",
       "        vertical-align: top;\n",
       "    }\n",
       "\n",
       "    .dataframe thead th {\n",
       "        text-align: right;\n",
       "    }\n",
       "</style>\n",
       "<table border=\"1\" class=\"dataframe\">\n",
       "  <thead>\n",
       "    <tr style=\"text-align: right;\">\n",
       "      <th></th>\n",
       "      <th>text</th>\n",
       "      <th>label</th>\n",
       "    </tr>\n",
       "  </thead>\n",
       "  <tbody>\n",
       "    <tr>\n",
       "      <th>0</th>\n",
       "      <td>Saturn's Moon Titan: Planet Wannabe by Henry Bortman     Jonathan Lunine, professor of planetary science and physics at the University of Arizona's Lunar and Planetary Laboratory in Tucson, Arizona, has long been fascinated by Saturn's largest moon, Titan. In this first part of the interview, Lunine explains what scientists hope to learn from Huygens...</td>\n",
       "      <td>0</td>\n",
       "    </tr>\n",
       "    <tr>\n",
       "      <th>1</th>\n",
       "      <td>Reds with a Spanish spine Rafael Benitez would not have imagined a more troubled introduction to his debut Premiership season following Michael Owen #39;s shock transfer. NANTHA KUMAR examines the tough transition period at Liverpool.LIVERPOOL Football Club were not the only party ...</td>\n",
       "      <td>2</td>\n",
       "    </tr>\n",
       "    <tr>\n",
       "      <th>2</th>\n",
       "      <td>Gateway spreads out at retail Gateway computers will be more widely available at Office Depot, in the PC maker #39;s latest move to broaden distribution at retail stores since acquiring rival eMachines this year.</td>\n",
       "      <td>0</td>\n",
       "    </tr>\n",
       "    <tr>\n",
       "      <th>3</th>\n",
       "      <td>Apple recalls 15-in. PowerBook batteries Apple Computer Inc. has issued a recall for about 28,000 PowerBook batteries sold between January and August for use with its 15-in. PowerBook G4 computers</td>\n",
       "      <td>0</td>\n",
       "    </tr>\n",
       "    <tr>\n",
       "      <th>4</th>\n",
       "      <td>Microsoft delays security update for Windows XP Professional REDMOND, Wash. -- Microsoft has delayed distribution of a security update for users of its Windows XP Professional operating system to give some companies more time to test it, the software company said Tuesday.</td>\n",
       "      <td>0</td>\n",
       "    </tr>\n",
       "    <tr>\n",
       "      <th>...</th>\n",
       "      <td>...</td>\n",
       "      <td>...</td>\n",
       "    </tr>\n",
       "    <tr>\n",
       "      <th>1468</th>\n",
       "      <td>New Clot Preventer Saves Lives and Money By Ed Edelson, HealthDay Reporter    HealthDayNews -- A new anti-clotting drug for people having artery-opening procedures lowers the rate of complications, gets patients out of the hospital faster, and probably saves lives, a study finds.    And it saves money to boot, says Dr...</td>\n",
       "      <td>3</td>\n",
       "    </tr>\n",
       "    <tr>\n",
       "      <th>1469</th>\n",
       "      <td>Intuit 4Q Loss Widens on Charge MOUNTAIN VIEW, Calif. (AP)--Intuit Inc. #39;s loss widened for the fourth quarter ended July 31, hurt by slower seasonal sales of the company #39;s tax and finance software and an impairment charge from its decision to sell one of its businesses, the company said ...</td>\n",
       "      <td>0</td>\n",
       "    </tr>\n",
       "    <tr>\n",
       "      <th>1470</th>\n",
       "      <td>Real v Apple music war: iPod freedom petition backfires Hostilities started in late July, when Real cracked Apple #39;s FairPlay code, meaning songs bought from the RealPlayer Music Store could be played on the iPod - a move that went down very badly over at Apple. Real then decided to ratchet up the pressure by ...</td>\n",
       "      <td>2</td>\n",
       "    </tr>\n",
       "    <tr>\n",
       "      <th>1471</th>\n",
       "      <td>Rwanda Troops Start AU Mission in Darfur  EL FASHER, Sudan (Reuters) - Rwandan troops arrived in  Darfur Sunday as the first foreign force there, mandated to  protect observers monitoring a shaky cease-fire between the  Sudanese government and rebels in the remote western region.</td>\n",
       "      <td>1</td>\n",
       "    </tr>\n",
       "    <tr>\n",
       "      <th>1472</th>\n",
       "      <td>Brugnetti upsets the field to win 20km walk Athens, Greece (Sports Network) - The first official track event took place this morning and Italy #39;s Ivano Brugnetti won the men #39;s 20km walk at the Summer Olympics in Athens.</td>\n",
       "      <td>2</td>\n",
       "    </tr>\n",
       "  </tbody>\n",
       "</table>\n",
       "<p>1473 rows × 2 columns</p>\n",
       "</div>"
      ],
      "text/plain": [
       "                                                                                                                                                                                                                                                                                                                                                                     text  \\\n",
       "0     Saturn's Moon Titan: Planet Wannabe by Henry Bortman     Jonathan Lunine, professor of planetary science and physics at the University of Arizona's Lunar and Planetary Laboratory in Tucson, Arizona, has long been fascinated by Saturn's largest moon, Titan. In this first part of the interview, Lunine explains what scientists hope to learn from Huygens...   \n",
       "1                                                                           Reds with a Spanish spine Rafael Benitez would not have imagined a more troubled introduction to his debut Premiership season following Michael Owen #39;s shock transfer. NANTHA KUMAR examines the tough transition period at Liverpool.LIVERPOOL Football Club were not the only party ...   \n",
       "2                                                                                                                                                   Gateway spreads out at retail Gateway computers will be more widely available at Office Depot, in the PC maker #39;s latest move to broaden distribution at retail stores since acquiring rival eMachines this year.    \n",
       "3                                                                                                                                                                    Apple recalls 15-in. PowerBook batteries Apple Computer Inc. has issued a recall for about 28,000 PowerBook batteries sold between January and August for use with its 15-in. PowerBook G4 computers   \n",
       "4                                                                                       Microsoft delays security update for Windows XP Professional REDMOND, Wash. -- Microsoft has delayed distribution of a security update for users of its Windows XP Professional operating system to give some companies more time to test it, the software company said Tuesday.    \n",
       "...                                                                                                                                                                                                                                                                                                                                                                   ...   \n",
       "1468                                   New Clot Preventer Saves Lives and Money By Ed Edelson, HealthDay Reporter    HealthDayNews -- A new anti-clotting drug for people having artery-opening procedures lowers the rate of complications, gets patients out of the hospital faster, and probably saves lives, a study finds.    And it saves money to boot, says Dr...   \n",
       "1469                                                          Intuit 4Q Loss Widens on Charge MOUNTAIN VIEW, Calif. (AP)--Intuit Inc. #39;s loss widened for the fourth quarter ended July 31, hurt by slower seasonal sales of the company #39;s tax and finance software and an impairment charge from its decision to sell one of its businesses, the company said ...   \n",
       "1470                                        Real v Apple music war: iPod freedom petition backfires Hostilities started in late July, when Real cracked Apple #39;s FairPlay code, meaning songs bought from the RealPlayer Music Store could be played on the iPod - a move that went down very badly over at Apple. Real then decided to ratchet up the pressure by ...   \n",
       "1471                                                                             Rwanda Troops Start AU Mission in Darfur  EL FASHER, Sudan (Reuters) - Rwandan troops arrived in  Darfur Sunday as the first foreign force there, mandated to  protect observers monitoring a shaky cease-fire between the  Sudanese government and rebels in the remote western region.   \n",
       "1472                                                                                                                                  Brugnetti upsets the field to win 20km walk Athens, Greece (Sports Network) - The first official track event took place this morning and Italy #39;s Ivano Brugnetti won the men #39;s 20km walk at the Summer Olympics in Athens.    \n",
       "\n",
       "      label  \n",
       "0         0  \n",
       "1         2  \n",
       "2         0  \n",
       "3         0  \n",
       "4         0  \n",
       "...     ...  \n",
       "1468      3  \n",
       "1469      0  \n",
       "1470      2  \n",
       "1471      1  \n",
       "1472      2  \n",
       "\n",
       "[1473 rows x 2 columns]"
      ]
     },
     "metadata": {},
     "output_type": "display_data"
    }
   ],
   "source": [
    "import pandas as pd\n",
    "\n",
    "# get records with the predictions from the label model\n",
    "records = label_model.predict()\n",
    "\n",
    "# build a simple dataframe with text and the prediction with the highest score\n",
    "df_train = pd.DataFrame([\n",
    "    {\"text\": record.text, \"label\": label_model.weak_labels.label2int[record.prediction[0][0]]}\n",
    "    for record in records\n",
    "])\n",
    "\n",
    "# quick look at our training data with the weak labels from our label model \n",
    "with pd.option_context('display.max_colwidth', None):\n",
    "    display(df_train)"
   ]
  },
  {
   "cell_type": "markdown",
   "id": "e6cf0479",
   "metadata": {},
   "source": [
    "Record can be loaded again now:"
   ]
  },
  {
   "cell_type": "code",
   "execution_count": 61,
   "id": "db0c41f9-bde8-4bc8-8406-a048e2e73aef",
   "metadata": {},
   "outputs": [],
   "source": [
    "# for the test set, we can retrieve the records with validated annotations (the original ag_news test set)\n",
    "df_test = rb.load(\"news\", query=\"status:Validated\")\n",
    "\n",
    "# transform data to match our training set format\n",
    "df_test['annotation'] = df_test['annotation'].apply(\n",
    "    lambda r: label_model.weak_labels.label2int[r]\n",
    ")"
   ]
  },
  {
   "cell_type": "markdown",
   "id": "29e6b973-fab5-43d0-994c-591b99835f90",
   "metadata": {},
   "source": [
    "## 5. Train a downstream model with scikit-learn\n",
    "\n",
    "Now, let's train our final model using `scikit-learn`:"
   ]
  },
  {
   "cell_type": "code",
   "execution_count": 62,
   "id": "1a2e1aa9-68c9-4a65-bf52-ff5254cdd9db",
   "metadata": {},
   "outputs": [
    {
     "data": {
      "text/plain": [
       "Pipeline(steps=[('vect', CountVectorizer()), ('clf', MultinomialNB())])"
      ]
     },
     "execution_count": 62,
     "metadata": {},
     "output_type": "execute_result"
    }
   ],
   "source": [
    "from sklearn.feature_extraction.text import TfidfTransformer, CountVectorizer\n",
    "from sklearn.naive_bayes import MultinomialNB\n",
    "from sklearn.pipeline import Pipeline\n",
    "\n",
    "# define our final classifier\n",
    "classifier = Pipeline([\n",
    "    ('vect', CountVectorizer()),\n",
    "    ('clf', MultinomialNB())\n",
    "])\n",
    "\n",
    "# fit the classifier\n",
    "classifier.fit(\n",
    "    X=df_train.text.tolist(), \n",
    "    y=df_train.label.values\n",
    ")"
   ]
  },
  {
   "cell_type": "code",
   "execution_count": 63,
   "id": "aac5b5ae-7c0d-48d6-800c-d95934b3d03f",
   "metadata": {},
   "outputs": [
    {
     "name": "stdout",
     "output_type": "stream",
     "text": [
      "Test accuracy: 0.7227631578947369\n"
     ]
    }
   ],
   "source": [
    "# compute the test accuracy\n",
    "accuracy = classifier.score(\n",
    "    X=df_test.text.tolist(), \n",
    "    y=label_model.weak_labels.annotation()\n",
    ")\n",
    "\n",
    "print(f\"Test accuracy: {accuracy}\")"
   ]
  },
  {
   "cell_type": "markdown",
   "id": "5b24b07b-dd15-4362-a88c-d3611748736e",
   "metadata": {},
   "source": [
    "Not too bad! 🥳\n",
    "\n",
    "We have achieved around **0.84 accuracy** without even using a single example from the original `ag_news` train set and with a small set of rules (less than 30). Also, we've improved over the 0.81 accuracy of our Label Model.\n",
    "\n",
    "Finally, let's take a look at more detailed metrics:"
   ]
  },
  {
   "cell_type": "code",
   "execution_count": 64,
   "id": "609f169a-30ed-480e-8ab8-ae5af2c0a84f",
   "metadata": {},
   "outputs": [
    {
     "name": "stdout",
     "output_type": "stream",
     "text": [
      "              precision    recall  f1-score   support\n",
      "\n",
      "       World       0.60      0.87      0.71      1900\n",
      "      Sports       0.73      0.84      0.78      1900\n",
      "    Business       0.83      0.94      0.88      1900\n",
      "    Sci/Tech       0.86      0.25      0.39      1900\n",
      "\n",
      "    accuracy                           0.72      7600\n",
      "   macro avg       0.76      0.72      0.69      7600\n",
      "weighted avg       0.76      0.72      0.69      7600\n",
      "\n"
     ]
    }
   ],
   "source": [
    "from sklearn import metrics\n",
    "\n",
    "# get predictions for the test set\n",
    "predicted = classifier.predict(df_test.text.tolist())\n",
    "\n",
    "print(metrics.classification_report(label_model.weak_labels.annotation(), predicted, target_names=labels))"
   ]
  },
  {
   "cell_type": "markdown",
   "id": "6e6b7ab7-6d11-46c2-8320-2f80fcb8a446",
   "metadata": {},
   "source": [
    "At this point, we could go back to the UI to define more rules for those labels with less performance. Looking at the above table, we might want to add some more rules for increasing the recall of the `Business` label."
   ]
  },
  {
   "cell_type": "markdown",
   "id": "7f50f481",
   "metadata": {},
   "source": [
    "## 6. Weak supervision"
   ]
  },
  {
   "cell_type": "code",
   "execution_count": 80,
   "id": "d9cdb258",
   "metadata": {},
   "outputs": [],
   "source": [
    "# temporary cell ( remove before merge )\n",
    "import pickle\n",
    "sentences = [x.text for x in weak_labels.records()]\n",
    "with open('/mnt/d/tmp/epoxy/sentences.pkl','wb') as f:\n",
    "    pickle.dump(sentences, f)"
   ]
  },
  {
   "cell_type": "code",
   "execution_count": 81,
   "id": "34e10506",
   "metadata": {},
   "outputs": [],
   "source": [
    "# temporary cell ( remove before merge )\n",
    "import pickle\n",
    "with open('/mnt/d/tmp/epoxy/embeddings.pkl','rb') as f:\n",
    "    embeddings = pickle.load(f)"
   ]
  },
  {
   "cell_type": "code",
   "execution_count": null,
   "id": "bcedf465",
   "metadata": {},
   "outputs": [],
   "source": [
    "from sentence_transformers import SentenceTransformer\n",
    "model = SentenceTransformer('all-mpnet-base-v2', device='cuda')\n",
    "embeddings = model.encode([x.text for x in weak_labels.records()])"
   ]
  },
  {
   "cell_type": "code",
   "execution_count": 82,
   "id": "75210a42",
   "metadata": {},
   "outputs": [],
   "source": [
    "thresholds = [0.9] * len(rules)\n",
    "weak_labels.extend_matrix(thresholds, embeddings)"
   ]
  },
  {
   "cell_type": "code",
   "execution_count": 83,
   "id": "eadbd1d8",
   "metadata": {},
   "outputs": [],
   "source": [
    "def avoid_label_overwrite(weak_labels):\n",
    "    null_label = weak_labels.label2int[None]\n",
    "    for idx, row in enumerate(weak_labels._matrix):\n",
    "        if not all([x == null_label for x in row]):\n",
    "            weak_labels._extended_matrix[idx] = weak_labels._matrix[idx]\n",
    "    return weak_labels\n",
    "\n",
    "weak_labels = avoid_label_overwrite(weak_labels)"
   ]
  },
  {
   "cell_type": "code",
   "execution_count": 88,
   "id": "38719ce7",
   "metadata": {},
   "outputs": [
    {
     "name": "stderr",
     "output_type": "stream",
     "text": [
      "100%|██████████| 100/100 [00:00<00:00, 574.25epoch/s]\n",
      "/home/user/miniconda3/envs/rubrix/lib/python3.8/site-packages/sklearn/metrics/_classification.py:1248: UndefinedMetricWarning: Precision and F-score are ill-defined and being set to 0.0 in labels with no predicted samples. Use `zero_division` parameter to control this behavior.\n",
      "  _warn_prf(average, modifier, msg_start, len(result))\n",
      "/home/user/miniconda3/envs/rubrix/lib/python3.8/site-packages/sklearn/metrics/_classification.py:1248: UndefinedMetricWarning: Precision and F-score are ill-defined and being set to 0.0 in labels with no predicted samples. Use `zero_division` parameter to control this behavior.\n",
      "  _warn_prf(average, modifier, msg_start, len(result))\n",
      "/home/user/miniconda3/envs/rubrix/lib/python3.8/site-packages/sklearn/metrics/_classification.py:1248: UndefinedMetricWarning: Precision and F-score are ill-defined and being set to 0.0 in labels with no predicted samples. Use `zero_division` parameter to control this behavior.\n",
      "  _warn_prf(average, modifier, msg_start, len(result))\n"
     ]
    },
    {
     "data": {
      "text/plain": [
       "0.25"
      ]
     },
     "execution_count": 88,
     "metadata": {},
     "output_type": "execute_result"
    }
   ],
   "source": [
    "from rubrix.labeling.text_classification import Snorkel\n",
    "import pandas as pd\n",
    "from sklearn.feature_extraction.text import TfidfTransformer, CountVectorizer\n",
    "from sklearn.naive_bayes import MultinomialNB\n",
    "from sklearn.pipeline import Pipeline\n",
    "\n",
    "def get_accuracy(weak_labels, thresholds):\n",
    "    # define our final classifier\n",
    "    classifier = Pipeline([\n",
    "        ('vect', CountVectorizer()),\n",
    "        ('clf', MultinomialNB())\n",
    "    ])\n",
    "    label_model = Snorkel(weak_labels)\n",
    "    # fit the model\n",
    "    label_model.fit()\n",
    "    # test it with labeled test set\n",
    "    label_model.score()\n",
    "    records = label_model.predict()\n",
    "    # build a simple dataframe with text and the prediction with the highest score\n",
    "    df_train = pd.DataFrame([\n",
    "        {\"text\": record.text, \"label\": label_model.weak_labels.label2int[record.prediction[0][0]]}\n",
    "        for record in records\n",
    "    ])\n",
    "    classifier.fit(\n",
    "        X=df_train.text.tolist(), \n",
    "        y=df_train.label.values\n",
    "    )\n",
    "    # compute the test accuracy\n",
    "    accuracy = classifier.score(\n",
    "        X=df_test.text.tolist(), \n",
    "        y=label_model.weak_labels.annotation()\n",
    "    )\n",
    "    return accuracy\n",
    "\n",
    "thresholds = [0.2] * len(rules)\n",
    "weak_labels.extend_matrix(thresholds)\n",
    "weak_labels = avoid_label_overwrite(weak_labels)\n",
    "acc = get_accuracy(weak_labels, thresholds)\n",
    "acc"
   ]
  },
  {
   "cell_type": "code",
   "execution_count": 42,
   "id": "52cbc76f",
   "metadata": {},
   "outputs": [
    {
     "name": "stderr",
     "output_type": "stream",
     "text": [
      "100%|██████████| 100/100 [00:00<00:00, 734.09epoch/s]\n",
      "/home/user/miniconda3/envs/rubrix/lib/python3.8/site-packages/sklearn/metrics/_classification.py:1248: UndefinedMetricWarning: Precision and F-score are ill-defined and being set to 0.0 in labels with no predicted samples. Use `zero_division` parameter to control this behavior.\n",
      "  _warn_prf(average, modifier, msg_start, len(result))\n",
      "/home/user/miniconda3/envs/rubrix/lib/python3.8/site-packages/sklearn/metrics/_classification.py:1248: UndefinedMetricWarning: Precision and F-score are ill-defined and being set to 0.0 in labels with no predicted samples. Use `zero_division` parameter to control this behavior.\n",
      "  _warn_prf(average, modifier, msg_start, len(result))\n",
      "/home/user/miniconda3/envs/rubrix/lib/python3.8/site-packages/sklearn/metrics/_classification.py:1248: UndefinedMetricWarning: Precision and F-score are ill-defined and being set to 0.0 in labels with no predicted samples. Use `zero_division` parameter to control this behavior.\n",
      "  _warn_prf(average, modifier, msg_start, len(result))\n",
      "100%|██████████| 100/100 [00:00<00:00, 598.32epoch/s]\n",
      "/home/user/miniconda3/envs/rubrix/lib/python3.8/site-packages/sklearn/metrics/_classification.py:1248: UndefinedMetricWarning: Precision and F-score are ill-defined and being set to 0.0 in labels with no predicted samples. Use `zero_division` parameter to control this behavior.\n",
      "  _warn_prf(average, modifier, msg_start, len(result))\n",
      "/home/user/miniconda3/envs/rubrix/lib/python3.8/site-packages/sklearn/metrics/_classification.py:1248: UndefinedMetricWarning: Precision and F-score are ill-defined and being set to 0.0 in labels with no predicted samples. Use `zero_division` parameter to control this behavior.\n",
      "  _warn_prf(average, modifier, msg_start, len(result))\n",
      "/home/user/miniconda3/envs/rubrix/lib/python3.8/site-packages/sklearn/metrics/_classification.py:1248: UndefinedMetricWarning: Precision and F-score are ill-defined and being set to 0.0 in labels with no predicted samples. Use `zero_division` parameter to control this behavior.\n",
      "  _warn_prf(average, modifier, msg_start, len(result))\n",
      "100%|██████████| 100/100 [00:00<00:00, 659.73epoch/s]\n",
      "/home/user/miniconda3/envs/rubrix/lib/python3.8/site-packages/sklearn/metrics/_classification.py:1248: UndefinedMetricWarning: Precision and F-score are ill-defined and being set to 0.0 in labels with no predicted samples. Use `zero_division` parameter to control this behavior.\n",
      "  _warn_prf(average, modifier, msg_start, len(result))\n",
      "/home/user/miniconda3/envs/rubrix/lib/python3.8/site-packages/sklearn/metrics/_classification.py:1248: UndefinedMetricWarning: Precision and F-score are ill-defined and being set to 0.0 in labels with no predicted samples. Use `zero_division` parameter to control this behavior.\n",
      "  _warn_prf(average, modifier, msg_start, len(result))\n",
      "/home/user/miniconda3/envs/rubrix/lib/python3.8/site-packages/sklearn/metrics/_classification.py:1248: UndefinedMetricWarning: Precision and F-score are ill-defined and being set to 0.0 in labels with no predicted samples. Use `zero_division` parameter to control this behavior.\n",
      "  _warn_prf(average, modifier, msg_start, len(result))\n",
      "100%|██████████| 100/100 [00:00<00:00, 773.11epoch/s]\n",
      "/home/user/miniconda3/envs/rubrix/lib/python3.8/site-packages/sklearn/metrics/_classification.py:1248: UndefinedMetricWarning: Precision and F-score are ill-defined and being set to 0.0 in labels with no predicted samples. Use `zero_division` parameter to control this behavior.\n",
      "  _warn_prf(average, modifier, msg_start, len(result))\n",
      "/home/user/miniconda3/envs/rubrix/lib/python3.8/site-packages/sklearn/metrics/_classification.py:1248: UndefinedMetricWarning: Precision and F-score are ill-defined and being set to 0.0 in labels with no predicted samples. Use `zero_division` parameter to control this behavior.\n",
      "  _warn_prf(average, modifier, msg_start, len(result))\n",
      "/home/user/miniconda3/envs/rubrix/lib/python3.8/site-packages/sklearn/metrics/_classification.py:1248: UndefinedMetricWarning: Precision and F-score are ill-defined and being set to 0.0 in labels with no predicted samples. Use `zero_division` parameter to control this behavior.\n",
      "  _warn_prf(average, modifier, msg_start, len(result))\n",
      "100%|██████████| 100/100 [00:00<00:00, 908.44epoch/s]\n",
      "/home/user/miniconda3/envs/rubrix/lib/python3.8/site-packages/sklearn/metrics/_classification.py:1248: UndefinedMetricWarning: Precision and F-score are ill-defined and being set to 0.0 in labels with no predicted samples. Use `zero_division` parameter to control this behavior.\n",
      "  _warn_prf(average, modifier, msg_start, len(result))\n",
      "/home/user/miniconda3/envs/rubrix/lib/python3.8/site-packages/sklearn/metrics/_classification.py:1248: UndefinedMetricWarning: Precision and F-score are ill-defined and being set to 0.0 in labels with no predicted samples. Use `zero_division` parameter to control this behavior.\n",
      "  _warn_prf(average, modifier, msg_start, len(result))\n",
      "/home/user/miniconda3/envs/rubrix/lib/python3.8/site-packages/sklearn/metrics/_classification.py:1248: UndefinedMetricWarning: Precision and F-score are ill-defined and being set to 0.0 in labels with no predicted samples. Use `zero_division` parameter to control this behavior.\n",
      "  _warn_prf(average, modifier, msg_start, len(result))\n",
      "100%|██████████| 100/100 [00:00<00:00, 814.61epoch/s]\n",
      "/home/user/miniconda3/envs/rubrix/lib/python3.8/site-packages/sklearn/metrics/_classification.py:1248: UndefinedMetricWarning: Precision and F-score are ill-defined and being set to 0.0 in labels with no predicted samples. Use `zero_division` parameter to control this behavior.\n",
      "  _warn_prf(average, modifier, msg_start, len(result))\n",
      "/home/user/miniconda3/envs/rubrix/lib/python3.8/site-packages/sklearn/metrics/_classification.py:1248: UndefinedMetricWarning: Precision and F-score are ill-defined and being set to 0.0 in labels with no predicted samples. Use `zero_division` parameter to control this behavior.\n",
      "  _warn_prf(average, modifier, msg_start, len(result))\n",
      "/home/user/miniconda3/envs/rubrix/lib/python3.8/site-packages/sklearn/metrics/_classification.py:1248: UndefinedMetricWarning: Precision and F-score are ill-defined and being set to 0.0 in labels with no predicted samples. Use `zero_division` parameter to control this behavior.\n",
      "  _warn_prf(average, modifier, msg_start, len(result))\n",
      "100%|██████████| 100/100 [00:00<00:00, 754.94epoch/s]\n",
      "100%|██████████| 100/100 [00:00<00:00, 422.06epoch/s]\n",
      "100%|██████████| 100/100 [00:00<00:00, 732.36epoch/s]\n",
      "100%|██████████| 100/100 [00:00<00:00, 713.85epoch/s]\n",
      "100%|██████████| 100/100 [00:00<00:00, 347.60epoch/s]\n",
      "100%|██████████| 100/100 [00:00<00:00, 451.31epoch/s]\n",
      "100%|██████████| 100/100 [00:00<00:00, 771.01epoch/s]\n",
      "100%|██████████| 100/100 [00:00<00:00, 622.78epoch/s]\n",
      "100%|██████████| 100/100 [00:00<00:00, 986.83epoch/s]\n",
      "100%|██████████| 100/100 [00:00<00:00, 671.54epoch/s]\n",
      "100%|██████████| 100/100 [00:00<00:00, 932.39epoch/s]\n",
      "100%|██████████| 100/100 [00:00<00:00, 728.02epoch/s]\n",
      "100%|██████████| 100/100 [00:00<00:00, 664.42epoch/s]\n",
      "100%|██████████| 100/100 [00:00<00:00, 769.32epoch/s]\n"
     ]
    },
    {
     "name": "stdout",
     "output_type": "stream",
     "text": [
      "0.7563157894736842 0 0.7000000000000001\n"
     ]
    },
    {
     "name": "stderr",
     "output_type": "stream",
     "text": [
      "100%|██████████| 100/100 [00:00<00:00, 712.00epoch/s]\n",
      "100%|██████████| 100/100 [00:00<00:00, 618.52epoch/s]\n",
      "100%|██████████| 100/100 [00:00<00:00, 707.45epoch/s]\n",
      "100%|██████████| 100/100 [00:00<00:00, 771.91epoch/s]\n",
      "100%|██████████| 100/100 [00:00<00:00, 395.01epoch/s]\n",
      "100%|██████████| 100/100 [00:00<00:00, 950.41epoch/s]\n",
      "100%|██████████| 100/100 [00:00<00:00, 593.24epoch/s]\n",
      "100%|██████████| 100/100 [00:00<00:00, 514.80epoch/s]\n",
      "100%|██████████| 100/100 [00:00<00:00, 849.63epoch/s]\n",
      "100%|██████████| 100/100 [00:00<00:00, 766.22epoch/s]\n"
     ]
    },
    {
     "name": "stdout",
     "output_type": "stream",
     "text": [
      "0.7610526315789473 1 0.9\n"
     ]
    },
    {
     "name": "stderr",
     "output_type": "stream",
     "text": [
      "100%|██████████| 100/100 [00:00<00:00, 784.14epoch/s]\n",
      "100%|██████████| 100/100 [00:00<00:00, 611.00epoch/s]\n",
      "100%|██████████| 100/100 [00:00<00:00, 1007.11epoch/s]\n",
      "100%|██████████| 100/100 [00:00<00:00, 802.15epoch/s]\n",
      "100%|██████████| 100/100 [00:00<00:00, 794.73epoch/s]\n",
      "100%|██████████| 100/100 [00:00<00:00, 430.27epoch/s]\n",
      "100%|██████████| 100/100 [00:00<00:00, 480.70epoch/s]\n",
      "100%|██████████| 100/100 [00:00<00:00, 865.17epoch/s]\n",
      "100%|██████████| 100/100 [00:00<00:00, 534.52epoch/s]\n",
      "100%|██████████| 100/100 [00:00<00:00, 735.56epoch/s]\n"
     ]
    },
    {
     "name": "stdout",
     "output_type": "stream",
     "text": [
      "0.7610526315789473 2 1.0\n"
     ]
    },
    {
     "name": "stderr",
     "output_type": "stream",
     "text": [
      "100%|██████████| 100/100 [00:00<00:00, 697.72epoch/s]\n",
      "100%|██████████| 100/100 [00:00<00:00, 854.22epoch/s]\n",
      "100%|██████████| 100/100 [00:00<00:00, 685.67epoch/s]\n",
      "100%|██████████| 100/100 [00:00<00:00, 639.51epoch/s]\n",
      "100%|██████████| 100/100 [00:00<00:00, 493.97epoch/s]\n",
      "100%|██████████| 100/100 [00:00<00:00, 636.76epoch/s]\n",
      "100%|██████████| 100/100 [00:00<00:00, 870.72epoch/s]\n",
      "100%|██████████| 100/100 [00:00<00:00, 630.93epoch/s]\n",
      "100%|██████████| 100/100 [00:00<00:00, 689.41epoch/s]\n",
      "100%|██████████| 100/100 [00:00<00:00, 488.49epoch/s]\n"
     ]
    },
    {
     "name": "stdout",
     "output_type": "stream",
     "text": [
      "0.7610526315789473 3 1.0\n"
     ]
    },
    {
     "name": "stderr",
     "output_type": "stream",
     "text": [
      "100%|██████████| 100/100 [00:00<00:00, 642.54epoch/s]\n",
      "100%|██████████| 100/100 [00:00<00:00, 871.14epoch/s]\n",
      "100%|██████████| 100/100 [00:00<00:00, 591.46epoch/s]\n",
      "100%|██████████| 100/100 [00:00<00:00, 622.97epoch/s]\n",
      "100%|██████████| 100/100 [00:00<00:00, 612.22epoch/s]\n",
      "100%|██████████| 100/100 [00:00<00:00, 663.31epoch/s]\n",
      "100%|██████████| 100/100 [00:00<00:00, 410.72epoch/s]\n",
      "100%|██████████| 100/100 [00:00<00:00, 655.71epoch/s]\n",
      "100%|██████████| 100/100 [00:00<00:00, 725.48epoch/s]\n",
      "100%|██████████| 100/100 [00:00<00:00, 1125.35epoch/s]\n"
     ]
    },
    {
     "name": "stdout",
     "output_type": "stream",
     "text": [
      "0.7610526315789473 4 1.0\n"
     ]
    },
    {
     "name": "stderr",
     "output_type": "stream",
     "text": [
      "100%|██████████| 100/100 [00:00<00:00, 680.76epoch/s]\n",
      "100%|██████████| 100/100 [00:00<00:00, 625.46epoch/s]\n",
      "100%|██████████| 100/100 [00:00<00:00, 768.46epoch/s]\n",
      "100%|██████████| 100/100 [00:00<00:00, 651.19epoch/s]\n",
      "100%|██████████| 100/100 [00:00<00:00, 599.84epoch/s]\n",
      "100%|██████████| 100/100 [00:00<00:00, 466.97epoch/s]\n",
      "100%|██████████| 100/100 [00:00<00:00, 677.43epoch/s]\n",
      "100%|██████████| 100/100 [00:00<00:00, 664.15epoch/s]\n",
      "100%|██████████| 100/100 [00:00<00:00, 650.00epoch/s]\n",
      "100%|██████████| 100/100 [00:00<00:00, 654.13epoch/s]\n"
     ]
    },
    {
     "name": "stdout",
     "output_type": "stream",
     "text": [
      "0.7610526315789473 5 1.0\n"
     ]
    },
    {
     "name": "stderr",
     "output_type": "stream",
     "text": [
      "100%|██████████| 100/100 [00:00<00:00, 1031.95epoch/s]\n",
      "100%|██████████| 100/100 [00:00<00:00, 851.23epoch/s]\n",
      "100%|██████████| 100/100 [00:00<00:00, 624.66epoch/s]\n",
      "100%|██████████| 100/100 [00:00<00:00, 665.24epoch/s]\n",
      "100%|██████████| 100/100 [00:00<00:00, 755.99epoch/s]\n",
      "100%|██████████| 100/100 [00:00<00:00, 522.02epoch/s]\n",
      "100%|██████████| 100/100 [00:00<00:00, 338.06epoch/s]\n",
      "100%|██████████| 100/100 [00:00<00:00, 491.63epoch/s]\n",
      "100%|██████████| 100/100 [00:00<00:00, 691.99epoch/s]\n",
      "100%|██████████| 100/100 [00:00<00:00, 708.52epoch/s]\n"
     ]
    },
    {
     "name": "stdout",
     "output_type": "stream",
     "text": [
      "0.7613157894736842 6 0.7000000000000001\n"
     ]
    },
    {
     "name": "stderr",
     "output_type": "stream",
     "text": [
      "100%|██████████| 100/100 [00:00<00:00, 742.03epoch/s]\n",
      "100%|██████████| 100/100 [00:00<00:00, 553.38epoch/s]\n",
      "100%|██████████| 100/100 [00:00<00:00, 495.87epoch/s]\n",
      "100%|██████████| 100/100 [00:00<00:00, 605.08epoch/s]\n",
      "100%|██████████| 100/100 [00:00<00:00, 676.48epoch/s]\n",
      "100%|██████████| 100/100 [00:00<00:00, 725.37epoch/s]\n",
      "100%|██████████| 100/100 [00:00<00:00, 932.16epoch/s]\n",
      "100%|██████████| 100/100 [00:00<00:00, 482.04epoch/s]\n",
      "100%|██████████| 100/100 [00:00<00:00, 460.27epoch/s]\n",
      "100%|██████████| 100/100 [00:00<00:00, 936.55epoch/s]\n"
     ]
    },
    {
     "name": "stdout",
     "output_type": "stream",
     "text": [
      "0.7613157894736842 7 1.0\n"
     ]
    },
    {
     "name": "stderr",
     "output_type": "stream",
     "text": [
      "100%|██████████| 100/100 [00:00<00:00, 586.67epoch/s]\n",
      "100%|██████████| 100/100 [00:00<00:00, 751.32epoch/s]\n",
      "100%|██████████| 100/100 [00:00<00:00, 525.56epoch/s]\n",
      "100%|██████████| 100/100 [00:00<00:00, 1029.33epoch/s]\n",
      "100%|██████████| 100/100 [00:00<00:00, 439.67epoch/s]\n",
      "100%|██████████| 100/100 [00:00<00:00, 644.19epoch/s]\n",
      "100%|██████████| 100/100 [00:00<00:00, 458.43epoch/s]\n",
      "100%|██████████| 100/100 [00:00<00:00, 705.42epoch/s]\n",
      "100%|██████████| 100/100 [00:00<00:00, 484.11epoch/s]\n",
      "100%|██████████| 100/100 [00:00<00:00, 750.04epoch/s]\n"
     ]
    },
    {
     "name": "stdout",
     "output_type": "stream",
     "text": [
      "0.7613157894736842 8 1.0\n"
     ]
    },
    {
     "name": "stderr",
     "output_type": "stream",
     "text": [
      "100%|██████████| 100/100 [00:00<00:00, 705.64epoch/s]\n",
      "100%|██████████| 100/100 [00:00<00:00, 545.44epoch/s]\n",
      "100%|██████████| 100/100 [00:00<00:00, 726.79epoch/s]\n",
      "100%|██████████| 100/100 [00:00<00:00, 683.91epoch/s]\n",
      "100%|██████████| 100/100 [00:00<00:00, 444.53epoch/s]\n",
      "100%|██████████| 100/100 [00:00<00:00, 737.92epoch/s]\n",
      "100%|██████████| 100/100 [00:00<00:00, 770.31epoch/s]\n",
      "100%|██████████| 100/100 [00:00<00:00, 741.51epoch/s]\n",
      "100%|██████████| 100/100 [00:00<00:00, 623.70epoch/s]\n",
      "100%|██████████| 100/100 [00:00<00:00, 839.04epoch/s]\n"
     ]
    },
    {
     "name": "stdout",
     "output_type": "stream",
     "text": [
      "0.7613157894736842 9 1.0\n"
     ]
    },
    {
     "name": "stderr",
     "output_type": "stream",
     "text": [
      "100%|██████████| 100/100 [00:00<00:00, 714.45epoch/s]\n",
      "100%|██████████| 100/100 [00:00<00:00, 646.67epoch/s]\n",
      "100%|██████████| 100/100 [00:00<00:00, 654.97epoch/s]\n",
      "100%|██████████| 100/100 [00:00<00:00, 411.73epoch/s]\n",
      "100%|██████████| 100/100 [00:00<00:00, 756.13epoch/s]\n",
      "100%|██████████| 100/100 [00:00<00:00, 460.79epoch/s]\n",
      "100%|██████████| 100/100 [00:00<00:00, 754.18epoch/s]\n",
      "100%|██████████| 100/100 [00:00<00:00, 436.99epoch/s]\n",
      "100%|██████████| 100/100 [00:00<00:00, 889.82epoch/s]\n"
     ]
    },
    {
     "ename": "KeyboardInterrupt",
     "evalue": "",
     "output_type": "error",
     "traceback": [
      "\u001b[0;31m---------------------------------------------------------------------------\u001b[0m",
      "\u001b[0;31mKeyboardInterrupt\u001b[0m                         Traceback (most recent call last)",
      "\u001b[0;32m<ipython-input-42-8af2bb19c1f1>\u001b[0m in \u001b[0;36m<module>\u001b[0;34m\u001b[0m\n\u001b[1;32m     52\u001b[0m     \u001b[0;32mfor\u001b[0m \u001b[0mi\u001b[0m \u001b[0;32min\u001b[0m \u001b[0msearch_space\u001b[0m\u001b[0;34m:\u001b[0m\u001b[0;34m\u001b[0m\u001b[0;34m\u001b[0m\u001b[0m\n\u001b[1;32m     53\u001b[0m         \u001b[0mbest_thresholds\u001b[0m\u001b[0;34m[\u001b[0m\u001b[0midx\u001b[0m\u001b[0;34m]\u001b[0m \u001b[0;34m=\u001b[0m \u001b[0mi\u001b[0m\u001b[0;34m\u001b[0m\u001b[0;34m\u001b[0m\u001b[0m\n\u001b[0;32m---> 54\u001b[0;31m         \u001b[0mweak_labels\u001b[0m\u001b[0;34m.\u001b[0m\u001b[0mextend_matrix\u001b[0m\u001b[0;34m(\u001b[0m\u001b[0mbest_thresholds\u001b[0m\u001b[0;34m,\u001b[0m \u001b[0membeddings\u001b[0m\u001b[0;34m)\u001b[0m\u001b[0;34m\u001b[0m\u001b[0;34m\u001b[0m\u001b[0m\n\u001b[0m\u001b[1;32m     55\u001b[0m         \u001b[0macc\u001b[0m \u001b[0;34m=\u001b[0m \u001b[0mget_accuracy\u001b[0m\u001b[0;34m(\u001b[0m\u001b[0mweak_labels\u001b[0m\u001b[0;34m,\u001b[0m \u001b[0mbest_thresholds\u001b[0m\u001b[0;34m)\u001b[0m\u001b[0;34m\u001b[0m\u001b[0;34m\u001b[0m\u001b[0m\n\u001b[1;32m     56\u001b[0m         \u001b[0mthreshold_dict\u001b[0m\u001b[0;34m[\u001b[0m\u001b[0mi\u001b[0m\u001b[0;34m]\u001b[0m \u001b[0;34m=\u001b[0m \u001b[0macc\u001b[0m\u001b[0;34m\u001b[0m\u001b[0;34m\u001b[0m\u001b[0m\n",
      "\u001b[0;32m/mnt/d/Recognai/rubrix/src/rubrix/labeling/text_classification/weak_labels.py\u001b[0m in \u001b[0;36mextend_matrix\u001b[0;34m(self, thresholds, embeddings, gpu)\u001b[0m\n\u001b[1;32m    492\u001b[0m         \u001b[0;32mif\u001b[0m \u001b[0;32mnot\u001b[0m \u001b[0membeddings\u001b[0m \u001b[0;32mis\u001b[0m \u001b[0;32mNone\u001b[0m\u001b[0;34m:\u001b[0m\u001b[0;34m\u001b[0m\u001b[0;34m\u001b[0m\u001b[0m\n\u001b[1;32m    493\u001b[0m             \u001b[0membeddings_copy\u001b[0m \u001b[0;34m=\u001b[0m \u001b[0mnp\u001b[0m\u001b[0;34m.\u001b[0m\u001b[0mcopy\u001b[0m\u001b[0;34m(\u001b[0m\u001b[0membeddings\u001b[0m\u001b[0;34m)\u001b[0m\u001b[0;34m.\u001b[0m\u001b[0mastype\u001b[0m\u001b[0;34m(\u001b[0m\u001b[0mnp\u001b[0m\u001b[0;34m.\u001b[0m\u001b[0mfloat32\u001b[0m\u001b[0;34m)\u001b[0m\u001b[0;34m\u001b[0m\u001b[0;34m\u001b[0m\u001b[0m\n\u001b[0;32m--> 494\u001b[0;31m             dists, nearest = self._find_dists_and_nearest(\n\u001b[0m\u001b[1;32m    495\u001b[0m                 \u001b[0mmatrix_length\u001b[0m\u001b[0;34m,\u001b[0m \u001b[0membeddings_copy\u001b[0m\u001b[0;34m,\u001b[0m \u001b[0mmat_abstains\u001b[0m\u001b[0;34m,\u001b[0m \u001b[0msupport\u001b[0m\u001b[0;34m,\u001b[0m \u001b[0mgpu\u001b[0m\u001b[0;34m=\u001b[0m\u001b[0mgpu\u001b[0m\u001b[0;34m\u001b[0m\u001b[0;34m\u001b[0m\u001b[0m\n\u001b[1;32m    496\u001b[0m             )\n",
      "\u001b[0;32m/mnt/d/Recognai/rubrix/src/rubrix/labeling/text_classification/weak_labels.py\u001b[0m in \u001b[0;36m_find_dists_and_nearest\u001b[0;34m(self, matrix_length, embeddings, mat_abstains, support, gpu)\u001b[0m\n\u001b[1;32m    449\u001b[0m             \u001b[0membs_query\u001b[0m \u001b[0;34m=\u001b[0m \u001b[0mnp\u001b[0m\u001b[0;34m.\u001b[0m\u001b[0mcopy\u001b[0m\u001b[0;34m(\u001b[0m\u001b[0membeddings\u001b[0m\u001b[0;34m[\u001b[0m\u001b[0mmat_abstains\u001b[0m\u001b[0;34m[\u001b[0m\u001b[0mi\u001b[0m\u001b[0;34m]\u001b[0m\u001b[0;34m]\u001b[0m\u001b[0;34m)\u001b[0m\u001b[0;34m\u001b[0m\u001b[0;34m\u001b[0m\u001b[0m\n\u001b[1;32m    450\u001b[0m             \u001b[0mfaiss\u001b[0m\u001b[0;34m.\u001b[0m\u001b[0mnormalize_L2\u001b[0m\u001b[0;34m(\u001b[0m\u001b[0membs_query\u001b[0m\u001b[0;34m)\u001b[0m\u001b[0;34m\u001b[0m\u001b[0;34m\u001b[0m\u001b[0m\n\u001b[0;32m--> 451\u001b[0;31m             \u001b[0mdists_and_nearest\u001b[0m\u001b[0;34m.\u001b[0m\u001b[0mappend\u001b[0m\u001b[0;34m(\u001b[0m\u001b[0mlabel_fn_indexes\u001b[0m\u001b[0;34m[\u001b[0m\u001b[0mi\u001b[0m\u001b[0;34m]\u001b[0m\u001b[0;34m.\u001b[0m\u001b[0msearch\u001b[0m\u001b[0;34m(\u001b[0m\u001b[0membs_query\u001b[0m\u001b[0;34m,\u001b[0m \u001b[0;36m1\u001b[0m\u001b[0;34m)\u001b[0m\u001b[0;34m)\u001b[0m\u001b[0;34m\u001b[0m\u001b[0;34m\u001b[0m\u001b[0m\n\u001b[0m\u001b[1;32m    452\u001b[0m \u001b[0;34m\u001b[0m\u001b[0m\n\u001b[1;32m    453\u001b[0m         dists = [\n",
      "\u001b[0;32m~/miniconda3/envs/rubrix/lib/python3.8/site-packages/faiss/__init__.py\u001b[0m in \u001b[0;36mreplacement_search\u001b[0;34m(self, x, k, D, I)\u001b[0m\n\u001b[1;32m    320\u001b[0m             \u001b[0;32massert\u001b[0m \u001b[0mI\u001b[0m\u001b[0;34m.\u001b[0m\u001b[0mshape\u001b[0m \u001b[0;34m==\u001b[0m \u001b[0;34m(\u001b[0m\u001b[0mn\u001b[0m\u001b[0;34m,\u001b[0m \u001b[0mk\u001b[0m\u001b[0;34m)\u001b[0m\u001b[0;34m\u001b[0m\u001b[0;34m\u001b[0m\u001b[0m\n\u001b[1;32m    321\u001b[0m \u001b[0;34m\u001b[0m\u001b[0m\n\u001b[0;32m--> 322\u001b[0;31m         \u001b[0mself\u001b[0m\u001b[0;34m.\u001b[0m\u001b[0msearch_c\u001b[0m\u001b[0;34m(\u001b[0m\u001b[0mn\u001b[0m\u001b[0;34m,\u001b[0m \u001b[0mswig_ptr\u001b[0m\u001b[0;34m(\u001b[0m\u001b[0mx\u001b[0m\u001b[0;34m)\u001b[0m\u001b[0;34m,\u001b[0m \u001b[0mk\u001b[0m\u001b[0;34m,\u001b[0m \u001b[0mswig_ptr\u001b[0m\u001b[0;34m(\u001b[0m\u001b[0mD\u001b[0m\u001b[0;34m)\u001b[0m\u001b[0;34m,\u001b[0m \u001b[0mswig_ptr\u001b[0m\u001b[0;34m(\u001b[0m\u001b[0mI\u001b[0m\u001b[0;34m)\u001b[0m\u001b[0;34m)\u001b[0m\u001b[0;34m\u001b[0m\u001b[0;34m\u001b[0m\u001b[0m\n\u001b[0m\u001b[1;32m    323\u001b[0m         \u001b[0;32mreturn\u001b[0m \u001b[0mD\u001b[0m\u001b[0;34m,\u001b[0m \u001b[0mI\u001b[0m\u001b[0;34m\u001b[0m\u001b[0;34m\u001b[0m\u001b[0m\n\u001b[1;32m    324\u001b[0m \u001b[0;34m\u001b[0m\u001b[0m\n",
      "\u001b[0;32m~/miniconda3/envs/rubrix/lib/python3.8/site-packages/faiss/swigfaiss.py\u001b[0m in \u001b[0;36msearch\u001b[0;34m(self, n, x, k, distances, labels)\u001b[0m\n\u001b[1;32m   1650\u001b[0m \u001b[0;34m\u001b[0m\u001b[0m\n\u001b[1;32m   1651\u001b[0m     \u001b[0;32mdef\u001b[0m \u001b[0msearch\u001b[0m\u001b[0;34m(\u001b[0m\u001b[0mself\u001b[0m\u001b[0;34m,\u001b[0m \u001b[0mn\u001b[0m\u001b[0;34m,\u001b[0m \u001b[0mx\u001b[0m\u001b[0;34m,\u001b[0m \u001b[0mk\u001b[0m\u001b[0;34m,\u001b[0m \u001b[0mdistances\u001b[0m\u001b[0;34m,\u001b[0m \u001b[0mlabels\u001b[0m\u001b[0;34m)\u001b[0m\u001b[0;34m:\u001b[0m\u001b[0;34m\u001b[0m\u001b[0;34m\u001b[0m\u001b[0m\n\u001b[0;32m-> 1652\u001b[0;31m         \u001b[0;32mreturn\u001b[0m \u001b[0m_swigfaiss\u001b[0m\u001b[0;34m.\u001b[0m\u001b[0mIndexFlat_search\u001b[0m\u001b[0;34m(\u001b[0m\u001b[0mself\u001b[0m\u001b[0;34m,\u001b[0m \u001b[0mn\u001b[0m\u001b[0;34m,\u001b[0m \u001b[0mx\u001b[0m\u001b[0;34m,\u001b[0m \u001b[0mk\u001b[0m\u001b[0;34m,\u001b[0m \u001b[0mdistances\u001b[0m\u001b[0;34m,\u001b[0m \u001b[0mlabels\u001b[0m\u001b[0;34m)\u001b[0m\u001b[0;34m\u001b[0m\u001b[0;34m\u001b[0m\u001b[0m\n\u001b[0m\u001b[1;32m   1653\u001b[0m \u001b[0;34m\u001b[0m\u001b[0m\n\u001b[1;32m   1654\u001b[0m     \u001b[0;32mdef\u001b[0m \u001b[0mrange_search\u001b[0m\u001b[0;34m(\u001b[0m\u001b[0mself\u001b[0m\u001b[0;34m,\u001b[0m \u001b[0mn\u001b[0m\u001b[0;34m,\u001b[0m \u001b[0mx\u001b[0m\u001b[0;34m,\u001b[0m \u001b[0mradius\u001b[0m\u001b[0;34m,\u001b[0m \u001b[0mresult\u001b[0m\u001b[0;34m)\u001b[0m\u001b[0;34m:\u001b[0m\u001b[0;34m\u001b[0m\u001b[0;34m\u001b[0m\u001b[0m\n",
      "\u001b[0;31mKeyboardInterrupt\u001b[0m: "
     ]
    }
   ],
   "source": [
    "from rubrix.labeling.text_classification import Snorkel\n",
    "import pandas as pd\n",
    "from sklearn.feature_extraction.text import TfidfTransformer, CountVectorizer\n",
    "from sklearn.naive_bayes import MultinomialNB\n",
    "from sklearn.pipeline import Pipeline\n",
    "\n",
    "def get_accuracy(weak_labels, thresholds):\n",
    "    # define our final classifier\n",
    "    classifier = Pipeline([\n",
    "        ('vect', CountVectorizer()),\n",
    "        ('clf', MultinomialNB())\n",
    "    ])\n",
    "    label_model = Snorkel(weak_labels)\n",
    "    # fit the model\n",
    "    label_model.fit()\n",
    "    # test it with labeled test set\n",
    "    label_model.score()\n",
    "    records = label_model.predict()\n",
    "    # build a simple dataframe with text and the prediction with the highest score\n",
    "    df_train = pd.DataFrame([\n",
    "        {\"text\": record.text, \"label\": label_model.weak_labels.label2int[record.prediction[0][0]]}\n",
    "        for record in records\n",
    "    ])\n",
    "    classifier.fit(\n",
    "        X=df_train.text.tolist(), \n",
    "        y=df_train.label.values\n",
    "    )\n",
    "    # compute the test accuracy\n",
    "    accuracy = classifier.score(\n",
    "        X=df_test.text.tolist(), \n",
    "        y=label_model.weak_labels.annotation()\n",
    "    )\n",
    "    return accuracy\n",
    "\n",
    "import numpy as np\n",
    "search_space = np.linspace(0.1, 1.0, num=10)\n",
    "threshold_dict = {}\n",
    "for i in search_space:\n",
    "    thresholds = [i] * len(rules)\n",
    "    weak_labels = avoid_label_overwrite(weak_labels)\n",
    "    weak_labels.extend_matrix(thresholds, embeddings)\n",
    "    acc = get_accuracy(weak_labels, thresholds)\n",
    "    threshold_dict[i] = acc\n",
    "\n",
    "max_threshold = max(threshold_dict, key=threshold_dict.get)\n",
    "best_thresholds = [max_threshold] * len(rules)\n",
    "\n",
    "for idx, item in enumerate(best_thresholds):\n",
    "    search_space = np.linspace(0.1, 1.0, num=10)\n",
    "    threshold_dict = {}\n",
    "    for i in search_space: \n",
    "        best_thresholds[idx] = i\n",
    "        weak_labels.extend_matrix(best_thresholds, embeddings)\n",
    "        acc = get_accuracy(weak_labels, best_thresholds)\n",
    "        threshold_dict[i] = acc\n",
    "    max_val = max(threshold_dict, key=threshold_dict.get)\n",
    "    best_thresholds[idx] = max_val\n",
    "    print(threshold_dict[max_val], idx, max_val)"
   ]
  },
  {
   "cell_type": "markdown",
   "id": "2bb807b8",
   "metadata": {},
   "source": [
    "## Summary\n",
    "\n",
    "In this tutorial, we saw how you can leverage weak supervision to quickly build up a large training data set, and use it for the training of a first lightweight model.\n",
    "\n",
    "*Rubrix* is a very handy tool to start the weak supervision process by making it easy to find a good set of starting rules, and to reiterate on them dynamically.\n",
    "Since *Rubrix* also provides built-in support for the most common label models, you can get from rules to weak labels in a few straight forward steps.\n",
    "For more suggestions on how to leverage weak labels, you can checkout our [weak supervision guide](../guides/weak-supervision.ipynb) where we describe an [interesting approach](../guides/weak-supervision.ipynb#Joint-Model-with-Weasel) to jointly train the label and a transformers downstream model."
   ]
  },
  {
   "cell_type": "markdown",
   "id": "c39b8ffd-4918-462d-88b5-a6a60f7e9a4b",
   "metadata": {},
   "source": [
    "## Next steps\n",
    "\n",
    "If you are interested in the topic of weak supervision check our [weak supervision guide](../guides/weak-supervision.ipynb).\n",
    "\n",
    "### ⭐ Rubrix [Github repo](https://github.com/recognai/rubrix) to stay updated.\n",
    "\n",
    "### 📚 [Rubrix documentation](https://docs.rubrix.ml) for more guides and tutorials.\n",
    "\n",
    "### 🙋‍♀️ Join the Rubrix community on [Slack](https://bit.ly/3o0Pfyk)"
   ]
  },
  {
   "cell_type": "markdown",
   "id": "2f8a2443-78bb-4540-9eca-7fb5d1a3f62e",
   "metadata": {},
   "source": [
    "## Appendix I: Create rules and weak labels from Python"
   ]
  },
  {
   "cell_type": "markdown",
   "id": "f0fc6a66-5e4b-4c84-b8ea-9f986339fd55",
   "metadata": {},
   "source": [
    "For some use cases, you might want to use Python for defining labeling rules and generating weak labels. Rubrix provides you with the ability to define and test rules and labeling functions directly using Python. This might be useful for combining it with rules defined in the UI, and for leveraging structured resources such as lexicons and gazeteers which are easier to use directly a programmatic environment.\n",
    "\n",
    "In this section, we define the rules we've defined in the UI, this time directly using Python:"
   ]
  },
  {
   "cell_type": "code",
   "execution_count": 77,
   "id": "1d264315-83bf-40e4-895f-44b4b82cae3b",
   "metadata": {},
   "outputs": [],
   "source": [
    "from rubrix.labeling.text_classification import Rule\n",
    "\n",
    "# define queries and patterns for each category (using ES DSL)\n",
    "queries = [\n",
    "  ([\"money\", \"financ*\", \"dollar*\"], \"Business\"),\n",
    "  ([\"war\", \"gov*\", \"minister*\", \"conflict\"], \"World\"),\n",
    "  ([\"footbal*\", \"sport*\", \"game\", \"play*\"], \"Sports\"),\n",
    "  ([\"sci*\", \"techno*\", \"computer*\", \"software\", \"web\"], \"Sci/Tech\")\n",
    "] \n",
    "\n",
    "# define rules\n",
    "rules = [\n",
    "    Rule(query=term, label=label)\n",
    "    for terms,label in queries\n",
    "    for term in terms\n",
    "]"
   ]
  },
  {
   "cell_type": "code",
   "execution_count": 78,
   "id": "338f1453-878b-4679-b95a-d32f9288e711",
   "metadata": {},
   "outputs": [
    {
     "data": {
      "application/vnd.jupyter.widget-view+json": {
       "model_id": "b80216c2640d4e878a744c2d7c3bd1e5",
       "version_major": 2,
       "version_minor": 0
      },
      "text/plain": [
       "Preparing rules:   0%|          | 0/16 [00:00<?, ?it/s]"
      ]
     },
     "metadata": {},
     "output_type": "display_data"
    },
    {
     "data": {
      "application/vnd.jupyter.widget-view+json": {
       "model_id": "7197f694dabc4f069978397fa06b3306",
       "version_major": 2,
       "version_minor": 0
      },
      "text/plain": [
       "Applying rules:   0%|          | 0/127600 [00:00<?, ?it/s]"
      ]
     },
     "metadata": {},
     "output_type": "display_data"
    }
   ],
   "source": [
    "from rubrix.labeling.text_classification import WeakLabels\n",
    "\n",
    "# generate the weak labels \n",
    "weak_labels = WeakLabels(\n",
    "    rules=rules, \n",
    "    dataset=\"news\"\n",
    ")"
   ]
  },
  {
   "cell_type": "markdown",
   "id": "24c86209-291f-46ef-a49e-7c21af7e2d22",
   "metadata": {},
   "source": [
    "On our machine it took around 24 seconds to apply the rules and to generate weak labels for the 127,600 examples.\n",
    "\n",
    "Typically, you want to iterate on the rules and check their statistics. \n",
    "For this, you can use `weak_labels.summary` method:"
   ]
  },
  {
   "cell_type": "code",
   "execution_count": 79,
   "id": "aac6b226-0a90-4bff-a1d3-ba6b38041796",
   "metadata": {},
   "outputs": [
    {
     "data": {
      "text/html": [
       "<div>\n",
       "<style scoped>\n",
       "    .dataframe tbody tr th:only-of-type {\n",
       "        vertical-align: middle;\n",
       "    }\n",
       "\n",
       "    .dataframe tbody tr th {\n",
       "        vertical-align: top;\n",
       "    }\n",
       "\n",
       "    .dataframe thead th {\n",
       "        text-align: right;\n",
       "    }\n",
       "</style>\n",
       "<table border=\"1\" class=\"dataframe\">\n",
       "  <thead>\n",
       "    <tr style=\"text-align: right;\">\n",
       "      <th></th>\n",
       "      <th>label</th>\n",
       "      <th>coverage</th>\n",
       "      <th>annotated_coverage</th>\n",
       "      <th>overlaps</th>\n",
       "      <th>conflicts</th>\n",
       "      <th>correct</th>\n",
       "      <th>incorrect</th>\n",
       "      <th>precision</th>\n",
       "    </tr>\n",
       "  </thead>\n",
       "  <tbody>\n",
       "    <tr>\n",
       "      <th>money</th>\n",
       "      <td>{Business}</td>\n",
       "      <td>0.008276</td>\n",
       "      <td>0.008816</td>\n",
       "      <td>0.002437</td>\n",
       "      <td>0.001936</td>\n",
       "      <td>30</td>\n",
       "      <td>37</td>\n",
       "      <td>0.447761</td>\n",
       "    </tr>\n",
       "    <tr>\n",
       "      <th>financ*</th>\n",
       "      <td>{Business}</td>\n",
       "      <td>0.019655</td>\n",
       "      <td>0.017763</td>\n",
       "      <td>0.005893</td>\n",
       "      <td>0.005188</td>\n",
       "      <td>80</td>\n",
       "      <td>55</td>\n",
       "      <td>0.592593</td>\n",
       "    </tr>\n",
       "    <tr>\n",
       "      <th>dollar*</th>\n",
       "      <td>{Business}</td>\n",
       "      <td>0.016591</td>\n",
       "      <td>0.016316</td>\n",
       "      <td>0.003542</td>\n",
       "      <td>0.002908</td>\n",
       "      <td>87</td>\n",
       "      <td>37</td>\n",
       "      <td>0.701613</td>\n",
       "    </tr>\n",
       "    <tr>\n",
       "      <th>war</th>\n",
       "      <td>{World}</td>\n",
       "      <td>0.011779</td>\n",
       "      <td>0.013289</td>\n",
       "      <td>0.003213</td>\n",
       "      <td>0.001348</td>\n",
       "      <td>75</td>\n",
       "      <td>26</td>\n",
       "      <td>0.742574</td>\n",
       "    </tr>\n",
       "    <tr>\n",
       "      <th>gov*</th>\n",
       "      <td>{World}</td>\n",
       "      <td>0.045078</td>\n",
       "      <td>0.045263</td>\n",
       "      <td>0.010878</td>\n",
       "      <td>0.006270</td>\n",
       "      <td>170</td>\n",
       "      <td>174</td>\n",
       "      <td>0.494186</td>\n",
       "    </tr>\n",
       "    <tr>\n",
       "      <th>minister*</th>\n",
       "      <td>{World}</td>\n",
       "      <td>0.030031</td>\n",
       "      <td>0.028289</td>\n",
       "      <td>0.007531</td>\n",
       "      <td>0.002821</td>\n",
       "      <td>193</td>\n",
       "      <td>22</td>\n",
       "      <td>0.897674</td>\n",
       "    </tr>\n",
       "    <tr>\n",
       "      <th>conflict</th>\n",
       "      <td>{World}</td>\n",
       "      <td>0.003041</td>\n",
       "      <td>0.002895</td>\n",
       "      <td>0.001003</td>\n",
       "      <td>0.000102</td>\n",
       "      <td>18</td>\n",
       "      <td>4</td>\n",
       "      <td>0.818182</td>\n",
       "    </tr>\n",
       "    <tr>\n",
       "      <th>footbal*</th>\n",
       "      <td>{Sports}</td>\n",
       "      <td>0.013166</td>\n",
       "      <td>0.015000</td>\n",
       "      <td>0.004945</td>\n",
       "      <td>0.000439</td>\n",
       "      <td>107</td>\n",
       "      <td>7</td>\n",
       "      <td>0.938596</td>\n",
       "    </tr>\n",
       "    <tr>\n",
       "      <th>sport*</th>\n",
       "      <td>{Sports}</td>\n",
       "      <td>0.021191</td>\n",
       "      <td>0.021316</td>\n",
       "      <td>0.007045</td>\n",
       "      <td>0.001223</td>\n",
       "      <td>139</td>\n",
       "      <td>23</td>\n",
       "      <td>0.858025</td>\n",
       "    </tr>\n",
       "    <tr>\n",
       "      <th>game</th>\n",
       "      <td>{Sports}</td>\n",
       "      <td>0.038879</td>\n",
       "      <td>0.037763</td>\n",
       "      <td>0.014083</td>\n",
       "      <td>0.002375</td>\n",
       "      <td>216</td>\n",
       "      <td>71</td>\n",
       "      <td>0.752613</td>\n",
       "    </tr>\n",
       "    <tr>\n",
       "      <th>play*</th>\n",
       "      <td>{Sports}</td>\n",
       "      <td>0.052453</td>\n",
       "      <td>0.050000</td>\n",
       "      <td>0.016889</td>\n",
       "      <td>0.005063</td>\n",
       "      <td>268</td>\n",
       "      <td>112</td>\n",
       "      <td>0.705263</td>\n",
       "    </tr>\n",
       "    <tr>\n",
       "      <th>sci*</th>\n",
       "      <td>{Sci/Tech}</td>\n",
       "      <td>0.016552</td>\n",
       "      <td>0.018421</td>\n",
       "      <td>0.002735</td>\n",
       "      <td>0.001309</td>\n",
       "      <td>114</td>\n",
       "      <td>26</td>\n",
       "      <td>0.814286</td>\n",
       "    </tr>\n",
       "    <tr>\n",
       "      <th>techno*</th>\n",
       "      <td>{Sci/Tech}</td>\n",
       "      <td>0.027218</td>\n",
       "      <td>0.028289</td>\n",
       "      <td>0.008433</td>\n",
       "      <td>0.003174</td>\n",
       "      <td>155</td>\n",
       "      <td>60</td>\n",
       "      <td>0.720930</td>\n",
       "    </tr>\n",
       "    <tr>\n",
       "      <th>computer*</th>\n",
       "      <td>{Sci/Tech}</td>\n",
       "      <td>0.027320</td>\n",
       "      <td>0.028026</td>\n",
       "      <td>0.011058</td>\n",
       "      <td>0.004459</td>\n",
       "      <td>159</td>\n",
       "      <td>54</td>\n",
       "      <td>0.746479</td>\n",
       "    </tr>\n",
       "    <tr>\n",
       "      <th>software</th>\n",
       "      <td>{Sci/Tech}</td>\n",
       "      <td>0.030243</td>\n",
       "      <td>0.029605</td>\n",
       "      <td>0.009655</td>\n",
       "      <td>0.003346</td>\n",
       "      <td>184</td>\n",
       "      <td>41</td>\n",
       "      <td>0.817778</td>\n",
       "    </tr>\n",
       "    <tr>\n",
       "      <th>web</th>\n",
       "      <td>{Sci/Tech}</td>\n",
       "      <td>0.015376</td>\n",
       "      <td>0.013289</td>\n",
       "      <td>0.004067</td>\n",
       "      <td>0.001607</td>\n",
       "      <td>76</td>\n",
       "      <td>25</td>\n",
       "      <td>0.752475</td>\n",
       "    </tr>\n",
       "    <tr>\n",
       "      <th>total</th>\n",
       "      <td>{Business, Sports, World, Sci/Tech}</td>\n",
       "      <td>0.317022</td>\n",
       "      <td>0.311447</td>\n",
       "      <td>0.053582</td>\n",
       "      <td>0.019561</td>\n",
       "      <td>2071</td>\n",
       "      <td>774</td>\n",
       "      <td>0.727944</td>\n",
       "    </tr>\n",
       "  </tbody>\n",
       "</table>\n",
       "</div>"
      ],
      "text/plain": [
       "                                         label  coverage  annotated_coverage  \\\n",
       "money                               {Business}  0.008276            0.008816   \n",
       "financ*                             {Business}  0.019655            0.017763   \n",
       "dollar*                             {Business}  0.016591            0.016316   \n",
       "war                                    {World}  0.011779            0.013289   \n",
       "gov*                                   {World}  0.045078            0.045263   \n",
       "minister*                              {World}  0.030031            0.028289   \n",
       "conflict                               {World}  0.003041            0.002895   \n",
       "footbal*                              {Sports}  0.013166            0.015000   \n",
       "sport*                                {Sports}  0.021191            0.021316   \n",
       "game                                  {Sports}  0.038879            0.037763   \n",
       "play*                                 {Sports}  0.052453            0.050000   \n",
       "sci*                                {Sci/Tech}  0.016552            0.018421   \n",
       "techno*                             {Sci/Tech}  0.027218            0.028289   \n",
       "computer*                           {Sci/Tech}  0.027320            0.028026   \n",
       "software                            {Sci/Tech}  0.030243            0.029605   \n",
       "web                                 {Sci/Tech}  0.015376            0.013289   \n",
       "total      {Business, Sports, World, Sci/Tech}  0.317022            0.311447   \n",
       "\n",
       "           overlaps  conflicts  correct  incorrect  precision  \n",
       "money      0.002437   0.001936       30         37   0.447761  \n",
       "financ*    0.005893   0.005188       80         55   0.592593  \n",
       "dollar*    0.003542   0.002908       87         37   0.701613  \n",
       "war        0.003213   0.001348       75         26   0.742574  \n",
       "gov*       0.010878   0.006270      170        174   0.494186  \n",
       "minister*  0.007531   0.002821      193         22   0.897674  \n",
       "conflict   0.001003   0.000102       18          4   0.818182  \n",
       "footbal*   0.004945   0.000439      107          7   0.938596  \n",
       "sport*     0.007045   0.001223      139         23   0.858025  \n",
       "game       0.014083   0.002375      216         71   0.752613  \n",
       "play*      0.016889   0.005063      268        112   0.705263  \n",
       "sci*       0.002735   0.001309      114         26   0.814286  \n",
       "techno*    0.008433   0.003174      155         60   0.720930  \n",
       "computer*  0.011058   0.004459      159         54   0.746479  \n",
       "software   0.009655   0.003346      184         41   0.817778  \n",
       "web        0.004067   0.001607       76         25   0.752475  \n",
       "total      0.053582   0.019561     2071        774   0.727944  "
      ]
     },
     "execution_count": 79,
     "metadata": {},
     "output_type": "execute_result"
    }
   ],
   "source": [
    "weak_labels.summary()"
   ]
  },
  {
   "cell_type": "markdown",
   "id": "9703cf38-1d0a-4d56-9511-a0534d5b360a",
   "metadata": {},
   "source": [
    "From the above, we see that our rules cover around **30% of the original training set** with an **average precision of 0.72**. Our hope is that the label and downstream models will improve both the recall and the precision of the final classifier."
   ]
  },
  {
   "cell_type": "markdown",
   "id": "afacb08d",
   "metadata": {},
   "source": [
    "## Appendix II: Log datasets to the Hugging Face Hub\n",
    "\n",
    "Here we will show you an example of how you can push a Rubrix dataset (records) to the [Hugging Face Hub](https://huggingface.co/datasets).\n",
    "In this way you can effectively version any of your Rubrix datasets."
   ]
  },
  {
   "cell_type": "code",
   "execution_count": null,
   "id": "7ff6fff3",
   "metadata": {},
   "outputs": [],
   "source": [
    "records = rb.load(\"news\", as_pandas=False)\n",
    "records.to_datasets().push_to_hub(\"<name of the dataset on the HF Hub>\")"
   ]
  }
 ],
 "metadata": {
  "kernelspec": {
   "display_name": "rubrix",
   "language": "python",
   "name": "rubrix"
  },
  "language_info": {
   "codemirror_mode": {
    "name": "ipython",
    "version": 3
   },
   "file_extension": ".py",
   "mimetype": "text/x-python",
   "name": "python",
   "nbconvert_exporter": "python",
   "pygments_lexer": "ipython3",
   "version": "3.8.13"
  }
 },
 "nbformat": 4,
 "nbformat_minor": 5
}
