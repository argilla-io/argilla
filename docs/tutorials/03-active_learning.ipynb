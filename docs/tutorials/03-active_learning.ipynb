{
 "cells": [
  {
   "cell_type": "markdown",
   "id": "industrial-ecuador",
   "metadata": {},
   "source": [
    "# 🤔 Using Rubrix for active learning with ModAL and scikit-learn.\n",
    "\n",
    "In this tutorial, we will walk through the process of building an active learning prototype with Rubrix, the active learning framework [ModAL](https://modal-python.github.io/) and [scikit-learn](https://scikit-learn.org/)\n",
    "\n",
    "## Introduction\n",
    "\n",
    "**Our goal is to show you how to incorporate Rubrix into interactive workflows involving a human in the loop**. This is only a proof of concept for educational purposes and to inspire you with some ideas involving interactive learning processes. There are several great tools which focus on active learning, being [Prodi.gy](https://prodi.gy/) the most prominent.\n",
    "\n",
    "### What is active learning?\n",
    "\n",
    "[briefly describe]\n",
    "\n",
    "### This tutorial\n",
    "\n",
    "In this tutorial, we will build a simple text classifier by combining Rubrix, ModAL and scikit-learn."
   ]
  },
  {
   "cell_type": "markdown",
   "id": "crude-spotlight",
   "metadata": {},
   "source": [
    "The tutorial is organized into:\n",
    "\n",
    "1. **...**: \n",
    "\n",
    "2. **...**"
   ]
  },
  {
   "cell_type": "markdown",
   "id": "sophisticated-customs",
   "metadata": {},
   "source": [
    "## Install ModAL and scikit-learn"
   ]
  },
  {
   "cell_type": "code",
   "execution_count": 15,
   "id": "supposed-sharp",
   "metadata": {},
   "outputs": [],
   "source": [
    "!pip install pandas modAL scikit-learn matplotlib -qqq"
   ]
  },
  {
   "cell_type": "markdown",
   "id": "great-thomson",
   "metadata": {},
   "source": [
    "## Setup Rubrix\n",
    "\n",
    "[here we should point the user to the install and setup guide]\n",
    "\n",
    "By default, rubrix will make a local initialization (as shown in the setup guide). If you want to specify an API url and key, you can pass that information via two environment variables: **RUBRIX_API_KEY** and **RUBRIX_API_URL**."
   ]
  },
  {
   "cell_type": "markdown",
   "id": "3aee1fe8-564f-43fb-8a02-caa796dfbcd0",
   "metadata": {},
   "source": [
    "## Imports "
   ]
  },
  {
   "cell_type": "code",
   "execution_count": 1,
   "id": "canadian-mumbai",
   "metadata": {},
   "outputs": [],
   "source": [
    "import rubrix as rb\n",
    "from sklearn.feature_extraction.text import CountVectorizer\n",
    "from sklearn.naive_bayes import MultinomialNB\n",
    "from sklearn.exceptions import NotFittedError\n",
    "from modAL.models import ActiveLearner\n",
    "import matplotlib.pyplot as plt"
   ]
  },
  {
   "cell_type": "markdown",
   "id": "northern-beast",
   "metadata": {},
   "source": [
    "## 1. Loading and preparing data\n",
    "\n",
    "Rubrix allows you to log and track data for different NLP tasks (such as `Token Classification` or `Text Classification`). \n",
    "\n",
    "In this tutorial, we will use the [YouTube Spam Collection](http://www.dt.fee.unicamp.br/~tiago//youtubespamcollection/) dataset which is a binary classification task for detecting spam comments in youtube videos.\n",
    "\n",
    "Let's load it in Pandas and take a look!"
   ]
  },
  {
   "cell_type": "code",
   "execution_count": 11,
   "id": "16923e1d-5883-4c56-b5a8-c36eb197d27c",
   "metadata": {},
   "outputs": [],
   "source": [
    "import pandas as pd\n",
    "from urllib import request\n",
    "from sklearn.model_selection import train_test_split\n",
    "from pathlib import Path\n",
    "from tempfile import TemporaryDirectory\n",
    "\n",
    "\n",
    "def load_data() -> pd.DataFrame:\n",
    "    links, data_df = [\n",
    "        \"http://lasid.sor.ufscar.br/labeling/datasets/9/download/\",\n",
    "        \"http://lasid.sor.ufscar.br/labeling/datasets/10/download/\",\n",
    "        \"http://lasid.sor.ufscar.br/labeling/datasets/11/download/\",\n",
    "        \"http://lasid.sor.ufscar.br/labeling/datasets/12/download/\",\n",
    "        \"http://lasid.sor.ufscar.br/labeling/datasets/13/download/\",\n",
    "    ], None\n",
    "    \n",
    "    with TemporaryDirectory() as tmpdirname:\n",
    "        dfs = []\n",
    "        for i, link in enumerate(links):\n",
    "            file = Path(tmpdirname) / f\"{i}.csv\"\n",
    "            request.urlretrieve(link, file)\n",
    "            df = pd.read_csv(file)\n",
    "            df[\"VIDEO\"] = i\n",
    "            dfs.append(df)\n",
    "        data_df = pd.concat(dfs).reset_index(drop=True)\n",
    "        \n",
    "    train_df, test_df = train_test_split(data_df, test_size=0.2, random_state=42)\n",
    "    \n",
    "    return train_df, test_df"
   ]
  },
  {
   "cell_type": "code",
   "execution_count": 84,
   "id": "d17c71ad-7f06-4658-9473-dbc47eeb2b73",
   "metadata": {},
   "outputs": [],
   "source": [
    "train_df, test_df = load_data()"
   ]
  },
  {
   "cell_type": "code",
   "execution_count": 86,
   "id": "f3721cb7-b052-4dc5-a006-dd8a47290dd4",
   "metadata": {},
   "outputs": [
    {
     "data": {
      "text/html": [
       "<div>\n",
       "<style scoped>\n",
       "    .dataframe tbody tr th:only-of-type {\n",
       "        vertical-align: middle;\n",
       "    }\n",
       "\n",
       "    .dataframe tbody tr th {\n",
       "        vertical-align: top;\n",
       "    }\n",
       "\n",
       "    .dataframe thead th {\n",
       "        text-align: right;\n",
       "    }\n",
       "</style>\n",
       "<table border=\"1\" class=\"dataframe\">\n",
       "  <thead>\n",
       "    <tr style=\"text-align: right;\">\n",
       "      <th></th>\n",
       "      <th>COMMENT_ID</th>\n",
       "      <th>AUTHOR</th>\n",
       "      <th>DATE</th>\n",
       "      <th>CONTENT</th>\n",
       "      <th>CLASS</th>\n",
       "      <th>VIDEO</th>\n",
       "    </tr>\n",
       "  </thead>\n",
       "  <tbody>\n",
       "    <tr>\n",
       "      <th>836</th>\n",
       "      <td>z12sub0pnwzlgnz0r23pwvaqtuveyxr1z</td>\n",
       "      <td>Blaze Blaziken</td>\n",
       "      <td>2015-05-20T03:50:29.098000</td>\n",
       "      <td>you cant stop the shuffle﻿</td>\n",
       "      <td>0</td>\n",
       "      <td>2</td>\n",
       "    </tr>\n",
       "    <tr>\n",
       "      <th>1688</th>\n",
       "      <td>z12jdvqjrquct3bdj22yizigauehxj4ew</td>\n",
       "      <td>Lucia Scarlet</td>\n",
       "      <td>2015-05-22T11:56:53.104000</td>\n",
       "      <td>Amazing song﻿</td>\n",
       "      <td>0</td>\n",
       "      <td>4</td>\n",
       "    </tr>\n",
       "    <tr>\n",
       "      <th>1505</th>\n",
       "      <td>z12rdtlarmrzxhuba04cibjomsiqi3ij00g</td>\n",
       "      <td>Paul Buxton</td>\n",
       "      <td>2015-05-21T11:12:22.066000</td>\n",
       "      <td>Omg! This guy sounds like an american professo...</td>\n",
       "      <td>0</td>\n",
       "      <td>3</td>\n",
       "    </tr>\n",
       "    <tr>\n",
       "      <th>1650</th>\n",
       "      <td>z13it35hwti1uf0ea22ju5dxoyqiubdso</td>\n",
       "      <td>Tierra Carbon</td>\n",
       "      <td>2015-05-24T14:21:54.411000</td>\n",
       "      <td>It was  cool   the best   song ever  ﻿</td>\n",
       "      <td>0</td>\n",
       "      <td>4</td>\n",
       "    </tr>\n",
       "    <tr>\n",
       "      <th>1573</th>\n",
       "      <td>LneaDw26bFvJWycbUHAiKy7i7L14RqXWenvvcJhwbQE</td>\n",
       "      <td>David Bottenberg</td>\n",
       "      <td>NaN</td>\n",
       "      <td>subscribe to my channel  /watch?v=NxK32i0HkDs</td>\n",
       "      <td>1</td>\n",
       "      <td>3</td>\n",
       "    </tr>\n",
       "    <tr>\n",
       "      <th>...</th>\n",
       "      <td>...</td>\n",
       "      <td>...</td>\n",
       "      <td>...</td>\n",
       "      <td>...</td>\n",
       "      <td>...</td>\n",
       "      <td>...</td>\n",
       "    </tr>\n",
       "    <tr>\n",
       "      <th>1130</th>\n",
       "      <td>z121szzyozr4vpqqc04cdn5g4zjhutdosdw</td>\n",
       "      <td>ItsJoey Dash</td>\n",
       "      <td>2014-07-22T10:04:05.755000</td>\n",
       "      <td>EVERYONE PLEASE SUBSCRIBE TO MY CHANNEL OR CAN...</td>\n",
       "      <td>1</td>\n",
       "      <td>2</td>\n",
       "    </tr>\n",
       "    <tr>\n",
       "      <th>1294</th>\n",
       "      <td>LneaDw26bFvtmJorLbUQjuqmpL7TdjOKPGJT_DGUUJ4</td>\n",
       "      <td>louis canellony</td>\n",
       "      <td>NaN</td>\n",
       "      <td>watch youtube video &amp;quot;EMINEM -YTMA artist ...</td>\n",
       "      <td>1</td>\n",
       "      <td>3</td>\n",
       "    </tr>\n",
       "    <tr>\n",
       "      <th>860</th>\n",
       "      <td>z13cfr5o3mnyez4ju04ce3whmvflg1fifl00k</td>\n",
       "      <td>vieshva .d.exodous</td>\n",
       "      <td>2015-05-18T08:38:34.236000</td>\n",
       "      <td>Awesome﻿</td>\n",
       "      <td>0</td>\n",
       "      <td>2</td>\n",
       "    </tr>\n",
       "    <tr>\n",
       "      <th>1459</th>\n",
       "      <td>z12rhdkrvvy3hd42c23whdeavkjdxnimg</td>\n",
       "      <td>viviane trinh</td>\n",
       "      <td>2015-05-21T22:35:35.753000</td>\n",
       "      <td>i like the lyrics but not to music video﻿</td>\n",
       "      <td>0</td>\n",
       "      <td>3</td>\n",
       "    </tr>\n",
       "    <tr>\n",
       "      <th>1126</th>\n",
       "      <td>z12uzjtpanvdhjmtr23asxgyiyjezjxe5</td>\n",
       "      <td>Juan Martinez</td>\n",
       "      <td>2014-07-22T13:22:54.111000</td>\n",
       "      <td>I learned the shuffle because of them﻿</td>\n",
       "      <td>0</td>\n",
       "      <td>2</td>\n",
       "    </tr>\n",
       "  </tbody>\n",
       "</table>\n",
       "<p>1564 rows × 6 columns</p>\n",
       "</div>"
      ],
      "text/plain": [
       "                                       COMMENT_ID              AUTHOR  \\\n",
       "836             z12sub0pnwzlgnz0r23pwvaqtuveyxr1z      Blaze Blaziken   \n",
       "1688            z12jdvqjrquct3bdj22yizigauehxj4ew       Lucia Scarlet   \n",
       "1505          z12rdtlarmrzxhuba04cibjomsiqi3ij00g         Paul Buxton   \n",
       "1650            z13it35hwti1uf0ea22ju5dxoyqiubdso       Tierra Carbon   \n",
       "1573  LneaDw26bFvJWycbUHAiKy7i7L14RqXWenvvcJhwbQE    David Bottenberg   \n",
       "...                                           ...                 ...   \n",
       "1130          z121szzyozr4vpqqc04cdn5g4zjhutdosdw        ItsJoey Dash   \n",
       "1294  LneaDw26bFvtmJorLbUQjuqmpL7TdjOKPGJT_DGUUJ4     louis canellony   \n",
       "860         z13cfr5o3mnyez4ju04ce3whmvflg1fifl00k  vieshva .d.exodous   \n",
       "1459            z12rhdkrvvy3hd42c23whdeavkjdxnimg       viviane trinh   \n",
       "1126            z12uzjtpanvdhjmtr23asxgyiyjezjxe5       Juan Martinez   \n",
       "\n",
       "                            DATE  \\\n",
       "836   2015-05-20T03:50:29.098000   \n",
       "1688  2015-05-22T11:56:53.104000   \n",
       "1505  2015-05-21T11:12:22.066000   \n",
       "1650  2015-05-24T14:21:54.411000   \n",
       "1573                         NaN   \n",
       "...                          ...   \n",
       "1130  2014-07-22T10:04:05.755000   \n",
       "1294                         NaN   \n",
       "860   2015-05-18T08:38:34.236000   \n",
       "1459  2015-05-21T22:35:35.753000   \n",
       "1126  2014-07-22T13:22:54.111000   \n",
       "\n",
       "                                                CONTENT  CLASS  VIDEO  \n",
       "836                          you cant stop the shuffle﻿      0      2  \n",
       "1688                                      Amazing song﻿      0      4  \n",
       "1505  Omg! This guy sounds like an american professo...      0      3  \n",
       "1650             It was  cool   the best   song ever  ﻿      0      4  \n",
       "1573      subscribe to my channel  /watch?v=NxK32i0HkDs      1      3  \n",
       "...                                                 ...    ...    ...  \n",
       "1130  EVERYONE PLEASE SUBSCRIBE TO MY CHANNEL OR CAN...      1      2  \n",
       "1294  watch youtube video &quot;EMINEM -YTMA artist ...      1      3  \n",
       "860                                            Awesome﻿      0      2  \n",
       "1459          i like the lyrics but not to music video﻿      0      3  \n",
       "1126             I learned the shuffle because of them﻿      0      2  \n",
       "\n",
       "[1564 rows x 6 columns]"
      ]
     },
     "execution_count": 86,
     "metadata": {},
     "output_type": "execute_result"
    }
   ],
   "source": [
    "train_df"
   ]
  },
  {
   "cell_type": "markdown",
   "id": "6a5bfa0a-6217-40ee-b752-599fa9797930",
   "metadata": {},
   "source": [
    "# Make NGRAMs"
   ]
  },
  {
   "cell_type": "markdown",
   "id": "6b33c9f8-8b82-4b47-b4f0-82d882aeddf3",
   "metadata": {},
   "source": [
    "*TODO: A short explanation of CountVectorizer and what we are doing here*"
   ]
  },
  {
   "cell_type": "code",
   "execution_count": 87,
   "id": "c31d3512-a650-4a84-bbb0-1ea96b670397",
   "metadata": {},
   "outputs": [],
   "source": [
    "vectorizer = CountVectorizer(ngram_range=(1, 5))\n",
    "\n",
    "X_train = vectorizer.fit_transform(train_df.CONTENT)\n",
    "X_test = vectorizer.transform(test_df.CONTENT)"
   ]
  },
  {
   "cell_type": "markdown",
   "id": "aggregate-sheep",
   "metadata": {},
   "source": [
    "# 2. Defining our classifier and Active Learner"
   ]
  },
  {
   "cell_type": "code",
   "execution_count": 88,
   "id": "8c566ae1-57b6-4aae-9434-66fc5291c07e",
   "metadata": {},
   "outputs": [],
   "source": [
    "# Define our classification model\n",
    "\n",
    "classifier = MultinomialNB()\n",
    "\n",
    "# Acutally the LogisticRegression model works slightly better\n",
    "#from sklearn.linear_model import LogisticRegression\n",
    "#classifier = LogisticRegression(C=1e3, solver=\"liblinear\")"
   ]
  },
  {
   "cell_type": "code",
   "execution_count": 89,
   "id": "185b3d72-86e3-4bf5-814f-1208bad460d4",
   "metadata": {},
   "outputs": [],
   "source": [
    "# # This is the maximum value we can score: 0.9235\n",
    "# classifier.fit(X=X_train, y=train_df.CLASS)\n",
    "# classifier.score(X=X_test, y=test_df.CLASS)"
   ]
  },
  {
   "cell_type": "code",
   "execution_count": 90,
   "id": "forward-pioneer",
   "metadata": {},
   "outputs": [],
   "source": [
    "# Define active learner\n",
    "\n",
    "learner = ActiveLearner(\n",
    "    estimator=classifier,\n",
    ")"
   ]
  },
  {
   "cell_type": "markdown",
   "id": "ca0956c1-ee64-461c-8ee6-872270b019ba",
   "metadata": {},
   "source": [
    "## 3. Active Learning loop"
   ]
  },
  {
   "cell_type": "markdown",
   "id": "6e251118-6e38-496a-9c4d-d49f9fa67995",
   "metadata": {},
   "source": [
    "Active learning consists of several iteration steps:\n",
    "1. Annotate samples\n",
    "2. Teach the active learner"
   ]
  },
  {
   "cell_type": "code",
   "execution_count": 133,
   "id": "c077443e-9746-46ab-9534-e8da0f7903b9",
   "metadata": {},
   "outputs": [],
   "source": [
    "# Number of instances we want to annotate per iteration\n",
    "n_instances = 10\n",
    "\n",
    "# Accuracies after each iteration to keep track of our improvement\n",
    "accuracies = []"
   ]
  },
  {
   "cell_type": "markdown",
   "id": "a69441bf-0347-4265-85c9-f6d87d37423f",
   "metadata": {},
   "source": [
    "### 1. Annotate samples"
   ]
  },
  {
   "cell_type": "code",
   "execution_count": null,
   "id": "c9f752ee-7de0-4835-a42e-669941baf739",
   "metadata": {},
   "outputs": [],
   "source": [
    "# query examples from our training pool with the most uncertain prediction\n",
    "query_idx, query_inst = learner.query(X_train, n_instances=n_instances)\n",
    "\n",
    "# get predictions for the queried examples\n",
    "try:\n",
    "    probs = learner.predict_proba(X_train[query_idx])\n",
    "# For the very first query we do not have any predictions\n",
    "except NotFittedError:\n",
    "    probs = [[0.5, 0.5]]*n_instances\n",
    "\n",
    "# Build the Rubrix records\n",
    "records = [\n",
    "    rb.TextClassificationRecord(\n",
    "        id=idx,\n",
    "        inputs={\"text\": train_df.CONTENT.iloc[idx]},\n",
    "        prediction=list(zip([\"HAM\", \"SPAM\"], [0.5, 0.5])),\n",
    "        prediction_agent=\"MultinomialNB\",\n",
    "    )\n",
    "    for idx in query_idx\n",
    "]\n",
    "\n",
    "# Log the records\n",
    "rb.log(records, name=\"active_learning_tutorial\")"
   ]
  },
  {
   "cell_type": "markdown",
   "id": "162bad01-9d3d-4878-ab3e-cb3019ded296",
   "metadata": {},
   "source": [
    "### 2. Teach the learner"
   ]
  },
  {
   "cell_type": "code",
   "execution_count": null,
   "id": "c4b031e2-626d-40ec-ac0e-f53a722a7bc2",
   "metadata": {},
   "outputs": [],
   "source": [
    "# Load the annotated records into a pandas DataFrame\n",
    "records_df = rb.load(\"active_learning_tutorial\")\n",
    "\n",
    "# filter examples from the last annotation session\n",
    "idx = df.id.isin(query_idx)\n",
    "\n",
    "# check if all examples were annotated\n",
    "if any(df[idx].annotation.isna()):\n",
    "    print(\"ERROR: Please annotate first all your samples before teaching the model\")\n",
    "# train the classifier with the newly annotated examples\n",
    "else:\n",
    "    y_train = df[idx].annotation.map(lambda x: int(x[0] == \"SPAM\"))\n",
    "    learner.teach(X=X_train[query_idx], y=y_train.to_list())\n",
    "    \n",
    "# Keep track of our improvement\n",
    "accuracies.append(learner.score(X=X_test, y=test_df.CLASS))"
   ]
  },
  {
   "cell_type": "markdown",
   "id": "a83e109c-887e-44e6-89ac-3f78bf28680f",
   "metadata": {},
   "source": [
    "### Plot our improvement"
   ]
  },
  {
   "cell_type": "code",
   "execution_count": 152,
   "id": "0b9da82f-a7ec-4fdc-8948-fee1b060d5b1",
   "metadata": {},
   "outputs": [
    {
     "data": {
      "text/plain": [
       "Text(0, 0.5, 'Accuracy')"
      ]
     },
     "execution_count": 152,
     "metadata": {},
     "output_type": "execute_result"
    },
    {
     "data": {
      "image/png": "[encoded data removed]",
      "text/plain": [
       "<Figure size 432x288 with 1 Axes>"
      ]
     },
     "metadata": {
      "needs_background": "light"
     },
     "output_type": "display_data"
    }
   ],
   "source": [
    "plt.plot(accuracies)\n",
    "plt.xlabel(\"Number of iterations\")\n",
    "plt.ylabel(\"Accuracy\")"
   ]
  },
  {
   "cell_type": "markdown",
   "id": "2e670760-97ec-43bc-a140-a4d84705f45a",
   "metadata": {},
   "source": [
    "## Appendix: Compare query strategies, random vs max uncertainty"
   ]
  },
  {
   "cell_type": "code",
   "execution_count": 129,
   "id": "bd7c94df-4431-4f14-b9db-e1aac359592d",
   "metadata": {},
   "outputs": [],
   "source": [
    "n_iterations = 150\n",
    "n_instances = 10\n",
    "random_samples = 50\n",
    "\n",
    "\n",
    "# max uncertainty strategy\n",
    "accuracies_max = []\n",
    "for i in range(random_samples):\n",
    "    train_rnd_df = train_df.sample(frac=1)\n",
    "    test_rnd_df = test_df.sample(frac=1)\n",
    "    X_rnd_train = vectorizer.transform(train_rnd_df.CONTENT)\n",
    "    X_rnd_test = vectorizer.transform(test_rnd_df.CONTENT)\n",
    "    \n",
    "    accuracies, learner = [], ActiveLearner(estimator=MultinomialNB())\n",
    "\n",
    "    for i in range(n_iterations):\n",
    "        query_idx, _ = learner.query(X_rnd_train, n_instances=n_instances)\n",
    "        learner.teach(X=X_rnd_train[query_idx], y=train_rnd_df.CLASS.iloc[query_idx].to_list())\n",
    "        accuracies.append(learner.score(X=X_rnd_test, y=test_rnd_df.CLASS))\n",
    "    accuracies_max.append(accuracies)\n",
    "\n",
    "# random strategy\n",
    "accuracies_rnd = []\n",
    "for i in range(random_samples):\n",
    "    accuracies, learner = [], ActiveLearner(estimator=MultinomialNB())\n",
    "    \n",
    "    for random_idx in np.random.choice(X_train.shape[0], size=(n_iterations, n_instances), replace=False):    \n",
    "        learner.teach(X=X_train[random_idx], y=train_df.CLASS.iloc[random_idx].to_list())\n",
    "        accuracies.append(learner.score(X=X_test, y=test_df.CLASS))\n",
    "    accuracies_rnd.append(accuracies)\n",
    "    \n",
    "arr_max, arr_rnd = np.array(accuracies_max), np.array(accuracies_rnd)"
   ]
  },
  {
   "cell_type": "code",
   "execution_count": 141,
   "id": "f314b8b9-c0a4-41ce-8510-dd32d3046093",
   "metadata": {},
   "outputs": [
    {
     "data": {
      "text/plain": [
       "<matplotlib.legend.Legend at 0x7fa38aaaab20>"
      ]
     },
     "execution_count": 141,
     "metadata": {},
     "output_type": "execute_result"
    },
    {
     "data": {
      "image/png": "[encoded data removed]",
      "text/plain": [
       "<Figure size 432x288 with 1 Axes>"
      ]
     },
     "metadata": {
      "needs_background": "light"
     },
     "output_type": "display_data"
    }
   ],
   "source": [
    "plt.plot(range(n_iterations), arr_max.mean(0))\n",
    "plt.fill_between(range(n_iterations), arr_max.mean(0)-arr_max.std(0), arr_max.mean(0)+arr_max.std(0), alpha=0.2)\n",
    "plt.plot(range(n_iterations), arr_rnd.mean(0))\n",
    "plt.fill_between(range(n_iterations), arr_rnd.mean(0)-arr_rnd.std(0), arr_rnd.mean(0)+arr_rnd.std(0), alpha=0.2)\n",
    "      \n",
    "plt.xlim(0,15)\n",
    "plt.title(\"Sampling strategies: Max uncertainty vs random\")\n",
    "plt.xlabel(\"Number of annotation iterations\")\n",
    "plt.ylabel(\"Accuracy\")\n",
    "plt.legend([\"max uncertainty\", \"random sampling\"], loc=4)"
   ]
  },
  {
   "cell_type": "markdown",
   "id": "2404b57b-21d4-46bc-90ad-fbb254122c70",
   "metadata": {},
   "source": [
    "## Summary"
   ]
  },
  {
   "cell_type": "markdown",
   "id": "dutch-turner",
   "metadata": {},
   "source": [
    "## Next steps"
   ]
  }
 ],
 "metadata": {
  "kernelspec": {
   "display_name": "Python 3",
   "language": "python",
   "name": "python3"
  },
  "language_info": {
   "codemirror_mode": {
    "name": "ipython",
    "version": 3
   },
   "file_extension": ".py",
   "mimetype": "text/x-python",
   "name": "python",
   "nbconvert_exporter": "python",
   "pygments_lexer": "ipython3",
   "version": "3.8.8"
  }
 },
 "nbformat": 4,
 "nbformat_minor": 5
}
