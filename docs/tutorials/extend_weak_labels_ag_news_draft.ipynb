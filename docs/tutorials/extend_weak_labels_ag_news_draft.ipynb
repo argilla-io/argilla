{
 "cells": [
  {
   "cell_type": "markdown",
   "id": "81387ac4-60ea-45c3-a097-58f5161705db",
   "metadata": {
    "tags": []
   },
   "source": [
    "# Upload data"
   ]
  },
  {
   "cell_type": "code",
   "execution_count": null,
   "id": "409fed0a-e0d7-440c-ab3b-2b1f0dede69a",
   "metadata": {},
   "outputs": [],
   "source": [
    "from datasets import load_dataset\n",
    "\n",
    "agnews = load_dataset(\"ag_news\")"
   ]
  },
  {
   "cell_type": "code",
   "execution_count": null,
   "id": "eefa53b5-b7a5-4831-9872-56cc9eeff9d2",
   "metadata": {},
   "outputs": [],
   "source": [
    "# We need the test set for a fair comparison, we basically take the valid split to optimize the thresholds\n",
    "agnews_train, agnews_valid = agnews[\"train\"].train_test_split(test_size=7600, seed=43).values()"
   ]
  },
  {
   "cell_type": "code",
   "execution_count": null,
   "id": "9fed84cc-6c4a-4aa4-b3c3-e17817e0726f",
   "metadata": {},
   "outputs": [],
   "source": [
    "import rubrix as rb\n",
    "\n",
    "# build our validation records\n",
    "records = [\n",
    "    rb.TextClassificationRecord(\n",
    "        text=record[\"text\"],\n",
    "        metadata={\"split\": \"labelled\"},\n",
    "        annotation=agnews_valid.features[\"label\"].int2str(record[\"label\"])\n",
    "    )\n",
    "    for record in agnews_valid\n",
    "]\n",
    "\n",
    "# build our training records without labels\n",
    "records += [\n",
    "    rb.TextClassificationRecord(\n",
    "        text=record[\"text\"],\n",
    "        metadata={\"split\": \"unlabelled\"},\n",
    "    )\n",
    "    for record in agnews_train\n",
    "]\n",
    "\n",
    "# log the records to Rubrix\n",
    "rb.log(records, name=\"news2\")"
   ]
  },
  {
   "cell_type": "markdown",
   "id": "707a3600-cd4c-47b6-9376-42fbc92082cf",
   "metadata": {
    "tags": []
   },
   "source": [
    "# Create weak labels"
   ]
  },
  {
   "cell_type": "code",
   "execution_count": 2,
   "id": "8f33bed9-4eaf-48f5-ac19-4c6558e8ce95",
   "metadata": {},
   "outputs": [],
   "source": [
    "from rubrix.labeling.text_classification import Rule\n",
    "\n",
    "# define queries and patterns for each category (using ES DSL)\n",
    "queries = [\n",
    "  ([\"money\", \"financ*\", \"dollar*\"], \"Business\"),\n",
    "  ([\"war\", \"gov*\", \"minister*\", \"conflict\"], \"World\"),\n",
    "  ([\"footbal*\", \"sport*\", \"game\", \"play*\"], \"Sports\"),\n",
    "  ([\"sci*\", \"techno*\", \"computer*\", \"software\", \"web\"], \"Sci/Tech\")\n",
    "] \n",
    "\n",
    "# define rules\n",
    "rules = [\n",
    "    Rule(query=term, label=label)\n",
    "    for terms,label in queries\n",
    "    for term in terms\n",
    "]"
   ]
  },
  {
   "cell_type": "code",
   "execution_count": 3,
   "id": "6f3a7e04-f834-4622-a13b-0978cb645174",
   "metadata": {},
   "outputs": [
    {
     "name": "stderr",
     "output_type": "stream",
     "text": [
      "2022-05-09 10:04:17.098 | WARNING  | rubrix.client.api:load:375 - The argument 'as_pandas' in `rb.load` will be deprecated in the future, and we will always return a `Dataset`. To emulate the future behavior set `as_pandas=False`. To get a pandas DataFrame, call `Dataset.to_pandas()`\n"
     ]
    },
    {
     "data": {
      "application/vnd.jupyter.widget-view+json": {
       "model_id": "99590eba39c94a51966060dafb370fc8",
       "version_major": 2,
       "version_minor": 0
      },
      "text/plain": [
       "Preparing rules:   0%|          | 0/16 [00:00<?, ?it/s]"
      ]
     },
     "metadata": {},
     "output_type": "display_data"
    },
    {
     "data": {
      "application/vnd.jupyter.widget-view+json": {
       "model_id": "82e0848e9118472e9692d622e55b9333",
       "version_major": 2,
       "version_minor": 0
      },
      "text/plain": [
       "Applying rules:   0%|          | 0/120000 [00:00<?, ?it/s]"
      ]
     },
     "metadata": {},
     "output_type": "display_data"
    }
   ],
   "source": [
    "from rubrix.labeling.text_classification import WeakLabels\n",
    "\n",
    "# generate the weak labels \n",
    "weak_labels = WeakLabels(\n",
    "    rules=rules, \n",
    "    dataset=\"news2\"\n",
    ")"
   ]
  },
  {
   "cell_type": "code",
   "execution_count": 4,
   "id": "f59d1194-e726-4583-bd4d-39fea5c45d28",
   "metadata": {},
   "outputs": [
    {
     "data": {
      "text/html": [
       "<div>\n",
       "<style scoped>\n",
       "    .dataframe tbody tr th:only-of-type {\n",
       "        vertical-align: middle;\n",
       "    }\n",
       "\n",
       "    .dataframe tbody tr th {\n",
       "        vertical-align: top;\n",
       "    }\n",
       "\n",
       "    .dataframe thead th {\n",
       "        text-align: right;\n",
       "    }\n",
       "</style>\n",
       "<table border=\"1\" class=\"dataframe\">\n",
       "  <thead>\n",
       "    <tr style=\"text-align: right;\">\n",
       "      <th></th>\n",
       "      <th>label</th>\n",
       "      <th>coverage</th>\n",
       "      <th>annotated_coverage</th>\n",
       "      <th>overlaps</th>\n",
       "      <th>conflicts</th>\n",
       "      <th>correct</th>\n",
       "      <th>incorrect</th>\n",
       "      <th>precision</th>\n",
       "    </tr>\n",
       "  </thead>\n",
       "  <tbody>\n",
       "    <tr>\n",
       "      <th>money</th>\n",
       "      <td>{Business}</td>\n",
       "      <td>0.008242</td>\n",
       "      <td>0.008816</td>\n",
       "      <td>0.002450</td>\n",
       "      <td>0.001925</td>\n",
       "      <td>31</td>\n",
       "      <td>36</td>\n",
       "      <td>0.462687</td>\n",
       "    </tr>\n",
       "    <tr>\n",
       "      <th>financ*</th>\n",
       "      <td>{Business}</td>\n",
       "      <td>0.019775</td>\n",
       "      <td>0.021184</td>\n",
       "      <td>0.005892</td>\n",
       "      <td>0.005183</td>\n",
       "      <td>115</td>\n",
       "      <td>46</td>\n",
       "      <td>0.714286</td>\n",
       "    </tr>\n",
       "    <tr>\n",
       "      <th>dollar*</th>\n",
       "      <td>{Business}</td>\n",
       "      <td>0.016608</td>\n",
       "      <td>0.016974</td>\n",
       "      <td>0.003492</td>\n",
       "      <td>0.002850</td>\n",
       "      <td>98</td>\n",
       "      <td>31</td>\n",
       "      <td>0.759690</td>\n",
       "    </tr>\n",
       "    <tr>\n",
       "      <th>war</th>\n",
       "      <td>{World}</td>\n",
       "      <td>0.011683</td>\n",
       "      <td>0.008816</td>\n",
       "      <td>0.003242</td>\n",
       "      <td>0.001367</td>\n",
       "      <td>44</td>\n",
       "      <td>23</td>\n",
       "      <td>0.656716</td>\n",
       "    </tr>\n",
       "    <tr>\n",
       "      <th>gov*</th>\n",
       "      <td>{World}</td>\n",
       "      <td>0.045067</td>\n",
       "      <td>0.043158</td>\n",
       "      <td>0.010800</td>\n",
       "      <td>0.006225</td>\n",
       "      <td>156</td>\n",
       "      <td>172</td>\n",
       "      <td>0.475610</td>\n",
       "    </tr>\n",
       "    <tr>\n",
       "      <th>minister*</th>\n",
       "      <td>{World}</td>\n",
       "      <td>0.030142</td>\n",
       "      <td>0.030263</td>\n",
       "      <td>0.007508</td>\n",
       "      <td>0.002825</td>\n",
       "      <td>207</td>\n",
       "      <td>23</td>\n",
       "      <td>0.900000</td>\n",
       "    </tr>\n",
       "    <tr>\n",
       "      <th>conflict</th>\n",
       "      <td>{World}</td>\n",
       "      <td>0.003050</td>\n",
       "      <td>0.003684</td>\n",
       "      <td>0.001025</td>\n",
       "      <td>0.000092</td>\n",
       "      <td>20</td>\n",
       "      <td>8</td>\n",
       "      <td>0.714286</td>\n",
       "    </tr>\n",
       "    <tr>\n",
       "      <th>footbal*</th>\n",
       "      <td>{Sports}</td>\n",
       "      <td>0.013050</td>\n",
       "      <td>0.015132</td>\n",
       "      <td>0.004875</td>\n",
       "      <td>0.000408</td>\n",
       "      <td>105</td>\n",
       "      <td>10</td>\n",
       "      <td>0.913043</td>\n",
       "    </tr>\n",
       "    <tr>\n",
       "      <th>sport*</th>\n",
       "      <td>{Sports}</td>\n",
       "      <td>0.021183</td>\n",
       "      <td>0.021711</td>\n",
       "      <td>0.007033</td>\n",
       "      <td>0.001225</td>\n",
       "      <td>146</td>\n",
       "      <td>19</td>\n",
       "      <td>0.884848</td>\n",
       "    </tr>\n",
       "    <tr>\n",
       "      <th>game</th>\n",
       "      <td>{Sports}</td>\n",
       "      <td>0.038950</td>\n",
       "      <td>0.043026</td>\n",
       "      <td>0.014067</td>\n",
       "      <td>0.002375</td>\n",
       "      <td>253</td>\n",
       "      <td>74</td>\n",
       "      <td>0.773700</td>\n",
       "    </tr>\n",
       "    <tr>\n",
       "      <th>play*</th>\n",
       "      <td>{Sports}</td>\n",
       "      <td>0.052608</td>\n",
       "      <td>0.057632</td>\n",
       "      <td>0.016767</td>\n",
       "      <td>0.004992</td>\n",
       "      <td>312</td>\n",
       "      <td>126</td>\n",
       "      <td>0.712329</td>\n",
       "    </tr>\n",
       "    <tr>\n",
       "      <th>sci*</th>\n",
       "      <td>{Sci/Tech}</td>\n",
       "      <td>0.016433</td>\n",
       "      <td>0.015658</td>\n",
       "      <td>0.002742</td>\n",
       "      <td>0.001275</td>\n",
       "      <td>101</td>\n",
       "      <td>18</td>\n",
       "      <td>0.848739</td>\n",
       "    </tr>\n",
       "    <tr>\n",
       "      <th>techno*</th>\n",
       "      <td>{Sci/Tech}</td>\n",
       "      <td>0.027150</td>\n",
       "      <td>0.028816</td>\n",
       "      <td>0.008325</td>\n",
       "      <td>0.003108</td>\n",
       "      <td>153</td>\n",
       "      <td>66</td>\n",
       "      <td>0.698630</td>\n",
       "    </tr>\n",
       "    <tr>\n",
       "      <th>computer*</th>\n",
       "      <td>{Sci/Tech}</td>\n",
       "      <td>0.027275</td>\n",
       "      <td>0.026447</td>\n",
       "      <td>0.011100</td>\n",
       "      <td>0.004483</td>\n",
       "      <td>167</td>\n",
       "      <td>34</td>\n",
       "      <td>0.830846</td>\n",
       "    </tr>\n",
       "    <tr>\n",
       "      <th>software</th>\n",
       "      <td>{Sci/Tech}</td>\n",
       "      <td>0.030283</td>\n",
       "      <td>0.032763</td>\n",
       "      <td>0.009625</td>\n",
       "      <td>0.003308</td>\n",
       "      <td>202</td>\n",
       "      <td>47</td>\n",
       "      <td>0.811245</td>\n",
       "    </tr>\n",
       "    <tr>\n",
       "      <th>web</th>\n",
       "      <td>{Sci/Tech}</td>\n",
       "      <td>0.015508</td>\n",
       "      <td>0.016316</td>\n",
       "      <td>0.004100</td>\n",
       "      <td>0.001608</td>\n",
       "      <td>111</td>\n",
       "      <td>13</td>\n",
       "      <td>0.895161</td>\n",
       "    </tr>\n",
       "    <tr>\n",
       "      <th>total</th>\n",
       "      <td>{World, Sci/Tech, Sports, Business}</td>\n",
       "      <td>0.317375</td>\n",
       "      <td>0.327895</td>\n",
       "      <td>0.053408</td>\n",
       "      <td>0.019425</td>\n",
       "      <td>2221</td>\n",
       "      <td>746</td>\n",
       "      <td>0.748568</td>\n",
       "    </tr>\n",
       "  </tbody>\n",
       "</table>\n",
       "</div>"
      ],
      "text/plain": [
       "                                         label  coverage  annotated_coverage  \\\n",
       "money                               {Business}  0.008242            0.008816   \n",
       "financ*                             {Business}  0.019775            0.021184   \n",
       "dollar*                             {Business}  0.016608            0.016974   \n",
       "war                                    {World}  0.011683            0.008816   \n",
       "gov*                                   {World}  0.045067            0.043158   \n",
       "minister*                              {World}  0.030142            0.030263   \n",
       "conflict                               {World}  0.003050            0.003684   \n",
       "footbal*                              {Sports}  0.013050            0.015132   \n",
       "sport*                                {Sports}  0.021183            0.021711   \n",
       "game                                  {Sports}  0.038950            0.043026   \n",
       "play*                                 {Sports}  0.052608            0.057632   \n",
       "sci*                                {Sci/Tech}  0.016433            0.015658   \n",
       "techno*                             {Sci/Tech}  0.027150            0.028816   \n",
       "computer*                           {Sci/Tech}  0.027275            0.026447   \n",
       "software                            {Sci/Tech}  0.030283            0.032763   \n",
       "web                                 {Sci/Tech}  0.015508            0.016316   \n",
       "total      {World, Sci/Tech, Sports, Business}  0.317375            0.327895   \n",
       "\n",
       "           overlaps  conflicts  correct  incorrect  precision  \n",
       "money      0.002450   0.001925       31         36   0.462687  \n",
       "financ*    0.005892   0.005183      115         46   0.714286  \n",
       "dollar*    0.003492   0.002850       98         31   0.759690  \n",
       "war        0.003242   0.001367       44         23   0.656716  \n",
       "gov*       0.010800   0.006225      156        172   0.475610  \n",
       "minister*  0.007508   0.002825      207         23   0.900000  \n",
       "conflict   0.001025   0.000092       20          8   0.714286  \n",
       "footbal*   0.004875   0.000408      105         10   0.913043  \n",
       "sport*     0.007033   0.001225      146         19   0.884848  \n",
       "game       0.014067   0.002375      253         74   0.773700  \n",
       "play*      0.016767   0.004992      312        126   0.712329  \n",
       "sci*       0.002742   0.001275      101         18   0.848739  \n",
       "techno*    0.008325   0.003108      153         66   0.698630  \n",
       "computer*  0.011100   0.004483      167         34   0.830846  \n",
       "software   0.009625   0.003308      202         47   0.811245  \n",
       "web        0.004100   0.001608      111         13   0.895161  \n",
       "total      0.053408   0.019425     2221        746   0.748568  "
      ]
     },
     "execution_count": 4,
     "metadata": {},
     "output_type": "execute_result"
    }
   ],
   "source": [
    "weak_labels.summary()"
   ]
  },
  {
   "cell_type": "markdown",
   "id": "46d458ac-fa3b-4d10-8687-2fe49c26da81",
   "metadata": {},
   "source": [
    "# Create embeddings"
   ]
  },
  {
   "cell_type": "code",
   "execution_count": 5,
   "id": "b243b8e1-53e8-4fb7-be30-a119301eef7b",
   "metadata": {},
   "outputs": [],
   "source": [
    "from sentence_transformers import SentenceTransformer\n",
    "model = SentenceTransformer('all-mpnet-base-v2', device='cuda')"
   ]
  },
  {
   "cell_type": "code",
   "execution_count": 6,
   "id": "41aa19ec-7d75-4a23-8b17-36003c6f1937",
   "metadata": {},
   "outputs": [
    {
     "data": {
      "application/vnd.jupyter.widget-view+json": {
       "model_id": "bccb2ec4450e4b32b87178617a532e9b",
       "version_major": 2,
       "version_minor": 0
      },
      "text/plain": [
       "  0%|          | 0/120000 [00:00<?, ?it/s]"
      ]
     },
     "metadata": {},
     "output_type": "display_data"
    }
   ],
   "source": [
    "from tqdm.auto import tqdm\n",
    "\n",
    "embeddings = []\n",
    "for rec in tqdm(weak_labels.records()):\n",
    "    embeddings.append(model.encode(rec.text))"
   ]
  },
  {
   "cell_type": "code",
   "execution_count": 7,
   "id": "d2e3fbc8-add0-4c18-b6aa-f5cfab3abbd7",
   "metadata": {},
   "outputs": [],
   "source": [
    "import numpy as np\n",
    "embeddings = np.array(embeddings)\n",
    "np.save(\"news2_embeddings.npy\", embeddings)"
   ]
  },
  {
   "cell_type": "markdown",
   "id": "aafe4fea-80d3-4d27-aaa1-4b7010b119f2",
   "metadata": {},
   "source": [
    "# Load embeddings, compute distances"
   ]
  },
  {
   "cell_type": "code",
   "execution_count": 8,
   "id": "49d4c362-1564-408b-a06c-747778bcd049",
   "metadata": {},
   "outputs": [],
   "source": [
    "import numpy as np\n",
    "embeddings = np.load(\"news2_embeddings.npy\")"
   ]
  },
  {
   "cell_type": "code",
   "execution_count": null,
   "id": "72c2166d-2e5f-4a6c-935b-218694440bb2",
   "metadata": {},
   "outputs": [],
   "source": [
    "weak_labels.extend_matrix([1.0]*len(rules), embeddings)"
   ]
  },
  {
   "cell_type": "code",
   "execution_count": 10,
   "id": "c05c19a5-6cbb-453e-b335-a959d78fa89f",
   "metadata": {},
   "outputs": [
    {
     "data": {
      "text/html": [
       "<div>\n",
       "<style scoped>\n",
       "    .dataframe tbody tr th:only-of-type {\n",
       "        vertical-align: middle;\n",
       "    }\n",
       "\n",
       "    .dataframe tbody tr th {\n",
       "        vertical-align: top;\n",
       "    }\n",
       "\n",
       "    .dataframe thead th {\n",
       "        text-align: right;\n",
       "    }\n",
       "</style>\n",
       "<table border=\"1\" class=\"dataframe\">\n",
       "  <thead>\n",
       "    <tr style=\"text-align: right;\">\n",
       "      <th></th>\n",
       "      <th>label</th>\n",
       "      <th>coverage</th>\n",
       "      <th>annotated_coverage</th>\n",
       "      <th>overlaps</th>\n",
       "      <th>conflicts</th>\n",
       "      <th>correct</th>\n",
       "      <th>incorrect</th>\n",
       "      <th>precision</th>\n",
       "    </tr>\n",
       "  </thead>\n",
       "  <tbody>\n",
       "    <tr>\n",
       "      <th>money</th>\n",
       "      <td>{Business}</td>\n",
       "      <td>0.008242</td>\n",
       "      <td>0.008816</td>\n",
       "      <td>0.002450</td>\n",
       "      <td>0.001925</td>\n",
       "      <td>31</td>\n",
       "      <td>36</td>\n",
       "      <td>0.462687</td>\n",
       "    </tr>\n",
       "    <tr>\n",
       "      <th>financ*</th>\n",
       "      <td>{Business}</td>\n",
       "      <td>0.019775</td>\n",
       "      <td>0.021184</td>\n",
       "      <td>0.005892</td>\n",
       "      <td>0.005183</td>\n",
       "      <td>115</td>\n",
       "      <td>46</td>\n",
       "      <td>0.714286</td>\n",
       "    </tr>\n",
       "    <tr>\n",
       "      <th>dollar*</th>\n",
       "      <td>{Business}</td>\n",
       "      <td>0.016608</td>\n",
       "      <td>0.016974</td>\n",
       "      <td>0.003492</td>\n",
       "      <td>0.002850</td>\n",
       "      <td>98</td>\n",
       "      <td>31</td>\n",
       "      <td>0.759690</td>\n",
       "    </tr>\n",
       "    <tr>\n",
       "      <th>war</th>\n",
       "      <td>{World}</td>\n",
       "      <td>0.011683</td>\n",
       "      <td>0.008816</td>\n",
       "      <td>0.003242</td>\n",
       "      <td>0.001367</td>\n",
       "      <td>44</td>\n",
       "      <td>23</td>\n",
       "      <td>0.656716</td>\n",
       "    </tr>\n",
       "    <tr>\n",
       "      <th>gov*</th>\n",
       "      <td>{World}</td>\n",
       "      <td>0.045067</td>\n",
       "      <td>0.043158</td>\n",
       "      <td>0.010800</td>\n",
       "      <td>0.006225</td>\n",
       "      <td>156</td>\n",
       "      <td>172</td>\n",
       "      <td>0.475610</td>\n",
       "    </tr>\n",
       "    <tr>\n",
       "      <th>minister*</th>\n",
       "      <td>{World}</td>\n",
       "      <td>0.030142</td>\n",
       "      <td>0.030263</td>\n",
       "      <td>0.007508</td>\n",
       "      <td>0.002825</td>\n",
       "      <td>207</td>\n",
       "      <td>23</td>\n",
       "      <td>0.900000</td>\n",
       "    </tr>\n",
       "    <tr>\n",
       "      <th>conflict</th>\n",
       "      <td>{World}</td>\n",
       "      <td>0.003050</td>\n",
       "      <td>0.003684</td>\n",
       "      <td>0.001025</td>\n",
       "      <td>0.000092</td>\n",
       "      <td>20</td>\n",
       "      <td>8</td>\n",
       "      <td>0.714286</td>\n",
       "    </tr>\n",
       "    <tr>\n",
       "      <th>footbal*</th>\n",
       "      <td>{Sports}</td>\n",
       "      <td>0.013050</td>\n",
       "      <td>0.015132</td>\n",
       "      <td>0.004875</td>\n",
       "      <td>0.000408</td>\n",
       "      <td>105</td>\n",
       "      <td>10</td>\n",
       "      <td>0.913043</td>\n",
       "    </tr>\n",
       "    <tr>\n",
       "      <th>sport*</th>\n",
       "      <td>{Sports}</td>\n",
       "      <td>0.021183</td>\n",
       "      <td>0.021711</td>\n",
       "      <td>0.007033</td>\n",
       "      <td>0.001225</td>\n",
       "      <td>146</td>\n",
       "      <td>19</td>\n",
       "      <td>0.884848</td>\n",
       "    </tr>\n",
       "    <tr>\n",
       "      <th>game</th>\n",
       "      <td>{Sports}</td>\n",
       "      <td>0.038950</td>\n",
       "      <td>0.043026</td>\n",
       "      <td>0.014067</td>\n",
       "      <td>0.002375</td>\n",
       "      <td>253</td>\n",
       "      <td>74</td>\n",
       "      <td>0.773700</td>\n",
       "    </tr>\n",
       "    <tr>\n",
       "      <th>play*</th>\n",
       "      <td>{Sports}</td>\n",
       "      <td>0.052608</td>\n",
       "      <td>0.057632</td>\n",
       "      <td>0.016767</td>\n",
       "      <td>0.004992</td>\n",
       "      <td>312</td>\n",
       "      <td>126</td>\n",
       "      <td>0.712329</td>\n",
       "    </tr>\n",
       "    <tr>\n",
       "      <th>sci*</th>\n",
       "      <td>{Sci/Tech}</td>\n",
       "      <td>0.016433</td>\n",
       "      <td>0.015658</td>\n",
       "      <td>0.002742</td>\n",
       "      <td>0.001275</td>\n",
       "      <td>101</td>\n",
       "      <td>18</td>\n",
       "      <td>0.848739</td>\n",
       "    </tr>\n",
       "    <tr>\n",
       "      <th>techno*</th>\n",
       "      <td>{Sci/Tech}</td>\n",
       "      <td>0.027150</td>\n",
       "      <td>0.028816</td>\n",
       "      <td>0.008325</td>\n",
       "      <td>0.003108</td>\n",
       "      <td>153</td>\n",
       "      <td>66</td>\n",
       "      <td>0.698630</td>\n",
       "    </tr>\n",
       "    <tr>\n",
       "      <th>computer*</th>\n",
       "      <td>{Sci/Tech}</td>\n",
       "      <td>0.027275</td>\n",
       "      <td>0.026447</td>\n",
       "      <td>0.011100</td>\n",
       "      <td>0.004483</td>\n",
       "      <td>167</td>\n",
       "      <td>34</td>\n",
       "      <td>0.830846</td>\n",
       "    </tr>\n",
       "    <tr>\n",
       "      <th>software</th>\n",
       "      <td>{Sci/Tech}</td>\n",
       "      <td>0.030283</td>\n",
       "      <td>0.032763</td>\n",
       "      <td>0.009625</td>\n",
       "      <td>0.003308</td>\n",
       "      <td>202</td>\n",
       "      <td>47</td>\n",
       "      <td>0.811245</td>\n",
       "    </tr>\n",
       "    <tr>\n",
       "      <th>web</th>\n",
       "      <td>{Sci/Tech}</td>\n",
       "      <td>0.015508</td>\n",
       "      <td>0.016316</td>\n",
       "      <td>0.004100</td>\n",
       "      <td>0.001608</td>\n",
       "      <td>111</td>\n",
       "      <td>13</td>\n",
       "      <td>0.895161</td>\n",
       "    </tr>\n",
       "    <tr>\n",
       "      <th>total</th>\n",
       "      <td>{World, Sci/Tech, Sports, Business}</td>\n",
       "      <td>0.317375</td>\n",
       "      <td>0.327895</td>\n",
       "      <td>0.053408</td>\n",
       "      <td>0.019425</td>\n",
       "      <td>2221</td>\n",
       "      <td>746</td>\n",
       "      <td>0.748568</td>\n",
       "    </tr>\n",
       "  </tbody>\n",
       "</table>\n",
       "</div>"
      ],
      "text/plain": [
       "                                         label  coverage  annotated_coverage  \\\n",
       "money                               {Business}  0.008242            0.008816   \n",
       "financ*                             {Business}  0.019775            0.021184   \n",
       "dollar*                             {Business}  0.016608            0.016974   \n",
       "war                                    {World}  0.011683            0.008816   \n",
       "gov*                                   {World}  0.045067            0.043158   \n",
       "minister*                              {World}  0.030142            0.030263   \n",
       "conflict                               {World}  0.003050            0.003684   \n",
       "footbal*                              {Sports}  0.013050            0.015132   \n",
       "sport*                                {Sports}  0.021183            0.021711   \n",
       "game                                  {Sports}  0.038950            0.043026   \n",
       "play*                                 {Sports}  0.052608            0.057632   \n",
       "sci*                                {Sci/Tech}  0.016433            0.015658   \n",
       "techno*                             {Sci/Tech}  0.027150            0.028816   \n",
       "computer*                           {Sci/Tech}  0.027275            0.026447   \n",
       "software                            {Sci/Tech}  0.030283            0.032763   \n",
       "web                                 {Sci/Tech}  0.015508            0.016316   \n",
       "total      {World, Sci/Tech, Sports, Business}  0.317375            0.327895   \n",
       "\n",
       "           overlaps  conflicts  correct  incorrect  precision  \n",
       "money      0.002450   0.001925       31         36   0.462687  \n",
       "financ*    0.005892   0.005183      115         46   0.714286  \n",
       "dollar*    0.003492   0.002850       98         31   0.759690  \n",
       "war        0.003242   0.001367       44         23   0.656716  \n",
       "gov*       0.010800   0.006225      156        172   0.475610  \n",
       "minister*  0.007508   0.002825      207         23   0.900000  \n",
       "conflict   0.001025   0.000092       20          8   0.714286  \n",
       "footbal*   0.004875   0.000408      105         10   0.913043  \n",
       "sport*     0.007033   0.001225      146         19   0.884848  \n",
       "game       0.014067   0.002375      253         74   0.773700  \n",
       "play*      0.016767   0.004992      312        126   0.712329  \n",
       "sci*       0.002742   0.001275      101         18   0.848739  \n",
       "techno*    0.008325   0.003108      153         66   0.698630  \n",
       "computer*  0.011100   0.004483      167         34   0.830846  \n",
       "software   0.009625   0.003308      202         47   0.811245  \n",
       "web        0.004100   0.001608      111         13   0.895161  \n",
       "total      0.053408   0.019425     2221        746   0.748568  "
      ]
     },
     "execution_count": 10,
     "metadata": {},
     "output_type": "execute_result"
    }
   ],
   "source": [
    "weak_labels.summary()"
   ]
  },
  {
   "cell_type": "markdown",
   "id": "db977fd1-812b-4391-9796-fb0a09016f8e",
   "metadata": {},
   "source": [
    "# Label model"
   ]
  },
  {
   "cell_type": "code",
   "execution_count": 11,
   "id": "751c8c8c-6632-4fe6-97db-fb616fc77358",
   "metadata": {},
   "outputs": [
    {
     "name": "stderr",
     "output_type": "stream",
     "text": [
      "100%|██████████| 100/100 [00:00<00:00, 1539.67epoch/s]"
     ]
    },
    {
     "name": "stdout",
     "output_type": "stream",
     "text": [
      "              precision    recall  f1-score   support\n",
      "\n",
      "    Sci/Tech       0.80      0.74      0.77       831\n",
      "       World       0.68      0.83      0.75       461\n",
      "      Sports       0.77      0.96      0.86       703\n",
      "    Business       0.73      0.41      0.53       494\n",
      "\n",
      "    accuracy                           0.76      2489\n",
      "   macro avg       0.75      0.74      0.73      2489\n",
      "weighted avg       0.76      0.76      0.74      2489\n",
      "\n"
     ]
    },
    {
     "name": "stderr",
     "output_type": "stream",
     "text": [
      "\n"
     ]
    }
   ],
   "source": [
    "from rubrix.labeling.text_classification import Snorkel\n",
    "\n",
    "label_model = Snorkel(weak_labels)\n",
    "label_model.fit()\n",
    "print(label_model.score(output_str=True))"
   ]
  },
  {
   "cell_type": "markdown",
   "id": "d532f059-985e-4a77-bdbf-d445caef89ae",
   "metadata": {},
   "source": [
    "## Quick grid search for label model"
   ]
  },
  {
   "cell_type": "code",
   "execution_count": null,
   "id": "200dfa69-4558-4f87-99a1-626cc686dcba",
   "metadata": {},
   "outputs": [],
   "source": [
    "scores = {}\n",
    "\n",
    "for n in [10, 20, 40, 80]:\n",
    "    for lr in [0.0001, 0.0002, 0.0005, 0.001, 0.002, 0.005, 0.01, 0.02, 0.05, 0.1]:\n",
    "        lm = Snorkel(weak_labels)\n",
    "        lm.fit(lr=lr, n_epochs=n)\n",
    "        scores[(n, lr)] = lm.score()[\"accuracy\"]"
   ]
  },
  {
   "cell_type": "code",
   "execution_count": 24,
   "id": "a631ae2c-2e8e-41d7-81e1-699e95e381eb",
   "metadata": {
    "tags": []
   },
   "outputs": [
    {
     "data": {
      "text/plain": [
       "((10, 0.002), 0.7568327974276527)"
      ]
     },
     "execution_count": 24,
     "metadata": {},
     "output_type": "execute_result"
    }
   ],
   "source": [
    "sorted(scores.items(), key=lambda x: x[1], reverse=True)[0]"
   ]
  },
  {
   "cell_type": "markdown",
   "id": "a76ac3b2-ad2b-479a-a3d8-95d3071544b7",
   "metadata": {},
   "source": [
    "# Grid search with label model"
   ]
  },
  {
   "cell_type": "code",
   "execution_count": 29,
   "id": "10d02e88-1852-46a8-9846-ae7d1db98ed8",
   "metadata": {},
   "outputs": [],
   "source": [
    "def train_eval_labelmodel(ths):\n",
    "    weak_labels.extend_matrix(ths)\n",
    "    \n",
    "    label_model = Snorkel(weak_labels)\n",
    "    label_model.fit(lr=0.002, n_epochs=10, progress_bar=False)\n",
    "    \n",
    "    metrics = label_model.score()\n",
    "    acc, sup, n = metrics[\"accuracy\"], metrics[\"macro avg\"][\"support\"], len(weak_labels.annotation())\n",
    "    coverage = sup / n\n",
    "    return 2 * acc * coverage / ( acc + coverage )"
   ]
  },
  {
   "cell_type": "code",
   "execution_count": 30,
   "id": "31df129e-4b26-4234-9b35-efd226e14d0e",
   "metadata": {},
   "outputs": [
    {
     "name": "stdout",
     "output_type": "stream",
     "text": [
      "[1.  0.9 0.8 0.7 0.6 0.5 0.4] 16\n"
     ]
    },
    {
     "data": {
      "application/vnd.jupyter.widget-view+json": {
       "model_id": "eab4e7c24e904bd287aab5e5eb1ea325",
       "version_major": 2,
       "version_minor": 0
      },
      "text/plain": [
       "  0%|          | 0/16 [00:00<?, ?it/s]"
      ]
     },
     "metadata": {},
     "output_type": "display_data"
    }
   ],
   "source": [
    "from copy import copy\n",
    "from tqdm.auto import tqdm\n",
    "\n",
    "best_thresholds, best_acc, accs = [1.0] * len(weak_labels.rules), 0, []\n",
    "ths_range = np.arange(1, 0.3, -0.1)\n",
    "n_ths = len(weak_labels.rules)\n",
    "\n",
    "print(ths_range, n_ths)\n",
    "\n",
    "for i in tqdm(range(n_ths), total=n_ths):\n",
    "    thresholds = best_thresholds.copy()\n",
    "    for threshold in ths_range:\n",
    "        thresholds[i] = threshold\n",
    "        acc = train_eval_labelmodel(thresholds)\n",
    "        accs.append(acc)\n",
    "        if acc > best_acc:\n",
    "            best_acc = acc\n",
    "            best_thresholds = thresholds.copy()"
   ]
  },
  {
   "cell_type": "code",
   "execution_count": 31,
   "id": "b1e0d4b6-aa7b-44f4-b6f4-545b8aace764",
   "metadata": {},
   "outputs": [
    {
     "data": {
      "text/plain": [
       "[0.40000000000000013,\n",
       " 0.5000000000000001,\n",
       " 0.7000000000000001,\n",
       " 0.40000000000000013,\n",
       " 0.40000000000000013,\n",
       " 0.7000000000000001,\n",
       " 0.6000000000000001,\n",
       " 0.40000000000000013,\n",
       " 0.40000000000000013,\n",
       " 0.5000000000000001,\n",
       " 1.0,\n",
       " 0.5000000000000001,\n",
       " 0.7000000000000001,\n",
       " 0.6000000000000001,\n",
       " 0.5000000000000001,\n",
       " 0.5000000000000001]"
      ]
     },
     "execution_count": 31,
     "metadata": {},
     "output_type": "execute_result"
    }
   ],
   "source": [
    "best_thresholds"
   ]
  },
  {
   "cell_type": "markdown",
   "id": "1a4804d1-c499-4a99-9e18-06cfcb63a9b9",
   "metadata": {},
   "source": [
    "## Apply best thresholds"
   ]
  },
  {
   "cell_type": "code",
   "execution_count": 54,
   "id": "b62041ad-7678-4201-a88a-dd216c67b133",
   "metadata": {},
   "outputs": [
    {
     "name": "stdout",
     "output_type": "stream",
     "text": [
      "              precision    recall  f1-score   support\n",
      "\n",
      "    Sci/Tech       0.80      0.61      0.69      1876\n",
      "       World       0.64      0.82      0.71      1804\n",
      "      Sports       0.80      0.93      0.86      1873\n",
      "    Business       0.70      0.56      0.62      1859\n",
      "\n",
      "    accuracy                           0.73      7412\n",
      "   macro avg       0.73      0.73      0.72      7412\n",
      "weighted avg       0.73      0.73      0.72      7412\n",
      "\n"
     ]
    }
   ],
   "source": [
    "weak_labels.extend_matrix(best_thresholds)\n",
    "\n",
    "label_model = Snorkel(weak_labels)\n",
    "label_model.fit(lr=0.002, n_epochs=10, progress_bar=False)\n",
    "print(label_model.score(output_str=True))"
   ]
  },
  {
   "cell_type": "markdown",
   "id": "bf402b7b-b746-495d-9140-6b50eed88ffd",
   "metadata": {},
   "source": [
    "# Train and evaluate downstream model"
   ]
  },
  {
   "cell_type": "code",
   "execution_count": 68,
   "id": "a9be6004-0af5-45bf-aae7-4b6595ee0c28",
   "metadata": {},
   "outputs": [],
   "source": [
    "import pandas as pd\n",
    "from sklearn.feature_extraction.text import TfidfTransformer, CountVectorizer\n",
    "from sklearn.naive_bayes import MultinomialNB\n",
    "from sklearn.pipeline import Pipeline\n",
    "from sklearn import metrics\n",
    "\n",
    "\n",
    "def final_eval(label_model):\n",
    "\n",
    "    # get records with the predictions from the label model\n",
    "    records = label_model.predict()\n",
    "\n",
    "    # # we could also use the `weak_labels.label2int` dict\n",
    "    # label2int = {'Sports': 0, 'Sci/Tech': 1, 'World': 2, 'Business': 3}\n",
    "    label2int = label_model.weak_labels.label2int\n",
    "\n",
    "    # extract training data\n",
    "    X_train = [rec.text for rec in records]\n",
    "    y_train = [label2int[rec.prediction[0][0]] for rec in records]\n",
    "   \n",
    "    # define our final classifier\n",
    "    classifier = Pipeline([\n",
    "        ('vect', CountVectorizer()),\n",
    "        ('clf', MultinomialNB())\n",
    "    ])\n",
    "\n",
    "    # fit the classifier\n",
    "    classifier.fit(\n",
    "        X=X_train,\n",
    "        y=y_train,\n",
    "    )\n",
    "    \n",
    "    # extract text and labels\n",
    "    X_test = [rec[\"text\"] for rec in agnews[\"test\"]]\n",
    "    y_test = [label2int[agnews[\"test\"].features[\"label\"].int2str(rec[\"label\"])] for rec in agnews[\"test\"]]\n",
    "\n",
    "    # compute the test accuracy\n",
    "    accuracy = classifier.score(\n",
    "        X=X_test,\n",
    "        y=y_test,\n",
    "    )\n",
    "\n",
    "    # get predictions for the test set\n",
    "    predicted = classifier.predict(X_test)\n",
    "\n",
    "    return metrics.classification_report(y_test, predicted, target_names=[k for k in label2int.keys() if k])"
   ]
  },
  {
   "cell_type": "code",
   "execution_count": 58,
   "id": "3190374e-d38b-420f-bb76-ed1a96fc4e66",
   "metadata": {},
   "outputs": [
    {
     "name": "stdout",
     "output_type": "stream",
     "text": [
      "              precision    recall  f1-score   support\n",
      "\n",
      "    Sci/Tech       0.86      0.78      0.82      1900\n",
      "       World       0.83      0.89      0.86      1900\n",
      "      Sports       0.88      0.98      0.93      1900\n",
      "    Business       0.84      0.77      0.80      1900\n",
      "\n",
      "    accuracy                           0.85      7600\n",
      "   macro avg       0.85      0.85      0.85      7600\n",
      "weighted avg       0.85      0.85      0.85      7600\n",
      "\n"
     ]
    }
   ],
   "source": [
    "print(final_eval(label_model))"
   ]
  },
  {
   "cell_type": "markdown",
   "id": "2df7cce7-b8fd-493a-8593-da039b990df2",
   "metadata": {},
   "source": [
    "# Grid search with downstream model"
   ]
  },
  {
   "cell_type": "code",
   "execution_count": 60,
   "id": "3505b3b8-e063-4fb0-a8d0-370d07507086",
   "metadata": {},
   "outputs": [],
   "source": [
    "# retrieve records with annotations\n",
    "test_ds = weak_labels.records(has_annotation=True)\n",
    "\n",
    "# extract text and labels\n",
    "X_test_for_grid_search = [rec.text for rec in test_ds]\n",
    "y_test_for_grid_search = [label2int[rec.annotation] for rec in test_ds]\n",
    "\n",
    "def train_eval_downstream(ths):\n",
    "    weak_labels.extend_matrix(ths)\n",
    "    \n",
    "    label_model = Snorkel(weak_labels)\n",
    "    label_model.fit(lr=0.002, n_epochs=10, progress_bar=False)\n",
    "\n",
    "    records = label_model.predict()\n",
    "\n",
    "    X_train = [rec.text for rec in records]\n",
    "    y_train = [label2int[rec.prediction[0][0]] for rec in records]\n",
    "    \n",
    "    classifier = Pipeline([\n",
    "        ('vect', CountVectorizer()),\n",
    "        ('clf', MultinomialNB())\n",
    "    ])\n",
    "\n",
    "    classifier.fit(\n",
    "        X=X_train,\n",
    "        y=y_train,\n",
    "    )\n",
    "    \n",
    "    accuracy = classifier.score(\n",
    "        X=X_test_for_grid_search,\n",
    "        y=y_test_for_grid_search,\n",
    "    )\n",
    "    \n",
    "    return accuracy"
   ]
  },
  {
   "cell_type": "code",
   "execution_count": 46,
   "id": "b95a5ed4-dd5d-4b03-a2af-8012d3d5219d",
   "metadata": {},
   "outputs": [
    {
     "name": "stdout",
     "output_type": "stream",
     "text": [
      "[1.  0.9 0.8 0.7 0.6 0.5 0.4] 16\n"
     ]
    },
    {
     "data": {
      "application/vnd.jupyter.widget-view+json": {
       "model_id": "6c0e66f003d546d0b92d699dfd0361e9",
       "version_major": 2,
       "version_minor": 0
      },
      "text/plain": [
       "  0%|          | 0/16 [00:00<?, ?it/s]"
      ]
     },
     "metadata": {},
     "output_type": "display_data"
    }
   ],
   "source": [
    "from copy import copy\n",
    "from tqdm.auto import tqdm\n",
    "\n",
    "best_thresholds, best_acc, accs = [1.0] * len(weak_labels.rules), 0, []\n",
    "ths_range = np.arange(1, 0.3, -0.1)\n",
    "n_ths = len(weak_labels.rules)\n",
    "\n",
    "print(ths_range, n_ths)\n",
    "\n",
    "for i in tqdm(range(n_ths), total=n_ths):\n",
    "    thresholds = best_thresholds.copy()\n",
    "    for threshold in ths_range:\n",
    "        thresholds[i] = threshold\n",
    "        acc = train_eval_downstream(thresholds)\n",
    "        accs.append(acc)\n",
    "        if acc > best_acc:\n",
    "            best_acc = acc\n",
    "            best_thresholds = thresholds.copy()"
   ]
  },
  {
   "cell_type": "code",
   "execution_count": 47,
   "id": "7cf078a3-ca63-4bfc-bc6e-fa2e66753096",
   "metadata": {},
   "outputs": [
    {
     "data": {
      "text/plain": [
       "(0.8544736842105263,\n",
       " [0.6000000000000001,\n",
       "  0.7000000000000001,\n",
       "  0.8,\n",
       "  0.9,\n",
       "  1.0,\n",
       "  0.7000000000000001,\n",
       "  1.0,\n",
       "  0.9,\n",
       "  0.6000000000000001,\n",
       "  1.0,\n",
       "  1.0,\n",
       "  0.8,\n",
       "  0.7000000000000001,\n",
       "  0.8,\n",
       "  1.0,\n",
       "  1.0])"
      ]
     },
     "execution_count": 47,
     "metadata": {},
     "output_type": "execute_result"
    }
   ],
   "source": [
    "best_acc, best_thresholds"
   ]
  },
  {
   "cell_type": "markdown",
   "id": "a9bbf27d-e924-4ba5-9f9d-05bf6b2008c6",
   "metadata": {},
   "source": [
    "## Apply best thresholds"
   ]
  },
  {
   "cell_type": "code",
   "execution_count": 48,
   "id": "90cc3d0e-db2d-447d-bb95-178505901592",
   "metadata": {},
   "outputs": [
    {
     "name": "stdout",
     "output_type": "stream",
     "text": [
      "              precision    recall  f1-score   support\n",
      "\n",
      "    Sci/Tech       0.78      0.67      0.72      1240\n",
      "       World       0.77      0.73      0.75       851\n",
      "      Sports       0.83      0.95      0.88      1321\n",
      "    Business       0.64      0.65      0.64      1038\n",
      "\n",
      "    accuracy                           0.76      4450\n",
      "   macro avg       0.75      0.75      0.75      4450\n",
      "weighted avg       0.76      0.76      0.76      4450\n",
      "\n"
     ]
    }
   ],
   "source": [
    "weak_labels.extend_matrix(best_thresholds)\n",
    "\n",
    "label_model = Snorkel(weak_labels)\n",
    "label_model.fit(lr=0.002, n_epochs=10, progress_bar=False)\n",
    "print(label_model.score(output_str=True))"
   ]
  },
  {
   "cell_type": "markdown",
   "id": "5323117d-a8b8-4d8b-9916-475ddfb56126",
   "metadata": {},
   "source": [
    "# Train and evaluate downstream model"
   ]
  },
  {
   "cell_type": "code",
   "execution_count": 52,
   "id": "92f74dc6-4c50-4872-b903-8da48ff3f57d",
   "metadata": {},
   "outputs": [
    {
     "name": "stdout",
     "output_type": "stream",
     "text": [
      "              precision    recall  f1-score   support\n",
      "\n",
      "    Sci/Tech       0.82      0.81      0.81      1900\n",
      "       World       0.89      0.85      0.87      1900\n",
      "      Sports       0.88      0.98      0.93      1900\n",
      "    Business       0.81      0.77      0.79      1900\n",
      "\n",
      "    accuracy                           0.85      7600\n",
      "   macro avg       0.85      0.85      0.85      7600\n",
      "weighted avg       0.85      0.85      0.85      7600\n",
      "\n"
     ]
    }
   ],
   "source": [
    "print(final_eval(label_model))"
   ]
  },
  {
   "cell_type": "markdown",
   "id": "a8abe942-5779-4a88-be72-d6dc29964f34",
   "metadata": {},
   "source": [
    "# Uniform grid search"
   ]
  },
  {
   "cell_type": "code",
   "execution_count": 62,
   "id": "e90198fd-630f-4a14-acaa-a0d2f66540ee",
   "metadata": {},
   "outputs": [
    {
     "name": "stdout",
     "output_type": "stream",
     "text": [
      "[1.  0.9 0.8 0.7 0.6 0.5 0.4] 16\n"
     ]
    },
    {
     "data": {
      "application/vnd.jupyter.widget-view+json": {
       "model_id": "4a6ddd8fd9c540298796e774de243f3f",
       "version_major": 2,
       "version_minor": 0
      },
      "text/plain": [
       "  0%|          | 0/7 [00:00<?, ?it/s]"
      ]
     },
     "metadata": {},
     "output_type": "display_data"
    }
   ],
   "source": [
    "from copy import copy\n",
    "from tqdm.auto import tqdm\n",
    "\n",
    "best_thresholds, best_acc, accs = [1.0] * len(weak_labels.rules), 0, []\n",
    "ths_range = np.arange(1, 0.3, -0.1)\n",
    "n_ths = len(weak_labels.rules)\n",
    "\n",
    "print(ths_range, n_ths)\n",
    "\n",
    "for threshold in tqdm(ths_range):\n",
    "    thresholds = [threshold] * n_ths\n",
    "    acc = train_eval_downstream(thresholds)\n",
    "    accs.append(acc)\n",
    "    if acc > best_acc:\n",
    "        best_acc = acc\n",
    "        best_thresholds = thresholds.copy()"
   ]
  },
  {
   "cell_type": "code",
   "execution_count": 72,
   "id": "b47a95f2-5eba-4e7f-9ad6-cab21fcce55b",
   "metadata": {},
   "outputs": [
    {
     "data": {
      "text/plain": [
       "(0.8309210526315789,\n",
       " [0.6000000000000001,\n",
       "  0.6000000000000001,\n",
       "  0.6000000000000001,\n",
       "  0.6000000000000001,\n",
       "  0.6000000000000001,\n",
       "  0.6000000000000001,\n",
       "  0.6000000000000001,\n",
       "  0.6000000000000001,\n",
       "  0.6000000000000001,\n",
       "  0.6000000000000001,\n",
       "  0.6000000000000001,\n",
       "  0.6000000000000001,\n",
       "  0.6000000000000001,\n",
       "  0.6000000000000001,\n",
       "  0.6000000000000001,\n",
       "  0.6000000000000001])"
      ]
     },
     "execution_count": 72,
     "metadata": {},
     "output_type": "execute_result"
    }
   ],
   "source": [
    "best_acc, best_thresholds"
   ]
  },
  {
   "cell_type": "markdown",
   "id": "5e2e37cf-4b35-45c8-aaf5-b485b0849644",
   "metadata": {},
   "source": [
    "## Apply best thresholds"
   ]
  },
  {
   "cell_type": "code",
   "execution_count": 69,
   "id": "dacd4110-e203-4f24-8958-7ac5c5bd384f",
   "metadata": {},
   "outputs": [
    {
     "name": "stdout",
     "output_type": "stream",
     "text": [
      "              precision    recall  f1-score   support\n",
      "\n",
      "    Sci/Tech       0.76      0.74      0.75      1636\n",
      "       World       0.67      0.86      0.76      1421\n",
      "      Sports       0.79      0.96      0.87      1544\n",
      "    Business       0.78      0.39      0.52      1430\n",
      "\n",
      "    accuracy                           0.74      6031\n",
      "   macro avg       0.75      0.74      0.72      6031\n",
      "weighted avg       0.75      0.74      0.73      6031\n",
      "\n"
     ]
    }
   ],
   "source": [
    "weak_labels.extend_matrix(best_thresholds)\n",
    "\n",
    "label_model = Snorkel(weak_labels)\n",
    "label_model.fit(lr=0.002, n_epochs=10, progress_bar=False)\n",
    "print(label_model.score(output_str=True))"
   ]
  },
  {
   "cell_type": "markdown",
   "id": "57212b3d-7857-40db-93e5-a710fa088fc0",
   "metadata": {},
   "source": [
    "# Train and evaluate downstream model"
   ]
  },
  {
   "cell_type": "code",
   "execution_count": 71,
   "id": "a7b53f10-2368-451c-bc43-ad13eced119b",
   "metadata": {},
   "outputs": [
    {
     "name": "stdout",
     "output_type": "stream",
     "text": [
      "              precision    recall  f1-score   support\n",
      "\n",
      "    Sci/Tech       0.79      0.84      0.81      1900\n",
      "       World       0.79      0.90      0.84      1900\n",
      "      Sports       0.87      0.98      0.93      1900\n",
      "    Business       0.89      0.60      0.72      1900\n",
      "\n",
      "    accuracy                           0.83      7600\n",
      "   macro avg       0.84      0.83      0.82      7600\n",
      "weighted avg       0.84      0.83      0.82      7600\n",
      "\n"
     ]
    }
   ],
   "source": [
    "print(final_eval(label_model))"
   ]
  },
  {
   "cell_type": "code",
   "execution_count": null,
   "id": "8fa93214-2657-4916-a75d-10931c5e32c5",
   "metadata": {},
   "outputs": [],
   "source": []
  }
 ],
 "metadata": {
  "kernelspec": {
   "display_name": "Python 3",
   "language": "python",
   "name": "python3"
  },
  "language_info": {
   "codemirror_mode": {
    "name": "ipython",
    "version": 3
   },
   "file_extension": ".py",
   "mimetype": "text/x-python",
   "name": "python",
   "nbconvert_exporter": "python",
   "pygments_lexer": "ipython3",
   "version": "3.8.10"
  }
 },
 "nbformat": 4,
 "nbformat_minor": 5
}
