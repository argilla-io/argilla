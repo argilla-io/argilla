{
 "cells": [
  {
   "cell_type": "code",
   "execution_count": 1,
   "id": "7308e4ca-62e0-4ab0-8372-e4099acf502a",
   "metadata": {},
   "outputs": [],
   "source": [
    "from datasets import load_dataset"
   ]
  },
  {
   "cell_type": "code",
   "execution_count": null,
   "id": "54460824-9548-44ab-a33a-ceb6b40befe8",
   "metadata": {},
   "outputs": [],
   "source": [
    "# download data\n",
    "dataset = load_dataset('ag_news')"
   ]
  },
  {
   "cell_type": "code",
   "execution_count": null,
   "id": "15dba7be-427a-45ec-8ef4-5bec6f21082a",
   "metadata": {},
   "outputs": [],
   "source": [
    "# get train set and shuffle\n",
    "ds_train = dataset[\"train\"].shuffle(seed=43)\n",
    "\n",
    "# get test set\n",
    "ds_test = dataset[\"test\"]\n",
    "\n",
    "# get labels\n",
    "labels = ds_train.features[\"label\"].names"
   ]
  },
  {
   "cell_type": "code",
   "execution_count": 115,
   "id": "df34917f-3ba4-4350-b58e-077cde4f6767",
   "metadata": {},
   "outputs": [],
   "source": [
    "from sklearn.feature_extraction.text import CountVectorizer\n",
    "from sklearn.naive_bayes import MultinomialNB\n",
    "from sklearn.pipeline import Pipeline\n",
    "\n",
    "# define our classifier\n",
    "classifier = Pipeline([\n",
    "    ('vect', CountVectorizer()),\n",
    "    ('clf', MultinomialNB())\n",
    "])"
   ]
  },
  {
   "cell_type": "code",
   "execution_count": null,
   "id": "2292a1bc-5780-4c61-a72c-2a82d651d891",
   "metadata": {},
   "outputs": [],
   "source": [
    "# fit the classifier\n",
    "classifier.fit(\n",
    "    X=ds_train[\"text\"], \n",
    "    y=ds_train[\"label\"]\n",
    ")"
   ]
  },
  {
   "cell_type": "code",
   "execution_count": 117,
   "id": "dee90653-3302-4dd7-9429-3d85e429ee0f",
   "metadata": {},
   "outputs": [
    {
     "data": {
      "text/plain": [
       "'Test accuracy: 0.900921052631579'"
      ]
     },
     "execution_count": 117,
     "metadata": {},
     "output_type": "execute_result"
    }
   ],
   "source": [
    "# compute test accuracy\n",
    "acc = classifier.score(\n",
    "    X=ds_test[\"text\"], \n",
    "    y=ds_test[\"label\"],\n",
    ")  \n",
    "\n",
    "f\"Test accuracy: {acc}\""
   ]
  },
  {
   "cell_type": "code",
   "execution_count": 118,
   "id": "3261094e-1dad-4591-bfd5-e052060ba1ab",
   "metadata": {},
   "outputs": [],
   "source": [
    "# get predicted probabilities for all labels\n",
    "probabilities = classifier.predict_proba(ds_test[\"text\"])"
   ]
  },
  {
   "cell_type": "code",
   "execution_count": 119,
   "id": "35924760-dfd1-4ab3-abcd-63d23c7e5248",
   "metadata": {},
   "outputs": [],
   "source": [
    "# create records for the test set\n",
    "records = [\n",
    "    rb.TextClassificationRecord(\n",
    "        inputs=data[\"text\"],\n",
    "        prediction=list(zip(labels, prediction)),\n",
    "        annotation=labels[data[\"label\"]],\n",
    "        metadata={\"split\": \"test\"}\n",
    "    )\n",
    "    for data, prediction in zip(ds_test, probabilities)\n",
    "]"
   ]
  },
  {
   "cell_type": "code",
   "execution_count": 120,
   "id": "b31446f1-de26-46cd-9f76-2ddf0fd5e2d3",
   "metadata": {},
   "outputs": [],
   "source": [
    "from rubrix.labeling.text_classification import find_label_errors\n",
    "\n",
    "# get records with potential label errors\n",
    "records_with_label_error = find_label_errors(records)"
   ]
  },
  {
   "cell_type": "code",
   "execution_count": 121,
   "id": "79e730c5-b606-48e1-bd41-e6c7b2f12592",
   "metadata": {},
   "outputs": [
    {
     "data": {
      "application/vnd.jupyter.widget-view+json": {
       "model_id": "5dfab4358c7141b18bfc8457e05934ef",
       "version_major": 2,
       "version_minor": 0
      },
      "text/plain": [
       "  0%|          | 0/616 [00:00<?, ?it/s]"
      ]
     },
     "metadata": {},
     "output_type": "display_data"
    },
    {
     "name": "stdout",
     "output_type": "stream",
     "text": [
      "616 records logged to http://localhost:6900/label_errors_in_ag_news\n"
     ]
    },
    {
     "data": {
      "text/plain": [
       "BulkResponse(dataset='label_errors_in_ag_news', processed=616, failed=0)"
      ]
     },
     "execution_count": 121,
     "metadata": {},
     "output_type": "execute_result"
    }
   ],
   "source": [
    "# uncover label errors in the Rubrix web app\n",
    "rb.log(records_with_label_error, \"label_errors_in_ag_news\")"
   ]
  },
  {
   "cell_type": "code",
   "execution_count": 110,
   "id": "9ff9e496-9546-432f-9ca1-40d6d0853e24",
   "metadata": {},
   "outputs": [],
   "source": [
    "from sklearn.model_selection import cross_val_predict\n",
    "\n",
    "# get predicted probabilities for the whole dataset via cross validation\n",
    "cv_probs = cross_val_predict(\n",
    "    classifier,\n",
    "    X=ds_train[\"text\"] + ds_test[\"text\"], \n",
    "    y=ds_train[\"label\"] + ds_test[\"label\"], \n",
    "    cv=int(len(ds_train) / len(ds_test)), \n",
    "    method=\"predict_proba\", \n",
    "    n_jobs=-1\n",
    ")"
   ]
  },
  {
   "cell_type": "code",
   "execution_count": 112,
   "id": "4096197d-c19c-40f2-9c3e-4614ebc95023",
   "metadata": {},
   "outputs": [],
   "source": [
    "# create records for the training set\n",
    "records = [\n",
    "    rb.TextClassificationRecord(\n",
    "        inputs=data[\"text\"],\n",
    "        prediction=list(zip(labels, prediction)),\n",
    "        annotation=labels[data[\"label\"]],\n",
    "        metadata={\"split\": \"train\"}\n",
    "    )\n",
    "    for data, prediction in zip(ds_train, cv_probs)\n",
    "]"
   ]
  },
  {
   "cell_type": "code",
   "execution_count": 114,
   "id": "0fc2f62a-80cb-4294-8b15-d95bc4b1e198",
   "metadata": {},
   "outputs": [
    {
     "data": {
      "application/vnd.jupyter.widget-view+json": {
       "model_id": "2ce456d65ee34120b5fcf8a6336becdd",
       "version_major": 2,
       "version_minor": 0
      },
      "text/plain": [
       "  0%|          | 0/9378 [00:00<?, ?it/s]"
      ]
     },
     "metadata": {},
     "output_type": "display_data"
    },
    {
     "name": "stdout",
     "output_type": "stream",
     "text": [
      "9378 records logged to http://localhost:6900/label_errors_in_ag_news\n"
     ]
    },
    {
     "data": {
      "text/plain": [
       "BulkResponse(dataset='label_errors_in_ag_news', processed=9378, failed=0)"
      ]
     },
     "execution_count": 114,
     "metadata": {},
     "output_type": "execute_result"
    }
   ],
   "source": [
    "# uncover label errors for the train set in the Rubrix web app\n",
    "rb.log(find_label_errors(records), \"label_errors_in_ag_news\")"
   ]
  }
 ],
 "metadata": {
  "kernelspec": {
   "display_name": "Python 3",
   "language": "python",
   "name": "python3"
  },
  "language_info": {
   "codemirror_mode": {
    "name": "ipython",
    "version": 3
   },
   "file_extension": ".py",
   "mimetype": "text/x-python",
   "name": "python",
   "nbconvert_exporter": "python",
   "pygments_lexer": "ipython3",
   "version": "3.8.10"
  }
 },
 "nbformat": 4,
 "nbformat_minor": 5
}
