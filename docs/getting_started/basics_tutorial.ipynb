{
 "cells": [
  {
   "cell_type": "markdown",
   "id": "5393fab0-2b6c-40d7-9fc5-419343e4ba26",
   "metadata": {},
   "source": [
    "# RUBRIX BASICS\n",
    "\n",
    "Here you will find some basic guidelines on how to get started with Rubrix.\n",
    "\n",
    "## UPLOADING RECORDS"
   ]
  },
  {
   "cell_type": "markdown",
   "id": "0f3fb22a-e24c-418a-83ea-c4ceb07f26df",
   "metadata": {},
   "source": [
    "### TEXT CLASSIFICATION\n",
    "\n",
    "***REGULAR TASKS**: Text Categorization, Sentiment Analysis, Semantic Textual Similarity, Natural Language Inference (NLI)...*\n",
    "\n",
    "This is an example of how you can upload records for **Text Classification tasks**. We used a [dataset](https://www.kaggle.com/datasets/databar/10k-snapchat-reviews) from Kaggle, which contains 10K reviews about the Snapchat app from App Store. "
   ]
  },
  {
   "cell_type": "code",
   "execution_count": 1,
   "id": "d4ae148b-4d91-49ef-a7d1-6073ce8f2077",
   "metadata": {},
   "outputs": [
    {
     "data": {
      "text/html": [
       "<div>\n",
       "<style scoped>\n",
       "    .dataframe tbody tr th:only-of-type {\n",
       "        vertical-align: middle;\n",
       "    }\n",
       "\n",
       "    .dataframe tbody tr th {\n",
       "        vertical-align: top;\n",
       "    }\n",
       "\n",
       "    .dataframe thead th {\n",
       "        text-align: right;\n",
       "    }\n",
       "</style>\n",
       "<table border=\"1\" class=\"dataframe\">\n",
       "  <thead>\n",
       "    <tr style=\"text-align: right;\">\n",
       "      <th></th>\n",
       "      <th>Unnamed: 0</th>\n",
       "      <th>userName</th>\n",
       "      <th>rating</th>\n",
       "      <th>review</th>\n",
       "      <th>isEdited</th>\n",
       "      <th>date</th>\n",
       "      <th>title</th>\n",
       "    </tr>\n",
       "  </thead>\n",
       "  <tbody>\n",
       "    <tr>\n",
       "      <th>0</th>\n",
       "      <td>0</td>\n",
       "      <td>Savvanananahhh</td>\n",
       "      <td>4</td>\n",
       "      <td>For the most part I quite enjoy Snapchat it’s ...</td>\n",
       "      <td>False</td>\n",
       "      <td>10/4/20 6:01</td>\n",
       "      <td>Performance issues</td>\n",
       "    </tr>\n",
       "    <tr>\n",
       "      <th>1</th>\n",
       "      <td>1</td>\n",
       "      <td>Idek 9-101112</td>\n",
       "      <td>3</td>\n",
       "      <td>I’m sorry to say it, but something is definite...</td>\n",
       "      <td>False</td>\n",
       "      <td>10/14/20 2:13</td>\n",
       "      <td>What happened?</td>\n",
       "    </tr>\n",
       "    <tr>\n",
       "      <th>2</th>\n",
       "      <td>2</td>\n",
       "      <td>William Quintana</td>\n",
       "      <td>3</td>\n",
       "      <td>Snapchat update ruined my story organization! ...</td>\n",
       "      <td>False</td>\n",
       "      <td>7/31/20 19:54</td>\n",
       "      <td>STORY ORGANIZATION RUINED!</td>\n",
       "    </tr>\n",
       "    <tr>\n",
       "      <th>3</th>\n",
       "      <td>3</td>\n",
       "      <td>an gonna be unkown😏</td>\n",
       "      <td>5</td>\n",
       "      <td>I really love the app for how long i have been...</td>\n",
       "      <td>False</td>\n",
       "      <td>4/22/21 14:10</td>\n",
       "      <td>The app is great</td>\n",
       "    </tr>\n",
       "    <tr>\n",
       "      <th>4</th>\n",
       "      <td>4</td>\n",
       "      <td>gzhangziqi</td>\n",
       "      <td>1</td>\n",
       "      <td>This is super frustrating. I was in the middle...</td>\n",
       "      <td>False</td>\n",
       "      <td>10/2/20 13:58</td>\n",
       "      <td>Locked me out, customer service not helping</td>\n",
       "    </tr>\n",
       "    <tr>\n",
       "      <th>...</th>\n",
       "      <td>...</td>\n",
       "      <td>...</td>\n",
       "      <td>...</td>\n",
       "      <td>...</td>\n",
       "      <td>...</td>\n",
       "      <td>...</td>\n",
       "      <td>...</td>\n",
       "    </tr>\n",
       "    <tr>\n",
       "      <th>9555</th>\n",
       "      <td>9555</td>\n",
       "      <td>geekygirl17</td>\n",
       "      <td>1</td>\n",
       "      <td>I used to love using Snapchat and now I hardly...</td>\n",
       "      <td>False</td>\n",
       "      <td>6/24/19 0:58</td>\n",
       "      <td>Major issue...not that it will get fixed</td>\n",
       "    </tr>\n",
       "    <tr>\n",
       "      <th>9556</th>\n",
       "      <td>9556</td>\n",
       "      <td>changemaker kkdd</td>\n",
       "      <td>2</td>\n",
       "      <td>Well, I did deleted it because there was some ...</td>\n",
       "      <td>False</td>\n",
       "      <td>6/23/19 13:42</td>\n",
       "      <td>I got then deleted it.</td>\n",
       "    </tr>\n",
       "    <tr>\n",
       "      <th>9557</th>\n",
       "      <td>9557</td>\n",
       "      <td>teekay2much</td>\n",
       "      <td>4</td>\n",
       "      <td>Every time I upload a photo or video to my sto...</td>\n",
       "      <td>False</td>\n",
       "      <td>6/3/19 3:35</td>\n",
       "      <td>Story problem</td>\n",
       "    </tr>\n",
       "    <tr>\n",
       "      <th>9558</th>\n",
       "      <td>9558</td>\n",
       "      <td>whoratheexplora</td>\n",
       "      <td>4</td>\n",
       "      <td>Love this app, but since he update I can’t upl...</td>\n",
       "      <td>False</td>\n",
       "      <td>6/3/19 3:26</td>\n",
       "      <td>Bugs</td>\n",
       "    </tr>\n",
       "    <tr>\n",
       "      <th>9559</th>\n",
       "      <td>9559</td>\n",
       "      <td>Anthony romanempire21</td>\n",
       "      <td>3</td>\n",
       "      <td>Love Snapchat but for some reason when I post ...</td>\n",
       "      <td>False</td>\n",
       "      <td>6/3/19 2:24</td>\n",
       "      <td>Posting to snap story</td>\n",
       "    </tr>\n",
       "  </tbody>\n",
       "</table>\n",
       "<p>9560 rows × 7 columns</p>\n",
       "</div>"
      ],
      "text/plain": [
       "      Unnamed: 0               userName  rating  \\\n",
       "0              0         Savvanananahhh       4   \n",
       "1              1          Idek 9-101112       3   \n",
       "2              2       William Quintana       3   \n",
       "3              3    an gonna be unkown😏       5   \n",
       "4              4             gzhangziqi       1   \n",
       "...          ...                    ...     ...   \n",
       "9555        9555            geekygirl17       1   \n",
       "9556        9556       changemaker kkdd       2   \n",
       "9557        9557            teekay2much       4   \n",
       "9558        9558        whoratheexplora       4   \n",
       "9559        9559  Anthony romanempire21       3   \n",
       "\n",
       "                                                 review  isEdited  \\\n",
       "0     For the most part I quite enjoy Snapchat it’s ...     False   \n",
       "1     I’m sorry to say it, but something is definite...     False   \n",
       "2     Snapchat update ruined my story organization! ...     False   \n",
       "3     I really love the app for how long i have been...     False   \n",
       "4     This is super frustrating. I was in the middle...     False   \n",
       "...                                                 ...       ...   \n",
       "9555  I used to love using Snapchat and now I hardly...     False   \n",
       "9556  Well, I did deleted it because there was some ...     False   \n",
       "9557  Every time I upload a photo or video to my sto...     False   \n",
       "9558  Love this app, but since he update I can’t upl...     False   \n",
       "9559  Love Snapchat but for some reason when I post ...     False   \n",
       "\n",
       "               date                                        title  \n",
       "0      10/4/20 6:01                           Performance issues  \n",
       "1     10/14/20 2:13                               What happened?  \n",
       "2     7/31/20 19:54                   STORY ORGANIZATION RUINED!  \n",
       "3     4/22/21 14:10                             The app is great  \n",
       "4     10/2/20 13:58  Locked me out, customer service not helping  \n",
       "...             ...                                          ...  \n",
       "9555   6/24/19 0:58     Major issue...not that it will get fixed  \n",
       "9556  6/23/19 13:42                       I got then deleted it.  \n",
       "9557    6/3/19 3:35                                Story problem  \n",
       "9558    6/3/19 3:26                                         Bugs  \n",
       "9559    6/3/19 2:24                        Posting to snap story  \n",
       "\n",
       "[9560 rows x 7 columns]"
      ]
     },
     "execution_count": 1,
     "metadata": {},
     "output_type": "execute_result"
    }
   ],
   "source": [
    "import pandas as pd\n",
    "import rubrix as rb\n",
    "\n",
    "#converting the CSV file into a Pandas Dataframe\n",
    "dataset_txt = pd.read_csv(\"snapchat.csv\") \n",
    "\n",
    "dataset_txt #displaying the dataframe to see its columns"
   ]
  },
  {
   "cell_type": "code",
   "execution_count": 2,
   "id": "69fe9946-9e0f-4be9-ade2-9884d9bda998",
   "metadata": {},
   "outputs": [
    {
     "name": "stderr",
     "output_type": "stream",
     "text": [
      "2022-05-03 15:01:01.508 | WARNING  | rubrix.client.datasets:from_pandas:263 - Following columns are not supported by the TextClassificationRecord model and are ignored: ['Unnamed: 0', 'userName', 'rating', 'isEdited', 'date', 'title']\n"
     ]
    }
   ],
   "source": [
    "#renaming the column related to the text input\n",
    "data = dataset_txt.rename(columns={\"review\": \"text\"}) \n",
    "\n",
    "#rubrix is able to read the dataframe and identify the columns\n",
    "record_txt = rb.read_pandas(data, task=\"TextClassification\") "
   ]
  },
  {
   "cell_type": "code",
   "execution_count": 3,
   "id": "ea1c0cb7-f129-45e7-8784-88908d882104",
   "metadata": {},
   "outputs": [
    {
     "data": {
      "application/vnd.jupyter.widget-view+json": {
       "model_id": "3cbead6d8f7d4033aee7597671256a95",
       "version_major": 2,
       "version_minor": 0
      },
      "text/plain": [
       "  0%|          | 0/9560 [00:00<?, ?it/s]"
      ]
     },
     "metadata": {},
     "output_type": "display_data"
    },
    {
     "name": "stdout",
     "output_type": "stream",
     "text": [
      "9560 records logged to http://localhost:6900/datasets/rubrix/snapchat_reviews\n"
     ]
    },
    {
     "data": {
      "text/plain": [
       "BulkResponse(dataset='snapchat_reviews', processed=9560, failed=0)"
      ]
     },
     "execution_count": 3,
     "metadata": {},
     "output_type": "execute_result"
    }
   ],
   "source": [
    "#logging the records\n",
    "rb.log(record_txt, \"snapchat_reviews\")"
   ]
  },
  {
   "cell_type": "markdown",
   "id": "59944e44-4202-4890-9a45-f99fc3fb2dd1",
   "metadata": {
    "tags": []
   },
   "source": [
    "### TOKEN CLASSIFICATION\n",
    "\n",
    "***REGULAR TASKS**: Named Entity Recognition (NER), Part-of-speech tagging, Slot filling...*\n",
    "\n",
    "This **Token classification tasks** example shows how to create a new CSV from a dataframe with sample German sentences, to tokenize text with the [NLTK library](https://www.nltk.org/), and to save these tokens in a new column."
   ]
  },
  {
   "cell_type": "code",
   "execution_count": 4,
   "id": "502febcb-26f1-4832-8218-4f029ebed697",
   "metadata": {},
   "outputs": [
    {
     "data": {
      "text/html": [
       "<div>\n",
       "<style scoped>\n",
       "    .dataframe tbody tr th:only-of-type {\n",
       "        vertical-align: middle;\n",
       "    }\n",
       "\n",
       "    .dataframe tbody tr th {\n",
       "        vertical-align: top;\n",
       "    }\n",
       "\n",
       "    .dataframe thead th {\n",
       "        text-align: right;\n",
       "    }\n",
       "</style>\n",
       "<table border=\"1\" class=\"dataframe\">\n",
       "  <thead>\n",
       "    <tr style=\"text-align: right;\">\n",
       "      <th></th>\n",
       "      <th>text</th>\n",
       "    </tr>\n",
       "  </thead>\n",
       "  <tbody>\n",
       "    <tr>\n",
       "      <th>0</th>\n",
       "      <td>Er war ein österreichischer Politiker, Bundesk...</td>\n",
       "    </tr>\n",
       "    <tr>\n",
       "      <th>1</th>\n",
       "      <td>Diese deutsche Stadt ist die drittglücklichste...</td>\n",
       "    </tr>\n",
       "    <tr>\n",
       "      <th>2</th>\n",
       "      <td>Eins, zwei, Polizei, drei, vier, Grenadier</td>\n",
       "    </tr>\n",
       "  </tbody>\n",
       "</table>\n",
       "</div>"
      ],
      "text/plain": [
       "                                                text\n",
       "0  Er war ein österreichischer Politiker, Bundesk...\n",
       "1  Diese deutsche Stadt ist die drittglücklichste...\n",
       "2        Eins, zwei, Polizei, drei, vier, Grenadier "
      ]
     },
     "execution_count": 4,
     "metadata": {},
     "output_type": "execute_result"
    }
   ],
   "source": [
    "import rubrix as rb\n",
    "import pandas as pd\n",
    "import spacy\n",
    "\n",
    "dataset_tok = pd.DataFrame({'text': [\"Er war ein österreichischer Politiker, Bundeskanzler der Republik Österreich und wurde bekannt als 'Staatsvertragskanzler'\", \n",
    "                                  \"Diese deutsche Stadt ist die drittglücklichste der Welt\", \n",
    "                                  \"Eins, zwei, Polizei, drei, vier, Grenadier \"],\n",
    "                           })\n",
    "\n",
    "dataset_tok.to_csv() #saving the sample sentences into a new csv  \n",
    "dataset_tok"
   ]
  },
  {
   "cell_type": "code",
   "execution_count": 5,
   "id": "7d1f1c02-f6f5-4939-890e-29e5db31404b",
   "metadata": {},
   "outputs": [
    {
     "data": {
      "text/html": [
       "<div>\n",
       "<style scoped>\n",
       "    .dataframe tbody tr th:only-of-type {\n",
       "        vertical-align: middle;\n",
       "    }\n",
       "\n",
       "    .dataframe tbody tr th {\n",
       "        vertical-align: top;\n",
       "    }\n",
       "\n",
       "    .dataframe thead th {\n",
       "        text-align: right;\n",
       "    }\n",
       "</style>\n",
       "<table border=\"1\" class=\"dataframe\">\n",
       "  <thead>\n",
       "    <tr style=\"text-align: right;\">\n",
       "      <th></th>\n",
       "      <th>text</th>\n",
       "      <th>tokens</th>\n",
       "    </tr>\n",
       "  </thead>\n",
       "  <tbody>\n",
       "    <tr>\n",
       "      <th>0</th>\n",
       "      <td>Er war ein österreichischer Politiker, Bundesk...</td>\n",
       "      <td>[Er, war, ein, österreichischer, Politiker, ,,...</td>\n",
       "    </tr>\n",
       "    <tr>\n",
       "      <th>1</th>\n",
       "      <td>Diese deutsche Stadt ist die drittglücklichste...</td>\n",
       "      <td>[Diese, deutsche, Stadt, ist, die, drittglückl...</td>\n",
       "    </tr>\n",
       "    <tr>\n",
       "      <th>2</th>\n",
       "      <td>Eins, zwei, Polizei, drei, vier, Grenadier</td>\n",
       "      <td>[Eins, ,, zwei, ,, Polizei, ,, drei, ,, vier, ...</td>\n",
       "    </tr>\n",
       "  </tbody>\n",
       "</table>\n",
       "</div>"
      ],
      "text/plain": [
       "                                                text  \\\n",
       "0  Er war ein österreichischer Politiker, Bundesk...   \n",
       "1  Diese deutsche Stadt ist die drittglücklichste...   \n",
       "2        Eins, zwei, Polizei, drei, vier, Grenadier    \n",
       "\n",
       "                                              tokens  \n",
       "0  [Er, war, ein, österreichischer, Politiker, ,,...  \n",
       "1  [Diese, deutsche, Stadt, ist, die, drittglückl...  \n",
       "2  [Eins, ,, zwei, ,, Polizei, ,, drei, ,, vier, ...  "
      ]
     },
     "execution_count": 5,
     "metadata": {},
     "output_type": "execute_result"
    }
   ],
   "source": [
    "import nltk\n",
    "\n",
    "#creating a new column for saving the tokenized text\n",
    "dataset_tok['tokens'] = dataset_tok.apply(lambda row: nltk.word_tokenize(row['text']), axis=1) \n",
    "\n",
    "dataset_tok"
   ]
  },
  {
   "cell_type": "code",
   "execution_count": 6,
   "id": "0e4ff337-7b12-48fc-b8a1-a829a7800d49",
   "metadata": {},
   "outputs": [],
   "source": [
    "#rubrix is able to read the dataframe and identify the columns\n",
    "\n",
    "record_tok = rb.read_pandas(dataset_tok, task=\"TokenClassification\") "
   ]
  },
  {
   "cell_type": "code",
   "execution_count": 7,
   "id": "5dee85f1-1a37-4850-9bda-c4e54aa5db03",
   "metadata": {},
   "outputs": [
    {
     "data": {
      "application/vnd.jupyter.widget-view+json": {
       "model_id": "806a626d26e24cc792fa234ea2358b38",
       "version_major": 2,
       "version_minor": 0
      },
      "text/plain": [
       "  0%|          | 0/3 [00:00<?, ?it/s]"
      ]
     },
     "metadata": {},
     "output_type": "display_data"
    },
    {
     "name": "stdout",
     "output_type": "stream",
     "text": [
      "3 records logged to http://localhost:6900/datasets/rubrix/deutsch_ner\n"
     ]
    },
    {
     "data": {
      "text/plain": [
       "BulkResponse(dataset='deutsch_ner', processed=3, failed=0)"
      ]
     },
     "execution_count": 7,
     "metadata": {},
     "output_type": "execute_result"
    }
   ],
   "source": [
    "rb.log(record_tok, \"deutsch_ner\")"
   ]
  },
  {
   "cell_type": "markdown",
   "id": "d66683c8-9ed5-4ab9-9937-39eeac9ccab0",
   "metadata": {},
   "source": [
    "### TEXT2TEXT\n",
    "\n",
    "***REGULAR TASKS**: Machine translation, Text summarization, Paraphrase generation...*\n",
    "\n",
    "You can see here how you can easily upload records for **Text2Text tasks**. With this [HuggingFace dataset](https://huggingface.co/datasets/bible_para/viewer/en-fr/train), containing biblical phrases in English and French, and the [map](https://huggingface.co/docs/datasets/process#map) function, it can be easily done.\n",
    "\n",
    "In this case, only the chosen **source language** (French) is uploaded, as the **target language** would be the predicted output."
   ]
  },
  {
   "cell_type": "code",
   "execution_count": 8,
   "id": "cfbce85f-200e-4b54-9650-308395b81770",
   "metadata": {},
   "outputs": [
    {
     "name": "stderr",
     "output_type": "stream",
     "text": [
      "2022-05-03 15:01:32.785 | WARNING  | datasets.builder:download_and_prepare:531 - Reusing dataset bible_para (/Users/leire/.cache/huggingface/datasets/bible_para/en-fr/1.0.0/b6cc20bcbfb0299beeba1dcc80a8420b975938ca0eef75b3ed30b50df7d950b1)\n"
     ]
    }
   ],
   "source": [
    "from transformers import pipeline\n",
    "from datasets import load_dataset\n",
    "\n",
    "dataset = load_dataset(\"bible_para\", 'en-fr', split=\"train[0:100]\")"
   ]
  },
  {
   "cell_type": "code",
   "execution_count": 9,
   "id": "b27d93ad-86f0-4d6c-a31f-5cc1d55235a6",
   "metadata": {},
   "outputs": [],
   "source": [
    "def extract_frphrase(example):\n",
    "    example['text'] = example['translation']['fr']\n",
    "    return example"
   ]
  },
  {
   "cell_type": "code",
   "execution_count": 10,
   "id": "77c29b34-df79-4f37-930b-4e54c25a320e",
   "metadata": {},
   "outputs": [
    {
     "data": {
      "application/vnd.jupyter.widget-view+json": {
       "model_id": "25aba0e9087943c4b8af23a116a98c5e",
       "version_major": 2,
       "version_minor": 0
      },
      "text/plain": [
       "0ex [00:00, ?ex/s]"
      ]
     },
     "metadata": {},
     "output_type": "display_data"
    },
    {
     "data": {
      "text/plain": [
       "['Au commencement, Dieu créa les cieux et la terre.',\n",
       " 'La terre était informe et vide: il y avait des ténèbres à la surface de l`abîme, et l`esprit de Dieu se mouvait au-dessus des eaux.',\n",
       " 'Dieu dit: Que la lumière soit! Et la lumière fut.',\n",
       " 'Dieu vit que la lumière était bonne; et Dieu sépara la lumière d`avec les ténèbres.',\n",
       " 'Dieu appela la lumière jour, et il appela les ténèbres nuit. Ainsi, il y eut un soir, et il y eut un matin: ce fut le premier jour.']"
      ]
     },
     "execution_count": 10,
     "metadata": {},
     "output_type": "execute_result"
    }
   ],
   "source": [
    "updated_dataset = dataset.map(extract_frphrase)\n",
    "updated_dataset['text'][:5]"
   ]
  },
  {
   "cell_type": "code",
   "execution_count": 13,
   "id": "d7cb102c-2c02-4368-9dec-a0c014273de2",
   "metadata": {},
   "outputs": [
    {
     "name": "stderr",
     "output_type": "stream",
     "text": [
      "2022-05-03 15:02:05.311 | WARNING  | rubrix.client.datasets:from_datasets:199 - Following columns are not supported by the Text2TextRecord model and are ignored: ['translation']\n"
     ]
    },
    {
     "data": {
      "application/vnd.jupyter.widget-view+json": {
       "model_id": "e440a20013f843a19d3f6d3346488baa",
       "version_major": 2,
       "version_minor": 0
      },
      "text/plain": [
       "  0%|          | 0/100 [00:00<?, ?it/s]"
      ]
     },
     "metadata": {},
     "output_type": "display_data"
    },
    {
     "name": "stdout",
     "output_type": "stream",
     "text": [
      "100 records logged to http://localhost:6900/datasets/rubrix/bible_fr-en\n"
     ]
    },
    {
     "data": {
      "text/plain": [
       "BulkResponse(dataset='bible_fr-en', processed=100, failed=0)"
      ]
     },
     "execution_count": 13,
     "metadata": {},
     "output_type": "execute_result"
    }
   ],
   "source": [
    "bible_fr_en = rb.read_datasets(updated_dataset, task=\"Text2Text\") \n",
    "\n",
    "rb.log(bible_fr_en, \"bible_fr-en\")"
   ]
  },
  {
   "cell_type": "code",
   "execution_count": null,
   "id": "906ff0f7-e453-4a40-a946-fb024feceffe",
   "metadata": {},
   "outputs": [],
   "source": []
  },
  {
   "cell_type": "code",
   "execution_count": null,
   "id": "7b59e5ac-234c-4e10-8de3-0b159ecb3f92",
   "metadata": {},
   "outputs": [],
   "source": []
  },
  {
   "cell_type": "code",
   "execution_count": null,
   "id": "e71904a7-128a-428d-8d78-d10727ec8818",
   "metadata": {},
   "outputs": [],
   "source": []
  },
  {
   "cell_type": "code",
   "execution_count": null,
   "id": "32a275c4-698f-4d79-9719-c7e69d2191c8",
   "metadata": {},
   "outputs": [],
   "source": []
  },
  {
   "cell_type": "code",
   "execution_count": null,
   "id": "657e5427-925d-49fb-9190-5245c5eb143b",
   "metadata": {},
   "outputs": [],
   "source": []
  }
 ],
 "metadata": {
  "kernelspec": {
   "display_name": "Python 3 (ipykernel)",
   "language": "python",
   "name": "python3"
  },
  "language_info": {
   "codemirror_mode": {
    "name": "ipython",
    "version": 3
   },
   "file_extension": ".py",
   "mimetype": "text/x-python",
   "name": "python",
   "nbconvert_exporter": "python",
   "pygments_lexer": "ipython3",
   "version": "3.8.12"
  }
 },
 "nbformat": 4,
 "nbformat_minor": 5
}
