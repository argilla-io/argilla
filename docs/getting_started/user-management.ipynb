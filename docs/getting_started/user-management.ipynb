{
 "cells": [
  {
   "cell_type": "markdown",
   "id": "f6c91b11",
   "metadata": {},
   "source": [
    "# User Management and Workspaces\n",
    "\n",
    "\n",
    "This guide explains how to setup the users and team workspaces for your Rubrix instance.\n",
    "\n",
    "\n",
    "Let's first describe Rubrix's user management model:\n",
    "\n",
    "\n",
    "## User management model\n",
    "\n",
    "### `User`\n",
    "\n",
    "A Rubrix user is defined by the following fields:\n",
    "\n",
    "- `username`: The username to use for login into the Webapp.\n",
    "- `email`(optional): The user's email.\n",
    "- `fullname` (optional): The user's full name\n",
    "- `disabled`(optional): Whether this use is enabled (and can interact with Rubrix), this might be useful for disabling user access temporarily.\n",
    "- `workspaces`(optional): The team workspaces where the user has read and write access (both from the Webapp and the Python client). If this field is not defined the user will be a super-user and have access to all datasets in the instance. If this field is set to an empty list `[]` the user will only have access to her user workspace. Read more about workspaces and users below.\n",
    "- `api_key`: The API key to interact with Rubrix API, mainly through the Python client but also via HTTP for advanced users.\n",
    "\n",
    "### `Workspace`\n",
    "\n",
    "A workspace is a Rubrix \"space\" where users can collaborate, both using the Webapp and the Python client. There are two types of workspace:\n",
    "\n",
    "- `Team workspace`: Where one or several users have read/write access.\n",
    "- `User workspace`: Every user gets its own user workspace. This workspace is the default workspace when users log and load data with the Python client. The name of this workspace corresponds to the username.\n",
    "\n",
    "A user is given access to a workspace by including the name of the workspace in the list of workspaces defined by the `workspaces` field. **Users with no defined workspaces field are super-users** and have access and right to all datasets.\n",
    "\n",
    "\n",
    "### Python client methods and workspaces\n",
    "\n",
    "The Python client gives developers the ability to log, load, and copy datasets from and to different workspace. Check out the [Python Reference](../reference/python/python_client.rst) for the parameter and methods related to workspaces.\n",
    "Some examples are:"
   ]
  },
  {
   "cell_type": "code",
   "execution_count": null,
   "id": "7985c9c2",
   "metadata": {
    "pycharm": {
     "name": "#%%\n"
    }
   },
   "outputs": [],
   "source": [
    "import rubrix as rb\n",
    "\n",
    "# After this init, all logging and loading will use the specified workspace\n",
    "rb.init(workspace=\"my_shared_workspace\")\n",
    "\n",
    "# Setting the workspace explicitly will also affect all logging and loading\n",
    "rb.set_workspace(\"my_private_workspace\")"
   ]
  },
  {
   "cell_type": "markdown",
   "id": "50adeb69",
   "metadata": {
    "pycharm": {
     "name": "#%% md\n"
    }
   },
   "source": [
    "### `users.yml`\n",
    "\n",
    "The above user management model is configured using a YAML file which server maintainers can define before launching a Rubrix instance. This can be done when launching Rubrix from Python or with the provided `docker-compose.yml`. Read below for more details on the different options."
   ]
  },
  {
   "cell_type": "markdown",
   "id": "246c78d9",
   "metadata": {},
   "source": [
    "## default user\n",
    "\n",
    "by default if you don't configure a `users.yml` file, your rubrix instance is pre-configured with the following default user:\n",
    "\n",
    "- username: ``rubrix``\n",
    "- password: ``1234``\n",
    "- api_key: ``rubrix.apikey``\n",
    "\n",
    "for security reasons we recommend changing at least the password and api key.\n",
    "\n",
    "### how to override the default api key\n",
    "\n",
    "to override the default api key you can set the following environment variable before launching the server:\n",
    "\n",
    "\n",
    "```bash\n",
    "export rubrix_local_auth_default_apikey=new-apikey\n",
    "```\n",
    "\n",
    "\n",
    "### how to override the default user password\n",
    "\n",
    "to override the password, you must set an environment variable that contains an already hashed password.\n",
    "you can use ``htpasswd`` to generate a hashed password:\n",
    "\n",
    "```bash\n",
    "\n",
    "   htpasswd -nbb \"\" my-new-password\n",
    "   :$2y$05$t5mht/tfrhppywben2.q7e11qqhgvshbhvqq1c/pdap.xpzm2axje\n",
    "```\n",
    "\n",
    "Afterwards, set the environment variable omitting the first ``:`` character (in our case ``$2y$05$t5...``):\n",
    "\n",
    "```bash\n",
    "\n",
    "    export rubrix_local_auth_default_password=\"<generated_user_password>\"\n",
    "```"
   ]
  },
  {
   "cell_type": "markdown",
   "id": "dcf46640",
   "metadata": {},
   "source": [
    "Alternatively, you can also generate the hash using passlib's CryptContext: E.g., by running the following in a python console:"
   ]
  },
  {
   "cell_type": "code",
   "execution_count": null,
   "id": "22efeb08",
   "metadata": {},
   "outputs": [],
   "source": [
    "from passlib.context import CryptContext\n",
    "print(CryptContext(schemes=[\"bcrypt\"], deprecated=\"auto\").hash('password'))"
   ]
  },
  {
   "cell_type": "markdown",
   "id": "e88f4363",
   "metadata": {},
   "source": [
    "## How to add new users and workspaces\n",
    "\n",
    "To configure your Rubrix instance for various users, you just need to create a yaml file as follows:\n",
    "```yaml\n",
    "\n",
    "    #.users.yaml\n",
    "    # Users are provided as a list\n",
    "    - username: user1\n",
    "      hashed_password: <generated-hashed-password> # See the previous section above\n",
    "      api_key: \"ThisIsTheUser1APIKEY\"\n",
    "      workspaces: [] # This user will only have her user workspace available\n",
    "    - username: user2\n",
    "      hashed_password: <generated-hashed-password> # See the previous section above\n",
    "      api_key: \"ThisIsTheUser2APIKEY\"\n",
    "      workspaces: ['client_projects'] # access to her user workspace and the client_projects workspace\n",
    "    - username: user3\n",
    "      hashed_password: <generated-hashed-password> # See the previous section above\n",
    "      api_key: \"ThisIsTheUser2APIKEY\" # this user can access all workspaces (including\n",
    "    - ...\n",
    "```\n",
    "\n",
    "Then point the following environment variable to this yaml file before launching the server:\n",
    "\n",
    "```bash\n",
    "\n",
    "    export RUBRIX_LOCAL_AUTH_USERS_DB_FILE=/path/to/.users.yaml\n",
    "```\n",
    "\n",
    "If everything went well, the configured users can now log in and their annotations will be tracked with their usernames.\n",
    "\n",
    "\n",
    "### Using docker-compose\n",
    "\n",
    "Make sure you create the yaml file above in the same folder as your `docker-compose.yaml`. You can download the `docker-compose` from this [URL](https://git.io/rb-docker): \n",
    "\n",
    "Then open the provided ``docker-compose.yaml`` and configure your Rubrix instance as follows:\n",
    "\n",
    "```yaml\n",
    "\n",
    "    # docker-compose.yaml\n",
    "    services:\n",
    "      rubrix:\n",
    "        image: recognai/rubrix:latest\n",
    "        ports:\n",
    "          - \"6900:80\"\n",
    "        environment:\n",
    "          ELASTICSEARCH: http://elasticsearch:9200\n",
    "          RUBRIX_LOCAL_AUTH_USERS_DB_FILE: /config/.users.yaml\n",
    "\n",
    "        volumes:\n",
    "          # We mount the local file .users.yaml in remote container in path /config/.users.yaml\n",
    "          - ${PWD}/.users.yaml:/config/.users.yaml\n",
    "      ...\n",
    "```\n",
    "\n",
    "You can reload the *Rubrix* service to refresh the container:\n",
    "\n",
    "```yaml\n",
    "\n",
    "    docker-compose up -d rubrix\n",
    "```\n",
    "\n",
    "If everything went well, the configured users can now log in, their annotations will be tracked with their usernames, and they'll have access to the defined workspaces."
   ]
  }
 ],
 "metadata": {
  "kernelspec": {
   "display_name": "Python 3 (ipykernel)",
   "language": "python",
   "name": "python3"
  },
  "language_info": {
   "codemirror_mode": {
    "name": "ipython",
    "version": 3
   },
   "file_extension": ".py",
   "mimetype": "text/x-python",
   "name": "python",
   "nbconvert_exporter": "python",
   "pygments_lexer": "ipython3",
   "version": "3.7.13"
  }
 },
 "nbformat": 4,
 "nbformat_minor": 5
}
