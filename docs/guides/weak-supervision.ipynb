{
 "cells": [
  {
   "cell_type": "markdown",
   "id": "020957ce-46fa-4799-8321-716e62900269",
   "metadata": {},
   "source": [
    "# Weak supervision\n",
    "\n",
    "\n",
    "This guide gives you a brief introduction to weak supervision with Rubrix.\n",
    "\n",
    "Rubrix currently supports weak supervision for text classification use cases, but we'll be adding support for token classification (e.g., Named Entity Recognition) soon.\n",
    "\n",
    "\n",
    ".. nbinfo::\n",
    "   This feature is experimental, you can expect some changes in the Python API. Please report on [Github](https://github.com/recognai/rubrix) any issue you encounter.\n",
    "   \n",
    "   \n",
    "   \n",
    "   \n",
    "![Labeling workflow](https://raw.githubusercontent.com/recognai/rubrix-materials/main/tutorials/weak_supervision/weak_supervision.svg \"Labeling workflow\")"
   ]
  },
  {
   "cell_type": "markdown",
   "id": "9eb86995-f158-4392-86b7-eb5305a9ec3b",
   "metadata": {},
   "source": [
    "## Rubrix weak supervision in a nutshell\n",
    "\n",
    "Doing weak supervision with Rubrix should be straightforward. Keeping the same spirit as other parts of the library, you can virtually use any weak supervision library or method, such as Snorkel or Flyingsquid. \n",
    "\n",
    "Rubrix weak supervision support is built around two basic abstractions:\n",
    "\n",
    "\n",
    "### `Rule`\n",
    "A rule encodes an heuristic for labeling a record.\n",
    "\n",
    "Heuristics can be defined using [Elasticsearch's queries](../reference/rubrix_webapp_reference.rst#search-input):\n",
    "\n",
    "```python\n",
    "plz = Rule(query=\"plz OR please\", label=\"SPAM\")\n",
    "```\n",
    "\n",
    "or with Python functions (similar to Snorkel's labeling functions, which you can use as well):\n",
    "\n",
    "```python\n",
    "def contains_http(record: rb.TextClassificationRecord) -> Optional[str]:\n",
    "    if \"http\" in record.inputs[\"text\"]:\n",
    "        return \"SPAM\"\n",
    "```\n",
    "\n",
    "Besides textual features, Python labeling functions can exploit metadata features:\n",
    "\n",
    "```python\n",
    "def author_channel(record: rb.TextClassificationRecord) -> Optional[str]:\n",
    "    # the word channel appears in the comment author name\n",
    "    if \"channel\" in record.metadata[\"author\"]:\n",
    "        return \"SPAM\"\n",
    "```\n",
    "\n",
    "A rule should either return a string value, that is a weak label, or a `None` type in case of abstention.\n",
    "\n",
    "\n",
    "### `Weak Labels`\n",
    "\n",
    "Weak Labels objects bundle and apply a set of rules to the records of a Rubrix dataset. Applying a rule to a record means assigning a weak label or abstaining.\n",
    "\n",
    "This abstraction provides you with the building blocks for training and testing weak supervision \"denoising\", \"label\" or even \"end\" models:\n",
    "\n",
    "```python\n",
    "rules = [contains_http, author_channel]\n",
    "weak_labels = WeakLabels(\n",
    "    rules=rules, \n",
    "    dataset=\"weak_supervision_yt\"\n",
    ")\n",
    "\n",
    "# returns a summary of the applied rules\n",
    "weak_labels.summary()\n",
    "```\n",
    "\n",
    "More information about these abstractions can be found in [the Python Labeling module docs](../reference/python/python_labeling.rst).\n",
    "\n",
    "## Workflow\n",
    "\n",
    "A typical workflow to use weak supervision is:\n",
    "\n",
    "1. Create a Rubrix dataset with your raw dataset. If you actually have some labelled data you can log it into the the same dataset.\n",
    "2. Define a set of rules, exploring and trying out different things directly in the Rubrix web app.\n",
    "3. Create a `WeakLabels` object and apply the rules. Typically, you'll iterate between this step and step 2.\n",
    "4. Once you are satisfied with your weak labels, use the matrix of the `WeakLabels` instance with your library/method of choice to build a training set or even train a downstream text classification model.\n",
    "\n",
    "This guide shows you an end-to-end example using Snorkel and Flyingsquid. Let's get started!"
   ]
  },
  {
   "cell_type": "markdown",
   "id": "bf52dd8f-fb8e-4909-9f6d-0a8856afa999",
   "metadata": {},
   "source": [
    "## Example dataset\n",
    "\n",
    "We'll be using a well-known dataset for weak supervision examples, the [YouTube Spam Collection](http://www.dt.fee.unicamp.br/~tiago//youtubespamcollection/) dataset, which is a binary classification task for detecting spam comments in Youtube videos. "
   ]
  },
  {
   "cell_type": "code",
   "execution_count": 74,
   "id": "6b1e00af-c6f9-42aa-81aa-2976c9591b36",
   "metadata": {},
   "outputs": [
    {
     "data": {
      "text/html": [
       "<div>\n",
       "<style scoped>\n",
       "    .dataframe tbody tr th:only-of-type {\n",
       "        vertical-align: middle;\n",
       "    }\n",
       "\n",
       "    .dataframe tbody tr th {\n",
       "        vertical-align: top;\n",
       "    }\n",
       "\n",
       "    .dataframe thead th {\n",
       "        text-align: right;\n",
       "    }\n",
       "</style>\n",
       "<table border=\"1\" class=\"dataframe\">\n",
       "  <thead>\n",
       "    <tr style=\"text-align: right;\">\n",
       "      <th></th>\n",
       "      <th>Unnamed: 0</th>\n",
       "      <th>author</th>\n",
       "      <th>date</th>\n",
       "      <th>text</th>\n",
       "      <th>label</th>\n",
       "      <th>video</th>\n",
       "    </tr>\n",
       "  </thead>\n",
       "  <tbody>\n",
       "    <tr>\n",
       "      <th>0</th>\n",
       "      <td>0</td>\n",
       "      <td>Alessandro leite</td>\n",
       "      <td>2014-11-05T22:21:36</td>\n",
       "      <td>pls http://www10.vakinha.com.br/VaquinhaE.aspx?e=313327 help me get vip gun  cross fire al﻿</td>\n",
       "      <td>-1.0</td>\n",
       "      <td>1</td>\n",
       "    </tr>\n",
       "    <tr>\n",
       "      <th>1</th>\n",
       "      <td>1</td>\n",
       "      <td>Salim Tayara</td>\n",
       "      <td>2014-11-02T14:33:30</td>\n",
       "      <td>if your like drones, plz subscribe to Kamal Tayara. He takes videos with  his drone that are absolutely beautiful.﻿</td>\n",
       "      <td>-1.0</td>\n",
       "      <td>1</td>\n",
       "    </tr>\n",
       "    <tr>\n",
       "      <th>2</th>\n",
       "      <td>2</td>\n",
       "      <td>Phuc Ly</td>\n",
       "      <td>2014-01-20T15:27:47</td>\n",
       "      <td>go here to check the views :3﻿</td>\n",
       "      <td>-1.0</td>\n",
       "      <td>1</td>\n",
       "    </tr>\n",
       "    <tr>\n",
       "      <th>3</th>\n",
       "      <td>3</td>\n",
       "      <td>DropShotSk8r</td>\n",
       "      <td>2014-01-19T04:27:18</td>\n",
       "      <td>Came here to check the views, goodbye.﻿</td>\n",
       "      <td>-1.0</td>\n",
       "      <td>1</td>\n",
       "    </tr>\n",
       "    <tr>\n",
       "      <th>4</th>\n",
       "      <td>4</td>\n",
       "      <td>css403</td>\n",
       "      <td>2014-11-07T14:25:48</td>\n",
       "      <td>i am 2,126,492,636 viewer :D﻿</td>\n",
       "      <td>-1.0</td>\n",
       "      <td>1</td>\n",
       "    </tr>\n",
       "  </tbody>\n",
       "</table>\n",
       "</div>"
      ],
      "text/plain": [
       "   Unnamed: 0            author                 date  \\\n",
       "0           0  Alessandro leite  2014-11-05T22:21:36   \n",
       "1           1      Salim Tayara  2014-11-02T14:33:30   \n",
       "2           2           Phuc Ly  2014-01-20T15:27:47   \n",
       "3           3      DropShotSk8r  2014-01-19T04:27:18   \n",
       "4           4            css403  2014-11-07T14:25:48   \n",
       "\n",
       "                                                text  label  video  \n",
       "0  pls http://www10.vakinha.com.br/VaquinhaE.aspx...   -1.0      1  \n",
       "1  if your like drones, plz subscribe to Kamal Ta...   -1.0      1  \n",
       "2                     go here to check the views :3﻿   -1.0      1  \n",
       "3            Came here to check the views, goodbye.﻿   -1.0      1  \n",
       "4                      i am 2,126,492,636 viewer :D﻿   -1.0      1  "
      ]
     },
     "execution_count": 8,
     "metadata": {},
     "output_type": "execute_result"
    }
   ],
   "source": [
    "import pandas as pd\n",
    "\n",
    "train_df = pd.read_csv('../tutorials/data/yt_comments_train.csv')\n",
    "test_df = pd.read_csv('../tutorials/data/yt_comments_test.csv')\n",
    "\n",
    "train_df.head()"
   ]
  },
  {
   "cell_type": "markdown",
   "id": "f8fcd253-f8b5-40ba-a9a2-9d068e19c1cc",
   "metadata": {},
   "source": [
    "## 1. Create a Rubrix dataset with unlabelled data and test data\n",
    "\n",
    "Let's load the train (non-labelled) dataset and the test dataset (containing labels)."
   ]
  },
  {
   "cell_type": "code",
   "execution_count": null,
   "id": "78571aa4-314d-4b4e-b933-c3292213b27a",
   "metadata": {},
   "outputs": [],
   "source": [
    "import rubrix as rb\n",
    "\n",
    "# unlabelled data\n",
    "records = [\n",
    "    rb.TextClassificationRecord(\n",
    "        inputs=row.text,\n",
    "        metadata={\"video\":row.video, \"author\": row.author}\n",
    "    )\n",
    "    for i,row in train_df.iterrows()\n",
    "]\n",
    "rb.log(records, name=\"weak_supervision_yt\")"
   ]
  },
  {
   "cell_type": "code",
   "execution_count": null,
   "id": "0fdd15f3-7df7-4dc0-a084-0de128d6051c",
   "metadata": {},
   "outputs": [],
   "source": [
    "labels = [\"HAM\", \"SPAM\"]\n",
    "\n",
    "# labelled data for testing\n",
    "records = [\n",
    "    rb.TextClassificationRecord(\n",
    "        inputs=row.text,\n",
    "        annotation=labels[row.label],\n",
    "        metadata={\"video\":row.video, \"author\": row.author}\n",
    "    )\n",
    "    for i,row in test_df.iterrows()\n",
    "]\n",
    "rb.log(records, name=\"weak_supervision_yt\")"
   ]
  },
  {
   "cell_type": "markdown",
   "id": "baafda4f-45c0-49d6-9c37-7473c6888ebe",
   "metadata": {},
   "source": [
    "After this step, you have a fully browsable dataset available at `http://localhost:6900/weak_supervision_yt` (or the base URL where your Rubrix instance is hosted)."
   ]
  },
  {
   "cell_type": "markdown",
   "id": "dde95ce0-6e1e-4c9e-aff2-ac12643b9a48",
   "metadata": {},
   "source": [
    "## 2. Defining rules\n",
    "\n",
    "Let's now define some of the rules proposed in the tutorial [Snorkel Intro Tutorial: Data Labeling](https://www.snorkel.org/use-cases/01-spam-tutorial).\n",
    "\n",
    "\n",
    "Remember you can use [Elasticsearch's query string DSL](https://www.elastic.co/guide/en/elasticsearch/reference/current/query-dsl-query-string-query.html) and test your queries directly in the web app. Available fields in the query are described in [the Rubrix web app reference](../reference/rubrix_webapp_reference.rst#search-input)."
   ]
  },
  {
   "cell_type": "code",
   "execution_count": 2,
   "id": "045700ef-62b7-44e2-95f9-0f966236303b",
   "metadata": {},
   "outputs": [],
   "source": [
    "from rubrix.labeling.text_classification import Rule, WeakLabels\n",
    "\n",
    "# Rules defined as Elasticsearch queries\n",
    "check_out = Rule(query=\"check out\", label=\"SPAM\")\n",
    "plz = Rule(query=\"plz OR please\", label=\"SPAM\")\n",
    "subscribe = Rule(query=\"subscribe\", label=\"SPAM\")\n",
    "my = Rule(query=\"my\", label=\"SPAM\")\n",
    "song = Rule(query=\"song\", label=\"HAM\")\n",
    "love = Rule(query=\"love\", label=\"HAM\")"
   ]
  },
  {
   "cell_type": "markdown",
   "id": "42f45410-3bb4-450a-8162-5bd8ed5814e8",
   "metadata": {},
   "source": [
    "Besides using the UI, if you want to quickly see the effect of a rule, you can do:"
   ]
  },
  {
   "cell_type": "code",
   "execution_count": 72,
   "id": "d408aa69-ca11-4847-bdb6-d8c1725a78d2",
   "metadata": {},
   "outputs": [
    {
     "data": {
      "text/html": [
       "<div>\n",
       "<style scoped>\n",
       "    .dataframe tbody tr th:only-of-type {\n",
       "        vertical-align: middle;\n",
       "    }\n",
       "\n",
       "    .dataframe tbody tr th {\n",
       "        vertical-align: top;\n",
       "    }\n",
       "\n",
       "    .dataframe thead th {\n",
       "        text-align: right;\n",
       "    }\n",
       "</style>\n",
       "<table border=\"1\" class=\"dataframe\">\n",
       "  <thead>\n",
       "    <tr style=\"text-align: right;\">\n",
       "      <th></th>\n",
       "      <th>inputs</th>\n",
       "    </tr>\n",
       "  </thead>\n",
       "  <tbody>\n",
       "    <tr>\n",
       "      <th>0</th>\n",
       "      <td>{'text': 'Our Beautiful Bella has been diagnosed with Wobbler's Syndrome. There is no  way we could afford to do her MRI or surgery. She is not just a dog she is  a very special member of our family. Without the surgery we fear we will  lose her. Please help!  http://www.gofundme.com/f7ekgw﻿'}</td>\n",
       "    </tr>\n",
       "    <tr>\n",
       "      <th>1</th>\n",
       "      <td>{'text': 'I KNOW YOU MAY NOT WANT TO READ THIS BUT please do  I&amp;#39;m 87 Cypher an 11 year old rapper I have skill people said .my stuff isn&amp;#39;t as good as my new stuff but its good please check out my current songs comment and like thank you for reading rap is my life'}</td>\n",
       "    </tr>\n",
       "    <tr>\n",
       "      <th>2</th>\n",
       "      <td>{'text': 'Hello everyone my name&amp;#39;s Anderson and i&amp;#39;m a singer. not expecting to buy subscribers with words BUT to gain them with my voice. I might not be the best but my voice is different (in a good way) and i&amp;#39;ll work harder than anyone out there to get better, &amp;#39;cuz &amp;quot;yeah&amp;quot; i have a dream  a HUGE one, (who doesn&amp;#39;t?) so please take 3 minutes of your time to check out my covers. Give me a chance you won&amp;#39;t regret it If you feel like subscribing that&amp;#39;d be awesome and it&amp;#39;d mean the world to me THANK YOU SO MUCH'}</td>\n",
       "    </tr>\n",
       "    <tr>\n",
       "      <th>3</th>\n",
       "      <td>{'text': 'Please Subscribe In My Channel →﻿'}</td>\n",
       "    </tr>\n",
       "    <tr>\n",
       "      <th>4</th>\n",
       "      <td>{'text': 'Hey ! I know most people don't like these kind of comments &amp;amp; see at spam,  but I see as free advertising . So please check out my cover of Sparks Fly  by Taylor Swift ! It is not the best ever I know, but maybe with some  encouraging words of wisdom from many of you I can become better! Please go  to my channel and check it out !﻿'}</td>\n",
       "    </tr>\n",
       "    <tr>\n",
       "      <th>...</th>\n",
       "      <td>...</td>\n",
       "    </tr>\n",
       "    <tr>\n",
       "      <th>181</th>\n",
       "      <td>{'text': '♫I know someone will see this ♥ I have a dream… I don’t have the greatest videos or the best quality Right now I feel like i'm not getting anywhere and I need your help ♫ If you could possibly watch my videos it means the world to me ♥ Please thumbs this up so others can see… I appreciate it so much ♥♫ Please listen before you hate. Honestly i  appreciate it so much  You don’t have to love me just give this 17 year old a chance﻿'}</td>\n",
       "    </tr>\n",
       "    <tr>\n",
       "      <th>182</th>\n",
       "      <td>{'text': 'Hi everyone. We are a duo and we are starting to record freestyles and put them on youtube. If any of you could check it out and like/comment it would mean so much to us because we love doing this. We may not have the best recording equipment but if you listen to our lyrics and rhymes I think you&amp;#39;ll like it. If you do then please subscribe and share because we love making these videos and we want you to like them as much as possible so feel free to comment and give us pointers! Thank you!'}</td>\n",
       "    </tr>\n",
       "    <tr>\n",
       "      <th>183</th>\n",
       "      <td>{'text': 'http://www.ermail.pl/dolacz/UnNfY2I=                  Please click on the  link﻿'}</td>\n",
       "    </tr>\n",
       "    <tr>\n",
       "      <th>184</th>\n",
       "      <td>{'text': 'please suscribe i am bored of 5 subscribers try to get it to 20!﻿'}</td>\n",
       "    </tr>\n",
       "    <tr>\n",
       "      <th>185</th>\n",
       "      <td>{'text': 'PLEASE SUBSCRIBE ME!!!!!!!!!!!!!!!!!!!!!!!!!!!!!!!!!!!!!!!!!!!!!!!!!!!!﻿'}</td>\n",
       "    </tr>\n",
       "  </tbody>\n",
       "</table>\n",
       "<p>186 rows × 1 columns</p>\n",
       "</div>"
      ],
      "text/plain": [
       "                                                                                                                                                                                                                                                                                                                                                                                                                                                                                                                                                                         inputs\n",
       "0                                                                                                                                                                                                                                                                        {'text': 'Our Beautiful Bella has been diagnosed with Wobbler's Syndrome. There is no  way we could afford to do her MRI or surgery. She is not just a dog she is  a very special member of our family. Without the surgery we fear we will  lose her. Please help!  http://www.gofundme.com/f7ekgw﻿'}\n",
       "1                                                                                                                                                                                                                                                                                             {'text': 'I KNOW YOU MAY NOT WANT TO READ THIS BUT please do  I&#39;m 87 Cypher an 11 year old rapper I have skill people said .my stuff isn&#39;t as good as my new stuff but its good please check out my current songs comment and like thank you for reading rap is my life'}\n",
       "2    {'text': 'Hello everyone my name&#39;s Anderson and i&#39;m a singer. not expecting to buy subscribers with words BUT to gain them with my voice. I might not be the best but my voice is different (in a good way) and i&#39;ll work harder than anyone out there to get better, &#39;cuz &quot;yeah&quot; i have a dream  a HUGE one, (who doesn&#39;t?) so please take 3 minutes of your time to check out my covers. Give me a chance you won&#39;t regret it If you feel like subscribing that&#39;d be awesome and it&#39;d mean the world to me THANK YOU SO MUCH'}\n",
       "3                                                                                                                                                                                                                                                                                                                                                                                                                                                                                                                                 {'text': 'Please Subscribe In My Channel →﻿'}\n",
       "4                                                                                                                                                                                                                  {'text': 'Hey ! I know most people don't like these kind of comments &amp; see at spam,  but I see as free advertising . So please check out my cover of Sparks Fly  by Taylor Swift ! It is not the best ever I know, but maybe with some  encouraging words of wisdom from many of you I can become better! Please go  to my channel and check it out !﻿'}\n",
       "..                                                                                                                                                                                                                                                                                                                                                                                                                                                                                                                                                                          ...\n",
       "181                                                                                                                {'text': '♫I know someone will see this ♥ I have a dream… I don’t have the greatest videos or the best quality Right now I feel like i'm not getting anywhere and I need your help ♫ If you could possibly watch my videos it means the world to me ♥ Please thumbs this up so others can see… I appreciate it so much ♥♫ Please listen before you hate. Honestly i  appreciate it so much  You don’t have to love me just give this 17 year old a chance﻿'}\n",
       "182                                               {'text': 'Hi everyone. We are a duo and we are starting to record freestyles and put them on youtube. If any of you could check it out and like/comment it would mean so much to us because we love doing this. We may not have the best recording equipment but if you listen to our lyrics and rhymes I think you&#39;ll like it. If you do then please subscribe and share because we love making these videos and we want you to like them as much as possible so feel free to comment and give us pointers! Thank you!'}\n",
       "183                                                                                                                                                                                                                                                                                                                                                                                                                                                                                {'text': 'http://www.ermail.pl/dolacz/UnNfY2I=                  Please click on the  link﻿'}\n",
       "184                                                                                                                                                                                                                                                                                                                                                                                                                                                                                               {'text': 'please suscribe i am bored of 5 subscribers try to get it to 20!﻿'}\n",
       "185                                                                                                                                                                                                                                                                                                                                                                                                                                                                                        {'text': 'PLEASE SUBSCRIBE ME!!!!!!!!!!!!!!!!!!!!!!!!!!!!!!!!!!!!!!!!!!!!!!!!!!!!﻿'}\n",
       "\n",
       "[186 rows x 1 columns]"
      ]
     },
     "execution_count": 72,
     "metadata": {},
     "output_type": "execute_result"
    }
   ],
   "source": [
    "# display full length text\n",
    "pd.set_option('display.max_colwidth', None)\n",
    "\n",
    "# Get the subset for the rule query\n",
    "rb.load(name=\"weak_supervision_yt\", query=\"plz OR please\")[['inputs']]"
   ]
  },
  {
   "cell_type": "markdown",
   "id": "1f4d4d7f-9a95-4905-a38b-3907d5293c4f",
   "metadata": {},
   "source": [
    "You can also define plain Python labeling functions:"
   ]
  },
  {
   "cell_type": "code",
   "execution_count": null,
   "id": "c7b3554c-9646-4f2b-ab33-13518566bb6e",
   "metadata": {},
   "outputs": [],
   "source": [
    "import re\n",
    "\n",
    "# Rules defined as Python labeling functions\n",
    "def contains_http(record: rb.TextClassificationRecord):\n",
    "    if \"http\" in record.inputs[\"text\"]:\n",
    "        return \"SPAM\"\n",
    "\n",
    "def short_comment(record: rb.TextClassificationRecord):\n",
    "    return \"HAM\" if len(record.inputs[\"text\"].split()) < 5 else None\n",
    "\n",
    "def regex_check_out(record: rb.TextClassificationRecord):\n",
    "    return \"SPAM\" if re.search(r\"check.*out\", record.inputs[\"text\"], flags=re.I) else None"
   ]
  },
  {
   "cell_type": "markdown",
   "id": "405c93ec-b136-43cf-af50-96c956b65f12",
   "metadata": {},
   "source": [
    "## 3. Building and analizing weak labels"
   ]
  },
  {
   "cell_type": "code",
   "execution_count": 4,
   "id": "caaf60f4-c5f5-492d-ac0d-52a25cfb5ce2",
   "metadata": {},
   "outputs": [
    {
     "data": {
      "application/vnd.jupyter.widget-view+json": {
       "model_id": "c53eb66718f048228dd071f813105f8d",
       "version_major": 2,
       "version_minor": 0
      },
      "text/plain": [
       "HBox(children=(FloatProgress(value=0.0, description='Preparing rules', max=9.0, style=ProgressStyle(descriptio…"
      ]
     },
     "metadata": {},
     "output_type": "display_data"
    },
    {
     "name": "stdout",
     "output_type": "stream",
     "text": [
      "\n"
     ]
    },
    {
     "data": {
      "application/vnd.jupyter.widget-view+json": {
       "model_id": "8a966fecc57a47e1bea214a2c3bcfb77",
       "version_major": 2,
       "version_minor": 0
      },
      "text/plain": [
       "HBox(children=(FloatProgress(value=0.0, description='Applying rules', max=2086.0, style=ProgressStyle(descript…"
      ]
     },
     "metadata": {},
     "output_type": "display_data"
    },
    {
     "name": "stdout",
     "output_type": "stream",
     "text": [
      "\n"
     ]
    },
    {
     "data": {
      "text/html": [
       "<div>\n",
       "<style scoped>\n",
       "    .dataframe tbody tr th:only-of-type {\n",
       "        vertical-align: middle;\n",
       "    }\n",
       "\n",
       "    .dataframe tbody tr th {\n",
       "        vertical-align: top;\n",
       "    }\n",
       "\n",
       "    .dataframe thead th {\n",
       "        text-align: right;\n",
       "    }\n",
       "</style>\n",
       "<table border=\"1\" class=\"dataframe\">\n",
       "  <thead>\n",
       "    <tr style=\"text-align: right;\">\n",
       "      <th></th>\n",
       "      <th>polarity</th>\n",
       "      <th>coverage</th>\n",
       "      <th>overlaps</th>\n",
       "      <th>conflicts</th>\n",
       "      <th>correct</th>\n",
       "      <th>incorrect</th>\n",
       "      <th>precision</th>\n",
       "    </tr>\n",
       "  </thead>\n",
       "  <tbody>\n",
       "    <tr>\n",
       "      <th>check out</th>\n",
       "      <td>{SPAM}</td>\n",
       "      <td>0.235379</td>\n",
       "      <td>0.229147</td>\n",
       "      <td>0.028763</td>\n",
       "      <td>90</td>\n",
       "      <td>0</td>\n",
       "      <td>1.000000</td>\n",
       "    </tr>\n",
       "    <tr>\n",
       "      <th>plz OR please</th>\n",
       "      <td>{SPAM}</td>\n",
       "      <td>0.089166</td>\n",
       "      <td>0.079099</td>\n",
       "      <td>0.019175</td>\n",
       "      <td>40</td>\n",
       "      <td>0</td>\n",
       "      <td>1.000000</td>\n",
       "    </tr>\n",
       "    <tr>\n",
       "      <th>subscribe</th>\n",
       "      <td>{SPAM}</td>\n",
       "      <td>0.108341</td>\n",
       "      <td>0.084372</td>\n",
       "      <td>0.028763</td>\n",
       "      <td>60</td>\n",
       "      <td>0</td>\n",
       "      <td>1.000000</td>\n",
       "    </tr>\n",
       "    <tr>\n",
       "      <th>my</th>\n",
       "      <td>{SPAM}</td>\n",
       "      <td>0.190316</td>\n",
       "      <td>0.167306</td>\n",
       "      <td>0.050815</td>\n",
       "      <td>82</td>\n",
       "      <td>12</td>\n",
       "      <td>0.872340</td>\n",
       "    </tr>\n",
       "    <tr>\n",
       "      <th>song</th>\n",
       "      <td>{HAM}</td>\n",
       "      <td>0.139981</td>\n",
       "      <td>0.085331</td>\n",
       "      <td>0.034995</td>\n",
       "      <td>78</td>\n",
       "      <td>18</td>\n",
       "      <td>0.812500</td>\n",
       "    </tr>\n",
       "    <tr>\n",
       "      <th>love</th>\n",
       "      <td>{HAM}</td>\n",
       "      <td>0.097795</td>\n",
       "      <td>0.075743</td>\n",
       "      <td>0.032119</td>\n",
       "      <td>56</td>\n",
       "      <td>14</td>\n",
       "      <td>0.800000</td>\n",
       "    </tr>\n",
       "    <tr>\n",
       "      <th>contains_http</th>\n",
       "      <td>{SPAM}</td>\n",
       "      <td>0.096357</td>\n",
       "      <td>0.066155</td>\n",
       "      <td>0.045062</td>\n",
       "      <td>12</td>\n",
       "      <td>0</td>\n",
       "      <td>1.000000</td>\n",
       "    </tr>\n",
       "    <tr>\n",
       "      <th>short_comment</th>\n",
       "      <td>{HAM}</td>\n",
       "      <td>0.259827</td>\n",
       "      <td>0.113135</td>\n",
       "      <td>0.058965</td>\n",
       "      <td>168</td>\n",
       "      <td>16</td>\n",
       "      <td>0.913043</td>\n",
       "    </tr>\n",
       "    <tr>\n",
       "      <th>regex_check_out</th>\n",
       "      <td>{SPAM}</td>\n",
       "      <td>0.220997</td>\n",
       "      <td>0.220518</td>\n",
       "      <td>0.026846</td>\n",
       "      <td>90</td>\n",
       "      <td>0</td>\n",
       "      <td>1.000000</td>\n",
       "    </tr>\n",
       "    <tr>\n",
       "      <th>total</th>\n",
       "      <td>{HAM, SPAM}</td>\n",
       "      <td>0.764621</td>\n",
       "      <td>0.447267</td>\n",
       "      <td>0.116970</td>\n",
       "      <td>676</td>\n",
       "      <td>60</td>\n",
       "      <td>0.918478</td>\n",
       "    </tr>\n",
       "  </tbody>\n",
       "</table>\n",
       "</div>"
      ],
      "text/plain": [
       "                    polarity  coverage  overlaps  conflicts  correct  \\\n",
       "check out             {SPAM}  0.235379  0.229147   0.028763       90   \n",
       "plz OR please         {SPAM}  0.089166  0.079099   0.019175       40   \n",
       "subscribe             {SPAM}  0.108341  0.084372   0.028763       60   \n",
       "my                    {SPAM}  0.190316  0.167306   0.050815       82   \n",
       "song                   {HAM}  0.139981  0.085331   0.034995       78   \n",
       "love                   {HAM}  0.097795  0.075743   0.032119       56   \n",
       "contains_http         {SPAM}  0.096357  0.066155   0.045062       12   \n",
       "short_comment          {HAM}  0.259827  0.113135   0.058965      168   \n",
       "regex_check_out       {SPAM}  0.220997  0.220518   0.026846       90   \n",
       "total            {HAM, SPAM}  0.764621  0.447267   0.116970      676   \n",
       "\n",
       "                 incorrect  precision  \n",
       "check out                0   1.000000  \n",
       "plz OR please            0   1.000000  \n",
       "subscribe                0   1.000000  \n",
       "my                      12   0.872340  \n",
       "song                    18   0.812500  \n",
       "love                    14   0.800000  \n",
       "contains_http            0   1.000000  \n",
       "short_comment           16   0.913043  \n",
       "regex_check_out          0   1.000000  \n",
       "total                   60   0.918478  "
      ]
     },
     "execution_count": 4,
     "metadata": {},
     "output_type": "execute_result"
    }
   ],
   "source": [
    "# bundle our rules in a list\n",
    "rules = [check_out, plz, subscribe, my, song, love, contains_http, short_comment, regex_check_out]\n",
    "\n",
    "# apply the rules to a dataset to obtain the weak labels\n",
    "weak_labels = WeakLabels(\n",
    "    rules=rules, \n",
    "    dataset=\"weak_supervision_yt\"\n",
    ")\n",
    "\n",
    "# show some stats about the rules, see the `summary()` docstring for details\n",
    "weak_labels.summary()"
   ]
  },
  {
   "cell_type": "markdown",
   "id": "a4364c17-4a5d-464b-8f2b-36f50c81b174",
   "metadata": {},
   "source": [
    "## 4. Using the weak labels\n",
    "\n",
    "At this step you have at least two options:\n",
    "\n",
    "1. Use the weak labels for training a \"denoising\" or label model to build a less noisy training set. Highly popular options for this are [Snorkel](https://snorkel.org/) or [Flyingsquid](https://github.com/HazyResearch/flyingsquid). After this step, you can train a downstream model with the \"clean\" labels.\n",
    "\n",
    "2. Use the weak labels directly with recent \"end-to-end\" (e.g., [Weasel](https://github.com/autonlab/weasel)) or joint models (e.g., [COSINE](https://github.com/yueyu1030/COSINE)).\n",
    "\n",
    "\n",
    "Let's see some examples:\n",
    "\n",
    "### Label model with Snorkel\n",
    "\n",
    "Snorkel is by far the most popular option for using weak supervision. Using Snorkel with Rubrix's `WeakLabels` is as simple as:"
   ]
  },
  {
   "cell_type": "code",
   "execution_count": null,
   "id": "0af30dfa-b401-4e96-984d-c59753411557",
   "metadata": {},
   "outputs": [],
   "source": [
    "%pip install snorkel -qqq"
   ]
  },
  {
   "cell_type": "code",
   "execution_count": null,
   "id": "eccb50bb-edfb-40a2-9e4c-094e22284df6",
   "metadata": {},
   "outputs": [],
   "source": [
    "from snorkel.labeling.model import LabelModel\n",
    "\n",
    "# train our label model\n",
    "label_model = LabelModel()\n",
    "label_model.fit(L_train=weak_labels.matrix(has_annotation=False))\n",
    "\n",
    "# check its performance\n",
    "label_model.score(L=weak_labels.matrix(has_annotation=True), Y=weak_labels.annotation())"
   ]
  },
  {
   "cell_type": "markdown",
   "id": "075463f3-8695-4d28-af24-8860b2efd691",
   "metadata": {},
   "source": [
    "### Log Label model predictions into a Rubrix dataset\n",
    "\n",
    "After fitting your label model, you can quickly explore its predictions, before building a training set for training a downstream text classifier. \n",
    "\n",
    "\n",
    "This step is useful for validation, manual revision, or defining score thresholds for accepting labels from your label model (for example, only considering labels with a score greater then 0.8.)"
   ]
  },
  {
   "cell_type": "code",
   "execution_count": null,
   "id": "c2b85590-1c67-4f24-9e7b-cd3167ba4008",
   "metadata": {},
   "outputs": [],
   "source": [
    "# Get the part of the weak label matrix that has no corresponding annotation\n",
    "train_matrix = weak_labels.matrix(has_annotation=False)\n",
    "\n",
    "# Get predictions from our label model\n",
    "predictions = label_model.predict_proba(L=train_matrix)\n",
    "predicted_labels = label_model.predict(L=train_matrix)\n",
    "preds = [[('SPAM', pred[0]), ('HAM', pred[1])] for pred in predictions]\n",
    "\n",
    "# Get the records that do not have an annotation\n",
    "train_records = weak_labels.records(has_annotation=False)"
   ]
  },
  {
   "cell_type": "code",
   "execution_count": null,
   "id": "cba3fd76-8b58-4ae3-bc58-9d82c039bef0",
   "metadata": {},
   "outputs": [],
   "source": [
    "# Add the predictions to the records\n",
    "def add_prediction(record, prediction):\n",
    "    record.prediction = prediction\n",
    "    return record\n",
    "\n",
    "train_records_with_lm_prediction = [\n",
    "    add_prediction(rec, pred)\n",
    "    for rec, pred, label in zip(train_records, preds, predicted_labels)\n",
    "    if label != weak_labels.label2int[None] # exclude records where the label model abstains\n",
    "]\n",
    "\n",
    "# Log a new dataset to Rubrix\n",
    "rb.log(train_records_with_lm_prediction, name=\"snorkel_results\")"
   ]
  },
  {
   "cell_type": "markdown",
   "id": "7c1f69fc-7f2f-4b57-8262-a0a6c2f92329",
   "metadata": {},
   "source": [
    "### Label model with Flyingsquid\n",
    "\n",
    "Flyingsquid is a powerful method developed by [Hazy Research](https://hazyresearch.stanford.edu/), a research group from Stanford behind ground-breaking work on programmatic data labeling, including Snorkel. Flyingsquid uses a closed-form solution for fitting the label model with great speed gains and similar performance."
   ]
  },
  {
   "cell_type": "code",
   "execution_count": 21,
   "id": "dc55482c-02f6-4e7a-8637-0aa50e4e9211",
   "metadata": {},
   "outputs": [],
   "source": [
    "%pip install flyingsquid pgmpy -qqq"
   ]
  },
  {
   "cell_type": "markdown",
   "id": "17f8629a-6eff-4620-b116-50abd0b4ee2b",
   "metadata": {},
   "source": [
    "Flyingsquid defines a different value for `abstain` votes, with Rubrix you can define a custom label2int mapping like this:"
   ]
  },
  {
   "cell_type": "code",
   "execution_count": null,
   "id": "c5c911f2-b9e5-42cb-8d52-1e5f796a782b",
   "metadata": {},
   "outputs": [],
   "source": [
    "weak_labels = WeakLabels(rules=rules, dataset=\"weak_supervision_yt\", label2int={None: 0, 'SPAM': -1, 'HAM': 1})"
   ]
  },
  {
   "cell_type": "code",
   "execution_count": null,
   "id": "d5ede78a-0fe6-4f2b-87b1-3d0f06f0c3ec",
   "metadata": {},
   "outputs": [],
   "source": [
    "from flyingsquid.label_model import LabelModel\n",
    "import numpy as np\n",
    "\n",
    "# train our label model\n",
    "label_model = LabelModel(len(weak_labels.rules))\n",
    "label_model.fit(L_train=weak_labels.matrix(has_annotation=False),verbose=True)"
   ]
  },
  {
   "cell_type": "markdown",
   "id": "d282da18-cc57-437a-bfd1-c13a9ac1aec4",
   "metadata": {},
   "source": [
    "### Log Label model predictions into a Rubrix dataset"
   ]
  },
  {
   "cell_type": "code",
   "execution_count": null,
   "id": "ff30478c-fdda-445f-ad49-cac01b8bde71",
   "metadata": {},
   "outputs": [],
   "source": [
    "# Get the part of the weak label matrix that has no corresponding annotation\n",
    "train_matrix = weak_labels.matrix(has_annotation=False)\n",
    "\n",
    "# Get predictions from our label model\n",
    "predictions = label_model.predict_proba(L=train_matrix)\n",
    "predicted_labels = label_model.predict(L=train_matrix)\n",
    "preds = [[('SPAM', pred[0]), ('HAM', pred[1])] for pred in predictions]\n",
    "\n",
    "# Get the records that do not have an annotation\n",
    "train_records = weak_labels.records(has_annotation=False)"
   ]
  },
  {
   "cell_type": "code",
   "execution_count": null,
   "id": "4e17e492-0c4f-40ea-833f-67753b4a2460",
   "metadata": {},
   "outputs": [],
   "source": [
    "# Add the predictions to the records\n",
    "def add_prediction(record, prediction):\n",
    "    record.prediction = prediction\n",
    "    return record\n",
    "\n",
    "train_records_with_lm_prediction = [\n",
    "    add_prediction(rec, pred)\n",
    "    for rec, pred, label in zip(train_records, preds, predicted_labels)\n",
    "    if label != weak_labels.label2int[None] # exclude records where the label model abstains\n",
    "]\n",
    "\n",
    "# Log a new dataset to Rubrix\n",
    "rb.log(train_records_with_lm_prediction, name=\"flyingsquid_results\")"
   ]
  },
  {
   "cell_type": "markdown",
   "id": "06cec1b4-97c8-45a0-9fc4-06e663b9ee4d",
   "metadata": {},
   "source": [
    "## Joint Model with Weasel\n",
    "\n",
    "[Weasel](https://github.com/autonlab/weasel) lets you train downstream models end-to-end using directly weak labels.\n",
    "\n",
    "Coming soon."
   ]
  }
 ],
 "metadata": {
  "kernelspec": {
   "display_name": "Python 3",
   "language": "python",
   "name": "python3"
  },
  "language_info": {
   "codemirror_mode": {
    "name": "ipython",
    "version": 3
   },
   "file_extension": ".py",
   "mimetype": "text/x-python",
   "name": "python",
   "nbconvert_exporter": "python",
   "pygments_lexer": "ipython3",
   "version": "3.8.10"
  }
 },
 "nbformat": 4,
 "nbformat_minor": 5
}
