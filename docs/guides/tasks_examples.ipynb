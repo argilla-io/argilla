{
 "cells": [
  {
   "cell_type": "markdown",
   "source": [
    "# Tasks Templates\n",
    "\n",
    "Hi there! In this article we wanted to share some examples of our supported tasks, so you can go from zero to hero as fast as possible. We are going to cover those task present in our [supported tasks list](https://docs.rubrix.ml/en/stable/getting_started/supported_tasks.html), so don't forget to stop by and take a look.\n",
    "\n",
    "The tasks are divided into their different category, from text classification to token classification. We will update these article, as well as the supported task list, when a new task gets added to Rubrix."
   ],
   "metadata": {}
  },
  {
   "cell_type": "markdown",
   "source": [
    "## Text Classification\n",
    "\n",
    "Text classification deals with predicting in which categories a text fits. As if you’re shown an image you could quickly tell if there’s a dog or a cat in it, we build NLP models to distinguish between a Jane Austen’s novel or a Charlotte Bronte’s poem. It’s all about feeding models with labeled examples and see how it start predicting over the very same labels."
   ],
   "metadata": {}
  },
  {
   "cell_type": "markdown",
   "source": [
    "### Text Categorization\n",
    "\n",
    "This is a general example for the Text Classification family of tasks. Here, we will try to assign pre-defined categories to sentences and texts. Here, the possibilities are endless! Topic categorization, spam detection, and a vast etcétera.\n",
    "\n",
    "For our example, we are using the [SequeezeBERT](https://huggingface.co/typeform/squeezebert-mnli) zero-shot classifier for predicting the topic of a given text, in three different labels: politics, sports and technology. We are also using [AG](https://huggingface.co/datasets/ag_news), a collections of news."
   ],
   "metadata": {}
  },
  {
   "cell_type": "code",
   "execution_count": 7,
   "source": [
    "import rubrix as rb\n",
    "from transformers import pipeline\n",
    "from datasets import load_dataset\n",
    "\n",
    "# Loading our dataset\n",
    "dataset = load_dataset(\"ag_news\", split=\"train[0:20]\")\n",
    "\n",
    "# Define our HuggingFace Pipeline\n",
    "classifier = pipeline(\n",
    "    \"zero-shot-classification\",\n",
    "    model=\"typeform/squeezebert-mnli\",\n",
    "    framework=\"pt\",\n",
    ")\n",
    "\n",
    "records = []\n",
    "\n",
    "for record in dataset:\n",
    "\n",
    "    # Making the prediction\n",
    "    prediction = classifier(\n",
    "        record[\"text\"],\n",
    "        candidate_labels=[\n",
    "            \"politics\",\n",
    "            \"sports\",\n",
    "            \"technology\",\n",
    "        ],\n",
    "    )\n",
    "\n",
    "    # Creating the prediction entity as a list of tuples (label, probability)\n",
    "    prediction = list(zip(prediction[\"labels\"], prediction[\"scores\"]))\n",
    "\n",
    "    # Appending to the record list\n",
    "    records.append(\n",
    "        rb.TextClassificationRecord(\n",
    "            inputs=record[\"text\"],\n",
    "            prediction=prediction,\n",
    "            prediction_agent=\"https://huggingface.co/typeform/squeezebert-mnli\",\n",
    "            metadata={\"split\": \"train\"},\n",
    "        )\n",
    "    )\n",
    "\n",
    "# Logging into Rubrix\n",
    "rb.log(\n",
    "    records=records,\n",
    "    name=\"text-categorization\",\n",
    "    tags={\n",
    "        \"task\": \"text-categorization\",\n",
    "        \"phase\": \"data-analysis\",\n",
    "        \"dataset\": \"ag_news\",\n",
    "    },\n",
    ")"
   ],
   "outputs": [
    {
     "output_type": "stream",
     "name": "stderr",
     "text": [
      "Using custom data configuration default\n",
      "Reusing dataset ag_news (/Users/ignacio/.cache/huggingface/datasets/ag_news/default/0.0.0/bc2bcb40336ace1a0374767fc29bb0296cdaf8a6da7298436239c54d79180548)\n",
      "Asking to truncate to max_length but no maximum length is provided and the model has no predefined maximum length. Default to no truncation.\n"
     ]
    },
    {
     "output_type": "execute_result",
     "data": {
      "text/plain": [
       "BulkResponse(dataset='zeroshot-topic-classifier', processed=20, failed=0)"
      ]
     },
     "metadata": {},
     "execution_count": 7
    }
   ],
   "metadata": {}
  },
  {
   "cell_type": "markdown",
   "source": [
    "### Sentiment Analysis\n",
    "\n",
    "In this kind of projects, we want our models to be able to detect the polarity of an input. Categories like *positive*, *negative* or *neutral* are often used. \n",
    "\n",
    "For this example, we are going to use an [Amazon review polarity dataset](https://huggingface.co/datasets/amazon_polarity), and a zero-shot [DistilBERT model](https://huggingface.co/typeform/distilbert-base-uncased-mnli). "
   ],
   "metadata": {}
  },
  {
   "cell_type": "code",
   "execution_count": 34,
   "source": [
    "import rubrix as rb\n",
    "from transformers import pipeline\n",
    "from datasets import load_dataset\n",
    "\n",
    "# Loading our dataset\n",
    "dataset = load_dataset(\"amazon_polarity\", split=\"train[0:20]\")\n",
    "\n",
    "# Define our HuggingFace Pipeline\n",
    "classifier = pipeline(\n",
    "    \"zero-shot-classification\",\n",
    "    model=\"typeform/distilbert-base-uncased-mnli\",\n",
    "    framework=\"pt\",\n",
    ")\n",
    "\n",
    "records = []\n",
    "\n",
    "for record in dataset:\n",
    "\n",
    "    # Making the prediction\n",
    "    prediction = classifier(\n",
    "        record[\"content\"], candidate_labels=[\"positive\", \"negative\"]\n",
    "    )\n",
    "\n",
    "    # Creating the prediction entity as a list of tuples (label, probability)\n",
    "    prediction = list(zip(prediction[\"labels\"], prediction[\"scores\"]))\n",
    "\n",
    "    # Appending to the record list\n",
    "    records.append(\n",
    "        rb.TextClassificationRecord(\n",
    "            inputs=record[\"content\"],\n",
    "            prediction=prediction,\n",
    "            prediction_agent=\"https://huggingface.co/typeform/distilbert-base-uncased-mnli\",\n",
    "            metadata={\"split\": \"train\"},\n",
    "        )\n",
    "    )\n",
    "\n",
    "# Logging into Rubrix\n",
    "rb.log(\n",
    "    records=records,\n",
    "    name=\"sentiment-analysis\",\n",
    "    tags={\n",
    "        \"task\": \"sentiment-analysis\",\n",
    "        \"phase\": \"data-annotation\",\n",
    "        \"dataset\": \"amazon-polarity\",\n",
    "    },\n",
    ")"
   ],
   "outputs": [
    {
     "output_type": "stream",
     "name": "stderr",
     "text": [
      "Reusing dataset amazon_polarity (/Users/ignacio/.cache/huggingface/datasets/amazon_polarity/amazon_polarity/3.0.0/ac31acedf6cda6bc2aa50d448f48bbad69a3dd8efc607d2ff1a9e65c2476b4c1)\n",
      "The `xla_device` argument has been deprecated in v4.4.0 of Transformers. It is ignored and you can safely remove it from your `config.json` file.\n",
      "The `xla_device` argument has been deprecated in v4.4.0 of Transformers. It is ignored and you can safely remove it from your `config.json` file.\n",
      "The `xla_device` argument has been deprecated in v4.4.0 of Transformers. It is ignored and you can safely remove it from your `config.json` file.\n",
      "The `xla_device` argument has been deprecated in v4.4.0 of Transformers. It is ignored and you can safely remove it from your `config.json` file.\n",
      "The `xla_device` argument has been deprecated in v4.4.0 of Transformers. It is ignored and you can safely remove it from your `config.json` file.\n"
     ]
    },
    {
     "output_type": "execute_result",
     "data": {
      "text/plain": [
       "BulkResponse(dataset='sentiment-analysis', processed=20, failed=0)"
      ]
     },
     "metadata": {},
     "execution_count": 34
    }
   ],
   "metadata": {}
  }
 ],
 "metadata": {
  "orig_nbformat": 4,
  "language_info": {
   "name": "python",
   "version": "3.8.10",
   "mimetype": "text/x-python",
   "codemirror_mode": {
    "name": "ipython",
    "version": 3
   },
   "pygments_lexer": "ipython3",
   "nbconvert_exporter": "python",
   "file_extension": ".py"
  },
  "kernelspec": {
   "name": "python3",
   "display_name": "Python 3.8.10 64-bit ('rubrix': conda)"
  },
  "interpreter": {
   "hash": "4cac2ad44382dcbde9c9d45667b9ac0fec163e57feefe7fa8ea5d11fd16eb612"
  }
 },
 "nbformat": 4,
 "nbformat_minor": 2
}