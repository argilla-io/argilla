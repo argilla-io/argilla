{
 "cells": [
  {
   "cell_type": "markdown",
   "id": "c63a57b3-afa4-41d6-910d-7f7a3c60d864",
   "metadata": {},
   "source": [
    "# Monitoring NLP pipelines\n",
    "\n",
    "Rubrix currently gives users several ways to monitor and observe model predictions. \n",
    "\n",
    "This brief guide introduces the different methods and expected usages."
   ]
  },
  {
   "cell_type": "markdown",
   "id": "fb191af2-e3af-4c54-8aa3-8e6fb781c234",
   "metadata": {},
   "source": [
    "## Using `rb.monitor`\n",
    "\n",
    "For widely-used libraries Rubrix includes an \"auto-monitoring\" option via the `rb.monitor` method. Currently supported libraries are Hugging Face Transformers and spaCy, if you'd like to see another library supported feel free to add a discussion or issue on GitHub.\n",
    "\n",
    "\n",
    "`rb.monitor` will wrap HF and spaCy pipelines so every time you call them, the output of these calls will be logged into the dataset of your choice, as a background process, in a non-blocking way. Additionally, `rb.monitor` will add several tags to your dataset such as the library build version, the model name, the language, etc. This should also work for custom (private) pipelines, not only the Hub's or official spaCy models.\n",
    "\n",
    "It is worth noting that this feature is useful beyond monitoring, and can be used for data collection (e.g., bootstrapping data annotation with pre-trained pipelines), model development (e.g., error analysis), and model evaluation (e.g., combined with data annotation to obtain evaluation metrics).\n",
    "\n",
    "\n",
    "Let's see it in action using the IMDB dataset:"
   ]
  },
  {
   "cell_type": "code",
   "execution_count": null,
   "id": "3cd93c3d-507e-4c23-a786-30e51d0697b9",
   "metadata": {},
   "outputs": [],
   "source": [
    "from datasets import load_dataset\n",
    "\n",
    "dataset = load_dataset(\"imdb\", split=\"test[0:1000]\")"
   ]
  },
  {
   "cell_type": "markdown",
   "id": "68bd39d2-ade8-4351-87a2-0df664c27037",
   "metadata": {},
   "source": [
    "### Hugging Face Transformer Pipelines\n",
    "\n",
    "Rubrix currently supports monitoring`text-classification` and `zero-shot-classification` pipelines, but `token-classification` and `text2text` pipelines will be added in coming releases.\n"
   ]
  },
  {
   "cell_type": "code",
   "execution_count": null,
   "id": "965b18b8-0a27-4169-82d7-52a6909813bf",
   "metadata": {},
   "outputs": [],
   "source": [
    "from transformers import pipeline\n",
    "import rubrix as rb\n",
    "\n",
    "nlp = pipeline(\"sentiment-analysis\", return_all_scores=True, padding=True, truncation=True)\n",
    "nlp = rb.monitor(nlp, dataset=\"nlp_monitoring\")\n",
    "\n",
    "dataset.map(lambda example: {\"prediction\": nlp(example[\"text\"])})"
   ]
  },
  {
   "cell_type": "markdown",
   "id": "4a0e901e-8a7e-46b8-9a78-655826ea307d",
   "metadata": {},
   "source": [
    "Once the `map` operation starts, you can start browsing the predictions in the Web-app:"
   ]
  },
  {
   "cell_type": "markdown",
   "id": "87c51edc-4fa9-495e-9949-53e444d1040b",
   "metadata": {},
   "source": [
    "<video width=\"100%\" controls><source src=\"../_static/guides/monitoring/hf_monitoring.mp4\" type=\"video/mp4\"></video>"
   ]
  },
  {
   "cell_type": "markdown",
   "id": "734ce9e4-17f5-4a4d-ae26-7a15c8ab793b",
   "metadata": {},
   "source": [
    "The default Rubrix installation comes with **Elastic's Kibana** pre-configured, so you can easily build custom monitoring dashboards and alerts (for your team and other stakeholders):"
   ]
  },
  {
   "cell_type": "markdown",
   "id": "da4fc490-73d9-41ac-ae14-259386a5f6fb",
   "metadata": {},
   "source": [
    "<video width=\"100%\" controls><source src=\"../_static/guides/monitoring/kibana.mp4\" type=\"video/mp4\"></video>"
   ]
  },
  {
   "cell_type": "markdown",
   "id": "729dba46-cd79-412b-a5b6-9aaadbf4c699",
   "metadata": {},
   "source": [
    "Record-level metadata is a key element of Rubrix datasets, enabling users to do fine-grained analysis and dataset slicing. Let's see how we can log metadata while using `rb.monitor`. Let's use the label in ag_news to add a news_category field for each record."
   ]
  },
  {
   "cell_type": "code",
   "execution_count": null,
   "id": "7331ce60-4e70-42e2-b5a6-4ef37ca9c3ce",
   "metadata": {},
   "outputs": [],
   "source": [
    "dataset"
   ]
  },
  {
   "cell_type": "code",
   "execution_count": null,
   "id": "3c791a9e-0b73-4e75-9018-f06c8457fa0d",
   "metadata": {},
   "outputs": [],
   "source": [
    "dataset.map(lambda example: {\"prediction\": nlp(example[\"text\"], metadata={\"news_category\": example[\"label\"]})})"
   ]
  },
  {
   "cell_type": "markdown",
   "id": "701842d3-0f12-4ac5-8a0c-6ddefb8a09e8",
   "metadata": {},
   "source": [
    "### spaCy\n",
    "\n",
    "Rubrix currently supports monitoring the NER pipeline component, but `textcat` will be added soon."
   ]
  },
  {
   "cell_type": "code",
   "execution_count": null,
   "id": "2ab03c18-3ffb-4e48-adfc-8f2890d2f30e",
   "metadata": {},
   "outputs": [],
   "source": [
    "import spacy\n",
    "import rubrix as rb\n",
    "\n",
    "nlp = spacy.load(\"en_core_web_sm\")\n",
    "nlp = rb.monitor(nlp, dataset=\"nlp_monitoring_spacy\")\n",
    "\n",
    "dataset.map(lambda example: {\"prediction\": nlp(example[\"text\"])})"
   ]
  },
  {
   "cell_type": "markdown",
   "id": "d1131c32-3036-49ca-92cc-c8f2775f76c8",
   "metadata": {},
   "source": [
    "Once the `map` operation starts, you can start browsing the predictions in the Web-app:"
   ]
  },
  {
   "cell_type": "markdown",
   "id": "936cbaec-223c-4902-beac-0a50dfe55b7b",
   "metadata": {},
   "source": [
    "### Flair\n",
    "\n",
    "Rubrix currently supports monitoring Flair NER pipelines component."
   ]
  },
  {
   "cell_type": "code",
   "execution_count": null,
   "id": "719a5ffb-35e0-485b-b99e-566b1a53043d",
   "metadata": {},
   "outputs": [],
   "source": [
    "import rubrix as rb\n",
    "\n",
    "from flair.data import Sentence\n",
    "from flair.models import SequenceTagger\n",
    "\n",
    "# load tagger\n",
    "tagger = rb.monitor(SequenceTagger.load(\"flair/ner-english\"), dataset=\"flair-example\", sample_rate=1.0)\n",
    "\n",
    "# make example sentence\n",
    "sentence = Sentence(\"George Washington went to Washington\")\n",
    "\n",
    "# predict NER tags. This will log the prediction in Rubrix\n",
    "tagger.predict(sentence)"
   ]
  },
  {
   "cell_type": "markdown",
   "id": "0c560f7f-5287-4a76-8b4e-bce7cc718b3c",
   "metadata": {},
   "source": [
    "The following logs the predictions over the IMDB dataset:"
   ]
  },
  {
   "cell_type": "code",
   "execution_count": null,
   "id": "4beb08dd-075f-4edd-9122-71f9973cba36",
   "metadata": {},
   "outputs": [],
   "source": [
    "def make_prediction(example):\n",
    "    tagger.predict(Sentence(example[\"text\"]))\n",
    "    return {\"prediction\": True}\n",
    "\n",
    "dataset.map(make_prediction)"
   ]
  },
  {
   "cell_type": "markdown",
   "id": "c71b49ea-7384-423d-b2d8-ac6280b7a200",
   "metadata": {},
   "source": [
    "## Using the ASGI middleware\n",
    "\n",
    "For using the ASGI middleware, see this [tutorial](../tutorials/09-automatic_fastapi_log.ipynb)"
   ]
  }
 ],
 "metadata": {
  "kernelspec": {
   "display_name": "Python 3",
   "language": "python",
   "name": "python3"
  },
  "language_info": {
   "codemirror_mode": {
    "name": "ipython",
    "version": 3
   },
   "file_extension": ".py",
   "mimetype": "text/x-python",
   "name": "python",
   "nbconvert_exporter": "python",
   "pygments_lexer": "ipython3",
   "version": "3.8.5"
  }
 },
 "nbformat": 4,
 "nbformat_minor": 5
}
