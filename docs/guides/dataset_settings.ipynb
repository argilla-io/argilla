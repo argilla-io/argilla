{
 "cells": [
  {
   "cell_type": "markdown",
   "id": "f3320e28-1d17-4b04-a3b0-51645806b0f9",
   "metadata": {},
   "source": [
    "# Dataset settings\n",
    "\n",
    "Rubrix datasets have certain *settings* that you can configure via the `rb.*Settings` classes, for example `rb.TextClassificationSettings`."
   ]
  },
  {
   "cell_type": "markdown",
   "id": "7e950e24-9d19-41d5-826f-43d9fe37f999",
   "metadata": {},
   "source": [
    "## Define a labeling schema\n",
    "\n",
    "You can define a labeling schema for your Rubrix dataset, which fixes the allowed labels for your predictions and annotations.\n",
    "Once you set a labeling schema, each time you log to the corresponding dataset, Rubrix will perform validations of the added predictions and annotations to make sure they comply with the schema."
   ]
  },
  {
   "cell_type": "code",
   "execution_count": 7,
   "id": "6e18e959-4a78-4b9e-bec3-7dc8c6ac95c9",
   "metadata": {},
   "outputs": [],
   "source": [
    "import rubrix as rb\n",
    "\n",
    "# Define labeling schema\n",
    "settings = rb.TextClassificationSettings(labels_schema=[\"A\", \"B\", \"C\"])\n",
    "\n",
    "# Apply seetings to a new or already existing dataset\n",
    "rb.configure_dataset(name=\"my_dataset\", settings=settings)\n",
    "\n",
    "# Logging to the newly created dataset triggers the validation checks\n",
    "rb.log(rb.TextClassificationRecord(text=\"text\", annotation=\"A\"), \"my_dataset\")\n",
    "#BadRequestApiError: Rubrix server returned an error with http status: 400"
   ]
  }
 ],
 "metadata": {
  "kernelspec": {
   "display_name": "Python 3 (ipykernel)",
   "language": "python",
   "name": "python3"
  },
  "language_info": {
   "codemirror_mode": {
    "name": "ipython",
    "version": 3
   },
   "file_extension": ".py",
   "mimetype": "text/x-python",
   "name": "python",
   "nbconvert_exporter": "python",
   "pygments_lexer": "ipython3",
   "version": "3.8.12"
  }
 },
 "nbformat": 4,
 "nbformat_minor": 5
}
