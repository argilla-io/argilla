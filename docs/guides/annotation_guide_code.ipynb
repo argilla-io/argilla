{
 "cells": [
  {
   "cell_type": "markdown",
   "metadata": {},
   "source": [
    "# Annotate new data to improve NLP models using Rubrix and biome.text"
   ]
  },
  {
   "cell_type": "markdown",
   "metadata": {},
   "source": [
    "## Introduction\n",
    "\n",
    "Hey there! In this guide, we will show you how to use Rubrix to annotate new data, and use this new data to improve existing Deep Learning models. Our use case will be Automatic Misogyny Detection (AMI): Deep Learning models able to detect the underlying misogyny on a given text. Ground-breaking work is being made every year on this subject, with shared tasks and new models that push the performance of these models closer and closer to be implemented in apps, social networks and other digital environments. \n",
    "\n",
    "To train these NLP models we are going to use [biome.text](https://github.com/recognai/biome-text), an open-source library to train models with a simple workflow. Rubrix is compatible with almost any library or service, so we will work back and forth with both of them. \n",
    "\n",
    "The data used to feed the models and make the annotations comes from the [IberEval 2018](https://sites.google.com/view/ibereval-2…) shared task. It's a compilation of tweets, analyzed by experts and classified in 5 different misogyny categories. We are also making the specific datasets used in each step of this guide available, so it can be reproduced in the best way possible."
   ]
  },
  {
   "cell_type": "markdown",
   "metadata": {},
   "source": [
    "## Dependencies\n",
    "\n",
    "If you want to reproduce this code, make sure that all the libraries needed to run this guide are installed and imported."
   ]
  },
  {
   "cell_type": "code",
   "execution_count": null,
   "metadata": {},
   "outputs": [],
   "source": [
    "%pip install -U git+https://github.com/recognai/biome-text\n",
    "%pip install rubrix\n",
    "%pip install pandas\n",
    "exit(0)  # Force restart of the runtime"
   ]
  },
  {
   "cell_type": "code",
   "execution_count": 1,
   "metadata": {},
   "outputs": [],
   "source": [
    "#TODO:erase\n",
    "\n",
    "import os\n",
    "os.environ['WANDB_API_KEY'] = '7bd265df21100baa9767bb9f69108bc417db4b4a'"
   ]
  },
  {
   "cell_type": "code",
   "execution_count": 2,
   "metadata": {},
   "outputs": [],
   "source": [
    "from biome.text import *\n",
    "import pandas as pd\n",
    "import rubrix as rb\n",
    "\n",
    "#TODO: erase\n",
    "from biome.text import *\n",
    "from biome.text.hpo import TuneExperiment\n",
    "from ray.tune.suggest.hyperopt import HyperOptSearch\n",
    "from ray import tune\n",
    "import math\n",
    "\n",
    "import wandb "
   ]
  },
  {
   "cell_type": "markdown",
   "metadata": {},
   "source": [
    "## Loading datasets\n",
    "\n",
    "Let's load some prepared datasets we made to quickly train our first model."
   ]
  },
  {
   "cell_type": "code",
   "execution_count": 3,
   "metadata": {},
   "outputs": [
    {
     "name": "stderr",
     "output_type": "stream",
     "text": [
      "Using custom data configuration default-9b87295e20f6a888\n"
     ]
    },
    {
     "name": "stdout",
     "output_type": "stream",
     "text": [
      "Downloading and preparing dataset csv/default (download: Unknown size, generated: Unknown size, post-processed: Unknown size, total: Unknown size) to /home/ubuntu/.cache/huggingface/datasets/csv/default-9b87295e20f6a888/0.0.0/2dc6629a9ff6b5697d82c25b73731dd440507a69cbce8b425db50b751e8fcfd0...\n"
     ]
    },
    {
     "data": {
      "application/vnd.jupyter.widget-view+json": {
       "model_id": "",
       "version_major": 2,
       "version_minor": 0
      },
      "text/plain": [
       "HBox(children=(FloatProgress(value=1.0, bar_style='info', layout=Layout(width='20px'), max=1.0), HTML(value=''…"
      ]
     },
     "metadata": {},
     "output_type": "display_data"
    },
    {
     "name": "stdout",
     "output_type": "stream",
     "text": [
      "Dataset csv downloaded and prepared to /home/ubuntu/.cache/huggingface/datasets/csv/default-9b87295e20f6a888/0.0.0/2dc6629a9ff6b5697d82c25b73731dd440507a69cbce8b425db50b751e8fcfd0. Subsequent calls will reuse this data.\n"
     ]
    },
    {
     "name": "stderr",
     "output_type": "stream",
     "text": [
      "Using custom data configuration default-fe3e051d519a0cb5\n"
     ]
    },
    {
     "name": "stdout",
     "output_type": "stream",
     "text": [
      "Downloading and preparing dataset csv/default (download: Unknown size, generated: Unknown size, post-processed: Unknown size, total: Unknown size) to /home/ubuntu/.cache/huggingface/datasets/csv/default-fe3e051d519a0cb5/0.0.0/2dc6629a9ff6b5697d82c25b73731dd440507a69cbce8b425db50b751e8fcfd0...\n"
     ]
    },
    {
     "data": {
      "application/vnd.jupyter.widget-view+json": {
       "model_id": "",
       "version_major": 2,
       "version_minor": 0
      },
      "text/plain": [
       "HBox(children=(FloatProgress(value=1.0, bar_style='info', layout=Layout(width='20px'), max=1.0), HTML(value=''…"
      ]
     },
     "metadata": {},
     "output_type": "display_data"
    },
    {
     "name": "stdout",
     "output_type": "stream",
     "text": [
      "Dataset csv downloaded and prepared to /home/ubuntu/.cache/huggingface/datasets/csv/default-fe3e051d519a0cb5/0.0.0/2dc6629a9ff6b5697d82c25b73731dd440507a69cbce8b425db50b751e8fcfd0. Subsequent calls will reuse this data.\n"
     ]
    },
    {
     "data": {
      "application/vnd.jupyter.widget-view+json": {
       "model_id": "a28015bf8eda47abbb155226d5c82c85",
       "version_major": 2,
       "version_minor": 0
      },
      "text/plain": [
       "HBox(children=(FloatProgress(value=0.0, max=3292.0), HTML(value='')))"
      ]
     },
     "metadata": {},
     "output_type": "display_data"
    },
    {
     "name": "stdout",
     "output_type": "stream",
     "text": [
      "\n"
     ]
    },
    {
     "data": {
      "application/vnd.jupyter.widget-view+json": {
       "model_id": "3fe213f3fdd143029f084f9495d2162e",
       "version_major": 2,
       "version_minor": 0
      },
      "text/plain": [
       "HBox(children=(FloatProgress(value=0.0, max=831.0), HTML(value='')))"
      ]
     },
     "metadata": {},
     "output_type": "display_data"
    },
    {
     "name": "stdout",
     "output_type": "stream",
     "text": [
      "\n"
     ]
    }
   ],
   "source": [
    "# Loading the datasets\n",
    "training_ds = Dataset.from_csv('annotation_data/training_full_df.csv')\n",
    "test_ds = Dataset.from_csv('annotation_data/test_df.csv')\n",
    "\n",
    "# Removing non-useful generated columns\n",
    "training_ds = training_ds.map(remove_columns=[\"Unnamed: 0\", \"id\"])\n",
    "test_ds = test_ds.map(remove_columns=[\"Unnamed: 0\", \"id\"])"
   ]
  },
  {
   "cell_type": "markdown",
   "metadata": {},
   "source": [
    "Taking a quick look at the columns and the number of rows of the dataset."
   ]
  },
  {
   "cell_type": "code",
   "execution_count": 4,
   "metadata": {},
   "outputs": [
    {
     "data": {
      "text/plain": [
       "Dataset({\n",
       "    features: ['label', 'text'],\n",
       "    num_rows: 3292\n",
       "})"
      ]
     },
     "execution_count": 4,
     "metadata": {},
     "output_type": "execute_result"
    }
   ],
   "source": [
    "training_ds"
   ]
  },
  {
   "cell_type": "markdown",
   "metadata": {},
   "source": [
    "## Training the first model\n",
    "\n",
    "Creating NLP pipelines with biome.text is quick and convenient! We performed a HPO process on the background, to find suitable hyperparameters for this domain, so let's use them to create our first AMI model. Note that we're making a pipeline with BETO, an Spanish Transformer model, at the head. To learn more about what a Transformer is, please visit the [Transformer guide of biome.text](https://recognai.github.io/biome-text/v3.0.0/documentation/tutorials/4-Using_Transformers_in_biome_text.html)."
   ]
  },
  {
   "cell_type": "code",
   "execution_count": 5,
   "metadata": {},
   "outputs": [
    {
     "name": "stderr",
     "output_type": "stream",
     "text": [
      "Some weights of BertModel were not initialized from the model checkpoint at dccuchile/bert-base-spanish-wwm-cased and are newly initialized: ['bert.pooler.dense.weight', 'bert.pooler.dense.bias']\n",
      "You should probably TRAIN this model on a down-stream task to be able to use it for predictions and inference.\n"
     ]
    }
   ],
   "source": [
    "pipeline_dict = {\n",
    "    \"name\": \"AMI_first_model\",\n",
    "    \"features\": {\n",
    "        \"transformers\": {\n",
    "            \"model_name\": \"dccuchile/bert-base-spanish-wwm-cased\", # BETO model\n",
    "            \"trainable\": True,\n",
    "            \"max_length\": 280,  # As we are working with data from Twitter, this is our max length\n",
    "        }\n",
    "    },\n",
    "    \"head\": {\n",
    "        \"type\": \"TextClassification\",\n",
    "        # These are the possible misogyny categories. 0 indicates it is non-sexist\n",
    "        \"labels\": [\n",
    "            'sexual_harassment',\n",
    "             'dominance',\n",
    "             'discredit',\n",
    "             'stereotype',\n",
    "             'derailing',\n",
    "             'passive',\n",
    "             'active',\n",
    "             '0'\n",
    "        ],\n",
    "        \"pooler\": {\n",
    "            \"type\": \"lstm\",\n",
    "            \"num_layers\": 1,\n",
    "            \"hidden_size\": 256,\n",
    "            \"bidirectional\": True,\n",
    "        },\n",
    "    },\n",
    "}\n",
    "\n",
    "pl = Pipeline.from_config(pipeline_dict)"
   ]
  },
  {
   "cell_type": "code",
   "execution_count": 6,
   "metadata": {},
   "outputs": [],
   "source": [
    "batch_size = 16\n",
    "trainer_dict = {\n",
    "    \"optimizer\": {\n",
    "        \"type\": \"adamw\",\n",
    "        \"lr\": tune.loguniform(1e-5, 1e-4),\n",
    "        \"weight_decay\": tune.loguniform(2e-3, 6e-2 )\n",
    "    },\n",
    "    \"learning_rate_scheduler\": {\n",
    "        \"type\": \"linear_with_warmup\",\n",
    "        \"num_epochs\": 10,\n",
    "        \"num_steps_per_epoch\": int(math.floor(len(training_ds)/batch_size)),\n",
    "        \"warmup_steps\": 100,\n",
    "    },\n",
    "    \"batch_size\": batch_size,\n",
    "    \"num_epochs\": 10,\n",
    "    \n",
    "}"
   ]
  },
  {
   "cell_type": "code",
   "execution_count": 7,
   "metadata": {},
   "outputs": [],
   "source": [
    "trainer_config = TrainerConfiguration(\n",
    "    optimizer={\n",
    "        \"type\": \"adamw\",\n",
    "        \"lr\": 0.000023636840436059507,\n",
    "        \"weight_decay\": 0.01438297700463013,\n",
    "    },\n",
    "    batch_size=8,\n",
    "    max_epochs=10,\n",
    ")"
   ]
  },
  {
   "cell_type": "code",
   "execution_count": 9,
   "metadata": {},
   "outputs": [
    {
     "data": {
      "application/vnd.jupyter.widget-view+json": {
       "model_id": "ccd599bb565149d884ff005f9d2a8628",
       "version_major": 2,
       "version_minor": 0
      },
      "text/plain": [
       "HBox(children=(FloatProgress(value=0.0, description='Loading training instances', max=3292.0, style=ProgressSt…"
      ]
     },
     "metadata": {},
     "output_type": "display_data"
    },
    {
     "name": "stderr",
     "output_type": "stream",
     "text": [
      "INFO:biome.text.dataset: Caching instances to /home/ubuntu/.cache/huggingface/datasets/csv/default-9b87295e20f6a888/0.0.0/2dc6629a9ff6b5697d82c25b73731dd440507a69cbce8b425db50b751e8fcfd0/22f25f58fd448a84.instance_list)\n"
     ]
    },
    {
     "name": "stdout",
     "output_type": "stream",
     "text": [
      "\n"
     ]
    },
    {
     "data": {
      "application/vnd.jupyter.widget-view+json": {
       "model_id": "1c9046f504474d2095e8d72fdfa7acd3",
       "version_major": 2,
       "version_minor": 0
      },
      "text/plain": [
       "HBox(children=(FloatProgress(value=0.0, description='Loading validation instances', max=831.0, style=ProgressS…"
      ]
     },
     "metadata": {},
     "output_type": "display_data"
    },
    {
     "name": "stderr",
     "output_type": "stream",
     "text": [
      "INFO:biome.text.dataset: Caching instances to /home/ubuntu/.cache/huggingface/datasets/csv/default-fe3e051d519a0cb5/0.0.0/2dc6629a9ff6b5697d82c25b73731dd440507a69cbce8b425db50b751e8fcfd0/7aaf6355591dde02.instance_list)\n",
      "GPU available: True, used: True\n",
      "TPU available: False, using: 0 TPU cores\n"
     ]
    },
    {
     "name": "stdout",
     "output_type": "stream",
     "text": [
      "\n"
     ]
    }
   ],
   "source": [
    "trainer = Trainer(\n",
    "    pipeline=pl,\n",
    "    train_dataset=training_ds,\n",
    "    valid_dataset=test_ds,\n",
    "    trainer_config=trainer_config\n",
    ")"
   ]
  },
  {
   "cell_type": "code",
   "execution_count": 10,
   "metadata": {},
   "outputs": [
    {
     "name": "stderr",
     "output_type": "stream",
     "text": [
      "Failed to detect the name of this notebook, you can set it manually with the WANDB_NOTEBOOK_NAME environment variable to enable code saving.\n",
      "\u001b[34m\u001b[1mwandb\u001b[0m: Currently logged in as: \u001b[33mignacioct\u001b[0m (use `wandb login --relogin` to force relogin)\n",
      "\u001b[34m\u001b[1mwandb\u001b[0m: wandb version 0.10.33 is available!  To upgrade, please run:\n",
      "\u001b[34m\u001b[1mwandb\u001b[0m:  $ pip install wandb --upgrade\n"
     ]
    },
    {
     "data": {
      "text/html": [
       "\n",
       "                Tracking run with wandb version 0.10.27<br/>\n",
       "                Syncing run <strong style=\"color:#cdcd00\">honest-violet-69</strong> to <a href=\"https://wandb.ai\" target=\"_blank\">Weights & Biases</a> <a href=\"https://docs.wandb.com/integrations/jupyter.html\" target=\"_blank\">(Documentation)</a>.<br/>\n",
       "                Project page: <a href=\"https://wandb.ai/ignacioct/biome\" target=\"_blank\">https://wandb.ai/ignacioct/biome</a><br/>\n",
       "                Run page: <a href=\"https://wandb.ai/ignacioct/biome/runs/25dc9923\" target=\"_blank\">https://wandb.ai/ignacioct/biome/runs/25dc9923</a><br/>\n",
       "                Run data is saved locally in <code>/home/ubuntu/jupyter-data/Ignacio/rubrix/docs/guides/training_logs/wandb/run-20210702_082746-25dc9923</code><br/><br/>\n",
       "            "
      ],
      "text/plain": [
       "<IPython.core.display.HTML object>"
      ]
     },
     "metadata": {},
     "output_type": "display_data"
    },
    {
     "name": "stderr",
     "output_type": "stream",
     "text": [
      "LOCAL_RANK: 0 - CUDA_VISIBLE_DEVICES: [0,1]\n",
      "\n",
      "  | Name  | Type               | Params\n",
      "---------------------------------------------\n",
      "0 | _head | TextClassification | 111 M \n",
      "---------------------------------------------\n",
      "111 M     Trainable params\n",
      "0         Non-trainable params\n",
      "111 M     Total params\n",
      "447.825   Total estimated model params size (MB)\n"
     ]
    },
    {
     "data": {
      "application/vnd.jupyter.widget-view+json": {
       "model_id": "",
       "version_major": 2,
       "version_minor": 0
      },
      "text/plain": [
       "HBox(children=(FloatProgress(value=1.0, bar_style='info', description='Validation sanity check', layout=Layout…"
      ]
     },
     "metadata": {},
     "output_type": "display_data"
    },
    {
     "name": "stderr",
     "output_type": "stream",
     "text": [
      "/home/ubuntu/anaconda3/envs/py37/lib/python3.7/site-packages/pytorch_lightning/utilities/distributed.py:69: UserWarning: The dataloader, val dataloader 0, does not have many workers which may be a bottleneck. Consider increasing the value of the `num_workers` argument` (try 16 which is the number of cpus on this machine) in the `DataLoader` init to improve performance.\n",
      "  warnings.warn(*args, **kwargs)\n",
      "/home/ubuntu/anaconda3/envs/py37/lib/python3.7/site-packages/pytorch_lightning/utilities/distributed.py:69: UserWarning: The dataloader, train dataloader, does not have many workers which may be a bottleneck. Consider increasing the value of the `num_workers` argument` (try 16 which is the number of cpus on this machine) in the `DataLoader` init to improve performance.\n",
      "  warnings.warn(*args, **kwargs)\n"
     ]
    },
    {
     "data": {
      "application/vnd.jupyter.widget-view+json": {
       "model_id": "06a670c31fa74511bc6598d8ff89e05e",
       "version_major": 2,
       "version_minor": 0
      },
      "text/plain": [
       "HBox(children=(FloatProgress(value=1.0, bar_style='info', description='Training', layout=Layout(flex='2'), max…"
      ]
     },
     "metadata": {},
     "output_type": "display_data"
    },
    {
     "data": {
      "application/vnd.jupyter.widget-view+json": {
       "model_id": "",
       "version_major": 2,
       "version_minor": 0
      },
      "text/plain": [
       "HBox(children=(FloatProgress(value=1.0, bar_style='info', description='Validating', layout=Layout(flex='2'), m…"
      ]
     },
     "metadata": {},
     "output_type": "display_data"
    },
    {
     "data": {
      "application/vnd.jupyter.widget-view+json": {
       "model_id": "",
       "version_major": 2,
       "version_minor": 0
      },
      "text/plain": [
       "HBox(children=(FloatProgress(value=1.0, bar_style='info', description='Validating', layout=Layout(flex='2'), m…"
      ]
     },
     "metadata": {},
     "output_type": "display_data"
    },
    {
     "data": {
      "application/vnd.jupyter.widget-view+json": {
       "model_id": "",
       "version_major": 2,
       "version_minor": 0
      },
      "text/plain": [
       "HBox(children=(FloatProgress(value=1.0, bar_style='info', description='Validating', layout=Layout(flex='2'), m…"
      ]
     },
     "metadata": {},
     "output_type": "display_data"
    },
    {
     "data": {
      "application/vnd.jupyter.widget-view+json": {
       "model_id": "",
       "version_major": 2,
       "version_minor": 0
      },
      "text/plain": [
       "HBox(children=(FloatProgress(value=1.0, bar_style='info', description='Validating', layout=Layout(flex='2'), m…"
      ]
     },
     "metadata": {},
     "output_type": "display_data"
    },
    {
     "data": {
      "application/vnd.jupyter.widget-view+json": {
       "model_id": "",
       "version_major": 2,
       "version_minor": 0
      },
      "text/plain": [
       "HBox(children=(FloatProgress(value=1.0, bar_style='info', description='Validating', layout=Layout(flex='2'), m…"
      ]
     },
     "metadata": {},
     "output_type": "display_data"
    },
    {
     "data": {
      "application/vnd.jupyter.widget-view+json": {
       "model_id": "",
       "version_major": 2,
       "version_minor": 0
      },
      "text/plain": [
       "HBox(children=(FloatProgress(value=1.0, bar_style='info', description='Validating', layout=Layout(flex='2'), m…"
      ]
     },
     "metadata": {},
     "output_type": "display_data"
    },
    {
     "data": {
      "application/vnd.jupyter.widget-view+json": {
       "model_id": "",
       "version_major": 2,
       "version_minor": 0
      },
      "text/plain": [
       "HBox(children=(FloatProgress(value=1.0, bar_style='info', description='Validating', layout=Layout(flex='2'), m…"
      ]
     },
     "metadata": {},
     "output_type": "display_data"
    },
    {
     "data": {
      "application/vnd.jupyter.widget-view+json": {
       "model_id": "",
       "version_major": 2,
       "version_minor": 0
      },
      "text/plain": [
       "HBox(children=(FloatProgress(value=1.0, bar_style='info', description='Validating', layout=Layout(flex='2'), m…"
      ]
     },
     "metadata": {},
     "output_type": "display_data"
    },
    {
     "data": {
      "application/vnd.jupyter.widget-view+json": {
       "model_id": "",
       "version_major": 2,
       "version_minor": 0
      },
      "text/plain": [
       "HBox(children=(FloatProgress(value=1.0, bar_style='info', description='Validating', layout=Layout(flex='2'), m…"
      ]
     },
     "metadata": {},
     "output_type": "display_data"
    },
    {
     "data": {
      "application/vnd.jupyter.widget-view+json": {
       "model_id": "",
       "version_major": 2,
       "version_minor": 0
      },
      "text/plain": [
       "HBox(children=(FloatProgress(value=1.0, bar_style='info', description='Validating', layout=Layout(flex='2'), m…"
      ]
     },
     "metadata": {},
     "output_type": "display_data"
    },
    {
     "name": "stdout",
     "output_type": "stream",
     "text": [
      "\n"
     ]
    },
    {
     "name": "stderr",
     "output_type": "stream",
     "text": [
      "WARNING:allennlp.models.archival: meta file /tmp/tmprrpunev3/meta.json does not exist\n"
     ]
    },
    {
     "data": {
      "text/html": [
       "<br/>Waiting for W&B process to finish, PID 13866<br/>Program ended successfully."
      ],
      "text/plain": [
       "<IPython.core.display.HTML object>"
      ]
     },
     "metadata": {},
     "output_type": "display_data"
    },
    {
     "data": {
      "application/vnd.jupyter.widget-view+json": {
       "model_id": "",
       "version_major": 2,
       "version_minor": 0
      },
      "text/plain": [
       "VBox(children=(Label(value=' 0.00MB of 0.00MB uploaded (0.00MB deduped)\\r'), FloatProgress(value=1.0, max=1.0)…"
      ]
     },
     "metadata": {},
     "output_type": "display_data"
    },
    {
     "data": {
      "text/html": [
       "Find user logs for this run at: <code>/home/ubuntu/jupyter-data/Ignacio/rubrix/docs/guides/training_logs/wandb/run-20210702_082746-25dc9923/logs/debug.log</code>"
      ],
      "text/plain": [
       "<IPython.core.display.HTML object>"
      ]
     },
     "metadata": {},
     "output_type": "display_data"
    },
    {
     "data": {
      "text/html": [
       "Find internal logs for this run at: <code>/home/ubuntu/jupyter-data/Ignacio/rubrix/docs/guides/training_logs/wandb/run-20210702_082746-25dc9923/logs/debug-internal.log</code>"
      ],
      "text/plain": [
       "<IPython.core.display.HTML object>"
      ]
     },
     "metadata": {},
     "output_type": "display_data"
    },
    {
     "data": {
      "text/html": [
       "<h3>Run summary:</h3><br/><style>\n",
       "    table.wandb td:nth-child(1) { padding: 0 10px; text-align: right }\n",
       "    </style><table class=\"wandb\">\n",
       "<tr><td>training_loss</td><td>0.08465</td></tr><tr><td>training_accuracy</td><td>0.98147</td></tr><tr><td>training_micro/precision</td><td>0.98147</td></tr><tr><td>training_micro/recall</td><td>0.98147</td></tr><tr><td>training_micro/fscore</td><td>0.98147</td></tr><tr><td>training_macro/precision</td><td>0.73231</td></tr><tr><td>training_macro/recall</td><td>0.72501</td></tr><tr><td>training_macro/fscore</td><td>0.72857</td></tr><tr><td>training_precision/sexual_harassment</td><td>0.95833</td></tr><tr><td>training_precision/dominance</td><td>0.94389</td></tr><tr><td>training_precision/discredit</td><td>0.97624</td></tr><tr><td>training_precision/stereotype</td><td>0.98667</td></tr><tr><td>training_precision/derailing</td><td>1.0</td></tr><tr><td>training_precision/passive</td><td>0.0</td></tr><tr><td>training_precision/active</td><td>0.0</td></tr><tr><td>training_precision/0</td><td>0.99337</td></tr><tr><td>training_recall/sexual_harassment</td><td>0.94359</td></tr><tr><td>training_recall/dominance</td><td>0.95652</td></tr><tr><td>training_recall/discredit</td><td>0.97523</td></tr><tr><td>training_recall/stereotype</td><td>0.98013</td></tr><tr><td>training_recall/derailing</td><td>0.95</td></tr><tr><td>training_recall/passive</td><td>0.0</td></tr><tr><td>training_recall/active</td><td>0.0</td></tr><tr><td>training_recall/0</td><td>0.99457</td></tr><tr><td>training_fscore/sexual_harassment</td><td>0.9509</td></tr><tr><td>training_fscore/dominance</td><td>0.95017</td></tr><tr><td>training_fscore/discredit</td><td>0.97574</td></tr><tr><td>training_fscore/stereotype</td><td>0.98339</td></tr><tr><td>training_fscore/derailing</td><td>0.97436</td></tr><tr><td>training_fscore/passive</td><td>0.0</td></tr><tr><td>training_fscore/active</td><td>0.0</td></tr><tr><td>training_fscore/0</td><td>0.99397</td></tr><tr><td>epoch</td><td>9</td></tr><tr><td>trainer/global_step</td><td>4119</td></tr><tr><td>_runtime</td><td>378</td></tr><tr><td>_timestamp</td><td>1625214844</td></tr><tr><td>_step</td><td>101</td></tr><tr><td>validation_loss</td><td>1.41843</td></tr><tr><td>validation_accuracy</td><td>0.67268</td></tr><tr><td>validation_micro/precision</td><td>0.67268</td></tr><tr><td>validation_micro/recall</td><td>0.67268</td></tr><tr><td>validation_micro/fscore</td><td>0.67268</td></tr><tr><td>validation_macro/precision</td><td>0.27787</td></tr><tr><td>validation_macro/recall</td><td>0.26635</td></tr><tr><td>validation_macro/fscore</td><td>0.26733</td></tr><tr><td>validation_precision/sexual_harassment</td><td>0.475</td></tr><tr><td>validation_precision/dominance</td><td>0.30233</td></tr><tr><td>validation_precision/discredit</td><td>0.57284</td></tr><tr><td>validation_precision/stereotype</td><td>0.0</td></tr><tr><td>validation_precision/derailing</td><td>0.0</td></tr><tr><td>validation_precision/passive</td><td>0.0</td></tr><tr><td>validation_precision/active</td><td>0.0</td></tr><tr><td>validation_precision/0</td><td>0.87278</td></tr><tr><td>validation_recall/sexual_harassment</td><td>0.37255</td></tr><tr><td>validation_recall/dominance</td><td>0.24074</td></tr><tr><td>validation_recall/discredit</td><td>0.80836</td></tr><tr><td>validation_recall/stereotype</td><td>0.0</td></tr><tr><td>validation_recall/derailing</td><td>0.0</td></tr><tr><td>validation_recall/passive</td><td>0.0</td></tr><tr><td>validation_recall/active</td><td>0.0</td></tr><tr><td>validation_recall/0</td><td>0.70913</td></tr><tr><td>validation_fscore/sexual_harassment</td><td>0.41758</td></tr><tr><td>validation_fscore/dominance</td><td>0.26804</td></tr><tr><td>validation_fscore/discredit</td><td>0.67052</td></tr><tr><td>validation_fscore/stereotype</td><td>0.0</td></tr><tr><td>validation_fscore/derailing</td><td>0.0</td></tr><tr><td>validation_fscore/passive</td><td>0.0</td></tr><tr><td>validation_fscore/active</td><td>0.0</td></tr><tr><td>validation_fscore/0</td><td>0.78249</td></tr><tr><td>best_validation_loss</td><td>1.12548</td></tr><tr><td>best_validation_accuracy</td><td>0.73045</td></tr><tr><td>best_validation_micro/precision</td><td>0.73045</td></tr><tr><td>best_validation_micro/recall</td><td>0.73045</td></tr><tr><td>best_validation_micro/fscore</td><td>0.73045</td></tr><tr><td>best_validation_macro/precision</td><td>0.30949</td></tr><tr><td>best_validation_macro/recall</td><td>0.32027</td></tr><tr><td>best_validation_macro/fscore</td><td>0.31321</td></tr><tr><td>best_validation_precision/sexual_harassment</td><td>0.62264</td></tr><tr><td>best_validation_precision/dominance</td><td>0.31034</td></tr><tr><td>best_validation_precision/discredit</td><td>0.63408</td></tr><tr><td>best_validation_precision/stereotype</td><td>0.0</td></tr><tr><td>best_validation_precision/derailing</td><td>0.0</td></tr><tr><td>best_validation_precision/passive</td><td>0.0</td></tr><tr><td>best_validation_precision/active</td><td>0.0</td></tr><tr><td>best_validation_precision/0</td><td>0.90884</td></tr><tr><td>best_validation_recall/sexual_harassment</td><td>0.64706</td></tr><tr><td>best_validation_recall/dominance</td><td>0.33333</td></tr><tr><td>best_validation_recall/discredit</td><td>0.79094</td></tr><tr><td>best_validation_recall/stereotype</td><td>0.0</td></tr><tr><td>best_validation_recall/derailing</td><td>0.0</td></tr><tr><td>best_validation_recall/passive</td><td>0.0</td></tr><tr><td>best_validation_recall/active</td><td>0.0</td></tr><tr><td>best_validation_recall/0</td><td>0.79087</td></tr><tr><td>best_validation_fscore/sexual_harassment</td><td>0.63462</td></tr><tr><td>best_validation_fscore/dominance</td><td>0.32143</td></tr><tr><td>best_validation_fscore/discredit</td><td>0.70388</td></tr><tr><td>best_validation_fscore/stereotype</td><td>0.0</td></tr><tr><td>best_validation_fscore/derailing</td><td>0.0</td></tr><tr><td>best_validation_fscore/passive</td><td>0.0</td></tr><tr><td>best_validation_fscore/active</td><td>0.0</td></tr><tr><td>best_validation_fscore/0</td><td>0.84576</td></tr><tr><td>best_epoch</td><td>7</td></tr></table>"
      ],
      "text/plain": [
       "<IPython.core.display.HTML object>"
      ]
     },
     "metadata": {},
     "output_type": "display_data"
    },
    {
     "data": {
      "text/html": [
       "<h3>Run history:</h3><br/><style>\n",
       "    table.wandb td:nth-child(1) { padding: 0 10px; text-align: right }\n",
       "    </style><table class=\"wandb\">\n",
       "<tr><td>training_loss</td><td>█▅▅▅▄█▄▅▂▂▄▃▃▂▂▂▁▁▃▁▁▂▃▁▁▁▁▁▃▁▁▁▁▁▁▁▁▁▁▁</td></tr><tr><td>training_accuracy</td><td>▁▂▃▄▃▅▅▅▅▆▆▆▆▆▇▇▇▇▇▇▇▇▇▇████████████████</td></tr><tr><td>training_micro/precision</td><td>▁▂▃▄▃▅▅▅▅▆▆▆▆▆▇▇▇▇▇▇▇▇▇▇████████████████</td></tr><tr><td>training_micro/recall</td><td>▁▂▃▄▃▅▅▅▅▆▆▆▆▆▇▇▇▇▇▇▇▇▇▇████████████████</td></tr><tr><td>training_micro/fscore</td><td>▁▂▃▄▃▅▅▅▅▆▆▆▆▆▇▇▇▇▇▇▇▇▇▇████████████████</td></tr><tr><td>training_macro/precision</td><td>▁▄▄▄▄▄▅▅▅▅▅▅▅▅▅▆▆▆▆▆▇▇▇▇██▇▇████████████</td></tr><tr><td>training_macro/recall</td><td>▁▂▂▂▃▄▄▄▅▅▅▅▅▅▅▅▆▆▆▆▇▆▆▆▇▇▇▇▇▇▇▇████████</td></tr><tr><td>training_macro/fscore</td><td>▁▂▂▃▄▄▄▄▅▅▅▅▅▅▆▅▆▆▆▆▇▇▇▇▇▇▇▇▇█▇▇████████</td></tr><tr><td>training_precision/sexual_harassment</td><td>▁▄▅▅▅▆▆▆▆▆▆▇▆▇▇▇▇▇▇▇██▇█████████████████</td></tr><tr><td>training_precision/dominance</td><td>▁▂▃▃▅▅▅▅▆▆▅▅▆▆▆▆▇▆▆▆▆▆▇▇▇▇▇▇█▇▇▇█▇██████</td></tr><tr><td>training_precision/discredit</td><td>▁▃▃▃▃▄▄▅▄▅▆▆▆▇▇▇▇▇▇▇▇▇▇▇▇███████████████</td></tr><tr><td>training_precision/stereotype</td><td>▁█▇▇▅▆▆▆▆▆▇▇▆▆▇▇▇▇▇▇▇██▇▇███████████████</td></tr><tr><td>training_precision/derailing</td><td>▁▁▁▁▁▁▁▁▁▁▁▁▁▁▁▁▁▁▁▁█▇▇▇██▇▇██▇▇█▇▇▇████</td></tr><tr><td>training_precision/passive</td><td>▁▁▁▁▁▁▁▁▁▁▁▁▁▁▁▁▁▁▁▁▁▁▁▁▁▁▁▁▁▁▁▁▁▁▁▁▁▁▁▁</td></tr><tr><td>training_precision/active</td><td>▁▁▁▁▁▁▁▁▁▁▁▁▁▁▁▁▁▁▁▁▁▁▁▁▁▁▁▁▁▁▁▁▁▁▁▁▁▁▁▁</td></tr><tr><td>training_precision/0</td><td>▁▂▃▄▅▅▆▆▆▆▇▇▇▇▇▇█▇▇█████████████████████</td></tr><tr><td>training_recall/sexual_harassment</td><td>▁▁▂▂▄▄▃▃▅▅▅▅▆▆▆▆▇▇▆▆▇▇▇▇███▇████████████</td></tr><tr><td>training_recall/dominance</td><td>▁▂▂▂▅▆▅▅▇▆▇▆▇▇▇▇▇▇▇▇▇▇▇▇████████████████</td></tr><tr><td>training_recall/discredit</td><td>▁▃▄▄▆▆▆▆▆▆▆▇▇▇▇▇▇▇▇▇▇███████████████████</td></tr><tr><td>training_recall/stereotype</td><td>▁▂▂▂▃▄▄▄▇▆▆▅▆▆▆▆█▇▇▆▇▇▇▇█▇▇▇████▇███████</td></tr><tr><td>training_recall/derailing</td><td>▁▁▁▁▁▁▁▁▁▁▁▁▁▁▁▁▁▁▁▁▅▃▃▃▅▆▅▅▅▆▅▆▇▇▇▇████</td></tr><tr><td>training_recall/passive</td><td>▁▁▁▁▁▁▁▁▁▁▁▁▁▁▁▁▁▁▁▁▁▁▁▁▁▁▁▁▁▁▁▁▁▁▁▁▁▁▁▁</td></tr><tr><td>training_recall/active</td><td>▁▁▁▁▁▁▁▁▁▁▁▁▁▁▁▁▁▁▁▁▁▁▁▁▁▁▁▁▁▁▁▁▁▁▁▁▁▁▁▁</td></tr><tr><td>training_recall/0</td><td>▆▅▅▅▁▄▆▆▂▆▆▇▆▇▇▇▇▇▇█▇███▇███████████████</td></tr><tr><td>training_fscore/sexual_harassment</td><td>▁▂▂▂▄▅▄▄▅▅▆▅▆▆▆▇▇▇▇▇█▇▇▇████████████████</td></tr><tr><td>training_fscore/dominance</td><td>▁▂▂▂▅▆▅▅▇▆▆▆▇▇▇▆▇▇▇▇▇▇▇▇█▇▇▇████████████</td></tr><tr><td>training_fscore/discredit</td><td>▁▃▄▄▅▅▆▆▅▆▆▆▇▇▇▇▇▇▇▇▇▇██████████████████</td></tr><tr><td>training_fscore/stereotype</td><td>▁▂▃▃▄▅▅▅▆▆▆▆▆▆▆▆▇▇▇▇▇▇▇▇▇███████████████</td></tr><tr><td>training_fscore/derailing</td><td>▁▁▁▁▁▁▁▁▁▁▁▁▁▁▁▁▁▁▁▁▆▄▄▄▆▇▆▆▆▇▆▆▇▇▇▇████</td></tr><tr><td>training_fscore/passive</td><td>▁▁▁▁▁▁▁▁▁▁▁▁▁▁▁▁▁▁▁▁▁▁▁▁▁▁▁▁▁▁▁▁▁▁▁▁▁▁▁▁</td></tr><tr><td>training_fscore/active</td><td>▁▁▁▁▁▁▁▁▁▁▁▁▁▁▁▁▁▁▁▁▁▁▁▁▁▁▁▁▁▁▁▁▁▁▁▁▁▁▁▁</td></tr><tr><td>training_fscore/0</td><td>▁▂▃▄▂▅▅▆▄▆▆▇▆▇▇▇▇▇▇█▇███████████████████</td></tr><tr><td>epoch</td><td>▁▁▁▁▂▂▂▂▃▃▃▃▃▃▃▃▄▄▄▄▅▅▅▅▆▆▆▆▆▆▆▆▇▇▇▇████</td></tr><tr><td>trainer/global_step</td><td>▁▁▁▂▂▂▂▂▂▃▃▃▃▃▄▄▄▄▄▄▅▅▅▅▅▅▆▆▆▆▆▇▇▇▇▇▇███</td></tr><tr><td>_runtime</td><td>▁▁▁▂▂▂▂▂▂▃▃▃▃▃▄▄▄▄▄▄▅▅▅▅▅▅▆▆▆▆▆▇▇▇▇▇▇███</td></tr><tr><td>_timestamp</td><td>▁▁▁▂▂▂▂▂▂▃▃▃▃▃▄▄▄▄▄▄▅▅▅▅▅▅▆▆▆▆▆▇▇▇▇▇▇███</td></tr><tr><td>_step</td><td>▁▁▁▁▂▂▂▂▂▃▃▃▃▃▃▄▄▄▄▄▅▅▅▅▅▅▆▆▆▆▆▇▇▇▇▇▇███</td></tr><tr><td>validation_loss</td><td>█▅▅▄▂▇▂▁▂▃</td></tr><tr><td>validation_accuracy</td><td>▁▂▃▄▆▄▆██▇</td></tr><tr><td>validation_micro/precision</td><td>▁▂▃▄▆▄▆██▇</td></tr><tr><td>validation_micro/recall</td><td>▁▂▃▄▆▄▆██▇</td></tr><tr><td>validation_micro/fscore</td><td>▁▂▃▄▆▄▆██▇</td></tr><tr><td>validation_macro/precision</td><td>▁▄▃▃▄▄█▅▅▄</td></tr><tr><td>validation_macro/recall</td><td>▁▄▆▇█▃██▆▅</td></tr><tr><td>validation_macro/fscore</td><td>▁▅▅▆▇▅▇██▆</td></tr><tr><td>validation_precision/sexual_harassment</td><td>▁▄▁▃▄█▂▆▆▄</td></tr><tr><td>validation_precision/dominance</td><td>▁▆▅▄▅▄▇▆█▆</td></tr><tr><td>validation_precision/discredit</td><td>▁▂▃▄▆▂█▇█▆</td></tr><tr><td>validation_precision/stereotype</td><td>▁▂▂▁▁▁█▁▁▁</td></tr><tr><td>validation_precision/derailing</td><td>▁▁▁▁▁▁▁▁▁▁</td></tr><tr><td>validation_precision/passive</td><td>▁▁▁▁▁▁▁▁▁▁</td></tr><tr><td>validation_precision/active</td><td>▁▁▁▁▁▁▁▁▁▁</td></tr><tr><td>validation_precision/0</td><td>█▆▆▆▅▅▁▄▁▂</td></tr><tr><td>validation_recall/sexual_harassment</td><td>▆▅▇▅▅▃█▅▃▁</td></tr><tr><td>validation_recall/dominance</td><td>▁▅▅█▇▃▅▅▃▄</td></tr><tr><td>validation_recall/discredit</td><td>██▂▁▃▇▁▅▆▆</td></tr><tr><td>validation_recall/stereotype</td><td>▁██▅▅▁▅▁▁▁</td></tr><tr><td>validation_recall/derailing</td><td>▁▁▁▁▁▁▁▁▁▁</td></tr><tr><td>validation_recall/passive</td><td>▁▁▁▁▁▁▁▁▁▁</td></tr><tr><td>validation_recall/active</td><td>▁▁▁▁▁▁▁▁▁▁</td></tr><tr><td>validation_recall/0</td><td>▁▂▃▄▆▄▇▇█▇</td></tr><tr><td>validation_fscore/sexual_harassment</td><td>▁▅▁▄▅▇▃█▅▃</td></tr><tr><td>validation_fscore/dominance</td><td>▁▇▇▇█▅██▇▇</td></tr><tr><td>validation_fscore/discredit</td><td>▁▂▂▃▅▂▆▇█▆</td></tr><tr><td>validation_fscore/stereotype</td><td>▁▇█▄▄▁█▁▁▁</td></tr><tr><td>validation_fscore/derailing</td><td>▁▁▁▁▁▁▁▁▁▁</td></tr><tr><td>validation_fscore/passive</td><td>▁▁▁▁▁▁▁▁▁▁</td></tr><tr><td>validation_fscore/active</td><td>▁▁▁▁▁▁▁▁▁▁</td></tr><tr><td>validation_fscore/0</td><td>▁▃▄▆▇▅▇██▇</td></tr><tr><td>best_validation_loss</td><td>█▅▅▄▂▂▂▁▁▁</td></tr><tr><td>best_validation_accuracy</td><td>▁▂▂▄▆▆▇███</td></tr><tr><td>best_validation_micro/precision</td><td>▁▂▂▄▆▆▇███</td></tr><tr><td>best_validation_micro/recall</td><td>▁▂▂▄▆▆▇███</td></tr><tr><td>best_validation_micro/fscore</td><td>▁▂▂▄▆▆▇███</td></tr><tr><td>best_validation_macro/precision</td><td>▁▄▄▃▄▄█▅▅▅</td></tr><tr><td>best_validation_macro/recall</td><td>▁▄▄▇██████</td></tr><tr><td>best_validation_macro/fscore</td><td>▁▅▅▆▇▇▇███</td></tr><tr><td>best_validation_precision/sexual_harassment</td><td>▁▅▅▃▅▅▂███</td></tr><tr><td>best_validation_precision/dominance</td><td>▁▇▇▅▆▆█▇▇▇</td></tr><tr><td>best_validation_precision/discredit</td><td>▁▂▂▄▆▆█▇▇▇</td></tr><tr><td>best_validation_precision/stereotype</td><td>▁▂▂▁▁▁█▁▁▁</td></tr><tr><td>best_validation_precision/derailing</td><td>▁▁▁▁▁▁▁▁▁▁</td></tr><tr><td>best_validation_precision/passive</td><td>▁▁▁▁▁▁▁▁▁▁</td></tr><tr><td>best_validation_precision/active</td><td>▁▁▁▁▁▁▁▁▁▁</td></tr><tr><td>best_validation_precision/0</td><td>█▆▆▆▅▅▁▄▄▄</td></tr><tr><td>best_validation_recall/sexual_harassment</td><td>▃▁▁▁▂▂█▃▃▃</td></tr><tr><td>best_validation_recall/dominance</td><td>▁▅▅█▇▇▅▅▅▅</td></tr><tr><td>best_validation_recall/discredit</td><td>███▁▃▃▁▅▅▅</td></tr><tr><td>best_validation_recall/stereotype</td><td>▁██▅▅▅▅▁▁▁</td></tr><tr><td>best_validation_recall/derailing</td><td>▁▁▁▁▁▁▁▁▁▁</td></tr><tr><td>best_validation_recall/passive</td><td>▁▁▁▁▁▁▁▁▁▁</td></tr><tr><td>best_validation_recall/active</td><td>▁▁▁▁▁▁▁▁▁▁</td></tr><tr><td>best_validation_recall/0</td><td>▁▂▂▅▇▇████</td></tr><tr><td>best_validation_fscore/sexual_harassment</td><td>▁▅▅▃▅▅▃███</td></tr><tr><td>best_validation_fscore/dominance</td><td>▁▇▇▇██████</td></tr><tr><td>best_validation_fscore/discredit</td><td>▁▂▂▃▆▆▆███</td></tr><tr><td>best_validation_fscore/stereotype</td><td>▁██▄▄▄█▁▁▁</td></tr><tr><td>best_validation_fscore/derailing</td><td>▁▁▁▁▁▁▁▁▁▁</td></tr><tr><td>best_validation_fscore/passive</td><td>▁▁▁▁▁▁▁▁▁▁</td></tr><tr><td>best_validation_fscore/active</td><td>▁▁▁▁▁▁▁▁▁▁</td></tr><tr><td>best_validation_fscore/0</td><td>▁▃▃▆▇▇████</td></tr><tr><td>best_epoch</td><td>▁▂▂▄▅▅▇███</td></tr></table><br/>"
      ],
      "text/plain": [
       "<IPython.core.display.HTML object>"
      ]
     },
     "metadata": {},
     "output_type": "display_data"
    },
    {
     "data": {
      "text/html": [
       "Synced 5 W&B file(s), 0 media file(s), 0 artifact file(s) and 1 other file(s)"
      ],
      "text/plain": [
       "<IPython.core.display.HTML object>"
      ]
     },
     "metadata": {},
     "output_type": "display_data"
    },
    {
     "data": {
      "text/html": [
       "\n",
       "                    <br/>Synced <strong style=\"color:#cdcd00\">honest-violet-69</strong>: <a href=\"https://wandb.ai/ignacioct/biome/runs/25dc9923\" target=\"_blank\">https://wandb.ai/ignacioct/biome/runs/25dc9923</a><br/>\n",
       "                "
      ],
      "text/plain": [
       "<IPython.core.display.HTML object>"
      ]
     },
     "metadata": {},
     "output_type": "display_data"
    }
   ],
   "source": [
    "trainer.fit()"
   ]
  }
 ],
 "metadata": {
  "interpreter": {
   "hash": "0f338a8622467eba0ef87b9a79c52cc260cef0b0d60c3c739596fb787bf801dd"
  },
  "kernelspec": {
   "display_name": "Python 3",
   "language": "python",
   "name": "python3"
  },
  "language_info": {
   "codemirror_mode": {
    "name": "ipython",
    "version": 3
   },
   "file_extension": ".py",
   "mimetype": "text/x-python",
   "name": "python",
   "nbconvert_exporter": "python",
   "pygments_lexer": "ipython3",
   "version": "3.7.9"
  }
 },
 "nbformat": 4,
 "nbformat_minor": 4
}
