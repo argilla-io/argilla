{
 "cells": [
  {
   "attachments": {},
   "cell_type": "markdown",
   "metadata": {},
   "source": [
    "# 🗺️ Adding bias-equality features to text with `disaggregators`\n",
    "\n",
    "\n",
    "In this tutorial, we will show you how you can use the `disaggregators` package to identify potential bias in your training data. We will walk you through this by using the following steps:\n",
    "\n",
    "- 📰 Load news summary data\n",
    "- 🗺️ apply disaggregator features\n",
    "- 📊 analyze potential biases\n",
    "\n",
    "<img src=\"../../_static/tutorials/labelling-text2text-disaggregators-explainability/labelling-text2text-disaggregators-explainability.png\" alt=\"Transformers Log Demo\" style=\"width: 900px;\">"
   ]
  },
  {
   "attachments": {},
   "cell_type": "markdown",
   "metadata": {},
   "source": [
    "## Introduction\n",
    "\n",
    "\"Addressing fairness and bias in machine learning models is more important than ever! One form of fairness is equal performance across different groups or features. To measure this, evaluation datasets must be disaggregated across the different groups of interest.\" - HuggingFace.\n",
    "\n",
    "In short, the `disaggregators` package, aims to answer the question: \"What is in your dataset and how does this influence groups of interest?\".\n",
    "\n",
    "For other bias and explainability measures take a look at our [other tutorials on explainability](../techniques/explainability.md).\n",
    "\n",
    "Let's get started!"
   ]
  },
  {
   "cell_type": "markdown",
   "metadata": {},
   "source": [
    "## Setup\n",
    "\n",
    "Apart from Argilla, we'll need a few third party libraries that can be installed via pip:"
   ]
  },
  {
   "cell_type": "code",
   "execution_count": null,
   "metadata": {},
   "outputs": [],
   "source": [
    "%pip install disaggregators -qqq\n",
    "%python -m spacy download en_core_web_lg -qqq"
   ]
  },
  {
   "attachments": {},
   "cell_type": "markdown",
   "metadata": {},
   "source": [
    "## 📰 Load news summary data\n",
    "\n",
    "For this analysis, we will be using [our news summary dataset](https://huggingface.co/datasets/argilla/news-summary) from the HuggingFace hub. This datasets is focused on a text2text summarization task, which requires news texts to be summarized into a single sentence or title. Due to the [nice integration with the HuggingFace hub](../../guides/features/datasets.html), we can easily do this within several lines of code. "
   ]
  },
  {
   "cell_type": "code",
   "execution_count": 14,
   "metadata": {},
   "outputs": [
    {
     "data": {
      "application/vnd.jupyter.widget-view+json": {
       "model_id": "0c38bd3f8c134be8b3f7ca82f382eef5",
       "version_major": 2,
       "version_minor": 0
      },
      "text/plain": [
       "  0%|          | 0/1000 [00:00<?, ?it/s]"
      ]
     },
     "metadata": {},
     "output_type": "display_data"
    },
    {
     "name": "stdout",
     "output_type": "stream",
     "text": [
      "1000 records logged to https://pre.argilla.io/datasets/recognai/news-summary\n"
     ]
    },
    {
     "data": {
      "text/plain": [
       "BulkResponse(dataset='news-summary', processed=1000, failed=0)"
      ]
     },
     "execution_count": 14,
     "metadata": {},
     "output_type": "execute_result"
    }
   ],
   "source": [
    "import argilla as rg\n",
    "from datasets import load_dataset\n",
    "\n",
    "# load from datasets\n",
    "my_dataset = load_dataset(\"argilla/news-summary\")\n",
    "dataset_rg = rg.read_datasets(my_dataset[\"train\"], task=\"Text2Text\")\n",
    "\n",
    "# log subset into argilla\n",
    "rg.log(dataset_rg[:1000], \"news-summary\", chunk_size=50) # set smaller chunk size to overcome io-issues"
   ]
  },
  {
   "attachments": {},
   "cell_type": "markdown",
   "metadata": {},
   "source": [
    "## 🗺️ apply disaggregator features\n",
    "\n",
    "After having uploaded the data, we can now take a closer look at the potential disaggregators that the `disaggregators` package provides. It focuses on 5 main classes, with several sub-classes that can be assigned to the text, based on word-matches. This means, each text can also be assigned to multiple classes.\n",
    "\n",
    "- \"age\": [\"child\", \"youth\", \"adult\", \"senior\"]\n",
    "- \"gender\": [\"male\", \"female\"]\n",
    "- \"pronoun\": [\"she_her\", \"he_him\", \"they_them\"]\n",
    "- \"religion\": [\"judaism\", \"islam\", \"buddhism\", \"christianity\"]\n",
    "- \"continent\": [\"africa\", \"americas\", \"asia\", \"europe\", \"oceania\"]\n",
    "\n",
    "Even though we could choose to apply all categories, we can we will now only work with `age` and `gender` to simplify the anlysis."
   ]
  },
  {
   "cell_type": "code",
   "execution_count": 18,
   "metadata": {},
   "outputs": [
    {
     "data": {
      "text/html": [
       "<div>\n",
       "<style scoped>\n",
       "    .dataframe tbody tr th:only-of-type {\n",
       "        vertical-align: middle;\n",
       "    }\n",
       "\n",
       "    .dataframe tbody tr th {\n",
       "        vertical-align: top;\n",
       "    }\n",
       "\n",
       "    .dataframe thead th {\n",
       "        text-align: right;\n",
       "    }\n",
       "</style>\n",
       "<table border=\"1\" class=\"dataframe\">\n",
       "  <thead>\n",
       "    <tr style=\"text-align: right;\">\n",
       "      <th></th>\n",
       "      <th>text</th>\n",
       "      <th>age.child</th>\n",
       "      <th>age.youth</th>\n",
       "      <th>age.adult</th>\n",
       "      <th>age.senior</th>\n",
       "      <th>gender.male</th>\n",
       "      <th>gender.female</th>\n",
       "    </tr>\n",
       "  </thead>\n",
       "  <tbody>\n",
       "    <tr>\n",
       "      <th>0</th>\n",
       "      <td>MEXICO CITY (Reuters) - Mexico central bank go...</td>\n",
       "      <td>True</td>\n",
       "      <td>True</td>\n",
       "      <td>False</td>\n",
       "      <td>False</td>\n",
       "      <td>True</td>\n",
       "      <td>False</td>\n",
       "    </tr>\n",
       "    <tr>\n",
       "      <th>1</th>\n",
       "      <td>WASHINGTON (Reuters) - The Trump administratio...</td>\n",
       "      <td>True</td>\n",
       "      <td>False</td>\n",
       "      <td>False</td>\n",
       "      <td>True</td>\n",
       "      <td>True</td>\n",
       "      <td>False</td>\n",
       "    </tr>\n",
       "    <tr>\n",
       "      <th>2</th>\n",
       "      <td>DUBAI (Reuters) - Iran has provided the capabi...</td>\n",
       "      <td>False</td>\n",
       "      <td>False</td>\n",
       "      <td>False</td>\n",
       "      <td>False</td>\n",
       "      <td>False</td>\n",
       "      <td>False</td>\n",
       "    </tr>\n",
       "    <tr>\n",
       "      <th>3</th>\n",
       "      <td>PALM BEACH, Fla. (Reuters) - U.S. President-el...</td>\n",
       "      <td>False</td>\n",
       "      <td>False</td>\n",
       "      <td>False</td>\n",
       "      <td>False</td>\n",
       "      <td>True</td>\n",
       "      <td>False</td>\n",
       "    </tr>\n",
       "    <tr>\n",
       "      <th>4</th>\n",
       "      <td>WASHINGTON (Reuters) - U.S. Senator Bill Nelso...</td>\n",
       "      <td>False</td>\n",
       "      <td>False</td>\n",
       "      <td>False</td>\n",
       "      <td>False</td>\n",
       "      <td>True</td>\n",
       "      <td>False</td>\n",
       "    </tr>\n",
       "  </tbody>\n",
       "</table>\n",
       "</div>"
      ],
      "text/plain": [
       "                                                text  age.child  age.youth  \\\n",
       "0  MEXICO CITY (Reuters) - Mexico central bank go...       True       True   \n",
       "1  WASHINGTON (Reuters) - The Trump administratio...       True      False   \n",
       "2  DUBAI (Reuters) - Iran has provided the capabi...      False      False   \n",
       "3  PALM BEACH, Fla. (Reuters) - U.S. President-el...      False      False   \n",
       "4  WASHINGTON (Reuters) - U.S. Senator Bill Nelso...      False      False   \n",
       "\n",
       "   age.adult  age.senior  gender.male  gender.female  \n",
       "0      False       False         True          False  \n",
       "1      False        True         True          False  \n",
       "2      False       False        False          False  \n",
       "3      False       False         True          False  \n",
       "4      False       False         True          False  "
      ]
     },
     "execution_count": 18,
     "metadata": {},
     "output_type": "execute_result"
    }
   ],
   "source": [
    "from disaggregators import Disaggregator\n",
    "import pandas as pd\n",
    "import argilla as rg\n",
    "\n",
    "disaggregator_classes = [\"age\", \"gender\"]]\n",
    "ds = rg.load(\"news-summary\")\n",
    "df = pd.DataFrame({\"text\": [rec.text for rec in ds]})\n",
    "disaggregator = Disaggregator(disaggregator_classes, column=\"text\")\n",
    "new_cols = df.apply(disaggregator, axis=1)\n",
    "df = pd.merge(df, pd.json_normalize(new_cols), left_index=True, right_index=True)\n",
    "df.head(5)"
   ]
  },
  {
   "attachments": {},
   "cell_type": "markdown",
   "metadata": {},
   "source": [
    "Now, we have found and apprehended each of the potential `disaggregators`, we can assign them to the `metadata` variable for each one of our records and update the same record ids in the Argilla database."
   ]
  },
  {
   "cell_type": "code",
   "execution_count": 26,
   "metadata": {},
   "outputs": [
    {
     "data": {
      "application/vnd.jupyter.widget-view+json": {
       "model_id": "7ab2a0f28a6c4362b3f1a6b64c29a785",
       "version_major": 2,
       "version_minor": 0
      },
      "text/plain": [
       "  0%|          | 0/1000 [00:00<?, ?it/s]"
      ]
     },
     "metadata": {},
     "output_type": "display_data"
    },
    {
     "name": "stdout",
     "output_type": "stream",
     "text": [
      "1000 records logged to https://pre.argilla.io/datasets/recognai/news-summary\n"
     ]
    },
    {
     "data": {
      "text/plain": [
       "BulkResponse(dataset='news-summary', processed=1000, failed=0)"
      ]
     },
     "execution_count": 26,
     "metadata": {},
     "output_type": "execute_result"
    }
   ],
   "source": [
    "metadata_ds = df[df.columns[1:]].to_dict(orient=\"records\")\n",
    "for metadata_rec, rec in zip(metadata_ds, ds):\n",
    "    rec.metadata = metadata_rec\n",
    "rg.log(ds, \"news-summary\", chunk_size=50) # upsert records"
   ]
  },
  {
   "attachments": {},
   "cell_type": "markdown",
   "metadata": {},
   "source": [
    "## 📊 analyze potential biases\n",
    "\n",
    "Within the UI, there are two direct ways in which we can analyze the assigned bias-info.\n",
    "\n",
    "### Filter based on metadata info\n",
    "\n",
    "By applying filters, we can choose to equally distribute the number of annotations over the potential causes for bias. By doing so, we ensure the eventual training data is also evenly distributed. Alternatively, we can also decide to only label data that has zero disaggregation, assuming they do not contain any of the considered biases.\n",
    "\n",
    "<img src=\"../../_static/tutorials/labelling-text2text-disaggregators-explainability/labelling-text2text-disaggregators-explainability_ui.png\" alt=\"Transformers Log Demo\" style=\"width: 1100px;\">\n",
    "\n",
    "### Inspect record info\n",
    "\n",
    "Even though inspecting the record info is a bit slower, we can potentially assume that it might provide context to record for annotators that might suspect bias within the data. This will allow them to take this into account during annotation.\n",
    "\n",
    "<img src=\"../../_static/tutorials/labelling-text2text-disaggregators-explainability/labelling-text2text-disaggregators-explainability_ui_record.png\" alt=\"Transformers Log Demo\" style=\"width: 1100px;\">\n",
    "\n",
    "### Alternatives\n",
    "\n",
    "Besides the analyses mentioned above, there likely are way more interesting things you can do using this package. A good example being [this HuggingFace space](https://huggingface.co/spaces/society-ethics/disaggregators). So, be creative and avoid bias while doing so 😉\n"
   ]
  },
  {
   "attachments": {},
   "cell_type": "markdown",
   "metadata": {},
   "source": [
    "## Summary\n",
    "\n",
    "In this tutorial, we learned about the `disaggregators` package, and how we can integrate this within Argilla.\n",
    "This can help data-scientist, ML-engineers and annotators to manage and mitigate bias in their datasets."
   ]
  }
 ],
 "metadata": {
  "kernelspec": {
   "display_name": ".venv",
   "language": "python",
   "name": "python3"
  },
  "language_info": {
   "codemirror_mode": {
    "name": "ipython",
    "version": 3
   },
   "file_extension": ".py",
   "mimetype": "text/x-python",
   "name": "python",
   "nbconvert_exporter": "python",
   "pygments_lexer": "ipython3",
   "version": "3.9.13 (main, Nov 24 2022, 21:36:36) \n[Clang 13.1.6 (clang-1316.0.21.2.5)]"
  },
  "vscode": {
   "interpreter": {
    "hash": "39f4e3bd8ecb53b4a2ef9bccb982583dac0632e40e094b10b94294b76eaa26cb"
   }
  }
 },
 "nbformat": 4,
 "nbformat_minor": 4
}
