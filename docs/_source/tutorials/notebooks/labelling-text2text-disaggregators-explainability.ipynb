{
 "cells": [
  {
   "attachments": {},
   "cell_type": "markdown",
   "metadata": {},
   "source": [
    "# 🗺️ Add bias-equality features to datasets with `disaggregators`\n",
    "\n",
    "In this tutorial, we will show you how you can use the `disaggregators` package to identify potential bias in your training data. We will walk you through this by using the following steps:\n",
    "\n",
    "- 📰 Load news summary data\n",
    "- 🗺️ apply disaggregator features\n",
    "- 📊 analyze potential biases\n",
    "\n",
    "<img src=\"../../_static/tutorials/labelling-text2text-disaggregators-explainability/labelling-text2text-disaggregators-explainability.png\" alt=\"Transformers Log Demo\" style=\"width: 900px;\">"
   ]
  },
  {
   "attachments": {},
   "cell_type": "markdown",
   "metadata": {},
   "source": [
    "## Introduction\n",
    "\n",
    "\"Addressing fairness and bias in machine learning models is more important than ever! One form of fairness is equal performance across different groups or features. To measure this, evaluation datasets must be disaggregated across the different groups of interest.\" - HuggingFace.\n",
    "\n",
    "In short, the `disaggregators` package, aims to answer the question: \"What is in your dataset and how does this influence groups of interest?\".\n",
    "\n",
    "For other bias and explainability measures take a look at our [other tutorials on explainability](../techniques/explainability.md).\n",
    "\n",
    "Let's get started!"
   ]
  },
  {
   "attachments": {},
   "cell_type": "markdown",
   "metadata": {},
   "source": [
    "## Running Argilla\n",
    "\n",
    "For this tutorial, you will need to have an Argilla server running. There are two main options for deploying and running Argilla:\n",
    "\n",
    "\n",
    "**Deploy Argilla on Hugging Face Spaces**: If you want to run tutorials with external notebooks (e.g., Google Colab) and you have an account on Hugging Face, you can deploy Argilla on Spaces with a few clicks:\n",
    "\n",
    "[![deploy on spaces](https://huggingface.co/datasets/huggingface/badges/raw/main/deploy-to-spaces-lg.svg)](https://huggingface.co/new-space?template=argilla/argilla-template-space)\n",
    "\n",
    "For details about configuring your deployment, check the [official Hugging Face Hub guide](https://huggingface.co/docs/hub/spaces-sdks-docker-argilla).\n",
    "\n",
    "\n",
    "**Launch Argilla using Argilla's quickstart Docker image**: This is the recommended option if you want [Argilla running on your local machine](../../getting_started/quickstart.ipynb). Note that this option will only let you run the tutorial locally and not with an external notebook service.\n",
    "\n",
    "For more information on deployment options, please check the Deployment section of the documentation.\n",
    "\n",
    "<div class=\"alert alert-info\">\n",
    "\n",
    "Tip\n",
    "    \n",
    "This tutorial is a Jupyter Notebook. There are two options to run it:\n",
    "\n",
    "- Use the Open in Colab button at the top of this page. This option allows you to run the notebook directly on Google Colab. Don't forget to change the runtime type to GPU for faster model training and inference.\n",
    "- Download the .ipynb file by clicking on the View source link at the top of the page. This option allows you to download the notebook and run it on your local machine or on a Jupyter notebook tool of your choice.\n",
    "</div>"
   ]
  },
  {
   "attachments": {},
   "cell_type": "markdown",
   "metadata": {},
   "source": [
    "## Setup\n",
    "\n",
    "\n",
    "To complete this tutorial, you will need to install the Argilla client and a few third party libraries using `pip`. You also need to download a pretrained model from spaCy:"
   ]
  },
  {
   "cell_type": "code",
   "execution_count": null,
   "metadata": {},
   "outputs": [],
   "source": [
    "%pip install argilla disaggregators -qqq\n",
    "!python -m spacy download en_core_web_lg -qqq"
   ]
  },
  {
   "attachments": {},
   "cell_type": "markdown",
   "metadata": {},
   "source": [
    "Let's import the Argilla module for reading and writing data:"
   ]
  },
  {
   "cell_type": "code",
   "execution_count": 1,
   "metadata": {},
   "outputs": [],
   "source": [
    "import argilla as rg"
   ]
  },
  {
   "attachments": {},
   "cell_type": "markdown",
   "metadata": {
    "id": "7TRNourOwigS"
   },
   "source": [
    "If you are running Argilla using the Docker quickstart image or Hugging Face Spaces, you need to init the Argilla client with the `URL` and `API_KEY`:"
   ]
  },
  {
   "cell_type": "code",
   "execution_count": null,
   "metadata": {},
   "outputs": [],
   "source": [
    "# Replace api_url with the url to your HF Spaces URL if using Spaces\n",
    "# Replace api_key if you configured a custom API key\n",
    "rg.init(\n",
    "    api_url=\"http://localhost:6900\", \n",
    "    api_key=\"admin.apikey\"\n",
    ")"
   ]
  },
  {
   "attachments": {},
   "cell_type": "markdown",
   "metadata": {
    "id": "ccL8UFwj_CaD"
   },
   "source": [
    "Now let's include the imports we need:"
   ]
  },
  {
   "cell_type": "code",
   "execution_count": null,
   "metadata": {},
   "outputs": [],
   "source": [
    "from datasets import load_dataset\n",
    "from disaggregators import Disaggregator\n",
    "import pandas as pd"
   ]
  },
  {
   "attachments": {},
   "cell_type": "markdown",
   "metadata": {},
   "source": [
    "## 📰 Load news summary data\n",
    "\n",
    "For this analysis, we will be using [our news summary dataset](https://huggingface.co/datasets/argilla/news-summary) from the HuggingFace hub. This datasets is focused on a text2text summarization task, which requires news texts to be summarized into a single sentence or title. Due to the [nice integration with the HuggingFace hub](../../guides/features/datasets.html), we can easily do this within several lines of code. "
   ]
  },
  {
   "cell_type": "code",
   "execution_count": null,
   "metadata": {},
   "outputs": [],
   "source": [
    "# load from datasets\n",
    "my_dataset = load_dataset(\"argilla/news-summary\")\n",
    "dataset_rg = rg.read_datasets(my_dataset[\"train\"], task=\"Text2Text\")\n",
    "\n",
    "# log subset into argilla\n",
    "rg.log(dataset_rg[:1000], \"news-summary\", chunk_size=50) # set smaller chunk size to overcome io-issues"
   ]
  },
  {
   "attachments": {},
   "cell_type": "markdown",
   "metadata": {},
   "source": [
    "## 🗺️ Apply disaggregator features\n",
    "\n",
    "After having uploaded the data, we can now take a closer look at the potential disaggregators that the `disaggregators` package provides. It focuses on 5 main classes, with several sub-classes that can be assigned to the text, based on word-matches. This means, each text can also be assigned to multiple classes.\n",
    "\n",
    "- \"age\": [\"child\", \"youth\", \"adult\", \"senior\"]\n",
    "- \"gender\": [\"male\", \"female\"]\n",
    "- \"pronoun\": [\"she_her\", \"he_him\", \"they_them\"]\n",
    "- \"religion\": [\"judaism\", \"islam\", \"buddhism\", \"christianity\"]\n",
    "- \"continent\": [\"africa\", \"americas\", \"asia\", \"europe\", \"oceania\"]\n",
    "\n",
    "Even though we could choose to apply all categories, we can we will now only work with `age` and `gender` to simplify the anlysis."
   ]
  },
  {
   "cell_type": "code",
   "execution_count": 18,
   "metadata": {},
   "outputs": [
    {
     "data": {
      "text/html": [
       "<div>\n",
       "<style scoped>\n",
       "    .dataframe tbody tr th:only-of-type {\n",
       "        vertical-align: middle;\n",
       "    }\n",
       "\n",
       "    .dataframe tbody tr th {\n",
       "        vertical-align: top;\n",
       "    }\n",
       "\n",
       "    .dataframe thead th {\n",
       "        text-align: right;\n",
       "    }\n",
       "</style>\n",
       "<table border=\"1\" class=\"dataframe\">\n",
       "  <thead>\n",
       "    <tr style=\"text-align: right;\">\n",
       "      <th></th>\n",
       "      <th>text</th>\n",
       "      <th>age.child</th>\n",
       "      <th>age.youth</th>\n",
       "      <th>age.adult</th>\n",
       "      <th>age.senior</th>\n",
       "      <th>gender.male</th>\n",
       "      <th>gender.female</th>\n",
       "    </tr>\n",
       "  </thead>\n",
       "  <tbody>\n",
       "    <tr>\n",
       "      <th>0</th>\n",
       "      <td>MEXICO CITY (Reuters) - Mexico central bank go...</td>\n",
       "      <td>True</td>\n",
       "      <td>True</td>\n",
       "      <td>False</td>\n",
       "      <td>False</td>\n",
       "      <td>True</td>\n",
       "      <td>False</td>\n",
       "    </tr>\n",
       "    <tr>\n",
       "      <th>1</th>\n",
       "      <td>WASHINGTON (Reuters) - The Trump administratio...</td>\n",
       "      <td>True</td>\n",
       "      <td>False</td>\n",
       "      <td>False</td>\n",
       "      <td>True</td>\n",
       "      <td>True</td>\n",
       "      <td>False</td>\n",
       "    </tr>\n",
       "    <tr>\n",
       "      <th>2</th>\n",
       "      <td>DUBAI (Reuters) - Iran has provided the capabi...</td>\n",
       "      <td>False</td>\n",
       "      <td>False</td>\n",
       "      <td>False</td>\n",
       "      <td>False</td>\n",
       "      <td>False</td>\n",
       "      <td>False</td>\n",
       "    </tr>\n",
       "    <tr>\n",
       "      <th>3</th>\n",
       "      <td>PALM BEACH, Fla. (Reuters) - U.S. President-el...</td>\n",
       "      <td>False</td>\n",
       "      <td>False</td>\n",
       "      <td>False</td>\n",
       "      <td>False</td>\n",
       "      <td>True</td>\n",
       "      <td>False</td>\n",
       "    </tr>\n",
       "    <tr>\n",
       "      <th>4</th>\n",
       "      <td>WASHINGTON (Reuters) - U.S. Senator Bill Nelso...</td>\n",
       "      <td>False</td>\n",
       "      <td>False</td>\n",
       "      <td>False</td>\n",
       "      <td>False</td>\n",
       "      <td>True</td>\n",
       "      <td>False</td>\n",
       "    </tr>\n",
       "  </tbody>\n",
       "</table>\n",
       "</div>"
      ],
      "text/plain": [
       "                                                text  age.child  age.youth  \\\n",
       "0  MEXICO CITY (Reuters) - Mexico central bank go...       True       True   \n",
       "1  WASHINGTON (Reuters) - The Trump administratio...       True      False   \n",
       "2  DUBAI (Reuters) - Iran has provided the capabi...      False      False   \n",
       "3  PALM BEACH, Fla. (Reuters) - U.S. President-el...      False      False   \n",
       "4  WASHINGTON (Reuters) - U.S. Senator Bill Nelso...      False      False   \n",
       "\n",
       "   age.adult  age.senior  gender.male  gender.female  \n",
       "0      False       False         True          False  \n",
       "1      False        True         True          False  \n",
       "2      False       False        False          False  \n",
       "3      False       False         True          False  \n",
       "4      False       False         True          False  "
      ]
     },
     "execution_count": 18,
     "metadata": {},
     "output_type": "execute_result"
    }
   ],
   "source": [
    "disaggregator_classes = [\"age\", \"gender\"]\n",
    "ds = rg.load(\"news-summary\")\n",
    "df = pd.DataFrame({\"text\": [rec.text for rec in ds]})\n",
    "disaggregator = Disaggregator(disaggregator_classes, column=\"text\")\n",
    "new_cols = df.apply(disaggregator, axis=1)\n",
    "df = pd.merge(df, pd.json_normalize(new_cols), left_index=True, right_index=True)\n",
    "df.head(5)"
   ]
  },
  {
   "attachments": {},
   "cell_type": "markdown",
   "metadata": {},
   "source": [
    "Now, we have found and apprehended each of the potential `disaggregators`, we can assign them to the `metadata` variable for each one of our records and update the same record ids in the Argilla database."
   ]
  },
  {
   "cell_type": "code",
   "execution_count": null,
   "metadata": {},
   "outputs": [],
   "source": [
    "metadata_ds = df[df.columns[1:]].to_dict(orient=\"records\")\n",
    "for metadata_rec, rec in zip(metadata_ds, ds):\n",
    "    rec.metadata = metadata_rec\n",
    "rg.log(ds, \"news-summary\", chunk_size=50) # upsert records"
   ]
  },
  {
   "attachments": {},
   "cell_type": "markdown",
   "metadata": {},
   "source": [
    "## 📊 Analyze potential biases\n",
    "\n",
    "Within the UI, there are two direct ways in which we can analyze the assigned bias-info.\n",
    "\n",
    "### Filter based on metadata info\n",
    "\n",
    "By applying filters, we can choose to equally distribute the number of annotations over the potential causes for bias. By doing so, we ensure the eventual training data is also evenly distributed. Alternatively, we can also decide to only label data that has zero disaggregation, assuming they do not contain any of the considered biases.\n",
    "\n",
    "<img src=\"../../_static/tutorials/labelling-text2text-disaggregators-explainability/labelling-text2text-disaggregators-explainability_ui.png\" alt=\"Transformers Log Demo\" style=\"width: 1100px;\">\n",
    "\n",
    "### Inspect record info\n",
    "\n",
    "Even though inspecting the record info is a bit slower, we can potentially assume that it might provide context to record for annotators that might suspect bias within the data. This will allow them to take this into account during annotation.\n",
    "\n",
    "<img src=\"../../_static/tutorials/labelling-text2text-disaggregators-explainability/labelling-text2text-disaggregators-explainability_ui_record.png\" alt=\"Transformers Log Demo\" style=\"width: 1100px;\">\n",
    "\n",
    "### Alternatives\n",
    "\n",
    "Besides the analyses mentioned above, there likely are way more interesting things you can do using this package. A good example being [this HuggingFace space](https://huggingface.co/spaces/society-ethics/disaggregators). So, be creative and avoid bias while doing so 😉\n"
   ]
  },
  {
   "attachments": {},
   "cell_type": "markdown",
   "metadata": {},
   "source": [
    "## Summary\n",
    "\n",
    "In this tutorial, we learned about the `disaggregators` package, and how we can integrate this within Argilla.\n",
    "This can help data-scientist, ML-engineers and annotators to manage and mitigate bias in their datasets."
   ]
  }
 ],
 "metadata": {
  "kernelspec": {
   "display_name": ".venv",
   "language": "python",
   "name": "python3"
  },
  "language_info": {
   "codemirror_mode": {
    "name": "ipython",
    "version": 3
   },
   "file_extension": ".py",
   "mimetype": "text/x-python",
   "name": "python",
   "nbconvert_exporter": "python",
   "pygments_lexer": "ipython3",
   "version": "3.9.1 (default, Dec 17 2020, 03:56:09) \n[Clang 11.0.0 (clang-1100.0.33.17)]"
  },
  "vscode": {
   "interpreter": {
    "hash": "8874e298d2bce9702a08b32d5709c9f02d53b2045f1d246836c6e4c8123e6782"
   }
  }
 },
 "nbformat": 4,
 "nbformat_minor": 4
}
