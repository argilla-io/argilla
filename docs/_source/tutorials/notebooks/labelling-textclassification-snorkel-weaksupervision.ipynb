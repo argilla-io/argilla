{
 "cells": [
  {
   "attachments": {},
   "cell_type": "markdown",
   "id": "9a77a750-072d-4dae-afb8-d725e21be584",
   "metadata": {},
   "source": [
    "# 📰 Train a text classifier with weak supervision\n",
    "\n",
    "In this tutorial, we will build a news classifier using rules and weak supervision: \n",
    "\n",
    "- 📰 For this example, we use the AG News dataset but you can follow this process to programmatically label any dataset.\n",
    "- 🤿 The train split without labels is used to build a training set with rules, Argilla and Snorkel's Label model.\n",
    "- 🔧 The test set is used for evaluating our weak labels, label model and downstream news classifier.\n",
    "- 🤯 We achieve 0.82 macro avg. f1-score without using a single example from the original dataset and using a pretty lightweight model (scikit-learn's `MultinomialNB`).\n",
    "\n",
    "The following diagram shows the overall process for using Weak supervision with Argilla:\n",
    "\n",
    "![labeling-textclassification-snorkel-weaksupervision](../../_static/tutorials/labelling-textclassification-snorkel-weaksupervision/labelling-textclassification-snorkel-weaksupervision.png)"
   ]
  },
  {
   "cell_type": "markdown",
   "id": "395b144d",
   "metadata": {},
   "source": [
    "## Introduction\n",
    "\n",
    "> *Weak supervision is a branch of machine learning where noisy, limited, or imprecise sources are used to provide supervision signal for labeling large amounts of training data in a supervised learning setting. This approach alleviates the burden of obtaining hand-labeled data sets, which can be costly or impractical. Instead, inexpensive weak labels are employed with the understanding that they are imperfect, but can nonetheless be used to create a strong predictive model.* [[Wikipedia]](https://en.wikipedia.org/wiki/Weak_supervision)\n",
    "\n",
    "For a broader introduction to weak supervision, as well as further references, we recommend the excellent [overview by Alex Ratner et al.](https://www.snorkel.org/blog/weak-supervision).\n",
    "\n",
    "This tutorial aims to be a practical introduction to weak supervision and will walk you through its entire process.\n",
    "First we will generate weak labels with *Argilla*, combine these labels with *Snorkel*, and finally train a classifier with *Scikit Learn*."
   ]
  },
  {
   "attachments": {},
   "cell_type": "markdown",
   "id": "35f3ce49",
   "metadata": {},
   "source": [
    "## Running Argilla\n",
    "\n",
    "For this tutorial, you will need to have an Argilla server running. There are two main options for deploying and running Argilla:\n",
    "\n",
    "\n",
    "**Deploy Argilla on Hugging Face Spaces**: If you want to run tutorials with external notebooks (e.g., Google Colab) and you have an account on Hugging Face, you can deploy Argilla on Spaces with a few clicks:\n",
    "\n",
    "[![deploy on spaces](https://huggingface.co/datasets/huggingface/badges/raw/main/deploy-to-spaces-lg.svg)](https://huggingface.co/new-space?template=argilla/argilla-template-space)\n",
    "\n",
    "For details about configuring your deployment, check the [official Hugging Face Hub guide](https://huggingface.co/docs/hub/spaces-sdks-docker-argilla).\n",
    "\n",
    "\n",
    "**Launch Argilla using Argilla's quickstart Docker image**: This is the recommended option if you want [Argilla running on your local machine](../../getting_started/quickstart.ipynb). Note that this option will only let you run the tutorial locally and not with an external notebook service.\n",
    "\n",
    "For more information on deployment options, please check the Deployment section of the documentation.\n",
    "\n",
    "<div class=\"alert alert-info\">\n",
    "\n",
    "Tip\n",
    "    \n",
    "This tutorial is a Jupyter Notebook. There are two options to run it:\n",
    "\n",
    "- Use the Open in Colab button at the top of this page. This option allows you to run the notebook directly on Google Colab. Don't forget to change the runtime type to GPU for faster model training and inference.\n",
    "- Download the .ipynb file by clicking on the View source link at the top of the page. This option allows you to download the notebook and run it on your local machine or on a Jupyter notebook tool of your choice.\n",
    "</div>"
   ]
  },
  {
   "attachments": {},
   "cell_type": "markdown",
   "id": "90076262",
   "metadata": {},
   "source": [
    "## Setup\n",
    "\n",
    "For this tutorial, you'll need to install the Argilla client and a few third party libraries using `pip`:"
   ]
  },
  {
   "cell_type": "code",
   "execution_count": null,
   "id": "2e54886a",
   "metadata": {
    "collapsed": false,
    "jupyter": {
     "outputs_hidden": false
    }
   },
   "outputs": [],
   "source": [
    "%pip install argilla snorkel datasets sklearn -qqq"
   ]
  },
  {
   "attachments": {},
   "cell_type": "markdown",
   "id": "fabdd145",
   "metadata": {},
   "source": [
    "Let's import the Argilla module for reading and writing data:"
   ]
  },
  {
   "cell_type": "code",
   "execution_count": 1,
   "id": "ac811da1",
   "metadata": {},
   "outputs": [],
   "source": [
    "import argilla as rg"
   ]
  },
  {
   "attachments": {},
   "cell_type": "markdown",
   "id": "556046ed",
   "metadata": {
    "id": "7TRNourOwigS"
   },
   "source": [
    "If you are running Argilla using the Docker quickstart image or Hugging Face Spaces, you need to init the Argilla client with the `URL` and `API_KEY`:"
   ]
  },
  {
   "cell_type": "code",
   "execution_count": null,
   "id": "1ab3983e",
   "metadata": {},
   "outputs": [],
   "source": [
    "# Replace api_url with the url to your HF Spaces URL if using Spaces\n",
    "# Replace api_key if you configured a custom API key\n",
    "rg.init(\n",
    "    api_url=\"http://localhost:6900\", \n",
    "    api_key=\"admin.apikey\"\n",
    ")"
   ]
  },
  {
   "attachments": {},
   "cell_type": "markdown",
   "id": "5be64d5e",
   "metadata": {
    "id": "ccL8UFwj_CaD"
   },
   "source": [
    "Finally, let's include the imports we need:"
   ]
  },
  {
   "cell_type": "code",
   "execution_count": null,
   "id": "92a4f3f8",
   "metadata": {},
   "outputs": [],
   "source": [
    "from datasets import load_dataset\n",
    "import pandas as pd\n",
    "from argilla.labeling.text_classification import *\n",
    "from sklearn.feature_extraction.text import TfidfTransformer, CountVectorizer\n",
    "from sklearn.naive_bayes import MultinomialNB\n",
    "from sklearn.pipeline import Pipeline\n",
    "from sklearn import metrics"
   ]
  },
  {
   "cell_type": "markdown",
   "id": "99f8cf20",
   "metadata": {},
   "source": [
    "<div class=\"alert alert-info\">\n",
    "\n",
    "Note\n",
    "\n",
    "If you want to skip the first three sections of this tutorial, and only prepare the training set and train a downstream model, you can load the records directly from the [Hugging Face Hub](https://huggingface.co/datasets):\n",
    "\n",
    "```python\n",
    "import argilla as rg\n",
    "from datasets import load_dataset\n",
    "\n",
    "# this replaces the `records = label_model.predict()` line of section 4\n",
    "records = rg.read_datasets(\n",
    "    load_dataset(\"argilla/news\", split=\"train\"),\n",
    "    task=\"TextClassification\",\n",
    ")\n",
    "```\n",
    "\n",
    "</div>"
   ]
  },
  {
   "cell_type": "markdown",
   "id": "279ef86e-26e1-4cdc-b05b-60605bf13e25",
   "metadata": {},
   "source": [
    "## 1. Load test and unlabelled datasets into Argilla\n",
    "\n",
    "First, let's download the `ag_news` data set and have a quick look at it."
   ]
  },
  {
   "cell_type": "code",
   "execution_count": null,
   "id": "ffa9c430-201b-40ce-94e7-37941d0d4de8",
   "metadata": {},
   "outputs": [],
   "source": [
    "# load our data\n",
    "dataset = load_dataset(\"ag_news\")\n",
    "\n",
    "# get the index to label mapping\n",
    "labels = dataset[\"test\"].features[\"label\"].names"
   ]
  },
  {
   "cell_type": "code",
   "execution_count": 5,
   "id": "b63e3399-6fad-483f-9f9c-7011a4793a9f",
   "metadata": {},
   "outputs": [
    {
     "data": {
      "text/html": [
       "<div>\n",
       "<style scoped>\n",
       "    .dataframe tbody tr th:only-of-type {\n",
       "        vertical-align: middle;\n",
       "    }\n",
       "\n",
       "    .dataframe tbody tr th {\n",
       "        vertical-align: top;\n",
       "    }\n",
       "\n",
       "    .dataframe thead th {\n",
       "        text-align: right;\n",
       "    }\n",
       "</style>\n",
       "<table border=\"1\" class=\"dataframe\">\n",
       "  <thead>\n",
       "    <tr style=\"text-align: right;\">\n",
       "      <th></th>\n",
       "      <th>text</th>\n",
       "      <th>label</th>\n",
       "    </tr>\n",
       "  </thead>\n",
       "  <tbody>\n",
       "    <tr>\n",
       "      <th>0</th>\n",
       "      <td>Fears for T N pension after talks Unions representing workers at Turner   Newall say they are 'disappointed' after talks with stricken parent firm Federal Mogul.</td>\n",
       "      <td>2</td>\n",
       "    </tr>\n",
       "    <tr>\n",
       "      <th>1</th>\n",
       "      <td>The Race is On: Second Private Team Sets Launch Date for Human Spaceflight (SPACE.com) SPACE.com - TORONTO, Canada -- A second\\team of rocketeers competing for the  #36;10 million Ansari X Prize, a contest for\\privately funded suborbital space flight, has officially announced the first\\launch date for its manned rocket.</td>\n",
       "      <td>3</td>\n",
       "    </tr>\n",
       "    <tr>\n",
       "      <th>2</th>\n",
       "      <td>Ky. Company Wins Grant to Study Peptides (AP) AP - A company founded by a chemistry researcher at the University of Louisville won a grant to develop a method of producing better peptides, which are short chains of amino acids, the building blocks of proteins.</td>\n",
       "      <td>3</td>\n",
       "    </tr>\n",
       "    <tr>\n",
       "      <th>3</th>\n",
       "      <td>Prediction Unit Helps Forecast Wildfires (AP) AP - It's barely dawn when Mike Fitzpatrick starts his shift with a blur of colorful maps, figures and endless charts, but already he knows what the day will bring. Lightning will strike in places he expects. Winds will pick up, moist places will dry and flames will roar.</td>\n",
       "      <td>3</td>\n",
       "    </tr>\n",
       "    <tr>\n",
       "      <th>4</th>\n",
       "      <td>Calif. Aims to Limit Farm-Related Smog (AP) AP - Southern California's smog-fighting agency went after emissions of the bovine variety Friday, adopting the nation's first rules to reduce air pollution from dairy cow manure.</td>\n",
       "      <td>3</td>\n",
       "    </tr>\n",
       "  </tbody>\n",
       "</table>\n",
       "</div>"
      ],
      "text/plain": [
       "                                                                                                                                                                                                                                                                                                                                text  \\\n",
       "0                                                                                                                                                                  Fears for T N pension after talks Unions representing workers at Turner   Newall say they are 'disappointed' after talks with stricken parent firm Federal Mogul.   \n",
       "1  The Race is On: Second Private Team Sets Launch Date for Human Spaceflight (SPACE.com) SPACE.com - TORONTO, Canada -- A second\\team of rocketeers competing for the  #36;10 million Ansari X Prize, a contest for\\privately funded suborbital space flight, has officially announced the first\\launch date for its manned rocket.   \n",
       "2                                                               Ky. Company Wins Grant to Study Peptides (AP) AP - A company founded by a chemistry researcher at the University of Louisville won a grant to develop a method of producing better peptides, which are short chains of amino acids, the building blocks of proteins.   \n",
       "3     Prediction Unit Helps Forecast Wildfires (AP) AP - It's barely dawn when Mike Fitzpatrick starts his shift with a blur of colorful maps, figures and endless charts, but already he knows what the day will bring. Lightning will strike in places he expects. Winds will pick up, moist places will dry and flames will roar.   \n",
       "4                                                                                                    Calif. Aims to Limit Farm-Related Smog (AP) AP - Southern California's smog-fighting agency went after emissions of the bovine variety Friday, adopting the nation's first rules to reduce air pollution from dairy cow manure.   \n",
       "\n",
       "   label  \n",
       "0      2  \n",
       "1      3  \n",
       "2      3  \n",
       "3      3  \n",
       "4      3  "
      ]
     },
     "metadata": {},
     "output_type": "display_data"
    }
   ],
   "source": [
    "# quick look at our data\n",
    "with pd.option_context(\"display.max_colwidth\", None):\n",
    "    display(dataset[\"test\"].to_pandas().head())"
   ]
  },
  {
   "cell_type": "markdown",
   "id": "8770a307-34e8-4d08-9001-526a19d3a169",
   "metadata": {},
   "source": [
    "Now we will log the test split of our data set to *Argilla*, which we will be using for testing our label and downstream models."
   ]
  },
  {
   "cell_type": "code",
   "execution_count": null,
   "id": "25f033bb-a731-47b5-abcb-d9ea913b20b2",
   "metadata": {},
   "outputs": [],
   "source": [
    "# build our test records\n",
    "records = [\n",
    "    rg.TextClassificationRecord(\n",
    "        text=record[\"text\"],\n",
    "        metadata={\"split\": \"test\"},\n",
    "        annotation=labels[record[\"label\"]],\n",
    "    )\n",
    "    for record in dataset[\"test\"]\n",
    "]\n",
    "\n",
    "# log the records to Argilla\n",
    "rg.log(records, name=\"news\")"
   ]
  },
  {
   "cell_type": "markdown",
   "id": "d57bf497-2a75-4c79-9487-b3a84602bbea",
   "metadata": {},
   "source": [
    "In a second step we log the train split without labels.\n",
    "Remember, our goal is to programmatically build a training set using rules and weak supervision."
   ]
  },
  {
   "cell_type": "code",
   "execution_count": null,
   "id": "04d06c80-bb41-4668-ad07-d96da8e4b4e6",
   "metadata": {},
   "outputs": [],
   "source": [
    "# build our training records without labels\n",
    "records = [\n",
    "    rg.TextClassificationRecord(\n",
    "        text=record[\"text\"],\n",
    "        metadata={\"split\": \"unlabelled\"},\n",
    "    )\n",
    "    for record in dataset[\"train\"]\n",
    "]\n",
    "\n",
    "# log the records to Argilla\n",
    "rg.log(records, name=\"news\")"
   ]
  },
  {
   "cell_type": "markdown",
   "id": "6b943c5e-2a5d-40b5-9805-7fd78e5161a3",
   "metadata": {},
   "source": [
    "The result of the above is the following dataset in Argilla, with **127,600 records** (120,000 unlabelled and 7,600 for testing). \n",
    "\n",
    "You can use the web app to find good rules for programmatic labeling!"
   ]
  },
  {
   "cell_type": "markdown",
   "id": "6ddfe433",
   "metadata": {},
   "source": [
    "## 2. Define Rules"
   ]
  },
  {
   "attachments": {},
   "cell_type": "markdown",
   "id": "62724abf",
   "metadata": {},
   "source": [
    "Rules can be defined and managed (1) using the UI, and (2) using the Python client. We will add some rules with the Python Client that will be available in the UI where we can start our interactive weak labeling."
   ]
  },
  {
   "cell_type": "code",
   "execution_count": 32,
   "id": "7e064960",
   "metadata": {},
   "outputs": [],
   "source": [
    "# define queries and patterns for each category (using ES DSL)\n",
    "queries = [\n",
    "    ([\"money\", \"financ*\", \"dollar*\"], \"Business\"),\n",
    "    ([\"war\", \"gov*\", \"minister*\", \"conflict\"], \"World\"),\n",
    "    ([\"footbal*\", \"sport*\", \"game\", \"play*\"], \"Sports\"),\n",
    "    ([\"sci*\", \"techno*\", \"computer*\", \"software\", \"web\"], \"Sci/Tech\"),\n",
    "]\n",
    "\n",
    "# define rules\n",
    "rules = [Rule(query=term, label=label) for terms, label in queries for term in terms]"
   ]
  },
  {
   "cell_type": "code",
   "execution_count": 13,
   "id": "fce45ae1",
   "metadata": {},
   "outputs": [],
   "source": [
    "# add rules to the dataset\n",
    "add_rules(dataset=\"news\", rules=rules)"
   ]
  },
  {
   "cell_type": "markdown",
   "id": "c23dc1c6-9e5f-455f-b8b9-0466a062eda5",
   "metadata": {},
   "source": [
    "## 3. Denoise weak labels with Snorkel's Label Model\n",
    "\n",
    "The goal at this step is to **denoise** the weak labels we've just created using rules. There are several approaches to this problem using different statistical methods.\n",
    "\n",
    "In this tutorial, we're going to use Snorkel but you can actually use any other Label model or weak supervision method, such as FlyingSquid for example (see the [Weak supervision guide](../../guides/techniques/weak_supervision.html) for more details).\n",
    "For convenience, Argilla defines a simple wrapper over Snorkel's Label Model so it's easier to use with Argilla weak labels and datasets\n",
    "\n",
    "Let's first read the rules defined in our dataset and create our weak labels:"
   ]
  },
  {
   "cell_type": "code",
   "execution_count": 15,
   "id": "09bd9bee-9207-4e5e-8d79-41c04d9d0b19",
   "metadata": {},
   "outputs": [
    {
     "data": {
      "text/html": [
       "<div>\n",
       "<style scoped>\n",
       "    .dataframe tbody tr th:only-of-type {\n",
       "        vertical-align: middle;\n",
       "    }\n",
       "\n",
       "    .dataframe tbody tr th {\n",
       "        vertical-align: top;\n",
       "    }\n",
       "\n",
       "    .dataframe thead th {\n",
       "        text-align: right;\n",
       "    }\n",
       "</style>\n",
       "<table border=\"1\" class=\"dataframe\">\n",
       "  <thead>\n",
       "    <tr style=\"text-align: right;\">\n",
       "      <th></th>\n",
       "      <th>label</th>\n",
       "      <th>coverage</th>\n",
       "      <th>annotated_coverage</th>\n",
       "      <th>overlaps</th>\n",
       "      <th>conflicts</th>\n",
       "      <th>correct</th>\n",
       "      <th>incorrect</th>\n",
       "      <th>precision</th>\n",
       "    </tr>\n",
       "  </thead>\n",
       "  <tbody>\n",
       "    <tr>\n",
       "      <th>money</th>\n",
       "      <td>{Business}</td>\n",
       "      <td>0.008268</td>\n",
       "      <td>0.008816</td>\n",
       "      <td>0.002484</td>\n",
       "      <td>0.001983</td>\n",
       "      <td>30</td>\n",
       "      <td>37</td>\n",
       "      <td>0.447761</td>\n",
       "    </tr>\n",
       "    <tr>\n",
       "      <th>financ*</th>\n",
       "      <td>{Business}</td>\n",
       "      <td>0.019655</td>\n",
       "      <td>0.017763</td>\n",
       "      <td>0.005933</td>\n",
       "      <td>0.005227</td>\n",
       "      <td>80</td>\n",
       "      <td>55</td>\n",
       "      <td>0.592593</td>\n",
       "    </tr>\n",
       "    <tr>\n",
       "      <th>dollar*</th>\n",
       "      <td>{Business}</td>\n",
       "      <td>0.016591</td>\n",
       "      <td>0.016316</td>\n",
       "      <td>0.003582</td>\n",
       "      <td>0.002947</td>\n",
       "      <td>87</td>\n",
       "      <td>37</td>\n",
       "      <td>0.701613</td>\n",
       "    </tr>\n",
       "    <tr>\n",
       "      <th>war</th>\n",
       "      <td>{World}</td>\n",
       "      <td>0.015627</td>\n",
       "      <td>0.017105</td>\n",
       "      <td>0.004459</td>\n",
       "      <td>0.001732</td>\n",
       "      <td>101</td>\n",
       "      <td>29</td>\n",
       "      <td>0.776923</td>\n",
       "    </tr>\n",
       "    <tr>\n",
       "      <th>gov*</th>\n",
       "      <td>{World}</td>\n",
       "      <td>0.045086</td>\n",
       "      <td>0.045263</td>\n",
       "      <td>0.011191</td>\n",
       "      <td>0.006277</td>\n",
       "      <td>170</td>\n",
       "      <td>174</td>\n",
       "      <td>0.494186</td>\n",
       "    </tr>\n",
       "    <tr>\n",
       "      <th>minister*</th>\n",
       "      <td>{World}</td>\n",
       "      <td>0.030031</td>\n",
       "      <td>0.028289</td>\n",
       "      <td>0.007908</td>\n",
       "      <td>0.002821</td>\n",
       "      <td>193</td>\n",
       "      <td>22</td>\n",
       "      <td>0.897674</td>\n",
       "    </tr>\n",
       "    <tr>\n",
       "      <th>conflict</th>\n",
       "      <td>{World}</td>\n",
       "      <td>0.003025</td>\n",
       "      <td>0.002763</td>\n",
       "      <td>0.001097</td>\n",
       "      <td>0.000102</td>\n",
       "      <td>17</td>\n",
       "      <td>4</td>\n",
       "      <td>0.809524</td>\n",
       "    </tr>\n",
       "    <tr>\n",
       "      <th>footbal*</th>\n",
       "      <td>{Sports}</td>\n",
       "      <td>0.013158</td>\n",
       "      <td>0.015000</td>\n",
       "      <td>0.004953</td>\n",
       "      <td>0.000447</td>\n",
       "      <td>107</td>\n",
       "      <td>7</td>\n",
       "      <td>0.938596</td>\n",
       "    </tr>\n",
       "    <tr>\n",
       "      <th>sport*</th>\n",
       "      <td>{Sports}</td>\n",
       "      <td>0.021191</td>\n",
       "      <td>0.021316</td>\n",
       "      <td>0.007038</td>\n",
       "      <td>0.001223</td>\n",
       "      <td>139</td>\n",
       "      <td>23</td>\n",
       "      <td>0.858025</td>\n",
       "    </tr>\n",
       "    <tr>\n",
       "      <th>game</th>\n",
       "      <td>{Sports}</td>\n",
       "      <td>0.038738</td>\n",
       "      <td>0.037632</td>\n",
       "      <td>0.014060</td>\n",
       "      <td>0.002390</td>\n",
       "      <td>216</td>\n",
       "      <td>70</td>\n",
       "      <td>0.755245</td>\n",
       "    </tr>\n",
       "    <tr>\n",
       "      <th>play*</th>\n",
       "      <td>{Sports}</td>\n",
       "      <td>0.052453</td>\n",
       "      <td>0.050000</td>\n",
       "      <td>0.016991</td>\n",
       "      <td>0.005196</td>\n",
       "      <td>268</td>\n",
       "      <td>112</td>\n",
       "      <td>0.705263</td>\n",
       "    </tr>\n",
       "    <tr>\n",
       "      <th>sci*</th>\n",
       "      <td>{Sci/Tech}</td>\n",
       "      <td>0.016552</td>\n",
       "      <td>0.018421</td>\n",
       "      <td>0.002782</td>\n",
       "      <td>0.001340</td>\n",
       "      <td>114</td>\n",
       "      <td>26</td>\n",
       "      <td>0.814286</td>\n",
       "    </tr>\n",
       "    <tr>\n",
       "      <th>techno*</th>\n",
       "      <td>{Sci/Tech}</td>\n",
       "      <td>0.027210</td>\n",
       "      <td>0.028289</td>\n",
       "      <td>0.008534</td>\n",
       "      <td>0.003205</td>\n",
       "      <td>155</td>\n",
       "      <td>60</td>\n",
       "      <td>0.720930</td>\n",
       "    </tr>\n",
       "    <tr>\n",
       "      <th>computer*</th>\n",
       "      <td>{Sci/Tech}</td>\n",
       "      <td>0.027586</td>\n",
       "      <td>0.028158</td>\n",
       "      <td>0.011277</td>\n",
       "      <td>0.004514</td>\n",
       "      <td>159</td>\n",
       "      <td>55</td>\n",
       "      <td>0.742991</td>\n",
       "    </tr>\n",
       "    <tr>\n",
       "      <th>software</th>\n",
       "      <td>{Sci/Tech}</td>\n",
       "      <td>0.030188</td>\n",
       "      <td>0.029474</td>\n",
       "      <td>0.009828</td>\n",
       "      <td>0.003378</td>\n",
       "      <td>183</td>\n",
       "      <td>41</td>\n",
       "      <td>0.816964</td>\n",
       "    </tr>\n",
       "    <tr>\n",
       "      <th>web</th>\n",
       "      <td>{Sci/Tech}</td>\n",
       "      <td>0.017132</td>\n",
       "      <td>0.014737</td>\n",
       "      <td>0.004561</td>\n",
       "      <td>0.001779</td>\n",
       "      <td>87</td>\n",
       "      <td>25</td>\n",
       "      <td>0.776786</td>\n",
       "    </tr>\n",
       "    <tr>\n",
       "      <th>total</th>\n",
       "      <td>{World, Sci/Tech, Business, Sports}</td>\n",
       "      <td>0.320964</td>\n",
       "      <td>0.315000</td>\n",
       "      <td>0.055149</td>\n",
       "      <td>0.020039</td>\n",
       "      <td>2106</td>\n",
       "      <td>777</td>\n",
       "      <td>0.730489</td>\n",
       "    </tr>\n",
       "  </tbody>\n",
       "</table>\n",
       "</div>"
      ],
      "text/plain": [
       "                                         label  coverage  annotated_coverage  \\\n",
       "money                               {Business}  0.008268            0.008816   \n",
       "financ*                             {Business}  0.019655            0.017763   \n",
       "dollar*                             {Business}  0.016591            0.016316   \n",
       "war                                    {World}  0.015627            0.017105   \n",
       "gov*                                   {World}  0.045086            0.045263   \n",
       "minister*                              {World}  0.030031            0.028289   \n",
       "conflict                               {World}  0.003025            0.002763   \n",
       "footbal*                              {Sports}  0.013158            0.015000   \n",
       "sport*                                {Sports}  0.021191            0.021316   \n",
       "game                                  {Sports}  0.038738            0.037632   \n",
       "play*                                 {Sports}  0.052453            0.050000   \n",
       "sci*                                {Sci/Tech}  0.016552            0.018421   \n",
       "techno*                             {Sci/Tech}  0.027210            0.028289   \n",
       "computer*                           {Sci/Tech}  0.027586            0.028158   \n",
       "software                            {Sci/Tech}  0.030188            0.029474   \n",
       "web                                 {Sci/Tech}  0.017132            0.014737   \n",
       "total      {World, Sci/Tech, Business, Sports}  0.320964            0.315000   \n",
       "\n",
       "           overlaps  conflicts  correct  incorrect  precision  \n",
       "money      0.002484   0.001983       30         37   0.447761  \n",
       "financ*    0.005933   0.005227       80         55   0.592593  \n",
       "dollar*    0.003582   0.002947       87         37   0.701613  \n",
       "war        0.004459   0.001732      101         29   0.776923  \n",
       "gov*       0.011191   0.006277      170        174   0.494186  \n",
       "minister*  0.007908   0.002821      193         22   0.897674  \n",
       "conflict   0.001097   0.000102       17          4   0.809524  \n",
       "footbal*   0.004953   0.000447      107          7   0.938596  \n",
       "sport*     0.007038   0.001223      139         23   0.858025  \n",
       "game       0.014060   0.002390      216         70   0.755245  \n",
       "play*      0.016991   0.005196      268        112   0.705263  \n",
       "sci*       0.002782   0.001340      114         26   0.814286  \n",
       "techno*    0.008534   0.003205      155         60   0.720930  \n",
       "computer*  0.011277   0.004514      159         55   0.742991  \n",
       "software   0.009828   0.003378      183         41   0.816964  \n",
       "web        0.004561   0.001779       87         25   0.776786  \n",
       "total      0.055149   0.020039     2106        777   0.730489  "
      ]
     },
     "execution_count": 15,
     "metadata": {},
     "output_type": "execute_result"
    }
   ],
   "source": [
    "weak_labels = WeakLabels(dataset=\"news\")\n",
    "weak_labels.summary()"
   ]
  },
  {
   "cell_type": "code",
   "execution_count": 16,
   "id": "c27f7820-0144-4827-86b6-08f1fd190334",
   "metadata": {},
   "outputs": [
    {
     "name": "stderr",
     "output_type": "stream",
     "text": [
      "100%|██████████| 100/100 [00:00<00:00, 1228.48epoch/s]\n"
     ]
    }
   ],
   "source": [
    "# create the label model\n",
    "label_model = Snorkel(weak_labels)\n",
    "\n",
    "# fit the model\n",
    "label_model.fit()"
   ]
  },
  {
   "cell_type": "code",
   "execution_count": 17,
   "id": "6572368b-9b1c-4d68-ab36-ef86ca3f3f0f",
   "metadata": {},
   "outputs": [
    {
     "name": "stdout",
     "output_type": "stream",
     "text": [
      "              precision    recall  f1-score   support\n",
      "\n",
      "    Business       0.66      0.35      0.46       455\n",
      "       World       0.70      0.81      0.75       522\n",
      "    Sci/Tech       0.78      0.77      0.77       784\n",
      "      Sports       0.78      0.96      0.86       633\n",
      "\n",
      "    accuracy                           0.75      2394\n",
      "   macro avg       0.73      0.72      0.71      2394\n",
      "weighted avg       0.74      0.75      0.73      2394\n",
      "\n"
     ]
    }
   ],
   "source": [
    "print(label_model.score(output_str=True))"
   ]
  },
  {
   "cell_type": "markdown",
   "id": "f38c5862-903b-48c4-bf34-233a2430b2a7",
   "metadata": {
    "tags": []
   },
   "source": [
    "## 4. Prepare our training set\n",
    "\n",
    "Now, we already have a \"denoised\" training set, which we can prepare for training a downstream model. \n",
    "The label model predict returns `TextClassificationRecord` objects with the `predictions` from the label model. \n",
    "\n",
    "We can either refine and review these records using the Argilla web app, use them as is, or filter them by score, for example.\n",
    "\n",
    "In this case, we assume the predictions are precise enough and use them without any revision. \n",
    "Our training set has ~38,000 records, which corresponds to all records where the label model has not abstained."
   ]
  },
  {
   "cell_type": "code",
   "execution_count": 18,
   "id": "7c321871-3bfc-45b9-902b-4beb45f4ca13",
   "metadata": {},
   "outputs": [],
   "source": [
    "# get records with the predictions from the label model\n",
    "records = label_model.predict()\n",
    "# you can replace this line with\n",
    "# records = rg.read_datasets(\n",
    "#    load_dataset(\"argilla/news\", split=\"train\"),\n",
    "#    task=\"TextClassification\",\n",
    "# )\n",
    "\n",
    "# we could also use the `weak_labels.label2int` dict\n",
    "label2int = {\"Sports\": 0, \"Sci/Tech\": 1, \"World\": 2, \"Business\": 3}\n",
    "\n",
    "# extract training data\n",
    "X_train = [rec.text for rec in records]\n",
    "y_train = [label2int[rec.prediction[0][0]] for rec in records]"
   ]
  },
  {
   "cell_type": "code",
   "execution_count": 19,
   "id": "9c81c6c3-75fa-4534-9e27-e888d3f5257b",
   "metadata": {},
   "outputs": [
    {
     "data": {
      "text/html": [
       "<div>\n",
       "<style scoped>\n",
       "    .dataframe tbody tr th:only-of-type {\n",
       "        vertical-align: middle;\n",
       "    }\n",
       "\n",
       "    .dataframe tbody tr th {\n",
       "        vertical-align: top;\n",
       "    }\n",
       "\n",
       "    .dataframe thead th {\n",
       "        text-align: right;\n",
       "    }\n",
       "</style>\n",
       "<table border=\"1\" class=\"dataframe\">\n",
       "  <thead>\n",
       "    <tr style=\"text-align: right;\">\n",
       "      <th></th>\n",
       "      <th>text</th>\n",
       "      <th>label</th>\n",
       "    </tr>\n",
       "  </thead>\n",
       "  <tbody>\n",
       "    <tr>\n",
       "      <th>0</th>\n",
       "      <td>Tennis: Defending champion Myskina sees off world number one &amp;lt;b&amp;gt;...&amp;lt;/b&amp;gt; MOSCOW : Defending champion and French Open winner Anastasia Myskina advanced into the final of the 2.3 million dollar Kremlin Cup beating new world number one Lindsay Davenport of the United States here.</td>\n",
       "      <td>3</td>\n",
       "    </tr>\n",
       "    <tr>\n",
       "      <th>1</th>\n",
       "      <td>Britain Pays Final Respects to Beheaded Hostage British Prime Minister Tony Blair was among the hundreds of people that attended an emotional service for a man kidnapped and killed in Iraq.</td>\n",
       "      <td>2</td>\n",
       "    </tr>\n",
       "    <tr>\n",
       "      <th>2</th>\n",
       "      <td>Skulls trojan targets Symbian smartphones A new trojan on the internet attacks the Nokia 7610 smartphone and possibly other phones running Symbian Series 60 software.  quot;We have located several freeware and shareware sites offering a program, called</td>\n",
       "      <td>1</td>\n",
       "    </tr>\n",
       "    <tr>\n",
       "      <th>3</th>\n",
       "      <td>Sudan Security Foils New Sabotage Plot -- Agency Sudanese authorities said Friday they foiled another plot by an opposition Islamist party to kidnap and kill senior government officials and blow up sites in the capital</td>\n",
       "      <td>2</td>\n",
       "    </tr>\n",
       "    <tr>\n",
       "      <th>4</th>\n",
       "      <td>Sony and Partners Agree To Acquire MGM Sony Corp. and several financial partners have agreed in principle to acquire movie studio Metro-Goldwyn-Mayer for about \\$2.94 billion in cash, sources familiar with the talks said Monday.</td>\n",
       "      <td>3</td>\n",
       "    </tr>\n",
       "    <tr>\n",
       "      <th>...</th>\n",
       "      <td>...</td>\n",
       "      <td>...</td>\n",
       "    </tr>\n",
       "    <tr>\n",
       "      <th>38556</th>\n",
       "      <td>Titan hangs on to its secrets Cassini #39;s close fly-by of Titan, Saturn #39;s largest moon, has left scientists with no clear idea of what to expect when the Huygens probe lands on the alien world, despite the amazingly detailed images they now have of the surface.</td>\n",
       "      <td>1</td>\n",
       "    </tr>\n",
       "    <tr>\n",
       "      <th>38557</th>\n",
       "      <td>Ministers deny interest in raising inheritance tax Downing Street distanced itself last night from reports that inheritance tax will rise to 50 per cent for the wealthiest families.</td>\n",
       "      <td>2</td>\n",
       "    </tr>\n",
       "    <tr>\n",
       "      <th>38558</th>\n",
       "      <td>No Frills, but Everything Else Is on Craigslist (washingtonpost.com) washingtonpost.com - Ernie Miller, a 38-year-old software developer in Silver Spring, offers a telling clue as to how www.craigslist.org became the Internet's go-to place to solve life's vexing problems.</td>\n",
       "      <td>1</td>\n",
       "    </tr>\n",
       "    <tr>\n",
       "      <th>38559</th>\n",
       "      <td>Familiar refrain as Singh leads Just when Vijay Singh thinks he can't play better, he does. Just when it seems he can't do much more during his Tiger Woods-like season, he does that, too.</td>\n",
       "      <td>0</td>\n",
       "    </tr>\n",
       "    <tr>\n",
       "      <th>38560</th>\n",
       "      <td>Cisco to acquire P-Cube for \\$200m Cisco Systems has agreed to buy software developer P-Cube in a cash-and-options deal Cisco valued at \\$200m (110m). P-Cube makes software to help service providers analyse and control network traffic.</td>\n",
       "      <td>1</td>\n",
       "    </tr>\n",
       "  </tbody>\n",
       "</table>\n",
       "<p>38561 rows × 2 columns</p>\n",
       "</div>"
      ],
      "text/plain": [
       "                                                                                                                                                                                                                                                                                                   text  \\\n",
       "0      Tennis: Defending champion Myskina sees off world number one &lt;b&gt;...&lt;/b&gt; MOSCOW : Defending champion and French Open winner Anastasia Myskina advanced into the final of the 2.3 million dollar Kremlin Cup beating new world number one Lindsay Davenport of the United States here.   \n",
       "1                                                                                                         Britain Pays Final Respects to Beheaded Hostage British Prime Minister Tony Blair was among the hundreds of people that attended an emotional service for a man kidnapped and killed in Iraq.   \n",
       "2                                         Skulls trojan targets Symbian smartphones A new trojan on the internet attacks the Nokia 7610 smartphone and possibly other phones running Symbian Series 60 software.  quot;We have located several freeware and shareware sites offering a program, called    \n",
       "3                                                                           Sudan Security Foils New Sabotage Plot -- Agency Sudanese authorities said Friday they foiled another plot by an opposition Islamist party to kidnap and kill senior government officials and blow up sites in the capital    \n",
       "4                                                                  Sony and Partners Agree To Acquire MGM Sony Corp. and several financial partners have agreed in principle to acquire movie studio Metro-Goldwyn-Mayer for about \\$2.94 billion in cash, sources familiar with the talks said Monday.   \n",
       "...                                                                                                                                                                                                                                                                                                 ...   \n",
       "38556                       Titan hangs on to its secrets Cassini #39;s close fly-by of Titan, Saturn #39;s largest moon, has left scientists with no clear idea of what to expect when the Huygens probe lands on the alien world, despite the amazingly detailed images they now have of the surface.   \n",
       "38557                                                                                                             Ministers deny interest in raising inheritance tax Downing Street distanced itself last night from reports that inheritance tax will rise to 50 per cent for the wealthiest families.   \n",
       "38558                  No Frills, but Everything Else Is on Craigslist (washingtonpost.com) washingtonpost.com - Ernie Miller, a 38-year-old software developer in Silver Spring, offers a telling clue as to how www.craigslist.org became the Internet's go-to place to solve life's vexing problems.   \n",
       "38559                                                                                                       Familiar refrain as Singh leads Just when Vijay Singh thinks he can't play better, he does. Just when it seems he can't do much more during his Tiger Woods-like season, he does that, too.   \n",
       "38560                                                       Cisco to acquire P-Cube for \\$200m Cisco Systems has agreed to buy software developer P-Cube in a cash-and-options deal Cisco valued at \\$200m (110m). P-Cube makes software to help service providers analyse and control network traffic.   \n",
       "\n",
       "       label  \n",
       "0          3  \n",
       "1          2  \n",
       "2          1  \n",
       "3          2  \n",
       "4          3  \n",
       "...      ...  \n",
       "38556      1  \n",
       "38557      2  \n",
       "38558      1  \n",
       "38559      0  \n",
       "38560      1  \n",
       "\n",
       "[38561 rows x 2 columns]"
      ]
     },
     "metadata": {},
     "output_type": "display_data"
    }
   ],
   "source": [
    "# quick look at our training data with the weak labels from our label model\n",
    "with pd.option_context(\"display.max_colwidth\", None):\n",
    "    display(pd.DataFrame({\"text\": X_train, \"label\": y_train}))\n"
   ]
  },
  {
   "cell_type": "markdown",
   "id": "29e6b973-fab5-43d0-994c-591b99835f90",
   "metadata": {},
   "source": [
    "## 5. Train a downstream model with scikit-learn\n",
    "\n",
    "Now, let's train our final model using `scikit-learn`:"
   ]
  },
  {
   "cell_type": "code",
   "execution_count": 20,
   "id": "1a2e1aa9-68c9-4a65-bf52-ff5254cdd9db",
   "metadata": {},
   "outputs": [
    {
     "data": {
      "text/html": [
       "<style>#sk-container-id-1 {color: black;background-color: white;}#sk-container-id-1 pre{padding: 0;}#sk-container-id-1 div.sk-toggleable {background-color: white;}#sk-container-id-1 label.sk-toggleable__label {cursor: pointer;display: block;width: 100%;margin-bottom: 0;padding: 0.3em;box-sizing: border-box;text-align: center;}#sk-container-id-1 label.sk-toggleable__label-arrow:before {content: \"▸\";float: left;margin-right: 0.25em;color: #696969;}#sk-container-id-1 label.sk-toggleable__label-arrow:hover:before {color: black;}#sk-container-id-1 div.sk-estimator:hover label.sk-toggleable__label-arrow:before {color: black;}#sk-container-id-1 div.sk-toggleable__content {max-height: 0;max-width: 0;overflow: hidden;text-align: left;background-color: #f0f8ff;}#sk-container-id-1 div.sk-toggleable__content pre {margin: 0.2em;color: black;border-radius: 0.25em;background-color: #f0f8ff;}#sk-container-id-1 input.sk-toggleable__control:checked~div.sk-toggleable__content {max-height: 200px;max-width: 100%;overflow: auto;}#sk-container-id-1 input.sk-toggleable__control:checked~label.sk-toggleable__label-arrow:before {content: \"▾\";}#sk-container-id-1 div.sk-estimator input.sk-toggleable__control:checked~label.sk-toggleable__label {background-color: #d4ebff;}#sk-container-id-1 div.sk-label input.sk-toggleable__control:checked~label.sk-toggleable__label {background-color: #d4ebff;}#sk-container-id-1 input.sk-hidden--visually {border: 0;clip: rect(1px 1px 1px 1px);clip: rect(1px, 1px, 1px, 1px);height: 1px;margin: -1px;overflow: hidden;padding: 0;position: absolute;width: 1px;}#sk-container-id-1 div.sk-estimator {font-family: monospace;background-color: #f0f8ff;border: 1px dotted black;border-radius: 0.25em;box-sizing: border-box;margin-bottom: 0.5em;}#sk-container-id-1 div.sk-estimator:hover {background-color: #d4ebff;}#sk-container-id-1 div.sk-parallel-item::after {content: \"\";width: 100%;border-bottom: 1px solid gray;flex-grow: 1;}#sk-container-id-1 div.sk-label:hover label.sk-toggleable__label {background-color: #d4ebff;}#sk-container-id-1 div.sk-serial::before {content: \"\";position: absolute;border-left: 1px solid gray;box-sizing: border-box;top: 0;bottom: 0;left: 50%;z-index: 0;}#sk-container-id-1 div.sk-serial {display: flex;flex-direction: column;align-items: center;background-color: white;padding-right: 0.2em;padding-left: 0.2em;position: relative;}#sk-container-id-1 div.sk-item {position: relative;z-index: 1;}#sk-container-id-1 div.sk-parallel {display: flex;align-items: stretch;justify-content: center;background-color: white;position: relative;}#sk-container-id-1 div.sk-item::before, #sk-container-id-1 div.sk-parallel-item::before {content: \"\";position: absolute;border-left: 1px solid gray;box-sizing: border-box;top: 0;bottom: 0;left: 50%;z-index: -1;}#sk-container-id-1 div.sk-parallel-item {display: flex;flex-direction: column;z-index: 1;position: relative;background-color: white;}#sk-container-id-1 div.sk-parallel-item:first-child::after {align-self: flex-end;width: 50%;}#sk-container-id-1 div.sk-parallel-item:last-child::after {align-self: flex-start;width: 50%;}#sk-container-id-1 div.sk-parallel-item:only-child::after {width: 0;}#sk-container-id-1 div.sk-dashed-wrapped {border: 1px dashed gray;margin: 0 0.4em 0.5em 0.4em;box-sizing: border-box;padding-bottom: 0.4em;background-color: white;}#sk-container-id-1 div.sk-label label {font-family: monospace;font-weight: bold;display: inline-block;line-height: 1.2em;}#sk-container-id-1 div.sk-label-container {text-align: center;}#sk-container-id-1 div.sk-container {/* jupyter's `normalize.less` sets `[hidden] { display: none; }` but bootstrap.min.css set `[hidden] { display: none !important; }` so we also need the `!important` here to be able to override the default hidden behavior on the sphinx rendered scikit-learn.org. See: https://github.com/scikit-learn/scikit-learn/issues/21755 */display: inline-block !important;position: relative;}#sk-container-id-1 div.sk-text-repr-fallback {display: none;}</style><div id=\"sk-container-id-1\" class=\"sk-top-container\"><div class=\"sk-text-repr-fallback\"><pre>Pipeline(steps=[(&#x27;vect&#x27;, CountVectorizer()), (&#x27;clf&#x27;, MultinomialNB())])</pre><b>In a Jupyter environment, please rerun this cell to show the HTML representation or trust the notebook. <br />On GitHub, the HTML representation is unable to render, please try loading this page with nbviewer.org.</b></div><div class=\"sk-container\" hidden><div class=\"sk-item sk-dashed-wrapped\"><div class=\"sk-label-container\"><div class=\"sk-label sk-toggleable\"><input class=\"sk-toggleable__control sk-hidden--visually\" id=\"sk-estimator-id-1\" type=\"checkbox\" ><label for=\"sk-estimator-id-1\" class=\"sk-toggleable__label sk-toggleable__label-arrow\">Pipeline</label><div class=\"sk-toggleable__content\"><pre>Pipeline(steps=[(&#x27;vect&#x27;, CountVectorizer()), (&#x27;clf&#x27;, MultinomialNB())])</pre></div></div></div><div class=\"sk-serial\"><div class=\"sk-item\"><div class=\"sk-estimator sk-toggleable\"><input class=\"sk-toggleable__control sk-hidden--visually\" id=\"sk-estimator-id-2\" type=\"checkbox\" ><label for=\"sk-estimator-id-2\" class=\"sk-toggleable__label sk-toggleable__label-arrow\">CountVectorizer</label><div class=\"sk-toggleable__content\"><pre>CountVectorizer()</pre></div></div></div><div class=\"sk-item\"><div class=\"sk-estimator sk-toggleable\"><input class=\"sk-toggleable__control sk-hidden--visually\" id=\"sk-estimator-id-3\" type=\"checkbox\" ><label for=\"sk-estimator-id-3\" class=\"sk-toggleable__label sk-toggleable__label-arrow\">MultinomialNB</label><div class=\"sk-toggleable__content\"><pre>MultinomialNB()</pre></div></div></div></div></div></div></div>"
      ],
      "text/plain": [
       "Pipeline(steps=[('vect', CountVectorizer()), ('clf', MultinomialNB())])"
      ]
     },
     "execution_count": 20,
     "metadata": {},
     "output_type": "execute_result"
    }
   ],
   "source": [
    "# define our final classifier\n",
    "classifier = Pipeline([(\"vect\", CountVectorizer()), (\"clf\", MultinomialNB())])\n",
    "\n",
    "# fit the classifier\n",
    "classifier.fit(\n",
    "    X=X_train,\n",
    "    y=y_train,\n",
    ")"
   ]
  },
  {
   "cell_type": "markdown",
   "id": "1d608b29-9043-4183-af25-07290b404bf3",
   "metadata": {},
   "source": [
    "To test our trained model, we use the records with validated annotations, that is the original ag_news test set."
   ]
  },
  {
   "cell_type": "code",
   "execution_count": 21,
   "id": "db0c41f9-bde8-4bc8-8406-a048e2e73aef",
   "metadata": {},
   "outputs": [],
   "source": [
    "# retrieve records with annotations\n",
    "test_ds = weak_labels.records(has_annotation=True)\n",
    "# you can replace this line with\n",
    "# test_ds = rg.read_datasets(\n",
    "#    load_dataset(\"argilla/news_test\", split=\"train\"),\n",
    "#    task=\"TextClassification\",\n",
    "# )\n",
    "\n",
    "# extract text and labels\n",
    "X_test = [rec.text for rec in test_ds]\n",
    "y_test = [label2int[rec.annotation] for rec in test_ds]\n"
   ]
  },
  {
   "cell_type": "code",
   "execution_count": 22,
   "id": "aac5b5ae-7c0d-48d6-800c-d95934b3d03f",
   "metadata": {},
   "outputs": [
    {
     "name": "stdout",
     "output_type": "stream",
     "text": [
      "Test accuracy: 0.8176315789473684\n"
     ]
    }
   ],
   "source": [
    "# compute the test accuracy\n",
    "accuracy = classifier.score(\n",
    "    X=X_test,\n",
    "    y=y_test,\n",
    ")\n",
    "\n",
    "print(f\"Test accuracy: {accuracy}\")\n"
   ]
  },
  {
   "cell_type": "markdown",
   "id": "5b24b07b-dd15-4362-a88c-d3611748736e",
   "metadata": {},
   "source": [
    "Not too bad! 🥳\n",
    "\n",
    "We have achieved around **0.82 accuracy** without even using a single example from the original `ag_news` train set and with a small set of 16 rules. \n",
    "Also, we've improved over the 0.75 accuracy of our Label Model.\n",
    "\n",
    "Finally, let's take a look at more detailed metrics:"
   ]
  },
  {
   "cell_type": "code",
   "execution_count": 23,
   "id": "609f169a-30ed-480e-8ab8-ae5af2c0a84f",
   "metadata": {},
   "outputs": [
    {
     "name": "stdout",
     "output_type": "stream",
     "text": [
      "              precision    recall  f1-score   support\n",
      "\n",
      "      Sports       0.86      0.98      0.91      1900\n",
      "    Sci/Tech       0.76      0.84      0.80      1900\n",
      "       World       0.79      0.89      0.84      1900\n",
      "    Business       0.89      0.56      0.69      1900\n",
      "\n",
      "    accuracy                           0.82      7600\n",
      "   macro avg       0.83      0.82      0.81      7600\n",
      "weighted avg       0.83      0.82      0.81      7600\n",
      "\n"
     ]
    }
   ],
   "source": [
    "# get predictions for the test set\n",
    "predicted = classifier.predict(X_test)\n",
    "\n",
    "print(metrics.classification_report(y_test, predicted, target_names=label2int.keys()))"
   ]
  },
  {
   "cell_type": "markdown",
   "id": "6e6b7ab7-6d11-46c2-8320-2f80fcb8a446",
   "metadata": {},
   "source": [
    "At this point, we could go back to the UI to define more rules for those labels with less performance. Looking at the above table, we might want to add some more rules for increasing the recall of the `Business` label."
   ]
  },
  {
   "cell_type": "markdown",
   "id": "2bb807b8",
   "metadata": {},
   "source": [
    "## Summary\n",
    "\n",
    "In this tutorial, we saw how you can leverage weak supervision to quickly build up a large training data set, and use it for the training of a first lightweight model.\n",
    "\n",
    "*Argilla* is a very handy tool to start the weak supervision process by making it easy to find a good set of starting rules, and to reiterate on them dynamically.\n",
    "Since *Argilla* also provides built-in support for the most common label models, you can get from rules to weak labels in a few straight forward steps.\n",
    "For more suggestions on how to leverage weak labels, you can checkout our [weak supervision guide](../../guides/techniques/weak_supervision.html) where we describe an [interesting approach](../../guides/techniques/weak_supervision.html#Joint-Model-with-Weasel) to jointly train the label and a transformers downstream model."
   ]
  },
  {
   "attachments": {},
   "cell_type": "markdown",
   "id": "afacb08d",
   "metadata": {},
   "source": [
    "## Appendix I: Log datasets to the Hugging Face Hub\n",
    "\n",
    "Here we will show you how we pushed our Argilla datasets (records) to the [Hugging Face Hub](https://huggingface.co/datasets).\n",
    "In this way you can effectively version any of your Argilla datasets."
   ]
  },
  {
   "cell_type": "code",
   "execution_count": null,
   "id": "a71b00e8-d471-4921-a8eb-cb6e0c13cb19",
   "metadata": {},
   "outputs": [],
   "source": [
    "train_rg = rg.DatasetForTextClassification(label_model.predict())\n",
    "train_rg.to_datasets().push_to_hub(\"argilla/news\")"
   ]
  },
  {
   "cell_type": "code",
   "execution_count": null,
   "id": "fde6a766-6e3b-4fc3-8a45-6ee88c796d6e",
   "metadata": {},
   "outputs": [],
   "source": [
    "test_rg = rg.load(\"news\", query=\"status:Validated\")\n",
    "test_rg.to_datasets().push_to_hub(\"argilla/news_test\")"
   ]
  }
 ],
 "metadata": {
  "kernelspec": {
   "display_name": ".venv",
   "language": "python",
   "name": "python3"
  },
  "language_info": {
   "codemirror_mode": {
    "name": "ipython",
    "version": 3
   },
   "file_extension": ".py",
   "mimetype": "text/x-python",
   "name": "python",
   "nbconvert_exporter": "python",
   "pygments_lexer": "ipython3",
   "version": "3.9.1 (default, Dec 17 2020, 03:56:09) \n[Clang 11.0.0 (clang-1100.0.33.17)]"
  },
  "vscode": {
   "interpreter": {
    "hash": "8874e298d2bce9702a08b32d5709c9f02d53b2045f1d246836c6e4c8123e6782"
   }
  }
 },
 "nbformat": 4,
 "nbformat_minor": 5
}
