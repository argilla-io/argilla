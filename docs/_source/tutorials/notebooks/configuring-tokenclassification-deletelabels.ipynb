{
 "cells": [
  {
   "attachments": {},
   "cell_type": "markdown",
   "metadata": {},
   "source": [
    "# 🩹 Delete labels from a Token or Text Classification dataset\n",
    "\n",
    "It's not uncommon to find yourself wanting to delete one of the labels in your dataset, maybe because you won't use it or because you want to correct the name of the label. However, this has implications down the line if the dataset already has annotations. \n",
    "\n",
    "In this tutorial, you will learn how to deal with this situation depending on the ... Token & Text Classification\n",
    "\n",
    "Let's get started!\n",
    "\n",
    "<img src=\"../../../_static/images/llms/curating-feedback-instructiondataset/snapshot_dolly_curation.png\" alt=\"A Feedback Task setting for the curation of Databricks' Dolly dataset\" style=\"width: 1100px;\">\n",
    "\n",
    "<div class=\"alert alert-info\">\n",
    "\n",
    "Note \n",
    "\n",
    "This tutorial is a Jupyter Notebook. There are two options to run it:\n",
    "\n",
    "- Use the Open in Colab button at the top of this page. This option allows you to run the notebook directly on Google Colab. Don't forget to change the runtime type to GPU for faster model training and inference.\n",
    "- Download the .ipynb file by clicking on the View source link at the top of the page. This option allows you to download the notebook and run it on your local machine or on a Jupyter notebook tool of your choice.\n",
    "\n",
    "</div>\n"
   ]
  },
  {
   "attachments": {},
   "cell_type": "markdown",
   "metadata": {},
   "source": [
    "## Setup\n",
    "\n",
    "For this tutorial, you will need to have an Argilla server running. If you don't have one already, check out our [Quickstart](../../../getting_started/quickstart.md) or [Installation](../../../getting_started/installation/installation.md) pages. Once you do, complete the following steps:\n",
    "\n",
    "1. Install the Argilla client and the required third party libraries using `pip`:"
   ]
  },
  {
   "cell_type": "code",
   "execution_count": null,
   "metadata": {},
   "outputs": [],
   "source": [
    "%pip install --upgrade argilla -qqq"
   ]
  },
  {
   "attachments": {},
   "cell_type": "markdown",
   "metadata": {},
   "source": [
    "2. Let's make the necessary imports:"
   ]
  },
  {
   "cell_type": "code",
   "execution_count": 1,
   "metadata": {},
   "outputs": [],
   "source": [
    "import argilla as rg"
   ]
  },
  {
   "attachments": {},
   "cell_type": "markdown",
   "metadata": {},
   "source": [
    "3. If you are running Argilla using the Docker quickstart image or Hugging Face Spaces, you need to init the Argilla client with the `URL` and `API_KEY`:"
   ]
  },
  {
   "cell_type": "code",
   "execution_count": null,
   "metadata": {},
   "outputs": [],
   "source": [
    "# Replace api_url with the url to your HF Spaces URL if using Spaces\n",
    "# Replace api_key if you configured a custom API key\n",
    "rg.init(\n",
    "    api_url=\"http://localhost:6900\", \n",
    "    api_key=\"admin.apikey\"\n",
    ")"
   ]
  },
  {
   "cell_type": "code",
   "execution_count": 2,
   "metadata": {},
   "outputs": [
    {
     "name": "stderr",
     "output_type": "stream",
     "text": [
      "/Users/natalia/git/argilla/src/argilla/client/client.py:153: UserWarning: No workspace configuration was detected. To work with Argilla  datasets, specify a valid workspace name on `rg.init` or set it up through the `rg.set_workspace` function.\n",
      "  warnings.warn(\n",
      "/Users/natalia/git/argilla/src/argilla/client/client.py:170: UserWarning: You're connecting to Argilla Server 1.10.0 using a different client version (1.13.0-dev).\n",
      "This may lead to potential compatibility issues during your experience.\n",
      "To ensure a seamless and optimized connection, we highly recommend aligning your client version with the server version.\n",
      "  warnings.warn(\n"
     ]
    }
   ],
   "source": [
    "rg.init(\n",
    "    api_url=\"https://nataliaelv-argilla-tutorials.hf.space\", \n",
    "    api_key=\"admin.apikey\"\n",
    ")"
   ]
  },
  {
   "attachments": {},
   "cell_type": "markdown",
   "metadata": {},
   "source": [
    "## First steps"
   ]
  },
  {
   "cell_type": "code",
   "execution_count": 46,
   "metadata": {},
   "outputs": [],
   "source": [
    "# set the workspace that we will be working in\n",
    "rg.set_workspace(\"argilla\")\n",
    "ds = \"multi_label_ds\""
   ]
  },
  {
   "cell_type": "code",
   "execution_count": null,
   "metadata": {},
   "outputs": [],
   "source": [
    "# optional: create a new workspace for the backups.\n",
    "workspace = rg.Workspace.create(\"backups\")"
   ]
  },
  {
   "cell_type": "code",
   "execution_count": null,
   "metadata": {},
   "outputs": [],
   "source": [
    "# optional: if you want users other than the owner to have access to this space\n",
    "# change the username with the username from the user and run this cell.\n",
    "user = rg.User.from_name(\"username\")\n",
    "workspace.add_user(user.id)"
   ]
  },
  {
   "cell_type": "code",
   "execution_count": 35,
   "metadata": {},
   "outputs": [
    {
     "data": {
      "text/html": [
       "<pre style=\"white-space:pre;overflow-x:auto;line-height:normal;font-family:Menlo,'DejaVu Sans Mono',consolas,'Courier New',monospace\"></pre>\n"
      ],
      "text/plain": [
       "\u001b[?25l"
      ]
     },
     "metadata": {},
     "output_type": "display_data"
    },
    {
     "data": {
      "application/vnd.jupyter.widget-view+json": {
       "model_id": "e95833c065ff42928168db3cc3b7de38",
       "version_major": 2,
       "version_minor": 0
      },
      "text/plain": [
       "Output()"
      ]
     },
     "metadata": {},
     "output_type": "display_data"
    },
    {
     "data": {
      "text/html": [
       "<pre style=\"white-space:pre;overflow-x:auto;line-height:normal;font-family:Menlo,'DejaVu Sans Mono',consolas,'Courier New',monospace\">\n",
       "</pre>\n"
      ],
      "text/plain": [
       "\n",
       "\u001b[?25h"
      ]
     },
     "metadata": {},
     "output_type": "display_data"
    },
    {
     "data": {
      "text/html": [
       "<pre style=\"white-space:pre;overflow-x:auto;line-height:normal;font-family:Menlo,'DejaVu Sans Mono',consolas,'Courier New',monospace\"><span style=\"color: #008080; text-decoration-color: #008080; font-weight: bold\">100</span> records logged to <a href=\"https://nataliaelv-argilla-tutorials.hf.space/datasets/argilla/gutenberg_spacy-ner_backup\" target=\"_blank\"><span style=\"color: #0000ff; text-decoration-color: #0000ff; text-decoration: underline\">https://nataliaelv-argilla-tutorials.hf.space/datasets/argilla/gutenberg_spacy-ner_backup</span></a>\n",
       "</pre>\n"
      ],
      "text/plain": [
       "\u001b[1;36m100\u001b[0m records logged to \u001b]8;id=22441;https://nataliaelv-argilla-tutorials.hf.space/datasets/argilla/gutenberg_spacy-ner_backup\u001b\\\u001b[4;94mhttps://nataliaelv-argilla-tutorials.hf.space/datasets/argilla/gutenberg_spacy-ner_backup\u001b[0m\u001b]8;;\u001b\\\n"
      ]
     },
     "metadata": {},
     "output_type": "display_data"
    },
    {
     "data": {
      "text/plain": [
       "BulkResponse(dataset='gutenberg_spacy-ner_backup', processed=100, failed=0)"
      ]
     },
     "execution_count": 35,
     "metadata": {},
     "output_type": "execute_result"
    }
   ],
   "source": [
    "rg.copy(\"gutenberg_spacy-ner\", name_of_copy=\"gutenberg_spacy-ner_backup\", workspace=\"backups\")"
   ]
  },
  {
   "cell_type": "code",
   "execution_count": 47,
   "metadata": {},
   "outputs": [],
   "source": [
    "settings = rg.load_dataset_settings(ds)"
   ]
  },
  {
   "cell_type": "code",
   "execution_count": 48,
   "metadata": {},
   "outputs": [
    {
     "data": {
      "text/plain": [
       "{'Alcantarillado/Pluviales',\n",
       " 'Alta',\n",
       " 'Aplazamiento de pago',\n",
       " 'Atención recibida',\n",
       " 'Baja',\n",
       " 'Baja presión',\n",
       " 'Calidad del servicio',\n",
       " 'Cambio de titular',\n",
       " 'Consulta administrativa oficinas',\n",
       " 'Contratación',\n",
       " 'Cortes falta de pago',\n",
       " 'Error de lectura',\n",
       " 'Facturación errónea',\n",
       " 'Filtración en garaje/bajo',\n",
       " 'Fuga en instalación interior',\n",
       " 'Fuga en la vía pública',\n",
       " 'Funcionamiento del contador',\n",
       " 'Información/Consultas',\n",
       " 'No tiene agua',\n",
       " 'Otros',\n",
       " 'Presupuestos',\n",
       " 'Problema calidad agua',\n",
       " 'Protección de datos',\n",
       " 'Recibos',\n",
       " 'Refacturación por fuga',\n",
       " 'Reparto de correspondencia',\n",
       " 'Reposición obra civil',\n",
       " 'Rotura provocada',\n",
       " 'Solicitan cierre agua maniobras instalación abonado',\n",
       " 'Solicitan presencia personal FACSA instalación',\n",
       " 'Vulnerabilidad',\n",
       " 'descartado',\n",
       " 'popopo'}"
      ]
     },
     "execution_count": 48,
     "metadata": {},
     "output_type": "execute_result"
    }
   ],
   "source": [
    "settings.label_schema"
   ]
  },
  {
   "cell_type": "code",
   "execution_count": null,
   "metadata": {},
   "outputs": [],
   "source": [
    "# set the old and new labels as variables, to avoid errors down the line\n",
    "old_label = \"\"\n",
    "# comment out or set to None if you want to remove the label\n",
    "new_label = \"\""
   ]
  },
  {
   "attachments": {},
   "cell_type": "markdown",
   "metadata": {},
   "source": [
    "## Remove label from the records"
   ]
  },
  {
   "cell_type": "code",
   "execution_count": null,
   "metadata": {},
   "outputs": [],
   "source": [
    "# get all records with the old label in the annotations or predictions\n",
    "records = rg.load(ds, query=f\"annotated_as:{old_label} OR predicted_as:{old_label}\")\n",
    "len(records)"
   ]
  },
  {
   "cell_type": "code",
   "execution_count": null,
   "metadata": {},
   "outputs": [],
   "source": [
    "def cleaning_function(labels, old_label, new_label):\n",
    "\n",
    "    # replaces / removes string labels (e.g. TextClassification)\n",
    "    if isinstance(labels, str):\n",
    "        if labels==old_label:\n",
    "            labels = new_label\n",
    "\n",
    "    elif isinstance(labels, list):\n",
    "        # replaces / removes labels in a list (e.g. multi-label TextClassification)\n",
    "        if isinstance(labels[0], str):\n",
    "            if old_label in labels:\n",
    "                if new_label == None:\n",
    "                    labels.remove(old_label)\n",
    "                else:\n",
    "                    labels = [new_label if label == old_label else label for label in labels]\n",
    "\n",
    "        # replaces / removes lables in a list of tuples (e.g. Predictions, TokenClassification)\n",
    "        elif isinstance(labels[0], tuple):\n",
    "            for ix,label in enumerate(labels):\n",
    "                if label[0]==old_label:\n",
    "                    if new_label == None:\n",
    "                        labels.remove(label)\n",
    "                    else:\n",
    "                        new_label = list(label)\n",
    "                        new_label[0] = new_label\n",
    "                        labels[ix] = tuple(new_label)\n",
    "\n",
    "    return labels"
   ]
  },
  {
   "cell_type": "code",
   "execution_count": 75,
   "metadata": {},
   "outputs": [],
   "source": [
    "\n",
    "# loop over the records and make the correction\n",
    "for record in records:\n",
    "    for labels in [record.prediction, record.annotation]:\n",
    "        if labels:\n",
    "            labels = cleaning_function(labels, old_label, new_label)\n",
    "\n",
    "    record.status = \"Default\"\n",
    "    "
   ]
  },
  {
   "cell_type": "code",
   "execution_count": null,
   "metadata": {},
   "outputs": [],
   "source": [
    "# log the corrected records\n",
    "rg.log(records, name=ds)"
   ]
  },
  {
   "attachments": {},
   "cell_type": "markdown",
   "metadata": {},
   "source": [
    "## Update dataset settings"
   ]
  },
  {
   "cell_type": "code",
   "execution_count": 44,
   "metadata": {},
   "outputs": [],
   "source": [
    "settings.label_schema.remove(old_label)"
   ]
  },
  {
   "cell_type": "code",
   "execution_count": 45,
   "metadata": {},
   "outputs": [
    {
     "data": {
      "text/html": [
       "<pre style=\"white-space:pre;overflow-x:auto;line-height:normal;font-family:Menlo,'DejaVu Sans Mono',consolas,'Courier New',monospace\"><span style=\"color: #7fbfbf; text-decoration-color: #7fbfbf\">[07/06/23 17:11:42] </span><span style=\"color: #800000; text-decoration-color: #800000\">WARNING </span> WARNING:argilla.datasets:This method is deprecated. Use                 <a href=\"file:///Users/natalia/git/argilla/src/argilla/datasets/__init__.py\" target=\"_blank\"><span style=\"color: #7f7f7f; text-decoration-color: #7f7f7f\">__init__.py</span></a><span style=\"color: #7f7f7f; text-decoration-color: #7f7f7f\">:</span><a href=\"file:///Users/natalia/git/argilla/src/argilla/datasets/__init__.py#80\" target=\"_blank\"><span style=\"color: #7f7f7f; text-decoration-color: #7f7f7f\">80</span></a>\n",
       "<span style=\"color: #7fbfbf; text-decoration-color: #7fbfbf\">                    </span>         configure_dataset_settings instead.                                     <span style=\"color: #7f7f7f; text-decoration-color: #7f7f7f\">              </span>\n",
       "</pre>\n"
      ],
      "text/plain": [
       "\u001b[2;36m[07/06/23 17:11:42]\u001b[0m\u001b[2;36m \u001b[0m\u001b[31mWARNING \u001b[0m WARNING:argilla.datasets:This method is deprecated. Use                 \u001b]8;id=991631;file:///Users/natalia/git/argilla/src/argilla/datasets/__init__.py\u001b\\\u001b[2m__init__.py\u001b[0m\u001b]8;;\u001b\\\u001b[2m:\u001b[0m\u001b]8;id=581259;file:///Users/natalia/git/argilla/src/argilla/datasets/__init__.py#80\u001b\\\u001b[2m80\u001b[0m\u001b]8;;\u001b\\\n",
       "\u001b[2;36m                    \u001b[0m         configure_dataset_settings instead.                                     \u001b[2m              \u001b[0m\n"
      ]
     },
     "metadata": {},
     "output_type": "display_data"
    }
   ],
   "source": [
    "rg.configure_dataset(name=ds, settings=settings)"
   ]
  },
  {
   "attachments": {},
   "cell_type": "markdown",
   "metadata": {},
   "source": [
    "Now the label should be gone from our annotations, predictions and the dataset settings."
   ]
  },
  {
   "attachments": {},
   "cell_type": "markdown",
   "metadata": {},
   "source": [
    "## Summary\n",
    "\n",
    "In this tutorial, we learned how to ..."
   ]
  },
  {
   "cell_type": "markdown",
   "metadata": {},
   "source": []
  }
 ],
 "metadata": {
  "kernelspec": {
   "display_name": "argilla",
   "language": "python",
   "name": "python3"
  },
  "language_info": {
   "codemirror_mode": {
    "name": "ipython",
    "version": 3
   },
   "file_extension": ".py",
   "mimetype": "text/x-python",
   "name": "python",
   "nbconvert_exporter": "python",
   "pygments_lexer": "ipython3",
   "version": "3.8.15"
  },
  "vscode": {
   "interpreter": {
    "hash": "2d98cb9bf90a932b5bf8e86e91214497eb0e38eb318595fbd6fbd5460fe92036"
   }
  }
 },
 "nbformat": 4,
 "nbformat_minor": 4
}
