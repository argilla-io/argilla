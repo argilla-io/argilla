{
 "cells": [
  {
   "cell_type": "markdown",
   "id": "7641399c-d8bc-411b-952b-32a9f2100776",
   "metadata": {},
   "source": [
    "# 🗂 Weak supervision in multi-label text classification tasks"
   ]
  },
  {
   "cell_type": "markdown",
   "id": "8ea2fec7-ded9-4752-be5d-d365ebe6c039",
   "metadata": {},
   "source": [
    "In this tutorial we use Argilla and weak supervision to tackle two multi-label classification datasets:\n",
    "\n",
    "- The first dataset is a curated version of [**GoEmotions**](https://huggingface.co/datasets/go_emotions), a dataset intended for **multi-label emotion classification**.\n",
    "- We inspect the dataset in Argilla, come up with good heuristics, and combine them with a label model to train a **weakly supervised Hugging Face transformer**.\n",
    "- In the second dataset, we [**categorize research papers**](https://www.kaggle.com/shivanandmn/multilabel-classification-dataset) by topic based on their titles, which is a **multi-label topic classification** problem.\n",
    "- We repeat the process of finding good heuristics, combine them with a label model and train a **lightweight downstream model using sklearn** in the end.\n",
    "\n",
    "![labelling-textclassification-sklearn-weaksupervision](../../_static/tutorials/labelling-textclassification-sklearn-weaksupervision/labelling-textclassification-sklearn-weaksupervision.png)"
   ]
  },
  {
   "cell_type": "markdown",
   "id": "6e7ad103-6b57-48ea-a125-7395f561941b",
   "metadata": {},
   "source": [
    "<div class=\"alert alert-info\">\n",
    "\n",
    "Note\n",
    "\n",
    "The `Snorkel` and `FlyingSquid` label models are not suited for multi-label classification tasks and do not support them.\n",
    "    \n",
    "</div>"
   ]
  },
  {
   "cell_type": "markdown",
   "id": "0a742259-2a99-4f2b-ac62-074bf2d6892a",
   "metadata": {},
   "source": [
    "## Setup\n",
    "\n",
    "For this tutorial we also need some third party libraries that can be installed via pip:"
   ]
  },
  {
   "cell_type": "code",
   "execution_count": 1,
   "id": "55c31a41-b80d-44e9-97a3-0d9a71cd658e",
   "metadata": {},
   "outputs": [
    {
     "name": "stdout",
     "output_type": "stream",
     "text": [
      "Note: you may need to restart the kernel to use updated packages.\n"
     ]
    }
   ],
   "source": [
    "%pip install datasets \"transformers[torch]\" scikit-multilearn ipywidgets -qqq"
   ]
  },
  {
   "cell_type": "markdown",
   "id": "f37c0bbe-904a-49de-9443-234252f0acb0",
   "metadata": {},
   "source": [
    "## GoEmotions\n",
    "\n",
    "The original [GoEmotions](https://huggingface.co/datasets/go_emotions) is a challenging dataset intended for multi-label emotion classification.\n",
    "For this tutorial, we simplify it a bit by selecting only 6 out of the 28 emotions: *admiration, annoyance, approval, curiosity, gratitude, optimism*.\n",
    "We also try to accentuate the multi-label part of the dataset by down-sampling the examples that are classified with only one label.\n",
    "See Appendix A for all the details of this preprocessing step."
   ]
  },
  {
   "cell_type": "markdown",
   "id": "d2336f09-21a0-47a1-a5f7-4d930ddc1355",
   "metadata": {},
   "source": [
    "### Define rules\n",
    "\n",
    "Let us start by downloading our curated version of the dataset from the Hugging Face Hub, and log it to Argilla:"
   ]
  },
  {
   "cell_type": "code",
   "execution_count": 2,
   "id": "83559db4-9bc1-4080-bccb-cc154ed753ca",
   "metadata": {},
   "outputs": [
    {
     "name": "stderr",
     "output_type": "stream",
     "text": [
      "2022-11-18 13:35:35.071 | WARNING  | datasets.builder:_create_builder_config:412 - Using custom data configuration argilla--go_emotions_multi-label-519819f83f95366c\n",
      "2022-11-18 13:35:35.074 | WARNING  | datasets.builder:download_and_prepare:577 - Reusing dataset parquet (C:\\Users\\ufukh\\.cache\\huggingface\\datasets\\argilla___parquet\\argilla--go_emotions_multi-label-519819f83f95366c\\0.0.0\\0b6d5799bb726b24ad7fc7be720c170d8e497f575d02d47537de9a5bac074901)\n"
     ]
    }
   ],
   "source": [
    "import argilla as rg\n",
    "from datasets import load_dataset\n",
    "\n",
    "# Download preprocessed dataset\n",
    "ds_rb = rg.read_datasets(\n",
    "    load_dataset(\"argilla/go_emotions_multi-label\", split=\"train\"),\n",
    "    task=\"TextClassification\",\n",
    ")\n"
   ]
  },
  {
   "cell_type": "code",
   "execution_count": 27,
   "id": "91c11e9e-9dec-424e-a582-795803e0a682",
   "metadata": {},
   "outputs": [
    {
     "data": {
      "application/vnd.jupyter.widget-view+json": {
       "model_id": "7658a03646e145c48276c76c0dd252be",
       "version_major": 2,
       "version_minor": 0
      },
      "text/plain": [
       "  0%|          | 0/4208 [00:00<?, ?it/s]"
      ]
     },
     "metadata": {},
     "output_type": "display_data"
    },
    {
     "name": "stdout",
     "output_type": "stream",
     "text": [
      "4208 records logged to http://localhost:6900/datasets/argilla/go_emotions\n"
     ]
    },
    {
     "data": {
      "text/plain": [
       "BulkResponse(dataset='go_emotions', processed=4208, failed=0)"
      ]
     },
     "execution_count": 27,
     "metadata": {},
     "output_type": "execute_result"
    }
   ],
   "source": [
    "# Log dataset to Argilla to find good heuristics\n",
    "\n",
    "rg.log(ds_rb, name=\"go_emotions\")\n"
   ]
  },
  {
   "cell_type": "markdown",
   "id": "f0531d9c-b7df-4128-8b93-f8661558d603",
   "metadata": {},
   "source": [
    "After uploading the dataset, we can explore and inspect it to find good heuristic rules.\n",
    "For this we highly recommend the dedicated [*Define rules* mode](../reference/webapp/define_rules.md) of the Argilla web app, that allows you to quickly iterate over heuristic rules, compute their metrics and save them.\n",
    "\n",
    "Here we copy our rules found via the web app to the notebook for you to easily follow along the tutorial."
   ]
  },
  {
   "cell_type": "code",
   "execution_count": 28,
   "id": "c90591ef-bedb-4069-b491-bd9d7f58edde",
   "metadata": {},
   "outputs": [],
   "source": [
    "from argilla.labeling.text_classification import Rule\n",
    "\n",
    "# Define our heuristic rules, they can surely be improved\n",
    "rules = [\n",
    "    Rule(\"thank*\", \"gratitude\"),\n",
    "    Rule(\"appreciate\", \"gratitude\"),\n",
    "    Rule(\"text:(thanks AND good)\", [\"admiration\", \"gratitude\"]),\n",
    "    Rule(\"advice\", \"admiration\"),\n",
    "    Rule(\"amazing\", \"admiration\"),\n",
    "    Rule(\"awesome\", \"admiration\"),\n",
    "    Rule(\"impressed\", \"admiration\"),\n",
    "    Rule(\"text:(good AND (point OR call OR idea OR job))\", \"admiration\"),\n",
    "    Rule(\"legend\", \"admiration\"),\n",
    "    Rule(\"exactly\", \"approval\"),\n",
    "    Rule(\"agree\", \"approval\"),\n",
    "    Rule(\"yeah\", \"optimism\"),\n",
    "    Rule(\"suck\", \"annoyance\"),\n",
    "    Rule(\"pissed\", \"annoyance\"),\n",
    "    Rule(\"annoying\", \"annoyance\"),\n",
    "    Rule(\"ruined\", \"annoyance\"),\n",
    "    Rule(\"hoping\", \"optimism\"),\n",
    "    Rule(\"joking\", [\"optimism\", \"admiration\"]),\n",
    "    Rule('text:(\"good luck\")', \"optimism\"),\n",
    "    Rule('\"nice day\"', \"optimism\"),\n",
    "    Rule('\"what is\"', \"curiosity\"),\n",
    "    Rule('\"can you\"', \"curiosity\"),\n",
    "    Rule('\"would you\"', \"curiosity\"),\n",
    "    Rule('\"do you\"', [\"curiosity\", \"admiration\"]),\n",
    "    Rule('\"great\"', [\"annoyance\"])\n",
    "]"
   ]
  },
  {
   "cell_type": "markdown",
   "id": "43da2cd0-58b3-4bf6-af48-88852959bd48",
   "metadata": {},
   "source": [
    "We go on and apply these heuristic rules to our dataset creating our weak label matrix.\n",
    "Since we are dealing with a multi-label classification task, the weak label matrix will have 3 dimensions.\n",
    "\n",
    "> Dimensions of the weak multi label matrix: *number of records* x *number of rules* x *number of labels* \n",
    "\n",
    "It will be filled with 0 and 1, depending on if the rule voted for the respective label or not.\n",
    "If the rule abstained for a given record, the matrix will be filled with -1. "
   ]
  },
  {
   "cell_type": "code",
   "execution_count": 29,
   "id": "de1f67bb-8666-4fd9-a293-f0e6a1168f0a",
   "metadata": {},
   "outputs": [],
   "source": [
    "from argilla.labeling.text_classification import WeakMultiLabels, add_rules, delete_rules, update_rules\n",
    "\n",
    "# Compute the weak labels for our dataset given the rules.\n",
    "# If your dataset already contains rules you can omit the rules argument.\n",
    "\n",
    "add_rules(dataset=\"go_emotions\", rules=rules)\n"
   ]
  },
  {
   "cell_type": "code",
   "execution_count": 30,
   "id": "f0d66617",
   "metadata": {},
   "outputs": [
    {
     "data": {
      "application/vnd.jupyter.widget-view+json": {
       "model_id": "2c2b575d6d5d4cc1be95ca115aa6c3ad",
       "version_major": 2,
       "version_minor": 0
      },
      "text/plain": [
       "Preparing rules:   0%|          | 0/25 [00:00<?, ?it/s]"
      ]
     },
     "metadata": {},
     "output_type": "display_data"
    },
    {
     "data": {
      "application/vnd.jupyter.widget-view+json": {
       "model_id": "e2c43cd3ecae457b8ae223923c6df2dd",
       "version_major": 2,
       "version_minor": 0
      },
      "text/plain": [
       "Applying rules:   0%|          | 0/4208 [00:00<?, ?it/s]"
      ]
     },
     "metadata": {},
     "output_type": "display_data"
    },
    {
     "data": {
      "application/vnd.jupyter.widget-view+json": {
       "model_id": "962ac27b9b124d6183cb7848cf646a75",
       "version_major": 2,
       "version_minor": 0
      },
      "text/plain": [
       "Filling weak label matrix:   0%|          | 0/4208 [00:00<?, ?it/s]"
      ]
     },
     "metadata": {},
     "output_type": "display_data"
    }
   ],
   "source": [
    "weak_labels = WeakMultiLabels(\"go_emotions\")"
   ]
  },
  {
   "cell_type": "markdown",
   "id": "b2021a90-9e5b-4d5a-996d-71d8c19679d9",
   "metadata": {},
   "source": [
    "We can call the `weak_labels.summary()` method to check the precision of each rule as well as our total coverage of the dataset."
   ]
  },
  {
   "cell_type": "code",
   "execution_count": 31,
   "id": "cdc6fea9-f248-4f55-a542-a0296f2873f0",
   "metadata": {},
   "outputs": [
    {
     "data": {
      "text/html": [
       "<div>\n",
       "<style scoped>\n",
       "    .dataframe tbody tr th:only-of-type {\n",
       "        vertical-align: middle;\n",
       "    }\n",
       "\n",
       "    .dataframe tbody tr th {\n",
       "        vertical-align: top;\n",
       "    }\n",
       "\n",
       "    .dataframe thead th {\n",
       "        text-align: right;\n",
       "    }\n",
       "</style>\n",
       "<table border=\"1\" class=\"dataframe\">\n",
       "  <thead>\n",
       "    <tr style=\"text-align: right;\">\n",
       "      <th></th>\n",
       "      <th>label</th>\n",
       "      <th>coverage</th>\n",
       "      <th>annotated_coverage</th>\n",
       "      <th>overlaps</th>\n",
       "      <th>correct</th>\n",
       "      <th>incorrect</th>\n",
       "      <th>precision</th>\n",
       "    </tr>\n",
       "  </thead>\n",
       "  <tbody>\n",
       "    <tr>\n",
       "      <th>thank*</th>\n",
       "      <td>{gratitude}</td>\n",
       "      <td>0.199382</td>\n",
       "      <td>0.198925</td>\n",
       "      <td>0.048004</td>\n",
       "      <td>74</td>\n",
       "      <td>0</td>\n",
       "      <td>1.000000</td>\n",
       "    </tr>\n",
       "    <tr>\n",
       "      <th>appreciate</th>\n",
       "      <td>{gratitude}</td>\n",
       "      <td>0.016397</td>\n",
       "      <td>0.021505</td>\n",
       "      <td>0.009981</td>\n",
       "      <td>7</td>\n",
       "      <td>1</td>\n",
       "      <td>0.875000</td>\n",
       "    </tr>\n",
       "    <tr>\n",
       "      <th>text:(thanks AND good)</th>\n",
       "      <td>{gratitude, admiration}</td>\n",
       "      <td>0.007842</td>\n",
       "      <td>0.010753</td>\n",
       "      <td>0.007842</td>\n",
       "      <td>8</td>\n",
       "      <td>0</td>\n",
       "      <td>1.000000</td>\n",
       "    </tr>\n",
       "    <tr>\n",
       "      <th>advice</th>\n",
       "      <td>{admiration}</td>\n",
       "      <td>0.008317</td>\n",
       "      <td>0.008065</td>\n",
       "      <td>0.007605</td>\n",
       "      <td>3</td>\n",
       "      <td>0</td>\n",
       "      <td>1.000000</td>\n",
       "    </tr>\n",
       "    <tr>\n",
       "      <th>amazing</th>\n",
       "      <td>{admiration}</td>\n",
       "      <td>0.025428</td>\n",
       "      <td>0.021505</td>\n",
       "      <td>0.004990</td>\n",
       "      <td>8</td>\n",
       "      <td>0</td>\n",
       "      <td>1.000000</td>\n",
       "    </tr>\n",
       "    <tr>\n",
       "      <th>awesome</th>\n",
       "      <td>{admiration}</td>\n",
       "      <td>0.025190</td>\n",
       "      <td>0.034946</td>\n",
       "      <td>0.007605</td>\n",
       "      <td>12</td>\n",
       "      <td>1</td>\n",
       "      <td>0.923077</td>\n",
       "    </tr>\n",
       "    <tr>\n",
       "      <th>impressed</th>\n",
       "      <td>{admiration}</td>\n",
       "      <td>0.002139</td>\n",
       "      <td>0.005376</td>\n",
       "      <td>0.000000</td>\n",
       "      <td>2</td>\n",
       "      <td>0</td>\n",
       "      <td>1.000000</td>\n",
       "    </tr>\n",
       "    <tr>\n",
       "      <th>text:(good AND (point OR call OR idea OR job))</th>\n",
       "      <td>{admiration}</td>\n",
       "      <td>0.008555</td>\n",
       "      <td>0.018817</td>\n",
       "      <td>0.003089</td>\n",
       "      <td>7</td>\n",
       "      <td>0</td>\n",
       "      <td>1.000000</td>\n",
       "    </tr>\n",
       "    <tr>\n",
       "      <th>legend</th>\n",
       "      <td>{admiration}</td>\n",
       "      <td>0.001901</td>\n",
       "      <td>0.002688</td>\n",
       "      <td>0.000475</td>\n",
       "      <td>1</td>\n",
       "      <td>0</td>\n",
       "      <td>1.000000</td>\n",
       "    </tr>\n",
       "    <tr>\n",
       "      <th>exactly</th>\n",
       "      <td>{approval}</td>\n",
       "      <td>0.007842</td>\n",
       "      <td>0.010753</td>\n",
       "      <td>0.002376</td>\n",
       "      <td>3</td>\n",
       "      <td>1</td>\n",
       "      <td>0.750000</td>\n",
       "    </tr>\n",
       "    <tr>\n",
       "      <th>agree</th>\n",
       "      <td>{approval}</td>\n",
       "      <td>0.016873</td>\n",
       "      <td>0.021505</td>\n",
       "      <td>0.003327</td>\n",
       "      <td>6</td>\n",
       "      <td>2</td>\n",
       "      <td>0.750000</td>\n",
       "    </tr>\n",
       "    <tr>\n",
       "      <th>yeah</th>\n",
       "      <td>{optimism}</td>\n",
       "      <td>0.024952</td>\n",
       "      <td>0.021505</td>\n",
       "      <td>0.006179</td>\n",
       "      <td>2</td>\n",
       "      <td>6</td>\n",
       "      <td>0.250000</td>\n",
       "    </tr>\n",
       "    <tr>\n",
       "      <th>suck</th>\n",
       "      <td>{annoyance}</td>\n",
       "      <td>0.002139</td>\n",
       "      <td>0.008065</td>\n",
       "      <td>0.000475</td>\n",
       "      <td>3</td>\n",
       "      <td>0</td>\n",
       "      <td>1.000000</td>\n",
       "    </tr>\n",
       "    <tr>\n",
       "      <th>pissed</th>\n",
       "      <td>{annoyance}</td>\n",
       "      <td>0.002139</td>\n",
       "      <td>0.008065</td>\n",
       "      <td>0.000713</td>\n",
       "      <td>2</td>\n",
       "      <td>1</td>\n",
       "      <td>0.666667</td>\n",
       "    </tr>\n",
       "    <tr>\n",
       "      <th>annoying</th>\n",
       "      <td>{annoyance}</td>\n",
       "      <td>0.003327</td>\n",
       "      <td>0.018817</td>\n",
       "      <td>0.001188</td>\n",
       "      <td>7</td>\n",
       "      <td>0</td>\n",
       "      <td>1.000000</td>\n",
       "    </tr>\n",
       "    <tr>\n",
       "      <th>ruined</th>\n",
       "      <td>{annoyance}</td>\n",
       "      <td>0.000713</td>\n",
       "      <td>0.002688</td>\n",
       "      <td>0.000238</td>\n",
       "      <td>1</td>\n",
       "      <td>0</td>\n",
       "      <td>1.000000</td>\n",
       "    </tr>\n",
       "    <tr>\n",
       "      <th>hoping</th>\n",
       "      <td>{optimism}</td>\n",
       "      <td>0.003565</td>\n",
       "      <td>0.005376</td>\n",
       "      <td>0.000713</td>\n",
       "      <td>2</td>\n",
       "      <td>0</td>\n",
       "      <td>1.000000</td>\n",
       "    </tr>\n",
       "    <tr>\n",
       "      <th>joking</th>\n",
       "      <td>{optimism, admiration}</td>\n",
       "      <td>0.000238</td>\n",
       "      <td>0.000000</td>\n",
       "      <td>0.000000</td>\n",
       "      <td>0</td>\n",
       "      <td>0</td>\n",
       "      <td>NaN</td>\n",
       "    </tr>\n",
       "    <tr>\n",
       "      <th>text:(\"good luck\")</th>\n",
       "      <td>{optimism}</td>\n",
       "      <td>0.015209</td>\n",
       "      <td>0.018817</td>\n",
       "      <td>0.002614</td>\n",
       "      <td>4</td>\n",
       "      <td>3</td>\n",
       "      <td>0.571429</td>\n",
       "    </tr>\n",
       "    <tr>\n",
       "      <th>\"nice day\"</th>\n",
       "      <td>{optimism}</td>\n",
       "      <td>0.000713</td>\n",
       "      <td>0.005376</td>\n",
       "      <td>0.000000</td>\n",
       "      <td>2</td>\n",
       "      <td>0</td>\n",
       "      <td>1.000000</td>\n",
       "    </tr>\n",
       "    <tr>\n",
       "      <th>\"what is\"</th>\n",
       "      <td>{curiosity}</td>\n",
       "      <td>0.004040</td>\n",
       "      <td>0.005376</td>\n",
       "      <td>0.001188</td>\n",
       "      <td>2</td>\n",
       "      <td>0</td>\n",
       "      <td>1.000000</td>\n",
       "    </tr>\n",
       "    <tr>\n",
       "      <th>\"can you\"</th>\n",
       "      <td>{curiosity}</td>\n",
       "      <td>0.004278</td>\n",
       "      <td>0.008065</td>\n",
       "      <td>0.000713</td>\n",
       "      <td>3</td>\n",
       "      <td>0</td>\n",
       "      <td>1.000000</td>\n",
       "    </tr>\n",
       "    <tr>\n",
       "      <th>\"would you\"</th>\n",
       "      <td>{curiosity}</td>\n",
       "      <td>0.000951</td>\n",
       "      <td>0.005376</td>\n",
       "      <td>0.000238</td>\n",
       "      <td>2</td>\n",
       "      <td>0</td>\n",
       "      <td>1.000000</td>\n",
       "    </tr>\n",
       "    <tr>\n",
       "      <th>\"do you\"</th>\n",
       "      <td>{curiosity, admiration}</td>\n",
       "      <td>0.010932</td>\n",
       "      <td>0.018817</td>\n",
       "      <td>0.002376</td>\n",
       "      <td>7</td>\n",
       "      <td>7</td>\n",
       "      <td>0.500000</td>\n",
       "    </tr>\n",
       "    <tr>\n",
       "      <th>\"great\"</th>\n",
       "      <td>{annoyance}</td>\n",
       "      <td>0.055133</td>\n",
       "      <td>0.061828</td>\n",
       "      <td>0.016873</td>\n",
       "      <td>1</td>\n",
       "      <td>22</td>\n",
       "      <td>0.043478</td>\n",
       "    </tr>\n",
       "    <tr>\n",
       "      <th>total</th>\n",
       "      <td>{gratitude, approval, annoyance, curiosity, op...</td>\n",
       "      <td>0.379753</td>\n",
       "      <td>0.448925</td>\n",
       "      <td>0.060361</td>\n",
       "      <td>169</td>\n",
       "      <td>44</td>\n",
       "      <td>0.793427</td>\n",
       "    </tr>\n",
       "  </tbody>\n",
       "</table>\n",
       "</div>"
      ],
      "text/plain": [
       "                                                                                            label  \\\n",
       "thank*                                                                                {gratitude}   \n",
       "appreciate                                                                            {gratitude}   \n",
       "text:(thanks AND good)                                                    {gratitude, admiration}   \n",
       "advice                                                                               {admiration}   \n",
       "amazing                                                                              {admiration}   \n",
       "awesome                                                                              {admiration}   \n",
       "impressed                                                                            {admiration}   \n",
       "text:(good AND (point OR call OR idea OR job))                                       {admiration}   \n",
       "legend                                                                               {admiration}   \n",
       "exactly                                                                                {approval}   \n",
       "agree                                                                                  {approval}   \n",
       "yeah                                                                                   {optimism}   \n",
       "suck                                                                                  {annoyance}   \n",
       "pissed                                                                                {annoyance}   \n",
       "annoying                                                                              {annoyance}   \n",
       "ruined                                                                                {annoyance}   \n",
       "hoping                                                                                 {optimism}   \n",
       "joking                                                                     {optimism, admiration}   \n",
       "text:(\"good luck\")                                                                     {optimism}   \n",
       "\"nice day\"                                                                             {optimism}   \n",
       "\"what is\"                                                                             {curiosity}   \n",
       "\"can you\"                                                                             {curiosity}   \n",
       "\"would you\"                                                                           {curiosity}   \n",
       "\"do you\"                                                                  {curiosity, admiration}   \n",
       "\"great\"                                                                               {annoyance}   \n",
       "total                                           {gratitude, approval, annoyance, curiosity, op...   \n",
       "\n",
       "                                                coverage  annotated_coverage  \\\n",
       "thank*                                          0.199382            0.198925   \n",
       "appreciate                                      0.016397            0.021505   \n",
       "text:(thanks AND good)                          0.007842            0.010753   \n",
       "advice                                          0.008317            0.008065   \n",
       "amazing                                         0.025428            0.021505   \n",
       "awesome                                         0.025190            0.034946   \n",
       "impressed                                       0.002139            0.005376   \n",
       "text:(good AND (point OR call OR idea OR job))  0.008555            0.018817   \n",
       "legend                                          0.001901            0.002688   \n",
       "exactly                                         0.007842            0.010753   \n",
       "agree                                           0.016873            0.021505   \n",
       "yeah                                            0.024952            0.021505   \n",
       "suck                                            0.002139            0.008065   \n",
       "pissed                                          0.002139            0.008065   \n",
       "annoying                                        0.003327            0.018817   \n",
       "ruined                                          0.000713            0.002688   \n",
       "hoping                                          0.003565            0.005376   \n",
       "joking                                          0.000238            0.000000   \n",
       "text:(\"good luck\")                              0.015209            0.018817   \n",
       "\"nice day\"                                      0.000713            0.005376   \n",
       "\"what is\"                                       0.004040            0.005376   \n",
       "\"can you\"                                       0.004278            0.008065   \n",
       "\"would you\"                                     0.000951            0.005376   \n",
       "\"do you\"                                        0.010932            0.018817   \n",
       "\"great\"                                         0.055133            0.061828   \n",
       "total                                           0.379753            0.448925   \n",
       "\n",
       "                                                overlaps  correct  incorrect  \\\n",
       "thank*                                          0.048004       74          0   \n",
       "appreciate                                      0.009981        7          1   \n",
       "text:(thanks AND good)                          0.007842        8          0   \n",
       "advice                                          0.007605        3          0   \n",
       "amazing                                         0.004990        8          0   \n",
       "awesome                                         0.007605       12          1   \n",
       "impressed                                       0.000000        2          0   \n",
       "text:(good AND (point OR call OR idea OR job))  0.003089        7          0   \n",
       "legend                                          0.000475        1          0   \n",
       "exactly                                         0.002376        3          1   \n",
       "agree                                           0.003327        6          2   \n",
       "yeah                                            0.006179        2          6   \n",
       "suck                                            0.000475        3          0   \n",
       "pissed                                          0.000713        2          1   \n",
       "annoying                                        0.001188        7          0   \n",
       "ruined                                          0.000238        1          0   \n",
       "hoping                                          0.000713        2          0   \n",
       "joking                                          0.000000        0          0   \n",
       "text:(\"good luck\")                              0.002614        4          3   \n",
       "\"nice day\"                                      0.000000        2          0   \n",
       "\"what is\"                                       0.001188        2          0   \n",
       "\"can you\"                                       0.000713        3          0   \n",
       "\"would you\"                                     0.000238        2          0   \n",
       "\"do you\"                                        0.002376        7          7   \n",
       "\"great\"                                         0.016873        1         22   \n",
       "total                                           0.060361      169         44   \n",
       "\n",
       "                                                precision  \n",
       "thank*                                           1.000000  \n",
       "appreciate                                       0.875000  \n",
       "text:(thanks AND good)                           1.000000  \n",
       "advice                                           1.000000  \n",
       "amazing                                          1.000000  \n",
       "awesome                                          0.923077  \n",
       "impressed                                        1.000000  \n",
       "text:(good AND (point OR call OR idea OR job))   1.000000  \n",
       "legend                                           1.000000  \n",
       "exactly                                          0.750000  \n",
       "agree                                            0.750000  \n",
       "yeah                                             0.250000  \n",
       "suck                                             1.000000  \n",
       "pissed                                           0.666667  \n",
       "annoying                                         1.000000  \n",
       "ruined                                           1.000000  \n",
       "hoping                                           1.000000  \n",
       "joking                                                NaN  \n",
       "text:(\"good luck\")                               0.571429  \n",
       "\"nice day\"                                       1.000000  \n",
       "\"what is\"                                        1.000000  \n",
       "\"can you\"                                        1.000000  \n",
       "\"would you\"                                      1.000000  \n",
       "\"do you\"                                         0.500000  \n",
       "\"great\"                                          0.043478  \n",
       "total                                            0.793427  "
      ]
     },
     "execution_count": 31,
     "metadata": {},
     "output_type": "execute_result"
    }
   ],
   "source": [
    "# Check coverage/precision of our rules\n",
    "weak_labels.summary()\n"
   ]
  },
  {
   "cell_type": "markdown",
   "id": "88b3fffe",
   "metadata": {},
   "source": [
    "we can observe that \"joking\" does not have any support and also \"do you\" is not informative, because its correct/incorrect ratio equals to 1. We can delete these two rules from the dataset using \"delete_rules\" method "
   ]
  },
  {
   "cell_type": "code",
   "execution_count": 32,
   "id": "f047f88e",
   "metadata": {},
   "outputs": [],
   "source": [
    "rules_to_delete = [\n",
    "    Rule(\"joking\", [\"optimism\", \"admiration\"]),\n",
    "    Rule('\"do you\"', [\"curiosity\", \"admiration\"])]\n",
    "\n",
    "delete_rules(dataset=\"go_emotions\", rules=rules_to_delete)"
   ]
  },
  {
   "cell_type": "markdown",
   "id": "277c8167",
   "metadata": {},
   "source": [
    "# lets apply Weak Labeling again "
   ]
  },
  {
   "cell_type": "code",
   "execution_count": 33,
   "id": "d053adfe",
   "metadata": {},
   "outputs": [
    {
     "data": {
      "application/vnd.jupyter.widget-view+json": {
       "model_id": "e6f467ffb08b452b9164c0d0b7a0727d",
       "version_major": 2,
       "version_minor": 0
      },
      "text/plain": [
       "Preparing rules:   0%|          | 0/23 [00:00<?, ?it/s]"
      ]
     },
     "metadata": {},
     "output_type": "display_data"
    },
    {
     "data": {
      "application/vnd.jupyter.widget-view+json": {
       "model_id": "7a33c361117942a8a155a10161f8de6b",
       "version_major": 2,
       "version_minor": 0
      },
      "text/plain": [
       "Applying rules:   0%|          | 0/4208 [00:00<?, ?it/s]"
      ]
     },
     "metadata": {},
     "output_type": "display_data"
    },
    {
     "data": {
      "application/vnd.jupyter.widget-view+json": {
       "model_id": "204d8fe622c0404399f83b35ca6ec778",
       "version_major": 2,
       "version_minor": 0
      },
      "text/plain": [
       "Filling weak label matrix:   0%|          | 0/4208 [00:00<?, ?it/s]"
      ]
     },
     "metadata": {},
     "output_type": "display_data"
    }
   ],
   "source": [
    "weak_labels = WeakMultiLabels(\"go_emotions\")"
   ]
  },
  {
   "cell_type": "code",
   "execution_count": 34,
   "id": "9ad4fbd4",
   "metadata": {},
   "outputs": [
    {
     "data": {
      "text/html": [
       "<div>\n",
       "<style scoped>\n",
       "    .dataframe tbody tr th:only-of-type {\n",
       "        vertical-align: middle;\n",
       "    }\n",
       "\n",
       "    .dataframe tbody tr th {\n",
       "        vertical-align: top;\n",
       "    }\n",
       "\n",
       "    .dataframe thead th {\n",
       "        text-align: right;\n",
       "    }\n",
       "</style>\n",
       "<table border=\"1\" class=\"dataframe\">\n",
       "  <thead>\n",
       "    <tr style=\"text-align: right;\">\n",
       "      <th></th>\n",
       "      <th>label</th>\n",
       "      <th>coverage</th>\n",
       "      <th>annotated_coverage</th>\n",
       "      <th>overlaps</th>\n",
       "      <th>correct</th>\n",
       "      <th>incorrect</th>\n",
       "      <th>precision</th>\n",
       "    </tr>\n",
       "  </thead>\n",
       "  <tbody>\n",
       "    <tr>\n",
       "      <th>thank*</th>\n",
       "      <td>{gratitude}</td>\n",
       "      <td>0.199382</td>\n",
       "      <td>0.198925</td>\n",
       "      <td>0.047766</td>\n",
       "      <td>74</td>\n",
       "      <td>0</td>\n",
       "      <td>1.000000</td>\n",
       "    </tr>\n",
       "    <tr>\n",
       "      <th>appreciate</th>\n",
       "      <td>{gratitude}</td>\n",
       "      <td>0.016397</td>\n",
       "      <td>0.021505</td>\n",
       "      <td>0.009743</td>\n",
       "      <td>7</td>\n",
       "      <td>1</td>\n",
       "      <td>0.875000</td>\n",
       "    </tr>\n",
       "    <tr>\n",
       "      <th>text:(thanks AND good)</th>\n",
       "      <td>{gratitude, admiration}</td>\n",
       "      <td>0.007842</td>\n",
       "      <td>0.010753</td>\n",
       "      <td>0.007842</td>\n",
       "      <td>8</td>\n",
       "      <td>0</td>\n",
       "      <td>1.000000</td>\n",
       "    </tr>\n",
       "    <tr>\n",
       "      <th>advice</th>\n",
       "      <td>{admiration}</td>\n",
       "      <td>0.008317</td>\n",
       "      <td>0.008065</td>\n",
       "      <td>0.007367</td>\n",
       "      <td>3</td>\n",
       "      <td>0</td>\n",
       "      <td>1.000000</td>\n",
       "    </tr>\n",
       "    <tr>\n",
       "      <th>amazing</th>\n",
       "      <td>{admiration}</td>\n",
       "      <td>0.025428</td>\n",
       "      <td>0.021505</td>\n",
       "      <td>0.004990</td>\n",
       "      <td>8</td>\n",
       "      <td>0</td>\n",
       "      <td>1.000000</td>\n",
       "    </tr>\n",
       "    <tr>\n",
       "      <th>awesome</th>\n",
       "      <td>{admiration}</td>\n",
       "      <td>0.025190</td>\n",
       "      <td>0.034946</td>\n",
       "      <td>0.007129</td>\n",
       "      <td>12</td>\n",
       "      <td>1</td>\n",
       "      <td>0.923077</td>\n",
       "    </tr>\n",
       "    <tr>\n",
       "      <th>impressed</th>\n",
       "      <td>{admiration}</td>\n",
       "      <td>0.002139</td>\n",
       "      <td>0.005376</td>\n",
       "      <td>0.000000</td>\n",
       "      <td>2</td>\n",
       "      <td>0</td>\n",
       "      <td>1.000000</td>\n",
       "    </tr>\n",
       "    <tr>\n",
       "      <th>text:(good AND (point OR call OR idea OR job))</th>\n",
       "      <td>{admiration}</td>\n",
       "      <td>0.008555</td>\n",
       "      <td>0.018817</td>\n",
       "      <td>0.003089</td>\n",
       "      <td>7</td>\n",
       "      <td>0</td>\n",
       "      <td>1.000000</td>\n",
       "    </tr>\n",
       "    <tr>\n",
       "      <th>legend</th>\n",
       "      <td>{admiration}</td>\n",
       "      <td>0.001901</td>\n",
       "      <td>0.002688</td>\n",
       "      <td>0.000475</td>\n",
       "      <td>1</td>\n",
       "      <td>0</td>\n",
       "      <td>1.000000</td>\n",
       "    </tr>\n",
       "    <tr>\n",
       "      <th>exactly</th>\n",
       "      <td>{approval}</td>\n",
       "      <td>0.007842</td>\n",
       "      <td>0.010753</td>\n",
       "      <td>0.002139</td>\n",
       "      <td>3</td>\n",
       "      <td>1</td>\n",
       "      <td>0.750000</td>\n",
       "    </tr>\n",
       "    <tr>\n",
       "      <th>agree</th>\n",
       "      <td>{approval}</td>\n",
       "      <td>0.016873</td>\n",
       "      <td>0.021505</td>\n",
       "      <td>0.003327</td>\n",
       "      <td>6</td>\n",
       "      <td>2</td>\n",
       "      <td>0.750000</td>\n",
       "    </tr>\n",
       "    <tr>\n",
       "      <th>yeah</th>\n",
       "      <td>{optimism}</td>\n",
       "      <td>0.024952</td>\n",
       "      <td>0.021505</td>\n",
       "      <td>0.006179</td>\n",
       "      <td>2</td>\n",
       "      <td>6</td>\n",
       "      <td>0.250000</td>\n",
       "    </tr>\n",
       "    <tr>\n",
       "      <th>suck</th>\n",
       "      <td>{annoyance}</td>\n",
       "      <td>0.002139</td>\n",
       "      <td>0.008065</td>\n",
       "      <td>0.000475</td>\n",
       "      <td>3</td>\n",
       "      <td>0</td>\n",
       "      <td>1.000000</td>\n",
       "    </tr>\n",
       "    <tr>\n",
       "      <th>pissed</th>\n",
       "      <td>{annoyance}</td>\n",
       "      <td>0.002139</td>\n",
       "      <td>0.008065</td>\n",
       "      <td>0.000475</td>\n",
       "      <td>2</td>\n",
       "      <td>1</td>\n",
       "      <td>0.666667</td>\n",
       "    </tr>\n",
       "    <tr>\n",
       "      <th>annoying</th>\n",
       "      <td>{annoyance}</td>\n",
       "      <td>0.003327</td>\n",
       "      <td>0.018817</td>\n",
       "      <td>0.001188</td>\n",
       "      <td>7</td>\n",
       "      <td>0</td>\n",
       "      <td>1.000000</td>\n",
       "    </tr>\n",
       "    <tr>\n",
       "      <th>ruined</th>\n",
       "      <td>{annoyance}</td>\n",
       "      <td>0.000713</td>\n",
       "      <td>0.002688</td>\n",
       "      <td>0.000238</td>\n",
       "      <td>1</td>\n",
       "      <td>0</td>\n",
       "      <td>1.000000</td>\n",
       "    </tr>\n",
       "    <tr>\n",
       "      <th>hoping</th>\n",
       "      <td>{optimism}</td>\n",
       "      <td>0.003565</td>\n",
       "      <td>0.005376</td>\n",
       "      <td>0.000713</td>\n",
       "      <td>2</td>\n",
       "      <td>0</td>\n",
       "      <td>1.000000</td>\n",
       "    </tr>\n",
       "    <tr>\n",
       "      <th>text:(\"good luck\")</th>\n",
       "      <td>{optimism}</td>\n",
       "      <td>0.015209</td>\n",
       "      <td>0.018817</td>\n",
       "      <td>0.002614</td>\n",
       "      <td>4</td>\n",
       "      <td>3</td>\n",
       "      <td>0.571429</td>\n",
       "    </tr>\n",
       "    <tr>\n",
       "      <th>\"nice day\"</th>\n",
       "      <td>{optimism}</td>\n",
       "      <td>0.000713</td>\n",
       "      <td>0.005376</td>\n",
       "      <td>0.000000</td>\n",
       "      <td>2</td>\n",
       "      <td>0</td>\n",
       "      <td>1.000000</td>\n",
       "    </tr>\n",
       "    <tr>\n",
       "      <th>\"what is\"</th>\n",
       "      <td>{curiosity}</td>\n",
       "      <td>0.004040</td>\n",
       "      <td>0.005376</td>\n",
       "      <td>0.001188</td>\n",
       "      <td>2</td>\n",
       "      <td>0</td>\n",
       "      <td>1.000000</td>\n",
       "    </tr>\n",
       "    <tr>\n",
       "      <th>\"can you\"</th>\n",
       "      <td>{curiosity}</td>\n",
       "      <td>0.004278</td>\n",
       "      <td>0.008065</td>\n",
       "      <td>0.000713</td>\n",
       "      <td>3</td>\n",
       "      <td>0</td>\n",
       "      <td>1.000000</td>\n",
       "    </tr>\n",
       "    <tr>\n",
       "      <th>\"would you\"</th>\n",
       "      <td>{curiosity}</td>\n",
       "      <td>0.000951</td>\n",
       "      <td>0.005376</td>\n",
       "      <td>0.000238</td>\n",
       "      <td>2</td>\n",
       "      <td>0</td>\n",
       "      <td>1.000000</td>\n",
       "    </tr>\n",
       "    <tr>\n",
       "      <th>\"great\"</th>\n",
       "      <td>{annoyance}</td>\n",
       "      <td>0.055133</td>\n",
       "      <td>0.061828</td>\n",
       "      <td>0.016397</td>\n",
       "      <td>1</td>\n",
       "      <td>22</td>\n",
       "      <td>0.043478</td>\n",
       "    </tr>\n",
       "    <tr>\n",
       "      <th>total</th>\n",
       "      <td>{gratitude, approval, annoyance, curiosity, op...</td>\n",
       "      <td>0.370960</td>\n",
       "      <td>0.435484</td>\n",
       "      <td>0.058222</td>\n",
       "      <td>162</td>\n",
       "      <td>37</td>\n",
       "      <td>0.814070</td>\n",
       "    </tr>\n",
       "  </tbody>\n",
       "</table>\n",
       "</div>"
      ],
      "text/plain": [
       "                                                                                            label  \\\n",
       "thank*                                                                                {gratitude}   \n",
       "appreciate                                                                            {gratitude}   \n",
       "text:(thanks AND good)                                                    {gratitude, admiration}   \n",
       "advice                                                                               {admiration}   \n",
       "amazing                                                                              {admiration}   \n",
       "awesome                                                                              {admiration}   \n",
       "impressed                                                                            {admiration}   \n",
       "text:(good AND (point OR call OR idea OR job))                                       {admiration}   \n",
       "legend                                                                               {admiration}   \n",
       "exactly                                                                                {approval}   \n",
       "agree                                                                                  {approval}   \n",
       "yeah                                                                                   {optimism}   \n",
       "suck                                                                                  {annoyance}   \n",
       "pissed                                                                                {annoyance}   \n",
       "annoying                                                                              {annoyance}   \n",
       "ruined                                                                                {annoyance}   \n",
       "hoping                                                                                 {optimism}   \n",
       "text:(\"good luck\")                                                                     {optimism}   \n",
       "\"nice day\"                                                                             {optimism}   \n",
       "\"what is\"                                                                             {curiosity}   \n",
       "\"can you\"                                                                             {curiosity}   \n",
       "\"would you\"                                                                           {curiosity}   \n",
       "\"great\"                                                                               {annoyance}   \n",
       "total                                           {gratitude, approval, annoyance, curiosity, op...   \n",
       "\n",
       "                                                coverage  annotated_coverage  \\\n",
       "thank*                                          0.199382            0.198925   \n",
       "appreciate                                      0.016397            0.021505   \n",
       "text:(thanks AND good)                          0.007842            0.010753   \n",
       "advice                                          0.008317            0.008065   \n",
       "amazing                                         0.025428            0.021505   \n",
       "awesome                                         0.025190            0.034946   \n",
       "impressed                                       0.002139            0.005376   \n",
       "text:(good AND (point OR call OR idea OR job))  0.008555            0.018817   \n",
       "legend                                          0.001901            0.002688   \n",
       "exactly                                         0.007842            0.010753   \n",
       "agree                                           0.016873            0.021505   \n",
       "yeah                                            0.024952            0.021505   \n",
       "suck                                            0.002139            0.008065   \n",
       "pissed                                          0.002139            0.008065   \n",
       "annoying                                        0.003327            0.018817   \n",
       "ruined                                          0.000713            0.002688   \n",
       "hoping                                          0.003565            0.005376   \n",
       "text:(\"good luck\")                              0.015209            0.018817   \n",
       "\"nice day\"                                      0.000713            0.005376   \n",
       "\"what is\"                                       0.004040            0.005376   \n",
       "\"can you\"                                       0.004278            0.008065   \n",
       "\"would you\"                                     0.000951            0.005376   \n",
       "\"great\"                                         0.055133            0.061828   \n",
       "total                                           0.370960            0.435484   \n",
       "\n",
       "                                                overlaps  correct  incorrect  \\\n",
       "thank*                                          0.047766       74          0   \n",
       "appreciate                                      0.009743        7          1   \n",
       "text:(thanks AND good)                          0.007842        8          0   \n",
       "advice                                          0.007367        3          0   \n",
       "amazing                                         0.004990        8          0   \n",
       "awesome                                         0.007129       12          1   \n",
       "impressed                                       0.000000        2          0   \n",
       "text:(good AND (point OR call OR idea OR job))  0.003089        7          0   \n",
       "legend                                          0.000475        1          0   \n",
       "exactly                                         0.002139        3          1   \n",
       "agree                                           0.003327        6          2   \n",
       "yeah                                            0.006179        2          6   \n",
       "suck                                            0.000475        3          0   \n",
       "pissed                                          0.000475        2          1   \n",
       "annoying                                        0.001188        7          0   \n",
       "ruined                                          0.000238        1          0   \n",
       "hoping                                          0.000713        2          0   \n",
       "text:(\"good luck\")                              0.002614        4          3   \n",
       "\"nice day\"                                      0.000000        2          0   \n",
       "\"what is\"                                       0.001188        2          0   \n",
       "\"can you\"                                       0.000713        3          0   \n",
       "\"would you\"                                     0.000238        2          0   \n",
       "\"great\"                                         0.016397        1         22   \n",
       "total                                           0.058222      162         37   \n",
       "\n",
       "                                                precision  \n",
       "thank*                                           1.000000  \n",
       "appreciate                                       0.875000  \n",
       "text:(thanks AND good)                           1.000000  \n",
       "advice                                           1.000000  \n",
       "amazing                                          1.000000  \n",
       "awesome                                          0.923077  \n",
       "impressed                                        1.000000  \n",
       "text:(good AND (point OR call OR idea OR job))   1.000000  \n",
       "legend                                           1.000000  \n",
       "exactly                                          0.750000  \n",
       "agree                                            0.750000  \n",
       "yeah                                             0.250000  \n",
       "suck                                             1.000000  \n",
       "pissed                                           0.666667  \n",
       "annoying                                         1.000000  \n",
       "ruined                                           1.000000  \n",
       "hoping                                           1.000000  \n",
       "text:(\"good luck\")                               0.571429  \n",
       "\"nice day\"                                       1.000000  \n",
       "\"what is\"                                        1.000000  \n",
       "\"can you\"                                        1.000000  \n",
       "\"would you\"                                      1.000000  \n",
       "\"great\"                                          0.043478  \n",
       "total                                            0.814070  "
      ]
     },
     "execution_count": 34,
     "metadata": {},
     "output_type": "execute_result"
    }
   ],
   "source": [
    "weak_labels.summary()"
   ]
  },
  {
   "cell_type": "markdown",
   "id": "f8019280",
   "metadata": {},
   "source": [
    "We can observe that following rules are not working well; \n",
    "\n",
    "Rule('\"great\"', [\"annoyance\"])\n",
    "\n",
    "Rule(\"yeah\", \"optimism\"),\n",
    "\n",
    "Let's update this two rules such as \n",
    "\n",
    "Rule('\"great\"', [\"admiration\"])\n",
    "\n",
    "Rule(\"yeah\", \"approval\"),"
   ]
  },
  {
   "cell_type": "markdown",
   "id": "ba19f6b8-520a-4caa-87a4-307f52749b92",
   "metadata": {
    "tags": []
   },
   "source": [
    "### Create training set\n",
    "\n",
    "When we are happy with our heuristics, it is time to combine them and compute weak labels for the training of our downstream model.\n",
    "For this we will use the `MajorityVoter`.\n",
    "In the multi-label case, it sets the probability of a label to 0 or 1 depending on whether at least one non-abstaining rule voted for the respective label or not."
   ]
  },
  {
   "cell_type": "code",
   "execution_count": 36,
   "id": "0c299231",
   "metadata": {},
   "outputs": [],
   "source": [
    "rules_to_update = [\n",
    "    Rule('\"great\"', [\"admiration\"]),\n",
    "    Rule(\"yeah\", \"approval\")]"
   ]
  },
  {
   "cell_type": "code",
   "execution_count": 37,
   "id": "e8d85e06",
   "metadata": {},
   "outputs": [],
   "source": [
    "update_rules(dataset=\"go_emotions\", rules=rules_to_update)"
   ]
  },
  {
   "cell_type": "code",
   "execution_count": 38,
   "id": "fb5add74",
   "metadata": {},
   "outputs": [
    {
     "data": {
      "application/vnd.jupyter.widget-view+json": {
       "model_id": "e15f53bae1254ac59c9c4f2402cf8ba3",
       "version_major": 2,
       "version_minor": 0
      },
      "text/plain": [
       "Preparing rules:   0%|          | 0/23 [00:00<?, ?it/s]"
      ]
     },
     "metadata": {},
     "output_type": "display_data"
    },
    {
     "data": {
      "application/vnd.jupyter.widget-view+json": {
       "model_id": "973a9b4fbd164cbbbd37b2835d87bb9c",
       "version_major": 2,
       "version_minor": 0
      },
      "text/plain": [
       "Applying rules:   0%|          | 0/4208 [00:00<?, ?it/s]"
      ]
     },
     "metadata": {},
     "output_type": "display_data"
    },
    {
     "data": {
      "application/vnd.jupyter.widget-view+json": {
       "model_id": "5e0e1fd6658d462eb8e76ac8454e46b8",
       "version_major": 2,
       "version_minor": 0
      },
      "text/plain": [
       "Filling weak label matrix:   0%|          | 0/4208 [00:00<?, ?it/s]"
      ]
     },
     "metadata": {},
     "output_type": "display_data"
    }
   ],
   "source": [
    "weak_labels = WeakMultiLabels(dataset=\"go_emotions\")"
   ]
  },
  {
   "cell_type": "code",
   "execution_count": 39,
   "id": "449d7a17",
   "metadata": {},
   "outputs": [
    {
     "data": {
      "text/html": [
       "<div>\n",
       "<style scoped>\n",
       "    .dataframe tbody tr th:only-of-type {\n",
       "        vertical-align: middle;\n",
       "    }\n",
       "\n",
       "    .dataframe tbody tr th {\n",
       "        vertical-align: top;\n",
       "    }\n",
       "\n",
       "    .dataframe thead th {\n",
       "        text-align: right;\n",
       "    }\n",
       "</style>\n",
       "<table border=\"1\" class=\"dataframe\">\n",
       "  <thead>\n",
       "    <tr style=\"text-align: right;\">\n",
       "      <th></th>\n",
       "      <th>label</th>\n",
       "      <th>coverage</th>\n",
       "      <th>annotated_coverage</th>\n",
       "      <th>overlaps</th>\n",
       "      <th>correct</th>\n",
       "      <th>incorrect</th>\n",
       "      <th>precision</th>\n",
       "    </tr>\n",
       "  </thead>\n",
       "  <tbody>\n",
       "    <tr>\n",
       "      <th>thank*</th>\n",
       "      <td>{gratitude}</td>\n",
       "      <td>0.199382</td>\n",
       "      <td>0.198925</td>\n",
       "      <td>0.047766</td>\n",
       "      <td>74</td>\n",
       "      <td>0</td>\n",
       "      <td>1.000000</td>\n",
       "    </tr>\n",
       "    <tr>\n",
       "      <th>appreciate</th>\n",
       "      <td>{gratitude}</td>\n",
       "      <td>0.016397</td>\n",
       "      <td>0.021505</td>\n",
       "      <td>0.009743</td>\n",
       "      <td>7</td>\n",
       "      <td>1</td>\n",
       "      <td>0.875000</td>\n",
       "    </tr>\n",
       "    <tr>\n",
       "      <th>text:(thanks AND good)</th>\n",
       "      <td>{gratitude, admiration}</td>\n",
       "      <td>0.007842</td>\n",
       "      <td>0.010753</td>\n",
       "      <td>0.007842</td>\n",
       "      <td>8</td>\n",
       "      <td>0</td>\n",
       "      <td>1.000000</td>\n",
       "    </tr>\n",
       "    <tr>\n",
       "      <th>advice</th>\n",
       "      <td>{admiration}</td>\n",
       "      <td>0.008317</td>\n",
       "      <td>0.008065</td>\n",
       "      <td>0.007367</td>\n",
       "      <td>3</td>\n",
       "      <td>0</td>\n",
       "      <td>1.000000</td>\n",
       "    </tr>\n",
       "    <tr>\n",
       "      <th>amazing</th>\n",
       "      <td>{admiration}</td>\n",
       "      <td>0.025428</td>\n",
       "      <td>0.021505</td>\n",
       "      <td>0.004990</td>\n",
       "      <td>8</td>\n",
       "      <td>0</td>\n",
       "      <td>1.000000</td>\n",
       "    </tr>\n",
       "    <tr>\n",
       "      <th>awesome</th>\n",
       "      <td>{admiration}</td>\n",
       "      <td>0.025190</td>\n",
       "      <td>0.034946</td>\n",
       "      <td>0.007129</td>\n",
       "      <td>12</td>\n",
       "      <td>1</td>\n",
       "      <td>0.923077</td>\n",
       "    </tr>\n",
       "    <tr>\n",
       "      <th>impressed</th>\n",
       "      <td>{admiration}</td>\n",
       "      <td>0.002139</td>\n",
       "      <td>0.005376</td>\n",
       "      <td>0.000000</td>\n",
       "      <td>2</td>\n",
       "      <td>0</td>\n",
       "      <td>1.000000</td>\n",
       "    </tr>\n",
       "    <tr>\n",
       "      <th>text:(good AND (point OR call OR idea OR job))</th>\n",
       "      <td>{admiration}</td>\n",
       "      <td>0.008555</td>\n",
       "      <td>0.018817</td>\n",
       "      <td>0.003089</td>\n",
       "      <td>7</td>\n",
       "      <td>0</td>\n",
       "      <td>1.000000</td>\n",
       "    </tr>\n",
       "    <tr>\n",
       "      <th>legend</th>\n",
       "      <td>{admiration}</td>\n",
       "      <td>0.001901</td>\n",
       "      <td>0.002688</td>\n",
       "      <td>0.000475</td>\n",
       "      <td>1</td>\n",
       "      <td>0</td>\n",
       "      <td>1.000000</td>\n",
       "    </tr>\n",
       "    <tr>\n",
       "      <th>exactly</th>\n",
       "      <td>{approval}</td>\n",
       "      <td>0.007842</td>\n",
       "      <td>0.010753</td>\n",
       "      <td>0.002139</td>\n",
       "      <td>3</td>\n",
       "      <td>1</td>\n",
       "      <td>0.750000</td>\n",
       "    </tr>\n",
       "    <tr>\n",
       "      <th>agree</th>\n",
       "      <td>{approval}</td>\n",
       "      <td>0.016873</td>\n",
       "      <td>0.021505</td>\n",
       "      <td>0.003327</td>\n",
       "      <td>6</td>\n",
       "      <td>2</td>\n",
       "      <td>0.750000</td>\n",
       "    </tr>\n",
       "    <tr>\n",
       "      <th>yeah</th>\n",
       "      <td>{approval}</td>\n",
       "      <td>0.024952</td>\n",
       "      <td>0.021505</td>\n",
       "      <td>0.006179</td>\n",
       "      <td>5</td>\n",
       "      <td>3</td>\n",
       "      <td>0.625000</td>\n",
       "    </tr>\n",
       "    <tr>\n",
       "      <th>suck</th>\n",
       "      <td>{annoyance}</td>\n",
       "      <td>0.002139</td>\n",
       "      <td>0.008065</td>\n",
       "      <td>0.000475</td>\n",
       "      <td>3</td>\n",
       "      <td>0</td>\n",
       "      <td>1.000000</td>\n",
       "    </tr>\n",
       "    <tr>\n",
       "      <th>pissed</th>\n",
       "      <td>{annoyance}</td>\n",
       "      <td>0.002139</td>\n",
       "      <td>0.008065</td>\n",
       "      <td>0.000475</td>\n",
       "      <td>2</td>\n",
       "      <td>1</td>\n",
       "      <td>0.666667</td>\n",
       "    </tr>\n",
       "    <tr>\n",
       "      <th>annoying</th>\n",
       "      <td>{annoyance}</td>\n",
       "      <td>0.003327</td>\n",
       "      <td>0.018817</td>\n",
       "      <td>0.001188</td>\n",
       "      <td>7</td>\n",
       "      <td>0</td>\n",
       "      <td>1.000000</td>\n",
       "    </tr>\n",
       "    <tr>\n",
       "      <th>ruined</th>\n",
       "      <td>{annoyance}</td>\n",
       "      <td>0.000713</td>\n",
       "      <td>0.002688</td>\n",
       "      <td>0.000238</td>\n",
       "      <td>1</td>\n",
       "      <td>0</td>\n",
       "      <td>1.000000</td>\n",
       "    </tr>\n",
       "    <tr>\n",
       "      <th>hoping</th>\n",
       "      <td>{optimism}</td>\n",
       "      <td>0.003565</td>\n",
       "      <td>0.005376</td>\n",
       "      <td>0.000713</td>\n",
       "      <td>2</td>\n",
       "      <td>0</td>\n",
       "      <td>1.000000</td>\n",
       "    </tr>\n",
       "    <tr>\n",
       "      <th>text:(\"good luck\")</th>\n",
       "      <td>{optimism}</td>\n",
       "      <td>0.015209</td>\n",
       "      <td>0.018817</td>\n",
       "      <td>0.002614</td>\n",
       "      <td>4</td>\n",
       "      <td>3</td>\n",
       "      <td>0.571429</td>\n",
       "    </tr>\n",
       "    <tr>\n",
       "      <th>\"nice day\"</th>\n",
       "      <td>{optimism}</td>\n",
       "      <td>0.000713</td>\n",
       "      <td>0.005376</td>\n",
       "      <td>0.000000</td>\n",
       "      <td>2</td>\n",
       "      <td>0</td>\n",
       "      <td>1.000000</td>\n",
       "    </tr>\n",
       "    <tr>\n",
       "      <th>\"what is\"</th>\n",
       "      <td>{curiosity}</td>\n",
       "      <td>0.004040</td>\n",
       "      <td>0.005376</td>\n",
       "      <td>0.001188</td>\n",
       "      <td>2</td>\n",
       "      <td>0</td>\n",
       "      <td>1.000000</td>\n",
       "    </tr>\n",
       "    <tr>\n",
       "      <th>\"can you\"</th>\n",
       "      <td>{curiosity}</td>\n",
       "      <td>0.004278</td>\n",
       "      <td>0.008065</td>\n",
       "      <td>0.000713</td>\n",
       "      <td>3</td>\n",
       "      <td>0</td>\n",
       "      <td>1.000000</td>\n",
       "    </tr>\n",
       "    <tr>\n",
       "      <th>\"would you\"</th>\n",
       "      <td>{curiosity}</td>\n",
       "      <td>0.000951</td>\n",
       "      <td>0.005376</td>\n",
       "      <td>0.000238</td>\n",
       "      <td>2</td>\n",
       "      <td>0</td>\n",
       "      <td>1.000000</td>\n",
       "    </tr>\n",
       "    <tr>\n",
       "      <th>\"great\"</th>\n",
       "      <td>{admiration}</td>\n",
       "      <td>0.055133</td>\n",
       "      <td>0.061828</td>\n",
       "      <td>0.016397</td>\n",
       "      <td>19</td>\n",
       "      <td>4</td>\n",
       "      <td>0.826087</td>\n",
       "    </tr>\n",
       "    <tr>\n",
       "      <th>total</th>\n",
       "      <td>{gratitude, approval, annoyance, curiosity, op...</td>\n",
       "      <td>0.370960</td>\n",
       "      <td>0.435484</td>\n",
       "      <td>0.058222</td>\n",
       "      <td>183</td>\n",
       "      <td>16</td>\n",
       "      <td>0.919598</td>\n",
       "    </tr>\n",
       "  </tbody>\n",
       "</table>\n",
       "</div>"
      ],
      "text/plain": [
       "                                                                                            label  \\\n",
       "thank*                                                                                {gratitude}   \n",
       "appreciate                                                                            {gratitude}   \n",
       "text:(thanks AND good)                                                    {gratitude, admiration}   \n",
       "advice                                                                               {admiration}   \n",
       "amazing                                                                              {admiration}   \n",
       "awesome                                                                              {admiration}   \n",
       "impressed                                                                            {admiration}   \n",
       "text:(good AND (point OR call OR idea OR job))                                       {admiration}   \n",
       "legend                                                                               {admiration}   \n",
       "exactly                                                                                {approval}   \n",
       "agree                                                                                  {approval}   \n",
       "yeah                                                                                   {approval}   \n",
       "suck                                                                                  {annoyance}   \n",
       "pissed                                                                                {annoyance}   \n",
       "annoying                                                                              {annoyance}   \n",
       "ruined                                                                                {annoyance}   \n",
       "hoping                                                                                 {optimism}   \n",
       "text:(\"good luck\")                                                                     {optimism}   \n",
       "\"nice day\"                                                                             {optimism}   \n",
       "\"what is\"                                                                             {curiosity}   \n",
       "\"can you\"                                                                             {curiosity}   \n",
       "\"would you\"                                                                           {curiosity}   \n",
       "\"great\"                                                                              {admiration}   \n",
       "total                                           {gratitude, approval, annoyance, curiosity, op...   \n",
       "\n",
       "                                                coverage  annotated_coverage  \\\n",
       "thank*                                          0.199382            0.198925   \n",
       "appreciate                                      0.016397            0.021505   \n",
       "text:(thanks AND good)                          0.007842            0.010753   \n",
       "advice                                          0.008317            0.008065   \n",
       "amazing                                         0.025428            0.021505   \n",
       "awesome                                         0.025190            0.034946   \n",
       "impressed                                       0.002139            0.005376   \n",
       "text:(good AND (point OR call OR idea OR job))  0.008555            0.018817   \n",
       "legend                                          0.001901            0.002688   \n",
       "exactly                                         0.007842            0.010753   \n",
       "agree                                           0.016873            0.021505   \n",
       "yeah                                            0.024952            0.021505   \n",
       "suck                                            0.002139            0.008065   \n",
       "pissed                                          0.002139            0.008065   \n",
       "annoying                                        0.003327            0.018817   \n",
       "ruined                                          0.000713            0.002688   \n",
       "hoping                                          0.003565            0.005376   \n",
       "text:(\"good luck\")                              0.015209            0.018817   \n",
       "\"nice day\"                                      0.000713            0.005376   \n",
       "\"what is\"                                       0.004040            0.005376   \n",
       "\"can you\"                                       0.004278            0.008065   \n",
       "\"would you\"                                     0.000951            0.005376   \n",
       "\"great\"                                         0.055133            0.061828   \n",
       "total                                           0.370960            0.435484   \n",
       "\n",
       "                                                overlaps  correct  incorrect  \\\n",
       "thank*                                          0.047766       74          0   \n",
       "appreciate                                      0.009743        7          1   \n",
       "text:(thanks AND good)                          0.007842        8          0   \n",
       "advice                                          0.007367        3          0   \n",
       "amazing                                         0.004990        8          0   \n",
       "awesome                                         0.007129       12          1   \n",
       "impressed                                       0.000000        2          0   \n",
       "text:(good AND (point OR call OR idea OR job))  0.003089        7          0   \n",
       "legend                                          0.000475        1          0   \n",
       "exactly                                         0.002139        3          1   \n",
       "agree                                           0.003327        6          2   \n",
       "yeah                                            0.006179        5          3   \n",
       "suck                                            0.000475        3          0   \n",
       "pissed                                          0.000475        2          1   \n",
       "annoying                                        0.001188        7          0   \n",
       "ruined                                          0.000238        1          0   \n",
       "hoping                                          0.000713        2          0   \n",
       "text:(\"good luck\")                              0.002614        4          3   \n",
       "\"nice day\"                                      0.000000        2          0   \n",
       "\"what is\"                                       0.001188        2          0   \n",
       "\"can you\"                                       0.000713        3          0   \n",
       "\"would you\"                                     0.000238        2          0   \n",
       "\"great\"                                         0.016397       19          4   \n",
       "total                                           0.058222      183         16   \n",
       "\n",
       "                                                precision  \n",
       "thank*                                           1.000000  \n",
       "appreciate                                       0.875000  \n",
       "text:(thanks AND good)                           1.000000  \n",
       "advice                                           1.000000  \n",
       "amazing                                          1.000000  \n",
       "awesome                                          0.923077  \n",
       "impressed                                        1.000000  \n",
       "text:(good AND (point OR call OR idea OR job))   1.000000  \n",
       "legend                                           1.000000  \n",
       "exactly                                          0.750000  \n",
       "agree                                            0.750000  \n",
       "yeah                                             0.625000  \n",
       "suck                                             1.000000  \n",
       "pissed                                           0.666667  \n",
       "annoying                                         1.000000  \n",
       "ruined                                           1.000000  \n",
       "hoping                                           1.000000  \n",
       "text:(\"good luck\")                               0.571429  \n",
       "\"nice day\"                                       1.000000  \n",
       "\"what is\"                                        1.000000  \n",
       "\"can you\"                                        1.000000  \n",
       "\"would you\"                                      1.000000  \n",
       "\"great\"                                          0.826087  \n",
       "total                                            0.919598  "
      ]
     },
     "execution_count": 39,
     "metadata": {},
     "output_type": "execute_result"
    }
   ],
   "source": [
    "weak_labels.summary()"
   ]
  },
  {
   "cell_type": "markdown",
   "id": "61ffe13e",
   "metadata": {},
   "source": [
    "Lets consider we want to try a rule"
   ]
  },
  {
   "cell_type": "code",
   "execution_count": 40,
   "id": "39669aee",
   "metadata": {},
   "outputs": [],
   "source": [
    "new_rule = Rule(\"wish*\", \"optimism\")"
   ]
  },
  {
   "cell_type": "code",
   "execution_count": 42,
   "id": "8aa2e341",
   "metadata": {},
   "outputs": [
    {
     "name": "stdout",
     "output_type": "stream",
     "text": [
      "None\n"
     ]
    }
   ],
   "source": [
    "new_rule.apply(dataset=\"go_emotions\")"
   ]
  },
  {
   "cell_type": "code",
   "execution_count": null,
   "id": "f4a1a051",
   "metadata": {},
   "outputs": [],
   "source": []
  },
  {
   "cell_type": "code",
   "execution_count": null,
   "id": "6985e6b7-7c28-4efc-84d2-08b7fff02ef8",
   "metadata": {},
   "outputs": [],
   "source": [
    "from argilla.labeling.text_classification import MajorityVoter\n",
    "\n",
    "# Use the majority voter as the label model\n",
    "label_model = MajorityVoter(weak_labels)\n"
   ]
  },
  {
   "cell_type": "markdown",
   "id": "f82fe715-e703-457a-a158-78709f442bbd",
   "metadata": {},
   "source": [
    "From our label model we get the training records together with its weak labels and probabilities.\n",
    "We will use the weak labels with a probability greater than 0.5 as labels for our training, and hence copy them to the `annotation` property of our records."
   ]
  },
  {
   "cell_type": "code",
   "execution_count": null,
   "id": "152abc10-1538-4660-aa3a-0e210887c0f1",
   "metadata": {},
   "outputs": [],
   "source": [
    "# Get records with the predictions from the label model to train a down-stream model\n",
    "train_rb = label_model.predict()\n",
    "\n",
    "# Copy label model predictions to annotation with a threshold of 0.5\n",
    "for rec in train_rb:\n",
    "    rec.annotation = [pred[0] for pred in rec.prediction if pred[1] > 0.5]\n"
   ]
  },
  {
   "cell_type": "markdown",
   "id": "24414843-70c2-4dc2-902d-e6e8bcc2a449",
   "metadata": {},
   "source": [
    "We extract the test set with manual annotations from our `WeakMultiLabels` object:"
   ]
  },
  {
   "cell_type": "code",
   "execution_count": null,
   "id": "fce0c5a0-bfa5-4649-a59a-f0114f7891a5",
   "metadata": {},
   "outputs": [],
   "source": [
    "# Get records with manual annotations to use as test set for the down-stream model\n",
    "test_rg = rg.DatasetForTextClassification(weak_labels.records(has_annotation=True))\n"
   ]
  },
  {
   "cell_type": "markdown",
   "id": "d7738210-4273-49c2-a70c-634b18fa008e",
   "metadata": {},
   "source": [
    "We will use the convenient `DatasetForTextClassification.prepare_for_training()` method to create datasets optimized for training with the Hugging Face transformers library:"
   ]
  },
  {
   "cell_type": "code",
   "execution_count": null,
   "id": "232a2d46-1516-4c7d-8d39-d55fe0d8130d",
   "metadata": {},
   "outputs": [],
   "source": [
    "from datasets import DatasetDict\n",
    "\n",
    "# Create dataset dictionary and shuffle training set\n",
    "ds = DatasetDict(\n",
    "    train=train_rg.prepare_for_training().shuffle(seed=42),\n",
    "    test=test_rg.prepare_for_training(),\n",
    ")\n"
   ]
  },
  {
   "cell_type": "markdown",
   "id": "b0be5d9c-1532-4265-8f7a-18e346e9caaf",
   "metadata": {},
   "source": [
    "Let us push the dataset to the Hub to share it with our colleagues.\n",
    "It is also an easy way to outsource the training of the model to an environment with an accelerator, like Google Colab for example."
   ]
  },
  {
   "cell_type": "code",
   "execution_count": null,
   "id": "072218ae-2167-48d8-8b93-243daff497b3",
   "metadata": {},
   "outputs": [],
   "source": [
    "# Push dataset for training our down-stream model to the HF hub\n",
    "ds.push_to_hub(\"argilla/go_emotions_training\")\n"
   ]
  },
  {
   "cell_type": "markdown",
   "id": "c0957ad2-f05d-4ea4-b303-d77495a449e9",
   "metadata": {},
   "source": [
    "### Train a transformer downstream model"
   ]
  },
  {
   "cell_type": "markdown",
   "id": "ec8cea7b-cd6f-408d-9667-249e3d66eac0",
   "metadata": {},
   "source": [
    "The following steps are basically a copy&paste from the amazing documentation of the [Hugging Face transformers](https://huggingface.co/docs/transformers) library.\n",
    "\n",
    "First, we will load the tokenizer corresponding to our model, which we choose to be the [distilled version](https://huggingface.co/distilbert-base-uncased) of the infamous BERT.\n",
    "\n",
    "<div class=\"alert alert-info\">\n",
    "\n",
    "Note\n",
    "\n",
    "Since we will use a full-blown transformer as a downstream model (albeit a distilled one), we recommend executing the following code on a machine with a GPU, or in a Google Colab with a GPU backend enabled.\n",
    "    \n",
    "</div>"
   ]
  },
  {
   "cell_type": "code",
   "execution_count": null,
   "id": "88365498-15df-4aff-ae3a-48c22e4e1a66",
   "metadata": {},
   "outputs": [],
   "source": [
    "from transformers import AutoTokenizer\n",
    "\n",
    "# Initialize tokenizer\n",
    "tokenizer = AutoTokenizer.from_pretrained(\"distilbert-base-uncased\")\n"
   ]
  },
  {
   "cell_type": "markdown",
   "id": "fd0cb66a-c31e-4811-abc3-453179ee567f",
   "metadata": {},
   "source": [
    "Afterward, we tokenize our data:"
   ]
  },
  {
   "cell_type": "code",
   "execution_count": null,
   "id": "6635d069-e242-4d89-92be-ecce502b92db",
   "metadata": {},
   "outputs": [],
   "source": [
    "def tokenize_func(examples):\n",
    "    return tokenizer(examples[\"text\"], padding=\"max_length\", truncation=True)\n",
    "\n",
    "\n",
    "# Tokenize the data\n",
    "tokenized_ds = ds.map(tokenize_func, batched=True)\n"
   ]
  },
  {
   "cell_type": "markdown",
   "id": "28d70c03-9602-472f-aa79-28777fe3b0e2",
   "metadata": {},
   "source": [
    "The transformer model expects our labels to follow a common multi-label format of binaries, so let us use [sklearn](https://scikit-learn.org/stable/modules/generated/sklearn.preprocessing.MultiLabelBinarizer.html) for this transformation."
   ]
  },
  {
   "cell_type": "code",
   "execution_count": null,
   "id": "a7efcbc6-938c-4341-9e83-e8761974deda",
   "metadata": {},
   "outputs": [],
   "source": [
    "from sklearn.preprocessing import MultiLabelBinarizer\n",
    "\n",
    "# Turn labels into multi-label format\n",
    "mb = MultiLabelBinarizer()\n",
    "mb.fit(ds[\"test\"][\"label\"])\n",
    "\n",
    "\n",
    "def binarize_labels(examples):\n",
    "    return {\"label\": mb.transform(examples[\"label\"])}\n",
    "\n",
    "\n",
    "binarized_tokenized_ds = tokenized_ds.map(binarize_labels, batched=True)\n"
   ]
  },
  {
   "cell_type": "markdown",
   "id": "e71e2cd7-50e4-4dd1-883f-f2e31d1ec051",
   "metadata": {},
   "source": [
    "Before we start the training, it is important to define our metric for the evaluation.\n",
    "Here we settle on the commonly used micro averaged *F1* metric, but we will also keep track of the *F1 per label*, for a more in-depth error analysis afterward."
   ]
  },
  {
   "cell_type": "code",
   "execution_count": null,
   "id": "d50f9ae8-2b1a-4905-b19f-62bcfa8c64d9",
   "metadata": {},
   "outputs": [],
   "source": [
    "from datasets import load_metric\n",
    "import numpy as np\n",
    "\n",
    "# Define our metrics\n",
    "metric = load_metric(\"f1\", config_name=\"multilabel\")\n",
    "\n",
    "\n",
    "def compute_metrics(eval_pred):\n",
    "    logits, labels = eval_pred\n",
    "    # apply sigmoid\n",
    "    predictions = (1.0 / (1 + np.exp(-logits))) > 0.5\n",
    "\n",
    "    # f1 micro averaged\n",
    "    metrics = metric.compute(\n",
    "        predictions=predictions, references=labels, average=\"micro\"\n",
    "    )\n",
    "    # f1 per label\n",
    "    per_label_metric = metric.compute(\n",
    "        predictions=predictions, references=labels, average=None\n",
    "    )\n",
    "    for label, f1 in zip(\n",
    "        ds[\"train\"].features[\"label\"][0].names, per_label_metric[\"f1\"]\n",
    "    ):\n",
    "        metrics[f\"f1_{label}\"] = f1\n",
    "\n",
    "    return metrics\n"
   ]
  },
  {
   "cell_type": "markdown",
   "id": "d5cf20aa-0117-438d-a960-59a85adb4d37",
   "metadata": {},
   "source": [
    "Now we are ready to load our pretrained transformer model and prepare it for our task: multi-label text classification with 6 labels."
   ]
  },
  {
   "cell_type": "code",
   "execution_count": null,
   "id": "1fa9ee91-82f0-4cb1-a1b6-10369804e22a",
   "metadata": {
    "tags": []
   },
   "outputs": [],
   "source": [
    "from transformers import AutoModelForSequenceClassification\n",
    "\n",
    "# Init our down-stream model\n",
    "model = AutoModelForSequenceClassification.from_pretrained(\n",
    "    \"distilbert-base-uncased\", problem_type=\"multi_label_classification\", num_labels=6\n",
    ")\n"
   ]
  },
  {
   "cell_type": "markdown",
   "id": "29498e65-8edc-4086-8ab7-f2db90f8a113",
   "metadata": {},
   "source": [
    "The only thing missing for the training is the `Trainer` and its `TrainingArguments`.\n",
    "To keep it simple, we mostly rely on the default arguments, that often work out of the box, but tweak a bit the batch size to train faster. \n",
    "We also checked that 2 epochs are enough for our rather small dataset."
   ]
  },
  {
   "cell_type": "code",
   "execution_count": null,
   "id": "2dd0c0bd-b7d9-4e1c-a734-8c2a8e9d57d6",
   "metadata": {},
   "outputs": [],
   "source": [
    "from transformers import TrainingArguments\n",
    "\n",
    "# Set our training arguments\n",
    "training_args = TrainingArguments(\n",
    "    output_dir=\"test_trainer\",\n",
    "    evaluation_strategy=\"epoch\",\n",
    "    num_train_epochs=2,\n",
    "    per_device_train_batch_size=16,\n",
    "    per_device_eval_batch_size=16,\n",
    ")\n"
   ]
  },
  {
   "cell_type": "code",
   "execution_count": null,
   "id": "61e0896c-dc7b-4844-95b6-a258aa8f8d1c",
   "metadata": {},
   "outputs": [],
   "source": [
    "from transformers import Trainer\n",
    "\n",
    "# Init the trainer\n",
    "trainer = Trainer(\n",
    "    model=model,\n",
    "    args=training_args,\n",
    "    train_dataset=binarized_tokenized_ds[\"train\"],\n",
    "    eval_dataset=binarized_tokenized_ds[\"test\"],\n",
    "    compute_metrics=compute_metrics,\n",
    ")\n"
   ]
  },
  {
   "cell_type": "code",
   "execution_count": null,
   "id": "1ddd25cb-1cf8-4721-a8e8-c16eb0c7aaf7",
   "metadata": {
    "tags": []
   },
   "outputs": [],
   "source": [
    "# Train the down-stream model\n",
    "trainer.train()\n"
   ]
  },
  {
   "cell_type": "markdown",
   "id": "b77e8d7e-1463-42c8-96e2-13dfe98cc318",
   "metadata": {},
   "source": [
    "We achieved an micro averaged *F1* of abut 0.54, which is not perfect, but a good baseline for this challenging dataset.\n",
    "When inspecting the *F1s per label*, we clearly see that the worst performing labels are the ones with the poorest heuristics in terms of accuracy and coverage, which comes to no surprise."
   ]
  },
  {
   "cell_type": "markdown",
   "id": "ee0dfbaa-90f3-4803-8e93-b86e1440bd51",
   "metadata": {
    "tags": []
   },
   "source": [
    "## Research topic dataset\n",
    "\n",
    "After covering a multi-label emotion classification task, we will try to do the same for a multi-label classification task related to topic modeling.\n",
    "In this dataset, research papers were classified with 6 non-exclusive labels based on their title and abstract.\n",
    "\n",
    "We will try to classify the papers only based on the title, which is considerably harder, but allows us to quickly scan through the data and come up with heuristics.\n",
    "See Appendix B for all the details of the minimal data preprocessing."
   ]
  },
  {
   "cell_type": "markdown",
   "id": "8ba65805-bfb2-4027-9231-28538a7873e8",
   "metadata": {},
   "source": [
    "### Define rules\n",
    "\n",
    "Let us start by downloading our preprocessed dataset from the Hugging Face Hub, and log it to Argilla:"
   ]
  },
  {
   "cell_type": "code",
   "execution_count": null,
   "id": "dd4cdd38-604c-4fe6-8104-fc6b136d331a",
   "metadata": {},
   "outputs": [],
   "source": [
    "import argilla as rg\n",
    "from datasets import load_dataset\n",
    "\n",
    "# Download preprocessed dataset\n",
    "ds_rb = rg.read_datasets(\n",
    "    load_dataset(\"argilla/research_titles_multi-label\", split=\"train\"),\n",
    "    task=\"TextClassification\",\n",
    ")\n"
   ]
  },
  {
   "cell_type": "code",
   "execution_count": null,
   "id": "34899478-62ae-4864-8196-36348aa568c3",
   "metadata": {},
   "outputs": [],
   "source": [
    "# Log dataset to Argilla to find good heuristics\n",
    "rg.log(ds_rb, \"research_titles\")\n"
   ]
  },
  {
   "cell_type": "markdown",
   "id": "1a95ac66-480b-4bf2-b35c-e548df16a084",
   "metadata": {},
   "source": [
    "After uploading the dataset, we can explore and inspect it to find good heuristic rules.\n",
    "For this we highly recommend the dedicated [*Define rules* mode](../../reference/webapp/features.html#weak-labelling) of the Argilla web app, that allows you to quickly iterate over heuristic rules, compute their metrics and save them.\n",
    "\n",
    "Here we copy our rules found via the web app to the notebook for you to easily follow along the tutorial."
   ]
  },
  {
   "cell_type": "code",
   "execution_count": null,
   "id": "8f85fd20-7086-4581-9078-2a28c9155997",
   "metadata": {},
   "outputs": [],
   "source": [
    "from argilla.labeling.text_classification import Rule\n",
    "\n",
    "# Define our heuristic rules (can probably be improved)\n",
    "rules = [\n",
    "    Rule(\"stock*\", \"Quantitative Finance\"),\n",
    "    Rule(\"*asset*\", \"Quantitative Finance\"),\n",
    "    Rule(\"trading\", \"Quantitative Finance\"),\n",
    "    Rule(\"finance\", \"Quantitative Finance\"),\n",
    "    Rule(\"pric*\", \"Quantitative Finance\"),\n",
    "    Rule(\"economy\", \"Quantitative Finance\"),\n",
    "    Rule(\"deep AND neural AND network*\", \"Computer Science\"),\n",
    "    Rule(\"convolutional\", \"Computer Science\"),\n",
    "    Rule(\"memor* AND (design* OR network*)\", \"Computer Science\"),\n",
    "    Rule(\"system* AND design*\", \"Computer Science\"),\n",
    "    Rule(\"allocat* AND *net*\", \"Computer Science\"),\n",
    "    Rule(\"program\", \"Computer Science\"),\n",
    "    Rule(\"classification* AND (label* OR deep)\", \"Computer Science\"),\n",
    "    Rule(\"scattering\", \"Physics\"),\n",
    "    Rule(\"astro*\", \"Physics\"),\n",
    "    Rule(\"material*\", \"Physics\"),\n",
    "    Rule(\"spin\", \"Physics\"),\n",
    "    Rule(\"magnetic\", \"Physics\"),\n",
    "    Rule(\"optical\", \"Physics\"),\n",
    "    Rule(\"ray\", \"Physics\"),\n",
    "    Rule(\"entangle*\", \"Physics\"),\n",
    "    Rule(\"*algebra*\", \"Mathematics\"),\n",
    "    Rule(\"manifold* AND (NOT learn*)\", \"Mathematics\"),\n",
    "    Rule(\"equation\", \"Mathematics\"),\n",
    "    Rule(\"spaces\", \"Mathematics\"),\n",
    "    Rule(\"operators\", \"Mathematics\"),\n",
    "    Rule(\"regression\", \"Statistics\"),\n",
    "    Rule(\"bayes*\", \"Statistics\"),\n",
    "    Rule(\"estimation\", \"Statistics\"),\n",
    "    Rule(\"mixture\", \"Statistics\"),\n",
    "    Rule(\"gaussian\", \"Statistics\"),\n",
    "    Rule(\"gene\", \"Quantitative Biology\"),\n",
    "]\n"
   ]
  },
  {
   "cell_type": "markdown",
   "id": "93311e7a-4522-4036-9151-10edc1101d3d",
   "metadata": {},
   "source": [
    "We go on and apply these heuristic rules to our dataset creating our weak label matrix.\n",
    "As mentioned in the [GoEmotions](#goemotions) section, the weak label matrix will have 3 dimensions and values of -1, 0 and 1."
   ]
  },
  {
   "cell_type": "code",
   "execution_count": null,
   "id": "c41d2c90-e550-4d44-9935-b5eeea415c67",
   "metadata": {},
   "outputs": [],
   "source": [
    "from argilla.labeling.text_classification import WeakMultiLabels\n",
    "\n",
    "# Compute the weak labels for our dataset given the rules\n",
    "# If your dataset already contains rules you can omit the rules argument.\n",
    "weak_labels = WeakMultiLabels(\"research_titles\", rules=rules)\n"
   ]
  },
  {
   "cell_type": "markdown",
   "id": "fa6a2585-58cc-4eae-b5da-e31e29fd188d",
   "metadata": {},
   "source": [
    "Let us get an overview of the our heuristics and how they perform:"
   ]
  },
  {
   "cell_type": "code",
   "execution_count": null,
   "id": "a5bfc002-0845-4d36-b2c5-8133995561ce",
   "metadata": {},
   "outputs": [],
   "source": [
    "# Check coverage/precision of our rules\n",
    "weak_labels.summary()\n"
   ]
  },
  {
   "cell_type": "markdown",
   "id": "49fd5c07-7e51-4c3f-bd7d-c6bbec5194c4",
   "metadata": {
    "tags": []
   },
   "source": [
    "### Create training set\n",
    "\n",
    "When we are happy with our heuristics, it is time to combine them and compute weak labels for the training of our downstream model.\n",
    "As for the \"GoEmotions\" dataset, we will use the simple `MajorityVoter`."
   ]
  },
  {
   "cell_type": "code",
   "execution_count": null,
   "id": "8152fabd-969d-40b1-a4fc-956f8783ce29",
   "metadata": {},
   "outputs": [],
   "source": [
    "from argilla.labeling.text_classification import MajorityVoter\n",
    "\n",
    "# Use the majority voter as the label model\n",
    "label_model = MajorityVoter(weak_labels)\n"
   ]
  },
  {
   "cell_type": "markdown",
   "id": "9cda9587-7531-4780-9bc9-489f7e6d7523",
   "metadata": {},
   "source": [
    "From our label model we get the training records together with its weak labels and probabilities.\n",
    "Since we are going to train an sklearn model, we will put the records in a pandas DataFrame that generally has a good integration with the sklearn ecosystem."
   ]
  },
  {
   "cell_type": "code",
   "execution_count": null,
   "id": "f7edc676-5c9a-4b21-82d6-1a820b466483",
   "metadata": {},
   "outputs": [],
   "source": [
    "train_df = label_model.predict().to_pandas()\n"
   ]
  },
  {
   "cell_type": "markdown",
   "id": "e01f7528-a499-49aa-a851-f41779b099df",
   "metadata": {},
   "source": [
    "Before training our model, we need to extract the training labels from the label model predictions and transform them into a multi-label compatible format."
   ]
  },
  {
   "cell_type": "code",
   "execution_count": null,
   "id": "f45f92a3-b9a8-482a-9f37-52e4802790b4",
   "metadata": {},
   "outputs": [],
   "source": [
    "# Create labels in multi-label format, we will use a threshold of 0.5 for the probability\n",
    "def multi_label_binarizer(predictions, threshold=0.5):\n",
    "    predicted_labels = [label for label, prob in predictions if prob > threshold]\n",
    "    binary_labels = [\n",
    "        1 if label in predicted_labels else 0 for label in weak_labels.labels\n",
    "    ]\n",
    "    return binary_labels\n",
    "\n",
    "\n",
    "train_df[\"label\"] = train_df.prediction.map(multi_label_binarizer)\n"
   ]
  },
  {
   "cell_type": "markdown",
   "id": "b976259c-15b6-4d61-b4e3-640f5a4282b2",
   "metadata": {},
   "source": [
    "Now, let us define our downstream model and train it.\n",
    "\n",
    "We will use the [scikit-multilearn library](http://scikit.ml/) to wrap a multinomial **Naive Bayes classifier** that is suitable for classification with discrete features (e.g., word counts for text classification).\n",
    "The `BinaryRelevance` class transforms the multi-label problem with L labels into L single-label binary classification problems, so in the end we will automatically fit L naive bayes classifiers to our data.\n",
    "\n",
    "The features for our classifier will be the counts of different word [n-grams](https://en.wikipedia.org/wiki/N-gram): that is, for each example we count the number of contiguous sequences of *n* words, where n goes from 1 to 5.\n",
    "We extract these features with the `CountVectorizer`.\n",
    "\n",
    "Finally, we will put our feature extractor and multi-label classifier in a sklearn pipeline that makes fitting and scoring the model a breeze."
   ]
  },
  {
   "cell_type": "code",
   "execution_count": null,
   "id": "7f2a5d4b-4d6a-4dc0-8533-287f92c745f4",
   "metadata": {},
   "outputs": [],
   "source": [
    "from skmultilearn.problem_transform import BinaryRelevance\n",
    "from sklearn.feature_extraction.text import CountVectorizer\n",
    "from sklearn.naive_bayes import MultinomialNB\n",
    "from sklearn.pipeline import Pipeline\n",
    "\n",
    "# Define our down-stream model\n",
    "classifier = Pipeline(\n",
    "    [(\"vect\", CountVectorizer()), (\"clf\", BinaryRelevance(MultinomialNB()))]\n",
    ")\n"
   ]
  },
  {
   "cell_type": "markdown",
   "id": "cb281796-cce4-40b8-b583-ae2574fde3e7",
   "metadata": {},
   "source": [
    "Training the model is as easy as calling the `fit` method on the our pipeline, and provide our training text and training labels."
   ]
  },
  {
   "cell_type": "code",
   "execution_count": null,
   "id": "019aae12-aab3-4d9c-9695-80018541c3ca",
   "metadata": {},
   "outputs": [],
   "source": [
    "import numpy as np\n",
    "\n",
    "# Fit the down-stream classifier\n",
    "classifier.fit(\n",
    "    X=train_df.text,\n",
    "    y=np.array(train_df.label.tolist()),\n",
    ")\n"
   ]
  },
  {
   "cell_type": "markdown",
   "id": "7cb69af9-8edc-46f8-80c9-b842d99986d2",
   "metadata": {},
   "source": [
    "To score our trained model, we retrieve its predictions of the test set and use sklearn's `classification_report` to get all important classification metrics in a nicely formatted string."
   ]
  },
  {
   "cell_type": "code",
   "execution_count": null,
   "id": "858f1c6e-99df-4918-803c-18647e2edd68",
   "metadata": {},
   "outputs": [],
   "source": [
    "# Get predictions for test set\n",
    "predictions = classifier.predict(\n",
    "    X=[rec.text for rec in weak_labels.records(has_annotation=True)]\n",
    ")\n"
   ]
  },
  {
   "cell_type": "code",
   "execution_count": null,
   "id": "8b12a128-a184-494d-a926-6100a9d252da",
   "metadata": {},
   "outputs": [],
   "source": [
    "from sklearn.metrics import classification_report\n",
    "\n",
    "# Compute metrics\n",
    "print(\n",
    "    classification_report(\n",
    "        weak_labels.annotation(), predictions, target_names=weak_labels.labels\n",
    "    )\n",
    ")\n"
   ]
  },
  {
   "cell_type": "markdown",
   "id": "dbe8a43e-0405-4d45-b117-aff8865ed305",
   "metadata": {},
   "source": [
    "We obtain a micro averaged F1 score of around 0.59, which again is not perfect but can serve as a decent baseline for future improvements.\n",
    "Looking at the F1 per label, we see that the main problem is the recall of our heuristics and we should either define more of them, or try to find more general ones. "
   ]
  },
  {
   "cell_type": "markdown",
   "id": "d66e81db-da5d-49ff-ab1a-dc8749b8783d",
   "metadata": {},
   "source": [
    "## Summary\n",
    "\n",
    "In this tutorial we saw how you can use *Argilla* to tackle multi-label text classification problems with weak supervision.\n",
    "We showed you how to train two downstream models on two different multi-label datasets using the discovered heuristics.\n",
    "\n",
    "For the emotion classification task, we trained a full-blown transformer model with Hugging Face, while for the topic classification task, we relied on a more lightweight Bayes classifier from sklearn.\n",
    "Although the results are not perfect, they can serve as a good baseline for future improvements.\n",
    "\n",
    "So the next time you encounter a multi-label classification problem, maybe try out weak supervision with *Argilla* and save some time for your annotation team 😀."
   ]
  },
  {
   "cell_type": "markdown",
   "id": "dd4b7565-f21a-48c8-99ce-278450a2705b",
   "metadata": {
    "tags": []
   },
   "source": [
    "## Next steps"
   ]
  },
  {
   "cell_type": "markdown",
   "id": "6fda0f2f-683f-4820-8516-dd12e58bd321",
   "metadata": {},
   "source": [
    "⭐ Star Argilla [Github repo](https://github.com/argilla-io/argilla) to stay updated.\n",
    "\n",
    "📚 [Argilla documentation](https://docs.argilla.io) for more guides and tutorials.\n",
    "\n",
    "🙋‍♀️ Join the Argilla community! A good place to start is the [discussion forum](https://github.com/argilla-io/argilla/discussions)."
   ]
  },
  {
   "cell_type": "markdown",
   "id": "303c082b-38c7-4f3a-94a7-ab0cdbc5acbe",
   "metadata": {
    "tags": []
   },
   "source": [
    "## Appendix A\n",
    "\n",
    "This appendix summarizes the preprocessing steps for our curated *GoEmotions* dataset.\n",
    "The goal was to limit the labels, and down-sample single-label annotations to move the focus to multi-label outputs."
   ]
  },
  {
   "cell_type": "code",
   "execution_count": null,
   "id": "16336e27-c99c-4a51-b81b-bc63fb26daa2",
   "metadata": {},
   "outputs": [],
   "source": [
    "# load original dataset and check label frequencies\n",
    "\n",
    "import pandas as pd\n",
    "import datasets\n",
    "\n",
    "go_emotions = datasets.load_dataset(\"go_emotions\")\n",
    "df = go_emotions[\"test\"].to_pandas()\n",
    "\n",
    "\n",
    "def int2str(i):\n",
    "    # return int(i)\n",
    "    return go_emotions[\"train\"].features[\"labels\"].feature.int2str(int(i))\n",
    "\n",
    "\n",
    "label_freq = []\n",
    "idx_multi = df.labels.map(lambda x: len(x) > 1)\n",
    "df[\"is_single\"] = df.labels.map(lambda x: 0 if len(x) > 1 else 1)\n",
    "df[idx_multi].labels.map(lambda x: [label_freq.append(int(l)) for l in x])\n",
    "pd.Series(label_freq).value_counts()\n"
   ]
  },
  {
   "cell_type": "code",
   "execution_count": null,
   "id": "31b129f2-b92c-4ac7-a2aa-e6601dc9404c",
   "metadata": {},
   "outputs": [],
   "source": [
    "# limit labels, down-sample single-label annotations and create Argilla records\n",
    "\n",
    "import argilla as rg\n",
    "\n",
    "\n",
    "def create(split: str) -> pd.DataFrame:\n",
    "    df = go_emotions[split].to_pandas()\n",
    "    df[\"is_single\"] = df.labels.map(lambda x: 0 if len(x) > 1 else 1)\n",
    "\n",
    "    # ['admiration', 'approval', 'annoyance', 'gratitude', 'curiosity', 'optimism', 'amusement']\n",
    "    idx_most_common = df.labels.map(\n",
    "        lambda x: all([int(label) in [0, 4, 3, 15, 7, 15, 20] for label in x])\n",
    "    )\n",
    "    df_multi = df[(df.is_single == 0) & idx_most_common]\n",
    "    df_single = df[idx_most_common].sample(\n",
    "        3 * len(df_multi), weights=\"is_single\", axis=0, random_state=42\n",
    "    )\n",
    "    return pd.concat([df_multi, df_single]).sample(frac=1, random_state=42)\n",
    "\n",
    "\n",
    "def make_records(row, is_train: bool) -> rg.TextClassificationRecord:\n",
    "    annotation = [int2str(i) for i in row.labels] if not is_train else None\n",
    "    return rg.TextClassificationRecord(\n",
    "        inputs=row.text,\n",
    "        annotation=annotation,\n",
    "        multi_label=True,\n",
    "        id=row.id,\n",
    "    )\n",
    "\n",
    "\n",
    "train_recs = create(\"train\").apply(make_records, axis=1, is_train=True)\n",
    "test_recs = create(\"test\").apply(make_records, axis=1, is_train=False)\n",
    "\n",
    "records = train_recs.to_list() + test_recs.tolist()\n"
   ]
  },
  {
   "cell_type": "code",
   "execution_count": null,
   "id": "1f854543-63ea-4b52-bf17-cf33ec604e53",
   "metadata": {},
   "outputs": [],
   "source": [
    "# publish dataset in the Hub\n",
    "\n",
    "ds_rb = rg.DatasetForTextClassification(records).to_datasets()\n",
    "\n",
    "ds_rg.push_to_hub(\"argilla/go_emotions_multi-label\", private=True)\n"
   ]
  },
  {
   "cell_type": "markdown",
   "id": "ef1de2b1-97be-4372-8919-2dfc422a86b1",
   "metadata": {},
   "source": [
    "## Appendix B\n",
    "\n",
    "This appendix summarizes the minimal preprocessing done to [this multi-label classification dataset](https://www.kaggle.com/shivanandmn/multilabel-classification-dataset) from Kaggle.\n",
    "You can download the original data (`train.csv`) following the Kaggle link.\n",
    "\n",
    "The preprocessing consists of extracting only the title from the research paper, and split the data into a train and validation set."
   ]
  },
  {
   "cell_type": "code",
   "execution_count": null,
   "id": "708ac8e3-b809-430a-941a-ac0d5fb36446",
   "metadata": {},
   "outputs": [],
   "source": [
    "# Extract the title and split the data\n",
    "\n",
    "import pandas as pd\n",
    "import argilla as rg\n",
    "from sklearn.model_selection import train_test_split\n",
    "\n",
    "df = pd.read_csv(\"train.csv\")\n",
    "\n",
    "_, test_id = train_test_split(df.ID, test_size=0.2, random_state=42)\n",
    "\n",
    "labels = [\n",
    "    \"Computer Science\",\n",
    "    \"Physics\",\n",
    "    \"Mathematics\",\n",
    "    \"Statistics\",\n",
    "    \"Quantitative Biology\",\n",
    "    \"Quantitative Finance\",\n",
    "]\n",
    "\n",
    "\n",
    "def make_record(row):\n",
    "    annotation = [label for label in labels if row[label] == 1]\n",
    "    return rg.TextClassificationRecord(\n",
    "        inputs=row.TITLE,\n",
    "        # inputs={\"title\": row.TITLE, \"abstract\": row.ABSTRACT},\n",
    "        annotation=annotation if row.ID in test_id else None,\n",
    "        multi_label=True,\n",
    "        id=row.ID,\n",
    "    )\n",
    "\n",
    "\n",
    "records = df.apply(make_record, axis=1)\n"
   ]
  },
  {
   "cell_type": "code",
   "execution_count": null,
   "id": "b47a6b98-d0a1-459e-b5bd-3514d5692d42",
   "metadata": {},
   "outputs": [],
   "source": [
    "# publish the dataset in the Hub\n",
    "\n",
    "dataset_rg = rg.DatasetForTextClassification(records.tolist())\n",
    "\n",
    "dataset_rg.to_datasets().push_to_hub(\"argilla/research_titles_multi-label\")\n"
   ]
  }
 ],
 "metadata": {
  "kernelspec": {
   "display_name": "Python 3.9.13 ('argilla')",
   "language": "python",
   "name": "python3"
  },
  "language_info": {
   "codemirror_mode": {
    "name": "ipython",
    "version": 3
   },
   "file_extension": ".py",
   "mimetype": "text/x-python",
   "name": "python",
   "nbconvert_exporter": "python",
   "pygments_lexer": "ipython3",
   "version": "3.9.13"
  },
  "vscode": {
   "interpreter": {
    "hash": "83e13ff0de9ea08cace169d1016bf08ce368842307fd88824f08736a0a9ca04b"
   }
  }
 },
 "nbformat": 4,
 "nbformat_minor": 5
}
