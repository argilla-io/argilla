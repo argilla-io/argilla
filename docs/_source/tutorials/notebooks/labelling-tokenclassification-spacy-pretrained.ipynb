{
 "cells": [
  {
   "cell_type": "markdown",
   "metadata": {},
   "source": [
    "# 💫  Explore and analyze `spaCy` NER pipelines\n",
    "\n",
    "In this tutorial, we will learn to log [spaCy](https://spacy.io/) Name Entity Recognition (NER) predictions. \n",
    "\n",
    "This is useful for: \n",
    "\n",
    "- 🧐Evaluating pre-trained models.\n",
    "- 🔎Spotting frequent errors both during development and production. \n",
    "- 📈Improving your pipelines over time using Argilla annotation mode.\n",
    "- 🎮Monitoring your model predictions using Argilla integration with Kibana\n",
    "\n",
    "Let's get started!\n",
    "\n",
    "\n",
    "![labelling-tokenclassification-spacy-pretrained](../../_static/tutorials/labelling-tokenclassification-spacy-pretrained/labelling-tokenclassification-spacy-pretrained.png)\n"
   ]
  },
  {
   "cell_type": "markdown",
   "metadata": {},
   "source": [
    "## Introduction\n",
    "\n",
    "In this tutorial we will learn how to explore and analyze spaCy NER pipelines in an easy way.\n",
    "\n",
    "We will load the [*Gutenberg Time*](https://huggingface.co/datasets/gutenberg_time) dataset from the Hugging Face Hub and use a transformer-based spaCy model for detecting entities in this dataset and log the detected entities into a Argilla dataset. This dataset can be used for exploring the quality of predictions and for creating a new training set, by correcting, adding and validating entities.\n",
    "\n",
    "Then, we will use a smaller spaCy model for detecting entities and log the detected entities into the same Argilla dataset for comparing its predictions with the previous model. And, as a bonus, we will use Argilla and spaCy on a more challenging dataset: IMDB."
   ]
  },
  {
   "cell_type": "markdown",
   "metadata": {},
   "source": [
    "## Setup\n",
    "\n",
    "For this tutorial we also need the third party libraries datasets and of course spaCy together with pytorch, which can be installed via git:"
   ]
  },
  {
   "cell_type": "code",
   "execution_count": null,
   "metadata": {},
   "outputs": [],
   "source": [
    "%pip install torch -qqq\n",
    "%pip install datasets \"spacy[transformers]~=3.0\" protobuf -qqq "
   ]
  },
  {
   "cell_type": "markdown",
   "metadata": {},
   "source": [
    "<div class=\"alert alert-info\">\n",
    "\n",
    "Note\n",
    "\n",
    "If you want to skip running the spaCy pipelines, you can also load the resulting Argilla records directly from the [Hugging Face Hub](https://huggingface.co/datasets), and continue the tutorial logging them to the Argilla web app.\n",
    "For example:\n",
    "    \n",
    "```python\n",
    "import argilla as rg\n",
    "from datasets import load_dataset\n",
    "\n",
    "records = rg.read_datasets(\n",
    "    load_dataset(\"argilla/gutenberg_spacy_ner\", split=\"train\"),\n",
    "    task=\"TokenClassification\",\n",
    ")\n",
    "```\n",
    "\n",
    "The Argilla records of this tutorial are available under the names _\"argilla/gutenberg_spacy_ner\"_ and _\"argilla/imdb_spacy_ner\"_.\n",
    "\n",
    "</div>"
   ]
  },
  {
   "cell_type": "markdown",
   "metadata": {},
   "source": [
    "## Our dataset\n",
    "For this tutorial, we're going to use the [*Gutenberg Time*](https://huggingface.co/datasets/gutenberg_time) dataset from the Hugging Face Hub. It contains all explicit time references in a dataset of 52,183 novels whose full text is available via Project Gutenberg. From extracts of novels, we are surely going to find some NER entities."
   ]
  },
  {
   "cell_type": "code",
   "execution_count": null,
   "metadata": {},
   "outputs": [],
   "source": [
    "from datasets import load_dataset\n",
    "\n",
    "dataset = load_dataset(\"gutenberg_time\", split=\"train\", streaming=True)"
   ]
  },
  {
   "cell_type": "markdown",
   "metadata": {},
   "source": [
    "Let's have a look at the first 5 examples of the train set. "
   ]
  },
  {
   "cell_type": "code",
   "execution_count": 2,
   "metadata": {},
   "outputs": [
    {
     "data": {
      "text/html": [
       "<div>\n",
       "<style scoped>\n",
       "    .dataframe tbody tr th:only-of-type {\n",
       "        vertical-align: middle;\n",
       "    }\n",
       "\n",
       "    .dataframe tbody tr th {\n",
       "        vertical-align: top;\n",
       "    }\n",
       "\n",
       "    .dataframe thead th {\n",
       "        text-align: right;\n",
       "    }\n",
       "</style>\n",
       "<table border=\"1\" class=\"dataframe\">\n",
       "  <thead>\n",
       "    <tr style=\"text-align: right;\">\n",
       "      <th></th>\n",
       "      <th>guten_id</th>\n",
       "      <th>hour_reference</th>\n",
       "      <th>time_phrase</th>\n",
       "      <th>is_ambiguous</th>\n",
       "      <th>time_pos_start</th>\n",
       "      <th>time_pos_end</th>\n",
       "      <th>tok_context</th>\n",
       "    </tr>\n",
       "  </thead>\n",
       "  <tbody>\n",
       "    <tr>\n",
       "      <th>0</th>\n",
       "      <td>4447</td>\n",
       "      <td>5</td>\n",
       "      <td>five o'clock</td>\n",
       "      <td>True</td>\n",
       "      <td>145</td>\n",
       "      <td>147</td>\n",
       "      <td>I crossed the ground she had traversed , notin...</td>\n",
       "    </tr>\n",
       "    <tr>\n",
       "      <th>1</th>\n",
       "      <td>4447</td>\n",
       "      <td>12</td>\n",
       "      <td>the fall of the winter noon</td>\n",
       "      <td>True</td>\n",
       "      <td>68</td>\n",
       "      <td>74</td>\n",
       "      <td>So profoundly penetrated with thoughtfulness w...</td>\n",
       "    </tr>\n",
       "    <tr>\n",
       "      <th>2</th>\n",
       "      <td>28999</td>\n",
       "      <td>12</td>\n",
       "      <td>midday</td>\n",
       "      <td>True</td>\n",
       "      <td>46</td>\n",
       "      <td>47</td>\n",
       "      <td>And here is Hendon , and it is time for us to ...</td>\n",
       "    </tr>\n",
       "    <tr>\n",
       "      <th>3</th>\n",
       "      <td>28999</td>\n",
       "      <td>12</td>\n",
       "      <td>midday</td>\n",
       "      <td>True</td>\n",
       "      <td>133</td>\n",
       "      <td>134</td>\n",
       "      <td>Sorrows and trials she had had in plenty in he...</td>\n",
       "    </tr>\n",
       "    <tr>\n",
       "      <th>4</th>\n",
       "      <td>28999</td>\n",
       "      <td>0</td>\n",
       "      <td>midnight</td>\n",
       "      <td>True</td>\n",
       "      <td>43</td>\n",
       "      <td>44</td>\n",
       "      <td>Jeannie joined her friend in the window-seat ....</td>\n",
       "    </tr>\n",
       "  </tbody>\n",
       "</table>\n",
       "</div>"
      ],
      "text/plain": [
       "  guten_id hour_reference                  time_phrase  is_ambiguous  \\\n",
       "0     4447              5                 five o'clock          True   \n",
       "1     4447             12  the fall of the winter noon          True   \n",
       "2    28999             12                       midday          True   \n",
       "3    28999             12                       midday          True   \n",
       "4    28999              0                     midnight          True   \n",
       "\n",
       "   time_pos_start  time_pos_end  \\\n",
       "0             145           147   \n",
       "1              68            74   \n",
       "2              46            47   \n",
       "3             133           134   \n",
       "4              43            44   \n",
       "\n",
       "                                         tok_context  \n",
       "0  I crossed the ground she had traversed , notin...  \n",
       "1  So profoundly penetrated with thoughtfulness w...  \n",
       "2  And here is Hendon , and it is time for us to ...  \n",
       "3  Sorrows and trials she had had in plenty in he...  \n",
       "4  Jeannie joined her friend in the window-seat ....  "
      ]
     },
     "execution_count": 2,
     "metadata": {},
     "output_type": "execute_result"
    }
   ],
   "source": [
    "import pandas as pd\n",
    "\n",
    "pd.DataFrame(dataset.take(5))"
   ]
  },
  {
   "cell_type": "markdown",
   "metadata": {},
   "source": [
    "## Logging spaCy NER entities into Argilla\n",
    "\n",
    "### Using a Transformer-based pipeline\n",
    "\n",
    "Let's download our Roberta-based pretrained pipeline and instantiate a spaCy `nlp` pipeline with it."
   ]
  },
  {
   "cell_type": "code",
   "execution_count": null,
   "metadata": {
    "tags": []
   },
   "outputs": [],
   "source": [
    "!python -m spacy download en_core_web_trf"
   ]
  },
  {
   "cell_type": "code",
   "execution_count": null,
   "metadata": {},
   "outputs": [],
   "source": [
    "import spacy\n",
    "\n",
    "nlp = spacy.load(\"en_core_web_trf\")"
   ]
  },
  {
   "cell_type": "markdown",
   "metadata": {},
   "source": [
    "Now let's apply the nlp pipeline to the first 50 examples in our dataset, collecting the **tokens** and **NER entities**."
   ]
  },
  {
   "cell_type": "code",
   "execution_count": null,
   "metadata": {
    "tags": []
   },
   "outputs": [],
   "source": [
    "import argilla as rg\n",
    "from tqdm.auto import tqdm\n",
    "\n",
    "# Creating an empty record list to save all the records\n",
    "records = []\n",
    "\n",
    "# Iterate over the first 50 examples of the Gutenberg dataset\n",
    "for record in tqdm(list(dataset.take(50))):\n",
    "    \n",
    "    # We only need the text of each instance\n",
    "    text = record[\"tok_context\"]\n",
    "    \n",
    "    # spaCy Doc creation\n",
    "    doc = nlp(text)    \n",
    "    \n",
    "    # Entity annotations\n",
    "    entities = [\n",
    "        (ent.label_, ent.start_char, ent.end_char)  \n",
    "        for ent in doc.ents\n",
    "    ] \n",
    "\n",
    "    # Pre-tokenized input text\n",
    "    tokens = [token.text for token in doc]\n",
    "    \n",
    "    # Argilla TokenClassificationRecord list\n",
    "    records.append(\n",
    "        rg.TokenClassificationRecord(\n",
    "            text=text,\n",
    "            tokens=tokens,\n",
    "            prediction=entities,\n",
    "            prediction_agent=\"en_core_web_trf\", \n",
    "        )\n",
    "    )"
   ]
  },
  {
   "cell_type": "code",
   "execution_count": null,
   "metadata": {},
   "outputs": [],
   "source": [
    "rg.log(records=records, name=\"gutenberg_spacy_ner\")"
   ]
  },
  {
   "cell_type": "markdown",
   "metadata": {},
   "source": [
    "If you go to the `gutenberg_spacy_ner` dataset in Argilla you can explore the predictions of this model.\n",
    "\n",
    "You can:\n",
    "\n",
    "- Filter records containing specific entity types,\n",
    "- See the most frequent \"mentions\" or surface forms for each entity. Mentions are the string values of specific entity types, such as for example \"1 month\" can be the mention of a duration entity. This is useful for error analysis, to quickly see potential issues and problematic entity types,\n",
    "- Use the free-text search to find records containing specific words, \n",
    "- And validate, include or reject specific entity annotations to build a new training set."
   ]
  },
  {
   "cell_type": "markdown",
   "metadata": {},
   "source": [
    "### Using a smaller but more efficient pipeline\n",
    "\n",
    "Now let's compare with a smaller, but more efficient pre-trained model. \n",
    "\n",
    "Let's first download it:"
   ]
  },
  {
   "cell_type": "code",
   "execution_count": null,
   "metadata": {},
   "outputs": [],
   "source": [
    "!python -m spacy download en_core_web_sm"
   ]
  },
  {
   "cell_type": "code",
   "execution_count": null,
   "metadata": {},
   "outputs": [],
   "source": [
    "import spacy\n",
    "\n",
    "nlp = spacy.load(\"en_core_web_sm\")"
   ]
  },
  {
   "cell_type": "code",
   "execution_count": null,
   "metadata": {},
   "outputs": [],
   "source": [
    "# Creating an empty record list to save all the records\n",
    "records = []\n",
    "\n",
    "# Iterate over the first 50 examples of the Gutenberg dataset\n",
    "for record in tqdm(list(dataset.take(50))):\n",
    "    \n",
    "    # We only need the text of each instance\n",
    "    text = record[\"tok_context\"]\n",
    "    \n",
    "    # spaCy Doc creation\n",
    "    doc = nlp(text)\n",
    "    \n",
    "    # Entity annotations\n",
    "    entities = [\n",
    "        (ent.label_, ent.start_char, ent.end_char)  \n",
    "        for ent in doc.ents\n",
    "    ] \n",
    "\n",
    "    # Pre-tokenized input text\n",
    "    tokens = [token.text for token in doc]\n",
    "\n",
    "    # Argilla TokenClassificationRecord list\n",
    "    records.append(\n",
    "        rg.TokenClassificationRecord(\n",
    "            text=text,\n",
    "            tokens=tokens,\n",
    "            prediction=entities,\n",
    "            prediction_agent=\"en_core_web_sm\",\n",
    "        )\n",
    "    )"
   ]
  },
  {
   "cell_type": "code",
   "execution_count": null,
   "metadata": {},
   "outputs": [],
   "source": [
    "rg.log(records=records, name=\"gutenberg_spacy_ner\")"
   ]
  },
  {
   "cell_type": "markdown",
   "metadata": {},
   "source": [
    "## Exploring and comparing `en_core_web_sm` and `en_core_web_trf` models"
   ]
  },
  {
   "cell_type": "markdown",
   "metadata": {},
   "source": [
    "If you go to your `gutenberg_spacy_ner` dataset, you can explore and compare the results of both models. \n",
    "\n",
    "To only see predictions of a specific model, you can use the `predicted by` filter, which comes from the `prediction_agent` parameter of your `TextClassificationRecord`.\n"
   ]
  },
  {
   "cell_type": "markdown",
   "metadata": {},
   "source": [
    "## Explore the IMDB dataset"
   ]
  },
  {
   "cell_type": "markdown",
   "metadata": {},
   "source": [
    "So far, both **spaCy pretrained models** seem to work pretty well. Let's try with a more challenging dataset, which is more dissimilar to the original training data these models have been trained on. "
   ]
  },
  {
   "cell_type": "code",
   "execution_count": null,
   "metadata": {},
   "outputs": [],
   "source": [
    "imdb = load_dataset(\"imdb\", split=\"test\")"
   ]
  },
  {
   "cell_type": "code",
   "execution_count": null,
   "metadata": {},
   "outputs": [],
   "source": [
    "records = []\n",
    "for record in tqdm(imdb.select(range(50))):\n",
    "    # We only need the text of each instance\n",
    "    text = record[\"text\"]\n",
    "    \n",
    "    # spaCy Doc creation\n",
    "    doc = nlp(text)    \n",
    "    \n",
    "    # Entity annotations\n",
    "    entities = [\n",
    "        (ent.label_, ent.start_char, ent.end_char)  \n",
    "        for ent in doc.ents\n",
    "    ] \n",
    "\n",
    "    # Pre-tokenized input text\n",
    "    tokens = [token.text  for token in doc]\n",
    "    \n",
    "    # Argilla TokenClassificationRecord list\n",
    "    records.append(\n",
    "        rg.TokenClassificationRecord(\n",
    "            text=text,\n",
    "            tokens=tokens,\n",
    "            prediction=entities,\n",
    "            prediction_agent=\"en_core_web_sm\",\n",
    "        )\n",
    "    )"
   ]
  },
  {
   "cell_type": "code",
   "execution_count": null,
   "metadata": {},
   "outputs": [],
   "source": [
    "rg.log(records=records, name=\"imdb_spacy_ner\")"
   ]
  },
  {
   "cell_type": "markdown",
   "metadata": {},
   "source": [
    "Exploring this dataset highlights **the need of fine-tuning for specific domains**.\n",
    "\n",
    "For example, if we check the most frequent mentions for Person, we find two highly frequent missclassified entities: **gore** (the film genre) and **Oscar** (the prize). \n",
    "\n",
    "You can easily check every example by using the filters and search-box."
   ]
  },
  {
   "cell_type": "markdown",
   "metadata": {},
   "source": [
    "## Summary\n",
    "In this tutorial, you learned how to log and explore different `spaCy` NER models with Argilla. Now you can:\n",
    "\n",
    "- Build custom dashboards using Kibana to monitor and visualize spaCy models.\n",
    "- Build training sets using pre-trained spaCy models."
   ]
  },
  {
   "cell_type": "markdown",
   "metadata": {},
   "source": [
    "## Next steps\n",
    "\n",
    "📚 [Argilla documentation](https://docs.argilla.io) for more guides and tutorials.\n",
    "\n",
    "🙋‍♀️ Join the Argilla community! A good place to start is the [discussion forum](https://github.com/recognai/rubrix/discussions).\n",
    "\n",
    "⭐ Argilla [Github repo](https://github.com/recognai/rubrix) to stay updated."
   ]
  },
  {
   "cell_type": "markdown",
   "metadata": {},
   "source": [
    "## Appendix: Log datasets to the Hugging Face Hub\n",
    "\n",
    "Here we will show you an example of how you can push a Argilla dataset (records) to the [Hugging Face Hub](https://huggingface.co/datasets).\n",
    "In this way you can effectively version any of your Argilla datasets."
   ]
  },
  {
   "cell_type": "code",
   "execution_count": null,
   "metadata": {},
   "outputs": [],
   "source": [
    "records = rg.load(\"gutenberg_spacy_ner\")\n",
    "records.to_datasets().push_to_hub(\"<name of the dataset on the HF Hub>\")"
   ]
  }
 ],
 "metadata": {
  "kernelspec": {
   "display_name": "Python 3.10.6 ('argillaghost-Q0BOJQE3-py3.10')",
   "language": "python",
   "name": "python3"
  },
  "language_info": {
   "codemirror_mode": {
    "name": "ipython",
    "version": 3
   },
   "file_extension": ".py",
   "mimetype": "text/x-python",
   "name": "python",
   "nbconvert_exporter": "python",
   "pygments_lexer": "ipython3",
   "version": "3.10.6"
  },
  "metadata": {
   "interpreter": {
    "hash": "0f338a8622467eba0ef87b9a79c52cc260cef0b0d60c3c739596fb787bf801dd"
   }
  },
  "vscode": {
   "interpreter": {
    "hash": "03f665a1a0825a92bc240e01069a3e92c7de5b4cc92abab3eda948bbc50d6f03"
   }
  }
 },
 "nbformat": 4,
 "nbformat_minor": 4
}
