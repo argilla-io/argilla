{
 "cells": [
  {
   "attachments": {},
   "cell_type": "markdown",
   "metadata": {},
   "source": [
    "# 🩹 Delete labels from a Token or Text Classification dataset\n",
    "\n",
    "It's not uncommon to find yourself wanting to delete one of the labels in your dataset, maybe because you changed your mind or because you want to correct the name of the label. However, this is not a trivial change, as it has implications down the line if the dataset already has annotations and can trigger errors.\n",
    "\n",
    "In this tutorial, you will learn how to delete, modify or merge labels to deal with this situation when using Token and Text Classification datasets.\n",
    "\n",
    "\n",
    "Let's get started!\n",
    "\n",
    "<div class=\"alert alert-info\">\n",
    "\n",
    "Note \n",
    "\n",
    "This tutorial is a Jupyter Notebook. There are two options to run it:\n",
    "\n",
    "- Use the Open in Colab button at the top of this page. This option allows you to run the notebook directly on Google Colab. Don't forget to change the runtime type to GPU for faster model training and inference.\n",
    "- Download the .ipynb file by clicking on the View source link at the top of the page. This option allows you to download the notebook and run it on your local machine or on a Jupyter notebook tool of your choice.\n",
    "\n",
    "</div>\n"
   ]
  },
  {
   "attachments": {},
   "cell_type": "markdown",
   "metadata": {},
   "source": [
    "## Setup\n",
    "\n",
    "For this tutorial, you will need to have an Argilla server running. If you don't have one already, check out our [Quickstart](../../../getting_started/quickstart.md) or [Installation](../../../getting_started/installation/installation.md) pages. Once you do, complete the following steps:\n",
    "\n",
    "1. Install the Argilla client and the required third party libraries using `pip`:"
   ]
  },
  {
   "cell_type": "code",
   "execution_count": null,
   "metadata": {},
   "outputs": [],
   "source": [
    "%pip install --upgrade argilla -qqq"
   ]
  },
  {
   "attachments": {},
   "cell_type": "markdown",
   "metadata": {},
   "source": [
    "2. Let's make the necessary imports:"
   ]
  },
  {
   "cell_type": "code",
   "execution_count": null,
   "metadata": {},
   "outputs": [],
   "source": [
    "import argilla as rg"
   ]
  },
  {
   "attachments": {},
   "cell_type": "markdown",
   "metadata": {},
   "source": [
    "3. If you are running Argilla using the Docker quickstart image or Hugging Face Spaces, you need to init the Argilla client with the `URL` and `API_KEY`:"
   ]
  },
  {
   "cell_type": "code",
   "execution_count": null,
   "metadata": {},
   "outputs": [],
   "source": [
    "# Replace api_url with the url to your HF Spaces URL if using Spaces\n",
    "# Replace api_key if you configured a custom API key\n",
    "rg.init(\n",
    "    api_url=\"http://localhost:6900\", \n",
    "    api_key=\"admin.apikey\"\n",
    ")"
   ]
  },
  {
   "attachments": {},
   "cell_type": "markdown",
   "metadata": {},
   "source": [
    "## First steps"
   ]
  },
  {
   "attachments": {},
   "cell_type": "markdown",
   "metadata": {},
   "source": [
    "Let's set some variables to avoid making mistakes down the line. "
   ]
  },
  {
   "cell_type": "code",
   "execution_count": null,
   "metadata": {},
   "outputs": [],
   "source": [
    "# save the name of the dataset that we will be working with\n",
    "dataset_name = \"my_dataset\"\n",
    "\n",
    "# and set the workspace where the dataset is located\n",
    "rg.set_workspace(\"my_workspace\")"
   ]
  },
  {
   "attachments": {},
   "cell_type": "markdown",
   "metadata": {},
   "source": [
    "Optionally, you can create a backup of the dataset in case we want to revert the changes. To do that, you may want to create a workspace dedicated to saving backups and copy the dataset there."
   ]
  },
  {
   "cell_type": "code",
   "execution_count": null,
   "metadata": {},
   "outputs": [],
   "source": [
    "# optional: create a new workspace for the backups.\n",
    "backups_ws = rg.Workspace.create(\"backups\")"
   ]
  },
  {
   "cell_type": "code",
   "execution_count": null,
   "metadata": {},
   "outputs": [],
   "source": [
    "# optional: if you want users without the owner role to have access to this workspace\n",
    "# change `username` and run this cell.\n",
    "user = rg.User.from_name(\"username\")\n",
    "backups_ws.add_user(user.id)"
   ]
  },
  {
   "cell_type": "code",
   "execution_count": null,
   "metadata": {},
   "outputs": [],
   "source": [
    "# copy the dataset in the new workspace\n",
    "rg.copy(dataset_name, name_of_copy=f\"{dataset_name}_backup\", workspace=backups_ws.name)"
   ]
  },
  {
   "attachments": {},
   "cell_type": "markdown",
   "metadata": {},
   "source": [
    "Let's load the settings and take a look at the available labels.\n",
    "\n",
    ".. tip:: Use the result to copy-paste the name(s) of the label(s) you will use to avoid mistakes.\n"
   ]
  },
  {
   "cell_type": "code",
   "execution_count": null,
   "metadata": {},
   "outputs": [],
   "source": [
    "settings = rg.load_dataset_settings(dataset_name)"
   ]
  },
  {
   "cell_type": "code",
   "execution_count": null,
   "metadata": {},
   "outputs": [],
   "source": [
    "# run this cell if you need to read or copy the labels\n",
    "settings.label_schema"
   ]
  },
  {
   "attachments": {},
   "cell_type": "markdown",
   "metadata": {},
   "source": [
    "Now, save some variables with the label that you want to change (`old_label`) and what you want to change it to (`new_label`). Depending on what you intend to do, you will choose between one of these options:\n",
    "\n",
    "1. If you want to change the text of the label, you will save the new text in `new_label`.\n",
    "2. If you want to merge the annotations of one label with another existing label, you will save the label you wish to remove in `old_label` and the label that will contain the annotations now in `new_label`. \n",
    "3. If you want to remove a label and all its annotations, you will need to delete/comment out `new_label` or set it to `None`."
   ]
  },
  {
   "cell_type": "code",
   "execution_count": null,
   "metadata": {},
   "outputs": [],
   "source": [
    "# set the old and new labels as variables, to avoid errors down the line\n",
    "old_label = \"old_label\"\n",
    "# comment out or set to None if you want to remove the label\n",
    "new_label = \"new_label\""
   ]
  },
  {
   "attachments": {},
   "cell_type": "markdown",
   "metadata": {},
   "source": [
    "If you are using the `new_label` variable to add a label that isn't present in the current schema, you will need to add it now. If not, skip the following cell."
   ]
  },
  {
   "cell_type": "code",
   "execution_count": null,
   "metadata": {},
   "outputs": [],
   "source": [
    "# add any labels that were not present in the original settings\n",
    "settings.label_schema.append(new_label)"
   ]
  },
  {
   "attachments": {},
   "cell_type": "markdown",
   "metadata": {},
   "source": [
    "## Remove the unwanted label from the records"
   ]
  },
  {
   "attachments": {},
   "cell_type": "markdown",
   "metadata": {},
   "source": [
    "Before you can change the settings of our dataset, you will need to remove the label that you want to delete from all annotations and predictions in the records, otherwise you'll get an error. To do that, first, fetch all the records that have the label using a query."
   ]
  },
  {
   "cell_type": "code",
   "execution_count": null,
   "metadata": {},
   "outputs": [],
   "source": [
    "# get all records with the old label in the annotations or predictions\n",
    "records = rg.load(dataset_name, query=f\"annotated_as:{old_label} OR predicted_as:{old_label}\")\n",
    "len(records)"
   ]
  },
  {
   "attachments": {},
   "cell_type": "markdown",
   "metadata": {},
   "source": [
    "Now, you can clean all the examples of our label inside the annotations and predictions. "
   ]
  },
  {
   "cell_type": "code",
   "execution_count": null,
   "metadata": {},
   "outputs": [],
   "source": [
    "def cleaning_function(labels, old_label, new_label):\n",
    "\n",
    "    # replaces / removes string labels (e.g. TextClassification)\n",
    "    if isinstance(labels, str):\n",
    "        if labels==old_label:\n",
    "            labels = new_label\n",
    "\n",
    "    elif isinstance(labels, list):\n",
    "        # replaces / removes labels in a list (e.g. multi-label TextClassification)\n",
    "        if isinstance(labels[0], str):\n",
    "            if old_label in labels:\n",
    "                if new_label == None:\n",
    "                    labels.remove(old_label)\n",
    "                else:\n",
    "                    labels = [new_label if label == old_label else label for label in labels]\n",
    "\n",
    "        # replaces / removes lables in a list of tuples (e.g. Predictions, TokenClassification)\n",
    "        elif isinstance(labels[0], tuple):\n",
    "            for ix,label in enumerate(labels):\n",
    "                if label[0]==old_label:\n",
    "                    if new_label == None:\n",
    "                        labels.remove(label)\n",
    "                    else:\n",
    "                        new_label = list(label)\n",
    "                        new_label[0] = new_label\n",
    "                        labels[ix] = tuple(new_label)\n",
    "\n",
    "    return labels"
   ]
  },
  {
   "cell_type": "code",
   "execution_count": null,
   "metadata": {},
   "outputs": [],
   "source": [
    "# loop over the records and make the correction in the predictions and annotations\n",
    "for record in records:\n",
    "    if record.prediction:\n",
    "        record.prediction = cleaning_function(record.prediction, old_label, new_label)\n",
    "    if record.annotation:\n",
    "        record.annotation = cleaning_function(record.annotation, old_label, new_label) \n",
    "        record.status = \"Default\""
   ]
  },
  {
   "attachments": {},
   "cell_type": "markdown",
   "metadata": {},
   "source": [
    ".. hint:: If you are changing the name of the label to correct a typo or you are removing the label from a **Token Classification** dataset or a **multi-label Text Classification** dataset, you may skip changing the status of the records to `Default`. \n",
    "\n",
    ".. warning:: If you are replacing one label with another, it is highly recommended to change the status to `Default` so that you can double-check during annotation that the new label applies in all cases. If you are removing a label from a **single-label Text Classification** dataset you will _always_ need to set the status of the record to `Default`. "
   ]
  },
  {
   "attachments": {},
   "cell_type": "markdown",
   "metadata": {},
   "source": [
    "After modifying the records, log them back into their original dataset to save the changes."
   ]
  },
  {
   "cell_type": "code",
   "execution_count": null,
   "metadata": {},
   "outputs": [],
   "source": [
    "# log the corrected records\n",
    "rg.log(records, name=dataset_name)"
   ]
  },
  {
   "attachments": {},
   "cell_type": "markdown",
   "metadata": {},
   "source": [
    "## Update dataset settings"
   ]
  },
  {
   "attachments": {},
   "cell_type": "markdown",
   "metadata": {},
   "source": [
    "Now that the label is not present in the records, you can modify the dataset settings and remove the unwanted label and save the new configuration of the dataset."
   ]
  },
  {
   "cell_type": "code",
   "execution_count": null,
   "metadata": {},
   "outputs": [],
   "source": [
    "# remove the unwanted label from the labelling schema\n",
    "settings.label_schema.remove(old_label)"
   ]
  },
  {
   "cell_type": "code",
   "execution_count": null,
   "metadata": {},
   "outputs": [],
   "source": [
    "# change the configuration of the dataset\n",
    "rg.configure_dataset(name=dataset_name, settings=settings)"
   ]
  },
  {
   "attachments": {},
   "cell_type": "markdown",
   "metadata": {},
   "source": [
    "Now the unwanted label should be gone from annotations, predictions and dataset settings."
   ]
  },
  {
   "attachments": {},
   "cell_type": "markdown",
   "metadata": {},
   "source": [
    "## Summary\n",
    "\n",
    "In this tutorial, you learnt how to delete or modify a label from a Token or Text Classification dataset when annotations are already present. This notebook contains code so that you can change the name of the label, merge the annotations with another existing label or remove the label altogether."
   ]
  }
 ],
 "metadata": {
  "kernelspec": {
   "display_name": "argilla",
   "language": "python",
   "name": "python3"
  },
  "language_info": {
   "codemirror_mode": {
    "name": "ipython",
    "version": 3
   },
   "file_extension": ".py",
   "mimetype": "text/x-python",
   "name": "python",
   "nbconvert_exporter": "python",
   "pygments_lexer": "ipython3",
   "version": "3.8.15"
  },
  "vscode": {
   "interpreter": {
    "hash": "2d98cb9bf90a932b5bf8e86e91214497eb0e38eb318595fbd6fbd5460fe92036"
   }
  }
 },
 "nbformat": 4,
 "nbformat_minor": 4
}
