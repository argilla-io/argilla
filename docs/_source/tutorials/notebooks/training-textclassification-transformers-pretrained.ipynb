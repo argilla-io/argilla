{
 "cells": [
  {
   "attachments": {},
   "cell_type": "markdown",
   "id": "d018ede1-93e5-44f7-a8b8-ea8436d063c1",
   "metadata": {},
   "source": [
    "# 🏷️ Fine-tune a sentiment classifier with your own data\n",
    "\n",
    "In this tutorial, we'll build a sentiment classifier for user requests in the banking domain as follows:\n",
    "\n",
    "- 🏁 Start with the most popular sentiment classifier on the Hugging Face Hub (almost 4 million monthly downloads as of December 2021) which has been fine-tuned on the SST2 sentiment dataset. \n",
    "- 🏷️ Label a training dataset with banking user requests starting with the pre-trained sentiment classifier predictions.\n",
    "- ⚙️ Fine-tune the pre-trained classifier with your training dataset.\n",
    "- 🏷️ Label more data by correcting the predictions of the fine-tuned model.\n",
    "- ⚙️ Fine-tune the pre-trained classifier with the extended training dataset.\n",
    "\n",
    "![training-textclassification-transformers-pretrained](../../_static/tutorials/training-textclassification-transformers-pretrained/training-textclassification-transformers-pretrained.png)\n",
    "\n",
    "## Introduction\n",
    "\n",
    "This tutorial will show you how to fine-tune a sentiment classifier for your own domain, starting with no labeled data.\n",
    "\n",
    "Most online tutorials about fine-tuning models assume you already have a training dataset. You'll find many tutorials for fine-tuning a pre-trained model with widely-used datasets, such as IMDB for sentiment analysis. \n",
    "\n",
    "However, very often **what you want is to fine-tune a model for your use case**. It's well-known that NLP model performance usually degrades with \"out-of-domain\" data. For example, a sentiment classifier pre-trained on movie reviews (e.g., IMDB) will not perform very well with customer requests.\n",
    "\n",
    "This is an overview of the workflow we'll be following:\n",
    "\n",
    "\n",
    "![Labeling workflow](../../_static/tutorials/training-textclassification-transformers-pretrained/workflow.png \"Labeling workflow\")\n",
    "\n",
    "\n",
    "Let's get started!\n"
   ]
  },
  {
   "attachments": {},
   "cell_type": "markdown",
   "id": "69321d8f-d3c4-4627-96ef-de416db75181",
   "metadata": {},
   "source": [
    "## Running Argilla\n",
    "\n",
    "For this tutorial, you will need to have an Argilla server running. There are two main options for deploying and running Argilla:\n",
    "\n",
    "\n",
    "**Deploy Argilla on Hugging Face Spaces**: If you want to run tutorials with external notebooks (e.g., Google Colab) and you have an account on Hugging Face, you can deploy Argilla on Spaces with a few clicks:\n",
    "\n",
    "[![deploy on spaces](https://huggingface.co/datasets/huggingface/badges/raw/main/deploy-to-spaces-lg.svg)](https://huggingface.co/new-space?template=argilla/argilla-template-space)\n",
    "\n",
    "For details about configuring your deployment, check the [official Hugging Face Hub guide](https://huggingface.co/docs/hub/spaces-sdks-docker-argilla).\n",
    "\n",
    "\n",
    "**Launch Argilla using Argilla's quickstart Docker image**: This is the recommended option if you want [Argilla running on your local machine](../../getting_started/quickstart.ipynb). Note that this option will only let you run the tutorial locally and not with an external notebook service.\n",
    "\n",
    "For more information on deployment options, please check the Deployment section of the documentation.\n",
    "\n",
    "<div class=\"alert alert-info\">\n",
    "\n",
    "Tip\n",
    "    \n",
    "This tutorial is a Jupyter Notebook. There are two options to run it:\n",
    "\n",
    "- Use the Open in Colab button at the top of this page. This option allows you to run the notebook directly on Google Colab. Don't forget to change the runtime type to GPU for faster model training and inference.\n",
    "- Download the .ipynb file by clicking on the View source link at the top of the page. This option allows you to download the notebook and run it on your local machine or on a Jupyter notebook tool of your choice.\n",
    "</div>"
   ]
  },
  {
   "cell_type": "code",
   "execution_count": null,
   "id": "a0991d97-a5e1-415b-9ae6-4df48e98a796",
   "metadata": {},
   "outputs": [],
   "source": [
    "%pip install argilla \"transformers[torch]\" datasets sklearn ipywidgets -qqq"
   ]
  },
  {
   "attachments": {},
   "cell_type": "markdown",
   "id": "fabdd145",
   "metadata": {},
   "source": [
    "Let's import the Argilla module for reading and writing data:"
   ]
  },
  {
   "cell_type": "code",
   "execution_count": null,
   "id": "ac811da1",
   "metadata": {},
   "outputs": [],
   "source": [
    "import argilla as rg"
   ]
  },
  {
   "attachments": {},
   "cell_type": "markdown",
   "id": "556046ed",
   "metadata": {
    "id": "7TRNourOwigS"
   },
   "source": [
    "If you are running Argilla using the Docker quickstart image or Hugging Face Spaces, you need to init the Argilla client with the `URL` and `API_KEY`:"
   ]
  },
  {
   "cell_type": "code",
   "execution_count": null,
   "id": "1ab3983e",
   "metadata": {},
   "outputs": [],
   "source": [
    "# Replace api_url with the url to your HF Spaces URL if using Spaces\n",
    "# Replace api_key if you configured a custom API key\n",
    "rg.init(\n",
    "    api_url=\"http://localhost:6900\", \n",
    "    api_key=\"admin.apikey\"\n",
    ")"
   ]
  },
  {
   "attachments": {},
   "cell_type": "markdown",
   "id": "5be64d5e",
   "metadata": {
    "id": "ccL8UFwj_CaD"
   },
   "source": [
    "Finally, let's include the imports we need:"
   ]
  },
  {
   "cell_type": "code",
   "execution_count": null,
   "id": "502b0528",
   "metadata": {},
   "outputs": [],
   "source": [
    "import numpy as np\n",
    "\n",
    "from datasets import load_dataset, load_metric, concatenate_datasets\n",
    "\n",
    "from transformers import pipeline, AutoTokenizer, AutoModelForSequenceClassification\n",
    "from transformers import TrainingArguments, Trainer"
   ]
  },
  {
   "cell_type": "markdown",
   "id": "2697c2cd-d6d1-45fb-97b6-2bf2b97d60c0",
   "metadata": {},
   "source": [
    "## Preliminaries\n",
    "\n",
    "\n",
    "For building our fine-tuned classifier we'll be using two main resources, both available in the 🤗 Hub :\n",
    "\n",
    "1. A **dataset** in the banking domain: [banking77](https://huggingface.co/datasets/banking77)\n",
    "\n",
    "2. A **pre-trained sentiment classifier**: [distilbert-base-uncased-finetuned-sst-2-english](https://huggingface.co/distilbert-base-uncased-finetuned-sst-2-english)\n",
    "\n",
    "### **Dataset**: `Banking 77`\n",
    "\n",
    "This dataset contains online banking user queries annotated with their corresponding intents. \n",
    "\n",
    "In our case, **we'll label the sentiment of these queries**. This might be useful for digital assistants and customer service analytics.\n",
    "\n",
    "\n",
    "Let's load the dataset directly from the hub and split the dataset into two 50% subsets. We'll start with the `to_label1` split for data exploration and annotation, and keep `to_label2` for further iterations."
   ]
  },
  {
   "cell_type": "code",
   "execution_count": null,
   "id": "73889eff-4214-4d49-bec9-816d5bf83175",
   "metadata": {},
   "outputs": [],
   "source": [
    "banking_ds = load_dataset(\"banking77\")\n",
    "\n",
    "to_label1, to_label2 = (\n",
    "    banking_ds[\"train\"].train_test_split(test_size=0.5, seed=42).values()\n",
    ")"
   ]
  },
  {
   "cell_type": "markdown",
   "id": "d1a7c761-0240-4d64-85e7-8f2a32882d26",
   "metadata": {},
   "source": [
    "### **Model**: sentiment `distilbert` fine-tuned on sst-2\n",
    "\n",
    "\n",
    "As of December 2021, the `distilbert-base-uncased-finetuned-sst-2-english` is in the top five of the most popular text-classification models in the [Hugging Face Hub](https://huggingface.co/models?pipeline_tag=text-classification).\n",
    "\n",
    "This model is a **distilbert model** fine-tuned on SST-2 (Stanford Sentiment Treebank), a highly popular sentiment classification benchmark.\n",
    "\n",
    "As we will see later, this is a general-purpose sentiment classifier, which will need further fine-tuning for specific use cases and styles of text. In our case, **we'll explore its quality on banking user queries and build a training set for adapting it to this domain**.\n",
    "\n",
    "Let's load the model and test it with an example from our dataset:"
   ]
  },
  {
   "cell_type": "code",
   "execution_count": 3,
   "id": "498b7a66-8554-43fb-9ae1-c6bed273158d",
   "metadata": {},
   "outputs": [
    {
     "data": {
      "text/plain": [
       "('Hi, Last week I have contacted the seller for a refund as directed by you, but i have not received the money yet. Please look into this issue with seller and help me in getting the refund.',\n",
       " [[{'label': 'NEGATIVE', 'score': 0.9934700727462769},\n",
       "   {'label': 'POSITIVE', 'score': 0.0065299225971102715}]])"
      ]
     },
     "execution_count": 3,
     "metadata": {},
     "output_type": "execute_result"
    }
   ],
   "source": [
    "sentiment_classifier = pipeline(\n",
    "    model=\"distilbert-base-uncased-finetuned-sst-2-english\",\n",
    "    task=\"sentiment-analysis\",\n",
    "    return_all_scores=True,\n",
    ")\n",
    "\n",
    "to_label1[3][\"text\"], sentiment_classifier(to_label1[3][\"text\"])"
   ]
  },
  {
   "cell_type": "markdown",
   "id": "72de2fa5-4128-4f79-8d23-bd171370ae8b",
   "metadata": {},
   "source": [
    "The model assigns more probability to the `NEGATIVE` class. Following our annotation policy (read more below), we'll label examples like this as `POSITIVE` as they are general questions, not related to issues or problems with the banking application. The ultimate goal will be to fine-tune the model to predict `POSITIVE` for these cases."
   ]
  },
  {
   "cell_type": "markdown",
   "id": "3742e35a-6afc-4aeb-8701-b0245cd77350",
   "metadata": {},
   "source": [
    "### A note on sentiment analysis and data annotation\n",
    "\n",
    "Sentiment analysis is one of the most subjective tasks in NLP. What we understand by sentiment will vary from one application to another and depend on the business objectives of the project. Also, sentiment can be modeled in different ways, leading to different **labeling schemes**. For example, sentiment can be modeled as real value (going from -1 to 1, from 0 to 1.0, etc.) or with 2 or more labels (including different degrees such as positive, negative, neutral, etc.)\n",
    "\n",
    "For this tutorial, we'll use the **original labeling scheme** defined by the pre-trained model which is composed of two labels: `POSITIVE` and `NEGATIVE`. We could have added the `NEUTRAL` label, but let's keep it simple. \n",
    "\n",
    "Another important issue when approaching a data annotation project are the **annotation guidelines**, which explain how to assign the labels to specific examples. As we'll see later, the messages we'll be labeling are mostly questions with a neutral sentiment, which we'll label with the `POSITIVE` label, and some other are negative questions which we'll label with the `NEGATIVE` label. Later on, we'll show some examples of each label.\n",
    "\n"
   ]
  },
  {
   "cell_type": "markdown",
   "id": "dd871f0a-6056-4663-81f1-fc74a9cc03bb",
   "metadata": {},
   "source": [
    "## 1. Run the **pre-trained model** over the dataset and log the predictions\n",
    "\n",
    "As a first step, let's use the pre-trained model for predicting over our raw dataset. For this, we will use the handy `dataset.map` method from the `datasets` library.\n",
    "\n",
    "The following steps could be simplified by using the auto-monitor support for Hugging Face pipelines. You can find more details in the [Monitoring guide](../../guides/steps/4_monitoring.html)."
   ]
  },
  {
   "cell_type": "markdown",
   "id": "5887a8a9-36a4-414a-b323-d66d0ca1fd36",
   "metadata": {},
   "source": [
    "### Predict"
   ]
  },
  {
   "cell_type": "code",
   "execution_count": null,
   "id": "dfdbab73-3316-47d5-8545-2cacbe076b05",
   "metadata": {},
   "outputs": [],
   "source": [
    "def predict(examples):\n",
    "    return {\"predictions\": sentiment_classifier(examples[\"text\"], truncation=True)}\n",
    "\n",
    "# add .select(range(10)) before map if you just want to test this quickly with 10 examples\n",
    "to_label1 = to_label1.map(predict, batched=True, batch_size=4)"
   ]
  },
  {
   "cell_type": "markdown",
   "id": "694a96f0-a977-4682-b342-143223ef99fc",
   "metadata": {},
   "source": [
    "<div class=\"alert alert-info\">\n",
    "\n",
    "Note\n",
    "\n",
    "If you don't want to run the predictions yourself, you can also load the records with the predictions directly from the Hugging Face Hub: `load_dataset(\"argilla/sentiment-banking\", split=\"train\")`, see below for more details.\n",
    "    \n",
    "</div>"
   ]
  },
  {
   "attachments": {},
   "cell_type": "markdown",
   "id": "2aa97a9b-fbad-49b7-98bc-b13d1a1648cb",
   "metadata": {},
   "source": [
    "### Build and log dataset\n",
    "\n",
    "The following code builds a list of Argilla records with the predictions and log the records to Argilla to label our first training set."
   ]
  },
  {
   "cell_type": "code",
   "execution_count": null,
   "id": "c642e5cb-a96d-4bd2-b6f0-c36f7fa3bb65",
   "metadata": {},
   "outputs": [],
   "source": [
    "records = []\n",
    "for example in to_label1.shuffle():\n",
    "    record = rg.TextClassificationRecord(\n",
    "        text=example[\"text\"],\n",
    "        metadata={\n",
    "            \"category\": example[\"label\"]\n",
    "        },  # log the intents for exploration of specific intents\n",
    "        prediction=[(pred[\"label\"], pred[\"score\"]) for pred in example[\"predictions\"]],\n",
    "        prediction_agent=\"distilbert-base-uncased-finetuned-sst-2-english\",\n",
    "    )\n",
    "    records.append(record)\n",
    "    \n",
    "rg.log(name=\"labeling_with_pretrained\", records=records)"
   ]
  },
  {
   "cell_type": "markdown",
   "id": "5dc4a080-a8e0-4ccb-9252-a32af4849470",
   "metadata": {},
   "source": [
    "## 2. Explore and label data with the pretrained model\n",
    "\n",
    "In this step, we'll start by exploring how the pre-trained model is performing with our dataset. \n",
    "\n",
    "At first sight:\n",
    "\n",
    "- The pre-trained sentiment classifier tends to label most of the examples as `NEGATIVE` (4.835 of 5.001 records). You can see this yourself using the `Predictions / Predicted as:` filter\n",
    "\n",
    "- Using this filter and filtering by predicted as `POSITIVE`, we see that examples like \"*I didn't withdraw the amount of cash that is showing up in the app.*\" are not predicted as expected (according to our basic \"annotation policy\" described in the preliminaries).\n",
    "\n",
    "\n",
    "Taking into account this analysis, we can start labeling our data. \n",
    "\n",
    "Argilla provides you with a search-driven UI to annotated data, using **free-text search**, **search filters** and **the Elasticsearch query DSL** for advanced queries. This is especially useful for sparse datasets, tasks with a high number of labels, or unbalanced classes. In the standard case, we recommend you to follow the workflow below:\n",
    "\n",
    "1. **Start labeling examples sequentially**, without using search features. This way you will annotate a fraction of your data which will be aligned with the dataset distribution.\n",
    "\n",
    "2. Once you have a sense of the data, you can **start using filters and search features to annotate examples with specific labels**. In our case, we'll label examples predicted as `POSITIVE` by our pre-trained model, and then a few examples predicted as `NEGATIVE`."
   ]
  },
  {
   "cell_type": "markdown",
   "id": "af186865-d609-491b-97ce-9a0417e70d0e",
   "metadata": {},
   "source": [
    "After some minutes, we've labelled almost **5% of our raw dataset with more than 200 annotated examples**, which is a small dataset but should be enough for a first fine-tuning of our banking sentiment classifier:"
   ]
  },
  {
   "cell_type": "markdown",
   "id": "6d83a1d6-9700-4f13-ad01-8ac1d00b1260",
   "metadata": {},
   "source": [
    "## 3. Fine-tune the pre-trained model\n",
    "\n",
    "In this step, we'll load our training set from Argilla and fine-tune using the `Trainer` API from Hugging Face `transformers`. For this, we closely follow the guide [Fine-tuning a pre-trained model](https://huggingface.co/transformers/training.html#fine-tuning-a-pretrained-model) from the `transformers` docs.\n",
    "\n",
    "\n",
    "First, let's load the annotations from our dataset using the query parameter from the `load` method. The `Validated` status corresponds to annotated records."
   ]
  },
  {
   "cell_type": "code",
   "execution_count": 47,
   "id": "b1b331bd-e4e0-41b5-9370-28f8aac01aab",
   "metadata": {},
   "outputs": [
    {
     "data": {
      "text/html": [
       "<div>\n",
       "<style scoped>\n",
       "    .dataframe tbody tr th:only-of-type {\n",
       "        vertical-align: middle;\n",
       "    }\n",
       "\n",
       "    .dataframe tbody tr th {\n",
       "        vertical-align: top;\n",
       "    }\n",
       "\n",
       "    .dataframe thead th {\n",
       "        text-align: right;\n",
       "    }\n",
       "</style>\n",
       "<table border=\"1\" class=\"dataframe\">\n",
       "  <thead>\n",
       "    <tr style=\"text-align: right;\">\n",
       "      <th></th>\n",
       "      <th>inputs</th>\n",
       "      <th>prediction</th>\n",
       "      <th>prediction_agent</th>\n",
       "      <th>annotation</th>\n",
       "      <th>annotation_agent</th>\n",
       "      <th>multi_label</th>\n",
       "      <th>explanation</th>\n",
       "      <th>id</th>\n",
       "      <th>metadata</th>\n",
       "      <th>status</th>\n",
       "      <th>event_timestamp</th>\n",
       "      <th>metrics</th>\n",
       "      <th>search_keywords</th>\n",
       "    </tr>\n",
       "  </thead>\n",
       "  <tbody>\n",
       "    <tr>\n",
       "      <th>0</th>\n",
       "      <td>{'text': 'I would like to cancel a purchase.'}</td>\n",
       "      <td>[(NEGATIVE, 0.9997695088386536), (POSITIVE, 0....</td>\n",
       "      <td>distilbert-base-uncased-finetuned-sst-2-english</td>\n",
       "      <td>POSITIVE</td>\n",
       "      <td>argilla</td>\n",
       "      <td>False</td>\n",
       "      <td>None</td>\n",
       "      <td>0002cbd9-b687-462a-bbd2-3130f4c88d8d</td>\n",
       "      <td>{'category': 52}</td>\n",
       "      <td>Validated</td>\n",
       "      <td>None</td>\n",
       "      <td>None</td>\n",
       "      <td>None</td>\n",
       "    </tr>\n",
       "    <tr>\n",
       "      <th>1</th>\n",
       "      <td>{'text': 'What's up with the extra fee I got?'}</td>\n",
       "      <td>[(NEGATIVE, 0.9968097805976868), (POSITIVE, 0....</td>\n",
       "      <td>distilbert-base-uncased-finetuned-sst-2-english</td>\n",
       "      <td>NEGATIVE</td>\n",
       "      <td>argilla</td>\n",
       "      <td>False</td>\n",
       "      <td>None</td>\n",
       "      <td>0009f445-4844-4ccd-9ea8-207a1fb0e239</td>\n",
       "      <td>{'category': 19}</td>\n",
       "      <td>Validated</td>\n",
       "      <td>None</td>\n",
       "      <td>None</td>\n",
       "      <td>None</td>\n",
       "    </tr>\n",
       "    <tr>\n",
       "      <th>2</th>\n",
       "      <td>{'text': 'Do you have an age requirement when ...</td>\n",
       "      <td>[(NEGATIVE, 0.9825802445411682), (POSITIVE, 0....</td>\n",
       "      <td>distilbert-base-uncased-finetuned-sst-2-english</td>\n",
       "      <td>POSITIVE</td>\n",
       "      <td>argilla</td>\n",
       "      <td>False</td>\n",
       "      <td>None</td>\n",
       "      <td>0012e385-643c-4660-ad66-5b4339bb3999</td>\n",
       "      <td>{'category': 1}</td>\n",
       "      <td>Validated</td>\n",
       "      <td>None</td>\n",
       "      <td>None</td>\n",
       "      <td>None</td>\n",
       "    </tr>\n",
       "  </tbody>\n",
       "</table>\n",
       "</div>"
      ],
      "text/plain": [
       "                                              inputs  \\\n",
       "0     {'text': 'I would like to cancel a purchase.'}   \n",
       "1    {'text': 'What's up with the extra fee I got?'}   \n",
       "2  {'text': 'Do you have an age requirement when ...   \n",
       "\n",
       "                                          prediction  \\\n",
       "0  [(NEGATIVE, 0.9997695088386536), (POSITIVE, 0....   \n",
       "1  [(NEGATIVE, 0.9968097805976868), (POSITIVE, 0....   \n",
       "2  [(NEGATIVE, 0.9825802445411682), (POSITIVE, 0....   \n",
       "\n",
       "                                  prediction_agent annotation  \\\n",
       "0  distilbert-base-uncased-finetuned-sst-2-english   POSITIVE   \n",
       "1  distilbert-base-uncased-finetuned-sst-2-english   NEGATIVE   \n",
       "2  distilbert-base-uncased-finetuned-sst-2-english   POSITIVE   \n",
       "\n",
       "  annotation_agent  multi_label explanation  \\\n",
       "0           argilla        False        None   \n",
       "1           argilla        False        None   \n",
       "2           argilla        False        None   \n",
       "\n",
       "                                     id          metadata     status  \\\n",
       "0  0002cbd9-b687-462a-bbd2-3130f4c88d8d  {'category': 52}  Validated   \n",
       "1  0009f445-4844-4ccd-9ea8-207a1fb0e239  {'category': 19}  Validated   \n",
       "2  0012e385-643c-4660-ad66-5b4339bb3999   {'category': 1}  Validated   \n",
       "\n",
       "  event_timestamp metrics search_keywords  \n",
       "0            None    None            None  \n",
       "1            None    None            None  \n",
       "2            None    None            None  "
      ]
     },
     "execution_count": 47,
     "metadata": {},
     "output_type": "execute_result"
    }
   ],
   "source": [
    "rb_dataset = rg.load(name=\"labeling_with_pretrained\", query=\"status:Validated\")\n",
    "rb_dataset.to_pandas().head(3)"
   ]
  },
  {
   "cell_type": "markdown",
   "id": "4300cd1e-0b11-4893-9918-aab365ecbb56",
   "metadata": {},
   "source": [
    "### Prepare training and test datasets"
   ]
  },
  {
   "cell_type": "markdown",
   "id": "6e56e5fc-de02-4a8d-8b1c-a397aee8382a",
   "metadata": {},
   "source": [
    "Let's now prepare our dataset for training and testing our sentiment classifier, using the `datasets` library:"
   ]
  },
  {
   "cell_type": "code",
   "execution_count": null,
   "id": "433cea34-a0cd-4e58-917f-0fa08caa43dd",
   "metadata": {},
   "outputs": [],
   "source": [
    "# create 🤗 dataset with labels as numeric ids\n",
    "train_ds = rb_dataset.prepare_for_training()\n",
    "\n",
    "# tokenize our datasets\n",
    "tokenizer = AutoTokenizer.from_pretrained(\n",
    "    \"distilbert-base-uncased-finetuned-sst-2-english\"\n",
    ")\n",
    "\n",
    "def tokenize_function(examples):\n",
    "    return tokenizer(examples[\"text\"], padding=\"max_length\", truncation=True)\n",
    "\n",
    "tokenized_train_ds = train_ds.map(tokenize_function, batched=True)\n",
    "\n",
    "# split the data into a training and evaluation set\n",
    "train_dataset, eval_dataset = tokenized_train_ds.train_test_split(\n",
    "    test_size=0.2, seed=42\n",
    ").values()"
   ]
  },
  {
   "attachments": {},
   "cell_type": "markdown",
   "id": "9c66f064-72f0-49a7-968c-eb5dd64eb697",
   "metadata": {},
   "source": [
    "### Train our sentiment classifier\n",
    "\n",
    "As we mentioned before, we're going to fine-tune the `distilbert-base-uncased-finetuned-sst-2-english` model. Another option will be fine-tuning a **distilbert masked language model** from scratch, but we leave this experiment to you.\n",
    "\n",
    "Let's load the model and configure the trainer:"
   ]
  },
  {
   "cell_type": "code",
   "execution_count": null,
   "id": "209c2fc4-78b2-43b0-8e19-2f2c899e2753",
   "metadata": {},
   "outputs": [],
   "source": [
    "model = AutoModelForSequenceClassification.from_pretrained(\n",
    "    \"distilbert-base-uncased-finetuned-sst-2-english\"\n",
    ")\n",
    "\n",
    "training_args = TrainingArguments(\n",
    "    \"distilbert-base-uncased-sentiment-banking\",\n",
    "    evaluation_strategy=\"epoch\",\n",
    "    logging_steps=30,\n",
    ")\n",
    "\n",
    "metric = load_metric(\"accuracy\")\n",
    "\n",
    "def compute_metrics(eval_pred):\n",
    "    logits, labels = eval_pred\n",
    "    predictions = np.argmax(logits, axis=-1)\n",
    "    return metric.compute(predictions=predictions, references=labels)\n",
    "\n",
    "trainer = Trainer(\n",
    "    args=training_args,\n",
    "    model=model,\n",
    "    train_dataset=train_dataset,\n",
    "    eval_dataset=eval_dataset,\n",
    "    compute_metrics=compute_metrics,\n",
    ")"
   ]
  },
  {
   "cell_type": "markdown",
   "id": "0828cc3e-9c2f-4a48-aa2f-bc141cb0b234",
   "metadata": {},
   "source": [
    "And finally, we can train our first model!"
   ]
  },
  {
   "cell_type": "code",
   "execution_count": null,
   "id": "db96ccd6-0a2b-4a1f-846d-588915f4dfef",
   "metadata": {},
   "outputs": [],
   "source": [
    "trainer.train()"
   ]
  },
  {
   "cell_type": "markdown",
   "id": "7703d9a4-bfce-466f-accc-65f65a784f2d",
   "metadata": {},
   "source": [
    "## 4. Testing the fine-tuned model\n",
    "\n",
    "In this step, let's first test the model we have just trained.\n",
    "\n",
    "Let's create a new pipeline with our model:"
   ]
  },
  {
   "cell_type": "code",
   "execution_count": null,
   "id": "b7aa3305-78bc-4316-a886-0c5b3e95d99d",
   "metadata": {},
   "outputs": [],
   "source": [
    "finetuned_sentiment_classifier = pipeline(\n",
    "    model=model.to(\"cpu\"),\n",
    "    tokenizer=tokenizer,\n",
    "    task=\"sentiment-analysis\",\n",
    "    return_all_scores=True,\n",
    ")"
   ]
  },
  {
   "cell_type": "markdown",
   "id": "aa2d7669-63ac-42c3-a21c-b50958bdbc9e",
   "metadata": {},
   "source": [
    "Then, we can compare its predictions with the pre-trained model and an example:"
   ]
  },
  {
   "cell_type": "code",
   "execution_count": null,
   "id": "8cad3506-fa39-40f9-9dc5-99aaf23e7700",
   "metadata": {},
   "outputs": [],
   "source": [
    "finetuned_sentiment_classifier(\n",
    "    \"I need to deposit my virtual card, how do i do that.\"\n",
    "), sentiment_classifier(\"I need to deposit my virtual card, how do i do that.\")"
   ]
  },
  {
   "cell_type": "markdown",
   "id": "6f95827c-bee6-4488-b8ac-84b5c2ab9149",
   "metadata": {},
   "source": [
    "As you can see, our fine-tuned model now classifies this general questions (not related to issues or problems) as `POSITIVE`, while the pre-trained model still classifies this as `NEGATIVE`.\n",
    "\n",
    "Let's check now an example related to an issue where both models work as expected:"
   ]
  },
  {
   "cell_type": "code",
   "execution_count": null,
   "id": "3714da8c-f57b-4f04-8905-53e17a9ff130",
   "metadata": {},
   "outputs": [],
   "source": [
    "finetuned_sentiment_classifier(\n",
    "    \"Why is my payment still pending?\"\n",
    "), sentiment_classifier(\"Why is my payment still pending?\")"
   ]
  },
  {
   "attachments": {},
   "cell_type": "markdown",
   "id": "cae254b5-5d48-4670-baca-7918bd0d15c7",
   "metadata": {},
   "source": [
    "## 5. Run our **fine-tuned model** over the dataset and log the predictions\n",
    "\n",
    "\n",
    "Let's now create a dataset from the remaining records (those which we haven't annotated in the first annotation session).\n",
    "\n",
    "We'll do this using the `Default` status, which means the record hasn't been assigned a label. From here, this is basically the same as step 1, in this case using our fine-tuned model. Let's take advantage of the datasets `map` feature, to make batched predictions. Afterward, we can convert the dataset directly to Argilla records again and log them to the web app."
   ]
  },
  {
   "cell_type": "code",
   "execution_count": null,
   "id": "b387ffb2-35b0-42f5-b23a-c09074722838",
   "metadata": {},
   "outputs": [],
   "source": [
    "rb_dataset = rg.load(name=\"labeling_with_pretrained\", query=\"status:Default\")\n",
    "\n",
    "def predict(examples):\n",
    "    texts = [example[\"text\"] for example in examples[\"inputs\"]]\n",
    "    return {\n",
    "        \"prediction\": finetuned_sentiment_classifier(texts),\n",
    "        \"prediction_agent\": [\"distilbert-base-uncased-banking77-sentiment\"]\n",
    "        * len(texts),\n",
    "    }\n",
    "\n",
    "ds_dataset = rb_dataset.to_datasets().map(predict, batched=True, batch_size=8)\n",
    "\n",
    "records = rg.read_datasets(ds_dataset, task=\"TextClassification\")\n",
    "\n",
    "rg.log(records=records, name=\"labeling_with_finetuned\")"
   ]
  },
  {
   "cell_type": "markdown",
   "id": "632e1315-ee55-4c3c-a3d8-1d4f930f0d69",
   "metadata": {},
   "source": [
    "## 6. Explore and label data with the fine-tuned model\n",
    "\n",
    "\n",
    "In this step, we'll start by exploring how the fine-tuned model is performing with our dataset. \n",
    "\n",
    "At first sight, using the predicted as filter by `POSITIVE` and then by `NEGATIVE`, we can observe that the fine-tuned model predictions are more aligned with our \"annotation policy\".\n",
    "\n",
    "Now that the model is performing better for our use case, we'll extend our training set with highly informative examples. A typical workflow for doing this is as follows:\n",
    "\n",
    "1. Use the prediction score filter for labeling uncertain examples.\n",
    "\n",
    "2. Label examples predicted by our fine-tuned model as `POSITIVE` and then predicted as `NEGATIVE` to correct the predictions.\n",
    "\n",
    "After spending some minutes, we labelled almost **2% of our raw dataset with around 80 annotated examples**, which is a small dataset but hopefully with highly informative examples.\n",
    "\n"
   ]
  },
  {
   "cell_type": "markdown",
   "id": "b595c332-1d1d-4e15-a22c-7fcbb6556234",
   "metadata": {},
   "source": [
    "## 7. Fine-tuning with the extended training dataset\n",
    "\n",
    "In this step, we'll add the new examples to our training set and fine-tune a new version of our banking sentiment classifier.\n",
    "\n",
    "### Adding labeled examples to our previous training set\n",
    "\n",
    "Let's add our new examples to our previous training set."
   ]
  },
  {
   "cell_type": "code",
   "execution_count": null,
   "id": "07f1ae06-e420-4a1f-8251-bf40aa3bb946",
   "metadata": {},
   "outputs": [],
   "source": [
    "rb_dataset = rg.load(\"labeling_with_finetuned\")\n",
    "\n",
    "train_ds = rb_dataset.prepare_for_training()\n",
    "tokenized_train_ds = train_ds.map(tokenize_function, batched=True)\n",
    "\n",
    "train_dataset = concatenate_datasets([train_dataset, tokenized_train_ds])"
   ]
  },
  {
   "cell_type": "markdown",
   "id": "7fe83626-ebed-429d-95c3-42762548066d",
   "metadata": {},
   "source": [
    "### Training our sentiment classifier\n",
    "\n",
    "As we want to measure the effect of adding examples to our training set we will:\n",
    "\n",
    "- Fine-tune from the pre-trained sentiment weights (as we did before)\n",
    "- Use the previous test set and the extended train set (obtaining a metric we use to compare this new version with our previous model)\n"
   ]
  },
  {
   "cell_type": "code",
   "execution_count": null,
   "id": "26336d72-a6da-42ce-b254-3218e872bb4d",
   "metadata": {},
   "outputs": [],
   "source": [
    "model = AutoModelForSequenceClassification.from_pretrained(\n",
    "    \"distilbert-base-uncased-finetuned-sst-2-english\"\n",
    ")\n",
    "\n",
    "train_ds = train_dataset.shuffle(seed=42)\n",
    "\n",
    "trainer = Trainer(\n",
    "    args=training_args,\n",
    "    model=model,\n",
    "    train_dataset=train_dataset,\n",
    "    eval_dataset=eval_dataset,\n",
    "    compute_metrics=compute_metrics,\n",
    ")\n",
    "\n",
    "trainer.train()\n",
    "model.save_pretrained(\"distilbert-base-uncased-sentiment-banking\")"
   ]
  },
  {
   "cell_type": "markdown",
   "id": "529d3e6b-0684-47db-ab69-ff705945363f",
   "metadata": {},
   "source": [
    "## Summary\n",
    "\n",
    "In this tutorial, you learned how to build a training set from scratch with the help of a pre-trained model, performing two iterations of `predict` > `log` > `label`. \n",
    "\n",
    "Although this is somehow a toy example, you will be able to apply this workflow to your own projects to adapt existing models or building them from scratch. \n",
    "\n",
    "In this tutorial, we've covered one way of building training sets: **hand labeling**. If you are interested in other methods, which could be combined with hand labeling, checkout the following:\n",
    "\n",
    "- [Building a news classifier with weak supervision](labelling-textclassification-sentencetransformers-weaksupervision.ipynb)\n",
    "- [Active learning with ModAL and scikit-learn](training-textclassification-modal-activelearning.html)"
   ]
  }
 ],
 "metadata": {
  "kernelspec": {
   "display_name": "Python 3.9.13 ('.venv': venv)",
   "language": "python",
   "name": "python3"
  },
  "language_info": {
   "codemirror_mode": {
    "name": "ipython",
    "version": 3
   },
   "file_extension": ".py",
   "mimetype": "text/x-python",
   "name": "python",
   "nbconvert_exporter": "python",
   "pygments_lexer": "ipython3",
   "version": "3.7.12"
  },
  "vscode": {
   "interpreter": {
    "hash": "39f4e3bd8ecb53b4a2ef9bccb982583dac0632e40e094b10b94294b76eaa26cb"
   }
  }
 },
 "nbformat": 4,
 "nbformat_minor": 5
}
