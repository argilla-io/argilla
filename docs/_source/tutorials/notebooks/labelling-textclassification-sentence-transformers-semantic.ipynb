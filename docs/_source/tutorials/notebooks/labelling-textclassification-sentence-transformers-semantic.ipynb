{
 "cells": [
  {
   "attachments": {},
   "cell_type": "markdown",
   "metadata": {},
   "source": [
    "# 💨 Label data with semantic search and Sentence Transformers\n",
    "\n",
    "In this tutorial, you'll learn to use Sentence Transformer embeddings and semantic search to make data labeling significantly faster. It will walk you through the following steps:\n",
    "\n",
    "- 💾 use sentence transformers to generate embeddings of a dataset with banking customer requests\n",
    "- 🙃 upload the dataset into Argilla for data labeling\n",
    "- 🏷 use the similarity search feature to efficiently find an label bulks of semantically-related examples\n",
    "\n",
    "<img src=\"../../_static/tutorials/labelling-textclassification-sentence-transformers-semantic/4.png\" alt=\"Similarity search\" style=\"width: 1100px;\">"
   ]
  },
  {
   "attachments": {},
   "cell_type": "markdown",
   "metadata": {},
   "source": [
    "## Introduction\n",
    "\n",
    "In this tutorial, we'll use the power of embeddings to make data labeling (and curation) more efficient. The idea of exploiting embeddings for labeling is not new, and there are several cool, standalone libraries to label data using embeddings.\n",
    "\n",
    "Since `1.2.0`, Argilla gives you a way to leverage embedding-based similarity together with all other workflows already provided: search-based bulk labeling, programmatic labeling using search queries, model pre-annotation, and human-in-the-loop workflows. This also means you can combine keyword search and filters with this new similarity search feature. All these without any vendor or model lock-in, you can use ANY embedding or encoding method, including but not limited to `Sentence Transformers`, `OpenAI`, or `Co:here`. If you want a deep-dive, you can check the [Semantic similarity deep-dive](../../guides/features/semantic-search.ipynb), but this tutorial will show you the basics to get started. \n",
    "\n",
    "Let's do it!"
   ]
  },
  {
   "attachments": {},
   "cell_type": "markdown",
   "metadata": {},
   "source": [
    "## Running Argilla\n",
    "\n",
    "For this tutorial, you will need to have an Argilla server running. There are two main options for deploying and running Argilla:\n",
    "\n",
    "\n",
    "**Deploy Argilla on Hugging Face Spaces**: If you want to run tutorials with external notebooks (e.g., Google Colab) and you have an account on Hugging Face, you can deploy Argilla on Spaces with a few clicks:\n",
    "\n",
    "[![deploy on spaces](https://huggingface.co/datasets/huggingface/badges/raw/main/deploy-to-spaces-lg.svg)](https://huggingface.co/new-space?template=argilla/argilla-template-space)\n",
    "\n",
    "For details about configuring your deployment, check the [official Hugging Face Hub guide](https://huggingface.co/docs/hub/spaces-sdks-docker-argilla).\n",
    "\n",
    "\n",
    "**Launch Argilla using Argilla's quickstart Docker image**: This is the recommended option if you want [Argilla running on your local machine](../../getting_started/quickstart.ipynb). Note that this option will only let you run the tutorial locally and not with an external notebook service.\n",
    "\n",
    "For more information on deployment options, please check the Deployment section of the documentation.\n",
    "\n",
    "<div class=\"alert alert-info\">\n",
    "\n",
    "Tip\n",
    "    \n",
    "This tutorial is a Jupyter Notebook. There are two options to run it:\n",
    "\n",
    "- Use the Open in Colab button at the top of this page. This option allows you to run the notebook directly on Google Colab. Don't forget to change the runtime type to GPU for faster model training and inference.\n",
    "- Download the .ipynb file by clicking on the View source link at the top of the page. This option allows you to download the notebook and run it on your local machine or on a Jupyter notebook tool of your choice.\n",
    "</div>"
   ]
  },
  {
   "attachments": {},
   "cell_type": "markdown",
   "metadata": {},
   "source": [
    "## Setup\n",
    "\n",
    "For this tutorial, you'll need Argilla's Python client and a few third-party libraries that can be installed via `pip`: "
   ]
  },
  {
   "cell_type": "code",
   "execution_count": null,
   "metadata": {},
   "outputs": [],
   "source": [
    "%pip install argilla datasets==2.8.0 sentence-transformers==2.2.2  -qqq  "
   ]
  },
  {
   "attachments": {},
   "cell_type": "markdown",
   "metadata": {},
   "source": [
    "Let's import the Argilla module for reading and writing data:"
   ]
  },
  {
   "cell_type": "code",
   "execution_count": null,
   "metadata": {},
   "outputs": [],
   "source": [
    "import argilla as rg"
   ]
  },
  {
   "attachments": {},
   "cell_type": "markdown",
   "metadata": {
    "id": "7TRNourOwigS"
   },
   "source": [
    "If you are running Argilla using the Docker quickstart image or Hugging Face Spaces, you need to init the Argilla client with the `URL` and `API_KEY`:"
   ]
  },
  {
   "cell_type": "code",
   "execution_count": null,
   "metadata": {},
   "outputs": [],
   "source": [
    "# Replace api_url with the url to your HF Spaces URL if using Spaces\n",
    "# Replace api_key if you configured a custom API key\n",
    "rg.init(\n",
    "    api_url=\"http://localhost:6900\", \n",
    "    api_key=\"admin.apikey\"\n",
    ")"
   ]
  },
  {
   "attachments": {},
   "cell_type": "markdown",
   "metadata": {},
   "source": [
    "Let's add the imports we need:"
   ]
  },
  {
   "cell_type": "code",
   "execution_count": null,
   "metadata": {},
   "outputs": [],
   "source": [
    "\n",
    "from sentence_transformers import SentenceTransformer\n",
    "from datasets import load_dataset"
   ]
  },
  {
   "attachments": {},
   "cell_type": "markdown",
   "metadata": {},
   "source": [
    "## 💾 Downloading and embedding your dataset\n",
    "\n",
    "The code below will load the banking customer requests dataset from the Hub, encode the `text` field, and create the `vectors` field which will contain only one key (`mini-lm-sentence-transformers`). For the purposes of labeling the dataset from scratch, it will also remove the `label` field, which contains original intent labels."
   ]
  },
  {
   "cell_type": "code",
   "execution_count": null,
   "metadata": {},
   "outputs": [],
   "source": [
    "# Define fast version of sentence transformers\n",
    "encoder = SentenceTransformer(\"all-MiniLM-L6-v2\", device=\"cpu\")\n",
    "\n",
    "# Load dataset with banking\n",
    "dataset = load_dataset(\"banking77\", split=\"test\")\n",
    "\n",
    "# Encode text field using batched computation\n",
    "dataset = dataset.map(\n",
    "    lambda batch: {\"vectors\": encoder.encode(batch[\"text\"])}, \n",
    "    batch_size=32, \n",
    "    batched=True\n",
    ")\n",
    "\n",
    "# Removes the original labels because you'll be labeling from scratch\n",
    "dataset = dataset.remove_columns(\"label\")\n",
    "\n",
    "# Turn vectors into a dictionary\n",
    "dataset = dataset.map(\n",
    "    lambda r: {\"vectors\": {\"mini-lm-sentence-transformers\": r[\"vectors\"]}}\n",
    ")"
   ]
  },
  {
   "attachments": {},
   "cell_type": "markdown",
   "metadata": {},
   "source": [
    "Our dataset now contains a `vectors` field with the embedding vector generated by the sentence transformer model."
   ]
  },
  {
   "cell_type": "code",
   "execution_count": 10,
   "metadata": {},
   "outputs": [
    {
     "data": {
      "text/html": [
       "<div>\n",
       "<style scoped>\n",
       "    .dataframe tbody tr th:only-of-type {\n",
       "        vertical-align: middle;\n",
       "    }\n",
       "\n",
       "    .dataframe tbody tr th {\n",
       "        vertical-align: top;\n",
       "    }\n",
       "\n",
       "    .dataframe thead th {\n",
       "        text-align: right;\n",
       "    }\n",
       "</style>\n",
       "<table border=\"1\" class=\"dataframe\">\n",
       "  <thead>\n",
       "    <tr style=\"text-align: right;\">\n",
       "      <th></th>\n",
       "      <th>text</th>\n",
       "      <th>vectors</th>\n",
       "    </tr>\n",
       "  </thead>\n",
       "  <tbody>\n",
       "    <tr>\n",
       "      <th>0</th>\n",
       "      <td>How do I locate my card?</td>\n",
       "      <td>{'mini-lm-sentence-transformers': [-0.01016708...</td>\n",
       "    </tr>\n",
       "    <tr>\n",
       "      <th>1</th>\n",
       "      <td>I still have not received my new card, I order...</td>\n",
       "      <td>{'mini-lm-sentence-transformers': [-0.04284123...</td>\n",
       "    </tr>\n",
       "    <tr>\n",
       "      <th>2</th>\n",
       "      <td>I ordered a card but it has not arrived. Help ...</td>\n",
       "      <td>{'mini-lm-sentence-transformers': [-0.03365558...</td>\n",
       "    </tr>\n",
       "    <tr>\n",
       "      <th>3</th>\n",
       "      <td>Is there a way to know when my card will arrive?</td>\n",
       "      <td>{'mini-lm-sentence-transformers': [0.012195908...</td>\n",
       "    </tr>\n",
       "    <tr>\n",
       "      <th>4</th>\n",
       "      <td>My card has not arrived yet.</td>\n",
       "      <td>{'mini-lm-sentence-transformers': [-0.04361863...</td>\n",
       "    </tr>\n",
       "  </tbody>\n",
       "</table>\n",
       "</div>"
      ],
      "text/plain": [
       "                                                text  \\\n",
       "0                           How do I locate my card?   \n",
       "1  I still have not received my new card, I order...   \n",
       "2  I ordered a card but it has not arrived. Help ...   \n",
       "3   Is there a way to know when my card will arrive?   \n",
       "4                       My card has not arrived yet.   \n",
       "\n",
       "                                             vectors  \n",
       "0  {'mini-lm-sentence-transformers': [-0.01016708...  \n",
       "1  {'mini-lm-sentence-transformers': [-0.04284123...  \n",
       "2  {'mini-lm-sentence-transformers': [-0.03365558...  \n",
       "3  {'mini-lm-sentence-transformers': [0.012195908...  \n",
       "4  {'mini-lm-sentence-transformers': [-0.04361863...  "
      ]
     },
     "execution_count": 10,
     "metadata": {},
     "output_type": "execute_result"
    }
   ],
   "source": [
    "dataset.to_pandas().head()"
   ]
  },
  {
   "attachments": {},
   "cell_type": "markdown",
   "metadata": {},
   "source": [
    "## 🙃 Upload dataset into Argilla\n",
    "\n",
    "The original `banking77` dataset is a intent classification dataset with dozens of labels (`lost_card`, `card_arrival`, etc.). To keep this tutorial simple, we define a simplified labeling scheme with higher level classes: `[\"change_details\", \"card\", \"atm\", \"top_up\", \"balance\", \"transfer\", \"exchange_rate\", \"pin\"]`.\n",
    "\n",
    "Let's define the dataset settings, configure the dataset, and upload our dataset with vectors."
   ]
  },
  {
   "cell_type": "code",
   "execution_count": null,
   "metadata": {},
   "outputs": [],
   "source": [
    "rg_ds = rg.DatasetForTextClassification.from_datasets(dataset)\n",
    "\n",
    "# Our labeling scheme\n",
    "settings = rg.TextClassificationSettings(\n",
    "    label_schema=[\"change_details\", \"card\", \"atm\", \"top_up\", \"balance\", \"transfer\", \"exchange_rate\", \"pin\"]\n",
    ")\n",
    "\n",
    "rg.configure_dataset(name=\"banking77-topics\", settings=settings)\n",
    "\n",
    "rg.log(\n",
    "    name=\"banking77-topics\",\n",
    "    records=rg_ds,\n",
    "    chunk_size=50,\n",
    ")"
   ]
  },
  {
   "attachments": {},
   "cell_type": "markdown",
   "metadata": {},
   "source": [
    "## 🏷 Bulk labeling with the `find similar` action\n",
    "\n",
    "Now that our `banking77-topics` is available from the Argilla UI. We can start annotating our data leveraging semantic similarity search. The workflow is following:\n",
    "\n",
    "1. Label a record (e.g., \"Change my information\" with the label `change_details`) and then click on Find similar on the top-right of your record.\n",
    "2. As a result, you'll get to a list of the most similar record sorted by similarity (on descending order).\n",
    "3. You can now review the records and assign either the `change_details` label or any other. For our use case, we see that most of the suggested records fall into the same category.\n",
    "\n",
    "\n",
    "Let's see it step-by-step:\n",
    "\n",
    "\n",
    "### Label a record\n",
    "Using the hand-labeling mode, you can label a record like the one below:\n",
    "\n",
    "![labeling-textclassification-sentence-transformers-semantic](../../_static/tutorials/labelling-textclassification-sentence-transformers-semantic/6.png)\n",
    "\n",
    "Now if you want to find semantically similar or even duplicates of this record you can use the Find similar button. \n",
    "\n",
    "### Find similar\n",
    "\n",
    "As a result you'll get a list the 50 most similar records. \n",
    "\n",
    "<div class=\"alert alert-info\">\n",
    "\n",
    "Note\n",
    "    \n",
    "Remember that you can combine this similarity search with the other search features: keywords, the query string DSL, and filters. If you have filters enabled for example, the find similar action will return the most similar records from the subset of records with the filter enabled.\n",
    "    \n",
    "</div>\n",
    "\n",
    "![labeling-textclassification-sentence-transformers-semantic](../../_static/tutorials/labelling-textclassification-sentence-transformers-semantic/4.png)\n",
    "\n",
    "As you can see the model is effectively capturing similar meaning without the need of explicit shared words: e.g., `details` vs `information`.\n",
    "\n",
    "### Review records\n",
    "At this point, you can label the records one by one or scroll-down to review them before using the bulk-labeling button on the top of the records list.\n",
    "\n",
    "\n",
    "![labeling-textclassification-sentence-transformers-semantic](../../_static/tutorials/labelling-textclassification-sentence-transformers-semantic/3.png)\n",
    "\n",
    "### Bulk label\n",
    "\n",
    "For this tutorial, our labels are sufficiently fine-grained for the embeddings to group records that fall under the same topic. So in this case, it is safe to use the bulk labeling feature directly, effectively labeling 50 semantically-similar examples after a quick revision.\n",
    "\n",
    "<div class=\"alert alert-warning\">\n",
    "\n",
    "Warning\n",
    "\n",
    "For other use cases, you might need to be more careful and combine this feature with search queries and filters. For quick experimentation, you can also assume you'll make some labelling errors and then use tools like `cleanlab` for detecting label errors.\n",
    "</div>\n",
    "\n",
    "![labeling-textclassification-sentence-transformers-semantic](../../_static/tutorials/labelling-textclassification-sentence-transformers-semantic/2.png)\n",
    "\n",
    "![labeling-textclassification-sentence-transformers-semantic](../../_static/tutorials/labelling-textclassification-sentence-transformers-semantic/1.png)\n",
    "\n",
    "\n",
    "\n",
    "\n"
   ]
  },
  {
   "attachments": {},
   "cell_type": "markdown",
   "metadata": {},
   "source": [
    "## Summary\n",
    "\n",
    "In this tutorial, you learned to use similarity search for data labeling with Argilla by using Sentence Transformers to embed your raw data."
   ]
  }
 ],
 "metadata": {
  "kernelspec": {
   "display_name": ".venv",
   "language": "python",
   "name": "python3"
  },
  "language_info": {
   "codemirror_mode": {
    "name": "ipython",
    "version": 3
   },
   "file_extension": ".py",
   "mimetype": "text/x-python",
   "name": "python",
   "nbconvert_exporter": "python",
   "pygments_lexer": "ipython3",
   "version": "3.9.13 (main, Nov 24 2022, 21:36:36) \n[Clang 13.1.6 (clang-1316.0.21.2.5)]"
  },
  "vscode": {
   "interpreter": {
    "hash": "39f4e3bd8ecb53b4a2ef9bccb982583dac0632e40e094b10b94294b76eaa26cb"
   }
  }
 },
 "nbformat": 4,
 "nbformat_minor": 4
}
