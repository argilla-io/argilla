{
  "nbformat": 4,
  "nbformat_minor": 0,
  "metadata": {
    "colab": {
      "provenance": []
    },
    "kernelspec": {
      "name": "python3",
      "display_name": "Python 3"
    },
    "language_info": {
      "name": "python"
    }
  },
  "cells": [
    {
      "cell_type": "markdown",
      "source": [
        "DEVELOPER DOCUMENTATION"
      ],
      "metadata": {
        "id": "FjAZ4uODYRpB"
      }
    },
    {
      "cell_type": "markdown",
      "source": [
        "In this page, you can find all the guides that you will need to install and develop Argilla.\n",
        "For a proper installation, you will need to;\n",
        "- Clone the Argilla repository,\n",
        "- Install the dependencies,\n",
        "- Install Docker and either ElasticSearch or OpenSearch,\n",
        "- Perform database migration,\n",
        "- Build the UI,\n"
      ],
      "metadata": {
        "id": "99hHqWrRQTmD"
      }
    },
    {
      "cell_type": "markdown",
      "source": [
        "1. Cloning the Argilla repository\n",
        "\n",
        "To set up your system for Argilla development, you first of all have to [fork](https://docs.github.com/en/get-started/quickstart/contributing-to-projects) our repository and [clone](https://github.com/argilla-io/argilla) the fork to your computer."
      ],
      "metadata": {
        "id": "w4cgEe0jYdPs"
      }
    },
    {
      "cell_type": "code",
      "source": [
        "git clone https://github.com/[your-github-username]/argilla.git\n",
        "cd argilla"
      ],
      "metadata": {
        "id": "q1lxmEOLcSos"
      },
      "execution_count": null,
      "outputs": []
    },
    {
      "cell_type": "markdown",
      "source": [
        "To keep your fork’s main/develop branch up to date with our repo you should add it as an [upstream remote branch](https://dev.to/louhayes3/git-add-an-upstream-to-a-forked-repo-1mik):"
      ],
      "metadata": {
        "id": "sHJB2OuwcTKo"
      }
    },
    {
      "cell_type": "code",
      "source": [
        "git remote add upstream https://github.com/argilla-io/argilla.git"
      ],
      "metadata": {
        "id": "BOj9ybAvcqsP"
      },
      "execution_count": null,
      "outputs": []
    },
    {
      "cell_type": "markdown",
      "source": [
        "2. Installing dependencies\n",
        "\n",
        "You will need to install `argilla` and the extra dependencies trhat you prefer to be able to use Argilla in your Python client or Command Line Interface (CLI). There are two ways to install it and you can opt for one of them depending on your use case:\n",
        "\n",
        "- Install `argilla` with `pip`: Recommended for non-extensive, one-time contributions as it will only install the required packages.\n",
        "\n",
        "- Install `argilla` with `conda`: Recommended for comprehensive, continuous contributions as it will create an all-inclusive environment for development.\n",
        "\n",
        "2.1. Install with `pip`\n",
        "\n",
        "If you choose to install Argilla via `pip`, you can do it easily on your terminal. Firstly, direct to the `argilla` folder in your terminal by"
      ],
      "metadata": {
        "id": "tG7hrr25crN5"
      }
    },
    {
      "cell_type": "code",
      "source": [
        "cd argilla"
      ],
      "metadata": {
        "id": "habHtddR7Kbh"
      },
      "execution_count": null,
      "outputs": []
    },
    {
      "cell_type": "markdown",
      "source": [
        "Then, you just need to install Argilla with the command below. Note that we will install it in editable mode using the -e/--editable flag in the `pip` command to avoid having to re-install it on every code modification, but if you’re not planning to modify the code, you can just omit the -e/--editable flag.\n",
        "\n"
      ],
      "metadata": {
        "id": "Ho1sRTzt7LW5"
      }
    },
    {
      "cell_type": "code",
      "source": [
        "pip install -e ."
      ],
      "metadata": {
        "id": "aGNVmkpB71wO"
      },
      "execution_count": null,
      "outputs": []
    },
    {
      "cell_type": "markdown",
      "source": [
        "Or installing just the `server` extra:"
      ],
      "metadata": {
        "id": "6vMCn8mr745C"
      }
    },
    {
      "cell_type": "code",
      "source": [
        "pip install -e \".[server]\""
      ],
      "metadata": {
        "id": "1ReVKCJe739e"
      },
      "execution_count": null,
      "outputs": []
    },
    {
      "cell_type": "markdown",
      "source": [
        "Or you can install all the extras, which are also required to run the tests via pytest to make sure that the implemented features or the bug fixes work as expected, and that the unit/integration tests are passing. If you encounter any package or dependency problems, please consider to upgrade or downgrade the related packages to solve the problem."
      ],
      "metadata": {
        "id": "gHyvaP2F8Cmi"
      }
    },
    {
      "cell_type": "code",
      "source": [
        "pip install -e \".[server,listeners,postgresql,integrations,tests]\""
      ],
      "metadata": {
        "id": "MQC8AS5c8Hj9"
      },
      "execution_count": null,
      "outputs": []
    },
    {
      "cell_type": "markdown",
      "source": [
        "2.2. Installing Argilla with `conda`\n",
        "\n",
        "If you want to go with `conda` to install Argilla, firstly make sure that you have the latest version of conda on your system. You can go to the [anaconda page](https://conda.io/projects/conda/en/latest/user-guide/install/index.html#regular-installation) and follow the tutorial there to make a clean install of `conda` on your system.\n",
        "\n",
        "Make sure that you are in the argilla folder."
      ],
      "metadata": {
        "id": "CzYXCcOA-wOg"
      }
    },
    {
      "cell_type": "code",
      "source": [
        "cd argilla"
      ],
      "metadata": {
        "id": "shAO6SQMDepD"
      },
      "execution_count": null,
      "outputs": []
    },
    {
      "cell_type": "markdown",
      "source": [
        "Then, you can go ahead and create a new conda development environment, and then, activate it:"
      ],
      "metadata": {
        "id": "h7PkerL_DkV3"
      }
    },
    {
      "cell_type": "code",
      "source": [
        "conda env create -f environment_dev.yml\n",
        "conda activate argilla"
      ],
      "metadata": {
        "id": "7b9nffK0Bj6G"
      },
      "execution_count": null,
      "outputs": []
    },
    {
      "cell_type": "markdown",
      "source": [
        "In the new Conda environment, Argilla will already be installed in editable mode with all the server dependencies. But if you’re willing to install any other dependency you can do so via `pip` to install your own, or just see the available extras besides the `server` extras, which are: `listeners`, `postgresql`, and `tests`; all those installable as `pip install -e \".[<EXTRA_NAME>]\"`.\n",
        "\n",
        "Now, the Argilla environment is set up on your system and you need to make the further installments for a thorough development setup.\n",
        "\n",
        "3. EleasticSearch or OpenSearch\n",
        "\n",
        "Argilla supports ElasticSearch and OpenSearch as its main search engine. One of the two is required to correctly run Argilla in your development environment.\n",
        "\n",
        "To install Elasticsearch or Opensearch, and to work with Argilla on your server later, you first need to install Docker on your system. You can find the Docker installation guides for [Windows](https://docs.docker.com/desktop/install/windows-install/), [macOS](https://docs.docker.com/desktop/install/mac-install/) and [Linux](https://docs.docker.com/desktop/install/linux-install/) on Docker website.\n",
        "\n",
        "To install ElasticSearch or OpenSearch, you can refer to the [Setup and Installation](https://docs.argilla.io/en/latest/getting_started/installation/deployments/docker.html) guide.\n",
        "\n",
        "_______________\n",
        "NOTE\n",
        "Argilla supports ElasticSearch versions 8.8, 8.5, 8.0, and 7.17 and OpenSearch versions 1.3 and 2.3.\n",
        "___________"
      ],
      "metadata": {
        "id": "6qt5KXYjDsRL"
      }
    },
    {
      "cell_type": "markdown",
      "source": [
        "3.1. SQLite\n",
        "By default, Argilla will use SQLite to store information about users, workspaces, etc. No additional configuration is required to start using SQLite.\n",
        "\n",
        "By default, the database file will be created at `~/.argilla/argilla.db`, this can be configured by setting different values for `ARGILLA_DATABASE_URL` and `ARGILLA_HOME_PATH` environment variables."
      ],
      "metadata": {
        "id": "l7cJaZn5JEat"
      }
    },
    {
      "cell_type": "markdown",
      "source": [
        "4. Database Migrations\n",
        "\n",
        "Starting from Argilla 1.16.0, the data of the FeedbackDataset along with the user and workspace information are stored in an SQL database (SQLite or PostgreSQL). With each Argilla release, you may need to update the database schema to the newer version. Here, you can find how to do this database migration.\n",
        "\n",
        "4.1. Run Database Migration\n",
        "\n",
        "You can run database migrations by executing the following command:\n"
      ],
      "metadata": {
        "id": "rG9wD0C9PBj3"
      }
    },
    {
      "cell_type": "code",
      "source": [
        "argilla server database migrate"
      ],
      "metadata": {
        "id": "V0pv5H9BInLk"
      },
      "execution_count": null,
      "outputs": []
    },
    {
      "cell_type": "markdown",
      "source": [
        "The default SQLite database will be created at `~/.argilla/argilla.db`. This can be changed by setting different values for `ARGILLA_DATABASE_URL` and `ARGILLA_HOME_PATH` environment variables."
      ],
      "metadata": {
        "id": "wtvfksGRN_dN"
      }
    },
    {
      "cell_type": "markdown",
      "source": [
        "4.2. Recreate the Database\n",
        "\n",
        "Occasionally, it may be necessary to recreate the database from scratch to ensure a clean state in your development environment. For instance, to run the Argilla test suite or troubleshoot issues that could be related to database inconsistencies.\n",
        "\n",
        "First, you need to delete the Argilla database with the following command:\n",
        "\n"
      ],
      "metadata": {
        "id": "e2whojY1SeYc"
      }
    },
    {
      "cell_type": "code",
      "source": [
        "rm ~/.argilla/argilla.db"
      ],
      "metadata": {
        "id": "xdsHu5ABS0Gd"
      },
      "execution_count": null,
      "outputs": []
    },
    {
      "cell_type": "markdown",
      "source": [
        "After deleting the database, you will need to run the database migration task:\n",
        "\n"
      ],
      "metadata": {
        "id": "znVrvrHfS2ts"
      }
    },
    {
      "cell_type": "code",
      "source": [
        "argilla server database migrate"
      ],
      "metadata": {
        "id": "BBQa5PCAS43-"
      },
      "execution_count": null,
      "outputs": []
    },
    {
      "cell_type": "markdown",
      "source": [
        "By following these steps, you’ll have a fresh and clean database to work with."
      ],
      "metadata": {
        "id": "XmxF5PEOS84C"
      }
    },
    {
      "cell_type": "markdown",
      "source": [
        "5. Building UI"
      ],
      "metadata": {
        "id": "khV9sq6wYxgL"
      }
    }
  ]
}