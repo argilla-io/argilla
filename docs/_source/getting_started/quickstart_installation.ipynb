{
 "cells": [
  {
   "attachments": {},
   "cell_type": "markdown",
   "id": "8b1cd645",
   "metadata": {},
   "source": [
    "# Installation\n",
    "\n",
    "Welcome! If you have just discovered Argilla this is the best place to get started. Argilla is composed of:\n",
    "\n",
    "* **Argilla Client**: a powerful Python library for reading and writing data into Argilla, using all the libraries you love (transformers, spaCy, datasets, and any other).\n",
    "* **Argilla Server and UI**: the API and UI for data annotation and curation.\n",
    "\n",
    "To get started you need to:\n",
    "\n",
    "1. Launch the Argilla Server and UI.\n",
    "2. Pick a tutorial and start rocking with Argilla using Jupyter Notebooks, or Google Colab.\n",
    "\n",
    "Let's get up and running with Argilla!\n",
    "\n",
    "## Running Argilla Quickstart\n",
    "For small scale projects and quick experimentation, there are two recommended ways:\n",
    "\n",
    "### 👩🏽‍🚀 Argilla on Hugging Face Spaces\n",
    "If you have a Hugging Face account and want to run Argilla workflows from Colab or remote notebooks, you can deploy Argilla on Spaces:\n",
    "\n",
    "[![deploy on spaces](https://huggingface.co/datasets/huggingface/badges/raw/main/deploy-to-spaces-lg.svg)](https://huggingface.co/new-space?template=argilla/argilla-template-space)\n",
    "\n",
    "HuggingFace Spaces now have persistent storage and this is supported from Argilla 1.11.0 onwards, but you will need to manually activate it via the HuggingFace Spaces settings. Otherwise, unless you're on a paid space upgrade, after 48 hours of inactivity the space will be shut off and you will lose all the data. To avoid losing data, we highly recommend using the persistent storage layer offered by HuggingFace.\n",
    "If everything goes well, you'll see your online Argilla UI login page. You can log in with username `admin` and password `12345678`. You can find the direct URL by clicking on the Embed space button. You'll use this URL for sending data to your Argilla instance. \n",
    "\n",
    "<div class=\"flex justify-center\">\n",
    "<img src=\"https://huggingface.co/datasets/huggingface/documentation-images/resolve/main/hub/spaces-argilla-duplicate-space.png\"/>\n",
    "</div>\n",
    "\n",
    "You are now ready to start playing with Argilla! As the next step, we recommend [finding a tutorial](../tutorials/tutorials.html). Once you have a found a tutorial, you can (1) use the `Open in Colab` button to run Argilla workflows with free GPUs, or (2) download the notebook using the link `View source` at top-right corner of each tutorial page, and run it using VS Code, Jupyter Lab, or any other Jupyter IDE.\n",
    "\n",
    "<div class=\"alert alert-info\">\n",
    "\n",
    "Note\n",
    "\n",
    "If you want to configure settings such as UI passwords and API keys, you can [follow this guide](installation/deployments/huggingface-spaces.md). This is completely optional step if you want to just quickly experiment with Argilla, but it's recommended for small projects as you can control who can browse, upload, and delete datasets.\n",
    "\n",
    "</div>\n",
    "\n",
    "### 🐳 Argilla Quickstart with Docker\n",
    "If you want to run Argilla locally on your own computer, this is the easiest way to get Argilla UI up and running. With this option, you'll get some sample datasets to explore with Argilla UI, and a local Argilla UI running, which you can use to run your own Argilla data workflows using tools like VS Code or Jupyter Lab.\n",
    "\n",
    "\n",
    "<div class=\"alert alert-info\">\n",
    "\n",
    "Note\n",
    "\n",
    "You need to install Docker on your machine. We recommend installing [Docker Desktop](https://www.docker.com/products/docker-desktop/).\n",
    "\n",
    "</div>\n",
    "\n",
    "\n",
    "To run the Argilla quickstart container, you need to run this from your terminal:\n",
    "\n",
    "```bash\n",
    "\n",
    "docker run -d --name quickstart -p 6900:6900 argilla/argilla-quickstart:latest\n",
    "\n",
    "```\n",
    "\n",
    "<div class=\"alert alert-warning\">\n",
    "\n",
    "Apple Silicon Issues\n",
    "\n",
    "Apple Silicon M1/M2 users might have issues with this deployment. To resolve this, use the `--platform linux/arm64` parameter. If this doesn't work, deploying separate images or via docker-compose will work.\n",
    "\n",
    "</div>\n",
    "\n",
    "If everything goes well, you can go to [http://localhost:6900](http://localhost:6900) and log in with username `admin` and password `12345678`. You'll see several example datasets already pre-loaded. That means you are ready to start playing with Argilla! \n",
    "\n",
    "As the next step, we recommend [finding a tutorial](../tutorials/tutorials.md), downloading the notebook using the link `View source` at top-right corner of each tutorial page, and run it using VS Code, Jupyter Lab, or any other Jupyter IDE.\n",
    "\n",
    "For more details about setting up your Argilla Quickstart container [follow this guide](installation/deployments/docker-quickstart.md).\n",
    "\n",
    "## Other deployment options and configurations\n",
    "Argilla is highly configurable and easy to deploy on different environments. If you are looking for more advanced deployment options and want to have a more production-ready setup, you can read the [Deployment](installation/deployments/deployments.md) and [Configuration](installation/configurations/configurations.md) guides."
   ]
  },
  {
   "attachments": {},
   "cell_type": "markdown",
   "id": "df141638",
   "metadata": {},
   "source": [
    "## A default workflow\n",
    "\n",
    "If you want to go over a default workflow in argilla, check out [basics guide](../getting_started/quickstart_workflow.html)."
   ]
  }
 ],
 "metadata": {
  "kernelspec": {
   "display_name": "argilla",
   "language": "python",
   "name": "python3"
  },
  "language_info": {
   "codemirror_mode": {
    "name": "ipython",
    "version": 3
   },
   "file_extension": ".py",
   "mimetype": "text/x-python",
   "name": "python",
   "nbconvert_exporter": "python",
   "pygments_lexer": "ipython3",
   "version": "3.9.15"
  },
  "vscode": {
   "interpreter": {
    "hash": "2584bca9d226488c39a669ff1ce19d7ca5f410e2d3aa9b82f20653edd0d96bfc"
   }
  }
 },
 "nbformat": 4,
 "nbformat_minor": 5
}
