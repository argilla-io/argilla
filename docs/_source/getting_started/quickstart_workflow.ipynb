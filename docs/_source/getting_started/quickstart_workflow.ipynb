{
  "cells": [
    {
      "cell_type": "markdown",
      "id": "8b1cd645",
      "metadata": {
        "id": "8b1cd645"
      },
      "source": [
        "# Workflow\n",
        "Welcome! This will cover a default workflow from logging data to preparing for training.\n",
        "\n",
        "<div class=\"alert alert-info\">\n",
        "\n",
        "Note\n",
        "\n",
        "This workflow does not cover LLM-related tasks and the `FeedbackDataset`. To get acquainted with those, please visit our [guides on LLMs](/guides/llms/practical_guides/practical_guides.html).\n",
        "\n",
        "</div>"
      ]
    },
    {
      "cell_type": "markdown",
      "id": "EwDfn8E7W7jD",
      "metadata": {
        "id": "EwDfn8E7W7jD"
      },
      "source": [
        "## Install Libraries\n",
        "\n",
        "Install Argilla lastest version in Colab, along with other libraries and models used in this notebook."
      ]
    },
    {
      "cell_type": "code",
      "execution_count": null,
      "id": "CzxpuhdoW-h6",
      "metadata": {
        "colab": {
          "base_uri": "https://localhost:8080/"
        },
        "id": "CzxpuhdoW-h6",
        "outputId": "712e29de-8ce0-45aa-bd1d-f0c55422183d"
      },
      "outputs": [],
      "source": [
        "!pip install argilla datasets transformers evaluate spacy-transformers transformers[torch]\n",
        "!python -m spacy download de_core_news_sm"
      ]
    },
    {
      "cell_type": "markdown",
      "id": "UL17lWRKXwOI",
      "metadata": {
        "id": "UL17lWRKXwOI"
      },
      "source": [
        "## Launch the Argilla Server and UI.\n",
        "\n",
        "You can quickly deploy Argilla Server on [HF Spaces](https://huggingface.co/new-space?template=argilla/argilla-template-space).\n",
        "\n",
        "Alternatively, if you want to run Argilla locally on your own computer, the easiest way to get Argilla UI up and running is to deploy on Docker:\n",
        "\n",
        "```\n",
        "docker run -d --name quickstart -p 6900:6900 argilla/argilla-quickstart:latest\n",
        "```\n",
        "\n",
        "More info on Installation [here](/getting_started/installation/deployments/deployments.html)."
      ]
    },
    {
      "cell_type": "markdown",
      "id": "00b2e199",
      "metadata": {
        "id": "00b2e199"
      },
      "source": [
        "## Connect to Argilla\n",
        "\n"
      ]
    },
    {
      "cell_type": "markdown",
      "id": "klwYMH_rdv0m",
      "metadata": {
        "id": "klwYMH_rdv0m"
      },
      "source": [
        "It is possible to connect to our Argilla instance by simply importing Argilla library, which internally connects to Argilla Server using the `ARGILLA_API_URL` and `ARGILLA_API_KEY` environment variables."
      ]
    },
    {
      "cell_type": "code",
      "execution_count": null,
      "id": "IiJiKTi-dgLp",
      "metadata": {
        "id": "IiJiKTi-dgLp"
      },
      "outputs": [],
      "source": [
        "import os\n",
        "#set your variable here\n",
        "os.environ[\"ARGILLA_API_URL\"] = \"your_argilla_URL\"\n",
        "os.environ[\"ARGILLA_API_KEY\"] = \"owner.apikey\""
      ]
    },
    {
      "cell_type": "code",
      "execution_count": null,
      "id": "gG8wH9l7bXEm",
      "metadata": {
        "colab": {
          "base_uri": "https://localhost:8080/"
        },
        "id": "gG8wH9l7bXEm",
        "outputId": "44fe5b13-0ddb-4106-865a-6b6e3afe3c32"
      },
      "outputs": [],
      "source": [
        "import argilla as rg\n",
        "\n",
        "rg.init(workspace=\"admin\")"
      ]
    },
    {
      "cell_type": "markdown",
      "id": "2ZyEUBBjbK7k",
      "metadata": {
        "id": "2ZyEUBBjbK7k"
      },
      "source": [
        "`\"owner.apikey\"` is the default value for `ARGILLA_API_KEY` variable.\n",
        "\n",
        "`admin` is the name of default workspace. A **workspace** is a “space” inside your Argilla instance where authorized users can collaborate.\n",
        "\n",
        "If you want to initialize a connection manually you can use `rg.init()`. For more info about custom configurations like headers and workspace separation, check our [config page](../getting_started/installation/configurations/configurations.md).\n",
        "\n",
        "If you want to customize the access credentials, take a look at our [user management section](../getting_started/installation/configurations/user_management.md).\n",
        "\n",
        "\n"
      ]
    },
    {
      "cell_type": "markdown",
      "id": "ae0038d1-86b1-4eb9-ada4-ae561ad25aa3",
      "metadata": {
        "id": "ae0038d1-86b1-4eb9-ada4-ae561ad25aa3"
      },
      "source": [
        "## Upload data\n",
        "\n",
        "The main component of the Argilla data model is called a **record**. Records can be of different types depending on the currently supported tasks:\n",
        "\n",
        " 1. `TextClassificationRecord`\n",
        " 2. `TokenClassificationRecord`\n",
        " 3. `Text2TextRecord`\n",
        "\n",
        "The most critical attributes of a record that are common to all types are:\n",
        "\n",
        " - `text`: The input text of the record (Required);\n",
        " - `annotation`: Annotate your record in a task-specific manner (Optional);\n",
        " - `prediction`: Add task-specific model predictions to the record (Optional);\n",
        " - `metadata`: Add some arbitrary metadata to the record (Optional);\n",
        "\n",
        "A [Dataset](../guides/features/datasets.ipynb) in Argilla is a collection of records of the same type.\n",
        "\n",
        "\n",
        "\n",
        "\n"
      ]
    },
    {
      "cell_type": "code",
      "execution_count": null,
      "id": "866426c8-b3af-4307-a3eb-3d50171e4b7f",
      "metadata": {
        "colab": {
          "base_uri": "https://localhost:8080/",
          "height": 135,
          "referenced_widgets": [
            "83d7b92514e24e3d88f7207ec26a6b76",
            "9146f98b81744bceb0083e98aa1c3af9",
            "5406303479514972b3e5241ce40e3f70",
            "21a09c7691c64e088a74c08095df0057",
            "d577c60f0dbe46c1be6fab55672c4f86",
            "cf5da266e6ad493da229cf05469b2fc4"
          ]
        },
        "id": "866426c8-b3af-4307-a3eb-3d50171e4b7f",
        "outputId": "164125ed-722a-4e2e-9360-83cf8f2ad847"
      },
      "outputs": [],
      "source": [
        "# Create a basic text classification record\n",
        "textcat_record = rg.TextClassificationRecord(\n",
        "    text=\"Hello world, this is me!\",\n",
        "    prediction=[(\"LABEL1\", 0.8), (\"LABEL2\", 0.2)],\n",
        "    annotation=\"LABEL1\",\n",
        "    multi_label=False,\n",
        ")\n",
        "\n",
        "# Create a basic token classification record\n",
        "tokencat_record = rg.TokenClassificationRecord(\n",
        "    text=\"Michael is a professor at Harvard\",\n",
        "    tokens=[\"Michael\", \"is\", \"a\", \"professor\", \"at\", \"Harvard\"],\n",
        "    prediction=[(\"NAME\", 0, 7), (\"LOC\", 26, 33)],\n",
        ")\n",
        "\n",
        "# Create a basic text2text record\n",
        "text2text_record = rg.Text2TextRecord(\n",
        "    text=\"My name is Sarah and I love my dog.\",\n",
        "    prediction=[\"Je m'appelle Sarah et j'aime mon chien.\"],\n",
        ")\n",
        "\n",
        "# Upload (log) the records to corresponding datasets in the Argilla web app\n",
        "rg.log(textcat_record, \"my_textcat_dataset\")\n",
        "rg.log(tokencat_record, \"my_tokencat_dataset\")\n",
        "rg.log(tokencat_record, \"my_text2text_dataset\")"
      ]
    },
    {
      "cell_type": "markdown",
      "id": "c84db0f9-a9ca-4799-9a26-635d2f3b94d4",
      "metadata": {
        "id": "c84db0f9-a9ca-4799-9a26-635d2f3b94d4"
      },
      "source": [
        "Now you can access your datasets in the Argilla web app and look at your first records.\n",
        "\n",
        "However, most of the time, you will have your data in some file format, like TXT, CSV, or JSON.\n",
        "Argilla relies on two well-known Python libraries to read these files: [pandas](https://pandas.pydata.org/) and [datasets](https://huggingface.co/docs/datasets/index).\n",
        "After reading the files with one of those libraries, Argilla provides shortcuts to create your records automatically.\n",
        "\n",
        "Let's look at a few examples for each of the record types.\n",
        "\n",
        "**As mentioned earlier, you choose the record type depending on the task you want to tackle.**"
      ]
    },
    {
      "cell_type": "markdown",
      "id": "c4137fd2-cc98-4f59-a14e-31cd7489d59b",
      "metadata": {
        "id": "c4137fd2-cc98-4f59-a14e-31cd7489d59b"
      },
      "source": [
        "### 1. TextClassification"
      ]
    },
    {
      "cell_type": "markdown",
      "id": "c1004cfb-6fed-4281-950f-1f19495cd114",
      "metadata": {
        "id": "c1004cfb-6fed-4281-950f-1f19495cd114"
      },
      "source": [
        "In this example, we will read a [CSV file](https://www.kaggle.com/datasets/databar/10k-snapchat-reviews) from a Kaggle competition that contains reviews for the Snapchat app.\n",
        "The underlying task here could be to classify the reviews by their sentiment.\n",
        "\n",
        "Let us read the file with [pandas](https://pandas.pydata.org/)\n",
        "\n",
        "<div class=\"alert alert-info\">\n",
        "\n",
        "Note\n",
        "    \n",
        "If the file is too big to fit in memory, try using the [datasets library](https://huggingface.co/docs/datasets/index) with no memory constraints, as shown in the next section.\n",
        "    \n",
        "</div>"
      ]
    },
    {
      "cell_type": "code",
      "execution_count": null,
      "id": "d4ae148b-4d91-49ef-a7d1-6073ce8f2077",
      "metadata": {
        "id": "d4ae148b-4d91-49ef-a7d1-6073ce8f2077"
      },
      "outputs": [],
      "source": [
        "import pandas as pd\n",
        "\n",
        "# Read the CSV file into a pandas DataFrame\n",
        "dataframe = pd.read_csv(\"Snapchat_app_store_reviews.csv\")"
      ]
    },
    {
      "cell_type": "markdown",
      "id": "2ae293cb-4349-4d04-926f-e3abf0c3afad",
      "metadata": {
        "id": "2ae293cb-4349-4d04-926f-e3abf0c3afad"
      },
      "source": [
        "and have a quick look at the first three rows of the resulting [pandas DataFrame](https://pandas.pydata.org/docs/getting_started/intro_tutorials/01_table_oriented.html):"
      ]
    },
    {
      "cell_type": "code",
      "execution_count": null,
      "id": "3eb22d64-b15c-42d6-a43c-8a6f11c2bf5f",
      "metadata": {
        "colab": {
          "base_uri": "https://localhost:8080/",
          "height": 143
        },
        "id": "3eb22d64-b15c-42d6-a43c-8a6f11c2bf5f",
        "outputId": "1d993f6c-4861-48ce-ec0d-b157acb5b2e9"
      },
      "outputs": [
        {
          "data": {
            "text/html": [
              "\n",
              "\n",
              "  <div id=\"df-3c79c0c2-c2b1-45b6-b744-3ce27416cc95\">\n",
              "    <div class=\"colab-df-container\">\n",
              "      <div>\n",
              "<style scoped>\n",
              "    .dataframe tbody tr th:only-of-type {\n",
              "        vertical-align: middle;\n",
              "    }\n",
              "\n",
              "    .dataframe tbody tr th {\n",
              "        vertical-align: top;\n",
              "    }\n",
              "\n",
              "    .dataframe thead th {\n",
              "        text-align: right;\n",
              "    }\n",
              "</style>\n",
              "<table border=\"1\" class=\"dataframe\">\n",
              "  <thead>\n",
              "    <tr style=\"text-align: right;\">\n",
              "      <th></th>\n",
              "      <th>Unnamed: 0</th>\n",
              "      <th>userName</th>\n",
              "      <th>rating</th>\n",
              "      <th>review</th>\n",
              "      <th>isEdited</th>\n",
              "      <th>date</th>\n",
              "      <th>title</th>\n",
              "    </tr>\n",
              "  </thead>\n",
              "  <tbody>\n",
              "    <tr>\n",
              "      <th>0</th>\n",
              "      <td>0</td>\n",
              "      <td>Savvanananahhh</td>\n",
              "      <td>4</td>\n",
              "      <td>For the most part I quite enjoy Snapchat it’s ...</td>\n",
              "      <td>False</td>\n",
              "      <td>10/4/20 6:01</td>\n",
              "      <td>Performance issues</td>\n",
              "    </tr>\n",
              "    <tr>\n",
              "      <th>1</th>\n",
              "      <td>1</td>\n",
              "      <td>Idek 9-101112</td>\n",
              "      <td>3</td>\n",
              "      <td>I’m sorry to say it, but something is definite...</td>\n",
              "      <td>False</td>\n",
              "      <td>10/14/20 2:13</td>\n",
              "      <td>What happened?</td>\n",
              "    </tr>\n",
              "    <tr>\n",
              "      <th>2</th>\n",
              "      <td>2</td>\n",
              "      <td>William Quintana</td>\n",
              "      <td>3</td>\n",
              "      <td>Snapchat update ruined my story organization! ...</td>\n",
              "      <td>False</td>\n",
              "      <td>7/31/20 19:54</td>\n",
              "      <td>STORY ORGANIZATION RUINED!</td>\n",
              "    </tr>\n",
              "  </tbody>\n",
              "</table>\n",
              "</div>\n",
              "      <button class=\"colab-df-convert\" onclick=\"convertToInteractive('df-3c79c0c2-c2b1-45b6-b744-3ce27416cc95')\"\n",
              "              title=\"Convert this dataframe to an interactive table.\"\n",
              "              style=\"display:none;\">\n",
              "\n",
              "  <svg xmlns=\"http://www.w3.org/2000/svg\" height=\"24px\"viewBox=\"0 0 24 24\"\n",
              "       width=\"24px\">\n",
              "    <path d=\"M0 0h24v24H0V0z\" fill=\"none\"/>\n",
              "    <path d=\"M18.56 5.44l.94 2.06.94-2.06 2.06-.94-2.06-.94-.94-2.06-.94 2.06-2.06.94zm-11 1L8.5 8.5l.94-2.06 2.06-.94-2.06-.94L8.5 2.5l-.94 2.06-2.06.94zm10 10l.94 2.06.94-2.06 2.06-.94-2.06-.94-.94-2.06-.94 2.06-2.06.94z\"/><path d=\"M17.41 7.96l-1.37-1.37c-.4-.4-.92-.59-1.43-.59-.52 0-1.04.2-1.43.59L10.3 9.45l-7.72 7.72c-.78.78-.78 2.05 0 2.83L4 21.41c.39.39.9.59 1.41.59.51 0 1.02-.2 1.41-.59l7.78-7.78 2.81-2.81c.8-.78.8-2.07 0-2.86zM5.41 20L4 18.59l7.72-7.72 1.47 1.35L5.41 20z\"/>\n",
              "  </svg>\n",
              "      </button>\n",
              "\n",
              "\n",
              "\n",
              "    <div id=\"df-072a8f35-b026-4384-a916-d8e3b928d2df\">\n",
              "      <button class=\"colab-df-quickchart\" onclick=\"quickchart('df-072a8f35-b026-4384-a916-d8e3b928d2df')\"\n",
              "              title=\"Suggest charts.\"\n",
              "              style=\"display:none;\">\n",
              "\n",
              "<svg xmlns=\"http://www.w3.org/2000/svg\" height=\"24px\"viewBox=\"0 0 24 24\"\n",
              "     width=\"24px\">\n",
              "    <g>\n",
              "        <path d=\"M19 3H5c-1.1 0-2 .9-2 2v14c0 1.1.9 2 2 2h14c1.1 0 2-.9 2-2V5c0-1.1-.9-2-2-2zM9 17H7v-7h2v7zm4 0h-2V7h2v10zm4 0h-2v-4h2v4z\"/>\n",
              "    </g>\n",
              "</svg>\n",
              "      </button>\n",
              "    </div>\n",
              "\n",
              "<style>\n",
              "  .colab-df-quickchart {\n",
              "    background-color: #E8F0FE;\n",
              "    border: none;\n",
              "    border-radius: 50%;\n",
              "    cursor: pointer;\n",
              "    display: none;\n",
              "    fill: #1967D2;\n",
              "    height: 32px;\n",
              "    padding: 0 0 0 0;\n",
              "    width: 32px;\n",
              "  }\n",
              "\n",
              "  .colab-df-quickchart:hover {\n",
              "    background-color: #E2EBFA;\n",
              "    box-shadow: 0px 1px 2px rgba(60, 64, 67, 0.3), 0px 1px 3px 1px rgba(60, 64, 67, 0.15);\n",
              "    fill: #174EA6;\n",
              "  }\n",
              "\n",
              "  [theme=dark] .colab-df-quickchart {\n",
              "    background-color: #3B4455;\n",
              "    fill: #D2E3FC;\n",
              "  }\n",
              "\n",
              "  [theme=dark] .colab-df-quickchart:hover {\n",
              "    background-color: #434B5C;\n",
              "    box-shadow: 0px 1px 3px 1px rgba(0, 0, 0, 0.15);\n",
              "    filter: drop-shadow(0px 1px 2px rgba(0, 0, 0, 0.3));\n",
              "    fill: #FFFFFF;\n",
              "  }\n",
              "</style>\n",
              "\n",
              "    <script>\n",
              "      async function quickchart(key) {\n",
              "        const containerElement = document.querySelector('#' + key);\n",
              "        const charts = await google.colab.kernel.invokeFunction(\n",
              "            'suggestCharts', [key], {});\n",
              "      }\n",
              "    </script>\n",
              "\n",
              "      <script>\n",
              "\n",
              "function displayQuickchartButton(domScope) {\n",
              "  let quickchartButtonEl =\n",
              "    domScope.querySelector('#df-072a8f35-b026-4384-a916-d8e3b928d2df button.colab-df-quickchart');\n",
              "  quickchartButtonEl.style.display =\n",
              "    google.colab.kernel.accessAllowed ? 'block' : 'none';\n",
              "}\n",
              "\n",
              "        displayQuickchartButton(document);\n",
              "      </script>\n",
              "      <style>\n",
              "    .colab-df-container {\n",
              "      display:flex;\n",
              "      flex-wrap:wrap;\n",
              "      gap: 12px;\n",
              "    }\n",
              "\n",
              "    .colab-df-convert {\n",
              "      background-color: #E8F0FE;\n",
              "      border: none;\n",
              "      border-radius: 50%;\n",
              "      cursor: pointer;\n",
              "      display: none;\n",
              "      fill: #1967D2;\n",
              "      height: 32px;\n",
              "      padding: 0 0 0 0;\n",
              "      width: 32px;\n",
              "    }\n",
              "\n",
              "    .colab-df-convert:hover {\n",
              "      background-color: #E2EBFA;\n",
              "      box-shadow: 0px 1px 2px rgba(60, 64, 67, 0.3), 0px 1px 3px 1px rgba(60, 64, 67, 0.15);\n",
              "      fill: #174EA6;\n",
              "    }\n",
              "\n",
              "    [theme=dark] .colab-df-convert {\n",
              "      background-color: #3B4455;\n",
              "      fill: #D2E3FC;\n",
              "    }\n",
              "\n",
              "    [theme=dark] .colab-df-convert:hover {\n",
              "      background-color: #434B5C;\n",
              "      box-shadow: 0px 1px 3px 1px rgba(0, 0, 0, 0.15);\n",
              "      filter: drop-shadow(0px 1px 2px rgba(0, 0, 0, 0.3));\n",
              "      fill: #FFFFFF;\n",
              "    }\n",
              "  </style>\n",
              "\n",
              "      <script>\n",
              "        const buttonEl =\n",
              "          document.querySelector('#df-3c79c0c2-c2b1-45b6-b744-3ce27416cc95 button.colab-df-convert');\n",
              "        buttonEl.style.display =\n",
              "          google.colab.kernel.accessAllowed ? 'block' : 'none';\n",
              "\n",
              "        async function convertToInteractive(key) {\n",
              "          const element = document.querySelector('#df-3c79c0c2-c2b1-45b6-b744-3ce27416cc95');\n",
              "          const dataTable =\n",
              "            await google.colab.kernel.invokeFunction('convertToInteractive',\n",
              "                                                     [key], {});\n",
              "          if (!dataTable) return;\n",
              "\n",
              "          const docLinkHtml = 'Like what you see? Visit the ' +\n",
              "            '<a target=\"_blank\" href=https://colab.research.google.com/notebooks/data_table.ipynb>data table notebook</a>'\n",
              "            + ' to learn more about interactive tables.';\n",
              "          element.innerHTML = '';\n",
              "          dataTable['output_type'] = 'display_data';\n",
              "          await google.colab.output.renderOutput(dataTable, element);\n",
              "          const docLink = document.createElement('div');\n",
              "          docLink.innerHTML = docLinkHtml;\n",
              "          element.appendChild(docLink);\n",
              "        }\n",
              "      </script>\n",
              "    </div>\n",
              "  </div>\n"
            ],
            "text/plain": [
              "   Unnamed: 0          userName  rating  \\\n",
              "0           0    Savvanananahhh       4   \n",
              "1           1     Idek 9-101112       3   \n",
              "2           2  William Quintana       3   \n",
              "\n",
              "                                              review  isEdited           date  \\\n",
              "0  For the most part I quite enjoy Snapchat it’s ...     False   10/4/20 6:01   \n",
              "1  I’m sorry to say it, but something is definite...     False  10/14/20 2:13   \n",
              "2  Snapchat update ruined my story organization! ...     False  7/31/20 19:54   \n",
              "\n",
              "                        title  \n",
              "0          Performance issues  \n",
              "1              What happened?  \n",
              "2  STORY ORGANIZATION RUINED!  "
            ]
          },
          "execution_count": 146,
          "metadata": {},
          "output_type": "execute_result"
        }
      ],
      "source": [
        "dataframe.head(3)"
      ]
    },
    {
      "cell_type": "markdown",
      "id": "24f7560f-0929-478a-ae4e-62274a1f04c5",
      "metadata": {
        "id": "24f7560f-0929-478a-ae4e-62274a1f04c5"
      },
      "source": [
        "We will choose the _review_ column as input text for our records.\n",
        "For Argilla to know, we must rename the corresponding column to _text_.\n",
        "\n",
        "We will choose the _rating_ column as label.\n",
        "For Argilla to know, we must rename the corresponding column to _annotation_.\n",
        "\n",
        "Other columns can be conveniently wrapped in a dictionary and mapped as _metadata_ column, as expected by the [TextClassificationRecord](https://docs.argilla.io/en/latest/reference/python/python_client.html#argilla.client.models.TextClassificationRecord) class."
      ]
    },
    {
      "cell_type": "code",
      "execution_count": null,
      "id": "OUbcZnHtkZnj",
      "metadata": {
        "colab": {
          "base_uri": "https://localhost:8080/",
          "height": 206
        },
        "id": "OUbcZnHtkZnj",
        "outputId": "05a2ad0a-a377-40fb-eedb-3c2f1a492550"
      },
      "outputs": [
        {
          "data": {
            "text/html": [
              "\n",
              "\n",
              "  <div id=\"df-53aced13-c478-47d3-9d47-edfc31dd205c\">\n",
              "    <div class=\"colab-df-container\">\n",
              "      <div>\n",
              "<style scoped>\n",
              "    .dataframe tbody tr th:only-of-type {\n",
              "        vertical-align: middle;\n",
              "    }\n",
              "\n",
              "    .dataframe tbody tr th {\n",
              "        vertical-align: top;\n",
              "    }\n",
              "\n",
              "    .dataframe thead th {\n",
              "        text-align: right;\n",
              "    }\n",
              "</style>\n",
              "<table border=\"1\" class=\"dataframe\">\n",
              "  <thead>\n",
              "    <tr style=\"text-align: right;\">\n",
              "      <th></th>\n",
              "      <th>annotation</th>\n",
              "      <th>text</th>\n",
              "      <th>metadata</th>\n",
              "    </tr>\n",
              "  </thead>\n",
              "  <tbody>\n",
              "    <tr>\n",
              "      <th>0</th>\n",
              "      <td>4</td>\n",
              "      <td>For the most part I quite enjoy Snapchat it’s ...</td>\n",
              "      <td>{'userName': 'Savvanananahhh', 'isEdited': Fal...</td>\n",
              "    </tr>\n",
              "    <tr>\n",
              "      <th>1</th>\n",
              "      <td>3</td>\n",
              "      <td>I’m sorry to say it, but something is definite...</td>\n",
              "      <td>{'userName': 'Idek 9-101112', 'isEdited': Fals...</td>\n",
              "    </tr>\n",
              "    <tr>\n",
              "      <th>2</th>\n",
              "      <td>3</td>\n",
              "      <td>Snapchat update ruined my story organization! ...</td>\n",
              "      <td>{'userName': 'William Quintana', 'isEdited': F...</td>\n",
              "    </tr>\n",
              "    <tr>\n",
              "      <th>3</th>\n",
              "      <td>5</td>\n",
              "      <td>I really love the app for how long i have been...</td>\n",
              "      <td>{'userName': 'an gonna be unkown😏', 'isEdited'...</td>\n",
              "    </tr>\n",
              "    <tr>\n",
              "      <th>4</th>\n",
              "      <td>1</td>\n",
              "      <td>This is super frustrating. I was in the middle...</td>\n",
              "      <td>{'userName': 'gzhangziqi', 'isEdited': False, ...</td>\n",
              "    </tr>\n",
              "  </tbody>\n",
              "</table>\n",
              "</div>\n",
              "      <button class=\"colab-df-convert\" onclick=\"convertToInteractive('df-53aced13-c478-47d3-9d47-edfc31dd205c')\"\n",
              "              title=\"Convert this dataframe to an interactive table.\"\n",
              "              style=\"display:none;\">\n",
              "\n",
              "  <svg xmlns=\"http://www.w3.org/2000/svg\" height=\"24px\"viewBox=\"0 0 24 24\"\n",
              "       width=\"24px\">\n",
              "    <path d=\"M0 0h24v24H0V0z\" fill=\"none\"/>\n",
              "    <path d=\"M18.56 5.44l.94 2.06.94-2.06 2.06-.94-2.06-.94-.94-2.06-.94 2.06-2.06.94zm-11 1L8.5 8.5l.94-2.06 2.06-.94-2.06-.94L8.5 2.5l-.94 2.06-2.06.94zm10 10l.94 2.06.94-2.06 2.06-.94-2.06-.94-.94-2.06-.94 2.06-2.06.94z\"/><path d=\"M17.41 7.96l-1.37-1.37c-.4-.4-.92-.59-1.43-.59-.52 0-1.04.2-1.43.59L10.3 9.45l-7.72 7.72c-.78.78-.78 2.05 0 2.83L4 21.41c.39.39.9.59 1.41.59.51 0 1.02-.2 1.41-.59l7.78-7.78 2.81-2.81c.8-.78.8-2.07 0-2.86zM5.41 20L4 18.59l7.72-7.72 1.47 1.35L5.41 20z\"/>\n",
              "  </svg>\n",
              "      </button>\n",
              "\n",
              "\n",
              "\n",
              "    <div id=\"df-62a8f656-81c3-42ab-b584-0ae1d59c36be\">\n",
              "      <button class=\"colab-df-quickchart\" onclick=\"quickchart('df-62a8f656-81c3-42ab-b584-0ae1d59c36be')\"\n",
              "              title=\"Suggest charts.\"\n",
              "              style=\"display:none;\">\n",
              "\n",
              "<svg xmlns=\"http://www.w3.org/2000/svg\" height=\"24px\"viewBox=\"0 0 24 24\"\n",
              "     width=\"24px\">\n",
              "    <g>\n",
              "        <path d=\"M19 3H5c-1.1 0-2 .9-2 2v14c0 1.1.9 2 2 2h14c1.1 0 2-.9 2-2V5c0-1.1-.9-2-2-2zM9 17H7v-7h2v7zm4 0h-2V7h2v10zm4 0h-2v-4h2v4z\"/>\n",
              "    </g>\n",
              "</svg>\n",
              "      </button>\n",
              "    </div>\n",
              "\n",
              "<style>\n",
              "  .colab-df-quickchart {\n",
              "    background-color: #E8F0FE;\n",
              "    border: none;\n",
              "    border-radius: 50%;\n",
              "    cursor: pointer;\n",
              "    display: none;\n",
              "    fill: #1967D2;\n",
              "    height: 32px;\n",
              "    padding: 0 0 0 0;\n",
              "    width: 32px;\n",
              "  }\n",
              "\n",
              "  .colab-df-quickchart:hover {\n",
              "    background-color: #E2EBFA;\n",
              "    box-shadow: 0px 1px 2px rgba(60, 64, 67, 0.3), 0px 1px 3px 1px rgba(60, 64, 67, 0.15);\n",
              "    fill: #174EA6;\n",
              "  }\n",
              "\n",
              "  [theme=dark] .colab-df-quickchart {\n",
              "    background-color: #3B4455;\n",
              "    fill: #D2E3FC;\n",
              "  }\n",
              "\n",
              "  [theme=dark] .colab-df-quickchart:hover {\n",
              "    background-color: #434B5C;\n",
              "    box-shadow: 0px 1px 3px 1px rgba(0, 0, 0, 0.15);\n",
              "    filter: drop-shadow(0px 1px 2px rgba(0, 0, 0, 0.3));\n",
              "    fill: #FFFFFF;\n",
              "  }\n",
              "</style>\n",
              "\n",
              "    <script>\n",
              "      async function quickchart(key) {\n",
              "        const containerElement = document.querySelector('#' + key);\n",
              "        const charts = await google.colab.kernel.invokeFunction(\n",
              "            'suggestCharts', [key], {});\n",
              "      }\n",
              "    </script>\n",
              "\n",
              "      <script>\n",
              "\n",
              "function displayQuickchartButton(domScope) {\n",
              "  let quickchartButtonEl =\n",
              "    domScope.querySelector('#df-62a8f656-81c3-42ab-b584-0ae1d59c36be button.colab-df-quickchart');\n",
              "  quickchartButtonEl.style.display =\n",
              "    google.colab.kernel.accessAllowed ? 'block' : 'none';\n",
              "}\n",
              "\n",
              "        displayQuickchartButton(document);\n",
              "      </script>\n",
              "      <style>\n",
              "    .colab-df-container {\n",
              "      display:flex;\n",
              "      flex-wrap:wrap;\n",
              "      gap: 12px;\n",
              "    }\n",
              "\n",
              "    .colab-df-convert {\n",
              "      background-color: #E8F0FE;\n",
              "      border: none;\n",
              "      border-radius: 50%;\n",
              "      cursor: pointer;\n",
              "      display: none;\n",
              "      fill: #1967D2;\n",
              "      height: 32px;\n",
              "      padding: 0 0 0 0;\n",
              "      width: 32px;\n",
              "    }\n",
              "\n",
              "    .colab-df-convert:hover {\n",
              "      background-color: #E2EBFA;\n",
              "      box-shadow: 0px 1px 2px rgba(60, 64, 67, 0.3), 0px 1px 3px 1px rgba(60, 64, 67, 0.15);\n",
              "      fill: #174EA6;\n",
              "    }\n",
              "\n",
              "    [theme=dark] .colab-df-convert {\n",
              "      background-color: #3B4455;\n",
              "      fill: #D2E3FC;\n",
              "    }\n",
              "\n",
              "    [theme=dark] .colab-df-convert:hover {\n",
              "      background-color: #434B5C;\n",
              "      box-shadow: 0px 1px 3px 1px rgba(0, 0, 0, 0.15);\n",
              "      filter: drop-shadow(0px 1px 2px rgba(0, 0, 0, 0.3));\n",
              "      fill: #FFFFFF;\n",
              "    }\n",
              "  </style>\n",
              "\n",
              "      <script>\n",
              "        const buttonEl =\n",
              "          document.querySelector('#df-53aced13-c478-47d3-9d47-edfc31dd205c button.colab-df-convert');\n",
              "        buttonEl.style.display =\n",
              "          google.colab.kernel.accessAllowed ? 'block' : 'none';\n",
              "\n",
              "        async function convertToInteractive(key) {\n",
              "          const element = document.querySelector('#df-53aced13-c478-47d3-9d47-edfc31dd205c');\n",
              "          const dataTable =\n",
              "            await google.colab.kernel.invokeFunction('convertToInteractive',\n",
              "                                                     [key], {});\n",
              "          if (!dataTable) return;\n",
              "\n",
              "          const docLinkHtml = 'Like what you see? Visit the ' +\n",
              "            '<a target=\"_blank\" href=https://colab.research.google.com/notebooks/data_table.ipynb>data table notebook</a>'\n",
              "            + ' to learn more about interactive tables.';\n",
              "          element.innerHTML = '';\n",
              "          dataTable['output_type'] = 'display_data';\n",
              "          await google.colab.output.renderOutput(dataTable, element);\n",
              "          const docLink = document.createElement('div');\n",
              "          docLink.innerHTML = docLinkHtml;\n",
              "          element.appendChild(docLink);\n",
              "        }\n",
              "      </script>\n",
              "    </div>\n",
              "  </div>\n"
            ],
            "text/plain": [
              "   annotation                                               text  \\\n",
              "0           4  For the most part I quite enjoy Snapchat it’s ...   \n",
              "1           3  I’m sorry to say it, but something is definite...   \n",
              "2           3  Snapchat update ruined my story organization! ...   \n",
              "3           5  I really love the app for how long i have been...   \n",
              "4           1  This is super frustrating. I was in the middle...   \n",
              "\n",
              "                                            metadata  \n",
              "0  {'userName': 'Savvanananahhh', 'isEdited': Fal...  \n",
              "1  {'userName': 'Idek 9-101112', 'isEdited': Fals...  \n",
              "2  {'userName': 'William Quintana', 'isEdited': F...  \n",
              "3  {'userName': 'an gonna be unkown😏', 'isEdited'...  \n",
              "4  {'userName': 'gzhangziqi', 'isEdited': False, ...  "
            ]
          },
          "execution_count": 147,
          "metadata": {},
          "output_type": "execute_result"
        }
      ],
      "source": [
        "#wrap metadata in a dictionary\n",
        "def metadata_to_dict(dataframe):\n",
        "    metadata = {}\n",
        "    metadata[\"userName\"] = dataframe[\"userName\"]\n",
        "    metadata[\"isEdited\"] = dataframe[\"isEdited\"]\n",
        "    metadata[\"date\"] = dataframe[\"date\"]\n",
        "    metadata[\"title\"] = dataframe[\"title\"]\n",
        "    return metadata\n",
        "\n",
        "dataframe[\"metadata\"] = dataframe.apply(metadata_to_dict, axis=1)\n",
        "\n",
        "# Drop unused the columns\n",
        "dataframe = dataframe.drop(\n",
        "    [\"Unnamed: 0\", \"userName\", \"isEdited\", \"date\", \"title\"],\n",
        "    axis=1\n",
        ")\n",
        "\n",
        "# Rename the 'review' column to 'text',\n",
        "dataframe = dataframe.rename(\n",
        "    columns={\"review\": \"text\", \"rating\":\"annotation\"}\n",
        ")\n",
        "\n",
        "dataframe.head()"
      ]
    },
    {
      "cell_type": "markdown",
      "id": "a191e8c9-e55a-41b2-ad24-b0860fd31445",
      "metadata": {
        "id": "a191e8c9-e55a-41b2-ad24-b0860fd31445"
      },
      "source": [
        "We can now read this `DataFrame` with Argilla, which will automatically create the records and put them in a Dataset"
      ]
    },
    {
      "cell_type": "code",
      "execution_count": null,
      "id": "f2f63eda-d041-4849-8828-f3de0b25cb1a",
      "metadata": {
        "id": "f2f63eda-d041-4849-8828-f3de0b25cb1a"
      },
      "outputs": [],
      "source": [
        "import argilla as rg\n",
        "\n",
        "# Read DataFrame into a Argilla Dataset\n",
        "dataset_rg = rg.read_pandas(dataframe, task=\"TextClassification\")"
      ]
    },
    {
      "cell_type": "markdown",
      "id": "ebf825a9-7aaf-4b43-970d-6b4c2d493bb6",
      "metadata": {
        "id": "ebf825a9-7aaf-4b43-970d-6b4c2d493bb6"
      },
      "source": [
        "We will upload this dataset to the web app and give it the name *snapchat_reviews*"
      ]
    },
    {
      "cell_type": "code",
      "execution_count": null,
      "id": "ea1c0cb7-f129-45e7-8784-88908d882104",
      "metadata": {
        "colab": {
          "base_uri": "https://localhost:8080/",
          "height": 69
        },
        "id": "ea1c0cb7-f129-45e7-8784-88908d882104",
        "outputId": "3cf04921-2715-4e56-e919-5e9ecb8b1d47"
      },
      "outputs": [],
      "source": [
        "# Upload (log) the Dataset to the web app\n",
        "rg.log(dataset_rg, \"snapchat_reviews\")"
      ]
    },
    {
      "cell_type": "markdown",
      "id": "z4Pn5MTqxJw9",
      "metadata": {
        "id": "z4Pn5MTqxJw9"
      },
      "source": [
        "You can configure labels programmatically by using `configure_dataset_settings` method:"
      ]
    },
    {
      "cell_type": "code",
      "execution_count": null,
      "id": "fNIHsEWOwlKy",
      "metadata": {
        "id": "fNIHsEWOwlKy"
      },
      "outputs": [],
      "source": [
        "labels = [\"1\", \"2\", \"3\", \"4\" , \"5\"]\n",
        "settings = rg.TextClassificationSettings(label_schema=labels)\n",
        "rg.configure_dataset_settings(name=\"snapchat_reviews\", settings=settings)"
      ]
    },
    {
      "cell_type": "markdown",
      "id": "930cb8c3-5dfc-4e5a-bdf4-3c19f3d5fb00",
      "metadata": {
        "id": "930cb8c3-5dfc-4e5a-bdf4-3c19f3d5fb00"
      },
      "source": [
        "\n",
        "\n",
        "![Screenshot of the uploaded snapchat reviews](https://github.com/argilla-io/argilla/blob/main/docs/_source/_static/reference/webapp/explore-text-classification.png?raw=1)"
      ]
    },
    {
      "cell_type": "markdown",
      "id": "341abb81-2acd-411e-a1d3-7c54cfc257f8",
      "metadata": {
        "id": "341abb81-2acd-411e-a1d3-7c54cfc257f8"
      },
      "source": [
        "### 2. TokenClassification"
      ]
    },
    {
      "cell_type": "markdown",
      "id": "59944e44-4202-4890-9a45-f99fc3fb2dd1",
      "metadata": {
        "id": "59944e44-4202-4890-9a45-f99fc3fb2dd1"
      },
      "source": [
        "We will use German reviews of organic coffees in a [CSV file](https://www.kaggle.com/datasets/mldado/german-online-reviewsratings-of-organic-coffee) for this example.\n",
        "The underlying task here could be to extract all attributes of an organic coffee.\n",
        "\n",
        "This time, let's read the file with [datasets](https://huggingface.co/docs/datasets/index)."
      ]
    },
    {
      "cell_type": "code",
      "execution_count": null,
      "id": "502febcb-26f1-4832-8218-4f029ebed697",
      "metadata": {
        "colab": {
          "base_uri": "https://localhost:8080/"
        },
        "id": "502febcb-26f1-4832-8218-4f029ebed697",
        "outputId": "fac8ed08-e753-42ce-b77a-a3c56cc3d3fe"
      },
      "outputs": [],
      "source": [
        "from datasets import Dataset\n",
        "\n",
        "# Read the csv file\n",
        "dataset = Dataset.from_csv(\"kaffee_reviews.csv\")\n"
      ]
    },
    {
      "cell_type": "markdown",
      "id": "d29c2276-7cae-41e5-ba3b-157a8c1a6c6e",
      "metadata": {
        "id": "d29c2276-7cae-41e5-ba3b-157a8c1a6c6e"
      },
      "source": [
        "and have a quick look at the first three rows of the resulting [dataset Dataset](https://huggingface.co/docs/datasets/access):"
      ]
    },
    {
      "cell_type": "code",
      "execution_count": null,
      "id": "1b77947c-ed89-4dce-ba75-158264c8d384",
      "metadata": {
        "colab": {
          "base_uri": "https://localhost:8080/",
          "height": 143
        },
        "id": "1b77947c-ed89-4dce-ba75-158264c8d384",
        "outputId": "05dd4779-1d0f-4f8f-8aab-b696bef2a1eb"
      },
      "outputs": [
        {
          "data": {
            "text/html": [
              "\n",
              "\n",
              "  <div id=\"df-97f939dd-a90e-4204-902a-6012e187cfe4\">\n",
              "    <div class=\"colab-df-container\">\n",
              "      <div>\n",
              "<style scoped>\n",
              "    .dataframe tbody tr th:only-of-type {\n",
              "        vertical-align: middle;\n",
              "    }\n",
              "\n",
              "    .dataframe tbody tr th {\n",
              "        vertical-align: top;\n",
              "    }\n",
              "\n",
              "    .dataframe thead th {\n",
              "        text-align: right;\n",
              "    }\n",
              "</style>\n",
              "<table border=\"1\" class=\"dataframe\">\n",
              "  <thead>\n",
              "    <tr style=\"text-align: right;\">\n",
              "      <th></th>\n",
              "      <th>Unnamed: 0</th>\n",
              "      <th>brand</th>\n",
              "      <th>rating</th>\n",
              "      <th>review</th>\n",
              "    </tr>\n",
              "  </thead>\n",
              "  <tbody>\n",
              "    <tr>\n",
              "      <th>0</th>\n",
              "      <td>0</td>\n",
              "      <td>GEPA Kaffee</td>\n",
              "      <td>5</td>\n",
              "      <td>Wenn ich Bohnenkaffee trinke (auf Arbeit trink...</td>\n",
              "    </tr>\n",
              "    <tr>\n",
              "      <th>1</th>\n",
              "      <td>1</td>\n",
              "      <td>GEPA Kaffee</td>\n",
              "      <td>5</td>\n",
              "      <td>Für mich ist dieser Kaffee ideal. Die Grundvor...</td>\n",
              "    </tr>\n",
              "    <tr>\n",
              "      <th>2</th>\n",
              "      <td>2</td>\n",
              "      <td>GEPA Kaffee</td>\n",
              "      <td>5</td>\n",
              "      <td>Ich persönlich bin insbesondere von dem Geschm...</td>\n",
              "    </tr>\n",
              "  </tbody>\n",
              "</table>\n",
              "</div>\n",
              "      <button class=\"colab-df-convert\" onclick=\"convertToInteractive('df-97f939dd-a90e-4204-902a-6012e187cfe4')\"\n",
              "              title=\"Convert this dataframe to an interactive table.\"\n",
              "              style=\"display:none;\">\n",
              "\n",
              "  <svg xmlns=\"http://www.w3.org/2000/svg\" height=\"24px\"viewBox=\"0 0 24 24\"\n",
              "       width=\"24px\">\n",
              "    <path d=\"M0 0h24v24H0V0z\" fill=\"none\"/>\n",
              "    <path d=\"M18.56 5.44l.94 2.06.94-2.06 2.06-.94-2.06-.94-.94-2.06-.94 2.06-2.06.94zm-11 1L8.5 8.5l.94-2.06 2.06-.94-2.06-.94L8.5 2.5l-.94 2.06-2.06.94zm10 10l.94 2.06.94-2.06 2.06-.94-2.06-.94-.94-2.06-.94 2.06-2.06.94z\"/><path d=\"M17.41 7.96l-1.37-1.37c-.4-.4-.92-.59-1.43-.59-.52 0-1.04.2-1.43.59L10.3 9.45l-7.72 7.72c-.78.78-.78 2.05 0 2.83L4 21.41c.39.39.9.59 1.41.59.51 0 1.02-.2 1.41-.59l7.78-7.78 2.81-2.81c.8-.78.8-2.07 0-2.86zM5.41 20L4 18.59l7.72-7.72 1.47 1.35L5.41 20z\"/>\n",
              "  </svg>\n",
              "      </button>\n",
              "\n",
              "\n",
              "\n",
              "    <div id=\"df-1dbb06c0-1ac2-4717-9385-2d1d87fde8c2\">\n",
              "      <button class=\"colab-df-quickchart\" onclick=\"quickchart('df-1dbb06c0-1ac2-4717-9385-2d1d87fde8c2')\"\n",
              "              title=\"Suggest charts.\"\n",
              "              style=\"display:none;\">\n",
              "\n",
              "<svg xmlns=\"http://www.w3.org/2000/svg\" height=\"24px\"viewBox=\"0 0 24 24\"\n",
              "     width=\"24px\">\n",
              "    <g>\n",
              "        <path d=\"M19 3H5c-1.1 0-2 .9-2 2v14c0 1.1.9 2 2 2h14c1.1 0 2-.9 2-2V5c0-1.1-.9-2-2-2zM9 17H7v-7h2v7zm4 0h-2V7h2v10zm4 0h-2v-4h2v4z\"/>\n",
              "    </g>\n",
              "</svg>\n",
              "      </button>\n",
              "    </div>\n",
              "\n",
              "<style>\n",
              "  .colab-df-quickchart {\n",
              "    background-color: #E8F0FE;\n",
              "    border: none;\n",
              "    border-radius: 50%;\n",
              "    cursor: pointer;\n",
              "    display: none;\n",
              "    fill: #1967D2;\n",
              "    height: 32px;\n",
              "    padding: 0 0 0 0;\n",
              "    width: 32px;\n",
              "  }\n",
              "\n",
              "  .colab-df-quickchart:hover {\n",
              "    background-color: #E2EBFA;\n",
              "    box-shadow: 0px 1px 2px rgba(60, 64, 67, 0.3), 0px 1px 3px 1px rgba(60, 64, 67, 0.15);\n",
              "    fill: #174EA6;\n",
              "  }\n",
              "\n",
              "  [theme=dark] .colab-df-quickchart {\n",
              "    background-color: #3B4455;\n",
              "    fill: #D2E3FC;\n",
              "  }\n",
              "\n",
              "  [theme=dark] .colab-df-quickchart:hover {\n",
              "    background-color: #434B5C;\n",
              "    box-shadow: 0px 1px 3px 1px rgba(0, 0, 0, 0.15);\n",
              "    filter: drop-shadow(0px 1px 2px rgba(0, 0, 0, 0.3));\n",
              "    fill: #FFFFFF;\n",
              "  }\n",
              "</style>\n",
              "\n",
              "    <script>\n",
              "      async function quickchart(key) {\n",
              "        const containerElement = document.querySelector('#' + key);\n",
              "        const charts = await google.colab.kernel.invokeFunction(\n",
              "            'suggestCharts', [key], {});\n",
              "      }\n",
              "    </script>\n",
              "\n",
              "      <script>\n",
              "\n",
              "function displayQuickchartButton(domScope) {\n",
              "  let quickchartButtonEl =\n",
              "    domScope.querySelector('#df-1dbb06c0-1ac2-4717-9385-2d1d87fde8c2 button.colab-df-quickchart');\n",
              "  quickchartButtonEl.style.display =\n",
              "    google.colab.kernel.accessAllowed ? 'block' : 'none';\n",
              "}\n",
              "\n",
              "        displayQuickchartButton(document);\n",
              "      </script>\n",
              "      <style>\n",
              "    .colab-df-container {\n",
              "      display:flex;\n",
              "      flex-wrap:wrap;\n",
              "      gap: 12px;\n",
              "    }\n",
              "\n",
              "    .colab-df-convert {\n",
              "      background-color: #E8F0FE;\n",
              "      border: none;\n",
              "      border-radius: 50%;\n",
              "      cursor: pointer;\n",
              "      display: none;\n",
              "      fill: #1967D2;\n",
              "      height: 32px;\n",
              "      padding: 0 0 0 0;\n",
              "      width: 32px;\n",
              "    }\n",
              "\n",
              "    .colab-df-convert:hover {\n",
              "      background-color: #E2EBFA;\n",
              "      box-shadow: 0px 1px 2px rgba(60, 64, 67, 0.3), 0px 1px 3px 1px rgba(60, 64, 67, 0.15);\n",
              "      fill: #174EA6;\n",
              "    }\n",
              "\n",
              "    [theme=dark] .colab-df-convert {\n",
              "      background-color: #3B4455;\n",
              "      fill: #D2E3FC;\n",
              "    }\n",
              "\n",
              "    [theme=dark] .colab-df-convert:hover {\n",
              "      background-color: #434B5C;\n",
              "      box-shadow: 0px 1px 3px 1px rgba(0, 0, 0, 0.15);\n",
              "      filter: drop-shadow(0px 1px 2px rgba(0, 0, 0, 0.3));\n",
              "      fill: #FFFFFF;\n",
              "    }\n",
              "  </style>\n",
              "\n",
              "      <script>\n",
              "        const buttonEl =\n",
              "          document.querySelector('#df-97f939dd-a90e-4204-902a-6012e187cfe4 button.colab-df-convert');\n",
              "        buttonEl.style.display =\n",
              "          google.colab.kernel.accessAllowed ? 'block' : 'none';\n",
              "\n",
              "        async function convertToInteractive(key) {\n",
              "          const element = document.querySelector('#df-97f939dd-a90e-4204-902a-6012e187cfe4');\n",
              "          const dataTable =\n",
              "            await google.colab.kernel.invokeFunction('convertToInteractive',\n",
              "                                                     [key], {});\n",
              "          if (!dataTable) return;\n",
              "\n",
              "          const docLinkHtml = 'Like what you see? Visit the ' +\n",
              "            '<a target=\"_blank\" href=https://colab.research.google.com/notebooks/data_table.ipynb>data table notebook</a>'\n",
              "            + ' to learn more about interactive tables.';\n",
              "          element.innerHTML = '';\n",
              "          dataTable['output_type'] = 'display_data';\n",
              "          await google.colab.output.renderOutput(dataTable, element);\n",
              "          const docLink = document.createElement('div');\n",
              "          docLink.innerHTML = docLinkHtml;\n",
              "          element.appendChild(docLink);\n",
              "        }\n",
              "      </script>\n",
              "    </div>\n",
              "  </div>\n"
            ],
            "text/plain": [
              "   Unnamed: 0        brand  rating  \\\n",
              "0           0  GEPA Kaffee       5   \n",
              "1           1  GEPA Kaffee       5   \n",
              "2           2  GEPA Kaffee       5   \n",
              "\n",
              "                                              review  \n",
              "0  Wenn ich Bohnenkaffee trinke (auf Arbeit trink...  \n",
              "1  Für mich ist dieser Kaffee ideal. Die Grundvor...  \n",
              "2  Ich persönlich bin insbesondere von dem Geschm...  "
            ]
          },
          "execution_count": 78,
          "metadata": {},
          "output_type": "execute_result"
        }
      ],
      "source": [
        "# The best way to visualize a Dataset is actually via pandas\n",
        "dataset.select(range(3)).to_pandas()\n",
        "\n"
      ]
    },
    {
      "cell_type": "markdown",
      "id": "4f2d75b4-c9d7-40c0-b66c-c52e9de7ef1a",
      "metadata": {
        "id": "4f2d75b4-c9d7-40c0-b66c-c52e9de7ef1a"
      },
      "source": [
        "We will choose the _review_ column as input text for our records.\n",
        "For Argilla to know, we have to rename the corresponding column to _text_.\n",
        "\n",
        "Other columns can be conveniently wrapped in a dictionary and mapped as _metadata_ column as expected by the [TokenClassificationRecord](https://docs.argilla.io/en/latest/reference/python/python_client.html#argilla.client.models.TokenClassificationRecord) class."
      ]
    },
    {
      "cell_type": "code",
      "execution_count": null,
      "id": "32194771-66a3-4ecd-960e-59a8f8be8c2e",
      "metadata": {
        "colab": {
          "base_uri": "https://localhost:8080/"
        },
        "id": "32194771-66a3-4ecd-960e-59a8f8be8c2e",
        "outputId": "fef65821-c2a5-4527-8824-c93df4bd11c5"
      },
      "outputs": [],
      "source": [
        "#wrap metadata in a dictionary\n",
        "\n",
        "def metadata_to_dict(row):\n",
        "  metadata = {}\n",
        "  metadata[\"brand\"] = row[\"brand\"]\n",
        "  metadata[\"rating\"] = row[\"rating\"]\n",
        "  row['metadata'] = metadata\n",
        "  return row\n",
        "\n",
        "dataset = dataset.map(metadata_to_dict, remove_columns=[\"Unnamed: 0\",\"brand\",\"rating\"])\n",
        "\n",
        "dataset = dataset.rename_column(\"review\", \"text\")\n",
        "dataset.select(range(3)).to_pandas()"
      ]
    },
    {
      "cell_type": "markdown",
      "id": "fb7d2f14-37a0-4a5a-8ae7-86f8e9304fa9",
      "metadata": {
        "id": "fb7d2f14-37a0-4a5a-8ae7-86f8e9304fa9"
      },
      "source": [
        "In contrast to the other types, token classification records need the input text **and** the corresponding tokens.\n",
        "So let us tokenize our input text in a small helper function and add the tokens to a new column called _tokens_.\n",
        "\n",
        "<div class=\"alert alert-info\">\n",
        "\n",
        "Note\n",
        "\n",
        "We will use [spaCy](https://spacy.io/) to tokenize the text, but you can use whatever library you prefer.\n",
        "    \n",
        "</div>"
      ]
    },
    {
      "cell_type": "code",
      "execution_count": null,
      "id": "3a4664fe-0840-4768-b856-79bdbd1dc178",
      "metadata": {
        "colab": {
          "base_uri": "https://localhost:8080/",
          "height": 17,
          "referenced_widgets": [
            "7e028b1a16394adcac90c011d14d3458",
            "7605822dfe30439a8b53c117466e513f",
            "13d0949b0cad4cee8f1aa691ebd43476",
            "452429879663485da881188f70d20ca5",
            "d4bae643e36a4b258b137507d628399d",
            "50edec55b45242d3a3bd0b3d9444710e",
            "7d817c646854435686ab9b7e317b2f92",
            "e9f06d2e0ff645aea882a0958eda2820",
            "15c7227ddf8946d7bdd9c5e076407300",
            "f47cb9c3e20e48acb6df9bed2f0cb7bf",
            "2d9d836276674563893af311d7ceb5cf"
          ]
        },
        "id": "3a4664fe-0840-4768-b856-79bdbd1dc178",
        "outputId": "af22dc01-aa13-4ea7-e57e-9d922e37238a"
      },
      "outputs": [],
      "source": [
        "import spacy\n",
        "\n",
        "# Load a german spaCy model to tokenize our text\n",
        "nlp = spacy.load(\"de_core_news_sm\")\n",
        "\n",
        "# Define our tokenize function\n",
        "def tokenize(row):\n",
        "    tokens = [token.text for token in nlp(row[\"text\"])]\n",
        "    return {\"tokens\": tokens}\n",
        "\n",
        "\n",
        "# Map the tokenize function to our dataset\n",
        "dataset = dataset.map(tokenize)"
      ]
    },
    {
      "cell_type": "markdown",
      "id": "26e5ee02-3f26-4db2-9729-e664e9740e18",
      "metadata": {
        "id": "26e5ee02-3f26-4db2-9729-e664e9740e18"
      },
      "source": [
        "Let us have a quick look at our extended `Dataset`:"
      ]
    },
    {
      "cell_type": "code",
      "execution_count": null,
      "id": "efcd39d2-0cb3-4ce1-b9ec-ca341d4bdb8f",
      "metadata": {
        "colab": {
          "base_uri": "https://localhost:8080/",
          "height": 143
        },
        "id": "efcd39d2-0cb3-4ce1-b9ec-ca341d4bdb8f",
        "outputId": "75f4e97d-19dc-40b6-ff34-ee972213e655"
      },
      "outputs": [
        {
          "data": {
            "text/html": [
              "\n",
              "\n",
              "  <div id=\"df-c06f97c8-f58b-4cd9-99a0-8ede665b9195\">\n",
              "    <div class=\"colab-df-container\">\n",
              "      <div>\n",
              "<style scoped>\n",
              "    .dataframe tbody tr th:only-of-type {\n",
              "        vertical-align: middle;\n",
              "    }\n",
              "\n",
              "    .dataframe tbody tr th {\n",
              "        vertical-align: top;\n",
              "    }\n",
              "\n",
              "    .dataframe thead th {\n",
              "        text-align: right;\n",
              "    }\n",
              "</style>\n",
              "<table border=\"1\" class=\"dataframe\">\n",
              "  <thead>\n",
              "    <tr style=\"text-align: right;\">\n",
              "      <th></th>\n",
              "      <th>text</th>\n",
              "      <th>metadata</th>\n",
              "      <th>tokens</th>\n",
              "    </tr>\n",
              "  </thead>\n",
              "  <tbody>\n",
              "    <tr>\n",
              "      <th>0</th>\n",
              "      <td>Wenn ich Bohnenkaffee trinke (auf Arbeit trink...</td>\n",
              "      <td>{'brand': 'GEPA Kaffee', 'rating': 5}</td>\n",
              "      <td>[Wenn, ich, Bohnenkaffee, trinke, (, auf, Arbe...</td>\n",
              "    </tr>\n",
              "    <tr>\n",
              "      <th>1</th>\n",
              "      <td>Für mich ist dieser Kaffee ideal. Die Grundvor...</td>\n",
              "      <td>{'brand': 'GEPA Kaffee', 'rating': 5}</td>\n",
              "      <td>[Für, mich, ist, dieser, Kaffee, ideal, ., Die...</td>\n",
              "    </tr>\n",
              "    <tr>\n",
              "      <th>2</th>\n",
              "      <td>Ich persönlich bin insbesondere von dem Geschm...</td>\n",
              "      <td>{'brand': 'GEPA Kaffee', 'rating': 5}</td>\n",
              "      <td>[Ich, persönlich, bin, insbesondere, von, dem,...</td>\n",
              "    </tr>\n",
              "  </tbody>\n",
              "</table>\n",
              "</div>\n",
              "      <button class=\"colab-df-convert\" onclick=\"convertToInteractive('df-c06f97c8-f58b-4cd9-99a0-8ede665b9195')\"\n",
              "              title=\"Convert this dataframe to an interactive table.\"\n",
              "              style=\"display:none;\">\n",
              "\n",
              "  <svg xmlns=\"http://www.w3.org/2000/svg\" height=\"24px\"viewBox=\"0 0 24 24\"\n",
              "       width=\"24px\">\n",
              "    <path d=\"M0 0h24v24H0V0z\" fill=\"none\"/>\n",
              "    <path d=\"M18.56 5.44l.94 2.06.94-2.06 2.06-.94-2.06-.94-.94-2.06-.94 2.06-2.06.94zm-11 1L8.5 8.5l.94-2.06 2.06-.94-2.06-.94L8.5 2.5l-.94 2.06-2.06.94zm10 10l.94 2.06.94-2.06 2.06-.94-2.06-.94-.94-2.06-.94 2.06-2.06.94z\"/><path d=\"M17.41 7.96l-1.37-1.37c-.4-.4-.92-.59-1.43-.59-.52 0-1.04.2-1.43.59L10.3 9.45l-7.72 7.72c-.78.78-.78 2.05 0 2.83L4 21.41c.39.39.9.59 1.41.59.51 0 1.02-.2 1.41-.59l7.78-7.78 2.81-2.81c.8-.78.8-2.07 0-2.86zM5.41 20L4 18.59l7.72-7.72 1.47 1.35L5.41 20z\"/>\n",
              "  </svg>\n",
              "      </button>\n",
              "\n",
              "\n",
              "\n",
              "    <div id=\"df-ada2d540-6ebe-4e49-9337-f23704b1405a\">\n",
              "      <button class=\"colab-df-quickchart\" onclick=\"quickchart('df-ada2d540-6ebe-4e49-9337-f23704b1405a')\"\n",
              "              title=\"Suggest charts.\"\n",
              "              style=\"display:none;\">\n",
              "\n",
              "<svg xmlns=\"http://www.w3.org/2000/svg\" height=\"24px\"viewBox=\"0 0 24 24\"\n",
              "     width=\"24px\">\n",
              "    <g>\n",
              "        <path d=\"M19 3H5c-1.1 0-2 .9-2 2v14c0 1.1.9 2 2 2h14c1.1 0 2-.9 2-2V5c0-1.1-.9-2-2-2zM9 17H7v-7h2v7zm4 0h-2V7h2v10zm4 0h-2v-4h2v4z\"/>\n",
              "    </g>\n",
              "</svg>\n",
              "      </button>\n",
              "    </div>\n",
              "\n",
              "<style>\n",
              "  .colab-df-quickchart {\n",
              "    background-color: #E8F0FE;\n",
              "    border: none;\n",
              "    border-radius: 50%;\n",
              "    cursor: pointer;\n",
              "    display: none;\n",
              "    fill: #1967D2;\n",
              "    height: 32px;\n",
              "    padding: 0 0 0 0;\n",
              "    width: 32px;\n",
              "  }\n",
              "\n",
              "  .colab-df-quickchart:hover {\n",
              "    background-color: #E2EBFA;\n",
              "    box-shadow: 0px 1px 2px rgba(60, 64, 67, 0.3), 0px 1px 3px 1px rgba(60, 64, 67, 0.15);\n",
              "    fill: #174EA6;\n",
              "  }\n",
              "\n",
              "  [theme=dark] .colab-df-quickchart {\n",
              "    background-color: #3B4455;\n",
              "    fill: #D2E3FC;\n",
              "  }\n",
              "\n",
              "  [theme=dark] .colab-df-quickchart:hover {\n",
              "    background-color: #434B5C;\n",
              "    box-shadow: 0px 1px 3px 1px rgba(0, 0, 0, 0.15);\n",
              "    filter: drop-shadow(0px 1px 2px rgba(0, 0, 0, 0.3));\n",
              "    fill: #FFFFFF;\n",
              "  }\n",
              "</style>\n",
              "\n",
              "    <script>\n",
              "      async function quickchart(key) {\n",
              "        const containerElement = document.querySelector('#' + key);\n",
              "        const charts = await google.colab.kernel.invokeFunction(\n",
              "            'suggestCharts', [key], {});\n",
              "      }\n",
              "    </script>\n",
              "\n",
              "      <script>\n",
              "\n",
              "function displayQuickchartButton(domScope) {\n",
              "  let quickchartButtonEl =\n",
              "    domScope.querySelector('#df-ada2d540-6ebe-4e49-9337-f23704b1405a button.colab-df-quickchart');\n",
              "  quickchartButtonEl.style.display =\n",
              "    google.colab.kernel.accessAllowed ? 'block' : 'none';\n",
              "}\n",
              "\n",
              "        displayQuickchartButton(document);\n",
              "      </script>\n",
              "      <style>\n",
              "    .colab-df-container {\n",
              "      display:flex;\n",
              "      flex-wrap:wrap;\n",
              "      gap: 12px;\n",
              "    }\n",
              "\n",
              "    .colab-df-convert {\n",
              "      background-color: #E8F0FE;\n",
              "      border: none;\n",
              "      border-radius: 50%;\n",
              "      cursor: pointer;\n",
              "      display: none;\n",
              "      fill: #1967D2;\n",
              "      height: 32px;\n",
              "      padding: 0 0 0 0;\n",
              "      width: 32px;\n",
              "    }\n",
              "\n",
              "    .colab-df-convert:hover {\n",
              "      background-color: #E2EBFA;\n",
              "      box-shadow: 0px 1px 2px rgba(60, 64, 67, 0.3), 0px 1px 3px 1px rgba(60, 64, 67, 0.15);\n",
              "      fill: #174EA6;\n",
              "    }\n",
              "\n",
              "    [theme=dark] .colab-df-convert {\n",
              "      background-color: #3B4455;\n",
              "      fill: #D2E3FC;\n",
              "    }\n",
              "\n",
              "    [theme=dark] .colab-df-convert:hover {\n",
              "      background-color: #434B5C;\n",
              "      box-shadow: 0px 1px 3px 1px rgba(0, 0, 0, 0.15);\n",
              "      filter: drop-shadow(0px 1px 2px rgba(0, 0, 0, 0.3));\n",
              "      fill: #FFFFFF;\n",
              "    }\n",
              "  </style>\n",
              "\n",
              "      <script>\n",
              "        const buttonEl =\n",
              "          document.querySelector('#df-c06f97c8-f58b-4cd9-99a0-8ede665b9195 button.colab-df-convert');\n",
              "        buttonEl.style.display =\n",
              "          google.colab.kernel.accessAllowed ? 'block' : 'none';\n",
              "\n",
              "        async function convertToInteractive(key) {\n",
              "          const element = document.querySelector('#df-c06f97c8-f58b-4cd9-99a0-8ede665b9195');\n",
              "          const dataTable =\n",
              "            await google.colab.kernel.invokeFunction('convertToInteractive',\n",
              "                                                     [key], {});\n",
              "          if (!dataTable) return;\n",
              "\n",
              "          const docLinkHtml = 'Like what you see? Visit the ' +\n",
              "            '<a target=\"_blank\" href=https://colab.research.google.com/notebooks/data_table.ipynb>data table notebook</a>'\n",
              "            + ' to learn more about interactive tables.';\n",
              "          element.innerHTML = '';\n",
              "          dataTable['output_type'] = 'display_data';\n",
              "          await google.colab.output.renderOutput(dataTable, element);\n",
              "          const docLink = document.createElement('div');\n",
              "          docLink.innerHTML = docLinkHtml;\n",
              "          element.appendChild(docLink);\n",
              "        }\n",
              "      </script>\n",
              "    </div>\n",
              "  </div>\n"
            ],
            "text/plain": [
              "                                                text  \\\n",
              "0  Wenn ich Bohnenkaffee trinke (auf Arbeit trink...   \n",
              "1  Für mich ist dieser Kaffee ideal. Die Grundvor...   \n",
              "2  Ich persönlich bin insbesondere von dem Geschm...   \n",
              "\n",
              "                                metadata  \\\n",
              "0  {'brand': 'GEPA Kaffee', 'rating': 5}   \n",
              "1  {'brand': 'GEPA Kaffee', 'rating': 5}   \n",
              "2  {'brand': 'GEPA Kaffee', 'rating': 5}   \n",
              "\n",
              "                                              tokens  \n",
              "0  [Wenn, ich, Bohnenkaffee, trinke, (, auf, Arbe...  \n",
              "1  [Für, mich, ist, dieser, Kaffee, ideal, ., Die...  \n",
              "2  [Ich, persönlich, bin, insbesondere, von, dem,...  "
            ]
          },
          "execution_count": 84,
          "metadata": {},
          "output_type": "execute_result"
        }
      ],
      "source": [
        "dataset.select(range(3)).to_pandas()"
      ]
    },
    {
      "cell_type": "markdown",
      "id": "054e40cc-51f4-4321-b42a-2301775c0e9f",
      "metadata": {
        "id": "054e40cc-51f4-4321-b42a-2301775c0e9f"
      },
      "source": [
        "We can now read this `Dataset` with Argilla, which will automatically create the records and put them in a [Argilla Dataset](../guides/features/datasets.ipynb)."
      ]
    },
    {
      "cell_type": "code",
      "execution_count": null,
      "id": "0e4ff337-7b12-48fc-b8a1-a829a7800d49",
      "metadata": {
        "id": "0e4ff337-7b12-48fc-b8a1-a829a7800d49"
      },
      "outputs": [],
      "source": [
        "# Read Dataset into a Argilla Dataset\n",
        "dataset_rg = rg.read_datasets(dataset, task=\"TokenClassification\")\n"
      ]
    },
    {
      "cell_type": "markdown",
      "id": "4cb220a7-cb2c-4e38-bd41-4cf96ed478c2",
      "metadata": {
        "id": "4cb220a7-cb2c-4e38-bd41-4cf96ed478c2"
      },
      "source": [
        "We will upload this dataset to the web app and give it the name `coffee_reviews`"
      ]
    },
    {
      "cell_type": "code",
      "execution_count": null,
      "id": "5dee85f1-1a37-4850-9bda-c4e54aa5db03",
      "metadata": {
        "colab": {
          "base_uri": "https://localhost:8080/",
          "height": 69,
          "referenced_widgets": [
            "db3e5db8fe3f42a8908e3cd2a029cf56",
            "706f8e4861904c33a9468216e3220d9b"
          ]
        },
        "id": "5dee85f1-1a37-4850-9bda-c4e54aa5db03",
        "outputId": "8ecb355c-b251-4758-e108-ce483d6f7e8d"
      },
      "outputs": [],
      "source": [
        "# Log the dataset to the Argilla web app\n",
        "rg.log(dataset_rg, \"coffee-reviews\")"
      ]
    },
    {
      "cell_type": "markdown",
      "id": "bd1c2d53-37c6-438a-b447-6dcae3369f55",
      "metadata": {
        "id": "bd1c2d53-37c6-438a-b447-6dcae3369f55"
      },
      "source": [
        "You can create labels in _Dataset\\Settings_ and start annotating:\n",
        "\n",
        "![Screenshot of the uploaded coffee reviews](https://github.com/argilla-io/argilla/blob/main/docs/_source/_static/reference/webapp/features-annotate.png?raw=1)"
      ]
    },
    {
      "cell_type": "markdown",
      "id": "d66683c8-9ed5-4ab9-9937-39eeac9ccab0",
      "metadata": {
        "id": "d66683c8-9ed5-4ab9-9937-39eeac9ccab0"
      },
      "source": [
        "### 3. Text2Text"
      ]
    },
    {
      "cell_type": "markdown",
      "id": "3c17d862-5e64-4c34-8aa5-3941506913c6",
      "metadata": {
        "id": "3c17d862-5e64-4c34-8aa5-3941506913c6"
      },
      "source": [
        "In this example, we will use English sentences from the European Center for Disease Prevention and Control available at the [Hugging Face Hub](https://huggingface.co/datasets/europa_ecdc_tm).\n",
        "The underlying task here could be to translate the sentences into other European languages.\n",
        "\n",
        "Let us load the data with [datasets](https://huggingface.co/docs/datasets/index) from the [Hub](https://huggingface.co/datasets)."
      ]
    },
    {
      "cell_type": "code",
      "execution_count": null,
      "id": "cfbce85f-200e-4b54-9650-308395b81770",
      "metadata": {
        "colab": {
          "base_uri": "https://localhost:8080/"
        },
        "id": "cfbce85f-200e-4b54-9650-308395b81770",
        "outputId": "4af259e0-f733-4991-b24b-389d075308ad"
      },
      "outputs": [],
      "source": [
        "from datasets import load_dataset\n",
        "\n",
        "# Load the Dataset from the Hugging Face Hub and extract the train split\n",
        "dataset = load_dataset(\"europa_ecdc_tm\", \"en2fr\", split=\"train\")\n"
      ]
    },
    {
      "cell_type": "markdown",
      "id": "0de908f2-ff08-4a0e-87d9-a278f9ccd452",
      "metadata": {
        "id": "0de908f2-ff08-4a0e-87d9-a278f9ccd452"
      },
      "source": [
        "and have a quick look at the first row of the resulting [dataset Dataset](https://huggingface.co/docs/datasets/access):"
      ]
    },
    {
      "cell_type": "code",
      "execution_count": null,
      "id": "16d386a5-14cb-46cd-afb2-e8405ddd5232",
      "metadata": {
        "colab": {
          "base_uri": "https://localhost:8080/"
        },
        "id": "16d386a5-14cb-46cd-afb2-e8405ddd5232",
        "outputId": "325d7ced-f987-4e42-e3ea-88e1b103976b"
      },
      "outputs": [
        {
          "data": {
            "text/plain": [
              "{'translation': {'en': 'Vaccination against hepatitis C is not yet available.',\n",
              "  'fr': 'Aucune vaccination contre l’hépatite C n’est encore disponible.'}}"
            ]
          },
          "execution_count": 130,
          "metadata": {},
          "output_type": "execute_result"
        }
      ],
      "source": [
        "dataset[0]\n"
      ]
    },
    {
      "cell_type": "markdown",
      "id": "67e41a33-11c2-422f-a5f4-411dc464f451",
      "metadata": {
        "id": "67e41a33-11c2-422f-a5f4-411dc464f451"
      },
      "source": [
        "We can see that the English sentences are nested in a dictionary inside the _translation_ column.\n",
        "\n",
        "To extract English sentences into a new _text_ column we will write a quick helper function and [map](https://huggingface.co/docs/datasets/process#map) the whole `Dataset` with it.\n",
        "\n",
        "French sentences will be extracted into a new _prediction_ column, wrapped in \"[ ]\", as the prediction field of [Text2TextRecord](https://docs.argilla.io/en/latest/reference/python/python_client.html#argilla.client.models.Text2TextRecord) accepts a list of strings or tuples."
      ]
    },
    {
      "cell_type": "code",
      "execution_count": null,
      "id": "b27d93ad-86f0-4d6c-a31f-5cc1d55235a6",
      "metadata": {
        "colab": {
          "base_uri": "https://localhost:8080/",
          "height": 17,
          "referenced_widgets": [
            "9217d6b5c2a0495bbb0724dd296b2af7",
            "518e260b7d2f4f90b39668414389c166",
            "4635b9f0d42b4172b52b64de660082d1",
            "b1df83e2ef6540bbb09098e12d707d6d",
            "0a54f0576a9347d5a546ff8b3e371121",
            "8f5ca2714e114119adb61c9122afffbb",
            "c36638fb29cb4510bfdda737e03c4a0e",
            "514672241dad488ca37a5e802553eb35",
            "48dbaf59d0be41a6a6d7c30cb621e9ef",
            "007a11c0643c45ecbf50c92bb244170f",
            "81e07d9401bd40cc82240136a529be2d"
          ]
        },
        "id": "b27d93ad-86f0-4d6c-a31f-5cc1d55235a6",
        "outputId": "1b19c0ec-30ad-4773-bfe3-0eeb150d48fd"
      },
      "outputs": [],
      "source": [
        "# Define our helper extract function\n",
        "def extract(row):\n",
        "    return {\"text\": row[\"translation\"][\"en\"], \"prediction\":[row[\"translation\"][\"fr\"]]}\n",
        "\n",
        "\n",
        "# Map the extract function to our dataset\n",
        "dataset = dataset.map(extract, remove_columns = [\"translation\"])\n"
      ]
    },
    {
      "cell_type": "markdown",
      "id": "c9aa9293-64bb-4061-b686-b3115a7942fc",
      "metadata": {
        "id": "c9aa9293-64bb-4061-b686-b3115a7942fc"
      },
      "source": [
        "Let us have a quick look at our extended `Dataset`:"
      ]
    },
    {
      "cell_type": "code",
      "execution_count": null,
      "id": "KGbG_olNGU9j",
      "metadata": {
        "colab": {
          "base_uri": "https://localhost:8080/",
          "height": 143
        },
        "id": "KGbG_olNGU9j",
        "outputId": "8d2b53bf-8e10-45d0-8f11-c8be59ea3270"
      },
      "outputs": [
        {
          "data": {
            "text/html": [
              "\n",
              "\n",
              "  <div id=\"df-fa0889f1-6b28-401c-bd41-33d3ac17b508\">\n",
              "    <div class=\"colab-df-container\">\n",
              "      <div>\n",
              "<style scoped>\n",
              "    .dataframe tbody tr th:only-of-type {\n",
              "        vertical-align: middle;\n",
              "    }\n",
              "\n",
              "    .dataframe tbody tr th {\n",
              "        vertical-align: top;\n",
              "    }\n",
              "\n",
              "    .dataframe thead th {\n",
              "        text-align: right;\n",
              "    }\n",
              "</style>\n",
              "<table border=\"1\" class=\"dataframe\">\n",
              "  <thead>\n",
              "    <tr style=\"text-align: right;\">\n",
              "      <th></th>\n",
              "      <th>text</th>\n",
              "      <th>prediction</th>\n",
              "    </tr>\n",
              "  </thead>\n",
              "  <tbody>\n",
              "    <tr>\n",
              "      <th>0</th>\n",
              "      <td>Vaccination against hepatitis C is not yet ava...</td>\n",
              "      <td>[Aucune vaccination contre l’hépatite C n’est ...</td>\n",
              "    </tr>\n",
              "    <tr>\n",
              "      <th>1</th>\n",
              "      <td>HIV infection</td>\n",
              "      <td>[Infection à VIH]</td>\n",
              "    </tr>\n",
              "    <tr>\n",
              "      <th>2</th>\n",
              "      <td>The human immunodeficiency virus (HIV) remains...</td>\n",
              "      <td>[L’infection par le virus de l’immunodéficienc...</td>\n",
              "    </tr>\n",
              "  </tbody>\n",
              "</table>\n",
              "</div>\n",
              "      <button class=\"colab-df-convert\" onclick=\"convertToInteractive('df-fa0889f1-6b28-401c-bd41-33d3ac17b508')\"\n",
              "              title=\"Convert this dataframe to an interactive table.\"\n",
              "              style=\"display:none;\">\n",
              "\n",
              "  <svg xmlns=\"http://www.w3.org/2000/svg\" height=\"24px\"viewBox=\"0 0 24 24\"\n",
              "       width=\"24px\">\n",
              "    <path d=\"M0 0h24v24H0V0z\" fill=\"none\"/>\n",
              "    <path d=\"M18.56 5.44l.94 2.06.94-2.06 2.06-.94-2.06-.94-.94-2.06-.94 2.06-2.06.94zm-11 1L8.5 8.5l.94-2.06 2.06-.94-2.06-.94L8.5 2.5l-.94 2.06-2.06.94zm10 10l.94 2.06.94-2.06 2.06-.94-2.06-.94-.94-2.06-.94 2.06-2.06.94z\"/><path d=\"M17.41 7.96l-1.37-1.37c-.4-.4-.92-.59-1.43-.59-.52 0-1.04.2-1.43.59L10.3 9.45l-7.72 7.72c-.78.78-.78 2.05 0 2.83L4 21.41c.39.39.9.59 1.41.59.51 0 1.02-.2 1.41-.59l7.78-7.78 2.81-2.81c.8-.78.8-2.07 0-2.86zM5.41 20L4 18.59l7.72-7.72 1.47 1.35L5.41 20z\"/>\n",
              "  </svg>\n",
              "      </button>\n",
              "\n",
              "\n",
              "\n",
              "    <div id=\"df-462ab1a0-468f-44ff-8311-dd2dad74101c\">\n",
              "      <button class=\"colab-df-quickchart\" onclick=\"quickchart('df-462ab1a0-468f-44ff-8311-dd2dad74101c')\"\n",
              "              title=\"Suggest charts.\"\n",
              "              style=\"display:none;\">\n",
              "\n",
              "<svg xmlns=\"http://www.w3.org/2000/svg\" height=\"24px\"viewBox=\"0 0 24 24\"\n",
              "     width=\"24px\">\n",
              "    <g>\n",
              "        <path d=\"M19 3H5c-1.1 0-2 .9-2 2v14c0 1.1.9 2 2 2h14c1.1 0 2-.9 2-2V5c0-1.1-.9-2-2-2zM9 17H7v-7h2v7zm4 0h-2V7h2v10zm4 0h-2v-4h2v4z\"/>\n",
              "    </g>\n",
              "</svg>\n",
              "      </button>\n",
              "    </div>\n",
              "\n",
              "<style>\n",
              "  .colab-df-quickchart {\n",
              "    background-color: #E8F0FE;\n",
              "    border: none;\n",
              "    border-radius: 50%;\n",
              "    cursor: pointer;\n",
              "    display: none;\n",
              "    fill: #1967D2;\n",
              "    height: 32px;\n",
              "    padding: 0 0 0 0;\n",
              "    width: 32px;\n",
              "  }\n",
              "\n",
              "  .colab-df-quickchart:hover {\n",
              "    background-color: #E2EBFA;\n",
              "    box-shadow: 0px 1px 2px rgba(60, 64, 67, 0.3), 0px 1px 3px 1px rgba(60, 64, 67, 0.15);\n",
              "    fill: #174EA6;\n",
              "  }\n",
              "\n",
              "  [theme=dark] .colab-df-quickchart {\n",
              "    background-color: #3B4455;\n",
              "    fill: #D2E3FC;\n",
              "  }\n",
              "\n",
              "  [theme=dark] .colab-df-quickchart:hover {\n",
              "    background-color: #434B5C;\n",
              "    box-shadow: 0px 1px 3px 1px rgba(0, 0, 0, 0.15);\n",
              "    filter: drop-shadow(0px 1px 2px rgba(0, 0, 0, 0.3));\n",
              "    fill: #FFFFFF;\n",
              "  }\n",
              "</style>\n",
              "\n",
              "    <script>\n",
              "      async function quickchart(key) {\n",
              "        const containerElement = document.querySelector('#' + key);\n",
              "        const charts = await google.colab.kernel.invokeFunction(\n",
              "            'suggestCharts', [key], {});\n",
              "      }\n",
              "    </script>\n",
              "\n",
              "      <script>\n",
              "\n",
              "function displayQuickchartButton(domScope) {\n",
              "  let quickchartButtonEl =\n",
              "    domScope.querySelector('#df-462ab1a0-468f-44ff-8311-dd2dad74101c button.colab-df-quickchart');\n",
              "  quickchartButtonEl.style.display =\n",
              "    google.colab.kernel.accessAllowed ? 'block' : 'none';\n",
              "}\n",
              "\n",
              "        displayQuickchartButton(document);\n",
              "      </script>\n",
              "      <style>\n",
              "    .colab-df-container {\n",
              "      display:flex;\n",
              "      flex-wrap:wrap;\n",
              "      gap: 12px;\n",
              "    }\n",
              "\n",
              "    .colab-df-convert {\n",
              "      background-color: #E8F0FE;\n",
              "      border: none;\n",
              "      border-radius: 50%;\n",
              "      cursor: pointer;\n",
              "      display: none;\n",
              "      fill: #1967D2;\n",
              "      height: 32px;\n",
              "      padding: 0 0 0 0;\n",
              "      width: 32px;\n",
              "    }\n",
              "\n",
              "    .colab-df-convert:hover {\n",
              "      background-color: #E2EBFA;\n",
              "      box-shadow: 0px 1px 2px rgba(60, 64, 67, 0.3), 0px 1px 3px 1px rgba(60, 64, 67, 0.15);\n",
              "      fill: #174EA6;\n",
              "    }\n",
              "\n",
              "    [theme=dark] .colab-df-convert {\n",
              "      background-color: #3B4455;\n",
              "      fill: #D2E3FC;\n",
              "    }\n",
              "\n",
              "    [theme=dark] .colab-df-convert:hover {\n",
              "      background-color: #434B5C;\n",
              "      box-shadow: 0px 1px 3px 1px rgba(0, 0, 0, 0.15);\n",
              "      filter: drop-shadow(0px 1px 2px rgba(0, 0, 0, 0.3));\n",
              "      fill: #FFFFFF;\n",
              "    }\n",
              "  </style>\n",
              "\n",
              "      <script>\n",
              "        const buttonEl =\n",
              "          document.querySelector('#df-fa0889f1-6b28-401c-bd41-33d3ac17b508 button.colab-df-convert');\n",
              "        buttonEl.style.display =\n",
              "          google.colab.kernel.accessAllowed ? 'block' : 'none';\n",
              "\n",
              "        async function convertToInteractive(key) {\n",
              "          const element = document.querySelector('#df-fa0889f1-6b28-401c-bd41-33d3ac17b508');\n",
              "          const dataTable =\n",
              "            await google.colab.kernel.invokeFunction('convertToInteractive',\n",
              "                                                     [key], {});\n",
              "          if (!dataTable) return;\n",
              "\n",
              "          const docLinkHtml = 'Like what you see? Visit the ' +\n",
              "            '<a target=\"_blank\" href=https://colab.research.google.com/notebooks/data_table.ipynb>data table notebook</a>'\n",
              "            + ' to learn more about interactive tables.';\n",
              "          element.innerHTML = '';\n",
              "          dataTable['output_type'] = 'display_data';\n",
              "          await google.colab.output.renderOutput(dataTable, element);\n",
              "          const docLink = document.createElement('div');\n",
              "          docLink.innerHTML = docLinkHtml;\n",
              "          element.appendChild(docLink);\n",
              "        }\n",
              "      </script>\n",
              "    </div>\n",
              "  </div>\n"
            ],
            "text/plain": [
              "                                                text  \\\n",
              "0  Vaccination against hepatitis C is not yet ava...   \n",
              "1                                      HIV infection   \n",
              "2  The human immunodeficiency virus (HIV) remains...   \n",
              "\n",
              "                                          prediction  \n",
              "0  [Aucune vaccination contre l’hépatite C n’est ...  \n",
              "1                                  [Infection à VIH]  \n",
              "2  [L’infection par le virus de l’immunodéficienc...  "
            ]
          },
          "execution_count": 132,
          "metadata": {},
          "output_type": "execute_result"
        }
      ],
      "source": [
        "dataset.select(range(3)).to_pandas()"
      ]
    },
    {
      "cell_type": "markdown",
      "id": "138e0dac-7772-49ae-b57e-52619ebf5899",
      "metadata": {
        "id": "138e0dac-7772-49ae-b57e-52619ebf5899"
      },
      "source": [
        "We can now read this `Dataset` with Argilla, which will automatically create the records and put them in a [Argilla Dataset](../guides/features/datasets.ipynb)."
      ]
    },
    {
      "cell_type": "code",
      "execution_count": null,
      "id": "c6f98a37-5fda-4e79-aff1-f3fb770498ea",
      "metadata": {
        "id": "c6f98a37-5fda-4e79-aff1-f3fb770498ea"
      },
      "outputs": [],
      "source": [
        "# Read Dataset into a Argilla Dataset\n",
        "dataset_rg = rg.read_datasets(dataset, task=\"Text2Text\")\n"
      ]
    },
    {
      "cell_type": "markdown",
      "id": "a5236bf1-f98c-411f-81d0-e31740f0fc10",
      "metadata": {
        "id": "a5236bf1-f98c-411f-81d0-e31740f0fc10"
      },
      "source": [
        "We will upload this dataset to the web app and give it the name `ecdc_en`"
      ]
    },
    {
      "cell_type": "code",
      "execution_count": null,
      "id": "9da01d6f-2728-4ed0-b6aa-cd2e2531202c",
      "metadata": {
        "colab": {
          "base_uri": "https://localhost:8080/",
          "height": 69,
          "referenced_widgets": [
            "19d173ba40134ea3ba4625977b924c83",
            "24b90ef58e0e41cfb668144bc0adb815"
          ]
        },
        "id": "9da01d6f-2728-4ed0-b6aa-cd2e2531202c",
        "outputId": "eeaba929-596e-4c59-9778-a37458a83c37"
      },
      "outputs": [],
      "source": [
        "# Log the dataset to the Argilla web app\n",
        "rg.log(dataset_rg, \"ecdc_en\")\n"
      ]
    },
    {
      "cell_type": "markdown",
      "id": "f5a4969a-9132-459d-9f8d-e0006a1d52a0",
      "metadata": {
        "id": "f5a4969a-9132-459d-9f8d-e0006a1d52a0"
      },
      "source": [
        "![Screenshot of the uploaded English phrases.](https://github.com/argilla-io/argilla/blob/main/docs/_source/_static/reference/webapp/explore-text2text.png?raw=1)"
      ]
    },
    {
      "cell_type": "markdown",
      "id": "e3139dd1-a939-4baa-8d26-bd1214c8cbcd",
      "metadata": {
        "id": "e3139dd1-a939-4baa-8d26-bd1214c8cbcd"
      },
      "source": [
        "## Label datasets"
      ]
    },
    {
      "cell_type": "markdown",
      "id": "5bfeaf75-143e-4543-85f3-2a6e995dcf06",
      "metadata": {
        "id": "5bfeaf75-143e-4543-85f3-2a6e995dcf06"
      },
      "source": [
        "Argilla provides several ways to label your data. Using Argilla's UI, you can mix and match the following options:\n",
        "\n",
        "\n",
        "1. Manually labeling each record using the specialized interface for each task type;\n",
        "2. Leveraging a user-provided model and validating its predictions;\n",
        "3. Defining heuristic rules to produce \"noisy labels\" which can then be combined with weak supervision;\n",
        "\n",
        "Each way has its pros and cons, and the best match largely depends on your individual use case.\n"
      ]
    },
    {
      "cell_type": "markdown",
      "id": "b85a058b",
      "metadata": {
        "id": "b85a058b"
      },
      "source": [
        "### An annotation guideline\n",
        "\n",
        "Before starting the annotation process with a team, it is important to align the different truths everyone in the team thinks they have. Because the same text is going to be annotated by multiple annotators independently or we might want to revisit an old dataset later on. Besides a set of obvious mistakes, we also often encounter uncertain grey areas. Consider the following phrase for NER-annotation `Harry Potter and the prisoner of Azkaban` can be interpreted in many ways. The entire phrase is as the movie title, `Harry Potter` is a person, and `Azkaban` is location. Maybe we don´t even want to annotate fictional locations and characters. Therefore, it is important to define these assumptions beforehand and iterate over them together with the team. Take a look at [this blog](https://www.superb-ai.com/blog/how-to-write-better-annotation-guidelines-for-human-labelers-4-top-tips) from our friends over at `suberb.ai` or [this blog](https://www.grammarly.com/blog/engineering/annotation-best-practices/?utm_campaign=B2C&utm_medium=social&utm_source=LinkedIn_org&utm_term=blog&utm_content=link) from Grammarly for more context."
      ]
    },
    {
      "cell_type": "markdown",
      "id": "cf0bccc4-05c7-4c27-920b-5b76eb4acd22",
      "metadata": {
        "id": "cf0bccc4-05c7-4c27-920b-5b76eb4acd22"
      },
      "source": [
        "### 1. Manual labeling"
      ]
    },
    {
      "cell_type": "markdown",
      "id": "3b085744-7c61-4614-b542-c4de2cea9181",
      "metadata": {
        "id": "3b085744-7c61-4614-b542-c4de2cea9181"
      },
      "source": [
        "![Manual annotations of a sentiment classification task](https://github.com/argilla-io/argilla/blob/main/docs/_source/_static/reference/webapp/features-metrics.png?raw=1)\n",
        "\n",
        "The straightforward approach of manual annotations might be necessary if you do not have a suitable model for your use case or cannot come up with good heuristic rules for your dataset.\n",
        "It can also be a good approach if you dispose of a large annotation workforce or require few but unbiased and high-quality labels.\n",
        "\n",
        "Argilla tries to make this relatively cumbersome approach as painless as possible.\n",
        "Via an intuitive and adaptive UI, its exhaustive search and filter functionalities, and bulk annotation capabilities, Argilla turns the manual annotation process into an efficient option.  \n",
        "\n",
        "Look at our dedicated [feature reference](../reference/webapp/features.html) for a detailed and illustrative guide on manually annotating your dataset with Argilla."
      ]
    },
    {
      "cell_type": "markdown",
      "id": "e631840b-9cf7-45e6-9dc4-5f6b24cf0e8b",
      "metadata": {
        "id": "e631840b-9cf7-45e6-9dc4-5f6b24cf0e8b"
      },
      "source": [
        "### 2. Validating predictions"
      ]
    },
    {
      "cell_type": "markdown",
      "id": "e3c46840-0991-4fc0-bbb0-15df33ee242b",
      "metadata": {
        "id": "e3c46840-0991-4fc0-bbb0-15df33ee242b"
      },
      "source": [
        "![Validate predictions for a token classification dataset](https://github.com/argilla-io/argilla/blob/main/docs/_source/_static/reference/webapp/features-validation.png?raw=1)\n",
        "\n",
        "Nowadays, many pre-trained or zero-shot models are available online via model repositories like the Hugging Face Hub.\n",
        "Most of the time, you probably will find a model that already suits your specific dataset task to some degree.\n",
        "In Argilla, you can pre-annotate your data by including predictions from these models in your records.\n",
        "Assuming that the model works reasonably well on your dataset, you can filter for records with high prediction scores and validate the predictions.\n",
        "In this way, you will rapidly annotate part of your data and alleviate the annotation process.\n",
        "\n",
        "One downside of this approach is that your annotations will be subject to the possible biases and mistakes of the pre-trained model.\n",
        "When guided by pre-trained models, it is common to see human annotators get influenced by them.\n",
        "Therefore, it is advisable to avoid pre-annotations when building a rigorous test set for the final model evaluation.\n",
        "\n",
        "Check the [introduction tutorial](../tutorials//notebooks/labelling-tokenclassification-spacy-pretrained.ipynb) to learn to add predictions to the records.\n",
        "And our [feature reference](../reference/webapp/features.md) includes a detailed guide on validating predictions in the Argilla web app."
      ]
    },
    {
      "cell_type": "markdown",
      "id": "c2cbd593-e241-4f27-9a58-6932912ea9f1",
      "metadata": {
        "id": "c2cbd593-e241-4f27-9a58-6932912ea9f1"
      },
      "source": [
        "### 3. Weak labeling rules"
      ]
    },
    {
      "cell_type": "markdown",
      "id": "87f7ea92-d40f-4d09-a0e8-16b7d7867e6e",
      "metadata": {
        "id": "87f7ea92-d40f-4d09-a0e8-16b7d7867e6e"
      },
      "source": [
        "![Defining a rule for a multi-label text classification task.](https://github.com/argilla-io/argilla/blob/main/docs/_source/_static/reference/webapp/features-weak-labelling.png?raw=1)\n",
        "\n",
        "Another approach to annotating your data is to define heuristic rules tailored to your dataset.\n",
        "For example, let us assume you want to classify news articles into the categories of *Finance*, *Sports*, and *Culture*.\n",
        "In this case, a reasonable rule would be to label all articles that include the word \"stock\" as *Finance*.\n",
        "\n",
        "Rules can get arbitrarily complex and can also include the record's metadata.\n",
        "The downsides of this approach are that it might be challenging to come up with working heuristic rules for some datasets.\n",
        "Furthermore, rules are rarely 100% precise and often conflict with each other.These noisy labels can be cleaned up using weak supervision and label models, or something as simple as majority voting. It is usually a trade-off between the amount of annotated data and the quality of the labels.\n",
        "\n",
        "Check [our guide](../guides/techniques/weak_supervision.ipynb) for an extensive introduction to weak supervision with Argilla.\n",
        "Also, check the [feature reference](../reference/webapp/features.md) for the Define rules mode of the web app and our [various tutorials](../tutorials/techniques/weak_supervision.md) to see practical examples of weak supervision workflows."
      ]
    },
    {
      "cell_type": "markdown",
      "id": "f1144ce2-0fe2-48c0-8116-d57dc4429640",
      "metadata": {
        "id": "f1144ce2-0fe2-48c0-8116-d57dc4429640"
      },
      "source": [
        "## Prepare training data"
      ]
    },
    {
      "cell_type": "markdown",
      "id": "c5437bcd-b42c-4f6b-a9f5-d4b45572c648",
      "metadata": {
        "id": "c5437bcd-b42c-4f6b-a9f5-d4b45572c648"
      },
      "source": [
        "Once you have uploaded and annotated your dataset in Argilla, you are ready to prepare it for training a model. Most NLP models today are trained via [supervised learning](https://en.wikipedia.org/wiki/Supervised_learning) and need input-output pairs to serve as training examples for the model. The input part of such pairs is usually the text itself, while the output is the corresponding annotation."
      ]
    },
    {
      "cell_type": "markdown",
      "id": "a62573a8-54c8-4002-9686-3450ad90c7a3",
      "metadata": {
        "id": "a62573a8-54c8-4002-9686-3450ad90c7a3"
      },
      "source": [
        "### Manual extraction by querying"
      ]
    },
    {
      "cell_type": "markdown",
      "id": "73b1923f-b100-4755-aba9-68d7de48d247",
      "metadata": {
        "id": "73b1923f-b100-4755-aba9-68d7de48d247"
      },
      "source": [
        "The exact data format for training a model depends on your [training framework](#how-to-train-a-model) and the task you are tackling (text classification, token classification, etc.). Argilla is framework agnostic; you can always manually extract from the records what you need for the training.\n",
        "\n",
        "More info about querying can be found [here](query_datasets.md).\n",
        "\n",
        "The extraction happens using the [client library](../reference/python/python_client.rst) within a Python script, a Jupyter notebook, or another IDE. First, we have to load the annotated dataset from Argilla."
      ]
    },
    {
      "cell_type": "code",
      "execution_count": null,
      "id": "268ed86e-881d-4196-adc2-ebe01dacb306",
      "metadata": {
        "id": "268ed86e-881d-4196-adc2-ebe01dacb306"
      },
      "outputs": [],
      "source": [
        "dataset = rg.load(\"snapchat_reviews\", query=\"annotated_as: *\", limit=1968)"
      ]
    },
    {
      "cell_type": "markdown",
      "id": "d061ca1a-98db-4c31-9362-f816e401c2b5",
      "metadata": {
        "id": "d061ca1a-98db-4c31-9362-f816e401c2b5"
      },
      "source": [
        "<div class=\"alert alert-info\">\n",
        "\n",
        "Note\n",
        "    \n",
        "If you follow a weak supervision approach, the steps are slightly different.\n",
        "We refer you to our [weak supervision guide](programmatic_labeling_with_rules.html) for a complete workflow.\n",
        "    \n",
        "</div>"
      ]
    },
    {
      "cell_type": "markdown",
      "id": "e6d94095-7cac-4810-97fe-c257b8f34a2c",
      "metadata": {
        "id": "e6d94095-7cac-4810-97fe-c257b8f34a2c"
      },
      "source": [
        "Then we can iterate over the records and extract our training examples. For example, let's assume you want to train a text classifier with a [sklearn pipeline](https://scikit-learn.org/stable/modules/generated/sklearn.pipeline.Pipeline.html) that takes as input a text and outputs a label."
      ]
    },
    {
      "cell_type": "code",
      "execution_count": null,
      "id": "d34397c3-5b0d-4151-9945-135f54520f7e",
      "metadata": {
        "colab": {
          "base_uri": "https://localhost:8080/"
        },
        "id": "d34397c3-5b0d-4151-9945-135f54520f7e",
        "outputId": "ceb9f07d-302c-4e93-a514-bc58838452f7"
      },
      "outputs": [
        {
          "name": "stdout",
          "output_type": "stream",
          "text": [
            "This is honestly the best app ever!\n",
            "Predicted_label: ['5'] stars\n"
          ]
        }
      ],
      "source": [
        "# Import the necessary libraries\n",
        "from sklearn.pipeline import Pipeline\n",
        "from sklearn.feature_extraction.text import TfidfVectorizer\n",
        "from sklearn.linear_model import LogisticRegression\n",
        "\n",
        "# Save the inputs and labels in Python lists\n",
        "inputs, labels = [], []\n",
        "\n",
        "# Iterate over the records in the dataset\n",
        "for record in dataset:\n",
        "    # We only want records with annotations\n",
        "    if record.annotation:\n",
        "        inputs.append(record.text)\n",
        "        labels.append(record.annotation)\n",
        "\n",
        "# Create a text classifier pipeline\n",
        "pipeline = Pipeline([\n",
        "    (\"tfidf\", TfidfVectorizer()),\n",
        "    (\"logistic\", LogisticRegression())\n",
        "])\n",
        "\n",
        "# Train the text classifier\n",
        "pipeline.fit(inputs, labels)\n",
        "\n",
        "# Apply the text classifier\n",
        "sentence = \"This is honestly the best app ever!\"\n",
        "label = pipeline.predict([sentence])\n",
        "\n",
        "# Print the predicted label\n",
        "print(sentence)\n",
        "print(f\"Predicted_label: {label} stars\")\n",
        "\n"
      ]
    },
    {
      "cell_type": "markdown",
      "id": "dbd8be8e-dd83-4506-8ed8-2f32cf6b5835",
      "metadata": {
        "id": "dbd8be8e-dd83-4506-8ed8-2f32cf6b5835"
      },
      "source": [
        "### Automatic extraction"
      ]
    },
    {
      "cell_type": "markdown",
      "id": "bbf82fc5-d3a5-4a56-b308-caf31a4d763b",
      "metadata": {
        "id": "bbf82fc5-d3a5-4a56-b308-caf31a4d763b"
      },
      "source": [
        "For a few frameworks and tasks, Argilla provides a convenient method to automatically extract training examples in a suitable format from a dataset.\n",
        "\n",
        "For example: If you want to train a [transformers](https://huggingface.co/docs/transformers/index) model for text classification, you can load an annotated dataset for text classification and call the `prepare_for_training()` method:"
      ]
    },
    {
      "cell_type": "code",
      "execution_count": null,
      "id": "aa1c2aa8-603b-48a5-8da4-11c7e93f9772",
      "metadata": {
        "colab": {
          "base_uri": "https://localhost:8080/"
        },
        "id": "aa1c2aa8-603b-48a5-8da4-11c7e93f9772",
        "outputId": "f563c3bc-1025-4096-c87f-ba3c598abb4e"
      },
      "outputs": [],
      "source": [
        "dataset_for_training = dataset.prepare_for_training(train_size=0.8)"
      ]
    },
    {
      "cell_type": "markdown",
      "id": "c71ee9dc-93b8-4802-83bc-e63048a83073",
      "metadata": {
        "id": "c71ee9dc-93b8-4802-83bc-e63048a83073"
      },
      "source": [
        "With the returned `dataset_for_training`, you can continue following the steps to [fine-tune a pre-trained model](https://huggingface.co/docs/transformers/training#finetune-a-pretrained-model) with the [transformers library](https://huggingface.co/docs/transformers/index).\n",
        "\n",
        "Check the dedicated [dataset guide [PLEASE UPDATE URL]](log_load_and_prepare_data.html) for more examples of the `prepare_for_training()` method."
      ]
    },
    {
      "cell_type": "code",
      "execution_count": null,
      "id": "Jl5VmRjWFlGY",
      "metadata": {
        "id": "Jl5VmRjWFlGY"
      },
      "outputs": [],
      "source": [
        "# Import the necessary libraries\n",
        "from transformers import TrainingArguments, Trainer, AutoTokenizer, AutoModelForSequenceClassification\n",
        "import numpy as np\n",
        "import evaluate\n",
        "\n",
        "# Load the tokenizer\n",
        "tokenizer = AutoTokenizer.from_pretrained(\"bert-base-cased\")\n",
        "\n",
        "# Create a function to tokenize the text data\n",
        "def tokenize_function(examples):\n",
        "    return tokenizer(examples[\"text\"], padding=\"max_length\", truncation=True)\n",
        "\n",
        "# Create training and test datasets\n",
        "train_dataset = dataset_for_training[\"train\"].map(tokenize_function, batched=True)\n",
        "test_dataset = dataset_for_training[\"test\"].map(tokenize_function, batched=True)\n",
        "\n",
        "# Create a smaller version of the training and test datasets (only for demo)\n",
        "small_train_dataset = train_dataset.shuffle(seed=42).select(range(100))\n",
        "small_eval_dataset = test_dataset.shuffle(seed=42).select(range(100))\n",
        "\n",
        "# Load the model\n",
        "model = AutoModelForSequenceClassification.from_pretrained(\"bert-base-cased\", num_labels=5)\n",
        "\n",
        "# Create the training arguments, load the accuracy metric:\n",
        "training_args = TrainingArguments(output_dir=\"test_trainer\")\n",
        "metric = evaluate.load(\"accuracy\")\n",
        "\n",
        "# Create a function to compute the metrics\n",
        "def compute_metrics(eval_pred):\n",
        "    logits, labels = eval_pred\n",
        "    predictions = np.argmax(logits, axis=-1)\n",
        "    return metric.compute(predictions=predictions, references=labels)\n",
        "\n",
        "# Create the trainer\n",
        "trainer = Trainer(\n",
        "    model=model,\n",
        "    args=training_args,\n",
        "    train_dataset=small_train_dataset,\n",
        "    eval_dataset=small_eval_dataset,\n",
        "    compute_metrics=compute_metrics,\n",
        ")\n",
        "\n",
        "# Train the model\n",
        "trainer.train()"
      ]
    },
    {
      "cell_type": "markdown",
      "id": "90307acf-ba85-4f8c-86d3-ca398be7a496",
      "metadata": {
        "id": "90307acf-ba85-4f8c-86d3-ca398be7a496"
      },
      "source": [
        "## Train a model\n",
        "\n",
        "The `ArgillaTrainer` is a wrapper around many of our favorite NLP libraries. It provides a very intuitive abstract workflow to facilitate simple training workflows using decent default pre-set configurations without having to worry about any data transformations from Argilla.  More info [here](https://docs.argilla.io/en/latest/guides/train_a_model.html)"
      ]
    },
    {
      "cell_type": "code",
      "execution_count": null,
      "id": "4D8LKfk1rUvC",
      "metadata": {
        "id": "4D8LKfk1rUvC"
      },
      "outputs": [],
      "source": [
        "from argilla.training import ArgillaTrainer\n",
        "\n",
        "trainer = ArgillaTrainer(\n",
        "    name=\"snapchat_reviews\",\n",
        "    workspace=\"admin\",\n",
        "    framework=\"spacy\",\n",
        "    train_size=0.8\n",
        ")\n",
        "trainer.update_config(max_epochs=2)\n",
        "trainer.train(output_dir=\"my_easy_model\")\n",
        "\n",
        "records = trainer.predict(sentence, as_argilla_records=True)\n",
        "\n",
        "# Print the prediction\n",
        "print(\"\\ntesting predicitons...\")\n",
        "print(sentence)\n",
        "print(f\"Predicted_label: {records.prediction}\")\n"
      ]
    },
    {
      "cell_type": "markdown",
      "id": "29cb1351-6324-4faa-9067-fd50785844f5",
      "metadata": {
        "id": "29cb1351-6324-4faa-9067-fd50785844f5"
      },
      "source": [
        "Argilla helps you to create and curate training data. **It is not a complete framework for training a model.** You can use Argilla complementary with other excellent open-source frameworks that focus on developing and training NLP models.\n",
        "\n",
        "Train/fine-tune a model from a `FeedbackDataset` as explained [here](/guides/llms/practical_guides/practical_guides.html), or either a `TextClassificationDataset` or a `TokenClassificationDataset` [here](/guides/train_a_model.html).\n",
        "\n",
        "Here we list three of the most commonly used open-source libraries, but many more are available and may be more suited for your specific use case:\n",
        "\n",
        " - [transformers](https://huggingface.co/docs/transformers/index): This library provides thousands of pre-trained models for various NLP tasks and modalities. Its excellent documentation focuses on fine-tuning those models to your specific use case;\n",
        " - [spaCy](https://spacy.io/): This library also comes with pre-trained models built into a pipeline tackling multiple tasks simultaneously. Since its a purely NLP library, it comes with much more NLP features than just model training;\n",
        " - [spark-nlp](https://nlp.johnsnowlabs.com/): Spark NLP is an open-source text processing library for advanced natural language processing for the Python, Java and Scala programming languages. The library is built on top of Apache Spark and its Spark ML library.\n",
        " - [scikit-learn](https://scikit-learn.org/stable/): This de facto standard library is a powerful swiss army knife for machine learning with some NLP support. Usually, their NLP models lack the performance when compared to transformers or spacy, but give it a try if you want to train a lightweight model quickly;\n"
      ]
    }
  ],
  "metadata": {
    "accelerator": "GPU",
    "colab": {
      "provenance": []
    },
    "kernelspec": {
      "display_name": "Python 3",
      "name": "python3"
    },
    "language_info": {
      "codemirror_mode": {
        "name": "ipython",
        "version": 3
      },
      "file_extension": ".py",
      "mimetype": "text/x-python",
      "name": "python",
      "nbconvert_exporter": "python",
      "pygments_lexer": "ipython3",
      "version": "3.7.12"
    },
    "vscode": {
      "interpreter": {
        "hash": "2584bca9d226488c39a669ff1ce19d7ca5f410e2d3aa9b82f20653edd0d96bfc"
      }
    },
    "widgets": {
      "application/vnd.jupyter.widget-state+json": {
        "007a11c0643c45ecbf50c92bb244170f": {
          "model_module": "@jupyter-widgets/base",
          "model_module_version": "1.2.0",
          "model_name": "LayoutModel",
          "state": {
            "_model_module": "@jupyter-widgets/base",
            "_model_module_version": "1.2.0",
            "_model_name": "LayoutModel",
            "_view_count": null,
            "_view_module": "@jupyter-widgets/base",
            "_view_module_version": "1.2.0",
            "_view_name": "LayoutView",
            "align_content": null,
            "align_items": null,
            "align_self": null,
            "border": null,
            "bottom": null,
            "display": null,
            "flex": null,
            "flex_flow": null,
            "grid_area": null,
            "grid_auto_columns": null,
            "grid_auto_flow": null,
            "grid_auto_rows": null,
            "grid_column": null,
            "grid_gap": null,
            "grid_row": null,
            "grid_template_areas": null,
            "grid_template_columns": null,
            "grid_template_rows": null,
            "height": null,
            "justify_content": null,
            "justify_items": null,
            "left": null,
            "margin": null,
            "max_height": null,
            "max_width": null,
            "min_height": null,
            "min_width": null,
            "object_fit": null,
            "object_position": null,
            "order": null,
            "overflow": null,
            "overflow_x": null,
            "overflow_y": null,
            "padding": null,
            "right": null,
            "top": null,
            "visibility": null,
            "width": null
          }
        },
        "0a54f0576a9347d5a546ff8b3e371121": {
          "model_module": "@jupyter-widgets/base",
          "model_module_version": "1.2.0",
          "model_name": "LayoutModel",
          "state": {
            "_model_module": "@jupyter-widgets/base",
            "_model_module_version": "1.2.0",
            "_model_name": "LayoutModel",
            "_view_count": null,
            "_view_module": "@jupyter-widgets/base",
            "_view_module_version": "1.2.0",
            "_view_name": "LayoutView",
            "align_content": null,
            "align_items": null,
            "align_self": null,
            "border": null,
            "bottom": null,
            "display": null,
            "flex": null,
            "flex_flow": null,
            "grid_area": null,
            "grid_auto_columns": null,
            "grid_auto_flow": null,
            "grid_auto_rows": null,
            "grid_column": null,
            "grid_gap": null,
            "grid_row": null,
            "grid_template_areas": null,
            "grid_template_columns": null,
            "grid_template_rows": null,
            "height": null,
            "justify_content": null,
            "justify_items": null,
            "left": null,
            "margin": null,
            "max_height": null,
            "max_width": null,
            "min_height": null,
            "min_width": null,
            "object_fit": null,
            "object_position": null,
            "order": null,
            "overflow": null,
            "overflow_x": null,
            "overflow_y": null,
            "padding": null,
            "right": null,
            "top": null,
            "visibility": "hidden",
            "width": null
          }
        },
        "13d0949b0cad4cee8f1aa691ebd43476": {
          "model_module": "@jupyter-widgets/controls",
          "model_module_version": "1.5.0",
          "model_name": "FloatProgressModel",
          "state": {
            "_dom_classes": [],
            "_model_module": "@jupyter-widgets/controls",
            "_model_module_version": "1.5.0",
            "_model_name": "FloatProgressModel",
            "_view_count": null,
            "_view_module": "@jupyter-widgets/controls",
            "_view_module_version": "1.5.0",
            "_view_name": "ProgressView",
            "bar_style": "",
            "description": "",
            "description_tooltip": null,
            "layout": "IPY_MODEL_e9f06d2e0ff645aea882a0958eda2820",
            "max": 464,
            "min": 0,
            "orientation": "horizontal",
            "style": "IPY_MODEL_15c7227ddf8946d7bdd9c5e076407300",
            "value": 464
          }
        },
        "15c7227ddf8946d7bdd9c5e076407300": {
          "model_module": "@jupyter-widgets/controls",
          "model_module_version": "1.5.0",
          "model_name": "ProgressStyleModel",
          "state": {
            "_model_module": "@jupyter-widgets/controls",
            "_model_module_version": "1.5.0",
            "_model_name": "ProgressStyleModel",
            "_view_count": null,
            "_view_module": "@jupyter-widgets/base",
            "_view_module_version": "1.2.0",
            "_view_name": "StyleView",
            "bar_color": null,
            "description_width": ""
          }
        },
        "19d173ba40134ea3ba4625977b924c83": {
          "model_module": "@jupyter-widgets/output",
          "model_module_version": "1.0.0",
          "model_name": "OutputModel",
          "state": {
            "_dom_classes": [],
            "_model_module": "@jupyter-widgets/output",
            "_model_module_version": "1.0.0",
            "_model_name": "OutputModel",
            "_view_count": null,
            "_view_module": "@jupyter-widgets/output",
            "_view_module_version": "1.0.0",
            "_view_name": "OutputView",
            "layout": "IPY_MODEL_24b90ef58e0e41cfb668144bc0adb815",
            "msg_id": "",
            "outputs": [
              {
                "data": {
                  "text/html": "<pre style=\"white-space:pre;overflow-x:auto;line-height:normal;font-family:Menlo,'DejaVu Sans Mono',consolas,'Courier New',monospace\">Logging... <span style=\"color: #f92672; text-decoration-color: #f92672\">━━━━━━━━━━━━━━━━━━━━━━━━━━━━━━━━━━━━━━━</span><span style=\"color: #3a3a3a; text-decoration-color: #3a3a3a\">╺</span> <span style=\"color: #800080; text-decoration-color: #800080\"> 98%</span> <span style=\"color: #008080; text-decoration-color: #008080\">0:00:01</span>\n</pre>\n",
                  "text/plain": "Logging... \u001b[38;2;249;38;114m━━━━━━━━━━━━━━━━━━━━━━━━━━━━━━━━━━━━━━━\u001b[0m\u001b[38;5;237m╺\u001b[0m \u001b[35m 98%\u001b[0m \u001b[36m0:00:01\u001b[0m\n"
                },
                "metadata": {},
                "output_type": "display_data"
              }
            ]
          }
        },
        "21a09c7691c64e088a74c08095df0057": {
          "model_module": "@jupyter-widgets/base",
          "model_module_version": "1.2.0",
          "model_name": "LayoutModel",
          "state": {
            "_model_module": "@jupyter-widgets/base",
            "_model_module_version": "1.2.0",
            "_model_name": "LayoutModel",
            "_view_count": null,
            "_view_module": "@jupyter-widgets/base",
            "_view_module_version": "1.2.0",
            "_view_name": "LayoutView",
            "align_content": null,
            "align_items": null,
            "align_self": null,
            "border": null,
            "bottom": null,
            "display": null,
            "flex": null,
            "flex_flow": null,
            "grid_area": null,
            "grid_auto_columns": null,
            "grid_auto_flow": null,
            "grid_auto_rows": null,
            "grid_column": null,
            "grid_gap": null,
            "grid_row": null,
            "grid_template_areas": null,
            "grid_template_columns": null,
            "grid_template_rows": null,
            "height": null,
            "justify_content": null,
            "justify_items": null,
            "left": null,
            "margin": null,
            "max_height": null,
            "max_width": null,
            "min_height": null,
            "min_width": null,
            "object_fit": null,
            "object_position": null,
            "order": null,
            "overflow": null,
            "overflow_x": null,
            "overflow_y": null,
            "padding": null,
            "right": null,
            "top": null,
            "visibility": null,
            "width": null
          }
        },
        "24b90ef58e0e41cfb668144bc0adb815": {
          "model_module": "@jupyter-widgets/base",
          "model_module_version": "1.2.0",
          "model_name": "LayoutModel",
          "state": {
            "_model_module": "@jupyter-widgets/base",
            "_model_module_version": "1.2.0",
            "_model_name": "LayoutModel",
            "_view_count": null,
            "_view_module": "@jupyter-widgets/base",
            "_view_module_version": "1.2.0",
            "_view_name": "LayoutView",
            "align_content": null,
            "align_items": null,
            "align_self": null,
            "border": null,
            "bottom": null,
            "display": null,
            "flex": null,
            "flex_flow": null,
            "grid_area": null,
            "grid_auto_columns": null,
            "grid_auto_flow": null,
            "grid_auto_rows": null,
            "grid_column": null,
            "grid_gap": null,
            "grid_row": null,
            "grid_template_areas": null,
            "grid_template_columns": null,
            "grid_template_rows": null,
            "height": null,
            "justify_content": null,
            "justify_items": null,
            "left": null,
            "margin": null,
            "max_height": null,
            "max_width": null,
            "min_height": null,
            "min_width": null,
            "object_fit": null,
            "object_position": null,
            "order": null,
            "overflow": null,
            "overflow_x": null,
            "overflow_y": null,
            "padding": null,
            "right": null,
            "top": null,
            "visibility": null,
            "width": null
          }
        },
        "2d9d836276674563893af311d7ceb5cf": {
          "model_module": "@jupyter-widgets/controls",
          "model_module_version": "1.5.0",
          "model_name": "DescriptionStyleModel",
          "state": {
            "_model_module": "@jupyter-widgets/controls",
            "_model_module_version": "1.5.0",
            "_model_name": "DescriptionStyleModel",
            "_view_count": null,
            "_view_module": "@jupyter-widgets/base",
            "_view_module_version": "1.2.0",
            "_view_name": "StyleView",
            "description_width": ""
          }
        },
        "452429879663485da881188f70d20ca5": {
          "model_module": "@jupyter-widgets/controls",
          "model_module_version": "1.5.0",
          "model_name": "HTMLModel",
          "state": {
            "_dom_classes": [],
            "_model_module": "@jupyter-widgets/controls",
            "_model_module_version": "1.5.0",
            "_model_name": "HTMLModel",
            "_view_count": null,
            "_view_module": "@jupyter-widgets/controls",
            "_view_module_version": "1.5.0",
            "_view_name": "HTMLView",
            "description": "",
            "description_tooltip": null,
            "layout": "IPY_MODEL_f47cb9c3e20e48acb6df9bed2f0cb7bf",
            "placeholder": "​",
            "style": "IPY_MODEL_2d9d836276674563893af311d7ceb5cf",
            "value": " 453/464 [00:04&lt;00:00, 112.79 examples/s]"
          }
        },
        "4635b9f0d42b4172b52b64de660082d1": {
          "model_module": "@jupyter-widgets/controls",
          "model_module_version": "1.5.0",
          "model_name": "FloatProgressModel",
          "state": {
            "_dom_classes": [],
            "_model_module": "@jupyter-widgets/controls",
            "_model_module_version": "1.5.0",
            "_model_name": "FloatProgressModel",
            "_view_count": null,
            "_view_module": "@jupyter-widgets/controls",
            "_view_module_version": "1.5.0",
            "_view_name": "ProgressView",
            "bar_style": "",
            "description": "",
            "description_tooltip": null,
            "layout": "IPY_MODEL_514672241dad488ca37a5e802553eb35",
            "max": 2561,
            "min": 0,
            "orientation": "horizontal",
            "style": "IPY_MODEL_48dbaf59d0be41a6a6d7c30cb621e9ef",
            "value": 2561
          }
        },
        "48dbaf59d0be41a6a6d7c30cb621e9ef": {
          "model_module": "@jupyter-widgets/controls",
          "model_module_version": "1.5.0",
          "model_name": "ProgressStyleModel",
          "state": {
            "_model_module": "@jupyter-widgets/controls",
            "_model_module_version": "1.5.0",
            "_model_name": "ProgressStyleModel",
            "_view_count": null,
            "_view_module": "@jupyter-widgets/base",
            "_view_module_version": "1.2.0",
            "_view_name": "StyleView",
            "bar_color": null,
            "description_width": ""
          }
        },
        "50edec55b45242d3a3bd0b3d9444710e": {
          "model_module": "@jupyter-widgets/base",
          "model_module_version": "1.2.0",
          "model_name": "LayoutModel",
          "state": {
            "_model_module": "@jupyter-widgets/base",
            "_model_module_version": "1.2.0",
            "_model_name": "LayoutModel",
            "_view_count": null,
            "_view_module": "@jupyter-widgets/base",
            "_view_module_version": "1.2.0",
            "_view_name": "LayoutView",
            "align_content": null,
            "align_items": null,
            "align_self": null,
            "border": null,
            "bottom": null,
            "display": null,
            "flex": null,
            "flex_flow": null,
            "grid_area": null,
            "grid_auto_columns": null,
            "grid_auto_flow": null,
            "grid_auto_rows": null,
            "grid_column": null,
            "grid_gap": null,
            "grid_row": null,
            "grid_template_areas": null,
            "grid_template_columns": null,
            "grid_template_rows": null,
            "height": null,
            "justify_content": null,
            "justify_items": null,
            "left": null,
            "margin": null,
            "max_height": null,
            "max_width": null,
            "min_height": null,
            "min_width": null,
            "object_fit": null,
            "object_position": null,
            "order": null,
            "overflow": null,
            "overflow_x": null,
            "overflow_y": null,
            "padding": null,
            "right": null,
            "top": null,
            "visibility": null,
            "width": null
          }
        },
        "514672241dad488ca37a5e802553eb35": {
          "model_module": "@jupyter-widgets/base",
          "model_module_version": "1.2.0",
          "model_name": "LayoutModel",
          "state": {
            "_model_module": "@jupyter-widgets/base",
            "_model_module_version": "1.2.0",
            "_model_name": "LayoutModel",
            "_view_count": null,
            "_view_module": "@jupyter-widgets/base",
            "_view_module_version": "1.2.0",
            "_view_name": "LayoutView",
            "align_content": null,
            "align_items": null,
            "align_self": null,
            "border": null,
            "bottom": null,
            "display": null,
            "flex": null,
            "flex_flow": null,
            "grid_area": null,
            "grid_auto_columns": null,
            "grid_auto_flow": null,
            "grid_auto_rows": null,
            "grid_column": null,
            "grid_gap": null,
            "grid_row": null,
            "grid_template_areas": null,
            "grid_template_columns": null,
            "grid_template_rows": null,
            "height": null,
            "justify_content": null,
            "justify_items": null,
            "left": null,
            "margin": null,
            "max_height": null,
            "max_width": null,
            "min_height": null,
            "min_width": null,
            "object_fit": null,
            "object_position": null,
            "order": null,
            "overflow": null,
            "overflow_x": null,
            "overflow_y": null,
            "padding": null,
            "right": null,
            "top": null,
            "visibility": null,
            "width": null
          }
        },
        "518e260b7d2f4f90b39668414389c166": {
          "model_module": "@jupyter-widgets/controls",
          "model_module_version": "1.5.0",
          "model_name": "HTMLModel",
          "state": {
            "_dom_classes": [],
            "_model_module": "@jupyter-widgets/controls",
            "_model_module_version": "1.5.0",
            "_model_name": "HTMLModel",
            "_view_count": null,
            "_view_module": "@jupyter-widgets/controls",
            "_view_module_version": "1.5.0",
            "_view_name": "HTMLView",
            "description": "",
            "description_tooltip": null,
            "layout": "IPY_MODEL_8f5ca2714e114119adb61c9122afffbb",
            "placeholder": "​",
            "style": "IPY_MODEL_c36638fb29cb4510bfdda737e03c4a0e",
            "value": "Map:  65%"
          }
        },
        "5406303479514972b3e5241ce40e3f70": {
          "model_module": "@jupyter-widgets/output",
          "model_module_version": "1.0.0",
          "model_name": "OutputModel",
          "state": {
            "_dom_classes": [],
            "_model_module": "@jupyter-widgets/output",
            "_model_module_version": "1.0.0",
            "_model_name": "OutputModel",
            "_view_count": null,
            "_view_module": "@jupyter-widgets/output",
            "_view_module_version": "1.0.0",
            "_view_name": "OutputView",
            "layout": "IPY_MODEL_21a09c7691c64e088a74c08095df0057",
            "msg_id": "",
            "outputs": [
              {
                "data": {
                  "text/html": "<pre style=\"white-space:pre;overflow-x:auto;line-height:normal;font-family:Menlo,'DejaVu Sans Mono',consolas,'Courier New',monospace\">Logging... <span style=\"color: #3a3a3a; text-decoration-color: #3a3a3a\">━━━━━━━━━━━━━━━━━━━━━━━━━━━━━━━━━━━━━━━━</span> <span style=\"color: #800080; text-decoration-color: #800080\">  0%</span> <span style=\"color: #008080; text-decoration-color: #008080\">-:--:--</span>\n</pre>\n",
                  "text/plain": "Logging... \u001b[38;5;237m━━━━━━━━━━━━━━━━━━━━━━━━━━━━━━━━━━━━━━━━\u001b[0m \u001b[35m  0%\u001b[0m \u001b[36m-:--:--\u001b[0m\n"
                },
                "metadata": {},
                "output_type": "display_data"
              }
            ]
          }
        },
        "706f8e4861904c33a9468216e3220d9b": {
          "model_module": "@jupyter-widgets/base",
          "model_module_version": "1.2.0",
          "model_name": "LayoutModel",
          "state": {
            "_model_module": "@jupyter-widgets/base",
            "_model_module_version": "1.2.0",
            "_model_name": "LayoutModel",
            "_view_count": null,
            "_view_module": "@jupyter-widgets/base",
            "_view_module_version": "1.2.0",
            "_view_name": "LayoutView",
            "align_content": null,
            "align_items": null,
            "align_self": null,
            "border": null,
            "bottom": null,
            "display": null,
            "flex": null,
            "flex_flow": null,
            "grid_area": null,
            "grid_auto_columns": null,
            "grid_auto_flow": null,
            "grid_auto_rows": null,
            "grid_column": null,
            "grid_gap": null,
            "grid_row": null,
            "grid_template_areas": null,
            "grid_template_columns": null,
            "grid_template_rows": null,
            "height": null,
            "justify_content": null,
            "justify_items": null,
            "left": null,
            "margin": null,
            "max_height": null,
            "max_width": null,
            "min_height": null,
            "min_width": null,
            "object_fit": null,
            "object_position": null,
            "order": null,
            "overflow": null,
            "overflow_x": null,
            "overflow_y": null,
            "padding": null,
            "right": null,
            "top": null,
            "visibility": null,
            "width": null
          }
        },
        "7605822dfe30439a8b53c117466e513f": {
          "model_module": "@jupyter-widgets/controls",
          "model_module_version": "1.5.0",
          "model_name": "HTMLModel",
          "state": {
            "_dom_classes": [],
            "_model_module": "@jupyter-widgets/controls",
            "_model_module_version": "1.5.0",
            "_model_name": "HTMLModel",
            "_view_count": null,
            "_view_module": "@jupyter-widgets/controls",
            "_view_module_version": "1.5.0",
            "_view_name": "HTMLView",
            "description": "",
            "description_tooltip": null,
            "layout": "IPY_MODEL_50edec55b45242d3a3bd0b3d9444710e",
            "placeholder": "​",
            "style": "IPY_MODEL_7d817c646854435686ab9b7e317b2f92",
            "value": "Map:  98%"
          }
        },
        "7d817c646854435686ab9b7e317b2f92": {
          "model_module": "@jupyter-widgets/controls",
          "model_module_version": "1.5.0",
          "model_name": "DescriptionStyleModel",
          "state": {
            "_model_module": "@jupyter-widgets/controls",
            "_model_module_version": "1.5.0",
            "_model_name": "DescriptionStyleModel",
            "_view_count": null,
            "_view_module": "@jupyter-widgets/base",
            "_view_module_version": "1.2.0",
            "_view_name": "StyleView",
            "description_width": ""
          }
        },
        "7e028b1a16394adcac90c011d14d3458": {
          "model_module": "@jupyter-widgets/controls",
          "model_module_version": "1.5.0",
          "model_name": "HBoxModel",
          "state": {
            "_dom_classes": [],
            "_model_module": "@jupyter-widgets/controls",
            "_model_module_version": "1.5.0",
            "_model_name": "HBoxModel",
            "_view_count": null,
            "_view_module": "@jupyter-widgets/controls",
            "_view_module_version": "1.5.0",
            "_view_name": "HBoxView",
            "box_style": "",
            "children": [
              "IPY_MODEL_7605822dfe30439a8b53c117466e513f",
              "IPY_MODEL_13d0949b0cad4cee8f1aa691ebd43476",
              "IPY_MODEL_452429879663485da881188f70d20ca5"
            ],
            "layout": "IPY_MODEL_d4bae643e36a4b258b137507d628399d"
          }
        },
        "81e07d9401bd40cc82240136a529be2d": {
          "model_module": "@jupyter-widgets/controls",
          "model_module_version": "1.5.0",
          "model_name": "DescriptionStyleModel",
          "state": {
            "_model_module": "@jupyter-widgets/controls",
            "_model_module_version": "1.5.0",
            "_model_name": "DescriptionStyleModel",
            "_view_count": null,
            "_view_module": "@jupyter-widgets/base",
            "_view_module_version": "1.2.0",
            "_view_name": "StyleView",
            "description_width": ""
          }
        },
        "83d7b92514e24e3d88f7207ec26a6b76": {
          "model_module": "@jupyter-widgets/output",
          "model_module_version": "1.0.0",
          "model_name": "OutputModel",
          "state": {
            "_dom_classes": [],
            "_model_module": "@jupyter-widgets/output",
            "_model_module_version": "1.0.0",
            "_model_name": "OutputModel",
            "_view_count": null,
            "_view_module": "@jupyter-widgets/output",
            "_view_module_version": "1.0.0",
            "_view_name": "OutputView",
            "layout": "IPY_MODEL_9146f98b81744bceb0083e98aa1c3af9",
            "msg_id": "",
            "outputs": [
              {
                "data": {
                  "text/html": "<pre style=\"white-space:pre;overflow-x:auto;line-height:normal;font-family:Menlo,'DejaVu Sans Mono',consolas,'Courier New',monospace\">Logging... <span style=\"color: #3a3a3a; text-decoration-color: #3a3a3a\">━━━━━━━━━━━━━━━━━━━━━━━━━━━━━━━━━━━━━━━━</span> <span style=\"color: #800080; text-decoration-color: #800080\">  0%</span> <span style=\"color: #008080; text-decoration-color: #008080\">-:--:--</span>\n</pre>\n",
                  "text/plain": "Logging... \u001b[38;5;237m━━━━━━━━━━━━━━━━━━━━━━━━━━━━━━━━━━━━━━━━\u001b[0m \u001b[35m  0%\u001b[0m \u001b[36m-:--:--\u001b[0m\n"
                },
                "metadata": {},
                "output_type": "display_data"
              }
            ]
          }
        },
        "8f5ca2714e114119adb61c9122afffbb": {
          "model_module": "@jupyter-widgets/base",
          "model_module_version": "1.2.0",
          "model_name": "LayoutModel",
          "state": {
            "_model_module": "@jupyter-widgets/base",
            "_model_module_version": "1.2.0",
            "_model_name": "LayoutModel",
            "_view_count": null,
            "_view_module": "@jupyter-widgets/base",
            "_view_module_version": "1.2.0",
            "_view_name": "LayoutView",
            "align_content": null,
            "align_items": null,
            "align_self": null,
            "border": null,
            "bottom": null,
            "display": null,
            "flex": null,
            "flex_flow": null,
            "grid_area": null,
            "grid_auto_columns": null,
            "grid_auto_flow": null,
            "grid_auto_rows": null,
            "grid_column": null,
            "grid_gap": null,
            "grid_row": null,
            "grid_template_areas": null,
            "grid_template_columns": null,
            "grid_template_rows": null,
            "height": null,
            "justify_content": null,
            "justify_items": null,
            "left": null,
            "margin": null,
            "max_height": null,
            "max_width": null,
            "min_height": null,
            "min_width": null,
            "object_fit": null,
            "object_position": null,
            "order": null,
            "overflow": null,
            "overflow_x": null,
            "overflow_y": null,
            "padding": null,
            "right": null,
            "top": null,
            "visibility": null,
            "width": null
          }
        },
        "9146f98b81744bceb0083e98aa1c3af9": {
          "model_module": "@jupyter-widgets/base",
          "model_module_version": "1.2.0",
          "model_name": "LayoutModel",
          "state": {
            "_model_module": "@jupyter-widgets/base",
            "_model_module_version": "1.2.0",
            "_model_name": "LayoutModel",
            "_view_count": null,
            "_view_module": "@jupyter-widgets/base",
            "_view_module_version": "1.2.0",
            "_view_name": "LayoutView",
            "align_content": null,
            "align_items": null,
            "align_self": null,
            "border": null,
            "bottom": null,
            "display": null,
            "flex": null,
            "flex_flow": null,
            "grid_area": null,
            "grid_auto_columns": null,
            "grid_auto_flow": null,
            "grid_auto_rows": null,
            "grid_column": null,
            "grid_gap": null,
            "grid_row": null,
            "grid_template_areas": null,
            "grid_template_columns": null,
            "grid_template_rows": null,
            "height": null,
            "justify_content": null,
            "justify_items": null,
            "left": null,
            "margin": null,
            "max_height": null,
            "max_width": null,
            "min_height": null,
            "min_width": null,
            "object_fit": null,
            "object_position": null,
            "order": null,
            "overflow": null,
            "overflow_x": null,
            "overflow_y": null,
            "padding": null,
            "right": null,
            "top": null,
            "visibility": null,
            "width": null
          }
        },
        "9217d6b5c2a0495bbb0724dd296b2af7": {
          "model_module": "@jupyter-widgets/controls",
          "model_module_version": "1.5.0",
          "model_name": "HBoxModel",
          "state": {
            "_dom_classes": [],
            "_model_module": "@jupyter-widgets/controls",
            "_model_module_version": "1.5.0",
            "_model_name": "HBoxModel",
            "_view_count": null,
            "_view_module": "@jupyter-widgets/controls",
            "_view_module_version": "1.5.0",
            "_view_name": "HBoxView",
            "box_style": "",
            "children": [
              "IPY_MODEL_518e260b7d2f4f90b39668414389c166",
              "IPY_MODEL_4635b9f0d42b4172b52b64de660082d1",
              "IPY_MODEL_b1df83e2ef6540bbb09098e12d707d6d"
            ],
            "layout": "IPY_MODEL_0a54f0576a9347d5a546ff8b3e371121"
          }
        },
        "b1df83e2ef6540bbb09098e12d707d6d": {
          "model_module": "@jupyter-widgets/controls",
          "model_module_version": "1.5.0",
          "model_name": "HTMLModel",
          "state": {
            "_dom_classes": [],
            "_model_module": "@jupyter-widgets/controls",
            "_model_module_version": "1.5.0",
            "_model_name": "HTMLModel",
            "_view_count": null,
            "_view_module": "@jupyter-widgets/controls",
            "_view_module_version": "1.5.0",
            "_view_name": "HTMLView",
            "description": "",
            "description_tooltip": null,
            "layout": "IPY_MODEL_007a11c0643c45ecbf50c92bb244170f",
            "placeholder": "​",
            "style": "IPY_MODEL_81e07d9401bd40cc82240136a529be2d",
            "value": " 1665/2561 [00:00&lt;00:00, 14760.53 examples/s]"
          }
        },
        "c36638fb29cb4510bfdda737e03c4a0e": {
          "model_module": "@jupyter-widgets/controls",
          "model_module_version": "1.5.0",
          "model_name": "DescriptionStyleModel",
          "state": {
            "_model_module": "@jupyter-widgets/controls",
            "_model_module_version": "1.5.0",
            "_model_name": "DescriptionStyleModel",
            "_view_count": null,
            "_view_module": "@jupyter-widgets/base",
            "_view_module_version": "1.2.0",
            "_view_name": "StyleView",
            "description_width": ""
          }
        },
        "cf5da266e6ad493da229cf05469b2fc4": {
          "model_module": "@jupyter-widgets/base",
          "model_module_version": "1.2.0",
          "model_name": "LayoutModel",
          "state": {
            "_model_module": "@jupyter-widgets/base",
            "_model_module_version": "1.2.0",
            "_model_name": "LayoutModel",
            "_view_count": null,
            "_view_module": "@jupyter-widgets/base",
            "_view_module_version": "1.2.0",
            "_view_name": "LayoutView",
            "align_content": null,
            "align_items": null,
            "align_self": null,
            "border": null,
            "bottom": null,
            "display": null,
            "flex": null,
            "flex_flow": null,
            "grid_area": null,
            "grid_auto_columns": null,
            "grid_auto_flow": null,
            "grid_auto_rows": null,
            "grid_column": null,
            "grid_gap": null,
            "grid_row": null,
            "grid_template_areas": null,
            "grid_template_columns": null,
            "grid_template_rows": null,
            "height": null,
            "justify_content": null,
            "justify_items": null,
            "left": null,
            "margin": null,
            "max_height": null,
            "max_width": null,
            "min_height": null,
            "min_width": null,
            "object_fit": null,
            "object_position": null,
            "order": null,
            "overflow": null,
            "overflow_x": null,
            "overflow_y": null,
            "padding": null,
            "right": null,
            "top": null,
            "visibility": null,
            "width": null
          }
        },
        "d4bae643e36a4b258b137507d628399d": {
          "model_module": "@jupyter-widgets/base",
          "model_module_version": "1.2.0",
          "model_name": "LayoutModel",
          "state": {
            "_model_module": "@jupyter-widgets/base",
            "_model_module_version": "1.2.0",
            "_model_name": "LayoutModel",
            "_view_count": null,
            "_view_module": "@jupyter-widgets/base",
            "_view_module_version": "1.2.0",
            "_view_name": "LayoutView",
            "align_content": null,
            "align_items": null,
            "align_self": null,
            "border": null,
            "bottom": null,
            "display": null,
            "flex": null,
            "flex_flow": null,
            "grid_area": null,
            "grid_auto_columns": null,
            "grid_auto_flow": null,
            "grid_auto_rows": null,
            "grid_column": null,
            "grid_gap": null,
            "grid_row": null,
            "grid_template_areas": null,
            "grid_template_columns": null,
            "grid_template_rows": null,
            "height": null,
            "justify_content": null,
            "justify_items": null,
            "left": null,
            "margin": null,
            "max_height": null,
            "max_width": null,
            "min_height": null,
            "min_width": null,
            "object_fit": null,
            "object_position": null,
            "order": null,
            "overflow": null,
            "overflow_x": null,
            "overflow_y": null,
            "padding": null,
            "right": null,
            "top": null,
            "visibility": "hidden",
            "width": null
          }
        },
        "d577c60f0dbe46c1be6fab55672c4f86": {
          "model_module": "@jupyter-widgets/output",
          "model_module_version": "1.0.0",
          "model_name": "OutputModel",
          "state": {
            "_dom_classes": [],
            "_model_module": "@jupyter-widgets/output",
            "_model_module_version": "1.0.0",
            "_model_name": "OutputModel",
            "_view_count": null,
            "_view_module": "@jupyter-widgets/output",
            "_view_module_version": "1.0.0",
            "_view_name": "OutputView",
            "layout": "IPY_MODEL_cf5da266e6ad493da229cf05469b2fc4",
            "msg_id": "",
            "outputs": [
              {
                "data": {
                  "text/html": "<pre style=\"white-space:pre;overflow-x:auto;line-height:normal;font-family:Menlo,'DejaVu Sans Mono',consolas,'Courier New',monospace\">Logging... <span style=\"color: #3a3a3a; text-decoration-color: #3a3a3a\">━━━━━━━━━━━━━━━━━━━━━━━━━━━━━━━━━━━━━━━━</span> <span style=\"color: #800080; text-decoration-color: #800080\">  0%</span> <span style=\"color: #008080; text-decoration-color: #008080\">-:--:--</span>\n</pre>\n",
                  "text/plain": "Logging... \u001b[38;5;237m━━━━━━━━━━━━━━━━━━━━━━━━━━━━━━━━━━━━━━━━\u001b[0m \u001b[35m  0%\u001b[0m \u001b[36m-:--:--\u001b[0m\n"
                },
                "metadata": {},
                "output_type": "display_data"
              }
            ]
          }
        },
        "db3e5db8fe3f42a8908e3cd2a029cf56": {
          "model_module": "@jupyter-widgets/output",
          "model_module_version": "1.0.0",
          "model_name": "OutputModel",
          "state": {
            "_dom_classes": [],
            "_model_module": "@jupyter-widgets/output",
            "_model_module_version": "1.0.0",
            "_model_name": "OutputModel",
            "_view_count": null,
            "_view_module": "@jupyter-widgets/output",
            "_view_module_version": "1.0.0",
            "_view_name": "OutputView",
            "layout": "IPY_MODEL_706f8e4861904c33a9468216e3220d9b",
            "msg_id": "",
            "outputs": [
              {
                "data": {
                  "text/html": "<pre style=\"white-space:pre;overflow-x:auto;line-height:normal;font-family:Menlo,'DejaVu Sans Mono',consolas,'Courier New',monospace\">Logging... <span style=\"color: #f92672; text-decoration-color: #f92672\">━━━━━━━━━━━━━━━━━━━━━━━━━━━━━━━━━━</span><span style=\"color: #3a3a3a; text-decoration-color: #3a3a3a\">╺━━━━━</span> <span style=\"color: #800080; text-decoration-color: #800080\"> 86%</span> <span style=\"color: #008080; text-decoration-color: #008080\">0:00:01</span>\n</pre>\n",
                  "text/plain": "Logging... \u001b[38;2;249;38;114m━━━━━━━━━━━━━━━━━━━━━━━━━━━━━━━━━━\u001b[0m\u001b[38;5;237m╺\u001b[0m\u001b[38;5;237m━━━━━\u001b[0m \u001b[35m 86%\u001b[0m \u001b[36m0:00:01\u001b[0m\n"
                },
                "metadata": {},
                "output_type": "display_data"
              }
            ]
          }
        },
        "e9f06d2e0ff645aea882a0958eda2820": {
          "model_module": "@jupyter-widgets/base",
          "model_module_version": "1.2.0",
          "model_name": "LayoutModel",
          "state": {
            "_model_module": "@jupyter-widgets/base",
            "_model_module_version": "1.2.0",
            "_model_name": "LayoutModel",
            "_view_count": null,
            "_view_module": "@jupyter-widgets/base",
            "_view_module_version": "1.2.0",
            "_view_name": "LayoutView",
            "align_content": null,
            "align_items": null,
            "align_self": null,
            "border": null,
            "bottom": null,
            "display": null,
            "flex": null,
            "flex_flow": null,
            "grid_area": null,
            "grid_auto_columns": null,
            "grid_auto_flow": null,
            "grid_auto_rows": null,
            "grid_column": null,
            "grid_gap": null,
            "grid_row": null,
            "grid_template_areas": null,
            "grid_template_columns": null,
            "grid_template_rows": null,
            "height": null,
            "justify_content": null,
            "justify_items": null,
            "left": null,
            "margin": null,
            "max_height": null,
            "max_width": null,
            "min_height": null,
            "min_width": null,
            "object_fit": null,
            "object_position": null,
            "order": null,
            "overflow": null,
            "overflow_x": null,
            "overflow_y": null,
            "padding": null,
            "right": null,
            "top": null,
            "visibility": null,
            "width": null
          }
        },
        "f47cb9c3e20e48acb6df9bed2f0cb7bf": {
          "model_module": "@jupyter-widgets/base",
          "model_module_version": "1.2.0",
          "model_name": "LayoutModel",
          "state": {
            "_model_module": "@jupyter-widgets/base",
            "_model_module_version": "1.2.0",
            "_model_name": "LayoutModel",
            "_view_count": null,
            "_view_module": "@jupyter-widgets/base",
            "_view_module_version": "1.2.0",
            "_view_name": "LayoutView",
            "align_content": null,
            "align_items": null,
            "align_self": null,
            "border": null,
            "bottom": null,
            "display": null,
            "flex": null,
            "flex_flow": null,
            "grid_area": null,
            "grid_auto_columns": null,
            "grid_auto_flow": null,
            "grid_auto_rows": null,
            "grid_column": null,
            "grid_gap": null,
            "grid_row": null,
            "grid_template_areas": null,
            "grid_template_columns": null,
            "grid_template_rows": null,
            "height": null,
            "justify_content": null,
            "justify_items": null,
            "left": null,
            "margin": null,
            "max_height": null,
            "max_width": null,
            "min_height": null,
            "min_width": null,
            "object_fit": null,
            "object_position": null,
            "order": null,
            "overflow": null,
            "overflow_x": null,
            "overflow_y": null,
            "padding": null,
            "right": null,
            "top": null,
            "visibility": null,
            "width": null
          }
        }
      }
    }
  },
  "nbformat": 4,
  "nbformat_minor": 5
}
