{
 "cells": [
  {
   "attachments": {},
   "cell_type": "markdown",
   "id": "d09c1533-97fd-43f7-83ea-f3a56edd1d5e",
   "metadata": {},
   "source": [
    "# 🧑‍💻 Log and load data\n",
    "\n",
    "This guide showcases some features of the `Dataset` classes in the Argilla client.\n",
    "The Dataset classes are lightweight containers for Argilla records. These classes facilitate importing from and exporting to different formats (e.g., `pandas.DataFrame`, `datasets.Dataset`) as well as sharing and versioning Argilla datasets using the Hugging Face Hub.\n",
    "\n",
    "For each record type there's a corresponding Dataset class called `DatasetFor<RecordType>`.\n",
    "You can look up their API in the [reference section](../reference/python/python_client.rst#module-argilla.client.datasets)"
   ]
  },
  {
   "attachments": {},
   "cell_type": "markdown",
   "id": "32a270a1",
   "metadata": {},
   "source": [
    "## Argilla Records\n",
    "\n",
    "The main component of the Argilla data model is called a record. A dataset in Argilla is a collection of these records. \n",
    "Records can be of different types depending on the currently supported tasks:\n",
    "\n",
    " 1. `TextClassificationRecord`\n",
    " 2. `TokenClassificationRecord`\n",
    " 3. `Text2TextRecord`\n",
    " \n",
    "The most critical attributes of a record that are common to all types are:\n",
    "\n",
    " - `text`: The input text of the record (Required);\n",
    " - `annotation`: Annotate your record in a task-specific manner (Optional);\n",
    " - `prediction`: Add task-specific model predictions to the record (Optional);\n",
    " - `metadata`: Add some arbitrary metadata to the record (Optional);\n",
    " \n",
    "Some other cool attributes for a record are:\n",
    "\n",
    " - `vectors`: Input vectors to enable [semantic search](label_records_with_semanticsearch.html). \n",
    " - `explanation`: Token attributions for [highlighting text](log_model_explanations.html).\n",
    "\n",
    "In Argilla, records are created programmatically using the [client library](../reference/python/python_client.rst) within a Python script, a [Jupyter notebook](https://jupyter.org/), or another IDE.\n",
    "\n",
    "\n",
    "Let's see how to create and upload a basic record to the Argilla web app  (make sure Argilla is already installed on your machine as described in the [setup guide](../getting_started/installation/installation.md)):\n",
    "\n",
    "### Create records\n",
    "\n",
    "*TextClassificationRecord*\n",
    "```python\n",
    "import argilla as rg\n",
    "\n",
    "record = rg.TextClassificationRecord(\n",
    "    text=\"Hello world, this is me!\",\n",
    "    prediction=[(\"LABEL1\", 0.8), (\"LABEL2\", 0.2)],\n",
    "    annotation=\"LABEL1\",\n",
    "    multi_label=False,\n",
    ")\n",
    "```\n",
    "\n",
    "*TokenClassificationRecord*\n",
    "```python\n",
    "import argilla as rg\n",
    "\n",
    "record = rg.TokenClassificationRecord(\n",
    "    text=\"Michael is a professor at Harvard\",\n",
    "    tokens=[\"Michael\", \"is\", \"a\", \"professor\", \"at\", \"Harvard\"],\n",
    "    prediction=[(\"NAME\", 0, 7), (\"LOC\", 26, 33)],\n",
    ")\n",
    "```\n",
    "\n",
    "*Text2TextRecord*\n",
    "```python\n",
    "import argilla as rg\n",
    "\n",
    "record = rg.Text2TextRecord(\n",
    "    text=\"My name is Sarah and I love my dog.\",\n",
    "    prediction=[\"Je m'appelle Sarah et j'aime mon chien.\"],\n",
    ")\n",
    "```\n",
    "\n",
    "### Special Metadata Fields\n",
    "\n",
    "To facilitate some customization for the usage of metadata fields, we also added some custom metadata fields.\n",
    "\n",
    "#### Protected fields\n",
    "\n",
    "By adding a leading underscore `_` to a random metadata field, we can refrain Argilla from indexing it, which allows us to store the additional info in Elastic without performance loss. So, these metadata fields won't be used in queries or filters by adding an underscore at the start e.g. `_my_field`.\n",
    "\n",
    "#### Image support\n",
    "\n",
    "You can pass a URL in the metadata field `_image_url` and the image will be rendered in the Argilla UI. You can use this in the Text Classification and the Token Classification tasks. These images need to be hosted on a publicly available URL, or private file servers like NGINX, or Minio."
   ]
  },
  {
   "attachments": {},
   "cell_type": "markdown",
   "id": "ae9d4c9e-24a1-4a59-8a17-3b6ac1a39c88",
   "metadata": {},
   "source": [
    "## Argilla Datasets\n",
    "### Create a Dataset\n",
    "\n",
    "The records classes correspond to 3 equivalent datasets:\n",
    "\n",
    " 1. `DatasetForTextClassification`\n",
    " 2. `DatasetForTokenClassification`\n",
    " 3. `DatasetForText2Text`\n",
    " \n",
    "Under the hood the Dataset classes store the records in a simple Python list. Therefore, working with a Dataset class is not very different from working with a simple list of records, but before creating a dataset we should first define dataset settings and a labeling schema.\n",
    "\n",
    "Argilla datasets have certain *settings* that you can configure via the `rg.*Settings` classes, for example `rg.TextClassificationSettings`. The Dataset classes do some extra checks for you, to make sure you do not mix record types when appending or indexing into a dataset. \n",
    "\n",
    "### Define a labeling schema\n",
    "You can define a labeling schema for your Argilla dataset, which fixes the allowed labels for your predictions and annotations.\n",
    "Once you set a labeling schema, each time you log to the corresponding dataset, Argilla will perform validations of the added predictions and annotations to make sure they comply with the schema.\n",
    "You can set your labels using the code below or from the [Dataset settings page](../reference/webapp/pages.md#dataset-settings) in the UI.\n",
    "\n",
    "If you forget to define a labeling schema, Argilla will aggregate the labels it finds in the dataset automatically, but you will need to validate it. To do this, go to your [Dataset settings page](../reference/webapp/pages.md#dataset-settings) and click _Save schema_.\n",
    "\n",
    "![Schema not saved](../../_source/_static/images/guides/guides-define_schema.png)"
   ]
  },
  {
   "cell_type": "code",
   "execution_count": null,
   "id": "c88fa7e6",
   "metadata": {},
   "outputs": [],
   "source": [
    "import argilla as rg\n",
    "\n",
    "# Define labeling schema\n",
    "settings = rg.TextClassificationSettings(label_schema=[\"A\", \"B\", \"C\"])\n",
    "\n",
    "# Apply settings to a new or already existing dataset\n",
    "rg.configure_dataset(name=\"my_dataset\", settings=settings)"
   ]
  },
  {
   "attachments": {},
   "cell_type": "markdown",
   "id": "14a65408",
   "metadata": {},
   "source": [
    "## Log data\n",
    "\n",
    "Argilla currently gives users several ways to log model predictions besides the `rg.log` async method. \n",
    "\n",
    "### Using `rg.log`\n",
    "\n",
    "For this example we show how to use `rg.log` to create records that will be logged into an existing dataset, with an [existing labelling schema](#define-a-labeling-schema). Note that, this needs to be defined before logging data into a dataset.\n",
    "\n",
    "```python\n",
    "import argilla as rg\n",
    "\n",
    "# create a record with correct annotation\n",
    "valid_record = rg.TextClassificationRecord(text=\"text\", annotation=\"A\")\n",
    "dataset_rg = rg.DatasetForTextClassification([valid_record])\n",
    "rg.log(dataset_rg, \"my_dataset\") or rg.log(valid_record, \"my_dataset\")\n",
    "# processed 1 record(s)\n",
    "\n",
    "# Logging to the newly created dataset triggers the validation checks and prohibits label B\n",
    "invalid_record = rg.TextClassificationRecord(text=\"text\", annotation=\"D\")\n",
    "invalid_dataset_rg = rg.DatasetForTextClassification([invalid_record])\n",
    "rg.log(invalid_dataset_rg, \"my_dataset\") or rg.log(invalid_record, \"my_dataset\")\n",
    "# BadRequestApiError: Argilla server returned an error with http status: 400\n",
    "```\n",
    "\n",
    "### Using `rg.monitor`\n",
    "\n",
    "For widely-used libraries Argilla includes an \"auto-monitoring\" option via the `rg.monitor` method. Currently supported libraries are Hugging Face Transformers and spaCy, if you'd like to see another library supported feel free to add a discussion or issue on GitHub.\n",
    "\n",
    "`rg.monitor` will wrap HF and spaCy pipelines so every time you call them, the output of these calls will be logged into the dataset of your choice, as a background process, in a non-blocking way. Additionally, `rg.monitor` will add several tags to your dataset such as the library build version, the model name, the language, etc. This should also work for custom (private) pipelines, not only the Hub's or official spaCy models.\n",
    "\n",
    "It is worth noting that this feature is useful beyond monitoring, and can be used for data collection (e.g., bootstrapping data annotation with pre-trained pipelines), model development (e.g., error analysis), and model evaluation (e.g., combined with data annotation to obtain evaluation metrics)."
   ]
  },
  {
   "cell_type": "code",
   "execution_count": null,
   "id": "b42322f4",
   "metadata": {},
   "outputs": [],
   "source": [
    "import argilla as rg\n",
    "\n",
    "# using spaCy\n",
    "import spacy\n",
    "nlp = spacy.load(\"en_core_web_sm\")\n",
    "nlp = rg.monitor(nlp, dataset=\"nlp_monitoring_spacy\", sample_rate=1.0)\n",
    "nlp(\"I want to monitor this TokenClassification text!\")\n",
    "\n",
    "# using transformers\n",
    "from transformers import pipeline\n",
    "nlp = pipeline(\"sentiment-analysis\", return_all_scores=True, padding=True, truncation=True)\n",
    "nlp = rg.monitor(nlp, dataset=\"nlp_monitoring\", sample_rate=1.0)\n",
    "nlp(\"I want to monitor this TextClassification text!\")\n",
    "\n",
    "# using flAIr\n",
    "from flair.data import Sentence\n",
    "from flair.models import SequenceTagger\n",
    "tagger = rg.monitor(SequenceTagger.load(\"flair/ner-english\"), dataset=\"flair-example\", sample_rate=1.0)\n",
    "sentence = Sentence(\"I want to monitor this TokenClassification text!\")\n",
    "tagger.predict(sentence)"
   ]
  },
  {
   "attachments": {},
   "cell_type": "markdown",
   "id": "b6cc89f8",
   "metadata": {},
   "source": [
    "### Using ASGI middleware\n",
    "\n",
    "For using the ASGI middleware, see this [tutorial](../../tutorials/notebooks/deploying-texttokenclassification-fastapi.html)."
   ]
  },
  {
   "attachments": {},
   "cell_type": "markdown",
   "id": "381b5f0b",
   "metadata": {},
   "source": [
    "## Load Data\n",
    "\n",
    "It is very straightforward to simply load a dataset. This can be done using `rg.load`. Additionally, you can check our [query page](query_datasets.html) for custom info about querying and you can check our [vector page](label_records_with_semanticsearch.html) for info about vector search."
   ]
  },
  {
   "cell_type": "code",
   "execution_count": null,
   "id": "d54eeaba",
   "metadata": {},
   "outputs": [],
   "source": [
    "import argilla as rg\n",
    "\n",
    "dataset_rg = rg.load(\n",
    "    name=\"my_dataset\",\n",
    "    query=\"my AND query\",\n",
    "    limit=42,\n",
    "    vectors=(\"vector1\", [0, 42, 1957]), \n",
    "    sort=[(\"event_timestamp\", \"desc\")] \n",
    ")"
   ]
  },
  {
   "attachments": {},
   "cell_type": "markdown",
   "id": "eed77791",
   "metadata": {},
   "source": [
    "## Update Data\n",
    "\n",
    "It is possible to update records from your Argilla datasets using our Python API. This approach works the same way as an upsert in a normal database, based on the record `id`. You can update any arbitrary parameters and they will be over-written if you use the `id` of the original record."
   ]
  },
  {
   "cell_type": "code",
   "execution_count": null,
   "id": "866e11c7",
   "metadata": {},
   "outputs": [],
   "source": [
    "import argilla as rg\n",
    "\n",
    "# read all records in the dataset or define a specific search via the `query` parameter\n",
    "record = rg.load(\"my_first_dataset\")\n",
    "\n",
    "# modify first record metadata (if no previous metadata dict you might need to create it)\n",
    "record[0].metadata[\"my_metadata\"] = \"im a new value\"\n",
    "\n",
    "# log record to update it, this will keep everything but add my_metadata field and value\n",
    "rg.log(name=\"my_first_dataset\", records=record[0])"
   ]
  },
  {
   "attachments": {},
   "cell_type": "markdown",
   "id": "df88889b-12f4-472f-bcbe-fb47be475d02",
   "metadata": {},
   "source": [
    "## Import and export Data\n",
    "\n",
    "When you have your data in a [_pandas DataFrame_](https://pandas.pydata.org/pandas-docs/stable/reference/api/pandas.DataFrame.html) or a [_datasets Dataset_](https://huggingface.co/docs/datasets/access.html), we provide some neat shortcuts to import this data into a Argilla Dataset. \n",
    "You have to make sure that the data follows the record model of a specific task, otherwise you will get validation errors. \n",
    "Columns in your DataFrame/Dataset that are not supported or recognized, will simply be ignored.\n",
    "\n",
    "The record models of the tasks are explained in the [reference section](../reference/python/python_client.rst#module-argilla.client.models). \n",
    "\n",
    "<div class=\"alert alert-info\">\n",
    "\n",
    "Note\n",
    "\n",
    "Due to it's pyarrow nature, data in a `datasets.Dataset` has to follow a slightly different model, that you can look up in the examples of the `Dataset*.from_datasets` [docstrings](../reference/python/python_client.rst#argilla.client.datasets.DatasetForTokenClassification.from_datasets). \n",
    "    \n",
    "</div>"
   ]
  },
  {
   "attachments": {},
   "cell_type": "markdown",
   "id": "8856d60b",
   "metadata": {},
   "source": [
    "### Pandas"
   ]
  },
  {
   "cell_type": "code",
   "execution_count": null,
   "id": "62ca56d4-2bb5-4c77-a069-7a50ee78b415",
   "metadata": {},
   "outputs": [],
   "source": [
    "import argilla as rg\n",
    "\n",
    "# import data from a pandas DataFrame\n",
    "dataset_rg = rg.read_pandas(my_dataframe, task=\"TextClassification\")\n",
    "# or\n",
    "dataset_rg = rg.DatasetForTextClassification.from_pandas(my_dataframe)\n",
    "\n",
    "# export back to a pandas DataFrame\n",
    "dataset_rg.to_pandas()"
   ]
  },
  {
   "attachments": {},
   "cell_type": "markdown",
   "id": "be0a0e4d-f05b-4635-af54-885933f3bc9a",
   "metadata": {},
   "source": [
    "### Datasets library\n",
    "\n",
    "We also provide helper arguments you can use to read almost arbitrary datasets for a given task from the [Hugging Face Hub](https://huggingface.co/datasets).\n",
    "\n",
    "```python\n",
    "import argilla as rg\n",
    "from datasets import load_dataset\n",
    "\n",
    "my_dataset = load_dataset(\"argilla/news\", split=\"test\")\n",
    "\n",
    "# import data from a datasets Dataset\n",
    "dataset_rg = rg.read_datasets(my_dataset, task=\"TextClassification\")\n",
    "# or\n",
    "dataset_rg = rg.DatasetForTextClassification.from_datasets(my_dataset)\n",
    "\n",
    "# export back to a datasets\n",
    "dataset_rg.to_datasets()\n",
    "```\n",
    "\n",
    "Additionally, we can choose to map certain input arguments of the Argilla records to columns of the given dataset.\n",
    "Let's have a look at a few examples:"
   ]
  },
  {
   "cell_type": "code",
   "execution_count": null,
   "id": "41209b56-0dce-4045-8a4f-ffc00f962a48",
   "metadata": {
    "tags": []
   },
   "outputs": [],
   "source": [
    "import argilla as rg\n",
    "from datasets import load_dataset\n",
    "\n",
    "# the \"poem_sentiment\" dataset has columns \"verse_text\" and \"label\"\n",
    "dataset_rg = rg.DatasetForTextClassification.from_datasets(\n",
    "    dataset=load_dataset(\"poem_sentiment\", split=\"test\"),\n",
    "    text=\"verse_text\",\n",
    "    annotation=\"label\",\n",
    ")\n",
    "\n",
    "# the \"snli\" dataset has the columns \"premise\", \"hypothesis\" and \"label\"\n",
    "dataset_rg = rg.DatasetForTextClassification.from_datasets(\n",
    "    dataset=load_dataset(\"snli\", split=\"test\"),\n",
    "    inputs=[\"premise\", \"hypothesis\"],\n",
    "    annotation=\"label\",\n",
    ")\n",
    "\n",
    "# the \"conll2003\" dataset has the columns \"id\", \"tokens\", \"pos_tags\", \"chunk_tags\" and \"ner_tags\"\n",
    "rg.DatasetForTokenClassification.from_datasets(\n",
    "    dataset=load_dataset(\"conll2003\", split=\"test\"),\n",
    "    tags=\"ner_tags\",\n",
    ")\n",
    "\n",
    "# the \"xsum\" dataset has the columns \"id\", \"document\" and \"summary\"\n",
    "rg.DatasetForText2Text.from_datasets(\n",
    "    dataset=load_dataset(\"xsum\", split=\"test\"),\n",
    "    text=\"document\",\n",
    "    annotation=\"summary\",\n",
    ")\n"
   ]
  },
  {
   "attachments": {},
   "cell_type": "markdown",
   "id": "de341ab4-6be4-499b-9f4e-0eb4546fa753",
   "metadata": {},
   "source": [
    "You can also use the shortcut `rg.read_datasets(dataset=..., task=..., **kwargs)` where the keyword arguments are passed on to the corresponding `from_datasets()` method.\n",
    "\n",
    "### Hugging Face hub\n",
    "\n",
    "You can easily share your Argilla dataset with your community via the Hugging Face Hub.\n",
    "For this you just need to export your Argilla Dataset to a `datasets.Dataset` and [push it to the hub](https://huggingface.co/docs/datasets/upload_dataset.html?highlight=push_to_hub#upload-from-python):\n"
   ]
  },
  {
   "cell_type": "code",
   "execution_count": null,
   "id": "7bae9254",
   "metadata": {},
   "outputs": [],
   "source": [
    "import argilla as rg\n",
    "\n",
    "# load your annotated dataset from the Argilla web app\n",
    "dataset_rg = rg.load(\"my_dataset\")\n",
    "\n",
    "# export your Argilla Dataset to a datasets Dataset\n",
    "dataset_ds = dataset_rg.to_datasets()\n",
    "\n",
    "# push the dataset to the Hugging Face Hub\n",
    "dataset_ds.push_to_hub(\"my_dataset\")"
   ]
  },
  {
   "attachments": {},
   "cell_type": "markdown",
   "id": "21896835",
   "metadata": {},
   "source": [
    "Afterward, your community can easily access your annotated dataset and log it directly to the Argilla web app:"
   ]
  },
  {
   "cell_type": "code",
   "execution_count": null,
   "id": "f789f6c3",
   "metadata": {},
   "outputs": [],
   "source": [
    "from datasets import load_dataset\n",
    "\n",
    "# download the dataset from the Hugging Face Hub\n",
    "dataset_ds = load_dataset(\"user/my_dataset\", split=\"train\")\n",
    "\n",
    "# read in dataset, assuming its a dataset for text classification\n",
    "dataset_rg = rg.read_datasets(dataset_ds, task=\"TextClassification\")\n",
    "\n",
    "# log the dataset to the Argilla web app\n",
    "rg.log(dataset_rg, \"dataset_by_user\")\n"
   ]
  },
  {
   "cell_type": "markdown",
   "id": "88a705b9",
   "metadata": {},
   "source": [
    "## Database Migration Management"
   ]
  },
  {
   "attachments": {},
   "cell_type": "markdown",
   "id": "0f3ccb75",
   "metadata": {},
   "source": [
    "### Migrating from old schema\n",
    "\n",
    "For old Argilla versions, labels created from the UI were not included as part of a labelling schema. Instead, the UI used the dataset metadata index in Elastic Search to store \n",
    "this information.\n",
    "\n",
    "<div class=\"alert alert-warning\">\n",
    "\n",
    "Warning\n",
    "\n",
    "From Argilla version v1.4.0, all labels will be created using the new label schema settings. Be sure to migrate datasets with labels created using the UI to the proper label schema.\n",
    "\n",
    "</div>\n",
    "\n",
    "If you want to move this info to the corresponding label schema, you can execute the next code snippet:"
   ]
  },
  {
   "cell_type": "markdown",
   "id": "b758c202-4b4c-4275-8aa8-047539ea2df0",
   "metadata": {},
   "source": [
    "Here is a code snippet showing how to do it"
   ]
  },
  {
   "cell_type": "code",
   "execution_count": null,
   "id": "8ce86eb4",
   "metadata": {},
   "outputs": [],
   "source": [
    "import argilla as rg\n",
    "from argilla.client import api\n",
    "\n",
    "rg.init()\n",
    "client = api.active_client()\n",
    "\n",
    "# This metadata key was used by the UI to store created labels in datasets\n",
    "CUSTOM_DATA_KEY = \"rubrix.recogn.ai/ui/custom/userData.v1\"\n",
    "datasets = [dataset for dataset in client.http_client.get(\"/api/datasets\") if CUSTOM_DATA_KEY in dataset[\"metadata\"]]\n",
    "print(f\"Found {len(datasets)} datasets to migrate\")\n",
    "for ds in datasets:\n",
    "    metadata = ds[\"metadata\"]\n",
    "    task = ds[\"task\"]\n",
    "    name = ds[\"name\"]\n",
    "    workspace = ds[\"owner\"]  # owner will be replaced by `workspace` in newer versions\n",
    "\n",
    "    if task == \"TextClassification\":  # Build text classification settings\n",
    "        labels = metadata[CUSTOM_DATA_KEY][\"labels\"]\n",
    "        settings = rg.TextClassificationSettings(label_schema=set(labels))\n",
    "    elif task == \"TokenClassification\":  # Build token classification settings\n",
    "        labels = metadata[CUSTOM_DATA_KEY][\"entities\"]\n",
    "        settings = rg.TokenClassificationSettings(label_schema=set(labels))\n",
    "    else:\n",
    "        raise Exception(f\"No labels key for task {task}. {dataset}\")\n",
    "\n",
    "    # Setting the dataset workspace to work with current dataset\n",
    "    rg.set_workspace(workspace)\n",
    "\n",
    "    # We will complete labels schema with labels found in dataset records.\n",
    "    # This will avoid errors on label schema validation (when labels in records are not present in the label schema)\n",
    "    metrics = client.compute_metric(name=name, metric=\"dataset_labels\")\n",
    "    for label in metrics.results[\"labels\"]:\n",
    "        settings.label_schema.add(label)\n",
    "    print(f\"Settings labels for dataset '{name}': {settings}\")\n",
    "    rg.configure_dataset(name=name, settings=settings)\n"
   ]
  },
  {
   "cell_type": "code",
   "execution_count": null,
   "id": "360b0075",
   "metadata": {
    "collapsed": false,
    "jupyter": {
     "outputs_hidden": false
    }
   },
   "outputs": [],
   "source": [
    "import argilla as rg\n",
    "from argilla.client import api\n",
    "\n",
    "rg.init()\n",
    "rg_client = api.active_client()\n",
    "\n",
    "new_workspace = \"<put-target-workspace-here>\"\n",
    "\n",
    "empty_workspace_datasets = [\n",
    "    ds[\"name\"]\n",
    "    for ds in rg_client.http_client.get(\"/api/datasets\")\n",
    "    # filtering dataset with no workspace (use `\"owner\"` if you're running this code with server versions <=1.3.0)\n",
    "    if not ds.get(\"workspace\", None)\n",
    "]\n",
    "\n",
    "rg.set_workspace(\"\")  # working from the \"empty\" workspace\n",
    "\n",
    "for dataset in empty_workspace_datasets:\n",
    "    rg.copy(dataset, dataset, new_workspace)\n",
    "\n",
    "# Dataset are normally copied to the provided workspace\n",
    "# You should delete datasets with no workspace\n",
    "# In that case, uncomment following lines\n",
    "# for dataset in empty_workspace_datasets:\n",
    "#    rg.delete(dataset)"
   ]
  },
  {
   "attachments": {},
   "cell_type": "markdown",
   "id": "6f945b5c",
   "metadata": {},
   "source": [
    "### Reindex a Dataset\n",
    "\n",
    "Sometimes updates require us to reindex the data."
   ]
  },
  {
   "attachments": {},
   "cell_type": "markdown",
   "id": "aa5a3998",
   "metadata": {},
   "source": [
    "#### Argilla Metrics\n",
    "\n",
    "For our internally computed metrics, this can be done by simply, loading and logging the same records back to the same index. This is because our internal metrics are computed and updated during logging."
   ]
  },
  {
   "cell_type": "code",
   "execution_count": null,
   "id": "76207d64",
   "metadata": {},
   "outputs": [],
   "source": [
    "import argilla as rg\n",
    "\n",
    "dataset = \"my-outdated-dataset\"\n",
    "ds = rg.load(dataset) \n",
    "rg.log(ds, dataset) "
   ]
  },
  {
   "attachments": {},
   "cell_type": "markdown",
   "id": "f92935ce",
   "metadata": {},
   "source": [
    "#### Elasticsearch\n",
    "\n",
    "For Elastic indices, re-indexing requires a bit more effort. To be certain of a proper re-indexing, we requires loading the records, and storing them within a completely new index."
   ]
  },
  {
   "cell_type": "code",
   "execution_count": null,
   "id": "bf9628ac",
   "metadata": {},
   "outputs": [],
   "source": [
    "import argilla as rg\n",
    "\n",
    "dataset = \"my-outdated-dataset\"\n",
    "ds = rg.load(dataset) \n",
    "new_dataset = \"my-new-dataset\"\n",
    "rg.log(ds, new_dataset) "
   ]
  }
 ],
 "metadata": {
  "kernelspec": {
   "display_name": "Python 3",
   "language": "python",
   "name": "python3"
  },
  "language_info": {
   "codemirror_mode": {
    "name": "ipython",
    "version": 3
   },
   "file_extension": ".py",
   "mimetype": "text/x-python",
   "name": "python",
   "nbconvert_exporter": "python",
   "pygments_lexer": "ipython3",
   "version": "3.9.15"
  },
  "vscode": {
   "interpreter": {
    "hash": "31f2aee4e71d21fbe5cf8b01ff0e069b9275f58929596ceb00d14d90e3e16cd6"
   }
  }
 },
 "nbformat": 4,
 "nbformat_minor": 5
}
