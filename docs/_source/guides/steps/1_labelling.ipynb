{
 "cells": [
  {
   "cell_type": "markdown",
   "metadata": {},
   "source": [
    "## 🏷 Labelling"
   ]
  },
  {
   "cell_type": "markdown",
   "metadata": {},
   "source": [
    "When labelling, we generally differentiate between manual labelling and co-operative or programmatic labelling. During co-operative labelling, we use external input like rules and inference prediction to kickstart our annotation process. Manual labelling is always needed and having a good understanding of the problem is key to getting started, however, co-operative labelling can significantly reduce your time spend labelling."
   ]
  },
  {
   "cell_type": "markdown",
   "metadata": {},
   "source": [
    "### An annotation guideline\n",
    "\n",
    "Before starting the annotation process with a team, it is important to align the different truths everyone in the team thinks they have. Because the same text is going to be annotated by multiple annotators independently or we might want to revisit an old dataset later on. Besides a set of obvious mistakes, we also often encounter uncertain grey areas. Consider the following phrase for NER-annotation `Harry Potter and the prisoner of Azkaban` can be interpreted in many ways. The entire phrase is as the movie title, `Harry Potter` is a person, and `Azkaban` is location. Maybe we don´t even want to annotate fictional locations and characters. Therefore, it is important to define these assumptions beforehand and iterate over them together with the team. Take a look at [this blog](https://www.superb-ai.com/blog/how-to-write-better-annotation-guidelines-for-human-labelers-4-top-tips) from our friends over at `suberb.ai` or [this blog](https://www.grammarly.com/blog/engineering/annotation-best-practices/?utm_campaign=B2C&utm_medium=social&utm_source=LinkedIn_org&utm_term=blog&utm_content=link) from Grammarly for more context."
   ]
  },
  {
   "cell_type": "markdown",
   "metadata": {},
   "source": [
    "### Manual Labelling\n",
    "\n",
    "![Manual annotations of a sentiment classification task](../../_static/reference/webapp/features-metrics.png)\n",
    "\n",
    "The straightforward approach of manual annotations might be necessary if you do not have a suitable model for your use case or cannot come up with good heuristic rules for your dataset. \n",
    "It can also be a good approach if you dispose of a large annotation workforce or require few but unbiased and high-quality labels.\n",
    "\n",
    "Argilla tries to make this relatively cumbersome approach as painless as possible. \n",
    "Via an intuitive and adaptive UI, its exhaustive search and filter functionalities, and bulk annotation capabilities, Argilla turns the manual annotation process into an efficient option.  \n",
    "\n",
    "Look at our dedicated [feature reference](../../reference/webapp/features.html) for a detailed and illustrative guide on manually annotating your dataset with Argilla for specific NLP Tasks."
   ]
  },
  {
   "cell_type": "markdown",
   "metadata": {},
   "source": [
    "### Pre-annotate\n",
    "\n",
    "Check the [introduction tutorial](../../tutorials//notebooks/labelling-tokenclassification-spacy-pretrained.ipynb) to learn to add predictions to the records. \n",
    "And our [feature reference](../../reference/webapp/features.md) includes a detailed guide on validating predictions in the Argilla web app."
   ]
  },
  {
   "cell_type": "markdown",
   "metadata": {},
   "source": [
    "#### Pretrained models\n",
    "\n",
    "As stated previously, we can also pre-annotate our data using ML models. Within [Hugging Face](https://huggingface.co/models) it is quite likely you will find a model that already suits your specific dataset task to some degree. In Argilla, you can pre-annotate your data by including predictions from these models in your records. Assuming that the model works reasonably well on your dataset, you can filter for records with high prediction scores and validate the predictions. In this way, you will rapidly annotate part of your data and alleviate the annotation process.\n",
    "\n",
    "One downside of this approach is that your annotations will be subject to the possible biases and mistakes of the pre-trained model. When guided by pre-trained models, it is common to see human annotators get influenced by them. Therefore, it is advisable to avoid pre-annotations when building a rigorous test set for the final model evaluation."
   ]
  },
  {
   "cell_type": "markdown",
   "metadata": {},
   "source": [
    "#### Zero and few-shot models\n",
    "\n",
    "A special kind of pre-annotation models are zero and few-shot models. These models can create reasonably well predictions while requiring only a few or even zero training samples. A good example of a good few-shot model is found in our tutorial about [SetFit](../../tutorials/notebooks/training-textclassification-setfit-fewshot.html) and good examples of zero-shot models can be found on the [Hugging Face model page](https://huggingface.co/models?pipeline_tag=zero-shot-classification&sort=downloads). "
   ]
  },
  {
   "cell_type": "markdown",
   "metadata": {},
   "source": [
    "### Weak supervision rules\n",
    "\n",
    "![Defining a rule for a multi-label text classification task.](../../_static/reference/webapp/features-weak-labelling.png)\n",
    "\n",
    "Another approach to annotating your data is to define heuristic rules tailored to your dataset. \n",
    "For example, let us assume you want to classify news articles into the categories of *Finance*, *Sports*, and *Culture*. \n",
    "In this case, a reasonable rule would be to label all articles that include the word \"stock\" as *Finance*. \n",
    "\n",
    "Rules can get arbitrarily complex and can also include the record's metadata. \n",
    "The downsides of this approach are that it might be challenging to come up with working heuristic rules for some datasets. \n",
    "Furthermore, rules are rarely 100% precise and often conflict with each other. These noisy labels can be cleaned up using weak supervision and label models, or something as simple as majority voting. It is usually a trade-off between the amount of annotated data and the quality of the labels.\n",
    "\n",
    "Check [our guide](../../guides/techniques/weak_supervision.html) for an extensive introduction to weak supervision with Argilla. \n",
    "Also, check the [feature reference](../../reference/webapp/features.md) for the Define rules mode of the web app and our [various tutorials](../../tutorials/techniques/weak_supervision.html) to see practical examples of weak supervision workflows. "
   ]
  }
 ],
 "metadata": {
  "kernelspec": {
   "display_name": "Python 3.9.13 ('.venv': venv)",
   "language": "python",
   "name": "python3"
  },
  "language_info": {
   "name": "python",
   "version": "3.9.13"
  },
  "orig_nbformat": 4,
  "vscode": {
   "interpreter": {
    "hash": "39f4e3bd8ecb53b4a2ef9bccb982583dac0632e40e094b10b94294b76eaa26cb"
   }
  }
 },
 "nbformat": 4,
 "nbformat_minor": 2
}
