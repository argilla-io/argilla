{
 "cells": [
  {
   "cell_type": "markdown",
   "metadata": {},
   "source": [
    "## 👨🏽‍🏫 Active Learning\n",
    "\n",
    "> Active learning is a special case of machine learning in which a learning algorithm can interactively query a user (or some other information source) to label new data points with the desired outputs. [Wikipedia](https://en.wikipedia.org/wiki/Active_learning_(machine_learning))\n",
    "\n",
    "Supervised machine learning often requires large amounts of labeled data that are expensive to generate. \n",
    "*Active Learning* systems attempt to overcome this labeling bottleneck. \n",
    "The underlying idea is that not all data points are equally important for training the model. \n",
    "The *Active Learning* system tries to query only the most relevant data from a pool of unlabeled data to be labeled by a so-called *oracle*, which is often a human annotator.\n",
    "Therefore, *Active Learning* systems are usually much more sample efficient and need far less training data than traditional supervised systems.\n",
    "\n",
    "![Active Learning](../../_static/reference/webapp/technique-active-learning.png \"Active Learning\")"
   ]
  },
  {
   "cell_type": "markdown",
   "metadata": {},
   "source": [
    "*Active Learning* systems can be a bit overwhelming to set-up, therefore we have defined several step-by-step [tutorials](../../tutorials/techniques/active_learning.md) with some of the most popular libraries like `autonlp`, `small-text` and `modAL` ."
   ]
  }
 ],
 "metadata": {
  "kernelspec": {
   "display_name": "Python 3.9.13 ('.venv': venv)",
   "language": "python",
   "name": "python3"
  },
  "language_info": {
   "codemirror_mode": {
    "name": "ipython",
    "version": 3
   },
   "file_extension": ".py",
   "mimetype": "text/x-python",
   "name": "python",
   "nbconvert_exporter": "python",
   "pygments_lexer": "ipython3",
   "version": "3.9.13"
  },
  "orig_nbformat": 4,
  "vscode": {
   "interpreter": {
    "hash": "39f4e3bd8ecb53b4a2ef9bccb982583dac0632e40e094b10b94294b76eaa26cb"
   }
  }
 },
 "nbformat": 4,
 "nbformat_minor": 2
}
