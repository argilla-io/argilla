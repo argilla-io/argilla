{
 "cells": [
  {
   "attachments": {},
   "cell_type": "markdown",
   "metadata": {},
   "source": [
    "# Annotate a Feedback Dataset\n",
    "\n",
    "![Spanshot of the Submitted queue and the progress bar in a Feedback dataset](../../../_static/images/llms/snapshot-feedback-submitted.png)\n",
    "\n",
    "After pushing a `FeedbackDataset` to Argilla, as explained in [Create and import a Feedback Dataset](create_dataset.ipynb), you can start annotating it through the Argilla UI.\n",
    "\n",
    "As you open the dataset in the UI, you will see by default the records with `Pending` responses, i.e. records that still don't have a response (annotation), in a single-record view. On the left, you can find the record to annotate and on the right the form with the questions to answer. You can navigate through the records using the `Prev` and `Next` buttons in the bottom bar.\n",
    "\n",
    "We highly recommend that you read the annotation guidelines before starting the annotation, if there are any. If the guidelines have been specified, you can find them either on the dataset settings page or by clicking the \"Read the annotation guidelines\" button on the top right of the feedback panel, before starting the annotation.\n",
    "\n",
    "In the feedback view, you will be able to provide responses/annotations to the given questions. Each question can have a description, that you will find in the info icon next to them, if applicable; with useful information about the question itself and the annotation, if required. Once all required questions have responses, the `Submit` button will be enabled and you will be able to submit your response for the questions of the given record. If either you decide not to provide the responses for a record, you can move to the next record, or you can discard it using the `Discard` button.\n",
    "\n",
    "You can speed up the annotation process by using these shortcuts:\n",
    "\n",
    "|Action|Keys|\n",
    "|------|----|\n",
    "|Clear|&#8679; `Shift` + &blank; `Space`|\n",
    "|Discard|&#x232B; `Backspace`|\n",
    "|Discard (from text area)|&#8679; `Shift` + &#x232B; `Backspace`|\n",
    "|Submit|&crarr; `Enter`|\n",
    "|Submit (from text area)|&#8679; `Shift` + &crarr; `Enter`|\n",
    "|Go to previous page|&larr; `Left arrow`|\n",
    "|Go to next page|&rarr; `Right arrow`|\n",
    "\n",
    "If you need to review your submitted or discarded responses, you can select the queue you need. From there, you can modify, submit or discard responses. You can also use the `Clear` button to remove the response and send the record back to the `Pending` queue.\n",
    "\n",
    "You can track your progress and the number of `Pending`, `Submitted` and `Discarded` responses by clicking the `Progress` icon in the sidebar."
   ]
  }
 ],
 "metadata": {
  "kernelspec": {
   "display_name": "argilla",
   "language": "python",
   "name": "python3"
  },
  "language_info": {
   "codemirror_mode": {
    "name": "ipython",
    "version": 3
   },
   "file_extension": ".py",
   "mimetype": "text/x-python",
   "name": "python",
   "nbconvert_exporter": "python",
   "pygments_lexer": "ipython3",
   "version": "3.9.0"
  },
  "orig_nbformat": 4,
  "vscode": {
   "interpreter": {
    "hash": "2d98cb9bf90a932b5bf8e86e91214497eb0e38eb318595fbd6fbd5460fe92036"
   }
  }
 },
 "nbformat": 4,
 "nbformat_minor": 2
}
