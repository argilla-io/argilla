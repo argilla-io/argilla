{
 "cells": [
  {
   "attachments": {},
   "cell_type": "markdown",
   "metadata": {},
   "source": [
    "# Create and import a dataset\n",
    "\n",
    "To create a dataset, first you'll need to define the following configurations:\n",
    "\n",
    "- `name`: The name of the dataset.\n",
    "- `workspace`: The workspace where the dataset will be created. If you don't provide one, it will be placed in the default workspace attached to the API key used in `rg.init()`.\n",
    "- `guidelines` (optional): A set of guidelines for the annotators. These will appear in the dataset settings in the UI.\n",
    "- `fields`: The list of fields to show in the record card. The order in which the fields will appear matches the order of this list.\n",
    "- `questions`: The list of questions to show in the form.\n"
   ]
  },
  {
   "attachments": {},
   "cell_type": "markdown",
   "metadata": {},
   "source": [
    "## Argilla"
   ]
  },
  {
   "attachments": {},
   "cell_type": "markdown",
   "metadata": {},
   "source": [
    "Once the dataset is created locally, add the records and, when you're happy with the result, push the dataset to Argilla. At that point, you will be able to see the dataset from the UI."
   ]
  },
  {
   "cell_type": "code",
   "execution_count": null,
   "metadata": {},
   "outputs": [],
   "source": [
    "# create a dataset locally\n",
    "dataset = rg.FeedbackDataset(\n",
    "    guidelines=\"You will see a collection of records with a question and an answer.\\nYou will be asked to rate the answer from 1 (very bad) to 5 (very good).\\nIf your rating is below 5, please provide a correction to the output.\",\n",
    "    fields = [\n",
    "        rg.TextField(name=\"question\"),\n",
    "        rg.TextField(name=\"answer\")\n",
    "    ],\n",
    "    questions=questions\n",
    ")\n",
    "\n",
    "# add the records to the dataset\n",
    "dataset.add_records(records)\n",
    "\n",
    "# push the dataset and records to Argilla\n",
    "dataset.push_to_argilla(name='my_dataset', workspace='my_workspace')"
   ]
  },
  {
   "attachments": {},
   "cell_type": "markdown",
   "metadata": {},
   "source": [
    "Or copy an existing dataset in your Argilla instance:"
   ]
  },
  {
   "cell_type": "code",
   "execution_count": null,
   "metadata": {},
   "outputs": [],
   "source": [
    "# load the dataset\n",
    "dataset = rg.FeedbackDataset.from_argilla(\"demo_feedback\", workspace=\"recognai\")\n",
    "\n",
    "# push the dataset with a different name / workspace\n",
    "dataset.push_to_argilla(name=\"my_dataset\", workspace=\"my_workspace\")"
   ]
  },
  {
   "attachments": {},
   "cell_type": "markdown",
   "metadata": {},
   "source": [
    "## Hugging Face Hub\n",
    "It is also possible to load and import datasets saved in the Hugging Face Hub that have Argilla's Feedback Dataset format:"
   ]
  },
  {
   "cell_type": "code",
   "execution_count": null,
   "metadata": {},
   "outputs": [],
   "source": [
    "# load a public dataset\n",
    "dataset = rg.FeedbackDataset.from_huggingface(\"argilla/feedback-dataset\")\n",
    "\n",
    "# load a private dataset\n",
    "dataset = rg.FeedbackDataset.from_huggingface(\"argilla/feedback-dataset\", use_auth_token=True)\n",
    "\n",
    "# push to Argilla\n",
    "dataset.push_to_argilla(name=\"my_hub_dataset\", workspace=\"my_workspace\")"
   ]
  }
 ],
 "metadata": {
  "kernelspec": {
   "display_name": "argilla",
   "language": "python",
   "name": "python3"
  },
  "language_info": {
   "codemirror_mode": {
    "name": "ipython",
    "version": 3
   },
   "file_extension": ".py",
   "mimetype": "text/x-python",
   "name": "python",
   "nbconvert_exporter": "python",
   "pygments_lexer": "ipython3",
   "version": "3.9.0"
  },
  "orig_nbformat": 4,
  "vscode": {
   "interpreter": {
    "hash": "2d98cb9bf90a932b5bf8e86e91214497eb0e38eb318595fbd6fbd5460fe92036"
   }
  }
 },
 "nbformat": 4,
 "nbformat_minor": 2
}
