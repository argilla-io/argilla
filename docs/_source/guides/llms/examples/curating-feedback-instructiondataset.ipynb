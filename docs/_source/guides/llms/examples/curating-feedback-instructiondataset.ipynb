{
 "cells": [
  {
   "attachments": {},
   "cell_type": "markdown",
   "metadata": {},
   "source": [
    "# 🖼️ Curate an instruction dataset for supervised fine-tuning\n",
    "\n",
    "The internet is flooding with open-source datasets for fine-tuning LLMs, some created by humans, others generated with generative models. However, these datasets often have many problematic and low-quality examples. By curating them, we can make the fine-tuning step more efficient.\n",
    "\n",
    "In this example, we take [Databricks' Dolly](https://huggingface.co/datasets/databricks/databricks-dolly-15k) dataset to show how you can build an instruction dataset for your fine-tuning projects by cleaning a public dataset using Argilla's Feedback Task.\n",
    "\n",
    "Let's get started!\n",
    "\n",
    "<img src=\"../../../_static/images/llms/curating-feedback-instructiondataset/snapshot_dolly_curation.png\" alt=\"A Feedback Task setting for the curation of Databricks' Dolly dataset\" style=\"width: 1100px;\">\n",
    "\n",
    "<div class=\"alert alert-info.tip\">\n",
    "\n",
    "Tip\n",
    "    \n",
    "This tutorial is a Jupyter Notebook. There are two options to run it:\n",
    "\n",
    "- Use the Open in Colab button at the top of this page. This option allows you to run the notebook directly on Google Colab. Don't forget to change the runtime type to GPU for faster model training and inference.\n",
    "- Download the .ipynb file by clicking on the View source link at the top of the page. This option allows you to download the notebook and run it on your local machine or on a Jupyter notebook tool of your choice.\n",
    "</div>"
   ]
  },
  {
   "attachments": {},
   "cell_type": "markdown",
   "metadata": {},
   "source": [
    "## Setup\n",
    "\n",
    "For this tutorial, you will need to have an Argilla server running. If you don't have one already, check out our [Quickstart](../../../getting_started/quickstart.md) or [Installation](../../../getting_started/installation/installation.md) pages. Once you do, complete the following steps:\n",
    "\n",
    "1. Install the Argilla client and the required third party libraries using `pip`:"
   ]
  },
  {
   "cell_type": "code",
   "execution_count": null,
   "metadata": {},
   "outputs": [],
   "source": [
    "%pip install argilla datasets pandas httpx -qqq"
   ]
  },
  {
   "attachments": {},
   "cell_type": "markdown",
   "metadata": {},
   "source": [
    "2. Let's make the necessary imports:"
   ]
  },
  {
   "cell_type": "code",
   "execution_count": 3,
   "metadata": {},
   "outputs": [],
   "source": [
    "import argilla as rg\n",
    "from datasets import Dataset, load_dataset\n",
    "import pandas as pd\n",
    "import httpx\n",
    "import random\n",
    "from collections import defaultdict, Counter"
   ]
  },
  {
   "attachments": {},
   "cell_type": "markdown",
   "metadata": {},
   "source": [
    "3. If you are running Argilla using the Docker quickstart image or Hugging Face Spaces, you need to init the Argilla client with the `URL` and `API_KEY`:"
   ]
  },
  {
   "cell_type": "code",
   "execution_count": null,
   "metadata": {},
   "outputs": [],
   "source": [
    "# Replace api_url with the url to your HF Spaces URL if using Spaces\n",
    "# Replace api_key if you configured a custom API key\n",
    "rg.init(\n",
    "    api_url=\"http://localhost:6900\", \n",
    "    api_key=\"admin.apikey\"\n",
    ")"
   ]
  },
  {
   "attachments": {},
   "cell_type": "markdown",
   "metadata": {},
   "source": [
    "## Define the project \n",
    "As a first step, let's load the dataset and quickly explore the data:"
   ]
  },
  {
   "cell_type": "code",
   "execution_count": null,
   "metadata": {},
   "outputs": [],
   "source": [
    "data = load_dataset('databricks/databricks-dolly-15k', split='train')"
   ]
  },
  {
   "cell_type": "code",
   "execution_count": 4,
   "metadata": {},
   "outputs": [
    {
     "data": {
      "text/html": [
       "<div>\n",
       "<style scoped>\n",
       "    .dataframe tbody tr th:only-of-type {\n",
       "        vertical-align: middle;\n",
       "    }\n",
       "\n",
       "    .dataframe tbody tr th {\n",
       "        vertical-align: top;\n",
       "    }\n",
       "\n",
       "    .dataframe thead th {\n",
       "        text-align: right;\n",
       "    }\n",
       "</style>\n",
       "<table border=\"1\" class=\"dataframe\">\n",
       "  <thead>\n",
       "    <tr style=\"text-align: right;\">\n",
       "      <th></th>\n",
       "      <th>instruction</th>\n",
       "      <th>context</th>\n",
       "      <th>response</th>\n",
       "      <th>category</th>\n",
       "    </tr>\n",
       "  </thead>\n",
       "  <tbody>\n",
       "    <tr>\n",
       "      <th>0</th>\n",
       "      <td>When did Virgin Australia start operating?</td>\n",
       "      <td>Virgin Australia, the trading name of Virgin A...</td>\n",
       "      <td>Virgin Australia commenced services on 31 Augu...</td>\n",
       "      <td>closed_qa</td>\n",
       "    </tr>\n",
       "    <tr>\n",
       "      <th>1</th>\n",
       "      <td>Which is a species of fish? Tope or Rope</td>\n",
       "      <td></td>\n",
       "      <td>Tope</td>\n",
       "      <td>classification</td>\n",
       "    </tr>\n",
       "    <tr>\n",
       "      <th>2</th>\n",
       "      <td>Why can camels survive for long without water?</td>\n",
       "      <td></td>\n",
       "      <td>Camels use the fat in their humps to keep them...</td>\n",
       "      <td>open_qa</td>\n",
       "    </tr>\n",
       "    <tr>\n",
       "      <th>3</th>\n",
       "      <td>Alice's parents have three daughters: Amy, Jes...</td>\n",
       "      <td></td>\n",
       "      <td>The name of the third daughter is Alice</td>\n",
       "      <td>open_qa</td>\n",
       "    </tr>\n",
       "    <tr>\n",
       "      <th>4</th>\n",
       "      <td>When was Tomoaki Komorida born?</td>\n",
       "      <td>Komorida was born in Kumamoto Prefecture on Ju...</td>\n",
       "      <td>Tomoaki Komorida was born on July 10,1981.</td>\n",
       "      <td>closed_qa</td>\n",
       "    </tr>\n",
       "    <tr>\n",
       "      <th>...</th>\n",
       "      <td>...</td>\n",
       "      <td>...</td>\n",
       "      <td>...</td>\n",
       "      <td>...</td>\n",
       "    </tr>\n",
       "    <tr>\n",
       "      <th>15006</th>\n",
       "      <td>How do i accept the change</td>\n",
       "      <td></td>\n",
       "      <td>Embrace the change and see the difference</td>\n",
       "      <td>brainstorming</td>\n",
       "    </tr>\n",
       "    <tr>\n",
       "      <th>15007</th>\n",
       "      <td>What is a laser and who created it?</td>\n",
       "      <td>A laser is a device that emits light through a...</td>\n",
       "      <td>A laser is a device that emits light from an e...</td>\n",
       "      <td>summarization</td>\n",
       "    </tr>\n",
       "    <tr>\n",
       "      <th>15008</th>\n",
       "      <td>What is the difference between a road bike and...</td>\n",
       "      <td></td>\n",
       "      <td>Road bikes are built to be ridden on asphalt a...</td>\n",
       "      <td>open_qa</td>\n",
       "    </tr>\n",
       "    <tr>\n",
       "      <th>15009</th>\n",
       "      <td>How does GIS help in the real estate investmen...</td>\n",
       "      <td></td>\n",
       "      <td>Real estate investors depend on precise, accur...</td>\n",
       "      <td>general_qa</td>\n",
       "    </tr>\n",
       "    <tr>\n",
       "      <th>15010</th>\n",
       "      <td>What is the Masters?</td>\n",
       "      <td></td>\n",
       "      <td>The Masters Tournament is a golf tournament he...</td>\n",
       "      <td>general_qa</td>\n",
       "    </tr>\n",
       "  </tbody>\n",
       "</table>\n",
       "<p>15011 rows × 4 columns</p>\n",
       "</div>"
      ],
      "text/plain": [
       "                                             instruction  \\\n",
       "0             When did Virgin Australia start operating?   \n",
       "1               Which is a species of fish? Tope or Rope   \n",
       "2         Why can camels survive for long without water?   \n",
       "3      Alice's parents have three daughters: Amy, Jes...   \n",
       "4                        When was Tomoaki Komorida born?   \n",
       "...                                                  ...   \n",
       "15006                         How do i accept the change   \n",
       "15007                What is a laser and who created it?   \n",
       "15008  What is the difference between a road bike and...   \n",
       "15009  How does GIS help in the real estate investmen...   \n",
       "15010                               What is the Masters?   \n",
       "\n",
       "                                                 context  \\\n",
       "0      Virgin Australia, the trading name of Virgin A...   \n",
       "1                                                          \n",
       "2                                                          \n",
       "3                                                          \n",
       "4      Komorida was born in Kumamoto Prefecture on Ju...   \n",
       "...                                                  ...   \n",
       "15006                                                      \n",
       "15007  A laser is a device that emits light through a...   \n",
       "15008                                                      \n",
       "15009                                                      \n",
       "15010                                                      \n",
       "\n",
       "                                                response        category  \n",
       "0      Virgin Australia commenced services on 31 Augu...       closed_qa  \n",
       "1                                                   Tope  classification  \n",
       "2      Camels use the fat in their humps to keep them...         open_qa  \n",
       "3                The name of the third daughter is Alice         open_qa  \n",
       "4             Tomoaki Komorida was born on July 10,1981.       closed_qa  \n",
       "...                                                  ...             ...  \n",
       "15006          Embrace the change and see the difference   brainstorming  \n",
       "15007  A laser is a device that emits light from an e...   summarization  \n",
       "15008  Road bikes are built to be ridden on asphalt a...         open_qa  \n",
       "15009  Real estate investors depend on precise, accur...      general_qa  \n",
       "15010  The Masters Tournament is a golf tournament he...      general_qa  \n",
       "\n",
       "[15011 rows x 4 columns]"
      ]
     },
     "execution_count": 4,
     "metadata": {},
     "output_type": "execute_result"
    }
   ],
   "source": [
    "df = data.to_pandas()\n",
    "df"
   ]
  },
  {
   "attachments": {},
   "cell_type": "markdown",
   "metadata": {},
   "source": [
    "For our project, we would like to make sure that the `instruction` and the `response` are formulated clearly and concisely, and that they provide correct information. We will add those two fields to our records. To help our annotation team, we will also include the `context` field."
   ]
  },
  {
   "cell_type": "code",
   "execution_count": 17,
   "metadata": {},
   "outputs": [],
   "source": [
    "# format the data as Argilla records\n",
    "records = [rg.FeedbackRecord(fields={\"instruction\": record[\"instruction\"], \"response\": record[\"response\"], \"context\": record[\"context\"]}) for record in data]\n",
    "\n",
    "# list of fields that we will use later for our dataset settings\n",
    "fields = [\n",
    "    rg.TextField(name=\"instruction\"),\n",
    "    rg.TextField(name=\"context\", title=\"Context / Input\"),\n",
    "    rg.TextField(name=\"response\")\n",
    "]"
   ]
  },
  {
   "attachments": {},
   "cell_type": "markdown",
   "metadata": {},
   "source": [
    "Now we can think of the questions that we would like to ask about these records and we will provide some guidelines for the annotators."
   ]
  },
  {
   "cell_type": "code",
   "execution_count": 18,
   "metadata": {},
   "outputs": [],
   "source": [
    "# list of questions to display in the feedback form\n",
    "questions =[\n",
    "    rg.RatingQuestion(\n",
    "        name=\"changes-needed\", \n",
    "        title=\"Does the instruction or response in this record need corrections?\", \n",
    "        description=\"0 = no: choose if everything looks good and you won't provide any corrections\\n1 = yes: choose if you are providing corrections to the instruction or response\",\n",
    "        required=True,\n",
    "        values=[0,1]\n",
    "    ),\n",
    "    rg.TextQuestion(\n",
    "        name=\"new-instruction\",\n",
    "        title=\"Provide a new version of the instruction:\",\n",
    "        required=False\n",
    "    ),\n",
    "    rg.TextQuestion(\n",
    "        name=\"new-response\",\n",
    "        title=\"Provide a new verstion of the response:\",\n",
    "        required=False\n",
    "    )\n",
    "]\n",
    "\n",
    "guidelines = \"In this dataset, you will find a collection of records that show at least an instruction and a response to that instruction. The aim of the project is to correct the instructions and responses to make sure they are of the highest quality. Both texts should be clear and include real information. In addition, the response should be as complete but concise as possible. To help you with the responses, some records have another text field called Context. This field shows the text where the response was taken from.\\n\\nTo curate the dataset, you will need to answer the following questions:\\n\\n1 - Does the instruction or response in this record need corrections?\\nThis question has a binary selection. Choose 0 if everything looks good and you won't provide any corrections. You can submit the response straightaway. Choose 1 if you are going to provide a corrected version of either the instruction or the response.\\n\\n2 - Provide a new version of the instruction:\\nIf the instruction needs corrections, write a new version in this text area. If the instruction is ok, leave it empty.\\n\\n3 - Provide a new version of the response:\\nIf the response needs corrections, write a new version in this text area. If the response is ok, leave it empty.\\n\\nIf you are not sure about a record and you prefer not to provide a response, click Discard.\""
   ]
  },
  {
   "attachments": {},
   "cell_type": "markdown",
   "metadata": {},
   "source": [
    "\n",
    "## Split the workload and import to Argilla\n",
    "For this specific project, we don't want any overlap between our annotation team, as we only want one unique version of each record. We'll assume that the annotations of our team have the desired quality to work as demonstration data for our instruction-following model. \n",
    "\n",
    "<div class=\"alert alert-info\">\n",
    "\n",
    "Tip\n",
    "\n",
    "For extra quality assurance, you can make a new dataset where annotators rate the quality of the human annotated dataset.\n",
    "</div>\n",
    "\n",
    "To avoid having multiple responses for a record, we will split the workload between all of our annotators and import the records assigned to them in a dataset in their personal workspace. \n",
    "\n",
    "First, let's get the list of users using the Argilla Client."
   ]
  },
  {
   "cell_type": "code",
   "execution_count": null,
   "metadata": {},
   "outputs": [],
   "source": [
    "# make a request using your Argilla Client to get the list of users\n",
    "rg_client= rg.active_client().client\n",
    "auth_headers = {\"X-Argilla-API-Key\": rg_client.token}\n",
    "http=httpx.Client(base_url=rg_client.base_url, headers=auth_headers)\n",
    "users = http.get(\"/api/users\").json()\n",
    "\n",
    "# filter users to get only those with annotator role\n",
    "users = [user for user in users if user['role']=='annotator']"
   ]
  },
  {
   "attachments": {},
   "cell_type": "markdown",
   "metadata": {},
   "source": [
    "When we're happy with the list of users, we can move on to do the assignments:"
   ]
  },
  {
   "cell_type": "code",
   "execution_count": 20,
   "metadata": {},
   "outputs": [],
   "source": [
    "# shuffle the records to get a random assignment\n",
    "random.shuffle(records)\n",
    "\n",
    "# build a dictionary where the key is the username and the value is the list of records assigned to them\n",
    "assignments = defaultdict(list)\n",
    "\n",
    "# divide your records in chunks of the same length as the users list and make the assignments\n",
    "# you will need to follow the instructions to create and push a dataset for each of the key-value pairs in this dictionary\n",
    "n = len(users)\n",
    "chunked_records = [records[i:i + n] for i in range(0, len(records), n)]\n",
    "for chunk in chunked_records:\n",
    "    for idx, record in enumerate(chunk):\n",
    "        assignments[users[idx]['username']].append(record)\n",
    "\n",
    "# create a dataset for each annotator and push it to their personal workspace\n",
    "for username,records in assignments.items():\n",
    "    dataset = rg.FeedbackDataset(\n",
    "        guidelines=guidelines,\n",
    "        fields=fields,\n",
    "        questions=questions\n",
    "    )\n",
    "    dataset.add_records(records)\n",
    "    dataset.push_to_argilla(name='dolly_cleaning', workspace=username)"
   ]
  },
  {
   "attachments": {},
   "cell_type": "markdown",
   "metadata": {},
   "source": [
    "## Collect feedback and publish the results\n",
    "At this point, the datasets are ready to start the annotation. Once the annotations are done, we will collect all the feedback from our team and combine it in a single dataset. "
   ]
  },
  {
   "cell_type": "code",
   "execution_count": null,
   "metadata": {},
   "outputs": [],
   "source": [
    "feedback = []\n",
    "for username in assignments.keys():\n",
    "    feedback.extend(rg.FeedbackDataset.from_argilla('dolly_cleaning', workspace=username))"
   ]
  },
  {
   "attachments": {},
   "cell_type": "markdown",
   "metadata": {},
   "source": [
    "Let's explore the dataset a bit so we can draw some conclusions about it:"
   ]
  },
  {
   "cell_type": "code",
   "execution_count": 64,
   "metadata": {},
   "outputs": [],
   "source": [
    "responses = []\n",
    "\n",
    "for record in feedback:\n",
    "    if record['responses'] == []:\n",
    "        continue\n",
    "    \n",
    "    # we should only have 1 response per record, so we can safely use the first one only\n",
    "    response = record['responses'][0]\n",
    "    if response['values'].get('new-instruction', {}).get('value') != '' and response['values'].get('new-response', {}).get('value') != '':\n",
    "        new_fields = 'both'\n",
    "    elif response['values'].get('new-instruction', {}).get('value') != '':\n",
    "        new_fields = 'instruction'\n",
    "    elif response['values'].get('new-response', {}).get('value') != '':\n",
    "        new_fields = 'response'\n",
    "    else:\n",
    "        new_fields = 'None'\n",
    "    \n",
    "\n",
    "    responses.append({'status': response['status'], 'changes-needed': response['values'].get('changes-needed', {}).get('value'), 'new-fields': new_fields})\n",
    "\n",
    "responses_df = pd.DataFrame(responses)"
   ]
  },
  {
   "cell_type": "code",
   "execution_count": null,
   "metadata": {},
   "outputs": [],
   "source": [
    "import plotly.express as px\n",
    "fig = px.histogram(responses_df, x='status')\n",
    "fig.show()"
   ]
  },
  {
   "attachments": {},
   "cell_type": "markdown",
   "metadata": {},
   "source": [
    "![Plot showing the number of submitted and discarded responses](../../../_static/images/llms/curating-feedback-instructiondataset/plot_submitted_discarded.png)"
   ]
  },
  {
   "attachments": {},
   "cell_type": "markdown",
   "metadata": {},
   "source": [
    "We can see that the majority of the records have submitted responses. That means that we are not losing too much data during the annotation project.\n",
    "\n",
    "<div class=\"alert alert-info\">\n",
    "\n",
    "Tip\n",
    " \n",
    "If an important percentage of the records have a discarded response, you can take all the discarded records and serve them to a different annotator as long as you are using the `Discard` button as a way for your annotation team to skip records.\n",
    "</div>\n",
    "\n",
    "Now, let's check how many of our submitted responses proposed modifications to the original text:"
   ]
  },
  {
   "cell_type": "code",
   "execution_count": null,
   "metadata": {},
   "outputs": [],
   "source": [
    "fig = px.histogram(responses_df.loc[responses_df['status']=='submitted'], x='changes-needed', color='new-fields')\n",
    "fig.update_xaxes(dtick=1)\n",
    "fig.update_layout(bargap=0.2)\n",
    "fig.show()"
   ]
  },
  {
   "attachments": {},
   "cell_type": "markdown",
   "metadata": {},
   "source": [
    "![Plot showing the fields that were modified](../../../_static/images/llms/curating-feedback-instructiondataset/plot_modified_fields.png)"
   ]
  },
  {
   "attachments": {},
   "cell_type": "markdown",
   "metadata": {},
   "source": [
    "As we can see here, an important percentage of the submitted responses considered that the records needed a modification and proposed new versions for both fields. The graph also shows that our annotation team has understood the task correctly and didn't include changes to the fields when they declared that the record didn't need changes or vice versa."
   ]
  },
  {
   "attachments": {},
   "cell_type": "markdown",
   "metadata": {},
   "source": [
    "We could publish the dataset as it is now, but for this example we'll do a little post-processing to simplify the fields and substitute the old instruction and response with the new version provided by our annotators. That way, we have a dataset that's fully ready for fine-tuning."
   ]
  },
  {
   "cell_type": "code",
   "execution_count": 15,
   "metadata": {},
   "outputs": [],
   "source": [
    "new_records = []\n",
    "for record in feedback:\n",
    "    if record['responses'] == []:\n",
    "        continue\n",
    "    # we should only have 1 response per record, so we can safely use the first one only\n",
    "    response = record['responses'][0]\n",
    "    # we will skip records where our annotators didn't submit their feedback\n",
    "    if response['status'] != 'submitted':\n",
    "        continue\n",
    "\n",
    "    response_values = response['values']\n",
    "    # if the annotator answered 0 in the first question, we will keep the original fields\n",
    "    if response_values['changes-needed']['value'] == 0:\n",
    "        new_records.append(record['fields'])\n",
    "    # if not, we will substitute the instruction and response with the text submitted by the annotator\n",
    "    else:\n",
    "        new_instruction = response['values'].get('new-instruction', {}).get('value')\n",
    "        new_response = response['values'].get('new-response', {}).get('value')\n",
    "\n",
    "        if new_instruction not in ['', None]:\n",
    "            record['fields']['instruction'] = new_instruction\n",
    "        if new_response not in ['', None]:\n",
    "            record['fields']['response'] = new_response\n",
    "        new_records.append(record['fields'])"
   ]
  },
  {
   "attachments": {},
   "cell_type": "markdown",
   "metadata": {},
   "source": [
    "Let's check how it looks:"
   ]
  },
  {
   "cell_type": "code",
   "execution_count": 16,
   "metadata": {},
   "outputs": [
    {
     "data": {
      "text/html": [
       "<div>\n",
       "<style scoped>\n",
       "    .dataframe tbody tr th:only-of-type {\n",
       "        vertical-align: middle;\n",
       "    }\n",
       "\n",
       "    .dataframe tbody tr th {\n",
       "        vertical-align: top;\n",
       "    }\n",
       "\n",
       "    .dataframe thead th {\n",
       "        text-align: right;\n",
       "    }\n",
       "</style>\n",
       "<table border=\"1\" class=\"dataframe\">\n",
       "  <thead>\n",
       "    <tr style=\"text-align: right;\">\n",
       "      <th></th>\n",
       "      <th>instruction</th>\n",
       "      <th>context</th>\n",
       "      <th>response</th>\n",
       "    </tr>\n",
       "  </thead>\n",
       "  <tbody>\n",
       "    <tr>\n",
       "      <th>0</th>\n",
       "      <td>The New Deal was a series of programs, public ...</td>\n",
       "      <td>The New Deal was a series of programs, public ...</td>\n",
       "      <td>The \"3 R's\" historians refer to are the follow...</td>\n",
       "    </tr>\n",
       "    <tr>\n",
       "      <th>1</th>\n",
       "      <td>The music genre is the categorisation of music...</td>\n",
       "      <td></td>\n",
       "      <td>The music genre is the categorisation of music...</td>\n",
       "    </tr>\n",
       "    <tr>\n",
       "      <th>2</th>\n",
       "      <td>There are many reasons in history for Irish pu...</td>\n",
       "      <td></td>\n",
       "      <td>There are many reasons in history for Irish pu...</td>\n",
       "    </tr>\n",
       "    <tr>\n",
       "      <th>3</th>\n",
       "      <td>Who was the winner of the International Booker...</td>\n",
       "      <td></td>\n",
       "      <td>Marieke Lucas Rijneveld, a Dutch author, won t...</td>\n",
       "    </tr>\n",
       "    <tr>\n",
       "      <th>4</th>\n",
       "      <td>What is the national day of Germany?</td>\n",
       "      <td></td>\n",
       "      <td>The National Day of Germany is called German U...</td>\n",
       "    </tr>\n",
       "    <tr>\n",
       "      <th>5</th>\n",
       "      <td>What is an idea?</td>\n",
       "      <td></td>\n",
       "      <td>In common usage and in philosophy, ideas are t...</td>\n",
       "    </tr>\n",
       "    <tr>\n",
       "      <th>6</th>\n",
       "      <td>Classify each of the following as root or shoo...</td>\n",
       "      <td></td>\n",
       "      <td>Tomato, brinjal, lady finger, cucumber are sho...</td>\n",
       "    </tr>\n",
       "    <tr>\n",
       "      <th>7</th>\n",
       "      <td>Given a reference text about multiple myeloma,...</td>\n",
       "      <td>Multiple myeloma (MM), also known as plasma ce...</td>\n",
       "      <td>Although the cause of multiple myeloma is not ...</td>\n",
       "    </tr>\n",
       "    <tr>\n",
       "      <th>8</th>\n",
       "      <td>What game was the animated series Tank Knights...</td>\n",
       "      <td>Fortress is a shooter video game developed by ...</td>\n",
       "      <td>Tank Knights Fortress was based on the video g...</td>\n",
       "    </tr>\n",
       "    <tr>\n",
       "      <th>9</th>\n",
       "      <td>What is cuban cuisine?</td>\n",
       "      <td></td>\n",
       "      <td>Cuban cuisine refers to the food eaten in the ...</td>\n",
       "    </tr>\n",
       "    <tr>\n",
       "      <th>10</th>\n",
       "      <td>Given this paragraph about Michel Warschawski,...</td>\n",
       "      <td>Michel Warschawski (Mikado) (born 25 July 1949...</td>\n",
       "      <td>Michel Warschawski, an anti-Zionist activist, ...</td>\n",
       "    </tr>\n",
       "    <tr>\n",
       "      <th>11</th>\n",
       "      <td>Who are the avengers?</td>\n",
       "      <td></td>\n",
       "      <td>The Avengers is the team of super heroes from ...</td>\n",
       "    </tr>\n",
       "  </tbody>\n",
       "</table>\n",
       "</div>"
      ],
      "text/plain": [
       "                                          instruction  \\\n",
       "0   The New Deal was a series of programs, public ...   \n",
       "1   The music genre is the categorisation of music...   \n",
       "2   There are many reasons in history for Irish pu...   \n",
       "3   Who was the winner of the International Booker...   \n",
       "4                What is the national day of Germany?   \n",
       "5                                    What is an idea?   \n",
       "6   Classify each of the following as root or shoo...   \n",
       "7   Given a reference text about multiple myeloma,...   \n",
       "8   What game was the animated series Tank Knights...   \n",
       "9                              What is cuban cuisine?   \n",
       "10  Given this paragraph about Michel Warschawski,...   \n",
       "11                              Who are the avengers?   \n",
       "\n",
       "                                              context  \\\n",
       "0   The New Deal was a series of programs, public ...   \n",
       "1                                                       \n",
       "2                                                       \n",
       "3                                                       \n",
       "4                                                       \n",
       "5                                                       \n",
       "6                                                       \n",
       "7   Multiple myeloma (MM), also known as plasma ce...   \n",
       "8   Fortress is a shooter video game developed by ...   \n",
       "9                                                       \n",
       "10  Michel Warschawski (Mikado) (born 25 July 1949...   \n",
       "11                                                      \n",
       "\n",
       "                                             response  \n",
       "0   The \"3 R's\" historians refer to are the follow...  \n",
       "1   The music genre is the categorisation of music...  \n",
       "2   There are many reasons in history for Irish pu...  \n",
       "3   Marieke Lucas Rijneveld, a Dutch author, won t...  \n",
       "4   The National Day of Germany is called German U...  \n",
       "5   In common usage and in philosophy, ideas are t...  \n",
       "6   Tomato, brinjal, lady finger, cucumber are sho...  \n",
       "7   Although the cause of multiple myeloma is not ...  \n",
       "8   Tank Knights Fortress was based on the video g...  \n",
       "9   Cuban cuisine refers to the food eaten in the ...  \n",
       "10  Michel Warschawski, an anti-Zionist activist, ...  \n",
       "11  The Avengers is the team of super heroes from ...  "
      ]
     },
     "execution_count": 16,
     "metadata": {},
     "output_type": "execute_result"
    }
   ],
   "source": [
    "new_df = pd.DataFrame(new_records)\n",
    "new_df"
   ]
  },
  {
   "attachments": {},
   "cell_type": "markdown",
   "metadata": {},
   "source": [
    "Now we're happy with the result, we can publish it in the Hugging Face Hub, so the whole open-source community can benefit from it."
   ]
  },
  {
   "cell_type": "code",
   "execution_count": null,
   "metadata": {},
   "outputs": [],
   "source": [
    "#push to hub\n",
    "new_dataset = Dataset(new_records)\n",
    "new_dataset.push_to_hub(\".../curated_databricks-dolly-15k\")"
   ]
  },
  {
   "attachments": {},
   "cell_type": "markdown",
   "metadata": {},
   "source": [
    "This dataset is ready to be used as a demonstration dataset to fine-tune instruction-following models."
   ]
  },
  {
   "attachments": {},
   "cell_type": "markdown",
   "metadata": {},
   "source": [
    "## Summary\n",
    "\n",
    "In this tutorial, we learned how to create an instruction dataset by curating a public dataset with a permissive license, in this case the Dolly dataset made by Databricks employees. This can help us to fine-tune an instruction-following model using high-quality data that will help us get better results with a more efficient training."
   ]
  }
 ],
 "metadata": {
  "kernelspec": {
   "display_name": "argilla",
   "language": "python",
   "name": "python3"
  },
  "language_info": {
   "codemirror_mode": {
    "name": "ipython",
    "version": 3
   },
   "file_extension": ".py",
   "mimetype": "text/x-python",
   "name": "python",
   "nbconvert_exporter": "python",
   "pygments_lexer": "ipython3",
   "version": "3.9.0"
  },
  "vscode": {
   "interpreter": {
    "hash": "2d98cb9bf90a932b5bf8e86e91214497eb0e38eb318595fbd6fbd5460fe92036"
   }
  }
 },
 "nbformat": 4,
 "nbformat_minor": 4
}
