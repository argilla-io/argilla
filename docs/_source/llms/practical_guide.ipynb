{
 "cells": [
  {
   "attachments": {},
   "cell_type": "markdown",
   "metadata": {},
   "source": [
    "LLMs Practical Guide - How to setup an LLM fine-tuning project\n",
    "- Define the task:\n",
    "    - what is the aim of the project?\n",
    "    In the Feedback Task Datasets it is possible to combine multiple questions of different kinds, so the first step will be to define the aim of the project and the kind of data we will need to collect to get there.\n",
    "    - what kind of data do I need to get there?\n",
    "        - Fields that the annotator will need to see.\n",
    "        - Rating: numerical score\n",
    "        - Text: human suggestions, corrections, explanations…\n",
    "        - More to come: text classification,\n",
    "    - who should be annotating the dataset?\n",
    "    - Write guidelines\n",
    "    - Dataset config from Python client (including guidelines, question descriptions, etc.)\n",
    "- Add records:\n",
    "    - Get a dataset from HF hub\n",
    "    - Data from json/csv/pandas…\n",
    "    - Add records using Python client\n",
    "- Annotating the records / Giving feedback / Giving responses\n",
    "    - reading guidelines and question descriptions\n",
    "    - explain that each annotator will see and give responses the full dataset.\n",
    "    - giving responses, submitting & discarding\n",
    "    - reviewing submitted & discarded records\n",
    "    - shortcuts\n",
    "- Collect responses\n",
    "    - Using the Python client to collect the responses to the dataset\n",
    "    - Unifying responses (?)\n",
    "    - Export / publish the dataset\n",
    "- Training?\n"
   ]
  },
  {
   "cell_type": "code",
   "execution_count": null,
   "metadata": {},
   "outputs": [],
   "source": []
  }
 ],
 "metadata": {
  "language_info": {
   "name": "python"
  },
  "orig_nbformat": 4
 },
 "nbformat": 4,
 "nbformat_minor": 2
}
