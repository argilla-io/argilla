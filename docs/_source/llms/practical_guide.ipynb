{
 "cells": [
  {
   "attachments": {},
   "cell_type": "markdown",
   "metadata": {},
   "source": [
    "# Practical Guide"
   ]
  },
  {
   "attachments": {},
   "cell_type": "markdown",
   "metadata": {},
   "source": [
    "This guide will help you with all the practical aspects of setting up an annotation project for training and fine-tuning LLMs using Argilla's Feedback Task Datasets. It covers everything from defining your task to collecting, organizing, and using the feedback effectively.\n",
    "\n",
    "[Add a snapshot of the task]"
   ]
  },
  {
   "cell_type": "code",
   "execution_count": 1,
   "metadata": {},
   "outputs": [],
   "source": [
    "import argilla as rg\n",
    "import os\n",
    "\n",
    "rg.init(\n",
    "    api_url=os.environ.get(\"ARGILLA_API_URL_DEV\"),\n",
    "    api_key=os.environ.get(\"ARGILLA_API_KEY\")\n",
    ")"
   ]
  },
  {
   "attachments": {},
   "cell_type": "markdown",
   "metadata": {},
   "source": [
    "## Define the task\n",
    "The Feedback Task Datasets allow to combine multiple questions of different kinds, so the first step will be to define the aim of your project and the kind of data and feedback you will need to get there."
   ]
  },
  {
   "attachments": {},
   "cell_type": "markdown",
   "metadata": {},
   "source": [
    "### Format records\n",
    "A record in Argilla refers to a data item that requires annotation and can consist of one or multiple fields. For example, your records can include a pair of a prompt and an output. Currently, we only support plain text fields, but we plan to introduce support for markdown and images in the future.\n",
    "\n",
    "Take some time to explore and find data that fits the purpose of your project. If you are planning to use public data, the [Datasets page](https://huggingface.co/datasets) of the Hugging Face Hub is a good place to start.\n",
    "\n",
    "´´´{hint}\n",
    "Always check the licenses of the datasets to make sure you can legally use the dataset for your specfic use case.\n",
    "´´´\n",
    "\n",
    "Once you have a dataset, load it and inspect it to find the fields that you want to use in your Feedback dataset. A quick overview of the data will also help you formulate the right questions later."
   ]
  },
  {
   "cell_type": "code",
   "execution_count": 2,
   "metadata": {},
   "outputs": [
    {
     "name": "stderr",
     "output_type": "stream",
     "text": [
      "/Users/natalia/opt/anaconda3/envs/argilla/lib/python3.9/site-packages/tqdm/auto.py:21: TqdmWarning: IProgress not found. Please update jupyter and ipywidgets. See https://ipywidgets.readthedocs.io/en/stable/user_install.html\n",
      "  from .autonotebook import tqdm as notebook_tqdm\n"
     ]
    },
    {
     "data": {
      "text/html": [
       "<pre style=\"white-space:pre;overflow-x:auto;line-height:normal;font-family:Menlo,'DejaVu Sans Mono',consolas,'Courier New',monospace\"><span style=\"color: #7fbfbf; text-decoration-color: #7fbfbf\">[05/18/23 11:10:51] </span><span style=\"color: #800000; text-decoration-color: #800000\">WARNING </span> WARNING:datasets.builder:Found cached dataset json                      <a href=\"file:///Users/natalia/opt/anaconda3/envs/argilla/lib/python3.9/site-packages/datasets/builder.py\" target=\"_blank\"><span style=\"color: #7f7f7f; text-decoration-color: #7f7f7f\">builder.py</span></a><span style=\"color: #7f7f7f; text-decoration-color: #7f7f7f\">:</span><a href=\"file:///Users/natalia/opt/anaconda3/envs/argilla/lib/python3.9/site-packages/datasets/builder.py#816\" target=\"_blank\"><span style=\"color: #7f7f7f; text-decoration-color: #7f7f7f\">816</span></a>\n",
       "<span style=\"color: #7fbfbf; text-decoration-color: #7fbfbf\">                    </span>         <span style=\"font-weight: bold\">(</span><span style=\"color: #800080; text-decoration-color: #800080\">/Users/natalia/.cache/huggingface/datasets/databricks___json/databrick</span> <span style=\"color: #7f7f7f; text-decoration-color: #7f7f7f\">              </span>\n",
       "<span style=\"color: #7fbfbf; text-decoration-color: #7fbfbf\">                    </span>         <span style=\"color: #800080; text-decoration-color: #800080\">s--databricks-dolly-15k-6e0f9ea7eaa0ee08/0.0.0/</span><span style=\"color: #ff00ff; text-decoration-color: #ff00ff\">e347ab1c932092252e717ff3</span> <span style=\"color: #7f7f7f; text-decoration-color: #7f7f7f\">              </span>\n",
       "<span style=\"color: #7fbfbf; text-decoration-color: #7fbfbf\">                    </span>         <span style=\"color: #ff00ff; text-decoration-color: #ff00ff\">f949105a4dd28b27e842dd53157d2f72e276c2e4</span><span style=\"font-weight: bold\">)</span>                               <span style=\"color: #7f7f7f; text-decoration-color: #7f7f7f\">              </span>\n",
       "</pre>\n"
      ],
      "text/plain": [
       "\u001b[2;36m[05/18/23 11:10:51]\u001b[0m\u001b[2;36m \u001b[0m\u001b[31mWARNING \u001b[0m WARNING:datasets.builder:Found cached dataset json                      \u001b]8;id=417076;file:///Users/natalia/opt/anaconda3/envs/argilla/lib/python3.9/site-packages/datasets/builder.py\u001b\\\u001b[2mbuilder.py\u001b[0m\u001b]8;;\u001b\\\u001b[2m:\u001b[0m\u001b]8;id=916231;file:///Users/natalia/opt/anaconda3/envs/argilla/lib/python3.9/site-packages/datasets/builder.py#816\u001b\\\u001b[2m816\u001b[0m\u001b]8;;\u001b\\\n",
       "\u001b[2;36m                    \u001b[0m         \u001b[1m(\u001b[0m\u001b[35m/Users/natalia/.cache/huggingface/datasets/databricks___json/databrick\u001b[0m \u001b[2m              \u001b[0m\n",
       "\u001b[2;36m                    \u001b[0m         \u001b[35ms--databricks-dolly-15k-6e0f9ea7eaa0ee08/0.0.0/\u001b[0m\u001b[95me347ab1c932092252e717ff3\u001b[0m \u001b[2m              \u001b[0m\n",
       "\u001b[2;36m                    \u001b[0m         \u001b[95mf949105a4dd28b27e842dd53157d2f72e276c2e4\u001b[0m\u001b[1m)\u001b[0m                               \u001b[2m              \u001b[0m\n"
      ]
     },
     "metadata": {},
     "output_type": "display_data"
    },
    {
     "data": {
      "text/plain": [
       "Dataset({\n",
       "    features: ['instruction', 'context', 'response', 'category'],\n",
       "    num_rows: 15011\n",
       "})"
      ]
     },
     "execution_count": 2,
     "metadata": {},
     "output_type": "execute_result"
    }
   ],
   "source": [
    "from datasets import load_dataset\n",
    "\n",
    "dataset = load_dataset('databricks/databricks-dolly-15k', split='train')\n",
    "dataset"
   ]
  },
  {
   "cell_type": "code",
   "execution_count": null,
   "metadata": {},
   "outputs": [],
   "source": [
    "import pandas as pd\n",
    "\n",
    "# turn it into a pandas dataframe to get a quick overview of a few examples\n",
    "df = pd.DataFrame(dataset)\n",
    "df"
   ]
  },
  {
   "attachments": {},
   "cell_type": "markdown",
   "metadata": {},
   "source": [
    "The next step is to create records following Argilla's Feedback Record format [link to Python reference].\n",
    "\n",
    "The name of the fields will need to match the fields set up in the dataset configuration (see [below](#create-your-dataset))."
   ]
  },
  {
   "cell_type": "code",
   "execution_count": 3,
   "metadata": {},
   "outputs": [],
   "source": [
    "# list of records\n",
    "records = []\n",
    "for r in dataset:\n",
    "    if r[\"category\"] == \"open_qa\":\n",
    "        records.append(\n",
    "            rg.FeedbackRecord(\n",
    "                fields = {\n",
    "                    \"question\": r[\"instruction\"],\n",
    "                    \"answer\": r[\"response\"]\n",
    "                }\n",
    "            )\n",
    "        )\n"
   ]
  },
  {
   "attachments": {},
   "cell_type": "markdown",
   "metadata": {},
   "source": [
    "### Define questions\n",
    "To collect feedback for your dataset, you need to formulate questions. The Feedback Task currently supports the following types of questions:\n",
    "\n",
    "- Rating: These questions require annotators to select one option from a list of integer values. This type is useful for collecting numerical scores.\n",
    "- Text: These questions offer annotators a free-text area where they can enter any text. This type is useful for collecting natural language data, such as corrections or explanations.\n",
    "\n",
    "```{note}\n",
    "We have plans to expand the range of supported question types in future releases of the Feedback Task.\n",
    "```\n",
    "\n",
    "You can define your questions using the Python SDK and set up the following configurations:\n",
    "- `name`: A shortname for the question.\n",
    "- `title`: The text displayed in the UI.\n",
    "- `description`: The text to be displayed in the question tooltip in the UI. You can use it to give more context or information to annotators.\n",
    "- `required`: Set your question as required or optional. Annotators must answer all required questions to submit a response, but they have the choice to answer optional questions or not.\n",
    "- `values`: In a RatingQuestion, these are the rating options represented as a list of integer values.\n",
    "\n",
    "```{note}\n",
    "The order of the questions in the UI follows the order in which these are added to the dataset in the Python SDK.\n",
    "```"
   ]
  },
  {
   "cell_type": "code",
   "execution_count": 4,
   "metadata": {},
   "outputs": [],
   "source": [
    "# list of questions to display in the feedback form\n",
    "questions =[\n",
    "    rg.RatingQuestion(\n",
    "        name=\"rating\", \n",
    "        title=\"Rate the quality of the response:\", \n",
    "        description=\"1 = very bad - 5= very good\",\n",
    "        required=True,\n",
    "        values=[1,2,3,4,5]\n",
    "    ),\n",
    "    rg.TextQuestion(\n",
    "        name=\"corrected-text\",\n",
    "        title=\"Provide a correction to the response:\",\n",
    "        description=\"\",\n",
    "        required=False\n",
    "    )\n",
    "]"
   ]
  },
  {
   "attachments": {},
   "cell_type": "markdown",
   "metadata": {},
   "source": [
    "\n",
    "### Write guidelines\n",
    "Once you have decided on the data to show and the questions to ask, it's important to provide clear guidelines to the annotators. These guidelines help them understand the task and answer the questions consistently. You can provide guidelines in two ways:\n",
    "- In the dataset guidelines: this is added as an argument when you create your dataset in the Python SDK (see below). It will appear in the dataset settings in the UI.\n",
    "- As question descriptions: these are added as an argument when you create questions in the Python SDK (see above). This text will appear in a tooltip next to the question in the UI.\n",
    "\n",
    "It is good practice to use at least the dataset guidelines, if not both methods. In the guidelines, you can include a description of the project, details on how to answer each question with examples, instructions on when to discard a record, etc. Question descriptions should be short and provide context to a specific question. They can be a summary of the guidelines to that question, but often times that is not sufficient to align the whole annotation team."
   ]
  },
  {
   "attachments": {},
   "cell_type": "markdown",
   "metadata": {},
   "source": [
    "## Set up your annotation team\n",
    "Depending on the nature of your project and the size of your annotation team, you may want to have control over annotation overlap i.e., having multiple annotations for a single record. You will need to decide on this before pushing your dataset to Argilla, as this has implications on how your dataset is set up. Let's explore a few overlapping options.\n",
    "\n",
    "### Full overlap\n",
    "The Feedback Task supports having multiple annotations for your records. This means that all users with access to the dataset can give responses to all the records in the dataset. To have this full overlap just push the dataset (as detailed in [Create your dataset](#create-your-dataset)) in a workspace where all team members have access. Learn more about managing user access to workspaces [here](../getting_started/installation/configurations/user_management.md#creating-an-annotator-user-assigned-to-a-workspace).\n",
    "\n",
    "### Zero overlap\n",
    "If you only want one annotation per record, we recommend that you split your records into chunks and assign these to a single annotator. Then, you can create several datasets, one in each annotator's personal workspace, and add the records assigned to each of them."
   ]
  },
  {
   "cell_type": "code",
   "execution_count": null,
   "metadata": {},
   "outputs": [],
   "source": [
    "\n",
    "import httpx\n",
    "import random\n",
    "from collections import defaultdict\n",
    "\n",
    "# make a request using your Argilla Client\n",
    "rg_client= rg.active_client().client\n",
    "auth_headers = {\"X-Argilla-API-Key\": rg_client.token}\n",
    "http=httpx.Client(base_url=rg_client.base_url, headers=auth_headers)\n",
    "users = http.get(\"/api/users\").json()\n",
    "\n",
    "# optional: filter users to get only those with annotator role\n",
    "users = [u for u in users if u['role']=='annotator']\n",
    "\n",
    "# optional: shuffle the records to get a random assignment\n",
    "random.shuffle(records)\n",
    "\n",
    "# build a dictionary where the key is the username and the value is the list of records assigned to them\n",
    "assignments = defaultdict(list)\n",
    "\n",
    "# divide your records in chunks of the same length as the users list and make the assignments\n",
    "# you will need to follow the instructions to create and push a dataset for each of the key-value pairs in this dictionary\n",
    "n = len(users)\n",
    "chunked_records = [records[i:i + n] for i in range(0, len(records), n)]\n",
    "for chunk in chunked_records:\n",
    "    for idx, record in enumerate(chunk):\n",
    "        assignments[users[idx]['username']].append(record)"
   ]
  },
  {
   "attachments": {},
   "cell_type": "markdown",
   "metadata": {},
   "source": [
    "### Controlled overlap\n",
    "This option is optimal when you want to have annotation overlap, but up to a certain number and not with the whole team. This can be because you want your team to be more efficient or perhaps to calculate the agreement between pairs of annotators. In this case, you also need to create several datasets and push them to the annotators' personal workspaces with the difference that each record will appear in multiple datasets. "
   ]
  },
  {
   "cell_type": "code",
   "execution_count": null,
   "metadata": {},
   "outputs": [],
   "source": [
    "# code to assign with overlap"
   ]
  },
  {
   "attachments": {},
   "cell_type": "markdown",
   "metadata": {},
   "source": [
    "## Create your dataset\n",
    "Now we are ready to create our dataset. To do that, first you'll need to define the following configurations:\n",
    "- `name`: The name of the dataset.\n",
    "- `workspace`: The workspace where the dataset will be created.\n",
    "- `guidelines`: A set of guidelines for the annotators. These will appear in the dataset settings in the UI. If you want this to be empty, leave it as an empty string.\n",
    "- `fields`: The list of fields to show in the record card. The order in which the fields will appear matches the order of this list.\n",
    "- `questions`: The list of questions to show in the form."
   ]
  },
  {
   "cell_type": "code",
   "execution_count": 5,
   "metadata": {},
   "outputs": [
    {
     "data": {
      "text/html": [
       "<pre style=\"white-space:pre;overflow-x:auto;line-height:normal;font-family:Menlo,'DejaVu Sans Mono',consolas,'Courier New',monospace\"><span style=\"color: #800000; text-decoration-color: #800000\">╭─────────────────────────────── </span><span style=\"color: #800000; text-decoration-color: #800000; font-weight: bold\">Traceback </span><span style=\"color: #bf7f7f; text-decoration-color: #bf7f7f; font-weight: bold\">(most recent call last)</span><span style=\"color: #800000; text-decoration-color: #800000\"> ────────────────────────────────╮</span>\n",
       "<span style=\"color: #800000; text-decoration-color: #800000\">│</span> <span style=\"color: #bfbf7f; text-decoration-color: #bfbf7f\">/Users/natalia/opt/anaconda3/envs/argilla/lib/python3.9/site-packages/argilla/client/</span><span style=\"color: #808000; text-decoration-color: #808000; font-weight: bold\">feedback.py</span> <span style=\"color: #800000; text-decoration-color: #800000\">│</span>\n",
       "<span style=\"color: #800000; text-decoration-color: #800000\">│</span> :<span style=\"color: #0000ff; text-decoration-color: #0000ff\">547</span> in <span style=\"color: #00ff00; text-decoration-color: #00ff00\">push_to_argilla</span>                                                                          <span style=\"color: #800000; text-decoration-color: #800000\">│</span>\n",
       "<span style=\"color: #800000; text-decoration-color: #800000\">│</span>                                                                                                  <span style=\"color: #800000; text-decoration-color: #800000\">│</span>\n",
       "<span style=\"color: #800000; text-decoration-color: #800000\">│</span>   <span style=\"color: #7f7f7f; text-decoration-color: #7f7f7f\">544 │   │   │   </span>                                                                               <span style=\"color: #800000; text-decoration-color: #800000\">│</span>\n",
       "<span style=\"color: #800000; text-decoration-color: #800000\">│</span>   <span style=\"color: #7f7f7f; text-decoration-color: #7f7f7f\">545 │   │   │   </span><span style=\"color: #0000ff; text-decoration-color: #0000ff\">for</span> question <span style=\"color: #ff00ff; text-decoration-color: #ff00ff\">in</span> <span style=\"color: #00ffff; text-decoration-color: #00ffff\">self</span>.questions:                                                <span style=\"color: #800000; text-decoration-color: #800000\">│</span>\n",
       "<span style=\"color: #800000; text-decoration-color: #800000\">│</span>   <span style=\"color: #7f7f7f; text-decoration-color: #7f7f7f\">546 │   │   │   │   </span><span style=\"color: #0000ff; text-decoration-color: #0000ff\">try</span>:                                                                       <span style=\"color: #800000; text-decoration-color: #800000\">│</span>\n",
       "<span style=\"color: #800000; text-decoration-color: #800000\">│</span> <span style=\"color: #800000; text-decoration-color: #800000\">❱ </span>547 <span style=\"color: #7f7f7f; text-decoration-color: #7f7f7f\">│   │   │   │   │   </span>client.add_question(<span style=\"color: #00ffff; text-decoration-color: #00ffff\">id</span>=argilla_id, question=question.dict())           <span style=\"color: #800000; text-decoration-color: #800000\">│</span>\n",
       "<span style=\"color: #800000; text-decoration-color: #800000\">│</span>   <span style=\"color: #7f7f7f; text-decoration-color: #7f7f7f\">548 │   │   │   │   </span><span style=\"color: #0000ff; text-decoration-color: #0000ff\">except</span> <span style=\"color: #00ffff; text-decoration-color: #00ffff\">Exception</span> <span style=\"color: #0000ff; text-decoration-color: #0000ff\">as</span> e:                                                     <span style=\"color: #800000; text-decoration-color: #800000\">│</span>\n",
       "<span style=\"color: #800000; text-decoration-color: #800000\">│</span>   <span style=\"color: #7f7f7f; text-decoration-color: #7f7f7f\">549 │   │   │   │   │   </span>delete_and_raise_exception(                                            <span style=\"color: #800000; text-decoration-color: #800000\">│</span>\n",
       "<span style=\"color: #800000; text-decoration-color: #800000\">│</span>   <span style=\"color: #7f7f7f; text-decoration-color: #7f7f7f\">550 │   │   │   │   │   │   </span>dataset_id=argilla_id,                                             <span style=\"color: #800000; text-decoration-color: #800000\">│</span>\n",
       "<span style=\"color: #800000; text-decoration-color: #800000\">│</span>                                                                                                  <span style=\"color: #800000; text-decoration-color: #800000\">│</span>\n",
       "<span style=\"color: #800000; text-decoration-color: #800000\">│</span> <span style=\"color: #bfbf7f; text-decoration-color: #bfbf7f\">/Users/natalia/opt/anaconda3/envs/argilla/lib/python3.9/site-packages/argilla/client/</span><span style=\"color: #808000; text-decoration-color: #808000; font-weight: bold\">client.py</span>:<span style=\"color: #0000ff; text-decoration-color: #0000ff\">2</span> <span style=\"color: #800000; text-decoration-color: #800000\">│</span>\n",
       "<span style=\"color: #800000; text-decoration-color: #800000\">│</span> <span style=\"color: #0000ff; text-decoration-color: #0000ff\">62</span> in <span style=\"color: #00ff00; text-decoration-color: #00ff00\">add_question</span>                                                                               <span style=\"color: #800000; text-decoration-color: #800000\">│</span>\n",
       "<span style=\"color: #800000; text-decoration-color: #800000\">│</span>                                                                                                  <span style=\"color: #800000; text-decoration-color: #800000\">│</span>\n",
       "<span style=\"color: #800000; text-decoration-color: #800000\">│</span>   <span style=\"color: #7f7f7f; text-decoration-color: #7f7f7f\">259 │   │   </span><span style=\"color: #0000ff; text-decoration-color: #0000ff\">return</span> datasets_api_v1.get_questions(client=<span style=\"color: #00ffff; text-decoration-color: #00ffff\">self</span>._client, <span style=\"color: #00ffff; text-decoration-color: #00ffff\">id</span>=<span style=\"color: #00ffff; text-decoration-color: #00ffff\">id</span>).parsed            <span style=\"color: #800000; text-decoration-color: #800000\">│</span>\n",
       "<span style=\"color: #800000; text-decoration-color: #800000\">│</span>   <span style=\"color: #7f7f7f; text-decoration-color: #7f7f7f\">260 │   </span>                                                                                       <span style=\"color: #800000; text-decoration-color: #800000\">│</span>\n",
       "<span style=\"color: #800000; text-decoration-color: #800000\">│</span>   <span style=\"color: #7f7f7f; text-decoration-color: #7f7f7f\">261 │   </span><span style=\"color: #0000ff; text-decoration-color: #0000ff\">def</span> <span style=\"color: #00ff00; text-decoration-color: #00ff00\">add_question</span>(<span style=\"color: #00ffff; text-decoration-color: #00ffff\">self</span>, <span style=\"color: #00ffff; text-decoration-color: #00ffff\">id</span>: <span style=\"color: #00ffff; text-decoration-color: #00ffff\">str</span>, question: Dict[<span style=\"color: #00ffff; text-decoration-color: #00ffff\">str</span>, Any]) -&gt; httpx.Response:           <span style=\"color: #800000; text-decoration-color: #800000\">│</span>\n",
       "<span style=\"color: #800000; text-decoration-color: #800000\">│</span> <span style=\"color: #800000; text-decoration-color: #800000\">❱ </span>262 <span style=\"color: #7f7f7f; text-decoration-color: #7f7f7f\">│   │   </span><span style=\"color: #0000ff; text-decoration-color: #0000ff\">return</span> datasets_api_v1.add_question(client=<span style=\"color: #00ffff; text-decoration-color: #00ffff\">self</span>._client, <span style=\"color: #00ffff; text-decoration-color: #00ffff\">id</span>=<span style=\"color: #00ffff; text-decoration-color: #00ffff\">id</span>, question=questio   <span style=\"color: #800000; text-decoration-color: #800000\">│</span>\n",
       "<span style=\"color: #800000; text-decoration-color: #800000\">│</span>   <span style=\"color: #7f7f7f; text-decoration-color: #7f7f7f\">263 │   </span>                                                                                       <span style=\"color: #800000; text-decoration-color: #800000\">│</span>\n",
       "<span style=\"color: #800000; text-decoration-color: #800000\">│</span>   <span style=\"color: #7f7f7f; text-decoration-color: #7f7f7f\">264 │   </span><span style=\"color: #0000ff; text-decoration-color: #0000ff\">def</span> <span style=\"color: #00ff00; text-decoration-color: #00ff00\">copy</span>(<span style=\"color: #00ffff; text-decoration-color: #00ffff\">self</span>, dataset: <span style=\"color: #00ffff; text-decoration-color: #00ffff\">str</span>, name_of_copy: <span style=\"color: #00ffff; text-decoration-color: #00ffff\">str</span>, workspace: <span style=\"color: #00ffff; text-decoration-color: #00ffff\">str</span> = <span style=\"color: #0000ff; text-decoration-color: #0000ff\">None</span>):                <span style=\"color: #800000; text-decoration-color: #800000\">│</span>\n",
       "<span style=\"color: #800000; text-decoration-color: #800000\">│</span>   <span style=\"color: #7f7f7f; text-decoration-color: #7f7f7f\">265 </span><span style=\"color: #bfbfbf; text-decoration-color: #bfbfbf\">│   │   </span><span style=\"color: #808000; text-decoration-color: #808000\">\"\"\"Creates a copy of a dataset including its tags and metadata</span>                     <span style=\"color: #800000; text-decoration-color: #800000\">│</span>\n",
       "<span style=\"color: #800000; text-decoration-color: #800000\">│</span>                                                                                                  <span style=\"color: #800000; text-decoration-color: #800000\">│</span>\n",
       "<span style=\"color: #800000; text-decoration-color: #800000\">│</span> <span style=\"color: #bfbf7f; text-decoration-color: #bfbf7f\">/Users/natalia/opt/anaconda3/envs/argilla/lib/python3.9/site-packages/argilla/client/sdk/v1/data</span> <span style=\"color: #800000; text-decoration-color: #800000\">│</span>\n",
       "<span style=\"color: #800000; text-decoration-color: #800000\">│</span> <span style=\"color: #bfbf7f; text-decoration-color: #bfbf7f\">sets/</span><span style=\"color: #808000; text-decoration-color: #808000; font-weight: bold\">api.py</span>:<span style=\"color: #0000ff; text-decoration-color: #0000ff\">303</span> in <span style=\"color: #00ff00; text-decoration-color: #00ff00\">add_question</span>                                                                  <span style=\"color: #800000; text-decoration-color: #800000\">│</span>\n",
       "<span style=\"color: #800000; text-decoration-color: #800000\">│</span>                                                                                                  <span style=\"color: #800000; text-decoration-color: #800000\">│</span>\n",
       "<span style=\"color: #800000; text-decoration-color: #800000\">│</span>   <span style=\"color: #7f7f7f; text-decoration-color: #7f7f7f\">300 │   │   │   </span>content=response.content,                                                      <span style=\"color: #800000; text-decoration-color: #800000\">│</span>\n",
       "<span style=\"color: #800000; text-decoration-color: #800000\">│</span>   <span style=\"color: #7f7f7f; text-decoration-color: #7f7f7f\">301 │   │   │   </span>headers=response.headers,                                                      <span style=\"color: #800000; text-decoration-color: #800000\">│</span>\n",
       "<span style=\"color: #800000; text-decoration-color: #800000\">│</span>   <span style=\"color: #7f7f7f; text-decoration-color: #7f7f7f\">302 │   │   </span>)                                                                                  <span style=\"color: #800000; text-decoration-color: #800000\">│</span>\n",
       "<span style=\"color: #800000; text-decoration-color: #800000\">│</span> <span style=\"color: #800000; text-decoration-color: #800000\">❱ </span>303 <span style=\"color: #7f7f7f; text-decoration-color: #7f7f7f\">│   </span><span style=\"color: #0000ff; text-decoration-color: #0000ff\">return</span> handle_response_error(response)                                                 <span style=\"color: #800000; text-decoration-color: #800000\">│</span>\n",
       "<span style=\"color: #800000; text-decoration-color: #800000\">│</span>   <span style=\"color: #7f7f7f; text-decoration-color: #7f7f7f\">304 </span>                                                                                           <span style=\"color: #800000; text-decoration-color: #800000\">│</span>\n",
       "<span style=\"color: #800000; text-decoration-color: #800000\">│</span>                                                                                                  <span style=\"color: #800000; text-decoration-color: #800000\">│</span>\n",
       "<span style=\"color: #800000; text-decoration-color: #800000\">│</span> <span style=\"color: #bfbf7f; text-decoration-color: #bfbf7f\">/Users/natalia/opt/anaconda3/envs/argilla/lib/python3.9/site-packages/argilla/client/sdk/commons</span> <span style=\"color: #800000; text-decoration-color: #800000\">│</span>\n",
       "<span style=\"color: #800000; text-decoration-color: #800000\">│</span> <span style=\"color: #bfbf7f; text-decoration-color: #bfbf7f\">/</span><span style=\"color: #808000; text-decoration-color: #808000; font-weight: bold\">errors_handler.py</span>:<span style=\"color: #0000ff; text-decoration-color: #0000ff\">64</span> in <span style=\"color: #00ff00; text-decoration-color: #00ff00\">handle_response_error</span>                                                   <span style=\"color: #800000; text-decoration-color: #800000\">│</span>\n",
       "<span style=\"color: #800000; text-decoration-color: #800000\">│</span>                                                                                                  <span style=\"color: #800000; text-decoration-color: #800000\">│</span>\n",
       "<span style=\"color: #800000; text-decoration-color: #800000\">│</span>   <span style=\"color: #7f7f7f; text-decoration-color: #7f7f7f\">61 │   │   </span>error_type = GenericApiError                                                        <span style=\"color: #800000; text-decoration-color: #800000\">│</span>\n",
       "<span style=\"color: #800000; text-decoration-color: #800000\">│</span>   <span style=\"color: #7f7f7f; text-decoration-color: #7f7f7f\">62 │   </span><span style=\"color: #0000ff; text-decoration-color: #0000ff\">else</span>:                                                                                   <span style=\"color: #800000; text-decoration-color: #800000\">│</span>\n",
       "<span style=\"color: #800000; text-decoration-color: #800000\">│</span>   <span style=\"color: #7f7f7f; text-decoration-color: #7f7f7f\">63 │   │   </span><span style=\"color: #0000ff; text-decoration-color: #0000ff\">raise</span> HttpResponseError(response=response)                                          <span style=\"color: #800000; text-decoration-color: #800000\">│</span>\n",
       "<span style=\"color: #800000; text-decoration-color: #800000\">│</span> <span style=\"color: #800000; text-decoration-color: #800000\">❱ </span>64 <span style=\"color: #7f7f7f; text-decoration-color: #7f7f7f\">│   </span><span style=\"color: #0000ff; text-decoration-color: #0000ff\">raise</span> error_type(**error_args)                                                          <span style=\"color: #800000; text-decoration-color: #800000\">│</span>\n",
       "<span style=\"color: #800000; text-decoration-color: #800000\">│</span>   <span style=\"color: #7f7f7f; text-decoration-color: #7f7f7f\">65 </span>                                                                                            <span style=\"color: #800000; text-decoration-color: #800000\">│</span>\n",
       "<span style=\"color: #800000; text-decoration-color: #800000\">╰──────────────────────────────────────────────────────────────────────────────────────────────────╯</span>\n",
       "<span style=\"color: #ff0000; text-decoration-color: #ff0000; font-weight: bold\">ValidationApiError: </span>Argilla server returned an error with http status: <span style=\"color: #008080; text-decoration-color: #008080; font-weight: bold\">422</span>\n",
       "Error details: <span style=\"font-weight: bold\">[{</span><span style=\"color: #008000; text-decoration-color: #008000\">'code'</span>: <span style=\"color: #008000; text-decoration-color: #008000\">'argilla.api.errors::ValidationError'</span>, <span style=\"color: #008000; text-decoration-color: #008000\">'params'</span>: <span style=\"font-weight: bold\">{}}]</span>\n",
       "\n",
       "<span style=\"font-style: italic\">During handling of the above exception, another exception occurred:</span>\n",
       "\n",
       "<span style=\"color: #800000; text-decoration-color: #800000\">╭─────────────────────────────── </span><span style=\"color: #800000; text-decoration-color: #800000; font-weight: bold\">Traceback </span><span style=\"color: #bf7f7f; text-decoration-color: #bf7f7f; font-weight: bold\">(most recent call last)</span><span style=\"color: #800000; text-decoration-color: #800000\"> ────────────────────────────────╮</span>\n",
       "<span style=\"color: #800000; text-decoration-color: #800000\">│</span> <span style=\"color: #bfbf7f; text-decoration-color: #bfbf7f\">/var/folders/wc/70j53mnj0gl2h8lfq685tbjw0000gn/T/ipykernel_6144/</span><span style=\"color: #808000; text-decoration-color: #808000; font-weight: bold\">1196326353.py</span>:<span style=\"color: #0000ff; text-decoration-color: #0000ff\">2</span> in <span style=\"color: #00ff00; text-decoration-color: #00ff00\">&lt;module&gt;</span>      <span style=\"color: #800000; text-decoration-color: #800000\">│</span>\n",
       "<span style=\"color: #800000; text-decoration-color: #800000\">│</span>                                                                                                  <span style=\"color: #800000; text-decoration-color: #800000\">│</span>\n",
       "<span style=\"color: #800000; text-decoration-color: #800000\">│</span> <span style=\"color: #800000; text-decoration-color: #800000; font-style: italic\">[Errno 2] No such file or directory: </span>                                                            <span style=\"color: #800000; text-decoration-color: #800000\">│</span>\n",
       "<span style=\"color: #800000; text-decoration-color: #800000\">│</span> <span style=\"color: #800000; text-decoration-color: #800000; font-style: italic\">'/var/folders/wc/70j53mnj0gl2h8lfq685tbjw0000gn/T/ipykernel_6144/1196326353.py'</span>                  <span style=\"color: #800000; text-decoration-color: #800000\">│</span>\n",
       "<span style=\"color: #800000; text-decoration-color: #800000\">│</span>                                                                                                  <span style=\"color: #800000; text-decoration-color: #800000\">│</span>\n",
       "<span style=\"color: #800000; text-decoration-color: #800000\">│</span> <span style=\"color: #bfbf7f; text-decoration-color: #bfbf7f\">/Users/natalia/opt/anaconda3/envs/argilla/lib/python3.9/site-packages/argilla/client/</span><span style=\"color: #808000; text-decoration-color: #808000; font-weight: bold\">feedback.py</span> <span style=\"color: #800000; text-decoration-color: #800000\">│</span>\n",
       "<span style=\"color: #800000; text-decoration-color: #800000\">│</span> :<span style=\"color: #0000ff; text-decoration-color: #0000ff\">746</span> in <span style=\"color: #00ff00; text-decoration-color: #00ff00\">create_feedback_dataset</span>                                                                  <span style=\"color: #800000; text-decoration-color: #800000\">│</span>\n",
       "<span style=\"color: #800000; text-decoration-color: #800000\">│</span>                                                                                                  <span style=\"color: #800000; text-decoration-color: #800000\">│</span>\n",
       "<span style=\"color: #800000; text-decoration-color: #800000\">│</span>   <span style=\"color: #7f7f7f; text-decoration-color: #7f7f7f\">743 │   │   </span>fields=fields,                                                                     <span style=\"color: #800000; text-decoration-color: #800000\">│</span>\n",
       "<span style=\"color: #800000; text-decoration-color: #800000\">│</span>   <span style=\"color: #7f7f7f; text-decoration-color: #7f7f7f\">744 │   │   </span>questions=questions,                                                               <span style=\"color: #800000; text-decoration-color: #800000\">│</span>\n",
       "<span style=\"color: #800000; text-decoration-color: #800000\">│</span>   <span style=\"color: #7f7f7f; text-decoration-color: #7f7f7f\">745 │   </span>)                                                                                      <span style=\"color: #800000; text-decoration-color: #800000\">│</span>\n",
       "<span style=\"color: #800000; text-decoration-color: #800000\">│</span> <span style=\"color: #800000; text-decoration-color: #800000\">❱ </span>746 <span style=\"color: #7f7f7f; text-decoration-color: #7f7f7f\">│   </span>fds.push_to_argilla(name=name, workspace=workspace)                                    <span style=\"color: #800000; text-decoration-color: #800000\">│</span>\n",
       "<span style=\"color: #800000; text-decoration-color: #800000\">│</span>   <span style=\"color: #7f7f7f; text-decoration-color: #7f7f7f\">747 │   </span><span style=\"color: #0000ff; text-decoration-color: #0000ff\">return</span> fds                                                                             <span style=\"color: #800000; text-decoration-color: #800000\">│</span>\n",
       "<span style=\"color: #800000; text-decoration-color: #800000\">│</span>   <span style=\"color: #7f7f7f; text-decoration-color: #7f7f7f\">748 </span>                                                                                           <span style=\"color: #800000; text-decoration-color: #800000\">│</span>\n",
       "<span style=\"color: #800000; text-decoration-color: #800000\">│</span>   <span style=\"color: #7f7f7f; text-decoration-color: #7f7f7f\">749 </span>                                                                                           <span style=\"color: #800000; text-decoration-color: #800000\">│</span>\n",
       "<span style=\"color: #800000; text-decoration-color: #800000\">│</span>                                                                                                  <span style=\"color: #800000; text-decoration-color: #800000\">│</span>\n",
       "<span style=\"color: #800000; text-decoration-color: #800000\">│</span> <span style=\"color: #bfbf7f; text-decoration-color: #bfbf7f\">/Users/natalia/opt/anaconda3/envs/argilla/lib/python3.9/site-packages/argilla/client/</span><span style=\"color: #808000; text-decoration-color: #808000; font-weight: bold\">feedback.py</span> <span style=\"color: #800000; text-decoration-color: #800000\">│</span>\n",
       "<span style=\"color: #800000; text-decoration-color: #800000\">│</span> :<span style=\"color: #0000ff; text-decoration-color: #0000ff\">549</span> in <span style=\"color: #00ff00; text-decoration-color: #00ff00\">push_to_argilla</span>                                                                          <span style=\"color: #800000; text-decoration-color: #800000\">│</span>\n",
       "<span style=\"color: #800000; text-decoration-color: #800000\">│</span>                                                                                                  <span style=\"color: #800000; text-decoration-color: #800000\">│</span>\n",
       "<span style=\"color: #800000; text-decoration-color: #800000\">│</span>   <span style=\"color: #7f7f7f; text-decoration-color: #7f7f7f\">546 │   │   │   │   </span><span style=\"color: #0000ff; text-decoration-color: #0000ff\">try</span>:                                                                       <span style=\"color: #800000; text-decoration-color: #800000\">│</span>\n",
       "<span style=\"color: #800000; text-decoration-color: #800000\">│</span>   <span style=\"color: #7f7f7f; text-decoration-color: #7f7f7f\">547 │   │   │   │   │   </span>client.add_question(<span style=\"color: #00ffff; text-decoration-color: #00ffff\">id</span>=argilla_id, question=question.dict())           <span style=\"color: #800000; text-decoration-color: #800000\">│</span>\n",
       "<span style=\"color: #800000; text-decoration-color: #800000\">│</span>   <span style=\"color: #7f7f7f; text-decoration-color: #7f7f7f\">548 │   │   │   │   </span><span style=\"color: #0000ff; text-decoration-color: #0000ff\">except</span> <span style=\"color: #00ffff; text-decoration-color: #00ffff\">Exception</span> <span style=\"color: #0000ff; text-decoration-color: #0000ff\">as</span> e:                                                     <span style=\"color: #800000; text-decoration-color: #800000\">│</span>\n",
       "<span style=\"color: #800000; text-decoration-color: #800000\">│</span> <span style=\"color: #800000; text-decoration-color: #800000\">❱ </span>549 <span style=\"color: #7f7f7f; text-decoration-color: #7f7f7f\">│   │   │   │   │   </span>delete_and_raise_exception(                                            <span style=\"color: #800000; text-decoration-color: #800000\">│</span>\n",
       "<span style=\"color: #800000; text-decoration-color: #800000\">│</span>   <span style=\"color: #7f7f7f; text-decoration-color: #7f7f7f\">550 │   │   │   │   │   │   </span>dataset_id=argilla_id,                                             <span style=\"color: #800000; text-decoration-color: #800000\">│</span>\n",
       "<span style=\"color: #800000; text-decoration-color: #800000\">│</span>   <span style=\"color: #7f7f7f; text-decoration-color: #7f7f7f\">551 │   │   │   │   │   │   </span>exception=<span style=\"color: #00ffff; text-decoration-color: #00ffff\">Exception</span>(                                               <span style=\"color: #800000; text-decoration-color: #800000\">│</span>\n",
       "<span style=\"color: #800000; text-decoration-color: #800000\">│</span>   <span style=\"color: #7f7f7f; text-decoration-color: #7f7f7f\">552 │   │   │   │   │   │   │   </span><span style=\"color: #808000; text-decoration-color: #808000\">f\"Failed while adding the question '{</span>question.name<span style=\"color: #808000; text-decoration-color: #808000\">}' to the\"</span>   <span style=\"color: #800000; text-decoration-color: #800000\">│</span>\n",
       "<span style=\"color: #800000; text-decoration-color: #800000\">│</span>                                                                                                  <span style=\"color: #800000; text-decoration-color: #800000\">│</span>\n",
       "<span style=\"color: #800000; text-decoration-color: #800000\">│</span> <span style=\"color: #bfbf7f; text-decoration-color: #bfbf7f\">/Users/natalia/opt/anaconda3/envs/argilla/lib/python3.9/site-packages/argilla/client/</span><span style=\"color: #808000; text-decoration-color: #808000; font-weight: bold\">feedback.py</span> <span style=\"color: #800000; text-decoration-color: #800000\">│</span>\n",
       "<span style=\"color: #800000; text-decoration-color: #800000\">│</span> :<span style=\"color: #0000ff; text-decoration-color: #0000ff\">531</span> in <span style=\"color: #00ff00; text-decoration-color: #00ff00\">delete_and_raise_exception</span>                                                               <span style=\"color: #800000; text-decoration-color: #800000\">│</span>\n",
       "<span style=\"color: #800000; text-decoration-color: #800000\">│</span>                                                                                                  <span style=\"color: #800000; text-decoration-color: #800000\">│</span>\n",
       "<span style=\"color: #800000; text-decoration-color: #800000\">│</span>   <span style=\"color: #7f7f7f; text-decoration-color: #7f7f7f\">528 │   │   │   │   │   │   </span><span style=\"color: #808000; text-decoration-color: #808000\">\"Failed while deleting the `FeedbackTask` dataset with ID\"</span>         <span style=\"color: #800000; text-decoration-color: #800000\">│</span>\n",
       "<span style=\"color: #800000; text-decoration-color: #800000\">│</span>   <span style=\"color: #7f7f7f; text-decoration-color: #7f7f7f\">529 │   │   │   │   │   │   </span><span style=\"color: #808000; text-decoration-color: #808000\">f\" '{</span>dataset_id<span style=\"color: #808000; text-decoration-color: #808000\">}' from Argilla with exception: {</span>e<span style=\"color: #808000; text-decoration-color: #808000\">}\"</span>                <span style=\"color: #800000; text-decoration-color: #800000\">│</span>\n",
       "<span style=\"color: #800000; text-decoration-color: #800000\">│</span>   <span style=\"color: #7f7f7f; text-decoration-color: #7f7f7f\">530 │   │   │   │   │   </span>)                                                                      <span style=\"color: #800000; text-decoration-color: #800000\">│</span>\n",
       "<span style=\"color: #800000; text-decoration-color: #800000\">│</span> <span style=\"color: #800000; text-decoration-color: #800000\">❱ </span>531 <span style=\"color: #7f7f7f; text-decoration-color: #7f7f7f\">│   │   │   │   </span><span style=\"color: #0000ff; text-decoration-color: #0000ff\">raise</span> exception                                                            <span style=\"color: #800000; text-decoration-color: #800000\">│</span>\n",
       "<span style=\"color: #800000; text-decoration-color: #800000\">│</span>   <span style=\"color: #7f7f7f; text-decoration-color: #7f7f7f\">532 │   │   │   </span>                                                                               <span style=\"color: #800000; text-decoration-color: #800000\">│</span>\n",
       "<span style=\"color: #800000; text-decoration-color: #800000\">│</span>   <span style=\"color: #7f7f7f; text-decoration-color: #7f7f7f\">533 │   │   │   </span><span style=\"color: #0000ff; text-decoration-color: #0000ff\">for</span> field <span style=\"color: #ff00ff; text-decoration-color: #ff00ff\">in</span> <span style=\"color: #00ffff; text-decoration-color: #00ffff\">self</span>.fields:                                                      <span style=\"color: #800000; text-decoration-color: #800000\">│</span>\n",
       "<span style=\"color: #800000; text-decoration-color: #800000\">│</span>   <span style=\"color: #7f7f7f; text-decoration-color: #7f7f7f\">534 │   │   │   │   </span><span style=\"color: #0000ff; text-decoration-color: #0000ff\">try</span>:                                                                       <span style=\"color: #800000; text-decoration-color: #800000\">│</span>\n",
       "<span style=\"color: #800000; text-decoration-color: #800000\">╰──────────────────────────────────────────────────────────────────────────────────────────────────╯</span>\n",
       "<span style=\"color: #ff0000; text-decoration-color: #ff0000; font-weight: bold\">Exception: </span>Failed while adding the question <span style=\"color: #008000; text-decoration-color: #008000\">'corrected-text'</span> to the `FeedbackTask` dataset in Argilla with \n",
       "exception: Argilla server returned an error with http status: <span style=\"color: #008080; text-decoration-color: #008080; font-weight: bold\">422</span>\n",
       "Error details: <span style=\"font-weight: bold\">[{</span><span style=\"color: #008000; text-decoration-color: #008000\">'code'</span>: <span style=\"color: #008000; text-decoration-color: #008000\">'argilla.api.errors::ValidationError'</span>, <span style=\"color: #008000; text-decoration-color: #008000\">'params'</span>: <span style=\"font-weight: bold\">{}}]</span>\n",
       "</pre>\n"
      ],
      "text/plain": [
       "\u001b[31m╭─\u001b[0m\u001b[31m──────────────────────────────\u001b[0m\u001b[31m \u001b[0m\u001b[1;31mTraceback \u001b[0m\u001b[1;2;31m(most recent call last)\u001b[0m\u001b[31m \u001b[0m\u001b[31m───────────────────────────────\u001b[0m\u001b[31m─╮\u001b[0m\n",
       "\u001b[31m│\u001b[0m \u001b[2;33m/Users/natalia/opt/anaconda3/envs/argilla/lib/python3.9/site-packages/argilla/client/\u001b[0m\u001b[1;33mfeedback.py\u001b[0m \u001b[31m│\u001b[0m\n",
       "\u001b[31m│\u001b[0m :\u001b[94m547\u001b[0m in \u001b[92mpush_to_argilla\u001b[0m                                                                          \u001b[31m│\u001b[0m\n",
       "\u001b[31m│\u001b[0m                                                                                                  \u001b[31m│\u001b[0m\n",
       "\u001b[31m│\u001b[0m   \u001b[2m544 \u001b[0m\u001b[2m│   │   │   \u001b[0m                                                                               \u001b[31m│\u001b[0m\n",
       "\u001b[31m│\u001b[0m   \u001b[2m545 \u001b[0m\u001b[2m│   │   │   \u001b[0m\u001b[94mfor\u001b[0m question \u001b[95min\u001b[0m \u001b[96mself\u001b[0m.questions:                                                \u001b[31m│\u001b[0m\n",
       "\u001b[31m│\u001b[0m   \u001b[2m546 \u001b[0m\u001b[2m│   │   │   │   \u001b[0m\u001b[94mtry\u001b[0m:                                                                       \u001b[31m│\u001b[0m\n",
       "\u001b[31m│\u001b[0m \u001b[31m❱ \u001b[0m547 \u001b[2m│   │   │   │   │   \u001b[0mclient.add_question(\u001b[96mid\u001b[0m=argilla_id, question=question.dict())           \u001b[31m│\u001b[0m\n",
       "\u001b[31m│\u001b[0m   \u001b[2m548 \u001b[0m\u001b[2m│   │   │   │   \u001b[0m\u001b[94mexcept\u001b[0m \u001b[96mException\u001b[0m \u001b[94mas\u001b[0m e:                                                     \u001b[31m│\u001b[0m\n",
       "\u001b[31m│\u001b[0m   \u001b[2m549 \u001b[0m\u001b[2m│   │   │   │   │   \u001b[0mdelete_and_raise_exception(                                            \u001b[31m│\u001b[0m\n",
       "\u001b[31m│\u001b[0m   \u001b[2m550 \u001b[0m\u001b[2m│   │   │   │   │   │   \u001b[0mdataset_id=argilla_id,                                             \u001b[31m│\u001b[0m\n",
       "\u001b[31m│\u001b[0m                                                                                                  \u001b[31m│\u001b[0m\n",
       "\u001b[31m│\u001b[0m \u001b[2;33m/Users/natalia/opt/anaconda3/envs/argilla/lib/python3.9/site-packages/argilla/client/\u001b[0m\u001b[1;33mclient.py\u001b[0m:\u001b[94m2\u001b[0m \u001b[31m│\u001b[0m\n",
       "\u001b[31m│\u001b[0m \u001b[94m62\u001b[0m in \u001b[92madd_question\u001b[0m                                                                               \u001b[31m│\u001b[0m\n",
       "\u001b[31m│\u001b[0m                                                                                                  \u001b[31m│\u001b[0m\n",
       "\u001b[31m│\u001b[0m   \u001b[2m259 \u001b[0m\u001b[2m│   │   \u001b[0m\u001b[94mreturn\u001b[0m datasets_api_v1.get_questions(client=\u001b[96mself\u001b[0m._client, \u001b[96mid\u001b[0m=\u001b[96mid\u001b[0m).parsed            \u001b[31m│\u001b[0m\n",
       "\u001b[31m│\u001b[0m   \u001b[2m260 \u001b[0m\u001b[2m│   \u001b[0m                                                                                       \u001b[31m│\u001b[0m\n",
       "\u001b[31m│\u001b[0m   \u001b[2m261 \u001b[0m\u001b[2m│   \u001b[0m\u001b[94mdef\u001b[0m \u001b[92madd_question\u001b[0m(\u001b[96mself\u001b[0m, \u001b[96mid\u001b[0m: \u001b[96mstr\u001b[0m, question: Dict[\u001b[96mstr\u001b[0m, Any]) -> httpx.Response:           \u001b[31m│\u001b[0m\n",
       "\u001b[31m│\u001b[0m \u001b[31m❱ \u001b[0m262 \u001b[2m│   │   \u001b[0m\u001b[94mreturn\u001b[0m datasets_api_v1.add_question(client=\u001b[96mself\u001b[0m._client, \u001b[96mid\u001b[0m=\u001b[96mid\u001b[0m, question=questio   \u001b[31m│\u001b[0m\n",
       "\u001b[31m│\u001b[0m   \u001b[2m263 \u001b[0m\u001b[2m│   \u001b[0m                                                                                       \u001b[31m│\u001b[0m\n",
       "\u001b[31m│\u001b[0m   \u001b[2m264 \u001b[0m\u001b[2m│   \u001b[0m\u001b[94mdef\u001b[0m \u001b[92mcopy\u001b[0m(\u001b[96mself\u001b[0m, dataset: \u001b[96mstr\u001b[0m, name_of_copy: \u001b[96mstr\u001b[0m, workspace: \u001b[96mstr\u001b[0m = \u001b[94mNone\u001b[0m):                \u001b[31m│\u001b[0m\n",
       "\u001b[31m│\u001b[0m   \u001b[2m265 \u001b[0m\u001b[2;90m│   │   \u001b[0m\u001b[33m\"\"\"Creates a copy of a dataset including its tags and metadata\u001b[0m                     \u001b[31m│\u001b[0m\n",
       "\u001b[31m│\u001b[0m                                                                                                  \u001b[31m│\u001b[0m\n",
       "\u001b[31m│\u001b[0m \u001b[2;33m/Users/natalia/opt/anaconda3/envs/argilla/lib/python3.9/site-packages/argilla/client/sdk/v1/data\u001b[0m \u001b[31m│\u001b[0m\n",
       "\u001b[31m│\u001b[0m \u001b[2;33msets/\u001b[0m\u001b[1;33mapi.py\u001b[0m:\u001b[94m303\u001b[0m in \u001b[92madd_question\u001b[0m                                                                  \u001b[31m│\u001b[0m\n",
       "\u001b[31m│\u001b[0m                                                                                                  \u001b[31m│\u001b[0m\n",
       "\u001b[31m│\u001b[0m   \u001b[2m300 \u001b[0m\u001b[2m│   │   │   \u001b[0mcontent=response.content,                                                      \u001b[31m│\u001b[0m\n",
       "\u001b[31m│\u001b[0m   \u001b[2m301 \u001b[0m\u001b[2m│   │   │   \u001b[0mheaders=response.headers,                                                      \u001b[31m│\u001b[0m\n",
       "\u001b[31m│\u001b[0m   \u001b[2m302 \u001b[0m\u001b[2m│   │   \u001b[0m)                                                                                  \u001b[31m│\u001b[0m\n",
       "\u001b[31m│\u001b[0m \u001b[31m❱ \u001b[0m303 \u001b[2m│   \u001b[0m\u001b[94mreturn\u001b[0m handle_response_error(response)                                                 \u001b[31m│\u001b[0m\n",
       "\u001b[31m│\u001b[0m   \u001b[2m304 \u001b[0m                                                                                           \u001b[31m│\u001b[0m\n",
       "\u001b[31m│\u001b[0m                                                                                                  \u001b[31m│\u001b[0m\n",
       "\u001b[31m│\u001b[0m \u001b[2;33m/Users/natalia/opt/anaconda3/envs/argilla/lib/python3.9/site-packages/argilla/client/sdk/commons\u001b[0m \u001b[31m│\u001b[0m\n",
       "\u001b[31m│\u001b[0m \u001b[2;33m/\u001b[0m\u001b[1;33merrors_handler.py\u001b[0m:\u001b[94m64\u001b[0m in \u001b[92mhandle_response_error\u001b[0m                                                   \u001b[31m│\u001b[0m\n",
       "\u001b[31m│\u001b[0m                                                                                                  \u001b[31m│\u001b[0m\n",
       "\u001b[31m│\u001b[0m   \u001b[2m61 \u001b[0m\u001b[2m│   │   \u001b[0merror_type = GenericApiError                                                        \u001b[31m│\u001b[0m\n",
       "\u001b[31m│\u001b[0m   \u001b[2m62 \u001b[0m\u001b[2m│   \u001b[0m\u001b[94melse\u001b[0m:                                                                                   \u001b[31m│\u001b[0m\n",
       "\u001b[31m│\u001b[0m   \u001b[2m63 \u001b[0m\u001b[2m│   │   \u001b[0m\u001b[94mraise\u001b[0m HttpResponseError(response=response)                                          \u001b[31m│\u001b[0m\n",
       "\u001b[31m│\u001b[0m \u001b[31m❱ \u001b[0m64 \u001b[2m│   \u001b[0m\u001b[94mraise\u001b[0m error_type(**error_args)                                                          \u001b[31m│\u001b[0m\n",
       "\u001b[31m│\u001b[0m   \u001b[2m65 \u001b[0m                                                                                            \u001b[31m│\u001b[0m\n",
       "\u001b[31m╰──────────────────────────────────────────────────────────────────────────────────────────────────╯\u001b[0m\n",
       "\u001b[1;91mValidationApiError: \u001b[0mArgilla server returned an error with http status: \u001b[1;36m422\u001b[0m\n",
       "Error details: \u001b[1m[\u001b[0m\u001b[1m{\u001b[0m\u001b[32m'code'\u001b[0m: \u001b[32m'argilla.api.errors::ValidationError'\u001b[0m, \u001b[32m'params'\u001b[0m: \u001b[1m{\u001b[0m\u001b[1m}\u001b[0m\u001b[1m}\u001b[0m\u001b[1m]\u001b[0m\n",
       "\n",
       "\u001b[3mDuring handling of the above exception, another exception occurred:\u001b[0m\n",
       "\n",
       "\u001b[31m╭─\u001b[0m\u001b[31m──────────────────────────────\u001b[0m\u001b[31m \u001b[0m\u001b[1;31mTraceback \u001b[0m\u001b[1;2;31m(most recent call last)\u001b[0m\u001b[31m \u001b[0m\u001b[31m───────────────────────────────\u001b[0m\u001b[31m─╮\u001b[0m\n",
       "\u001b[31m│\u001b[0m \u001b[2;33m/var/folders/wc/70j53mnj0gl2h8lfq685tbjw0000gn/T/ipykernel_6144/\u001b[0m\u001b[1;33m1196326353.py\u001b[0m:\u001b[94m2\u001b[0m in \u001b[92m<module>\u001b[0m      \u001b[31m│\u001b[0m\n",
       "\u001b[31m│\u001b[0m                                                                                                  \u001b[31m│\u001b[0m\n",
       "\u001b[31m│\u001b[0m \u001b[3;31m[Errno 2] No such file or directory: \u001b[0m                                                            \u001b[31m│\u001b[0m\n",
       "\u001b[31m│\u001b[0m \u001b[3;31m'/var/folders/wc/70j53mnj0gl2h8lfq685tbjw0000gn/T/ipykernel_6144/1196326353.py'\u001b[0m                  \u001b[31m│\u001b[0m\n",
       "\u001b[31m│\u001b[0m                                                                                                  \u001b[31m│\u001b[0m\n",
       "\u001b[31m│\u001b[0m \u001b[2;33m/Users/natalia/opt/anaconda3/envs/argilla/lib/python3.9/site-packages/argilla/client/\u001b[0m\u001b[1;33mfeedback.py\u001b[0m \u001b[31m│\u001b[0m\n",
       "\u001b[31m│\u001b[0m :\u001b[94m746\u001b[0m in \u001b[92mcreate_feedback_dataset\u001b[0m                                                                  \u001b[31m│\u001b[0m\n",
       "\u001b[31m│\u001b[0m                                                                                                  \u001b[31m│\u001b[0m\n",
       "\u001b[31m│\u001b[0m   \u001b[2m743 \u001b[0m\u001b[2m│   │   \u001b[0mfields=fields,                                                                     \u001b[31m│\u001b[0m\n",
       "\u001b[31m│\u001b[0m   \u001b[2m744 \u001b[0m\u001b[2m│   │   \u001b[0mquestions=questions,                                                               \u001b[31m│\u001b[0m\n",
       "\u001b[31m│\u001b[0m   \u001b[2m745 \u001b[0m\u001b[2m│   \u001b[0m)                                                                                      \u001b[31m│\u001b[0m\n",
       "\u001b[31m│\u001b[0m \u001b[31m❱ \u001b[0m746 \u001b[2m│   \u001b[0mfds.push_to_argilla(name=name, workspace=workspace)                                    \u001b[31m│\u001b[0m\n",
       "\u001b[31m│\u001b[0m   \u001b[2m747 \u001b[0m\u001b[2m│   \u001b[0m\u001b[94mreturn\u001b[0m fds                                                                             \u001b[31m│\u001b[0m\n",
       "\u001b[31m│\u001b[0m   \u001b[2m748 \u001b[0m                                                                                           \u001b[31m│\u001b[0m\n",
       "\u001b[31m│\u001b[0m   \u001b[2m749 \u001b[0m                                                                                           \u001b[31m│\u001b[0m\n",
       "\u001b[31m│\u001b[0m                                                                                                  \u001b[31m│\u001b[0m\n",
       "\u001b[31m│\u001b[0m \u001b[2;33m/Users/natalia/opt/anaconda3/envs/argilla/lib/python3.9/site-packages/argilla/client/\u001b[0m\u001b[1;33mfeedback.py\u001b[0m \u001b[31m│\u001b[0m\n",
       "\u001b[31m│\u001b[0m :\u001b[94m549\u001b[0m in \u001b[92mpush_to_argilla\u001b[0m                                                                          \u001b[31m│\u001b[0m\n",
       "\u001b[31m│\u001b[0m                                                                                                  \u001b[31m│\u001b[0m\n",
       "\u001b[31m│\u001b[0m   \u001b[2m546 \u001b[0m\u001b[2m│   │   │   │   \u001b[0m\u001b[94mtry\u001b[0m:                                                                       \u001b[31m│\u001b[0m\n",
       "\u001b[31m│\u001b[0m   \u001b[2m547 \u001b[0m\u001b[2m│   │   │   │   │   \u001b[0mclient.add_question(\u001b[96mid\u001b[0m=argilla_id, question=question.dict())           \u001b[31m│\u001b[0m\n",
       "\u001b[31m│\u001b[0m   \u001b[2m548 \u001b[0m\u001b[2m│   │   │   │   \u001b[0m\u001b[94mexcept\u001b[0m \u001b[96mException\u001b[0m \u001b[94mas\u001b[0m e:                                                     \u001b[31m│\u001b[0m\n",
       "\u001b[31m│\u001b[0m \u001b[31m❱ \u001b[0m549 \u001b[2m│   │   │   │   │   \u001b[0mdelete_and_raise_exception(                                            \u001b[31m│\u001b[0m\n",
       "\u001b[31m│\u001b[0m   \u001b[2m550 \u001b[0m\u001b[2m│   │   │   │   │   │   \u001b[0mdataset_id=argilla_id,                                             \u001b[31m│\u001b[0m\n",
       "\u001b[31m│\u001b[0m   \u001b[2m551 \u001b[0m\u001b[2m│   │   │   │   │   │   \u001b[0mexception=\u001b[96mException\u001b[0m(                                               \u001b[31m│\u001b[0m\n",
       "\u001b[31m│\u001b[0m   \u001b[2m552 \u001b[0m\u001b[2m│   │   │   │   │   │   │   \u001b[0m\u001b[33mf\u001b[0m\u001b[33m\"\u001b[0m\u001b[33mFailed while adding the question \u001b[0m\u001b[33m'\u001b[0m\u001b[33m{\u001b[0mquestion.name\u001b[33m}\u001b[0m\u001b[33m'\u001b[0m\u001b[33m to the\u001b[0m\u001b[33m\"\u001b[0m   \u001b[31m│\u001b[0m\n",
       "\u001b[31m│\u001b[0m                                                                                                  \u001b[31m│\u001b[0m\n",
       "\u001b[31m│\u001b[0m \u001b[2;33m/Users/natalia/opt/anaconda3/envs/argilla/lib/python3.9/site-packages/argilla/client/\u001b[0m\u001b[1;33mfeedback.py\u001b[0m \u001b[31m│\u001b[0m\n",
       "\u001b[31m│\u001b[0m :\u001b[94m531\u001b[0m in \u001b[92mdelete_and_raise_exception\u001b[0m                                                               \u001b[31m│\u001b[0m\n",
       "\u001b[31m│\u001b[0m                                                                                                  \u001b[31m│\u001b[0m\n",
       "\u001b[31m│\u001b[0m   \u001b[2m528 \u001b[0m\u001b[2m│   │   │   │   │   │   \u001b[0m\u001b[33m\"\u001b[0m\u001b[33mFailed while deleting the `FeedbackTask` dataset with ID\u001b[0m\u001b[33m\"\u001b[0m         \u001b[31m│\u001b[0m\n",
       "\u001b[31m│\u001b[0m   \u001b[2m529 \u001b[0m\u001b[2m│   │   │   │   │   │   \u001b[0m\u001b[33mf\u001b[0m\u001b[33m\"\u001b[0m\u001b[33m \u001b[0m\u001b[33m'\u001b[0m\u001b[33m{\u001b[0mdataset_id\u001b[33m}\u001b[0m\u001b[33m'\u001b[0m\u001b[33m from Argilla with exception: \u001b[0m\u001b[33m{\u001b[0me\u001b[33m}\u001b[0m\u001b[33m\"\u001b[0m                \u001b[31m│\u001b[0m\n",
       "\u001b[31m│\u001b[0m   \u001b[2m530 \u001b[0m\u001b[2m│   │   │   │   │   \u001b[0m)                                                                      \u001b[31m│\u001b[0m\n",
       "\u001b[31m│\u001b[0m \u001b[31m❱ \u001b[0m531 \u001b[2m│   │   │   │   \u001b[0m\u001b[94mraise\u001b[0m exception                                                            \u001b[31m│\u001b[0m\n",
       "\u001b[31m│\u001b[0m   \u001b[2m532 \u001b[0m\u001b[2m│   │   │   \u001b[0m                                                                               \u001b[31m│\u001b[0m\n",
       "\u001b[31m│\u001b[0m   \u001b[2m533 \u001b[0m\u001b[2m│   │   │   \u001b[0m\u001b[94mfor\u001b[0m field \u001b[95min\u001b[0m \u001b[96mself\u001b[0m.fields:                                                      \u001b[31m│\u001b[0m\n",
       "\u001b[31m│\u001b[0m   \u001b[2m534 \u001b[0m\u001b[2m│   │   │   │   \u001b[0m\u001b[94mtry\u001b[0m:                                                                       \u001b[31m│\u001b[0m\n",
       "\u001b[31m╰──────────────────────────────────────────────────────────────────────────────────────────────────╯\u001b[0m\n",
       "\u001b[1;91mException: \u001b[0mFailed while adding the question \u001b[32m'corrected-text'\u001b[0m to the `FeedbackTask` dataset in Argilla with \n",
       "exception: Argilla server returned an error with http status: \u001b[1;36m422\u001b[0m\n",
       "Error details: \u001b[1m[\u001b[0m\u001b[1m{\u001b[0m\u001b[32m'code'\u001b[0m: \u001b[32m'argilla.api.errors::ValidationError'\u001b[0m, \u001b[32m'params'\u001b[0m: \u001b[1m{\u001b[0m\u001b[1m}\u001b[0m\u001b[1m}\u001b[0m\u001b[1m]\u001b[0m\n"
      ]
     },
     "metadata": {},
     "output_type": "display_data"
    }
   ],
   "source": [
    "# configure the Feedback dataset\n",
    "dataset = rg.create_feedback_dataset(\n",
    "    name=\"demo_feedback\",\n",
    "    workspace=\"recognai\",\n",
    "    guidelines=\"You will see a collection of records with a question and an answer. You will be asked to rate the answer from 1 (very bad) to 5 (very good) and, if needed, provide a correction to the output\",\n",
    "    fields = [\n",
    "        rg.TextField(name=\"question\"),\n",
    "        rg.TextField(name=\"answer\")\n",
    "    ],\n",
    "    questions=questions\n",
    ")\n"
   ]
  },
  {
   "attachments": {},
   "cell_type": "markdown",
   "metadata": {},
   "source": [
    "Once the dataset is created, add the records and, when you're happy with the result, push the dataset to Argilla. At that point, you will be able to see the dataset from the UI."
   ]
  },
  {
   "cell_type": "code",
   "execution_count": null,
   "metadata": {},
   "outputs": [],
   "source": [
    "# add the records to the dataset\n",
    "dataset.add_records(records)\n",
    "\n",
    "# push the dataset to Argilla\n",
    "dataset.push_to_argilla()"
   ]
  },
  {
   "attachments": {},
   "cell_type": "markdown",
   "metadata": {},
   "source": [
    "## Annotating a Feedback Dataset\n",
    "Once you open the dataset, you will see by default the records with `Pending` responses, i.e. records that still don't have a response, in a single-record view. On the left, you can find the record to annotate and on the right the form with all the questions to answer. \n",
    "\n",
    "We highly recommend that you read the annotation guidelines before starting the annotation. If there are any, you can find them in the dataset settings page. [describe how to get there] If any of the questions have a description, you will find an info icon next to them. Click it to read the description.\n",
    "\n",
    "In the annotation view, you will be able to provide responses. Once all required questions have responses the `Submit` button will be enabled and you will be able to submit your response. If you prefer not to give a response for a record, you can move to the next record or discard it using the `Discard` button. \n",
    "\n",
    "If you need to review your submitted or discarded responses, you can select the view/queue? you need. From there, you can modify, submit or discard responses. You can also use the `Clear` button to remove the response and send the record back to the `Pending` queue.\n",
    "\n",
    "You can speed up the annotation process by using shortcuts:\n",
    "|Action|Keys|\n",
    "|------|----|\n",
    "|Clear|&#8679; `Shift` + &blank; `Space`|\n",
    "|Discard|&#x232B; `Backspace`|\n",
    "|Discard (from text area)|&#8679; `Shift` + &#x232B; `Backspace`|\n",
    "|Submit|&crarr; `Enter`|\n",
    "|Submit (from text area)|&#8679; `Shift` + &crarr; `Enter`|\n",
    "|Go to previous page|&larr; `Left arrow`|\n",
    "|Go to next page|&rarr; `Right arrow`|\n",
    "\n",
    "You can track your progress and the number of `Pending`, `Submitted` and `Discarded` responses by clicking the `Progress` icon in the sidebar."
   ]
  },
  {
   "attachments": {},
   "cell_type": "markdown",
   "metadata": {},
   "source": [
    "## Collect responses\n",
    "\n",
    "- Using the Python client to collect the responses to the dataset\n",
    "- Unifying responses (?) -> Técnicas de IAA.\n",
    "    - Majority vote, average... \n",
    "    - How to calculate IAA for text fields? bleu rouge? Rating of the proposed texts. \n",
    "    Make a dataset to collect human text, then rate the human text and use it for a rating exercise to get an annotator score or clean the dataset.\n",
    "- Export / publish the dataset."
   ]
  },
  {
   "attachments": {},
   "cell_type": "markdown",
   "metadata": {},
   "source": [
    "## Training?"
   ]
  },
  {
   "cell_type": "code",
   "execution_count": null,
   "metadata": {},
   "outputs": [],
   "source": []
  }
 ],
 "metadata": {
  "kernelspec": {
   "display_name": "argilla",
   "language": "python",
   "name": "python3"
  },
  "language_info": {
   "codemirror_mode": {
    "name": "ipython",
    "version": 3
   },
   "file_extension": ".py",
   "mimetype": "text/x-python",
   "name": "python",
   "nbconvert_exporter": "python",
   "pygments_lexer": "ipython3",
   "version": "3.9.0"
  },
  "orig_nbformat": 4,
  "vscode": {
   "interpreter": {
    "hash": "2d98cb9bf90a932b5bf8e86e91214497eb0e38eb318595fbd6fbd5460fe92036"
   }
  }
 },
 "nbformat": 4,
 "nbformat_minor": 2
}
