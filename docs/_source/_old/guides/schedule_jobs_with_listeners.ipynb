{
 "cells": [
  {
   "attachments": {},
   "cell_type": "markdown",
   "id": "025f037c-bf3b-48f9-b347-e325737c07a0",
   "metadata": {},
   "source": [
    "# 👂 Job Scheduling\n",
    "\n",
    "This guide gives you a brief introduction to Argilla Listeners. Argilla Listeners enable you to build fine-grained complex workflows as background processes, like a low-key alternative to job scheduling directly integrated with Argilla. \n",
    "\n",
    "The main goal facilitates the user to define and customize their Argilla experience, and these Listeners are the backbone of our [Argilla Plugins](https://github.com/argilla-io/argilla-plugins). Note that the tutorial about [active learning with small-text](\n",
    "    ../tutorials/libraries/smalltext.md) is a great example of how powerful listeners can be. Alternatively, you can check the [Python Client](../reference/python/python_listeners.rst) to get acquainted.\n",
    "\n",
    " \n",
    "<div class=\"alert alert-info\">\n",
    "This feature is experimental, you can expect some changes in the Python API. Please report on Github any issues you encounter. Also, Jupyter Notebooks might need to be completely restarted to ensure all background processes are properly stopped.\n",
    "</div>"
   ]
  },
  {
   "attachments": {},
   "cell_type": "markdown",
   "id": "8861e78b-c61b-443f-95ac-76948b349519",
   "metadata": {},
   "source": [
    "## Install dependencies\n",
    "\n",
    "For using listeners you need to install the following dependencies:"
   ]
  },
  {
   "cell_type": "code",
   "execution_count": null,
   "id": "470fc694-6794-4d0d-a579-12e00eeb4462",
   "metadata": {},
   "outputs": [],
   "source": [
    "%pip install argilla[listeners] -qqq"
   ]
  },
  {
   "attachments": {},
   "cell_type": "markdown",
   "id": "9793adf5",
   "metadata": {},
   "source": [
    "## Basics\n",
    "\n",
    "Listeners are decorators and wrap about a function that you would like to schedule. By defining a `query`, the `update_records` function gets two variables: 1) the `records` that we get from the dataset and query, and 2) the `ctx` that contains function parameters like `query` and `dataset`."
   ]
  },
  {
   "cell_type": "code",
   "execution_count": null,
   "id": "ba698aab",
   "metadata": {},
   "outputs": [],
   "source": [
    "import argilla as rg\n",
    "from argilla.listeners import listener\n",
    "\n",
    "@listener(\n",
    "    dataset=\"my_dataset\", # dataset to get record from\n",
    "    query=\"lucene query\", # https://docs.argilla.io/en/latest/guides/query_datasets.html\n",
    "    execution_interval_in_seconds=3, # interval to check execution of `update_records`\n",
    ")\n",
    "def update_records(records, ctx):\n",
    "    # records get the records that adhere to the query\n",
    "    for rec in records:\n",
    "        # do something ,e.g., train a model, change records\n",
    "        rec.metadata = {\"updated\": True}\n",
    "\n",
    "    # ctx hold the listener info\n",
    "    name = ctx.__listener__.dataset\n",
    "    rg.log(name, records) "
   ]
  },
  {
   "attachments": {},
   "cell_type": "markdown",
   "id": "9a1a9ff5",
   "metadata": {},
   "source": [
    "### Start and stop listening"
   ]
  },
  {
   "cell_type": "code",
   "execution_count": null,
   "id": "5364c935",
   "metadata": {},
   "outputs": [],
   "source": [
    "update_records.start()\n",
    "update_records.stop()"
   ]
  },
  {
   "attachments": {},
   "cell_type": "markdown",
   "id": "322e4cfe",
   "metadata": {},
   "source": [
    "## Advanced"
   ]
  },
  {
   "attachments": {},
   "cell_type": "markdown",
   "id": "15e4d50f",
   "metadata": {},
   "source": [
    "### Conditional execution\n",
    "\n",
    "We can set a condition for the expected number of record to require before actually excuting the decorated function."
   ]
  },
  {
   "cell_type": "code",
   "execution_count": null,
   "id": "255f7698",
   "metadata": {},
   "outputs": [],
   "source": [
    "@listener(\n",
    "    dataset=\"my_dataset\", # dataset to get record from\n",
    "    condition=lambda search: search.total == 10, # only executes if `query` results in 10 records\n",
    ")\n",
    "\n",
    "@listener(\n",
    "    dataset=\"my_dataset\", # dataset to get record from\n",
    "    condition=lambda search: search.total > 10, #  only executes if `query` results in more than 10 records\n",
    ")"
   ]
  },
  {
   "attachments": {},
   "cell_type": "markdown",
   "id": "a8d30af9",
   "metadata": {},
   "source": [
    "### Updatable `query_params`\n",
    "\n",
    "During a execution loop, it is possible to update and change `query_params` to allow for flexible querying based on the output of the query."
   ]
  },
  {
   "cell_type": "code",
   "execution_count": 8,
   "id": "46e2b293",
   "metadata": {},
   "outputs": [],
   "source": [
    "@listener(\n",
    "    dataset=\"uber-reviews\", # dataset to get record from\n",
    "    query=\"metadata.batch_id:{batch_id}\",\n",
    "    batch_id=0\n",
    ")\n",
    "def update_records(records, ctx):\n",
    "    # next iteration the query is executed with batch_id = 1\n",
    "    ctx.query_params[\"batch_id\"] += 1"
   ]
  },
  {
   "attachments": {},
   "cell_type": "markdown",
   "id": "a97f76a1",
   "metadata": {},
   "source": [
    "### Metrics\n",
    "\n",
    "Potentially actions like reporting can be done, based on the metrics provided by Argilla."
   ]
  },
  {
   "cell_type": "code",
   "execution_count": null,
   "id": "05cac382",
   "metadata": {},
   "outputs": [],
   "source": [
    "@listener(\n",
    "    dataset=\"my_dataset\", # dataset to get record from\n",
    "    metrics=[\"F1\"]\n",
    ")\n",
    "def update_records(records, ctx):\n",
    "    # next iteration the query is executed with batch_id = 1\n",
    "    print(ctx.metrics)"
   ]
  },
  {
   "attachments": {},
   "cell_type": "markdown",
   "id": "1018df9b",
   "metadata": {},
   "source": [
    "### Without loading records\n",
    "\n",
    "Sometimes we might just want to listen without loading and processing the docs direcly."
   ]
  },
  {
   "cell_type": "code",
   "execution_count": null,
   "id": "ed309d67",
   "metadata": {},
   "outputs": [],
   "source": [
    "@listener(\n",
    "    dataset=\"my_dataset\", # dataset to get record from\n",
    "    query_records=False\n",
    ")\n",
    "def update_records(ctx):\n",
    "    # Don`t load the records\n",
    "    pass"
   ]
  }
 ],
 "metadata": {
  "kernelspec": {
   "display_name": "argilla",
   "language": "python",
   "name": "python3"
  },
  "language_info": {
   "codemirror_mode": {
    "name": "ipython",
    "version": 3
   },
   "file_extension": ".py",
   "mimetype": "text/x-python",
   "name": "python",
   "nbconvert_exporter": "python",
   "pygments_lexer": "ipython3",
   "version": "3.7.12 | packaged by conda-forge | (default, Oct 26 2021, 05:57:50) \n[Clang 11.1.0 ]"
  },
  "vscode": {
   "interpreter": {
    "hash": "2584bca9d226488c39a669ff1ce19d7ca5f410e2d3aa9b82f20653edd0d96bfc"
   }
  }
 },
 "nbformat": 4,
 "nbformat_minor": 5
}
