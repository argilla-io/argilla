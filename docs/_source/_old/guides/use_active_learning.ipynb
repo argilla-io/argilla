{
 "cells": [
  {
   "attachments": {},
   "cell_type": "markdown",
   "metadata": {},
   "source": [
    "## 👨🏽‍🏫 Active Learning\n",
    "\n",
    "> Active learning is a special case of machine learning in which a learning algorithm can interactively query a user (or some other information source) to label new data points with the desired outputs. [Wikipedia](https://en.wikipedia.org/wiki/Active_learning_(machine_learning))\n",
    "\n",
    "Supervised machine learning often requires large amounts of labeled data that are expensive to generate. \n",
    "*Active Learning* systems attempt to overcome this labeling bottleneck. \n",
    "The underlying idea is that not all data points are equally important for training the model. \n",
    "The *Active Learning* system tries to query only the most relevant data from a pool of unlabeled data to be labeled by a so-called *oracle*, which is often a human annotator.\n",
    "Therefore, *Active Learning* systems are usually much more sample efficient and need far less training data than traditional supervised systems.\n",
    "\n",
    "![Active Learning](../_static/reference/webapp/technique-active-learning.png \"Active Learning\")"
   ]
  },
  {
   "attachments": {},
   "cell_type": "markdown",
   "metadata": {},
   "source": [
    "*Active Learning* systems can be a bit overwhelming to set-up, therefore we have defined several step-by-step [tutorials](\n",
    "    ../tutorials/techniques/active_learning.md) with some of the most popular libraries like `classy-classification`, `small-text` and `modAL` ."
   ]
  }
 ],
 "metadata": {
  "kernelspec": {
   "display_name": "argilla",
   "language": "python",
   "name": "python3"
  },
  "language_info": {
   "codemirror_mode": {
    "name": "ipython",
    "version": 3
   },
   "file_extension": ".py",
   "mimetype": "text/x-python",
   "name": "python",
   "nbconvert_exporter": "python",
   "pygments_lexer": "ipython3",
   "version": "3.7.12"
  },
  "orig_nbformat": 4,
  "vscode": {
   "interpreter": {
    "hash": "2584bca9d226488c39a669ff1ce19d7ca5f410e2d3aa9b82f20653edd0d96bfc"
   }
  }
 },
 "nbformat": 4,
 "nbformat_minor": 2
}
