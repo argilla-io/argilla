{
 "cells": [
  {
   "cell_type": "markdown",
   "id": "fc0c600b",
   "metadata": {},
   "source": [
    "# Creating a `FeedbackDataset` for `text-classification`.\n",
    "\n",
    "## 1. Push to `Argilla` and 🤗`hub`\n",
    "\n",
    "This tutorial is the first of a series in which we will get to know the `FeedbackDataset` for `text-classification`. We will start by creating a basic dataset using as example [ag_news](https://huggingface.co/datasets/ag_news) and push it to `Argilla` and the 🤗`hub`."
   ]
  },
  {
   "cell_type": "markdown",
   "id": "e557a44e-26fb-4b52-91ec-2b49d550a5cd",
   "metadata": {},
   "source": [
    "## Table of Contents\n",
    "\n",
    "1. [Create a `FeedbackDataset`](#create-feedbackdataset)\n",
    "\n",
    "    1.1 [Create a `FeedbackDataset` from a huggingface `dataset`](#create-feedbackdataset-datasets)\n",
    "\n",
    "    1.2 [Create a `FeedbackDataset` from a `pandas.DataFrame`](#create-feedbackdataset-pandas)\n",
    "\n",
    "2. [Push our `FeedbackDataset` to `Argilla`](#push-to-argilla)\n",
    "3. [Push our `FeedbackDataset` to the 🤗`hub`](#push-to-hf-hub)\n",
    "4. [Conclusions](#conclusions)\n"
   ]
  },
  {
   "cell_type": "markdown",
   "id": "566b7b82",
   "metadata": {},
   "source": [
    "## Running Argilla\n",
    "\n",
    "For this tutorial, you will need to have an Argilla server running. There are two main options for deploying and running Argilla:\n",
    "\n",
    "**Deploy Argilla on Hugging Face Spaces:** If you want to run tutorials with external notebooks (e.g., Google Colab) and you have an account on Hugging Face, you can deploy Argilla on Spaces with a few clicks:\n",
    "\n",
    "[![deploy on spaces](https://huggingface.co/datasets/huggingface/badges/raw/main/deploy-to-spaces-lg.svg)](https://huggingface.co/new-space?template=argilla/argilla-template-space)\n",
    "\n",
    "For details about configuring your deployment, check the [official Hugging Face Hub guide](https://huggingface.co/docs/hub/spaces-sdks-docker-argilla).\n",
    "\n",
    "**Launch Argilla using Argilla's quickstart Docker image**: This is the recommended option if you want [Argilla running on your local machine](../../getting_started/quickstart.ipynb). Note that this option will only let you run the tutorial locally and not with an external notebook service.\n",
    "\n",
    "For more information on deployment options, please check the Deployment section of the documentation.\n",
    "\n",
    "<div class=\"alert alert-info\">\n",
    "\n",
    "Tip\n",
    "\n",
    "This tutorial is a Jupyter Notebook. There are two options to run it:\n",
    "\n",
    "- Use the Open in Colab button at the top of this page. This option allows you to run the notebook directly on Google Colab. Don't forget to change the runtime type to GPU for faster model training and inference.\n",
    "- Download the .ipynb file by clicking on the View source link at the top of the page. This option allows you to download the notebook and run it on your local machine or on a Jupyter notebook tool of your choice.\n",
    "</div>"
   ]
  },
  {
   "cell_type": "markdown",
   "id": "2ec89efe-11a2-46ac-a9af-467d2628f7fd",
   "metadata": {},
   "source": [
    "First let's install our dependencies and import the necessary libraries:"
   ]
  },
  {
   "cell_type": "code",
   "execution_count": 28,
   "id": "bbbd3c38-1e3c-4d7f-97e6-22dd3b668fc8",
   "metadata": {},
   "outputs": [
    {
     "name": "stdout",
     "output_type": "stream",
     "text": [
      "Collecting argilla==1.18.0\n",
      "  Obtaining dependency information for argilla==1.18.0 from https://files.pythonhosted.org/packages/8f/d8/2af275c2a8df0d8e06a8d7daa8231431b2b1fd99f2d2169a131f41ff0d58/argilla-1.18.0-py3-none-any.whl.metadata\n",
      "  Downloading argilla-1.18.0-py3-none-any.whl.metadata (15 kB)\n",
      "Requirement already satisfied: httpx<0.24,>=0.15 in /home/agustin/github_repos/argilla/.venv/lib/python3.10/site-packages (from argilla==1.18.0) (0.23.3)\n",
      "Requirement already satisfied: deprecated~=1.2.0 in /home/agustin/github_repos/argilla/.venv/lib/python3.10/site-packages (from argilla==1.18.0) (1.2.14)\n",
      "Requirement already satisfied: packaging>=20.0 in /home/agustin/github_repos/argilla/.venv/lib/python3.10/site-packages (from argilla==1.18.0) (23.1)\n",
      "Requirement already satisfied: pandas<2.0.0,>=1.0.0 in /home/agustin/github_repos/argilla/.venv/lib/python3.10/site-packages (from argilla==1.18.0) (1.5.3)\n",
      "Requirement already satisfied: pydantic<2.0,>=1.10.7 in /home/agustin/github_repos/argilla/.venv/lib/python3.10/site-packages (from argilla==1.18.0) (1.10.9)\n",
      "Requirement already satisfied: wrapt<1.15,>=1.13 in /home/agustin/github_repos/argilla/.venv/lib/python3.10/site-packages (from argilla==1.18.0) (1.13.3)\n",
      "Requirement already satisfied: numpy<1.24.0 in /home/agustin/github_repos/argilla/.venv/lib/python3.10/site-packages (from argilla==1.18.0) (1.23.5)\n",
      "Requirement already satisfied: tqdm>=4.27.0 in /home/agustin/github_repos/argilla/.venv/lib/python3.10/site-packages (from argilla==1.18.0) (4.64.0)\n",
      "Requirement already satisfied: backoff in /home/agustin/github_repos/argilla/.venv/lib/python3.10/site-packages (from argilla==1.18.0) (1.11.1)\n",
      "Requirement already satisfied: monotonic in /home/agustin/github_repos/argilla/.venv/lib/python3.10/site-packages (from argilla==1.18.0) (1.6)\n",
      "Requirement already satisfied: rich!=13.1.0 in /home/agustin/github_repos/argilla/.venv/lib/python3.10/site-packages (from argilla==1.18.0) (13.0.1)\n",
      "Requirement already satisfied: typer<0.8.0,>=0.6.0 in /home/agustin/github_repos/argilla/.venv/lib/python3.10/site-packages (from argilla==1.18.0) (0.7.0)\n",
      "Requirement already satisfied: certifi in /home/agustin/github_repos/argilla/.venv/lib/python3.10/site-packages (from httpx<0.24,>=0.15->argilla==1.18.0) (2023.5.7)\n",
      "Requirement already satisfied: httpcore<0.17.0,>=0.15.0 in /home/agustin/github_repos/argilla/.venv/lib/python3.10/site-packages (from httpx<0.24,>=0.15->argilla==1.18.0) (0.16.3)\n",
      "Requirement already satisfied: rfc3986[idna2008]<2,>=1.3 in /home/agustin/github_repos/argilla/.venv/lib/python3.10/site-packages (from httpx<0.24,>=0.15->argilla==1.18.0) (1.5.0)\n",
      "Requirement already satisfied: sniffio in /home/agustin/github_repos/argilla/.venv/lib/python3.10/site-packages (from httpx<0.24,>=0.15->argilla==1.18.0) (1.2.0)\n",
      "Requirement already satisfied: python-dateutil>=2.8.1 in /home/agustin/github_repos/argilla/.venv/lib/python3.10/site-packages (from pandas<2.0.0,>=1.0.0->argilla==1.18.0) (2.8.2)\n",
      "Requirement already satisfied: pytz>=2020.1 in /home/agustin/github_repos/argilla/.venv/lib/python3.10/site-packages (from pandas<2.0.0,>=1.0.0->argilla==1.18.0) (2022.1)\n",
      "Requirement already satisfied: typing-extensions>=4.2.0 in /home/agustin/github_repos/argilla/.venv/lib/python3.10/site-packages (from pydantic<2.0,>=1.10.7->argilla==1.18.0) (4.8.0)\n",
      "Requirement already satisfied: commonmark<0.10.0,>=0.9.0 in /home/agustin/github_repos/argilla/.venv/lib/python3.10/site-packages (from rich!=13.1.0->argilla==1.18.0) (0.9.1)\n",
      "Requirement already satisfied: pygments<3.0.0,>=2.6.0 in /home/agustin/github_repos/argilla/.venv/lib/python3.10/site-packages (from rich!=13.1.0->argilla==1.18.0) (2.15.1)\n",
      "Requirement already satisfied: click<9.0.0,>=7.1.1 in /home/agustin/github_repos/argilla/.venv/lib/python3.10/site-packages (from typer<0.8.0,>=0.6.0->argilla==1.18.0) (8.1.3)\n",
      "Requirement already satisfied: h11<0.15,>=0.13 in /home/agustin/github_repos/argilla/.venv/lib/python3.10/site-packages (from httpcore<0.17.0,>=0.15.0->httpx<0.24,>=0.15->argilla==1.18.0) (0.13.0)\n",
      "Requirement already satisfied: anyio<5.0,>=3.0 in /home/agustin/github_repos/argilla/.venv/lib/python3.10/site-packages (from httpcore<0.17.0,>=0.15.0->httpx<0.24,>=0.15->argilla==1.18.0) (3.7.1)\n",
      "Requirement already satisfied: six>=1.5 in /home/agustin/github_repos/argilla/.venv/lib/python3.10/site-packages (from python-dateutil>=2.8.1->pandas<2.0.0,>=1.0.0->argilla==1.18.0) (1.16.0)\n",
      "Requirement already satisfied: idna in /home/agustin/github_repos/argilla/.venv/lib/python3.10/site-packages (from rfc3986[idna2008]<2,>=1.3->httpx<0.24,>=0.15->argilla==1.18.0) (3.3)\n",
      "Requirement already satisfied: exceptiongroup in /home/agustin/github_repos/argilla/.venv/lib/python3.10/site-packages (from anyio<5.0,>=3.0->httpcore<0.17.0,>=0.15.0->httpx<0.24,>=0.15->argilla==1.18.0) (1.1.1)\n",
      "Downloading argilla-1.18.0-py3-none-any.whl (2.8 MB)\n",
      "\u001b[2K   \u001b[38;2;114;156;31m━━━━━━━━━━━━━━━━━━━━━━━━━━━━━━━━━━━━━━━━\u001b[0m \u001b[32m2.8/2.8 MB\u001b[0m \u001b[31m18.3 MB/s\u001b[0m eta \u001b[36m0:00:00\u001b[0mm eta \u001b[36m0:00:01\u001b[0m0:01\u001b[0m\n",
      "\u001b[?25hInstalling collected packages: argilla\n",
      "  Attempting uninstall: argilla\n",
      "    Found existing installation: argilla 1.19.0\n",
      "    Uninstalling argilla-1.19.0:\n",
      "      Successfully uninstalled argilla-1.19.0\n",
      "Successfully installed argilla-1.18.0\n",
      "\n",
      "\u001b[1m[\u001b[0m\u001b[34;49mnotice\u001b[0m\u001b[1;39;49m]\u001b[0m\u001b[39;49m A new release of pip is available: \u001b[0m\u001b[31;49m23.2.1\u001b[0m\u001b[39;49m -> \u001b[0m\u001b[32;49m23.3.1\u001b[0m\n",
      "\u001b[1m[\u001b[0m\u001b[34;49mnotice\u001b[0m\u001b[1;39;49m]\u001b[0m\u001b[39;49m To update, run: \u001b[0m\u001b[32;49mpip install --upgrade pip\u001b[0m\n"
     ]
    }
   ],
   "source": [
    "!pip install argilla==1.18.0\n",
    "#!pip install argilla==1.19.0\n",
    "#!pip install datasets"
   ]
  },
  {
   "cell_type": "code",
   "execution_count": 5,
   "id": "51b3b93c",
   "metadata": {},
   "outputs": [],
   "source": [
    "import argilla as rg\n",
    "from datasets import load_dataset"
   ]
  },
  {
   "cell_type": "code",
   "execution_count": 3,
   "id": "728e6af7",
   "metadata": {},
   "outputs": [
    {
     "name": "stderr",
     "output_type": "stream",
     "text": [
      "/home/agustin/github_repos/argilla/.venv/lib/python3.10/site-packages/argilla/client/client.py:165: UserWarning: No workspace configuration was detected. To work with Argilla datasets, specify a valid workspace name on `rg.init` or set it up through the `rg.set_workspace` function.\n",
      "  warnings.warn(\n"
     ]
    }
   ],
   "source": [
    "rg.init(\n",
    "    api_url=\"https://<YOUR-HF-SPACE>.hf.space\",\n",
    "    api_key=\"admin.apikey\"\n",
    ")"
   ]
  },
  {
   "cell_type": "markdown",
   "id": "f50177aa-4c94-4b8f-8293-a3710e3cb0ca",
   "metadata": {},
   "source": [
    "## Create a `FeedbackDataset` <a class=\"anchor\" id=\"create-feedbackdataset\"></a>"
   ]
  },
  {
   "cell_type": "markdown",
   "id": "529f4e77-6c05-4d59-b153-170acee36b97",
   "metadata": {},
   "source": [
    "For this tutorial we will use the [ag_news](https://huggingface.co/datasets/ag_news) dataset which can be downloaded from the 🤗`hub`. We will load only the first 1000 items from the training sample."
   ]
  },
  {
   "cell_type": "code",
   "execution_count": 6,
   "id": "8b01b473-a815-427c-986e-6c2bedf1b5d7",
   "metadata": {},
   "outputs": [
    {
     "data": {
      "text/plain": [
       "Dataset({\n",
       "    features: ['text', 'label'],\n",
       "    num_rows: 1000\n",
       "})"
      ]
     },
     "execution_count": 6,
     "metadata": {},
     "output_type": "execute_result"
    }
   ],
   "source": [
    "ds = load_dataset(\"ag_news\", split=\"train[:1000]\")\n",
    "ds"
   ]
  },
  {
   "cell_type": "markdown",
   "id": "5b4eb4ff-9530-4542-9975-25d0f4f725c1",
   "metadata": {},
   "source": [
    "We will just load the first 1000 records for this tutorial, but feel free to test the full dataset."
   ]
  },
  {
   "cell_type": "markdown",
   "id": "6d2e7997-62c6-49b3-9462-acd6143346a1",
   "metadata": {},
   "source": [
    "This dataset contains a collection of news articles (we can see the content in the `text` column), which have been asigned one of the following classification `labels`: *World (0), Sports (1), Business (2), Sci/Tech (3)*.\n",
    "\n",
    "Let's use the [task templates](https://docs.argilla.io/en/latest/practical_guides/create_dataset.html#task-templates) to create a feedback dataset ready for `text-classification`."
   ]
  },
  {
   "cell_type": "code",
   "execution_count": 7,
   "metadata": {},
   "outputs": [
    {
     "data": {
      "text/plain": [
       "FeedbackDataset(\n",
       "    fields=[TextField(name='text', title='Text', required=True, type='text', use_markdown=False)]\n",
       "    questions=[LabelQuestion(name='label', title='Label', description='Classify the text by selecting the correct label from the given list of labels.', required=True, type='label_selection', labels=['World', 'Sports', 'Business', 'Sci/Tech'], visible_labels=None)]\n",
       "    guidelines=Classify the articles into one of the four categories.)\n",
       ")"
      ]
     },
     "execution_count": 7,
     "metadata": {},
     "output_type": "execute_result"
    }
   ],
   "source": [
    "feedback_dataset = rg.FeedbackDataset.for_text_classification(\n",
    "    labels=[\"World\", \"Sports\", \"Business\", \"Sci/Tech\"],\n",
    "    guidelines=\"Classify the articles into one of the four categories.\",\n",
    ")\n",
    "feedback_dataset"
   ]
  },
  {
   "cell_type": "markdown",
   "metadata": {},
   "source": [
    "We could compare this dataset with the custom configuration we would use previously (we can take a look at the [custom configuration](https://docs.argilla.io/en/latest/practical_guides/create_dataset.html#custom-configuration) for more information on the creation of a `FeedbackDataset` when we want a finer control):"
   ]
  },
  {
   "cell_type": "code",
   "execution_count": 13,
   "id": "f4823931-39a2-4942-ba83-894d62e0b7cc",
   "metadata": {},
   "outputs": [
    {
     "data": {
      "text/plain": [
       "FeedbackDataset(\n",
       "    fields=[TextField(name='text', title='Text from the article', required=True, type='text', use_markdown=False)]\n",
       "    questions=[LabelQuestion(name='label', title='In which category does this article fit?', description=None, required=True, type='label_selection', labels={'World': '0', 'Sports': '1', 'Business': '2', 'Sci/Tech': '3'}, visible_labels=None)]\n",
       "    guidelines=Classify the articles into one of the four categories.)\n",
       ")"
      ]
     },
     "execution_count": 13,
     "metadata": {},
     "output_type": "execute_result"
    }
   ],
   "source": [
    "feedback_dataset_long = rg.FeedbackDataset(\n",
    "    guidelines=\"Classify the articles into one of the four categories.\",\n",
    "    fields=[\n",
    "        rg.TextField(name=\"text\", title=\"Text from the article\"),\n",
    "    ],\n",
    "    questions=[\n",
    "        rg.LabelQuestion(\n",
    "            name=\"label\",\n",
    "            title=\"In which category does this article fit?\",\n",
    "            labels={\"World\": \"0\", \"Sports\": \"1\", \"Business\": \"2\", \"Sci/Tech\": \"3\"},\n",
    "            required=True,\n",
    "            visible_labels=None\n",
    "        )\n",
    "    ]\n",
    ")\n",
    "feedback_dataset_long"
   ]
  },
  {
   "cell_type": "markdown",
   "id": "77ad10bc-d908-41ba-9a5c-c9cc9d56b67f",
   "metadata": {},
   "source": [
    "### Create a `FeedbackDataset` from a huggingface `dataset` <a class=\"anchor\" id=\"create-feedbackdataset-datasets\"></a>"
   ]
  },
  {
   "cell_type": "markdown",
   "id": "9c194d68-6a87-4bc0-9d4e-f2afdb0561d9",
   "metadata": {},
   "source": [
    "The next step once we have our `FeedbackDataset` created is adding the [`FeedbackRecords`](https://docs.argilla.io/en/latest/getting_started/cheatsheet.html#create-records) to it."
   ]
  },
  {
   "cell_type": "markdown",
   "id": "5110f19b-8bf2-4d48-8a1f-ffd89cfa20f5",
   "metadata": {},
   "source": [
    "In order to create our records we can just loop over the items in the `datasets.Dataset`."
   ]
  },
  {
   "cell_type": "code",
   "execution_count": 8,
   "id": "825342c7-ef43-4747-8523-18f3e3fc6bd5",
   "metadata": {},
   "outputs": [],
   "source": [
    "records = []\n",
    "for i, item in enumerate(ds):\n",
    "    records.append(\n",
    "        rg.FeedbackRecord(\n",
    "            fields={\n",
    "                \"text\": item[\"text\"],\n",
    "            },\n",
    "            external_id=f\"record-{i}\"\n",
    "        )\n",
    "    )\n",
    "\n",
    "    ## EXPLAIN THE external_id "
   ]
  },
  {
   "cell_type": "markdown",
   "id": "3eb1ae7a-01f9-439b-87ac-6d0064164c80",
   "metadata": {},
   "source": [
    "### Create a `FeedbackDataset` from a `pandas.DataFrame` <a class=\"anchor\" id=\"create-feedbackdataset-pandas\"></a>"
   ]
  },
  {
   "cell_type": "markdown",
   "id": "dba19b65-60d3-4507-aca6-1b4b9bc77d08",
   "metadata": {},
   "source": [
    "If we had our data in a different format, let's say a `csv` file, maybe it's more direct to read the data using pandas for that.\n",
    "\n",
    "We will transform our dataset to pandas format for this example, and the remaining `FeedbackRecord` creation remains just the same:"
   ]
  },
  {
   "cell_type": "code",
   "execution_count": 18,
   "id": "82beb35b-264f-491a-a6be-bd53f40fb509",
   "metadata": {},
   "outputs": [
    {
     "data": {
      "text/html": [
       "<div>\n",
       "<style scoped>\n",
       "    .dataframe tbody tr th:only-of-type {\n",
       "        vertical-align: middle;\n",
       "    }\n",
       "\n",
       "    .dataframe tbody tr th {\n",
       "        vertical-align: top;\n",
       "    }\n",
       "\n",
       "    .dataframe thead th {\n",
       "        text-align: right;\n",
       "    }\n",
       "</style>\n",
       "<table border=\"1\" class=\"dataframe\">\n",
       "  <thead>\n",
       "    <tr style=\"text-align: right;\">\n",
       "      <th></th>\n",
       "      <th>text</th>\n",
       "      <th>label</th>\n",
       "    </tr>\n",
       "  </thead>\n",
       "  <tbody>\n",
       "    <tr>\n",
       "      <th>0</th>\n",
       "      <td>Wall St. Bears Claw Back Into the Black (Reute...</td>\n",
       "      <td>2</td>\n",
       "    </tr>\n",
       "    <tr>\n",
       "      <th>1</th>\n",
       "      <td>Carlyle Looks Toward Commercial Aerospace (Reu...</td>\n",
       "      <td>2</td>\n",
       "    </tr>\n",
       "    <tr>\n",
       "      <th>2</th>\n",
       "      <td>Oil and Economy Cloud Stocks' Outlook (Reuters...</td>\n",
       "      <td>2</td>\n",
       "    </tr>\n",
       "    <tr>\n",
       "      <th>3</th>\n",
       "      <td>Iraq Halts Oil Exports from Main Southern Pipe...</td>\n",
       "      <td>2</td>\n",
       "    </tr>\n",
       "    <tr>\n",
       "      <th>4</th>\n",
       "      <td>Oil prices soar to all-time record, posing new...</td>\n",
       "      <td>2</td>\n",
       "    </tr>\n",
       "  </tbody>\n",
       "</table>\n",
       "</div>"
      ],
      "text/plain": [
       "                                                text  label\n",
       "0  Wall St. Bears Claw Back Into the Black (Reute...      2\n",
       "1  Carlyle Looks Toward Commercial Aerospace (Reu...      2\n",
       "2  Oil and Economy Cloud Stocks' Outlook (Reuters...      2\n",
       "3  Iraq Halts Oil Exports from Main Southern Pipe...      2\n",
       "4  Oil prices soar to all-time record, posing new...      2"
      ]
     },
     "execution_count": 18,
     "metadata": {},
     "output_type": "execute_result"
    }
   ],
   "source": [
    "df_dataset = ds.to_pandas()\n",
    "df_dataset.head()"
   ]
  },
  {
   "cell_type": "code",
   "execution_count": 20,
   "metadata": {},
   "outputs": [
    {
     "data": {
      "text/html": [
       "<div>\n",
       "<style scoped>\n",
       "    .dataframe tbody tr th:only-of-type {\n",
       "        vertical-align: middle;\n",
       "    }\n",
       "\n",
       "    .dataframe tbody tr th {\n",
       "        vertical-align: top;\n",
       "    }\n",
       "\n",
       "    .dataframe thead th {\n",
       "        text-align: right;\n",
       "    }\n",
       "</style>\n",
       "<table border=\"1\" class=\"dataframe\">\n",
       "  <thead>\n",
       "    <tr style=\"text-align: right;\">\n",
       "      <th></th>\n",
       "      <th>text</th>\n",
       "      <th>label</th>\n",
       "    </tr>\n",
       "  </thead>\n",
       "  <tbody>\n",
       "    <tr>\n",
       "      <th>0</th>\n",
       "      <td>Wall St. Bears Claw Back Into the Black (Reute...</td>\n",
       "      <td>2</td>\n",
       "    </tr>\n",
       "    <tr>\n",
       "      <th>1</th>\n",
       "      <td>Carlyle Looks Toward Commercial Aerospace (Reu...</td>\n",
       "      <td>2</td>\n",
       "    </tr>\n",
       "    <tr>\n",
       "      <th>2</th>\n",
       "      <td>Oil and Economy Cloud Stocks' Outlook (Reuters...</td>\n",
       "      <td>2</td>\n",
       "    </tr>\n",
       "    <tr>\n",
       "      <th>3</th>\n",
       "      <td>Iraq Halts Oil Exports from Main Southern Pipe...</td>\n",
       "      <td>2</td>\n",
       "    </tr>\n",
       "    <tr>\n",
       "      <th>4</th>\n",
       "      <td>Oil prices soar to all-time record, posing new...</td>\n",
       "      <td>2</td>\n",
       "    </tr>\n",
       "    <tr>\n",
       "      <th>...</th>\n",
       "      <td>...</td>\n",
       "      <td>...</td>\n",
       "    </tr>\n",
       "    <tr>\n",
       "      <th>995</th>\n",
       "      <td>U.S. Stocks Rebound as Oil Prices Ease  NEW YO...</td>\n",
       "      <td>2</td>\n",
       "    </tr>\n",
       "    <tr>\n",
       "      <th>996</th>\n",
       "      <td>Dollar Rises Vs Euro After Asset Data  NEW YOR...</td>\n",
       "      <td>2</td>\n",
       "    </tr>\n",
       "    <tr>\n",
       "      <th>997</th>\n",
       "      <td>Bikes Bring Internet to Indian Villagers (AP) ...</td>\n",
       "      <td>3</td>\n",
       "    </tr>\n",
       "    <tr>\n",
       "      <th>998</th>\n",
       "      <td>Celebrity Chefs Are Everywhere in Vegas By ADA...</td>\n",
       "      <td>3</td>\n",
       "    </tr>\n",
       "    <tr>\n",
       "      <th>999</th>\n",
       "      <td>Entertainment World Wary of Microsoft Technolo...</td>\n",
       "      <td>3</td>\n",
       "    </tr>\n",
       "  </tbody>\n",
       "</table>\n",
       "<p>1000 rows × 2 columns</p>\n",
       "</div>"
      ],
      "text/plain": [
       "                                                  text  label\n",
       "0    Wall St. Bears Claw Back Into the Black (Reute...      2\n",
       "1    Carlyle Looks Toward Commercial Aerospace (Reu...      2\n",
       "2    Oil and Economy Cloud Stocks' Outlook (Reuters...      2\n",
       "3    Iraq Halts Oil Exports from Main Southern Pipe...      2\n",
       "4    Oil prices soar to all-time record, posing new...      2\n",
       "..                                                 ...    ...\n",
       "995  U.S. Stocks Rebound as Oil Prices Ease  NEW YO...      2\n",
       "996  Dollar Rises Vs Euro After Asset Data  NEW YOR...      2\n",
       "997  Bikes Bring Internet to Indian Villagers (AP) ...      3\n",
       "998  Celebrity Chefs Are Everywhere in Vegas By ADA...      3\n",
       "999  Entertainment World Wary of Microsoft Technolo...      3\n",
       "\n",
       "[1000 rows x 2 columns]"
      ]
     },
     "execution_count": 20,
     "metadata": {},
     "output_type": "execute_result"
    }
   ],
   "source": [
    "df_dataset"
   ]
  },
  {
   "cell_type": "code",
   "execution_count": 21,
   "id": "7c7b33af-297c-44ab-981c-b62cf1406843",
   "metadata": {},
   "outputs": [],
   "source": [
    "records_pandas = []\n",
    "for i, item in df_dataset.iterrows():\n",
    "    records_pandas.append(\n",
    "        rg.FeedbackRecord(\n",
    "            fields={\n",
    "                \"text\": item[\"text\"],\n",
    "            },\n",
    "            external_id=f\"record-{i}\"\n",
    "        )\n",
    "    )"
   ]
  },
  {
   "cell_type": "markdown",
   "id": "dd3f1c38-3b56-46e8-8cac-7b3d21beb38d",
   "metadata": {},
   "source": [
    "Let's add our records to the dataset:"
   ]
  },
  {
   "cell_type": "code",
   "execution_count": 9,
   "id": "9bd0ec1c-1fcb-4d4f-a0a2-4f581a670e8b",
   "metadata": {},
   "outputs": [],
   "source": [
    "feedback_dataset.add_records(records)"
   ]
  },
  {
   "cell_type": "markdown",
   "id": "16fe9266-7a03-4be6-8789-b141854bcdda",
   "metadata": {},
   "source": [
    "By now we have our dataset with the texts ready to be labeled, let's push it to `Argilla`."
   ]
  },
  {
   "cell_type": "markdown",
   "id": "b867eb5b-0b5a-42b1-88f2-f5b67519243e",
   "metadata": {},
   "source": [
    "## Push our `FeedbackDataset` to `Argilla` <a class=\"anchor\" id=\"push-to-argilla\"></a>"
   ]
  },
  {
   "cell_type": "code",
   "execution_count": 11,
   "id": "8f5581dc-8509-484e-ad4e-c73d15227cc9",
   "metadata": {},
   "outputs": [
    {
     "name": "stderr",
     "output_type": "stream",
     "text": [
      "Pushing records to Argilla...: 100%|██████████| 32/32 [00:11<00:00,  2.87it/s]\n"
     ]
    }
   ],
   "source": [
    "remote_dataset = feedback_dataset.push_to_argilla(name=\"end2end_textclassification\", workspace=\"admin\")"
   ]
  },
  {
   "cell_type": "markdown",
   "id": "aff0f7fd-722f-4f92-912d-029b134848f3",
   "metadata": {},
   "source": [
    "If we go to our `Argilla` instance we should see a similar screen like the following."
   ]
  },
  {
   "cell_type": "markdown",
   "metadata": {},
   "source": [
    "![feedback-dataset](../images/feedback-dataset-text-classification-1.png)"
   ]
  },
  {
   "cell_type": "markdown",
   "id": "e5f09e2a-e192-4526-a686-b4d516ca5066",
   "metadata": {},
   "source": [
    "Where we can see the *Text from the article* we wanted, and the different labels to choose from."
   ]
  },
  {
   "cell_type": "markdown",
   "id": "70a9c1e6-b89c-48e1-9b9f-dc865535ccc6",
   "metadata": {},
   "source": [
    "#### Download our dataset from `Argilla`"
   ]
  },
  {
   "cell_type": "markdown",
   "id": "fd877169-bd9a-4596-981d-47d2ff4c7c24",
   "metadata": {},
   "source": [
    "We can now download the dataset from `Argilla` just to check it:"
   ]
  },
  {
   "cell_type": "code",
   "execution_count": 14,
   "id": "fbae2025-c4fe-4e0c-b445-9ee308baa4a5",
   "metadata": {},
   "outputs": [
    {
     "data": {
      "text/plain": [
       "RemoteFeedbackDataset(\n",
       "   id=03710d63-0f92-4eef-b948-f90ed883af23\n",
       "   name=end2end_textclassification\n",
       "   workspace=Workspace(id=31b3ea30-fa1b-4f24-8181-ea5e78ae74e4, name=admin, inserted_at=2023-11-13 16:21:41.274922, updated_at=2023-11-13 16:21:41.274922)\n",
       "   url=https://plaguss-argilla-tutorials.hf.space/dataset/03710d63-0f92-4eef-b948-f90ed883af23/annotation-mode\n",
       "   fields=[RemoteTextField(id=UUID('a5425ba8-ae20-4a3a-90f3-efe8e911083a'), client=None, name='text', title='Text', required=True, type='text', use_markdown=False)]\n",
       "   questions=[RemoteLabelQuestion(id=UUID('276c7734-c432-4459-bc8e-4e7c412c47a3'), client=None, name='label', title='Label', description=None, required=True, type='label_selection', labels=['World', 'Sports', 'Business', 'Sci/Tech'], visible_labels=None)]\n",
       "   guidelines=Classify the articles into one of the four categories.)"
      ]
     },
     "execution_count": 14,
     "metadata": {},
     "output_type": "execute_result"
    }
   ],
   "source": [
    "remote_dataset = rg.FeedbackDataset.from_argilla(\"end2end_textclassification\", workspace=\"admin\")\n",
    "remote_dataset"
   ]
  },
  {
   "cell_type": "markdown",
   "id": "1f16d868-a9df-4f01-85ac-06bfcee19101",
   "metadata": {},
   "source": [
    "## Push our `FeedbackDataset` to the 🤗`hub` <a class=\"anchor\" id=\"push-to-hf-hub\"></a>\n",
    "\n",
    "If we wanted to share our dataset with the world, we could use the Huggingface hub for it."
   ]
  },
  {
   "cell_type": "markdown",
   "id": "24aae42a-6b0f-40eb-9d92-4aafcb735844",
   "metadata": {},
   "source": [
    "First we need to login to huggingface. The following snippet will ask for our HF token.\n",
    "\n",
    "If we don't have one already, we can obtain it from [here](https://huggingface.co/docs/hub/security-tokens) (remember to set the *write* access)."
   ]
  },
  {
   "cell_type": "code",
   "execution_count": 15,
   "id": "1fabcc89-323f-4f4f-9ab9-4b778dd93474",
   "metadata": {},
   "outputs": [
    {
     "data": {
      "application/vnd.jupyter.widget-view+json": {
       "model_id": "156b88c6da7b4c5890c0b356327e4217",
       "version_major": 2,
       "version_minor": 0
      },
      "text/plain": [
       "VBox(children=(HTML(value='<center> <img\\nsrc=https://huggingface.co/front/assets/huggingface_logo-noborder.sv…"
      ]
     },
     "metadata": {},
     "output_type": "display_data"
    }
   ],
   "source": [
    "from huggingface_hub import notebook_login\n",
    "\n",
    "notebook_login()"
   ]
  },
  {
   "cell_type": "markdown",
   "id": "694c381d-7f7d-4b2d-938a-20df260ec957",
   "metadata": {},
   "source": [
    "And now we can just call the method on the `FeedbackDataset`."
   ]
  },
  {
   "cell_type": "code",
   "execution_count": 16,
   "id": "1c471559-916c-4bf8-b115-3d1ba0be621b",
   "metadata": {},
   "outputs": [
    {
     "name": "stderr",
     "output_type": "stream",
     "text": [
      "/home/agustin/github_repos/argilla/.venv/lib/python3.10/site-packages/argilla/client/feedback/dataset/remote/dataset.py:835: UserWarning: The dataset is first pulled locally and pushed to Hugging Face after because `push_to_huggingface` is not supported for a `RemoteFeedbackDataset`. `RemoteFeedbackDataset.pull().push_to_huggingface(...)` is applied.\n",
      "  warnings.warn(\n"
     ]
    },
    {
     "data": {
      "application/json": {
       "ascii": true,
       "bar_format": null,
       "colour": null,
       "elapsed": 0.039948225021362305,
       "initial": 0,
       "n": 0,
       "ncols": null,
       "nrows": null,
       "postfix": null,
       "prefix": "Pushing dataset shards to the dataset hub",
       "rate": null,
       "total": 1,
       "unit": "it",
       "unit_divisor": 1000,
       "unit_scale": false
      },
      "application/vnd.jupyter.widget-view+json": {
       "model_id": "4895c27ff81440bab51dd19bde2d7f58",
       "version_major": 2,
       "version_minor": 0
      },
      "text/plain": [
       "Pushing dataset shards to the dataset hub:   0%|          | 0/1 [00:00<?, ?it/s]"
      ]
     },
     "metadata": {},
     "output_type": "display_data"
    },
    {
     "data": {
      "application/json": {
       "ascii": true,
       "bar_format": null,
       "colour": null,
       "elapsed": 0.03451967239379883,
       "initial": 0,
       "n": 0,
       "ncols": null,
       "nrows": null,
       "postfix": null,
       "prefix": "Creating parquet from Arrow format",
       "rate": null,
       "total": 1,
       "unit": "ba",
       "unit_divisor": 1000,
       "unit_scale": false
      },
      "application/vnd.jupyter.widget-view+json": {
       "model_id": "0f43a07bcbd343579413cf4f9d2a2f13",
       "version_major": 2,
       "version_minor": 0
      },
      "text/plain": [
       "Creating parquet from Arrow format:   0%|          | 0/1 [00:00<?, ?ba/s]"
      ]
     },
     "metadata": {},
     "output_type": "display_data"
    }
   ],
   "source": [
    "remote_dataset.push_to_huggingface(\"argilla/end2end_textclassification\")"
   ]
  },
  {
   "cell_type": "markdown",
   "id": "408cb3c9-c784-45c8-b206-058a23b801d8",
   "metadata": {},
   "source": [
    "## Conclusion"
   ]
  },
  {
   "cell_type": "markdown",
   "id": "6cdb1244-1589-4e85-be36-e0c959817c6d",
   "metadata": {},
   "source": [
    "In this tutorial we created an `Argilla` `FeedbackDataset` for text classification, starting from [ag_news](https://huggingface.co/datasets/ag_news).\n",
    "\n",
    "We created a `FeedbackDataset` for text classification with a `LabelQuestion`, from data stored as a `datasets.Dataset` and a `pandas.DataFrame`.\n",
    "This dataset was pushed both to `Argilla` where we can curate and label the records, and finally pushed it to the 🤗`hub`.\n",
    "\n",
    "To learn more about how to work with the `FeedbackDataset` check the [cheatsheet](https://docs.argilla.io/en/latest/getting_started/cheatsheet.html#cheatsheet)."
   ]
  }
 ],
 "metadata": {
  "kernelspec": {
   "display_name": ".venv",
   "language": "python",
   "name": ".venv"
  },
  "language_info": {
   "codemirror_mode": {
    "name": "ipython",
    "version": 3
   },
   "file_extension": ".py",
   "mimetype": "text/x-python",
   "name": "python",
   "nbconvert_exporter": "python",
   "pygments_lexer": "ipython3",
   "version": "3.10.13"
  }
 },
 "nbformat": 4,
 "nbformat_minor": 5
}
