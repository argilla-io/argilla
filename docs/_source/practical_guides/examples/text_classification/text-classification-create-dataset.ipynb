{
 "cells": [
  {
   "cell_type": "markdown",
   "id": "fc0c600b",
   "metadata": {},
   "source": [
    "# Creating a `FeedbackDataset` for `text-classification`.\n",
    "\n",
    "## 1. Push to `Argilla` and 🤗`hub`\n",
    "\n",
    "This tutorial is the first of a series in which we will get to know the `FeedbackDataset` for `text-classification`. We will start by creating a basic dataset using as example [ag_news](https://huggingface.co/datasets/ag_news) and push it to `Argilla` and the 🤗`hub`."
   ]
  },
  {
   "cell_type": "markdown",
   "id": "e557a44e-26fb-4b52-91ec-2b49d550a5cd",
   "metadata": {},
   "source": [
    "## Table of Contents\n",
    "\n",
    "- 1. [Create a `FeedbackDataset`](#create-feedbackdataset)\n",
    "    - 1.1 [Create a `FeedbackDataset` from a huggingface `dataset`](#create-feedbackdataset-datasets)\n",
    "    - 1.2 [Create a `FeedbackDataset` from a `pandas.DataFrame`](#create-feedbackdataset-pandas)\n",
    "- 2. [Push our `FeedbackDataset` to `Argilla`](#push-to-argilla)\n",
    "- 3. [Push our `FeedbackDataset` to the 🤗`hub`](#push-to-hf-hub)\n",
    "- 4. [Conclusions](#conclusions)\n"
   ]
  },
  {
   "cell_type": "markdown",
   "id": "566b7b82",
   "metadata": {},
   "source": [
    "## Running Argilla\n",
    "\n",
    "For this tutorial, you will need to have an Argilla server running. There are two main options for deploying and running Argilla:\n",
    "\n",
    "**Deploy Argilla on Hugging Face Spaces:** If you want to run tutorials with external notebooks (e.g., Google Colab) and you have an account on Hugging Face, you can deploy Argilla on Spaces with a few clicks:\n",
    "\n",
    "[![deploy on spaces](https://huggingface.co/datasets/huggingface/badges/raw/main/deploy-to-spaces-lg.svg)](https://huggingface.co/new-space?template=argilla/argilla-template-space)\n",
    "\n",
    "For details about configuring your deployment, check the [official Hugging Face Hub guide](https://huggingface.co/docs/hub/spaces-sdks-docker-argilla).\n",
    "\n",
    "**Launch Argilla using Argilla's quickstart Docker image**: This is the recommended option if you want [Argilla running on your local machine](../../getting_started/quickstart.ipynb). Note that this option will only let you run the tutorial locally and not with an external notebook service.\n",
    "\n",
    "For more information on deployment options, please check the Deployment section of the documentation.\n",
    "\n",
    "<div class=\"alert alert-info\">\n",
    "\n",
    "Tip\n",
    "\n",
    "This tutorial is a Jupyter Notebook. There are two options to run it:\n",
    "\n",
    "- Use the Open in Colab button at the top of this page. This option allows you to run the notebook directly on Google Colab. Don't forget to change the runtime type to GPU for faster model training and inference.\n",
    "- Download the .ipynb file by clicking on the View source link at the top of the page. This option allows you to download the notebook and run it on your local machine or on a Jupyter notebook tool of your choice.\n",
    "</div>"
   ]
  },
  {
   "cell_type": "markdown",
   "id": "2ec89efe-11a2-46ac-a9af-467d2628f7fd",
   "metadata": {},
   "source": [
    "First let's install our dependencies and import the necessary libraries:"
   ]
  },
  {
   "cell_type": "code",
   "execution_count": null,
   "id": "bbbd3c38-1e3c-4d7f-97e6-22dd3b668fc8",
   "metadata": {},
   "outputs": [],
   "source": [
    "!pip install argilla==1.18.0\n",
    "!pip install datasets"
   ]
  },
  {
   "cell_type": "code",
   "execution_count": 2,
   "id": "51b3b93c",
   "metadata": {},
   "outputs": [],
   "source": [
    "import argilla as rg\n",
    "from datasets import load_dataset"
   ]
  },
  {
   "cell_type": "code",
   "execution_count": null,
   "id": "728e6af7",
   "metadata": {},
   "outputs": [],
   "source": [
    "rg.init(\n",
    "    api_url=\"https://<YOUR-HF-SPACE>.hf.space\",\n",
    "    api_key=\"admin.apikey\"\n",
    ")"
   ]
  },
  {
   "cell_type": "markdown",
   "id": "f50177aa-4c94-4b8f-8293-a3710e3cb0ca",
   "metadata": {},
   "source": [
    "## Create a `FeedbackDataset` <a class=\"anchor\" id=\"create-feedbackdataset\"></a>"
   ]
  },
  {
   "cell_type": "markdown",
   "id": "529f4e77-6c05-4d59-b153-170acee36b97",
   "metadata": {},
   "source": [
    "For this tutorial we will use the [ag_news](https://huggingface.co/datasets/ag_news) dataset which can be downloaded from the 🤗`hub`. We will load only the first 1000 items from the training sample."
   ]
  },
  {
   "cell_type": "code",
   "execution_count": null,
   "id": "8b01b473-a815-427c-986e-6c2bedf1b5d7",
   "metadata": {},
   "outputs": [],
   "source": [
    "ds = load_dataset(\"ag_news\", split=\"train[:1000]\")"
   ]
  },
  {
   "cell_type": "markdown",
   "id": "5b4eb4ff-9530-4542-9975-25d0f4f725c1",
   "metadata": {},
   "source": [
    "We will just load the first 1000 records for this tutorial, but feel free to test the full dataset."
   ]
  },
  {
   "cell_type": "markdown",
   "id": "6d2e7997-62c6-49b3-9462-acd6143346a1",
   "metadata": {},
   "source": [
    "This dataset contains a collection of news articles (we can see the content in the `text` column), which have been asigned one of the following classification `labels`: *World (0), Sports (1), Business (2), Sci/Tech (3)*.\n",
    "\n",
    "So in order to create our dataset we will add a single `field` with the name `text`, and a single question with the name `label`.\n",
    "Given that these texts can only pertain to a single category, we choose the `LabelQuestion`.\n",
    "You can visit the Argilla [cheatsheet](https://docs.argilla.io/en/latest/getting_started/cheatsheet.html#configure-datasets) for more information on the dataset:"
   ]
  },
  {
   "cell_type": "code",
   "execution_count": null,
   "id": "f4823931-39a2-4942-ba83-894d62e0b7cc",
   "metadata": {},
   "outputs": [],
   "source": [
    "feedback_dataset = rg.FeedbackDataset(\n",
    "    guidelines=\"This dataset contains a collection of news articles. Please label them on the category they belong.\",\n",
    "    fields=[\n",
    "        rg.TextField(name=\"text\", title=\"Text from the article\"),\n",
    "    ],\n",
    "    questions=[\n",
    "        rg.LabelQuestion(\n",
    "            name=\"label\",\n",
    "            title=\"In which category does this article fit?\",\n",
    "            labels={\"World\": \"0\", \"Sports\": \"1\", \"Business\": \"2\", \"Sci/Tech\": \"3\"},\n",
    "            required=True,\n",
    "            visible_labels=None\n",
    "        )\n",
    "    ]\n",
    ")"
   ]
  },
  {
   "cell_type": "code",
   "execution_count": 21,
   "id": "636dd2d0-0548-4084-94da-b1284a6c5acb",
   "metadata": {},
   "outputs": [
    {
     "data": {
      "text/plain": [
       "FeedbackDataset(\n",
       "    fields=[TextField(name='text', title='Text from the article', required=True, type='text', use_markdown=False)]\n",
       "    questions=[LabelQuestion(name='label', title='In which category does this article fit?', description=None, required=True, type='label_selection', labels={'World': '0', 'Sports': '1', 'Business': '2', 'Sci/Tech': '3'}, visible_labels=None)]\n",
       "    guidelines=This dataset contains a collection of news articles. Please label them on the category they belong.)\n",
       ")"
      ]
     },
     "execution_count": 21,
     "metadata": {},
     "output_type": "execute_result"
    }
   ],
   "source": [
    "feedback_dataset"
   ]
  },
  {
   "cell_type": "markdown",
   "id": "77ad10bc-d908-41ba-9a5c-c9cc9d56b67f",
   "metadata": {},
   "source": [
    "### Create a `FeedbackDataset` from a huggingface `dataset` <a class=\"anchor\" id=\"create-feedbackdataset-datasets\"></a>"
   ]
  },
  {
   "cell_type": "markdown",
   "id": "9c194d68-6a87-4bc0-9d4e-f2afdb0561d9",
   "metadata": {},
   "source": [
    "The next step once we have our `FeedbackDataset` created is adding the [`FeedbackRecords`](https://docs.argilla.io/en/latest/getting_started/cheatsheet.html#create-records) to it."
   ]
  },
  {
   "cell_type": "markdown",
   "id": "5110f19b-8bf2-4d48-8a1f-ffd89cfa20f5",
   "metadata": {},
   "source": [
    "In order to create our records we can just loop over the items in the `datasets.Dataset`."
   ]
  },
  {
   "cell_type": "code",
   "execution_count": null,
   "id": "825342c7-ef43-4747-8523-18f3e3fc6bd5",
   "metadata": {},
   "outputs": [],
   "source": [
    "records = []\n",
    "for i, item in enumerate(ds):\n",
    "    records.append(\n",
    "        rg.FeedbackRecord(\n",
    "            fields={\n",
    "                \"text\": item[\"text\"],\n",
    "            },\n",
    "            external_id=f\"record-{i}\"\n",
    "        )\n",
    "    )"
   ]
  },
  {
   "cell_type": "markdown",
   "id": "3eb1ae7a-01f9-439b-87ac-6d0064164c80",
   "metadata": {},
   "source": [
    "### Create a `FeedbackDataset` from a `pandas.DataFrame` <a class=\"anchor\" id=\"create-feedbackdataset-pandas\"></a>"
   ]
  },
  {
   "cell_type": "markdown",
   "id": "dba19b65-60d3-4507-aca6-1b4b9bc77d08",
   "metadata": {},
   "source": [
    "If we had our data in a different format, let's say a `csv` file, maybe it's more direct to read the data using pandas for that.\n",
    "\n",
    "We will transform our dataset to pandas format for this example, and the remaining `FeedbackRecord` creation remains just the same:"
   ]
  },
  {
   "cell_type": "code",
   "execution_count": null,
   "id": "82beb35b-264f-491a-a6be-bd53f40fb509",
   "metadata": {},
   "outputs": [],
   "source": [
    "df_dataset = ds.to_pandas()"
   ]
  },
  {
   "cell_type": "code",
   "execution_count": null,
   "id": "7c7b33af-297c-44ab-981c-b62cf1406843",
   "metadata": {},
   "outputs": [],
   "source": [
    "records_pandas = []\n",
    "for i, item in df_dataset.to_pandas().iterrows():\n",
    "    records_pandas.append(\n",
    "        rg.FeedbackRecord(\n",
    "            fields={\n",
    "                \"text\": item[\"text\"],\n",
    "            },\n",
    "            external_id=f\"record-{i}\"\n",
    "        )\n",
    "    )"
   ]
  },
  {
   "cell_type": "markdown",
   "id": "dd3f1c38-3b56-46e8-8cac-7b3d21beb38d",
   "metadata": {},
   "source": [
    "Let's add our records to the dataset:"
   ]
  },
  {
   "cell_type": "code",
   "execution_count": null,
   "id": "9bd0ec1c-1fcb-4d4f-a0a2-4f581a670e8b",
   "metadata": {},
   "outputs": [],
   "source": [
    "feedback_dataset.add_records(records)"
   ]
  },
  {
   "cell_type": "markdown",
   "id": "16fe9266-7a03-4be6-8789-b141854bcdda",
   "metadata": {},
   "source": [
    "By now we have our dataset with the texts ready to be labeled, let's push it to `Argilla`."
   ]
  },
  {
   "cell_type": "markdown",
   "id": "b867eb5b-0b5a-42b1-88f2-f5b67519243e",
   "metadata": {},
   "source": [
    "## Push our `FeedbackDataset` to `Argilla` <a class=\"anchor\" id=\"push-to-argilla\"></a>"
   ]
  },
  {
   "cell_type": "code",
   "execution_count": null,
   "id": "8f5581dc-8509-484e-ad4e-c73d15227cc9",
   "metadata": {},
   "outputs": [],
   "source": [
    "remote_dataset = feedback_dataset.push_to_argilla(name=\"end2end_textclassification\", workspace=\"admin\")"
   ]
  },
  {
   "cell_type": "markdown",
   "id": "aff0f7fd-722f-4f92-912d-029b134848f3",
   "metadata": {},
   "source": [
    "If we go to our `Argilla` instance we should see a similar screen like the following."
   ]
  },
  {
   "cell_type": "markdown",
   "id": "018062cb-2b2b-411f-b5b2-3429a8d09b1e",
   "metadata": {},
   "source": [
    "![argilla-dataset](../images/feedback-dataset-text-classification-1.png)"
   ]
  },
  {
   "cell_type": "markdown",
   "id": "e5f09e2a-e192-4526-a686-b4d516ca5066",
   "metadata": {},
   "source": [
    "Where we can see the *Text from the article* we wanted, and the different labels to choose from."
   ]
  },
  {
   "cell_type": "markdown",
   "id": "70a9c1e6-b89c-48e1-9b9f-dc865535ccc6",
   "metadata": {},
   "source": [
    "#### Download our dataset from `Argilla`"
   ]
  },
  {
   "cell_type": "markdown",
   "id": "fd877169-bd9a-4596-981d-47d2ff4c7c24",
   "metadata": {},
   "source": [
    "We can now download the dataset from `Argilla` just to check it:"
   ]
  },
  {
   "cell_type": "code",
   "execution_count": null,
   "id": "fbae2025-c4fe-4e0c-b445-9ee308baa4a5",
   "metadata": {},
   "outputs": [],
   "source": [
    "remote_dataset = rg.FeedbackDataset.from_argilla(\"end2end_textclassification\", workspace=\"admin\")"
   ]
  },
  {
   "cell_type": "markdown",
   "id": "1f16d868-a9df-4f01-85ac-06bfcee19101",
   "metadata": {},
   "source": [
    "## Push our `FeedbackDataset` to the 🤗`hub` <a class=\"anchor\" id=\"push-to-hf-hub\"></a>\n",
    "\n",
    "If we wanted to share our dataset with the world, we could use the Huggingface hub for it."
   ]
  },
  {
   "cell_type": "markdown",
   "id": "24aae42a-6b0f-40eb-9d92-4aafcb735844",
   "metadata": {},
   "source": [
    "First we need to login to huggingface. The following snippet will ask for our HF token.\n",
    "\n",
    "If we don't have one already, we can obtain it from [here](https://huggingface.co/docs/hub/security-tokens) (remember to set the *write* access)."
   ]
  },
  {
   "cell_type": "code",
   "execution_count": null,
   "id": "1fabcc89-323f-4f4f-9ab9-4b778dd93474",
   "metadata": {},
   "outputs": [],
   "source": [
    "from huggingface_hub import notebook_login\n",
    "\n",
    "notebook_login()"
   ]
  },
  {
   "cell_type": "markdown",
   "id": "694c381d-7f7d-4b2d-938a-20df260ec957",
   "metadata": {},
   "source": [
    "And now we can just call the method on the `FeedbackDataset`."
   ]
  },
  {
   "cell_type": "code",
   "execution_count": null,
   "id": "1c471559-916c-4bf8-b115-3d1ba0be621b",
   "metadata": {},
   "outputs": [],
   "source": [
    "remote_dataset.push_to_huggingface(\"argilla/end2end_textclassification\")"
   ]
  },
  {
   "cell_type": "markdown",
   "id": "408cb3c9-c784-45c8-b206-058a23b801d8",
   "metadata": {},
   "source": [
    "## Conclusion"
   ]
  },
  {
   "cell_type": "markdown",
   "id": "6cdb1244-1589-4e85-be36-e0c959817c6d",
   "metadata": {},
   "source": [
    "In this tutorial we created an `Argilla` `FeedbackDataset` for text classification, starting from [ag_news](https://huggingface.co/datasets/ag_news).\n",
    "\n",
    "We created a `FeedbackDataset` for text classification with a `LabelQuestion`, from data stored as a `datasets.Dataset` and a `pandas.DataFrame`.\n",
    "This dataset was pushed both to `Argilla` where we can curate and label the records, and finally pushed it to the 🤗`hub`.\n",
    "\n",
    "To learn more about how to work with the `FeedbackDataset` check the [cheatsheet](https://docs.argilla.io/en/latest/getting_started/cheatsheet.html#cheatsheet)."
   ]
  }
 ],
 "metadata": {
  "kernelspec": {
   "display_name": ".venv",
   "language": "python",
   "name": ".venv"
  },
  "language_info": {
   "codemirror_mode": {
    "name": "ipython",
    "version": 3
   },
   "file_extension": ".py",
   "mimetype": "text/x-python",
   "name": "python",
   "nbconvert_exporter": "python",
   "pygments_lexer": "ipython3",
   "version": "3.10.13"
  }
 },
 "nbformat": 4,
 "nbformat_minor": 5
}
