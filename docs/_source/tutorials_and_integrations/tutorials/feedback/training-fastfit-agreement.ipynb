{
 "cells": [
  {
   "cell_type": "markdown",
   "metadata": {},
   "source": [
    "# 🙌 Analyzing Annotation Metrics with FastFit Model Predictions"
   ]
  },
  {
   "cell_type": "markdown",
   "metadata": {},
   "source": [
    "In this tutorial, we will train an intent multi-class classifier using the [**FastFit**](https://github.com/IBM/fastfit) library for few-shot classification. Then, we will make some predictions and evaluate the model. Finally, we will simulate the annotation process with Argilla and calculate some of the most well-known annotation metrics.\n",
    "\n",
    "These are the steps we will follow:\n",
    "\n",
    "1. Prepare the dataset\n",
    "2. Train the model with FastFit\n",
    "3. Make predictions and add them to Argilla\n",
    "4. Evaluate the annotation performance\n",
    "   * Accuracy, precision, recall, F1 score with *argilla*\n",
    "   * Confusion matrix with *sklearn*, *seaborn* and *matplotlib*\n",
    "   * Krippendorff's alpha with *argilla*\n",
    "   * Cohen's kappa with *sklearn*\n",
    "   * Fleiss' kappa with *statsmodels*\n",
    "\n",
    "Let's get started! 🚀"
   ]
  },
  {
   "cell_type": "markdown",
   "metadata": {},
   "source": [
    "## Introduction\n",
    "\n",
    "[**FastFit**](https://github.com/IBM/fastfit) is a library that allows you to train a multi-class classifier with few-shot learning. It is based on the [**transformers**](https://huggingface.co/transformers/) library and uses a pre-trained model to fine-tune it on a small dataset. This is particularly useful when you have a small dataset and you want to train a model quickly. However, [**SetFit**](https://github.com/huggingface/setfit) is another well-know library that also allows few-shot learning with Sentence Transformers.\n",
    "\n",
    "So, why using one and not the other? Based on this [article](https://medium.com/@meetgandhi586/comparing-setfit-fastfit-and-semantic-router-finding-the-best-nlp-chatbot-intent-detection-d8161a7ad117), where the author compares FastFit, SetFit, and Semantic Router, we can determine some distinctions.\n",
    "\n",
    "| **Aspect**                | **FastFit**                                   | **SetFit**                                 |\n",
    "|---------------------------|-----------------------------------------------|--------------------------------------------|\n",
    "| **Accuracy**              | High, but may sacrifice accuracy for speed    | Consistently high                          |\n",
    "| **Training Speed**        | Fast                                          | Slow                                       |\n",
    "| **Inference Speed**       | Slow                                          | Fast                                       |\n",
    "| **Deployment**            | Easy, minimal expertise needed                | Requires knowledge of transformers         |\n",
    "| **Dataset Handling**      | Struggles with highly complex datasets        | Can be fine-tuned for various datasets     |\n",
    "| **Computational Costs**   | Lower                                         | Higher                                     |\n",
    "\n",
    "In this tutorial, we will focus on FastFit, but you can also try SetFit and compare the results. To know how to use SetFit, you can check this [tutorial](../../tutorials/feedback/labelling-feedback-setfit.ipynb)."
   ]
  },
  {
   "cell_type": "markdown",
   "metadata": {},
   "source": [
    "## Running Argilla"
   ]
  },
  {
   "cell_type": "markdown",
   "metadata": {},
   "source": [
    "For this tutorial, you will need to have an Argilla server running. There are two main options for deploying and running Argilla:\n",
    "\n",
    "\n",
    "**Deploy Argilla on Hugging Face Spaces**: If you want to run tutorials with external notebooks (e.g., Google Colab) and you have an account on Hugging Face, you can deploy Argilla on Spaces with a few clicks:\n",
    "\n",
    "[![deploy on spaces](https://huggingface.co/datasets/huggingface/badges/raw/main/deploy-to-spaces-lg.svg)](https://huggingface.co/login?next=%2Fnew-space%3Ftemplate%3Dargilla%2Fargilla-template-space)\n",
    "\n",
    "For details about configuring your deployment, check the [official Hugging Face Hub guide](https://huggingface.co/docs/hub/spaces-sdks-docker-argilla).\n",
    "\n",
    "\n",
    "**Launch Argilla using Argilla's quickstart Docker image**: This is the recommended option if you want [Argilla running on your local machine](../../getting_started/quickstart.html). Note that this option will only let you run the tutorial locally and not with an external notebook service.\n",
    "\n",
    "For more information on deployment options, please check the Deployment section of the documentation.\n",
    "\n",
    "<div class=\"alert alert-info\">\n",
    "\n",
    "Tip\n",
    "    \n",
    "This tutorial is a Jupyter Notebook. There are two options to run it:\n",
    "\n",
    "- Use the Open in Colab button at the top of this page. This option allows you to run the notebook directly on Google Colab. Don't forget to change the runtime type to GPU for faster model training and inference.\n",
    "- Download the .ipynb file by clicking on the View source link at the top of the page. This option allows you to download the notebook and run it on your local machine or a Jupyter Notebook tool of your choice.\n",
    "</div>"
   ]
  },
  {
   "cell_type": "markdown",
   "metadata": {},
   "source": [
    "## Set up the Environment\n",
    "\n",
    "To complete this tutorial, you will need to install the Argilla client and a few third-party libraries using `pip`:"
   ]
  },
  {
   "cell_type": "code",
   "execution_count": null,
   "metadata": {},
   "outputs": [],
   "source": [
    "!pip install argilla fast-fit datasets\n",
    "!pip install nltk statsmodels seaborn matplotlib "
   ]
  },
  {
   "cell_type": "markdown",
   "metadata": {},
   "source": [
    "Let's make the needed imports:"
   ]
  },
  {
   "cell_type": "code",
   "execution_count": null,
   "metadata": {},
   "outputs": [],
   "source": [
    "import random\n",
    "\n",
    "import matplotlib.pyplot as plt\n",
    "import numpy as np\n",
    "import seaborn as sns\n",
    "from sklearn.metrics import cohen_kappa_score, confusion_matrix\n",
    "from statsmodels.stats.inter_rater import fleiss_kappa\n",
    "\n",
    "from datasets import Dataset, DatasetDict, load_dataset\n",
    "from transformers import AutoTokenizer, pipeline\n",
    "\n",
    "import argilla as rg\n",
    "from argilla.client.feedback.metrics import ModelMetric, AgreementMetric\n",
    "\n",
    "from fastfit import FastFit, FastFitTrainer, sample_dataset"
   ]
  },
  {
   "cell_type": "markdown",
   "metadata": {},
   "source": [
    "If you are running Argilla using the Docker quickstart image or a public Hugging Face Spaces, you need to init the Argilla client with the `URL` and `API_KEY`:"
   ]
  },
  {
   "cell_type": "code",
   "execution_count": null,
   "metadata": {},
   "outputs": [],
   "source": [
    "# Replace api_url with the url to your HF Spaces URL if using Spaces\n",
    "# Replace api_key if you configured a custom API key\n",
    "# Replace workspace with the name of your workspace\n",
    "rg.init(\n",
    "    api_url=\"http://localhost:6900\", \n",
    "    api_key=\"owner.apikey\",\n",
    "    workspace=\"admin\"\n",
    ")"
   ]
  },
  {
   "cell_type": "markdown",
   "metadata": {},
   "source": [
    "If you're running a private Hugging Face Space, you will also need to set the [HF_TOKEN](https://huggingface.co/settings/tokens) as follows:"
   ]
  },
  {
   "cell_type": "code",
   "execution_count": null,
   "metadata": {},
   "outputs": [],
   "source": [
    "# # Set the HF_TOKEN environment variable\n",
    "# import os\n",
    "# os.environ['HF_TOKEN'] = \"your-hf-token\"\n",
    "\n",
    "# # Replace api_url with the url to your HF Spaces URL\n",
    "# # Replace api_key if you configured a custom API key\n",
    "# rg.init(\n",
    "#     api_url=\"https://[your-owner-name]-[your_space_name].hf.space\", \n",
    "#     api_key=\"admin.apikey\",\n",
    "#     extra_headers={\"Authorization\": f\"Bearer {os.environ['HF_TOKEN']}\"},\n",
    "# )"
   ]
  },
  {
   "cell_type": "markdown",
   "metadata": {},
   "source": [
    "### Enable Telemetry\n",
    "\n",
    "We gain valuable insights from how you interact with our tutorials. To improve ourselves in offering you the most suitable content, using the following lines of code will help us understand that this tutorial is serving you effectively. Though this is entirely anonymous, you can choose to skip this step if you prefer. For more info, please check out the [Telemetry](../../reference/telemetry.md) page."
   ]
  },
  {
   "cell_type": "code",
   "execution_count": null,
   "metadata": {},
   "outputs": [],
   "source": [
    "try:\n",
    "    from argilla.utils.telemetry import tutorial_running\n",
    "    tutorial_running()\n",
    "except ImportError:\n",
    "    print(\"Telemetry is introduced in Argilla 1.20.0 and not found in the current installation. Skipping telemetry.\")"
   ]
  },
  {
   "cell_type": "markdown",
   "metadata": {},
   "source": [
    "## Preparing the Dataset"
   ]
  },
  {
   "cell_type": "markdown",
   "metadata": {},
   "source": [
    "First, we will prepare the dataset to train the intent classifier, which is responsible for accurately labeling natural language utterances with predefined intents. [FastFit](https://github.com/IBM/fastfit) is particularly effective for few-shot, multi-class classification, especially in scenarios with many semantically similar classes. Therefore, we have chosen to use the [contemmcm/clinc150](https://huggingface.co/datasets/contemmcm/clinc150) dataset from Hugging Face. This dataset includes 151 intent classes, making it well-suited for our needs."
   ]
  },
  {
   "cell_type": "code",
   "execution_count": 55,
   "metadata": {},
   "outputs": [
    {
     "data": {
      "text/plain": [
       "Dataset({\n",
       "    features: ['text', 'domain', 'intent', 'split'],\n",
       "    num_rows: 23700\n",
       "})"
      ]
     },
     "execution_count": 55,
     "metadata": {},
     "output_type": "execute_result"
    }
   ],
   "source": [
    "# Load the dataset\n",
    "hf_dataset = load_dataset(\"contemmcm/clinc150\", split=\"complete\")\n",
    "hf_dataset"
   ]
  },
  {
   "cell_type": "code",
   "execution_count": 56,
   "metadata": {},
   "outputs": [
    {
     "data": {
      "text/plain": [
       "151"
      ]
     },
     "execution_count": 56,
     "metadata": {},
     "output_type": "execute_result"
    }
   ],
   "source": [
    "# Get the 151 classes and prepare the conversion dictionaries\n",
    "labels = [label for label in hf_dataset.features[\"intent\"].names if label]\n",
    "label2id = {label:id for id, label in enumerate(labels)}\n",
    "id2label = {id:label for label, id in label2id.items()}\n",
    "len(labels)"
   ]
  },
  {
   "cell_type": "markdown",
   "metadata": {},
   "source": [
    "The dataset doesn't come with predefined partitions, so we will split it based on the `split` column, selecting only the `train`, `validation`, and `test` splits. We will retain only the `text` and `intent` columns, converting the intent IDs to labels."
   ]
  },
  {
   "cell_type": "code",
   "execution_count": 57,
   "metadata": {},
   "outputs": [],
   "source": [
    "# Save the needed data\n",
    "splits = ['train', 'val', 'test']\n",
    "\n",
    "data = {split: {'text': [], 'intent': []} for split in splits}\n",
    "\n",
    "for split in splits:\n",
    "    for entry in hf_dataset:\n",
    "        if entry['split'] == split:\n",
    "            data[split]['text'].append(entry['text'])\n",
    "            data[split]['intent'].append(id2label[entry['intent']])\n",
    "\n",
    "# Create the dataset\n",
    "dataset = DatasetDict({split: Dataset.from_dict(data[split]) for split in data})"
   ]
  },
  {
   "cell_type": "markdown",
   "metadata": {},
   "source": [
    "Since this is few-shot learning, we don't need to use all the examples in the training set. Therefore, we will utilize the `sample_dataset` method from FastFit to select 10 examples per class (since FastFit is faster to train, we can afford to include more samples without worrying about significantly increased training times). Additionally, we will rename the `val` split to `validation` to comply with FastFit requirements."
   ]
  },
  {
   "cell_type": "code",
   "execution_count": 60,
   "metadata": {},
   "outputs": [
    {
     "data": {
      "text/plain": [
       "DatasetDict({\n",
       "    train: Dataset({\n",
       "        features: ['text', 'intent'],\n",
       "        num_rows: 1500\n",
       "    })\n",
       "    test: Dataset({\n",
       "        features: ['text', 'intent'],\n",
       "        num_rows: 4500\n",
       "    })\n",
       "    validation: Dataset({\n",
       "        features: ['text', 'intent'],\n",
       "        num_rows: 3000\n",
       "    })\n",
       "})"
      ]
     },
     "execution_count": 60,
     "metadata": {},
     "output_type": "execute_result"
    }
   ],
   "source": [
    "# Sample the dataset\n",
    "dataset[\"train\"] = sample_dataset(dataset[\"train\"], label_column=\"intent\", num_samples_per_label=5)\n",
    "\n",
    "# Rename the validation split\n",
    "dataset['validation'] = dataset.pop('val')\n",
    "\n",
    "dataset"
   ]
  },
  {
   "cell_type": "markdown",
   "metadata": {},
   "source": [
    "## Training with FastFit"
   ]
  },
  {
   "cell_type": "markdown",
   "metadata": {},
   "source": [
    "As we mentioned, [FastFit](https://github.com/IBM/fastfit) is a library for few-shot learning that can be used to train a model with a few examples per class. In addition, they created the [FewMany benchmark](https://arxiv.org/html/2404.12365v1) for multi-class classification."
   ]
  },
  {
   "cell_type": "markdown",
   "metadata": {},
   "source": [
    "In this case, we have chosen to use the [sentence-transformers/paraphrase-mpnet-base-v2](https://huggingface.co/sentence-transformers/paraphrase-mpnet-base-v2) model to train the intent classifier due to its size and performance. However, you can explore other models available on Hugging Face and find the most appropriate one by consulting the [MTEB leaderboard](https://huggingface.co/spaces/mteb/leaderboard). Most of the arguments set in the `FastFitTrainer` are the default values, but you can change them according to your needs."
   ]
  },
  {
   "cell_type": "code",
   "execution_count": null,
   "metadata": {},
   "outputs": [],
   "source": [
    "# Initialize the FastFitTrainer\n",
    "trainer = FastFitTrainer(\n",
    "    model_name_or_path=\"sentence-transformers/paraphrase-mpnet-base-v2\",\n",
    "    label_column_name=\"intent\",\n",
    "    text_column_name=\"text\",\n",
    "    num_train_epochs=25,\n",
    "    per_device_train_batch_size=32,\n",
    "    per_device_eval_batch_size=64,\n",
    "    max_text_length=128,\n",
    "    dataloader_drop_last=False,\n",
    "    num_repeats=4,\n",
    "    optim=\"adafactor\",\n",
    "    clf_loss_factor=0.1,\n",
    "    fp16=True,\n",
    "    dataset=dataset,\n",
    ")"
   ]
  },
  {
   "cell_type": "code",
   "execution_count": 232,
   "metadata": {},
   "outputs": [
    {
     "data": {
      "text/html": [
       "\n",
       "    <div>\n",
       "      \n",
       "      <progress value='1175' max='1175' style='width:300px; height:20px; vertical-align: middle;'></progress>\n",
       "      [1175/1175 02:58, Epoch 25/25]\n",
       "    </div>\n",
       "    <table border=\"1\" class=\"dataframe\">\n",
       "  <thead>\n",
       " <tr style=\"text-align: left;\">\n",
       "      <th>Step</th>\n",
       "      <th>Training Loss</th>\n",
       "    </tr>\n",
       "  </thead>\n",
       "  <tbody>\n",
       "    <tr>\n",
       "      <td>500</td>\n",
       "      <td>2.676200</td>\n",
       "    </tr>\n",
       "    <tr>\n",
       "      <td>1000</td>\n",
       "      <td>2.590300</td>\n",
       "    </tr>\n",
       "  </tbody>\n",
       "</table><p>"
      ],
      "text/plain": [
       "<IPython.core.display.HTML object>"
      ]
     },
     "metadata": {},
     "output_type": "display_data"
    },
    {
     "name": "stdout",
     "output_type": "stream",
     "text": [
      "***** train metrics *****\n",
      "  epoch                    =       25.0\n",
      "  total_flos               =        0GF\n",
      "  train_loss               =     2.6261\n",
      "  train_runtime            = 0:02:59.32\n",
      "  train_samples            =       1500\n",
      "  train_samples_per_second =    209.121\n",
      "  train_steps_per_second   =      6.552\n"
     ]
    }
   ],
   "source": [
    "# Train the model\n",
    "model = trainer.train()"
   ]
  },
  {
   "cell_type": "markdown",
   "metadata": {},
   "source": [
    "As we can see, the training time took only 3 minutes, which is quite quick. Now, let’s evaluate the model to check its accuracy. After evaluation, we will save the model to disk for the inference step."
   ]
  },
  {
   "cell_type": "code",
   "execution_count": 234,
   "metadata": {},
   "outputs": [
    {
     "data": {
      "text/html": [
       "\n",
       "    <div>\n",
       "      \n",
       "      <progress value='47' max='47' style='width:300px; height:20px; vertical-align: middle;'></progress>\n",
       "      [47/47 00:03]\n",
       "    </div>\n",
       "    "
      ],
      "text/plain": [
       "<IPython.core.display.HTML object>"
      ]
     },
     "metadata": {},
     "output_type": "display_data"
    },
    {
     "name": "stdout",
     "output_type": "stream",
     "text": [
      "***** eval metrics *****\n",
      "  epoch                   =       25.0\n",
      "  eval_accuracy           =      0.947\n",
      "  eval_loss               =     2.9615\n",
      "  eval_runtime            = 0:00:04.30\n",
      "  eval_samples            =       3000\n",
      "  eval_samples_per_second =    697.334\n",
      "  eval_steps_per_second   =     10.925\n"
     ]
    }
   ],
   "source": [
    "# Evaluate the model\n",
    "results = trainer.evaluate()"
   ]
  },
  {
   "cell_type": "code",
   "execution_count": 236,
   "metadata": {},
   "outputs": [],
   "source": [
    "# Save the model\n",
    "model.save_pretrained(\"intent_fastfit_model\")"
   ]
  },
  {
   "cell_type": "markdown",
   "metadata": {},
   "source": [
    "## Inferring with our Model"
   ]
  },
  {
   "cell_type": "markdown",
   "metadata": {},
   "source": [
    "As we have seen, looks like we have a model ready to make predictions. Let's load the model and the tokenizer."
   ]
  },
  {
   "cell_type": "code",
   "execution_count": 52,
   "metadata": {},
   "outputs": [],
   "source": [
    "# Load the model and tokenizer\n",
    "model = FastFit.from_pretrained(\"intent_fastfit_model\")\n",
    "tokenizer = AutoTokenizer.from_pretrained(\"sentence-transformers/paraphrase-mpnet-base-v2\")"
   ]
  },
  {
   "cell_type": "markdown",
   "metadata": {},
   "source": [
    "Next, we will prepare our pipeline.\n",
    "\n",
    "> An error warning is raised when initializing the pipeline: `The model 'FastFit' is not supported for text-classification`. However, the classifier will work properly.\n",
    "\n",
    "> If you have changed the base model, you may encounter a `token_type_ids` error. You can solve it as noted [here](https://github.com/IBM/fastfit/issues/6).\n",
    "\n",
    "We will set `top_k=1` to get the most likely class for each prediction. If you want to get all the predicted classes, set it to `None`."
   ]
  },
  {
   "cell_type": "code",
   "execution_count": null,
   "metadata": {},
   "outputs": [],
   "source": [
    "# Define the pipeline\n",
    "classifier = pipeline(\"text-classification\", model=model, tokenizer=tokenizer, top_k=1)"
   ]
  },
  {
   "cell_type": "markdown",
   "metadata": {},
   "source": [
    "So, let's make some predictions! For the purpose of this tutorial, we will use the validation split and only the first 100 samples. As observed during our initial run, making predictions took over a minute. Therefore, as noted in the introduction, if we needed to make more predictions, it would be slow."
   ]
  },
  {
   "cell_type": "code",
   "execution_count": 61,
   "metadata": {},
   "outputs": [],
   "source": [
    "# Make predictions\n",
    "predictions = [\n",
    "    {\n",
    "        \"text\": sample[\"text\"],\n",
    "        \"true_intent\": sample[\"intent\"],\n",
    "        \"predicted_intent\": classifier(sample[\"text\"])\n",
    "    }\n",
    "    for sample in dataset['validation'].to_list()[:100]\n",
    "]"
   ]
  },
  {
   "cell_type": "code",
   "execution_count": 62,
   "metadata": {},
   "outputs": [
    {
     "name": "stdout",
     "output_type": "stream",
     "text": [
      "{'text': \"what's the weather today\", 'true_intent': 'utility:weather', 'predicted_intent': [[{'label': 'utility:weather', 'score': 0.8783325552940369}]]}\n",
      "{'text': 'what are the steps required for making a vacation request', 'true_intent': 'work:pto_request', 'predicted_intent': [[{'label': 'work:pto_request', 'score': 0.9850018620491028}]]}\n",
      "{'text': 'help me set a timer please', 'true_intent': 'utility:timer', 'predicted_intent': [[{'label': 'utility:timer', 'score': 0.8667100071907043}]]}\n",
      "{'text': 'what is the mpg for this car', 'true_intent': 'auto_and_commute:mpg', 'predicted_intent': [[{'label': 'auto_and_commute:mpg', 'score': 0.9732610583305359}]]}\n",
      "{'text': 'was my last transaction at walmart', 'true_intent': 'banking:transactions', 'predicted_intent': [[{'label': 'banking:transactions', 'score': 0.9001362919807434}]]}\n"
     ]
    }
   ],
   "source": [
    "for p in predictions[:5]:\n",
    "    print(p)"
   ]
  },
  {
   "cell_type": "markdown",
   "metadata": {},
   "source": [
    "## Annotate with Argilla"
   ]
  },
  {
   "cell_type": "markdown",
   "metadata": {},
   "source": [
    "We will simulate the annotation process using Argilla. First, we need to create a dataset. We will use a predefined Task Template for text classification, specifying only the labels to be annotated.\n",
    "\n",
    "> For a more detailed explanation of the Task Template or customize a dataset, check the [Argilla documentation](../../../practical_guides/create_update_dataset/create_dataset.html)."
   ]
  },
  {
   "cell_type": "code",
   "execution_count": 25,
   "metadata": {},
   "outputs": [
    {
     "data": {
      "text/plain": [
       "FeedbackDataset(\n",
       "   fields=[TextField(name='text', title='Text', required=True, type='text', use_markdown=False)]\n",
       "   questions=[LabelQuestion(name='label', title='Label', description='Classify the text by selecting the correct label from the given list of labels.', required=True, type='label_selection', labels=['oos:oos', 'banking:freeze_account', 'banking:routing', 'banking:pin_change', 'banking:bill_due', 'banking:pay_bill', 'banking:account_blocked', 'banking:interest_rate', 'banking:min_payment', 'banking:bill_balance', 'banking:transfer', 'banking:order_checks', 'banking:balance', 'banking:spending_history', 'banking:transactions', 'banking:report_fraud', 'credit_cards:replacement_card_duration', 'credit_cards:expiration_date', 'credit_cards:damaged_card', 'credit_cards:improve_credit_score', 'credit_cards:report_lost_card', 'credit_cards:card_declined', 'credit_cards:credit_limit_change', 'credit_cards:apr', 'credit_cards:redeem_rewards', 'credit_cards:credit_limit', 'credit_cards:rewards_balance', 'credit_cards:application_status', 'credit_cards:credit_score', 'credit_cards:new_card', 'credit_cards:international_fees', 'kitchen_and_dining:food_last', 'kitchen_and_dining:confirm_reservation', 'kitchen_and_dining:how_busy', 'kitchen_and_dining:ingredients_list', 'kitchen_and_dining:calories', 'kitchen_and_dining:nutrition_info', 'kitchen_and_dining:recipe', 'kitchen_and_dining:restaurant_reviews', 'kitchen_and_dining:restaurant_reservation', 'kitchen_and_dining:meal_suggestion', 'kitchen_and_dining:restaurant_suggestion', 'kitchen_and_dining:cancel_reservation', 'kitchen_and_dining:ingredient_substitution', 'kitchen_and_dining:cook_time', 'kitchen_and_dining:accept_reservations', 'home:what_song', 'home:play_music', 'home:todo_list_update', 'home:reminder', 'home:reminder_update', 'home:calendar_update', 'home:order_status', 'home:update_playlist', 'home:shopping_list', 'home:calendar', 'home:next_song', 'home:order', 'home:todo_list', 'home:shopping_list_update', 'home:smart_home', 'auto_and_commute:current_location', 'auto_and_commute:oil_change_when', 'auto_and_commute:oil_change_how', 'auto_and_commute:uber', 'auto_and_commute:traffic', 'auto_and_commute:tire_pressure', 'auto_and_commute:schedule_maintenance', 'auto_and_commute:gas', 'auto_and_commute:mpg', 'auto_and_commute:distance', 'auto_and_commute:directions', 'auto_and_commute:last_maintenance', 'auto_and_commute:gas_type', 'auto_and_commute:tire_change', 'auto_and_commute:jump_start', 'travel:plug_type', 'travel:travel_notification', 'travel:translate', 'travel:flight_status', 'travel:international_visa', 'travel:timezone', 'travel:exchange_rate', 'travel:travel_suggestion', 'travel:travel_alert', 'travel:vaccines', 'travel:lost_luggage', 'travel:book_flight', 'travel:book_hotel', 'travel:carry_on', 'travel:car_rental', 'utility:weather', 'utility:alarm', 'utility:date', 'utility:find_phone', 'utility:share_location', 'utility:timer', 'utility:make_call', 'utility:calculator', 'utility:definition', 'utility:measurement_conversion', 'utility:flip_coin', 'utility:spelling', 'utility:time', 'utility:roll_dice', 'utility:text', 'work:pto_request_status', 'work:next_holiday', 'work:insurance_change', 'work:insurance', 'work:meeting_schedule', 'work:payday', 'work:taxes', 'work:income', 'work:rollover_401k', 'work:pto_balance', 'work:pto_request', 'work:w2', 'work:schedule_meeting', 'work:direct_deposit', 'work:pto_used', 'small_talk:who_made_you', 'small_talk:meaning_of_life', 'small_talk:who_do_you_work_for', 'small_talk:do_you_have_pets', 'small_talk:what_are_your_hobbies', 'small_talk:fun_fact', 'small_talk:what_is_your_name', 'small_talk:where_are_you_from', 'small_talk:goodbye', 'small_talk:thank_you', 'small_talk:greeting', 'small_talk:tell_joke', 'small_talk:are_you_a_bot', 'small_talk:how_old_are_you', 'small_talk:what_can_i_ask_you', 'meta:change_speed', 'meta:user_name', 'meta:whisper_mode', 'meta:yes', 'meta:change_volume', 'meta:no', 'meta:change_language', 'meta:repeat', 'meta:change_accent', 'meta:cancel', 'meta:sync_device', 'meta:change_user_name', 'meta:change_ai_name', 'meta:reset_settings', 'meta:maybe'], visible_labels=20)]\n",
       "   guidelines=This is a text classification dataset that contains texts and labels. Given a set of texts and a predefined set of labels, the goal of text classification is to assign one label to each text based on its content. Please classify the texts by making the correct selection.)\n",
       "   metadata_properties=[])\n",
       "   vectors_settings=[])\n",
       ")"
      ]
     },
     "execution_count": 25,
     "metadata": {},
     "output_type": "execute_result"
    }
   ],
   "source": [
    "# Define the feedback dataset\n",
    "dataset = rg.FeedbackDataset.for_text_classification(\n",
    "    labels=labels,\n",
    ")\n",
    "dataset"
   ]
  },
  {
   "cell_type": "markdown",
   "metadata": {},
   "source": [
    "The standard annotation process involves adding records to the dataset with the text to be annotated and the predicted labels along with their scores as suggestions to assist the annotators. However, for this tutorial and to simulate the annotation process, we will also add responses. Specifically, we will add three responses for each record: one with the correct label, one with a random label (either the correct one or a different one), and one with the predicted label.\n",
    "\n",
    "> To know how to create a user, check the [Argilla documentation](../../../getting_started/installation/configurations/user_management.md)."
   ]
  },
  {
   "cell_type": "code",
   "execution_count": 26,
   "metadata": {},
   "outputs": [],
   "source": [
    "# Get the list of users\n",
    "users = rg.User.list()\n",
    "\n",
    "# Define the feedback records\n",
    "records = [\n",
    "    rg.FeedbackRecord(\n",
    "        fields={\n",
    "            \"text\": sample[\"text\"],\n",
    "        },\n",
    "        suggestions=[\n",
    "            {\n",
    "                \"question_name\": \"label\",\n",
    "                \"value\": sample[\"predicted_intent\"][\"label\"],\n",
    "                \"score\": round(sample[\"predicted_intent\"][\"score\"], 2),\n",
    "            }\n",
    "        ],\n",
    "        responses=[\n",
    "            {\n",
    "                \"values\": {\n",
    "                    \"label\": {\n",
    "                        \"value\": sample[\"true_intent\"],\n",
    "                    }\n",
    "                },\n",
    "                \"user_id\": users[0].id\n",
    "            },\n",
    "            {\n",
    "                \"values\": {\n",
    "                        \"label\": {\n",
    "                            \"value\": random.choice([sample[\"true_intent\"], labels[0]]),\n",
    "                        }\n",
    "                },\n",
    "                \"user_id\": users[1].id\n",
    "            },\n",
    "            {\n",
    "                \"values\": {\n",
    "                        \"label\": {\n",
    "                            \"value\": sample[\"predicted_intent\"][\"label\"],\n",
    "                        }\n",
    "                },\n",
    "                \"user_id\": users[2].id\n",
    "            }\n",
    "        ]\n",
    "    ) for sample in predictions\n",
    "]\n",
    "dataset.add_records(records)"
   ]
  },
  {
   "cell_type": "markdown",
   "metadata": {},
   "source": [
    "We can push the dataset to Argilla to be visualized in the UI."
   ]
  },
  {
   "cell_type": "code",
   "execution_count": null,
   "metadata": {},
   "outputs": [],
   "source": [
    "dataset.push_to_argilla(name=\"intent_feedback_dataset\", workspace=\"admin\")"
   ]
  },
  {
   "attachments": {
    "argilla-ui-fastfit.png": {
     "image/png": "[encoded data removed]"
    }
   },
   "cell_type": "markdown",
   "metadata": {},
   "source": [
    "![argilla-ui-fastfit.png](attachment:argilla-ui-fastfit.png)"
   ]
  },
  {
   "cell_type": "markdown",
   "metadata": {},
   "source": [
    "## Analyzing the Annotation Performance"
   ]
  },
  {
   "cell_type": "markdown",
   "metadata": {},
   "source": [
    "Once our dataset is annotated, we can analyze the annotation performance in different ways. First, we will need to retrieve the annotated dataset and save the needed information to calculate the metrics."
   ]
  },
  {
   "cell_type": "code",
   "execution_count": 40,
   "metadata": {},
   "outputs": [],
   "source": [
    "# Retrieve the annotated dataset\n",
    "feedback_dataset = rg.FeedbackDataset.from_argilla(name=\"intent_feedback_dataset\", workspace=\"admin\")"
   ]
  },
  {
   "cell_type": "code",
   "execution_count": null,
   "metadata": {},
   "outputs": [],
   "source": [
    "# Save the list of responses by annotator\n",
    "responses_by_annotator = {}\n",
    "for record in feedback_dataset.records:\n",
    "    if record.responses:\n",
    "        submitted_responses = [response for response in record.responses if response.status == \"submitted\"]\n",
    "        for response in submitted_responses:\n",
    "            print(response)\n",
    "            annotator_id = str(response.user_id)\n",
    "            if annotator_id not in responses_by_annotator:\n",
    "                responses_by_annotator[annotator_id] = []\n",
    "            responses_by_annotator[annotator_id].append(response.values[\"label\"].value)"
   ]
  },
  {
   "cell_type": "code",
   "execution_count": null,
   "metadata": {},
   "outputs": [],
   "source": [
    "# You can check the responses directly using the id of the annotator\n",
    "responses_by_annotator[str(users[0].id)]\n",
    "\n",
    "# or the name of the annotator\n",
    "responses_by_annotator[str(rg.User.from_name(\"argilla\").id)]"
   ]
  },
  {
   "cell_type": "markdown",
   "metadata": {},
   "source": [
    "### Accuracy, Precision, Recall, and F1 Score"
   ]
  },
  {
   "cell_type": "markdown",
   "metadata": {},
   "source": [
    "Argilla allows you to calculate the accuracy, precision, recall, and F1 score for the annotated dataset. It will compare the suggested labels with the annotated ones and calculate the metrics for each record and the dataset as a whole.\n",
    "\n",
    "> For more information on the metrics, check the [Argilla documentation](../../../practical_guides/collect_responses.md)."
   ]
  },
  {
   "cell_type": "code",
   "execution_count": null,
   "metadata": {},
   "outputs": [],
   "source": [
    "# List of metrics to compute\n",
    "metrics = [\"accuracy\", \"precision\", \"recall\", \"f1-score\"]\n",
    "\n",
    "# Initialize the ModelMetric object\n",
    "metric = ModelMetric(dataset=feedback_dataset, question_name=\"label\")\n",
    "\n",
    "# Save the metrics per annotator\n",
    "annotator_metrics = {}\n",
    "for metric_name in metrics:\n",
    "    annotator_metrics[metric_name] = metric.compute(metric_name)"
   ]
  },
  {
   "cell_type": "markdown",
   "metadata": {},
   "source": [
    "This setup allows us to observe an annotator with perfect accuracy and another with mid-level performance. Given that the suggestions are predictions and their reliability is uncertain, this simulation helps us assess if an annotator has been influenced by the suggestions or if they are accurately annotating independently. This way, we can better understand the impact of suggestions on annotation quality."
   ]
  },
  {
   "cell_type": "code",
   "execution_count": 43,
   "metadata": {},
   "outputs": [
    {
     "data": {
      "text/plain": [
       "{'e106d194-10b6-4608-a2e9-aea40cfd90d0': [ModelMetricResult(metric_name='accuracy', count=100, result=0.92)],\n",
       " '0bcc381d-0c77-4ef8-8de0-83417fd5a80b': [ModelMetricResult(metric_name='accuracy', count=100, result=0.45)],\n",
       " '13f90c69-1cb8-42c2-a861-491f25878ff3': [ModelMetricResult(metric_name='accuracy', count=100, result=1.0)]}"
      ]
     },
     "execution_count": 43,
     "metadata": {},
     "output_type": "execute_result"
    }
   ],
   "source": [
    "annotator_metrics[\"accuracy\"]"
   ]
  },
  {
   "cell_type": "markdown",
   "metadata": {},
   "source": [
    "### Confusion Matrix"
   ]
  },
  {
   "cell_type": "markdown",
   "metadata": {},
   "source": [
    "A useful tool for understanding the annotation performance is visualizing the confusion matrix. It shows the number of correct and incorrect annotations for each class, allowing us to identify which classes are more challenging for the annotators. You can calculate it using **sklearn**'s `confusion_matrix` function and plot it with **seaborn** and **matplotlib**."
   ]
  },
  {
   "cell_type": "code",
   "execution_count": null,
   "metadata": {},
   "outputs": [],
   "source": [
    "# Compute the confusion matrix for one annotator\n",
    "true_labels = responses_by_annotator[str(users[1].id)]\n",
    "predicted_labels = [sample[\"predicted_intent\"][\"label\"] for sample in predictions]\n",
    "\n",
    "confusion_matrix = confusion_matrix(true_labels, predicted_labels)"
   ]
  },
  {
   "cell_type": "code",
   "execution_count": null,
   "metadata": {},
   "outputs": [
    {
     "data": {
      "image/png": "[encoded data removed]",
      "text/plain": [
       "<Figure size 700x500 with 2 Axes>"
      ]
     },
     "metadata": {},
     "output_type": "display_data"
    }
   ],
   "source": [
    "# Create a heatmap with seaborn and matplotlib\n",
    "plt.figure(figsize=(7, 5))\n",
    "sns.heatmap(confusion_matrix, annot=False, fmt='d', cmap='Blues')\n",
    "plt.xlabel('Predicted')\n",
    "plt.ylabel('True')\n",
    "plt.title('Confusion Matrix')\n",
    "plt.show()\n",
    "\n",
    "# plt.savefig('confusion_matrix.png', dpi=300) # save the image"
   ]
  },
  {
   "cell_type": "markdown",
   "metadata": {},
   "source": [
    "### Krippendorff's Alpha"
   ]
  },
  {
   "cell_type": "markdown",
   "metadata": {},
   "source": [
    "For inter-annotator agreement, Argilla allows you to calculate Krippendorff's alpha. This metric is widely used in the annotation field to measure the agreement between two or more annotators and is considered one of the most reliable. It ranges from 0 to 1, where 0 indicates no agreement and 1 perfect agreement.\n",
    "\n",
    "> For more information on the metric, check the [Argilla documentation](../../../practical_guides/collect_responses.md)."
   ]
  },
  {
   "cell_type": "code",
   "execution_count": null,
   "metadata": {},
   "outputs": [],
   "source": [
    "# Compute Krippendorff's Alpha\n",
    "metric = AgreementMetric(dataset=feedback_dataset, question_name=\"label\")\n",
    "agreement_metric = metric.compute(\"alpha\")"
   ]
  },
  {
   "cell_type": "markdown",
   "metadata": {},
   "source": [
    "We see a medium level of agreement between the annotators, which is expected given the responses we provided."
   ]
  },
  {
   "cell_type": "code",
   "execution_count": 3,
   "metadata": {},
   "outputs": [
    {
     "data": {
      "text/plain": [
       "AgreementMetricResult(metric_name='alpha', count=300, result=0.6131595970797523)"
      ]
     },
     "execution_count": 3,
     "metadata": {},
     "output_type": "execute_result"
    }
   ],
   "source": [
    "agreement_metric"
   ]
  },
  {
   "cell_type": "markdown",
   "metadata": {},
   "source": [
    "### Cohen's Kappa"
   ]
  },
  {
   "cell_type": "markdown",
   "metadata": {},
   "source": [
    "Coher's kappa is another metric used to measure the agreement but only between two annotators labeling the same data. It takes into account the possibility of agreement occurring by chance. It ranges from -1 to 1, where 1 indicates perfect agreement, 0 is no agreement, and -1 is complete disagreement. We can calculate it using **sklearn**'s `cohen_kappa_score` function."
   ]
  },
  {
   "cell_type": "code",
   "execution_count": 49,
   "metadata": {},
   "outputs": [],
   "source": [
    "# Compute Cohen's Kappa for each pair of annotators\n",
    "annotator1_2 = cohen_kappa_score(responses_by_annotator[str(users[0].id)], responses_by_annotator[str(users[1].id)])\n",
    "annotator2_3 = cohen_kappa_score(responses_by_annotator[str(users[1].id)], responses_by_annotator[str(users[2].id)])\n",
    "annotator1_3 = cohen_kappa_score(responses_by_annotator[str(users[0].id)], responses_by_annotator[str(users[2].id)])"
   ]
  },
  {
   "cell_type": "code",
   "execution_count": 51,
   "metadata": {},
   "outputs": [
    {
     "name": "stdout",
     "output_type": "stream",
     "text": [
      "Cohen's Kappa between annotator 1 and 2: 0.5059985885673959\n",
      "Cohen's Kappa between annotator 2 and 3: 0.44567627494456763\n",
      "Cohen's Kappa between annotator 1 and 3: 0.9187074484300376\n"
     ]
    }
   ],
   "source": [
    "print(f\"Cohen's Kappa between annotator 1 and 2: {annotator1_2}\")\n",
    "print(f\"Cohen's Kappa between annotator 2 and 3: {annotator2_3}\")\n",
    "print(f\"Cohen's Kappa between annotator 1 and 3: {annotator1_3}\")"
   ]
  },
  {
   "cell_type": "markdown",
   "metadata": {},
   "source": [
    "### Fleiss' Kappa"
   ]
  },
  {
   "cell_type": "markdown",
   "metadata": {},
   "source": [
    "Fleiss' kappa is similar to Cohen's kappa but allows for more than two annotators. Similarly, it ranges from -1 to 1, where 1 indicates perfect agreement, 0 is no agreement, and -1 is complete disagreement. We can calculate it using the `fleiss_kappa` function from **statsmodels**."
   ]
  },
  {
   "cell_type": "code",
   "execution_count": 81,
   "metadata": {},
   "outputs": [],
   "source": [
    "# Initialize ratings matrix with the number of records and labels\n",
    "ratings = np.zeros((100, 151))\n",
    "\n",
    "# Populate the matrix\n",
    "for annotator, responses in responses_by_annotator.items():\n",
    "    for i, response in enumerate(responses):\n",
    "        ratings[i, label2id[response]] += 1\n",
    "        \n",
    "# Compute Fleiss' Kappa\n",
    "kappa = fleiss_kappa(ratings, method='fleiss')"
   ]
  },
  {
   "cell_type": "markdown",
   "metadata": {},
   "source": [
    "We can see that the agreement is similar to Krippendorff's alpha."
   ]
  },
  {
   "cell_type": "code",
   "execution_count": 85,
   "metadata": {},
   "outputs": [
    {
     "name": "stdout",
     "output_type": "stream",
     "text": [
      "Fleiss' Kappa: 0.611865816467979\n"
     ]
    }
   ],
   "source": [
    "print(\"Fleiss' Kappa:\", kappa)"
   ]
  },
  {
   "cell_type": "markdown",
   "metadata": {},
   "source": [
    "## Conclusions"
   ]
  },
  {
   "cell_type": "markdown",
   "metadata": {},
   "source": [
    "In this tutorial, we trained an intent classifier using FastFit, made predictions, and simulated the annotation process with Argilla. We calculated the annotation metrics, including accuracy, precision, recall, F1 score, Krippendorff's alpha, Cohen's kappa, and Fleiss' kappa. We also visualized the confusion matrix to understand the annotation performance better."
   ]
  }
 ],
 "metadata": {
  "kernelspec": {
   "display_name": ".venv",
   "language": "python",
   "name": "python3"
  },
  "language_info": {
   "codemirror_mode": {
    "name": "ipython",
    "version": 3
   },
   "file_extension": ".py",
   "mimetype": "text/x-python",
   "name": "python",
   "nbconvert_exporter": "python",
   "pygments_lexer": "ipython3",
   "version": "3.10.12"
  }
 },
 "nbformat": 4,
 "nbformat_minor": 2
}
