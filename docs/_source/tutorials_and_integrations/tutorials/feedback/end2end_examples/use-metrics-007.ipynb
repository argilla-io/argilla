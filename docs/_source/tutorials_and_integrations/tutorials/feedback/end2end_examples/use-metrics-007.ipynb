{
 "cells": [
  {
   "cell_type": "markdown",
   "metadata": {},
   "source": [
    "# Use Metrics to Evaluate Your Model\n",
    "\n",
    "In this part of our end-to-end series, we will evaluate the annotation results of our dataset using the `metrics` module. To see the previous steps, you can refer to the tutorials such as [creating the dataset](./create-dataset-001.ipynb), [adding responses and suggestions](./add-resoponses) or [training your model](./train-model-006.ipynb). Feel free to check out the [practical guides](../../../../practical_guides/practical_guides.md) page for more in-depth information.\n",
    "\n",
    "After having your dataset annotated by the annotators, it is strongly recommended to evaluate the annotation results. Within the `metrics` module, we divide the evaluation metrics into three: Agreement Metrics, Suggestions Metrics, and Responses Metrics. **Agreement Metrics** are the metrics that you can employ to evaluate the agreement between the annotators. Generally referred to as \"Inter-Annotator Agreement\" in the literature, this metric has various implementations developed by different researchers, some notable examples of which are Krippendorff's Alpha, Cohen's Kappa, Fleiss' Kappa, Scott's Pi, and Bennet, Albert and Goldstein's S. With these metrics, you can see how reliable the annotations are and how much the annotators agree with each other.\n",
    "\n",
    "On the other hand, **Suggestions Metrics** are the metrics that you can employ to evaluate the responses of the annotators against the suggestions given to them. This will demonstrate how good the responses of each annotator are compared to a gold standard. In addition, we have the opportunity to unify the responses given by different annotators for a single record. This way, either the unified responses or responses can be evaluated. In a similar way, **Responses Metrics** are the metrics that you can employ to evaluate the suggestions given to the annotators against the responses given by them. This will give us an insight into how good the suggestions are, whether they are helpful or not, and whether the model needs to be improved."
   ]
  },
  {
   "cell_type": "markdown",
   "metadata": {},
   "source": [
    "![workflow](../../../../_static/tutorials/end2end/base/workflow_metrics.png)"
   ]
  },
  {
   "cell_type": "markdown",
   "metadata": {},
   "source": [
    "## Table of Contents\n",
    "\n",
    "1. [Pull the Dataset](#Pull-the-Dataset)\n",
    "    1. [From Argilla](#From-Argilla)\n",
    "    2. [From HuggingFace Hub](#From-HuggingFace-Hub)\n",
    "2. [Unify Responses](#Unify-Responses)\n",
    "3. [Annotation Metrics](#Annotation-Metrics)\n",
    "    1. [Agreement Metrics](#Agreement-Metrics)\n",
    "    2. [Suggestions Metrics](#Suggestions-Metrics)\n",
    "        1. [Suggestions Metrics for Unified Responses](#Suggestions-Metrics-for-Unified-Responses)\n",
    "    3. [Responses Metrics](#Responses-Metrics)\n",
    "        1. [Responses Metrics for Unified Responses](#Responses-Metrics-for-Unified-Responses)\n",
    "4. [Conclusion](#Conclusion)\n"
   ]
  },
  {
   "cell_type": "markdown",
   "metadata": {},
   "source": [
    "## Running Argilla\n",
    "\n",
    "For this tutorial, you will need to have an Argilla server running. There are two main options for deploying and running Argilla:\n",
    "\n",
    "**Deploy Argilla on Hugging Face Spaces:** If you want to run tutorials with external notebooks (e.g., Google Colab) and you have an account on Hugging Face, you can deploy Argilla on Spaces with a few clicks:\n",
    "\n",
    "[![deploy on spaces](https://huggingface.co/datasets/huggingface/badges/raw/main/deploy-to-spaces-lg.svg)](https://huggingface.co/new-space?template=argilla/argilla-template-space)\n",
    "\n",
    "For details about configuring your deployment, check the [official Hugging Face Hub guide](https://huggingface.co/docs/hub/spaces-sdks-docker-argilla).\n",
    "\n",
    "**Launch Argilla using Argilla's quickstart Docker image**: This is the recommended option if you want [Argilla running on your local machine](../../../../getting_started/quickstart.md). Note that this option will only let you run the tutorial locally and not with an external notebook service.\n",
    "\n",
    "For more information on deployment options, please check the Deployment section of the documentation.\n",
    "\n",
    "<div class=\"alert alert-info\">\n",
    "\n",
    "Tip\n",
    "\n",
    "This tutorial is a Jupyter Notebook. There are two options to run it:\n",
    "\n",
    "- Use the Open in Colab button at the top of this page. This option allows you to run the notebook directly on Google Colab. Don't forget to change the runtime type to GPU for faster model training and inference.\n",
    "- Download the .ipynb file by clicking on the View source link at the top of the page. This option allows you to download the notebook and run it on your local machine or on a Jupyter notebook tool of your choice.\n",
    "</div>"
   ]
  },
  {
   "cell_type": "markdown",
   "metadata": {},
   "source": [
    "First, let's install our dependencies and import the necessary libraries:"
   ]
  },
  {
   "cell_type": "code",
   "execution_count": null,
   "metadata": {},
   "outputs": [],
   "source": [
    "!pip install argilla\n",
    "!pip install datasets transformers"
   ]
  },
  {
   "cell_type": "code",
   "execution_count": 13,
   "metadata": {},
   "outputs": [],
   "source": [
    "import argilla as rg\n",
    "from argilla.client.feedback.metrics.annotator_metrics import AnnotatorMetric"
   ]
  },
  {
   "cell_type": "markdown",
   "metadata": {},
   "source": [
    "In order to run this notebook we will need some credentials to push and load datasets from `Argilla` and `🤗 Hub`, let's set them in the following cell:"
   ]
  },
  {
   "cell_type": "code",
   "execution_count": null,
   "metadata": {},
   "outputs": [],
   "source": [
    "# Argilla credentials\n",
    "api_url = \"http://localhost:6900\"  # \"https://<YOUR-HF-SPACE>.hf.space\"\n",
    "api_key = DEFAULT_API_KEY  # admin.apikey\n",
    "# Huggingface credentials\n",
    "hf_token = \"hf_...\""
   ]
  },
  {
   "cell_type": "markdown",
   "metadata": {},
   "source": [
    "Log in to Argilla:"
   ]
  },
  {
   "cell_type": "code",
   "execution_count": null,
   "metadata": {},
   "outputs": [],
   "source": [
    "rg.init(api_url=api_url, api_key=api_key)"
   ]
  },
  {
   "cell_type": "markdown",
   "metadata": {},
   "source": [
    "### Enable Telemetry\n",
    "We gain valuable insights from how you interact with our tutorials. To improve ourselves in offering you the most suitable content, using the following lines of code will help us understand that this tutorial is serving you effectively. Though this is entirely anonymous, you can choose to skip this step if you prefer. For more info, please check out the Telemetry page."
   ]
  },
  {
   "cell_type": "code",
   "execution_count": null,
   "metadata": {},
   "outputs": [],
   "source": [
    "try:\n",
    "    from argilla.utils.telemetry import tutorial_running\n",
    "    tutorial_running()\n",
    "except ImportError:\n",
    "    print(\"Telemetry module is introduced in Argilla 1.20.0 and not found in the current installation. Skipping telemetry.\")"
   ]
  },
  {
   "cell_type": "markdown",
   "metadata": {},
   "source": [
    "## Pull the Dataset\n",
    "\n",
    "To employ metrics, we can pull a dataset that consists of multiple annotations per record. We can do this either from Argilla or HuggingFace Hub. Let us see how we can pull it from both sources.\n",
    "\n"
   ]
  },
  {
   "cell_type": "code",
   "execution_count": null,
   "metadata": {},
   "outputs": [],
   "source": [
    "dataset = rg.FeedbackDataset.from_argilla(\"argilla/go_emotions_raw\")"
   ]
  },
  {
   "cell_type": "markdown",
   "metadata": {},
   "source": [
    "### From HuggingFace Hub\n",
    "\n",
    "We can also pull the dataset from HuggingFace Hub. Similarly, we can use the `from_huggingface` method to pull the dataset."
   ]
  },
  {
   "cell_type": "code",
   "execution_count": null,
   "metadata": {},
   "outputs": [],
   "source": [
    "dataset = rg.FeedbackDataset.from_huggingface(\"argilla/go_emotions_raw\", split=\"train[:1000]\")"
   ]
  },
  {
   "cell_type": "markdown",
   "metadata": {},
   "source": [
    "<div class=\"alert alert-info\">\n",
    "\n",
    "Note \n",
    "\n",
    "The dataset pulled from HuggingFace Hub is an instance of `FeedbackDataset` whereas the dataset pulled from Argilla is an instance of `RemoteFeedbackDataset`. The difference between the two is that the former is a local one and the changes made on it stay locally. On the other hand, the latter is a remote one and the changes made on it are directly reflected on the dataset on the Argilla server, which can make your process faster.\n",
    "\n",
    "</div>"
   ]
  },
  {
   "cell_type": "markdown",
   "metadata": {},
   "source": [
    "Let us briefly examine what our dataset looks like. It is a dataset that consists of data items with the field `text`. For each record, we have multiple annotations that label the text with at least one sentiment. Let us see an example of a text and the given responses. In this example, the record has been annotated by 3 annotators and one of them has labeled the text with one sentiment while the other two have labeled it with two sentiments."
   ]
  },
  {
   "cell_type": "code",
   "execution_count": 140,
   "metadata": {},
   "outputs": [
    {
     "name": "stdout",
     "output_type": "stream",
     "text": [
      "text:  And not all children's hospitals need the same stuff, so call and ask what they need. But I like your tip. You're correct. \n",
      "responses: [['neutral'], ['approval', 'desire'], ['approval', 'love']]\n"
     ]
    }
   ],
   "source": [
    "print(\"text:\", dataset[5].fields[\"text\"])\n",
    "print(\"responses:\", [dataset[5].responses[i].values[\"label\"].value for i in range(len(dataset[5].responses))])"
   ]
  },
  {
   "cell_type": "markdown",
   "metadata": {},
   "source": [
    "### From Argilla\n",
    "\n",
    "We can pull the dataset from Argilla by using the `from_argilla` method. "
   ]
  },
  {
   "cell_type": "markdown",
   "metadata": {},
   "source": [
    "## Unify Responses"
   ]
  },
  {
   "cell_type": "markdown",
   "metadata": {},
   "source": [
    "When you have multiple annotations per record in your project, it is a good practice to unify the responses to have a single response per record. This is preferable as it makes the dataset more consistent and easier to work with. Let us see how we can unify the responses with Argilla. First, we create a strategy to unify the responses. We go with the `majority` vote strategy, which means that we will keep the responses that have been suggested by the majority of the annotators. "
   ]
  },
  {
   "cell_type": "code",
   "execution_count": 146,
   "metadata": {},
   "outputs": [],
   "source": [
    "strategy = rg.MultiLabelQuestionStrategy(\"majority\")"
   ]
  },
  {
   "cell_type": "code",
   "execution_count": null,
   "metadata": {},
   "outputs": [],
   "source": [
    "dataset.compute_unified_responses(\n",
    "    question=dataset.question_by_name(\"label\"),\n",
    "    strategy=strategy,\n",
    ")"
   ]
  },
  {
   "cell_type": "markdown",
   "metadata": {},
   "source": [
    "We can look at a record to see how the responses have been unified. In our case, the responses have been unified to `approval` as it is the majority vote among the responses."
   ]
  },
  {
   "cell_type": "code",
   "execution_count": 148,
   "metadata": {},
   "outputs": [
    {
     "data": {
      "text/plain": [
       "{'label': [UnifiedValueSchema(value=['approval'], strategy=<RatingQuestionStrategy.MAJORITY: 'majority'>)]}"
      ]
     },
     "execution_count": 148,
     "metadata": {},
     "output_type": "execute_result"
    }
   ],
   "source": [
    "dataset.records[5].unified_responses"
   ]
  },
  {
   "cell_type": "markdown",
   "metadata": {},
   "source": [
    "## Annotation Metrics\n",
    "\n",
    "\n",
    "Argilla offers various annotation metrics to evaluate the performance of the annotators. Let us see how we can employ each one of them."
   ]
  },
  {
   "cell_type": "markdown",
   "metadata": {},
   "source": [
    "### Agreement Metrics\n",
    "\n",
    "The first step for the evaluation is to contrast the responses given by the annotators with each other, which is commonly known as ***Inter-Annotator Agreement***. This is a crucial step to see how reliable the annotations are and how much the annotators agree with each other. Argilla currently offers only [Krippendorff's alpha](https://en.wikipedia.org/wiki/Krippendorff%27s_alpha) as an agreement metric. Let us see how we can evaluate the agreement between the annotators with Argilla.\n",
    "\n",
    "To calculate the `alpha`, we only need to call the `compute_agreement_metrics` method, with `alpha` being the argument. We also need to specify the question name in our dataset to calculate the metric. Please note that agreement metrics are available for all question types except for the `TextQuestion`."
   ]
  },
  {
   "cell_type": "code",
   "execution_count": 3,
   "metadata": {},
   "outputs": [
    {
     "data": {
      "text/plain": [
       "AgreementMetricResult(metric_name='alpha', count=3468, result=0.2459926458269277)"
      ]
     },
     "execution_count": 3,
     "metadata": {},
     "output_type": "execute_result"
    }
   ],
   "source": [
    "dataset.compute_agreement_metrics(\"alpha\", question_name=\"label\")"
   ]
  },
  {
   "cell_type": "markdown",
   "metadata": {},
   "source": [
    "The result we have shows that the agreement between the annotators is 0.2459 for the dataset we have, which is a low agreement. For Kripendorff's alpha, the value is in the range [0,1] and is usually interpreted in the following way: alpha >= 0.8 indicates a reliable annotation, alpha >= 0.667 allows making tentative conclusions, while the lower values suggest the unreliable annotation."
   ]
  },
  {
   "cell_type": "markdown",
   "metadata": {},
   "source": [
    "### Suggestions Metrics\n",
    "\n",
    "Rather than examining the agreement between the annotators, we can also compare the responses of the annotators against the suggestions given to them. This will demonstrate how good the responses of each annotator are compared to a gold standard. \n",
    "\n",
    "The question type we have in the current dataset is `MultiLabelQuestion`. By using the `allowed_metrics` method, we can see the metrics below, which are the available ones for this question type."
   ]
  },
  {
   "cell_type": "code",
   "execution_count": 14,
   "metadata": {},
   "outputs": [
    {
     "data": {
      "text/plain": [
       "['accuracy', 'f1-score', 'precision', 'recall', 'confusion-matrix']"
      ]
     },
     "execution_count": 14,
     "metadata": {},
     "output_type": "execute_result"
    }
   ],
   "source": [
    "metric = AnnotatorMetric(dataset=dataset, question_name=\"label\")\n",
    "metric.allowed_metrics"
   ]
  },
  {
   "cell_type": "markdown",
   "metadata": {},
   "source": [
    "To calculate the suggestions metrics, we only need to call the `compute_suggestions_metrics` method, with the metric name being the argument. We also need to specify the question name in our dataset to calculate the metric."
   ]
  },
  {
   "cell_type": "code",
   "execution_count": null,
   "metadata": {},
   "outputs": [],
   "source": [
    "suggestions_metrics = dataset.compute_suggestions_metrics(question_name=\"label\", metric_names=[\"accuracy\", \"precision\", \"recall\", \"f1-score\"])"
   ]
  },
  {
   "cell_type": "markdown",
   "metadata": {},
   "source": [
    "We now have a dictionary whose keys are the IDs of annotators and values are the metrics at hand. We can look at the score of any annotator by giving the particular ID.\n",
    "\n",
    "We see that the annotator below has a total of 182 annotations while their scores are in mid between 0.4 and 0.6."
   ]
  },
  {
   "cell_type": "code",
   "execution_count": 10,
   "metadata": {},
   "outputs": [
    {
     "data": {
      "text/plain": [
       "[AnnotatorMetricResult(metric_name='accuracy', count=182, result=0.5714285714285714),\n",
       " AnnotatorMetricResult(metric_name='precision', count=182, result=0.5377066798941799),\n",
       " AnnotatorMetricResult(metric_name='recall', count=182, result=0.4427905213343358),\n",
       " AnnotatorMetricResult(metric_name='f1-score', count=182, result=0.428750352375672)]"
      ]
     },
     "execution_count": 10,
     "metadata": {},
     "output_type": "execute_result"
    }
   ],
   "source": [
    "suggestions_metrics[\"00000000-0000-0000-0000-000000000004\"]"
   ]
  },
  {
   "cell_type": "markdown",
   "metadata": {},
   "source": [
    "#### Suggestions Metrics for Unified Responses\n",
    "\n",
    "We have calculated the given metrics for each annotator individually and obtained their respective results for the metric. However, we may sometimes want to calculate the performance of the annotators collectively, where we compare the unified responses of annotators for each record against the suggestions. As stated above, Argilla offers us the opportunity to unify the responses of annotators according to different strategies. We can first unify the responses as shown and then calculate the metrics for the unified responses.\n",
    "\n",
    "To accomplish this, we only need to feed the method above with the `strategy` argument. When this argument is set with the preferred strategy, the responses will first be unified and then, these unified responses will be compared to the suggestions. Let us go with the `majority` strategy."
   ]
  },
  {
   "cell_type": "code",
   "execution_count": null,
   "metadata": {},
   "outputs": [],
   "source": [
    "suggestions_metrics_unified = dataset.compute_suggestions_metrics(question_name=\"label\", metric_names=[\"accuracy\", \"precision\", \"recall\", \"f1-score\"], strategy=\"majority\")"
   ]
  },
  {
   "cell_type": "markdown",
   "metadata": {},
   "source": [
    "Now, we have a list of given metrics, where each one is calculated. We see that the general performance of the annotators is satisfactory with scores between 0.75 and 0.80. Additionally, the individual annotator we have examined above seems to perform relatively worse than the others as their scores are lower than the averages."
   ]
  },
  {
   "cell_type": "code",
   "execution_count": 7,
   "metadata": {},
   "outputs": [
    {
     "data": {
      "text/plain": [
       "[AnnotatorMetricResult(metric_name='accuracy', count=1000, result=0.794),\n",
       " AnnotatorMetricResult(metric_name='precision', count=1000, result=0.7996159173566102),\n",
       " AnnotatorMetricResult(metric_name='recall', count=1000, result=0.7628235886740066),\n",
       " AnnotatorMetricResult(metric_name='f1-score', count=1000, result=0.7728387991385041)]"
      ]
     },
     "execution_count": 7,
     "metadata": {},
     "output_type": "execute_result"
    }
   ],
   "source": [
    "suggestions_metrics_unified"
   ]
  },
  {
   "cell_type": "markdown",
   "metadata": {},
   "source": [
    "### Responses Metrics\n",
    "\n",
    "Instead of forming the ground truths out of the suggestions given to the annotators, we can also choose the responses given by the annotators as the gold standard. The main advantage of adding suggestions to our dataset is to simplify and shorten the annotation task. By employing the responses metrics, we will be able to see if the suggestions work in the way we want. In case of a low performance, we can consider improving the suggestions or updating the model to generate better suggestions.\n",
    "\n",
    "With Argilla, we can calculate the responses metrics easily with the `compute_responses_metrics` method. We again specify the metric name and question name as the arguments. Let us feed the metric name with all possible metrics by means of `allowed_metrics`."
   ]
  },
  {
   "cell_type": "code",
   "execution_count": null,
   "metadata": {},
   "outputs": [],
   "source": [
    "responses_metrics = dataset.compute_responses_metrics(question_name=\"label\", metric_names=metric.allowed_metrics)"
   ]
  },
  {
   "cell_type": "code",
   "execution_count": 16,
   "metadata": {},
   "outputs": [
    {
     "data": {
      "text/plain": [
       "[AnnotatorMetricResult(metric_name='accuracy', count=182, result=0.5714285714285714),\n",
       " AnnotatorMetricResult(metric_name='f1-score', count=182, result=0.428750352375672),\n",
       " AnnotatorMetricResult(metric_name='precision', count=182, result=0.4427905213343358),\n",
       " AnnotatorMetricResult(metric_name='recall', count=182, result=0.5377066798941799),\n",
       " AnnotatorMetricResult(metric_name='confusion-matrix', count=182, result={'admiration':                             suggestions_admiration_true  \\\n",
       " responses_admiration_true                           174   \n",
       " responses_admiration_false                            0   \n",
       " \n",
       "                             suggestions_admiration_false  \n",
       " responses_admiration_true                              5  \n",
       " responses_admiration_false                             3  , 'amusement':                            suggestions_amusement_true  \\\n",
       " responses_amusement_true                          176   \n",
       " responses_amusement_false                           1   \n",
       " \n",
       "                            suggestions_amusement_false  \n",
       " responses_amusement_true                             3  \n",
       " responses_amusement_false                            2  })]"
      ]
     },
     "execution_count": 16,
     "metadata": {},
     "output_type": "execute_result"
    }
   ],
   "source": [
    "responses_metrics[\"00000000-0000-0000-0000-000000000004\"]"
   ]
  },
  {
   "cell_type": "markdown",
   "metadata": {},
   "source": [
    "#### Responses Metrics for Unified Responses\n",
    "\n",
    "We can also calculate the responses metrics for the unified responses as we did with the suggestions metrics. We only need to feed the compute_responses_metrics method with the `strategy` argument."
   ]
  },
  {
   "cell_type": "code",
   "execution_count": null,
   "metadata": {},
   "outputs": [],
   "source": [
    "responses_metrics_unified = dataset.compute_responses_metrics(question_name=\"label\", metric_names=[\"accuracy\", \"precision\", \"recall\", \"f1-score\"], strategy=\"majority\")"
   ]
  },
  {
   "cell_type": "code",
   "execution_count": 20,
   "metadata": {},
   "outputs": [
    {
     "data": {
      "text/plain": [
       "[AnnotatorMetricResult(metric_name='accuracy', count=1000, result=0.812),\n",
       " AnnotatorMetricResult(metric_name='precision', count=1000, result=0.7693494302078528),\n",
       " AnnotatorMetricResult(metric_name='recall', count=1000, result=0.7744636775213872),\n",
       " AnnotatorMetricResult(metric_name='f1-score', count=1000, result=0.7578965673231839)]"
      ]
     },
     "execution_count": 20,
     "metadata": {},
     "output_type": "execute_result"
    }
   ],
   "source": [
    "responses_metrics_unified"
   ]
  },
  {
   "cell_type": "markdown",
   "metadata": {},
   "source": [
    "## Conclusion"
   ]
  },
  {
   "cell_type": "markdown",
   "metadata": {},
   "source": [
    "In this tutorial, we have seen how we can evaluate the annotation results of our dataset using the `metrics` module. We have first unified the response to have a more comprehensive outlook on the annotations. Then, we have calculated the agreement metrics to see how much our annotators agree with each other. After that, we have calculated the suggestions metrics to see how good the responses of each annotator are compared to a gold standard, which is the suggestions in this case. Similarly, we have calculated the responses metrics to see how good the suggestions are compared to the responses of the annotators. \n",
    "\n",
    "For both suggestions and responses metrics, we have calculated the metrics per annotator and for the unified responses. If you feel that the annotations are not satisfactory, you can reiterate the annotation process by making changes in the structure of your project. You can refer to the [practical guides](../../../../practical_guides/practical_guides.md) to refine your structure or check out the [advanced tutorials](../../../../tutorials.md) to learn more about the advanced use cases of Argilla."
   ]
  }
 ],
 "metadata": {
  "kernelspec": {
   "display_name": "argilla",
   "language": "python",
   "name": "python3"
  },
  "language_info": {
   "codemirror_mode": {
    "name": "ipython",
    "version": 3
   },
   "file_extension": ".py",
   "mimetype": "text/x-python",
   "name": "python",
   "nbconvert_exporter": "python",
   "pygments_lexer": "ipython3",
   "version": "3.9.18"
  }
 },
 "nbformat": 4,
 "nbformat_minor": 2
}
