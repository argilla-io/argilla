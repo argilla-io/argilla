{
    "cells": [
        {
            "cell_type": "markdown",
            "id": "fc0c600b",
            "metadata": {
                "papermill": {
                    "duration": 0.046655,
                    "end_time": "2023-11-15T10:59:17.308341",
                    "exception": false,
                    "start_time": "2023-11-15T10:59:17.261686",
                    "status": "completed"
                },
                "tags": []
            },
            "source": [
                "# Creating a `FeedbackDataset`\n",
                "\n",
                "This tutorial is part of a series in which we will get to know the `FeedbackDataset`. Before starting this tutorial, you need to do the tutorial on [configuring users and workspaces](/tutorials_and_integrations/tutorials/feedback/end2end_examples/configure-users-and-workspaces.html). In this step, we will show how to configure a `FeedbackDataset` and add `FeedbackRecords` to it. If you need additional context, consult [our practical guide on creating a dataset](../../../../practical_guides/create_update_dataset/create_dataset.md).\n",
                "\n",
                "![workflow](../../../../_static/tutorials/end2end/base/workflow_create_dataset.svg)\n",
                "\n",
                "We will start by creating a basic dataset using the [ag_news](https://huggingface.co/datasets/ag_news) dataset as an example and push it to `Argilla` and the Hugging Face `hub`."
            ]
        },
        {
            "cell_type": "markdown",
            "id": "e557a44e-26fb-4b52-91ec-2b49d550a5cd",
            "metadata": {
                "editable": true,
                "papermill": {
                    "duration": 0.011949,
                    "end_time": "2023-11-15T10:59:17.340523",
                    "exception": false,
                    "start_time": "2023-11-15T10:59:17.328574",
                    "status": "completed"
                },
                "slideshow": {
                    "slide_type": ""
                },
                "tags": []
            },
            "source": [
                "## Table of Contents\n",
                "\n",
                "1. [Configure a FeedbackDataset](#create-feedbackdataset)\n",
                "2. [Add FeedbackRecords](#add-records)\n",
                "   1. [From a Hugging Face dataset](#create-feedbackdataset-datasets)\n",
                "   2. [From a pandas.DataFrame](#create-feedbackdataset-pandas)\n",
                "3. [Save and load a FeedbackDataset](#save-the-dataset)\n",
                "   1. [Push our FeedbackDataset to Argilla](#push-to-argilla)\n",
                "   2. [Push our FeedbackDataset to the Hugging Face hub](#push-to-hf-hub)\n",
                "4. [Conclusions](#conclusions)"
            ]
        },
        {
            "cell_type": "markdown",
            "id": "566b7b82",
            "metadata": {
                "papermill": {
                    "duration": 0.007744,
                    "end_time": "2023-11-15T10:59:17.355040",
                    "exception": false,
                    "start_time": "2023-11-15T10:59:17.347296",
                    "status": "completed"
                },
                "tags": []
            },
            "source": [
                "## Running Argilla\n",
                "\n",
                "For this tutorial, you will need to have an Argilla server running. There are two main options for deploying and running Argilla:\n",
                "\n",
                "**Deploy Argilla on Hugging Face Spaces:** If you want to run tutorials with external notebooks (e.g., Google Colab) and you have an account on Hugging Face, you can deploy Argilla on Spaces with a few clicks:\n",
                "\n",
                "[![deploy on spaces](https://huggingface.co/datasets/huggingface/badges/raw/main/deploy-to-spaces-lg.svg)](https://huggingface.co/new-space?template=argilla/argilla-template-space)\n",
                "\n",
                "For details about configuring your deployment, check the [official Hugging Face Hub guide](https://huggingface.co/docs/hub/spaces-sdks-docker-argilla).\n",
                "\n",
                "**Launch Argilla using Argilla's quickstart Docker image**: This is the recommended option if you want [Argilla running on your local machine](../../../../getting_started/quickstart.md). Note that this option will only let you run the tutorial locally and not with an external notebook service.\n",
                "\n",
                "For more information on deployment options, please check the Deployment section of the documentation.\n",
                "\n",
                "<div class=\"alert alert-info\">\n",
                "\n",
                "Tip\n",
                "\n",
                "This tutorial is a Jupyter Notebook. There are two options to run it:\n",
                "\n",
                "- Use the Open in Colab button at the top of this page. This option allows you to run the notebook directly on Google Colab. Don't forget to change the runtime type to GPU for faster model training and inference.\n",
                "- Download the .ipynb file by clicking on the View source link at the top of the page. This option allows you to download the notebook and run it on your local machine or on a Jupyter notebook tool of your choice.\n",
                "</div>"
            ]
        },
        {
            "cell_type": "markdown",
            "metadata": {
                "papermill": {
                    "duration": 0.004557,
                    "end_time": "2023-11-15T10:59:17.364909",
                    "exception": false,
                    "start_time": "2023-11-15T10:59:17.360352",
                    "status": "completed"
                },
                "tags": []
            },
            "source": [
                "First let's install our dependencies and import the necessary libraries:"
            ]
        },
        {
            "cell_type": "code",
            "execution_count": 1,
            "id": "bbbd3c38-1e3c-4d7f-97e6-22dd3b668fc8",
            "metadata": {
                "editable": true,
                "papermill": {
                    "duration": 3.857186,
                    "end_time": "2023-11-15T10:59:21.228277",
                    "exception": false,
                    "start_time": "2023-11-15T10:59:17.371091",
                    "status": "completed"
                },
                "slideshow": {
                    "slide_type": ""
                },
                "tags": []
            },
            "outputs": [
                {
                    "name": "stdout",
                    "output_type": "stream",
                    "text": [
                        "Requirement already satisfied: argilla in /Users/agus/github_repos/argilla-io/argilla/.venv/lib/python3.10/site-packages (1.20.0.dev0)\n",
                        "Requirement already satisfied: httpx<=0.25,>=0.15 in /Users/agus/github_repos/argilla-io/argilla/.venv/lib/python3.10/site-packages (from argilla) (0.23.3)\n",
                        "Requirement already satisfied: deprecated~=1.2.0 in /Users/agus/github_repos/argilla-io/argilla/.venv/lib/python3.10/site-packages (from argilla) (1.2.14)\n",
                        "Requirement already satisfied: packaging>=20.0 in /Users/agus/github_repos/argilla-io/argilla/.venv/lib/python3.10/site-packages (from argilla) (21.3)\n",
                        "Requirement already satisfied: pandas<2.0.0,>=1.0.0 in /Users/agus/github_repos/argilla-io/argilla/.venv/lib/python3.10/site-packages (from argilla) (1.5.3)\n",
                        "Requirement already satisfied: pydantic<2.0,>=1.10.7 in /Users/agus/github_repos/argilla-io/argilla/.venv/lib/python3.10/site-packages (from argilla) (1.10.9)\n",
                        "Requirement already satisfied: wrapt<1.15,>=1.13 in /Users/agus/github_repos/argilla-io/argilla/.venv/lib/python3.10/site-packages (from argilla) (1.14.0)\n",
                        "Requirement already satisfied: numpy<1.24.0 in /Users/agus/github_repos/argilla-io/argilla/.venv/lib/python3.10/site-packages (from argilla) (1.23.5)\n",
                        "Requirement already satisfied: tqdm>=4.27.0 in /Users/agus/github_repos/argilla-io/argilla/.venv/lib/python3.10/site-packages (from argilla) (4.64.0)\n",
                        "Requirement already satisfied: backoff in /Users/agus/github_repos/argilla-io/argilla/.venv/lib/python3.10/site-packages (from argilla) (1.11.1)\n",
                        "Requirement already satisfied: monotonic in /Users/agus/github_repos/argilla-io/argilla/.venv/lib/python3.10/site-packages (from argilla) (1.6)\n",
                        "Requirement already satisfied: rich!=13.1.0 in /Users/agus/github_repos/argilla-io/argilla/.venv/lib/python3.10/site-packages (from argilla) (13.0.1)\n",
                        "Requirement already satisfied: typer<0.10.0,>=0.6.0 in /Users/agus/github_repos/argilla-io/argilla/.venv/lib/python3.10/site-packages (from argilla) (0.7.0)\n",
                        "Requirement already satisfied: certifi in /Users/agus/github_repos/argilla-io/argilla/.venv/lib/python3.10/site-packages (from httpx<=0.25,>=0.15->argilla) (2023.5.7)\n",
                        "Requirement already satisfied: httpcore<0.17.0,>=0.15.0 in /Users/agus/github_repos/argilla-io/argilla/.venv/lib/python3.10/site-packages (from httpx<=0.25,>=0.15->argilla) (0.16.3)\n",
                        "Requirement already satisfied: rfc3986<2,>=1.3 in /Users/agus/github_repos/argilla-io/argilla/.venv/lib/python3.10/site-packages (from rfc3986[idna2008]<2,>=1.3->httpx<=0.25,>=0.15->argilla) (1.5.0)\n",
                        "Requirement already satisfied: sniffio in /Users/agus/github_repos/argilla-io/argilla/.venv/lib/python3.10/site-packages (from httpx<=0.25,>=0.15->argilla) (1.2.0)\n",
                        "Requirement already satisfied: pyparsing!=3.0.5,>=2.0.2 in /Users/agus/github_repos/argilla-io/argilla/.venv/lib/python3.10/site-packages (from packaging>=20.0->argilla) (3.0.9)\n",
                        "Requirement already satisfied: python-dateutil>=2.8.1 in /Users/agus/github_repos/argilla-io/argilla/.venv/lib/python3.10/site-packages (from pandas<2.0.0,>=1.0.0->argilla) (2.8.2)\n",
                        "Requirement already satisfied: pytz>=2020.1 in /Users/agus/github_repos/argilla-io/argilla/.venv/lib/python3.10/site-packages (from pandas<2.0.0,>=1.0.0->argilla) (2022.1)\n",
                        "Requirement already satisfied: typing-extensions>=4.2.0 in /Users/agus/github_repos/argilla-io/argilla/.venv/lib/python3.10/site-packages (from pydantic<2.0,>=1.10.7->argilla) (4.8.0)\n",
                        "Requirement already satisfied: commonmark<0.10.0,>=0.9.0 in /Users/agus/github_repos/argilla-io/argilla/.venv/lib/python3.10/site-packages (from rich!=13.1.0->argilla) (0.9.1)\n",
                        "Requirement already satisfied: pygments<3.0.0,>=2.6.0 in /Users/agus/github_repos/argilla-io/argilla/.venv/lib/python3.10/site-packages (from rich!=13.1.0->argilla) (2.15.1)\n",
                        "Requirement already satisfied: click<9.0.0,>=7.1.1 in /Users/agus/github_repos/argilla-io/argilla/.venv/lib/python3.10/site-packages (from typer<0.10.0,>=0.6.0->argilla) (8.1.3)\n",
                        "Requirement already satisfied: h11<0.15,>=0.13 in /Users/agus/github_repos/argilla-io/argilla/.venv/lib/python3.10/site-packages (from httpcore<0.17.0,>=0.15.0->httpx<=0.25,>=0.15->argilla) (0.13.0)\n",
                        "Requirement already satisfied: anyio<5.0,>=3.0 in /Users/agus/github_repos/argilla-io/argilla/.venv/lib/python3.10/site-packages (from httpcore<0.17.0,>=0.15.0->httpx<=0.25,>=0.15->argilla) (3.7.1)\n",
                        "Requirement already satisfied: six>=1.5 in /Users/agus/github_repos/argilla-io/argilla/.venv/lib/python3.10/site-packages (from python-dateutil>=2.8.1->pandas<2.0.0,>=1.0.0->argilla) (1.16.0)\n",
                        "Requirement already satisfied: idna in /Users/agus/github_repos/argilla-io/argilla/.venv/lib/python3.10/site-packages (from rfc3986[idna2008]<2,>=1.3->httpx<=0.25,>=0.15->argilla) (3.3)\n",
                        "Requirement already satisfied: exceptiongroup in /Users/agus/github_repos/argilla-io/argilla/.venv/lib/python3.10/site-packages (from anyio<5.0,>=3.0->httpcore<0.17.0,>=0.15.0->httpx<=0.25,>=0.15->argilla) (1.1.1)\n",
                        "Requirement already satisfied: datasets in /Users/agus/github_repos/argilla-io/argilla/.venv/lib/python3.10/site-packages (2.14.7)\n",
                        "Requirement already satisfied: numpy>=1.17 in /Users/agus/github_repos/argilla-io/argilla/.venv/lib/python3.10/site-packages (from datasets) (1.23.5)\n",
                        "Requirement already satisfied: pyarrow>=8.0.0 in /Users/agus/github_repos/argilla-io/argilla/.venv/lib/python3.10/site-packages (from datasets) (14.0.1)\n",
                        "Requirement already satisfied: pyarrow-hotfix in /Users/agus/github_repos/argilla-io/argilla/.venv/lib/python3.10/site-packages (from datasets) (0.5)\n",
                        "Requirement already satisfied: dill<0.3.8,>=0.3.0 in /Users/agus/github_repos/argilla-io/argilla/.venv/lib/python3.10/site-packages (from datasets) (0.3.7)\n",
                        "Requirement already satisfied: pandas in /Users/agus/github_repos/argilla-io/argilla/.venv/lib/python3.10/site-packages (from datasets) (1.5.3)\n",
                        "Requirement already satisfied: requests>=2.19.0 in /Users/agus/github_repos/argilla-io/argilla/.venv/lib/python3.10/site-packages (from datasets) (2.31.0)\n",
                        "Requirement already satisfied: tqdm>=4.62.1 in /Users/agus/github_repos/argilla-io/argilla/.venv/lib/python3.10/site-packages (from datasets) (4.64.0)\n",
                        "Requirement already satisfied: xxhash in /Users/agus/github_repos/argilla-io/argilla/.venv/lib/python3.10/site-packages (from datasets) (3.4.1)\n",
                        "Requirement already satisfied: multiprocess in /Users/agus/github_repos/argilla-io/argilla/.venv/lib/python3.10/site-packages (from datasets) (0.70.15)\n",
                        "Requirement already satisfied: fsspec<=2023.10.0,>=2023.1.0 in /Users/agus/github_repos/argilla-io/argilla/.venv/lib/python3.10/site-packages (from fsspec[http]<=2023.10.0,>=2023.1.0->datasets) (2023.10.0)\n",
                        "Requirement already satisfied: aiohttp in /Users/agus/github_repos/argilla-io/argilla/.venv/lib/python3.10/site-packages (from datasets) (3.8.6)\n",
                        "Requirement already satisfied: huggingface-hub<1.0.0,>=0.14.0 in /Users/agus/github_repos/argilla-io/argilla/.venv/lib/python3.10/site-packages (from datasets) (0.19.3)\n",
                        "Requirement already satisfied: packaging in /Users/agus/github_repos/argilla-io/argilla/.venv/lib/python3.10/site-packages (from datasets) (21.3)\n",
                        "Requirement already satisfied: pyyaml>=5.1 in /Users/agus/github_repos/argilla-io/argilla/.venv/lib/python3.10/site-packages (from datasets) (6.0)\n",
                        "Requirement already satisfied: attrs>=17.3.0 in /Users/agus/github_repos/argilla-io/argilla/.venv/lib/python3.10/site-packages (from aiohttp->datasets) (23.1.0)\n",
                        "Requirement already satisfied: charset-normalizer<4.0,>=2.0 in /Users/agus/github_repos/argilla-io/argilla/.venv/lib/python3.10/site-packages (from aiohttp->datasets) (2.1.0)\n",
                        "Requirement already satisfied: multidict<7.0,>=4.5 in /Users/agus/github_repos/argilla-io/argilla/.venv/lib/python3.10/site-packages (from aiohttp->datasets) (6.0.4)\n",
                        "Requirement already satisfied: async-timeout<5.0,>=4.0.0a3 in /Users/agus/github_repos/argilla-io/argilla/.venv/lib/python3.10/site-packages (from aiohttp->datasets) (4.0.3)\n",
                        "Requirement already satisfied: yarl<2.0,>=1.0 in /Users/agus/github_repos/argilla-io/argilla/.venv/lib/python3.10/site-packages (from aiohttp->datasets) (1.9.2)\n",
                        "Requirement already satisfied: frozenlist>=1.1.1 in /Users/agus/github_repos/argilla-io/argilla/.venv/lib/python3.10/site-packages (from aiohttp->datasets) (1.4.0)\n",
                        "Requirement already satisfied: aiosignal>=1.1.2 in /Users/agus/github_repos/argilla-io/argilla/.venv/lib/python3.10/site-packages (from aiohttp->datasets) (1.3.1)\n",
                        "Requirement already satisfied: filelock in /Users/agus/github_repos/argilla-io/argilla/.venv/lib/python3.10/site-packages (from huggingface-hub<1.0.0,>=0.14.0->datasets) (3.13.1)\n",
                        "Requirement already satisfied: typing-extensions>=3.7.4.3 in /Users/agus/github_repos/argilla-io/argilla/.venv/lib/python3.10/site-packages (from huggingface-hub<1.0.0,>=0.14.0->datasets) (4.8.0)\n",
                        "Requirement already satisfied: pyparsing!=3.0.5,>=2.0.2 in /Users/agus/github_repos/argilla-io/argilla/.venv/lib/python3.10/site-packages (from packaging->datasets) (3.0.9)\n",
                        "Requirement already satisfied: idna<4,>=2.5 in /Users/agus/github_repos/argilla-io/argilla/.venv/lib/python3.10/site-packages (from requests>=2.19.0->datasets) (3.3)\n",
                        "Requirement already satisfied: urllib3<3,>=1.21.1 in /Users/agus/github_repos/argilla-io/argilla/.venv/lib/python3.10/site-packages (from requests>=2.19.0->datasets) (1.26.9)\n",
                        "Requirement already satisfied: certifi>=2017.4.17 in /Users/agus/github_repos/argilla-io/argilla/.venv/lib/python3.10/site-packages (from requests>=2.19.0->datasets) (2023.5.7)\n",
                        "Requirement already satisfied: python-dateutil>=2.8.1 in /Users/agus/github_repos/argilla-io/argilla/.venv/lib/python3.10/site-packages (from pandas->datasets) (2.8.2)\n",
                        "Requirement already satisfied: pytz>=2020.1 in /Users/agus/github_repos/argilla-io/argilla/.venv/lib/python3.10/site-packages (from pandas->datasets) (2022.1)\n",
                        "Requirement already satisfied: six>=1.5 in /Users/agus/github_repos/argilla-io/argilla/.venv/lib/python3.10/site-packages (from python-dateutil>=2.8.1->pandas->datasets) (1.16.0)\n"
                    ]
                }
            ],
            "source": [
                "!pip install argilla\n",
                "!pip install datasets"
            ]
        },
        {
            "cell_type": "code",
            "execution_count": 1,
            "id": "51b3b93c",
            "metadata": {
                "editable": true,
                "papermill": {
                    "duration": null,
                    "end_time": null,
                    "exception": null,
                    "start_time": null,
                    "status": "completed"
                },
                "slideshow": {
                    "slide_type": ""
                },
                "tags": []
            },
            "outputs": [],
            "source": [
                "import argilla as rg\n",
                "from argilla._constants import DEFAULT_API_KEY\n",
                "from datasets import load_dataset"
            ]
        },
        {
            "cell_type": "markdown",
            "id": "c330bed5-38d1-45bf-b871-98e629ab3af8",
            "metadata": {
                "editable": true,
                "slideshow": {
                    "slide_type": ""
                },
                "tags": []
            },
            "source": [
                "In order to run this notebook we will need some credentials to push and load datasets from `Argilla` and 🤗`hub`, let's set them in the following cell:"
            ]
        },
        {
            "cell_type": "code",
            "execution_count": 2,
            "id": "ca4fd7ae-7e31-405e-84c1-974828a903bd",
            "metadata": {
                "editable": true,
                "papermill": {
                    "duration": null,
                    "end_time": null,
                    "exception": null,
                    "start_time": null,
                    "status": "completed"
                },
                "slideshow": {
                    "slide_type": ""
                },
                "tags": [
                    "parameters"
                ]
            },
            "outputs": [],
            "source": [
                "# Argilla credentials\n",
                "api_url = \"http://localhost:6900\" # \"https://<YOUR-HF-SPACE>.hf.space\"\n",
                "api_key = DEFAULT_API_KEY # admin.apikey\n",
                "# Huggingface credentials\n",
                "hf_token = \"hf_...\""
            ]
        },
        {
            "cell_type": "markdown",
            "id": "3464037d-e21e-4db4-bfb4-e300fe4c9e53",
            "metadata": {},
            "source": [
                "Log to argilla:"
            ]
        },
        {
            "cell_type": "code",
            "execution_count": null,
            "id": "728e6af7",
            "metadata": {
                "editable": true,
                "papermill": {
                    "duration": null,
                    "end_time": null,
                    "exception": null,
                    "start_time": null,
                    "status": "completed"
                },
                "slideshow": {
                    "slide_type": ""
                },
                "tags": []
            },
            "outputs": [],
            "source": [
                "#papermill_description=logging-to-argilla\n",
                "rg.init(\n",
                "    api_url=api_url,\n",
                "    api_key=api_key\n",
                ")"
            ]
        },
        {
            "cell_type": "markdown",
            "id": "fa470f0b",
            "metadata": {},
            "source": [
                "### Enable Telemetry"
            ]
        },
        {
            "cell_type": "markdown",
            "id": "95e3ca39",
            "metadata": {},
            "source": [
                "We gain valuable insights from how you interact with our tutorials. To improve ourselves in offering you the most suitable content, using the following lines of code will help us understand that this tutorial is serving you effectively. Though this is entirely anonymous, you can choose to skip this step if you prefer. For more info, please check out the [Telemetry](../../reference/telemetry.md) page."
            ]
        },
        {
            "cell_type": "code",
            "execution_count": null,
            "id": "7671fbb5",
            "metadata": {
                "editable": true,
                "slideshow": {
                    "slide_type": ""
                },
                "tags": []
            },
            "outputs": [],
            "source": [
                "from argilla.utils.telemetry import tutorial_running\n",
                "\n",
                "tutorial_running()"
            ]
        },
        {
            "cell_type": "markdown",
            "id": "f50177aa-4c94-4b8f-8293-a3710e3cb0ca",
            "metadata": {
                "papermill": {
                    "duration": null,
                    "end_time": null,
                    "exception": null,
                    "start_time": null,
                    "status": "completed"
                },
                "tags": []
            },
            "source": [
                "## Configure a `FeedbackDataset` <a class=\"anchor\" id=\"create-feedbackdataset\"></a>"
            ]
        },
        {
            "cell_type": "markdown",
            "id": "529f4e77-6c05-4d59-b153-170acee36b97",
            "metadata": {
                "papermill": {
                    "duration": null,
                    "end_time": null,
                    "exception": null,
                    "start_time": null,
                    "status": "completed"
                },
                "tags": []
            },
            "source": [
                "For this tutorial we will use the [ag_news](https://huggingface.co/datasets/ag_news) dataset which can be downloaded from the 🤗`hub`. We will load only the first 1000 items from the training sample."
            ]
        },
        {
            "cell_type": "code",
            "execution_count": 6,
            "id": "8b01b473-a815-427c-986e-6c2bedf1b5d7",
            "metadata": {
                "editable": true,
                "papermill": {
                    "duration": null,
                    "end_time": null,
                    "exception": null,
                    "start_time": null,
                    "status": "completed"
                },
                "slideshow": {
                    "slide_type": ""
                },
                "tags": []
            },
            "outputs": [
                {
                    "data": {
                        "text/plain": [
                            "Dataset({\n",
                            "    features: ['text', 'label'],\n",
                            "    num_rows: 1000\n",
                            "})"
                        ]
                    },
                    "execution_count": 6,
                    "metadata": {},
                    "output_type": "execute_result"
                }
            ],
            "source": [
                "ds = load_dataset(\"ag_news\", split=\"train[:1000]\")\n",
                "ds"
            ]
        },
        {
            "cell_type": "markdown",
            "id": "5b4eb4ff-9530-4542-9975-25d0f4f725c1",
            "metadata": {
                "papermill": {
                    "duration": null,
                    "end_time": null,
                    "exception": null,
                    "start_time": null,
                    "status": "completed"
                },
                "tags": []
            },
            "source": [
                "We will just load the first 1000 records for this tutorial, but feel free to test the full dataset."
            ]
        },
        {
            "cell_type": "markdown",
            "id": "6d2e7997-62c6-49b3-9462-acd6143346a1",
            "metadata": {
                "papermill": {
                    "duration": null,
                    "end_time": null,
                    "exception": null,
                    "start_time": null,
                    "status": "completed"
                },
                "tags": []
            },
            "source": [
                "This dataset contains a collection of news articles (we can see the content in the `text` column), which have been asigned one of the following classification `labels`: *World (0), Sports (1), Business (2), Sci/Tech (3)*.\n",
                "\n",
                "Let's use the [task templates](https://docs.argilla.io/en/latest/practical_guides/create_update_dataset/create_dataset.html#task-templates) to create a feedback dataset ready for `text-classification`."
            ]
        },
        {
            "cell_type": "code",
            "execution_count": 20,
            "id": "7294b709",
            "metadata": {
                "editable": true,
                "papermill": {
                    "duration": null,
                    "end_time": null,
                    "exception": null,
                    "start_time": null,
                    "status": "completed"
                },
                "slideshow": {
                    "slide_type": ""
                },
                "tags": []
            },
            "outputs": [
                {
                    "data": {
                        "text/plain": [
                            "FeedbackDataset(\n",
                            "   fields=[TextField(name='text', title='Text', required=True, type='text', use_markdown=False)]\n",
                            "   questions=[LabelQuestion(name='label', title='Label', description='Classify the text by selecting the correct label from the given list of labels.', required=True, type='label_selection', labels=['World', 'Sports', 'Business', 'Sci/Tech'], visible_labels=None)]\n",
                            "   guidelines=Classify the articles into one of the four categories.)\n",
                            "   metadata_properties=[])\n",
                            ")"
                        ]
                    },
                    "execution_count": 20,
                    "metadata": {},
                    "output_type": "execute_result"
                }
            ],
            "source": [
                "feedback_dataset = rg.FeedbackDataset.for_text_classification(\n",
                "    labels=[\"World\", \"Sports\", \"Business\", \"Sci/Tech\"],\n",
                "    guidelines=\"Classify the articles into one of the four categories.\",\n",
                ")\n",
                "feedback_dataset"
            ]
        },
        {
            "cell_type": "markdown",
            "id": "5a5238ea",
            "metadata": {
                "papermill": {
                    "duration": null,
                    "end_time": null,
                    "exception": null,
                    "start_time": null,
                    "status": "completed"
                },
                "tags": []
            },
            "source": [
                "We could compare this dataset with the custom configuration we would use previously (we can take a look at the [custom configuration](https://docs.argilla.io/en/latest/practical_guides/create_update_dataset/create_dataset.html#custom-configuration) for more information on the creation of a `FeedbackDataset` when we want a finer control):"
            ]
        },
        {
            "cell_type": "code",
            "execution_count": 8,
            "id": "f4823931-39a2-4942-ba83-894d62e0b7cc",
            "metadata": {
                "editable": true,
                "papermill": {
                    "duration": null,
                    "end_time": null,
                    "exception": null,
                    "start_time": null,
                    "status": "completed"
                },
                "slideshow": {
                    "slide_type": ""
                },
                "tags": []
            },
            "outputs": [
                {
                    "data": {
                        "text/plain": [
                            "FeedbackDataset(\n",
                            "   fields=[TextField(name='text', title='Text from the article', required=True, type='text', use_markdown=False)]\n",
                            "   questions=[LabelQuestion(name='label', title='In which category does this article fit?', description=None, required=True, type='label_selection', labels={'World': '0', 'Sports': '1', 'Business': '2', 'Sci/Tech': '3'}, visible_labels=None)]\n",
                            "   guidelines=Classify the articles into one of the four categories.)\n",
                            "   metadata_properties=[])\n",
                            ")"
                        ]
                    },
                    "execution_count": 8,
                    "metadata": {},
                    "output_type": "execute_result"
                }
            ],
            "source": [
                "feedback_dataset_long = rg.FeedbackDataset(\n",
                "    guidelines=\"Classify the articles into one of the four categories.\",\n",
                "    fields=[\n",
                "        rg.TextField(name=\"text\", title=\"Text from the article\"),\n",
                "    ],\n",
                "    questions=[\n",
                "        rg.LabelQuestion(\n",
                "            name=\"label\",\n",
                "            title=\"In which category does this article fit?\",\n",
                "            labels={\"World\": \"0\", \"Sports\": \"1\", \"Business\": \"2\", \"Sci/Tech\": \"3\"},\n",
                "            required=True,\n",
                "            visible_labels=None\n",
                "        )\n",
                "    ]\n",
                ")\n",
                "feedback_dataset_long"
            ]
        },
        {
            "cell_type": "markdown",
            "id": "77ad10bc-d908-41ba-9a5c-c9cc9d56b67f",
            "metadata": {
                "papermill": {
                    "duration": null,
                    "end_time": null,
                    "exception": null,
                    "start_time": null,
                    "status": "completed"
                },
                "tags": []
            },
            "source": [
                "## Add `FeedbackRecords` <a class=\"anchor\" id=\"add-records\"></a>\n",
                "\n",
                "### From a Hugging Face `dataset` <a class=\"anchor\" id=\"create-feedbackdataset-datasets\"></a>"
            ]
        },
        {
            "cell_type": "markdown",
            "id": "9c194d68-6a87-4bc0-9d4e-f2afdb0561d9",
            "metadata": {
                "papermill": {
                    "duration": null,
                    "end_time": null,
                    "exception": null,
                    "start_time": null,
                    "status": "completed"
                },
                "tags": []
            },
            "source": [
                "The next step once we have our `FeedbackDataset` created is adding the [`FeedbackRecords`](https://docs.argilla.io/en/latest/getting_started/cheatsheet.html#create-records) to it."
            ]
        },
        {
            "cell_type": "markdown",
            "id": "5110f19b-8bf2-4d48-8a1f-ffd89cfa20f5",
            "metadata": {
                "papermill": {
                    "duration": null,
                    "end_time": null,
                    "exception": null,
                    "start_time": null,
                    "status": "completed"
                },
                "tags": []
            },
            "source": [
                "In order to create our records we can just loop over the items in the `datasets.Dataset`."
            ]
        },
        {
            "cell_type": "code",
            "execution_count": 9,
            "id": "825342c7-ef43-4747-8523-18f3e3fc6bd5",
            "metadata": {
                "editable": true,
                "papermill": {
                    "duration": null,
                    "end_time": null,
                    "exception": null,
                    "start_time": null,
                    "status": "completed"
                },
                "slideshow": {
                    "slide_type": ""
                },
                "tags": []
            },
            "outputs": [],
            "source": [
                "records = []\n",
                "for i, item in enumerate(ds):\n",
                "    records.append(\n",
                "        rg.FeedbackRecord(\n",
                "            fields={\n",
                "                \"text\": item[\"text\"],\n",
                "            },\n",
                "            external_id=f\"record-{i}\"\n",
                "        )\n",
                "    )\n",
                "\n",
                "# We can add an external_id to each record to identify it later."
            ]
        },
        {
            "cell_type": "markdown",
            "id": "3eb1ae7a-01f9-439b-87ac-6d0064164c80",
            "metadata": {
                "papermill": {
                    "duration": null,
                    "end_time": null,
                    "exception": null,
                    "start_time": null,
                    "status": "completed"
                },
                "tags": []
            },
            "source": [
                "### From a `pandas.DataFrame` <a class=\"anchor\" id=\"create-feedbackdataset-pandas\"></a>"
            ]
        },
        {
            "cell_type": "markdown",
            "id": "dba19b65-60d3-4507-aca6-1b4b9bc77d08",
            "metadata": {
                "papermill": {
                    "duration": null,
                    "end_time": null,
                    "exception": null,
                    "start_time": null,
                    "status": "completed"
                },
                "tags": []
            },
            "source": [
                "If we had our data in a different format, let's say a `csv` file, maybe it's more direct to read the data using pandas for that.\n",
                "\n",
                "We will transform our dataset to pandas format for this example, and the remaining `FeedbackRecord` creation remains just the same:"
            ]
        },
        {
            "cell_type": "code",
            "execution_count": 10,
            "id": "82beb35b-264f-491a-a6be-bd53f40fb509",
            "metadata": {
                "editable": true,
                "papermill": {
                    "duration": null,
                    "end_time": null,
                    "exception": null,
                    "start_time": null,
                    "status": "completed"
                },
                "slideshow": {
                    "slide_type": ""
                },
                "tags": []
            },
            "outputs": [
                {
                    "data": {
                        "text/html": [
                            "<div>\n",
                            "<style scoped>\n",
                            "    .dataframe tbody tr th:only-of-type {\n",
                            "        vertical-align: middle;\n",
                            "    }\n",
                            "\n",
                            "    .dataframe tbody tr th {\n",
                            "        vertical-align: top;\n",
                            "    }\n",
                            "\n",
                            "    .dataframe thead th {\n",
                            "        text-align: right;\n",
                            "    }\n",
                            "</style>\n",
                            "<table border=\"1\" class=\"dataframe\">\n",
                            "  <thead>\n",
                            "    <tr style=\"text-align: right;\">\n",
                            "      <th></th>\n",
                            "      <th>text</th>\n",
                            "      <th>label</th>\n",
                            "    </tr>\n",
                            "  </thead>\n",
                            "  <tbody>\n",
                            "    <tr>\n",
                            "      <th>0</th>\n",
                            "      <td>Wall St. Bears Claw Back Into the Black (Reute...</td>\n",
                            "      <td>2</td>\n",
                            "    </tr>\n",
                            "    <tr>\n",
                            "      <th>1</th>\n",
                            "      <td>Carlyle Looks Toward Commercial Aerospace (Reu...</td>\n",
                            "      <td>2</td>\n",
                            "    </tr>\n",
                            "    <tr>\n",
                            "      <th>2</th>\n",
                            "      <td>Oil and Economy Cloud Stocks' Outlook (Reuters...</td>\n",
                            "      <td>2</td>\n",
                            "    </tr>\n",
                            "    <tr>\n",
                            "      <th>3</th>\n",
                            "      <td>Iraq Halts Oil Exports from Main Southern Pipe...</td>\n",
                            "      <td>2</td>\n",
                            "    </tr>\n",
                            "    <tr>\n",
                            "      <th>4</th>\n",
                            "      <td>Oil prices soar to all-time record, posing new...</td>\n",
                            "      <td>2</td>\n",
                            "    </tr>\n",
                            "  </tbody>\n",
                            "</table>\n",
                            "</div>"
                        ],
                        "text/plain": [
                            "                                                text  label\n",
                            "0  Wall St. Bears Claw Back Into the Black (Reute...      2\n",
                            "1  Carlyle Looks Toward Commercial Aerospace (Reu...      2\n",
                            "2  Oil and Economy Cloud Stocks' Outlook (Reuters...      2\n",
                            "3  Iraq Halts Oil Exports from Main Southern Pipe...      2\n",
                            "4  Oil prices soar to all-time record, posing new...      2"
                        ]
                    },
                    "execution_count": 10,
                    "metadata": {},
                    "output_type": "execute_result"
                }
            ],
            "source": [
                "df_dataset = ds.to_pandas()\n",
                "df_dataset.head()"
            ]
        },
        {
            "cell_type": "code",
            "execution_count": null,
            "id": "7c7b33af-297c-44ab-981c-b62cf1406843",
            "metadata": {
                "papermill": {
                    "duration": null,
                    "end_time": null,
                    "exception": null,
                    "start_time": null,
                    "status": "completed"
                },
                "tags": []
            },
            "outputs": [],
            "source": [
                "records_pandas = []\n",
                "for i, item in df_dataset.iterrows():\n",
                "    records_pandas.append(\n",
                "        rg.FeedbackRecord(\n",
                "            fields={\n",
                "                \"text\": item[\"text\"],\n",
                "            },\n",
                "            external_id=f\"record-{i}\"\n",
                "        )\n",
                "    )"
            ]
        },
        {
            "cell_type": "markdown",
            "id": "dd3f1c38-3b56-46e8-8cac-7b3d21beb38d",
            "metadata": {
                "papermill": {
                    "duration": null,
                    "end_time": null,
                    "exception": null,
                    "start_time": null,
                    "status": "completed"
                },
                "tags": []
            },
            "source": [
                "Let's add our records to the dataset:"
            ]
        },
        {
            "cell_type": "code",
            "execution_count": 21,
            "id": "9bd0ec1c-1fcb-4d4f-a0a2-4f581a670e8b",
            "metadata": {
                "editable": true,
                "papermill": {
                    "duration": null,
                    "end_time": null,
                    "exception": null,
                    "start_time": null,
                    "status": "completed"
                },
                "slideshow": {
                    "slide_type": ""
                },
                "tags": []
            },
            "outputs": [],
            "source": [
                "feedback_dataset.add_records(records)"
            ]
        },
        {
            "cell_type": "markdown",
            "id": "16fe9266-7a03-4be6-8789-b141854bcdda",
            "metadata": {
                "papermill": {
                    "duration": null,
                    "end_time": null,
                    "exception": null,
                    "start_time": null,
                    "status": "completed"
                },
                "tags": []
            },
            "source": [
                "By now we have our dataset with the texts ready to be labeled, let's push it to `Argilla`."
            ]
        },
        {
            "cell_type": "markdown",
            "id": "b867eb5b-0b5a-42b1-88f2-f5b67519243e",
            "metadata": {
                "papermill": {
                    "duration": null,
                    "end_time": null,
                    "exception": null,
                    "start_time": null,
                    "status": "completed"
                },
                "tags": []
            },
            "source": [
                "## Save and load a `FeedbackDataset` <a class=\"anchor\" id=\"save-dataset\"></a>\n",
                "\n",
                "### From `Argilla` <a class=\"anchor\" id=\"push-to-argilla\"></a>"
            ]
        },
        {
            "cell_type": "code",
            "execution_count": null,
            "id": "8f5581dc-8509-484e-ad4e-c73d15227cc9",
            "metadata": {
                "editable": true,
                "papermill": {
                    "duration": null,
                    "end_time": null,
                    "exception": null,
                    "start_time": null,
                    "status": "completed"
                },
                "slideshow": {
                    "slide_type": ""
                },
                "tags": []
            },
            "outputs": [],
            "source": [
                "#papermill_description=push-dataset-to-argilla\n",
                "try:\n",
                "    # delete old dataset\n",
                "    remote_dataset = feedback_dataset.from_argilla(name=\"end2end_textclassification\", workspace=\"argilla\")\n",
                "    remote_dataset.delete()\n",
                "except:\n",
                "    pass\n",
                "remote_dataset = feedback_dataset.push_to_argilla(name=\"end2end_textclassification\", workspace=\"argilla\")"
            ]
        },
        {
            "cell_type": "markdown",
            "id": "aff0f7fd-722f-4f92-912d-029b134848f3",
            "metadata": {
                "papermill": {
                    "duration": null,
                    "end_time": null,
                    "exception": null,
                    "start_time": null,
                    "status": "completed"
                },
                "tags": []
            },
            "source": [
                "If we go to our `Argilla` instance we should see a similar screen like the following."
            ]
        },
        {
            "cell_type": "markdown",
            "id": "827fce93",
            "metadata": {
                "papermill": {
                    "duration": null,
                    "end_time": null,
                    "exception": null,
                    "start_time": null,
                    "status": "completed"
                },
                "tags": []
            },
            "source": [
                "![feedback-dataset](../../../../_static/tutorials/end2end/text-classification/feedback-dataset-text-classification-1.png)"
            ]
        },
        {
            "cell_type": "markdown",
            "id": "e5f09e2a-e192-4526-a686-b4d516ca5066",
            "metadata": {
                "papermill": {
                    "duration": null,
                    "end_time": null,
                    "exception": null,
                    "start_time": null,
                    "status": "completed"
                },
                "tags": []
            },
            "source": [
                "Where we can see the *Text from the article* we wanted, and the different labels to choose from."
            ]
        },
        {
            "cell_type": "markdown",
            "id": "fd877169-bd9a-4596-981d-47d2ff4c7c24",
            "metadata": {
                "papermill": {
                    "duration": null,
                    "end_time": null,
                    "exception": null,
                    "start_time": null,
                    "status": "completed"
                },
                "tags": []
            },
            "source": [
                "We can now download the dataset from `Argilla` just to check it:"
            ]
        },
        {
            "cell_type": "code",
            "execution_count": 15,
            "id": "fbae2025-c4fe-4e0c-b445-9ee308baa4a5",
            "metadata": {
                "editable": true,
                "papermill": {
                    "duration": null,
                    "end_time": null,
                    "exception": null,
                    "start_time": null,
                    "status": "completed"
                },
                "slideshow": {
                    "slide_type": ""
                },
                "tags": []
            },
            "outputs": [
                {
                    "data": {
                        "text/plain": [
                            "RemoteFeedbackDataset(\n",
                            "   id=52b0dfc2-ed85-4805-923c-5d51b51ec4c9\n",
                            "   name=end2end_textclassification\n",
                            "   workspace=Workspace(id=ce760ed7-0fdf-4d79-b9b7-1c0e4ea896cd, name=argilla, inserted_at=2023-11-23 09:46:05.591993, updated_at=2023-11-23 09:46:05.591993)\n",
                            "   url=http://localhost:6900/dataset/52b0dfc2-ed85-4805-923c-5d51b51ec4c9/annotation-mode\n",
                            "   fields=[RemoteTextField(id=UUID('2835bf0e-1259-45b9-a97c-f9b671395563'), client=None, name='text', title='Text', required=True, type='text', use_markdown=False)]\n",
                            "   questions=[RemoteLabelQuestion(id=UUID('bb6fc4f0-e4b7-480c-84a1-df717de4ac97'), client=None, name='label', title='Label', description=None, required=True, type='label_selection', labels=['World', 'Sports', 'Business', 'Sci/Tech'], visible_labels=None)]\n",
                            "   guidelines=Classify the articles into one of the four categories.\n",
                            "   metadata_properties=[]\n",
                            ")"
                        ]
                    },
                    "execution_count": 15,
                    "metadata": {},
                    "output_type": "execute_result"
                }
            ],
            "source": [
                "remote_dataset = rg.FeedbackDataset.from_argilla(\"end2end_textclassification\", workspace=\"argilla\")\n",
                "remote_dataset"
            ]
        },
        {
            "cell_type": "markdown",
            "id": "1f16d868-a9df-4f01-85ac-06bfcee19101",
            "metadata": {
                "papermill": {
                    "duration": null,
                    "end_time": null,
                    "exception": null,
                    "start_time": null,
                    "status": "completed"
                },
                "tags": []
            },
            "source": [
                "### From Hugging Face hub <a class=\"anchor\" id=\"push-to-hf-hub\"></a>\n",
                "\n",
                "If we wanted to share our dataset with the world, we could use the Huggingface hub for it."
            ]
        },
        {
            "cell_type": "markdown",
            "id": "24aae42a-6b0f-40eb-9d92-4aafcb735844",
            "metadata": {
                "papermill": {
                    "duration": null,
                    "end_time": null,
                    "exception": null,
                    "start_time": null,
                    "status": "completed"
                },
                "tags": []
            },
            "source": [
                "First we need to login to huggingface. The following cell will log us with our previous token.\n",
                "\n",
                "If we don't have one already, we can obtain it from [here](https://huggingface.co/docs/hub/security-tokens) (remember to set the *write* access)."
            ]
        },
        {
            "cell_type": "code",
            "execution_count": 16,
            "id": "1fabcc89-323f-4f4f-9ab9-4b778dd93474",
            "metadata": {
                "editable": true,
                "papermill": {
                    "duration": null,
                    "end_time": null,
                    "exception": null,
                    "start_time": null,
                    "status": "completed"
                },
                "slideshow": {
                    "slide_type": ""
                },
                "tags": []
            },
            "outputs": [
                {
                    "name": "stdout",
                    "output_type": "stream",
                    "text": [
                        "Token will not been saved to git credential helper. Pass `add_to_git_credential=True` if you want to set the git credential as well.\n",
                        "Token is valid (permission: write).\n",
                        "Your token has been saved to /Users/agus/.cache/huggingface/token\n",
                        "Login successful\n"
                    ]
                }
            ],
            "source": [
                "from huggingface_hub import login\n",
                "\n",
                "login(token=hf_token)"
            ]
        },
        {
            "cell_type": "markdown",
            "id": "694c381d-7f7d-4b2d-938a-20df260ec957",
            "metadata": {
                "papermill": {
                    "duration": null,
                    "end_time": null,
                    "exception": null,
                    "start_time": null,
                    "status": "completed"
                },
                "tags": []
            },
            "source": [
                "And now we can just call the method on the `FeedbackDataset`."
            ]
        },
        {
            "cell_type": "code",
            "execution_count": null,
            "id": "1c471559-916c-4bf8-b115-3d1ba0be621b",
            "metadata": {
                "editable": true,
                "papermill": {
                    "duration": null,
                    "end_time": null,
                    "exception": null,
                    "start_time": null,
                    "status": "completed"
                },
                "slideshow": {
                    "slide_type": ""
                },
                "tags": []
            },
            "outputs": [],
            "source": [
                "#papermill_description=push-dataset-to-huggingface\n",
                "remote_dataset.push_to_huggingface(\"argilla/end2end_textclassification\")"
            ]
        },
        {
            "cell_type": "markdown",
            "id": "761250bc",
            "metadata": {},
            "source": [
                "We can now download the dataset from Hugging Face just to check it:"
            ]
        },
        {
            "cell_type": "code",
            "execution_count": null,
            "id": "c5405ba2",
            "metadata": {
                "editable": true,
                "slideshow": {
                    "slide_type": ""
                },
                "tags": []
            },
            "outputs": [],
            "source": [
                "local_dataset = rg.FeedbackDataset.from_huggingface(\"argilla/end2end_textclassification\")"
            ]
        },
        {
            "cell_type": "markdown",
            "id": "408cb3c9-c784-45c8-b206-058a23b801d8",
            "metadata": {
                "papermill": {
                    "duration": null,
                    "end_time": null,
                    "exception": null,
                    "start_time": null,
                    "status": "completed"
                },
                "tags": []
            },
            "source": [
                "## Conclusion"
            ]
        },
        {
            "cell_type": "markdown",
            "id": "6cdb1244-1589-4e85-be36-e0c959817c6d",
            "metadata": {
                "papermill": {
                    "duration": null,
                    "end_time": null,
                    "exception": null,
                    "start_time": null,
                    "status": "completed"
                },
                "tags": []
            },
            "source": [
                "In this tutorial we created an `Argilla` `FeedbackDataset` for text classification, starting from [ag_news](https://huggingface.co/datasets/ag_news).\n",
                "\n",
                "We created a `FeedbackDataset` for text classification with a `LabelQuestion`, from data stored as a `datasets.Dataset` and a `pandas.DataFrame`.\n",
                "This dataset was pushed both to `Argilla` where we can curate and label the records, and finally pushed it to the 🤗`hub`.\n",
                "\n",
                "To learn more about how to work with the `FeedbackDataset` check the [cheatsheet](https://docs.argilla.io/en/latest/getting_started/cheatsheet.html#cheatsheet)."
            ]
        }
    ],
    "metadata": {
        "kernelspec": {
            "display_name": "Python 3 (ipykernel)",
            "language": "python",
            "name": "python3"
        },
        "language_info": {
            "codemirror_mode": {
                "name": "ipython",
                "version": 3
            },
            "file_extension": ".py",
            "mimetype": "text/x-python",
            "name": "python",
            "nbconvert_exporter": "python",
            "pygments_lexer": "ipython3",
            "version": "3.10.13"
        },
        "papermill": {
            "default_parameters": {},
            "duration": 5.95317,
            "end_time": "2023-11-15T10:59:21.949504",
            "environment_variables": {},
            "exception": null,
            "input_path": "/home/agustin/github_repos/argilla-io/argilla/docs/_source/practical_guides/examples/text_classification/text-classification-create-dataset.ipynb",
            "output_path": "/home/agustin/github_repos/argilla-io/argilla/docs/_source/practical_guides/examples/text_classification/text-classification-create-dataset.ipynb",
            "parameters": {},
            "start_time": "2023-11-15T10:59:15.996334",
            "version": "2.5.0"
        }
    },
    "nbformat": 4,
    "nbformat_minor": 5
}
