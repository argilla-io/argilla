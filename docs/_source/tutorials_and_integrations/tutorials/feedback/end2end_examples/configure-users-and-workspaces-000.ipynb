{
 "cells": [
  {
   "cell_type": "markdown",
   "id": "fc0c600b",
   "metadata": {
    "editable": true,
    "papermill": {
     "duration": 0.046655,
     "end_time": "2023-11-15T10:59:17.308341",
     "exception": false,
     "start_time": "2023-11-15T10:59:17.261686",
     "status": "completed"
    },
    "slideshow": {
     "slide_type": ""
    },
    "tags": []
   },
   "source": [
    "# Configuring `Users` and `Workspaces`\n",
    "\n",
    "This tutorial is part of a series in which we will get to know the `FeedbackDataset`. In this step, we will show how to configure `Users` and `Workspaces`. If you need additional context, consult [user management](../../../../getting_started/installation/configurations/user_management.md) and [workspace management](../../../../getting_started/installation/configurations/workspace_management.md).\n",
    "\n",
    "![workflow](../../../../_static/tutorials/end2end/base/workflow_users_and_workspaces.png)"
   ]
  },
  {
   "cell_type": "markdown",
   "id": "e557a44e-26fb-4b52-91ec-2b49d550a5cd",
   "metadata": {
    "papermill": {
     "duration": 0.011949,
     "end_time": "2023-11-15T10:59:17.340523",
     "exception": false,
     "start_time": "2023-11-15T10:59:17.328574",
     "status": "completed"
    },
    "tags": []
   },
   "source": [
    "## Table of Contents\n",
    "\n",
    "1. [Configure a FeedbackDataset](#create-feedbackdataset)\n",
    "2. [Add records](#add-records)\n",
    "   1. [From a Hugging Face dataset](#create-feedbackdataset-datasets)\n",
    "   2. [From a pandas.DataFrame](#create-feedbackdataset-pandas)\n",
    "3. [Save a FeedbackDataset](#save-the-dataset)\n",
    "   1. [Push our FeedbackDataset to Argilla](#push-to-argilla)\n",
    "   2. [Push our FeedbackDataset to the Hugging Face hub](#push-to-hf-hub)\n",
    "4. [Conclusions](#conclusions)"
   ]
  },
  {
   "cell_type": "markdown",
   "id": "566b7b82",
   "metadata": {
    "papermill": {
     "duration": 0.007744,
     "end_time": "2023-11-15T10:59:17.355040",
     "exception": false,
     "start_time": "2023-11-15T10:59:17.347296",
     "status": "completed"
    },
    "tags": []
   },
   "source": [
    "## Running Argilla\n",
    "\n",
    "For this tutorial, you will need to have an Argilla server running. There are two main options for deploying and running Argilla:\n",
    "\n",
    "**Deploy Argilla on Hugging Face Spaces:** If you want to run tutorials with external notebooks (e.g., Google Colab) and you have an account on Hugging Face, you can deploy Argilla on Spaces with a few clicks:\n",
    "\n",
    "[![deploy on spaces](https://huggingface.co/datasets/huggingface/badges/raw/main/deploy-to-spaces-lg.svg)](https://huggingface.co/new-space?template=argilla/argilla-template-space)\n",
    "\n",
    "For details about configuring your deployment, check the [official Hugging Face Hub guide](https://huggingface.co/docs/hub/spaces-sdks-docker-argilla).\n",
    "\n",
    "**Launch Argilla using Argilla's quickstart Docker image**: This is the recommended option if you want [Argilla running on your local machine](../../../../getting_started/quickstart.md). Note that this option will only let you run the tutorial locally and not with an external notebook service.\n",
    "\n",
    "For more information on deployment options, please check the Deployment section of the documentation.\n",
    "\n",
    "<div class=\"alert alert-info\">\n",
    "\n",
    "Tip\n",
    "\n",
    "This tutorial is a Jupyter Notebook. There are two options to run it:\n",
    "\n",
    "- Use the Open in Colab button at the top of this page. This option allows you to run the notebook directly on Google Colab. Don't forget to change the runtime type to GPU for faster model training and inference.\n",
    "- Download the .ipynb file by clicking on the View source link at the top of the page. This option allows you to download the notebook and run it on your local machine or on a Jupyter notebook tool of your choice.\n",
    "</div>"
   ]
  },
  {
   "cell_type": "markdown",
   "id": "2ec89efe-11a2-46ac-a9af-467d2628f7fd",
   "metadata": {
    "papermill": {
     "duration": 0.004557,
     "end_time": "2023-11-15T10:59:17.364909",
     "exception": false,
     "start_time": "2023-11-15T10:59:17.360352",
     "status": "completed"
    },
    "tags": []
   },
   "source": [
    "First let's install our dependencies and import the necessary libraries:"
   ]
  },
  {
   "cell_type": "code",
   "execution_count": 38,
   "id": "bbbd3c38-1e3c-4d7f-97e6-22dd3b668fc8",
   "metadata": {
    "editable": true,
    "papermill": {
     "duration": 3.857186,
     "end_time": "2023-11-15T10:59:21.228277",
     "exception": false,
     "start_time": "2023-11-15T10:59:17.371091",
     "status": "completed"
    },
    "slideshow": {
     "slide_type": ""
    },
    "tags": []
   },
   "outputs": [
    {
     "name": "stdout",
     "output_type": "stream",
     "text": [
      "Looking in indexes: https://pypi.org/simple, https://dmrepository.datamaran.com:8443/repository/dmPYTHON/simple\n",
      "Requirement already satisfied: argilla[server] in /Users/davidberenstein/Documents/programming/argilla/argilla/.venv/lib/python3.10/site-packages (1.19.0)\n",
      "Requirement already satisfied: pandas<2.0.0,>=1.0.0 in /Users/davidberenstein/Documents/programming/argilla/argilla/.venv/lib/python3.10/site-packages (from argilla[server]) (1.5.3)\n",
      "Requirement already satisfied: backoff in /Users/davidberenstein/Documents/programming/argilla/argilla/.venv/lib/python3.10/site-packages (from argilla[server]) (2.2.1)\n",
      "Requirement already satisfied: typer<0.10.0,>=0.6.0 in /Users/davidberenstein/Documents/programming/argilla/argilla/.venv/lib/python3.10/site-packages (from argilla[server]) (0.7.0)\n",
      "Requirement already satisfied: pydantic<2.0,>=1.10.7 in /Users/davidberenstein/Documents/programming/argilla/argilla/.venv/lib/python3.10/site-packages (from argilla[server]) (1.10.12)\n",
      "Requirement already satisfied: monotonic in /Users/davidberenstein/Documents/programming/argilla/argilla/.venv/lib/python3.10/site-packages (from argilla[server]) (1.6)\n",
      "Requirement already satisfied: wrapt<1.15,>=1.13 in /Users/davidberenstein/Documents/programming/argilla/argilla/.venv/lib/python3.10/site-packages (from argilla[server]) (1.14.1)\n",
      "Requirement already satisfied: httpx<=0.25,>=0.15 in /Users/davidberenstein/Documents/programming/argilla/argilla/.venv/lib/python3.10/site-packages (from argilla[server]) (0.23.3)\n",
      "Requirement already satisfied: rich!=13.1.0 in /Users/davidberenstein/Documents/programming/argilla/argilla/.venv/lib/python3.10/site-packages (from argilla[server]) (13.5.2)\n",
      "Requirement already satisfied: numpy<1.24.0 in /Users/davidberenstein/Documents/programming/argilla/argilla/.venv/lib/python3.10/site-packages (from argilla[server]) (1.23.5)\n",
      "Requirement already satisfied: deprecated~=1.2.0 in /Users/davidberenstein/Documents/programming/argilla/argilla/.venv/lib/python3.10/site-packages (from argilla[server]) (1.2.14)\n",
      "Requirement already satisfied: tqdm>=4.27.0 in /Users/davidberenstein/Documents/programming/argilla/argilla/.venv/lib/python3.10/site-packages (from argilla[server]) (4.66.1)\n",
      "Requirement already satisfied: packaging>=20.0 in /Users/davidberenstein/Documents/programming/argilla/argilla/.venv/lib/python3.10/site-packages (from argilla[server]) (23.1)\n",
      "Collecting opensearch-py~=2.0.0\n",
      "  Using cached https://dmrepository.datamaran.com:8443/repository/dmPYTHON/packages/opensearch-py/2.0.1/opensearch_py-2.0.1-py2.py3-none-any.whl (214 kB)\n",
      "Collecting python-multipart~=0.0.5\n",
      "  Using cached https://dmrepository.datamaran.com:8443/repository/dmPYTHON/packages/python-multipart/0.0.6/python_multipart-0.0.6-py3-none-any.whl (45 kB)\n",
      "Collecting alembic~=1.9.0\n",
      "  Using cached https://dmrepository.datamaran.com:8443/repository/dmPYTHON/packages/alembic/1.9.4/alembic-1.9.4-py3-none-any.whl (210 kB)\n",
      "Collecting segment-analytics-python==2.2.0\n",
      "  Using cached https://dmrepository.datamaran.com:8443/repository/dmPYTHON/packages/segment-analytics-python/2.2.0/segment_analytics_python-2.2.0-py2.py3-none-any.whl (23 kB)\n",
      "Collecting smart-open\n",
      "  Using cached https://dmrepository.datamaran.com:8443/repository/dmPYTHON/packages/smart-open/6.4.0/smart_open-6.4.0-py3-none-any.whl (57 kB)\n",
      "Collecting aiofiles<22.2,>=0.6\n",
      "  Using cached https://dmrepository.datamaran.com:8443/repository/dmPYTHON/packages/aiofiles/22.1.0/aiofiles-22.1.0-py3-none-any.whl (14 kB)\n",
      "Collecting aiosqlite>=0.19.0\n",
      "  Using cached https://dmrepository.datamaran.com:8443/repository/dmPYTHON/packages/aiosqlite/0.19.0/aiosqlite-0.19.0-py3-none-any.whl (15 kB)\n",
      "Requirement already satisfied: psutil<5.10,>=5.8 in /Users/davidberenstein/Documents/programming/argilla/argilla/.venv/lib/python3.10/site-packages (from argilla[server]) (5.9.5)\n",
      "Collecting fastapi>=0.103.1\n",
      "  Using cached https://dmrepository.datamaran.com:8443/repository/dmPYTHON/packages/fastapi/0.104.1/fastapi-0.104.1-py3-none-any.whl (92 kB)\n",
      "Requirement already satisfied: PyYAML<6.1.0,>=5.4.1 in /Users/davidberenstein/Documents/programming/argilla/argilla/.venv/lib/python3.10/site-packages (from argilla[server]) (6.0.1)\n",
      "Collecting python-jose[cryptography]<3.4,>=3.2\n",
      "  Using cached https://dmrepository.datamaran.com:8443/repository/dmPYTHON/packages/python-jose/3.3.0/python_jose-3.3.0-py2.py3-none-any.whl (33 kB)\n",
      "Collecting passlib[bcrypt]~=1.7.4\n",
      "  Using cached https://dmrepository.datamaran.com:8443/repository/dmPYTHON/packages/passlib/1.7.4/passlib-1.7.4-py2.py3-none-any.whl (525 kB)\n",
      "Collecting uvicorn[standard]<0.21.0,>=0.15.0\n",
      "  Using cached https://dmrepository.datamaran.com:8443/repository/dmPYTHON/packages/uvicorn/0.20.0/uvicorn-0.20.0-py3-none-any.whl (56 kB)\n",
      "Collecting scikit-learn>=0.24.2\n",
      "  Using cached https://dmrepository.datamaran.com:8443/repository/dmPYTHON/packages/scikit-learn/1.3.2/scikit_learn-1.3.2-cp310-cp310-macosx_12_0_arm64.whl (9.5 MB)\n",
      "Requirement already satisfied: SQLAlchemy~=2.0.0 in /Users/davidberenstein/Documents/programming/argilla/argilla/.venv/lib/python3.10/site-packages (from argilla[server]) (2.0.20)\n",
      "Collecting greenlet>=2.0.0\n",
      "  Using cached https://dmrepository.datamaran.com:8443/repository/dmPYTHON/packages/greenlet/3.0.1/greenlet-3.0.1-cp310-cp310-macosx_10_9_universal2.whl (261 kB)\n",
      "Collecting brotli-asgi<1.3,>=1.1\n",
      "  Using cached https://dmrepository.datamaran.com:8443/repository/dmPYTHON/packages/brotli-asgi/1.2.0/brotli_asgi-1.2.0-py3-none-any.whl (4.5 kB)\n",
      "Collecting elasticsearch8[async]~=8.7.0\n",
      "  Using cached https://dmrepository.datamaran.com:8443/repository/dmPYTHON/packages/elasticsearch8/8.7.0/elasticsearch8-8.7.0-py3-none-any.whl (388 kB)\n",
      "Collecting backoff\n",
      "  Using cached https://dmrepository.datamaran.com:8443/repository/dmPYTHON/packages/backoff/1.11.1/backoff-1.11.1-py2.py3-none-any.whl (13 kB)\n",
      "Requirement already satisfied: requests~=2.7 in /Users/davidberenstein/Documents/programming/argilla/argilla/.venv/lib/python3.10/site-packages (from segment-analytics-python==2.2.0->argilla[server]) (2.31.0)\n",
      "Requirement already satisfied: python-dateutil~=2.2 in /Users/davidberenstein/Documents/programming/argilla/argilla/.venv/lib/python3.10/site-packages (from segment-analytics-python==2.2.0->argilla[server]) (2.8.2)\n",
      "Collecting Mako\n",
      "  Using cached https://dmrepository.datamaran.com:8443/repository/dmPYTHON/packages/mako/1.3.0/Mako-1.3.0-py3-none-any.whl (78 kB)\n",
      "Collecting starlette>=0.13.4\n",
      "  Using cached https://dmrepository.datamaran.com:8443/repository/dmPYTHON/packages/starlette/0.32.0.post1/starlette-0.32.0.post1-py3-none-any.whl (70 kB)\n",
      "Collecting brotli>=1.0.7\n",
      "  Using cached https://dmrepository.datamaran.com:8443/repository/dmPYTHON/packages/brotli/1.1.0/Brotli-1.1.0-cp310-cp310-macosx_10_9_universal2.whl (873 kB)\n",
      "Collecting elastic-transport<9,>=8\n",
      "  Using cached https://dmrepository.datamaran.com:8443/repository/dmPYTHON/packages/elastic-transport/8.10.0/elastic_transport-8.10.0-py3-none-any.whl (59 kB)\n",
      "Requirement already satisfied: aiohttp<4,>=3 in /Users/davidberenstein/Documents/programming/argilla/argilla/.venv/lib/python3.10/site-packages (from elasticsearch8[async]~=8.7.0->argilla[server]) (3.8.5)\n",
      "Collecting typing-extensions>=4.8.0\n",
      "  Using cached https://dmrepository.datamaran.com:8443/repository/dmPYTHON/packages/typing-extensions/4.8.0/typing_extensions-4.8.0-py3-none-any.whl (31 kB)\n",
      "Collecting starlette>=0.13.4\n",
      "  Using cached https://dmrepository.datamaran.com:8443/repository/dmPYTHON/packages/starlette/0.27.0/starlette-0.27.0-py3-none-any.whl (66 kB)\n",
      "Requirement already satisfied: anyio<4.0.0,>=3.7.1 in /Users/davidberenstein/Documents/programming/argilla/argilla/.venv/lib/python3.10/site-packages (from fastapi>=0.103.1->argilla[server]) (3.7.1)\n",
      "Requirement already satisfied: sniffio in /Users/davidberenstein/Documents/programming/argilla/argilla/.venv/lib/python3.10/site-packages (from httpx<=0.25,>=0.15->argilla[server]) (1.3.0)\n",
      "Requirement already satisfied: rfc3986[idna2008]<2,>=1.3 in /Users/davidberenstein/Documents/programming/argilla/argilla/.venv/lib/python3.10/site-packages (from httpx<=0.25,>=0.15->argilla[server]) (1.5.0)\n",
      "Requirement already satisfied: httpcore<0.17.0,>=0.15.0 in /Users/davidberenstein/Documents/programming/argilla/argilla/.venv/lib/python3.10/site-packages (from httpx<=0.25,>=0.15->argilla[server]) (0.16.3)\n",
      "Requirement already satisfied: certifi in /Users/davidberenstein/Documents/programming/argilla/argilla/.venv/lib/python3.10/site-packages (from httpx<=0.25,>=0.15->argilla[server]) (2023.7.22)\n",
      "Collecting urllib3<2,>=1.21.1\n",
      "  Using cached https://dmrepository.datamaran.com:8443/repository/dmPYTHON/packages/urllib3/1.26.18/urllib3-1.26.18-py2.py3-none-any.whl (143 kB)\n",
      "Requirement already satisfied: pytz>=2020.1 in /Users/davidberenstein/Documents/programming/argilla/argilla/.venv/lib/python3.10/site-packages (from pandas<2.0.0,>=1.0.0->argilla[server]) (2023.3)\n",
      "Collecting bcrypt>=3.1.0\n",
      "  Using cached https://dmrepository.datamaran.com:8443/repository/dmPYTHON/packages/bcrypt/4.0.1/bcrypt-4.0.1-cp36-abi3-macosx_10_10_universal2.whl (473 kB)\n",
      "Collecting pyasn1\n",
      "  Downloading https://dmrepository.datamaran.com:8443/repository/dmPYTHON/packages/pyasn1/0.5.1/pyasn1-0.5.1-py2.py3-none-any.whl (84 kB)\n",
      "\u001b[2K     \u001b[90m━━━━━━━━━━━━━━━━━━━━━━━━━━━━━━━━━━━━━━━━\u001b[0m \u001b[32m84.9/84.9 kB\u001b[0m \u001b[31m5.7 MB/s\u001b[0m eta \u001b[36m0:00:00\u001b[0m\n",
      "\u001b[?25hCollecting rsa\n",
      "  Using cached https://dmrepository.datamaran.com:8443/repository/dmPYTHON/packages/rsa/4.9/rsa-4.9-py3-none-any.whl (34 kB)\n",
      "Collecting ecdsa!=0.15\n",
      "  Using cached https://dmrepository.datamaran.com:8443/repository/dmPYTHON/packages/ecdsa/0.18.0/ecdsa-0.18.0-py2.py3-none-any.whl (142 kB)\n",
      "Collecting cryptography>=3.4.0\n",
      "  Using cached https://dmrepository.datamaran.com:8443/repository/dmPYTHON/packages/cryptography/41.0.5/cryptography-41.0.5-cp37-abi3-macosx_10_12_universal2.whl (5.4 MB)\n",
      "Requirement already satisfied: pygments<3.0.0,>=2.13.0 in /Users/davidberenstein/Documents/programming/argilla/argilla/.venv/lib/python3.10/site-packages (from rich!=13.1.0->argilla[server]) (2.16.1)\n",
      "Requirement already satisfied: markdown-it-py>=2.2.0 in /Users/davidberenstein/Documents/programming/argilla/argilla/.venv/lib/python3.10/site-packages (from rich!=13.1.0->argilla[server]) (3.0.0)\n",
      "Requirement already satisfied: scipy>=1.5.0 in /Users/davidberenstein/Documents/programming/argilla/argilla/.venv/lib/python3.10/site-packages (from scikit-learn>=0.24.2->argilla[server]) (1.11.1)\n",
      "Collecting joblib>=1.1.1\n",
      "  Using cached https://dmrepository.datamaran.com:8443/repository/dmPYTHON/packages/joblib/1.3.2/joblib-1.3.2-py3-none-any.whl (302 kB)\n",
      "Collecting threadpoolctl>=2.0.0\n",
      "  Using cached https://dmrepository.datamaran.com:8443/repository/dmPYTHON/packages/threadpoolctl/3.2.0/threadpoolctl-3.2.0-py3-none-any.whl (15 kB)\n",
      "Requirement already satisfied: click<9.0.0,>=7.1.1 in /Users/davidberenstein/Documents/programming/argilla/argilla/.venv/lib/python3.10/site-packages (from typer<0.10.0,>=0.6.0->argilla[server]) (8.1.6)\n",
      "Requirement already satisfied: h11>=0.8 in /Users/davidberenstein/Documents/programming/argilla/argilla/.venv/lib/python3.10/site-packages (from uvicorn[standard]<0.21.0,>=0.15.0->argilla[server]) (0.14.0)\n",
      "Collecting httptools>=0.5.0\n",
      "  Using cached https://dmrepository.datamaran.com:8443/repository/dmPYTHON/packages/httptools/0.6.1/httptools-0.6.1-cp310-cp310-macosx_10_9_universal2.whl (149 kB)\n",
      "Collecting websockets>=10.4\n",
      "  Using cached https://dmrepository.datamaran.com:8443/repository/dmPYTHON/packages/websockets/12.0/websockets-12.0-cp310-cp310-macosx_11_0_arm64.whl (121 kB)\n",
      "Collecting python-dotenv>=0.13\n",
      "  Using cached https://dmrepository.datamaran.com:8443/repository/dmPYTHON/packages/python-dotenv/1.0.0/python_dotenv-1.0.0-py3-none-any.whl (19 kB)\n",
      "Collecting uvloop!=0.15.0,!=0.15.1,>=0.14.0\n",
      "  Using cached https://dmrepository.datamaran.com:8443/repository/dmPYTHON/packages/uvloop/0.19.0/uvloop-0.19.0-cp310-cp310-macosx_10_9_universal2.whl (1.4 MB)\n",
      "Collecting watchfiles>=0.13\n",
      "  Using cached https://dmrepository.datamaran.com:8443/repository/dmPYTHON/packages/watchfiles/0.21.0/watchfiles-0.21.0-cp310-cp310-macosx_11_0_arm64.whl (418 kB)\n",
      "Requirement already satisfied: async-timeout<5.0,>=4.0.0a3 in /Users/davidberenstein/Documents/programming/argilla/argilla/.venv/lib/python3.10/site-packages (from aiohttp<4,>=3->elasticsearch8[async]~=8.7.0->argilla[server]) (4.0.3)\n",
      "Requirement already satisfied: attrs>=17.3.0 in /Users/davidberenstein/Documents/programming/argilla/argilla/.venv/lib/python3.10/site-packages (from aiohttp<4,>=3->elasticsearch8[async]~=8.7.0->argilla[server]) (23.1.0)\n",
      "Requirement already satisfied: frozenlist>=1.1.1 in /Users/davidberenstein/Documents/programming/argilla/argilla/.venv/lib/python3.10/site-packages (from aiohttp<4,>=3->elasticsearch8[async]~=8.7.0->argilla[server]) (1.4.0)\n",
      "Requirement already satisfied: charset-normalizer<4.0,>=2.0 in /Users/davidberenstein/Documents/programming/argilla/argilla/.venv/lib/python3.10/site-packages (from aiohttp<4,>=3->elasticsearch8[async]~=8.7.0->argilla[server]) (3.2.0)\n",
      "Requirement already satisfied: aiosignal>=1.1.2 in /Users/davidberenstein/Documents/programming/argilla/argilla/.venv/lib/python3.10/site-packages (from aiohttp<4,>=3->elasticsearch8[async]~=8.7.0->argilla[server]) (1.3.1)\n",
      "Requirement already satisfied: multidict<7.0,>=4.5 in /Users/davidberenstein/Documents/programming/argilla/argilla/.venv/lib/python3.10/site-packages (from aiohttp<4,>=3->elasticsearch8[async]~=8.7.0->argilla[server]) (6.0.4)\n",
      "Requirement already satisfied: yarl<2.0,>=1.0 in /Users/davidberenstein/Documents/programming/argilla/argilla/.venv/lib/python3.10/site-packages (from aiohttp<4,>=3->elasticsearch8[async]~=8.7.0->argilla[server]) (1.9.2)\n",
      "Requirement already satisfied: idna>=2.8 in /Users/davidberenstein/Documents/programming/argilla/argilla/.venv/lib/python3.10/site-packages (from anyio<4.0.0,>=3.7.1->fastapi>=0.103.1->argilla[server]) (3.4)\n",
      "Requirement already satisfied: exceptiongroup in /Users/davidberenstein/Documents/programming/argilla/argilla/.venv/lib/python3.10/site-packages (from anyio<4.0.0,>=3.7.1->fastapi>=0.103.1->argilla[server]) (1.1.3)\n",
      "Requirement already satisfied: cffi>=1.12 in /Users/davidberenstein/Documents/programming/argilla/argilla/.venv/lib/python3.10/site-packages (from cryptography>=3.4.0->python-jose[cryptography]<3.4,>=3.2->argilla[server]) (1.15.1)\n",
      "Requirement already satisfied: six>=1.9.0 in /Users/davidberenstein/Documents/programming/argilla/argilla/.venv/lib/python3.10/site-packages (from ecdsa!=0.15->python-jose[cryptography]<3.4,>=3.2->argilla[server]) (1.16.0)\n",
      "Requirement already satisfied: mdurl~=0.1 in /Users/davidberenstein/Documents/programming/argilla/argilla/.venv/lib/python3.10/site-packages (from markdown-it-py>=2.2.0->rich!=13.1.0->argilla[server]) (0.1.2)\n",
      "Requirement already satisfied: MarkupSafe>=0.9.2 in /Users/davidberenstein/Documents/programming/argilla/argilla/.venv/lib/python3.10/site-packages (from Mako->alembic~=1.9.0->argilla[server]) (2.1.3)\n",
      "Requirement already satisfied: pycparser in /Users/davidberenstein/Documents/programming/argilla/argilla/.venv/lib/python3.10/site-packages (from cffi>=1.12->cryptography>=3.4.0->python-jose[cryptography]<3.4,>=3.2->argilla[server]) (2.21)\n",
      "Installing collected packages: passlib, brotli, websockets, uvloop, uvicorn, urllib3, typing-extensions, threadpoolctl, smart-open, python-multipart, python-dotenv, pyasn1, Mako, joblib, httptools, greenlet, ecdsa, bcrypt, backoff, aiosqlite, aiofiles, watchfiles, starlette, scikit-learn, rsa, elastic-transport, cryptography, segment-analytics-python, python-jose, opensearch-py, fastapi, elasticsearch8, brotli-asgi, alembic\n",
      "  Attempting uninstall: urllib3\n",
      "    Found existing installation: urllib3 2.0.4\n",
      "    Uninstalling urllib3-2.0.4:\n",
      "      Successfully uninstalled urllib3-2.0.4\n",
      "  Attempting uninstall: typing-extensions\n",
      "    Found existing installation: typing_extensions 4.7.1\n",
      "    Uninstalling typing_extensions-4.7.1:\n",
      "      Successfully uninstalled typing_extensions-4.7.1\n",
      "  Attempting uninstall: backoff\n",
      "    Found existing installation: backoff 2.2.1\n",
      "    Uninstalling backoff-2.2.1:\n",
      "      Successfully uninstalled backoff-2.2.1\n",
      "Successfully installed Mako-1.3.0 aiofiles-22.1.0 aiosqlite-0.19.0 alembic-1.9.4 backoff-1.11.1 bcrypt-4.0.1 brotli-1.1.0 brotli-asgi-1.2.0 cryptography-41.0.5 ecdsa-0.18.0 elastic-transport-8.10.0 elasticsearch8-8.7.0 fastapi-0.104.1 greenlet-3.0.1 httptools-0.6.1 joblib-1.3.2 opensearch-py-2.0.1 passlib-1.7.4 pyasn1-0.5.1 python-dotenv-1.0.0 python-jose-3.3.0 python-multipart-0.0.6 rsa-4.9 scikit-learn-1.3.2 segment-analytics-python-2.2.0 smart-open-6.4.0 starlette-0.27.0 threadpoolctl-3.2.0 typing-extensions-4.8.0 urllib3-1.26.18 uvicorn-0.20.0 uvloop-0.19.0 watchfiles-0.21.0 websockets-12.0\n",
      "\n",
      "\u001b[1m[\u001b[0m\u001b[34;49mnotice\u001b[0m\u001b[1;39;49m]\u001b[0m\u001b[39;49m A new release of pip available: \u001b[0m\u001b[31;49m22.2.1\u001b[0m\u001b[39;49m -> \u001b[0m\u001b[32;49m23.3.1\u001b[0m\n",
      "\u001b[1m[\u001b[0m\u001b[34;49mnotice\u001b[0m\u001b[1;39;49m]\u001b[0m\u001b[39;49m To update, run: \u001b[0m\u001b[32;49mpip install --upgrade pip\u001b[0m\n"
     ]
    }
   ],
   "source": [
    "!pip install \"argilla[server]\""
   ]
  },
  {
   "cell_type": "code",
   "execution_count": 9,
   "id": "51b3b93c",
   "metadata": {
    "papermill": {
     "duration": null,
     "end_time": null,
     "exception": null,
     "start_time": null,
     "status": "completed"
    },
    "tags": []
   },
   "outputs": [],
   "source": [
    "import argilla as rg\n",
    "from argilla._constants import DEFAULT_API_KEY"
   ]
  },
  {
   "cell_type": "markdown",
   "id": "c330bed5-38d1-45bf-b871-98e629ab3af8",
   "metadata": {},
   "source": [
    "In order to run this notebook we will need some credentials to push and load datasets from `Argilla` and 🤗`hub`, let's set them in the following cell:"
   ]
  },
  {
   "cell_type": "code",
   "execution_count": 54,
   "id": "ca4fd7ae-7e31-405e-84c1-974828a903bd",
   "metadata": {
    "editable": true,
    "papermill": {
     "duration": null,
     "end_time": null,
     "exception": null,
     "start_time": null,
     "status": "completed"
    },
    "slideshow": {
     "slide_type": ""
    },
    "tags": [
     "parameters"
    ]
   },
   "outputs": [],
   "source": [
    "# Argilla credentials\n",
    "api_url = \"http://localhost:6900\" # \"https://<YOUR-HF-SPACE>.hf.space\"\n",
    "api_key = DEFAULT_API_KEY # admin.apikey"
   ]
  },
  {
   "cell_type": "markdown",
   "id": "3464037d-e21e-4db4-bfb4-e300fe4c9e53",
   "metadata": {},
   "source": [
    "Log to argilla:"
   ]
  },
  {
   "cell_type": "code",
   "execution_count": 11,
   "id": "728e6af7",
   "metadata": {
    "papermill": {
     "duration": null,
     "end_time": null,
     "exception": null,
     "start_time": null,
     "status": "completed"
    },
    "tags": []
   },
   "outputs": [
    {
     "name": "stderr",
     "output_type": "stream",
     "text": [
      "/Users/davidberenstein/Documents/programming/argilla/argilla/.venv/lib/python3.10/site-packages/argilla/client/client.py:124: UserWarning: Default user was detected and no workspace configuration was provided, so the default 'argilla' workspace will be used. If you want to setup another workspace, use the `rg.set_workspace` function or provide a different one on `rg.init`\n",
      "  warnings.warn(\n",
      "/Users/davidberenstein/Documents/programming/argilla/argilla/.venv/lib/python3.10/site-packages/argilla/client/client.py:152: UserWarning: You're connecting to Argilla Server 1.19.0 using a different client version (1.14.0).\n",
      "This may lead to potential compatibility issues during your experience.\n",
      "To ensure a seamless and optimized connection, we highly recommend aligning your client version with the server version.\n",
      "  warnings.warn(\n"
     ]
    }
   ],
   "source": [
    "rg.init(\n",
    "    api_url=api_url,\n",
    "    api_key=api_key\n",
    ")"
   ]
  },
  {
   "cell_type": "markdown",
   "id": "0279dbe1",
   "metadata": {},
   "source": [
    "Alternatively, we can use the `CLI` to run the `argilla login` command and pass the `api_url` and `api_key` there."
   ]
  },
  {
   "cell_type": "code",
   "execution_count": 12,
   "id": "8d9f3570",
   "metadata": {},
   "outputs": [
    {
     "name": "stdout",
     "output_type": "stream",
     "text": [
      "\u001b[31m╭─\u001b[0m\u001b[31m \u001b[0m\u001b[32mLogged in\u001b[0m\u001b[31m \u001b[0m\u001b[31m─────────────────────────────────────────────────────────────────\u001b[0m\u001b[31m─╮\u001b[0m\n",
      "\u001b[31m│\u001b[0m Logged in successfully to 'http://localhost:6900' Argilla server!            \u001b[31m│\u001b[0m\n",
      "\u001b[31m╰──────────────────────────────────────────────────────────────────────────────╯\u001b[0m\n"
     ]
    }
   ],
   "source": [
    "!python -m argilla login --api-url {api_url} --api-key {api_key}"
   ]
  },
  {
   "cell_type": "markdown",
   "id": "fa470f0b",
   "metadata": {},
   "source": [
    "### Enable Telemetry"
   ]
  },
  {
   "cell_type": "markdown",
   "id": "95e3ca39",
   "metadata": {},
   "source": [
    "We gain valuable insights from how you interact with our tutorials. To improve ourselves in offering you the most suitable content, using the following lines of code will help us understand that this tutorial is serving you effectively. Though this is entirely anonymous, you can choose to skip this step if you prefer. For more info, please check out the [Telemetry](../../reference/telemetry.md) page."
   ]
  },
  {
   "cell_type": "code",
   "execution_count": null,
   "id": "7671fbb5",
   "metadata": {},
   "outputs": [],
   "source": [
    "from argilla.utils.telemetry import tutorial_running\n",
    "\n",
    "tutorial_running()"
   ]
  },
  {
   "cell_type": "markdown",
   "id": "f50177aa-4c94-4b8f-8293-a3710e3cb0ca",
   "metadata": {
    "papermill": {
     "duration": null,
     "end_time": null,
     "exception": null,
     "start_time": null,
     "status": "completed"
    },
    "tags": []
   },
   "source": [
    "## Configure `Users`"
   ]
  },
  {
   "cell_type": "markdown",
   "id": "529f4e77-6c05-4d59-b153-170acee36b97",
   "metadata": {
    "papermill": {
     "duration": null,
     "end_time": null,
     "exception": null,
     "start_time": null,
     "status": "completed"
    },
    "tags": []
   },
   "source": [
    "### Current active `User`\n",
    "\n",
    "For this tutorial, we'll start with exploring the currently active user we've configured during the initialization. We can do this using our `Python` client or `CLI`."
   ]
  },
  {
   "cell_type": "code",
   "execution_count": 14,
   "id": "fa3ffa5f",
   "metadata": {
    "editable": true,
    "slideshow": {
     "slide_type": ""
    },
    "tags": []
   },
   "outputs": [
    {
     "data": {
      "text/plain": [
       "User(id=f3cc0d01-5129-41a6-a722-6c51b097abd0, username=argilla, role=owner, api_key=argilla.apikey, first_name=, last_name=None, inserted_at=2023-10-28 11:26:52.618074, updated_at=2023-10-28 11:26:52.618074)"
      ]
     },
     "execution_count": 14,
     "metadata": {},
     "output_type": "execute_result"
    }
   ],
   "source": [
    "user = rg.User.me()\n",
    "user"
   ]
  },
  {
   "cell_type": "code",
   "execution_count": 13,
   "id": "8b01b473-a815-427c-986e-6c2bedf1b5d7",
   "metadata": {
    "editable": true,
    "papermill": {
     "duration": null,
     "end_time": null,
     "exception": null,
     "start_time": null,
     "status": "completed"
    },
    "slideshow": {
     "slide_type": ""
    },
    "tags": []
   },
   "outputs": [
    {
     "name": "stdout",
     "output_type": "stream",
     "text": [
      "\u001b[31m╭─\u001b[0m\u001b[31m \u001b[0m\u001b[32mCurrent User\u001b[0m\u001b[31m \u001b[0m\u001b[31m──────────────────────────────────────────────────────────────\u001b[0m\u001b[31m─╮\u001b[0m\n",
      "\u001b[31m│\u001b[0m                                                                              \u001b[31m│\u001b[0m\n",
      "\u001b[31m│\u001b[0m \u001b[1;33m • \u001b[0m\u001b[1mUsername\u001b[0m: argilla                                                         \u001b[31m│\u001b[0m\n",
      "\u001b[31m│\u001b[0m \u001b[1;33m • \u001b[0m\u001b[1mRole\u001b[0m: owner                                                               \u001b[31m│\u001b[0m\n",
      "\u001b[31m│\u001b[0m \u001b[1;33m • \u001b[0m\u001b[1mFirst name\u001b[0m:                                                               \u001b[31m│\u001b[0m\n",
      "\u001b[31m│\u001b[0m \u001b[1;33m • \u001b[0m\u001b[1mLast name\u001b[0m: None                                                           \u001b[31m│\u001b[0m\n",
      "\u001b[31m│\u001b[0m \u001b[1;33m • \u001b[0m\u001b[1mAPI Key\u001b[0m: argilla.apikey                                                   \u001b[31m│\u001b[0m\n",
      "\u001b[31m│\u001b[0m \u001b[1;33m • \u001b[0m\u001b[1mWorkspaces\u001b[0m: ['argilla', 'awesome-argilla-datasets']                       \u001b[31m│\u001b[0m\n",
      "\u001b[31m╰──────────────────────────────────────────────────────────────────────────────╯\u001b[0m\n"
     ]
    }
   ],
   "source": [
    "!python -m argilla whoami"
   ]
  },
  {
   "cell_type": "markdown",
   "id": "5b4eb4ff-9530-4542-9975-25d0f4f725c1",
   "metadata": {
    "papermill": {
     "duration": null,
     "end_time": null,
     "exception": null,
     "start_time": null,
     "status": "completed"
    },
    "tags": []
   },
   "source": [
    "As we can see, we are logged into the default `User` called `argilla`, which has the `owner` role. This `role` is allowed to create new `Users` and configure workspaces.\n",
    "\n",
    "### Create `User`\n",
    "\n",
    "Next, we will create two new users with the role of `admin` and `annotator` to configure our first small team. For convenience and reproducibility, we will call them `admin` and `annotator`, and we'll set their `password` to the default `argilla.apikey`. Their `api_key` will be randomly generated according to safety standards.\n",
    "We will first create the `admin` user with our `Python` client."
   ]
  },
  {
   "cell_type": "code",
   "execution_count": null,
   "id": "46387e9a",
   "metadata": {
    "editable": true,
    "slideshow": {
     "slide_type": ""
    },
    "tags": []
   },
   "outputs": [],
   "source": [
    "user = rg.User.create(\n",
    "    username=\"admin\",\n",
    "    password=api_key,\n",
    "    role=\"admin\",\n",
    ")\n",
    "user"
   ]
  },
  {
   "cell_type": "code",
   "execution_count": null,
   "id": "acdbee81",
   "metadata": {
    "editable": true,
    "slideshow": {
     "slide_type": ""
    },
    "tags": []
   },
   "outputs": [],
   "source": [
    "!python -m argilla users create --username owner --role owner --password {api_key}"
   ]
  },
  {
   "cell_type": "markdown",
   "id": "46e05aa8",
   "metadata": {},
   "source": [
    "### Update `User`\n",
    "\n",
    "At the moment we can only update `User` role and this can only be done using the `CLI`."
   ]
  },
  {
   "cell_type": "code",
   "execution_count": 55,
   "id": "879b3c4d",
   "metadata": {},
   "outputs": [
    {
     "name": "stdout",
     "output_type": "stream",
     "text": [
      "User with username 'owner' does not exists in database. Skipping...\n"
     ]
    }
   ],
   "source": [
    "!python -m argilla server database users update owner --role admin"
   ]
  },
  {
   "cell_type": "markdown",
   "id": "34348bdd",
   "metadata": {},
   "source": [
    "Now, let's quickly change this back to avoid having wrong access in our organization."
   ]
  },
  {
   "cell_type": "code",
   "execution_count": 51,
   "id": "2490bb88",
   "metadata": {},
   "outputs": [
    {
     "data": {
      "text/plain": [
       "[User(id=f3cc0d01-5129-41a6-a722-6c51b097abd0, username=argilla, role=owner, api_key=argilla.apikey, first_name=, last_name=None, inserted_at=2023-10-28 11:26:52.618074, updated_at=2023-10-28 11:26:52.618074),\n",
       " User(id=e26a191f-382d-4fe8-9cb8-3d40e0588c20, username=jose, role=annotator, api_key=s2npW--dIQs1cLpTg4Tqd_zkWdzxu3WiuPkIcAKBo2q4z3iWWM9xPt2KDjBBr4fL3Cu5EBiED7n5mMdE5K7i4kRj126QN7T_F7QYyYQNh8A, first_name=jose, last_name=None, inserted_at=2023-11-19 15:50:37.630232, updated_at=2023-11-19 15:50:37.630232),\n",
       " User(id=bf9e8d61-f969-478f-8ea3-10f6f17119c6, username=dani, role=annotator, api_key=jMZWECjYgp4GHjcrpFOXSY1r6y4RSSRiXEGg7depEABCd18RanAmLdVk114MFuQxaHAi3d-TRgjr8OrH8pBYT54wqjCGUJD9Gn4UNa8PooE, first_name=dani, last_name=None, inserted_at=2023-11-19 15:52:56.040739, updated_at=2023-11-19 15:52:56.040739),\n",
       " User(id=4d067c1a-fbb7-4300-bf46-bc0f5e7954a5, username=paco, role=annotator, api_key=8Crwd_JGlvbM5UD7Og-vgBy5EyBE5aHLVXxt9yd-zdMnKHtITG6PzKV0ldBd_U0obOEOoUn6J36AVX-54FGofotsfkf1kH_UtTpqLml6cb8, first_name=paco, last_name=None, inserted_at=2023-11-19 15:52:56.301647, updated_at=2023-11-19 15:52:56.301647),\n",
       " User(id=0d69c392-09c4-4204-ba47-f3698b8e6369, username=damian, role=annotator, api_key=-muo7NpiWp0CnZrg6wFAHICqZHg8N5Itu4HKpTEwVTgZoOi8V1LJCr-qjVMOyDELd9rjKQWMMIvdkUlJZlxB7mNS3HNpusH4-Bra78yegK4, first_name=damian, last_name=None, inserted_at=2023-11-19 15:52:56.559801, updated_at=2023-11-19 15:52:56.559801),\n",
       " User(id=693b2392-0606-4514-a416-f4231a1455d9, username=leyre, role=annotator, api_key=fkXIRgR3Pl5sjTG32uvUnaNq-0mwQYTPh9RXbeHWpmX1aD4fP83EgfTl9yN0_0rDUqkaDPMEVYVYSIgM0OazFaCudKCNDOgADzaDC4xneZc, first_name=leyre, last_name=None, inserted_at=2023-11-19 15:52:56.822445, updated_at=2023-11-19 15:52:56.822445),\n",
       " User(id=13a3fb32-ac56-4d55-a4b2-685f4d768bc4, username=sara, role=annotator, api_key=UUC-m8QS0MAufPvqigUm6iZNnA7UFEr26AxuOlEUjqTntNBoX2tvQmf3NqDK6MtqkD1SmigKsBC2JZ1PqpEtqsLfuj94c3pjCHeNvoStkdc, first_name=sara, last_name=None, inserted_at=2023-11-19 15:52:57.082838, updated_at=2023-11-19 15:52:57.082838),\n",
       " User(id=92a388b0-f0e4-425c-91e7-1f2da1f6e78a, username=alvaro, role=annotator, api_key=WPZXwfeIP1U4bGXkJfGsUi0DSXVvn0yuJG0i99XFW-glSmCmsI0FqnHu6GKO5XmVyUHIK7rBLeSScvo133e_2TljP2_mQkjiP2-jQZ7o8zY, first_name=alvaro, last_name=None, inserted_at=2023-11-19 15:52:57.345579, updated_at=2023-11-19 15:52:57.345579),\n",
       " User(id=f2c54769-6b4c-44d6-8a87-ff7c04780a47, username=gabri, role=annotator, api_key=gncNEUBCw1X08hgkz2CS-I_7d46L7B0RMM9xA5_-iCirEQbpwtP_XyKhUS1ZrbaKXMveOlj5l44UX6i9auKDCF5Zx0MUyEVplvWgy9zJWho, first_name=gabri, last_name=None, inserted_at=2023-11-19 15:52:57.604679, updated_at=2023-11-19 15:52:57.604679),\n",
       " User(id=0c00fd8f-7679-4a36-a11c-57e57358ee28, username=david, role=annotator, api_key=B7EbxxM-0V9YJGvDbBJMzSBksZEpyDJCccdgaigqvUUjF49PFhFn8rONwU3dS5iuvjjuQObVmCLGqii7X6XdJSlYtaKefldLP7y_cODjijk, first_name=david, last_name=None, inserted_at=2023-11-19 15:52:57.872378, updated_at=2023-11-19 15:52:57.872378),\n",
       " User(id=a6d3c5f6-42fb-4c3f-9be9-dd789062404d, username=amelie, role=annotator, api_key=vuL2ab0PRbHaqFLyHJRw_jxNyJdhV_vL4P8kvFixUz1OzxsZU0u8NIuQ_Wrgr6eXw6_o1goeiLCFZtTZvMDj4SUc5wuOidU6pCPv1KyPKlE, first_name=amelie, last_name=None, inserted_at=2023-11-19 15:52:58.132252, updated_at=2023-11-19 15:52:58.132252),\n",
       " User(id=d3d08f58-f6d8-4308-8027-c519e1358bb2, username=averill, role=annotator, api_key=aZwZDmZTliO2DNKoRiSl35q7wFAhI_2gx911qiWA3S7OVpkyrUca1BJ8FXt944NN5kxvvIXLvuA5pQAn5ALwrqsCBn_Mq0pJA_9bfGFe3xM, first_name=averill, last_name=None, inserted_at=2023-11-19 15:52:58.390813, updated_at=2023-11-19 15:52:58.390813),\n",
       " User(id=37d41d50-039f-4da6-8d6a-ad41adc3110b, username=kursat, role=annotator, api_key=h2g6iPgzvF2fKJhbGAU7SOrryJpcfC0JvHinnBSM3Io8c4750_6khfBkqVi-iUj4kwLDNZiSBJ0rmzav-ANYc055kHCC4E3qMcrv7AizLl4, first_name=kursat, last_name=None, inserted_at=2023-11-19 15:52:58.651804, updated_at=2023-11-19 15:52:58.651804),\n",
       " User(id=6d8cd4e1-3838-45db-91e0-010b341ec59b, username=agus, role=annotator, api_key=hKaGVFK-Nx8Fph4BfDhuoxeSXLjBHfGX6gsa4coZ2GP4NduVPRevELYiko0ZoJzBID7bf-skoDk66i4Xd7GfOcF03Ydq8xIBFeNbUu9Wdcs, first_name=agus, last_name=None, inserted_at=2023-11-19 15:52:58.912333, updated_at=2023-11-19 15:52:58.912333),\n",
       " User(id=8bf5332f-783b-4bd5-9a15-c47602ad2958, username=ignacio, role=annotator, api_key=QQcTzdcdF0TIYmj_K6JY2pQj-SOZxF2h7tUHZSnOP-ijh9MrbiwNQ3Pu1JGLlwqCkmrovOk_-nsTc0OIse-mXoGpveR24lVR1eLFWOZ2Kqc, first_name=ignacio, last_name=None, inserted_at=2023-11-19 15:52:59.173538, updated_at=2023-11-19 15:52:59.173538),\n",
       " User(id=2903f079-3c67-44ea-933a-7947af7cc562, username=leire, role=annotator, api_key=OC12O5VT6aNIfTlkzSjmC4-yD1WqP3HYtvlnj1G04ER4jNLpIIgZTvVEEmIUfKMA_nwWwa3vYDlU-SDHslDYCB7gY2_U-qC6jDOjDdRCfCE, first_name=leire, last_name=None, inserted_at=2023-11-20 14:00:40.465554, updated_at=2023-11-20 14:00:40.465554),\n",
       " User(id=85a3ed76-f8fd-4117-8e3b-ff0005b62568, username=admin, role=admin, api_key=_69UuR06SaR8Ky0YnAVJEDkwJyJkOENz-p8Q-rGZuMZS_AuonNVu6lR44rsonIsJc1P-HfnCT_anA9cFN0-u_38aivHddu5UYK-4UWavqjM, first_name=admin, last_name=None, inserted_at=2023-11-23 08:12:29.504917, updated_at=2023-11-23 08:12:29.504917),\n",
       " User(id=4914060f-e1c4-486a-bbaa-8e052bccbef4, username=owner, role=owner, api_key=Dbg477IxBWq7MdcxCQnrao-ZcMjIqOh50hjaJlIkfOZXC7mIkTFhwc3E17YPgX6E9wGZkX53LXANgaUiqqOoQo5WZ-a9I_HJgAR3NYgm9FI, first_name=owner, last_name=None, inserted_at=2023-11-23 08:13:58.344030, updated_at=2023-11-23 08:13:58.344030)]"
      ]
     },
     "execution_count": 51,
     "metadata": {},
     "output_type": "execute_result"
    }
   ],
   "source": [
    "list(rg.User.list())"
   ]
  },
  {
   "cell_type": "code",
   "execution_count": 58,
   "id": "c89f7d26",
   "metadata": {},
   "outputs": [
    {
     "name": "stdout",
     "output_type": "stream",
     "text": [
      "User with username 'owner' does not exists in database. Skipping...\n"
     ]
    }
   ],
   "source": [
    "!python -m argilla server database users update owner --role owner"
   ]
  },
  {
   "cell_type": "markdown",
   "id": "408cb3c9-c784-45c8-b206-058a23b801d8",
   "metadata": {
    "papermill": {
     "duration": null,
     "end_time": null,
     "exception": null,
     "start_time": null,
     "status": "completed"
    },
    "tags": []
   },
   "source": [
    "## Conclusion"
   ]
  },
  {
   "cell_type": "markdown",
   "id": "6cdb1244-1589-4e85-be36-e0c959817c6d",
   "metadata": {
    "papermill": {
     "duration": null,
     "end_time": null,
     "exception": null,
     "start_time": null,
     "status": "completed"
    },
    "tags": []
   },
   "source": [
    "In this tutorial, we created some Argilla `Users` and `Workspaces`, and created some annotation team configurations.\n",
    "\n",
    "If you need additional context, consult [user management](../../../../getting_started/installation/configurations/user_management.md) and [workspace management](../../../../getting_started/installation/configurations/workspace_management.md).\n",
    "\n",
    "Alternatively, you can go to the next step and [create a FeedbackDataset](/tutorials_and_integrations/tutorials/feedback/end2end_examples/create-dataset.html)."
   ]
  }
 ],
 "metadata": {
  "kernelspec": {
   "display_name": "Python 3 (ipykernel)",
   "language": "python",
   "name": "python3"
  },
  "language_info": {
   "codemirror_mode": {
    "name": "ipython",
    "version": 3
   },
   "file_extension": ".py",
   "mimetype": "text/x-python",
   "name": "python",
   "nbconvert_exporter": "python",
   "pygments_lexer": "ipython3",
   "version": "3.10.13"
  },
  "papermill": {
   "default_parameters": {},
   "duration": 5.95317,
   "end_time": "2023-11-15T10:59:21.949504",
   "environment_variables": {},
   "exception": null,
   "input_path": "/home/agustin/github_repos/argilla-io/argilla/docs/_source/practical_guides/examples/text_classification/text-classification-create-dataset.ipynb",
   "output_path": "/home/agustin/github_repos/argilla-io/argilla/docs/_source/practical_guides/examples/text_classification/text-classification-create-dataset.ipynb",
   "parameters": {},
   "start_time": "2023-11-15T10:59:15.996334",
   "version": "2.5.0"
  }
 },
 "nbformat": 4,
 "nbformat_minor": 5
}
