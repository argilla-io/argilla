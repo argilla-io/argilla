{
 "cells": [
  {
   "cell_type": "markdown",
   "id": "fc0c600b",
   "metadata": {
    "editable": true,
    "papermill": {
     "duration": 0.046655,
     "end_time": "2023-11-15T10:59:17.308341",
     "exception": false,
     "start_time": "2023-11-15T10:59:17.261686",
     "status": "completed"
    },
    "slideshow": {
     "slide_type": ""
    },
    "tags": []
   },
   "source": [
    "# Configuring `Users` and `Workspaces`\n",
    "\n",
    "This tutorial is part of a series in which we will get to know the `FeedbackDataset`. In this step, we will show how to configure `Users` and `Workspaces`. If you need additional context, consult [user management](../../../../getting_started/installation/configurations/user_management.md) and [workspace management](../../../../getting_started/installation/configurations/workspace_management.md).\n",
    "\n",
    "![workflow](../../../../_static/tutorials/end2end/base/workflow_users_and_workspaces.svg)"
   ]
  },
  {
   "cell_type": "markdown",
   "id": "e557a44e-26fb-4b52-91ec-2b49d550a5cd",
   "metadata": {
    "papermill": {
     "duration": 0.011949,
     "end_time": "2023-11-15T10:59:17.340523",
     "exception": false,
     "start_time": "2023-11-15T10:59:17.328574",
     "status": "completed"
    },
    "tags": []
   },
   "source": [
    "## Table of Contents\n",
    "\n",
    "1. [Configure Users](#Configure-Users)\n",
    "   1. [Current active User](#Current-active-User)\n",
    "   2. [Create User](#Create-User)\n",
    "   3. [Update User](#Update-User)\n",
    "2. [Conclusion](#Conclusion)"
   ]
  },
  {
   "cell_type": "markdown",
   "id": "566b7b82",
   "metadata": {
    "papermill": {
     "duration": 0.007744,
     "end_time": "2023-11-15T10:59:17.355040",
     "exception": false,
     "start_time": "2023-11-15T10:59:17.347296",
     "status": "completed"
    },
    "tags": []
   },
   "source": [
    "## Running Argilla\n",
    "\n",
    "For this tutorial, you will need to have an Argilla server running. There are two main options for deploying and running Argilla:\n",
    "\n",
    "**Deploy Argilla on Hugging Face Spaces:** If you want to run tutorials with external notebooks (e.g., Google Colab) and you have an account on Hugging Face, you can deploy Argilla on Spaces with a few clicks:\n",
    "\n",
    "[![deploy on spaces](https://huggingface.co/datasets/huggingface/badges/raw/main/deploy-to-spaces-lg.svg)](https://huggingface.co/new-space?template=argilla/argilla-template-space)\n",
    "\n",
    "For details about configuring your deployment, check the [official Hugging Face Hub guide](https://huggingface.co/docs/hub/spaces-sdks-docker-argilla).\n",
    "\n",
    "**Launch Argilla using Argilla's quickstart Docker image**: This is the recommended option if you want [Argilla running on your local machine](../../../../getting_started/quickstart.md). Note that this option will only let you run the tutorial locally and not with an external notebook service.\n",
    "\n",
    "For more information on deployment options, please check the Deployment section of the documentation.\n",
    "\n",
    "<div class=\"alert alert-info\">\n",
    "\n",
    "Tip\n",
    "\n",
    "This tutorial is a Jupyter Notebook. There are two options to run it:\n",
    "\n",
    "- Use the Open in Colab button at the top of this page. This option allows you to run the notebook directly on Google Colab. Don't forget to change the runtime type to GPU for faster model training and inference.\n",
    "- Download the .ipynb file by clicking on the View source link at the top of the page. This option allows you to download the notebook and run it on your local machine or on a Jupyter notebook tool of your choice.\n",
    "</div>"
   ]
  },
  {
   "cell_type": "markdown",
   "id": "2ec89efe-11a2-46ac-a9af-467d2628f7fd",
   "metadata": {
    "papermill": {
     "duration": 0.004557,
     "end_time": "2023-11-15T10:59:17.364909",
     "exception": false,
     "start_time": "2023-11-15T10:59:17.360352",
     "status": "completed"
    },
    "tags": []
   },
   "source": [
    "First let's install our dependencies and import the necessary libraries:"
   ]
  },
  {
   "cell_type": "code",
   "execution_count": null,
   "id": "bbbd3c38-1e3c-4d7f-97e6-22dd3b668fc8",
   "metadata": {
    "editable": true,
    "papermill": {
     "duration": 3.857186,
     "end_time": "2023-11-15T10:59:21.228277",
     "exception": false,
     "start_time": "2023-11-15T10:59:17.371091",
     "status": "completed"
    },
    "slideshow": {
     "slide_type": ""
    },
    "tags": []
   },
   "outputs": [],
   "source": [
    "!pip install \"argilla[server]\""
   ]
  },
  {
   "cell_type": "code",
   "execution_count": 1,
   "id": "51b3b93c",
   "metadata": {
    "papermill": {
     "duration": null,
     "end_time": null,
     "exception": null,
     "start_time": null,
     "status": "completed"
    },
    "tags": []
   },
   "outputs": [],
   "source": [
    "import argilla as rg\n",
    "from argilla._constants import DEFAULT_API_KEY"
   ]
  },
  {
   "cell_type": "markdown",
   "id": "c330bed5-38d1-45bf-b871-98e629ab3af8",
   "metadata": {},
   "source": [
    "In order to run this notebook we will need some credentials to push and load datasets from `Argilla` and 🤗`hub`, let's set them in the following cell:"
   ]
  },
  {
   "cell_type": "code",
   "execution_count": 54,
   "id": "ca4fd7ae-7e31-405e-84c1-974828a903bd",
   "metadata": {
    "editable": true,
    "papermill": {
     "duration": null,
     "end_time": null,
     "exception": null,
     "start_time": null,
     "status": "completed"
    },
    "slideshow": {
     "slide_type": ""
    },
    "tags": [
     "parameters"
    ]
   },
   "outputs": [],
   "source": [
    "# Argilla credentials\n",
    "api_url = \"http://localhost:6900\"  # \"https://<YOUR-HF-SPACE>.hf.space\"\n",
    "api_key = DEFAULT_API_KEY  # admin.apikey\n",
    "hf_token = None  # not used in this tutorial"
   ]
  },
  {
   "cell_type": "markdown",
   "id": "3464037d-e21e-4db4-bfb4-e300fe4c9e53",
   "metadata": {},
   "source": [
    "Log to argilla:"
   ]
  },
  {
   "cell_type": "code",
   "execution_count": null,
   "id": "728e6af7",
   "metadata": {
    "papermill": {
     "duration": null,
     "end_time": null,
     "exception": null,
     "start_time": null,
     "status": "completed"
    },
    "tags": []
   },
   "outputs": [],
   "source": [
    "rg.init(api_url=api_url, api_key=api_key)"
   ]
  },
  {
   "cell_type": "markdown",
   "id": "0279dbe1",
   "metadata": {},
   "source": [
    "Alternatively, we can use the `CLI` to run the `argilla login` command and pass the `api_url` and `api_key` there."
   ]
  },
  {
   "cell_type": "code",
   "execution_count": null,
   "id": "8d9f3570",
   "metadata": {},
   "outputs": [],
   "source": [
    "!python -m argilla login --api-url {api_url} --api-key {api_key}"
   ]
  },
  {
   "cell_type": "markdown",
   "id": "7fb27b941602401d91542211134fc71a",
   "metadata": {},
   "source": [
    "### Enable Telemetry\n",
    "\n",
    "We gain valuable insights from how you interact with our tutorials. To improve ourselves in offering you the most suitable content, using the following lines of code will help us understand that this tutorial is serving you effectively. Though this is entirely anonymous, you can choose to skip this step if you prefer. For more info, please check out the [Telemetry](../../../../reference/telemetry.md) page."
   ]
  },
  {
   "cell_type": "code",
   "execution_count": null,
   "id": "acae54e37e7d407bbb7b55eff062a284",
   "metadata": {},
   "outputs": [],
   "source": [
    "try:\n",
    "    from argilla.utils.telemetry import tutorial_running\n",
    "\n",
    "    tutorial_running()\n",
    "except ImportError:\n",
    "    print(\n",
    "        \"Telemetry is introduced in Argilla 1.20.0 and not found in the current installation. Skipping telemetry.\"\n",
    "    )"
   ]
  },
  {
   "cell_type": "markdown",
   "id": "f50177aa-4c94-4b8f-8293-a3710e3cb0ca",
   "metadata": {
    "papermill": {
     "duration": null,
     "end_time": null,
     "exception": null,
     "start_time": null,
     "status": "completed"
    },
    "tags": []
   },
   "source": [
    "## Configure `Users`"
   ]
  },
  {
   "cell_type": "markdown",
   "id": "529f4e77-6c05-4d59-b153-170acee36b97",
   "metadata": {
    "papermill": {
     "duration": null,
     "end_time": null,
     "exception": null,
     "start_time": null,
     "status": "completed"
    },
    "tags": []
   },
   "source": [
    "### Current active `User`\n",
    "\n",
    "For this tutorial, we'll start with exploring the currently active user we've configured during the initialization. We can do this using our `Python` client or `CLI`."
   ]
  },
  {
   "cell_type": "code",
   "execution_count": 14,
   "id": "fa3ffa5f",
   "metadata": {
    "editable": true,
    "slideshow": {
     "slide_type": ""
    },
    "tags": []
   },
   "outputs": [
    {
     "data": {
      "text/plain": [
       "User(id=f3cc0d01-5129-41a6-a722-6c51b097abd0, username=argilla, role=owner, api_key=argilla.apikey, first_name=, last_name=None, inserted_at=2023-10-28 11:26:52.618074, updated_at=2023-10-28 11:26:52.618074)"
      ]
     },
     "execution_count": 14,
     "metadata": {},
     "output_type": "execute_result"
    }
   ],
   "source": [
    "user = rg.User.me()\n",
    "user"
   ]
  },
  {
   "cell_type": "code",
   "execution_count": 13,
   "id": "8b01b473-a815-427c-986e-6c2bedf1b5d7",
   "metadata": {
    "editable": true,
    "papermill": {
     "duration": null,
     "end_time": null,
     "exception": null,
     "start_time": null,
     "status": "completed"
    },
    "slideshow": {
     "slide_type": ""
    },
    "tags": []
   },
   "outputs": [
    {
     "name": "stdout",
     "output_type": "stream",
     "text": [
      "\u001b[31m╭─\u001b[0m\u001b[31m \u001b[0m\u001b[32mCurrent User\u001b[0m\u001b[31m \u001b[0m\u001b[31m──────────────────────────────────────────────────────────────\u001b[0m\u001b[31m─╮\u001b[0m\n",
      "\u001b[31m│\u001b[0m                                                                              \u001b[31m│\u001b[0m\n",
      "\u001b[31m│\u001b[0m \u001b[1;33m • \u001b[0m\u001b[1mUsername\u001b[0m: argilla                                                         \u001b[31m│\u001b[0m\n",
      "\u001b[31m│\u001b[0m \u001b[1;33m • \u001b[0m\u001b[1mRole\u001b[0m: owner                                                               \u001b[31m│\u001b[0m\n",
      "\u001b[31m│\u001b[0m \u001b[1;33m • \u001b[0m\u001b[1mFirst name\u001b[0m:                                                               \u001b[31m│\u001b[0m\n",
      "\u001b[31m│\u001b[0m \u001b[1;33m • \u001b[0m\u001b[1mLast name\u001b[0m: None                                                           \u001b[31m│\u001b[0m\n",
      "\u001b[31m│\u001b[0m \u001b[1;33m • \u001b[0m\u001b[1mAPI Key\u001b[0m: argilla.apikey                                                   \u001b[31m│\u001b[0m\n",
      "\u001b[31m│\u001b[0m \u001b[1;33m • \u001b[0m\u001b[1mWorkspaces\u001b[0m: ['argilla', 'awesome-argilla-datasets']                       \u001b[31m│\u001b[0m\n",
      "\u001b[31m╰──────────────────────────────────────────────────────────────────────────────╯\u001b[0m\n"
     ]
    }
   ],
   "source": [
    "!python -m argilla whoami"
   ]
  },
  {
   "cell_type": "markdown",
   "id": "5b4eb4ff-9530-4542-9975-25d0f4f725c1",
   "metadata": {
    "papermill": {
     "duration": null,
     "end_time": null,
     "exception": null,
     "start_time": null,
     "status": "completed"
    },
    "tags": []
   },
   "source": [
    "As we can see, we are logged into the default `User` called `argilla`, which has the `owner` role. This `role` is allowed to create new `Users` and configure workspaces.\n",
    "\n",
    "### Create `User`\n",
    "\n",
    "Next, we will create two new users with the role of `admin` and `annotator` to configure our first small team. For convenience and reproducibility, we will call them `admin` and `annotator`, and we'll set their `password` to the default `argilla.apikey`. Their `api_key` will be randomly generated according to safety standards.\n",
    "We will first create the `admin` user with our `Python` client."
   ]
  },
  {
   "cell_type": "code",
   "execution_count": null,
   "id": "46387e9a",
   "metadata": {
    "editable": true,
    "slideshow": {
     "slide_type": ""
    },
    "tags": []
   },
   "outputs": [],
   "source": [
    "try:\n",
    "    user = rg.User.from_name(\"admin\")\n",
    "except Exception:\n",
    "    user = rg.User.create(\n",
    "        username=\"admin\",\n",
    "        password=api_key,\n",
    "        role=\"admin\",\n",
    "    )\n",
    "user"
   ]
  },
  {
   "cell_type": "code",
   "execution_count": null,
   "id": "acdbee81",
   "metadata": {
    "editable": true,
    "slideshow": {
     "slide_type": ""
    },
    "tags": []
   },
   "outputs": [],
   "source": [
    "!python -m argilla users create --username owner --role owner --password {api_key}"
   ]
  },
  {
   "cell_type": "markdown",
   "id": "46e05aa8",
   "metadata": {},
   "source": [
    "### Update `User`\n",
    "\n",
    "At the moment we can only update `User` role and this can only be done using the `CLI`."
   ]
  },
  {
   "cell_type": "code",
   "execution_count": 55,
   "id": "879b3c4d",
   "metadata": {},
   "outputs": [
    {
     "name": "stdout",
     "output_type": "stream",
     "text": [
      "User with username 'owner' does not exists in database. Skipping...\n"
     ]
    }
   ],
   "source": [
    "!python -m argilla server database users update owner --role admin"
   ]
  },
  {
   "cell_type": "markdown",
   "id": "34348bdd",
   "metadata": {},
   "source": [
    "Now, let's quickly change this back to avoid having wrong access in our organization."
   ]
  },
  {
   "cell_type": "code",
   "execution_count": null,
   "id": "2490bb88",
   "metadata": {},
   "outputs": [],
   "source": [
    "list(rg.User.list())"
   ]
  },
  {
   "cell_type": "code",
   "execution_count": 58,
   "id": "c89f7d26",
   "metadata": {},
   "outputs": [
    {
     "name": "stdout",
     "output_type": "stream",
     "text": [
      "User with username 'owner' does not exists in database. Skipping...\n"
     ]
    }
   ],
   "source": [
    "!python -m argilla server database users update owner --role owner"
   ]
  },
  {
   "cell_type": "markdown",
   "id": "408cb3c9-c784-45c8-b206-058a23b801d8",
   "metadata": {
    "papermill": {
     "duration": null,
     "end_time": null,
     "exception": null,
     "start_time": null,
     "status": "completed"
    },
    "tags": []
   },
   "source": [
    "## Conclusion"
   ]
  },
  {
   "cell_type": "markdown",
   "id": "6cdb1244-1589-4e85-be36-e0c959817c6d",
   "metadata": {
    "papermill": {
     "duration": null,
     "end_time": null,
     "exception": null,
     "start_time": null,
     "status": "completed"
    },
    "tags": []
   },
   "source": [
    "In this tutorial, we created some Argilla `Users` and `Workspaces`, and created some annotation team configurations.\n",
    "\n",
    "If you need additional context, consult [user management](../../../../getting_started/installation/configurations/user_management.md) and [workspace management](../../../../getting_started/installation/configurations/workspace_management.md).\n",
    "\n",
    "Alternatively, you can go to the next step and [create a FeedbackDataset](./create-dataset-001.ipynb)."
   ]
  }
 ],
 "metadata": {
  "kernelspec": {
   "display_name": "Python 3 (ipykernel)",
   "language": "python",
   "name": "python3"
  },
  "language_info": {
   "codemirror_mode": {
    "name": "ipython",
    "version": 3
   },
   "file_extension": ".py",
   "mimetype": "text/x-python",
   "name": "python",
   "nbconvert_exporter": "python",
   "pygments_lexer": "ipython3",
   "version": "3.10.6"
  },
  "papermill": {
   "default_parameters": {},
   "duration": 5.95317,
   "end_time": "2023-11-15T10:59:21.949504",
   "environment_variables": {},
   "exception": null,
   "input_path": "/home/agustin/github_repos/argilla-io/argilla/docs/_source/practical_guides/examples/text_classification/text-classification-create-dataset.ipynb",
   "output_path": "/home/agustin/github_repos/argilla-io/argilla/docs/_source/practical_guides/examples/text_classification/text-classification-create-dataset.ipynb",
   "parameters": {},
   "start_time": "2023-11-15T10:59:15.996334",
   "version": "2.5.0"
  }
 },
 "nbformat": 4,
 "nbformat_minor": 5
}
