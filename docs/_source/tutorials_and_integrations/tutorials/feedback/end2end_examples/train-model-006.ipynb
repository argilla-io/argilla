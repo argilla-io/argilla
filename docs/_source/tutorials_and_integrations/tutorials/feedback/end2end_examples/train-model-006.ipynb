{
 "cells": [
  {
   "cell_type": "markdown",
   "metadata": {},
   "source": [
    "# Train Model"
   ]
  }
 ],
 "metadata": {
  "language_info": {
   "name": "python"
  }
 },
 "nbformat": 4,
 "nbformat_minor": 2
}
