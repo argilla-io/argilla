{
 "cells": [
  {
   "cell_type": "code",
   "execution_count": 2,
   "metadata": {},
   "outputs": [],
   "source": [
    "import argilla as rg\n",
    "from argilla._constants import DEFAULT_API_KEY"
   ]
  },
  {
   "cell_type": "code",
   "execution_count": 3,
   "metadata": {},
   "outputs": [],
   "source": [
    "# Argilla credentials\n",
    "api_url = \"http://localhost:6900\" # \"https://<YOUR-HF-SPACE>.hf.space\"\n",
    "api_key = DEFAULT_API_KEY # admin.apikey\n",
    "# Huggingface credentials\n",
    "hf_token = \"hf_...\""
   ]
  },
  {
   "cell_type": "code",
   "execution_count": 4,
   "metadata": {},
   "outputs": [
    {
     "name": "stderr",
     "output_type": "stream",
     "text": [
      "C:\\Users\\sarah\\Documents\\argilla\\src\\argilla\\client\\client.py:154: UserWarning: Default user was detected and no workspace configuration was provided, so the default 'argilla' workspace will be used. If you want to setup another workspace, use the `rg.set_workspace` function or provide a different one on `rg.init`\n",
      "  warnings.warn(\n"
     ]
    }
   ],
   "source": [
    "rg.init(api_url=api_url, api_key=api_key)\n",
    "\n",
    "# # If you want to use your private HF Space\n",
    "# rg.init(extra_headers={\"Authorization\": f\"Bearer {hf_token}\"})"
   ]
  },
  {
   "cell_type": "markdown",
   "metadata": {},
   "source": [
    "# Add Text Descriptives as Metadata\n",
    "\n",
    "In this tutorial, we will add text descriptives as metadata to a FeedbackDataset easily using the `TextDescriptivesExtractor` integrated on Argilla.\n",
    "\n",
    "The steps are as follows:\n",
    "\n",
    "-\n"
   ]
  },
  {
   "cell_type": "markdown",
   "metadata": {},
   "source": [
    "## Introduction\n",
    "\n",
    "Text descriptives are methods for analyzing and describing features of a text. They range from simple metrics like word count to more complex ones such as sentiment analysis or topic modeling, converting unstructured text into structured data easier to understand. For annotation projects, they provide information not captured by annotators, and added as metadata, they help in filtering and creating dataset subsets.\n",
    "\n",
    "To get the text descriptives, we will use the `TextDescriptivesExtractor` based on the [TextDescriptives](https://github.com/HLasse/TextDescriptives) library. Some of the basic metrics added by this extractor are:\n",
    "\n",
    "* *n_tokens*: Number of tokens in the text.\n",
    "* *n_unique_tokens*: Number of unique tokens in the text.\n",
    "* *n_sentences*: Number of sentences in the text.\n",
    "* *perplexity*:  Measures the text complexity, vocabulary diversity and unpredictability. Lower scores suggest that the model finds the text more predictable, while a higher perplexity score means the model finds the text less predictable.\n",
    "* *entropy*: Indicates text randomness or uncertainty. Higher scores denote varied, unpredictable language use.\n",
    "* *flesch_reading_ease*: A readability test designed to indicate how easy a English text is to understand, based on sentence length and syllable count per word. Higher scores mean that is easier to read, while lower scores indicate complexity."
   ]
  },
  {
   "cell_type": "markdown",
   "metadata": {},
   "source": [
    "## Running Argilla\n",
    "\n",
    "For this tutorial, you will need to have an Argilla server running. There are two main options for deploying and running Argilla:\n",
    "\n",
    "\n",
    "**Deploy Argilla on Hugging Face Spaces**: If you want to run tutorials with external notebooks (e.g., Google Colab) and you have an account on Hugging Face, you can deploy Argilla on Spaces with a few clicks:\n",
    "\n",
    "[![deploy on spaces](https://huggingface.co/datasets/huggingface/badges/raw/main/deploy-to-spaces-lg.svg)](https://huggingface.co/login?next=%2Fnew-space%3Ftemplate%3Dargilla%2Fargilla-template-space)\n",
    "\n",
    "For details about configuring your deployment, check the [official Hugging Face Hub guide](https://huggingface.co/docs/hub/spaces-sdks-docker-argilla).\n",
    "\n",
    "\n",
    "**Launch Argilla using Argilla's quickstart Docker image**: This is the recommended option if you want [Argilla running on your local machine](../../getting_started/quickstart.html). Note that this option will only let you run the tutorial locally and not with an external notebook service.\n",
    "\n",
    "For more information on deployment options, please check the Deployment section of the documentation.\n",
    "\n",
    "<div class=\"alert alert-info\">\n",
    "\n",
    "Tip\n",
    "    \n",
    "This tutorial is a Jupyter Notebook. There are two options to run it:\n",
    "\n",
    "- Use the Open in Colab button at the top of this page. This option allows you to run the notebook directly on Google Colab. Don't forget to change the runtime type to GPU for faster model training and inference.\n",
    "- Download the .ipynb file by clicking on the View source link at the top of the page. This option allows you to download the notebook and run it on your local machine or on a Jupyter Notebook tool of your choice.\n",
    "</div>"
   ]
  },
  {
   "cell_type": "markdown",
   "metadata": {},
   "source": [
    "## Set up the Environment\n",
    "\n",
    "To complete this tutorial, you will need to install the Argilla client and a few third-party libraries using `pip`:"
   ]
  },
  {
   "cell_type": "code",
   "execution_count": null,
   "metadata": {},
   "outputs": [],
   "source": [
    "# %pip install --upgrade pip\n",
    "%pip install argilla -qqq\n",
    "%pip install datasets"
   ]
  },
  {
   "cell_type": "markdown",
   "metadata": {},
   "source": [
    "Let's make the needed imports:"
   ]
  },
  {
   "cell_type": "code",
   "execution_count": 1,
   "metadata": {},
   "outputs": [],
   "source": [
    "import argilla as rg\n",
    "\n",
    "from datasets import load_dataset"
   ]
  },
  {
   "cell_type": "markdown",
   "metadata": {},
   "source": [
    "If you are running Argilla using the Docker quickstart image or a public Hugging Face Spaces, you need to init the Argilla client with the `URL` and `API_KEY`:"
   ]
  },
  {
   "cell_type": "code",
   "execution_count": null,
   "metadata": {},
   "outputs": [],
   "source": [
    "# Replace api_url with the url to your HF Spaces URL if using Spaces\n",
    "# Replace api_key if you configured a custom API key\n",
    "# Replace workspace with the name of your workspace\n",
    "rg.init(\n",
    "    api_url=\"http://localhost:6900\", \n",
    "    api_key=\"owner.apikey\",\n",
    "    workspace=\"admin\"\n",
    ")"
   ]
  },
  {
   "cell_type": "markdown",
   "metadata": {},
   "source": [
    "If you're running a private Hugging Face Space, you will also need to set the [HF_TOKEN](https://huggingface.co/settings/tokens) as follows:"
   ]
  },
  {
   "cell_type": "code",
   "execution_count": null,
   "metadata": {},
   "outputs": [],
   "source": [
    "# # Set the HF_TOKEN environment variable\n",
    "# import os\n",
    "# os.environ['HF_TOKEN'] = \"your-hf-token\"\n",
    "\n",
    "# # Replace api_url with the url to your HF Spaces URL\n",
    "# # Replace api_key if you configured a custom API key\n",
    "# rg.init(\n",
    "#     api_url=\"https://[your-owner-name]-[your_space_name].hf.space\", \n",
    "#     api_key=\"admin.apikey\",\n",
    "#     extra_headers={\"Authorization\": f\"Bearer {os.environ['HF_TOKEN']}\"},\n",
    "# )"
   ]
  },
  {
   "cell_type": "markdown",
   "metadata": {},
   "source": [
    "### Enable Telemetry\n",
    "\n",
    "We gain valuable insights from how you interact with our tutorials. To improve ourselves in offering you the most suitable content, using the following lines of code will help us understand that this tutorial is serving you effectively. Though this is entirely anonymous, you can choose to skip this step if you prefer. For more info, please check out the [Telemetry](../../reference/telemetry.md) page."
   ]
  },
  {
   "cell_type": "code",
   "execution_count": null,
   "metadata": {},
   "outputs": [],
   "source": [
    "try:\n",
    "    from argilla.utils.telemetry import tutorial_running\n",
    "    tutorial_running()\n",
    "except ImportError:\n",
    "    print(\"Telemetry is introduced in Argilla 1.20.0 and not found in the current installation. Skipping telemetry.\")"
   ]
  },
  {
   "cell_type": "markdown",
   "metadata": {},
   "source": [
    "## Load the Dataset"
   ]
  },
  {
   "cell_type": "markdown",
   "metadata": {},
   "source": [
    "We're going to use the `oasst_response_comparison` dataset available on Hugging Face. This dataset includes two fields: the prompt and the response from a open assistant. It also features a LabelQuestion, MultilabelQuestion and TextQuestion, and provides certain guidelines. However, there's no associated metadata in this dataset."
   ]
  },
  {
   "cell_type": "code",
   "execution_count": 38,
   "metadata": {},
   "outputs": [
    {
     "name": "stderr",
     "output_type": "stream",
     "text": [
      "C:\\Users\\sarah\\Documents\\argilla\\src\\argilla\\client\\feedback\\schemas\\questions.py:184: UserWarning: `visible_labels=20` is greater than the total number of labels (7), so it will be set to `7`.\n",
      "  warnings.warn(\n",
      "Parsing records: 100%|██████████| 100/100 [00:00<00:00, 151.62it/s]\n"
     ]
    }
   ],
   "source": [
    "dataset = rg.FeedbackDataset.from_huggingface(\"argilla/oasst_response_quality\", split=\"train[:100]\")"
   ]
  },
  {
   "cell_type": "code",
   "execution_count": 39,
   "metadata": {},
   "outputs": [
    {
     "data": {
      "text/plain": [
       "FeedbackDataset(\n",
       "   fields=[TextField(name='prompt', title='Prompt', required=True, type=<FieldTypes.text: 'text'>, use_markdown=True), TextField(name='response', title='Response', required=True, type=<FieldTypes.text: 'text'>, use_markdown=True)]\n",
       "   questions=[LabelQuestion(name='relevant', title='Is the response relevant for the given prompt?', description=None, required=True, type=<QuestionTypes.label_selection: 'label_selection'>, labels=['Yes', 'No'], visible_labels=None), MultiLabelQuestion(name='content_class', title='Does the response include any of the following?', description=None, required=False, type=<QuestionTypes.multi_label_selection: 'multi_label_selection'>, labels={'hate': 'Hate Speech', 'inappropriate': 'Inappropriate content', 'not_english': 'Not English', 'pii': 'Personal information', 'sexual': 'Sexual content', 'untruthful': 'Untruthful info', 'violent': 'Violent content'}, visible_labels=7), RatingQuestion(name='rating', title='Rate the quality of the response:', description='Rate the quality of the response based on its truthfulness and helpfulness. 1 is very bad and 10 is very good.', required=True, type=<QuestionTypes.rating: 'rating'>, values=[1, 2, 3, 4, 5, 6, 7, 8, 9, 10]), TextQuestion(name='corrected-text', title='Provide a correction to the response:', description='If the rating provided is below 4, please write a new version of the response.', required=False, type=<QuestionTypes.text: 'text'>, use_markdown=True)]\n",
       "   guidelines=Answer the questions to assess the quality of the response given by the chat assistant.)\n",
       "   metadata_properties=[])\n",
       ")"
      ]
     },
     "execution_count": 39,
     "metadata": {},
     "output_type": "execute_result"
    }
   ],
   "source": [
    "dataset"
   ]
  },
  {
   "cell_type": "code",
   "execution_count": 40,
   "metadata": {},
   "outputs": [
    {
     "data": {
      "application/vnd.jupyter.widget-view+json": {
       "model_id": "6902d253925b4c7ca9c9110399af670d",
       "version_major": 2,
       "version_minor": 0
      },
      "text/plain": [
       "Output()"
      ]
     },
     "metadata": {},
     "output_type": "display_data"
    },
    {
     "data": {
      "text/html": [
       "<pre style=\"white-space:pre;overflow-x:auto;line-height:normal;font-family:Menlo,'DejaVu Sans Mono',consolas,'Courier New',monospace\"></pre>\n"
      ],
      "text/plain": []
     },
     "metadata": {},
     "output_type": "display_data"
    },
    {
     "data": {
      "text/html": [
       "<pre style=\"white-space:pre;overflow-x:auto;line-height:normal;font-family:Menlo,'DejaVu Sans Mono',consolas,'Courier New',monospace\">\n",
       "</pre>\n"
      ],
      "text/plain": [
       "\n"
      ]
     },
     "metadata": {},
     "output_type": "display_data"
    },
    {
     "data": {
      "text/html": [
       "<pre style=\"white-space:pre;overflow-x:auto;line-height:normal;font-family:Menlo,'DejaVu Sans Mono',consolas,'Courier New',monospace\"><span style=\"color: #7fbfbf; text-decoration-color: #7fbfbf\">[12/13/23 16:55:51] </span><span style=\"color: #000080; text-decoration-color: #000080\">INFO    </span> INFO:argilla.client.feedback.dataset.local.mixins:✓ Dataset succesfully  <a href=\"file://C:\\Users\\sarah\\Documents\\argilla\\src\\argilla\\client\\feedback\\dataset\\local\\mixins.py\" target=\"_blank\"><span style=\"color: #7f7f7f; text-decoration-color: #7f7f7f\">mixins.py</span></a><span style=\"color: #7f7f7f; text-decoration-color: #7f7f7f\">:</span><a href=\"file://C:\\Users\\sarah\\Documents\\argilla\\src\\argilla\\client\\feedback\\dataset\\local\\mixins.py#281\" target=\"_blank\"><span style=\"color: #7f7f7f; text-decoration-color: #7f7f7f\">281</span></a>\n",
       "<span style=\"color: #7fbfbf; text-decoration-color: #7fbfbf\">                    </span>         pushed to Argilla                                                        <span style=\"color: #7f7f7f; text-decoration-color: #7f7f7f\">             </span>\n",
       "</pre>\n"
      ],
      "text/plain": [
       "\u001b[2;36m[12/13/23 16:55:51]\u001b[0m\u001b[2;36m \u001b[0m\u001b[34mINFO    \u001b[0m INFO:argilla.client.feedback.dataset.local.mixins:✓ Dataset succesfully  \u001b]8;id=216302;file://C:\\Users\\sarah\\Documents\\argilla\\src\\argilla\\client\\feedback\\dataset\\local\\mixins.py\u001b\\\u001b[2mmixins.py\u001b[0m\u001b]8;;\u001b\\\u001b[2m:\u001b[0m\u001b]8;id=329459;file://C:\\Users\\sarah\\Documents\\argilla\\src\\argilla\\client\\feedback\\dataset\\local\\mixins.py#281\u001b\\\u001b[2m281\u001b[0m\u001b]8;;\u001b\\\n",
       "\u001b[2;36m                    \u001b[0m         pushed to Argilla                                                        \u001b[2m             \u001b[0m\n"
      ]
     },
     "metadata": {},
     "output_type": "display_data"
    },
    {
     "data": {
      "text/html": [
       "<pre style=\"white-space:pre;overflow-x:auto;line-height:normal;font-family:Menlo,'DejaVu Sans Mono',consolas,'Courier New',monospace\"><span style=\"color: #7fbfbf; text-decoration-color: #7fbfbf\">                    </span><span style=\"color: #000080; text-decoration-color: #000080\">INFO    </span> INFO:argilla.client.feedback.dataset.local.mixins:<span style=\"color: #800080; text-decoration-color: #800080; font-weight: bold\">RemoteFeedbackDataset</span><span style=\"font-weight: bold\">(</span> <a href=\"file://C:\\Users\\sarah\\Documents\\argilla\\src\\argilla\\client\\feedback\\dataset\\local\\mixins.py\" target=\"_blank\"><span style=\"color: #7f7f7f; text-decoration-color: #7f7f7f\">mixins.py</span></a><span style=\"color: #7f7f7f; text-decoration-color: #7f7f7f\">:</span><a href=\"file://C:\\Users\\sarah\\Documents\\argilla\\src\\argilla\\client\\feedback\\dataset\\local\\mixins.py#282\" target=\"_blank\"><span style=\"color: #7f7f7f; text-decoration-color: #7f7f7f\">282</span></a>\n",
       "<span style=\"color: #7fbfbf; text-decoration-color: #7fbfbf\">                    </span>            <span style=\"color: #808000; text-decoration-color: #808000\">id</span>=<span style=\"color: #ffff00; text-decoration-color: #ffff00\">338783d5</span><span style=\"color: #ffff00; text-decoration-color: #ffff00\">-8fbc-4c30-86fc-afc77ff92ec0</span>                               <span style=\"color: #7f7f7f; text-decoration-color: #7f7f7f\">             </span>\n",
       "<span style=\"color: #7fbfbf; text-decoration-color: #7fbfbf\">                    </span>            <span style=\"color: #808000; text-decoration-color: #808000\">name</span>=<span style=\"color: #800080; text-decoration-color: #800080\">oasst_response_quality</span>                                           <span style=\"color: #7f7f7f; text-decoration-color: #7f7f7f\">             </span>\n",
       "<span style=\"color: #7fbfbf; text-decoration-color: #7fbfbf\">                    </span>            <span style=\"color: #808000; text-decoration-color: #808000\">workspace</span>=<span style=\"color: #800080; text-decoration-color: #800080; font-weight: bold\">Workspace</span><span style=\"font-weight: bold\">(</span><span style=\"color: #808000; text-decoration-color: #808000\">id</span>=<span style=\"color: #ffff00; text-decoration-color: #ffff00\">507a6ccf</span><span style=\"color: #ffff00; text-decoration-color: #ffff00\">-f7e0-40e9-9384-5c8840abb505</span>,          <span style=\"color: #7f7f7f; text-decoration-color: #7f7f7f\">             </span>\n",
       "<span style=\"color: #7fbfbf; text-decoration-color: #7fbfbf\">                    </span>         <span style=\"color: #808000; text-decoration-color: #808000\">name</span>=<span style=\"color: #800080; text-decoration-color: #800080\">argilla</span>, <span style=\"color: #808000; text-decoration-color: #808000\">inserted_at</span>=<span style=\"color: #008080; text-decoration-color: #008080; font-weight: bold\">2023</span>-<span style=\"color: #008080; text-decoration-color: #008080; font-weight: bold\">12</span>-<span style=\"color: #008080; text-decoration-color: #008080; font-weight: bold\">12</span> <span style=\"color: #00ff00; text-decoration-color: #00ff00; font-weight: bold\">14:04:58</span>.<span style=\"color: #008080; text-decoration-color: #008080; font-weight: bold\">940990</span>,                    <span style=\"color: #7f7f7f; text-decoration-color: #7f7f7f\">             </span>\n",
       "<span style=\"color: #7fbfbf; text-decoration-color: #7fbfbf\">                    </span>         <span style=\"color: #808000; text-decoration-color: #808000\">updated_at</span>=<span style=\"color: #008080; text-decoration-color: #008080; font-weight: bold\">2023</span>-<span style=\"color: #008080; text-decoration-color: #008080; font-weight: bold\">12</span>-<span style=\"color: #008080; text-decoration-color: #008080; font-weight: bold\">12</span> <span style=\"color: #00ff00; text-decoration-color: #00ff00; font-weight: bold\">14:04:58</span>.<span style=\"color: #008080; text-decoration-color: #008080; font-weight: bold\">940990</span><span style=\"font-weight: bold\">)</span>                                   <span style=\"color: #7f7f7f; text-decoration-color: #7f7f7f\">             </span>\n",
       "<span style=\"color: #7fbfbf; text-decoration-color: #7fbfbf\">                    </span>            <span style=\"color: #808000; text-decoration-color: #808000\">url</span>=<span style=\"color: #0000ff; text-decoration-color: #0000ff; text-decoration: underline\">http://localhost:6900/dataset/338783d5-8fbc-4c30-86fc-afc77ff92ec</span> <span style=\"color: #7f7f7f; text-decoration-color: #7f7f7f\">             </span>\n",
       "<span style=\"color: #7fbfbf; text-decoration-color: #7fbfbf\">                    </span>         <span style=\"color: #0000ff; text-decoration-color: #0000ff; text-decoration: underline\">0/annotation-mode</span>                                                        <span style=\"color: #7f7f7f; text-decoration-color: #7f7f7f\">             </span>\n",
       "<span style=\"color: #7fbfbf; text-decoration-color: #7fbfbf\">                    </span>            <span style=\"color: #808000; text-decoration-color: #808000\">fields</span>=<span style=\"font-weight: bold\">[</span><span style=\"color: #800080; text-decoration-color: #800080; font-weight: bold\">RemoteTextField</span><span style=\"font-weight: bold\">(</span><span style=\"color: #808000; text-decoration-color: #808000\">id</span>=<span style=\"color: #800080; text-decoration-color: #800080; font-weight: bold\">UUID</span><span style=\"font-weight: bold\">(</span><span style=\"color: #008000; text-decoration-color: #008000\">'9f0a29e8-689f-483f-ad2c-35054d01fa0a</span> <span style=\"color: #7f7f7f; text-decoration-color: #7f7f7f\">             </span>\n",
       "<span style=\"color: #7fbfbf; text-decoration-color: #7fbfbf\">                    </span>         <span style=\"color: #008000; text-decoration-color: #008000\">'</span><span style=\"font-weight: bold\">)</span>, <span style=\"color: #808000; text-decoration-color: #808000\">client</span>=<span style=\"color: #800080; text-decoration-color: #800080; font-style: italic\">None</span>, <span style=\"color: #808000; text-decoration-color: #808000\">name</span>=<span style=\"color: #008000; text-decoration-color: #008000\">'prompt'</span>, <span style=\"color: #808000; text-decoration-color: #808000\">title</span>=<span style=\"color: #008000; text-decoration-color: #008000\">'Prompt'</span>, <span style=\"color: #808000; text-decoration-color: #808000\">required</span>=<span style=\"color: #00ff00; text-decoration-color: #00ff00; font-style: italic\">True</span>,           <span style=\"color: #7f7f7f; text-decoration-color: #7f7f7f\">             </span>\n",
       "<span style=\"color: #7fbfbf; text-decoration-color: #7fbfbf\">                    </span>         <span style=\"color: #808000; text-decoration-color: #808000\">type</span>=<span style=\"color: #008000; text-decoration-color: #008000\">'text'</span>, <span style=\"color: #808000; text-decoration-color: #808000\">use_markdown</span>=<span style=\"color: #00ff00; text-decoration-color: #00ff00; font-style: italic\">True</span><span style=\"font-weight: bold\">)</span>,                                         <span style=\"color: #7f7f7f; text-decoration-color: #7f7f7f\">             </span>\n",
       "<span style=\"color: #7fbfbf; text-decoration-color: #7fbfbf\">                    </span>         <span style=\"color: #800080; text-decoration-color: #800080; font-weight: bold\">RemoteTextField</span><span style=\"font-weight: bold\">(</span><span style=\"color: #808000; text-decoration-color: #808000\">id</span>=<span style=\"color: #800080; text-decoration-color: #800080; font-weight: bold\">UUID</span><span style=\"font-weight: bold\">(</span><span style=\"color: #008000; text-decoration-color: #008000\">'8b0dea30-9949-4261-baa3-776f8b6e2473'</span><span style=\"font-weight: bold\">)</span>,         <span style=\"color: #7f7f7f; text-decoration-color: #7f7f7f\">             </span>\n",
       "<span style=\"color: #7fbfbf; text-decoration-color: #7fbfbf\">                    </span>         <span style=\"color: #808000; text-decoration-color: #808000\">client</span>=<span style=\"color: #800080; text-decoration-color: #800080; font-style: italic\">None</span>, <span style=\"color: #808000; text-decoration-color: #808000\">name</span>=<span style=\"color: #008000; text-decoration-color: #008000\">'response'</span>, <span style=\"color: #808000; text-decoration-color: #808000\">title</span>=<span style=\"color: #008000; text-decoration-color: #008000\">'Response'</span>, <span style=\"color: #808000; text-decoration-color: #808000\">required</span>=<span style=\"color: #00ff00; text-decoration-color: #00ff00; font-style: italic\">True</span>,           <span style=\"color: #7f7f7f; text-decoration-color: #7f7f7f\">             </span>\n",
       "<span style=\"color: #7fbfbf; text-decoration-color: #7fbfbf\">                    </span>         <span style=\"color: #808000; text-decoration-color: #808000\">type</span>=<span style=\"color: #008000; text-decoration-color: #008000\">'text'</span>, <span style=\"color: #808000; text-decoration-color: #808000\">use_markdown</span>=<span style=\"color: #00ff00; text-decoration-color: #00ff00; font-style: italic\">True</span><span style=\"font-weight: bold\">)]</span>                                         <span style=\"color: #7f7f7f; text-decoration-color: #7f7f7f\">             </span>\n",
       "<span style=\"color: #7fbfbf; text-decoration-color: #7fbfbf\">                    </span>            <span style=\"color: #808000; text-decoration-color: #808000\">questions</span>=<span style=\"font-weight: bold\">[</span><span style=\"color: #800080; text-decoration-color: #800080; font-weight: bold\">RemoteLabelQuestion</span><span style=\"font-weight: bold\">(</span><span style=\"color: #808000; text-decoration-color: #808000\">id</span>=<span style=\"color: #800080; text-decoration-color: #800080; font-weight: bold\">UUID</span><span style=\"font-weight: bold\">(</span><span style=\"color: #008000; text-decoration-color: #008000\">'86c01a19-a5cf-4769-9f01-027cf</span> <span style=\"color: #7f7f7f; text-decoration-color: #7f7f7f\">             </span>\n",
       "<span style=\"color: #7fbfbf; text-decoration-color: #7fbfbf\">                    </span>         <span style=\"color: #008000; text-decoration-color: #008000\">f3c3e28'</span><span style=\"font-weight: bold\">)</span>, <span style=\"color: #808000; text-decoration-color: #808000\">client</span>=<span style=\"color: #800080; text-decoration-color: #800080; font-style: italic\">None</span>, <span style=\"color: #808000; text-decoration-color: #808000\">name</span>=<span style=\"color: #008000; text-decoration-color: #008000\">'relevant'</span>, <span style=\"color: #808000; text-decoration-color: #808000\">title</span>=<span style=\"color: #008000; text-decoration-color: #008000\">'Is the response relevant</span> <span style=\"color: #7f7f7f; text-decoration-color: #7f7f7f\">             </span>\n",
       "<span style=\"color: #7fbfbf; text-decoration-color: #7fbfbf\">                    </span>         <span style=\"color: #008000; text-decoration-color: #008000\">for the given prompt?'</span>, <span style=\"color: #808000; text-decoration-color: #808000\">description</span>=<span style=\"color: #800080; text-decoration-color: #800080; font-style: italic\">None</span>, <span style=\"color: #808000; text-decoration-color: #808000\">required</span>=<span style=\"color: #00ff00; text-decoration-color: #00ff00; font-style: italic\">True</span>,                 <span style=\"color: #7f7f7f; text-decoration-color: #7f7f7f\">             </span>\n",
       "<span style=\"color: #7fbfbf; text-decoration-color: #7fbfbf\">                    </span>         <span style=\"color: #808000; text-decoration-color: #808000\">type</span>=<span style=\"color: #008000; text-decoration-color: #008000\">'label_selection'</span>, <span style=\"color: #808000; text-decoration-color: #808000\">labels</span>=<span style=\"font-weight: bold\">[</span><span style=\"color: #008000; text-decoration-color: #008000\">'Yes'</span>, <span style=\"color: #008000; text-decoration-color: #008000\">'No'</span><span style=\"font-weight: bold\">]</span>, <span style=\"color: #808000; text-decoration-color: #808000\">visible_labels</span>=<span style=\"color: #800080; text-decoration-color: #800080; font-style: italic\">None</span><span style=\"font-weight: bold\">)</span>,      <span style=\"color: #7f7f7f; text-decoration-color: #7f7f7f\">             </span>\n",
       "<span style=\"color: #7fbfbf; text-decoration-color: #7fbfbf\">                    </span>         <span style=\"color: #800080; text-decoration-color: #800080; font-weight: bold\">RemoteMultiLabelQuestion</span><span style=\"font-weight: bold\">(</span><span style=\"color: #808000; text-decoration-color: #808000\">id</span>=<span style=\"color: #800080; text-decoration-color: #800080; font-weight: bold\">UUID</span><span style=\"font-weight: bold\">(</span><span style=\"color: #008000; text-decoration-color: #008000\">'77bae5ef-8d77-4e1e-8d88-4815b05a092e'</span><span style=\"font-weight: bold\">)</span> <span style=\"color: #7f7f7f; text-decoration-color: #7f7f7f\">             </span>\n",
       "<span style=\"color: #7fbfbf; text-decoration-color: #7fbfbf\">                    </span>         , <span style=\"color: #808000; text-decoration-color: #808000\">client</span>=<span style=\"color: #800080; text-decoration-color: #800080; font-style: italic\">None</span>, <span style=\"color: #808000; text-decoration-color: #808000\">name</span>=<span style=\"color: #008000; text-decoration-color: #008000\">'content_class'</span>, <span style=\"color: #808000; text-decoration-color: #808000\">title</span>=<span style=\"color: #008000; text-decoration-color: #008000\">'Does the response include </span>   <span style=\"color: #7f7f7f; text-decoration-color: #7f7f7f\">             </span>\n",
       "<span style=\"color: #7fbfbf; text-decoration-color: #7fbfbf\">                    </span>         <span style=\"color: #008000; text-decoration-color: #008000\">any of the following?'</span>, <span style=\"color: #808000; text-decoration-color: #808000\">description</span>=<span style=\"color: #800080; text-decoration-color: #800080; font-style: italic\">None</span>, <span style=\"color: #808000; text-decoration-color: #808000\">required</span>=<span style=\"color: #ff0000; text-decoration-color: #ff0000; font-style: italic\">False</span>,                <span style=\"color: #7f7f7f; text-decoration-color: #7f7f7f\">             </span>\n",
       "<span style=\"color: #7fbfbf; text-decoration-color: #7fbfbf\">                    </span>         <span style=\"color: #808000; text-decoration-color: #808000\">type</span>=<span style=\"color: #008000; text-decoration-color: #008000\">'multi_label_selection'</span>, <span style=\"color: #808000; text-decoration-color: #808000\">labels</span>=<span style=\"font-weight: bold\">{</span><span style=\"color: #008000; text-decoration-color: #008000\">'hate'</span>: <span style=\"color: #008000; text-decoration-color: #008000\">'Hate Speech'</span>,             <span style=\"color: #7f7f7f; text-decoration-color: #7f7f7f\">             </span>\n",
       "<span style=\"color: #7fbfbf; text-decoration-color: #7fbfbf\">                    </span>         <span style=\"color: #008000; text-decoration-color: #008000\">'inappropriate'</span>: <span style=\"color: #008000; text-decoration-color: #008000\">'Inappropriate content'</span>, <span style=\"color: #008000; text-decoration-color: #008000\">'not_english'</span>: <span style=\"color: #008000; text-decoration-color: #008000\">'Not English'</span>,  <span style=\"color: #7f7f7f; text-decoration-color: #7f7f7f\">             </span>\n",
       "<span style=\"color: #7fbfbf; text-decoration-color: #7fbfbf\">                    </span>         <span style=\"color: #008000; text-decoration-color: #008000\">'pii'</span>: <span style=\"color: #008000; text-decoration-color: #008000\">'Personal information'</span>, <span style=\"color: #008000; text-decoration-color: #008000\">'sexual'</span>: <span style=\"color: #008000; text-decoration-color: #008000\">'Sexual content'</span>, <span style=\"color: #008000; text-decoration-color: #008000\">'untruthful'</span>: <span style=\"color: #7f7f7f; text-decoration-color: #7f7f7f\">             </span>\n",
       "<span style=\"color: #7fbfbf; text-decoration-color: #7fbfbf\">                    </span>         <span style=\"color: #008000; text-decoration-color: #008000\">'Untruthful info'</span>, <span style=\"color: #008000; text-decoration-color: #008000\">'violent'</span>: <span style=\"color: #008000; text-decoration-color: #008000\">'Violent content'</span><span style=\"font-weight: bold\">}</span>, <span style=\"color: #808000; text-decoration-color: #808000\">visible_labels</span>=<span style=\"color: #008080; text-decoration-color: #008080; font-weight: bold\">7</span><span style=\"font-weight: bold\">)</span>,     <span style=\"color: #7f7f7f; text-decoration-color: #7f7f7f\">             </span>\n",
       "<span style=\"color: #7fbfbf; text-decoration-color: #7fbfbf\">                    </span>         <span style=\"color: #800080; text-decoration-color: #800080; font-weight: bold\">RemoteRatingQuestion</span><span style=\"font-weight: bold\">(</span><span style=\"color: #808000; text-decoration-color: #808000\">id</span>=<span style=\"color: #800080; text-decoration-color: #800080; font-weight: bold\">UUID</span><span style=\"font-weight: bold\">(</span><span style=\"color: #008000; text-decoration-color: #008000\">'13820b0c-2b6a-4922-901d-dee44ae76131'</span><span style=\"font-weight: bold\">)</span>,    <span style=\"color: #7f7f7f; text-decoration-color: #7f7f7f\">             </span>\n",
       "<span style=\"color: #7fbfbf; text-decoration-color: #7fbfbf\">                    </span>         <span style=\"color: #808000; text-decoration-color: #808000\">client</span>=<span style=\"color: #800080; text-decoration-color: #800080; font-style: italic\">None</span>, <span style=\"color: #808000; text-decoration-color: #808000\">name</span>=<span style=\"color: #008000; text-decoration-color: #008000\">'rating'</span>, <span style=\"color: #808000; text-decoration-color: #808000\">title</span>=<span style=\"color: #008000; text-decoration-color: #008000\">'Rate the quality of the response:'</span>,   <span style=\"color: #7f7f7f; text-decoration-color: #7f7f7f\">             </span>\n",
       "<span style=\"color: #7fbfbf; text-decoration-color: #7fbfbf\">                    </span>         <span style=\"color: #808000; text-decoration-color: #808000\">description</span>=<span style=\"color: #800080; text-decoration-color: #800080; font-style: italic\">None</span>, <span style=\"color: #808000; text-decoration-color: #808000\">required</span>=<span style=\"color: #00ff00; text-decoration-color: #00ff00; font-style: italic\">True</span>, <span style=\"color: #808000; text-decoration-color: #808000\">type</span>=<span style=\"color: #008000; text-decoration-color: #008000\">'rating'</span>, <span style=\"color: #808000; text-decoration-color: #808000\">values</span>=<span style=\"font-weight: bold\">[</span><span style=\"color: #008080; text-decoration-color: #008080; font-weight: bold\">1</span>, <span style=\"color: #008080; text-decoration-color: #008080; font-weight: bold\">2</span>, <span style=\"color: #008080; text-decoration-color: #008080; font-weight: bold\">3</span>, <span style=\"color: #008080; text-decoration-color: #008080; font-weight: bold\">4</span>, <span style=\"color: #008080; text-decoration-color: #008080; font-weight: bold\">5</span>,   <span style=\"color: #7f7f7f; text-decoration-color: #7f7f7f\">             </span>\n",
       "<span style=\"color: #7fbfbf; text-decoration-color: #7fbfbf\">                    </span>         <span style=\"color: #008080; text-decoration-color: #008080; font-weight: bold\">6</span>, <span style=\"color: #008080; text-decoration-color: #008080; font-weight: bold\">7</span>, <span style=\"color: #008080; text-decoration-color: #008080; font-weight: bold\">8</span>, <span style=\"color: #008080; text-decoration-color: #008080; font-weight: bold\">9</span>, <span style=\"color: #008080; text-decoration-color: #008080; font-weight: bold\">10</span><span style=\"font-weight: bold\">])</span>,                                                        <span style=\"color: #7f7f7f; text-decoration-color: #7f7f7f\">             </span>\n",
       "<span style=\"color: #7fbfbf; text-decoration-color: #7fbfbf\">                    </span>         <span style=\"color: #800080; text-decoration-color: #800080; font-weight: bold\">RemoteTextQuestion</span><span style=\"font-weight: bold\">(</span><span style=\"color: #808000; text-decoration-color: #808000\">id</span>=<span style=\"color: #800080; text-decoration-color: #800080; font-weight: bold\">UUID</span><span style=\"font-weight: bold\">(</span><span style=\"color: #008000; text-decoration-color: #008000\">'c70d8d6a-99d8-48a7-8472-9af3930ec1a2'</span><span style=\"font-weight: bold\">)</span>,      <span style=\"color: #7f7f7f; text-decoration-color: #7f7f7f\">             </span>\n",
       "<span style=\"color: #7fbfbf; text-decoration-color: #7fbfbf\">                    </span>         <span style=\"color: #808000; text-decoration-color: #808000\">client</span>=<span style=\"color: #800080; text-decoration-color: #800080; font-style: italic\">None</span>, <span style=\"color: #808000; text-decoration-color: #808000\">name</span>=<span style=\"color: #008000; text-decoration-color: #008000\">'corrected-text'</span>, <span style=\"color: #808000; text-decoration-color: #808000\">title</span>=<span style=\"color: #008000; text-decoration-color: #008000\">'Provide a correction to the </span>  <span style=\"color: #7f7f7f; text-decoration-color: #7f7f7f\">             </span>\n",
       "<span style=\"color: #7fbfbf; text-decoration-color: #7fbfbf\">                    </span>         <span style=\"color: #008000; text-decoration-color: #008000\">response:'</span>, <span style=\"color: #808000; text-decoration-color: #808000\">description</span>=<span style=\"color: #800080; text-decoration-color: #800080; font-style: italic\">None</span>, <span style=\"color: #808000; text-decoration-color: #808000\">required</span>=<span style=\"color: #ff0000; text-decoration-color: #ff0000; font-style: italic\">False</span>, <span style=\"color: #808000; text-decoration-color: #808000\">type</span>=<span style=\"color: #008000; text-decoration-color: #008000\">'text'</span>,               <span style=\"color: #7f7f7f; text-decoration-color: #7f7f7f\">             </span>\n",
       "<span style=\"color: #7fbfbf; text-decoration-color: #7fbfbf\">                    </span>         <span style=\"color: #808000; text-decoration-color: #808000\">use_markdown</span>=<span style=\"color: #00ff00; text-decoration-color: #00ff00; font-style: italic\">True</span><span style=\"font-weight: bold\">)]</span>                                                      <span style=\"color: #7f7f7f; text-decoration-color: #7f7f7f\">             </span>\n",
       "<span style=\"color: #7fbfbf; text-decoration-color: #7fbfbf\">                    </span>            <span style=\"color: #808000; text-decoration-color: #808000\">guidelines</span>=<span style=\"color: #800080; text-decoration-color: #800080\">Answer</span> the questions to assess the quality of the response <span style=\"color: #7f7f7f; text-decoration-color: #7f7f7f\">             </span>\n",
       "<span style=\"color: #7fbfbf; text-decoration-color: #7fbfbf\">                    </span>         given by the chat assistant.                                             <span style=\"color: #7f7f7f; text-decoration-color: #7f7f7f\">             </span>\n",
       "<span style=\"color: #7fbfbf; text-decoration-color: #7fbfbf\">                    </span>            <span style=\"color: #808000; text-decoration-color: #808000\">metadata_properties</span>=<span style=\"font-weight: bold\">[]</span>                                                <span style=\"color: #7f7f7f; text-decoration-color: #7f7f7f\">             </span>\n",
       "<span style=\"color: #7fbfbf; text-decoration-color: #7fbfbf\">                    </span>         <span style=\"font-weight: bold\">)</span>                                                                        <span style=\"color: #7f7f7f; text-decoration-color: #7f7f7f\">             </span>\n",
       "</pre>\n"
      ],
      "text/plain": [
       "\u001b[2;36m                   \u001b[0m\u001b[2;36m \u001b[0m\u001b[34mINFO    \u001b[0m INFO:argilla.client.feedback.dataset.local.mixins:\u001b[1;35mRemoteFeedbackDataset\u001b[0m\u001b[1m(\u001b[0m \u001b]8;id=671512;file://C:\\Users\\sarah\\Documents\\argilla\\src\\argilla\\client\\feedback\\dataset\\local\\mixins.py\u001b\\\u001b[2mmixins.py\u001b[0m\u001b]8;;\u001b\\\u001b[2m:\u001b[0m\u001b]8;id=53089;file://C:\\Users\\sarah\\Documents\\argilla\\src\\argilla\\client\\feedback\\dataset\\local\\mixins.py#282\u001b\\\u001b[2m282\u001b[0m\u001b]8;;\u001b\\\n",
       "\u001b[2;36m                    \u001b[0m            \u001b[33mid\u001b[0m=\u001b[93m338783d5\u001b[0m\u001b[93m-8fbc-4c30-86fc-afc77ff92ec0\u001b[0m                               \u001b[2m             \u001b[0m\n",
       "\u001b[2;36m                    \u001b[0m            \u001b[33mname\u001b[0m=\u001b[35moasst_response_quality\u001b[0m                                           \u001b[2m             \u001b[0m\n",
       "\u001b[2;36m                    \u001b[0m            \u001b[33mworkspace\u001b[0m=\u001b[1;35mWorkspace\u001b[0m\u001b[1m(\u001b[0m\u001b[33mid\u001b[0m=\u001b[93m507a6ccf\u001b[0m\u001b[93m-f7e0-40e9-9384-5c8840abb505\u001b[0m,          \u001b[2m             \u001b[0m\n",
       "\u001b[2;36m                    \u001b[0m         \u001b[33mname\u001b[0m=\u001b[35margilla\u001b[0m, \u001b[33minserted_at\u001b[0m=\u001b[1;36m2023\u001b[0m-\u001b[1;36m12\u001b[0m-\u001b[1;36m12\u001b[0m \u001b[1;92m14:04:58\u001b[0m.\u001b[1;36m940990\u001b[0m,                    \u001b[2m             \u001b[0m\n",
       "\u001b[2;36m                    \u001b[0m         \u001b[33mupdated_at\u001b[0m=\u001b[1;36m2023\u001b[0m-\u001b[1;36m12\u001b[0m-\u001b[1;36m12\u001b[0m \u001b[1;92m14:04:58\u001b[0m.\u001b[1;36m940990\u001b[0m\u001b[1m)\u001b[0m                                   \u001b[2m             \u001b[0m\n",
       "\u001b[2;36m                    \u001b[0m            \u001b[33murl\u001b[0m=\u001b[4;94mhttp\u001b[0m\u001b[4;94m://localhost:6900/dataset/338783d5-8fbc-4c30-86fc-afc77ff92ec\u001b[0m \u001b[2m             \u001b[0m\n",
       "\u001b[2;36m                    \u001b[0m         \u001b[4;94m0/annotation-mode\u001b[0m                                                        \u001b[2m             \u001b[0m\n",
       "\u001b[2;36m                    \u001b[0m            \u001b[33mfields\u001b[0m=\u001b[1m[\u001b[0m\u001b[1;35mRemoteTextField\u001b[0m\u001b[1m(\u001b[0m\u001b[33mid\u001b[0m=\u001b[1;35mUUID\u001b[0m\u001b[1m(\u001b[0m\u001b[32m'9f0a29e8-689f-483f-ad2c-35054d01fa0a\u001b[0m \u001b[2m             \u001b[0m\n",
       "\u001b[2;36m                    \u001b[0m         \u001b[32m'\u001b[0m\u001b[1m)\u001b[0m, \u001b[33mclient\u001b[0m=\u001b[3;35mNone\u001b[0m, \u001b[33mname\u001b[0m=\u001b[32m'prompt'\u001b[0m, \u001b[33mtitle\u001b[0m=\u001b[32m'Prompt'\u001b[0m, \u001b[33mrequired\u001b[0m=\u001b[3;92mTrue\u001b[0m,           \u001b[2m             \u001b[0m\n",
       "\u001b[2;36m                    \u001b[0m         \u001b[33mtype\u001b[0m=\u001b[32m'text'\u001b[0m, \u001b[33muse_markdown\u001b[0m=\u001b[3;92mTrue\u001b[0m\u001b[1m)\u001b[0m,                                         \u001b[2m             \u001b[0m\n",
       "\u001b[2;36m                    \u001b[0m         \u001b[1;35mRemoteTextField\u001b[0m\u001b[1m(\u001b[0m\u001b[33mid\u001b[0m=\u001b[1;35mUUID\u001b[0m\u001b[1m(\u001b[0m\u001b[32m'8b0dea30-9949-4261-baa3-776f8b6e2473'\u001b[0m\u001b[1m)\u001b[0m,         \u001b[2m             \u001b[0m\n",
       "\u001b[2;36m                    \u001b[0m         \u001b[33mclient\u001b[0m=\u001b[3;35mNone\u001b[0m, \u001b[33mname\u001b[0m=\u001b[32m'response'\u001b[0m, \u001b[33mtitle\u001b[0m=\u001b[32m'Response'\u001b[0m, \u001b[33mrequired\u001b[0m=\u001b[3;92mTrue\u001b[0m,           \u001b[2m             \u001b[0m\n",
       "\u001b[2;36m                    \u001b[0m         \u001b[33mtype\u001b[0m=\u001b[32m'text'\u001b[0m, \u001b[33muse_markdown\u001b[0m=\u001b[3;92mTrue\u001b[0m\u001b[1m)\u001b[0m\u001b[1m]\u001b[0m                                         \u001b[2m             \u001b[0m\n",
       "\u001b[2;36m                    \u001b[0m            \u001b[33mquestions\u001b[0m=\u001b[1m[\u001b[0m\u001b[1;35mRemoteLabelQuestion\u001b[0m\u001b[1m(\u001b[0m\u001b[33mid\u001b[0m=\u001b[1;35mUUID\u001b[0m\u001b[1m(\u001b[0m\u001b[32m'86c01a19-a5cf-4769-9f01-027cf\u001b[0m \u001b[2m             \u001b[0m\n",
       "\u001b[2;36m                    \u001b[0m         \u001b[32mf3c3e28'\u001b[0m\u001b[1m)\u001b[0m, \u001b[33mclient\u001b[0m=\u001b[3;35mNone\u001b[0m, \u001b[33mname\u001b[0m=\u001b[32m'relevant'\u001b[0m, \u001b[33mtitle\u001b[0m=\u001b[32m'Is the response relevant\u001b[0m \u001b[2m             \u001b[0m\n",
       "\u001b[2;36m                    \u001b[0m         \u001b[32mfor the given prompt?'\u001b[0m, \u001b[33mdescription\u001b[0m=\u001b[3;35mNone\u001b[0m, \u001b[33mrequired\u001b[0m=\u001b[3;92mTrue\u001b[0m,                 \u001b[2m             \u001b[0m\n",
       "\u001b[2;36m                    \u001b[0m         \u001b[33mtype\u001b[0m=\u001b[32m'label_selection'\u001b[0m, \u001b[33mlabels\u001b[0m=\u001b[1m[\u001b[0m\u001b[32m'Yes'\u001b[0m, \u001b[32m'No'\u001b[0m\u001b[1m]\u001b[0m, \u001b[33mvisible_labels\u001b[0m=\u001b[3;35mNone\u001b[0m\u001b[1m)\u001b[0m,      \u001b[2m             \u001b[0m\n",
       "\u001b[2;36m                    \u001b[0m         \u001b[1;35mRemoteMultiLabelQuestion\u001b[0m\u001b[1m(\u001b[0m\u001b[33mid\u001b[0m=\u001b[1;35mUUID\u001b[0m\u001b[1m(\u001b[0m\u001b[32m'77bae5ef-8d77-4e1e-8d88-4815b05a092e'\u001b[0m\u001b[1m)\u001b[0m \u001b[2m             \u001b[0m\n",
       "\u001b[2;36m                    \u001b[0m         , \u001b[33mclient\u001b[0m=\u001b[3;35mNone\u001b[0m, \u001b[33mname\u001b[0m=\u001b[32m'content_class'\u001b[0m, \u001b[33mtitle\u001b[0m=\u001b[32m'Does the response include \u001b[0m   \u001b[2m             \u001b[0m\n",
       "\u001b[2;36m                    \u001b[0m         \u001b[32many of the following?'\u001b[0m, \u001b[33mdescription\u001b[0m=\u001b[3;35mNone\u001b[0m, \u001b[33mrequired\u001b[0m=\u001b[3;91mFalse\u001b[0m,                \u001b[2m             \u001b[0m\n",
       "\u001b[2;36m                    \u001b[0m         \u001b[33mtype\u001b[0m=\u001b[32m'multi_label_selection'\u001b[0m, \u001b[33mlabels\u001b[0m=\u001b[1m{\u001b[0m\u001b[32m'hate'\u001b[0m: \u001b[32m'Hate Speech'\u001b[0m,             \u001b[2m             \u001b[0m\n",
       "\u001b[2;36m                    \u001b[0m         \u001b[32m'inappropriate'\u001b[0m: \u001b[32m'Inappropriate content'\u001b[0m, \u001b[32m'not_english'\u001b[0m: \u001b[32m'Not English'\u001b[0m,  \u001b[2m             \u001b[0m\n",
       "\u001b[2;36m                    \u001b[0m         \u001b[32m'pii'\u001b[0m: \u001b[32m'Personal information'\u001b[0m, \u001b[32m'sexual'\u001b[0m: \u001b[32m'Sexual content'\u001b[0m, \u001b[32m'untruthful'\u001b[0m: \u001b[2m             \u001b[0m\n",
       "\u001b[2;36m                    \u001b[0m         \u001b[32m'Untruthful info'\u001b[0m, \u001b[32m'violent'\u001b[0m: \u001b[32m'Violent content'\u001b[0m\u001b[1m}\u001b[0m, \u001b[33mvisible_labels\u001b[0m=\u001b[1;36m7\u001b[0m\u001b[1m)\u001b[0m,     \u001b[2m             \u001b[0m\n",
       "\u001b[2;36m                    \u001b[0m         \u001b[1;35mRemoteRatingQuestion\u001b[0m\u001b[1m(\u001b[0m\u001b[33mid\u001b[0m=\u001b[1;35mUUID\u001b[0m\u001b[1m(\u001b[0m\u001b[32m'13820b0c-2b6a-4922-901d-dee44ae76131'\u001b[0m\u001b[1m)\u001b[0m,    \u001b[2m             \u001b[0m\n",
       "\u001b[2;36m                    \u001b[0m         \u001b[33mclient\u001b[0m=\u001b[3;35mNone\u001b[0m, \u001b[33mname\u001b[0m=\u001b[32m'rating'\u001b[0m, \u001b[33mtitle\u001b[0m=\u001b[32m'Rate the quality of the response:'\u001b[0m,   \u001b[2m             \u001b[0m\n",
       "\u001b[2;36m                    \u001b[0m         \u001b[33mdescription\u001b[0m=\u001b[3;35mNone\u001b[0m, \u001b[33mrequired\u001b[0m=\u001b[3;92mTrue\u001b[0m, \u001b[33mtype\u001b[0m=\u001b[32m'rating'\u001b[0m, \u001b[33mvalues\u001b[0m=\u001b[1m[\u001b[0m\u001b[1;36m1\u001b[0m, \u001b[1;36m2\u001b[0m, \u001b[1;36m3\u001b[0m, \u001b[1;36m4\u001b[0m, \u001b[1;36m5\u001b[0m,   \u001b[2m             \u001b[0m\n",
       "\u001b[2;36m                    \u001b[0m         \u001b[1;36m6\u001b[0m, \u001b[1;36m7\u001b[0m, \u001b[1;36m8\u001b[0m, \u001b[1;36m9\u001b[0m, \u001b[1;36m10\u001b[0m\u001b[1m]\u001b[0m\u001b[1m)\u001b[0m,                                                        \u001b[2m             \u001b[0m\n",
       "\u001b[2;36m                    \u001b[0m         \u001b[1;35mRemoteTextQuestion\u001b[0m\u001b[1m(\u001b[0m\u001b[33mid\u001b[0m=\u001b[1;35mUUID\u001b[0m\u001b[1m(\u001b[0m\u001b[32m'c70d8d6a-99d8-48a7-8472-9af3930ec1a2'\u001b[0m\u001b[1m)\u001b[0m,      \u001b[2m             \u001b[0m\n",
       "\u001b[2;36m                    \u001b[0m         \u001b[33mclient\u001b[0m=\u001b[3;35mNone\u001b[0m, \u001b[33mname\u001b[0m=\u001b[32m'corrected-text'\u001b[0m, \u001b[33mtitle\u001b[0m=\u001b[32m'Provide a correction to the \u001b[0m  \u001b[2m             \u001b[0m\n",
       "\u001b[2;36m                    \u001b[0m         \u001b[32mresponse:'\u001b[0m, \u001b[33mdescription\u001b[0m=\u001b[3;35mNone\u001b[0m, \u001b[33mrequired\u001b[0m=\u001b[3;91mFalse\u001b[0m, \u001b[33mtype\u001b[0m=\u001b[32m'text'\u001b[0m,               \u001b[2m             \u001b[0m\n",
       "\u001b[2;36m                    \u001b[0m         \u001b[33muse_markdown\u001b[0m=\u001b[3;92mTrue\u001b[0m\u001b[1m)\u001b[0m\u001b[1m]\u001b[0m                                                      \u001b[2m             \u001b[0m\n",
       "\u001b[2;36m                    \u001b[0m            \u001b[33mguidelines\u001b[0m=\u001b[35mAnswer\u001b[0m the questions to assess the quality of the response \u001b[2m             \u001b[0m\n",
       "\u001b[2;36m                    \u001b[0m         given by the chat assistant.                                             \u001b[2m             \u001b[0m\n",
       "\u001b[2;36m                    \u001b[0m            \u001b[33mmetadata_properties\u001b[0m=\u001b[1m[\u001b[0m\u001b[1m]\u001b[0m                                                \u001b[2m             \u001b[0m\n",
       "\u001b[2;36m                    \u001b[0m         \u001b[1m)\u001b[0m                                                                        \u001b[2m             \u001b[0m\n"
      ]
     },
     "metadata": {},
     "output_type": "display_data"
    }
   ],
   "source": [
    "try:\n",
    "    remote_dataset = dataset.push_to_argilla(name=\"oasst_response_quality\", workspace=\"argilla\")\n",
    "except:\n",
    "    rg.FeedbackDataset.from_argilla(\"oasst_response_quality\", workspace=\"argilla\").delete()\n",
    "    remote_dataset = dataset.push_to_argilla(name=\"oasst_response_quality\", workspace=\"argilla\")"
   ]
  },
  {
   "cell_type": "code",
   "execution_count": 41,
   "metadata": {},
   "outputs": [
    {
     "data": {
      "text/plain": [
       "RemoteFeedbackDataset(\n",
       "   id=338783d5-8fbc-4c30-86fc-afc77ff92ec0\n",
       "   name=oasst_response_quality\n",
       "   workspace=Workspace(id=507a6ccf-f7e0-40e9-9384-5c8840abb505, name=argilla, inserted_at=2023-12-12 14:04:58.940990, updated_at=2023-12-12 14:04:58.940990)\n",
       "   url=http://localhost:6900/dataset/338783d5-8fbc-4c30-86fc-afc77ff92ec0/annotation-mode\n",
       "   fields=[RemoteTextField(id=UUID('9f0a29e8-689f-483f-ad2c-35054d01fa0a'), client=None, name='prompt', title='Prompt', required=True, type='text', use_markdown=True), RemoteTextField(id=UUID('8b0dea30-9949-4261-baa3-776f8b6e2473'), client=None, name='response', title='Response', required=True, type='text', use_markdown=True)]\n",
       "   questions=[RemoteLabelQuestion(id=UUID('86c01a19-a5cf-4769-9f01-027cff3c3e28'), client=None, name='relevant', title='Is the response relevant for the given prompt?', description=None, required=True, type='label_selection', labels=['Yes', 'No'], visible_labels=None), RemoteMultiLabelQuestion(id=UUID('77bae5ef-8d77-4e1e-8d88-4815b05a092e'), client=None, name='content_class', title='Does the response include any of the following?', description=None, required=False, type='multi_label_selection', labels={'hate': 'Hate Speech', 'inappropriate': 'Inappropriate content', 'not_english': 'Not English', 'pii': 'Personal information', 'sexual': 'Sexual content', 'untruthful': 'Untruthful info', 'violent': 'Violent content'}, visible_labels=7), RemoteRatingQuestion(id=UUID('13820b0c-2b6a-4922-901d-dee44ae76131'), client=None, name='rating', title='Rate the quality of the response:', description=None, required=True, type='rating', values=[1, 2, 3, 4, 5, 6, 7, 8, 9, 10]), RemoteTextQuestion(id=UUID('c70d8d6a-99d8-48a7-8472-9af3930ec1a2'), client=None, name='corrected-text', title='Provide a correction to the response:', description=None, required=False, type='text', use_markdown=True)]\n",
       "   guidelines=Answer the questions to assess the quality of the response given by the chat assistant.\n",
       "   metadata_properties=[]\n",
       ")"
      ]
     },
     "execution_count": 41,
     "metadata": {},
     "output_type": "execute_result"
    }
   ],
   "source": [
    "remote_dataset"
   ]
  },
  {
   "cell_type": "markdown",
   "metadata": {},
   "source": [
    "## Add Text Descriptives as Metadata"
   ]
  },
  {
   "cell_type": "markdown",
   "metadata": {},
   "source": [
    "Our dataset currently lacks metadata. To address this, we will add the text descriptives as metadata using the `TextDescriptivesExtractor`, which has the following arguments:\n",
    "\n",
    "* *model*: the language of the model.\n",
    "* *metrics*: the metrics to be extracted.\n",
    "* *fields*: the field names to extract metrics from.\n",
    "* *visible_for_annotators*: whether the metadata is visible for annotators.\n",
    "* *show_progress*: whether to show the progress bar."
   ]
  },
  {
   "cell_type": "markdown",
   "metadata": {},
   "source": [
    "So, first, we will use the default english model and metrics to get the text descriptives of the `prompt` field."
   ]
  },
  {
   "cell_type": "code",
   "execution_count": 22,
   "metadata": {},
   "outputs": [],
   "source": [
    "# Initialize the TextDescriptivesExtractor\n",
    "tde = rg.TextDescriptivesExtractor(\n",
    "    model = \"en\",\n",
    "    metrics = None,\n",
    "    fields = \"response\",\n",
    "    visible_for_annotators = True,\n",
    "    show_progress = True,\n",
    ")"
   ]
  },
  {
   "cell_type": "markdown",
   "metadata": {},
   "source": [
    "### To a Local FeedbackDataset"
   ]
  },
  {
   "cell_type": "code",
   "execution_count": 15,
   "metadata": {},
   "outputs": [],
   "source": [
    "# Retrieve your FeedbackRecords\n",
    "records = [record for record in dataset]"
   ]
  },
  {
   "cell_type": "code",
   "execution_count": 16,
   "metadata": {},
   "outputs": [],
   "source": [
    "tde = rg.TextDescriptivesExtractor(\n",
    "    model = \"en\",\n",
    "    metrics = None,\n",
    "    fields = \"response\",\n",
    "    visible_for_annotators = True,\n",
    "    show_progress = True,\n",
    ")"
   ]
  },
  {
   "cell_type": "code",
   "execution_count": null,
   "metadata": {},
   "outputs": [],
   "source": [
    "# Extract the text descriptives of the records indicated fields\n",
    "updated_records = tde.update_records(records)"
   ]
  },
  {
   "cell_type": "code",
   "execution_count": 11,
   "metadata": {},
   "outputs": [
    {
     "data": {
      "text/plain": [
       "FeedbackRecord(fields={'prompt': 'I am using docker compose and i need to mount the docker socket - how would i do that?', 'response': \"You can mount the Docker socket in a Docker Compose service by adding the following to your docker-compose.yml file:\\n\\njavascript\\n\\nversion: '3'\\nservices:\\n  your_service_name:\\n    # ... other service configuration\\n    volumes:\\n      - /var/run/docker.sock:/var/run/docker.sock\\n\\nThis will mount the host's Docker socket at /var/run/docker.sock inside the service's container. This allows the service to interact with the host's Docker daemon and perform tasks such as starting and stopping containers.\\n\\nIt is important to note that mounting the Docker socket inside a container can potentially expose your host to security risks, so it should only be done in trusted environments or with proper security measures in place.\"}, metadata={'prompt_n_tokens': 18, 'prompt_n_unique_tokens': 15, 'prompt_n_sentences': 1, 'prompt_perplexity': 1.7, 'prompt_entropy': 0.53, 'prompt_flesch_reading_ease': 80.47, 'response_n_tokens': 114, 'response_n_unique_tokens': 73, 'response_n_sentences': 4, 'response_perplexity': 19.62, 'response_entropy': 2.98, 'response_flesch_reading_ease': 42.84}, vectors={}, responses=[], suggestions=(), external_id=None)"
      ]
     },
     "execution_count": 11,
     "metadata": {},
     "output_type": "execute_result"
    }
   ],
   "source": [
    "updated_records[5]"
   ]
  },
  {
   "cell_type": "code",
   "execution_count": 16,
   "metadata": {},
   "outputs": [],
   "source": [
    "dataset.add_records(updated_records)"
   ]
  },
  {
   "cell_type": "code",
   "execution_count": null,
   "metadata": {},
   "outputs": [],
   "source": [
    "dataset.push_to_argilla(\"prueba1\")"
   ]
  },
  {
   "cell_type": "markdown",
   "metadata": {},
   "source": [
    "### To a Remote FeedbackDataset"
   ]
  },
  {
   "cell_type": "code",
   "execution_count": null,
   "metadata": {},
   "outputs": [],
   "source": [
    "# Update the dataset\n",
    "updated_remote_dataset = tde.update_dataset(remote_dataset)"
   ]
  },
  {
   "cell_type": "code",
   "execution_count": 24,
   "metadata": {},
   "outputs": [
    {
     "data": {
      "text/html": [
       "<pre style=\"white-space:pre;overflow-x:auto;line-height:normal;font-family:Menlo,'DejaVu Sans Mono',consolas,'Courier New',monospace\"><span style=\"color: #800000; text-decoration-color: #800000\">╭─────────────────────────────── </span><span style=\"color: #800000; text-decoration-color: #800000; font-weight: bold\">Traceback </span><span style=\"color: #bf7f7f; text-decoration-color: #bf7f7f; font-weight: bold\">(most recent call last)</span><span style=\"color: #800000; text-decoration-color: #800000\"> ────────────────────────────────╮</span>\n",
       "<span style=\"color: #800000; text-decoration-color: #800000\">│</span> in <span style=\"color: #00ff00; text-decoration-color: #00ff00\">&lt;cell line: 1&gt;</span>:<span style=\"color: #0000ff; text-decoration-color: #0000ff\">1</span>                                                                              <span style=\"color: #800000; text-decoration-color: #800000\">│</span>\n",
       "<span style=\"color: #800000; text-decoration-color: #800000\">│</span>                                                                                                  <span style=\"color: #800000; text-decoration-color: #800000\">│</span>\n",
       "<span style=\"color: #800000; text-decoration-color: #800000\">│</span> <span style=\"color: #800000; text-decoration-color: #800000\">❱ </span>1 updated_remote_dataset                                                                       <span style=\"color: #800000; text-decoration-color: #800000\">│</span>\n",
       "<span style=\"color: #800000; text-decoration-color: #800000\">│</span>   <span style=\"color: #7f7f7f; text-decoration-color: #7f7f7f\">2 </span>                                                                                             <span style=\"color: #800000; text-decoration-color: #800000\">│</span>\n",
       "<span style=\"color: #800000; text-decoration-color: #800000\">╰──────────────────────────────────────────────────────────────────────────────────────────────────╯</span>\n",
       "<span style=\"color: #ff0000; text-decoration-color: #ff0000; font-weight: bold\">NameError: </span>name <span style=\"color: #008000; text-decoration-color: #008000\">'updated_remote_dataset'</span> is not defined\n",
       "</pre>\n"
      ],
      "text/plain": [
       "\u001b[31m╭─\u001b[0m\u001b[31m──────────────────────────────\u001b[0m\u001b[31m \u001b[0m\u001b[1;31mTraceback \u001b[0m\u001b[1;2;31m(most recent call last)\u001b[0m\u001b[31m \u001b[0m\u001b[31m───────────────────────────────\u001b[0m\u001b[31m─╮\u001b[0m\n",
       "\u001b[31m│\u001b[0m in \u001b[92m<cell line: 1>\u001b[0m:\u001b[94m1\u001b[0m                                                                              \u001b[31m│\u001b[0m\n",
       "\u001b[31m│\u001b[0m                                                                                                  \u001b[31m│\u001b[0m\n",
       "\u001b[31m│\u001b[0m \u001b[31m❱ \u001b[0m1 updated_remote_dataset                                                                       \u001b[31m│\u001b[0m\n",
       "\u001b[31m│\u001b[0m   \u001b[2m2 \u001b[0m                                                                                             \u001b[31m│\u001b[0m\n",
       "\u001b[31m╰──────────────────────────────────────────────────────────────────────────────────────────────────╯\u001b[0m\n",
       "\u001b[1;91mNameError: \u001b[0mname \u001b[32m'updated_remote_dataset'\u001b[0m is not defined\n"
      ]
     },
     "metadata": {},
     "output_type": "display_data"
    }
   ],
   "source": [
    "updated_remote_dataset"
   ]
  },
  {
   "cell_type": "markdown",
   "metadata": {},
   "source": [
    "# Code"
   ]
  },
  {
   "cell_type": "code",
   "execution_count": 74,
   "metadata": {},
   "outputs": [],
   "source": [
    "#  coding=utf-8\n",
    "#  Copyright 2021-present, the Recognai S.L. team.\n",
    "#\n",
    "#  Licensed under the Apache License, Version 2.0 (the \"License\");\n",
    "#  you may not use this file except in compliance with the License.\n",
    "#  You may obtain a copy of the License at\n",
    "#\n",
    "#      http://www.apache.org/licenses/LICENSE-2.0\n",
    "#\n",
    "#  Unless required by applicable law or agreed to in writing, software\n",
    "#  distributed under the License is distributed on an \"AS IS\" BASIS,\n",
    "#  WITHOUT WARRANTIES OR CONDITIONS OF ANY KIND, either express or implied.\n",
    "#  See the License for the specific language governing permissions and\n",
    "#  limitations under the License.\n",
    "import logging\n",
    "import re\n",
    "from typing import Dict, List, Optional, Tuple, Union\n",
    "\n",
    "import pandas as pd\n",
    "import textdescriptives as td\n",
    "from rich.progress import Progress\n",
    "\n",
    "from argilla.client.feedback.dataset.local.dataset import FeedbackDataset\n",
    "from argilla.client.feedback.dataset.remote.dataset import RemoteFeedbackDataset\n",
    "from argilla.client.feedback.schemas.metadata import (\n",
    "    FloatMetadataProperty,\n",
    "    IntegerMetadataProperty,\n",
    "    TermsMetadataProperty,\n",
    ")\n",
    "from argilla.client.feedback.schemas.records import FeedbackRecord\n",
    "from argilla.client.feedback.schemas.remote.records import RemoteFeedbackRecord\n",
    "\n",
    "_LOGGER = logging.getLogger(__name__)\n",
    "_LOGGER.setLevel(logging.INFO)\n",
    "\n",
    "\n",
    "class TextDescriptivesExtractor:\n",
    "    \"\"\"This class extracts a number of basic text descriptives from FeedbackDataset\n",
    "    records using the TextDescriptives library and adds them as record metadata.\"\"\"\n",
    "\n",
    "    def __init__(\n",
    "        self,\n",
    "        model: str = \"en\",\n",
    "        metrics: Optional[List[str]] = None,\n",
    "        fields: Optional[List[str]] = None,\n",
    "        visible_for_annotators: bool = True,\n",
    "        show_progress: bool = True,\n",
    "    ):\n",
    "        \"\"\"\n",
    "        Initialize a new TextDescriptivesExtractor object.\n",
    "\n",
    "        Args:\n",
    "            model (str): The language model to use for text descriptives.\n",
    "            metrics (Optional[List[str]]): A list of metrics to extract. If None, all metrics will be extracted.\n",
    "            fields (Optional[List[str]]): A list of field names to extract metrics from. If None, all fields will be used.\n",
    "            visible_for_annotators (bool): Whether the extracted metrics should be visible to annotators.\n",
    "            show_progress (bool): Whether to show a progress bar when extracting metrics.\n",
    "        \"\"\"\n",
    "        self.model = model\n",
    "        self.metrics = metrics\n",
    "        print(\"self.metrics\", self.metrics)\n",
    "        self.fields = fields\n",
    "        print(\"self.fields\", self.fields)\n",
    "        self.visible_for_annotators = visible_for_annotators\n",
    "        self.show_progress = show_progress\n",
    "        self.__basic_metrics = [\n",
    "            \"n_tokens\",\n",
    "            \"n_unique_tokens\",\n",
    "            \"n_sentences\",\n",
    "            \"perplexity\",\n",
    "            \"entropy\",\n",
    "            \"flesch_reading_ease\",\n",
    "        ]\n",
    "\n",
    "    def _extract_metrics_for_single_field(\n",
    "        self,\n",
    "        records: List[Union[FeedbackRecord, RemoteFeedbackRecord]],\n",
    "        field: str,\n",
    "        basic_metrics: Optional[List[str]] = None,\n",
    "    ) -> Optional[pd.DataFrame]:\n",
    "        \"\"\"\n",
    "        Extract text descriptives metrics for a single field from a list of feedback records\n",
    "        using the TextDescriptives library.\n",
    "\n",
    "        Args:\n",
    "            records (List[Union[FeedbackRecord, RemoteFeedbackRecord]]): A list of FeedbackDataset or RemoteFeedbackDataset records.\n",
    "            field (str): The name of the field to extract metrics for.\n",
    "            basic_metrics (Optional[List[str]]): A list of basic metrics to extract. If None, all metrics will be extracted.\n",
    "\n",
    "        Returns:\n",
    "            Optional[pd.DataFrame]: A dataframe containing the text descriptives metrics for the field, or None if the field is empty.\n",
    "        \"\"\"\n",
    "        # If the field is empty, skip it\n",
    "        field_text = [record.fields[field] for record in records if record.fields[field]]\n",
    "        if not field_text:\n",
    "            return None\n",
    "        # If language is english, the default spacy model is used (to avoid warning message)\n",
    "        if self.model == \"en\":\n",
    "            print(\"forsinglefield:self.metrics\", self.metrics)\n",
    "            field_metrics = td.extract_metrics(text=field_text, spacy_model=\"en_core_web_sm\", metrics=self.metrics)\n",
    "            print(\"forsinglefield:field_metrics\", field_metrics)\n",
    "        else:\n",
    "            field_metrics = td.extract_metrics(text=field_text, lang=self.model, metrics=self.metrics)\n",
    "        # Drop text column\n",
    "        field_metrics = field_metrics.drop(\"text\", axis=1)\n",
    "        # Select all column names that contain ONLY NaNs\n",
    "        nan_columns = field_metrics.columns[field_metrics.isnull().all()].tolist()\n",
    "        print(\"forsinglefield:nan_columns\", nan_columns)\n",
    "        if nan_columns:\n",
    "            _LOGGER.warning(f\"The following columns contain only NaN values: {nan_columns}\")\n",
    "        # If basic metrics is None, use all basic metrics\n",
    "        if basic_metrics is None and self.metrics is None:\n",
    "            print(\"forsinglefield:basic_metrics\", basic_metrics)\n",
    "            print(\"forsinglefield:self.metrics\", self.metrics)\n",
    "            basic_metrics = self.__basic_metrics\n",
    "            field_metrics = field_metrics.loc[:, basic_metrics]\n",
    "        # Concatenate field name with the metric name\n",
    "        field_metrics.columns = [f\"{field}_{metric}\" for metric in field_metrics.columns]\n",
    "        return field_metrics\n",
    "\n",
    "    def _extract_metrics_for_all_fields(\n",
    "        self, records: List[Union[FeedbackRecord, RemoteFeedbackRecord]], fields: List[str] = None\n",
    "    ) -> pd.DataFrame:\n",
    "        \"\"\"\n",
    "        Extract text descriptives metrics for all named fields from a list of feedback records\n",
    "        using the TextDescriptives library.\n",
    "        Args:\n",
    "            records (List[Union[FeedbackRecord, RemoteFeedbackRecord]]): A list of FeedbackDataset or RemoteFeedbackDataset records.\n",
    "            fields (List[str]): A list of fields to extract metrics for. If None, extract metrics for all fields.\n",
    "        Returns:\n",
    "            pd.DataFrame: A dataframe containing the text descriptives metrics for each record and field.\n",
    "        \"\"\"\n",
    "        # If fields is None, use all fields\n",
    "        print(\"forallfields:before:fields\", fields)\n",
    "        if self.fields:\n",
    "            fields = self.fields\n",
    "        else:\n",
    "            fields = list({key for record in records for key in record.fields.keys()})\n",
    "        print(\"forallfields: after:fields\", fields)\n",
    "        # Extract all metrics for each field\n",
    "        field_metrics = {\n",
    "            field: self._extract_metrics_for_single_field(records=records, field=field) for field in fields\n",
    "        }\n",
    "        print(\"forallfields:field_metrics.items\")\n",
    "        for field, metrics in field_metrics.items():\n",
    "            print(f\"Field: {field}, Metrics: {metrics}\")\n",
    "        field_metrics = {field: metrics for field, metrics in field_metrics.items() if metrics is not None}\n",
    "        # If there is only one field, return the metrics for that field directly\n",
    "        print(len(field_metrics))\n",
    "        if len(field_metrics) == 1:\n",
    "            return list(field_metrics.values())[0]\n",
    "        else:\n",
    "            # If there are multiple fields, combine metrics for each field into a single dataframe\n",
    "            final_metrics = pd.concat(field_metrics, axis=1, keys=field_metrics.keys())\n",
    "            final_metrics.columns = final_metrics.columns.droplevel(0)\n",
    "        return final_metrics\n",
    "\n",
    "    def _cast_to_python_types(self, df: pd.DataFrame) -> pd.DataFrame:\n",
    "        \"\"\"\n",
    "        Convert integer, boolean and floats columns in a dataframe\n",
    "        to Python native types.\n",
    "\n",
    "        Args:\n",
    "            df (pd.DataFrame): The text descriptives dataframe.\n",
    "\n",
    "        Returns:\n",
    "            pd.DataFrame: The text descriptives dataframe with integer and boolean columns cast to Python native types.\n",
    "        \"\"\"\n",
    "        # Select columns by data type\n",
    "        int_cols = df.select_dtypes(include=[\"int64\"]).columns\n",
    "        bool_cols = df.select_dtypes(include=[\"boolean\"]).columns\n",
    "        float_cols = df.select_dtypes(include=[\"float64\"]).columns\n",
    "        # Cast integer columns to Python's native int type\n",
    "        df[int_cols] = df[int_cols].astype(int)\n",
    "        # Cast boolean columns to Python's native str type\n",
    "        df[bool_cols] = df[bool_cols].astype(str)\n",
    "        # Cast float columns to Python's native float type and round to 2 decimal places\n",
    "        df[float_cols] = df[float_cols].astype(float).round(2)\n",
    "        return df\n",
    "\n",
    "    def _clean_column_name(self, col_name: str) -> str:\n",
    "        \"\"\"\n",
    "        Clean the column name of a dataframe to fit a specific regex pattern.\n",
    "        Args:\n",
    "            col_name (str): A column name.\n",
    "        Returns:\n",
    "            str: A column name that fits the regex pattern.\n",
    "        \"\"\"\n",
    "        col_name = col_name.lower()  # Convert to lowercase\n",
    "        col_name = re.sub(r\"[^a-z0-9_]\", \"_\", col_name)  # Replace non-alphanumeric characters with underscores\n",
    "        return col_name\n",
    "\n",
    "    def _create_metadata_properties(self, df: pd.DataFrame) -> List:\n",
    "        \"\"\"\n",
    "        Generate metadata properties based on dataframe columns and data types.\n",
    "\n",
    "        Args:\n",
    "            df (pd.DataFrame): The text descriptives dataframe.\n",
    "\n",
    "        Returns:\n",
    "            List: A list of metadata properties.\n",
    "        \"\"\"\n",
    "        properties = []\n",
    "        for col, dtype in df.dtypes.items():\n",
    "            name = col\n",
    "            title = name.replace(\"_\", \" \").title()\n",
    "            print(\"dtype\", dtype)\n",
    "            if dtype in [\"object\", \"bool\"]:\n",
    "                prop = TermsMetadataProperty(\n",
    "                    name=name,\n",
    "                    title=title,\n",
    "                    visible_for_annotators=self.visible_for_annotators,\n",
    "                    values=df[col].unique().tolist(),\n",
    "                )\n",
    "            elif dtype == \"int32\":\n",
    "                prop = IntegerMetadataProperty(\n",
    "                    name=name, title=title, visible_for_annotators=self.visible_for_annotators\n",
    "                )\n",
    "            elif dtype == \"float64\":\n",
    "                prop = FloatMetadataProperty(name=name, title=title, visible_for_annotators=self.visible_for_annotators)\n",
    "            else:\n",
    "                _LOGGER.warning(f\"Unhandled data type for column {col}: {dtype}\")\n",
    "                prop = None\n",
    "            if prop is not None:\n",
    "                properties.append(prop)\n",
    "            print(properties)\n",
    "        return properties\n",
    "\n",
    "    def _add_text_descriptives_to_metadata(\n",
    "        self, records: List[Union[FeedbackRecord, RemoteFeedbackRecord]], df: pd.DataFrame\n",
    "    ) -> List[Union[FeedbackRecord, RemoteFeedbackRecord]]:\n",
    "        \"\"\"\n",
    "        Add the text descriptives metrics extracted previously as metadata\n",
    "        to a list of FeedbackDataset records.\n",
    "\n",
    "        Args:\n",
    "            records (List[Union[FeedbackRecord, RemoteFeedbackRecord]]): A list of FeedbackDataset or RemoteFeedbackDataset records.\n",
    "            df (pd.DataFrame): The text descriptives dataframe.\n",
    "\n",
    "        Returns:\n",
    "            List[Union[FeedbackRecord, RemoteFeedbackRecord]]: A list of FeedbackDataset or RemoteFeedbackDataset records with extracted metrics added as metadata.\n",
    "        \"\"\"\n",
    "        modified_records = []\n",
    "        with Progress() as progress_bar:\n",
    "            task = progress_bar.add_task(\n",
    "                \"Adding text descriptives to metadata...\", total=len(records), visible=self.show_progress\n",
    "            )\n",
    "            for record, metrics in zip(records, df.to_dict(\"records\")):\n",
    "                filtered_metrics = {key: value for key, value in metrics.items() if not pd.isna(value)}\n",
    "                record.metadata.update(filtered_metrics)\n",
    "                modified_records.append(record)\n",
    "                progress_bar.update(task, advance=1)\n",
    "        return modified_records\n",
    "\n",
    "    def update_records(\n",
    "        self, records: List[Union[FeedbackRecord, RemoteFeedbackRecord]]\n",
    "    ) -> List[Union[FeedbackRecord, RemoteFeedbackRecord]]:\n",
    "        \"\"\"\n",
    "        Extract text descriptives metrics from a list of FeedbackDataset or RemoteFeedbackDataset records,\n",
    "        add them as metadata to the records and return the updated records.\n",
    "\n",
    "        Args:\n",
    "            records (List[Union[FeedbackRecord, RemoteFeedbackRecord]]): A list of FeedbackDataset or RemoteFeedbackDataset records.\n",
    "\n",
    "        Returns:\n",
    "            List[Union[FeedbackRecord, RemoteFeedbackRecord]]: A list of FeedbackDataset or RemoteFeedbackDataset records with text descriptives metrics added as metadata.\n",
    "\n",
    "        >>> import argilla as rg\n",
    "        >>> records = [rg.FeedbackRecord(fields={\"text\": \"This is a test.\"})]\n",
    "        >>> tde = rg.TextDescriptivesExtractor()\n",
    "        >>> updated_records = tde.update_records(records)\n",
    "        \"\"\"\n",
    "        # Extract text descriptives metrics from records\n",
    "        extracted_metrics = self._extract_metrics_for_all_fields(records)\n",
    "        print(\"extracted_metrics:type\", type(extracted_metrics))\n",
    "        # If the dataframe doesn't contain any columns, return the original records and log a warning\n",
    "        if extracted_metrics.shape[1] == 0:\n",
    "            _LOGGER.warning(\n",
    "                \"No text descriptives metrics were extracted. This could be because the metrics contained NaNs.\"\n",
    "            )\n",
    "            return records\n",
    "        else:\n",
    "            # Cast integer and boolean columns to Python native types\n",
    "            extracted_metrics = self._cast_to_python_types(extracted_metrics)\n",
    "            # Clean column names\n",
    "            extracted_metrics.columns = [self._clean_column_name(col) for col in extracted_metrics.columns]\n",
    "            # Add the metrics to the metadata of the records\n",
    "            modified_records = self._add_text_descriptives_to_metadata(records, extracted_metrics)\n",
    "            return modified_records\n",
    "\n",
    "    def update_dataset(\n",
    "        self, dataset: Union[FeedbackDataset, RemoteFeedbackDataset]\n",
    "    ) -> Union[FeedbackDataset, RemoteFeedbackDataset]:\n",
    "        \"\"\"\n",
    "        Extract text descriptives metrics from records in a FeedbackDataset\n",
    "        or RemoteFeedbackDataset, add them as metadata to the records and\n",
    "        return the updated dataset.\n",
    "\n",
    "        Args:\n",
    "            dataset (Union[FeedbackDataset, RemoteFeedbackDataset]): A FeedbackDataset or RemoteFeedbackDataset.\n",
    "\n",
    "        Returns:\n",
    "            Union[FeedbackDataset, RemoteFeedbackDataset]: A FeedbackDataset or RemoteFeedbackDataset with text descriptives metrics added as metadata.\n",
    "\n",
    "        >>> import argilla as rg\n",
    "        >>> rg.init(...)\n",
    "        >>> dataset = rg.FeedbackDataset.from_argilla(name=\"my-dataset\")\n",
    "        >>> tde = rg.TextDescriptivesExtractor()\n",
    "        >>> updated_dataset = tde.update_dataset(dataset)\n",
    "\n",
    "        \"\"\"\n",
    "        if isinstance(dataset, (FeedbackDataset, RemoteFeedbackDataset)):\n",
    "            records = dataset.records\n",
    "        else:\n",
    "            raise ValueError(\n",
    "                f\"Provided object is of `type={type(dataset)}` while only `type=FeedbackDataset` or `type=RemoteFeedbackDataset` are allowed.\"\n",
    "            )\n",
    "        # Extract text descriptives metrics from records\n",
    "        extracted_metrics = self._extract_metrics_for_all_fields(records)\n",
    "        # Cast integer and boolean columns to Python native types\n",
    "        extracted_metrics = self._cast_to_python_types(extracted_metrics)\n",
    "        # Clean column names\n",
    "        extracted_metrics.columns = [self._clean_column_name(col) for col in extracted_metrics.columns]\n",
    "        # Create metadata properties based on dataframe columns and data types\n",
    "        metadata_properties = self._create_metadata_properties(extracted_metrics)\n",
    "        # Add each metadata property iteratively to the dataset\n",
    "        [dataset.add_metadata_property(prop) for prop in metadata_properties]\n",
    "        # Add the metrics to the metadata\n",
    "        if isinstance(dataset, FeedbackDataset):\n",
    "            with Progress() as progress_bar:\n",
    "                task = progress_bar.add_task(\n",
    "                    \"Adding text descriptives to metadata...\", total=len(records), visible=self.show_progress\n",
    "                )\n",
    "                for record, metrics in zip(records, extracted_metrics.to_dict(\"records\")):\n",
    "                    filtered_metrics = {key: value for key, value in metrics.items() if not pd.isna(value)}\n",
    "                    record.metadata.update(filtered_metrics)\n",
    "                    progress_bar.update(task, advance=1)\n",
    "        elif isinstance(dataset, RemoteFeedbackDataset):\n",
    "            modified_records = self._add_text_descriptives_to_metadata(records, extracted_metrics)\n",
    "            dataset = dataset.update_records(modified_records)\n",
    "        return dataset\n"
   ]
  },
  {
   "cell_type": "markdown",
   "metadata": {},
   "source": [
    "# Pruebas"
   ]
  },
  {
   "cell_type": "code",
   "execution_count": 5,
   "metadata": {},
   "outputs": [],
   "source": [
    "ds = rg.FeedbackDataset(\n",
    "    fields=[\n",
    "        rg.TextField(name=\"text\"),\n",
    "        rg.TextField(name=\"text2\"),\n",
    "        rg.TextField(name=\"text3\"),\n",
    "    ],\n",
    "    questions=[\n",
    "        rg.RatingQuestion(\n",
    "            name=\"answer_quality\",\n",
    "            description=\"How would you rate the quality of the answer?\",\n",
    "            values=[1, 2, 3, 4, 5],\n",
    "        ),\n",
    "    ]\n",
    ")\n",
    "records = [\n",
    "    rg.FeedbackRecord(fields={\"text\": \"This is a test.\", \"text2\": \"This is a test. You wanna sing,sing if is your passion.\", \"text3\": \"This is a test? Are you sure? I dont think so.\"}),\n",
    "    rg.FeedbackRecord(fields={\"text\": \"This i\", \"text2\": \"your house.\", \"text3\": \"try this\"}),\n",
    "    rg.FeedbackRecord(fields={\"text\": \"You went there\", \"text2\": \"This thing is tooo shrt, i should write it longer so that the metrics works\", \"text3\": \"obviously this doesn't work, why? I dont. know. Who KNows?\"}),\n",
    "]\n",
    "ds.add_records(records)"
   ]
  },
  {
   "cell_type": "code",
   "execution_count": 7,
   "metadata": {},
   "outputs": [
    {
     "data": {
      "application/vnd.jupyter.widget-view+json": {
       "model_id": "277df8867c3142099c470c94eb2c29b8",
       "version_major": 2,
       "version_minor": 0
      },
      "text/plain": [
       "Output()"
      ]
     },
     "metadata": {},
     "output_type": "display_data"
    },
    {
     "data": {
      "text/html": [
       "<pre style=\"white-space:pre;overflow-x:auto;line-height:normal;font-family:Menlo,'DejaVu Sans Mono',consolas,'Courier New',monospace\"></pre>\n"
      ],
      "text/plain": []
     },
     "metadata": {},
     "output_type": "display_data"
    },
    {
     "data": {
      "text/html": [
       "<pre style=\"white-space:pre;overflow-x:auto;line-height:normal;font-family:Menlo,'DejaVu Sans Mono',consolas,'Courier New',monospace\">\n",
       "</pre>\n"
      ],
      "text/plain": [
       "\n"
      ]
     },
     "metadata": {},
     "output_type": "display_data"
    },
    {
     "data": {
      "text/html": [
       "<pre style=\"white-space:pre;overflow-x:auto;line-height:normal;font-family:Menlo,'DejaVu Sans Mono',consolas,'Courier New',monospace\"><span style=\"color: #7fbfbf; text-decoration-color: #7fbfbf\">[12/14/23 13:25:19] </span><span style=\"color: #000080; text-decoration-color: #000080\">INFO    </span> INFO:argilla.client.feedback.dataset.local.mixins:✓ Dataset succesfully  <a href=\"file://C:\\Users\\sarah\\Documents\\argilla\\src\\argilla\\client\\feedback\\dataset\\local\\mixins.py\" target=\"_blank\"><span style=\"color: #7f7f7f; text-decoration-color: #7f7f7f\">mixins.py</span></a><span style=\"color: #7f7f7f; text-decoration-color: #7f7f7f\">:</span><a href=\"file://C:\\Users\\sarah\\Documents\\argilla\\src\\argilla\\client\\feedback\\dataset\\local\\mixins.py#281\" target=\"_blank\"><span style=\"color: #7f7f7f; text-decoration-color: #7f7f7f\">281</span></a>\n",
       "<span style=\"color: #7fbfbf; text-decoration-color: #7fbfbf\">                    </span>         pushed to Argilla                                                        <span style=\"color: #7f7f7f; text-decoration-color: #7f7f7f\">             </span>\n",
       "</pre>\n"
      ],
      "text/plain": [
       "\u001b[2;36m[12/14/23 13:25:19]\u001b[0m\u001b[2;36m \u001b[0m\u001b[34mINFO    \u001b[0m INFO:argilla.client.feedback.dataset.local.mixins:✓ Dataset succesfully  \u001b]8;id=692404;file://C:\\Users\\sarah\\Documents\\argilla\\src\\argilla\\client\\feedback\\dataset\\local\\mixins.py\u001b\\\u001b[2mmixins.py\u001b[0m\u001b]8;;\u001b\\\u001b[2m:\u001b[0m\u001b]8;id=796844;file://C:\\Users\\sarah\\Documents\\argilla\\src\\argilla\\client\\feedback\\dataset\\local\\mixins.py#281\u001b\\\u001b[2m281\u001b[0m\u001b]8;;\u001b\\\n",
       "\u001b[2;36m                    \u001b[0m         pushed to Argilla                                                        \u001b[2m             \u001b[0m\n"
      ]
     },
     "metadata": {},
     "output_type": "display_data"
    },
    {
     "data": {
      "text/html": [
       "<pre style=\"white-space:pre;overflow-x:auto;line-height:normal;font-family:Menlo,'DejaVu Sans Mono',consolas,'Courier New',monospace\"><span style=\"color: #7fbfbf; text-decoration-color: #7fbfbf\">                    </span><span style=\"color: #000080; text-decoration-color: #000080\">INFO    </span> INFO:argilla.client.feedback.dataset.local.mixins:<span style=\"color: #800080; text-decoration-color: #800080; font-weight: bold\">RemoteFeedbackDataset</span><span style=\"font-weight: bold\">(</span> <a href=\"file://C:\\Users\\sarah\\Documents\\argilla\\src\\argilla\\client\\feedback\\dataset\\local\\mixins.py\" target=\"_blank\"><span style=\"color: #7f7f7f; text-decoration-color: #7f7f7f\">mixins.py</span></a><span style=\"color: #7f7f7f; text-decoration-color: #7f7f7f\">:</span><a href=\"file://C:\\Users\\sarah\\Documents\\argilla\\src\\argilla\\client\\feedback\\dataset\\local\\mixins.py#282\" target=\"_blank\"><span style=\"color: #7f7f7f; text-decoration-color: #7f7f7f\">282</span></a>\n",
       "<span style=\"color: #7fbfbf; text-decoration-color: #7fbfbf\">                    </span>            <span style=\"color: #808000; text-decoration-color: #808000\">id</span>=<span style=\"color: #ffff00; text-decoration-color: #ffff00\">e7ed6ef2</span><span style=\"color: #ffff00; text-decoration-color: #ffff00\">-31be-468b-95e7-5eca2247e870</span>                               <span style=\"color: #7f7f7f; text-decoration-color: #7f7f7f\">             </span>\n",
       "<span style=\"color: #7fbfbf; text-decoration-color: #7fbfbf\">                    </span>            <span style=\"color: #808000; text-decoration-color: #808000\">name</span>=<span style=\"color: #800080; text-decoration-color: #800080\">basic_one</span>                                                        <span style=\"color: #7f7f7f; text-decoration-color: #7f7f7f\">             </span>\n",
       "<span style=\"color: #7fbfbf; text-decoration-color: #7fbfbf\">                    </span>            <span style=\"color: #808000; text-decoration-color: #808000\">workspace</span>=<span style=\"color: #800080; text-decoration-color: #800080; font-weight: bold\">Workspace</span><span style=\"font-weight: bold\">(</span><span style=\"color: #808000; text-decoration-color: #808000\">id</span>=<span style=\"color: #ffff00; text-decoration-color: #ffff00\">507a6ccf</span><span style=\"color: #ffff00; text-decoration-color: #ffff00\">-f7e0-40e9-9384-5c8840abb505</span>,          <span style=\"color: #7f7f7f; text-decoration-color: #7f7f7f\">             </span>\n",
       "<span style=\"color: #7fbfbf; text-decoration-color: #7fbfbf\">                    </span>         <span style=\"color: #808000; text-decoration-color: #808000\">name</span>=<span style=\"color: #800080; text-decoration-color: #800080\">argilla</span>, <span style=\"color: #808000; text-decoration-color: #808000\">inserted_at</span>=<span style=\"color: #008080; text-decoration-color: #008080; font-weight: bold\">2023</span>-<span style=\"color: #008080; text-decoration-color: #008080; font-weight: bold\">12</span>-<span style=\"color: #008080; text-decoration-color: #008080; font-weight: bold\">12</span> <span style=\"color: #00ff00; text-decoration-color: #00ff00; font-weight: bold\">14:04:58</span>.<span style=\"color: #008080; text-decoration-color: #008080; font-weight: bold\">940990</span>,                    <span style=\"color: #7f7f7f; text-decoration-color: #7f7f7f\">             </span>\n",
       "<span style=\"color: #7fbfbf; text-decoration-color: #7fbfbf\">                    </span>         <span style=\"color: #808000; text-decoration-color: #808000\">updated_at</span>=<span style=\"color: #008080; text-decoration-color: #008080; font-weight: bold\">2023</span>-<span style=\"color: #008080; text-decoration-color: #008080; font-weight: bold\">12</span>-<span style=\"color: #008080; text-decoration-color: #008080; font-weight: bold\">12</span> <span style=\"color: #00ff00; text-decoration-color: #00ff00; font-weight: bold\">14:04:58</span>.<span style=\"color: #008080; text-decoration-color: #008080; font-weight: bold\">940990</span><span style=\"font-weight: bold\">)</span>                                   <span style=\"color: #7f7f7f; text-decoration-color: #7f7f7f\">             </span>\n",
       "<span style=\"color: #7fbfbf; text-decoration-color: #7fbfbf\">                    </span>            <span style=\"color: #808000; text-decoration-color: #808000\">url</span>=<span style=\"color: #0000ff; text-decoration-color: #0000ff; text-decoration: underline\">http://localhost:6900/dataset/e7ed6ef2-31be-468b-95e7-5eca2247e87</span> <span style=\"color: #7f7f7f; text-decoration-color: #7f7f7f\">             </span>\n",
       "<span style=\"color: #7fbfbf; text-decoration-color: #7fbfbf\">                    </span>         <span style=\"color: #0000ff; text-decoration-color: #0000ff; text-decoration: underline\">0/annotation-mode</span>                                                        <span style=\"color: #7f7f7f; text-decoration-color: #7f7f7f\">             </span>\n",
       "<span style=\"color: #7fbfbf; text-decoration-color: #7fbfbf\">                    </span>            <span style=\"color: #808000; text-decoration-color: #808000\">fields</span>=<span style=\"font-weight: bold\">[</span><span style=\"color: #800080; text-decoration-color: #800080; font-weight: bold\">RemoteTextField</span><span style=\"font-weight: bold\">(</span><span style=\"color: #808000; text-decoration-color: #808000\">id</span>=<span style=\"color: #800080; text-decoration-color: #800080; font-weight: bold\">UUID</span><span style=\"font-weight: bold\">(</span><span style=\"color: #008000; text-decoration-color: #008000\">'f9561fd8-7808-438b-9e61-221a4faabfa8</span> <span style=\"color: #7f7f7f; text-decoration-color: #7f7f7f\">             </span>\n",
       "<span style=\"color: #7fbfbf; text-decoration-color: #7fbfbf\">                    </span>         <span style=\"color: #008000; text-decoration-color: #008000\">'</span><span style=\"font-weight: bold\">)</span>, <span style=\"color: #808000; text-decoration-color: #808000\">client</span>=<span style=\"color: #800080; text-decoration-color: #800080; font-style: italic\">None</span>, <span style=\"color: #808000; text-decoration-color: #808000\">name</span>=<span style=\"color: #008000; text-decoration-color: #008000\">'text'</span>, <span style=\"color: #808000; text-decoration-color: #808000\">title</span>=<span style=\"color: #008000; text-decoration-color: #008000\">'Text'</span>, <span style=\"color: #808000; text-decoration-color: #808000\">required</span>=<span style=\"color: #00ff00; text-decoration-color: #00ff00; font-style: italic\">True</span>, <span style=\"color: #808000; text-decoration-color: #808000\">type</span>=<span style=\"color: #008000; text-decoration-color: #008000\">'text'</span>,  <span style=\"color: #7f7f7f; text-decoration-color: #7f7f7f\">             </span>\n",
       "<span style=\"color: #7fbfbf; text-decoration-color: #7fbfbf\">                    </span>         <span style=\"color: #808000; text-decoration-color: #808000\">use_markdown</span>=<span style=\"color: #ff0000; text-decoration-color: #ff0000; font-style: italic\">False</span><span style=\"font-weight: bold\">)</span>,                                                     <span style=\"color: #7f7f7f; text-decoration-color: #7f7f7f\">             </span>\n",
       "<span style=\"color: #7fbfbf; text-decoration-color: #7fbfbf\">                    </span>         <span style=\"color: #800080; text-decoration-color: #800080; font-weight: bold\">RemoteTextField</span><span style=\"font-weight: bold\">(</span><span style=\"color: #808000; text-decoration-color: #808000\">id</span>=<span style=\"color: #800080; text-decoration-color: #800080; font-weight: bold\">UUID</span><span style=\"font-weight: bold\">(</span><span style=\"color: #008000; text-decoration-color: #008000\">'22871def-c631-4030-8271-a53bafaccab0'</span><span style=\"font-weight: bold\">)</span>,         <span style=\"color: #7f7f7f; text-decoration-color: #7f7f7f\">             </span>\n",
       "<span style=\"color: #7fbfbf; text-decoration-color: #7fbfbf\">                    </span>         <span style=\"color: #808000; text-decoration-color: #808000\">client</span>=<span style=\"color: #800080; text-decoration-color: #800080; font-style: italic\">None</span>, <span style=\"color: #808000; text-decoration-color: #808000\">name</span>=<span style=\"color: #008000; text-decoration-color: #008000\">'text2'</span>, <span style=\"color: #808000; text-decoration-color: #808000\">title</span>=<span style=\"color: #008000; text-decoration-color: #008000\">'Text2'</span>, <span style=\"color: #808000; text-decoration-color: #808000\">required</span>=<span style=\"color: #00ff00; text-decoration-color: #00ff00; font-style: italic\">True</span>, <span style=\"color: #808000; text-decoration-color: #808000\">type</span>=<span style=\"color: #008000; text-decoration-color: #008000\">'text'</span>,    <span style=\"color: #7f7f7f; text-decoration-color: #7f7f7f\">             </span>\n",
       "<span style=\"color: #7fbfbf; text-decoration-color: #7fbfbf\">                    </span>         <span style=\"color: #808000; text-decoration-color: #808000\">use_markdown</span>=<span style=\"color: #ff0000; text-decoration-color: #ff0000; font-style: italic\">False</span><span style=\"font-weight: bold\">)</span>,                                                     <span style=\"color: #7f7f7f; text-decoration-color: #7f7f7f\">             </span>\n",
       "<span style=\"color: #7fbfbf; text-decoration-color: #7fbfbf\">                    </span>         <span style=\"color: #800080; text-decoration-color: #800080; font-weight: bold\">RemoteTextField</span><span style=\"font-weight: bold\">(</span><span style=\"color: #808000; text-decoration-color: #808000\">id</span>=<span style=\"color: #800080; text-decoration-color: #800080; font-weight: bold\">UUID</span><span style=\"font-weight: bold\">(</span><span style=\"color: #008000; text-decoration-color: #008000\">'e203ad3c-7054-4c14-b661-c4b2e9a1b5b8'</span><span style=\"font-weight: bold\">)</span>,         <span style=\"color: #7f7f7f; text-decoration-color: #7f7f7f\">             </span>\n",
       "<span style=\"color: #7fbfbf; text-decoration-color: #7fbfbf\">                    </span>         <span style=\"color: #808000; text-decoration-color: #808000\">client</span>=<span style=\"color: #800080; text-decoration-color: #800080; font-style: italic\">None</span>, <span style=\"color: #808000; text-decoration-color: #808000\">name</span>=<span style=\"color: #008000; text-decoration-color: #008000\">'text3'</span>, <span style=\"color: #808000; text-decoration-color: #808000\">title</span>=<span style=\"color: #008000; text-decoration-color: #008000\">'Text3'</span>, <span style=\"color: #808000; text-decoration-color: #808000\">required</span>=<span style=\"color: #00ff00; text-decoration-color: #00ff00; font-style: italic\">True</span>, <span style=\"color: #808000; text-decoration-color: #808000\">type</span>=<span style=\"color: #008000; text-decoration-color: #008000\">'text'</span>,    <span style=\"color: #7f7f7f; text-decoration-color: #7f7f7f\">             </span>\n",
       "<span style=\"color: #7fbfbf; text-decoration-color: #7fbfbf\">                    </span>         <span style=\"color: #808000; text-decoration-color: #808000\">use_markdown</span>=<span style=\"color: #ff0000; text-decoration-color: #ff0000; font-style: italic\">False</span><span style=\"font-weight: bold\">)]</span>                                                     <span style=\"color: #7f7f7f; text-decoration-color: #7f7f7f\">             </span>\n",
       "<span style=\"color: #7fbfbf; text-decoration-color: #7fbfbf\">                    </span>            <span style=\"color: #808000; text-decoration-color: #808000\">questions</span>=<span style=\"font-weight: bold\">[</span><span style=\"color: #800080; text-decoration-color: #800080; font-weight: bold\">RemoteRatingQuestion</span><span style=\"font-weight: bold\">(</span><span style=\"color: #808000; text-decoration-color: #808000\">id</span>=<span style=\"color: #800080; text-decoration-color: #800080; font-weight: bold\">UUID</span><span style=\"font-weight: bold\">(</span><span style=\"color: #008000; text-decoration-color: #008000\">'0313872c-fcab-4d10-8312-2b9a</span> <span style=\"color: #7f7f7f; text-decoration-color: #7f7f7f\">             </span>\n",
       "<span style=\"color: #7fbfbf; text-decoration-color: #7fbfbf\">                    </span>         <span style=\"color: #008000; text-decoration-color: #008000\">d9103c66'</span><span style=\"font-weight: bold\">)</span>, <span style=\"color: #808000; text-decoration-color: #808000\">client</span>=<span style=\"color: #800080; text-decoration-color: #800080; font-style: italic\">None</span>, <span style=\"color: #808000; text-decoration-color: #808000\">name</span>=<span style=\"color: #008000; text-decoration-color: #008000\">'answer_quality'</span>, <span style=\"color: #808000; text-decoration-color: #808000\">title</span>=<span style=\"color: #008000; text-decoration-color: #008000\">'Answer_quality'</span>,  <span style=\"color: #7f7f7f; text-decoration-color: #7f7f7f\">             </span>\n",
       "<span style=\"color: #7fbfbf; text-decoration-color: #7fbfbf\">                    </span>         <span style=\"color: #808000; text-decoration-color: #808000\">description</span>=<span style=\"color: #800080; text-decoration-color: #800080; font-style: italic\">None</span>, <span style=\"color: #808000; text-decoration-color: #808000\">required</span>=<span style=\"color: #00ff00; text-decoration-color: #00ff00; font-style: italic\">True</span>, <span style=\"color: #808000; text-decoration-color: #808000\">type</span>=<span style=\"color: #008000; text-decoration-color: #008000\">'rating'</span>, <span style=\"color: #808000; text-decoration-color: #808000\">values</span>=<span style=\"font-weight: bold\">[</span><span style=\"color: #008080; text-decoration-color: #008080; font-weight: bold\">1</span>, <span style=\"color: #008080; text-decoration-color: #008080; font-weight: bold\">2</span>, <span style=\"color: #008080; text-decoration-color: #008080; font-weight: bold\">3</span>, <span style=\"color: #008080; text-decoration-color: #008080; font-weight: bold\">4</span>, <span style=\"color: #008080; text-decoration-color: #008080; font-weight: bold\">5</span><span style=\"font-weight: bold\">])]</span> <span style=\"color: #7f7f7f; text-decoration-color: #7f7f7f\">             </span>\n",
       "<span style=\"color: #7fbfbf; text-decoration-color: #7fbfbf\">                    </span>            <span style=\"color: #808000; text-decoration-color: #808000\">guidelines</span>=<span style=\"color: #800080; text-decoration-color: #800080; font-style: italic\">None</span>                                                       <span style=\"color: #7f7f7f; text-decoration-color: #7f7f7f\">             </span>\n",
       "<span style=\"color: #7fbfbf; text-decoration-color: #7fbfbf\">                    </span>            <span style=\"color: #808000; text-decoration-color: #808000\">metadata_properties</span>=<span style=\"font-weight: bold\">[]</span>                                                <span style=\"color: #7f7f7f; text-decoration-color: #7f7f7f\">             </span>\n",
       "<span style=\"color: #7fbfbf; text-decoration-color: #7fbfbf\">                    </span>         <span style=\"font-weight: bold\">)</span>                                                                        <span style=\"color: #7f7f7f; text-decoration-color: #7f7f7f\">             </span>\n",
       "</pre>\n"
      ],
      "text/plain": [
       "\u001b[2;36m                   \u001b[0m\u001b[2;36m \u001b[0m\u001b[34mINFO    \u001b[0m INFO:argilla.client.feedback.dataset.local.mixins:\u001b[1;35mRemoteFeedbackDataset\u001b[0m\u001b[1m(\u001b[0m \u001b]8;id=647048;file://C:\\Users\\sarah\\Documents\\argilla\\src\\argilla\\client\\feedback\\dataset\\local\\mixins.py\u001b\\\u001b[2mmixins.py\u001b[0m\u001b]8;;\u001b\\\u001b[2m:\u001b[0m\u001b]8;id=55293;file://C:\\Users\\sarah\\Documents\\argilla\\src\\argilla\\client\\feedback\\dataset\\local\\mixins.py#282\u001b\\\u001b[2m282\u001b[0m\u001b]8;;\u001b\\\n",
       "\u001b[2;36m                    \u001b[0m            \u001b[33mid\u001b[0m=\u001b[93me7ed6ef2\u001b[0m\u001b[93m-31be-468b-95e7-5eca2247e870\u001b[0m                               \u001b[2m             \u001b[0m\n",
       "\u001b[2;36m                    \u001b[0m            \u001b[33mname\u001b[0m=\u001b[35mbasic_one\u001b[0m                                                        \u001b[2m             \u001b[0m\n",
       "\u001b[2;36m                    \u001b[0m            \u001b[33mworkspace\u001b[0m=\u001b[1;35mWorkspace\u001b[0m\u001b[1m(\u001b[0m\u001b[33mid\u001b[0m=\u001b[93m507a6ccf\u001b[0m\u001b[93m-f7e0-40e9-9384-5c8840abb505\u001b[0m,          \u001b[2m             \u001b[0m\n",
       "\u001b[2;36m                    \u001b[0m         \u001b[33mname\u001b[0m=\u001b[35margilla\u001b[0m, \u001b[33minserted_at\u001b[0m=\u001b[1;36m2023\u001b[0m-\u001b[1;36m12\u001b[0m-\u001b[1;36m12\u001b[0m \u001b[1;92m14:04:58\u001b[0m.\u001b[1;36m940990\u001b[0m,                    \u001b[2m             \u001b[0m\n",
       "\u001b[2;36m                    \u001b[0m         \u001b[33mupdated_at\u001b[0m=\u001b[1;36m2023\u001b[0m-\u001b[1;36m12\u001b[0m-\u001b[1;36m12\u001b[0m \u001b[1;92m14:04:58\u001b[0m.\u001b[1;36m940990\u001b[0m\u001b[1m)\u001b[0m                                   \u001b[2m             \u001b[0m\n",
       "\u001b[2;36m                    \u001b[0m            \u001b[33murl\u001b[0m=\u001b[4;94mhttp\u001b[0m\u001b[4;94m://localhost:6900/dataset/e7ed6ef2-31be-468b-95e7-5eca2247e87\u001b[0m \u001b[2m             \u001b[0m\n",
       "\u001b[2;36m                    \u001b[0m         \u001b[4;94m0/annotation-mode\u001b[0m                                                        \u001b[2m             \u001b[0m\n",
       "\u001b[2;36m                    \u001b[0m            \u001b[33mfields\u001b[0m=\u001b[1m[\u001b[0m\u001b[1;35mRemoteTextField\u001b[0m\u001b[1m(\u001b[0m\u001b[33mid\u001b[0m=\u001b[1;35mUUID\u001b[0m\u001b[1m(\u001b[0m\u001b[32m'f9561fd8-7808-438b-9e61-221a4faabfa8\u001b[0m \u001b[2m             \u001b[0m\n",
       "\u001b[2;36m                    \u001b[0m         \u001b[32m'\u001b[0m\u001b[1m)\u001b[0m, \u001b[33mclient\u001b[0m=\u001b[3;35mNone\u001b[0m, \u001b[33mname\u001b[0m=\u001b[32m'text'\u001b[0m, \u001b[33mtitle\u001b[0m=\u001b[32m'Text'\u001b[0m, \u001b[33mrequired\u001b[0m=\u001b[3;92mTrue\u001b[0m, \u001b[33mtype\u001b[0m=\u001b[32m'text'\u001b[0m,  \u001b[2m             \u001b[0m\n",
       "\u001b[2;36m                    \u001b[0m         \u001b[33muse_markdown\u001b[0m=\u001b[3;91mFalse\u001b[0m\u001b[1m)\u001b[0m,                                                     \u001b[2m             \u001b[0m\n",
       "\u001b[2;36m                    \u001b[0m         \u001b[1;35mRemoteTextField\u001b[0m\u001b[1m(\u001b[0m\u001b[33mid\u001b[0m=\u001b[1;35mUUID\u001b[0m\u001b[1m(\u001b[0m\u001b[32m'22871def-c631-4030-8271-a53bafaccab0'\u001b[0m\u001b[1m)\u001b[0m,         \u001b[2m             \u001b[0m\n",
       "\u001b[2;36m                    \u001b[0m         \u001b[33mclient\u001b[0m=\u001b[3;35mNone\u001b[0m, \u001b[33mname\u001b[0m=\u001b[32m'text2'\u001b[0m, \u001b[33mtitle\u001b[0m=\u001b[32m'Text2'\u001b[0m, \u001b[33mrequired\u001b[0m=\u001b[3;92mTrue\u001b[0m, \u001b[33mtype\u001b[0m=\u001b[32m'text'\u001b[0m,    \u001b[2m             \u001b[0m\n",
       "\u001b[2;36m                    \u001b[0m         \u001b[33muse_markdown\u001b[0m=\u001b[3;91mFalse\u001b[0m\u001b[1m)\u001b[0m,                                                     \u001b[2m             \u001b[0m\n",
       "\u001b[2;36m                    \u001b[0m         \u001b[1;35mRemoteTextField\u001b[0m\u001b[1m(\u001b[0m\u001b[33mid\u001b[0m=\u001b[1;35mUUID\u001b[0m\u001b[1m(\u001b[0m\u001b[32m'e203ad3c-7054-4c14-b661-c4b2e9a1b5b8'\u001b[0m\u001b[1m)\u001b[0m,         \u001b[2m             \u001b[0m\n",
       "\u001b[2;36m                    \u001b[0m         \u001b[33mclient\u001b[0m=\u001b[3;35mNone\u001b[0m, \u001b[33mname\u001b[0m=\u001b[32m'text3'\u001b[0m, \u001b[33mtitle\u001b[0m=\u001b[32m'Text3'\u001b[0m, \u001b[33mrequired\u001b[0m=\u001b[3;92mTrue\u001b[0m, \u001b[33mtype\u001b[0m=\u001b[32m'text'\u001b[0m,    \u001b[2m             \u001b[0m\n",
       "\u001b[2;36m                    \u001b[0m         \u001b[33muse_markdown\u001b[0m=\u001b[3;91mFalse\u001b[0m\u001b[1m)\u001b[0m\u001b[1m]\u001b[0m                                                     \u001b[2m             \u001b[0m\n",
       "\u001b[2;36m                    \u001b[0m            \u001b[33mquestions\u001b[0m=\u001b[1m[\u001b[0m\u001b[1;35mRemoteRatingQuestion\u001b[0m\u001b[1m(\u001b[0m\u001b[33mid\u001b[0m=\u001b[1;35mUUID\u001b[0m\u001b[1m(\u001b[0m\u001b[32m'0313872c-fcab-4d10-8312-2b9a\u001b[0m \u001b[2m             \u001b[0m\n",
       "\u001b[2;36m                    \u001b[0m         \u001b[32md9103c66'\u001b[0m\u001b[1m)\u001b[0m, \u001b[33mclient\u001b[0m=\u001b[3;35mNone\u001b[0m, \u001b[33mname\u001b[0m=\u001b[32m'answer_quality'\u001b[0m, \u001b[33mtitle\u001b[0m=\u001b[32m'Answer_quality'\u001b[0m,  \u001b[2m             \u001b[0m\n",
       "\u001b[2;36m                    \u001b[0m         \u001b[33mdescription\u001b[0m=\u001b[3;35mNone\u001b[0m, \u001b[33mrequired\u001b[0m=\u001b[3;92mTrue\u001b[0m, \u001b[33mtype\u001b[0m=\u001b[32m'rating'\u001b[0m, \u001b[33mvalues\u001b[0m=\u001b[1m[\u001b[0m\u001b[1;36m1\u001b[0m, \u001b[1;36m2\u001b[0m, \u001b[1;36m3\u001b[0m, \u001b[1;36m4\u001b[0m, \u001b[1;36m5\u001b[0m\u001b[1m]\u001b[0m\u001b[1m)\u001b[0m\u001b[1m]\u001b[0m \u001b[2m             \u001b[0m\n",
       "\u001b[2;36m                    \u001b[0m            \u001b[33mguidelines\u001b[0m=\u001b[3;35mNone\u001b[0m                                                       \u001b[2m             \u001b[0m\n",
       "\u001b[2;36m                    \u001b[0m            \u001b[33mmetadata_properties\u001b[0m=\u001b[1m[\u001b[0m\u001b[1m]\u001b[0m                                                \u001b[2m             \u001b[0m\n",
       "\u001b[2;36m                    \u001b[0m         \u001b[1m)\u001b[0m                                                                        \u001b[2m             \u001b[0m\n"
      ]
     },
     "metadata": {},
     "output_type": "display_data"
    }
   ],
   "source": [
    "try:\n",
    "    remote_ds = ds.push_to_argilla(name=\"basic_one\", workspace=\"argilla\")\n",
    "except:\n",
    "    rg.FeedbackDataset.from_argilla(\"basic_one\", workspace=\"argilla\").delete()\n",
    "    remote_ds = ds.push_to_argilla(name=\"basic_one\", workspace=\"argilla\")\n",
    "records = remote_ds.records"
   ]
  },
  {
   "cell_type": "markdown",
   "metadata": {},
   "source": [
    "## records (remote/local) with metrics and fields OK"
   ]
  },
  {
   "cell_type": "code",
   "execution_count": 6,
   "metadata": {},
   "outputs": [
    {
     "name": "stdout",
     "output_type": "stream",
     "text": [
      "self.metrics ['coherence']\n",
      "self.fields ['text', 'text2']\n",
      "forallfields:before:fields None\n",
      "forallfields: after:fields ['text', 'text2']\n",
      "forsinglefield:self.metrics ['coherence']\n",
      "forsinglefield:field_metrics               text  first_order_coherence  second_order_coherence\n",
      "0  This is a test.                    NaN                     NaN\n",
      "1           This i                    NaN                     NaN\n",
      "2   You went there                    NaN                     NaN\n",
      "forsinglefield:nan_columns ['first_order_coherence', 'second_order_coherence']\n"
     ]
    },
    {
     "data": {
      "text/html": [
       "<pre style=\"white-space:pre;overflow-x:auto;line-height:normal;font-family:Menlo,'DejaVu Sans Mono',consolas,'Courier New',monospace\"><span style=\"color: #7fbfbf; text-decoration-color: #7fbfbf\">[12/14/23 13:25:04] </span><span style=\"color: #800000; text-decoration-color: #800000\">WARNING </span> WARNING:argilla.client.feedback.integrations.textdescriptives <a href=\"file://C:\\Users\\sarah\\Documents\\argilla\\src\\argilla\\client\\feedback\\integrations\\textdescriptives_.py\" target=\"_blank\"><span style=\"color: #7f7f7f; text-decoration-color: #7f7f7f\">textdescriptives_.py</span></a><span style=\"color: #7f7f7f; text-decoration-color: #7f7f7f\">:</span><a href=\"file://C:\\Users\\sarah\\Documents\\argilla\\src\\argilla\\client\\feedback\\integrations\\textdescriptives_.py#110\" target=\"_blank\"><span style=\"color: #7f7f7f; text-decoration-color: #7f7f7f\">110</span></a>\n",
       "<span style=\"color: #7fbfbf; text-decoration-color: #7fbfbf\">                    </span>         _:The following columns contain only NaN values:              <span style=\"color: #7f7f7f; text-decoration-color: #7f7f7f\">                        </span>\n",
       "<span style=\"color: #7fbfbf; text-decoration-color: #7fbfbf\">                    </span>         <span style=\"font-weight: bold\">[</span><span style=\"color: #008000; text-decoration-color: #008000\">'first_order_coherence'</span>, <span style=\"color: #008000; text-decoration-color: #008000\">'second_order_coherence'</span><span style=\"font-weight: bold\">]</span>           <span style=\"color: #7f7f7f; text-decoration-color: #7f7f7f\">                        </span>\n",
       "</pre>\n"
      ],
      "text/plain": [
       "\u001b[2;36m[12/14/23 13:25:04]\u001b[0m\u001b[2;36m \u001b[0m\u001b[31mWARNING \u001b[0m WARNING:argilla.client.feedback.integrations.textdescriptives \u001b]8;id=10369;file://C:\\Users\\sarah\\Documents\\argilla\\src\\argilla\\client\\feedback\\integrations\\textdescriptives_.py\u001b\\\u001b[2mtextdescriptives_.py\u001b[0m\u001b]8;;\u001b\\\u001b[2m:\u001b[0m\u001b]8;id=890873;file://C:\\Users\\sarah\\Documents\\argilla\\src\\argilla\\client\\feedback\\integrations\\textdescriptives_.py#110\u001b\\\u001b[2m110\u001b[0m\u001b]8;;\u001b\\\n",
       "\u001b[2;36m                    \u001b[0m         _:The following columns contain only NaN values:              \u001b[2m                        \u001b[0m\n",
       "\u001b[2;36m                    \u001b[0m         \u001b[1m[\u001b[0m\u001b[32m'first_order_coherence'\u001b[0m, \u001b[32m'second_order_coherence'\u001b[0m\u001b[1m]\u001b[0m           \u001b[2m                        \u001b[0m\n"
      ]
     },
     "metadata": {},
     "output_type": "display_data"
    },
    {
     "name": "stdout",
     "output_type": "stream",
     "text": [
      "forsinglefield:self.metrics ['coherence']\n",
      "forsinglefield:field_metrics                                                 text  first_order_coherence  \\\n",
      "0  This is a test. You wanna sing,sing if is your...               0.306215   \n",
      "1                                        your house.                    NaN   \n",
      "2  This thing is tooo shrt, i should write it lon...                    NaN   \n",
      "\n",
      "   second_order_coherence  \n",
      "0                     NaN  \n",
      "1                     NaN  \n",
      "2                     NaN  \n",
      "forsinglefield:nan_columns ['second_order_coherence']\n"
     ]
    },
    {
     "name": "stderr",
     "output_type": "stream",
     "text": [
      "c:\\Users\\sarah\\miniconda3\\envs\\argilla-markdown\\lib\\site-packages\\textdescriptives\\components\\coherence.py:44: UserWarning: [W007] The model you're using has no word vectors loaded, so the result of the Span.similarity method will be based on the tagger, parser and NER, which may not give useful similarity judgements. This may happen if you're using one of the small models, e.g. `en_core_web_sm`, which don't ship with word vectors and only use context-sensitive tensors. You can always add your own word vectors, or use one of the larger models instead if available.\n",
      "  similarities.append(sent.similarity(sents[i + order]))\n"
     ]
    },
    {
     "data": {
      "text/html": [
       "<pre style=\"white-space:pre;overflow-x:auto;line-height:normal;font-family:Menlo,'DejaVu Sans Mono',consolas,'Courier New',monospace\"><span style=\"color: #7fbfbf; text-decoration-color: #7fbfbf\">[12/14/23 13:25:05] </span><span style=\"color: #800000; text-decoration-color: #800000\">WARNING </span> WARNING:argilla.client.feedback.integrations.textdescriptives <a href=\"file://C:\\Users\\sarah\\Documents\\argilla\\src\\argilla\\client\\feedback\\integrations\\textdescriptives_.py\" target=\"_blank\"><span style=\"color: #7f7f7f; text-decoration-color: #7f7f7f\">textdescriptives_.py</span></a><span style=\"color: #7f7f7f; text-decoration-color: #7f7f7f\">:</span><a href=\"file://C:\\Users\\sarah\\Documents\\argilla\\src\\argilla\\client\\feedback\\integrations\\textdescriptives_.py#110\" target=\"_blank\"><span style=\"color: #7f7f7f; text-decoration-color: #7f7f7f\">110</span></a>\n",
       "<span style=\"color: #7fbfbf; text-decoration-color: #7fbfbf\">                    </span>         _:The following columns contain only NaN values:              <span style=\"color: #7f7f7f; text-decoration-color: #7f7f7f\">                        </span>\n",
       "<span style=\"color: #7fbfbf; text-decoration-color: #7fbfbf\">                    </span>         <span style=\"font-weight: bold\">[</span><span style=\"color: #008000; text-decoration-color: #008000\">'second_order_coherence'</span><span style=\"font-weight: bold\">]</span>                                    <span style=\"color: #7f7f7f; text-decoration-color: #7f7f7f\">                        </span>\n",
       "</pre>\n"
      ],
      "text/plain": [
       "\u001b[2;36m[12/14/23 13:25:05]\u001b[0m\u001b[2;36m \u001b[0m\u001b[31mWARNING \u001b[0m WARNING:argilla.client.feedback.integrations.textdescriptives \u001b]8;id=944499;file://C:\\Users\\sarah\\Documents\\argilla\\src\\argilla\\client\\feedback\\integrations\\textdescriptives_.py\u001b\\\u001b[2mtextdescriptives_.py\u001b[0m\u001b]8;;\u001b\\\u001b[2m:\u001b[0m\u001b]8;id=960238;file://C:\\Users\\sarah\\Documents\\argilla\\src\\argilla\\client\\feedback\\integrations\\textdescriptives_.py#110\u001b\\\u001b[2m110\u001b[0m\u001b]8;;\u001b\\\n",
       "\u001b[2;36m                    \u001b[0m         _:The following columns contain only NaN values:              \u001b[2m                        \u001b[0m\n",
       "\u001b[2;36m                    \u001b[0m         \u001b[1m[\u001b[0m\u001b[32m'second_order_coherence'\u001b[0m\u001b[1m]\u001b[0m                                    \u001b[2m                        \u001b[0m\n"
      ]
     },
     "metadata": {},
     "output_type": "display_data"
    },
    {
     "data": {
      "application/vnd.jupyter.widget-view+json": {
       "model_id": "52163d48e65b46cc8ab88162ee4da8fb",
       "version_major": 2,
       "version_minor": 0
      },
      "text/plain": [
       "Output()"
      ]
     },
     "metadata": {},
     "output_type": "display_data"
    },
    {
     "name": "stdout",
     "output_type": "stream",
     "text": [
      "forallfields:field_metrics.items\n",
      "Field: text, Metrics:    text_first_order_coherence  text_second_order_coherence\n",
      "0                         NaN                          NaN\n",
      "1                         NaN                          NaN\n",
      "2                         NaN                          NaN\n",
      "Field: text2, Metrics:    text2_first_order_coherence  text2_second_order_coherence\n",
      "0                     0.306215                           NaN\n",
      "1                          NaN                           NaN\n",
      "2                          NaN                           NaN\n",
      "2\n",
      "extracted_metrics:type <class 'pandas.core.frame.DataFrame'>\n"
     ]
    },
    {
     "data": {
      "text/html": [
       "<pre style=\"white-space:pre;overflow-x:auto;line-height:normal;font-family:Menlo,'DejaVu Sans Mono',consolas,'Courier New',monospace\"></pre>\n"
      ],
      "text/plain": []
     },
     "metadata": {},
     "output_type": "display_data"
    },
    {
     "data": {
      "text/html": [
       "<pre style=\"white-space:pre;overflow-x:auto;line-height:normal;font-family:Menlo,'DejaVu Sans Mono',consolas,'Courier New',monospace\">\n",
       "</pre>\n"
      ],
      "text/plain": [
       "\n"
      ]
     },
     "metadata": {},
     "output_type": "display_data"
    }
   ],
   "source": [
    "tde = rg.TextDescriptivesExtractor(metrics=[\"coherence\"], fields=[\"text\", \"text2\"])\n",
    "updated_records = tde.update_records(records)"
   ]
  },
  {
   "cell_type": "code",
   "execution_count": 32,
   "metadata": {},
   "outputs": [
    {
     "data": {
      "text/plain": [
       "[RemoteFeedbackRecord(id=UUID('563e0ff5-2aee-433c-b248-2483278dcc59'), client=<httpx.Client object at 0x0000021D00217880>, fields={'text': 'This is a test.', 'text2': 'This is a test. You wanna sing,sing if is your passion.', 'text3': 'This is a test? Are you sure? I dont think so.'}, metadata={'text_flesch_reading_ease': 118.18, 'text_flesch_kincaid_grade': -2.23, 'text_gunning_fog': 1.6, 'text_automated_readability_index': -6.48, 'text_coleman_liau_index': -7.03, 'text_lix': 4.0, 'text_rix': 0.0, 'text_token_length_mean': 2.75, 'text_token_length_median': 3.0, 'text_token_length_std': 1.3, 'text_sentence_length_mean': 4.0, 'text_sentence_length_median': 4.0, 'text_sentence_length_std': 0.0, 'text_syllables_per_token_mean': 1.0, 'text_syllables_per_token_median': 1.0, 'text_syllables_per_token_std': 0.0, 'text_n_tokens': 4, 'text_n_unique_tokens': 4, 'text_proportion_unique_tokens': 1.0, 'text_n_characters': 12, 'text_n_sentences': 1, 'text2_flesch_reading_ease': 109.1, 'text2_flesch_kincaid_grade': -0.47, 'text2_gunning_fog': 2.4, 'text2_automated_readability_index': -1.95, 'text2_coleman_liau_index': -0.15, 'text2_lix': 14.33, 'text2_rix': 0.5, 'text2_token_length_mean': 3.5, 'text2_token_length_median': 4.0, 'text2_token_length_std': 1.55, 'text2_sentence_length_mean': 6.0, 'text2_sentence_length_median': 6.0, 'text2_sentence_length_std': 2.0, 'text2_syllables_per_token_mean': 1.08, 'text2_syllables_per_token_median': 1.0, 'text2_syllables_per_token_std': 0.28, 'text2_n_tokens': 12, 'text2_n_unique_tokens': 10, 'text2_proportion_unique_tokens': 0.83, 'text2_n_characters': 45, 'text2_n_sentences': 2}, vectors={}, responses=[], suggestions=(), external_id=None),\n",
       " RemoteFeedbackRecord(id=UUID('b4b65ecc-abc4-45ef-ae70-175d5108d8a6'), client=<httpx.Client object at 0x0000021D00217880>, fields={'text': 'This i', 'text2': 'your house.', 'text3': 'try this'}, metadata={'text_flesch_reading_ease': 120.21, 'text_flesch_kincaid_grade': -3.01, 'text_gunning_fog': 0.8, 'text_automated_readability_index': -8.65, 'text_coleman_liau_index': -15.9, 'text_lix': 2.0, 'text_rix': 0.0, 'text_token_length_mean': 2.5, 'text_token_length_median': 2.5, 'text_token_length_std': 1.5, 'text_sentence_length_mean': 2.0, 'text_sentence_length_median': 2.0, 'text_sentence_length_std': 0.0, 'text_syllables_per_token_mean': 1.0, 'text_syllables_per_token_median': 1.0, 'text_syllables_per_token_std': 0.0, 'text_n_tokens': 2, 'text_n_unique_tokens': 2, 'text_proportion_unique_tokens': 1.0, 'text_n_characters': 5, 'text_n_sentences': 1, 'text2_flesch_reading_ease': 120.21, 'text2_flesch_kincaid_grade': -3.01, 'text2_gunning_fog': 0.8, 'text2_automated_readability_index': 0.77, 'text2_coleman_liau_index': -4.14, 'text2_lix': 2.0, 'text2_rix': 0.0, 'text2_token_length_mean': 4.5, 'text2_token_length_median': 4.5, 'text2_token_length_std': 0.5, 'text2_sentence_length_mean': 2.0, 'text2_sentence_length_median': 2.0, 'text2_sentence_length_std': 0.0, 'text2_syllables_per_token_mean': 1.0, 'text2_syllables_per_token_median': 1.0, 'text2_syllables_per_token_std': 0.0, 'text2_n_tokens': 2, 'text2_n_unique_tokens': 2, 'text2_proportion_unique_tokens': 1.0, 'text2_n_characters': 10, 'text2_n_sentences': 1}, vectors={}, responses=[], suggestions=(), external_id=None),\n",
       " RemoteFeedbackRecord(id=UUID('9ebec620-2812-473f-8115-7d39e3dec1ff'), client=<httpx.Client object at 0x0000021D00217880>, fields={'text': 'You went there', 'text2': 'This thing is tooo shrt, i should write it longer so that the metrics works', 'text3': \"obviously this doesn't work, why? I dont. know. Who KNows?\"}, metadata={'text_flesch_reading_ease': 119.19, 'text_flesch_kincaid_grade': -2.62, 'text_gunning_fog': 1.2, 'text_automated_readability_index': -1.09, 'text_coleman_liau_index': -2.15, 'text_lix': 3.0, 'text_rix': 0.0, 'text_token_length_mean': 4.0, 'text_token_length_median': 4.0, 'text_token_length_std': 0.82, 'text_sentence_length_mean': 3.0, 'text_sentence_length_median': 3.0, 'text_sentence_length_std': 0.0, 'text_syllables_per_token_mean': 1.0, 'text_syllables_per_token_median': 1.0, 'text_syllables_per_token_std': 0.0, 'text_n_tokens': 3, 'text_n_unique_tokens': 3, 'text_proportion_unique_tokens': 1.0, 'text_n_characters': 12, 'text_n_sentences': 1, 'text2_flesch_reading_ease': 101.37, 'text2_flesch_kincaid_grade': 2.85, 'text2_gunning_fog': 6.0, 'text2_automated_readability_index': 4.91, 'text2_coleman_liau_index': 5.75, 'text2_lix': 21.67, 'text2_rix': 1.0, 'text2_token_length_mean': 4.0, 'text2_token_length_median': 4.0, 'text2_token_length_std': 1.67, 'text2_sentence_length_mean': 15.0, 'text2_sentence_length_median': 15.0, 'text2_sentence_length_std': 0.0, 'text2_syllables_per_token_mean': 1.07, 'text2_syllables_per_token_median': 1.0, 'text2_syllables_per_token_std': 0.25, 'text2_n_tokens': 15, 'text2_n_unique_tokens': 15, 'text2_proportion_unique_tokens': 1.0, 'text2_n_characters': 61, 'text2_n_sentences': 1}, vectors={}, responses=[], suggestions=(), external_id=None)]"
      ]
     },
     "execution_count": 32,
     "metadata": {},
     "output_type": "execute_result"
    }
   ],
   "source": [
    "updated_records"
   ]
  },
  {
   "cell_type": "code",
   "execution_count": 138,
   "metadata": {},
   "outputs": [
    {
     "data": {
      "text/plain": [
       "{'text2_first_order_coherence': 0.31}"
      ]
     },
     "execution_count": 138,
     "metadata": {},
     "output_type": "execute_result"
    }
   ],
   "source": [
    "updated_records[0].metadata"
   ]
  },
  {
   "cell_type": "markdown",
   "metadata": {},
   "source": [
    "## records (remote/local) with metrics OK"
   ]
  },
  {
   "cell_type": "code",
   "execution_count": 9,
   "metadata": {},
   "outputs": [
    {
     "name": "stdout",
     "output_type": "stream",
     "text": [
      "self.metrics ['coherence']\n",
      "self.fields None\n",
      "forallfields:before:fields None\n",
      "forallfields: after:fields ['text2', 'text', 'text3']\n",
      "forsinglefield:self.metrics ['coherence']\n",
      "forsinglefield:field_metrics                                                 text  first_order_coherence  \\\n",
      "0  This is a test. You wanna sing,sing if is your...               0.306215   \n",
      "1                                        your house.                    NaN   \n",
      "2  This thing is tooo shrt, i should write it lon...                    NaN   \n",
      "\n",
      "   second_order_coherence  \n",
      "0                     NaN  \n",
      "1                     NaN  \n",
      "2                     NaN  \n",
      "forsinglefield:nan_columns ['second_order_coherence']\n"
     ]
    },
    {
     "name": "stderr",
     "output_type": "stream",
     "text": [
      "c:\\Users\\sarah\\miniconda3\\envs\\argilla-markdown\\lib\\site-packages\\textdescriptives\\components\\coherence.py:44: UserWarning: [W007] The model you're using has no word vectors loaded, so the result of the Span.similarity method will be based on the tagger, parser and NER, which may not give useful similarity judgements. This may happen if you're using one of the small models, e.g. `en_core_web_sm`, which don't ship with word vectors and only use context-sensitive tensors. You can always add your own word vectors, or use one of the larger models instead if available.\n",
      "  similarities.append(sent.similarity(sents[i + order]))\n"
     ]
    },
    {
     "data": {
      "text/html": [
       "<pre style=\"white-space:pre;overflow-x:auto;line-height:normal;font-family:Menlo,'DejaVu Sans Mono',consolas,'Courier New',monospace\"><span style=\"color: #7fbfbf; text-decoration-color: #7fbfbf\">[12/14/23 13:25:31] </span><span style=\"color: #800000; text-decoration-color: #800000\">WARNING </span> WARNING:argilla.client.feedback.integrations.textdescriptives <a href=\"file://C:\\Users\\sarah\\Documents\\argilla\\src\\argilla\\client\\feedback\\integrations\\textdescriptives_.py\" target=\"_blank\"><span style=\"color: #7f7f7f; text-decoration-color: #7f7f7f\">textdescriptives_.py</span></a><span style=\"color: #7f7f7f; text-decoration-color: #7f7f7f\">:</span><a href=\"file://C:\\Users\\sarah\\Documents\\argilla\\src\\argilla\\client\\feedback\\integrations\\textdescriptives_.py#110\" target=\"_blank\"><span style=\"color: #7f7f7f; text-decoration-color: #7f7f7f\">110</span></a>\n",
       "<span style=\"color: #7fbfbf; text-decoration-color: #7fbfbf\">                    </span>         _:The following columns contain only NaN values:              <span style=\"color: #7f7f7f; text-decoration-color: #7f7f7f\">                        </span>\n",
       "<span style=\"color: #7fbfbf; text-decoration-color: #7fbfbf\">                    </span>         <span style=\"font-weight: bold\">[</span><span style=\"color: #008000; text-decoration-color: #008000\">'second_order_coherence'</span><span style=\"font-weight: bold\">]</span>                                    <span style=\"color: #7f7f7f; text-decoration-color: #7f7f7f\">                        </span>\n",
       "</pre>\n"
      ],
      "text/plain": [
       "\u001b[2;36m[12/14/23 13:25:31]\u001b[0m\u001b[2;36m \u001b[0m\u001b[31mWARNING \u001b[0m WARNING:argilla.client.feedback.integrations.textdescriptives \u001b]8;id=148398;file://C:\\Users\\sarah\\Documents\\argilla\\src\\argilla\\client\\feedback\\integrations\\textdescriptives_.py\u001b\\\u001b[2mtextdescriptives_.py\u001b[0m\u001b]8;;\u001b\\\u001b[2m:\u001b[0m\u001b]8;id=167130;file://C:\\Users\\sarah\\Documents\\argilla\\src\\argilla\\client\\feedback\\integrations\\textdescriptives_.py#110\u001b\\\u001b[2m110\u001b[0m\u001b]8;;\u001b\\\n",
       "\u001b[2;36m                    \u001b[0m         _:The following columns contain only NaN values:              \u001b[2m                        \u001b[0m\n",
       "\u001b[2;36m                    \u001b[0m         \u001b[1m[\u001b[0m\u001b[32m'second_order_coherence'\u001b[0m\u001b[1m]\u001b[0m                                    \u001b[2m                        \u001b[0m\n"
      ]
     },
     "metadata": {},
     "output_type": "display_data"
    },
    {
     "name": "stdout",
     "output_type": "stream",
     "text": [
      "forsinglefield:self.metrics ['coherence']\n",
      "forsinglefield:field_metrics               text  first_order_coherence  second_order_coherence\n",
      "0  This is a test.                    NaN                     NaN\n",
      "1           This i                    NaN                     NaN\n",
      "2   You went there                    NaN                     NaN\n",
      "forsinglefield:nan_columns ['first_order_coherence', 'second_order_coherence']\n"
     ]
    },
    {
     "data": {
      "text/html": [
       "<pre style=\"white-space:pre;overflow-x:auto;line-height:normal;font-family:Menlo,'DejaVu Sans Mono',consolas,'Courier New',monospace\"><span style=\"color: #7fbfbf; text-decoration-color: #7fbfbf\">[12/14/23 13:25:32] </span><span style=\"color: #800000; text-decoration-color: #800000\">WARNING </span> WARNING:argilla.client.feedback.integrations.textdescriptives <a href=\"file://C:\\Users\\sarah\\Documents\\argilla\\src\\argilla\\client\\feedback\\integrations\\textdescriptives_.py\" target=\"_blank\"><span style=\"color: #7f7f7f; text-decoration-color: #7f7f7f\">textdescriptives_.py</span></a><span style=\"color: #7f7f7f; text-decoration-color: #7f7f7f\">:</span><a href=\"file://C:\\Users\\sarah\\Documents\\argilla\\src\\argilla\\client\\feedback\\integrations\\textdescriptives_.py#110\" target=\"_blank\"><span style=\"color: #7f7f7f; text-decoration-color: #7f7f7f\">110</span></a>\n",
       "<span style=\"color: #7fbfbf; text-decoration-color: #7fbfbf\">                    </span>         _:The following columns contain only NaN values:              <span style=\"color: #7f7f7f; text-decoration-color: #7f7f7f\">                        </span>\n",
       "<span style=\"color: #7fbfbf; text-decoration-color: #7fbfbf\">                    </span>         <span style=\"font-weight: bold\">[</span><span style=\"color: #008000; text-decoration-color: #008000\">'first_order_coherence'</span>, <span style=\"color: #008000; text-decoration-color: #008000\">'second_order_coherence'</span><span style=\"font-weight: bold\">]</span>           <span style=\"color: #7f7f7f; text-decoration-color: #7f7f7f\">                        </span>\n",
       "</pre>\n"
      ],
      "text/plain": [
       "\u001b[2;36m[12/14/23 13:25:32]\u001b[0m\u001b[2;36m \u001b[0m\u001b[31mWARNING \u001b[0m WARNING:argilla.client.feedback.integrations.textdescriptives \u001b]8;id=255816;file://C:\\Users\\sarah\\Documents\\argilla\\src\\argilla\\client\\feedback\\integrations\\textdescriptives_.py\u001b\\\u001b[2mtextdescriptives_.py\u001b[0m\u001b]8;;\u001b\\\u001b[2m:\u001b[0m\u001b]8;id=952646;file://C:\\Users\\sarah\\Documents\\argilla\\src\\argilla\\client\\feedback\\integrations\\textdescriptives_.py#110\u001b\\\u001b[2m110\u001b[0m\u001b]8;;\u001b\\\n",
       "\u001b[2;36m                    \u001b[0m         _:The following columns contain only NaN values:              \u001b[2m                        \u001b[0m\n",
       "\u001b[2;36m                    \u001b[0m         \u001b[1m[\u001b[0m\u001b[32m'first_order_coherence'\u001b[0m, \u001b[32m'second_order_coherence'\u001b[0m\u001b[1m]\u001b[0m           \u001b[2m                        \u001b[0m\n"
      ]
     },
     "metadata": {},
     "output_type": "display_data"
    },
    {
     "name": "stdout",
     "output_type": "stream",
     "text": [
      "forsinglefield:self.metrics ['coherence']\n"
     ]
    },
    {
     "data": {
      "application/vnd.jupyter.widget-view+json": {
       "model_id": "7bb2301bb9644c1a9f175ace5291eee4",
       "version_major": 2,
       "version_minor": 0
      },
      "text/plain": [
       "Output()"
      ]
     },
     "metadata": {},
     "output_type": "display_data"
    },
    {
     "name": "stderr",
     "output_type": "stream",
     "text": [
      "c:\\Users\\sarah\\miniconda3\\envs\\argilla-markdown\\lib\\site-packages\\textdescriptives\\components\\coherence.py:44: UserWarning: [W007] The model you're using has no word vectors loaded, so the result of the Span.similarity method will be based on the tagger, parser and NER, which may not give useful similarity judgements. This may happen if you're using one of the small models, e.g. `en_core_web_sm`, which don't ship with word vectors and only use context-sensitive tensors. You can always add your own word vectors, or use one of the larger models instead if available.\n",
      "  similarities.append(sent.similarity(sents[i + order]))\n"
     ]
    },
    {
     "name": "stdout",
     "output_type": "stream",
     "text": [
      "forsinglefield:field_metrics                                                 text  first_order_coherence  \\\n",
      "0     This is a test? Are you sure? I dont think so.                0.40504   \n",
      "1                                           try this                    NaN   \n",
      "2  obviously this doesn't work, why? I dont. know...                0.47226   \n",
      "\n",
      "   second_order_coherence  \n",
      "0                0.159334  \n",
      "1                     NaN  \n",
      "2                0.387664  \n",
      "forsinglefield:nan_columns []\n",
      "forallfields:field_metrics.items\n",
      "Field: text2, Metrics:    text2_first_order_coherence  text2_second_order_coherence\n",
      "0                     0.306215                           NaN\n",
      "1                          NaN                           NaN\n",
      "2                          NaN                           NaN\n",
      "Field: text, Metrics:    text_first_order_coherence  text_second_order_coherence\n",
      "0                         NaN                          NaN\n",
      "1                         NaN                          NaN\n",
      "2                         NaN                          NaN\n",
      "Field: text3, Metrics:    text3_first_order_coherence  text3_second_order_coherence\n",
      "0                      0.40504                      0.159334\n",
      "1                          NaN                           NaN\n",
      "2                      0.47226                      0.387664\n",
      "3\n",
      "extracted_metrics:type <class 'pandas.core.frame.DataFrame'>\n"
     ]
    },
    {
     "data": {
      "text/html": [
       "<pre style=\"white-space:pre;overflow-x:auto;line-height:normal;font-family:Menlo,'DejaVu Sans Mono',consolas,'Courier New',monospace\"></pre>\n"
      ],
      "text/plain": []
     },
     "metadata": {},
     "output_type": "display_data"
    },
    {
     "data": {
      "text/html": [
       "<pre style=\"white-space:pre;overflow-x:auto;line-height:normal;font-family:Menlo,'DejaVu Sans Mono',consolas,'Courier New',monospace\">\n",
       "</pre>\n"
      ],
      "text/plain": [
       "\n"
      ]
     },
     "metadata": {},
     "output_type": "display_data"
    }
   ],
   "source": [
    "tde = rg.TextDescriptivesExtractor(metrics=[\"coherence\"])\n",
    "updated_records = tde.update_records(records)"
   ]
  },
  {
   "cell_type": "code",
   "execution_count": 44,
   "metadata": {},
   "outputs": [
    {
     "data": {
      "text/plain": [
       "[RemoteFeedbackRecord(id=UUID('48d2733b-2a98-44be-8f7e-ee46119f0bf4'), client=<httpx.Client object at 0x0000021D00217880>, fields={'text': 'This is a test.', 'text2': 'This is a test. You wanna sing,sing if is your passion.', 'text3': 'This is a test? Are you sure? I dont think so.'}, metadata={'text3_entropy': 0.55, 'text3_perplexity': 1.74, 'text3_per_word_perplexity': 0.12, 'text_entropy': 0.28, 'text_perplexity': 1.32, 'text_per_word_perplexity': 0.26, 'text2_entropy': 0.63, 'text2_perplexity': 1.89, 'text2_per_word_perplexity': 0.13}, vectors={}, responses=[], suggestions=(), external_id=None),\n",
       " RemoteFeedbackRecord(id=UUID('705c9423-a657-41ec-bc36-e937323ead81'), client=<httpx.Client object at 0x0000021D00217880>, fields={'text': 'This i', 'text2': 'your house.', 'text3': 'try this'}, metadata={'text3_entropy': 0.03, 'text3_perplexity': 1.03, 'text3_per_word_perplexity': 0.51, 'text_entropy': 0.02, 'text_perplexity': 1.02, 'text_per_word_perplexity': 0.51, 'text2_entropy': 0.16, 'text2_perplexity': 1.18, 'text2_per_word_perplexity': 0.39}, vectors={}, responses=[], suggestions=(), external_id=None),\n",
       " RemoteFeedbackRecord(id=UUID('ade62525-0a13-4b96-a440-c05bf050dbd3'), client=<httpx.Client object at 0x0000021D00217880>, fields={'text': 'You went there', 'text2': 'This thing is tooo shrt, i should write it longer so that the metrics works', 'text3': \"obviously this doesn't work, why? I dont. know. Who KNows?\"}, metadata={'text3_entropy': 0.67, 'text3_perplexity': 1.96, 'text3_per_word_perplexity': 0.12, 'text_entropy': 0.03, 'text_perplexity': 1.03, 'text_per_word_perplexity': 0.34, 'text2_entropy': 0.42, 'text2_perplexity': 1.52, 'text2_per_word_perplexity': 0.1}, vectors={}, responses=[], suggestions=(), external_id=None)]"
      ]
     },
     "execution_count": 44,
     "metadata": {},
     "output_type": "execute_result"
    }
   ],
   "source": [
    "updated_records"
   ]
  },
  {
   "cell_type": "code",
   "execution_count": 128,
   "metadata": {},
   "outputs": [
    {
     "data": {
      "text/plain": [
       "{'text3_first_order_coherence': 0.41,\n",
       " 'text3_second_order_coherence': 0.16,\n",
       " 'text2_first_order_coherence': 0.31}"
      ]
     },
     "execution_count": 128,
     "metadata": {},
     "output_type": "execute_result"
    }
   ],
   "source": [
    "updated_records[2].metadata"
   ]
  },
  {
   "cell_type": "markdown",
   "metadata": {},
   "source": [
    "## records (remote/local) with two fields OK"
   ]
  },
  {
   "cell_type": "code",
   "execution_count": 29,
   "metadata": {},
   "outputs": [
    {
     "name": "stdout",
     "output_type": "stream",
     "text": [
      "self.metrics None\n",
      "field_metrics               text   entropy  perplexity  per_word_perplexity  \\\n",
      "0  This is a test.  0.280120    1.323289             0.264658   \n",
      "1           This i  0.016005    1.016133             0.508067   \n",
      "2   You went there  0.027561    1.027945             0.342648   \n",
      "\n",
      "   token_length_mean  token_length_median  token_length_std  \\\n",
      "0               2.75                  3.0          1.299038   \n",
      "1               2.50                  2.5          1.500000   \n",
      "2               4.00                  4.0          0.816497   \n",
      "\n",
      "   sentence_length_mean  sentence_length_median  sentence_length_std  ...  \\\n",
      "0                   4.0                     4.0                  0.0  ...   \n",
      "1                   2.0                     2.0                  0.0  ...   \n",
      "2                   3.0                     3.0                  0.0  ...   \n",
      "\n",
      "   pos_prop_PROPN  pos_prop_PUNCT  pos_prop_SCONJ  pos_prop_SYM  \\\n",
      "0             0.0             0.2             0.0           0.0   \n",
      "1             0.0             0.0             0.0           0.0   \n",
      "2             0.0             0.0             0.0           0.0   \n",
      "\n",
      "   pos_prop_VERB  pos_prop_X  dependency_distance_mean  \\\n",
      "0       0.000000         0.0                  1.400000   \n",
      "1       0.000000         0.0                  0.500000   \n",
      "2       0.333333         0.0                  0.666667   \n",
      "\n",
      "   dependency_distance_std  prop_adjacent_dependency_relation_mean  \\\n",
      "0                      0.0                                0.400000   \n",
      "1                      0.0                                0.500000   \n",
      "2                      0.0                                0.666667   \n",
      "\n",
      "   prop_adjacent_dependency_relation_std  \n",
      "0                                    0.0  \n",
      "1                                    0.0  \n",
      "2                                    0.0  \n",
      "\n",
      "[3 rows x 70 columns]\n",
      "nan_columns ['smog', 'oov_ratio', 'first_order_coherence', 'second_order_coherence']\n"
     ]
    },
    {
     "data": {
      "text/html": [
       "<pre style=\"white-space:pre;overflow-x:auto;line-height:normal;font-family:Menlo,'DejaVu Sans Mono',consolas,'Courier New',monospace\"><span style=\"color: #7fbfbf; text-decoration-color: #7fbfbf\">[12/14/23 10:54:07] </span><span style=\"color: #800000; text-decoration-color: #800000\">WARNING </span> WARNING:__main__:The following columns contain only NaN values:      <a href=\"file://C:\\Users\\sarah\\AppData\\Local\\Temp\\ipykernel_17592\\3671488061.py\" target=\"_blank\"><span style=\"color: #7f7f7f; text-decoration-color: #7f7f7f\">3671488061.py</span></a><span style=\"color: #7f7f7f; text-decoration-color: #7f7f7f\">:</span><a href=\"file://C:\\Users\\sarah\\AppData\\Local\\Temp\\ipykernel_17592\\3671488061.py#108\" target=\"_blank\"><span style=\"color: #7f7f7f; text-decoration-color: #7f7f7f\">108</span></a>\n",
       "<span style=\"color: #7fbfbf; text-decoration-color: #7fbfbf\">                    </span>         <span style=\"font-weight: bold\">[</span><span style=\"color: #008000; text-decoration-color: #008000\">'smog'</span>, <span style=\"color: #008000; text-decoration-color: #008000\">'oov_ratio'</span>, <span style=\"color: #008000; text-decoration-color: #008000\">'first_order_coherence'</span>,                       <span style=\"color: #7f7f7f; text-decoration-color: #7f7f7f\">                 </span>\n",
       "<span style=\"color: #7fbfbf; text-decoration-color: #7fbfbf\">                    </span>         <span style=\"color: #008000; text-decoration-color: #008000\">'second_order_coherence'</span><span style=\"font-weight: bold\">]</span>                                            <span style=\"color: #7f7f7f; text-decoration-color: #7f7f7f\">                 </span>\n",
       "</pre>\n"
      ],
      "text/plain": [
       "\u001b[2;36m[12/14/23 10:54:07]\u001b[0m\u001b[2;36m \u001b[0m\u001b[31mWARNING \u001b[0m WARNING:__main__:The following columns contain only NaN values:      \u001b]8;id=453903;file://C:\\Users\\sarah\\AppData\\Local\\Temp\\ipykernel_17592\\3671488061.py\u001b\\\u001b[2m3671488061.py\u001b[0m\u001b]8;;\u001b\\\u001b[2m:\u001b[0m\u001b]8;id=858080;file://C:\\Users\\sarah\\AppData\\Local\\Temp\\ipykernel_17592\\3671488061.py#108\u001b\\\u001b[2m108\u001b[0m\u001b]8;;\u001b\\\n",
       "\u001b[2;36m                    \u001b[0m         \u001b[1m[\u001b[0m\u001b[32m'smog'\u001b[0m, \u001b[32m'oov_ratio'\u001b[0m, \u001b[32m'first_order_coherence'\u001b[0m,                       \u001b[2m                 \u001b[0m\n",
       "\u001b[2;36m                    \u001b[0m         \u001b[32m'second_order_coherence'\u001b[0m\u001b[1m]\u001b[0m                                            \u001b[2m                 \u001b[0m\n"
      ]
     },
     "metadata": {},
     "output_type": "display_data"
    },
    {
     "name": "stdout",
     "output_type": "stream",
     "text": [
      "basic_metrics None\n",
      "self.metrics None\n",
      "self.metrics None\n",
      "field_metrics                                                 text   entropy  perplexity  \\\n",
      "0  This is a test. You wanna sing,sing if is your...  0.634320    1.885739   \n",
      "1                                        your house.  0.164152    1.178393   \n",
      "2  This thing is tooo shrt, i should write it lon...  0.421429    1.524138   \n",
      "\n",
      "   per_word_perplexity  token_length_mean  token_length_median  \\\n",
      "0             0.125716                3.5                  4.0   \n",
      "1             0.392798                4.5                  4.5   \n",
      "2             0.095259                4.0                  4.0   \n",
      "\n",
      "   token_length_std  sentence_length_mean  sentence_length_median  \\\n",
      "0          1.554563                   6.0                     6.0   \n",
      "1          0.500000                   2.0                     2.0   \n",
      "2          1.673320                  15.0                    15.0   \n",
      "\n",
      "   sentence_length_std  ...  pos_prop_PROPN  pos_prop_PUNCT  pos_prop_SCONJ  \\\n",
      "0                  2.0  ...          0.0000        0.200000        0.066667   \n",
      "1                  0.0  ...          0.0000        0.333333        0.000000   \n",
      "2                  0.0  ...          0.0625        0.062500        0.125000   \n",
      "\n",
      "   pos_prop_SYM  pos_prop_VERB  pos_prop_X  dependency_distance_mean  \\\n",
      "0           0.0          0.200         0.0                  1.650000   \n",
      "1           0.0          0.000         0.0                  0.666667   \n",
      "2           0.0          0.125         0.0                  2.250000   \n",
      "\n",
      "   dependency_distance_std  prop_adjacent_dependency_relation_mean  \\\n",
      "0                     0.25                                0.450000   \n",
      "1                     0.00                                0.666667   \n",
      "2                     0.00                                0.437500   \n",
      "\n",
      "   prop_adjacent_dependency_relation_std  \n",
      "0                                   0.05  \n",
      "1                                   0.00  \n",
      "2                                   0.00  \n",
      "\n",
      "[3 rows x 70 columns]\n",
      "nan_columns ['smog', 'oov_ratio', 'second_order_coherence']\n"
     ]
    },
    {
     "name": "stderr",
     "output_type": "stream",
     "text": [
      "c:\\Users\\sarah\\miniconda3\\envs\\argilla-markdown\\lib\\site-packages\\textdescriptives\\components\\coherence.py:44: UserWarning: [W007] The model you're using has no word vectors loaded, so the result of the Span.similarity method will be based on the tagger, parser and NER, which may not give useful similarity judgements. This may happen if you're using one of the small models, e.g. `en_core_web_sm`, which don't ship with word vectors and only use context-sensitive tensors. You can always add your own word vectors, or use one of the larger models instead if available.\n",
      "  similarities.append(sent.similarity(sents[i + order]))\n"
     ]
    },
    {
     "data": {
      "text/html": [
       "<pre style=\"white-space:pre;overflow-x:auto;line-height:normal;font-family:Menlo,'DejaVu Sans Mono',consolas,'Courier New',monospace\"><span style=\"color: #7fbfbf; text-decoration-color: #7fbfbf\">[12/14/23 10:54:14] </span><span style=\"color: #800000; text-decoration-color: #800000\">WARNING </span> WARNING:__main__:The following columns contain only NaN values:      <a href=\"file://C:\\Users\\sarah\\AppData\\Local\\Temp\\ipykernel_17592\\3671488061.py\" target=\"_blank\"><span style=\"color: #7f7f7f; text-decoration-color: #7f7f7f\">3671488061.py</span></a><span style=\"color: #7f7f7f; text-decoration-color: #7f7f7f\">:</span><a href=\"file://C:\\Users\\sarah\\AppData\\Local\\Temp\\ipykernel_17592\\3671488061.py#108\" target=\"_blank\"><span style=\"color: #7f7f7f; text-decoration-color: #7f7f7f\">108</span></a>\n",
       "<span style=\"color: #7fbfbf; text-decoration-color: #7fbfbf\">                    </span>         <span style=\"font-weight: bold\">[</span><span style=\"color: #008000; text-decoration-color: #008000\">'smog'</span>, <span style=\"color: #008000; text-decoration-color: #008000\">'oov_ratio'</span>, <span style=\"color: #008000; text-decoration-color: #008000\">'second_order_coherence'</span><span style=\"font-weight: bold\">]</span>                      <span style=\"color: #7f7f7f; text-decoration-color: #7f7f7f\">                 </span>\n",
       "</pre>\n"
      ],
      "text/plain": [
       "\u001b[2;36m[12/14/23 10:54:14]\u001b[0m\u001b[2;36m \u001b[0m\u001b[31mWARNING \u001b[0m WARNING:__main__:The following columns contain only NaN values:      \u001b]8;id=832662;file://C:\\Users\\sarah\\AppData\\Local\\Temp\\ipykernel_17592\\3671488061.py\u001b\\\u001b[2m3671488061.py\u001b[0m\u001b]8;;\u001b\\\u001b[2m:\u001b[0m\u001b]8;id=953509;file://C:\\Users\\sarah\\AppData\\Local\\Temp\\ipykernel_17592\\3671488061.py#108\u001b\\\u001b[2m108\u001b[0m\u001b]8;;\u001b\\\n",
       "\u001b[2;36m                    \u001b[0m         \u001b[1m[\u001b[0m\u001b[32m'smog'\u001b[0m, \u001b[32m'oov_ratio'\u001b[0m, \u001b[32m'second_order_coherence'\u001b[0m\u001b[1m]\u001b[0m                      \u001b[2m                 \u001b[0m\n"
      ]
     },
     "metadata": {},
     "output_type": "display_data"
    },
    {
     "data": {
      "application/vnd.jupyter.widget-view+json": {
       "model_id": "b34abaf42ff54c51b9d64e62c91bd194",
       "version_major": 2,
       "version_minor": 0
      },
      "text/plain": [
       "Output()"
      ]
     },
     "metadata": {},
     "output_type": "display_data"
    },
    {
     "name": "stdout",
     "output_type": "stream",
     "text": [
      "basic_metrics None\n",
      "self.metrics None\n"
     ]
    },
    {
     "data": {
      "text/html": [
       "<pre style=\"white-space:pre;overflow-x:auto;line-height:normal;font-family:Menlo,'DejaVu Sans Mono',consolas,'Courier New',monospace\"></pre>\n"
      ],
      "text/plain": []
     },
     "metadata": {},
     "output_type": "display_data"
    },
    {
     "data": {
      "text/html": [
       "<pre style=\"white-space:pre;overflow-x:auto;line-height:normal;font-family:Menlo,'DejaVu Sans Mono',consolas,'Courier New',monospace\">\n",
       "</pre>\n"
      ],
      "text/plain": [
       "\n"
      ]
     },
     "metadata": {},
     "output_type": "display_data"
    }
   ],
   "source": [
    "tde = TextDescriptivesExtractor(fields=[\"text\", \"text2\"])\n",
    "updated_records = tde.update_records(records)"
   ]
  },
  {
   "cell_type": "code",
   "execution_count": 30,
   "metadata": {},
   "outputs": [
    {
     "data": {
      "text/plain": [
       "[RemoteFeedbackRecord(id=UUID('6bc3c089-c347-4d78-969c-2f5b1af0cc07'), client=<httpx.Client object at 0x000001DB9E22C160>, fields={'text': 'This is a test.', 'text2': 'This is a test. You wanna sing,sing if is your passion.', 'text3': 'This is a test? Are you sure? I dont think so.'}, metadata={'text_n_tokens': 4, 'text_n_unique_tokens': 4, 'text_n_sentences': 1, 'text_perplexity': 1.32, 'text_entropy': 0.28, 'text_flesch_reading_ease': 118.18, 'text2_n_tokens': 12, 'text2_n_unique_tokens': 10, 'text2_n_sentences': 2, 'text2_perplexity': 1.89, 'text2_entropy': 0.63, 'text2_flesch_reading_ease': 109.1}, vectors={}, responses=[], suggestions=(), external_id=None),\n",
       " RemoteFeedbackRecord(id=UUID('f0b3a8a4-2414-4eb1-b8a6-3bebae8edaf1'), client=<httpx.Client object at 0x000001DB9E22C160>, fields={'text': 'This i', 'text2': 'your house.', 'text3': 'try this'}, metadata={'text_n_tokens': 2, 'text_n_unique_tokens': 2, 'text_n_sentences': 1, 'text_perplexity': 1.02, 'text_entropy': 0.02, 'text_flesch_reading_ease': 120.21, 'text2_n_tokens': 2, 'text2_n_unique_tokens': 2, 'text2_n_sentences': 1, 'text2_perplexity': 1.18, 'text2_entropy': 0.16, 'text2_flesch_reading_ease': 120.21}, vectors={}, responses=[], suggestions=(), external_id=None),\n",
       " RemoteFeedbackRecord(id=UUID('cef9d708-5c11-4bb1-81a0-01f822a6a602'), client=<httpx.Client object at 0x000001DB9E22C160>, fields={'text': 'You went there', 'text2': 'This thing is tooo shrt, i should write it longer so that the metrics works', 'text3': \"obviously this doesn't work, why? I dont. know. Who KNows?\"}, metadata={'text_n_tokens': 3, 'text_n_unique_tokens': 3, 'text_n_sentences': 1, 'text_perplexity': 1.03, 'text_entropy': 0.03, 'text_flesch_reading_ease': 119.19, 'text2_n_tokens': 15, 'text2_n_unique_tokens': 15, 'text2_n_sentences': 1, 'text2_perplexity': 1.52, 'text2_entropy': 0.42, 'text2_flesch_reading_ease': 101.37}, vectors={}, responses=[], suggestions=(), external_id=None)]"
      ]
     },
     "execution_count": 30,
     "metadata": {},
     "output_type": "execute_result"
    }
   ],
   "source": [
    "updated_records"
   ]
  },
  {
   "cell_type": "markdown",
   "metadata": {},
   "source": [
    "## records (remote/local) with 1 field OK"
   ]
  },
  {
   "cell_type": "code",
   "execution_count": 76,
   "metadata": {},
   "outputs": [
    {
     "name": "stdout",
     "output_type": "stream",
     "text": [
      "self.metrics None\n",
      "self.fields ['text']\n",
      "forallfields:before:fields None\n",
      "forallfields: after:fields ['text']\n",
      "forsinglefield:self.metrics None\n",
      "forsinglefield:field_metrics               text  first_order_coherence  second_order_coherence  \\\n",
      "0  This is a test.                    NaN                     NaN   \n",
      "1           This i                    NaN                     NaN   \n",
      "2   You went there                    NaN                     NaN   \n",
      "\n",
      "   flesch_reading_ease  flesch_kincaid_grade  smog  gunning_fog  \\\n",
      "0              118.175                 -2.23   NaN          1.6   \n",
      "1              120.205                 -3.01   NaN          0.8   \n",
      "2              119.190                 -2.62   NaN          1.2   \n",
      "\n",
      "   automated_readability_index  coleman_liau_index  lix  ...  \\\n",
      "0                      -6.4775           -7.030000  4.0  ...   \n",
      "1                      -8.6550          -15.900000  2.0  ...   \n",
      "2                      -1.0900           -2.146667  3.0  ...   \n",
      "\n",
      "   sentence_length_median  sentence_length_std  syllables_per_token_mean  \\\n",
      "0                     4.0                  0.0                       1.0   \n",
      "1                     2.0                  0.0                       1.0   \n",
      "2                     3.0                  0.0                       1.0   \n",
      "\n",
      "   syllables_per_token_median  syllables_per_token_std  n_tokens  \\\n",
      "0                         1.0                      0.0         4   \n",
      "1                         1.0                      0.0         2   \n",
      "2                         1.0                      0.0         3   \n",
      "\n",
      "   n_unique_tokens  proportion_unique_tokens  n_characters  n_sentences  \n",
      "0                4                       1.0            12            1  \n",
      "1                2                       1.0             5            1  \n",
      "2                3                       1.0            12            1  \n",
      "\n",
      "[3 rows x 70 columns]\n",
      "forsinglefield:nan_columns ['first_order_coherence', 'second_order_coherence', 'smog', 'oov_ratio']\n"
     ]
    },
    {
     "data": {
      "text/html": [
       "<pre style=\"white-space:pre;overflow-x:auto;line-height:normal;font-family:Menlo,'DejaVu Sans Mono',consolas,'Courier New',monospace\"><span style=\"color: #7fbfbf; text-decoration-color: #7fbfbf\">[12/14/23 12:28:18] </span><span style=\"color: #800000; text-decoration-color: #800000\">WARNING </span> WARNING:__main__:The following columns contain only NaN values:      <a href=\"file://C:\\Users\\sarah\\AppData\\Local\\Temp\\ipykernel_19576\\3218720027.py\" target=\"_blank\"><span style=\"color: #7f7f7f; text-decoration-color: #7f7f7f\">3218720027.py</span></a><span style=\"color: #7f7f7f; text-decoration-color: #7f7f7f\">:</span><a href=\"file://C:\\Users\\sarah\\AppData\\Local\\Temp\\ipykernel_19576\\3218720027.py#110\" target=\"_blank\"><span style=\"color: #7f7f7f; text-decoration-color: #7f7f7f\">110</span></a>\n",
       "<span style=\"color: #7fbfbf; text-decoration-color: #7fbfbf\">                    </span>         <span style=\"font-weight: bold\">[</span><span style=\"color: #008000; text-decoration-color: #008000\">'first_order_coherence'</span>, <span style=\"color: #008000; text-decoration-color: #008000\">'second_order_coherence'</span>, <span style=\"color: #008000; text-decoration-color: #008000\">'smog'</span>,          <span style=\"color: #7f7f7f; text-decoration-color: #7f7f7f\">                 </span>\n",
       "<span style=\"color: #7fbfbf; text-decoration-color: #7fbfbf\">                    </span>         <span style=\"color: #008000; text-decoration-color: #008000\">'oov_ratio'</span><span style=\"font-weight: bold\">]</span>                                                         <span style=\"color: #7f7f7f; text-decoration-color: #7f7f7f\">                 </span>\n",
       "</pre>\n"
      ],
      "text/plain": [
       "\u001b[2;36m[12/14/23 12:28:18]\u001b[0m\u001b[2;36m \u001b[0m\u001b[31mWARNING \u001b[0m WARNING:__main__:The following columns contain only NaN values:      \u001b]8;id=163308;file://C:\\Users\\sarah\\AppData\\Local\\Temp\\ipykernel_19576\\3218720027.py\u001b\\\u001b[2m3218720027.py\u001b[0m\u001b]8;;\u001b\\\u001b[2m:\u001b[0m\u001b]8;id=512907;file://C:\\Users\\sarah\\AppData\\Local\\Temp\\ipykernel_19576\\3218720027.py#110\u001b\\\u001b[2m110\u001b[0m\u001b]8;;\u001b\\\n",
       "\u001b[2;36m                    \u001b[0m         \u001b[1m[\u001b[0m\u001b[32m'first_order_coherence'\u001b[0m, \u001b[32m'second_order_coherence'\u001b[0m, \u001b[32m'smog'\u001b[0m,          \u001b[2m                 \u001b[0m\n",
       "\u001b[2;36m                    \u001b[0m         \u001b[32m'oov_ratio'\u001b[0m\u001b[1m]\u001b[0m                                                         \u001b[2m                 \u001b[0m\n"
      ]
     },
     "metadata": {},
     "output_type": "display_data"
    },
    {
     "data": {
      "application/vnd.jupyter.widget-view+json": {
       "model_id": "728fc1d311b746a69660845d39e5e0a3",
       "version_major": 2,
       "version_minor": 0
      },
      "text/plain": [
       "Output()"
      ]
     },
     "metadata": {},
     "output_type": "display_data"
    },
    {
     "name": "stdout",
     "output_type": "stream",
     "text": [
      "forsinglefield:basic_metrics None\n",
      "forsinglefield:self.metrics None\n",
      "forallfields:field_metrics.items\n",
      "Field: text, Metrics:    text_n_tokens  text_n_unique_tokens  text_n_sentences  text_perplexity  \\\n",
      "0              4                     4                 1         1.323289   \n",
      "1              2                     2                 1         1.016133   \n",
      "2              3                     3                 1         1.027945   \n",
      "\n",
      "   text_entropy  text_flesch_reading_ease  \n",
      "0      0.280120                   118.175  \n",
      "1      0.016005                   120.205  \n",
      "2      0.027561                   119.190  \n",
      "1\n",
      "extracted_metrics:type <class 'pandas.core.frame.DataFrame'>\n"
     ]
    },
    {
     "data": {
      "text/html": [
       "<pre style=\"white-space:pre;overflow-x:auto;line-height:normal;font-family:Menlo,'DejaVu Sans Mono',consolas,'Courier New',monospace\"></pre>\n"
      ],
      "text/plain": []
     },
     "metadata": {},
     "output_type": "display_data"
    },
    {
     "data": {
      "text/html": [
       "<pre style=\"white-space:pre;overflow-x:auto;line-height:normal;font-family:Menlo,'DejaVu Sans Mono',consolas,'Courier New',monospace\">\n",
       "</pre>\n"
      ],
      "text/plain": [
       "\n"
      ]
     },
     "metadata": {},
     "output_type": "display_data"
    }
   ],
   "source": [
    "tde = TextDescriptivesExtractor(fields=[\"text\"])\n",
    "updated_records = tde.update_records(records)"
   ]
  },
  {
   "cell_type": "code",
   "execution_count": 52,
   "metadata": {},
   "outputs": [
    {
     "data": {
      "text/plain": [
       "[FeedbackRecord(fields={'text': 'This is a test.', 'text2': 'This is a test. You wanna sing,sing if is your passion.', 'text3': 'This is a test? Are you sure? I dont think so.'}, metadata={'text_n_tokens': 4, 'text_n_unique_tokens': 4, 'text_n_sentences': 1, 'text_perplexity': 1.32, 'text_entropy': 0.28, 'text_flesch_reading_ease': 118.18}, vectors={}, responses=[], suggestions=(), external_id=None),\n",
       " FeedbackRecord(fields={'text': 'This i', 'text2': 'your house.', 'text3': 'try this'}, metadata={'text_n_tokens': 2, 'text_n_unique_tokens': 2, 'text_n_sentences': 1, 'text_perplexity': 1.02, 'text_entropy': 0.02, 'text_flesch_reading_ease': 120.21}, vectors={}, responses=[], suggestions=(), external_id=None),\n",
       " FeedbackRecord(fields={'text': 'You went there', 'text2': 'This thing is tooo shrt, i should write it longer so that the metrics works', 'text3': \"obviously this doesn't work, why? I dont. know. Who KNows?\"}, metadata={'text_n_tokens': 3, 'text_n_unique_tokens': 3, 'text_n_sentences': 1, 'text_perplexity': 1.03, 'text_entropy': 0.03, 'text_flesch_reading_ease': 119.19}, vectors={}, responses=[], suggestions=(), external_id=None)]"
      ]
     },
     "execution_count": 52,
     "metadata": {},
     "output_type": "execute_result"
    }
   ],
   "source": [
    "updated_records"
   ]
  },
  {
   "cell_type": "code",
   "execution_count": 53,
   "metadata": {},
   "outputs": [
    {
     "data": {
      "text/plain": [
       "{'text_n_tokens': 4,\n",
       " 'text_n_unique_tokens': 4,\n",
       " 'text_n_sentences': 1,\n",
       " 'text_perplexity': 1.32,\n",
       " 'text_entropy': 0.28,\n",
       " 'text_flesch_reading_ease': 118.18}"
      ]
     },
     "execution_count": 53,
     "metadata": {},
     "output_type": "execute_result"
    }
   ],
   "source": [
    "updated_records[0].metadata"
   ]
  },
  {
   "cell_type": "markdown",
   "metadata": {},
   "source": [
    "## local dataset with 1 field OK"
   ]
  },
  {
   "cell_type": "code",
   "execution_count": 77,
   "metadata": {},
   "outputs": [
    {
     "name": "stdout",
     "output_type": "stream",
     "text": [
      "self.metrics None\n",
      "self.fields ['text']\n",
      "forallfields:before:fields None\n",
      "forallfields: after:fields ['text']\n",
      "forsinglefield:self.metrics None\n",
      "forsinglefield:field_metrics               text  first_order_coherence  second_order_coherence  \\\n",
      "0  This is a test.                    NaN                     NaN   \n",
      "1           This i                    NaN                     NaN   \n",
      "2   You went there                    NaN                     NaN   \n",
      "\n",
      "   flesch_reading_ease  flesch_kincaid_grade  smog  gunning_fog  \\\n",
      "0              118.175                 -2.23   NaN          1.6   \n",
      "1              120.205                 -3.01   NaN          0.8   \n",
      "2              119.190                 -2.62   NaN          1.2   \n",
      "\n",
      "   automated_readability_index  coleman_liau_index  lix  ...  \\\n",
      "0                      -6.4775           -7.030000  4.0  ...   \n",
      "1                      -8.6550          -15.900000  2.0  ...   \n",
      "2                      -1.0900           -2.146667  3.0  ...   \n",
      "\n",
      "   sentence_length_median  sentence_length_std  syllables_per_token_mean  \\\n",
      "0                     4.0                  0.0                       1.0   \n",
      "1                     2.0                  0.0                       1.0   \n",
      "2                     3.0                  0.0                       1.0   \n",
      "\n",
      "   syllables_per_token_median  syllables_per_token_std  n_tokens  \\\n",
      "0                         1.0                      0.0         4   \n",
      "1                         1.0                      0.0         2   \n",
      "2                         1.0                      0.0         3   \n",
      "\n",
      "   n_unique_tokens  proportion_unique_tokens  n_characters  n_sentences  \n",
      "0                4                       1.0            12            1  \n",
      "1                2                       1.0             5            1  \n",
      "2                3                       1.0            12            1  \n",
      "\n",
      "[3 rows x 70 columns]\n",
      "forsinglefield:nan_columns ['first_order_coherence', 'second_order_coherence', 'smog', 'oov_ratio']\n"
     ]
    },
    {
     "data": {
      "text/html": [
       "<pre style=\"white-space:pre;overflow-x:auto;line-height:normal;font-family:Menlo,'DejaVu Sans Mono',consolas,'Courier New',monospace\"><span style=\"color: #7fbfbf; text-decoration-color: #7fbfbf\">[12/14/23 12:28:51] </span><span style=\"color: #800000; text-decoration-color: #800000\">WARNING </span> WARNING:__main__:The following columns contain only NaN values:      <a href=\"file://C:\\Users\\sarah\\AppData\\Local\\Temp\\ipykernel_19576\\3218720027.py\" target=\"_blank\"><span style=\"color: #7f7f7f; text-decoration-color: #7f7f7f\">3218720027.py</span></a><span style=\"color: #7f7f7f; text-decoration-color: #7f7f7f\">:</span><a href=\"file://C:\\Users\\sarah\\AppData\\Local\\Temp\\ipykernel_19576\\3218720027.py#110\" target=\"_blank\"><span style=\"color: #7f7f7f; text-decoration-color: #7f7f7f\">110</span></a>\n",
       "<span style=\"color: #7fbfbf; text-decoration-color: #7fbfbf\">                    </span>         <span style=\"font-weight: bold\">[</span><span style=\"color: #008000; text-decoration-color: #008000\">'first_order_coherence'</span>, <span style=\"color: #008000; text-decoration-color: #008000\">'second_order_coherence'</span>, <span style=\"color: #008000; text-decoration-color: #008000\">'smog'</span>,          <span style=\"color: #7f7f7f; text-decoration-color: #7f7f7f\">                 </span>\n",
       "<span style=\"color: #7fbfbf; text-decoration-color: #7fbfbf\">                    </span>         <span style=\"color: #008000; text-decoration-color: #008000\">'oov_ratio'</span><span style=\"font-weight: bold\">]</span>                                                         <span style=\"color: #7f7f7f; text-decoration-color: #7f7f7f\">                 </span>\n",
       "</pre>\n"
      ],
      "text/plain": [
       "\u001b[2;36m[12/14/23 12:28:51]\u001b[0m\u001b[2;36m \u001b[0m\u001b[31mWARNING \u001b[0m WARNING:__main__:The following columns contain only NaN values:      \u001b]8;id=178828;file://C:\\Users\\sarah\\AppData\\Local\\Temp\\ipykernel_19576\\3218720027.py\u001b\\\u001b[2m3218720027.py\u001b[0m\u001b]8;;\u001b\\\u001b[2m:\u001b[0m\u001b]8;id=220656;file://C:\\Users\\sarah\\AppData\\Local\\Temp\\ipykernel_19576\\3218720027.py#110\u001b\\\u001b[2m110\u001b[0m\u001b]8;;\u001b\\\n",
       "\u001b[2;36m                    \u001b[0m         \u001b[1m[\u001b[0m\u001b[32m'first_order_coherence'\u001b[0m, \u001b[32m'second_order_coherence'\u001b[0m, \u001b[32m'smog'\u001b[0m,          \u001b[2m                 \u001b[0m\n",
       "\u001b[2;36m                    \u001b[0m         \u001b[32m'oov_ratio'\u001b[0m\u001b[1m]\u001b[0m                                                         \u001b[2m                 \u001b[0m\n"
      ]
     },
     "metadata": {},
     "output_type": "display_data"
    },
    {
     "data": {
      "application/vnd.jupyter.widget-view+json": {
       "model_id": "095a604524514e7c9cb22bbfbe5eba02",
       "version_major": 2,
       "version_minor": 0
      },
      "text/plain": [
       "Output()"
      ]
     },
     "metadata": {},
     "output_type": "display_data"
    },
    {
     "name": "stdout",
     "output_type": "stream",
     "text": [
      "forsinglefield:basic_metrics None\n",
      "forsinglefield:self.metrics None\n",
      "forallfields:field_metrics.items\n",
      "Field: text, Metrics:    text_n_tokens  text_n_unique_tokens  text_n_sentences  text_perplexity  \\\n",
      "0              4                     4                 1         1.323289   \n",
      "1              2                     2                 1         1.016133   \n",
      "2              3                     3                 1         1.027945   \n",
      "\n",
      "   text_entropy  text_flesch_reading_ease  \n",
      "0      0.280120                   118.175  \n",
      "1      0.016005                   120.205  \n",
      "2      0.027561                   119.190  \n",
      "1\n",
      "dtype int32\n",
      "[IntegerMetadataProperty(name='text_n_tokens', title='Text N Tokens', visible_for_annotators=True, type='integer', min=None, max=None)]\n",
      "dtype int32\n",
      "[IntegerMetadataProperty(name='text_n_tokens', title='Text N Tokens', visible_for_annotators=True, type='integer', min=None, max=None), IntegerMetadataProperty(name='text_n_unique_tokens', title='Text N Unique Tokens', visible_for_annotators=True, type='integer', min=None, max=None)]\n",
      "dtype int32\n",
      "[IntegerMetadataProperty(name='text_n_tokens', title='Text N Tokens', visible_for_annotators=True, type='integer', min=None, max=None), IntegerMetadataProperty(name='text_n_unique_tokens', title='Text N Unique Tokens', visible_for_annotators=True, type='integer', min=None, max=None), IntegerMetadataProperty(name='text_n_sentences', title='Text N Sentences', visible_for_annotators=True, type='integer', min=None, max=None)]\n",
      "dtype float64\n",
      "[IntegerMetadataProperty(name='text_n_tokens', title='Text N Tokens', visible_for_annotators=True, type='integer', min=None, max=None), IntegerMetadataProperty(name='text_n_unique_tokens', title='Text N Unique Tokens', visible_for_annotators=True, type='integer', min=None, max=None), IntegerMetadataProperty(name='text_n_sentences', title='Text N Sentences', visible_for_annotators=True, type='integer', min=None, max=None), FloatMetadataProperty(name='text_perplexity', title='Text Perplexity', visible_for_annotators=True, type='float', min=None, max=None)]\n",
      "dtype float64\n",
      "[IntegerMetadataProperty(name='text_n_tokens', title='Text N Tokens', visible_for_annotators=True, type='integer', min=None, max=None), IntegerMetadataProperty(name='text_n_unique_tokens', title='Text N Unique Tokens', visible_for_annotators=True, type='integer', min=None, max=None), IntegerMetadataProperty(name='text_n_sentences', title='Text N Sentences', visible_for_annotators=True, type='integer', min=None, max=None), FloatMetadataProperty(name='text_perplexity', title='Text Perplexity', visible_for_annotators=True, type='float', min=None, max=None), FloatMetadataProperty(name='text_entropy', title='Text Entropy', visible_for_annotators=True, type='float', min=None, max=None)]\n",
      "dtype float64\n",
      "[IntegerMetadataProperty(name='text_n_tokens', title='Text N Tokens', visible_for_annotators=True, type='integer', min=None, max=None), IntegerMetadataProperty(name='text_n_unique_tokens', title='Text N Unique Tokens', visible_for_annotators=True, type='integer', min=None, max=None), IntegerMetadataProperty(name='text_n_sentences', title='Text N Sentences', visible_for_annotators=True, type='integer', min=None, max=None), FloatMetadataProperty(name='text_perplexity', title='Text Perplexity', visible_for_annotators=True, type='float', min=None, max=None), FloatMetadataProperty(name='text_entropy', title='Text Entropy', visible_for_annotators=True, type='float', min=None, max=None), FloatMetadataProperty(name='text_flesch_reading_ease', title='Text Flesch Reading Ease', visible_for_annotators=True, type='float', min=None, max=None)]\n"
     ]
    },
    {
     "data": {
      "text/html": [
       "<pre style=\"white-space:pre;overflow-x:auto;line-height:normal;font-family:Menlo,'DejaVu Sans Mono',consolas,'Courier New',monospace\"></pre>\n"
      ],
      "text/plain": []
     },
     "metadata": {},
     "output_type": "display_data"
    },
    {
     "data": {
      "text/html": [
       "<pre style=\"white-space:pre;overflow-x:auto;line-height:normal;font-family:Menlo,'DejaVu Sans Mono',consolas,'Courier New',monospace\">\n",
       "</pre>\n"
      ],
      "text/plain": [
       "\n"
      ]
     },
     "metadata": {},
     "output_type": "display_data"
    }
   ],
   "source": [
    "tde = TextDescriptivesExtractor(fields=[\"text\"])\n",
    "updated_ds = tde.update_dataset(ds)"
   ]
  },
  {
   "cell_type": "code",
   "execution_count": 78,
   "metadata": {},
   "outputs": [
    {
     "data": {
      "text/plain": [
       "FeedbackDataset(\n",
       "   fields=[TextField(name='text', title='Text', required=True, type='text', use_markdown=False), TextField(name='text2', title='Text2', required=True, type='text', use_markdown=False), TextField(name='text3', title='Text3', required=True, type='text', use_markdown=False)]\n",
       "   questions=[RatingQuestion(name='answer_quality', title='Answer_quality', description='How would you rate the quality of the answer?', required=True, type='rating', values=[1, 2, 3, 4, 5])]\n",
       "   guidelines=None)\n",
       "   metadata_properties=[IntegerMetadataProperty(name='text_n_tokens', title='Text N Tokens', visible_for_annotators=True, type='integer', min=None, max=None), IntegerMetadataProperty(name='text_n_unique_tokens', title='Text N Unique Tokens', visible_for_annotators=True, type='integer', min=None, max=None), IntegerMetadataProperty(name='text_n_sentences', title='Text N Sentences', visible_for_annotators=True, type='integer', min=None, max=None), FloatMetadataProperty(name='text_perplexity', title='Text Perplexity', visible_for_annotators=True, type='float', min=None, max=None), FloatMetadataProperty(name='text_entropy', title='Text Entropy', visible_for_annotators=True, type='float', min=None, max=None), FloatMetadataProperty(name='text_flesch_reading_ease', title='Text Flesch Reading Ease', visible_for_annotators=True, type='float', min=None, max=None)])\n",
       ")"
      ]
     },
     "execution_count": 78,
     "metadata": {},
     "output_type": "execute_result"
    }
   ],
   "source": [
    "updated_ds"
   ]
  },
  {
   "cell_type": "code",
   "execution_count": 79,
   "metadata": {},
   "outputs": [
    {
     "data": {
      "text/plain": [
       "FeedbackRecord(fields={'text': 'This is a test.', 'text2': 'This is a test. You wanna sing,sing if is your passion.', 'text3': 'This is a test? Are you sure? I dont think so.'}, metadata={'text_n_tokens': 4, 'text_n_unique_tokens': 4, 'text_n_sentences': 1, 'text_perplexity': 1.32, 'text_entropy': 0.28, 'text_flesch_reading_ease': 118.18}, vectors={}, responses=[], suggestions=(), external_id=None)"
      ]
     },
     "execution_count": 79,
     "metadata": {},
     "output_type": "execute_result"
    }
   ],
   "source": [
    "updated_ds.records[0]"
   ]
  },
  {
   "cell_type": "code",
   "execution_count": 80,
   "metadata": {},
   "outputs": [
    {
     "data": {
      "text/plain": [
       "{'text_n_tokens': 4,\n",
       " 'text_n_unique_tokens': 4,\n",
       " 'text_n_sentences': 1,\n",
       " 'text_perplexity': 1.32,\n",
       " 'text_entropy': 0.28,\n",
       " 'text_flesch_reading_ease': 118.18}"
      ]
     },
     "execution_count": 80,
     "metadata": {},
     "output_type": "execute_result"
    }
   ],
   "source": [
    "updated_ds.records[0].metadata"
   ]
  },
  {
   "cell_type": "markdown",
   "metadata": {},
   "source": [
    "## remote dataset with 1 field OK"
   ]
  },
  {
   "cell_type": "code",
   "execution_count": 83,
   "metadata": {},
   "outputs": [
    {
     "name": "stdout",
     "output_type": "stream",
     "text": [
      "self.metrics None\n",
      "self.fields ['text']\n",
      "forallfields:before:fields None\n",
      "forallfields: after:fields ['text']\n",
      "forsinglefield:self.metrics None\n",
      "forsinglefield:field_metrics               text  first_order_coherence  second_order_coherence  \\\n",
      "0  This is a test.                    NaN                     NaN   \n",
      "1           This i                    NaN                     NaN   \n",
      "2   You went there                    NaN                     NaN   \n",
      "\n",
      "   flesch_reading_ease  flesch_kincaid_grade  smog  gunning_fog  \\\n",
      "0              118.175                 -2.23   NaN          1.6   \n",
      "1              120.205                 -3.01   NaN          0.8   \n",
      "2              119.190                 -2.62   NaN          1.2   \n",
      "\n",
      "   automated_readability_index  coleman_liau_index  lix  ...  \\\n",
      "0                      -6.4775           -7.030000  4.0  ...   \n",
      "1                      -8.6550          -15.900000  2.0  ...   \n",
      "2                      -1.0900           -2.146667  3.0  ...   \n",
      "\n",
      "   sentence_length_median  sentence_length_std  syllables_per_token_mean  \\\n",
      "0                     4.0                  0.0                       1.0   \n",
      "1                     2.0                  0.0                       1.0   \n",
      "2                     3.0                  0.0                       1.0   \n",
      "\n",
      "   syllables_per_token_median  syllables_per_token_std  n_tokens  \\\n",
      "0                         1.0                      0.0         4   \n",
      "1                         1.0                      0.0         2   \n",
      "2                         1.0                      0.0         3   \n",
      "\n",
      "   n_unique_tokens  proportion_unique_tokens  n_characters  n_sentences  \n",
      "0                4                       1.0            12            1  \n",
      "1                2                       1.0             5            1  \n",
      "2                3                       1.0            12            1  \n",
      "\n",
      "[3 rows x 70 columns]\n",
      "forsinglefield:nan_columns ['first_order_coherence', 'second_order_coherence', 'smog', 'oov_ratio']\n"
     ]
    },
    {
     "data": {
      "text/html": [
       "<pre style=\"white-space:pre;overflow-x:auto;line-height:normal;font-family:Menlo,'DejaVu Sans Mono',consolas,'Courier New',monospace\"><span style=\"color: #7fbfbf; text-decoration-color: #7fbfbf\">[12/14/23 12:29:41] </span><span style=\"color: #800000; text-decoration-color: #800000\">WARNING </span> WARNING:__main__:The following columns contain only NaN values:      <a href=\"file://C:\\Users\\sarah\\AppData\\Local\\Temp\\ipykernel_19576\\3218720027.py\" target=\"_blank\"><span style=\"color: #7f7f7f; text-decoration-color: #7f7f7f\">3218720027.py</span></a><span style=\"color: #7f7f7f; text-decoration-color: #7f7f7f\">:</span><a href=\"file://C:\\Users\\sarah\\AppData\\Local\\Temp\\ipykernel_19576\\3218720027.py#110\" target=\"_blank\"><span style=\"color: #7f7f7f; text-decoration-color: #7f7f7f\">110</span></a>\n",
       "<span style=\"color: #7fbfbf; text-decoration-color: #7fbfbf\">                    </span>         <span style=\"font-weight: bold\">[</span><span style=\"color: #008000; text-decoration-color: #008000\">'first_order_coherence'</span>, <span style=\"color: #008000; text-decoration-color: #008000\">'second_order_coherence'</span>, <span style=\"color: #008000; text-decoration-color: #008000\">'smog'</span>,          <span style=\"color: #7f7f7f; text-decoration-color: #7f7f7f\">                 </span>\n",
       "<span style=\"color: #7fbfbf; text-decoration-color: #7fbfbf\">                    </span>         <span style=\"color: #008000; text-decoration-color: #008000\">'oov_ratio'</span><span style=\"font-weight: bold\">]</span>                                                         <span style=\"color: #7f7f7f; text-decoration-color: #7f7f7f\">                 </span>\n",
       "</pre>\n"
      ],
      "text/plain": [
       "\u001b[2;36m[12/14/23 12:29:41]\u001b[0m\u001b[2;36m \u001b[0m\u001b[31mWARNING \u001b[0m WARNING:__main__:The following columns contain only NaN values:      \u001b]8;id=998272;file://C:\\Users\\sarah\\AppData\\Local\\Temp\\ipykernel_19576\\3218720027.py\u001b\\\u001b[2m3218720027.py\u001b[0m\u001b]8;;\u001b\\\u001b[2m:\u001b[0m\u001b]8;id=482658;file://C:\\Users\\sarah\\AppData\\Local\\Temp\\ipykernel_19576\\3218720027.py#110\u001b\\\u001b[2m110\u001b[0m\u001b]8;;\u001b\\\n",
       "\u001b[2;36m                    \u001b[0m         \u001b[1m[\u001b[0m\u001b[32m'first_order_coherence'\u001b[0m, \u001b[32m'second_order_coherence'\u001b[0m, \u001b[32m'smog'\u001b[0m,          \u001b[2m                 \u001b[0m\n",
       "\u001b[2;36m                    \u001b[0m         \u001b[32m'oov_ratio'\u001b[0m\u001b[1m]\u001b[0m                                                         \u001b[2m                 \u001b[0m\n"
      ]
     },
     "metadata": {},
     "output_type": "display_data"
    },
    {
     "name": "stdout",
     "output_type": "stream",
     "text": [
      "forsinglefield:basic_metrics None\n",
      "forsinglefield:self.metrics None\n",
      "forallfields:field_metrics.items\n",
      "Field: text, Metrics:    text_n_tokens  text_n_unique_tokens  text_n_sentences  text_perplexity  \\\n",
      "0              4                     4                 1         1.323289   \n",
      "1              2                     2                 1         1.016133   \n",
      "2              3                     3                 1         1.027945   \n",
      "\n",
      "   text_entropy  text_flesch_reading_ease  \n",
      "0      0.280120                   118.175  \n",
      "1      0.016005                   120.205  \n",
      "2      0.027561                   119.190  \n",
      "1\n",
      "dtype int32\n",
      "[IntegerMetadataProperty(name='text_n_tokens', title='Text N Tokens', visible_for_annotators=True, type='integer', min=None, max=None)]\n",
      "dtype int32\n",
      "[IntegerMetadataProperty(name='text_n_tokens', title='Text N Tokens', visible_for_annotators=True, type='integer', min=None, max=None), IntegerMetadataProperty(name='text_n_unique_tokens', title='Text N Unique Tokens', visible_for_annotators=True, type='integer', min=None, max=None)]\n",
      "dtype int32\n",
      "[IntegerMetadataProperty(name='text_n_tokens', title='Text N Tokens', visible_for_annotators=True, type='integer', min=None, max=None), IntegerMetadataProperty(name='text_n_unique_tokens', title='Text N Unique Tokens', visible_for_annotators=True, type='integer', min=None, max=None), IntegerMetadataProperty(name='text_n_sentences', title='Text N Sentences', visible_for_annotators=True, type='integer', min=None, max=None)]\n",
      "dtype float64\n",
      "[IntegerMetadataProperty(name='text_n_tokens', title='Text N Tokens', visible_for_annotators=True, type='integer', min=None, max=None), IntegerMetadataProperty(name='text_n_unique_tokens', title='Text N Unique Tokens', visible_for_annotators=True, type='integer', min=None, max=None), IntegerMetadataProperty(name='text_n_sentences', title='Text N Sentences', visible_for_annotators=True, type='integer', min=None, max=None), FloatMetadataProperty(name='text_perplexity', title='Text Perplexity', visible_for_annotators=True, type='float', min=None, max=None)]\n",
      "dtype float64\n",
      "[IntegerMetadataProperty(name='text_n_tokens', title='Text N Tokens', visible_for_annotators=True, type='integer', min=None, max=None), IntegerMetadataProperty(name='text_n_unique_tokens', title='Text N Unique Tokens', visible_for_annotators=True, type='integer', min=None, max=None), IntegerMetadataProperty(name='text_n_sentences', title='Text N Sentences', visible_for_annotators=True, type='integer', min=None, max=None), FloatMetadataProperty(name='text_perplexity', title='Text Perplexity', visible_for_annotators=True, type='float', min=None, max=None), FloatMetadataProperty(name='text_entropy', title='Text Entropy', visible_for_annotators=True, type='float', min=None, max=None)]\n",
      "dtype float64\n",
      "[IntegerMetadataProperty(name='text_n_tokens', title='Text N Tokens', visible_for_annotators=True, type='integer', min=None, max=None), IntegerMetadataProperty(name='text_n_unique_tokens', title='Text N Unique Tokens', visible_for_annotators=True, type='integer', min=None, max=None), IntegerMetadataProperty(name='text_n_sentences', title='Text N Sentences', visible_for_annotators=True, type='integer', min=None, max=None), FloatMetadataProperty(name='text_perplexity', title='Text Perplexity', visible_for_annotators=True, type='float', min=None, max=None), FloatMetadataProperty(name='text_entropy', title='Text Entropy', visible_for_annotators=True, type='float', min=None, max=None), FloatMetadataProperty(name='text_flesch_reading_ease', title='Text Flesch Reading Ease', visible_for_annotators=True, type='float', min=None, max=None)]\n"
     ]
    },
    {
     "data": {
      "application/vnd.jupyter.widget-view+json": {
       "model_id": "f6a6e43717654aefa15bdde61349a54a",
       "version_major": 2,
       "version_minor": 0
      },
      "text/plain": [
       "Output()"
      ]
     },
     "metadata": {},
     "output_type": "display_data"
    },
    {
     "data": {
      "text/html": [
       "<pre style=\"white-space:pre;overflow-x:auto;line-height:normal;font-family:Menlo,'DejaVu Sans Mono',consolas,'Courier New',monospace\"></pre>\n"
      ],
      "text/plain": []
     },
     "metadata": {},
     "output_type": "display_data"
    },
    {
     "data": {
      "text/html": [
       "<pre style=\"white-space:pre;overflow-x:auto;line-height:normal;font-family:Menlo,'DejaVu Sans Mono',consolas,'Courier New',monospace\">\n",
       "</pre>\n"
      ],
      "text/plain": [
       "\n"
      ]
     },
     "metadata": {},
     "output_type": "display_data"
    },
    {
     "data": {
      "application/vnd.jupyter.widget-view+json": {
       "model_id": "b82eb0a94e79406a8dbe2c28bb4c1c56",
       "version_major": 2,
       "version_minor": 0
      },
      "text/plain": [
       "Output()"
      ]
     },
     "metadata": {},
     "output_type": "display_data"
    },
    {
     "data": {
      "text/html": [
       "<pre style=\"white-space:pre;overflow-x:auto;line-height:normal;font-family:Menlo,'DejaVu Sans Mono',consolas,'Courier New',monospace\"></pre>\n"
      ],
      "text/plain": []
     },
     "metadata": {},
     "output_type": "display_data"
    },
    {
     "data": {
      "text/html": [
       "<pre style=\"white-space:pre;overflow-x:auto;line-height:normal;font-family:Menlo,'DejaVu Sans Mono',consolas,'Courier New',monospace\">\n",
       "</pre>\n"
      ],
      "text/plain": [
       "\n"
      ]
     },
     "metadata": {},
     "output_type": "display_data"
    }
   ],
   "source": [
    "tde = TextDescriptivesExtractor(fields=[\"text\"])\n",
    "updated_remote_ds = tde.update_dataset(remote_ds)"
   ]
  },
  {
   "cell_type": "code",
   "execution_count": 90,
   "metadata": {},
   "outputs": [],
   "source": [
    "updated_remote_ds = remote_ds"
   ]
  },
  {
   "cell_type": "code",
   "execution_count": 91,
   "metadata": {},
   "outputs": [
    {
     "data": {
      "text/plain": [
       "RemoteFeedbackDataset(\n",
       "   id=c5b0b89a-f558-40b8-88d4-137d5194b425\n",
       "   name=basic_one\n",
       "   workspace=Workspace(id=507a6ccf-f7e0-40e9-9384-5c8840abb505, name=argilla, inserted_at=2023-12-12 14:04:58.940990, updated_at=2023-12-12 14:04:58.940990)\n",
       "   url=http://localhost:6900/dataset/c5b0b89a-f558-40b8-88d4-137d5194b425/annotation-mode\n",
       "   fields=[RemoteTextField(id=UUID('ac9268ac-7440-4195-bd94-8c7ebe06b389'), client=None, name='text', title='Text', required=True, type='text', use_markdown=False), RemoteTextField(id=UUID('dadeed79-c1d6-4cda-a422-d0ea9b64302a'), client=None, name='text2', title='Text2', required=True, type='text', use_markdown=False), RemoteTextField(id=UUID('d2f7ae46-1d99-4544-ba9a-d01a2eba3802'), client=None, name='text3', title='Text3', required=True, type='text', use_markdown=False)]\n",
       "   questions=[RemoteRatingQuestion(id=UUID('24cab23e-77b5-4b8d-b0c5-b648f44fc6e8'), client=None, name='answer_quality', title='Answer_quality', description=None, required=True, type='rating', values=[1, 2, 3, 4, 5])]\n",
       "   guidelines=None\n",
       "   metadata_properties=[RemoteIntegerMetadataProperty(id=UUID('e7de7827-c136-410b-8a43-3ce71199ca4b'), client=<httpx.Client object at 0x0000021D00217880>, name='text_n_tokens', title='Text N Tokens', visible_for_annotators=True, type='integer', min=None, max=None), RemoteIntegerMetadataProperty(id=UUID('1b8ca655-42d6-428c-b0b5-faebc4b8f00f'), client=<httpx.Client object at 0x0000021D00217880>, name='text_n_unique_tokens', title='Text N Unique Tokens', visible_for_annotators=True, type='integer', min=None, max=None), RemoteIntegerMetadataProperty(id=UUID('0ca2ff3f-20ec-4341-be08-5096f054e79b'), client=<httpx.Client object at 0x0000021D00217880>, name='text_n_sentences', title='Text N Sentences', visible_for_annotators=True, type='integer', min=None, max=None), RemoteFloatMetadataProperty(id=UUID('66f4ff65-cdf5-48e6-b72c-5f309b337871'), client=<httpx.Client object at 0x0000021D00217880>, name='text_perplexity', title='Text Perplexity', visible_for_annotators=True, type='float', min=None, max=None), RemoteFloatMetadataProperty(id=UUID('63a4e9e2-1ca8-4c2b-b860-2506efe1920c'), client=<httpx.Client object at 0x0000021D00217880>, name='text_entropy', title='Text Entropy', visible_for_annotators=True, type='float', min=None, max=None), RemoteFloatMetadataProperty(id=UUID('ade15171-2bed-4260-b39f-2211aed781f8'), client=<httpx.Client object at 0x0000021D00217880>, name='text_flesch_reading_ease', title='Text Flesch Reading Ease', visible_for_annotators=True, type='float', min=None, max=None)]\n",
       ")"
      ]
     },
     "execution_count": 91,
     "metadata": {},
     "output_type": "execute_result"
    }
   ],
   "source": [
    "updated_remote_ds"
   ]
  },
  {
   "cell_type": "code",
   "execution_count": 84,
   "metadata": {},
   "outputs": [
    {
     "data": {
      "text/plain": [
       "[RemoteIntegerMetadataProperty(id=UUID('e7de7827-c136-410b-8a43-3ce71199ca4b'), client=<httpx.Client object at 0x0000021D00217880>, name='text_n_tokens', title='Text N Tokens', visible_for_annotators=True, type='integer', min=None, max=None),\n",
       " RemoteIntegerMetadataProperty(id=UUID('1b8ca655-42d6-428c-b0b5-faebc4b8f00f'), client=<httpx.Client object at 0x0000021D00217880>, name='text_n_unique_tokens', title='Text N Unique Tokens', visible_for_annotators=True, type='integer', min=None, max=None),\n",
       " RemoteIntegerMetadataProperty(id=UUID('0ca2ff3f-20ec-4341-be08-5096f054e79b'), client=<httpx.Client object at 0x0000021D00217880>, name='text_n_sentences', title='Text N Sentences', visible_for_annotators=True, type='integer', min=None, max=None),\n",
       " RemoteFloatMetadataProperty(id=UUID('66f4ff65-cdf5-48e6-b72c-5f309b337871'), client=<httpx.Client object at 0x0000021D00217880>, name='text_perplexity', title='Text Perplexity', visible_for_annotators=True, type='float', min=None, max=None),\n",
       " RemoteFloatMetadataProperty(id=UUID('63a4e9e2-1ca8-4c2b-b860-2506efe1920c'), client=<httpx.Client object at 0x0000021D00217880>, name='text_entropy', title='Text Entropy', visible_for_annotators=True, type='float', min=None, max=None),\n",
       " RemoteFloatMetadataProperty(id=UUID('ade15171-2bed-4260-b39f-2211aed781f8'), client=<httpx.Client object at 0x0000021D00217880>, name='text_flesch_reading_ease', title='Text Flesch Reading Ease', visible_for_annotators=True, type='float', min=None, max=None)]"
      ]
     },
     "execution_count": 84,
     "metadata": {},
     "output_type": "execute_result"
    }
   ],
   "source": [
    "remote_ds.metadata_properties"
   ]
  },
  {
   "cell_type": "code",
   "execution_count": 86,
   "metadata": {},
   "outputs": [
    {
     "data": {
      "text/plain": [
       "{'text_n_tokens': 4,\n",
       " 'text_n_unique_tokens': 4,\n",
       " 'text_n_sentences': 1,\n",
       " 'text_perplexity': 1.32,\n",
       " 'text_entropy': 0.28,\n",
       " 'text_flesch_reading_ease': 118.18}"
      ]
     },
     "execution_count": 86,
     "metadata": {},
     "output_type": "execute_result"
    }
   ],
   "source": [
    "remote_ds.records[0].metadata"
   ]
  },
  {
   "cell_type": "markdown",
   "metadata": {},
   "source": [
    "## local dataset fields and metrics OK"
   ]
  },
  {
   "cell_type": "code",
   "execution_count": 102,
   "metadata": {},
   "outputs": [
    {
     "name": "stdout",
     "output_type": "stream",
     "text": [
      "self.metrics ['information_theory']\n",
      "self.fields ['text', 'text2']\n",
      "forallfields:before:fields None\n",
      "forallfields: after:fields ['text', 'text2']\n",
      "forsinglefield:self.metrics ['information_theory']\n",
      "forsinglefield:field_metrics               text   entropy  perplexity  per_word_perplexity\n",
      "0  This is a test.  0.280120    1.323289             0.264658\n",
      "1           This i  0.016005    1.016133             0.508067\n",
      "2   You went there  0.027561    1.027945             0.342648\n",
      "forsinglefield:nan_columns []\n",
      "forsinglefield:self.metrics ['information_theory']\n"
     ]
    },
    {
     "data": {
      "application/vnd.jupyter.widget-view+json": {
       "model_id": "b1479aca98fe416790fa3d5a8cd8be47",
       "version_major": 2,
       "version_minor": 0
      },
      "text/plain": [
       "Output()"
      ]
     },
     "metadata": {},
     "output_type": "display_data"
    },
    {
     "name": "stdout",
     "output_type": "stream",
     "text": [
      "forsinglefield:field_metrics                                                 text   entropy  perplexity  \\\n",
      "0  This is a test. You wanna sing,sing if is your...  0.634320    1.885739   \n",
      "1                                        your house.  0.164152    1.178393   \n",
      "2  This thing is tooo shrt, i should write it lon...  0.421429    1.524138   \n",
      "\n",
      "   per_word_perplexity  \n",
      "0             0.125716  \n",
      "1             0.392798  \n",
      "2             0.095259  \n",
      "forsinglefield:nan_columns []\n",
      "forallfields:field_metrics.items\n",
      "Field: text, Metrics:    text_entropy  text_perplexity  text_per_word_perplexity\n",
      "0      0.280120         1.323289                  0.264658\n",
      "1      0.016005         1.016133                  0.508067\n",
      "2      0.027561         1.027945                  0.342648\n",
      "Field: text2, Metrics:    text2_entropy  text2_perplexity  text2_per_word_perplexity\n",
      "0       0.634320          1.885739                   0.125716\n",
      "1       0.164152          1.178393                   0.392798\n",
      "2       0.421429          1.524138                   0.095259\n",
      "2\n",
      "dtype float64\n",
      "[FloatMetadataProperty(name='text_entropy', title='Text Entropy', visible_for_annotators=True, type='float', min=None, max=None)]\n",
      "dtype float64\n",
      "[FloatMetadataProperty(name='text_entropy', title='Text Entropy', visible_for_annotators=True, type='float', min=None, max=None), FloatMetadataProperty(name='text_perplexity', title='Text Perplexity', visible_for_annotators=True, type='float', min=None, max=None)]\n",
      "dtype float64\n",
      "[FloatMetadataProperty(name='text_entropy', title='Text Entropy', visible_for_annotators=True, type='float', min=None, max=None), FloatMetadataProperty(name='text_perplexity', title='Text Perplexity', visible_for_annotators=True, type='float', min=None, max=None), FloatMetadataProperty(name='text_per_word_perplexity', title='Text Per Word Perplexity', visible_for_annotators=True, type='float', min=None, max=None)]\n",
      "dtype float64\n",
      "[FloatMetadataProperty(name='text_entropy', title='Text Entropy', visible_for_annotators=True, type='float', min=None, max=None), FloatMetadataProperty(name='text_perplexity', title='Text Perplexity', visible_for_annotators=True, type='float', min=None, max=None), FloatMetadataProperty(name='text_per_word_perplexity', title='Text Per Word Perplexity', visible_for_annotators=True, type='float', min=None, max=None), FloatMetadataProperty(name='text2_entropy', title='Text2 Entropy', visible_for_annotators=True, type='float', min=None, max=None)]\n",
      "dtype float64\n",
      "[FloatMetadataProperty(name='text_entropy', title='Text Entropy', visible_for_annotators=True, type='float', min=None, max=None), FloatMetadataProperty(name='text_perplexity', title='Text Perplexity', visible_for_annotators=True, type='float', min=None, max=None), FloatMetadataProperty(name='text_per_word_perplexity', title='Text Per Word Perplexity', visible_for_annotators=True, type='float', min=None, max=None), FloatMetadataProperty(name='text2_entropy', title='Text2 Entropy', visible_for_annotators=True, type='float', min=None, max=None), FloatMetadataProperty(name='text2_perplexity', title='Text2 Perplexity', visible_for_annotators=True, type='float', min=None, max=None)]\n",
      "dtype float64\n",
      "[FloatMetadataProperty(name='text_entropy', title='Text Entropy', visible_for_annotators=True, type='float', min=None, max=None), FloatMetadataProperty(name='text_perplexity', title='Text Perplexity', visible_for_annotators=True, type='float', min=None, max=None), FloatMetadataProperty(name='text_per_word_perplexity', title='Text Per Word Perplexity', visible_for_annotators=True, type='float', min=None, max=None), FloatMetadataProperty(name='text2_entropy', title='Text2 Entropy', visible_for_annotators=True, type='float', min=None, max=None), FloatMetadataProperty(name='text2_perplexity', title='Text2 Perplexity', visible_for_annotators=True, type='float', min=None, max=None), FloatMetadataProperty(name='text2_per_word_perplexity', title='Text2 Per Word Perplexity', visible_for_annotators=True, type='float', min=None, max=None)]\n"
     ]
    },
    {
     "data": {
      "text/html": [
       "<pre style=\"white-space:pre;overflow-x:auto;line-height:normal;font-family:Menlo,'DejaVu Sans Mono',consolas,'Courier New',monospace\"></pre>\n"
      ],
      "text/plain": []
     },
     "metadata": {},
     "output_type": "display_data"
    },
    {
     "data": {
      "text/html": [
       "<pre style=\"white-space:pre;overflow-x:auto;line-height:normal;font-family:Menlo,'DejaVu Sans Mono',consolas,'Courier New',monospace\">\n",
       "</pre>\n"
      ],
      "text/plain": [
       "\n"
      ]
     },
     "metadata": {},
     "output_type": "display_data"
    },
    {
     "data": {
      "text/plain": [
       "FeedbackDataset(\n",
       "   fields=[TextField(name='text', title='Text', required=True, type='text', use_markdown=False), TextField(name='text2', title='Text2', required=True, type='text', use_markdown=False), TextField(name='text3', title='Text3', required=True, type='text', use_markdown=False)]\n",
       "   questions=[RatingQuestion(name='answer_quality', title='Answer_quality', description='How would you rate the quality of the answer?', required=True, type='rating', values=[1, 2, 3, 4, 5])]\n",
       "   guidelines=None)\n",
       "   metadata_properties=[FloatMetadataProperty(name='text_entropy', title='Text Entropy', visible_for_annotators=True, type='float', min=None, max=None), FloatMetadataProperty(name='text_perplexity', title='Text Perplexity', visible_for_annotators=True, type='float', min=None, max=None), FloatMetadataProperty(name='text_per_word_perplexity', title='Text Per Word Perplexity', visible_for_annotators=True, type='float', min=None, max=None), FloatMetadataProperty(name='text2_entropy', title='Text2 Entropy', visible_for_annotators=True, type='float', min=None, max=None), FloatMetadataProperty(name='text2_perplexity', title='Text2 Perplexity', visible_for_annotators=True, type='float', min=None, max=None), FloatMetadataProperty(name='text2_per_word_perplexity', title='Text2 Per Word Perplexity', visible_for_annotators=True, type='float', min=None, max=None)])\n",
       ")"
      ]
     },
     "execution_count": 102,
     "metadata": {},
     "output_type": "execute_result"
    }
   ],
   "source": [
    "tde = TextDescriptivesExtractor(fields=[\"text\", \"text2\"], metrics=[\"information_theory\"])\n",
    "tde.update_dataset(ds)"
   ]
  },
  {
   "cell_type": "code",
   "execution_count": 103,
   "metadata": {},
   "outputs": [
    {
     "data": {
      "text/plain": [
       "FeedbackDataset(\n",
       "   fields=[TextField(name='text', title='Text', required=True, type='text', use_markdown=False), TextField(name='text2', title='Text2', required=True, type='text', use_markdown=False), TextField(name='text3', title='Text3', required=True, type='text', use_markdown=False)]\n",
       "   questions=[RatingQuestion(name='answer_quality', title='Answer_quality', description='How would you rate the quality of the answer?', required=True, type='rating', values=[1, 2, 3, 4, 5])]\n",
       "   guidelines=None)\n",
       "   metadata_properties=[FloatMetadataProperty(name='text_entropy', title='Text Entropy', visible_for_annotators=True, type='float', min=None, max=None), FloatMetadataProperty(name='text_perplexity', title='Text Perplexity', visible_for_annotators=True, type='float', min=None, max=None), FloatMetadataProperty(name='text_per_word_perplexity', title='Text Per Word Perplexity', visible_for_annotators=True, type='float', min=None, max=None), FloatMetadataProperty(name='text2_entropy', title='Text2 Entropy', visible_for_annotators=True, type='float', min=None, max=None), FloatMetadataProperty(name='text2_perplexity', title='Text2 Perplexity', visible_for_annotators=True, type='float', min=None, max=None), FloatMetadataProperty(name='text2_per_word_perplexity', title='Text2 Per Word Perplexity', visible_for_annotators=True, type='float', min=None, max=None)])\n",
       ")"
      ]
     },
     "execution_count": 103,
     "metadata": {},
     "output_type": "execute_result"
    }
   ],
   "source": [
    "ds"
   ]
  },
  {
   "cell_type": "code",
   "execution_count": 104,
   "metadata": {},
   "outputs": [
    {
     "data": {
      "text/plain": [
       "FeedbackRecord(fields={'text': 'This is a test.', 'text2': 'This is a test. You wanna sing,sing if is your passion.', 'text3': 'This is a test? Are you sure? I dont think so.'}, metadata={'text_entropy': 0.28, 'text_perplexity': 1.32, 'text_per_word_perplexity': 0.26, 'text2_entropy': 0.63, 'text2_perplexity': 1.89, 'text2_per_word_perplexity': 0.13}, vectors={}, responses=[], suggestions=(), external_id=None)"
      ]
     },
     "execution_count": 104,
     "metadata": {},
     "output_type": "execute_result"
    }
   ],
   "source": [
    "ds.records[0]"
   ]
  },
  {
   "cell_type": "markdown",
   "metadata": {},
   "source": [
    "## remote dataset fields and metrics OK"
   ]
  },
  {
   "cell_type": "code",
   "execution_count": 98,
   "metadata": {},
   "outputs": [
    {
     "name": "stdout",
     "output_type": "stream",
     "text": [
      "self.metrics ['information_theory']\n",
      "self.fields ['text', 'text2']\n",
      "forallfields:before:fields None\n",
      "forallfields: after:fields ['text', 'text2']\n",
      "forsinglefield:self.metrics ['information_theory']\n",
      "forsinglefield:field_metrics               text   entropy  perplexity  per_word_perplexity\n",
      "0  This is a test.  0.280120    1.323289             0.264658\n",
      "1           This i  0.016005    1.016133             0.508067\n",
      "2   You went there  0.027561    1.027945             0.342648\n",
      "forsinglefield:nan_columns []\n",
      "forsinglefield:self.metrics ['information_theory']\n",
      "forsinglefield:field_metrics                                                 text   entropy  perplexity  \\\n",
      "0  This is a test. You wanna sing,sing if is your...  0.634320    1.885739   \n",
      "1                                        your house.  0.164152    1.178393   \n",
      "2  This thing is tooo shrt, i should write it lon...  0.421429    1.524138   \n",
      "\n",
      "   per_word_perplexity  \n",
      "0             0.125716  \n",
      "1             0.392798  \n",
      "2             0.095259  \n",
      "forsinglefield:nan_columns []\n",
      "forallfields:field_metrics.items\n",
      "Field: text, Metrics:    text_entropy  text_perplexity  text_per_word_perplexity\n",
      "0      0.280120         1.323289                  0.264658\n",
      "1      0.016005         1.016133                  0.508067\n",
      "2      0.027561         1.027945                  0.342648\n",
      "Field: text2, Metrics:    text2_entropy  text2_perplexity  text2_per_word_perplexity\n",
      "0       0.634320          1.885739                   0.125716\n",
      "1       0.164152          1.178393                   0.392798\n",
      "2       0.421429          1.524138                   0.095259\n",
      "2\n",
      "dtype float64\n",
      "[FloatMetadataProperty(name='text_entropy', title='Text Entropy', visible_for_annotators=True, type='float', min=None, max=None)]\n",
      "dtype float64\n",
      "[FloatMetadataProperty(name='text_entropy', title='Text Entropy', visible_for_annotators=True, type='float', min=None, max=None), FloatMetadataProperty(name='text_perplexity', title='Text Perplexity', visible_for_annotators=True, type='float', min=None, max=None)]\n",
      "dtype float64\n",
      "[FloatMetadataProperty(name='text_entropy', title='Text Entropy', visible_for_annotators=True, type='float', min=None, max=None), FloatMetadataProperty(name='text_perplexity', title='Text Perplexity', visible_for_annotators=True, type='float', min=None, max=None), FloatMetadataProperty(name='text_per_word_perplexity', title='Text Per Word Perplexity', visible_for_annotators=True, type='float', min=None, max=None)]\n",
      "dtype float64\n",
      "[FloatMetadataProperty(name='text_entropy', title='Text Entropy', visible_for_annotators=True, type='float', min=None, max=None), FloatMetadataProperty(name='text_perplexity', title='Text Perplexity', visible_for_annotators=True, type='float', min=None, max=None), FloatMetadataProperty(name='text_per_word_perplexity', title='Text Per Word Perplexity', visible_for_annotators=True, type='float', min=None, max=None), FloatMetadataProperty(name='text2_entropy', title='Text2 Entropy', visible_for_annotators=True, type='float', min=None, max=None)]\n",
      "dtype float64\n",
      "[FloatMetadataProperty(name='text_entropy', title='Text Entropy', visible_for_annotators=True, type='float', min=None, max=None), FloatMetadataProperty(name='text_perplexity', title='Text Perplexity', visible_for_annotators=True, type='float', min=None, max=None), FloatMetadataProperty(name='text_per_word_perplexity', title='Text Per Word Perplexity', visible_for_annotators=True, type='float', min=None, max=None), FloatMetadataProperty(name='text2_entropy', title='Text2 Entropy', visible_for_annotators=True, type='float', min=None, max=None), FloatMetadataProperty(name='text2_perplexity', title='Text2 Perplexity', visible_for_annotators=True, type='float', min=None, max=None)]\n",
      "dtype float64\n",
      "[FloatMetadataProperty(name='text_entropy', title='Text Entropy', visible_for_annotators=True, type='float', min=None, max=None), FloatMetadataProperty(name='text_perplexity', title='Text Perplexity', visible_for_annotators=True, type='float', min=None, max=None), FloatMetadataProperty(name='text_per_word_perplexity', title='Text Per Word Perplexity', visible_for_annotators=True, type='float', min=None, max=None), FloatMetadataProperty(name='text2_entropy', title='Text2 Entropy', visible_for_annotators=True, type='float', min=None, max=None), FloatMetadataProperty(name='text2_perplexity', title='Text2 Perplexity', visible_for_annotators=True, type='float', min=None, max=None), FloatMetadataProperty(name='text2_per_word_perplexity', title='Text2 Per Word Perplexity', visible_for_annotators=True, type='float', min=None, max=None)]\n"
     ]
    },
    {
     "data": {
      "application/vnd.jupyter.widget-view+json": {
       "model_id": "8c266581461540f7958e9bc09c49f063",
       "version_major": 2,
       "version_minor": 0
      },
      "text/plain": [
       "Output()"
      ]
     },
     "metadata": {},
     "output_type": "display_data"
    },
    {
     "data": {
      "text/html": [
       "<pre style=\"white-space:pre;overflow-x:auto;line-height:normal;font-family:Menlo,'DejaVu Sans Mono',consolas,'Courier New',monospace\"></pre>\n"
      ],
      "text/plain": []
     },
     "metadata": {},
     "output_type": "display_data"
    },
    {
     "data": {
      "text/html": [
       "<pre style=\"white-space:pre;overflow-x:auto;line-height:normal;font-family:Menlo,'DejaVu Sans Mono',consolas,'Courier New',monospace\">\n",
       "</pre>\n"
      ],
      "text/plain": [
       "\n"
      ]
     },
     "metadata": {},
     "output_type": "display_data"
    },
    {
     "data": {
      "application/vnd.jupyter.widget-view+json": {
       "model_id": "d372825840fe4b78ab8f341a61acf053",
       "version_major": 2,
       "version_minor": 0
      },
      "text/plain": [
       "Output()"
      ]
     },
     "metadata": {},
     "output_type": "display_data"
    },
    {
     "data": {
      "text/html": [
       "<pre style=\"white-space:pre;overflow-x:auto;line-height:normal;font-family:Menlo,'DejaVu Sans Mono',consolas,'Courier New',monospace\"></pre>\n"
      ],
      "text/plain": []
     },
     "metadata": {},
     "output_type": "display_data"
    },
    {
     "data": {
      "text/html": [
       "<pre style=\"white-space:pre;overflow-x:auto;line-height:normal;font-family:Menlo,'DejaVu Sans Mono',consolas,'Courier New',monospace\">\n",
       "</pre>\n"
      ],
      "text/plain": [
       "\n"
      ]
     },
     "metadata": {},
     "output_type": "display_data"
    }
   ],
   "source": [
    "tde = TextDescriptivesExtractor(fields=[\"text\", \"text2\"], metrics=[\"coherence\"])\n",
    "updated_remote_ds = tde.update_dataset(remote_ds)"
   ]
  },
  {
   "cell_type": "code",
   "execution_count": 99,
   "metadata": {},
   "outputs": [
    {
     "data": {
      "text/plain": [
       "RemoteFeedbackDataset(\n",
       "   id=6f750694-0841-4dd5-9b55-050789ec5acf\n",
       "   name=basic_one\n",
       "   workspace=Workspace(id=507a6ccf-f7e0-40e9-9384-5c8840abb505, name=argilla, inserted_at=2023-12-12 14:04:58.940990, updated_at=2023-12-12 14:04:58.940990)\n",
       "   url=http://localhost:6900/dataset/6f750694-0841-4dd5-9b55-050789ec5acf/annotation-mode\n",
       "   fields=[RemoteTextField(id=UUID('012b6e6d-1991-411f-a969-ef8e5694201d'), client=None, name='text', title='Text', required=True, type='text', use_markdown=False), RemoteTextField(id=UUID('3270e5db-d3c9-4c43-8d37-1dfe0643ad61'), client=None, name='text2', title='Text2', required=True, type='text', use_markdown=False), RemoteTextField(id=UUID('cdee2612-b143-4ec0-a0f6-4f02ded3ee19'), client=None, name='text3', title='Text3', required=True, type='text', use_markdown=False)]\n",
       "   questions=[RemoteRatingQuestion(id=UUID('c8d7aa50-bb21-45a1-86b1-5ff4e5da6b1b'), client=None, name='answer_quality', title='Answer_quality', description=None, required=True, type='rating', values=[1, 2, 3, 4, 5])]\n",
       "   guidelines=None\n",
       "   metadata_properties=[RemoteFloatMetadataProperty(id=UUID('62420c8b-ec04-45f3-8a1e-fbfdf2a9728e'), client=<httpx.Client object at 0x0000021D00217880>, name='text_entropy', title='Text Entropy', visible_for_annotators=True, type='float', min=None, max=None), RemoteFloatMetadataProperty(id=UUID('0a777e4a-e3ee-4a30-826d-d739db1b6483'), client=<httpx.Client object at 0x0000021D00217880>, name='text_perplexity', title='Text Perplexity', visible_for_annotators=True, type='float', min=None, max=None), RemoteFloatMetadataProperty(id=UUID('7461b80b-8518-4c31-8133-5004bbc8863d'), client=<httpx.Client object at 0x0000021D00217880>, name='text_per_word_perplexity', title='Text Per Word Perplexity', visible_for_annotators=True, type='float', min=None, max=None), RemoteFloatMetadataProperty(id=UUID('f5b8af6e-4da4-4993-98c2-8a468f4318b9'), client=<httpx.Client object at 0x0000021D00217880>, name='text2_entropy', title='Text2 Entropy', visible_for_annotators=True, type='float', min=None, max=None), RemoteFloatMetadataProperty(id=UUID('1ea9cb5f-0362-4209-9d1c-0dff01b67ca2'), client=<httpx.Client object at 0x0000021D00217880>, name='text2_perplexity', title='Text2 Perplexity', visible_for_annotators=True, type='float', min=None, max=None), RemoteFloatMetadataProperty(id=UUID('e03d4b86-d07a-4922-b2f6-3edfa10f2870'), client=<httpx.Client object at 0x0000021D00217880>, name='text2_per_word_perplexity', title='Text2 Per Word Perplexity', visible_for_annotators=True, type='float', min=None, max=None)]\n",
       ")"
      ]
     },
     "execution_count": 99,
     "metadata": {},
     "output_type": "execute_result"
    }
   ],
   "source": [
    "remote_ds"
   ]
  },
  {
   "cell_type": "markdown",
   "metadata": {},
   "source": [
    "## check NAN values"
   ]
  },
  {
   "cell_type": "code",
   "execution_count": 18,
   "metadata": {},
   "outputs": [
    {
     "name": "stderr",
     "output_type": "stream",
     "text": [
      "C:\\Users\\sarah\\Documents\\argilla\\src\\argilla\\client\\feedback\\schemas\\questions.py:184: UserWarning: `visible_labels=20` is greater than the total number of labels (7), so it will be set to `7`.\n",
      "  warnings.warn(\n",
      "Parsing records: 100%|██████████| 100/100 [00:00<00:00, 222.31it/s]\n"
     ]
    }
   ],
   "source": [
    "dataset = rg.FeedbackDataset.from_huggingface(\"argilla/oasst_response_quality\", split=\"train[:100]\")"
   ]
  },
  {
   "cell_type": "code",
   "execution_count": 19,
   "metadata": {},
   "outputs": [
    {
     "data": {
      "application/vnd.jupyter.widget-view+json": {
       "model_id": "710310783f134021a0d086049f66a725",
       "version_major": 2,
       "version_minor": 0
      },
      "text/plain": [
       "Output()"
      ]
     },
     "metadata": {},
     "output_type": "display_data"
    },
    {
     "data": {
      "text/html": [
       "<pre style=\"white-space:pre;overflow-x:auto;line-height:normal;font-family:Menlo,'DejaVu Sans Mono',consolas,'Courier New',monospace\"></pre>\n"
      ],
      "text/plain": []
     },
     "metadata": {},
     "output_type": "display_data"
    },
    {
     "data": {
      "text/html": [
       "<pre style=\"white-space:pre;overflow-x:auto;line-height:normal;font-family:Menlo,'DejaVu Sans Mono',consolas,'Courier New',monospace\">\n",
       "</pre>\n"
      ],
      "text/plain": [
       "\n"
      ]
     },
     "metadata": {},
     "output_type": "display_data"
    },
    {
     "data": {
      "text/html": [
       "<pre style=\"white-space:pre;overflow-x:auto;line-height:normal;font-family:Menlo,'DejaVu Sans Mono',consolas,'Courier New',monospace\"><span style=\"color: #7fbfbf; text-decoration-color: #7fbfbf\">[12/14/23 13:32:49] </span><span style=\"color: #000080; text-decoration-color: #000080\">INFO    </span> INFO:argilla.client.feedback.dataset.local.mixins:✓ Dataset succesfully  <a href=\"file://C:\\Users\\sarah\\Documents\\argilla\\src\\argilla\\client\\feedback\\dataset\\local\\mixins.py\" target=\"_blank\"><span style=\"color: #7f7f7f; text-decoration-color: #7f7f7f\">mixins.py</span></a><span style=\"color: #7f7f7f; text-decoration-color: #7f7f7f\">:</span><a href=\"file://C:\\Users\\sarah\\Documents\\argilla\\src\\argilla\\client\\feedback\\dataset\\local\\mixins.py#281\" target=\"_blank\"><span style=\"color: #7f7f7f; text-decoration-color: #7f7f7f\">281</span></a>\n",
       "<span style=\"color: #7fbfbf; text-decoration-color: #7fbfbf\">                    </span>         pushed to Argilla                                                        <span style=\"color: #7f7f7f; text-decoration-color: #7f7f7f\">             </span>\n",
       "</pre>\n"
      ],
      "text/plain": [
       "\u001b[2;36m[12/14/23 13:32:49]\u001b[0m\u001b[2;36m \u001b[0m\u001b[34mINFO    \u001b[0m INFO:argilla.client.feedback.dataset.local.mixins:✓ Dataset succesfully  \u001b]8;id=588573;file://C:\\Users\\sarah\\Documents\\argilla\\src\\argilla\\client\\feedback\\dataset\\local\\mixins.py\u001b\\\u001b[2mmixins.py\u001b[0m\u001b]8;;\u001b\\\u001b[2m:\u001b[0m\u001b]8;id=835591;file://C:\\Users\\sarah\\Documents\\argilla\\src\\argilla\\client\\feedback\\dataset\\local\\mixins.py#281\u001b\\\u001b[2m281\u001b[0m\u001b]8;;\u001b\\\n",
       "\u001b[2;36m                    \u001b[0m         pushed to Argilla                                                        \u001b[2m             \u001b[0m\n"
      ]
     },
     "metadata": {},
     "output_type": "display_data"
    },
    {
     "data": {
      "text/html": [
       "<pre style=\"white-space:pre;overflow-x:auto;line-height:normal;font-family:Menlo,'DejaVu Sans Mono',consolas,'Courier New',monospace\"><span style=\"color: #7fbfbf; text-decoration-color: #7fbfbf\">                    </span><span style=\"color: #000080; text-decoration-color: #000080\">INFO    </span> INFO:argilla.client.feedback.dataset.local.mixins:<span style=\"color: #800080; text-decoration-color: #800080; font-weight: bold\">RemoteFeedbackDataset</span><span style=\"font-weight: bold\">(</span> <a href=\"file://C:\\Users\\sarah\\Documents\\argilla\\src\\argilla\\client\\feedback\\dataset\\local\\mixins.py\" target=\"_blank\"><span style=\"color: #7f7f7f; text-decoration-color: #7f7f7f\">mixins.py</span></a><span style=\"color: #7f7f7f; text-decoration-color: #7f7f7f\">:</span><a href=\"file://C:\\Users\\sarah\\Documents\\argilla\\src\\argilla\\client\\feedback\\dataset\\local\\mixins.py#282\" target=\"_blank\"><span style=\"color: #7f7f7f; text-decoration-color: #7f7f7f\">282</span></a>\n",
       "<span style=\"color: #7fbfbf; text-decoration-color: #7fbfbf\">                    </span>            <span style=\"color: #808000; text-decoration-color: #808000\">id</span>=<span style=\"color: #ffff00; text-decoration-color: #ffff00\">abf35419</span><span style=\"color: #ffff00; text-decoration-color: #ffff00\">-92c6-432d-a645-5cfac5e28a7c</span>                               <span style=\"color: #7f7f7f; text-decoration-color: #7f7f7f\">             </span>\n",
       "<span style=\"color: #7fbfbf; text-decoration-color: #7fbfbf\">                    </span>            <span style=\"color: #808000; text-decoration-color: #808000\">name</span>=<span style=\"color: #800080; text-decoration-color: #800080\">oasst_response_quality</span>                                           <span style=\"color: #7f7f7f; text-decoration-color: #7f7f7f\">             </span>\n",
       "<span style=\"color: #7fbfbf; text-decoration-color: #7fbfbf\">                    </span>            <span style=\"color: #808000; text-decoration-color: #808000\">workspace</span>=<span style=\"color: #800080; text-decoration-color: #800080; font-weight: bold\">Workspace</span><span style=\"font-weight: bold\">(</span><span style=\"color: #808000; text-decoration-color: #808000\">id</span>=<span style=\"color: #ffff00; text-decoration-color: #ffff00\">507a6ccf</span><span style=\"color: #ffff00; text-decoration-color: #ffff00\">-f7e0-40e9-9384-5c8840abb505</span>,          <span style=\"color: #7f7f7f; text-decoration-color: #7f7f7f\">             </span>\n",
       "<span style=\"color: #7fbfbf; text-decoration-color: #7fbfbf\">                    </span>         <span style=\"color: #808000; text-decoration-color: #808000\">name</span>=<span style=\"color: #800080; text-decoration-color: #800080\">argilla</span>, <span style=\"color: #808000; text-decoration-color: #808000\">inserted_at</span>=<span style=\"color: #008080; text-decoration-color: #008080; font-weight: bold\">2023</span>-<span style=\"color: #008080; text-decoration-color: #008080; font-weight: bold\">12</span>-<span style=\"color: #008080; text-decoration-color: #008080; font-weight: bold\">12</span> <span style=\"color: #00ff00; text-decoration-color: #00ff00; font-weight: bold\">14:04:58</span>.<span style=\"color: #008080; text-decoration-color: #008080; font-weight: bold\">940990</span>,                    <span style=\"color: #7f7f7f; text-decoration-color: #7f7f7f\">             </span>\n",
       "<span style=\"color: #7fbfbf; text-decoration-color: #7fbfbf\">                    </span>         <span style=\"color: #808000; text-decoration-color: #808000\">updated_at</span>=<span style=\"color: #008080; text-decoration-color: #008080; font-weight: bold\">2023</span>-<span style=\"color: #008080; text-decoration-color: #008080; font-weight: bold\">12</span>-<span style=\"color: #008080; text-decoration-color: #008080; font-weight: bold\">12</span> <span style=\"color: #00ff00; text-decoration-color: #00ff00; font-weight: bold\">14:04:58</span>.<span style=\"color: #008080; text-decoration-color: #008080; font-weight: bold\">940990</span><span style=\"font-weight: bold\">)</span>                                   <span style=\"color: #7f7f7f; text-decoration-color: #7f7f7f\">             </span>\n",
       "<span style=\"color: #7fbfbf; text-decoration-color: #7fbfbf\">                    </span>            <span style=\"color: #808000; text-decoration-color: #808000\">url</span>=<span style=\"color: #0000ff; text-decoration-color: #0000ff; text-decoration: underline\">http://localhost:6900/dataset/abf35419-92c6-432d-a645-5cfac5e28a7</span> <span style=\"color: #7f7f7f; text-decoration-color: #7f7f7f\">             </span>\n",
       "<span style=\"color: #7fbfbf; text-decoration-color: #7fbfbf\">                    </span>         <span style=\"color: #0000ff; text-decoration-color: #0000ff; text-decoration: underline\">c/annotation-mode</span>                                                        <span style=\"color: #7f7f7f; text-decoration-color: #7f7f7f\">             </span>\n",
       "<span style=\"color: #7fbfbf; text-decoration-color: #7fbfbf\">                    </span>            <span style=\"color: #808000; text-decoration-color: #808000\">fields</span>=<span style=\"font-weight: bold\">[</span><span style=\"color: #800080; text-decoration-color: #800080; font-weight: bold\">RemoteTextField</span><span style=\"font-weight: bold\">(</span><span style=\"color: #808000; text-decoration-color: #808000\">id</span>=<span style=\"color: #800080; text-decoration-color: #800080; font-weight: bold\">UUID</span><span style=\"font-weight: bold\">(</span><span style=\"color: #008000; text-decoration-color: #008000\">'9bfc02b3-de96-44b2-a37a-049fd1ddde3e</span> <span style=\"color: #7f7f7f; text-decoration-color: #7f7f7f\">             </span>\n",
       "<span style=\"color: #7fbfbf; text-decoration-color: #7fbfbf\">                    </span>         <span style=\"color: #008000; text-decoration-color: #008000\">'</span><span style=\"font-weight: bold\">)</span>, <span style=\"color: #808000; text-decoration-color: #808000\">client</span>=<span style=\"color: #800080; text-decoration-color: #800080; font-style: italic\">None</span>, <span style=\"color: #808000; text-decoration-color: #808000\">name</span>=<span style=\"color: #008000; text-decoration-color: #008000\">'prompt'</span>, <span style=\"color: #808000; text-decoration-color: #808000\">title</span>=<span style=\"color: #008000; text-decoration-color: #008000\">'Prompt'</span>, <span style=\"color: #808000; text-decoration-color: #808000\">required</span>=<span style=\"color: #00ff00; text-decoration-color: #00ff00; font-style: italic\">True</span>,           <span style=\"color: #7f7f7f; text-decoration-color: #7f7f7f\">             </span>\n",
       "<span style=\"color: #7fbfbf; text-decoration-color: #7fbfbf\">                    </span>         <span style=\"color: #808000; text-decoration-color: #808000\">type</span>=<span style=\"color: #008000; text-decoration-color: #008000\">'text'</span>, <span style=\"color: #808000; text-decoration-color: #808000\">use_markdown</span>=<span style=\"color: #00ff00; text-decoration-color: #00ff00; font-style: italic\">True</span><span style=\"font-weight: bold\">)</span>,                                         <span style=\"color: #7f7f7f; text-decoration-color: #7f7f7f\">             </span>\n",
       "<span style=\"color: #7fbfbf; text-decoration-color: #7fbfbf\">                    </span>         <span style=\"color: #800080; text-decoration-color: #800080; font-weight: bold\">RemoteTextField</span><span style=\"font-weight: bold\">(</span><span style=\"color: #808000; text-decoration-color: #808000\">id</span>=<span style=\"color: #800080; text-decoration-color: #800080; font-weight: bold\">UUID</span><span style=\"font-weight: bold\">(</span><span style=\"color: #008000; text-decoration-color: #008000\">'0545b56f-c59d-4bfa-bc97-684326fae42a'</span><span style=\"font-weight: bold\">)</span>,         <span style=\"color: #7f7f7f; text-decoration-color: #7f7f7f\">             </span>\n",
       "<span style=\"color: #7fbfbf; text-decoration-color: #7fbfbf\">                    </span>         <span style=\"color: #808000; text-decoration-color: #808000\">client</span>=<span style=\"color: #800080; text-decoration-color: #800080; font-style: italic\">None</span>, <span style=\"color: #808000; text-decoration-color: #808000\">name</span>=<span style=\"color: #008000; text-decoration-color: #008000\">'response'</span>, <span style=\"color: #808000; text-decoration-color: #808000\">title</span>=<span style=\"color: #008000; text-decoration-color: #008000\">'Response'</span>, <span style=\"color: #808000; text-decoration-color: #808000\">required</span>=<span style=\"color: #00ff00; text-decoration-color: #00ff00; font-style: italic\">True</span>,           <span style=\"color: #7f7f7f; text-decoration-color: #7f7f7f\">             </span>\n",
       "<span style=\"color: #7fbfbf; text-decoration-color: #7fbfbf\">                    </span>         <span style=\"color: #808000; text-decoration-color: #808000\">type</span>=<span style=\"color: #008000; text-decoration-color: #008000\">'text'</span>, <span style=\"color: #808000; text-decoration-color: #808000\">use_markdown</span>=<span style=\"color: #00ff00; text-decoration-color: #00ff00; font-style: italic\">True</span><span style=\"font-weight: bold\">)]</span>                                         <span style=\"color: #7f7f7f; text-decoration-color: #7f7f7f\">             </span>\n",
       "<span style=\"color: #7fbfbf; text-decoration-color: #7fbfbf\">                    </span>            <span style=\"color: #808000; text-decoration-color: #808000\">questions</span>=<span style=\"font-weight: bold\">[</span><span style=\"color: #800080; text-decoration-color: #800080; font-weight: bold\">RemoteLabelQuestion</span><span style=\"font-weight: bold\">(</span><span style=\"color: #808000; text-decoration-color: #808000\">id</span>=<span style=\"color: #800080; text-decoration-color: #800080; font-weight: bold\">UUID</span><span style=\"font-weight: bold\">(</span><span style=\"color: #008000; text-decoration-color: #008000\">'23860887-5eed-4076-a9f0-85f4d</span> <span style=\"color: #7f7f7f; text-decoration-color: #7f7f7f\">             </span>\n",
       "<span style=\"color: #7fbfbf; text-decoration-color: #7fbfbf\">                    </span>         <span style=\"color: #008000; text-decoration-color: #008000\">cda682f'</span><span style=\"font-weight: bold\">)</span>, <span style=\"color: #808000; text-decoration-color: #808000\">client</span>=<span style=\"color: #800080; text-decoration-color: #800080; font-style: italic\">None</span>, <span style=\"color: #808000; text-decoration-color: #808000\">name</span>=<span style=\"color: #008000; text-decoration-color: #008000\">'relevant'</span>, <span style=\"color: #808000; text-decoration-color: #808000\">title</span>=<span style=\"color: #008000; text-decoration-color: #008000\">'Is the response relevant</span> <span style=\"color: #7f7f7f; text-decoration-color: #7f7f7f\">             </span>\n",
       "<span style=\"color: #7fbfbf; text-decoration-color: #7fbfbf\">                    </span>         <span style=\"color: #008000; text-decoration-color: #008000\">for the given prompt?'</span>, <span style=\"color: #808000; text-decoration-color: #808000\">description</span>=<span style=\"color: #800080; text-decoration-color: #800080; font-style: italic\">None</span>, <span style=\"color: #808000; text-decoration-color: #808000\">required</span>=<span style=\"color: #00ff00; text-decoration-color: #00ff00; font-style: italic\">True</span>,                 <span style=\"color: #7f7f7f; text-decoration-color: #7f7f7f\">             </span>\n",
       "<span style=\"color: #7fbfbf; text-decoration-color: #7fbfbf\">                    </span>         <span style=\"color: #808000; text-decoration-color: #808000\">type</span>=<span style=\"color: #008000; text-decoration-color: #008000\">'label_selection'</span>, <span style=\"color: #808000; text-decoration-color: #808000\">labels</span>=<span style=\"font-weight: bold\">[</span><span style=\"color: #008000; text-decoration-color: #008000\">'Yes'</span>, <span style=\"color: #008000; text-decoration-color: #008000\">'No'</span><span style=\"font-weight: bold\">]</span>, <span style=\"color: #808000; text-decoration-color: #808000\">visible_labels</span>=<span style=\"color: #800080; text-decoration-color: #800080; font-style: italic\">None</span><span style=\"font-weight: bold\">)</span>,      <span style=\"color: #7f7f7f; text-decoration-color: #7f7f7f\">             </span>\n",
       "<span style=\"color: #7fbfbf; text-decoration-color: #7fbfbf\">                    </span>         <span style=\"color: #800080; text-decoration-color: #800080; font-weight: bold\">RemoteMultiLabelQuestion</span><span style=\"font-weight: bold\">(</span><span style=\"color: #808000; text-decoration-color: #808000\">id</span>=<span style=\"color: #800080; text-decoration-color: #800080; font-weight: bold\">UUID</span><span style=\"font-weight: bold\">(</span><span style=\"color: #008000; text-decoration-color: #008000\">'711ac974-d051-4097-a433-705d68c5131e'</span><span style=\"font-weight: bold\">)</span> <span style=\"color: #7f7f7f; text-decoration-color: #7f7f7f\">             </span>\n",
       "<span style=\"color: #7fbfbf; text-decoration-color: #7fbfbf\">                    </span>         , <span style=\"color: #808000; text-decoration-color: #808000\">client</span>=<span style=\"color: #800080; text-decoration-color: #800080; font-style: italic\">None</span>, <span style=\"color: #808000; text-decoration-color: #808000\">name</span>=<span style=\"color: #008000; text-decoration-color: #008000\">'content_class'</span>, <span style=\"color: #808000; text-decoration-color: #808000\">title</span>=<span style=\"color: #008000; text-decoration-color: #008000\">'Does the response include </span>   <span style=\"color: #7f7f7f; text-decoration-color: #7f7f7f\">             </span>\n",
       "<span style=\"color: #7fbfbf; text-decoration-color: #7fbfbf\">                    </span>         <span style=\"color: #008000; text-decoration-color: #008000\">any of the following?'</span>, <span style=\"color: #808000; text-decoration-color: #808000\">description</span>=<span style=\"color: #800080; text-decoration-color: #800080; font-style: italic\">None</span>, <span style=\"color: #808000; text-decoration-color: #808000\">required</span>=<span style=\"color: #ff0000; text-decoration-color: #ff0000; font-style: italic\">False</span>,                <span style=\"color: #7f7f7f; text-decoration-color: #7f7f7f\">             </span>\n",
       "<span style=\"color: #7fbfbf; text-decoration-color: #7fbfbf\">                    </span>         <span style=\"color: #808000; text-decoration-color: #808000\">type</span>=<span style=\"color: #008000; text-decoration-color: #008000\">'multi_label_selection'</span>, <span style=\"color: #808000; text-decoration-color: #808000\">labels</span>=<span style=\"font-weight: bold\">{</span><span style=\"color: #008000; text-decoration-color: #008000\">'hate'</span>: <span style=\"color: #008000; text-decoration-color: #008000\">'Hate Speech'</span>,             <span style=\"color: #7f7f7f; text-decoration-color: #7f7f7f\">             </span>\n",
       "<span style=\"color: #7fbfbf; text-decoration-color: #7fbfbf\">                    </span>         <span style=\"color: #008000; text-decoration-color: #008000\">'inappropriate'</span>: <span style=\"color: #008000; text-decoration-color: #008000\">'Inappropriate content'</span>, <span style=\"color: #008000; text-decoration-color: #008000\">'not_english'</span>: <span style=\"color: #008000; text-decoration-color: #008000\">'Not English'</span>,  <span style=\"color: #7f7f7f; text-decoration-color: #7f7f7f\">             </span>\n",
       "<span style=\"color: #7fbfbf; text-decoration-color: #7fbfbf\">                    </span>         <span style=\"color: #008000; text-decoration-color: #008000\">'pii'</span>: <span style=\"color: #008000; text-decoration-color: #008000\">'Personal information'</span>, <span style=\"color: #008000; text-decoration-color: #008000\">'sexual'</span>: <span style=\"color: #008000; text-decoration-color: #008000\">'Sexual content'</span>, <span style=\"color: #008000; text-decoration-color: #008000\">'untruthful'</span>: <span style=\"color: #7f7f7f; text-decoration-color: #7f7f7f\">             </span>\n",
       "<span style=\"color: #7fbfbf; text-decoration-color: #7fbfbf\">                    </span>         <span style=\"color: #008000; text-decoration-color: #008000\">'Untruthful info'</span>, <span style=\"color: #008000; text-decoration-color: #008000\">'violent'</span>: <span style=\"color: #008000; text-decoration-color: #008000\">'Violent content'</span><span style=\"font-weight: bold\">}</span>, <span style=\"color: #808000; text-decoration-color: #808000\">visible_labels</span>=<span style=\"color: #008080; text-decoration-color: #008080; font-weight: bold\">7</span><span style=\"font-weight: bold\">)</span>,     <span style=\"color: #7f7f7f; text-decoration-color: #7f7f7f\">             </span>\n",
       "<span style=\"color: #7fbfbf; text-decoration-color: #7fbfbf\">                    </span>         <span style=\"color: #800080; text-decoration-color: #800080; font-weight: bold\">RemoteRatingQuestion</span><span style=\"font-weight: bold\">(</span><span style=\"color: #808000; text-decoration-color: #808000\">id</span>=<span style=\"color: #800080; text-decoration-color: #800080; font-weight: bold\">UUID</span><span style=\"font-weight: bold\">(</span><span style=\"color: #008000; text-decoration-color: #008000\">'e8a8ddbf-29f1-4f1f-905b-a2491dac17ce'</span><span style=\"font-weight: bold\">)</span>,    <span style=\"color: #7f7f7f; text-decoration-color: #7f7f7f\">             </span>\n",
       "<span style=\"color: #7fbfbf; text-decoration-color: #7fbfbf\">                    </span>         <span style=\"color: #808000; text-decoration-color: #808000\">client</span>=<span style=\"color: #800080; text-decoration-color: #800080; font-style: italic\">None</span>, <span style=\"color: #808000; text-decoration-color: #808000\">name</span>=<span style=\"color: #008000; text-decoration-color: #008000\">'rating'</span>, <span style=\"color: #808000; text-decoration-color: #808000\">title</span>=<span style=\"color: #008000; text-decoration-color: #008000\">'Rate the quality of the response:'</span>,   <span style=\"color: #7f7f7f; text-decoration-color: #7f7f7f\">             </span>\n",
       "<span style=\"color: #7fbfbf; text-decoration-color: #7fbfbf\">                    </span>         <span style=\"color: #808000; text-decoration-color: #808000\">description</span>=<span style=\"color: #800080; text-decoration-color: #800080; font-style: italic\">None</span>, <span style=\"color: #808000; text-decoration-color: #808000\">required</span>=<span style=\"color: #00ff00; text-decoration-color: #00ff00; font-style: italic\">True</span>, <span style=\"color: #808000; text-decoration-color: #808000\">type</span>=<span style=\"color: #008000; text-decoration-color: #008000\">'rating'</span>, <span style=\"color: #808000; text-decoration-color: #808000\">values</span>=<span style=\"font-weight: bold\">[</span><span style=\"color: #008080; text-decoration-color: #008080; font-weight: bold\">1</span>, <span style=\"color: #008080; text-decoration-color: #008080; font-weight: bold\">2</span>, <span style=\"color: #008080; text-decoration-color: #008080; font-weight: bold\">3</span>, <span style=\"color: #008080; text-decoration-color: #008080; font-weight: bold\">4</span>, <span style=\"color: #008080; text-decoration-color: #008080; font-weight: bold\">5</span>,   <span style=\"color: #7f7f7f; text-decoration-color: #7f7f7f\">             </span>\n",
       "<span style=\"color: #7fbfbf; text-decoration-color: #7fbfbf\">                    </span>         <span style=\"color: #008080; text-decoration-color: #008080; font-weight: bold\">6</span>, <span style=\"color: #008080; text-decoration-color: #008080; font-weight: bold\">7</span>, <span style=\"color: #008080; text-decoration-color: #008080; font-weight: bold\">8</span>, <span style=\"color: #008080; text-decoration-color: #008080; font-weight: bold\">9</span>, <span style=\"color: #008080; text-decoration-color: #008080; font-weight: bold\">10</span><span style=\"font-weight: bold\">])</span>,                                                        <span style=\"color: #7f7f7f; text-decoration-color: #7f7f7f\">             </span>\n",
       "<span style=\"color: #7fbfbf; text-decoration-color: #7fbfbf\">                    </span>         <span style=\"color: #800080; text-decoration-color: #800080; font-weight: bold\">RemoteTextQuestion</span><span style=\"font-weight: bold\">(</span><span style=\"color: #808000; text-decoration-color: #808000\">id</span>=<span style=\"color: #800080; text-decoration-color: #800080; font-weight: bold\">UUID</span><span style=\"font-weight: bold\">(</span><span style=\"color: #008000; text-decoration-color: #008000\">'bb023cd7-9bd7-4507-a09d-b6d840461493'</span><span style=\"font-weight: bold\">)</span>,      <span style=\"color: #7f7f7f; text-decoration-color: #7f7f7f\">             </span>\n",
       "<span style=\"color: #7fbfbf; text-decoration-color: #7fbfbf\">                    </span>         <span style=\"color: #808000; text-decoration-color: #808000\">client</span>=<span style=\"color: #800080; text-decoration-color: #800080; font-style: italic\">None</span>, <span style=\"color: #808000; text-decoration-color: #808000\">name</span>=<span style=\"color: #008000; text-decoration-color: #008000\">'corrected-text'</span>, <span style=\"color: #808000; text-decoration-color: #808000\">title</span>=<span style=\"color: #008000; text-decoration-color: #008000\">'Provide a correction to the </span>  <span style=\"color: #7f7f7f; text-decoration-color: #7f7f7f\">             </span>\n",
       "<span style=\"color: #7fbfbf; text-decoration-color: #7fbfbf\">                    </span>         <span style=\"color: #008000; text-decoration-color: #008000\">response:'</span>, <span style=\"color: #808000; text-decoration-color: #808000\">description</span>=<span style=\"color: #800080; text-decoration-color: #800080; font-style: italic\">None</span>, <span style=\"color: #808000; text-decoration-color: #808000\">required</span>=<span style=\"color: #ff0000; text-decoration-color: #ff0000; font-style: italic\">False</span>, <span style=\"color: #808000; text-decoration-color: #808000\">type</span>=<span style=\"color: #008000; text-decoration-color: #008000\">'text'</span>,               <span style=\"color: #7f7f7f; text-decoration-color: #7f7f7f\">             </span>\n",
       "<span style=\"color: #7fbfbf; text-decoration-color: #7fbfbf\">                    </span>         <span style=\"color: #808000; text-decoration-color: #808000\">use_markdown</span>=<span style=\"color: #00ff00; text-decoration-color: #00ff00; font-style: italic\">True</span><span style=\"font-weight: bold\">)]</span>                                                      <span style=\"color: #7f7f7f; text-decoration-color: #7f7f7f\">             </span>\n",
       "<span style=\"color: #7fbfbf; text-decoration-color: #7fbfbf\">                    </span>            <span style=\"color: #808000; text-decoration-color: #808000\">guidelines</span>=<span style=\"color: #800080; text-decoration-color: #800080\">Answer</span> the questions to assess the quality of the response <span style=\"color: #7f7f7f; text-decoration-color: #7f7f7f\">             </span>\n",
       "<span style=\"color: #7fbfbf; text-decoration-color: #7fbfbf\">                    </span>         given by the chat assistant.                                             <span style=\"color: #7f7f7f; text-decoration-color: #7f7f7f\">             </span>\n",
       "<span style=\"color: #7fbfbf; text-decoration-color: #7fbfbf\">                    </span>            <span style=\"color: #808000; text-decoration-color: #808000\">metadata_properties</span>=<span style=\"font-weight: bold\">[]</span>                                                <span style=\"color: #7f7f7f; text-decoration-color: #7f7f7f\">             </span>\n",
       "<span style=\"color: #7fbfbf; text-decoration-color: #7fbfbf\">                    </span>         <span style=\"font-weight: bold\">)</span>                                                                        <span style=\"color: #7f7f7f; text-decoration-color: #7f7f7f\">             </span>\n",
       "</pre>\n"
      ],
      "text/plain": [
       "\u001b[2;36m                   \u001b[0m\u001b[2;36m \u001b[0m\u001b[34mINFO    \u001b[0m INFO:argilla.client.feedback.dataset.local.mixins:\u001b[1;35mRemoteFeedbackDataset\u001b[0m\u001b[1m(\u001b[0m \u001b]8;id=783077;file://C:\\Users\\sarah\\Documents\\argilla\\src\\argilla\\client\\feedback\\dataset\\local\\mixins.py\u001b\\\u001b[2mmixins.py\u001b[0m\u001b]8;;\u001b\\\u001b[2m:\u001b[0m\u001b]8;id=575738;file://C:\\Users\\sarah\\Documents\\argilla\\src\\argilla\\client\\feedback\\dataset\\local\\mixins.py#282\u001b\\\u001b[2m282\u001b[0m\u001b]8;;\u001b\\\n",
       "\u001b[2;36m                    \u001b[0m            \u001b[33mid\u001b[0m=\u001b[93mabf35419\u001b[0m\u001b[93m-92c6-432d-a645-5cfac5e28a7c\u001b[0m                               \u001b[2m             \u001b[0m\n",
       "\u001b[2;36m                    \u001b[0m            \u001b[33mname\u001b[0m=\u001b[35moasst_response_quality\u001b[0m                                           \u001b[2m             \u001b[0m\n",
       "\u001b[2;36m                    \u001b[0m            \u001b[33mworkspace\u001b[0m=\u001b[1;35mWorkspace\u001b[0m\u001b[1m(\u001b[0m\u001b[33mid\u001b[0m=\u001b[93m507a6ccf\u001b[0m\u001b[93m-f7e0-40e9-9384-5c8840abb505\u001b[0m,          \u001b[2m             \u001b[0m\n",
       "\u001b[2;36m                    \u001b[0m         \u001b[33mname\u001b[0m=\u001b[35margilla\u001b[0m, \u001b[33minserted_at\u001b[0m=\u001b[1;36m2023\u001b[0m-\u001b[1;36m12\u001b[0m-\u001b[1;36m12\u001b[0m \u001b[1;92m14:04:58\u001b[0m.\u001b[1;36m940990\u001b[0m,                    \u001b[2m             \u001b[0m\n",
       "\u001b[2;36m                    \u001b[0m         \u001b[33mupdated_at\u001b[0m=\u001b[1;36m2023\u001b[0m-\u001b[1;36m12\u001b[0m-\u001b[1;36m12\u001b[0m \u001b[1;92m14:04:58\u001b[0m.\u001b[1;36m940990\u001b[0m\u001b[1m)\u001b[0m                                   \u001b[2m             \u001b[0m\n",
       "\u001b[2;36m                    \u001b[0m            \u001b[33murl\u001b[0m=\u001b[4;94mhttp\u001b[0m\u001b[4;94m://localhost:6900/dataset/abf35419-92c6-432d-a645-5cfac5e28a7\u001b[0m \u001b[2m             \u001b[0m\n",
       "\u001b[2;36m                    \u001b[0m         \u001b[4;94mc/annotation-mode\u001b[0m                                                        \u001b[2m             \u001b[0m\n",
       "\u001b[2;36m                    \u001b[0m            \u001b[33mfields\u001b[0m=\u001b[1m[\u001b[0m\u001b[1;35mRemoteTextField\u001b[0m\u001b[1m(\u001b[0m\u001b[33mid\u001b[0m=\u001b[1;35mUUID\u001b[0m\u001b[1m(\u001b[0m\u001b[32m'9bfc02b3-de96-44b2-a37a-049fd1ddde3e\u001b[0m \u001b[2m             \u001b[0m\n",
       "\u001b[2;36m                    \u001b[0m         \u001b[32m'\u001b[0m\u001b[1m)\u001b[0m, \u001b[33mclient\u001b[0m=\u001b[3;35mNone\u001b[0m, \u001b[33mname\u001b[0m=\u001b[32m'prompt'\u001b[0m, \u001b[33mtitle\u001b[0m=\u001b[32m'Prompt'\u001b[0m, \u001b[33mrequired\u001b[0m=\u001b[3;92mTrue\u001b[0m,           \u001b[2m             \u001b[0m\n",
       "\u001b[2;36m                    \u001b[0m         \u001b[33mtype\u001b[0m=\u001b[32m'text'\u001b[0m, \u001b[33muse_markdown\u001b[0m=\u001b[3;92mTrue\u001b[0m\u001b[1m)\u001b[0m,                                         \u001b[2m             \u001b[0m\n",
       "\u001b[2;36m                    \u001b[0m         \u001b[1;35mRemoteTextField\u001b[0m\u001b[1m(\u001b[0m\u001b[33mid\u001b[0m=\u001b[1;35mUUID\u001b[0m\u001b[1m(\u001b[0m\u001b[32m'0545b56f-c59d-4bfa-bc97-684326fae42a'\u001b[0m\u001b[1m)\u001b[0m,         \u001b[2m             \u001b[0m\n",
       "\u001b[2;36m                    \u001b[0m         \u001b[33mclient\u001b[0m=\u001b[3;35mNone\u001b[0m, \u001b[33mname\u001b[0m=\u001b[32m'response'\u001b[0m, \u001b[33mtitle\u001b[0m=\u001b[32m'Response'\u001b[0m, \u001b[33mrequired\u001b[0m=\u001b[3;92mTrue\u001b[0m,           \u001b[2m             \u001b[0m\n",
       "\u001b[2;36m                    \u001b[0m         \u001b[33mtype\u001b[0m=\u001b[32m'text'\u001b[0m, \u001b[33muse_markdown\u001b[0m=\u001b[3;92mTrue\u001b[0m\u001b[1m)\u001b[0m\u001b[1m]\u001b[0m                                         \u001b[2m             \u001b[0m\n",
       "\u001b[2;36m                    \u001b[0m            \u001b[33mquestions\u001b[0m=\u001b[1m[\u001b[0m\u001b[1;35mRemoteLabelQuestion\u001b[0m\u001b[1m(\u001b[0m\u001b[33mid\u001b[0m=\u001b[1;35mUUID\u001b[0m\u001b[1m(\u001b[0m\u001b[32m'23860887-5eed-4076-a9f0-85f4d\u001b[0m \u001b[2m             \u001b[0m\n",
       "\u001b[2;36m                    \u001b[0m         \u001b[32mcda682f'\u001b[0m\u001b[1m)\u001b[0m, \u001b[33mclient\u001b[0m=\u001b[3;35mNone\u001b[0m, \u001b[33mname\u001b[0m=\u001b[32m'relevant'\u001b[0m, \u001b[33mtitle\u001b[0m=\u001b[32m'Is the response relevant\u001b[0m \u001b[2m             \u001b[0m\n",
       "\u001b[2;36m                    \u001b[0m         \u001b[32mfor the given prompt?'\u001b[0m, \u001b[33mdescription\u001b[0m=\u001b[3;35mNone\u001b[0m, \u001b[33mrequired\u001b[0m=\u001b[3;92mTrue\u001b[0m,                 \u001b[2m             \u001b[0m\n",
       "\u001b[2;36m                    \u001b[0m         \u001b[33mtype\u001b[0m=\u001b[32m'label_selection'\u001b[0m, \u001b[33mlabels\u001b[0m=\u001b[1m[\u001b[0m\u001b[32m'Yes'\u001b[0m, \u001b[32m'No'\u001b[0m\u001b[1m]\u001b[0m, \u001b[33mvisible_labels\u001b[0m=\u001b[3;35mNone\u001b[0m\u001b[1m)\u001b[0m,      \u001b[2m             \u001b[0m\n",
       "\u001b[2;36m                    \u001b[0m         \u001b[1;35mRemoteMultiLabelQuestion\u001b[0m\u001b[1m(\u001b[0m\u001b[33mid\u001b[0m=\u001b[1;35mUUID\u001b[0m\u001b[1m(\u001b[0m\u001b[32m'711ac974-d051-4097-a433-705d68c5131e'\u001b[0m\u001b[1m)\u001b[0m \u001b[2m             \u001b[0m\n",
       "\u001b[2;36m                    \u001b[0m         , \u001b[33mclient\u001b[0m=\u001b[3;35mNone\u001b[0m, \u001b[33mname\u001b[0m=\u001b[32m'content_class'\u001b[0m, \u001b[33mtitle\u001b[0m=\u001b[32m'Does the response include \u001b[0m   \u001b[2m             \u001b[0m\n",
       "\u001b[2;36m                    \u001b[0m         \u001b[32many of the following?'\u001b[0m, \u001b[33mdescription\u001b[0m=\u001b[3;35mNone\u001b[0m, \u001b[33mrequired\u001b[0m=\u001b[3;91mFalse\u001b[0m,                \u001b[2m             \u001b[0m\n",
       "\u001b[2;36m                    \u001b[0m         \u001b[33mtype\u001b[0m=\u001b[32m'multi_label_selection'\u001b[0m, \u001b[33mlabels\u001b[0m=\u001b[1m{\u001b[0m\u001b[32m'hate'\u001b[0m: \u001b[32m'Hate Speech'\u001b[0m,             \u001b[2m             \u001b[0m\n",
       "\u001b[2;36m                    \u001b[0m         \u001b[32m'inappropriate'\u001b[0m: \u001b[32m'Inappropriate content'\u001b[0m, \u001b[32m'not_english'\u001b[0m: \u001b[32m'Not English'\u001b[0m,  \u001b[2m             \u001b[0m\n",
       "\u001b[2;36m                    \u001b[0m         \u001b[32m'pii'\u001b[0m: \u001b[32m'Personal information'\u001b[0m, \u001b[32m'sexual'\u001b[0m: \u001b[32m'Sexual content'\u001b[0m, \u001b[32m'untruthful'\u001b[0m: \u001b[2m             \u001b[0m\n",
       "\u001b[2;36m                    \u001b[0m         \u001b[32m'Untruthful info'\u001b[0m, \u001b[32m'violent'\u001b[0m: \u001b[32m'Violent content'\u001b[0m\u001b[1m}\u001b[0m, \u001b[33mvisible_labels\u001b[0m=\u001b[1;36m7\u001b[0m\u001b[1m)\u001b[0m,     \u001b[2m             \u001b[0m\n",
       "\u001b[2;36m                    \u001b[0m         \u001b[1;35mRemoteRatingQuestion\u001b[0m\u001b[1m(\u001b[0m\u001b[33mid\u001b[0m=\u001b[1;35mUUID\u001b[0m\u001b[1m(\u001b[0m\u001b[32m'e8a8ddbf-29f1-4f1f-905b-a2491dac17ce'\u001b[0m\u001b[1m)\u001b[0m,    \u001b[2m             \u001b[0m\n",
       "\u001b[2;36m                    \u001b[0m         \u001b[33mclient\u001b[0m=\u001b[3;35mNone\u001b[0m, \u001b[33mname\u001b[0m=\u001b[32m'rating'\u001b[0m, \u001b[33mtitle\u001b[0m=\u001b[32m'Rate the quality of the response:'\u001b[0m,   \u001b[2m             \u001b[0m\n",
       "\u001b[2;36m                    \u001b[0m         \u001b[33mdescription\u001b[0m=\u001b[3;35mNone\u001b[0m, \u001b[33mrequired\u001b[0m=\u001b[3;92mTrue\u001b[0m, \u001b[33mtype\u001b[0m=\u001b[32m'rating'\u001b[0m, \u001b[33mvalues\u001b[0m=\u001b[1m[\u001b[0m\u001b[1;36m1\u001b[0m, \u001b[1;36m2\u001b[0m, \u001b[1;36m3\u001b[0m, \u001b[1;36m4\u001b[0m, \u001b[1;36m5\u001b[0m,   \u001b[2m             \u001b[0m\n",
       "\u001b[2;36m                    \u001b[0m         \u001b[1;36m6\u001b[0m, \u001b[1;36m7\u001b[0m, \u001b[1;36m8\u001b[0m, \u001b[1;36m9\u001b[0m, \u001b[1;36m10\u001b[0m\u001b[1m]\u001b[0m\u001b[1m)\u001b[0m,                                                        \u001b[2m             \u001b[0m\n",
       "\u001b[2;36m                    \u001b[0m         \u001b[1;35mRemoteTextQuestion\u001b[0m\u001b[1m(\u001b[0m\u001b[33mid\u001b[0m=\u001b[1;35mUUID\u001b[0m\u001b[1m(\u001b[0m\u001b[32m'bb023cd7-9bd7-4507-a09d-b6d840461493'\u001b[0m\u001b[1m)\u001b[0m,      \u001b[2m             \u001b[0m\n",
       "\u001b[2;36m                    \u001b[0m         \u001b[33mclient\u001b[0m=\u001b[3;35mNone\u001b[0m, \u001b[33mname\u001b[0m=\u001b[32m'corrected-text'\u001b[0m, \u001b[33mtitle\u001b[0m=\u001b[32m'Provide a correction to the \u001b[0m  \u001b[2m             \u001b[0m\n",
       "\u001b[2;36m                    \u001b[0m         \u001b[32mresponse:'\u001b[0m, \u001b[33mdescription\u001b[0m=\u001b[3;35mNone\u001b[0m, \u001b[33mrequired\u001b[0m=\u001b[3;91mFalse\u001b[0m, \u001b[33mtype\u001b[0m=\u001b[32m'text'\u001b[0m,               \u001b[2m             \u001b[0m\n",
       "\u001b[2;36m                    \u001b[0m         \u001b[33muse_markdown\u001b[0m=\u001b[3;92mTrue\u001b[0m\u001b[1m)\u001b[0m\u001b[1m]\u001b[0m                                                      \u001b[2m             \u001b[0m\n",
       "\u001b[2;36m                    \u001b[0m            \u001b[33mguidelines\u001b[0m=\u001b[35mAnswer\u001b[0m the questions to assess the quality of the response \u001b[2m             \u001b[0m\n",
       "\u001b[2;36m                    \u001b[0m         given by the chat assistant.                                             \u001b[2m             \u001b[0m\n",
       "\u001b[2;36m                    \u001b[0m            \u001b[33mmetadata_properties\u001b[0m=\u001b[1m[\u001b[0m\u001b[1m]\u001b[0m                                                \u001b[2m             \u001b[0m\n",
       "\u001b[2;36m                    \u001b[0m         \u001b[1m)\u001b[0m                                                                        \u001b[2m             \u001b[0m\n"
      ]
     },
     "metadata": {},
     "output_type": "display_data"
    }
   ],
   "source": [
    "try:\n",
    "    remote_dataset = dataset.push_to_argilla(name=\"oasst_response_quality\", workspace=\"argilla\")\n",
    "except:\n",
    "    rg.FeedbackDataset.from_argilla(\"oasst_response_quality\", workspace=\"argilla\").delete()\n",
    "    remote_dataset = dataset.push_to_argilla(name=\"oasst_response_quality\", workspace=\"argilla\")"
   ]
  },
  {
   "cell_type": "code",
   "execution_count": 20,
   "metadata": {},
   "outputs": [
    {
     "name": "stdout",
     "output_type": "stream",
     "text": [
      "self.metrics ['coherence']\n",
      "self.fields None\n",
      "forallfields:before:fields None\n",
      "forallfields: after:fields ['response', 'prompt']\n",
      "forsinglefield:self.metrics ['coherence']\n"
     ]
    },
    {
     "name": "stderr",
     "output_type": "stream",
     "text": [
      "c:\\Users\\sarah\\miniconda3\\envs\\argilla-markdown\\lib\\site-packages\\textdescriptives\\components\\coherence.py:44: UserWarning: [W007] The model you're using has no word vectors loaded, so the result of the Span.similarity method will be based on the tagger, parser and NER, which may not give useful similarity judgements. This may happen if you're using one of the small models, e.g. `en_core_web_sm`, which don't ship with word vectors and only use context-sensitive tensors. You can always add your own word vectors, or use one of the larger models instead if available.\n",
      "  similarities.append(sent.similarity(sents[i + order]))\n"
     ]
    },
    {
     "name": "stdout",
     "output_type": "stream",
     "text": [
      "forsinglefield:field_metrics                                                  text  first_order_coherence  \\\n",
      "0   Sure! Let's say you want to build a model whic...               0.406619   \n",
      "1   Getting started in astrophotography can seem d...               0.552922   \n",
      "2   Sure! Here's an example Python script that use...               0.421581   \n",
      "3   Learning to optimize your webpage for search e...               0.260190   \n",
      "4   If you enjoyed Dvorak's \"New World\" Symphony, ...               0.419909   \n",
      "..                                                ...                    ...   \n",
      "95  Some examples for a species for a super-powere...               0.197079   \n",
      "96  While you do need an oven to bake the bread, w...               0.410734   \n",
      "97  The chain rule is a fundamental rule in calcul...               0.551900   \n",
      "98  Here is a brief outline of the history of Turk...               0.333601   \n",
      "99  There is no concrete evidence to support the c...               0.546017   \n",
      "\n",
      "    second_order_coherence  \n",
      "0                 0.367716  \n",
      "1                 0.490235  \n",
      "2                 0.315885  \n",
      "3                 0.283697  \n",
      "4                 0.601278  \n",
      "..                     ...  \n",
      "95                     NaN  \n",
      "96                0.424331  \n",
      "97                0.595412  \n",
      "98                0.275873  \n",
      "99                0.508435  \n",
      "\n",
      "[100 rows x 3 columns]\n",
      "forsinglefield:nan_columns []\n",
      "forsinglefield:self.metrics ['coherence']\n"
     ]
    },
    {
     "name": "stderr",
     "output_type": "stream",
     "text": [
      "c:\\Users\\sarah\\miniconda3\\envs\\argilla-markdown\\lib\\site-packages\\textdescriptives\\components\\coherence.py:44: UserWarning: [W007] The model you're using has no word vectors loaded, so the result of the Span.similarity method will be based on the tagger, parser and NER, which may not give useful similarity judgements. This may happen if you're using one of the small models, e.g. `en_core_web_sm`, which don't ship with word vectors and only use context-sensitive tensors. You can always add your own word vectors, or use one of the larger models instead if available.\n",
      "  similarities.append(sent.similarity(sents[i + order]))\n"
     ]
    },
    {
     "name": "stdout",
     "output_type": "stream",
     "text": [
      "forsinglefield:field_metrics                                                  text  first_order_coherence  \\\n",
      "0   Can you explain contrastive learning in machin...                    NaN   \n",
      "1   I want to start doing astrophotography as a ho...                    NaN   \n",
      "2   Can you give me an example of a python script ...                    NaN   \n",
      "3   How can I learn to optimize my webpage for sea...                    NaN   \n",
      "4   Listened to Dvorak's \"The New World\" symphony,...               0.351385   \n",
      "..                                                ...                    ...   \n",
      "95  I want to create a super-powered character wit...               0.431740   \n",
      "96  Can you give me an easy recipe for homemade br...               0.515825   \n",
      "97     Can you explain to me the calculus chain rule?                    NaN   \n",
      "98      Generate an outline of the history of Turkey.                    NaN   \n",
      "99  is it true that thomas edison stole the light ...               0.139828   \n",
      "\n",
      "    second_order_coherence  \n",
      "0                      NaN  \n",
      "1                      NaN  \n",
      "2                      NaN  \n",
      "3                      NaN  \n",
      "4                 0.391468  \n",
      "..                     ...  \n",
      "95                0.465302  \n",
      "96                     NaN  \n",
      "97                     NaN  \n",
      "98                     NaN  \n",
      "99                     NaN  \n",
      "\n",
      "[100 rows x 3 columns]\n",
      "forsinglefield:nan_columns []\n",
      "forallfields:field_metrics.items\n",
      "Field: response, Metrics:     response_first_order_coherence  response_second_order_coherence\n",
      "0                         0.406619                         0.367716\n",
      "1                         0.552922                         0.490235\n",
      "2                         0.421581                         0.315885\n",
      "3                         0.260190                         0.283697\n",
      "4                         0.419909                         0.601278\n",
      "..                             ...                              ...\n",
      "95                        0.197079                              NaN\n",
      "96                        0.410734                         0.424331\n",
      "97                        0.551900                         0.595412\n",
      "98                        0.333601                         0.275873\n",
      "99                        0.546017                         0.508435\n",
      "\n",
      "[100 rows x 2 columns]\n",
      "Field: prompt, Metrics:     prompt_first_order_coherence  prompt_second_order_coherence\n",
      "0                            NaN                            NaN\n",
      "1                            NaN                            NaN\n",
      "2                            NaN                            NaN\n",
      "3                            NaN                            NaN\n",
      "4                       0.351385                       0.391468\n",
      "..                           ...                            ...\n",
      "95                      0.431740                       0.465302\n",
      "96                      0.515825                            NaN\n",
      "97                           NaN                            NaN\n",
      "98                           NaN                            NaN\n",
      "99                      0.139828                            NaN\n",
      "\n",
      "[100 rows x 2 columns]\n",
      "2\n",
      "dtype float64\n",
      "[FloatMetadataProperty(name='response_first_order_coherence', title='Response First Order Coherence', visible_for_annotators=True, type='float', min=None, max=None)]\n",
      "dtype float64\n",
      "[FloatMetadataProperty(name='response_first_order_coherence', title='Response First Order Coherence', visible_for_annotators=True, type='float', min=None, max=None), FloatMetadataProperty(name='response_second_order_coherence', title='Response Second Order Coherence', visible_for_annotators=True, type='float', min=None, max=None)]\n",
      "dtype float64\n",
      "[FloatMetadataProperty(name='response_first_order_coherence', title='Response First Order Coherence', visible_for_annotators=True, type='float', min=None, max=None), FloatMetadataProperty(name='response_second_order_coherence', title='Response Second Order Coherence', visible_for_annotators=True, type='float', min=None, max=None), FloatMetadataProperty(name='prompt_first_order_coherence', title='Prompt First Order Coherence', visible_for_annotators=True, type='float', min=None, max=None)]\n",
      "dtype float64\n",
      "[FloatMetadataProperty(name='response_first_order_coherence', title='Response First Order Coherence', visible_for_annotators=True, type='float', min=None, max=None), FloatMetadataProperty(name='response_second_order_coherence', title='Response Second Order Coherence', visible_for_annotators=True, type='float', min=None, max=None), FloatMetadataProperty(name='prompt_first_order_coherence', title='Prompt First Order Coherence', visible_for_annotators=True, type='float', min=None, max=None), FloatMetadataProperty(name='prompt_second_order_coherence', title='Prompt Second Order Coherence', visible_for_annotators=True, type='float', min=None, max=None)]\n"
     ]
    },
    {
     "data": {
      "application/vnd.jupyter.widget-view+json": {
       "model_id": "1af11a3efdb04de9b4d79d6513ec061e",
       "version_major": 2,
       "version_minor": 0
      },
      "text/plain": [
       "Output()"
      ]
     },
     "metadata": {},
     "output_type": "display_data"
    },
    {
     "data": {
      "text/html": [
       "<pre style=\"white-space:pre;overflow-x:auto;line-height:normal;font-family:Menlo,'DejaVu Sans Mono',consolas,'Courier New',monospace\"></pre>\n"
      ],
      "text/plain": []
     },
     "metadata": {},
     "output_type": "display_data"
    },
    {
     "data": {
      "text/html": [
       "<pre style=\"white-space:pre;overflow-x:auto;line-height:normal;font-family:Menlo,'DejaVu Sans Mono',consolas,'Courier New',monospace\">\n",
       "</pre>\n"
      ],
      "text/plain": [
       "\n"
      ]
     },
     "metadata": {},
     "output_type": "display_data"
    },
    {
     "data": {
      "application/vnd.jupyter.widget-view+json": {
       "model_id": "c0cc7565351e48ff9971183873ca168a",
       "version_major": 2,
       "version_minor": 0
      },
      "text/plain": [
       "Output()"
      ]
     },
     "metadata": {},
     "output_type": "display_data"
    },
    {
     "data": {
      "text/html": [
       "<pre style=\"white-space:pre;overflow-x:auto;line-height:normal;font-family:Menlo,'DejaVu Sans Mono',consolas,'Courier New',monospace\"></pre>\n"
      ],
      "text/plain": []
     },
     "metadata": {},
     "output_type": "display_data"
    },
    {
     "data": {
      "text/html": [
       "<pre style=\"white-space:pre;overflow-x:auto;line-height:normal;font-family:Menlo,'DejaVu Sans Mono',consolas,'Courier New',monospace\">\n",
       "</pre>\n"
      ],
      "text/plain": [
       "\n"
      ]
     },
     "metadata": {},
     "output_type": "display_data"
    }
   ],
   "source": [
    "tde = rg.TextDescriptivesExtractor(metrics=[\"coherence\"])\n",
    "tde.update_dataset(remote_dataset)"
   ]
  },
  {
   "cell_type": "code",
   "execution_count": 23,
   "metadata": {},
   "outputs": [
    {
     "data": {
      "text/plain": [
       "[RemoteFloatMetadataProperty(id=UUID('4d4af5f2-f035-489a-b9bb-724151f62e9a'), client=<httpx.Client object at 0x000002C73AFD08E0>, name='response_first_order_coherence', title='Response First Order Coherence', visible_for_annotators=True, type='float', min=None, max=None),\n",
       " RemoteFloatMetadataProperty(id=UUID('20d1856f-9e03-4ee0-a15e-9bb070dfe6b9'), client=<httpx.Client object at 0x000002C73AFD08E0>, name='response_second_order_coherence', title='Response Second Order Coherence', visible_for_annotators=True, type='float', min=None, max=None),\n",
       " RemoteFloatMetadataProperty(id=UUID('fb91ef41-24af-4c81-8a37-f19fa2b9f90e'), client=<httpx.Client object at 0x000002C73AFD08E0>, name='prompt_first_order_coherence', title='Prompt First Order Coherence', visible_for_annotators=True, type='float', min=None, max=None),\n",
       " RemoteFloatMetadataProperty(id=UUID('f53790fe-54ae-4126-84ed-b43f028e051a'), client=<httpx.Client object at 0x000002C73AFD08E0>, name='prompt_second_order_coherence', title='Prompt Second Order Coherence', visible_for_annotators=True, type='float', min=None, max=None)]"
      ]
     },
     "execution_count": 23,
     "metadata": {},
     "output_type": "execute_result"
    }
   ],
   "source": [
    "remote_dataset.metadata_properties"
   ]
  },
  {
   "cell_type": "code",
   "execution_count": 25,
   "metadata": {},
   "outputs": [
    {
     "data": {
      "text/plain": [
       "{'response_first_order_coherence': 0.42,\n",
       " 'response_second_order_coherence': 0.26,\n",
       " 'prompt_first_order_coherence': 0.4,\n",
       " 'prompt_second_order_coherence': 0.4}"
      ]
     },
     "execution_count": 25,
     "metadata": {},
     "output_type": "execute_result"
    }
   ],
   "source": [
    "remote_dataset.records[14].metadata"
   ]
  },
  {
   "cell_type": "code",
   "execution_count": 26,
   "metadata": {},
   "outputs": [
    {
     "data": {
      "text/plain": [
       "{'response_first_order_coherence': 0.42,\n",
       " 'response_second_order_coherence': 0.32}"
      ]
     },
     "execution_count": 26,
     "metadata": {},
     "output_type": "execute_result"
    }
   ],
   "source": [
    "remote_dataset.records[4].metadata"
   ]
  },
  {
   "cell_type": "markdown",
   "metadata": {},
   "source": [
    "## check show to annotators (local/remote)"
   ]
  },
  {
   "cell_type": "code",
   "execution_count": 27,
   "metadata": {},
   "outputs": [
    {
     "name": "stderr",
     "output_type": "stream",
     "text": [
      "C:\\Users\\sarah\\Documents\\argilla\\src\\argilla\\client\\feedback\\schemas\\questions.py:184: UserWarning: `visible_labels=20` is greater than the total number of labels (7), so it will be set to `7`.\n",
      "  warnings.warn(\n",
      "Parsing records: 100%|██████████| 100/100 [00:00<00:00, 137.03it/s]\n"
     ]
    }
   ],
   "source": [
    "dataset = rg.FeedbackDataset.from_huggingface(\"argilla/oasst_response_quality\", split=\"train[:100]\")"
   ]
  },
  {
   "cell_type": "code",
   "execution_count": 29,
   "metadata": {},
   "outputs": [
    {
     "name": "stdout",
     "output_type": "stream",
     "text": [
      "self.metrics ['information_theory']\n",
      "self.fields ['prompt']\n",
      "forallfields:before:fields None\n",
      "forallfields: after:fields ['prompt']\n",
      "forsinglefield:self.metrics ['information_theory']\n"
     ]
    },
    {
     "data": {
      "application/vnd.jupyter.widget-view+json": {
       "model_id": "8ebddd9f01dd415486fb912f22960a0f",
       "version_major": 2,
       "version_minor": 0
      },
      "text/plain": [
       "Output()"
      ]
     },
     "metadata": {},
     "output_type": "display_data"
    },
    {
     "name": "stdout",
     "output_type": "stream",
     "text": [
      "forsinglefield:field_metrics                                                  text   entropy  perplexity  \\\n",
      "0   Can you explain contrastive learning in machin...  0.476143    1.609854   \n",
      "1   I want to start doing astrophotography as a ho...  0.490838    1.633685   \n",
      "2   Can you give me an example of a python script ...  0.478009    1.612860   \n",
      "3   How can I learn to optimize my webpage for sea...  0.281210    1.324732   \n",
      "4   Listened to Dvorak's \"The New World\" symphony,...  1.687012    5.403310   \n",
      "..                                                ...       ...         ...   \n",
      "95  I want to create a super-powered character wit...  3.249339   25.773301   \n",
      "96  Can you give me an easy recipe for homemade br...  0.931683    2.538778   \n",
      "97     Can you explain to me the calculus chain rule?  0.292472    1.339736   \n",
      "98      Generate an outline of the history of Turkey.  0.381030    1.463792   \n",
      "99  is it true that thomas edison stole the light ...  0.489481    1.631470   \n",
      "\n",
      "    per_word_perplexity  \n",
      "0              0.080493  \n",
      "1              0.096099  \n",
      "2              0.080643  \n",
      "3              0.110394  \n",
      "4              0.094795  \n",
      "..                  ...  \n",
      "95             0.314309  \n",
      "96             0.066810  \n",
      "97             0.133974  \n",
      "98             0.162644  \n",
      "99             0.065259  \n",
      "\n",
      "[100 rows x 4 columns]\n",
      "forsinglefield:nan_columns []\n",
      "forallfields:field_metrics.items\n",
      "Field: prompt, Metrics:     prompt_entropy  prompt_perplexity  prompt_per_word_perplexity\n",
      "0         0.476143           1.609854                    0.080493\n",
      "1         0.490838           1.633685                    0.096099\n",
      "2         0.478009           1.612860                    0.080643\n",
      "3         0.281210           1.324732                    0.110394\n",
      "4         1.687012           5.403310                    0.094795\n",
      "..             ...                ...                         ...\n",
      "95        3.249339          25.773301                    0.314309\n",
      "96        0.931683           2.538778                    0.066810\n",
      "97        0.292472           1.339736                    0.133974\n",
      "98        0.381030           1.463792                    0.162644\n",
      "99        0.489481           1.631470                    0.065259\n",
      "\n",
      "[100 rows x 3 columns]\n",
      "1\n",
      "dtype float64\n",
      "[FloatMetadataProperty(name='prompt_entropy', title='Prompt Entropy', visible_for_annotators=False, type='float', min=None, max=None)]\n",
      "dtype float64\n",
      "[FloatMetadataProperty(name='prompt_entropy', title='Prompt Entropy', visible_for_annotators=False, type='float', min=None, max=None), FloatMetadataProperty(name='prompt_perplexity', title='Prompt Perplexity', visible_for_annotators=False, type='float', min=None, max=None)]\n",
      "dtype float64\n",
      "[FloatMetadataProperty(name='prompt_entropy', title='Prompt Entropy', visible_for_annotators=False, type='float', min=None, max=None), FloatMetadataProperty(name='prompt_perplexity', title='Prompt Perplexity', visible_for_annotators=False, type='float', min=None, max=None), FloatMetadataProperty(name='prompt_per_word_perplexity', title='Prompt Per Word Perplexity', visible_for_annotators=False, type='float', min=None, max=None)]\n"
     ]
    },
    {
     "data": {
      "text/html": [
       "<pre style=\"white-space:pre;overflow-x:auto;line-height:normal;font-family:Menlo,'DejaVu Sans Mono',consolas,'Courier New',monospace\"></pre>\n"
      ],
      "text/plain": []
     },
     "metadata": {},
     "output_type": "display_data"
    },
    {
     "data": {
      "text/html": [
       "<pre style=\"white-space:pre;overflow-x:auto;line-height:normal;font-family:Menlo,'DejaVu Sans Mono',consolas,'Courier New',monospace\">\n",
       "</pre>\n"
      ],
      "text/plain": [
       "\n"
      ]
     },
     "metadata": {},
     "output_type": "display_data"
    },
    {
     "data": {
      "text/plain": [
       "FeedbackDataset(\n",
       "   fields=[TextField(name='prompt', title='Prompt', required=True, type=<FieldTypes.text: 'text'>, use_markdown=True), TextField(name='response', title='Response', required=True, type=<FieldTypes.text: 'text'>, use_markdown=True)]\n",
       "   questions=[LabelQuestion(name='relevant', title='Is the response relevant for the given prompt?', description=None, required=True, type=<QuestionTypes.label_selection: 'label_selection'>, labels=['Yes', 'No'], visible_labels=None), MultiLabelQuestion(name='content_class', title='Does the response include any of the following?', description=None, required=False, type=<QuestionTypes.multi_label_selection: 'multi_label_selection'>, labels={'hate': 'Hate Speech', 'inappropriate': 'Inappropriate content', 'not_english': 'Not English', 'pii': 'Personal information', 'sexual': 'Sexual content', 'untruthful': 'Untruthful info', 'violent': 'Violent content'}, visible_labels=7), RatingQuestion(name='rating', title='Rate the quality of the response:', description='Rate the quality of the response based on its truthfulness and helpfulness. 1 is very bad and 10 is very good.', required=True, type=<QuestionTypes.rating: 'rating'>, values=[1, 2, 3, 4, 5, 6, 7, 8, 9, 10]), TextQuestion(name='corrected-text', title='Provide a correction to the response:', description='If the rating provided is below 4, please write a new version of the response.', required=False, type=<QuestionTypes.text: 'text'>, use_markdown=True)]\n",
       "   guidelines=Answer the questions to assess the quality of the response given by the chat assistant.)\n",
       "   metadata_properties=[FloatMetadataProperty(name='prompt_entropy', title='Prompt Entropy', visible_for_annotators=False, type='float', min=None, max=None), FloatMetadataProperty(name='prompt_perplexity', title='Prompt Perplexity', visible_for_annotators=False, type='float', min=None, max=None), FloatMetadataProperty(name='prompt_per_word_perplexity', title='Prompt Per Word Perplexity', visible_for_annotators=False, type='float', min=None, max=None)])\n",
       ")"
      ]
     },
     "execution_count": 29,
     "metadata": {},
     "output_type": "execute_result"
    }
   ],
   "source": [
    "tde = rg.TextDescriptivesExtractor(fields=[\"prompt\"], metrics=[\"information_theory\"], visible_for_annotators=False)\n",
    "tde.update_dataset(dataset)"
   ]
  },
  {
   "cell_type": "code",
   "execution_count": 30,
   "metadata": {},
   "outputs": [
    {
     "data": {
      "application/vnd.jupyter.widget-view+json": {
       "model_id": "a38e3c5ea0e64f3ab0d288e89129c61a",
       "version_major": 2,
       "version_minor": 0
      },
      "text/plain": [
       "Output()"
      ]
     },
     "metadata": {},
     "output_type": "display_data"
    },
    {
     "data": {
      "text/html": [
       "<pre style=\"white-space:pre;overflow-x:auto;line-height:normal;font-family:Menlo,'DejaVu Sans Mono',consolas,'Courier New',monospace\"></pre>\n"
      ],
      "text/plain": []
     },
     "metadata": {},
     "output_type": "display_data"
    },
    {
     "data": {
      "text/html": [
       "<pre style=\"white-space:pre;overflow-x:auto;line-height:normal;font-family:Menlo,'DejaVu Sans Mono',consolas,'Courier New',monospace\">\n",
       "</pre>\n"
      ],
      "text/plain": [
       "\n"
      ]
     },
     "metadata": {},
     "output_type": "display_data"
    },
    {
     "data": {
      "text/html": [
       "<pre style=\"white-space:pre;overflow-x:auto;line-height:normal;font-family:Menlo,'DejaVu Sans Mono',consolas,'Courier New',monospace\"><span style=\"color: #7fbfbf; text-decoration-color: #7fbfbf\">[12/14/23 13:39:07] </span><span style=\"color: #000080; text-decoration-color: #000080\">INFO    </span> INFO:argilla.client.feedback.dataset.local.mixins:✓ Dataset succesfully  <a href=\"file://C:\\Users\\sarah\\Documents\\argilla\\src\\argilla\\client\\feedback\\dataset\\local\\mixins.py\" target=\"_blank\"><span style=\"color: #7f7f7f; text-decoration-color: #7f7f7f\">mixins.py</span></a><span style=\"color: #7f7f7f; text-decoration-color: #7f7f7f\">:</span><a href=\"file://C:\\Users\\sarah\\Documents\\argilla\\src\\argilla\\client\\feedback\\dataset\\local\\mixins.py#281\" target=\"_blank\"><span style=\"color: #7f7f7f; text-decoration-color: #7f7f7f\">281</span></a>\n",
       "<span style=\"color: #7fbfbf; text-decoration-color: #7fbfbf\">                    </span>         pushed to Argilla                                                        <span style=\"color: #7f7f7f; text-decoration-color: #7f7f7f\">             </span>\n",
       "</pre>\n"
      ],
      "text/plain": [
       "\u001b[2;36m[12/14/23 13:39:07]\u001b[0m\u001b[2;36m \u001b[0m\u001b[34mINFO    \u001b[0m INFO:argilla.client.feedback.dataset.local.mixins:✓ Dataset succesfully  \u001b]8;id=869706;file://C:\\Users\\sarah\\Documents\\argilla\\src\\argilla\\client\\feedback\\dataset\\local\\mixins.py\u001b\\\u001b[2mmixins.py\u001b[0m\u001b]8;;\u001b\\\u001b[2m:\u001b[0m\u001b]8;id=285505;file://C:\\Users\\sarah\\Documents\\argilla\\src\\argilla\\client\\feedback\\dataset\\local\\mixins.py#281\u001b\\\u001b[2m281\u001b[0m\u001b]8;;\u001b\\\n",
       "\u001b[2;36m                    \u001b[0m         pushed to Argilla                                                        \u001b[2m             \u001b[0m\n"
      ]
     },
     "metadata": {},
     "output_type": "display_data"
    },
    {
     "data": {
      "text/html": [
       "<pre style=\"white-space:pre;overflow-x:auto;line-height:normal;font-family:Menlo,'DejaVu Sans Mono',consolas,'Courier New',monospace\"><span style=\"color: #7fbfbf; text-decoration-color: #7fbfbf\">                    </span><span style=\"color: #000080; text-decoration-color: #000080\">INFO    </span> INFO:argilla.client.feedback.dataset.local.mixins:<span style=\"color: #800080; text-decoration-color: #800080; font-weight: bold\">RemoteFeedbackDataset</span><span style=\"font-weight: bold\">(</span> <a href=\"file://C:\\Users\\sarah\\Documents\\argilla\\src\\argilla\\client\\feedback\\dataset\\local\\mixins.py\" target=\"_blank\"><span style=\"color: #7f7f7f; text-decoration-color: #7f7f7f\">mixins.py</span></a><span style=\"color: #7f7f7f; text-decoration-color: #7f7f7f\">:</span><a href=\"file://C:\\Users\\sarah\\Documents\\argilla\\src\\argilla\\client\\feedback\\dataset\\local\\mixins.py#282\" target=\"_blank\"><span style=\"color: #7f7f7f; text-decoration-color: #7f7f7f\">282</span></a>\n",
       "<span style=\"color: #7fbfbf; text-decoration-color: #7fbfbf\">                    </span>            <span style=\"color: #808000; text-decoration-color: #808000\">id</span>=<span style=\"color: #ffff00; text-decoration-color: #ffff00\">51f8b953</span><span style=\"color: #ffff00; text-decoration-color: #ffff00\">-02fb-440c-8a66-19d3d3c935a0</span>                               <span style=\"color: #7f7f7f; text-decoration-color: #7f7f7f\">             </span>\n",
       "<span style=\"color: #7fbfbf; text-decoration-color: #7fbfbf\">                    </span>            <span style=\"color: #808000; text-decoration-color: #808000\">name</span>=<span style=\"color: #800080; text-decoration-color: #800080\">oasst_response_quality_no_metadata</span>                               <span style=\"color: #7f7f7f; text-decoration-color: #7f7f7f\">             </span>\n",
       "<span style=\"color: #7fbfbf; text-decoration-color: #7fbfbf\">                    </span>            <span style=\"color: #808000; text-decoration-color: #808000\">workspace</span>=<span style=\"color: #800080; text-decoration-color: #800080; font-weight: bold\">Workspace</span><span style=\"font-weight: bold\">(</span><span style=\"color: #808000; text-decoration-color: #808000\">id</span>=<span style=\"color: #ffff00; text-decoration-color: #ffff00\">507a6ccf</span><span style=\"color: #ffff00; text-decoration-color: #ffff00\">-f7e0-40e9-9384-5c8840abb505</span>,          <span style=\"color: #7f7f7f; text-decoration-color: #7f7f7f\">             </span>\n",
       "<span style=\"color: #7fbfbf; text-decoration-color: #7fbfbf\">                    </span>         <span style=\"color: #808000; text-decoration-color: #808000\">name</span>=<span style=\"color: #800080; text-decoration-color: #800080\">argilla</span>, <span style=\"color: #808000; text-decoration-color: #808000\">inserted_at</span>=<span style=\"color: #008080; text-decoration-color: #008080; font-weight: bold\">2023</span>-<span style=\"color: #008080; text-decoration-color: #008080; font-weight: bold\">12</span>-<span style=\"color: #008080; text-decoration-color: #008080; font-weight: bold\">12</span> <span style=\"color: #00ff00; text-decoration-color: #00ff00; font-weight: bold\">14:04:58</span>.<span style=\"color: #008080; text-decoration-color: #008080; font-weight: bold\">940990</span>,                    <span style=\"color: #7f7f7f; text-decoration-color: #7f7f7f\">             </span>\n",
       "<span style=\"color: #7fbfbf; text-decoration-color: #7fbfbf\">                    </span>         <span style=\"color: #808000; text-decoration-color: #808000\">updated_at</span>=<span style=\"color: #008080; text-decoration-color: #008080; font-weight: bold\">2023</span>-<span style=\"color: #008080; text-decoration-color: #008080; font-weight: bold\">12</span>-<span style=\"color: #008080; text-decoration-color: #008080; font-weight: bold\">12</span> <span style=\"color: #00ff00; text-decoration-color: #00ff00; font-weight: bold\">14:04:58</span>.<span style=\"color: #008080; text-decoration-color: #008080; font-weight: bold\">940990</span><span style=\"font-weight: bold\">)</span>                                   <span style=\"color: #7f7f7f; text-decoration-color: #7f7f7f\">             </span>\n",
       "<span style=\"color: #7fbfbf; text-decoration-color: #7fbfbf\">                    </span>            <span style=\"color: #808000; text-decoration-color: #808000\">url</span>=<span style=\"color: #0000ff; text-decoration-color: #0000ff; text-decoration: underline\">http://localhost:6900/dataset/51f8b953-02fb-440c-8a66-19d3d3c935a</span> <span style=\"color: #7f7f7f; text-decoration-color: #7f7f7f\">             </span>\n",
       "<span style=\"color: #7fbfbf; text-decoration-color: #7fbfbf\">                    </span>         <span style=\"color: #0000ff; text-decoration-color: #0000ff; text-decoration: underline\">0/annotation-mode</span>                                                        <span style=\"color: #7f7f7f; text-decoration-color: #7f7f7f\">             </span>\n",
       "<span style=\"color: #7fbfbf; text-decoration-color: #7fbfbf\">                    </span>            <span style=\"color: #808000; text-decoration-color: #808000\">fields</span>=<span style=\"font-weight: bold\">[</span><span style=\"color: #800080; text-decoration-color: #800080; font-weight: bold\">RemoteTextField</span><span style=\"font-weight: bold\">(</span><span style=\"color: #808000; text-decoration-color: #808000\">id</span>=<span style=\"color: #800080; text-decoration-color: #800080; font-weight: bold\">UUID</span><span style=\"font-weight: bold\">(</span><span style=\"color: #008000; text-decoration-color: #008000\">'236b9fe2-3886-438e-b549-925bc85626e8</span> <span style=\"color: #7f7f7f; text-decoration-color: #7f7f7f\">             </span>\n",
       "<span style=\"color: #7fbfbf; text-decoration-color: #7fbfbf\">                    </span>         <span style=\"color: #008000; text-decoration-color: #008000\">'</span><span style=\"font-weight: bold\">)</span>, <span style=\"color: #808000; text-decoration-color: #808000\">client</span>=<span style=\"color: #800080; text-decoration-color: #800080; font-style: italic\">None</span>, <span style=\"color: #808000; text-decoration-color: #808000\">name</span>=<span style=\"color: #008000; text-decoration-color: #008000\">'prompt'</span>, <span style=\"color: #808000; text-decoration-color: #808000\">title</span>=<span style=\"color: #008000; text-decoration-color: #008000\">'Prompt'</span>, <span style=\"color: #808000; text-decoration-color: #808000\">required</span>=<span style=\"color: #00ff00; text-decoration-color: #00ff00; font-style: italic\">True</span>,           <span style=\"color: #7f7f7f; text-decoration-color: #7f7f7f\">             </span>\n",
       "<span style=\"color: #7fbfbf; text-decoration-color: #7fbfbf\">                    </span>         <span style=\"color: #808000; text-decoration-color: #808000\">type</span>=<span style=\"color: #008000; text-decoration-color: #008000\">'text'</span>, <span style=\"color: #808000; text-decoration-color: #808000\">use_markdown</span>=<span style=\"color: #00ff00; text-decoration-color: #00ff00; font-style: italic\">True</span><span style=\"font-weight: bold\">)</span>,                                         <span style=\"color: #7f7f7f; text-decoration-color: #7f7f7f\">             </span>\n",
       "<span style=\"color: #7fbfbf; text-decoration-color: #7fbfbf\">                    </span>         <span style=\"color: #800080; text-decoration-color: #800080; font-weight: bold\">RemoteTextField</span><span style=\"font-weight: bold\">(</span><span style=\"color: #808000; text-decoration-color: #808000\">id</span>=<span style=\"color: #800080; text-decoration-color: #800080; font-weight: bold\">UUID</span><span style=\"font-weight: bold\">(</span><span style=\"color: #008000; text-decoration-color: #008000\">'d0bbf8ea-4a4a-46d8-8571-562d85e3020b'</span><span style=\"font-weight: bold\">)</span>,         <span style=\"color: #7f7f7f; text-decoration-color: #7f7f7f\">             </span>\n",
       "<span style=\"color: #7fbfbf; text-decoration-color: #7fbfbf\">                    </span>         <span style=\"color: #808000; text-decoration-color: #808000\">client</span>=<span style=\"color: #800080; text-decoration-color: #800080; font-style: italic\">None</span>, <span style=\"color: #808000; text-decoration-color: #808000\">name</span>=<span style=\"color: #008000; text-decoration-color: #008000\">'response'</span>, <span style=\"color: #808000; text-decoration-color: #808000\">title</span>=<span style=\"color: #008000; text-decoration-color: #008000\">'Response'</span>, <span style=\"color: #808000; text-decoration-color: #808000\">required</span>=<span style=\"color: #00ff00; text-decoration-color: #00ff00; font-style: italic\">True</span>,           <span style=\"color: #7f7f7f; text-decoration-color: #7f7f7f\">             </span>\n",
       "<span style=\"color: #7fbfbf; text-decoration-color: #7fbfbf\">                    </span>         <span style=\"color: #808000; text-decoration-color: #808000\">type</span>=<span style=\"color: #008000; text-decoration-color: #008000\">'text'</span>, <span style=\"color: #808000; text-decoration-color: #808000\">use_markdown</span>=<span style=\"color: #00ff00; text-decoration-color: #00ff00; font-style: italic\">True</span><span style=\"font-weight: bold\">)]</span>                                         <span style=\"color: #7f7f7f; text-decoration-color: #7f7f7f\">             </span>\n",
       "<span style=\"color: #7fbfbf; text-decoration-color: #7fbfbf\">                    </span>            <span style=\"color: #808000; text-decoration-color: #808000\">questions</span>=<span style=\"font-weight: bold\">[</span><span style=\"color: #800080; text-decoration-color: #800080; font-weight: bold\">RemoteLabelQuestion</span><span style=\"font-weight: bold\">(</span><span style=\"color: #808000; text-decoration-color: #808000\">id</span>=<span style=\"color: #800080; text-decoration-color: #800080; font-weight: bold\">UUID</span><span style=\"font-weight: bold\">(</span><span style=\"color: #008000; text-decoration-color: #008000\">'a887386d-1840-4dd3-aa0e-644ca</span> <span style=\"color: #7f7f7f; text-decoration-color: #7f7f7f\">             </span>\n",
       "<span style=\"color: #7fbfbf; text-decoration-color: #7fbfbf\">                    </span>         <span style=\"color: #008000; text-decoration-color: #008000\">b087f2a'</span><span style=\"font-weight: bold\">)</span>, <span style=\"color: #808000; text-decoration-color: #808000\">client</span>=<span style=\"color: #800080; text-decoration-color: #800080; font-style: italic\">None</span>, <span style=\"color: #808000; text-decoration-color: #808000\">name</span>=<span style=\"color: #008000; text-decoration-color: #008000\">'relevant'</span>, <span style=\"color: #808000; text-decoration-color: #808000\">title</span>=<span style=\"color: #008000; text-decoration-color: #008000\">'Is the response relevant</span> <span style=\"color: #7f7f7f; text-decoration-color: #7f7f7f\">             </span>\n",
       "<span style=\"color: #7fbfbf; text-decoration-color: #7fbfbf\">                    </span>         <span style=\"color: #008000; text-decoration-color: #008000\">for the given prompt?'</span>, <span style=\"color: #808000; text-decoration-color: #808000\">description</span>=<span style=\"color: #800080; text-decoration-color: #800080; font-style: italic\">None</span>, <span style=\"color: #808000; text-decoration-color: #808000\">required</span>=<span style=\"color: #00ff00; text-decoration-color: #00ff00; font-style: italic\">True</span>,                 <span style=\"color: #7f7f7f; text-decoration-color: #7f7f7f\">             </span>\n",
       "<span style=\"color: #7fbfbf; text-decoration-color: #7fbfbf\">                    </span>         <span style=\"color: #808000; text-decoration-color: #808000\">type</span>=<span style=\"color: #008000; text-decoration-color: #008000\">'label_selection'</span>, <span style=\"color: #808000; text-decoration-color: #808000\">labels</span>=<span style=\"font-weight: bold\">[</span><span style=\"color: #008000; text-decoration-color: #008000\">'Yes'</span>, <span style=\"color: #008000; text-decoration-color: #008000\">'No'</span><span style=\"font-weight: bold\">]</span>, <span style=\"color: #808000; text-decoration-color: #808000\">visible_labels</span>=<span style=\"color: #800080; text-decoration-color: #800080; font-style: italic\">None</span><span style=\"font-weight: bold\">)</span>,      <span style=\"color: #7f7f7f; text-decoration-color: #7f7f7f\">             </span>\n",
       "<span style=\"color: #7fbfbf; text-decoration-color: #7fbfbf\">                    </span>         <span style=\"color: #800080; text-decoration-color: #800080; font-weight: bold\">RemoteMultiLabelQuestion</span><span style=\"font-weight: bold\">(</span><span style=\"color: #808000; text-decoration-color: #808000\">id</span>=<span style=\"color: #800080; text-decoration-color: #800080; font-weight: bold\">UUID</span><span style=\"font-weight: bold\">(</span><span style=\"color: #008000; text-decoration-color: #008000\">'dbd1989a-582a-4f6f-8ed9-b6303422f161'</span><span style=\"font-weight: bold\">)</span> <span style=\"color: #7f7f7f; text-decoration-color: #7f7f7f\">             </span>\n",
       "<span style=\"color: #7fbfbf; text-decoration-color: #7fbfbf\">                    </span>         , <span style=\"color: #808000; text-decoration-color: #808000\">client</span>=<span style=\"color: #800080; text-decoration-color: #800080; font-style: italic\">None</span>, <span style=\"color: #808000; text-decoration-color: #808000\">name</span>=<span style=\"color: #008000; text-decoration-color: #008000\">'content_class'</span>, <span style=\"color: #808000; text-decoration-color: #808000\">title</span>=<span style=\"color: #008000; text-decoration-color: #008000\">'Does the response include </span>   <span style=\"color: #7f7f7f; text-decoration-color: #7f7f7f\">             </span>\n",
       "<span style=\"color: #7fbfbf; text-decoration-color: #7fbfbf\">                    </span>         <span style=\"color: #008000; text-decoration-color: #008000\">any of the following?'</span>, <span style=\"color: #808000; text-decoration-color: #808000\">description</span>=<span style=\"color: #800080; text-decoration-color: #800080; font-style: italic\">None</span>, <span style=\"color: #808000; text-decoration-color: #808000\">required</span>=<span style=\"color: #ff0000; text-decoration-color: #ff0000; font-style: italic\">False</span>,                <span style=\"color: #7f7f7f; text-decoration-color: #7f7f7f\">             </span>\n",
       "<span style=\"color: #7fbfbf; text-decoration-color: #7fbfbf\">                    </span>         <span style=\"color: #808000; text-decoration-color: #808000\">type</span>=<span style=\"color: #008000; text-decoration-color: #008000\">'multi_label_selection'</span>, <span style=\"color: #808000; text-decoration-color: #808000\">labels</span>=<span style=\"font-weight: bold\">{</span><span style=\"color: #008000; text-decoration-color: #008000\">'hate'</span>: <span style=\"color: #008000; text-decoration-color: #008000\">'Hate Speech'</span>,             <span style=\"color: #7f7f7f; text-decoration-color: #7f7f7f\">             </span>\n",
       "<span style=\"color: #7fbfbf; text-decoration-color: #7fbfbf\">                    </span>         <span style=\"color: #008000; text-decoration-color: #008000\">'inappropriate'</span>: <span style=\"color: #008000; text-decoration-color: #008000\">'Inappropriate content'</span>, <span style=\"color: #008000; text-decoration-color: #008000\">'not_english'</span>: <span style=\"color: #008000; text-decoration-color: #008000\">'Not English'</span>,  <span style=\"color: #7f7f7f; text-decoration-color: #7f7f7f\">             </span>\n",
       "<span style=\"color: #7fbfbf; text-decoration-color: #7fbfbf\">                    </span>         <span style=\"color: #008000; text-decoration-color: #008000\">'pii'</span>: <span style=\"color: #008000; text-decoration-color: #008000\">'Personal information'</span>, <span style=\"color: #008000; text-decoration-color: #008000\">'sexual'</span>: <span style=\"color: #008000; text-decoration-color: #008000\">'Sexual content'</span>, <span style=\"color: #008000; text-decoration-color: #008000\">'untruthful'</span>: <span style=\"color: #7f7f7f; text-decoration-color: #7f7f7f\">             </span>\n",
       "<span style=\"color: #7fbfbf; text-decoration-color: #7fbfbf\">                    </span>         <span style=\"color: #008000; text-decoration-color: #008000\">'Untruthful info'</span>, <span style=\"color: #008000; text-decoration-color: #008000\">'violent'</span>: <span style=\"color: #008000; text-decoration-color: #008000\">'Violent content'</span><span style=\"font-weight: bold\">}</span>, <span style=\"color: #808000; text-decoration-color: #808000\">visible_labels</span>=<span style=\"color: #008080; text-decoration-color: #008080; font-weight: bold\">7</span><span style=\"font-weight: bold\">)</span>,     <span style=\"color: #7f7f7f; text-decoration-color: #7f7f7f\">             </span>\n",
       "<span style=\"color: #7fbfbf; text-decoration-color: #7fbfbf\">                    </span>         <span style=\"color: #800080; text-decoration-color: #800080; font-weight: bold\">RemoteRatingQuestion</span><span style=\"font-weight: bold\">(</span><span style=\"color: #808000; text-decoration-color: #808000\">id</span>=<span style=\"color: #800080; text-decoration-color: #800080; font-weight: bold\">UUID</span><span style=\"font-weight: bold\">(</span><span style=\"color: #008000; text-decoration-color: #008000\">'19c8df93-d93a-47b7-a133-6507497fc2e5'</span><span style=\"font-weight: bold\">)</span>,    <span style=\"color: #7f7f7f; text-decoration-color: #7f7f7f\">             </span>\n",
       "<span style=\"color: #7fbfbf; text-decoration-color: #7fbfbf\">                    </span>         <span style=\"color: #808000; text-decoration-color: #808000\">client</span>=<span style=\"color: #800080; text-decoration-color: #800080; font-style: italic\">None</span>, <span style=\"color: #808000; text-decoration-color: #808000\">name</span>=<span style=\"color: #008000; text-decoration-color: #008000\">'rating'</span>, <span style=\"color: #808000; text-decoration-color: #808000\">title</span>=<span style=\"color: #008000; text-decoration-color: #008000\">'Rate the quality of the response:'</span>,   <span style=\"color: #7f7f7f; text-decoration-color: #7f7f7f\">             </span>\n",
       "<span style=\"color: #7fbfbf; text-decoration-color: #7fbfbf\">                    </span>         <span style=\"color: #808000; text-decoration-color: #808000\">description</span>=<span style=\"color: #800080; text-decoration-color: #800080; font-style: italic\">None</span>, <span style=\"color: #808000; text-decoration-color: #808000\">required</span>=<span style=\"color: #00ff00; text-decoration-color: #00ff00; font-style: italic\">True</span>, <span style=\"color: #808000; text-decoration-color: #808000\">type</span>=<span style=\"color: #008000; text-decoration-color: #008000\">'rating'</span>, <span style=\"color: #808000; text-decoration-color: #808000\">values</span>=<span style=\"font-weight: bold\">[</span><span style=\"color: #008080; text-decoration-color: #008080; font-weight: bold\">1</span>, <span style=\"color: #008080; text-decoration-color: #008080; font-weight: bold\">2</span>, <span style=\"color: #008080; text-decoration-color: #008080; font-weight: bold\">3</span>, <span style=\"color: #008080; text-decoration-color: #008080; font-weight: bold\">4</span>, <span style=\"color: #008080; text-decoration-color: #008080; font-weight: bold\">5</span>,   <span style=\"color: #7f7f7f; text-decoration-color: #7f7f7f\">             </span>\n",
       "<span style=\"color: #7fbfbf; text-decoration-color: #7fbfbf\">                    </span>         <span style=\"color: #008080; text-decoration-color: #008080; font-weight: bold\">6</span>, <span style=\"color: #008080; text-decoration-color: #008080; font-weight: bold\">7</span>, <span style=\"color: #008080; text-decoration-color: #008080; font-weight: bold\">8</span>, <span style=\"color: #008080; text-decoration-color: #008080; font-weight: bold\">9</span>, <span style=\"color: #008080; text-decoration-color: #008080; font-weight: bold\">10</span><span style=\"font-weight: bold\">])</span>,                                                        <span style=\"color: #7f7f7f; text-decoration-color: #7f7f7f\">             </span>\n",
       "<span style=\"color: #7fbfbf; text-decoration-color: #7fbfbf\">                    </span>         <span style=\"color: #800080; text-decoration-color: #800080; font-weight: bold\">RemoteTextQuestion</span><span style=\"font-weight: bold\">(</span><span style=\"color: #808000; text-decoration-color: #808000\">id</span>=<span style=\"color: #800080; text-decoration-color: #800080; font-weight: bold\">UUID</span><span style=\"font-weight: bold\">(</span><span style=\"color: #008000; text-decoration-color: #008000\">'88bacb96-bbc0-413b-8bf0-660c413239e9'</span><span style=\"font-weight: bold\">)</span>,      <span style=\"color: #7f7f7f; text-decoration-color: #7f7f7f\">             </span>\n",
       "<span style=\"color: #7fbfbf; text-decoration-color: #7fbfbf\">                    </span>         <span style=\"color: #808000; text-decoration-color: #808000\">client</span>=<span style=\"color: #800080; text-decoration-color: #800080; font-style: italic\">None</span>, <span style=\"color: #808000; text-decoration-color: #808000\">name</span>=<span style=\"color: #008000; text-decoration-color: #008000\">'corrected-text'</span>, <span style=\"color: #808000; text-decoration-color: #808000\">title</span>=<span style=\"color: #008000; text-decoration-color: #008000\">'Provide a correction to the </span>  <span style=\"color: #7f7f7f; text-decoration-color: #7f7f7f\">             </span>\n",
       "<span style=\"color: #7fbfbf; text-decoration-color: #7fbfbf\">                    </span>         <span style=\"color: #008000; text-decoration-color: #008000\">response:'</span>, <span style=\"color: #808000; text-decoration-color: #808000\">description</span>=<span style=\"color: #800080; text-decoration-color: #800080; font-style: italic\">None</span>, <span style=\"color: #808000; text-decoration-color: #808000\">required</span>=<span style=\"color: #ff0000; text-decoration-color: #ff0000; font-style: italic\">False</span>, <span style=\"color: #808000; text-decoration-color: #808000\">type</span>=<span style=\"color: #008000; text-decoration-color: #008000\">'text'</span>,               <span style=\"color: #7f7f7f; text-decoration-color: #7f7f7f\">             </span>\n",
       "<span style=\"color: #7fbfbf; text-decoration-color: #7fbfbf\">                    </span>         <span style=\"color: #808000; text-decoration-color: #808000\">use_markdown</span>=<span style=\"color: #00ff00; text-decoration-color: #00ff00; font-style: italic\">True</span><span style=\"font-weight: bold\">)]</span>                                                      <span style=\"color: #7f7f7f; text-decoration-color: #7f7f7f\">             </span>\n",
       "<span style=\"color: #7fbfbf; text-decoration-color: #7fbfbf\">                    </span>            <span style=\"color: #808000; text-decoration-color: #808000\">guidelines</span>=<span style=\"color: #800080; text-decoration-color: #800080\">Answer</span> the questions to assess the quality of the response <span style=\"color: #7f7f7f; text-decoration-color: #7f7f7f\">             </span>\n",
       "<span style=\"color: #7fbfbf; text-decoration-color: #7fbfbf\">                    </span>         given by the chat assistant.                                             <span style=\"color: #7f7f7f; text-decoration-color: #7f7f7f\">             </span>\n",
       "<span style=\"color: #7fbfbf; text-decoration-color: #7fbfbf\">                    </span>            <span style=\"color: #808000; text-decoration-color: #808000\">metadata_properties</span>=<span style=\"font-weight: bold\">[</span><span style=\"color: #800080; text-decoration-color: #800080; font-weight: bold\">RemoteFloatMetadataProperty</span><span style=\"font-weight: bold\">(</span><span style=\"color: #808000; text-decoration-color: #808000\">id</span>=<span style=\"color: #800080; text-decoration-color: #800080; font-weight: bold\">UUID</span><span style=\"font-weight: bold\">(</span><span style=\"color: #008000; text-decoration-color: #008000\">'0a17f43c-0c</span> <span style=\"color: #7f7f7f; text-decoration-color: #7f7f7f\">             </span>\n",
       "<span style=\"color: #7fbfbf; text-decoration-color: #7fbfbf\">                    </span>         <span style=\"color: #008000; text-decoration-color: #008000\">5c-4c13-b0c1-49f32366c619'</span><span style=\"font-weight: bold\">)</span>, <span style=\"color: #808000; text-decoration-color: #808000\">client</span>=<span style=\"font-weight: bold\">&lt;</span><span style=\"color: #ff00ff; text-decoration-color: #ff00ff; font-weight: bold\">httpx.Client</span><span style=\"color: #000000; text-decoration-color: #000000\"> object at </span>             <span style=\"color: #7f7f7f; text-decoration-color: #7f7f7f\">             </span>\n",
       "<span style=\"color: #7fbfbf; text-decoration-color: #7fbfbf\">                    </span>         <span style=\"color: #008080; text-decoration-color: #008080; font-weight: bold\">0x000002C73AFD08E0</span><span style=\"color: #000000; text-decoration-color: #000000\">&gt;, </span><span style=\"color: #808000; text-decoration-color: #808000\">name</span><span style=\"color: #000000; text-decoration-color: #000000\">=</span><span style=\"color: #008000; text-decoration-color: #008000\">'prompt_entropy'</span><span style=\"color: #000000; text-decoration-color: #000000\">, </span><span style=\"color: #808000; text-decoration-color: #808000\">title</span><span style=\"color: #000000; text-decoration-color: #000000\">=</span><span style=\"color: #008000; text-decoration-color: #008000\">'Prompt Entropy'</span><span style=\"color: #000000; text-decoration-color: #000000\">, </span>     <span style=\"color: #7f7f7f; text-decoration-color: #7f7f7f\">             </span>\n",
       "<span style=\"color: #7fbfbf; text-decoration-color: #7fbfbf\">                    </span>         <span style=\"color: #808000; text-decoration-color: #808000\">visible_for_annotators</span><span style=\"color: #000000; text-decoration-color: #000000\">=</span><span style=\"color: #ff0000; text-decoration-color: #ff0000; font-style: italic\">False</span><span style=\"color: #000000; text-decoration-color: #000000\">, </span><span style=\"color: #808000; text-decoration-color: #808000\">type</span><span style=\"color: #000000; text-decoration-color: #000000\">=</span><span style=\"color: #008000; text-decoration-color: #008000\">'float'</span><span style=\"color: #000000; text-decoration-color: #000000\">, </span><span style=\"color: #808000; text-decoration-color: #808000\">min</span><span style=\"color: #000000; text-decoration-color: #000000\">=</span><span style=\"color: #800080; text-decoration-color: #800080; font-style: italic\">None</span><span style=\"color: #000000; text-decoration-color: #000000\">, </span><span style=\"color: #808000; text-decoration-color: #808000\">max</span><span style=\"color: #000000; text-decoration-color: #000000\">=</span><span style=\"color: #800080; text-decoration-color: #800080; font-style: italic\">None</span><span style=\"color: #000000; text-decoration-color: #000000; font-weight: bold\">)</span><span style=\"color: #000000; text-decoration-color: #000000\">, </span>        <span style=\"color: #7f7f7f; text-decoration-color: #7f7f7f\">             </span>\n",
       "<span style=\"color: #7fbfbf; text-decoration-color: #7fbfbf\">                    </span>         <span style=\"color: #800080; text-decoration-color: #800080; font-weight: bold\">RemoteFloatMetadataProperty</span><span style=\"color: #000000; text-decoration-color: #000000; font-weight: bold\">(</span><span style=\"color: #808000; text-decoration-color: #808000\">id</span><span style=\"color: #000000; text-decoration-color: #000000\">=</span><span style=\"color: #800080; text-decoration-color: #800080; font-weight: bold\">UUID</span><span style=\"color: #000000; text-decoration-color: #000000; font-weight: bold\">(</span><span style=\"color: #008000; text-decoration-color: #008000\">'14349dc9-5f63-44ad-966e-3dd0d2e0d54</span> <span style=\"color: #7f7f7f; text-decoration-color: #7f7f7f\">             </span>\n",
       "<span style=\"color: #7fbfbf; text-decoration-color: #7fbfbf\">                    </span>         <span style=\"color: #008000; text-decoration-color: #008000\">d'</span><span style=\"color: #000000; text-decoration-color: #000000; font-weight: bold\">)</span><span style=\"color: #000000; text-decoration-color: #000000\">, </span><span style=\"color: #808000; text-decoration-color: #808000\">client</span><span style=\"color: #000000; text-decoration-color: #000000\">=&lt;httpx.Client object at </span><span style=\"color: #008080; text-decoration-color: #008080; font-weight: bold\">0x000002C73AFD08E0</span><span style=\"color: #000000; text-decoration-color: #000000\">&gt;, </span>                <span style=\"color: #7f7f7f; text-decoration-color: #7f7f7f\">             </span>\n",
       "<span style=\"color: #7fbfbf; text-decoration-color: #7fbfbf\">                    </span>         <span style=\"color: #808000; text-decoration-color: #808000\">name</span><span style=\"color: #000000; text-decoration-color: #000000\">=</span><span style=\"color: #008000; text-decoration-color: #008000\">'prompt_perplexity'</span><span style=\"color: #000000; text-decoration-color: #000000\">, </span><span style=\"color: #808000; text-decoration-color: #808000\">title</span><span style=\"color: #000000; text-decoration-color: #000000\">=</span><span style=\"color: #008000; text-decoration-color: #008000\">'Prompt Perplexity'</span><span style=\"color: #000000; text-decoration-color: #000000\">, </span>                    <span style=\"color: #7f7f7f; text-decoration-color: #7f7f7f\">             </span>\n",
       "<span style=\"color: #7fbfbf; text-decoration-color: #7fbfbf\">                    </span>         <span style=\"color: #808000; text-decoration-color: #808000\">visible_for_annotators</span><span style=\"color: #000000; text-decoration-color: #000000\">=</span><span style=\"color: #ff0000; text-decoration-color: #ff0000; font-style: italic\">False</span><span style=\"color: #000000; text-decoration-color: #000000\">, </span><span style=\"color: #808000; text-decoration-color: #808000\">type</span><span style=\"color: #000000; text-decoration-color: #000000\">=</span><span style=\"color: #008000; text-decoration-color: #008000\">'float'</span><span style=\"color: #000000; text-decoration-color: #000000\">, </span><span style=\"color: #808000; text-decoration-color: #808000\">min</span><span style=\"color: #000000; text-decoration-color: #000000\">=</span><span style=\"color: #800080; text-decoration-color: #800080; font-style: italic\">None</span><span style=\"color: #000000; text-decoration-color: #000000\">, </span><span style=\"color: #808000; text-decoration-color: #808000\">max</span><span style=\"color: #000000; text-decoration-color: #000000\">=</span><span style=\"color: #800080; text-decoration-color: #800080; font-style: italic\">None</span><span style=\"color: #000000; text-decoration-color: #000000; font-weight: bold\">)</span><span style=\"color: #000000; text-decoration-color: #000000\">, </span>        <span style=\"color: #7f7f7f; text-decoration-color: #7f7f7f\">             </span>\n",
       "<span style=\"color: #7fbfbf; text-decoration-color: #7fbfbf\">                    </span>         <span style=\"color: #800080; text-decoration-color: #800080; font-weight: bold\">RemoteFloatMetadataProperty</span><span style=\"color: #000000; text-decoration-color: #000000; font-weight: bold\">(</span><span style=\"color: #808000; text-decoration-color: #808000\">id</span><span style=\"color: #000000; text-decoration-color: #000000\">=</span><span style=\"color: #800080; text-decoration-color: #800080; font-weight: bold\">UUID</span><span style=\"color: #000000; text-decoration-color: #000000; font-weight: bold\">(</span><span style=\"color: #008000; text-decoration-color: #008000\">'12fb9c18-1c7b-4f6f-8703-d8af13d4c74</span> <span style=\"color: #7f7f7f; text-decoration-color: #7f7f7f\">             </span>\n",
       "<span style=\"color: #7fbfbf; text-decoration-color: #7fbfbf\">                    </span>         <span style=\"color: #008000; text-decoration-color: #008000\">2'</span><span style=\"color: #000000; text-decoration-color: #000000; font-weight: bold\">)</span><span style=\"color: #000000; text-decoration-color: #000000\">, </span><span style=\"color: #808000; text-decoration-color: #808000\">client</span><span style=\"color: #000000; text-decoration-color: #000000\">=&lt;httpx.Client object at </span><span style=\"color: #008080; text-decoration-color: #008080; font-weight: bold\">0x000002C73AFD08E0</span><span style=\"font-weight: bold\">&gt;</span>,                 <span style=\"color: #7f7f7f; text-decoration-color: #7f7f7f\">             </span>\n",
       "<span style=\"color: #7fbfbf; text-decoration-color: #7fbfbf\">                    </span>         <span style=\"color: #808000; text-decoration-color: #808000\">name</span>=<span style=\"color: #008000; text-decoration-color: #008000\">'prompt_per_word_perplexity'</span>, <span style=\"color: #808000; text-decoration-color: #808000\">title</span>=<span style=\"color: #008000; text-decoration-color: #008000\">'Prompt Per Word Perplexity'</span>,   <span style=\"color: #7f7f7f; text-decoration-color: #7f7f7f\">             </span>\n",
       "<span style=\"color: #7fbfbf; text-decoration-color: #7fbfbf\">                    </span>         <span style=\"color: #808000; text-decoration-color: #808000\">visible_for_annotators</span>=<span style=\"color: #ff0000; text-decoration-color: #ff0000; font-style: italic\">False</span>, <span style=\"color: #808000; text-decoration-color: #808000\">type</span>=<span style=\"color: #008000; text-decoration-color: #008000\">'float'</span>, <span style=\"color: #808000; text-decoration-color: #808000\">min</span>=<span style=\"color: #800080; text-decoration-color: #800080; font-style: italic\">None</span>, <span style=\"color: #808000; text-decoration-color: #808000\">max</span>=<span style=\"color: #800080; text-decoration-color: #800080; font-style: italic\">None</span><span style=\"font-weight: bold\">)]</span>         <span style=\"color: #7f7f7f; text-decoration-color: #7f7f7f\">             </span>\n",
       "<span style=\"color: #7fbfbf; text-decoration-color: #7fbfbf\">                    </span>         <span style=\"font-weight: bold\">)</span>                                                                        <span style=\"color: #7f7f7f; text-decoration-color: #7f7f7f\">             </span>\n",
       "</pre>\n"
      ],
      "text/plain": [
       "\u001b[2;36m                   \u001b[0m\u001b[2;36m \u001b[0m\u001b[34mINFO    \u001b[0m INFO:argilla.client.feedback.dataset.local.mixins:\u001b[1;35mRemoteFeedbackDataset\u001b[0m\u001b[1m(\u001b[0m \u001b]8;id=456049;file://C:\\Users\\sarah\\Documents\\argilla\\src\\argilla\\client\\feedback\\dataset\\local\\mixins.py\u001b\\\u001b[2mmixins.py\u001b[0m\u001b]8;;\u001b\\\u001b[2m:\u001b[0m\u001b]8;id=741564;file://C:\\Users\\sarah\\Documents\\argilla\\src\\argilla\\client\\feedback\\dataset\\local\\mixins.py#282\u001b\\\u001b[2m282\u001b[0m\u001b]8;;\u001b\\\n",
       "\u001b[2;36m                    \u001b[0m            \u001b[33mid\u001b[0m=\u001b[93m51f8b953\u001b[0m\u001b[93m-02fb-440c-8a66-19d3d3c935a0\u001b[0m                               \u001b[2m             \u001b[0m\n",
       "\u001b[2;36m                    \u001b[0m            \u001b[33mname\u001b[0m=\u001b[35moasst_response_quality_no_metadata\u001b[0m                               \u001b[2m             \u001b[0m\n",
       "\u001b[2;36m                    \u001b[0m            \u001b[33mworkspace\u001b[0m=\u001b[1;35mWorkspace\u001b[0m\u001b[1m(\u001b[0m\u001b[33mid\u001b[0m=\u001b[93m507a6ccf\u001b[0m\u001b[93m-f7e0-40e9-9384-5c8840abb505\u001b[0m,          \u001b[2m             \u001b[0m\n",
       "\u001b[2;36m                    \u001b[0m         \u001b[33mname\u001b[0m=\u001b[35margilla\u001b[0m, \u001b[33minserted_at\u001b[0m=\u001b[1;36m2023\u001b[0m-\u001b[1;36m12\u001b[0m-\u001b[1;36m12\u001b[0m \u001b[1;92m14:04:58\u001b[0m.\u001b[1;36m940990\u001b[0m,                    \u001b[2m             \u001b[0m\n",
       "\u001b[2;36m                    \u001b[0m         \u001b[33mupdated_at\u001b[0m=\u001b[1;36m2023\u001b[0m-\u001b[1;36m12\u001b[0m-\u001b[1;36m12\u001b[0m \u001b[1;92m14:04:58\u001b[0m.\u001b[1;36m940990\u001b[0m\u001b[1m)\u001b[0m                                   \u001b[2m             \u001b[0m\n",
       "\u001b[2;36m                    \u001b[0m            \u001b[33murl\u001b[0m=\u001b[4;94mhttp\u001b[0m\u001b[4;94m://localhost:6900/dataset/51f8b953-02fb-440c-8a66-19d3d3c935a\u001b[0m \u001b[2m             \u001b[0m\n",
       "\u001b[2;36m                    \u001b[0m         \u001b[4;94m0/annotation-mode\u001b[0m                                                        \u001b[2m             \u001b[0m\n",
       "\u001b[2;36m                    \u001b[0m            \u001b[33mfields\u001b[0m=\u001b[1m[\u001b[0m\u001b[1;35mRemoteTextField\u001b[0m\u001b[1m(\u001b[0m\u001b[33mid\u001b[0m=\u001b[1;35mUUID\u001b[0m\u001b[1m(\u001b[0m\u001b[32m'236b9fe2-3886-438e-b549-925bc85626e8\u001b[0m \u001b[2m             \u001b[0m\n",
       "\u001b[2;36m                    \u001b[0m         \u001b[32m'\u001b[0m\u001b[1m)\u001b[0m, \u001b[33mclient\u001b[0m=\u001b[3;35mNone\u001b[0m, \u001b[33mname\u001b[0m=\u001b[32m'prompt'\u001b[0m, \u001b[33mtitle\u001b[0m=\u001b[32m'Prompt'\u001b[0m, \u001b[33mrequired\u001b[0m=\u001b[3;92mTrue\u001b[0m,           \u001b[2m             \u001b[0m\n",
       "\u001b[2;36m                    \u001b[0m         \u001b[33mtype\u001b[0m=\u001b[32m'text'\u001b[0m, \u001b[33muse_markdown\u001b[0m=\u001b[3;92mTrue\u001b[0m\u001b[1m)\u001b[0m,                                         \u001b[2m             \u001b[0m\n",
       "\u001b[2;36m                    \u001b[0m         \u001b[1;35mRemoteTextField\u001b[0m\u001b[1m(\u001b[0m\u001b[33mid\u001b[0m=\u001b[1;35mUUID\u001b[0m\u001b[1m(\u001b[0m\u001b[32m'd0bbf8ea-4a4a-46d8-8571-562d85e3020b'\u001b[0m\u001b[1m)\u001b[0m,         \u001b[2m             \u001b[0m\n",
       "\u001b[2;36m                    \u001b[0m         \u001b[33mclient\u001b[0m=\u001b[3;35mNone\u001b[0m, \u001b[33mname\u001b[0m=\u001b[32m'response'\u001b[0m, \u001b[33mtitle\u001b[0m=\u001b[32m'Response'\u001b[0m, \u001b[33mrequired\u001b[0m=\u001b[3;92mTrue\u001b[0m,           \u001b[2m             \u001b[0m\n",
       "\u001b[2;36m                    \u001b[0m         \u001b[33mtype\u001b[0m=\u001b[32m'text'\u001b[0m, \u001b[33muse_markdown\u001b[0m=\u001b[3;92mTrue\u001b[0m\u001b[1m)\u001b[0m\u001b[1m]\u001b[0m                                         \u001b[2m             \u001b[0m\n",
       "\u001b[2;36m                    \u001b[0m            \u001b[33mquestions\u001b[0m=\u001b[1m[\u001b[0m\u001b[1;35mRemoteLabelQuestion\u001b[0m\u001b[1m(\u001b[0m\u001b[33mid\u001b[0m=\u001b[1;35mUUID\u001b[0m\u001b[1m(\u001b[0m\u001b[32m'a887386d-1840-4dd3-aa0e-644ca\u001b[0m \u001b[2m             \u001b[0m\n",
       "\u001b[2;36m                    \u001b[0m         \u001b[32mb087f2a'\u001b[0m\u001b[1m)\u001b[0m, \u001b[33mclient\u001b[0m=\u001b[3;35mNone\u001b[0m, \u001b[33mname\u001b[0m=\u001b[32m'relevant'\u001b[0m, \u001b[33mtitle\u001b[0m=\u001b[32m'Is the response relevant\u001b[0m \u001b[2m             \u001b[0m\n",
       "\u001b[2;36m                    \u001b[0m         \u001b[32mfor the given prompt?'\u001b[0m, \u001b[33mdescription\u001b[0m=\u001b[3;35mNone\u001b[0m, \u001b[33mrequired\u001b[0m=\u001b[3;92mTrue\u001b[0m,                 \u001b[2m             \u001b[0m\n",
       "\u001b[2;36m                    \u001b[0m         \u001b[33mtype\u001b[0m=\u001b[32m'label_selection'\u001b[0m, \u001b[33mlabels\u001b[0m=\u001b[1m[\u001b[0m\u001b[32m'Yes'\u001b[0m, \u001b[32m'No'\u001b[0m\u001b[1m]\u001b[0m, \u001b[33mvisible_labels\u001b[0m=\u001b[3;35mNone\u001b[0m\u001b[1m)\u001b[0m,      \u001b[2m             \u001b[0m\n",
       "\u001b[2;36m                    \u001b[0m         \u001b[1;35mRemoteMultiLabelQuestion\u001b[0m\u001b[1m(\u001b[0m\u001b[33mid\u001b[0m=\u001b[1;35mUUID\u001b[0m\u001b[1m(\u001b[0m\u001b[32m'dbd1989a-582a-4f6f-8ed9-b6303422f161'\u001b[0m\u001b[1m)\u001b[0m \u001b[2m             \u001b[0m\n",
       "\u001b[2;36m                    \u001b[0m         , \u001b[33mclient\u001b[0m=\u001b[3;35mNone\u001b[0m, \u001b[33mname\u001b[0m=\u001b[32m'content_class'\u001b[0m, \u001b[33mtitle\u001b[0m=\u001b[32m'Does the response include \u001b[0m   \u001b[2m             \u001b[0m\n",
       "\u001b[2;36m                    \u001b[0m         \u001b[32many of the following?'\u001b[0m, \u001b[33mdescription\u001b[0m=\u001b[3;35mNone\u001b[0m, \u001b[33mrequired\u001b[0m=\u001b[3;91mFalse\u001b[0m,                \u001b[2m             \u001b[0m\n",
       "\u001b[2;36m                    \u001b[0m         \u001b[33mtype\u001b[0m=\u001b[32m'multi_label_selection'\u001b[0m, \u001b[33mlabels\u001b[0m=\u001b[1m{\u001b[0m\u001b[32m'hate'\u001b[0m: \u001b[32m'Hate Speech'\u001b[0m,             \u001b[2m             \u001b[0m\n",
       "\u001b[2;36m                    \u001b[0m         \u001b[32m'inappropriate'\u001b[0m: \u001b[32m'Inappropriate content'\u001b[0m, \u001b[32m'not_english'\u001b[0m: \u001b[32m'Not English'\u001b[0m,  \u001b[2m             \u001b[0m\n",
       "\u001b[2;36m                    \u001b[0m         \u001b[32m'pii'\u001b[0m: \u001b[32m'Personal information'\u001b[0m, \u001b[32m'sexual'\u001b[0m: \u001b[32m'Sexual content'\u001b[0m, \u001b[32m'untruthful'\u001b[0m: \u001b[2m             \u001b[0m\n",
       "\u001b[2;36m                    \u001b[0m         \u001b[32m'Untruthful info'\u001b[0m, \u001b[32m'violent'\u001b[0m: \u001b[32m'Violent content'\u001b[0m\u001b[1m}\u001b[0m, \u001b[33mvisible_labels\u001b[0m=\u001b[1;36m7\u001b[0m\u001b[1m)\u001b[0m,     \u001b[2m             \u001b[0m\n",
       "\u001b[2;36m                    \u001b[0m         \u001b[1;35mRemoteRatingQuestion\u001b[0m\u001b[1m(\u001b[0m\u001b[33mid\u001b[0m=\u001b[1;35mUUID\u001b[0m\u001b[1m(\u001b[0m\u001b[32m'19c8df93-d93a-47b7-a133-6507497fc2e5'\u001b[0m\u001b[1m)\u001b[0m,    \u001b[2m             \u001b[0m\n",
       "\u001b[2;36m                    \u001b[0m         \u001b[33mclient\u001b[0m=\u001b[3;35mNone\u001b[0m, \u001b[33mname\u001b[0m=\u001b[32m'rating'\u001b[0m, \u001b[33mtitle\u001b[0m=\u001b[32m'Rate the quality of the response:'\u001b[0m,   \u001b[2m             \u001b[0m\n",
       "\u001b[2;36m                    \u001b[0m         \u001b[33mdescription\u001b[0m=\u001b[3;35mNone\u001b[0m, \u001b[33mrequired\u001b[0m=\u001b[3;92mTrue\u001b[0m, \u001b[33mtype\u001b[0m=\u001b[32m'rating'\u001b[0m, \u001b[33mvalues\u001b[0m=\u001b[1m[\u001b[0m\u001b[1;36m1\u001b[0m, \u001b[1;36m2\u001b[0m, \u001b[1;36m3\u001b[0m, \u001b[1;36m4\u001b[0m, \u001b[1;36m5\u001b[0m,   \u001b[2m             \u001b[0m\n",
       "\u001b[2;36m                    \u001b[0m         \u001b[1;36m6\u001b[0m, \u001b[1;36m7\u001b[0m, \u001b[1;36m8\u001b[0m, \u001b[1;36m9\u001b[0m, \u001b[1;36m10\u001b[0m\u001b[1m]\u001b[0m\u001b[1m)\u001b[0m,                                                        \u001b[2m             \u001b[0m\n",
       "\u001b[2;36m                    \u001b[0m         \u001b[1;35mRemoteTextQuestion\u001b[0m\u001b[1m(\u001b[0m\u001b[33mid\u001b[0m=\u001b[1;35mUUID\u001b[0m\u001b[1m(\u001b[0m\u001b[32m'88bacb96-bbc0-413b-8bf0-660c413239e9'\u001b[0m\u001b[1m)\u001b[0m,      \u001b[2m             \u001b[0m\n",
       "\u001b[2;36m                    \u001b[0m         \u001b[33mclient\u001b[0m=\u001b[3;35mNone\u001b[0m, \u001b[33mname\u001b[0m=\u001b[32m'corrected-text'\u001b[0m, \u001b[33mtitle\u001b[0m=\u001b[32m'Provide a correction to the \u001b[0m  \u001b[2m             \u001b[0m\n",
       "\u001b[2;36m                    \u001b[0m         \u001b[32mresponse:'\u001b[0m, \u001b[33mdescription\u001b[0m=\u001b[3;35mNone\u001b[0m, \u001b[33mrequired\u001b[0m=\u001b[3;91mFalse\u001b[0m, \u001b[33mtype\u001b[0m=\u001b[32m'text'\u001b[0m,               \u001b[2m             \u001b[0m\n",
       "\u001b[2;36m                    \u001b[0m         \u001b[33muse_markdown\u001b[0m=\u001b[3;92mTrue\u001b[0m\u001b[1m)\u001b[0m\u001b[1m]\u001b[0m                                                      \u001b[2m             \u001b[0m\n",
       "\u001b[2;36m                    \u001b[0m            \u001b[33mguidelines\u001b[0m=\u001b[35mAnswer\u001b[0m the questions to assess the quality of the response \u001b[2m             \u001b[0m\n",
       "\u001b[2;36m                    \u001b[0m         given by the chat assistant.                                             \u001b[2m             \u001b[0m\n",
       "\u001b[2;36m                    \u001b[0m            \u001b[33mmetadata_properties\u001b[0m=\u001b[1m[\u001b[0m\u001b[1;35mRemoteFloatMetadataProperty\u001b[0m\u001b[1m(\u001b[0m\u001b[33mid\u001b[0m=\u001b[1;35mUUID\u001b[0m\u001b[1m(\u001b[0m\u001b[32m'0a17f43c-0c\u001b[0m \u001b[2m             \u001b[0m\n",
       "\u001b[2;36m                    \u001b[0m         \u001b[32m5c-4c13-b0c1-49f32366c619'\u001b[0m\u001b[1m)\u001b[0m, \u001b[33mclient\u001b[0m=\u001b[1m<\u001b[0m\u001b[1;95mhttpx.Client\u001b[0m\u001b[39m object at \u001b[0m             \u001b[2m             \u001b[0m\n",
       "\u001b[2;36m                    \u001b[0m         \u001b[1;36m0x000002C73AFD08E0\u001b[0m\u001b[39m>, \u001b[0m\u001b[33mname\u001b[0m\u001b[39m=\u001b[0m\u001b[32m'prompt_entropy'\u001b[0m\u001b[39m, \u001b[0m\u001b[33mtitle\u001b[0m\u001b[39m=\u001b[0m\u001b[32m'Prompt Entropy'\u001b[0m\u001b[39m, \u001b[0m     \u001b[2m             \u001b[0m\n",
       "\u001b[2;36m                    \u001b[0m         \u001b[33mvisible_for_annotators\u001b[0m\u001b[39m=\u001b[0m\u001b[3;91mFalse\u001b[0m\u001b[39m, \u001b[0m\u001b[33mtype\u001b[0m\u001b[39m=\u001b[0m\u001b[32m'float'\u001b[0m\u001b[39m, \u001b[0m\u001b[33mmin\u001b[0m\u001b[39m=\u001b[0m\u001b[3;35mNone\u001b[0m\u001b[39m, \u001b[0m\u001b[33mmax\u001b[0m\u001b[39m=\u001b[0m\u001b[3;35mNone\u001b[0m\u001b[1;39m)\u001b[0m\u001b[39m, \u001b[0m        \u001b[2m             \u001b[0m\n",
       "\u001b[2;36m                    \u001b[0m         \u001b[1;35mRemoteFloatMetadataProperty\u001b[0m\u001b[1;39m(\u001b[0m\u001b[33mid\u001b[0m\u001b[39m=\u001b[0m\u001b[1;35mUUID\u001b[0m\u001b[1;39m(\u001b[0m\u001b[32m'14349dc9-5f63-44ad-966e-3dd0d2e0d54\u001b[0m \u001b[2m             \u001b[0m\n",
       "\u001b[2;36m                    \u001b[0m         \u001b[32md'\u001b[0m\u001b[1;39m)\u001b[0m\u001b[39m, \u001b[0m\u001b[33mclient\u001b[0m\u001b[39m=<httpx.Client object at \u001b[0m\u001b[1;36m0x000002C73AFD08E0\u001b[0m\u001b[39m>, \u001b[0m                \u001b[2m             \u001b[0m\n",
       "\u001b[2;36m                    \u001b[0m         \u001b[33mname\u001b[0m\u001b[39m=\u001b[0m\u001b[32m'prompt_perplexity'\u001b[0m\u001b[39m, \u001b[0m\u001b[33mtitle\u001b[0m\u001b[39m=\u001b[0m\u001b[32m'Prompt Perplexity'\u001b[0m\u001b[39m, \u001b[0m                    \u001b[2m             \u001b[0m\n",
       "\u001b[2;36m                    \u001b[0m         \u001b[33mvisible_for_annotators\u001b[0m\u001b[39m=\u001b[0m\u001b[3;91mFalse\u001b[0m\u001b[39m, \u001b[0m\u001b[33mtype\u001b[0m\u001b[39m=\u001b[0m\u001b[32m'float'\u001b[0m\u001b[39m, \u001b[0m\u001b[33mmin\u001b[0m\u001b[39m=\u001b[0m\u001b[3;35mNone\u001b[0m\u001b[39m, \u001b[0m\u001b[33mmax\u001b[0m\u001b[39m=\u001b[0m\u001b[3;35mNone\u001b[0m\u001b[1;39m)\u001b[0m\u001b[39m, \u001b[0m        \u001b[2m             \u001b[0m\n",
       "\u001b[2;36m                    \u001b[0m         \u001b[1;35mRemoteFloatMetadataProperty\u001b[0m\u001b[1;39m(\u001b[0m\u001b[33mid\u001b[0m\u001b[39m=\u001b[0m\u001b[1;35mUUID\u001b[0m\u001b[1;39m(\u001b[0m\u001b[32m'12fb9c18-1c7b-4f6f-8703-d8af13d4c74\u001b[0m \u001b[2m             \u001b[0m\n",
       "\u001b[2;36m                    \u001b[0m         \u001b[32m2'\u001b[0m\u001b[1;39m)\u001b[0m\u001b[39m, \u001b[0m\u001b[33mclient\u001b[0m\u001b[39m=<httpx.Client object at \u001b[0m\u001b[1;36m0x000002C73AFD08E0\u001b[0m\u001b[1m>\u001b[0m,                 \u001b[2m             \u001b[0m\n",
       "\u001b[2;36m                    \u001b[0m         \u001b[33mname\u001b[0m=\u001b[32m'prompt_per_word_perplexity'\u001b[0m, \u001b[33mtitle\u001b[0m=\u001b[32m'Prompt Per Word Perplexity'\u001b[0m,   \u001b[2m             \u001b[0m\n",
       "\u001b[2;36m                    \u001b[0m         \u001b[33mvisible_for_annotators\u001b[0m=\u001b[3;91mFalse\u001b[0m, \u001b[33mtype\u001b[0m=\u001b[32m'float'\u001b[0m, \u001b[33mmin\u001b[0m=\u001b[3;35mNone\u001b[0m, \u001b[33mmax\u001b[0m=\u001b[3;35mNone\u001b[0m\u001b[1m)\u001b[0m\u001b[1m]\u001b[0m         \u001b[2m             \u001b[0m\n",
       "\u001b[2;36m                    \u001b[0m         \u001b[1m)\u001b[0m                                                                        \u001b[2m             \u001b[0m\n"
      ]
     },
     "metadata": {},
     "output_type": "display_data"
    },
    {
     "data": {
      "text/plain": [
       "RemoteFeedbackDataset(\n",
       "   id=51f8b953-02fb-440c-8a66-19d3d3c935a0\n",
       "   name=oasst_response_quality_no_metadata\n",
       "   workspace=Workspace(id=507a6ccf-f7e0-40e9-9384-5c8840abb505, name=argilla, inserted_at=2023-12-12 14:04:58.940990, updated_at=2023-12-12 14:04:58.940990)\n",
       "   url=http://localhost:6900/dataset/51f8b953-02fb-440c-8a66-19d3d3c935a0/annotation-mode\n",
       "   fields=[RemoteTextField(id=UUID('236b9fe2-3886-438e-b549-925bc85626e8'), client=None, name='prompt', title='Prompt', required=True, type='text', use_markdown=True), RemoteTextField(id=UUID('d0bbf8ea-4a4a-46d8-8571-562d85e3020b'), client=None, name='response', title='Response', required=True, type='text', use_markdown=True)]\n",
       "   questions=[RemoteLabelQuestion(id=UUID('a887386d-1840-4dd3-aa0e-644cab087f2a'), client=None, name='relevant', title='Is the response relevant for the given prompt?', description=None, required=True, type='label_selection', labels=['Yes', 'No'], visible_labels=None), RemoteMultiLabelQuestion(id=UUID('dbd1989a-582a-4f6f-8ed9-b6303422f161'), client=None, name='content_class', title='Does the response include any of the following?', description=None, required=False, type='multi_label_selection', labels={'hate': 'Hate Speech', 'inappropriate': 'Inappropriate content', 'not_english': 'Not English', 'pii': 'Personal information', 'sexual': 'Sexual content', 'untruthful': 'Untruthful info', 'violent': 'Violent content'}, visible_labels=7), RemoteRatingQuestion(id=UUID('19c8df93-d93a-47b7-a133-6507497fc2e5'), client=None, name='rating', title='Rate the quality of the response:', description=None, required=True, type='rating', values=[1, 2, 3, 4, 5, 6, 7, 8, 9, 10]), RemoteTextQuestion(id=UUID('88bacb96-bbc0-413b-8bf0-660c413239e9'), client=None, name='corrected-text', title='Provide a correction to the response:', description=None, required=False, type='text', use_markdown=True)]\n",
       "   guidelines=Answer the questions to assess the quality of the response given by the chat assistant.\n",
       "   metadata_properties=[RemoteFloatMetadataProperty(id=UUID('0a17f43c-0c5c-4c13-b0c1-49f32366c619'), client=<httpx.Client object at 0x000002C73AFD08E0>, name='prompt_entropy', title='Prompt Entropy', visible_for_annotators=False, type='float', min=None, max=None), RemoteFloatMetadataProperty(id=UUID('14349dc9-5f63-44ad-966e-3dd0d2e0d54d'), client=<httpx.Client object at 0x000002C73AFD08E0>, name='prompt_perplexity', title='Prompt Perplexity', visible_for_annotators=False, type='float', min=None, max=None), RemoteFloatMetadataProperty(id=UUID('12fb9c18-1c7b-4f6f-8703-d8af13d4c742'), client=<httpx.Client object at 0x000002C73AFD08E0>, name='prompt_per_word_perplexity', title='Prompt Per Word Perplexity', visible_for_annotators=False, type='float', min=None, max=None)]\n",
       ")"
      ]
     },
     "execution_count": 30,
     "metadata": {},
     "output_type": "execute_result"
    }
   ],
   "source": [
    "dataset.push_to_argilla(name=\"oasst_response_quality_no_metadata\", workspace=\"argilla\")"
   ]
  },
  {
   "cell_type": "markdown",
   "metadata": {},
   "source": [
    "## check other langauges OK"
   ]
  },
  {
   "cell_type": "code",
   "execution_count": 109,
   "metadata": {},
   "outputs": [
    {
     "name": "stdout",
     "output_type": "stream",
     "text": [
      "self.metrics None\n",
      "self.fields None\n",
      "forallfields:before:fields None\n",
      "forallfields: after:fields ['text3', 'text', 'text2']\n",
      "\u001b[38;5;4mℹ No spacy model provided. Inferring spacy model for es.\u001b[0m\n",
      "\u001b[38;5;2m✔ Download and installation successful\u001b[0m\n",
      "You can now load the package via spacy.load('es_core_news_lg')\n",
      "forsinglefield:nan_columns []\n",
      "forsinglefield:basic_metrics None\n",
      "forsinglefield:self.metrics None\n",
      "\u001b[38;5;4mℹ No spacy model provided. Inferring spacy model for es.\u001b[0m\n",
      "\u001b[38;5;2m✔ Download and installation successful\u001b[0m\n",
      "You can now load the package via spacy.load('es_core_news_lg')\n",
      "forsinglefield:nan_columns ['second_order_coherence', 'smog']\n"
     ]
    },
    {
     "data": {
      "text/html": [
       "<pre style=\"white-space:pre;overflow-x:auto;line-height:normal;font-family:Menlo,'DejaVu Sans Mono',consolas,'Courier New',monospace\"><span style=\"color: #7fbfbf; text-decoration-color: #7fbfbf\">[12/14/23 12:56:50] </span><span style=\"color: #800000; text-decoration-color: #800000\">WARNING </span> WARNING:__main__:The following columns contain only NaN values:      <a href=\"file://C:\\Users\\sarah\\AppData\\Local\\Temp\\ipykernel_19576\\3218720027.py\" target=\"_blank\"><span style=\"color: #7f7f7f; text-decoration-color: #7f7f7f\">3218720027.py</span></a><span style=\"color: #7f7f7f; text-decoration-color: #7f7f7f\">:</span><a href=\"file://C:\\Users\\sarah\\AppData\\Local\\Temp\\ipykernel_19576\\3218720027.py#110\" target=\"_blank\"><span style=\"color: #7f7f7f; text-decoration-color: #7f7f7f\">110</span></a>\n",
       "<span style=\"color: #7fbfbf; text-decoration-color: #7fbfbf\">                    </span>         <span style=\"font-weight: bold\">[</span><span style=\"color: #008000; text-decoration-color: #008000\">'second_order_coherence'</span>, <span style=\"color: #008000; text-decoration-color: #008000\">'smog'</span><span style=\"font-weight: bold\">]</span>                                   <span style=\"color: #7f7f7f; text-decoration-color: #7f7f7f\">                 </span>\n",
       "</pre>\n"
      ],
      "text/plain": [
       "\u001b[2;36m[12/14/23 12:56:50]\u001b[0m\u001b[2;36m \u001b[0m\u001b[31mWARNING \u001b[0m WARNING:__main__:The following columns contain only NaN values:      \u001b]8;id=829606;file://C:\\Users\\sarah\\AppData\\Local\\Temp\\ipykernel_19576\\3218720027.py\u001b\\\u001b[2m3218720027.py\u001b[0m\u001b]8;;\u001b\\\u001b[2m:\u001b[0m\u001b]8;id=84447;file://C:\\Users\\sarah\\AppData\\Local\\Temp\\ipykernel_19576\\3218720027.py#110\u001b\\\u001b[2m110\u001b[0m\u001b]8;;\u001b\\\n",
       "\u001b[2;36m                    \u001b[0m         \u001b[1m[\u001b[0m\u001b[32m'second_order_coherence'\u001b[0m, \u001b[32m'smog'\u001b[0m\u001b[1m]\u001b[0m                                   \u001b[2m                 \u001b[0m\n"
      ]
     },
     "metadata": {},
     "output_type": "display_data"
    },
    {
     "name": "stdout",
     "output_type": "stream",
     "text": [
      "forsinglefield:basic_metrics None\n",
      "forsinglefield:self.metrics None\n",
      "\u001b[38;5;4mℹ No spacy model provided. Inferring spacy model for es.\u001b[0m\n",
      "\u001b[38;5;2m✔ Download and installation successful\u001b[0m\n",
      "You can now load the package via spacy.load('es_core_news_lg')\n",
      "forsinglefield:nan_columns ['second_order_coherence', 'smog']\n"
     ]
    },
    {
     "data": {
      "text/html": [
       "<pre style=\"white-space:pre;overflow-x:auto;line-height:normal;font-family:Menlo,'DejaVu Sans Mono',consolas,'Courier New',monospace\"><span style=\"color: #7fbfbf; text-decoration-color: #7fbfbf\">[12/14/23 12:57:06] </span><span style=\"color: #800000; text-decoration-color: #800000\">WARNING </span> WARNING:__main__:The following columns contain only NaN values:      <a href=\"file://C:\\Users\\sarah\\AppData\\Local\\Temp\\ipykernel_19576\\3218720027.py\" target=\"_blank\"><span style=\"color: #7f7f7f; text-decoration-color: #7f7f7f\">3218720027.py</span></a><span style=\"color: #7f7f7f; text-decoration-color: #7f7f7f\">:</span><a href=\"file://C:\\Users\\sarah\\AppData\\Local\\Temp\\ipykernel_19576\\3218720027.py#110\" target=\"_blank\"><span style=\"color: #7f7f7f; text-decoration-color: #7f7f7f\">110</span></a>\n",
       "<span style=\"color: #7fbfbf; text-decoration-color: #7fbfbf\">                    </span>         <span style=\"font-weight: bold\">[</span><span style=\"color: #008000; text-decoration-color: #008000\">'second_order_coherence'</span>, <span style=\"color: #008000; text-decoration-color: #008000\">'smog'</span><span style=\"font-weight: bold\">]</span>                                   <span style=\"color: #7f7f7f; text-decoration-color: #7f7f7f\">                 </span>\n",
       "</pre>\n"
      ],
      "text/plain": [
       "\u001b[2;36m[12/14/23 12:57:06]\u001b[0m\u001b[2;36m \u001b[0m\u001b[31mWARNING \u001b[0m WARNING:__main__:The following columns contain only NaN values:      \u001b]8;id=529342;file://C:\\Users\\sarah\\AppData\\Local\\Temp\\ipykernel_19576\\3218720027.py\u001b\\\u001b[2m3218720027.py\u001b[0m\u001b]8;;\u001b\\\u001b[2m:\u001b[0m\u001b]8;id=276531;file://C:\\Users\\sarah\\AppData\\Local\\Temp\\ipykernel_19576\\3218720027.py#110\u001b\\\u001b[2m110\u001b[0m\u001b]8;;\u001b\\\n",
       "\u001b[2;36m                    \u001b[0m         \u001b[1m[\u001b[0m\u001b[32m'second_order_coherence'\u001b[0m, \u001b[32m'smog'\u001b[0m\u001b[1m]\u001b[0m                                   \u001b[2m                 \u001b[0m\n"
      ]
     },
     "metadata": {},
     "output_type": "display_data"
    },
    {
     "data": {
      "application/vnd.jupyter.widget-view+json": {
       "model_id": "ea26b683bf104d829f124c62ddf75884",
       "version_major": 2,
       "version_minor": 0
      },
      "text/plain": [
       "Output()"
      ]
     },
     "metadata": {},
     "output_type": "display_data"
    },
    {
     "name": "stdout",
     "output_type": "stream",
     "text": [
      "forsinglefield:basic_metrics None\n",
      "forsinglefield:self.metrics None\n",
      "forallfields:field_metrics.items\n",
      "Field: text3, Metrics:    text3_n_tokens  text3_n_unique_tokens  text3_n_sentences  text3_perplexity  \\\n",
      "0              11                     11                  2          1.228007   \n",
      "1               2                      2                  1          1.000130   \n",
      "2               9                      9                  4          1.465586   \n",
      "\n",
      "   text3_entropy  text3_flesch_reading_ease  \n",
      "0       0.205392                 101.270682  \n",
      "1       0.000130                 120.205000  \n",
      "2       0.382255                  82.351250  \n",
      "Field: text, Metrics:    text_n_tokens  text_n_unique_tokens  text_n_sentences  text_perplexity  \\\n",
      "0              4                     4                 1         1.192937   \n",
      "1              2                     2                 2         1.000806   \n",
      "2              3                     3                 1         1.000135   \n",
      "\n",
      "   text_entropy  text_flesch_reading_ease  \n",
      "0      0.176419                   118.175  \n",
      "1      0.000806                   121.220  \n",
      "2      0.000135                    90.990  \n",
      "Field: text2, Metrics:    text2_n_tokens  text2_n_unique_tokens  text2_n_sentences  text2_perplexity  \\\n",
      "0              12                     10                  2          1.535338   \n",
      "1               2                      2                  1          1.106881   \n",
      "2              15                     15                  1          1.164695   \n",
      "\n",
      "   text2_entropy  text2_flesch_reading_ease  \n",
      "0       0.428750                     94.995  \n",
      "1       0.101546                     77.905  \n",
      "2       0.152459                     78.810  \n",
      "3\n",
      "dtype int32\n",
      "[IntegerMetadataProperty(name='text3_n_tokens', title='Text3 N Tokens', visible_for_annotators=True, type='integer', min=None, max=None)]\n",
      "dtype int32\n",
      "[IntegerMetadataProperty(name='text3_n_tokens', title='Text3 N Tokens', visible_for_annotators=True, type='integer', min=None, max=None), IntegerMetadataProperty(name='text3_n_unique_tokens', title='Text3 N Unique Tokens', visible_for_annotators=True, type='integer', min=None, max=None)]\n",
      "dtype int32\n",
      "[IntegerMetadataProperty(name='text3_n_tokens', title='Text3 N Tokens', visible_for_annotators=True, type='integer', min=None, max=None), IntegerMetadataProperty(name='text3_n_unique_tokens', title='Text3 N Unique Tokens', visible_for_annotators=True, type='integer', min=None, max=None), IntegerMetadataProperty(name='text3_n_sentences', title='Text3 N Sentences', visible_for_annotators=True, type='integer', min=None, max=None)]\n",
      "dtype float64\n",
      "[IntegerMetadataProperty(name='text3_n_tokens', title='Text3 N Tokens', visible_for_annotators=True, type='integer', min=None, max=None), IntegerMetadataProperty(name='text3_n_unique_tokens', title='Text3 N Unique Tokens', visible_for_annotators=True, type='integer', min=None, max=None), IntegerMetadataProperty(name='text3_n_sentences', title='Text3 N Sentences', visible_for_annotators=True, type='integer', min=None, max=None), FloatMetadataProperty(name='text3_perplexity', title='Text3 Perplexity', visible_for_annotators=True, type='float', min=None, max=None)]\n",
      "dtype float64\n",
      "[IntegerMetadataProperty(name='text3_n_tokens', title='Text3 N Tokens', visible_for_annotators=True, type='integer', min=None, max=None), IntegerMetadataProperty(name='text3_n_unique_tokens', title='Text3 N Unique Tokens', visible_for_annotators=True, type='integer', min=None, max=None), IntegerMetadataProperty(name='text3_n_sentences', title='Text3 N Sentences', visible_for_annotators=True, type='integer', min=None, max=None), FloatMetadataProperty(name='text3_perplexity', title='Text3 Perplexity', visible_for_annotators=True, type='float', min=None, max=None), FloatMetadataProperty(name='text3_entropy', title='Text3 Entropy', visible_for_annotators=True, type='float', min=None, max=None)]\n",
      "dtype float64\n",
      "[IntegerMetadataProperty(name='text3_n_tokens', title='Text3 N Tokens', visible_for_annotators=True, type='integer', min=None, max=None), IntegerMetadataProperty(name='text3_n_unique_tokens', title='Text3 N Unique Tokens', visible_for_annotators=True, type='integer', min=None, max=None), IntegerMetadataProperty(name='text3_n_sentences', title='Text3 N Sentences', visible_for_annotators=True, type='integer', min=None, max=None), FloatMetadataProperty(name='text3_perplexity', title='Text3 Perplexity', visible_for_annotators=True, type='float', min=None, max=None), FloatMetadataProperty(name='text3_entropy', title='Text3 Entropy', visible_for_annotators=True, type='float', min=None, max=None), FloatMetadataProperty(name='text3_flesch_reading_ease', title='Text3 Flesch Reading Ease', visible_for_annotators=True, type='float', min=None, max=None)]\n",
      "dtype int32\n",
      "[IntegerMetadataProperty(name='text3_n_tokens', title='Text3 N Tokens', visible_for_annotators=True, type='integer', min=None, max=None), IntegerMetadataProperty(name='text3_n_unique_tokens', title='Text3 N Unique Tokens', visible_for_annotators=True, type='integer', min=None, max=None), IntegerMetadataProperty(name='text3_n_sentences', title='Text3 N Sentences', visible_for_annotators=True, type='integer', min=None, max=None), FloatMetadataProperty(name='text3_perplexity', title='Text3 Perplexity', visible_for_annotators=True, type='float', min=None, max=None), FloatMetadataProperty(name='text3_entropy', title='Text3 Entropy', visible_for_annotators=True, type='float', min=None, max=None), FloatMetadataProperty(name='text3_flesch_reading_ease', title='Text3 Flesch Reading Ease', visible_for_annotators=True, type='float', min=None, max=None), IntegerMetadataProperty(name='text_n_tokens', title='Text N Tokens', visible_for_annotators=True, type='integer', min=None, max=None)]\n",
      "dtype int32\n",
      "[IntegerMetadataProperty(name='text3_n_tokens', title='Text3 N Tokens', visible_for_annotators=True, type='integer', min=None, max=None), IntegerMetadataProperty(name='text3_n_unique_tokens', title='Text3 N Unique Tokens', visible_for_annotators=True, type='integer', min=None, max=None), IntegerMetadataProperty(name='text3_n_sentences', title='Text3 N Sentences', visible_for_annotators=True, type='integer', min=None, max=None), FloatMetadataProperty(name='text3_perplexity', title='Text3 Perplexity', visible_for_annotators=True, type='float', min=None, max=None), FloatMetadataProperty(name='text3_entropy', title='Text3 Entropy', visible_for_annotators=True, type='float', min=None, max=None), FloatMetadataProperty(name='text3_flesch_reading_ease', title='Text3 Flesch Reading Ease', visible_for_annotators=True, type='float', min=None, max=None), IntegerMetadataProperty(name='text_n_tokens', title='Text N Tokens', visible_for_annotators=True, type='integer', min=None, max=None), IntegerMetadataProperty(name='text_n_unique_tokens', title='Text N Unique Tokens', visible_for_annotators=True, type='integer', min=None, max=None)]\n",
      "dtype int32\n",
      "[IntegerMetadataProperty(name='text3_n_tokens', title='Text3 N Tokens', visible_for_annotators=True, type='integer', min=None, max=None), IntegerMetadataProperty(name='text3_n_unique_tokens', title='Text3 N Unique Tokens', visible_for_annotators=True, type='integer', min=None, max=None), IntegerMetadataProperty(name='text3_n_sentences', title='Text3 N Sentences', visible_for_annotators=True, type='integer', min=None, max=None), FloatMetadataProperty(name='text3_perplexity', title='Text3 Perplexity', visible_for_annotators=True, type='float', min=None, max=None), FloatMetadataProperty(name='text3_entropy', title='Text3 Entropy', visible_for_annotators=True, type='float', min=None, max=None), FloatMetadataProperty(name='text3_flesch_reading_ease', title='Text3 Flesch Reading Ease', visible_for_annotators=True, type='float', min=None, max=None), IntegerMetadataProperty(name='text_n_tokens', title='Text N Tokens', visible_for_annotators=True, type='integer', min=None, max=None), IntegerMetadataProperty(name='text_n_unique_tokens', title='Text N Unique Tokens', visible_for_annotators=True, type='integer', min=None, max=None), IntegerMetadataProperty(name='text_n_sentences', title='Text N Sentences', visible_for_annotators=True, type='integer', min=None, max=None)]\n",
      "dtype float64\n",
      "[IntegerMetadataProperty(name='text3_n_tokens', title='Text3 N Tokens', visible_for_annotators=True, type='integer', min=None, max=None), IntegerMetadataProperty(name='text3_n_unique_tokens', title='Text3 N Unique Tokens', visible_for_annotators=True, type='integer', min=None, max=None), IntegerMetadataProperty(name='text3_n_sentences', title='Text3 N Sentences', visible_for_annotators=True, type='integer', min=None, max=None), FloatMetadataProperty(name='text3_perplexity', title='Text3 Perplexity', visible_for_annotators=True, type='float', min=None, max=None), FloatMetadataProperty(name='text3_entropy', title='Text3 Entropy', visible_for_annotators=True, type='float', min=None, max=None), FloatMetadataProperty(name='text3_flesch_reading_ease', title='Text3 Flesch Reading Ease', visible_for_annotators=True, type='float', min=None, max=None), IntegerMetadataProperty(name='text_n_tokens', title='Text N Tokens', visible_for_annotators=True, type='integer', min=None, max=None), IntegerMetadataProperty(name='text_n_unique_tokens', title='Text N Unique Tokens', visible_for_annotators=True, type='integer', min=None, max=None), IntegerMetadataProperty(name='text_n_sentences', title='Text N Sentences', visible_for_annotators=True, type='integer', min=None, max=None), FloatMetadataProperty(name='text_perplexity', title='Text Perplexity', visible_for_annotators=True, type='float', min=None, max=None)]\n",
      "dtype float64\n",
      "[IntegerMetadataProperty(name='text3_n_tokens', title='Text3 N Tokens', visible_for_annotators=True, type='integer', min=None, max=None), IntegerMetadataProperty(name='text3_n_unique_tokens', title='Text3 N Unique Tokens', visible_for_annotators=True, type='integer', min=None, max=None), IntegerMetadataProperty(name='text3_n_sentences', title='Text3 N Sentences', visible_for_annotators=True, type='integer', min=None, max=None), FloatMetadataProperty(name='text3_perplexity', title='Text3 Perplexity', visible_for_annotators=True, type='float', min=None, max=None), FloatMetadataProperty(name='text3_entropy', title='Text3 Entropy', visible_for_annotators=True, type='float', min=None, max=None), FloatMetadataProperty(name='text3_flesch_reading_ease', title='Text3 Flesch Reading Ease', visible_for_annotators=True, type='float', min=None, max=None), IntegerMetadataProperty(name='text_n_tokens', title='Text N Tokens', visible_for_annotators=True, type='integer', min=None, max=None), IntegerMetadataProperty(name='text_n_unique_tokens', title='Text N Unique Tokens', visible_for_annotators=True, type='integer', min=None, max=None), IntegerMetadataProperty(name='text_n_sentences', title='Text N Sentences', visible_for_annotators=True, type='integer', min=None, max=None), FloatMetadataProperty(name='text_perplexity', title='Text Perplexity', visible_for_annotators=True, type='float', min=None, max=None), FloatMetadataProperty(name='text_entropy', title='Text Entropy', visible_for_annotators=True, type='float', min=None, max=None)]\n",
      "dtype float64\n",
      "[IntegerMetadataProperty(name='text3_n_tokens', title='Text3 N Tokens', visible_for_annotators=True, type='integer', min=None, max=None), IntegerMetadataProperty(name='text3_n_unique_tokens', title='Text3 N Unique Tokens', visible_for_annotators=True, type='integer', min=None, max=None), IntegerMetadataProperty(name='text3_n_sentences', title='Text3 N Sentences', visible_for_annotators=True, type='integer', min=None, max=None), FloatMetadataProperty(name='text3_perplexity', title='Text3 Perplexity', visible_for_annotators=True, type='float', min=None, max=None), FloatMetadataProperty(name='text3_entropy', title='Text3 Entropy', visible_for_annotators=True, type='float', min=None, max=None), FloatMetadataProperty(name='text3_flesch_reading_ease', title='Text3 Flesch Reading Ease', visible_for_annotators=True, type='float', min=None, max=None), IntegerMetadataProperty(name='text_n_tokens', title='Text N Tokens', visible_for_annotators=True, type='integer', min=None, max=None), IntegerMetadataProperty(name='text_n_unique_tokens', title='Text N Unique Tokens', visible_for_annotators=True, type='integer', min=None, max=None), IntegerMetadataProperty(name='text_n_sentences', title='Text N Sentences', visible_for_annotators=True, type='integer', min=None, max=None), FloatMetadataProperty(name='text_perplexity', title='Text Perplexity', visible_for_annotators=True, type='float', min=None, max=None), FloatMetadataProperty(name='text_entropy', title='Text Entropy', visible_for_annotators=True, type='float', min=None, max=None), FloatMetadataProperty(name='text_flesch_reading_ease', title='Text Flesch Reading Ease', visible_for_annotators=True, type='float', min=None, max=None)]\n",
      "dtype int32\n",
      "[IntegerMetadataProperty(name='text3_n_tokens', title='Text3 N Tokens', visible_for_annotators=True, type='integer', min=None, max=None), IntegerMetadataProperty(name='text3_n_unique_tokens', title='Text3 N Unique Tokens', visible_for_annotators=True, type='integer', min=None, max=None), IntegerMetadataProperty(name='text3_n_sentences', title='Text3 N Sentences', visible_for_annotators=True, type='integer', min=None, max=None), FloatMetadataProperty(name='text3_perplexity', title='Text3 Perplexity', visible_for_annotators=True, type='float', min=None, max=None), FloatMetadataProperty(name='text3_entropy', title='Text3 Entropy', visible_for_annotators=True, type='float', min=None, max=None), FloatMetadataProperty(name='text3_flesch_reading_ease', title='Text3 Flesch Reading Ease', visible_for_annotators=True, type='float', min=None, max=None), IntegerMetadataProperty(name='text_n_tokens', title='Text N Tokens', visible_for_annotators=True, type='integer', min=None, max=None), IntegerMetadataProperty(name='text_n_unique_tokens', title='Text N Unique Tokens', visible_for_annotators=True, type='integer', min=None, max=None), IntegerMetadataProperty(name='text_n_sentences', title='Text N Sentences', visible_for_annotators=True, type='integer', min=None, max=None), FloatMetadataProperty(name='text_perplexity', title='Text Perplexity', visible_for_annotators=True, type='float', min=None, max=None), FloatMetadataProperty(name='text_entropy', title='Text Entropy', visible_for_annotators=True, type='float', min=None, max=None), FloatMetadataProperty(name='text_flesch_reading_ease', title='Text Flesch Reading Ease', visible_for_annotators=True, type='float', min=None, max=None), IntegerMetadataProperty(name='text2_n_tokens', title='Text2 N Tokens', visible_for_annotators=True, type='integer', min=None, max=None)]\n",
      "dtype int32\n",
      "[IntegerMetadataProperty(name='text3_n_tokens', title='Text3 N Tokens', visible_for_annotators=True, type='integer', min=None, max=None), IntegerMetadataProperty(name='text3_n_unique_tokens', title='Text3 N Unique Tokens', visible_for_annotators=True, type='integer', min=None, max=None), IntegerMetadataProperty(name='text3_n_sentences', title='Text3 N Sentences', visible_for_annotators=True, type='integer', min=None, max=None), FloatMetadataProperty(name='text3_perplexity', title='Text3 Perplexity', visible_for_annotators=True, type='float', min=None, max=None), FloatMetadataProperty(name='text3_entropy', title='Text3 Entropy', visible_for_annotators=True, type='float', min=None, max=None), FloatMetadataProperty(name='text3_flesch_reading_ease', title='Text3 Flesch Reading Ease', visible_for_annotators=True, type='float', min=None, max=None), IntegerMetadataProperty(name='text_n_tokens', title='Text N Tokens', visible_for_annotators=True, type='integer', min=None, max=None), IntegerMetadataProperty(name='text_n_unique_tokens', title='Text N Unique Tokens', visible_for_annotators=True, type='integer', min=None, max=None), IntegerMetadataProperty(name='text_n_sentences', title='Text N Sentences', visible_for_annotators=True, type='integer', min=None, max=None), FloatMetadataProperty(name='text_perplexity', title='Text Perplexity', visible_for_annotators=True, type='float', min=None, max=None), FloatMetadataProperty(name='text_entropy', title='Text Entropy', visible_for_annotators=True, type='float', min=None, max=None), FloatMetadataProperty(name='text_flesch_reading_ease', title='Text Flesch Reading Ease', visible_for_annotators=True, type='float', min=None, max=None), IntegerMetadataProperty(name='text2_n_tokens', title='Text2 N Tokens', visible_for_annotators=True, type='integer', min=None, max=None), IntegerMetadataProperty(name='text2_n_unique_tokens', title='Text2 N Unique Tokens', visible_for_annotators=True, type='integer', min=None, max=None)]\n",
      "dtype int32\n",
      "[IntegerMetadataProperty(name='text3_n_tokens', title='Text3 N Tokens', visible_for_annotators=True, type='integer', min=None, max=None), IntegerMetadataProperty(name='text3_n_unique_tokens', title='Text3 N Unique Tokens', visible_for_annotators=True, type='integer', min=None, max=None), IntegerMetadataProperty(name='text3_n_sentences', title='Text3 N Sentences', visible_for_annotators=True, type='integer', min=None, max=None), FloatMetadataProperty(name='text3_perplexity', title='Text3 Perplexity', visible_for_annotators=True, type='float', min=None, max=None), FloatMetadataProperty(name='text3_entropy', title='Text3 Entropy', visible_for_annotators=True, type='float', min=None, max=None), FloatMetadataProperty(name='text3_flesch_reading_ease', title='Text3 Flesch Reading Ease', visible_for_annotators=True, type='float', min=None, max=None), IntegerMetadataProperty(name='text_n_tokens', title='Text N Tokens', visible_for_annotators=True, type='integer', min=None, max=None), IntegerMetadataProperty(name='text_n_unique_tokens', title='Text N Unique Tokens', visible_for_annotators=True, type='integer', min=None, max=None), IntegerMetadataProperty(name='text_n_sentences', title='Text N Sentences', visible_for_annotators=True, type='integer', min=None, max=None), FloatMetadataProperty(name='text_perplexity', title='Text Perplexity', visible_for_annotators=True, type='float', min=None, max=None), FloatMetadataProperty(name='text_entropy', title='Text Entropy', visible_for_annotators=True, type='float', min=None, max=None), FloatMetadataProperty(name='text_flesch_reading_ease', title='Text Flesch Reading Ease', visible_for_annotators=True, type='float', min=None, max=None), IntegerMetadataProperty(name='text2_n_tokens', title='Text2 N Tokens', visible_for_annotators=True, type='integer', min=None, max=None), IntegerMetadataProperty(name='text2_n_unique_tokens', title='Text2 N Unique Tokens', visible_for_annotators=True, type='integer', min=None, max=None), IntegerMetadataProperty(name='text2_n_sentences', title='Text2 N Sentences', visible_for_annotators=True, type='integer', min=None, max=None)]\n",
      "dtype float64\n",
      "[IntegerMetadataProperty(name='text3_n_tokens', title='Text3 N Tokens', visible_for_annotators=True, type='integer', min=None, max=None), IntegerMetadataProperty(name='text3_n_unique_tokens', title='Text3 N Unique Tokens', visible_for_annotators=True, type='integer', min=None, max=None), IntegerMetadataProperty(name='text3_n_sentences', title='Text3 N Sentences', visible_for_annotators=True, type='integer', min=None, max=None), FloatMetadataProperty(name='text3_perplexity', title='Text3 Perplexity', visible_for_annotators=True, type='float', min=None, max=None), FloatMetadataProperty(name='text3_entropy', title='Text3 Entropy', visible_for_annotators=True, type='float', min=None, max=None), FloatMetadataProperty(name='text3_flesch_reading_ease', title='Text3 Flesch Reading Ease', visible_for_annotators=True, type='float', min=None, max=None), IntegerMetadataProperty(name='text_n_tokens', title='Text N Tokens', visible_for_annotators=True, type='integer', min=None, max=None), IntegerMetadataProperty(name='text_n_unique_tokens', title='Text N Unique Tokens', visible_for_annotators=True, type='integer', min=None, max=None), IntegerMetadataProperty(name='text_n_sentences', title='Text N Sentences', visible_for_annotators=True, type='integer', min=None, max=None), FloatMetadataProperty(name='text_perplexity', title='Text Perplexity', visible_for_annotators=True, type='float', min=None, max=None), FloatMetadataProperty(name='text_entropy', title='Text Entropy', visible_for_annotators=True, type='float', min=None, max=None), FloatMetadataProperty(name='text_flesch_reading_ease', title='Text Flesch Reading Ease', visible_for_annotators=True, type='float', min=None, max=None), IntegerMetadataProperty(name='text2_n_tokens', title='Text2 N Tokens', visible_for_annotators=True, type='integer', min=None, max=None), IntegerMetadataProperty(name='text2_n_unique_tokens', title='Text2 N Unique Tokens', visible_for_annotators=True, type='integer', min=None, max=None), IntegerMetadataProperty(name='text2_n_sentences', title='Text2 N Sentences', visible_for_annotators=True, type='integer', min=None, max=None), FloatMetadataProperty(name='text2_perplexity', title='Text2 Perplexity', visible_for_annotators=True, type='float', min=None, max=None)]\n",
      "dtype float64\n",
      "[IntegerMetadataProperty(name='text3_n_tokens', title='Text3 N Tokens', visible_for_annotators=True, type='integer', min=None, max=None), IntegerMetadataProperty(name='text3_n_unique_tokens', title='Text3 N Unique Tokens', visible_for_annotators=True, type='integer', min=None, max=None), IntegerMetadataProperty(name='text3_n_sentences', title='Text3 N Sentences', visible_for_annotators=True, type='integer', min=None, max=None), FloatMetadataProperty(name='text3_perplexity', title='Text3 Perplexity', visible_for_annotators=True, type='float', min=None, max=None), FloatMetadataProperty(name='text3_entropy', title='Text3 Entropy', visible_for_annotators=True, type='float', min=None, max=None), FloatMetadataProperty(name='text3_flesch_reading_ease', title='Text3 Flesch Reading Ease', visible_for_annotators=True, type='float', min=None, max=None), IntegerMetadataProperty(name='text_n_tokens', title='Text N Tokens', visible_for_annotators=True, type='integer', min=None, max=None), IntegerMetadataProperty(name='text_n_unique_tokens', title='Text N Unique Tokens', visible_for_annotators=True, type='integer', min=None, max=None), IntegerMetadataProperty(name='text_n_sentences', title='Text N Sentences', visible_for_annotators=True, type='integer', min=None, max=None), FloatMetadataProperty(name='text_perplexity', title='Text Perplexity', visible_for_annotators=True, type='float', min=None, max=None), FloatMetadataProperty(name='text_entropy', title='Text Entropy', visible_for_annotators=True, type='float', min=None, max=None), FloatMetadataProperty(name='text_flesch_reading_ease', title='Text Flesch Reading Ease', visible_for_annotators=True, type='float', min=None, max=None), IntegerMetadataProperty(name='text2_n_tokens', title='Text2 N Tokens', visible_for_annotators=True, type='integer', min=None, max=None), IntegerMetadataProperty(name='text2_n_unique_tokens', title='Text2 N Unique Tokens', visible_for_annotators=True, type='integer', min=None, max=None), IntegerMetadataProperty(name='text2_n_sentences', title='Text2 N Sentences', visible_for_annotators=True, type='integer', min=None, max=None), FloatMetadataProperty(name='text2_perplexity', title='Text2 Perplexity', visible_for_annotators=True, type='float', min=None, max=None), FloatMetadataProperty(name='text2_entropy', title='Text2 Entropy', visible_for_annotators=True, type='float', min=None, max=None)]\n",
      "dtype float64\n",
      "[IntegerMetadataProperty(name='text3_n_tokens', title='Text3 N Tokens', visible_for_annotators=True, type='integer', min=None, max=None), IntegerMetadataProperty(name='text3_n_unique_tokens', title='Text3 N Unique Tokens', visible_for_annotators=True, type='integer', min=None, max=None), IntegerMetadataProperty(name='text3_n_sentences', title='Text3 N Sentences', visible_for_annotators=True, type='integer', min=None, max=None), FloatMetadataProperty(name='text3_perplexity', title='Text3 Perplexity', visible_for_annotators=True, type='float', min=None, max=None), FloatMetadataProperty(name='text3_entropy', title='Text3 Entropy', visible_for_annotators=True, type='float', min=None, max=None), FloatMetadataProperty(name='text3_flesch_reading_ease', title='Text3 Flesch Reading Ease', visible_for_annotators=True, type='float', min=None, max=None), IntegerMetadataProperty(name='text_n_tokens', title='Text N Tokens', visible_for_annotators=True, type='integer', min=None, max=None), IntegerMetadataProperty(name='text_n_unique_tokens', title='Text N Unique Tokens', visible_for_annotators=True, type='integer', min=None, max=None), IntegerMetadataProperty(name='text_n_sentences', title='Text N Sentences', visible_for_annotators=True, type='integer', min=None, max=None), FloatMetadataProperty(name='text_perplexity', title='Text Perplexity', visible_for_annotators=True, type='float', min=None, max=None), FloatMetadataProperty(name='text_entropy', title='Text Entropy', visible_for_annotators=True, type='float', min=None, max=None), FloatMetadataProperty(name='text_flesch_reading_ease', title='Text Flesch Reading Ease', visible_for_annotators=True, type='float', min=None, max=None), IntegerMetadataProperty(name='text2_n_tokens', title='Text2 N Tokens', visible_for_annotators=True, type='integer', min=None, max=None), IntegerMetadataProperty(name='text2_n_unique_tokens', title='Text2 N Unique Tokens', visible_for_annotators=True, type='integer', min=None, max=None), IntegerMetadataProperty(name='text2_n_sentences', title='Text2 N Sentences', visible_for_annotators=True, type='integer', min=None, max=None), FloatMetadataProperty(name='text2_perplexity', title='Text2 Perplexity', visible_for_annotators=True, type='float', min=None, max=None), FloatMetadataProperty(name='text2_entropy', title='Text2 Entropy', visible_for_annotators=True, type='float', min=None, max=None), FloatMetadataProperty(name='text2_flesch_reading_ease', title='Text2 Flesch Reading Ease', visible_for_annotators=True, type='float', min=None, max=None)]\n"
     ]
    },
    {
     "data": {
      "text/html": [
       "<pre style=\"white-space:pre;overflow-x:auto;line-height:normal;font-family:Menlo,'DejaVu Sans Mono',consolas,'Courier New',monospace\"></pre>\n"
      ],
      "text/plain": []
     },
     "metadata": {},
     "output_type": "display_data"
    },
    {
     "data": {
      "text/html": [
       "<pre style=\"white-space:pre;overflow-x:auto;line-height:normal;font-family:Menlo,'DejaVu Sans Mono',consolas,'Courier New',monospace\">\n",
       "</pre>\n"
      ],
      "text/plain": [
       "\n"
      ]
     },
     "metadata": {},
     "output_type": "display_data"
    },
    {
     "data": {
      "text/plain": [
       "FeedbackDataset(\n",
       "   fields=[TextField(name='text', title='Text', required=True, type='text', use_markdown=False), TextField(name='text2', title='Text2', required=True, type='text', use_markdown=False), TextField(name='text3', title='Text3', required=True, type='text', use_markdown=False)]\n",
       "   questions=[RatingQuestion(name='answer_quality', title='Answer_quality', description='How would you rate the quality of the answer?', required=True, type='rating', values=[1, 2, 3, 4, 5])]\n",
       "   guidelines=None)\n",
       "   metadata_properties=[IntegerMetadataProperty(name='text3_n_tokens', title='Text3 N Tokens', visible_for_annotators=True, type='integer', min=None, max=None), IntegerMetadataProperty(name='text3_n_unique_tokens', title='Text3 N Unique Tokens', visible_for_annotators=True, type='integer', min=None, max=None), IntegerMetadataProperty(name='text3_n_sentences', title='Text3 N Sentences', visible_for_annotators=True, type='integer', min=None, max=None), FloatMetadataProperty(name='text3_perplexity', title='Text3 Perplexity', visible_for_annotators=True, type='float', min=None, max=None), FloatMetadataProperty(name='text3_entropy', title='Text3 Entropy', visible_for_annotators=True, type='float', min=None, max=None), FloatMetadataProperty(name='text3_flesch_reading_ease', title='Text3 Flesch Reading Ease', visible_for_annotators=True, type='float', min=None, max=None), IntegerMetadataProperty(name='text_n_tokens', title='Text N Tokens', visible_for_annotators=True, type='integer', min=None, max=None), IntegerMetadataProperty(name='text_n_unique_tokens', title='Text N Unique Tokens', visible_for_annotators=True, type='integer', min=None, max=None), IntegerMetadataProperty(name='text_n_sentences', title='Text N Sentences', visible_for_annotators=True, type='integer', min=None, max=None), FloatMetadataProperty(name='text_perplexity', title='Text Perplexity', visible_for_annotators=True, type='float', min=None, max=None), FloatMetadataProperty(name='text_entropy', title='Text Entropy', visible_for_annotators=True, type='float', min=None, max=None), FloatMetadataProperty(name='text_flesch_reading_ease', title='Text Flesch Reading Ease', visible_for_annotators=True, type='float', min=None, max=None), IntegerMetadataProperty(name='text2_n_tokens', title='Text2 N Tokens', visible_for_annotators=True, type='integer', min=None, max=None), IntegerMetadataProperty(name='text2_n_unique_tokens', title='Text2 N Unique Tokens', visible_for_annotators=True, type='integer', min=None, max=None), IntegerMetadataProperty(name='text2_n_sentences', title='Text2 N Sentences', visible_for_annotators=True, type='integer', min=None, max=None), FloatMetadataProperty(name='text2_perplexity', title='Text2 Perplexity', visible_for_annotators=True, type='float', min=None, max=None), FloatMetadataProperty(name='text2_entropy', title='Text2 Entropy', visible_for_annotators=True, type='float', min=None, max=None), FloatMetadataProperty(name='text2_flesch_reading_ease', title='Text2 Flesch Reading Ease', visible_for_annotators=True, type='float', min=None, max=None)])\n",
       ")"
      ]
     },
     "execution_count": 109,
     "metadata": {},
     "output_type": "execute_result"
    }
   ],
   "source": [
    "tde = TextDescriptivesExtractor(model=\"es\")\n",
    "tde.update_dataset(ds)"
   ]
  },
  {
   "cell_type": "code",
   "execution_count": null,
   "metadata": {},
   "outputs": [],
   "source": []
  }
 ],
 "metadata": {
  "kernelspec": {
   "display_name": "argilla-markdown",
   "language": "python",
   "name": "python3"
  },
  "language_info": {
   "codemirror_mode": {
    "name": "ipython",
    "version": 3
   },
   "file_extension": ".py",
   "mimetype": "text/x-python",
   "name": "python",
   "nbconvert_exporter": "python",
   "pygments_lexer": "ipython3",
   "version": "3.9.18"
  }
 },
 "nbformat": 4,
 "nbformat_minor": 2
}
