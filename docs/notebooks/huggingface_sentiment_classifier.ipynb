{
 "cells": [
  {
   "cell_type": "code",
   "execution_count": null,
   "metadata": {},
   "outputs": [],
   "source": [
    "from datasets import load_dataset\n",
    "\n",
    "dataset = load_dataset(\"amazon_reviews_multi\", \"es\")"
   ]
  },
  {
   "cell_type": "code",
   "execution_count": null,
   "metadata": {},
   "outputs": [],
   "source": [
    "dataset[\"validation\"][0]"
   ]
  },
  {
   "cell_type": "markdown",
   "metadata": {},
   "source": [
    "# Client setup"
   ]
  },
  {
   "cell_type": "code",
   "execution_count": null,
   "metadata": {},
   "outputs": [],
   "source": [
    "import rubrix\n",
    "import os"
   ]
  },
  {
   "cell_type": "code",
   "execution_count": null,
   "metadata": {},
   "outputs": [],
   "source": [
    "rubrix.init(api_url=os.environ[\"RUBRIX_API_URL\"], api_key=os.environ[\"RUBRIX_API_KEY\"])"
   ]
  },
  {
   "cell_type": "markdown",
   "metadata": {},
   "source": [
    "# Store labeled dataset for initial exploration\n",
    "\n",
    "\n",
    "Here we will store the validation dataset with labels, inputs and associated metadata.\n"
   ]
  },
  {
   "cell_type": "code",
   "execution_count": null,
   "metadata": {},
   "outputs": [],
   "source": [
    "records = []\n",
    "\n",
    "for record in dataset['validation']:\n",
    "    records.append(\n",
    "        rubrix.TextClassificationRecord(\n",
    "            inputs={\n",
    "                \"review_body\": record[\"review_body\"], \n",
    "                \"review_title\": record[\"review_title\"]\n",
    "            },\n",
    "            annotation=record[\"stars\"],\n",
    "            annotation_agent=\"test\",\n",
    "            metadata={\n",
    "                \"product_category\": record[\"product_category\"],\n",
    "                \"reviewer_id\": record[\"reviewer_id\"]\n",
    "            },\n",
    "            id=record[\"product_id\"],\n",
    "        )\n",
    "    )"
   ]
  },
  {
   "cell_type": "code",
   "execution_count": null,
   "metadata": {},
   "outputs": [],
   "source": [
    "records[0:5]"
   ]
  },
  {
   "cell_type": "code",
   "execution_count": null,
   "metadata": {},
   "outputs": [],
   "source": [
    "rubrix.log(\n",
    "    name=\"amazon_sentiment_es_validation_ds_multifield\", \n",
    "    recTextClassificationRecordecords, \n",
    "    tags={ \n",
    "        \"type\":\"sentiment classifier\",\n",
    "        \"lang\": \"spanish\",\n",
    "        \"description\": \"Spanish sentiment classifier with `multifield inputs` (title and body)\"\n",
    "    }, \n",
    "    chunk_size=100\n",
    ")"
   ]
  },
  {
   "cell_type": "markdown",
   "metadata": {},
   "source": [
    "# Store predictions and labels with a pretrained model for error analysis\n",
    "\n",
    "Here we will use a pretrained transformer from huggingface Hub for analysing its quality with an unseen dataset"
   ]
  },
  {
   "cell_type": "code",
   "execution_count": null,
   "metadata": {},
   "outputs": [],
   "source": [
    "from transformers import AutoModelForSequenceClassification, AutoTokenizer\n",
    "\n",
    "CHKPT = 'mrm8488/electricidad-small-finetuned-muchocine'\n",
    "model = AutoModelForSequenceClassification.from_pretrained(CHKPT)\n",
    "tokenizer = AutoTokenizer.from_pretrained(CHKPT)\n",
    "\n",
    "from transformers import pipeline\n",
    "classifier = pipeline('sentiment-analysis', model=model, tokenizer=tokenizer, return_all_scores=True)"
   ]
  },
  {
   "cell_type": "code",
   "execution_count": null,
   "metadata": {},
   "outputs": [],
   "source": [
    "def get_stars(label):\n",
    "    return len([e for e in label if e != ' '])"
   ]
  },
  {
   "cell_type": "code",
   "execution_count": null,
   "metadata": {},
   "outputs": [],
   "source": [
    "[{\"class\":get_stars(e['label']), \"confidence\": e['score']} for e in classifier(\"Una buena película, sin más.\")[0]]"
   ]
  },
  {
   "cell_type": "code",
   "execution_count": null,
   "metadata": {},
   "outputs": [],
   "source": [
    "def create_record_with_preds(idx, inputs, label, metadata, prediction):\n",
    "    return TextClassificationRecord.from_dict({\n",
    "         \"idx\": idx,\n",
    "         \"inputs\": inputs,\n",
    "         \"annotation\": {\n",
    "             \"agent\": \"test\",\n",
    "             \"labels\": [{\"class\": label}]\n",
    "         },\n",
    "         \"prediction\": prediction,\n",
    "         \"metadata\": metadata\n",
    "    })"
   ]
  },
  {
   "cell_type": "code",
   "execution_count": null,
   "metadata": {},
   "outputs": [],
   "source": [
    "records = []\n",
    "\n",
    "for record in dataset['validation']:\n",
    "    records.append(\n",
    "        rubrix.TextClassificationRecord(\n",
    "            inputs={\n",
    "                \"review_body\": record['review_body'],\n",
    "                \"review_title\": record['review_title'],\n",
    "            },\n",
    "            prediction=[(get_stars(e['label']), e['score']) for e in classifier(record['review_body'])[0]],\n",
    "            prediction_agent=CHKPT,\n",
    "            annotation=record[\"stars\"],\n",
    "            annotation_agent=\"test\",\n",
    "            metadata={\n",
    "                \"product_category\": record[\"product_category\"],\n",
    "                \"reviewer_id\": record[\"reviewer_id\"]\n",
    "            },\n",
    "            id=record[\"product_id\"],\n",
    "        )\n",
    "    )"
   ]
  },
  {
   "cell_type": "code",
   "execution_count": null,
   "metadata": {},
   "outputs": [],
   "source": [
    "len(records)"
   ]
  },
  {
   "cell_type": "code",
   "execution_count": null,
   "metadata": {},
   "outputs": [],
   "source": [
    "rubrix.log(\n",
    "    name=\"amazon_sentiment_es_validation_ds_multifield\", \n",
    "    records=records, \n",
    "    tags={\n",
    "        \"env\": \"test\", \n",
    "        \"model\": CHKPT, \n",
    "        \"type\": \"evaluation dataset\"\n",
    "    }, \n",
    "    chunk_size=200\n",
    ")"
   ]
  },
  {
   "cell_type": "markdown",
   "metadata": {},
   "source": [
    "# Store only predictions for model monitoring\n",
    "\n",
    "Here we will use a pretrained transformer from huggingface Hub for monitoring the model predictions over time."
   ]
  },
  {
   "cell_type": "code",
   "execution_count": null,
   "metadata": {},
   "outputs": [],
   "source": [
    "def create_record_only_preds(idx, inputs, metadata, prediction):\n",
    "    return TextClassificationRecord.from_dict({\n",
    "         \"idx\": idx,\n",
    "         \"inputs\": inputs,\n",
    "\n",
    "         \"prediction\": prediction,\n",
    "         \"metadata\": metadata\n",
    "    })"
   ]
  },
  {
   "cell_type": "code",
   "execution_count": null,
   "metadata": {},
   "outputs": [],
   "source": [
    "records = []\n",
    "\n",
    "for record in dataset['validation']:\n",
    "    records.append(\n",
    "        rubrix.TextClassificationRecord(\n",
    "            inputs={\n",
    "                \"review_body\": record['review_body'],\n",
    "                \"review_title\": record['review_title']\n",
    "            },\n",
    "            prediction=[(get_stars(e['label']), e['score']) for e in classifier(record['review_body'])[0]],\n",
    "            prediction_agent=CHKPT,\n",
    "            metadata={\n",
    "                \"product_category\": record[\"product_category\"],\n",
    "                \"reviewer_id\": record[\"reviewer_id\"]\n",
    "            },\n",
    "            id=record[\"product_id\"],\n",
    "        )\n",
    "    )"
   ]
  },
  {
   "cell_type": "code",
   "execution_count": null,
   "metadata": {},
   "outputs": [],
   "source": [
    "rubrix.log(\n",
    "    name=\"amazon_sentiment_es_validation_ds_multifield\", \n",
    "    records=records, \n",
    "    tags={\n",
    "        \"env\": \"test\", \n",
    "        \"model\": CHKPT, \n",
    "        \"type\": \"evaluation dataset\"\n",
    "    }, \n",
    "    chunk_size=200\n",
    ")"
   ]
  },
  {
   "cell_type": "code",
   "execution_count": null,
   "metadata": {},
   "outputs": [],
   "source": []
  }
 ],
 "metadata": {
  "kernelspec": {
   "display_name": "Python 3",
   "language": "python",
   "name": "python3"
  },
  "language_info": {
   "codemirror_mode": {
    "name": "ipython",
    "version": 3
   },
   "file_extension": ".py",
   "mimetype": "text/x-python",
   "name": "python",
   "nbconvert_exporter": "python",
   "pygments_lexer": "ipython3",
   "version": "3.8.8"
  }
 },
 "nbformat": 4,
 "nbformat_minor": 4
}
