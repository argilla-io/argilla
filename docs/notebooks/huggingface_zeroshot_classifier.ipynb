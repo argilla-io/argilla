{
 "cells": [
  {
   "cell_type": "markdown",
   "id": "82701a75",
   "metadata": {},
   "source": [
    "# 1. Multilabel classifier"
   ]
  },
  {
   "cell_type": "markdown",
   "id": "a06e0c07",
   "metadata": {},
   "source": [
    "## Data and categories "
   ]
  },
  {
   "cell_type": "code",
   "execution_count": null,
   "id": "72bab3b6",
   "metadata": {},
   "outputs": [],
   "source": [
    "import pandas as pd"
   ]
  },
  {
   "cell_type": "code",
   "execution_count": null,
   "id": "ec214189",
   "metadata": {},
   "outputs": [],
   "source": [
    "df = pd.read_json('datasets/es_sum_mini.json', lines=True, orient='records') ; df.head()"
   ]
  },
  {
   "cell_type": "code",
   "execution_count": null,
   "id": "0bd9f447",
   "metadata": {},
   "outputs": [],
   "source": [
    "categories = ['positivo', 'negativo', 'economía', 'electricidad', 'telecomunicaciones', 'ecología', 'política', 'energía']"
   ]
  },
  {
   "cell_type": "markdown",
   "id": "91fa9911",
   "metadata": {},
   "source": [
    "## Pretrained zero-shot"
   ]
  },
  {
   "cell_type": "code",
   "execution_count": null,
   "id": "cac7fc3a",
   "metadata": {},
   "outputs": [],
   "source": [
    "from transformers import pipeline\n",
    "classifier = pipeline(\"zero-shot-classification\", model=\"typeform/squeezebert-mnli\") # too big: \"joeddav/xlm-roberta-large-xnli\")"
   ]
  },
  {
   "cell_type": "code",
   "execution_count": null,
   "id": "07775d68",
   "metadata": {},
   "outputs": [],
   "source": [
    "classifier(\"A ERC y Crida per Sabadell (CUP), que hasta ahora..\", candidate_labels=categories, multi_class=True)"
   ]
  },
  {
   "cell_type": "markdown",
   "id": "df0de064",
   "metadata": {},
   "source": [
    "## Log predictions in rubrix"
   ]
  },
  {
   "cell_type": "code",
   "execution_count": null,
   "id": "4df5a284",
   "metadata": {},
   "outputs": [],
   "source": [
    "import rubrix\n",
    "import os"
   ]
  },
  {
   "cell_type": "code",
   "execution_count": null,
   "id": "99eaf51f",
   "metadata": {},
   "outputs": [],
   "source": [
    "rubrix.init(api_url=os.environ[\"RUBRIX_API_URL\"], api_key=os.environ[\"RUBRIX_API_KEY\"])"
   ]
  },
  {
   "cell_type": "code",
   "execution_count": null,
   "id": "952959cf",
   "metadata": {},
   "outputs": [],
   "source": [
    "for i,r in df[0:100].iterrows():\n",
    "    # zero-shot prediction\n",
    "    preds = classifier(r.summary, candidate_labels=categories, multi_class=True)\n",
    "    item = rubrix.TextClassificationRecord(\n",
    "        inputs={\"text\": r.summary},\n",
    "        prediction=[tuple(zip(preds['labels'],preds['scores']))],\n",
    "        prediction_agent=\"dvilasuero\",\n",
    "        multi_label=True,\n",
    "        metadata={'model': 'typeform/squeezebert-mnli'},\n",
    "        event_timestamp=r['date'],\n",
    "    )\n",
    "    # log one record each time\n",
    "    rubrix.log(records=item, dataset=\"red_electrica_multilabel\")"
   ]
  },
  {
   "cell_type": "markdown",
   "id": "4ac49b5e",
   "metadata": {},
   "source": [
    "# 2. Entity classifier"
   ]
  },
  {
   "cell_type": "markdown",
   "id": "6c81885b",
   "metadata": {},
   "source": [
    "## spaCy pretrained model\n",
    "\n",
    "Not the best in town"
   ]
  },
  {
   "cell_type": "code",
   "execution_count": null,
   "id": "4b43e92d",
   "metadata": {},
   "outputs": [],
   "source": [
    "import spacy\n",
    "nlp = spacy.load('es')"
   ]
  },
  {
   "cell_type": "code",
   "execution_count": null,
   "id": "ab1d821c",
   "metadata": {},
   "outputs": [],
   "source": [
    "doc = nlp('Esto es una prueba sobre Mariano Rajoy, ex-presidente del PP, la loca de Pontevedra')\n",
    "for e in doc.ents:\n",
    "    print(e.start_char, e.end_char, e.label_)"
   ]
  },
  {
   "cell_type": "markdown",
   "id": "e0b329b3",
   "metadata": {},
   "source": [
    "## Log predictions in rubrix"
   ]
  },
  {
   "cell_type": "code",
   "execution_count": null,
   "id": "05480a16",
   "metadata": {},
   "outputs": [],
   "source": [
    "for i,r in df[0:100].iterrows():\n",
    "    doc = nlp(r['summary'])\n",
    "    record = rubrix.TokenClassificationRecord(\n",
    "        text=r['summary'],\n",
    "        tokens=[t.text for t in doc],\n",
    "        prediction=[(e.label_, e.start_char, e.end_char) for e in docs.ents],\n",
    "        prediction_agent=\"spacy_v2\",\n",
    "        metadata={'model': 'spacy_es_core_news_sm'},\n",
    "        event_timestamp=r['date'],\n",
    "    )\n",
    "    rubrix.log(record, dataset=\"red_electrica_entities\", tags={\"task\":\"ner\"})    "
   ]
  }
 ],
 "metadata": {
  "kernelspec": {
   "display_name": "Python 3",
   "language": "python",
   "name": "python3"
  },
  "language_info": {
   "codemirror_mode": {
    "name": "ipython",
    "version": 3
   },
   "file_extension": ".py",
   "mimetype": "text/x-python",
   "name": "python",
   "nbconvert_exporter": "python",
   "pygments_lexer": "ipython3",
   "version": "3.8.8"
  }
 },
 "nbformat": 4,
 "nbformat_minor": 5
}
